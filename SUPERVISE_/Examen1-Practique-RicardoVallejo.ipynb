{
 "cells": [
  {
   "cell_type": "markdown",
   "metadata": {},
   "source": [
    "# Examen Practique \n",
    "Author: Ricardo Vallejo"
   ]
  },
  {
   "cell_type": "markdown",
   "metadata": {},
   "source": [
    "# Exercice 3 :  Classification arbre de décision [30 pts]"
   ]
  },
  {
   "cell_type": "code",
   "execution_count": 6,
   "metadata": {},
   "outputs": [
    {
     "data": {
      "text/html": [
       "<div>\n",
       "<style scoped>\n",
       "    .dataframe tbody tr th:only-of-type {\n",
       "        vertical-align: middle;\n",
       "    }\n",
       "\n",
       "    .dataframe tbody tr th {\n",
       "        vertical-align: top;\n",
       "    }\n",
       "\n",
       "    .dataframe thead th {\n",
       "        text-align: right;\n",
       "    }\n",
       "</style>\n",
       "<table border=\"1\" class=\"dataframe\">\n",
       "  <thead>\n",
       "    <tr style=\"text-align: right;\">\n",
       "      <th></th>\n",
       "      <th>ID</th>\n",
       "      <th>AgeRange</th>\n",
       "      <th>Occupation</th>\n",
       "      <th>Gender</th>\n",
       "      <th>Happy</th>\n",
       "    </tr>\n",
       "  </thead>\n",
       "  <tbody>\n",
       "    <tr>\n",
       "      <th>0</th>\n",
       "      <td>1</td>\n",
       "      <td>Young</td>\n",
       "      <td>Tutor</td>\n",
       "      <td>F</td>\n",
       "      <td>Yes</td>\n",
       "    </tr>\n",
       "    <tr>\n",
       "      <th>1</th>\n",
       "      <td>2</td>\n",
       "      <td>Middle-aged</td>\n",
       "      <td>Professor</td>\n",
       "      <td>F</td>\n",
       "      <td>No</td>\n",
       "    </tr>\n",
       "    <tr>\n",
       "      <th>2</th>\n",
       "      <td>3</td>\n",
       "      <td>Old</td>\n",
       "      <td>Tutor</td>\n",
       "      <td>M</td>\n",
       "      <td>Yes</td>\n",
       "    </tr>\n",
       "    <tr>\n",
       "      <th>3</th>\n",
       "      <td>4</td>\n",
       "      <td>Middle-aged</td>\n",
       "      <td>Professor</td>\n",
       "      <td>M</td>\n",
       "      <td>Yes</td>\n",
       "    </tr>\n",
       "    <tr>\n",
       "      <th>4</th>\n",
       "      <td>5</td>\n",
       "      <td>Old</td>\n",
       "      <td>Tutor</td>\n",
       "      <td>F</td>\n",
       "      <td>Yes</td>\n",
       "    </tr>\n",
       "    <tr>\n",
       "      <th>5</th>\n",
       "      <td>6</td>\n",
       "      <td>Young</td>\n",
       "      <td>Lecturer</td>\n",
       "      <td>M</td>\n",
       "      <td>No</td>\n",
       "    </tr>\n",
       "    <tr>\n",
       "      <th>6</th>\n",
       "      <td>7</td>\n",
       "      <td>Middle-aged</td>\n",
       "      <td>Lecturer</td>\n",
       "      <td>F</td>\n",
       "      <td>No</td>\n",
       "    </tr>\n",
       "    <tr>\n",
       "      <th>7</th>\n",
       "      <td>8</td>\n",
       "      <td>Old</td>\n",
       "      <td>Tutor</td>\n",
       "      <td>F</td>\n",
       "      <td>No</td>\n",
       "    </tr>\n",
       "  </tbody>\n",
       "</table>\n",
       "</div>"
      ],
      "text/plain": [
       "   ID     AgeRange Occupation Gender Happy\n",
       "0   1        Young      Tutor      F   Yes\n",
       "1   2  Middle-aged  Professor      F    No\n",
       "2   3          Old      Tutor      M   Yes\n",
       "3   4  Middle-aged  Professor      M   Yes\n",
       "4   5          Old      Tutor      F   Yes\n",
       "5   6        Young   Lecturer      M    No\n",
       "6   7  Middle-aged   Lecturer      F    No\n",
       "7   8          Old      Tutor      F    No"
      ]
     },
     "metadata": {},
     "output_type": "display_data"
    }
   ],
   "source": [
    "import pandas as pd\n",
    "import matplotlib.pyplot as plt\n",
    "import statistics\n",
    "import numpy as np\n",
    "import scipy.stats\n",
    "import seaborn as sns\n",
    "\n",
    "data = pd.read_excel(\"ExamenDATA.xlsx\")\n",
    "pd.set_option('display.max_rows', None)\n",
    "display(data)"
   ]
  },
  {
   "cell_type": "markdown",
   "metadata": {},
   "source": [
    "# 1. Development de model"
   ]
  },
  {
   "cell_type": "code",
   "execution_count": 15,
   "metadata": {},
   "outputs": [
    {
     "data": {
      "text/html": [
       "<div>\n",
       "<style scoped>\n",
       "    .dataframe tbody tr th:only-of-type {\n",
       "        vertical-align: middle;\n",
       "    }\n",
       "\n",
       "    .dataframe tbody tr th {\n",
       "        vertical-align: top;\n",
       "    }\n",
       "\n",
       "    .dataframe thead th {\n",
       "        text-align: right;\n",
       "    }\n",
       "</style>\n",
       "<table border=\"1\" class=\"dataframe\">\n",
       "  <thead>\n",
       "    <tr style=\"text-align: right;\">\n",
       "      <th></th>\n",
       "      <th>ID</th>\n",
       "      <th>AgeRange</th>\n",
       "      <th>Occupation</th>\n",
       "      <th>Gender</th>\n",
       "      <th>Happy</th>\n",
       "      <th>AgeRangeNumber</th>\n",
       "      <th>OccupationNumber</th>\n",
       "      <th>GenderNumber</th>\n",
       "      <th>HappyNumber</th>\n",
       "    </tr>\n",
       "  </thead>\n",
       "  <tbody>\n",
       "    <tr>\n",
       "      <th>0</th>\n",
       "      <td>1</td>\n",
       "      <td>Young</td>\n",
       "      <td>Tutor</td>\n",
       "      <td>F</td>\n",
       "      <td>Yes</td>\n",
       "      <td>1.0</td>\n",
       "      <td>1.0</td>\n",
       "      <td>1.0</td>\n",
       "      <td>1.0</td>\n",
       "    </tr>\n",
       "    <tr>\n",
       "      <th>1</th>\n",
       "      <td>2</td>\n",
       "      <td>Middle-aged</td>\n",
       "      <td>Professor</td>\n",
       "      <td>F</td>\n",
       "      <td>No</td>\n",
       "      <td>2.0</td>\n",
       "      <td>2.0</td>\n",
       "      <td>1.0</td>\n",
       "      <td>0.0</td>\n",
       "    </tr>\n",
       "    <tr>\n",
       "      <th>2</th>\n",
       "      <td>3</td>\n",
       "      <td>Old</td>\n",
       "      <td>Tutor</td>\n",
       "      <td>M</td>\n",
       "      <td>Yes</td>\n",
       "      <td>3.0</td>\n",
       "      <td>1.0</td>\n",
       "      <td>0.0</td>\n",
       "      <td>1.0</td>\n",
       "    </tr>\n",
       "    <tr>\n",
       "      <th>3</th>\n",
       "      <td>4</td>\n",
       "      <td>Middle-aged</td>\n",
       "      <td>Professor</td>\n",
       "      <td>M</td>\n",
       "      <td>Yes</td>\n",
       "      <td>2.0</td>\n",
       "      <td>2.0</td>\n",
       "      <td>0.0</td>\n",
       "      <td>1.0</td>\n",
       "    </tr>\n",
       "    <tr>\n",
       "      <th>4</th>\n",
       "      <td>5</td>\n",
       "      <td>Old</td>\n",
       "      <td>Tutor</td>\n",
       "      <td>F</td>\n",
       "      <td>Yes</td>\n",
       "      <td>3.0</td>\n",
       "      <td>1.0</td>\n",
       "      <td>1.0</td>\n",
       "      <td>1.0</td>\n",
       "    </tr>\n",
       "  </tbody>\n",
       "</table>\n",
       "</div>"
      ],
      "text/plain": [
       "   ID     AgeRange Occupation Gender Happy  AgeRangeNumber  OccupationNumber  \\\n",
       "0   1        Young      Tutor      F   Yes             1.0               1.0   \n",
       "1   2  Middle-aged  Professor      F    No             2.0               2.0   \n",
       "2   3          Old      Tutor      M   Yes             3.0               1.0   \n",
       "3   4  Middle-aged  Professor      M   Yes             2.0               2.0   \n",
       "4   5          Old      Tutor      F   Yes             3.0               1.0   \n",
       "\n",
       "   GenderNumber  HappyNumber  \n",
       "0           1.0          1.0  \n",
       "1           1.0          0.0  \n",
       "2           0.0          1.0  \n",
       "3           0.0          1.0  \n",
       "4           1.0          1.0  "
      ]
     },
     "execution_count": 15,
     "metadata": {},
     "output_type": "execute_result"
    }
   ],
   "source": [
    "data.loc[data['AgeRange'] == 'Young', 'AgeRangeNumber'] = 1\n",
    "data.loc[data['AgeRange'] == 'Middle-aged', 'AgeRangeNumber'] = 2\n",
    "data.loc[data['AgeRange'] == 'Old', 'AgeRangeNumber'] = 3\n",
    "\n",
    "\n",
    "data.loc[data['Occupation'] == 'Tutor', 'OccupationNumber'] = 1\n",
    "data.loc[data['Occupation'] == 'Professor', 'OccupationNumber'] = 2\n",
    "data.loc[data['Occupation'] == 'Lecturer', 'OccupationNumber'] = 3\n",
    "\n",
    "\n",
    "data.loc[data['Gender'] == 'M', 'GenderNumber'] = 0\n",
    "data.loc[data['Gender'] == 'F', 'GenderNumber'] = 1\n",
    "\n",
    "\n",
    "data.loc[data['Happy'] == 'Yes', 'HappyNumber'] = 1\n",
    "data.loc[data['Happy'] == 'No', 'HappyNumber'] = 0\n",
    "\n",
    "\n",
    "data.head(5)"
   ]
  },
  {
   "cell_type": "code",
   "execution_count": 16,
   "metadata": {},
   "outputs": [],
   "source": [
    "from sklearn.model_selection import train_test_split \n",
    "X_train, X_test, y_train, y_test = train_test_split(data[['AgeRangeNumber', 'OccupationNumber', 'GenderNumber']], data['HappyNumber'], test_size=0.20, random_state=4) "
   ]
  },
  {
   "cell_type": "code",
   "execution_count": 17,
   "metadata": {},
   "outputs": [
    {
     "data": {
      "text/plain": [
       "[Text(223.2, 362.4, 'OccupationNumber <= 1.5\\ngini = 0.5\\nsamples = 6\\nvalue = [3, 3]\\nclass = Happy'),\n",
       " Text(111.6, 217.44, 'gini = 0.0\\nsamples = 2\\nvalue = [0, 2]\\nclass = UnHappy'),\n",
       " Text(334.79999999999995, 217.44, 'GenderNumber <= 0.5\\ngini = 0.375\\nsamples = 4\\nvalue = [3, 1]\\nclass = Happy'),\n",
       " Text(223.2, 72.47999999999996, 'gini = 0.5\\nsamples = 2\\nvalue = [1, 1]\\nclass = Happy'),\n",
       " Text(446.4, 72.47999999999996, 'gini = 0.0\\nsamples = 2\\nvalue = [2, 0]\\nclass = Happy')]"
      ]
     },
     "execution_count": 17,
     "metadata": {},
     "output_type": "execute_result"
    },
    {
     "data": {
      "image/png": "[encoded data removed]",
      "text/plain": [
       "<Figure size 720x576 with 1 Axes>"
      ]
     },
     "metadata": {
      "needs_background": "light"
     },
     "output_type": "display_data"
    }
   ],
   "source": [
    "from sklearn import tree\n",
    "from sklearn.tree import DecisionTreeClassifier, plot_tree\n",
    "\n",
    "desicionTree = tree.DecisionTreeClassifier(max_depth =3, criterion='gini', random_state=44, min_samples_leaf=2)\n",
    "desicionTree.fit(X_train, y_train)\n",
    "plt.figure(figsize = (10,8))\n",
    "plot_tree(desicionTree, feature_names = ['AgeRangeNumber', 'OccupationNumber', 'GenderNumber'], class_names = ['Happy', 'UnHappy'], filled = True)\n",
    "\n",
    "\n",
    "\n"
   ]
  },
  {
   "cell_type": "code",
   "execution_count": 22,
   "metadata": {},
   "outputs": [
    {
     "name": "stdout",
     "output_type": "stream",
     "text": [
      "Accuracy: 0.5\n"
     ]
    }
   ],
   "source": [
    "print(\"Accuracy:\", metrics.accuracy_score(y_test, y_pred))"
   ]
  },
  {
   "cell_type": "markdown",
   "metadata": {},
   "source": [
    "# 2.  Prediction"
   ]
  },
  {
   "cell_type": "code",
   "execution_count": 18,
   "metadata": {},
   "outputs": [
    {
     "name": "stdout",
     "output_type": "stream",
     "text": [
      "[0.]\n"
     ]
    }
   ],
   "source": [
    "#AgeRangeNumber = young = 1  \n",
    "#OccupationNumber = profeseur = 2\n",
    "#GenderNumber = F = 1\n",
    "X_prediction = [[1, 2, 1]]\n",
    "Y_prediction = desicionTree.predict(X_prediction)\n",
    "print(Y_prediction)"
   ]
  },
  {
   "cell_type": "markdown",
   "metadata": {},
   "source": [
    "Prediction = 0 = UNHAPPY"
   ]
  },
  {
   "cell_type": "code",
   "execution_count": 19,
   "metadata": {},
   "outputs": [
    {
     "name": "stdout",
     "output_type": "stream",
     "text": [
      "[[0 1]\n",
      " [0 1]]\n"
     ]
    }
   ],
   "source": [
    "#classes prédites, utilisation de echantillon test\n",
    "y_pred = desicionTree.predict(X_test) \n",
    "\n",
    "#Obtention de la matrice de confusion\n",
    "from sklearn import metrics \n",
    "from sklearn.metrics import confusion_matrix \n",
    "cm = confusion_matrix(y_test, y_pred) \n",
    "print (cm) \n"
   ]
  },
  {
   "cell_type": "markdown",
   "metadata": {},
   "source": [
    "From 2 donnes de test, une a ete bien predite et pas l'autre.\n",
    "\n",
    "On a besoin de plus de donnes pour evaluer mieux le model."
   ]
  },
  {
   "cell_type": "markdown",
   "metadata": {},
   "source": [
    "# Excercise 2:  Naive Bayes\n",
    "\n",
    "Il est repondu aussi sur papier.  See doc word ci-joint"
   ]
  },
  {
   "cell_type": "raw",
   "metadata": {},
   "source": [
    "On est utilise les conversions suivants pour le transformation a numerique de donnes categoriques.\n",
    "\n",
    "TEMP 0-10  1\n",
    "     10-20 2\n",
    "     20-30 3\n",
    "     30-40 4\n",
    "     40-50 5\n",
    "        \n",
    "COMPLEXITE:\n",
    "    Simple: 0\n",
    "    Moyenne: 1\n",
    "    Eleve: 2\n",
    "\n",
    "QUALITE RESPONSE:\n",
    "    Bonne: 0\n",
    "    Moyenne: 1\n",
    "    Excellent: 2\n",
    "        "
   ]
  },
  {
   "cell_type": "code",
   "execution_count": 27,
   "metadata": {},
   "outputs": [
    {
     "data": {
      "text/html": [
       "<div>\n",
       "<style scoped>\n",
       "    .dataframe tbody tr th:only-of-type {\n",
       "        vertical-align: middle;\n",
       "    }\n",
       "\n",
       "    .dataframe tbody tr th {\n",
       "        vertical-align: top;\n",
       "    }\n",
       "\n",
       "    .dataframe thead th {\n",
       "        text-align: right;\n",
       "    }\n",
       "</style>\n",
       "<table border=\"1\" class=\"dataframe\">\n",
       "  <thead>\n",
       "    <tr style=\"text-align: right;\">\n",
       "      <th></th>\n",
       "      <th>Temps de réflexion(min)</th>\n",
       "      <th>Complexité de la question</th>\n",
       "      <th>Qualité de la réponse</th>\n",
       "      <th>TN</th>\n",
       "      <th>CN</th>\n",
       "      <th>QN</th>\n",
       "    </tr>\n",
       "  </thead>\n",
       "  <tbody>\n",
       "    <tr>\n",
       "      <th>0</th>\n",
       "      <td>10</td>\n",
       "      <td>simple</td>\n",
       "      <td>Excellente</td>\n",
       "      <td>1</td>\n",
       "      <td>0</td>\n",
       "      <td>2</td>\n",
       "    </tr>\n",
       "    <tr>\n",
       "      <th>1</th>\n",
       "      <td>10</td>\n",
       "      <td>élevé</td>\n",
       "      <td>Moyenne</td>\n",
       "      <td>1</td>\n",
       "      <td>2</td>\n",
       "      <td>1</td>\n",
       "    </tr>\n",
       "    <tr>\n",
       "      <th>2</th>\n",
       "      <td>20</td>\n",
       "      <td>moyenne</td>\n",
       "      <td>Bonne</td>\n",
       "      <td>2</td>\n",
       "      <td>1</td>\n",
       "      <td>0</td>\n",
       "    </tr>\n",
       "    <tr>\n",
       "      <th>3</th>\n",
       "      <td>30</td>\n",
       "      <td>simple</td>\n",
       "      <td>Bonne</td>\n",
       "      <td>3</td>\n",
       "      <td>0</td>\n",
       "      <td>0</td>\n",
       "    </tr>\n",
       "    <tr>\n",
       "      <th>4</th>\n",
       "      <td>40</td>\n",
       "      <td>moyenne</td>\n",
       "      <td>Excellente</td>\n",
       "      <td>4</td>\n",
       "      <td>1</td>\n",
       "      <td>3</td>\n",
       "    </tr>\n",
       "    <tr>\n",
       "      <th>5</th>\n",
       "      <td>40</td>\n",
       "      <td>moyenne</td>\n",
       "      <td>Bonne</td>\n",
       "      <td>4</td>\n",
       "      <td>1</td>\n",
       "      <td>0</td>\n",
       "    </tr>\n",
       "    <tr>\n",
       "      <th>6</th>\n",
       "      <td>50</td>\n",
       "      <td>élevé</td>\n",
       "      <td>Bonne</td>\n",
       "      <td>5</td>\n",
       "      <td>2</td>\n",
       "      <td>0</td>\n",
       "    </tr>\n",
       "  </tbody>\n",
       "</table>\n",
       "</div>"
      ],
      "text/plain": [
       "   Temps de réflexion(min) Complexité de la question Qualité de la réponse  \\\n",
       "0                       10                    simple            Excellente   \n",
       "1                       10                     élevé               Moyenne   \n",
       "2                       20                   moyenne                 Bonne   \n",
       "3                       30                    simple                 Bonne   \n",
       "4                       40                   moyenne            Excellente   \n",
       "5                       40                   moyenne                 Bonne   \n",
       "6                       50                     élevé                 Bonne   \n",
       "\n",
       "   TN  CN  QN  \n",
       "0   1   0   2  \n",
       "1   1   2   1  \n",
       "2   2   1   0  \n",
       "3   3   0   0  \n",
       "4   4   1   3  \n",
       "5   4   1   0  \n",
       "6   5   2   0  "
      ]
     },
     "metadata": {},
     "output_type": "display_data"
    }
   ],
   "source": [
    "data2 = pd.read_excel(\"ExamenDATA2.xlsx\")\n",
    "pd.set_option('display.max_rows', None)\n",
    "display(data2)"
   ]
  },
  {
   "cell_type": "code",
   "execution_count": 33,
   "metadata": {},
   "outputs": [],
   "source": [
    "features = ['TN', 'CN']\n",
    "target = ['QN']\n",
    "X=data2[features]\n",
    "y=data2[target]"
   ]
  },
  {
   "cell_type": "code",
   "execution_count": 34,
   "metadata": {},
   "outputs": [
    {
     "name": "stderr",
     "output_type": "stream",
     "text": [
      "C:\\Users\\valm044\\Anaconda3\\lib\\site-packages\\sklearn\\naive_bayes.py:206: DataConversionWarning: A column-vector y was passed when a 1d array was expected. Please change the shape of y to (n_samples, ), for example using ravel().\n",
      "  y = column_or_1d(y, warn=True)\n"
     ]
    },
    {
     "data": {
      "text/plain": [
       "GaussianNB(priors=None, var_smoothing=1e-09)"
      ]
     },
     "execution_count": 34,
     "metadata": {},
     "output_type": "execute_result"
    }
   ],
   "source": [
    "#Import Gaussian Naive Bayes model\n",
    "from sklearn.naive_bayes import GaussianNB\n",
    "\n",
    "#Create a Gaussian Classifier\n",
    "gnb = GaussianNB()\n",
    "\n",
    "#Train the model using the training sets\n",
    "gnb.fit(X, y)"
   ]
  },
  {
   "cell_type": "code",
   "execution_count": 37,
   "metadata": {},
   "outputs": [
    {
     "name": "stdout",
     "output_type": "stream",
     "text": [
      "[0]\n"
     ]
    }
   ],
   "source": [
    "# Prediction:\n",
    "\n",
    "# temps de réflexion de 20 min   et une complexité = élevé\n",
    "\n",
    "Xpred = [[2, 2]]\n",
    "ypredicted = gnb.predict(Xpred)\n",
    "print(ypredicted)\n",
    "\n"
   ]
  },
  {
   "cell_type": "raw",
   "metadata": {},
   "source": [
    "# La prediction est qualite de response bonne = 0"
   ]
  },
  {
   "cell_type": "code",
   "execution_count": null,
   "metadata": {},
   "outputs": [],
   "source": []
  }
 ],
 "metadata": {
  "kernelspec": {
   "display_name": "Python 3",
   "language": "python",
   "name": "python3"
  },
  "language_info": {
   "codemirror_mode": {
    "name": "ipython",
    "version": 3
   },
   "file_extension": ".py",
   "mimetype": "text/x-python",
   "name": "python",
   "nbconvert_exporter": "python",
   "pygments_lexer": "ipython3",
   "version": "3.7.6"
  }
 },
 "nbformat": 4,
 "nbformat_minor": 4
}
