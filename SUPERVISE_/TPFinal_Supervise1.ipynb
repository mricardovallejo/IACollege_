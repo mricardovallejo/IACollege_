{
 "cells": [
  {
   "cell_type": "markdown",
   "metadata": {},
   "source": [
    "# <font color=green>TP FINAL - ALGORITHMES D'APPRENTISSAGE SUPERVISÉ</font>\n",
    "\n",
    "- Ricardo Vallejo\n",
    "- Yulia Kalugina"
   ]
  },
  {
   "cell_type": "markdown",
   "metadata": {},
   "source": [
    "#  <font color=blue>1.  LOAD DATA</font>"
   ]
  },
  {
   "cell_type": "code",
   "execution_count": 1,
   "metadata": {},
   "outputs": [
    {
     "data": {
      "text/html": [
       "<div>\n",
       "<style scoped>\n",
       "    .dataframe tbody tr th:only-of-type {\n",
       "        vertical-align: middle;\n",
       "    }\n",
       "\n",
       "    .dataframe tbody tr th {\n",
       "        vertical-align: top;\n",
       "    }\n",
       "\n",
       "    .dataframe thead th {\n",
       "        text-align: right;\n",
       "    }\n",
       "</style>\n",
       "<table border=\"1\" class=\"dataframe\">\n",
       "  <thead>\n",
       "    <tr style=\"text-align: right;\">\n",
       "      <th></th>\n",
       "      <th>id</th>\n",
       "      <th>sex</th>\n",
       "      <th>patient_type</th>\n",
       "      <th>entry_date</th>\n",
       "      <th>date_symptoms</th>\n",
       "      <th>date_died</th>\n",
       "      <th>intubed</th>\n",
       "      <th>pneumonia</th>\n",
       "      <th>age</th>\n",
       "      <th>pregnancy</th>\n",
       "      <th>...</th>\n",
       "      <th>inmsupr</th>\n",
       "      <th>hypertension</th>\n",
       "      <th>other_disease</th>\n",
       "      <th>cardiovascular</th>\n",
       "      <th>obesity</th>\n",
       "      <th>renal_chronic</th>\n",
       "      <th>tobacco</th>\n",
       "      <th>contact_other_covid</th>\n",
       "      <th>covid_res</th>\n",
       "      <th>icu</th>\n",
       "    </tr>\n",
       "  </thead>\n",
       "  <tbody>\n",
       "    <tr>\n",
       "      <th>0</th>\n",
       "      <td>16169f</td>\n",
       "      <td>2</td>\n",
       "      <td>1</td>\n",
       "      <td>04-05-2020</td>\n",
       "      <td>02-05-2020</td>\n",
       "      <td>9999-99-99</td>\n",
       "      <td>97</td>\n",
       "      <td>2</td>\n",
       "      <td>27</td>\n",
       "      <td>97</td>\n",
       "      <td>...</td>\n",
       "      <td>2</td>\n",
       "      <td>2</td>\n",
       "      <td>2</td>\n",
       "      <td>2</td>\n",
       "      <td>2</td>\n",
       "      <td>2</td>\n",
       "      <td>2</td>\n",
       "      <td>2</td>\n",
       "      <td>1</td>\n",
       "      <td>97</td>\n",
       "    </tr>\n",
       "    <tr>\n",
       "      <th>1</th>\n",
       "      <td>1009bf</td>\n",
       "      <td>2</td>\n",
       "      <td>1</td>\n",
       "      <td>19-03-2020</td>\n",
       "      <td>17-03-2020</td>\n",
       "      <td>9999-99-99</td>\n",
       "      <td>97</td>\n",
       "      <td>2</td>\n",
       "      <td>24</td>\n",
       "      <td>97</td>\n",
       "      <td>...</td>\n",
       "      <td>2</td>\n",
       "      <td>2</td>\n",
       "      <td>2</td>\n",
       "      <td>2</td>\n",
       "      <td>2</td>\n",
       "      <td>2</td>\n",
       "      <td>2</td>\n",
       "      <td>99</td>\n",
       "      <td>1</td>\n",
       "      <td>97</td>\n",
       "    </tr>\n",
       "    <tr>\n",
       "      <th>2</th>\n",
       "      <td>167386</td>\n",
       "      <td>1</td>\n",
       "      <td>2</td>\n",
       "      <td>06-04-2020</td>\n",
       "      <td>01-04-2020</td>\n",
       "      <td>9999-99-99</td>\n",
       "      <td>2</td>\n",
       "      <td>2</td>\n",
       "      <td>54</td>\n",
       "      <td>2</td>\n",
       "      <td>...</td>\n",
       "      <td>2</td>\n",
       "      <td>2</td>\n",
       "      <td>2</td>\n",
       "      <td>2</td>\n",
       "      <td>1</td>\n",
       "      <td>2</td>\n",
       "      <td>2</td>\n",
       "      <td>99</td>\n",
       "      <td>1</td>\n",
       "      <td>2</td>\n",
       "    </tr>\n",
       "    <tr>\n",
       "      <th>3</th>\n",
       "      <td>0b5948</td>\n",
       "      <td>2</td>\n",
       "      <td>2</td>\n",
       "      <td>17-04-2020</td>\n",
       "      <td>10-04-2020</td>\n",
       "      <td>9999-99-99</td>\n",
       "      <td>2</td>\n",
       "      <td>1</td>\n",
       "      <td>30</td>\n",
       "      <td>97</td>\n",
       "      <td>...</td>\n",
       "      <td>2</td>\n",
       "      <td>2</td>\n",
       "      <td>2</td>\n",
       "      <td>2</td>\n",
       "      <td>2</td>\n",
       "      <td>2</td>\n",
       "      <td>2</td>\n",
       "      <td>99</td>\n",
       "      <td>1</td>\n",
       "      <td>2</td>\n",
       "    </tr>\n",
       "    <tr>\n",
       "      <th>4</th>\n",
       "      <td>0d01b5</td>\n",
       "      <td>1</td>\n",
       "      <td>2</td>\n",
       "      <td>13-04-2020</td>\n",
       "      <td>13-04-2020</td>\n",
       "      <td>22-04-2020</td>\n",
       "      <td>2</td>\n",
       "      <td>2</td>\n",
       "      <td>60</td>\n",
       "      <td>2</td>\n",
       "      <td>...</td>\n",
       "      <td>2</td>\n",
       "      <td>1</td>\n",
       "      <td>2</td>\n",
       "      <td>1</td>\n",
       "      <td>2</td>\n",
       "      <td>2</td>\n",
       "      <td>2</td>\n",
       "      <td>99</td>\n",
       "      <td>1</td>\n",
       "      <td>2</td>\n",
       "    </tr>\n",
       "  </tbody>\n",
       "</table>\n",
       "<p>5 rows × 23 columns</p>\n",
       "</div>"
      ],
      "text/plain": [
       "       id  sex  patient_type  entry_date date_symptoms   date_died  intubed  \\\n",
       "0  16169f    2             1  04-05-2020    02-05-2020  9999-99-99       97   \n",
       "1  1009bf    2             1  19-03-2020    17-03-2020  9999-99-99       97   \n",
       "2  167386    1             2  06-04-2020    01-04-2020  9999-99-99        2   \n",
       "3  0b5948    2             2  17-04-2020    10-04-2020  9999-99-99        2   \n",
       "4  0d01b5    1             2  13-04-2020    13-04-2020  22-04-2020        2   \n",
       "\n",
       "   pneumonia  age  pregnancy  ...  inmsupr  hypertension  other_disease  \\\n",
       "0          2   27         97  ...        2             2              2   \n",
       "1          2   24         97  ...        2             2              2   \n",
       "2          2   54          2  ...        2             2              2   \n",
       "3          1   30         97  ...        2             2              2   \n",
       "4          2   60          2  ...        2             1              2   \n",
       "\n",
       "   cardiovascular  obesity  renal_chronic  tobacco  contact_other_covid  \\\n",
       "0               2        2              2        2                    2   \n",
       "1               2        2              2        2                   99   \n",
       "2               2        1              2        2                   99   \n",
       "3               2        2              2        2                   99   \n",
       "4               1        2              2        2                   99   \n",
       "\n",
       "   covid_res  icu  \n",
       "0          1   97  \n",
       "1          1   97  \n",
       "2          1    2  \n",
       "3          1    2  \n",
       "4          1    2  \n",
       "\n",
       "[5 rows x 23 columns]"
      ]
     },
     "execution_count": 1,
     "metadata": {},
     "output_type": "execute_result"
    }
   ],
   "source": [
    "import pandas as pd\n",
    "import matplotlib.pyplot as plt\n",
    "import statistics\n",
    "import numpy as np\n",
    "import scipy.stats\n",
    "import seaborn as sns\n",
    "\n",
    "dataOriginal = pd.read_csv(\"covid.csv\")\n",
    "pd.set_option('display.max_rows', None)\n",
    "dataOriginal = dataOriginal.head(50)\n",
    "dataOriginal.head(5)"
   ]
  },
  {
   "cell_type": "markdown",
   "metadata": {},
   "source": [
    "## 1.1. LOAD METADA"
   ]
  },
  {
   "cell_type": "code",
   "execution_count": 2,
   "metadata": {},
   "outputs": [
    {
     "data": {
      "text/html": [
       "<div>\n",
       "<style scoped>\n",
       "    .dataframe tbody tr th:only-of-type {\n",
       "        vertical-align: middle;\n",
       "    }\n",
       "\n",
       "    .dataframe tbody tr th {\n",
       "        vertical-align: top;\n",
       "    }\n",
       "\n",
       "    .dataframe thead th {\n",
       "        text-align: right;\n",
       "    }\n",
       "</style>\n",
       "<table border=\"1\" class=\"dataframe\">\n",
       "  <thead>\n",
       "    <tr style=\"text-align: right;\">\n",
       "      <th></th>\n",
       "      <th>CLAVE</th>\n",
       "      <th>DESCRIPCIÓN</th>\n",
       "    </tr>\n",
       "  </thead>\n",
       "  <tbody>\n",
       "    <tr>\n",
       "      <th>0</th>\n",
       "      <td>1</td>\n",
       "      <td>SI</td>\n",
       "    </tr>\n",
       "    <tr>\n",
       "      <th>1</th>\n",
       "      <td>2</td>\n",
       "      <td>NO</td>\n",
       "    </tr>\n",
       "    <tr>\n",
       "      <th>2</th>\n",
       "      <td>97</td>\n",
       "      <td>NO APLICA</td>\n",
       "    </tr>\n",
       "    <tr>\n",
       "      <th>3</th>\n",
       "      <td>98</td>\n",
       "      <td>SE IGNORA</td>\n",
       "    </tr>\n",
       "    <tr>\n",
       "      <th>4</th>\n",
       "      <td>99</td>\n",
       "      <td>NO ESPECIFICADO</td>\n",
       "    </tr>\n",
       "  </tbody>\n",
       "</table>\n",
       "</div>"
      ],
      "text/plain": [
       "   CLAVE      DESCRIPCIÓN\n",
       "0      1              SI \n",
       "1      2              NO \n",
       "2     97        NO APLICA\n",
       "3     98        SE IGNORA\n",
       "4     99  NO ESPECIFICADO"
      ]
     },
     "execution_count": 2,
     "metadata": {},
     "output_type": "execute_result"
    }
   ],
   "source": [
    "cat_si_no = pd.read_excel(\"Catalogs.xlsx\", 'Catálogo SI_NO')\n",
    "pd.set_option('display.max_rows', None)\n",
    "cat_si_no.head(5)"
   ]
  },
  {
   "cell_type": "code",
   "execution_count": 3,
   "metadata": {},
   "outputs": [
    {
     "data": {
      "text/html": [
       "<div>\n",
       "<style scoped>\n",
       "    .dataframe tbody tr th:only-of-type {\n",
       "        vertical-align: middle;\n",
       "    }\n",
       "\n",
       "    .dataframe tbody tr th {\n",
       "        vertical-align: top;\n",
       "    }\n",
       "\n",
       "    .dataframe thead th {\n",
       "        text-align: right;\n",
       "    }\n",
       "</style>\n",
       "<table border=\"1\" class=\"dataframe\">\n",
       "  <thead>\n",
       "    <tr style=\"text-align: right;\">\n",
       "      <th></th>\n",
       "      <th>CLAVE</th>\n",
       "      <th>DESCRIPCIÓN</th>\n",
       "    </tr>\n",
       "  </thead>\n",
       "  <tbody>\n",
       "    <tr>\n",
       "      <th>0</th>\n",
       "      <td>1</td>\n",
       "      <td>AMBULATORIO</td>\n",
       "    </tr>\n",
       "    <tr>\n",
       "      <th>1</th>\n",
       "      <td>2</td>\n",
       "      <td>HOSPITALIZADO</td>\n",
       "    </tr>\n",
       "    <tr>\n",
       "      <th>2</th>\n",
       "      <td>99</td>\n",
       "      <td>NO ESPECIFICADO</td>\n",
       "    </tr>\n",
       "  </tbody>\n",
       "</table>\n",
       "</div>"
      ],
      "text/plain": [
       "   CLAVE      DESCRIPCIÓN\n",
       "0      1      AMBULATORIO\n",
       "1      2    HOSPITALIZADO\n",
       "2     99  NO ESPECIFICADO"
      ]
     },
     "execution_count": 3,
     "metadata": {},
     "output_type": "execute_result"
    }
   ],
   "source": [
    "cat_pacient_type = pd.read_excel(\"Catalogs.xlsx\", 'Catálogo TIPO_PACIENTE')\n",
    "pd.set_option('display.max_rows', None)\n",
    "cat_pacient_type.head(5)"
   ]
  },
  {
   "cell_type": "code",
   "execution_count": 4,
   "metadata": {},
   "outputs": [
    {
     "data": {
      "text/html": [
       "<div>\n",
       "<style scoped>\n",
       "    .dataframe tbody tr th:only-of-type {\n",
       "        vertical-align: middle;\n",
       "    }\n",
       "\n",
       "    .dataframe tbody tr th {\n",
       "        vertical-align: top;\n",
       "    }\n",
       "\n",
       "    .dataframe thead th {\n",
       "        text-align: right;\n",
       "    }\n",
       "</style>\n",
       "<table border=\"1\" class=\"dataframe\">\n",
       "  <thead>\n",
       "    <tr style=\"text-align: right;\">\n",
       "      <th></th>\n",
       "      <th>CLAVE</th>\n",
       "      <th>DESCRIPCIÓN</th>\n",
       "    </tr>\n",
       "  </thead>\n",
       "  <tbody>\n",
       "    <tr>\n",
       "      <th>0</th>\n",
       "      <td>1</td>\n",
       "      <td>MUJER</td>\n",
       "    </tr>\n",
       "    <tr>\n",
       "      <th>1</th>\n",
       "      <td>2</td>\n",
       "      <td>HOMBRE</td>\n",
       "    </tr>\n",
       "    <tr>\n",
       "      <th>2</th>\n",
       "      <td>99</td>\n",
       "      <td>NO ESPECIFICADO</td>\n",
       "    </tr>\n",
       "  </tbody>\n",
       "</table>\n",
       "</div>"
      ],
      "text/plain": [
       "   CLAVE      DESCRIPCIÓN\n",
       "0      1            MUJER\n",
       "1      2           HOMBRE\n",
       "2     99  NO ESPECIFICADO"
      ]
     },
     "execution_count": 4,
     "metadata": {},
     "output_type": "execute_result"
    }
   ],
   "source": [
    "cat_sex = pd.read_excel(\"Catalogs.xlsx\", 'Catálogo SEXO')\n",
    "pd.set_option('display.max_rows', None)\n",
    "cat_sex.head(5)"
   ]
  },
  {
   "cell_type": "code",
   "execution_count": 5,
   "metadata": {},
   "outputs": [
    {
     "data": {
      "text/html": [
       "<div>\n",
       "<style scoped>\n",
       "    .dataframe tbody tr th:only-of-type {\n",
       "        vertical-align: middle;\n",
       "    }\n",
       "\n",
       "    .dataframe tbody tr th {\n",
       "        vertical-align: top;\n",
       "    }\n",
       "\n",
       "    .dataframe thead th {\n",
       "        text-align: right;\n",
       "    }\n",
       "</style>\n",
       "<table border=\"1\" class=\"dataframe\">\n",
       "  <thead>\n",
       "    <tr style=\"text-align: right;\">\n",
       "      <th></th>\n",
       "      <th>CLAVE</th>\n",
       "      <th>DESCRIPCIÓN</th>\n",
       "    </tr>\n",
       "  </thead>\n",
       "  <tbody>\n",
       "    <tr>\n",
       "      <th>0</th>\n",
       "      <td>1</td>\n",
       "      <td>MUJER</td>\n",
       "    </tr>\n",
       "    <tr>\n",
       "      <th>1</th>\n",
       "      <td>2</td>\n",
       "      <td>HOMBRE</td>\n",
       "    </tr>\n",
       "    <tr>\n",
       "      <th>2</th>\n",
       "      <td>99</td>\n",
       "      <td>NO ESPECIFICADO</td>\n",
       "    </tr>\n",
       "  </tbody>\n",
       "</table>\n",
       "</div>"
      ],
      "text/plain": [
       "   CLAVE      DESCRIPCIÓN\n",
       "0      1            MUJER\n",
       "1      2           HOMBRE\n",
       "2     99  NO ESPECIFICADO"
      ]
     },
     "execution_count": 5,
     "metadata": {},
     "output_type": "execute_result"
    }
   ],
   "source": [
    "cat_result = pd.read_excel(\"Catalogs.xlsx\", 'Catálogo RESULTADO')\n",
    "pd.set_option('display.max_rows', None)\n",
    "cat_sex.head(5)"
   ]
  },
  {
   "cell_type": "markdown",
   "metadata": {},
   "source": [
    "<div style=\"page-break-after: always;\"></div>"
   ]
  },
  {
   "cell_type": "markdown",
   "metadata": {},
   "source": [
    "## <font color=blue>2. IDENTIFYING MODEL VARIABLES </font>\n"
   ]
  },
  {
   "cell_type": "raw",
   "metadata": {},
   "source": [
    "We are going to predict if the pacient needs ICU"
   ]
  },
  {
   "cell_type": "code",
   "execution_count": 6,
   "metadata": {},
   "outputs": [
    {
     "data": {
      "text/html": [
       "<div>\n",
       "<style scoped>\n",
       "    .dataframe tbody tr th:only-of-type {\n",
       "        vertical-align: middle;\n",
       "    }\n",
       "\n",
       "    .dataframe tbody tr th {\n",
       "        vertical-align: top;\n",
       "    }\n",
       "\n",
       "    .dataframe thead th {\n",
       "        text-align: right;\n",
       "    }\n",
       "</style>\n",
       "<table border=\"1\" class=\"dataframe\">\n",
       "  <thead>\n",
       "    <tr style=\"text-align: right;\">\n",
       "      <th></th>\n",
       "      <th>Variable Name</th>\n",
       "      <th>DB Type</th>\n",
       "      <th>Model Type</th>\n",
       "      <th>CATALOG</th>\n",
       "    </tr>\n",
       "  </thead>\n",
       "  <tbody>\n",
       "    <tr>\n",
       "      <th>0</th>\n",
       "      <td>id</td>\n",
       "      <td>String</td>\n",
       "      <td>Non informative</td>\n",
       "      <td>N.A</td>\n",
       "    </tr>\n",
       "    <tr>\n",
       "      <th>1</th>\n",
       "      <td>sex</td>\n",
       "      <td>int</td>\n",
       "      <td>Categorical, Numerical, Non-ordinal, Nominal</td>\n",
       "      <td>Catálogo SEXO</td>\n",
       "    </tr>\n",
       "    <tr>\n",
       "      <th>2</th>\n",
       "      <td>patient_type</td>\n",
       "      <td>String / Date</td>\n",
       "      <td>Categorical, Numerical, Non-ordinal, Nominal</td>\n",
       "      <td>Catálogo TIPO_PACIENTE</td>\n",
       "    </tr>\n",
       "    <tr>\n",
       "      <th>3</th>\n",
       "      <td>entry_date</td>\n",
       "      <td>String / Date</td>\n",
       "      <td>Date</td>\n",
       "      <td>N.A</td>\n",
       "    </tr>\n",
       "    <tr>\n",
       "      <th>4</th>\n",
       "      <td>date_symptoms</td>\n",
       "      <td>String / Date</td>\n",
       "      <td>Date</td>\n",
       "      <td>N.A</td>\n",
       "    </tr>\n",
       "    <tr>\n",
       "      <th>5</th>\n",
       "      <td>date_died</td>\n",
       "      <td>String / Date</td>\n",
       "      <td>Date</td>\n",
       "      <td>N.A</td>\n",
       "    </tr>\n",
       "    <tr>\n",
       "      <th>6</th>\n",
       "      <td>intubed</td>\n",
       "      <td>int</td>\n",
       "      <td>Categorical, Numerical, Non-ordinal, Nominal</td>\n",
       "      <td>Catálogo SI_NO</td>\n",
       "    </tr>\n",
       "    <tr>\n",
       "      <th>7</th>\n",
       "      <td>pneumonia</td>\n",
       "      <td>int</td>\n",
       "      <td>Categorical, Numerical, Non-ordinal, Nominal</td>\n",
       "      <td>Catálogo SI_NO</td>\n",
       "    </tr>\n",
       "    <tr>\n",
       "      <th>8</th>\n",
       "      <td>age</td>\n",
       "      <td>int</td>\n",
       "      <td>Quantitative, Numerical, Non-ordinal, Nominal</td>\n",
       "      <td>N.A</td>\n",
       "    </tr>\n",
       "    <tr>\n",
       "      <th>9</th>\n",
       "      <td>pregnancy</td>\n",
       "      <td>int</td>\n",
       "      <td>Categorical, Numerical, Non-ordinal, Nominal</td>\n",
       "      <td>Catálogo SI_NO</td>\n",
       "    </tr>\n",
       "    <tr>\n",
       "      <th>10</th>\n",
       "      <td>diabetes</td>\n",
       "      <td>int</td>\n",
       "      <td>Categorical, Numerical, Non-ordinal, Nominal</td>\n",
       "      <td>Catálogo SI_NO</td>\n",
       "    </tr>\n",
       "    <tr>\n",
       "      <th>11</th>\n",
       "      <td>copd</td>\n",
       "      <td>int</td>\n",
       "      <td>Categorical, Numerical, Non-ordinal, Nominal</td>\n",
       "      <td>Catálogo SI_NO</td>\n",
       "    </tr>\n",
       "    <tr>\n",
       "      <th>12</th>\n",
       "      <td>asthma</td>\n",
       "      <td>int</td>\n",
       "      <td>Categorical, Numerical, Non-ordinal, Nominal</td>\n",
       "      <td>Catálogo SI_NO</td>\n",
       "    </tr>\n",
       "    <tr>\n",
       "      <th>13</th>\n",
       "      <td>inmsupr</td>\n",
       "      <td>int</td>\n",
       "      <td>Categorical, Numerical, Non-ordinal, Nominal</td>\n",
       "      <td>Catálogo SI_NO</td>\n",
       "    </tr>\n",
       "    <tr>\n",
       "      <th>14</th>\n",
       "      <td>hypertension</td>\n",
       "      <td>int</td>\n",
       "      <td>Categorical, Numerical, Non-ordinal, Nominal</td>\n",
       "      <td>Catálogo SI_NO</td>\n",
       "    </tr>\n",
       "    <tr>\n",
       "      <th>15</th>\n",
       "      <td>other_disease</td>\n",
       "      <td>int</td>\n",
       "      <td>Categorical, Numerical, Non-ordinal, Nominal</td>\n",
       "      <td>Catálogo SI_NO</td>\n",
       "    </tr>\n",
       "    <tr>\n",
       "      <th>16</th>\n",
       "      <td>cardiovascular</td>\n",
       "      <td>int</td>\n",
       "      <td>Categorical, Numerical, Non-ordinal, Nominal</td>\n",
       "      <td>Catálogo SI_NO</td>\n",
       "    </tr>\n",
       "    <tr>\n",
       "      <th>17</th>\n",
       "      <td>obesity</td>\n",
       "      <td>int</td>\n",
       "      <td>Categorical, Numerical, Non-ordinal, Nominal</td>\n",
       "      <td>Catálogo SI_NO</td>\n",
       "    </tr>\n",
       "    <tr>\n",
       "      <th>18</th>\n",
       "      <td>renal_chronic</td>\n",
       "      <td>int</td>\n",
       "      <td>Categorical, Numerical, Non-ordinal, Nominal</td>\n",
       "      <td>Catálogo SI_NO</td>\n",
       "    </tr>\n",
       "    <tr>\n",
       "      <th>19</th>\n",
       "      <td>tobacco</td>\n",
       "      <td>int</td>\n",
       "      <td>Categorical, Numerical, Non-ordinal, Nominal</td>\n",
       "      <td>Catálogo SI_NO</td>\n",
       "    </tr>\n",
       "    <tr>\n",
       "      <th>20</th>\n",
       "      <td>contact_other_covid</td>\n",
       "      <td>int</td>\n",
       "      <td>Categorical, Numerical, Non-ordinal, Nominal</td>\n",
       "      <td>Catálogo SI_NO</td>\n",
       "    </tr>\n",
       "    <tr>\n",
       "      <th>21</th>\n",
       "      <td>covid_res</td>\n",
       "      <td>int</td>\n",
       "      <td>Categorical, Numerical, Non-ordinal, Nominal</td>\n",
       "      <td>Catálogo RESULTADO</td>\n",
       "    </tr>\n",
       "    <tr>\n",
       "      <th>22</th>\n",
       "      <td>icu</td>\n",
       "      <td>int</td>\n",
       "      <td>Categorical, Numerical, Non-ordinal, Nominal</td>\n",
       "      <td>Catálogo SI_NO</td>\n",
       "    </tr>\n",
       "  </tbody>\n",
       "</table>\n",
       "</div>"
      ],
      "text/plain": [
       "          Variable Name        DB Type  \\\n",
       "0                    id         String   \n",
       "1                   sex            int   \n",
       "2          patient_type  String / Date   \n",
       "3            entry_date  String / Date   \n",
       "4         date_symptoms  String / Date   \n",
       "5             date_died  String / Date   \n",
       "6               intubed            int   \n",
       "7             pneumonia            int   \n",
       "8                   age            int   \n",
       "9             pregnancy            int   \n",
       "10             diabetes            int   \n",
       "11                 copd            int   \n",
       "12               asthma            int   \n",
       "13              inmsupr            int   \n",
       "14         hypertension            int   \n",
       "15        other_disease            int   \n",
       "16       cardiovascular            int   \n",
       "17              obesity            int   \n",
       "18        renal_chronic            int   \n",
       "19              tobacco            int   \n",
       "20  contact_other_covid            int   \n",
       "21            covid_res            int   \n",
       "22                  icu            int   \n",
       "\n",
       "                                       Model Type                 CATALOG  \n",
       "0                                 Non informative                     N.A  \n",
       "1    Categorical, Numerical, Non-ordinal, Nominal           Catálogo SEXO  \n",
       "2    Categorical, Numerical, Non-ordinal, Nominal  Catálogo TIPO_PACIENTE  \n",
       "3                                            Date                     N.A  \n",
       "4                                            Date                     N.A  \n",
       "5                                            Date                     N.A  \n",
       "6    Categorical, Numerical, Non-ordinal, Nominal          Catálogo SI_NO  \n",
       "7    Categorical, Numerical, Non-ordinal, Nominal          Catálogo SI_NO  \n",
       "8   Quantitative, Numerical, Non-ordinal, Nominal                     N.A  \n",
       "9    Categorical, Numerical, Non-ordinal, Nominal          Catálogo SI_NO  \n",
       "10   Categorical, Numerical, Non-ordinal, Nominal          Catálogo SI_NO  \n",
       "11   Categorical, Numerical, Non-ordinal, Nominal          Catálogo SI_NO  \n",
       "12   Categorical, Numerical, Non-ordinal, Nominal          Catálogo SI_NO  \n",
       "13   Categorical, Numerical, Non-ordinal, Nominal          Catálogo SI_NO  \n",
       "14   Categorical, Numerical, Non-ordinal, Nominal          Catálogo SI_NO  \n",
       "15   Categorical, Numerical, Non-ordinal, Nominal          Catálogo SI_NO  \n",
       "16   Categorical, Numerical, Non-ordinal, Nominal          Catálogo SI_NO  \n",
       "17   Categorical, Numerical, Non-ordinal, Nominal          Catálogo SI_NO  \n",
       "18   Categorical, Numerical, Non-ordinal, Nominal          Catálogo SI_NO  \n",
       "19   Categorical, Numerical, Non-ordinal, Nominal          Catálogo SI_NO  \n",
       "20   Categorical, Numerical, Non-ordinal, Nominal          Catálogo SI_NO  \n",
       "21   Categorical, Numerical, Non-ordinal, Nominal      Catálogo RESULTADO  \n",
       "22   Categorical, Numerical, Non-ordinal, Nominal          Catálogo SI_NO  "
      ]
     },
     "execution_count": 6,
     "metadata": {},
     "output_type": "execute_result"
    }
   ],
   "source": [
    "dataInfo = pd.read_excel(\"covidInfo.xlsx\", \"DataTypes\")\n",
    "pd.set_option('display.max_rows', None)\n",
    "dataInfo"
   ]
  },
  {
   "cell_type": "code",
   "execution_count": 7,
   "metadata": {},
   "outputs": [],
   "source": [
    "# All labels\n",
    "datalabels = ['id', 'sex', 'patient_type', 'entry_date', 'date_symptoms',\n",
    "              'date_died','intubed','pneumonia','age','pregnancy','diabetes','copd','asthma','inmsupr','hypertension',\n",
    "              'other_disease','cardiovascular','obesity','renal_chronic','tobacco','contact_other_covid'\n",
    "              ,'covid_res','icu']\n",
    "\n",
    "# Ignored: id, entrydate, date_symptons, date_died, icu\n",
    "predictors = ['sex', 'patient_type',\n",
    "              'intubed','pneumonia','age','pregnancy','diabetes','copd','asthma','inmsupr','hypertension',\n",
    "              'other_disease','cardiovascular','obesity','renal_chronic','tobacco',\n",
    "              'contact_other_covid','covid_res']\n",
    "\n",
    "target_column= 'icu'\n",
    "\n",
    "model_columns = ['sex', 'patient_type',\n",
    "              'intubed','pneumonia','age','pregnancy','diabetes','copd','asthma','inmsupr','hypertension',\n",
    "              'other_disease','cardiovascular','obesity','renal_chronic','tobacco',\n",
    "              'contact_other_covid','covid_res', target_column]\n",
    "\n",
    "prefered_columns = ['sex','cardiovascular','obesity','tobacco','contact_other_covid','covid_res', target_column]"
   ]
  },
  {
   "cell_type": "markdown",
   "metadata": {},
   "source": [
    "<div style=\"page-break-after: always;\"></div>"
   ]
  },
  {
   "cell_type": "markdown",
   "metadata": {},
   "source": [
    "#  <font color=blue>3. DATA EXPLORATION</font>"
   ]
  },
  {
   "cell_type": "markdown",
   "metadata": {},
   "source": [
    "# 3.1.  Inspecting for types and Null values detection"
   ]
  },
  {
   "cell_type": "code",
   "execution_count": 8,
   "metadata": {},
   "outputs": [
    {
     "name": "stdout",
     "output_type": "stream",
     "text": [
      "<class 'pandas.core.frame.DataFrame'>\n",
      "RangeIndex: 50 entries, 0 to 49\n",
      "Data columns (total 23 columns):\n",
      " #   Column               Non-Null Count  Dtype \n",
      "---  ------               --------------  ----- \n",
      " 0   id                   50 non-null     object\n",
      " 1   sex                  50 non-null     int64 \n",
      " 2   patient_type         50 non-null     int64 \n",
      " 3   entry_date           50 non-null     object\n",
      " 4   date_symptoms        50 non-null     object\n",
      " 5   date_died            50 non-null     object\n",
      " 6   intubed              50 non-null     int64 \n",
      " 7   pneumonia            50 non-null     int64 \n",
      " 8   age                  50 non-null     int64 \n",
      " 9   pregnancy            50 non-null     int64 \n",
      " 10  diabetes             50 non-null     int64 \n",
      " 11  copd                 50 non-null     int64 \n",
      " 12  asthma               50 non-null     int64 \n",
      " 13  inmsupr              50 non-null     int64 \n",
      " 14  hypertension         50 non-null     int64 \n",
      " 15  other_disease        50 non-null     int64 \n",
      " 16  cardiovascular       50 non-null     int64 \n",
      " 17  obesity              50 non-null     int64 \n",
      " 18  renal_chronic        50 non-null     int64 \n",
      " 19  tobacco              50 non-null     int64 \n",
      " 20  contact_other_covid  50 non-null     int64 \n",
      " 21  covid_res            50 non-null     int64 \n",
      " 22  icu                  50 non-null     int64 \n",
      "dtypes: int64(19), object(4)\n",
      "memory usage: 9.1+ KB\n"
     ]
    }
   ],
   "source": [
    "dataOriginal.info()"
   ]
  },
  {
   "cell_type": "code",
   "execution_count": 9,
   "metadata": {},
   "outputs": [
    {
     "data": {
      "text/plain": [
       "0"
      ]
     },
     "execution_count": 9,
     "metadata": {},
     "output_type": "execute_result"
    }
   ],
   "source": [
    "dataOriginal.isnull().values.sum()"
   ]
  },
  {
   "cell_type": "markdown",
   "metadata": {},
   "source": [
    "# 3.1.1.  Searching odd information in numerical descriptor - AGE"
   ]
  },
  {
   "cell_type": "code",
   "execution_count": 10,
   "metadata": {},
   "outputs": [
    {
     "data": {
      "image/png": "[encoded data removed]",
      "text/plain": [
       "<Figure size 576x288 with 1 Axes>"
      ]
     },
     "metadata": {
      "needs_background": "light"
     },
     "output_type": "display_data"
    }
   ],
   "source": [
    "#Diagram de moustache\n",
    "\n",
    "dataOriginal.boxplot(column='age', figsize=(8,4), vert=False)\n",
    "plt.ylabel(\"Valeurs\")\n",
    "plt.title(\"Variable Age.\" )\n",
    "plt.grid()\n",
    "plt.show()"
   ]
  },
  {
   "cell_type": "markdown",
   "metadata": {},
   "source": [
    "<font color='blue'>We filter data with ages with outliers?</font>"
   ]
  },
  {
   "cell_type": "code",
   "execution_count": 11,
   "metadata": {},
   "outputs": [],
   "source": [
    "dataModel =  dataOriginal[dataOriginal['age']<95]"
   ]
  },
  {
   "cell_type": "code",
   "execution_count": 12,
   "metadata": {},
   "outputs": [
    {
     "data": {
      "text/plain": [
       "0"
      ]
     },
     "execution_count": 12,
     "metadata": {},
     "output_type": "execute_result"
    }
   ],
   "source": [
    "dataModel.shape[0] - dataOriginal.shape[0]"
   ]
  },
  {
   "cell_type": "markdown",
   "metadata": {},
   "source": [
    "<div style=\"page-break-after: always;\"></div>"
   ]
  },
  {
   "cell_type": "markdown",
   "metadata": {},
   "source": [
    "# 3.2. Inspecting quantitative variables - Age"
   ]
  },
  {
   "cell_type": "code",
   "execution_count": 13,
   "metadata": {},
   "outputs": [
    {
     "data": {
      "image/png": "[encoded data removed]",
      "text/plain": [
       "<Figure size 720x360 with 1 Axes>"
      ]
     },
     "metadata": {
      "needs_background": "light"
     },
     "output_type": "display_data"
    }
   ],
   "source": [
    "import seaborn as sns\n",
    "\n",
    "mean=dataModel['age'].mean();\n",
    "median=dataModel['age'].median();\n",
    "mode=dataModel['age'].mode();\n",
    "fig, ax = plt.subplots(figsize=(10,5));\n",
    "\n",
    "sns.distplot(dataModel['age']);\n",
    "plt.title('Distribution Age');\n",
    "plt.axvline(mean,color='green',label='Mean'); \n",
    "plt.axvline(median,color='blue',label='Median');\n",
    "plt.axvline(mode[0],color='red',label='Mode')\n",
    "\n",
    "plt.legend();"
   ]
  },
  {
   "cell_type": "code",
   "execution_count": 14,
   "metadata": {},
   "outputs": [
    {
     "data": {
      "text/plain": [
       "46.14"
      ]
     },
     "execution_count": 14,
     "metadata": {},
     "output_type": "execute_result"
    }
   ],
   "source": [
    "mean"
   ]
  },
  {
   "cell_type": "code",
   "execution_count": 15,
   "metadata": {},
   "outputs": [
    {
     "data": {
      "text/plain": [
       "0    40\n",
       "1    53\n",
       "2    54\n",
       "3    56\n",
       "dtype: int64"
      ]
     },
     "execution_count": 15,
     "metadata": {},
     "output_type": "execute_result"
    }
   ],
   "source": [
    "mode"
   ]
  },
  {
   "cell_type": "markdown",
   "metadata": {},
   "source": [
    "# 3.3. Inspecting categorical variables "
   ]
  },
  {
   "cell_type": "code",
   "execution_count": 16,
   "metadata": {},
   "outputs": [
    {
     "data": {
      "image/png": "[encoded data removed]",
      "text/plain": [
       "<Figure size 720x864 with 9 Axes>"
      ]
     },
     "metadata": {
      "needs_background": "light"
     },
     "output_type": "display_data"
    }
   ],
   "source": [
    "import matplotlib.pyplot as plt\n",
    "\n",
    "\n",
    "fig, ax =plt.subplots(3,3)\n",
    " \n",
    "fig.set_size_inches(10, 12, forward=True)\n",
    "plt.title(\"Overview Chart to main maladies\")\n",
    "\n",
    "sns.countplot(x='pneumonia', data=dataModel, ax=ax[0,0])\n",
    "sns.countplot(x='asthma', data=dataModel, ax=ax[0,1])\n",
    "sns.countplot(x='tobacco', data=dataModel, ax=ax[0,2])\n",
    "\n",
    "sns.countplot(x='cardiovascular', data=dataModel, ax=ax[1,0])\n",
    "sns.countplot(x='hypertension', data=dataModel, ax=ax[1,1])\n",
    "sns.countplot(x='obesity', data=dataModel, ax=ax[1,2])\n",
    "\n",
    "sns.countplot(x='contact_other_covid', data=dataModel, ax=ax[2,0])\n",
    "sns.countplot(x='covid_res', data=dataModel, ax=ax[2,1])\n",
    "sns.countplot(x='intubed', data=dataModel, ax=ax[2,2])\n",
    "#fig.legend() use handles\n",
    "fig.tight_layout()\n"
   ]
  },
  {
   "cell_type": "code",
   "execution_count": 17,
   "metadata": {},
   "outputs": [
    {
     "data": {
      "text/html": [
       "<div>\n",
       "<style scoped>\n",
       "    .dataframe tbody tr th:only-of-type {\n",
       "        vertical-align: middle;\n",
       "    }\n",
       "\n",
       "    .dataframe tbody tr th {\n",
       "        vertical-align: top;\n",
       "    }\n",
       "\n",
       "    .dataframe thead th {\n",
       "        text-align: right;\n",
       "    }\n",
       "</style>\n",
       "<table border=\"1\" class=\"dataframe\">\n",
       "  <thead>\n",
       "    <tr style=\"text-align: right;\">\n",
       "      <th></th>\n",
       "      <th>CLAVE</th>\n",
       "      <th>DESCRIPCIÓN</th>\n",
       "    </tr>\n",
       "  </thead>\n",
       "  <tbody>\n",
       "    <tr>\n",
       "      <th>0</th>\n",
       "      <td>1</td>\n",
       "      <td>SI</td>\n",
       "    </tr>\n",
       "    <tr>\n",
       "      <th>1</th>\n",
       "      <td>2</td>\n",
       "      <td>NO</td>\n",
       "    </tr>\n",
       "    <tr>\n",
       "      <th>2</th>\n",
       "      <td>97</td>\n",
       "      <td>NO APLICA</td>\n",
       "    </tr>\n",
       "    <tr>\n",
       "      <th>3</th>\n",
       "      <td>98</td>\n",
       "      <td>SE IGNORA</td>\n",
       "    </tr>\n",
       "    <tr>\n",
       "      <th>4</th>\n",
       "      <td>99</td>\n",
       "      <td>NO ESPECIFICADO</td>\n",
       "    </tr>\n",
       "  </tbody>\n",
       "</table>\n",
       "</div>"
      ],
      "text/plain": [
       "   CLAVE      DESCRIPCIÓN\n",
       "0      1              SI \n",
       "1      2              NO \n",
       "2     97        NO APLICA\n",
       "3     98        SE IGNORA\n",
       "4     99  NO ESPECIFICADO"
      ]
     },
     "execution_count": 17,
     "metadata": {},
     "output_type": "execute_result"
    }
   ],
   "source": [
    "cat_si_no"
   ]
  },
  {
   "cell_type": "markdown",
   "metadata": {},
   "source": [
    "## Calculate numerical values"
   ]
  },
  {
   "cell_type": "code",
   "execution_count": 18,
   "metadata": {},
   "outputs": [
    {
     "data": {
      "text/html": [
       "<div>\n",
       "<style scoped>\n",
       "    .dataframe tbody tr th:only-of-type {\n",
       "        vertical-align: middle;\n",
       "    }\n",
       "\n",
       "    .dataframe tbody tr th {\n",
       "        vertical-align: top;\n",
       "    }\n",
       "\n",
       "    .dataframe thead th {\n",
       "        text-align: right;\n",
       "    }\n",
       "</style>\n",
       "<table border=\"1\" class=\"dataframe\">\n",
       "  <thead>\n",
       "    <tr style=\"text-align: right;\">\n",
       "      <th></th>\n",
       "      <th>pneumonia</th>\n",
       "    </tr>\n",
       "  </thead>\n",
       "  <tbody>\n",
       "    <tr>\n",
       "      <th>2</th>\n",
       "      <td>41</td>\n",
       "    </tr>\n",
       "    <tr>\n",
       "      <th>1</th>\n",
       "      <td>9</td>\n",
       "    </tr>\n",
       "  </tbody>\n",
       "</table>\n",
       "</div>"
      ],
      "text/plain": [
       "   pneumonia\n",
       "2         41\n",
       "1          9"
      ]
     },
     "execution_count": 18,
     "metadata": {},
     "output_type": "execute_result"
    }
   ],
   "source": [
    "pd.DataFrame(dataModel['pneumonia'].value_counts())"
   ]
  },
  {
   "cell_type": "code",
   "execution_count": 19,
   "metadata": {},
   "outputs": [
    {
     "data": {
      "text/html": [
       "<div>\n",
       "<style scoped>\n",
       "    .dataframe tbody tr th:only-of-type {\n",
       "        vertical-align: middle;\n",
       "    }\n",
       "\n",
       "    .dataframe tbody tr th {\n",
       "        vertical-align: top;\n",
       "    }\n",
       "\n",
       "    .dataframe thead th {\n",
       "        text-align: right;\n",
       "    }\n",
       "</style>\n",
       "<table border=\"1\" class=\"dataframe\">\n",
       "  <thead>\n",
       "    <tr style=\"text-align: right;\">\n",
       "      <th></th>\n",
       "      <th>asthma</th>\n",
       "    </tr>\n",
       "  </thead>\n",
       "  <tbody>\n",
       "    <tr>\n",
       "      <th>2</th>\n",
       "      <td>50</td>\n",
       "    </tr>\n",
       "  </tbody>\n",
       "</table>\n",
       "</div>"
      ],
      "text/plain": [
       "   asthma\n",
       "2      50"
      ]
     },
     "execution_count": 19,
     "metadata": {},
     "output_type": "execute_result"
    }
   ],
   "source": [
    "pd.DataFrame(dataModel['asthma'].value_counts())"
   ]
  },
  {
   "cell_type": "code",
   "execution_count": 20,
   "metadata": {},
   "outputs": [
    {
     "data": {
      "text/html": [
       "<div>\n",
       "<style scoped>\n",
       "    .dataframe tbody tr th:only-of-type {\n",
       "        vertical-align: middle;\n",
       "    }\n",
       "\n",
       "    .dataframe tbody tr th {\n",
       "        vertical-align: top;\n",
       "    }\n",
       "\n",
       "    .dataframe thead th {\n",
       "        text-align: right;\n",
       "    }\n",
       "</style>\n",
       "<table border=\"1\" class=\"dataframe\">\n",
       "  <thead>\n",
       "    <tr style=\"text-align: right;\">\n",
       "      <th></th>\n",
       "      <th>tobacco</th>\n",
       "    </tr>\n",
       "  </thead>\n",
       "  <tbody>\n",
       "    <tr>\n",
       "      <th>2</th>\n",
       "      <td>45</td>\n",
       "    </tr>\n",
       "    <tr>\n",
       "      <th>1</th>\n",
       "      <td>5</td>\n",
       "    </tr>\n",
       "  </tbody>\n",
       "</table>\n",
       "</div>"
      ],
      "text/plain": [
       "   tobacco\n",
       "2       45\n",
       "1        5"
      ]
     },
     "execution_count": 20,
     "metadata": {},
     "output_type": "execute_result"
    }
   ],
   "source": [
    "pd.DataFrame(dataModel['tobacco'].value_counts())"
   ]
  },
  {
   "cell_type": "code",
   "execution_count": 21,
   "metadata": {},
   "outputs": [
    {
     "data": {
      "text/html": [
       "<div>\n",
       "<style scoped>\n",
       "    .dataframe tbody tr th:only-of-type {\n",
       "        vertical-align: middle;\n",
       "    }\n",
       "\n",
       "    .dataframe tbody tr th {\n",
       "        vertical-align: top;\n",
       "    }\n",
       "\n",
       "    .dataframe thead th {\n",
       "        text-align: right;\n",
       "    }\n",
       "</style>\n",
       "<table border=\"1\" class=\"dataframe\">\n",
       "  <thead>\n",
       "    <tr style=\"text-align: right;\">\n",
       "      <th></th>\n",
       "      <th>pregnancy</th>\n",
       "    </tr>\n",
       "  </thead>\n",
       "  <tbody>\n",
       "    <tr>\n",
       "      <th>97</th>\n",
       "      <td>25</td>\n",
       "    </tr>\n",
       "    <tr>\n",
       "      <th>2</th>\n",
       "      <td>25</td>\n",
       "    </tr>\n",
       "  </tbody>\n",
       "</table>\n",
       "</div>"
      ],
      "text/plain": [
       "    pregnancy\n",
       "97         25\n",
       "2          25"
      ]
     },
     "execution_count": 21,
     "metadata": {},
     "output_type": "execute_result"
    }
   ],
   "source": [
    "pd.DataFrame(dataModel['pregnancy'].value_counts())"
   ]
  },
  {
   "cell_type": "markdown",
   "metadata": {},
   "source": [
    "## 3.3.1.  Inspecting categorical variables using bivariable relatioships with sex of patients.\n"
   ]
  },
  {
   "cell_type": "code",
   "execution_count": 22,
   "metadata": {},
   "outputs": [
    {
     "data": {
      "text/html": [
       "<div>\n",
       "<style scoped>\n",
       "    .dataframe tbody tr th:only-of-type {\n",
       "        vertical-align: middle;\n",
       "    }\n",
       "\n",
       "    .dataframe tbody tr th {\n",
       "        vertical-align: top;\n",
       "    }\n",
       "\n",
       "    .dataframe thead th {\n",
       "        text-align: right;\n",
       "    }\n",
       "</style>\n",
       "<table border=\"1\" class=\"dataframe\">\n",
       "  <thead>\n",
       "    <tr style=\"text-align: right;\">\n",
       "      <th></th>\n",
       "      <th>CLAVE</th>\n",
       "      <th>DESCRIPCIÓN</th>\n",
       "    </tr>\n",
       "  </thead>\n",
       "  <tbody>\n",
       "    <tr>\n",
       "      <th>0</th>\n",
       "      <td>1</td>\n",
       "      <td>MUJER</td>\n",
       "    </tr>\n",
       "    <tr>\n",
       "      <th>1</th>\n",
       "      <td>2</td>\n",
       "      <td>HOMBRE</td>\n",
       "    </tr>\n",
       "    <tr>\n",
       "      <th>2</th>\n",
       "      <td>99</td>\n",
       "      <td>NO ESPECIFICADO</td>\n",
       "    </tr>\n",
       "  </tbody>\n",
       "</table>\n",
       "</div>"
      ],
      "text/plain": [
       "   CLAVE      DESCRIPCIÓN\n",
       "0      1            MUJER\n",
       "1      2           HOMBRE\n",
       "2     99  NO ESPECIFICADO"
      ]
     },
     "execution_count": 22,
     "metadata": {},
     "output_type": "execute_result"
    }
   ],
   "source": [
    "cat_sex"
   ]
  },
  {
   "cell_type": "code",
   "execution_count": 23,
   "metadata": {},
   "outputs": [
    {
     "data": {
      "text/html": [
       "<div>\n",
       "<style scoped>\n",
       "    .dataframe tbody tr th:only-of-type {\n",
       "        vertical-align: middle;\n",
       "    }\n",
       "\n",
       "    .dataframe tbody tr th {\n",
       "        vertical-align: top;\n",
       "    }\n",
       "\n",
       "    .dataframe thead th {\n",
       "        text-align: right;\n",
       "    }\n",
       "</style>\n",
       "<table border=\"1\" class=\"dataframe\">\n",
       "  <thead>\n",
       "    <tr style=\"text-align: right;\">\n",
       "      <th></th>\n",
       "      <th>CLAVE</th>\n",
       "      <th>DESCRIPCIÓN</th>\n",
       "    </tr>\n",
       "  </thead>\n",
       "  <tbody>\n",
       "    <tr>\n",
       "      <th>0</th>\n",
       "      <td>1</td>\n",
       "      <td>SI</td>\n",
       "    </tr>\n",
       "    <tr>\n",
       "      <th>1</th>\n",
       "      <td>2</td>\n",
       "      <td>NO</td>\n",
       "    </tr>\n",
       "    <tr>\n",
       "      <th>2</th>\n",
       "      <td>97</td>\n",
       "      <td>NO APLICA</td>\n",
       "    </tr>\n",
       "    <tr>\n",
       "      <th>3</th>\n",
       "      <td>98</td>\n",
       "      <td>SE IGNORA</td>\n",
       "    </tr>\n",
       "    <tr>\n",
       "      <th>4</th>\n",
       "      <td>99</td>\n",
       "      <td>NO ESPECIFICADO</td>\n",
       "    </tr>\n",
       "  </tbody>\n",
       "</table>\n",
       "</div>"
      ],
      "text/plain": [
       "   CLAVE      DESCRIPCIÓN\n",
       "0      1              SI \n",
       "1      2              NO \n",
       "2     97        NO APLICA\n",
       "3     98        SE IGNORA\n",
       "4     99  NO ESPECIFICADO"
      ]
     },
     "execution_count": 23,
     "metadata": {},
     "output_type": "execute_result"
    }
   ],
   "source": [
    "cat_si_no"
   ]
  },
  {
   "cell_type": "code",
   "execution_count": 24,
   "metadata": {
    "scrolled": false
   },
   "outputs": [
    {
     "data": {
      "text/plain": [
       "<matplotlib.axes._subplots.AxesSubplot at 0x1dc41812e48>"
      ]
     },
     "execution_count": 24,
     "metadata": {},
     "output_type": "execute_result"
    },
    {
     "data": {
      "image/png": "[encoded data removed]",
      "text/plain": [
       "<Figure size 1080x720 with 4 Axes>"
      ]
     },
     "metadata": {
      "needs_background": "light"
     },
     "output_type": "display_data"
    }
   ],
   "source": [
    "fig, axs = plt.subplots(2,2)\n",
    "\n",
    "pneumonia_bySex= dataModel.pivot_table(index='sex', columns='pneumonia', values='icu', aggfunc='count')\n",
    "pneumonia_bySex.plot(kind='barh', stacked=True, figsize=[15,10], colormap='Dark2_r',ax=axs[0,0])\n",
    "\n",
    "asthma_bySex= dataModel.pivot_table(index='sex', columns='asthma', values='icu', aggfunc='count')\n",
    "asthma_bySex.plot(kind='barh', stacked=True, figsize=[15,10], colormap='Dark2_r',ax=axs[0,1])\n",
    "\n",
    "tobacco_bySex= dataModel.pivot_table(index='sex', columns='tobacco', values='icu', aggfunc='count')\n",
    "tobacco_bySex.plot(kind='barh', stacked=True, figsize=[15,10], colormap='Dark2_r',ax=axs[1,0])\n",
    ",\n",
    "pregnancy_bySex= dataModel.pivot_table(index='sex', columns='pregnancy', values='icu', aggfunc='count')\n",
    "pregnancy_bySex.plot(kind='barh', stacked=True, figsize=[15,10], colormap='Dark2_r',ax=axs[1,1])\n",
    "\n"
   ]
  },
  {
   "cell_type": "markdown",
   "metadata": {},
   "source": [
    "## Calculate numerical values"
   ]
  },
  {
   "cell_type": "code",
   "execution_count": 25,
   "metadata": {},
   "outputs": [
    {
     "data": {
      "text/html": [
       "<div>\n",
       "<style scoped>\n",
       "    .dataframe tbody tr th:only-of-type {\n",
       "        vertical-align: middle;\n",
       "    }\n",
       "\n",
       "    .dataframe tbody tr th {\n",
       "        vertical-align: top;\n",
       "    }\n",
       "\n",
       "    .dataframe thead th {\n",
       "        text-align: right;\n",
       "    }\n",
       "</style>\n",
       "<table border=\"1\" class=\"dataframe\">\n",
       "  <thead>\n",
       "    <tr style=\"text-align: right;\">\n",
       "      <th>pneumonia</th>\n",
       "      <th>1</th>\n",
       "      <th>2</th>\n",
       "    </tr>\n",
       "    <tr>\n",
       "      <th>sex</th>\n",
       "      <th></th>\n",
       "      <th></th>\n",
       "    </tr>\n",
       "  </thead>\n",
       "  <tbody>\n",
       "    <tr>\n",
       "      <th>1</th>\n",
       "      <td>4</td>\n",
       "      <td>21</td>\n",
       "    </tr>\n",
       "    <tr>\n",
       "      <th>2</th>\n",
       "      <td>5</td>\n",
       "      <td>20</td>\n",
       "    </tr>\n",
       "  </tbody>\n",
       "</table>\n",
       "</div>"
      ],
      "text/plain": [
       "pneumonia  1   2\n",
       "sex             \n",
       "1          4  21\n",
       "2          5  20"
      ]
     },
     "execution_count": 25,
     "metadata": {},
     "output_type": "execute_result"
    }
   ],
   "source": [
    "pneumonia_bySex"
   ]
  },
  {
   "cell_type": "code",
   "execution_count": 26,
   "metadata": {},
   "outputs": [
    {
     "data": {
      "text/html": [
       "<div>\n",
       "<style scoped>\n",
       "    .dataframe tbody tr th:only-of-type {\n",
       "        vertical-align: middle;\n",
       "    }\n",
       "\n",
       "    .dataframe tbody tr th {\n",
       "        vertical-align: top;\n",
       "    }\n",
       "\n",
       "    .dataframe thead th {\n",
       "        text-align: right;\n",
       "    }\n",
       "</style>\n",
       "<table border=\"1\" class=\"dataframe\">\n",
       "  <thead>\n",
       "    <tr style=\"text-align: right;\">\n",
       "      <th>tobacco</th>\n",
       "      <th>1</th>\n",
       "      <th>2</th>\n",
       "    </tr>\n",
       "    <tr>\n",
       "      <th>sex</th>\n",
       "      <th></th>\n",
       "      <th></th>\n",
       "    </tr>\n",
       "  </thead>\n",
       "  <tbody>\n",
       "    <tr>\n",
       "      <th>1</th>\n",
       "      <td>4</td>\n",
       "      <td>21</td>\n",
       "    </tr>\n",
       "    <tr>\n",
       "      <th>2</th>\n",
       "      <td>1</td>\n",
       "      <td>24</td>\n",
       "    </tr>\n",
       "  </tbody>\n",
       "</table>\n",
       "</div>"
      ],
      "text/plain": [
       "tobacco  1   2\n",
       "sex           \n",
       "1        4  21\n",
       "2        1  24"
      ]
     },
     "execution_count": 26,
     "metadata": {},
     "output_type": "execute_result"
    }
   ],
   "source": [
    "tobacco_bySex"
   ]
  },
  {
   "cell_type": "code",
   "execution_count": 27,
   "metadata": {},
   "outputs": [
    {
     "data": {
      "text/html": [
       "<div>\n",
       "<style scoped>\n",
       "    .dataframe tbody tr th:only-of-type {\n",
       "        vertical-align: middle;\n",
       "    }\n",
       "\n",
       "    .dataframe tbody tr th {\n",
       "        vertical-align: top;\n",
       "    }\n",
       "\n",
       "    .dataframe thead th {\n",
       "        text-align: right;\n",
       "    }\n",
       "</style>\n",
       "<table border=\"1\" class=\"dataframe\">\n",
       "  <thead>\n",
       "    <tr style=\"text-align: right;\">\n",
       "      <th>asthma</th>\n",
       "      <th>2</th>\n",
       "    </tr>\n",
       "    <tr>\n",
       "      <th>sex</th>\n",
       "      <th></th>\n",
       "    </tr>\n",
       "  </thead>\n",
       "  <tbody>\n",
       "    <tr>\n",
       "      <th>1</th>\n",
       "      <td>25</td>\n",
       "    </tr>\n",
       "    <tr>\n",
       "      <th>2</th>\n",
       "      <td>25</td>\n",
       "    </tr>\n",
       "  </tbody>\n",
       "</table>\n",
       "</div>"
      ],
      "text/plain": [
       "asthma   2\n",
       "sex       \n",
       "1       25\n",
       "2       25"
      ]
     },
     "execution_count": 27,
     "metadata": {},
     "output_type": "execute_result"
    }
   ],
   "source": [
    "asthma_bySex"
   ]
  },
  {
   "cell_type": "code",
   "execution_count": 28,
   "metadata": {},
   "outputs": [
    {
     "data": {
      "text/html": [
       "<div>\n",
       "<style scoped>\n",
       "    .dataframe tbody tr th:only-of-type {\n",
       "        vertical-align: middle;\n",
       "    }\n",
       "\n",
       "    .dataframe tbody tr th {\n",
       "        vertical-align: top;\n",
       "    }\n",
       "\n",
       "    .dataframe thead th {\n",
       "        text-align: right;\n",
       "    }\n",
       "</style>\n",
       "<table border=\"1\" class=\"dataframe\">\n",
       "  <thead>\n",
       "    <tr style=\"text-align: right;\">\n",
       "      <th>pregnancy</th>\n",
       "      <th>2</th>\n",
       "      <th>97</th>\n",
       "    </tr>\n",
       "    <tr>\n",
       "      <th>sex</th>\n",
       "      <th></th>\n",
       "      <th></th>\n",
       "    </tr>\n",
       "  </thead>\n",
       "  <tbody>\n",
       "    <tr>\n",
       "      <th>1</th>\n",
       "      <td>25.0</td>\n",
       "      <td>NaN</td>\n",
       "    </tr>\n",
       "    <tr>\n",
       "      <th>2</th>\n",
       "      <td>NaN</td>\n",
       "      <td>25.0</td>\n",
       "    </tr>\n",
       "  </tbody>\n",
       "</table>\n",
       "</div>"
      ],
      "text/plain": [
       "pregnancy    2     97\n",
       "sex                  \n",
       "1          25.0   NaN\n",
       "2           NaN  25.0"
      ]
     },
     "execution_count": 28,
     "metadata": {},
     "output_type": "execute_result"
    }
   ],
   "source": [
    "pregnancy_bySex"
   ]
  },
  {
   "cell_type": "markdown",
   "metadata": {},
   "source": [
    "# 3.3.2. Inspecting categorical variables using bivariable relatioships with ICU (Intensive Care Medical Unit) reference"
   ]
  },
  {
   "cell_type": "code",
   "execution_count": 29,
   "metadata": {},
   "outputs": [
    {
     "data": {
      "text/plain": [
       "<matplotlib.axes._subplots.AxesSubplot at 0x1dc3fd95b08>"
      ]
     },
     "execution_count": 29,
     "metadata": {},
     "output_type": "execute_result"
    },
    {
     "data": {
      "image/png": "[encoded data removed]",
      "text/plain": [
       "<Figure size 1080x720 with 4 Axes>"
      ]
     },
     "metadata": {
      "needs_background": "light"
     },
     "output_type": "display_data"
    }
   ],
   "source": [
    "fig, axs = plt.subplots(2,2)\n",
    "\n",
    "cardiovascular_bySex= dataModel.pivot_table(index='sex', columns='cardiovascular', values='icu', aggfunc='count')\n",
    "pneumonia_bySex.plot(kind='barh', stacked=True, figsize=[15,10], colormap='Dark2_r',ax=axs[0,0])\n",
    "\n",
    "hypertension_bySex= dataModel.pivot_table(index='sex', columns='hypertension', values='icu', aggfunc='count')\n",
    "hypertension_bySex.plot(kind='barh', stacked=True, figsize=[15,10], colormap='Dark2_r',ax=axs[0,1])\n",
    "\n",
    "obesity_bySex= dataModel.pivot_table(index='sex', columns='obesity', values='icu', aggfunc='count')\n",
    "obesity_bySex.plot(kind='barh', stacked=True, figsize=[15,10], colormap='Dark2_r',ax=axs[1,0])\n",
    "\n",
    "covid_res_bySex= dataModel.pivot_table(index='sex', columns='covid_res', values='icu', aggfunc='count')\n",
    "covid_res_bySex.plot(kind='barh', stacked=True, figsize=[15,10], colormap='Dark2_r',ax=axs[1,1])\n"
   ]
  },
  {
   "cell_type": "code",
   "execution_count": 30,
   "metadata": {},
   "outputs": [
    {
     "data": {
      "text/html": [
       "<div>\n",
       "<style scoped>\n",
       "    .dataframe tbody tr th:only-of-type {\n",
       "        vertical-align: middle;\n",
       "    }\n",
       "\n",
       "    .dataframe tbody tr th {\n",
       "        vertical-align: top;\n",
       "    }\n",
       "\n",
       "    .dataframe thead th {\n",
       "        text-align: right;\n",
       "    }\n",
       "</style>\n",
       "<table border=\"1\" class=\"dataframe\">\n",
       "  <thead>\n",
       "    <tr style=\"text-align: right;\">\n",
       "      <th>cardiovascular</th>\n",
       "      <th>1</th>\n",
       "      <th>2</th>\n",
       "    </tr>\n",
       "    <tr>\n",
       "      <th>sex</th>\n",
       "      <th></th>\n",
       "      <th></th>\n",
       "    </tr>\n",
       "  </thead>\n",
       "  <tbody>\n",
       "    <tr>\n",
       "      <th>1</th>\n",
       "      <td>2.0</td>\n",
       "      <td>23.0</td>\n",
       "    </tr>\n",
       "    <tr>\n",
       "      <th>2</th>\n",
       "      <td>NaN</td>\n",
       "      <td>25.0</td>\n",
       "    </tr>\n",
       "  </tbody>\n",
       "</table>\n",
       "</div>"
      ],
      "text/plain": [
       "cardiovascular    1     2\n",
       "sex                      \n",
       "1               2.0  23.0\n",
       "2               NaN  25.0"
      ]
     },
     "execution_count": 30,
     "metadata": {},
     "output_type": "execute_result"
    }
   ],
   "source": [
    "cardiovascular_bySex"
   ]
  },
  {
   "cell_type": "code",
   "execution_count": 31,
   "metadata": {},
   "outputs": [
    {
     "data": {
      "text/html": [
       "<div>\n",
       "<style scoped>\n",
       "    .dataframe tbody tr th:only-of-type {\n",
       "        vertical-align: middle;\n",
       "    }\n",
       "\n",
       "    .dataframe tbody tr th {\n",
       "        vertical-align: top;\n",
       "    }\n",
       "\n",
       "    .dataframe thead th {\n",
       "        text-align: right;\n",
       "    }\n",
       "</style>\n",
       "<table border=\"1\" class=\"dataframe\">\n",
       "  <thead>\n",
       "    <tr style=\"text-align: right;\">\n",
       "      <th>hypertension</th>\n",
       "      <th>1</th>\n",
       "      <th>2</th>\n",
       "    </tr>\n",
       "    <tr>\n",
       "      <th>sex</th>\n",
       "      <th></th>\n",
       "      <th></th>\n",
       "    </tr>\n",
       "  </thead>\n",
       "  <tbody>\n",
       "    <tr>\n",
       "      <th>1</th>\n",
       "      <td>5</td>\n",
       "      <td>20</td>\n",
       "    </tr>\n",
       "    <tr>\n",
       "      <th>2</th>\n",
       "      <td>4</td>\n",
       "      <td>21</td>\n",
       "    </tr>\n",
       "  </tbody>\n",
       "</table>\n",
       "</div>"
      ],
      "text/plain": [
       "hypertension  1   2\n",
       "sex                \n",
       "1             5  20\n",
       "2             4  21"
      ]
     },
     "execution_count": 31,
     "metadata": {},
     "output_type": "execute_result"
    }
   ],
   "source": [
    "hypertension_bySex"
   ]
  },
  {
   "cell_type": "code",
   "execution_count": 32,
   "metadata": {},
   "outputs": [
    {
     "data": {
      "text/html": [
       "<div>\n",
       "<style scoped>\n",
       "    .dataframe tbody tr th:only-of-type {\n",
       "        vertical-align: middle;\n",
       "    }\n",
       "\n",
       "    .dataframe tbody tr th {\n",
       "        vertical-align: top;\n",
       "    }\n",
       "\n",
       "    .dataframe thead th {\n",
       "        text-align: right;\n",
       "    }\n",
       "</style>\n",
       "<table border=\"1\" class=\"dataframe\">\n",
       "  <thead>\n",
       "    <tr style=\"text-align: right;\">\n",
       "      <th>obesity</th>\n",
       "      <th>1</th>\n",
       "      <th>2</th>\n",
       "    </tr>\n",
       "    <tr>\n",
       "      <th>sex</th>\n",
       "      <th></th>\n",
       "      <th></th>\n",
       "    </tr>\n",
       "  </thead>\n",
       "  <tbody>\n",
       "    <tr>\n",
       "      <th>1</th>\n",
       "      <td>4</td>\n",
       "      <td>21</td>\n",
       "    </tr>\n",
       "    <tr>\n",
       "      <th>2</th>\n",
       "      <td>2</td>\n",
       "      <td>23</td>\n",
       "    </tr>\n",
       "  </tbody>\n",
       "</table>\n",
       "</div>"
      ],
      "text/plain": [
       "obesity  1   2\n",
       "sex           \n",
       "1        4  21\n",
       "2        2  23"
      ]
     },
     "execution_count": 32,
     "metadata": {},
     "output_type": "execute_result"
    }
   ],
   "source": [
    "obesity_bySex"
   ]
  },
  {
   "cell_type": "code",
   "execution_count": 33,
   "metadata": {},
   "outputs": [
    {
     "data": {
      "text/html": [
       "<div>\n",
       "<style scoped>\n",
       "    .dataframe tbody tr th:only-of-type {\n",
       "        vertical-align: middle;\n",
       "    }\n",
       "\n",
       "    .dataframe tbody tr th {\n",
       "        vertical-align: top;\n",
       "    }\n",
       "\n",
       "    .dataframe thead th {\n",
       "        text-align: right;\n",
       "    }\n",
       "</style>\n",
       "<table border=\"1\" class=\"dataframe\">\n",
       "  <thead>\n",
       "    <tr style=\"text-align: right;\">\n",
       "      <th>covid_res</th>\n",
       "      <th>1</th>\n",
       "    </tr>\n",
       "    <tr>\n",
       "      <th>sex</th>\n",
       "      <th></th>\n",
       "    </tr>\n",
       "  </thead>\n",
       "  <tbody>\n",
       "    <tr>\n",
       "      <th>1</th>\n",
       "      <td>25</td>\n",
       "    </tr>\n",
       "    <tr>\n",
       "      <th>2</th>\n",
       "      <td>25</td>\n",
       "    </tr>\n",
       "  </tbody>\n",
       "</table>\n",
       "</div>"
      ],
      "text/plain": [
       "covid_res   1\n",
       "sex          \n",
       "1          25\n",
       "2          25"
      ]
     },
     "execution_count": 33,
     "metadata": {},
     "output_type": "execute_result"
    }
   ],
   "source": [
    "covid_res_bySex"
   ]
  },
  {
   "cell_type": "markdown",
   "metadata": {},
   "source": [
    "## Inspecting relationship between categorical variables - Diseases vs ICU assignation - Overview respiratory diseases"
   ]
  },
  {
   "cell_type": "code",
   "execution_count": 34,
   "metadata": {},
   "outputs": [
    {
     "data": {
      "image/png": "[encoded data removed]",
      "text/plain": [
       "<Figure size 1080x720 with 4 Axes>"
      ]
     },
     "metadata": {
      "needs_background": "light"
     },
     "output_type": "display_data"
    }
   ],
   "source": [
    "fig, axs = plt.subplots(2,2)\n",
    "pneumonia_byICU = pd.crosstab(index=dataModel['icu'],\n",
    "            columns=dataModel['pneumonia'], \n",
    "            margins=True)\n",
    "pneumonia_byICU.plot(kind='bar',ax=axs[0,0], figsize=[15,10])\n",
    "plt.grid(color='gray', linestyle='--', linewidth=1)\n",
    "#plt.ylabel(\"Frequency\")\n",
    "#plt.title('Relationship between Asthma diagnostic and ICU assignation COVID')\n",
    "asthma_byICU = pd.crosstab(index=dataModel['icu'],\n",
    "            columns=dataModel['asthma'], \n",
    "            margins=True)\n",
    "asthma_byICU.plot(kind='bar',ax=axs[0,1])\n",
    "plt.grid(color='gray', linestyle='--', linewidth=1)\n",
    "#plt.ylabel(\"Frequency\")\n",
    "#plt.title('Relationship between Tobacco diagnostic and ICU assignation COVID')\n",
    "tobacco_byICU = pd.crosstab(index=dataModel['icu'],\n",
    "            columns=dataModel['tobacco'], \n",
    "            margins=True)\n",
    "tobacco_byICU.plot(kind='bar',ax=axs[1,0])\n",
    "plt.grid(color='gray', linestyle='--', linewidth=1)\n",
    "#plt.ylabel(\"Frequency\")\n",
    "#plt.title('Relationship between Pregnancy diagnostic and ICU assignation COVID')\n",
    "pregnancy_byICU = pd.crosstab(index=dataModel['icu'],\n",
    "            columns=dataModel['pregnancy'], \n",
    "            margins=True)\n",
    "pregnancy_byICU.plot(kind='bar',ax=axs[1,1])\n",
    "plt.grid(color='gray', linestyle='--', linewidth=1)\n",
    "#plt.ylabel(\"Frequency\")\n",
    "#plt.title('Relationship between Pneumonia diagnostic and ICU assignation COVID')\n"
   ]
  },
  {
   "cell_type": "code",
   "execution_count": 35,
   "metadata": {},
   "outputs": [
    {
     "data": {
      "text/html": [
       "<div>\n",
       "<style scoped>\n",
       "    .dataframe tbody tr th:only-of-type {\n",
       "        vertical-align: middle;\n",
       "    }\n",
       "\n",
       "    .dataframe tbody tr th {\n",
       "        vertical-align: top;\n",
       "    }\n",
       "\n",
       "    .dataframe thead th {\n",
       "        text-align: right;\n",
       "    }\n",
       "</style>\n",
       "<table border=\"1\" class=\"dataframe\">\n",
       "  <thead>\n",
       "    <tr style=\"text-align: right;\">\n",
       "      <th>pneumonia</th>\n",
       "      <th>1</th>\n",
       "      <th>2</th>\n",
       "      <th>All</th>\n",
       "    </tr>\n",
       "    <tr>\n",
       "      <th>icu</th>\n",
       "      <th></th>\n",
       "      <th></th>\n",
       "      <th></th>\n",
       "    </tr>\n",
       "  </thead>\n",
       "  <tbody>\n",
       "    <tr>\n",
       "      <th>1</th>\n",
       "      <td>1</td>\n",
       "      <td>0</td>\n",
       "      <td>1</td>\n",
       "    </tr>\n",
       "    <tr>\n",
       "      <th>2</th>\n",
       "      <td>6</td>\n",
       "      <td>14</td>\n",
       "      <td>20</td>\n",
       "    </tr>\n",
       "    <tr>\n",
       "      <th>97</th>\n",
       "      <td>2</td>\n",
       "      <td>27</td>\n",
       "      <td>29</td>\n",
       "    </tr>\n",
       "    <tr>\n",
       "      <th>All</th>\n",
       "      <td>9</td>\n",
       "      <td>41</td>\n",
       "      <td>50</td>\n",
       "    </tr>\n",
       "  </tbody>\n",
       "</table>\n",
       "</div>"
      ],
      "text/plain": [
       "pneumonia  1   2  All\n",
       "icu                  \n",
       "1          1   0    1\n",
       "2          6  14   20\n",
       "97         2  27   29\n",
       "All        9  41   50"
      ]
     },
     "execution_count": 35,
     "metadata": {},
     "output_type": "execute_result"
    }
   ],
   "source": [
    "pneumonia_byICU"
   ]
  },
  {
   "cell_type": "code",
   "execution_count": 36,
   "metadata": {},
   "outputs": [
    {
     "data": {
      "text/html": [
       "<div>\n",
       "<style scoped>\n",
       "    .dataframe tbody tr th:only-of-type {\n",
       "        vertical-align: middle;\n",
       "    }\n",
       "\n",
       "    .dataframe tbody tr th {\n",
       "        vertical-align: top;\n",
       "    }\n",
       "\n",
       "    .dataframe thead th {\n",
       "        text-align: right;\n",
       "    }\n",
       "</style>\n",
       "<table border=\"1\" class=\"dataframe\">\n",
       "  <thead>\n",
       "    <tr style=\"text-align: right;\">\n",
       "      <th>asthma</th>\n",
       "      <th>2</th>\n",
       "      <th>All</th>\n",
       "    </tr>\n",
       "    <tr>\n",
       "      <th>icu</th>\n",
       "      <th></th>\n",
       "      <th></th>\n",
       "    </tr>\n",
       "  </thead>\n",
       "  <tbody>\n",
       "    <tr>\n",
       "      <th>1</th>\n",
       "      <td>1</td>\n",
       "      <td>1</td>\n",
       "    </tr>\n",
       "    <tr>\n",
       "      <th>2</th>\n",
       "      <td>20</td>\n",
       "      <td>20</td>\n",
       "    </tr>\n",
       "    <tr>\n",
       "      <th>97</th>\n",
       "      <td>29</td>\n",
       "      <td>29</td>\n",
       "    </tr>\n",
       "    <tr>\n",
       "      <th>All</th>\n",
       "      <td>50</td>\n",
       "      <td>50</td>\n",
       "    </tr>\n",
       "  </tbody>\n",
       "</table>\n",
       "</div>"
      ],
      "text/plain": [
       "asthma   2  All\n",
       "icu            \n",
       "1        1    1\n",
       "2       20   20\n",
       "97      29   29\n",
       "All     50   50"
      ]
     },
     "execution_count": 36,
     "metadata": {},
     "output_type": "execute_result"
    }
   ],
   "source": [
    "asthma_byICU"
   ]
  },
  {
   "cell_type": "code",
   "execution_count": 37,
   "metadata": {},
   "outputs": [
    {
     "data": {
      "text/html": [
       "<div>\n",
       "<style scoped>\n",
       "    .dataframe tbody tr th:only-of-type {\n",
       "        vertical-align: middle;\n",
       "    }\n",
       "\n",
       "    .dataframe tbody tr th {\n",
       "        vertical-align: top;\n",
       "    }\n",
       "\n",
       "    .dataframe thead th {\n",
       "        text-align: right;\n",
       "    }\n",
       "</style>\n",
       "<table border=\"1\" class=\"dataframe\">\n",
       "  <thead>\n",
       "    <tr style=\"text-align: right;\">\n",
       "      <th>tobacco</th>\n",
       "      <th>1</th>\n",
       "      <th>2</th>\n",
       "      <th>All</th>\n",
       "    </tr>\n",
       "    <tr>\n",
       "      <th>icu</th>\n",
       "      <th></th>\n",
       "      <th></th>\n",
       "      <th></th>\n",
       "    </tr>\n",
       "  </thead>\n",
       "  <tbody>\n",
       "    <tr>\n",
       "      <th>1</th>\n",
       "      <td>0</td>\n",
       "      <td>1</td>\n",
       "      <td>1</td>\n",
       "    </tr>\n",
       "    <tr>\n",
       "      <th>2</th>\n",
       "      <td>3</td>\n",
       "      <td>17</td>\n",
       "      <td>20</td>\n",
       "    </tr>\n",
       "    <tr>\n",
       "      <th>97</th>\n",
       "      <td>2</td>\n",
       "      <td>27</td>\n",
       "      <td>29</td>\n",
       "    </tr>\n",
       "    <tr>\n",
       "      <th>All</th>\n",
       "      <td>5</td>\n",
       "      <td>45</td>\n",
       "      <td>50</td>\n",
       "    </tr>\n",
       "  </tbody>\n",
       "</table>\n",
       "</div>"
      ],
      "text/plain": [
       "tobacco  1   2  All\n",
       "icu                \n",
       "1        0   1    1\n",
       "2        3  17   20\n",
       "97       2  27   29\n",
       "All      5  45   50"
      ]
     },
     "execution_count": 37,
     "metadata": {},
     "output_type": "execute_result"
    }
   ],
   "source": [
    "tobacco_byICU"
   ]
  },
  {
   "cell_type": "code",
   "execution_count": 38,
   "metadata": {},
   "outputs": [
    {
     "data": {
      "text/html": [
       "<div>\n",
       "<style scoped>\n",
       "    .dataframe tbody tr th:only-of-type {\n",
       "        vertical-align: middle;\n",
       "    }\n",
       "\n",
       "    .dataframe tbody tr th {\n",
       "        vertical-align: top;\n",
       "    }\n",
       "\n",
       "    .dataframe thead th {\n",
       "        text-align: right;\n",
       "    }\n",
       "</style>\n",
       "<table border=\"1\" class=\"dataframe\">\n",
       "  <thead>\n",
       "    <tr style=\"text-align: right;\">\n",
       "      <th>pregnancy</th>\n",
       "      <th>2</th>\n",
       "      <th>97</th>\n",
       "      <th>All</th>\n",
       "    </tr>\n",
       "    <tr>\n",
       "      <th>icu</th>\n",
       "      <th></th>\n",
       "      <th></th>\n",
       "      <th></th>\n",
       "    </tr>\n",
       "  </thead>\n",
       "  <tbody>\n",
       "    <tr>\n",
       "      <th>1</th>\n",
       "      <td>0</td>\n",
       "      <td>1</td>\n",
       "      <td>1</td>\n",
       "    </tr>\n",
       "    <tr>\n",
       "      <th>2</th>\n",
       "      <td>9</td>\n",
       "      <td>11</td>\n",
       "      <td>20</td>\n",
       "    </tr>\n",
       "    <tr>\n",
       "      <th>97</th>\n",
       "      <td>16</td>\n",
       "      <td>13</td>\n",
       "      <td>29</td>\n",
       "    </tr>\n",
       "    <tr>\n",
       "      <th>All</th>\n",
       "      <td>25</td>\n",
       "      <td>25</td>\n",
       "      <td>50</td>\n",
       "    </tr>\n",
       "  </tbody>\n",
       "</table>\n",
       "</div>"
      ],
      "text/plain": [
       "pregnancy   2  97  All\n",
       "icu                   \n",
       "1           0   1    1\n",
       "2           9  11   20\n",
       "97         16  13   29\n",
       "All        25  25   50"
      ]
     },
     "execution_count": 38,
     "metadata": {},
     "output_type": "execute_result"
    }
   ],
   "source": [
    "pregnancy_byICU"
   ]
  },
  {
   "cell_type": "markdown",
   "metadata": {},
   "source": [
    "## Inspecting relationship between diseases and ICU assignation - Overview General diseases"
   ]
  },
  {
   "cell_type": "code",
   "execution_count": 39,
   "metadata": {},
   "outputs": [
    {
     "data": {
      "image/png": "[encoded data removed]",
      "text/plain": [
       "<Figure size 1080x720 with 4 Axes>"
      ]
     },
     "metadata": {
      "needs_background": "light"
     },
     "output_type": "display_data"
    }
   ],
   "source": [
    "fig, axs = plt.subplots(2,2)\n",
    "cardiovascular_byICU = pd.crosstab(index=dataModel['icu'],\n",
    "            columns=dataOriginal['cardiovascular'], \n",
    "            margins=True)\n",
    "cardiovascular_byICU.plot(kind='bar',ax=axs[0,0], figsize=[15,10])\n",
    "plt.grid(color='gray', linestyle='--', linewidth=1)\n",
    "#plt.ylabel(\"Frequency\")\n",
    "#plt.title('Relationship between Asthma diagnostic and ICU assignation COVID')\n",
    "hypertension_byICU = pd.crosstab(index=dataModel['icu'],\n",
    "            columns=dataOriginal['hypertension'], \n",
    "            margins=True)\n",
    "asthma_byICU.plot(kind='bar',ax=axs[0,1])\n",
    "plt.grid(color='gray', linestyle='--', linewidth=1)\n",
    "#plt.ylabel(\"Frequency\")\n",
    "#plt.title('Relationship between Tobacco diagnostic and ICU assignation COVID')\n",
    "obesity_byICU = pd.crosstab(index=dataModel['icu'],\n",
    "            columns=dataOriginal['obesity'], \n",
    "            margins=True)\n",
    "obesity_byICU.plot(kind='bar',ax=axs[1,0])\n",
    "plt.grid(color='gray', linestyle='--', linewidth=1)\n",
    "#plt.ylabel(\"Frequency\")\n",
    "#plt.title('Relationship between Pregnancy diagnostic and ICU assignation COVID')\n",
    "obesity_byICU = pd.crosstab(index=dataModel['icu'],\n",
    "            columns=dataOriginal['obesity'], \n",
    "            margins=True)\n",
    "obesity_byICU.plot(kind='bar',ax=axs[1,1])\n",
    "plt.grid(color='gray', linestyle='--', linewidth=1)\n",
    "#plt.ylabel(\"Frequency\")\n",
    "#plt.title('Relationship between Pneumonia diagnostic and ICU assignation COVID')\n"
   ]
  },
  {
   "cell_type": "markdown",
   "metadata": {},
   "source": [
    "# 3.3.  Analysis variable quantitative vs qualitative"
   ]
  },
  {
   "cell_type": "code",
   "execution_count": 40,
   "metadata": {},
   "outputs": [
    {
     "data": {
      "text/plain": [
       "<seaborn.axisgrid.FacetGrid at 0x1dc4203c888>"
      ]
     },
     "execution_count": 40,
     "metadata": {},
     "output_type": "execute_result"
    },
    {
     "data": {
      "image/png": "[encoded data removed]",
      "text/plain": [
       "<Figure size 360x360 with 1 Axes>"
      ]
     },
     "metadata": {
      "needs_background": "light"
     },
     "output_type": "display_data"
    }
   ],
   "source": [
    "sns.catplot(x=\"icu\", y=\"age\", kind=\"box\", data=dataModel)"
   ]
  },
  {
   "cell_type": "markdown",
   "metadata": {},
   "source": [
    "# 4.  Classes identification"
   ]
  },
  {
   "cell_type": "code",
   "execution_count": 41,
   "metadata": {},
   "outputs": [
    {
     "data": {
      "image/png": "[encoded data removed]",
      "text/plain": [
       "<Figure size 576x216 with 1 Axes>"
      ]
     },
     "metadata": {
      "needs_background": "light"
     },
     "output_type": "display_data"
    }
   ],
   "source": [
    "targetOriginal = dataModel['icu']\n",
    "E1 = targetOriginal.value_counts()\n",
    "E1.plot(kind = 'bar',\n",
    "           stacked = 'True',          # Muestra las barras apiladas\n",
    "           alpha = 0.4,               # nivel de transparencia\n",
    "           width = 0.9,               # Grosor de las barras para dejar espacio entre ellas\n",
    "           figsize=(8,3));\n",
    "\n",
    "plt.grid(color='gray', linestyle='--', linewidth=1)\n",
    "plt.title('Histogram of ICU variable')\n",
    "plt.xlabel(\"Result Type\")\n",
    "plt.ylabel(\"Frequency\")\n",
    "plt.show()\n",
    "\n"
   ]
  },
  {
   "cell_type": "code",
   "execution_count": 42,
   "metadata": {},
   "outputs": [
    {
     "data": {
      "text/html": [
       "<div>\n",
       "<style scoped>\n",
       "    .dataframe tbody tr th:only-of-type {\n",
       "        vertical-align: middle;\n",
       "    }\n",
       "\n",
       "    .dataframe tbody tr th {\n",
       "        vertical-align: top;\n",
       "    }\n",
       "\n",
       "    .dataframe thead th {\n",
       "        text-align: right;\n",
       "    }\n",
       "</style>\n",
       "<table border=\"1\" class=\"dataframe\">\n",
       "  <thead>\n",
       "    <tr style=\"text-align: right;\">\n",
       "      <th></th>\n",
       "      <th>CLAVE</th>\n",
       "      <th>DESCRIPCIÓN</th>\n",
       "    </tr>\n",
       "  </thead>\n",
       "  <tbody>\n",
       "    <tr>\n",
       "      <th>0</th>\n",
       "      <td>1</td>\n",
       "      <td>SI</td>\n",
       "    </tr>\n",
       "    <tr>\n",
       "      <th>1</th>\n",
       "      <td>2</td>\n",
       "      <td>NO</td>\n",
       "    </tr>\n",
       "    <tr>\n",
       "      <th>2</th>\n",
       "      <td>97</td>\n",
       "      <td>NO APLICA</td>\n",
       "    </tr>\n",
       "    <tr>\n",
       "      <th>3</th>\n",
       "      <td>98</td>\n",
       "      <td>SE IGNORA</td>\n",
       "    </tr>\n",
       "    <tr>\n",
       "      <th>4</th>\n",
       "      <td>99</td>\n",
       "      <td>NO ESPECIFICADO</td>\n",
       "    </tr>\n",
       "  </tbody>\n",
       "</table>\n",
       "</div>"
      ],
      "text/plain": [
       "   CLAVE      DESCRIPCIÓN\n",
       "0      1              SI \n",
       "1      2              NO \n",
       "2     97        NO APLICA\n",
       "3     98        SE IGNORA\n",
       "4     99  NO ESPECIFICADO"
      ]
     },
     "execution_count": 42,
     "metadata": {},
     "output_type": "execute_result"
    }
   ],
   "source": [
    "cat_si_no"
   ]
  },
  {
   "cell_type": "code",
   "execution_count": 43,
   "metadata": {},
   "outputs": [
    {
     "data": {
      "text/plain": [
       "97    29\n",
       "2     20\n",
       "1      1\n",
       "Name: icu, dtype: int64"
      ]
     },
     "execution_count": 43,
     "metadata": {},
     "output_type": "execute_result"
    }
   ],
   "source": [
    "E1"
   ]
  },
  {
   "cell_type": "markdown",
   "metadata": {},
   "source": [
    "## 3.2. Check the distribution or instances of any class"
   ]
  },
  {
   "cell_type": "code",
   "execution_count": 44,
   "metadata": {},
   "outputs": [
    {
     "data": {
      "text/html": [
       "<div>\n",
       "<style scoped>\n",
       "    .dataframe tbody tr th:only-of-type {\n",
       "        vertical-align: middle;\n",
       "    }\n",
       "\n",
       "    .dataframe tbody tr th {\n",
       "        vertical-align: top;\n",
       "    }\n",
       "\n",
       "    .dataframe thead th {\n",
       "        text-align: right;\n",
       "    }\n",
       "</style>\n",
       "<table border=\"1\" class=\"dataframe\">\n",
       "  <thead>\n",
       "    <tr style=\"text-align: right;\">\n",
       "      <th></th>\n",
       "      <th>icu</th>\n",
       "    </tr>\n",
       "  </thead>\n",
       "  <tbody>\n",
       "    <tr>\n",
       "      <th>97</th>\n",
       "      <td>29</td>\n",
       "    </tr>\n",
       "    <tr>\n",
       "      <th>2</th>\n",
       "      <td>20</td>\n",
       "    </tr>\n",
       "    <tr>\n",
       "      <th>1</th>\n",
       "      <td>1</td>\n",
       "    </tr>\n",
       "  </tbody>\n",
       "</table>\n",
       "</div>"
      ],
      "text/plain": [
       "    icu\n",
       "97   29\n",
       "2    20\n",
       "1     1"
      ]
     },
     "execution_count": 44,
     "metadata": {},
     "output_type": "execute_result"
    }
   ],
   "source": [
    "pd.DataFrame(targetOriginal.value_counts())"
   ]
  },
  {
   "cell_type": "code",
   "execution_count": 45,
   "metadata": {},
   "outputs": [
    {
     "data": {
      "text/html": [
       "<div>\n",
       "<style scoped>\n",
       "    .dataframe tbody tr th:only-of-type {\n",
       "        vertical-align: middle;\n",
       "    }\n",
       "\n",
       "    .dataframe tbody tr th {\n",
       "        vertical-align: top;\n",
       "    }\n",
       "\n",
       "    .dataframe thead th {\n",
       "        text-align: right;\n",
       "    }\n",
       "</style>\n",
       "<table border=\"1\" class=\"dataframe\">\n",
       "  <thead>\n",
       "    <tr style=\"text-align: right;\">\n",
       "      <th></th>\n",
       "      <th>icu</th>\n",
       "    </tr>\n",
       "  </thead>\n",
       "  <tbody>\n",
       "    <tr>\n",
       "      <th>97</th>\n",
       "      <td>58.0</td>\n",
       "    </tr>\n",
       "    <tr>\n",
       "      <th>2</th>\n",
       "      <td>40.0</td>\n",
       "    </tr>\n",
       "    <tr>\n",
       "      <th>1</th>\n",
       "      <td>2.0</td>\n",
       "    </tr>\n",
       "  </tbody>\n",
       "</table>\n",
       "</div>"
      ],
      "text/plain": [
       "     icu\n",
       "97  58.0\n",
       "2   40.0\n",
       "1    2.0"
      ]
     },
     "execution_count": 45,
     "metadata": {},
     "output_type": "execute_result"
    }
   ],
   "source": [
    "pd.DataFrame(targetOriginal.value_counts(normalize=True) * 100)"
   ]
  },
  {
   "cell_type": "code",
   "execution_count": 46,
   "metadata": {},
   "outputs": [
    {
     "data": {
      "image/png": "[encoded data removed]",
      "text/plain": [
       "<Figure size 432x432 with 1 Axes>"
      ]
     },
     "metadata": {},
     "output_type": "display_data"
    }
   ],
   "source": [
    "E2 = targetOriginal.value_counts(normalize=True)\n",
    "E2.plot.pie(subplots=True, figsize = (6,6), autopct = '%1.1f%%', startangle = 90)\n",
    "plt.title('Histogram of ICU results')\n",
    "plt.legend(E2.index, loc = 'upper left', fontsize = 10)\n",
    "plt.show() #ok\n"
   ]
  },
  {
   "cell_type": "markdown",
   "metadata": {},
   "source": [
    "#?? Sur tout les data ou seulement sur les donnes ou ilya ICU??"
   ]
  },
  {
   "cell_type": "markdown",
   "metadata": {},
   "source": [
    "# <font color=blue>4.  IMPUTATION AND DETECTION OF NULL AND ODD VALUES.</font>"
   ]
  },
  {
   "cell_type": "markdown",
   "metadata": {},
   "source": [
    "## Check for null values in the dataset"
   ]
  },
  {
   "cell_type": "code",
   "execution_count": 47,
   "metadata": {},
   "outputs": [
    {
     "data": {
      "text/plain": [
       "0"
      ]
     },
     "execution_count": 47,
     "metadata": {},
     "output_type": "execute_result"
    }
   ],
   "source": [
    "dataModel.isnull().values.sum()"
   ]
  },
  {
   "cell_type": "code",
   "execution_count": 48,
   "metadata": {},
   "outputs": [
    {
     "data": {
      "text/plain": [
       "0"
      ]
     },
     "execution_count": 48,
     "metadata": {},
     "output_type": "execute_result"
    }
   ],
   "source": [
    "dataModel.isnull().values.sum()"
   ]
  },
  {
   "cell_type": "markdown",
   "metadata": {},
   "source": [
    "# <font color=blue> 5.  CORRELATION ANALYSIS</font>"
   ]
  },
  {
   "cell_type": "markdown",
   "metadata": {},
   "source": [
    "## 5.1 Correlation Matrix"
   ]
  },
  {
   "cell_type": "raw",
   "metadata": {},
   "source": [
    "All the maladies are really corelated, for example:\n",
    "\n",
    "- Renal_chronic vs Tobacco\n",
    "- Asthma et tobaccon are highly corelated to all diseases.\n",
    "\n",
    "#The default correlation Algorithme user is Pearson, which its not appropiate for categorical \n",
    "#variables but its interesting to see  its able to detect  dependent variables detected with Chi-squared too."
   ]
  },
  {
   "cell_type": "markdown",
   "metadata": {},
   "source": [
    "# <font color=\"blue\">6.  VARIABLE REDUCTION</font>\n",
    "\n",
    "https://machinelearningmastery.com/feature-selection-with-real-and-categorical-data/\n",
    "\n",
    "<font color=\"red\"> Jai essaie Variance Tresholding, normalisation et standarisation, mais ca marche pas pour notre cas.<font>\n"
   ]
  },
  {
   "cell_type": "raw",
   "metadata": {},
   "source": [
    "the degree of association between predictor and outcome can be measured with statistics such as X2 (chi-squared) tests."
   ]
  },
  {
   "cell_type": "markdown",
   "metadata": {},
   "source": [
    "# 6.2.  Chi-Squared Feature Selection"
   ]
  },
  {
   "cell_type": "markdown",
   "metadata": {},
   "source": [
    "Pearson’s chi-squared statistical hypothesis test is an example of a test for independence between categorical variables\n",
    "\n",
    "The degree of association between predictor and outcome can be measured with statistics such as X2 (chi-squared) tests.\n"
   ]
  },
  {
   "cell_type": "markdown",
   "metadata": {},
   "source": [
    "1.Define Hypothesis\n",
    "Null Hypothesis (H0): Two variables are independent.\n",
    "Alternate Hypothesis (H1): Two variables are not independent."
   ]
  },
  {
   "cell_type": "raw",
   "metadata": {},
   "source": [
    "https://towardsdatascience.com/the-search-for-categorical-correlation-a1cf7f1888c9\n",
    "https://towardsdatascience.com/categorical-feature-selection-via-chi-square-fc558b09de43\n",
    "https://towardsdatascience.com/feature-selection-with-pandas-e3690ad8504b\n",
    "https://towardsdatascience.com/the-search-for-categorical-correlation-a1cf7f1888c9\n"
   ]
  },
  {
   "cell_type": "code",
   "execution_count": 49,
   "metadata": {},
   "outputs": [
    {
     "data": {
      "text/plain": [
       "0.0"
      ]
     },
     "execution_count": 49,
     "metadata": {},
     "output_type": "execute_result"
    }
   ],
   "source": [
    "import scipy.stats as ss #import chi2_contingency\n",
    "\n",
    "\n",
    "def cramers_v(x, y):\n",
    "    confusion_matrix = pd.crosstab(x,y)\n",
    "    chi2 = ss.chi2_contingency(confusion_matrix)[0]\n",
    "    n = confusion_matrix.sum().sum()\n",
    "    phi2 = chi2/n\n",
    "    r,k = confusion_matrix.shape\n",
    "    phi2corr = max(0, phi2-((k-1)*(r-1))/(n-1))\n",
    "    rcorr = r-((r-1)**2)/(n-1)\n",
    "    kcorr = k-((k-1)**2)/(n-1)\n",
    "    return round(np.sqrt(phi2corr/min((kcorr-1),(rcorr-1))),3)\n",
    "\n",
    "\n",
    "cramers_v(dataModel['pneumonia'], dataModel['sex'])\n"
   ]
  },
  {
   "cell_type": "code",
   "execution_count": 50,
   "metadata": {},
   "outputs": [
    {
     "data": {
      "text/plain": [
       "0.0"
      ]
     },
     "execution_count": 50,
     "metadata": {},
     "output_type": "execute_result"
    }
   ],
   "source": [
    "\n",
    "cramers_v(dataModel['hypertension'], dataModel['obesity'])"
   ]
  },
  {
   "cell_type": "code",
   "execution_count": 51,
   "metadata": {},
   "outputs": [
    {
     "name": "stderr",
     "output_type": "stream",
     "text": [
      "C:\\Users\\valm044\\Anaconda3\\lib\\site-packages\\ipykernel_launcher.py:13: RuntimeWarning: invalid value encountered in double_scalars\n",
      "  del sys.path[0]\n"
     ]
    },
    {
     "data": {
      "text/html": [
       "<div>\n",
       "<style scoped>\n",
       "    .dataframe tbody tr th:only-of-type {\n",
       "        vertical-align: middle;\n",
       "    }\n",
       "\n",
       "    .dataframe tbody tr th {\n",
       "        vertical-align: top;\n",
       "    }\n",
       "\n",
       "    .dataframe thead th {\n",
       "        text-align: right;\n",
       "    }\n",
       "</style>\n",
       "<table border=\"1\" class=\"dataframe\">\n",
       "  <thead>\n",
       "    <tr style=\"text-align: right;\">\n",
       "      <th></th>\n",
       "      <th>sex</th>\n",
       "      <th>patient_type</th>\n",
       "      <th>intubed</th>\n",
       "      <th>pneumonia</th>\n",
       "      <th>age</th>\n",
       "      <th>pregnancy</th>\n",
       "      <th>diabetes</th>\n",
       "      <th>copd</th>\n",
       "      <th>asthma</th>\n",
       "      <th>inmsupr</th>\n",
       "      <th>hypertension</th>\n",
       "      <th>other_disease</th>\n",
       "      <th>cardiovascular</th>\n",
       "      <th>obesity</th>\n",
       "      <th>renal_chronic</th>\n",
       "      <th>tobacco</th>\n",
       "      <th>contact_other_covid</th>\n",
       "      <th>covid_res</th>\n",
       "      <th>icu</th>\n",
       "    </tr>\n",
       "  </thead>\n",
       "  <tbody>\n",
       "    <tr>\n",
       "      <th>sex</th>\n",
       "      <td>0.959</td>\n",
       "      <td>0</td>\n",
       "      <td>0.038</td>\n",
       "      <td>0</td>\n",
       "      <td>0.333</td>\n",
       "      <td>0.959</td>\n",
       "      <td>0</td>\n",
       "      <td>0</td>\n",
       "      <td>NaN</td>\n",
       "      <td>0</td>\n",
       "      <td>0</td>\n",
       "      <td>0</td>\n",
       "      <td>0</td>\n",
       "      <td>0</td>\n",
       "      <td>0</td>\n",
       "      <td>0</td>\n",
       "      <td>0.229</td>\n",
       "      <td>NaN</td>\n",
       "      <td>0</td>\n",
       "    </tr>\n",
       "    <tr>\n",
       "      <th>patient_type</th>\n",
       "      <td>0</td>\n",
       "      <td>0.958</td>\n",
       "      <td>0.99</td>\n",
       "      <td>0.251</td>\n",
       "      <td>0.246</td>\n",
       "      <td>0</td>\n",
       "      <td>0.19</td>\n",
       "      <td>0</td>\n",
       "      <td>NaN</td>\n",
       "      <td>0</td>\n",
       "      <td>0</td>\n",
       "      <td>0</td>\n",
       "      <td>0</td>\n",
       "      <td>0.203</td>\n",
       "      <td>0</td>\n",
       "      <td>0</td>\n",
       "      <td>0.265</td>\n",
       "      <td>NaN</td>\n",
       "      <td>0.99</td>\n",
       "    </tr>\n",
       "    <tr>\n",
       "      <th>intubed</th>\n",
       "      <td>0.038</td>\n",
       "      <td>0.99</td>\n",
       "      <td>1</td>\n",
       "      <td>0.375</td>\n",
       "      <td>0.032</td>\n",
       "      <td>0.038</td>\n",
       "      <td>0.241</td>\n",
       "      <td>0.149</td>\n",
       "      <td>NaN</td>\n",
       "      <td>0</td>\n",
       "      <td>0</td>\n",
       "      <td>0</td>\n",
       "      <td>0.149</td>\n",
       "      <td>0.417</td>\n",
       "      <td>0</td>\n",
       "      <td>0</td>\n",
       "      <td>0.124</td>\n",
       "      <td>NaN</td>\n",
       "      <td>0.693</td>\n",
       "    </tr>\n",
       "    <tr>\n",
       "      <th>pneumonia</th>\n",
       "      <td>0</td>\n",
       "      <td>0.251</td>\n",
       "      <td>0.375</td>\n",
       "      <td>0.931</td>\n",
       "      <td>0</td>\n",
       "      <td>0</td>\n",
       "      <td>0</td>\n",
       "      <td>0</td>\n",
       "      <td>NaN</td>\n",
       "      <td>0</td>\n",
       "      <td>0</td>\n",
       "      <td>0</td>\n",
       "      <td>0</td>\n",
       "      <td>0</td>\n",
       "      <td>0</td>\n",
       "      <td>0</td>\n",
       "      <td>0</td>\n",
       "      <td>NaN</td>\n",
       "      <td>0.375</td>\n",
       "    </tr>\n",
       "    <tr>\n",
       "      <th>age</th>\n",
       "      <td>0.333</td>\n",
       "      <td>0.246</td>\n",
       "      <td>0.032</td>\n",
       "      <td>0</td>\n",
       "      <td>1</td>\n",
       "      <td>0.333</td>\n",
       "      <td>0.18</td>\n",
       "      <td>0.414</td>\n",
       "      <td>NaN</td>\n",
       "      <td>0.661</td>\n",
       "      <td>0.371</td>\n",
       "      <td>0</td>\n",
       "      <td>0.661</td>\n",
       "      <td>0</td>\n",
       "      <td>0</td>\n",
       "      <td>0</td>\n",
       "      <td>0.091</td>\n",
       "      <td>NaN</td>\n",
       "      <td>0</td>\n",
       "    </tr>\n",
       "    <tr>\n",
       "      <th>pregnancy</th>\n",
       "      <td>0.959</td>\n",
       "      <td>0</td>\n",
       "      <td>0.038</td>\n",
       "      <td>0</td>\n",
       "      <td>0.333</td>\n",
       "      <td>0.959</td>\n",
       "      <td>0</td>\n",
       "      <td>0</td>\n",
       "      <td>NaN</td>\n",
       "      <td>0</td>\n",
       "      <td>0</td>\n",
       "      <td>0</td>\n",
       "      <td>0</td>\n",
       "      <td>0</td>\n",
       "      <td>0</td>\n",
       "      <td>0</td>\n",
       "      <td>0.229</td>\n",
       "      <td>NaN</td>\n",
       "      <td>0</td>\n",
       "    </tr>\n",
       "    <tr>\n",
       "      <th>diabetes</th>\n",
       "      <td>0</td>\n",
       "      <td>0.19</td>\n",
       "      <td>0.241</td>\n",
       "      <td>0</td>\n",
       "      <td>0.18</td>\n",
       "      <td>0</td>\n",
       "      <td>0.924</td>\n",
       "      <td>0</td>\n",
       "      <td>NaN</td>\n",
       "      <td>0</td>\n",
       "      <td>0.048</td>\n",
       "      <td>0</td>\n",
       "      <td>0.299</td>\n",
       "      <td>0</td>\n",
       "      <td>0</td>\n",
       "      <td>0</td>\n",
       "      <td>0</td>\n",
       "      <td>NaN</td>\n",
       "      <td>0.356</td>\n",
       "    </tr>\n",
       "    <tr>\n",
       "      <th>copd</th>\n",
       "      <td>0</td>\n",
       "      <td>0</td>\n",
       "      <td>0.149</td>\n",
       "      <td>0</td>\n",
       "      <td>0.414</td>\n",
       "      <td>0</td>\n",
       "      <td>0</td>\n",
       "      <td>0.733</td>\n",
       "      <td>NaN</td>\n",
       "      <td>0.307</td>\n",
       "      <td>0</td>\n",
       "      <td>0.307</td>\n",
       "      <td>0.167</td>\n",
       "      <td>0</td>\n",
       "      <td>0.307</td>\n",
       "      <td>0</td>\n",
       "      <td>0</td>\n",
       "      <td>NaN</td>\n",
       "      <td>0.149</td>\n",
       "    </tr>\n",
       "    <tr>\n",
       "      <th>asthma</th>\n",
       "      <td>NaN</td>\n",
       "      <td>NaN</td>\n",
       "      <td>NaN</td>\n",
       "      <td>NaN</td>\n",
       "      <td>NaN</td>\n",
       "      <td>NaN</td>\n",
       "      <td>NaN</td>\n",
       "      <td>NaN</td>\n",
       "      <td>NaN</td>\n",
       "      <td>NaN</td>\n",
       "      <td>NaN</td>\n",
       "      <td>NaN</td>\n",
       "      <td>NaN</td>\n",
       "      <td>NaN</td>\n",
       "      <td>NaN</td>\n",
       "      <td>NaN</td>\n",
       "      <td>NaN</td>\n",
       "      <td>NaN</td>\n",
       "      <td>NaN</td>\n",
       "    </tr>\n",
       "    <tr>\n",
       "      <th>inmsupr</th>\n",
       "      <td>0</td>\n",
       "      <td>0</td>\n",
       "      <td>0</td>\n",
       "      <td>0</td>\n",
       "      <td>0.661</td>\n",
       "      <td>0</td>\n",
       "      <td>0</td>\n",
       "      <td>0.307</td>\n",
       "      <td>NaN</td>\n",
       "      <td>0.473</td>\n",
       "      <td>0</td>\n",
       "      <td>0.473</td>\n",
       "      <td>0.307</td>\n",
       "      <td>0.087</td>\n",
       "      <td>0.473</td>\n",
       "      <td>0.127</td>\n",
       "      <td>0</td>\n",
       "      <td>NaN</td>\n",
       "      <td>0</td>\n",
       "    </tr>\n",
       "    <tr>\n",
       "      <th>hypertension</th>\n",
       "      <td>0</td>\n",
       "      <td>0</td>\n",
       "      <td>0</td>\n",
       "      <td>0</td>\n",
       "      <td>0.371</td>\n",
       "      <td>0</td>\n",
       "      <td>0.048</td>\n",
       "      <td>0</td>\n",
       "      <td>NaN</td>\n",
       "      <td>0</td>\n",
       "      <td>0.931</td>\n",
       "      <td>0</td>\n",
       "      <td>0.27</td>\n",
       "      <td>0</td>\n",
       "      <td>0</td>\n",
       "      <td>0</td>\n",
       "      <td>0</td>\n",
       "      <td>NaN</td>\n",
       "      <td>0</td>\n",
       "    </tr>\n",
       "    <tr>\n",
       "      <th>other_disease</th>\n",
       "      <td>0</td>\n",
       "      <td>0</td>\n",
       "      <td>0</td>\n",
       "      <td>0</td>\n",
       "      <td>0</td>\n",
       "      <td>0</td>\n",
       "      <td>0</td>\n",
       "      <td>0.307</td>\n",
       "      <td>NaN</td>\n",
       "      <td>0.473</td>\n",
       "      <td>0</td>\n",
       "      <td>0.473</td>\n",
       "      <td>0.307</td>\n",
       "      <td>0.087</td>\n",
       "      <td>0.473</td>\n",
       "      <td>0.127</td>\n",
       "      <td>0</td>\n",
       "      <td>NaN</td>\n",
       "      <td>0</td>\n",
       "    </tr>\n",
       "    <tr>\n",
       "      <th>cardiovascular</th>\n",
       "      <td>0</td>\n",
       "      <td>0</td>\n",
       "      <td>0.149</td>\n",
       "      <td>0</td>\n",
       "      <td>0.661</td>\n",
       "      <td>0</td>\n",
       "      <td>0.299</td>\n",
       "      <td>0.167</td>\n",
       "      <td>NaN</td>\n",
       "      <td>0.307</td>\n",
       "      <td>0.27</td>\n",
       "      <td>0.307</td>\n",
       "      <td>0.733</td>\n",
       "      <td>0</td>\n",
       "      <td>0.307</td>\n",
       "      <td>0</td>\n",
       "      <td>0</td>\n",
       "      <td>NaN</td>\n",
       "      <td>0.149</td>\n",
       "    </tr>\n",
       "    <tr>\n",
       "      <th>obesity</th>\n",
       "      <td>0</td>\n",
       "      <td>0.203</td>\n",
       "      <td>0.417</td>\n",
       "      <td>0</td>\n",
       "      <td>0</td>\n",
       "      <td>0</td>\n",
       "      <td>0</td>\n",
       "      <td>0</td>\n",
       "      <td>NaN</td>\n",
       "      <td>0.087</td>\n",
       "      <td>0</td>\n",
       "      <td>0.087</td>\n",
       "      <td>0</td>\n",
       "      <td>0.903</td>\n",
       "      <td>0.087</td>\n",
       "      <td>0</td>\n",
       "      <td>0</td>\n",
       "      <td>NaN</td>\n",
       "      <td>0.26</td>\n",
       "    </tr>\n",
       "    <tr>\n",
       "      <th>renal_chronic</th>\n",
       "      <td>0</td>\n",
       "      <td>0</td>\n",
       "      <td>0</td>\n",
       "      <td>0</td>\n",
       "      <td>0</td>\n",
       "      <td>0</td>\n",
       "      <td>0</td>\n",
       "      <td>0.307</td>\n",
       "      <td>NaN</td>\n",
       "      <td>0.473</td>\n",
       "      <td>0</td>\n",
       "      <td>0.473</td>\n",
       "      <td>0.307</td>\n",
       "      <td>0.087</td>\n",
       "      <td>0.473</td>\n",
       "      <td>0.127</td>\n",
       "      <td>0.204</td>\n",
       "      <td>NaN</td>\n",
       "      <td>0</td>\n",
       "    </tr>\n",
       "    <tr>\n",
       "      <th>tobacco</th>\n",
       "      <td>0</td>\n",
       "      <td>0</td>\n",
       "      <td>0</td>\n",
       "      <td>0</td>\n",
       "      <td>0</td>\n",
       "      <td>0</td>\n",
       "      <td>0</td>\n",
       "      <td>0</td>\n",
       "      <td>NaN</td>\n",
       "      <td>0.127</td>\n",
       "      <td>0</td>\n",
       "      <td>0.127</td>\n",
       "      <td>0</td>\n",
       "      <td>0</td>\n",
       "      <td>0.127</td>\n",
       "      <td>0.886</td>\n",
       "      <td>0.189</td>\n",
       "      <td>NaN</td>\n",
       "      <td>0</td>\n",
       "    </tr>\n",
       "    <tr>\n",
       "      <th>contact_other_covid</th>\n",
       "      <td>0.229</td>\n",
       "      <td>0.265</td>\n",
       "      <td>0.124</td>\n",
       "      <td>0</td>\n",
       "      <td>0.091</td>\n",
       "      <td>0.229</td>\n",
       "      <td>0</td>\n",
       "      <td>0</td>\n",
       "      <td>NaN</td>\n",
       "      <td>0</td>\n",
       "      <td>0</td>\n",
       "      <td>0</td>\n",
       "      <td>0</td>\n",
       "      <td>0</td>\n",
       "      <td>0.204</td>\n",
       "      <td>0.189</td>\n",
       "      <td>1</td>\n",
       "      <td>NaN</td>\n",
       "      <td>0.124</td>\n",
       "    </tr>\n",
       "    <tr>\n",
       "      <th>covid_res</th>\n",
       "      <td>NaN</td>\n",
       "      <td>NaN</td>\n",
       "      <td>NaN</td>\n",
       "      <td>NaN</td>\n",
       "      <td>NaN</td>\n",
       "      <td>NaN</td>\n",
       "      <td>NaN</td>\n",
       "      <td>NaN</td>\n",
       "      <td>NaN</td>\n",
       "      <td>NaN</td>\n",
       "      <td>NaN</td>\n",
       "      <td>NaN</td>\n",
       "      <td>NaN</td>\n",
       "      <td>NaN</td>\n",
       "      <td>NaN</td>\n",
       "      <td>NaN</td>\n",
       "      <td>NaN</td>\n",
       "      <td>NaN</td>\n",
       "      <td>NaN</td>\n",
       "    </tr>\n",
       "    <tr>\n",
       "      <th>icu</th>\n",
       "      <td>0</td>\n",
       "      <td>0.99</td>\n",
       "      <td>0.693</td>\n",
       "      <td>0.375</td>\n",
       "      <td>0</td>\n",
       "      <td>0</td>\n",
       "      <td>0.356</td>\n",
       "      <td>0.149</td>\n",
       "      <td>NaN</td>\n",
       "      <td>0</td>\n",
       "      <td>0</td>\n",
       "      <td>0</td>\n",
       "      <td>0.149</td>\n",
       "      <td>0.26</td>\n",
       "      <td>0</td>\n",
       "      <td>0</td>\n",
       "      <td>0.124</td>\n",
       "      <td>NaN</td>\n",
       "      <td>1</td>\n",
       "    </tr>\n",
       "  </tbody>\n",
       "</table>\n",
       "</div>"
      ],
      "text/plain": [
       "                       sex patient_type intubed pneumonia    age pregnancy  \\\n",
       "sex                  0.959            0   0.038         0  0.333     0.959   \n",
       "patient_type             0        0.958    0.99     0.251  0.246         0   \n",
       "intubed              0.038         0.99       1     0.375  0.032     0.038   \n",
       "pneumonia                0        0.251   0.375     0.931      0         0   \n",
       "age                  0.333        0.246   0.032         0      1     0.333   \n",
       "pregnancy            0.959            0   0.038         0  0.333     0.959   \n",
       "diabetes                 0         0.19   0.241         0   0.18         0   \n",
       "copd                     0            0   0.149         0  0.414         0   \n",
       "asthma                 NaN          NaN     NaN       NaN    NaN       NaN   \n",
       "inmsupr                  0            0       0         0  0.661         0   \n",
       "hypertension             0            0       0         0  0.371         0   \n",
       "other_disease            0            0       0         0      0         0   \n",
       "cardiovascular           0            0   0.149         0  0.661         0   \n",
       "obesity                  0        0.203   0.417         0      0         0   \n",
       "renal_chronic            0            0       0         0      0         0   \n",
       "tobacco                  0            0       0         0      0         0   \n",
       "contact_other_covid  0.229        0.265   0.124         0  0.091     0.229   \n",
       "covid_res              NaN          NaN     NaN       NaN    NaN       NaN   \n",
       "icu                      0         0.99   0.693     0.375      0         0   \n",
       "\n",
       "                    diabetes   copd asthma inmsupr hypertension other_disease  \\\n",
       "sex                        0      0    NaN       0            0             0   \n",
       "patient_type            0.19      0    NaN       0            0             0   \n",
       "intubed                0.241  0.149    NaN       0            0             0   \n",
       "pneumonia                  0      0    NaN       0            0             0   \n",
       "age                     0.18  0.414    NaN   0.661        0.371             0   \n",
       "pregnancy                  0      0    NaN       0            0             0   \n",
       "diabetes               0.924      0    NaN       0        0.048             0   \n",
       "copd                       0  0.733    NaN   0.307            0         0.307   \n",
       "asthma                   NaN    NaN    NaN     NaN          NaN           NaN   \n",
       "inmsupr                    0  0.307    NaN   0.473            0         0.473   \n",
       "hypertension           0.048      0    NaN       0        0.931             0   \n",
       "other_disease              0  0.307    NaN   0.473            0         0.473   \n",
       "cardiovascular         0.299  0.167    NaN   0.307         0.27         0.307   \n",
       "obesity                    0      0    NaN   0.087            0         0.087   \n",
       "renal_chronic              0  0.307    NaN   0.473            0         0.473   \n",
       "tobacco                    0      0    NaN   0.127            0         0.127   \n",
       "contact_other_covid        0      0    NaN       0            0             0   \n",
       "covid_res                NaN    NaN    NaN     NaN          NaN           NaN   \n",
       "icu                    0.356  0.149    NaN       0            0             0   \n",
       "\n",
       "                    cardiovascular obesity renal_chronic tobacco  \\\n",
       "sex                              0       0             0       0   \n",
       "patient_type                     0   0.203             0       0   \n",
       "intubed                      0.149   0.417             0       0   \n",
       "pneumonia                        0       0             0       0   \n",
       "age                          0.661       0             0       0   \n",
       "pregnancy                        0       0             0       0   \n",
       "diabetes                     0.299       0             0       0   \n",
       "copd                         0.167       0         0.307       0   \n",
       "asthma                         NaN     NaN           NaN     NaN   \n",
       "inmsupr                      0.307   0.087         0.473   0.127   \n",
       "hypertension                  0.27       0             0       0   \n",
       "other_disease                0.307   0.087         0.473   0.127   \n",
       "cardiovascular               0.733       0         0.307       0   \n",
       "obesity                          0   0.903         0.087       0   \n",
       "renal_chronic                0.307   0.087         0.473   0.127   \n",
       "tobacco                          0       0         0.127   0.886   \n",
       "contact_other_covid              0       0         0.204   0.189   \n",
       "covid_res                      NaN     NaN           NaN     NaN   \n",
       "icu                          0.149    0.26             0       0   \n",
       "\n",
       "                    contact_other_covid covid_res    icu  \n",
       "sex                               0.229       NaN      0  \n",
       "patient_type                      0.265       NaN   0.99  \n",
       "intubed                           0.124       NaN  0.693  \n",
       "pneumonia                             0       NaN  0.375  \n",
       "age                               0.091       NaN      0  \n",
       "pregnancy                         0.229       NaN      0  \n",
       "diabetes                              0       NaN  0.356  \n",
       "copd                                  0       NaN  0.149  \n",
       "asthma                              NaN       NaN    NaN  \n",
       "inmsupr                               0       NaN      0  \n",
       "hypertension                          0       NaN      0  \n",
       "other_disease                         0       NaN      0  \n",
       "cardiovascular                        0       NaN  0.149  \n",
       "obesity                               0       NaN   0.26  \n",
       "renal_chronic                     0.204       NaN      0  \n",
       "tobacco                           0.189       NaN      0  \n",
       "contact_other_covid                   1       NaN  0.124  \n",
       "covid_res                           NaN       NaN    NaN  \n",
       "icu                               0.124       NaN      1  "
      ]
     },
     "metadata": {},
     "output_type": "display_data"
    }
   ],
   "source": [
    "df2 = pd.DataFrame(columns=model_columns, index=model_columns)\n",
    "for i in range(len(model_columns)):\n",
    "    for j in range(len(model_columns)):\n",
    "        fname = model_columns[i]\n",
    "        cname = model_columns[j]\n",
    "        df2.loc[fname, cname] = cramers_v(dataModel[fname], dataModel[cname])\n",
    "\n",
    "display(df2)"
   ]
  },
  {
   "cell_type": "code",
   "execution_count": 52,
   "metadata": {},
   "outputs": [
    {
     "data": {
      "text/plain": [
       "(19, 19)"
      ]
     },
     "execution_count": 52,
     "metadata": {},
     "output_type": "execute_result"
    }
   ],
   "source": [
    "df2.shape"
   ]
  },
  {
   "cell_type": "code",
   "execution_count": 53,
   "metadata": {},
   "outputs": [
    {
     "data": {
      "image/png": "[encoded data removed]",
      "text/plain": [
       "<Figure size 864x720 with 2 Axes>"
      ]
     },
     "metadata": {
      "needs_background": "light"
     },
     "output_type": "display_data"
    }
   ],
   "source": [
    "import seaborn as sns\n",
    "\n",
    "df2 = df2.astype('float')  # !! Neccessary for Heatmap\n",
    "\n",
    "plt.figure(figsize=(12,10))\n",
    "sns.heatmap(df2, annot=True, cmap=\"Greens\")\n",
    "plt.show()"
   ]
  },
  {
   "cell_type": "markdown",
   "metadata": {},
   "source": [
    "# <font color=\"blue\">7.  MODELISATION & PREDICTION</font>"
   ]
  },
  {
   "cell_type": "markdown",
   "metadata": {},
   "source": [
    "## <font color=\"blue\">7.1.  Splitting DATA to create Training and Test sets.</font>"
   ]
  },
  {
   "cell_type": "code",
   "execution_count": 54,
   "metadata": {},
   "outputs": [],
   "source": [
    "# Labels for descriptors\n",
    "\n",
    "datalabels = ['id', 'sex', 'patient_type', 'entry_date', 'date_symptoms',\n",
    "              'date_died','intubed','pneumonia','age','pregnancy','diabetes','copd','asthma','inmsupr','hypertension',\n",
    "              'other_disease','cardiovascular','obesity','renal_chronic','tobacco','contact_other_covid'\n",
    "              ,'covid_res','icu']\n",
    "\n",
    "# Ignored: id, entrydate, date_symptons, date_died, icu\n",
    "predictors = ['sex', 'age','pneumonia','contact_other_covid','covid_res',\n",
    "              'pregnancy','diabetes','copd','asthma','inmsupr',\n",
    "              'hypertension','other_disease','cardiovascular','obesity','renal_chronic','tobacco'\n",
    "             ]\n",
    "\n",
    "target_column= 'icu'\n",
    "\n",
    "target_column2 = 'intubed'\n",
    "\n",
    "model_columns = ['sex', 'age','pneumonia','contact_other_covid','covid_res',\n",
    "              'pregnancy','diabetes','copd','asthma','inmsupr',\n",
    "              'hypertension','other_disease','cardiovascular','obesity','renal_chronic','tobacco', target_column]\n",
    "\n",
    "\n",
    "# Split in traning and test sets\n",
    "\n",
    "from sklearn.model_selection import train_test_split\n",
    "\n",
    "X_train, X_test, y_train, y_test =train_test_split(dataModel[predictors], \n",
    "                                                   dataModel[target_column], \n",
    "                                                   test_size=0.20, random_state=44)\n",
    "\n"
   ]
  },
  {
   "cell_type": "code",
   "execution_count": 55,
   "metadata": {},
   "outputs": [
    {
     "name": "stdout",
     "output_type": "stream",
     "text": [
      "Size training set:  (40, 16)\n",
      "Size test set:  (10, 16)\n"
     ]
    }
   ],
   "source": [
    "print(\"Size training set: \", X_train.shape)\n",
    "print(\"Size test set: \", X_test.shape)\n",
    "\n"
   ]
  },
  {
   "cell_type": "markdown",
   "metadata": {},
   "source": [
    "# 7.1 KNN"
   ]
  },
  {
   "cell_type": "code",
   "execution_count": 56,
   "metadata": {},
   "outputs": [],
   "source": [
    "from sklearn import neighbors, datasets\n",
    "import time\n",
    "\n",
    "startTimeKNN = time.time()\n",
    "weights = 'uniform'\n",
    "k_neighbors = 15\n",
    "model1 = neighbors.KNeighborsClassifier(weights=weights)\n",
    "model1.fit(X_train, y_train.values.ravel())\n",
    "endtimeKNN = time.time()\n"
   ]
  },
  {
   "cell_type": "code",
   "execution_count": 57,
   "metadata": {},
   "outputs": [
    {
     "data": {
      "text/plain": [
       "0.003208637237548828"
      ]
     },
     "execution_count": 57,
     "metadata": {},
     "output_type": "execute_result"
    }
   ],
   "source": [
    "KNN_sec=endtimeKNN - startTimeKNN\n",
    "KNN_sec"
   ]
  },
  {
   "cell_type": "markdown",
   "metadata": {},
   "source": [
    "## 7.1.1  Model Evaluation"
   ]
  },
  {
   "cell_type": "code",
   "execution_count": 58,
   "metadata": {},
   "outputs": [
    {
     "name": "stdout",
     "output_type": "stream",
     "text": [
      "<class 'pandas.core.frame.DataFrame'>\n",
      "Int64Index: 10 entries, 37 to 17\n",
      "Data columns (total 16 columns):\n",
      " #   Column               Non-Null Count  Dtype\n",
      "---  ------               --------------  -----\n",
      " 0   sex                  10 non-null     int64\n",
      " 1   age                  10 non-null     int64\n",
      " 2   pneumonia            10 non-null     int64\n",
      " 3   contact_other_covid  10 non-null     int64\n",
      " 4   covid_res            10 non-null     int64\n",
      " 5   pregnancy            10 non-null     int64\n",
      " 6   diabetes             10 non-null     int64\n",
      " 7   copd                 10 non-null     int64\n",
      " 8   asthma               10 non-null     int64\n",
      " 9   inmsupr              10 non-null     int64\n",
      " 10  hypertension         10 non-null     int64\n",
      " 11  other_disease        10 non-null     int64\n",
      " 12  cardiovascular       10 non-null     int64\n",
      " 13  obesity              10 non-null     int64\n",
      " 14  renal_chronic        10 non-null     int64\n",
      " 15  tobacco              10 non-null     int64\n",
      "dtypes: int64(16)\n",
      "memory usage: 1.3 KB\n"
     ]
    }
   ],
   "source": [
    "X_test.info()"
   ]
  },
  {
   "cell_type": "code",
   "execution_count": 59,
   "metadata": {},
   "outputs": [
    {
     "data": {
      "text/html": [
       "<div>\n",
       "<style scoped>\n",
       "    .dataframe tbody tr th:only-of-type {\n",
       "        vertical-align: middle;\n",
       "    }\n",
       "\n",
       "    .dataframe tbody tr th {\n",
       "        vertical-align: top;\n",
       "    }\n",
       "\n",
       "    .dataframe thead th {\n",
       "        text-align: right;\n",
       "    }\n",
       "</style>\n",
       "<table border=\"1\" class=\"dataframe\">\n",
       "  <thead>\n",
       "    <tr style=\"text-align: right;\">\n",
       "      <th></th>\n",
       "      <th>sex</th>\n",
       "      <th>age</th>\n",
       "      <th>pneumonia</th>\n",
       "      <th>contact_other_covid</th>\n",
       "      <th>covid_res</th>\n",
       "      <th>pregnancy</th>\n",
       "      <th>diabetes</th>\n",
       "      <th>copd</th>\n",
       "      <th>asthma</th>\n",
       "      <th>inmsupr</th>\n",
       "      <th>hypertension</th>\n",
       "      <th>other_disease</th>\n",
       "      <th>cardiovascular</th>\n",
       "      <th>obesity</th>\n",
       "      <th>renal_chronic</th>\n",
       "      <th>tobacco</th>\n",
       "    </tr>\n",
       "  </thead>\n",
       "  <tbody>\n",
       "    <tr>\n",
       "      <th>37</th>\n",
       "      <td>2</td>\n",
       "      <td>37</td>\n",
       "      <td>2</td>\n",
       "      <td>99</td>\n",
       "      <td>1</td>\n",
       "      <td>97</td>\n",
       "      <td>2</td>\n",
       "      <td>2</td>\n",
       "      <td>2</td>\n",
       "      <td>2</td>\n",
       "      <td>2</td>\n",
       "      <td>2</td>\n",
       "      <td>2</td>\n",
       "      <td>2</td>\n",
       "      <td>2</td>\n",
       "      <td>2</td>\n",
       "    </tr>\n",
       "    <tr>\n",
       "      <th>6</th>\n",
       "      <td>2</td>\n",
       "      <td>63</td>\n",
       "      <td>2</td>\n",
       "      <td>99</td>\n",
       "      <td>1</td>\n",
       "      <td>97</td>\n",
       "      <td>2</td>\n",
       "      <td>2</td>\n",
       "      <td>2</td>\n",
       "      <td>2</td>\n",
       "      <td>1</td>\n",
       "      <td>2</td>\n",
       "      <td>2</td>\n",
       "      <td>2</td>\n",
       "      <td>2</td>\n",
       "      <td>2</td>\n",
       "    </tr>\n",
       "    <tr>\n",
       "      <th>47</th>\n",
       "      <td>2</td>\n",
       "      <td>53</td>\n",
       "      <td>2</td>\n",
       "      <td>99</td>\n",
       "      <td>1</td>\n",
       "      <td>97</td>\n",
       "      <td>2</td>\n",
       "      <td>2</td>\n",
       "      <td>2</td>\n",
       "      <td>2</td>\n",
       "      <td>2</td>\n",
       "      <td>2</td>\n",
       "      <td>2</td>\n",
       "      <td>2</td>\n",
       "      <td>2</td>\n",
       "      <td>2</td>\n",
       "    </tr>\n",
       "    <tr>\n",
       "      <th>36</th>\n",
       "      <td>2</td>\n",
       "      <td>77</td>\n",
       "      <td>1</td>\n",
       "      <td>99</td>\n",
       "      <td>1</td>\n",
       "      <td>97</td>\n",
       "      <td>2</td>\n",
       "      <td>2</td>\n",
       "      <td>2</td>\n",
       "      <td>2</td>\n",
       "      <td>1</td>\n",
       "      <td>2</td>\n",
       "      <td>2</td>\n",
       "      <td>2</td>\n",
       "      <td>2</td>\n",
       "      <td>2</td>\n",
       "    </tr>\n",
       "    <tr>\n",
       "      <th>5</th>\n",
       "      <td>2</td>\n",
       "      <td>47</td>\n",
       "      <td>1</td>\n",
       "      <td>99</td>\n",
       "      <td>1</td>\n",
       "      <td>97</td>\n",
       "      <td>1</td>\n",
       "      <td>2</td>\n",
       "      <td>2</td>\n",
       "      <td>2</td>\n",
       "      <td>2</td>\n",
       "      <td>2</td>\n",
       "      <td>2</td>\n",
       "      <td>2</td>\n",
       "      <td>2</td>\n",
       "      <td>2</td>\n",
       "    </tr>\n",
       "  </tbody>\n",
       "</table>\n",
       "</div>"
      ],
      "text/plain": [
       "    sex  age  pneumonia  contact_other_covid  covid_res  pregnancy  diabetes  \\\n",
       "37    2   37          2                   99          1         97         2   \n",
       "6     2   63          2                   99          1         97         2   \n",
       "47    2   53          2                   99          1         97         2   \n",
       "36    2   77          1                   99          1         97         2   \n",
       "5     2   47          1                   99          1         97         1   \n",
       "\n",
       "    copd  asthma  inmsupr  hypertension  other_disease  cardiovascular  \\\n",
       "37     2       2        2             2              2               2   \n",
       "6      2       2        2             1              2               2   \n",
       "47     2       2        2             2              2               2   \n",
       "36     2       2        2             1              2               2   \n",
       "5      2       2        2             2              2               2   \n",
       "\n",
       "    obesity  renal_chronic  tobacco  \n",
       "37        2              2        2  \n",
       "6         2              2        2  \n",
       "47        2              2        2  \n",
       "36        2              2        2  \n",
       "5         2              2        2  "
      ]
     },
     "execution_count": 59,
     "metadata": {},
     "output_type": "execute_result"
    }
   ],
   "source": [
    "X_test.head(5)"
   ]
  },
  {
   "cell_type": "code",
   "execution_count": 60,
   "metadata": {},
   "outputs": [
    {
     "data": {
      "text/html": [
       "<div>\n",
       "<style scoped>\n",
       "    .dataframe tbody tr th:only-of-type {\n",
       "        vertical-align: middle;\n",
       "    }\n",
       "\n",
       "    .dataframe tbody tr th {\n",
       "        vertical-align: top;\n",
       "    }\n",
       "\n",
       "    .dataframe thead th {\n",
       "        text-align: right;\n",
       "    }\n",
       "</style>\n",
       "<table border=\"1\" class=\"dataframe\">\n",
       "  <thead>\n",
       "    <tr style=\"text-align: right;\">\n",
       "      <th></th>\n",
       "      <th>sex</th>\n",
       "      <th>age</th>\n",
       "      <th>pneumonia</th>\n",
       "      <th>contact_other_covid</th>\n",
       "      <th>covid_res</th>\n",
       "      <th>pregnancy</th>\n",
       "      <th>diabetes</th>\n",
       "      <th>copd</th>\n",
       "      <th>asthma</th>\n",
       "      <th>inmsupr</th>\n",
       "      <th>hypertension</th>\n",
       "      <th>other_disease</th>\n",
       "      <th>cardiovascular</th>\n",
       "      <th>obesity</th>\n",
       "      <th>renal_chronic</th>\n",
       "      <th>tobacco</th>\n",
       "    </tr>\n",
       "  </thead>\n",
       "  <tbody>\n",
       "    <tr>\n",
       "      <th>31</th>\n",
       "      <td>1</td>\n",
       "      <td>83</td>\n",
       "      <td>2</td>\n",
       "      <td>99</td>\n",
       "      <td>1</td>\n",
       "      <td>2</td>\n",
       "      <td>1</td>\n",
       "      <td>1</td>\n",
       "      <td>2</td>\n",
       "      <td>1</td>\n",
       "      <td>1</td>\n",
       "      <td>2</td>\n",
       "      <td>1</td>\n",
       "      <td>2</td>\n",
       "      <td>2</td>\n",
       "      <td>2</td>\n",
       "    </tr>\n",
       "    <tr>\n",
       "      <th>26</th>\n",
       "      <td>1</td>\n",
       "      <td>31</td>\n",
       "      <td>2</td>\n",
       "      <td>99</td>\n",
       "      <td>1</td>\n",
       "      <td>2</td>\n",
       "      <td>2</td>\n",
       "      <td>2</td>\n",
       "      <td>2</td>\n",
       "      <td>2</td>\n",
       "      <td>2</td>\n",
       "      <td>2</td>\n",
       "      <td>2</td>\n",
       "      <td>2</td>\n",
       "      <td>2</td>\n",
       "      <td>2</td>\n",
       "    </tr>\n",
       "    <tr>\n",
       "      <th>15</th>\n",
       "      <td>1</td>\n",
       "      <td>34</td>\n",
       "      <td>2</td>\n",
       "      <td>2</td>\n",
       "      <td>1</td>\n",
       "      <td>2</td>\n",
       "      <td>2</td>\n",
       "      <td>2</td>\n",
       "      <td>2</td>\n",
       "      <td>2</td>\n",
       "      <td>2</td>\n",
       "      <td>2</td>\n",
       "      <td>2</td>\n",
       "      <td>2</td>\n",
       "      <td>2</td>\n",
       "      <td>1</td>\n",
       "    </tr>\n",
       "    <tr>\n",
       "      <th>13</th>\n",
       "      <td>1</td>\n",
       "      <td>34</td>\n",
       "      <td>2</td>\n",
       "      <td>1</td>\n",
       "      <td>1</td>\n",
       "      <td>2</td>\n",
       "      <td>2</td>\n",
       "      <td>2</td>\n",
       "      <td>2</td>\n",
       "      <td>2</td>\n",
       "      <td>2</td>\n",
       "      <td>2</td>\n",
       "      <td>2</td>\n",
       "      <td>2</td>\n",
       "      <td>2</td>\n",
       "      <td>2</td>\n",
       "    </tr>\n",
       "    <tr>\n",
       "      <th>11</th>\n",
       "      <td>1</td>\n",
       "      <td>45</td>\n",
       "      <td>2</td>\n",
       "      <td>99</td>\n",
       "      <td>1</td>\n",
       "      <td>2</td>\n",
       "      <td>2</td>\n",
       "      <td>2</td>\n",
       "      <td>2</td>\n",
       "      <td>2</td>\n",
       "      <td>2</td>\n",
       "      <td>2</td>\n",
       "      <td>2</td>\n",
       "      <td>2</td>\n",
       "      <td>2</td>\n",
       "      <td>2</td>\n",
       "    </tr>\n",
       "  </tbody>\n",
       "</table>\n",
       "</div>"
      ],
      "text/plain": [
       "    sex  age  pneumonia  contact_other_covid  covid_res  pregnancy  diabetes  \\\n",
       "31    1   83          2                   99          1          2         1   \n",
       "26    1   31          2                   99          1          2         2   \n",
       "15    1   34          2                    2          1          2         2   \n",
       "13    1   34          2                    1          1          2         2   \n",
       "11    1   45          2                   99          1          2         2   \n",
       "\n",
       "    copd  asthma  inmsupr  hypertension  other_disease  cardiovascular  \\\n",
       "31     1       2        1             1              2               1   \n",
       "26     2       2        2             2              2               2   \n",
       "15     2       2        2             2              2               2   \n",
       "13     2       2        2             2              2               2   \n",
       "11     2       2        2             2              2               2   \n",
       "\n",
       "    obesity  renal_chronic  tobacco  \n",
       "31        2              2        2  \n",
       "26        2              2        2  \n",
       "15        2              2        1  \n",
       "13        2              2        2  \n",
       "11        2              2        2  "
      ]
     },
     "execution_count": 60,
     "metadata": {},
     "output_type": "execute_result"
    }
   ],
   "source": [
    "X_train.head(5)"
   ]
  },
  {
   "cell_type": "code",
   "execution_count": 61,
   "metadata": {},
   "outputs": [],
   "source": [
    "# METRIQUES\n",
    "\n",
    "from sklearn import metrics \n",
    "from sklearn.metrics import accuracy_score\n",
    "from sklearn.metrics import classification_report, confusion_matrix\n",
    "import time\n",
    "\n",
    "y_predicted_train = model1.predict(X_train)\n",
    "y_predicted_test = model1.predict(X_test)\n",
    "\n"
   ]
  },
  {
   "cell_type": "code",
   "execution_count": 62,
   "metadata": {},
   "outputs": [
    {
     "name": "stdout",
     "output_type": "stream",
     "text": [
      "Accuracy: 0.725\n"
     ]
    },
    {
     "data": {
      "text/plain": [
       "0.0"
      ]
     },
     "execution_count": 62,
     "metadata": {},
     "output_type": "execute_result"
    }
   ],
   "source": [
    "\n",
    "startTimeKNN = time.time()\n",
    "print(\"Accuracy:\", metrics.accuracy_score(y_predicted_train, y_train))\n",
    "\n",
    "endtimeKNN = time.time()\n",
    "eval_KNN_sec = endtimeKNN - startTimeKNN\n",
    "eval_KNN_sec"
   ]
  },
  {
   "cell_type": "code",
   "execution_count": 63,
   "metadata": {},
   "outputs": [
    {
     "name": "stdout",
     "output_type": "stream",
     "text": [
      "[[0 1 0]\n",
      " [0 5 0]\n",
      " [0 1 3]]\n"
     ]
    },
    {
     "data": {
      "text/plain": [
       "0.0030024051666259766"
      ]
     },
     "execution_count": 63,
     "metadata": {},
     "output_type": "execute_result"
    }
   ],
   "source": [
    "startTimeKNN = time.time()\n",
    "\n",
    "print(confusion_matrix(y_test, y_predicted_test))\n",
    "\n",
    "endtimeKNN = time.time()\n",
    "EVAL_KNN_sec = endtimeKNN - startTimeKNN\n",
    "EVAL_KNN_sec"
   ]
  },
  {
   "cell_type": "code",
   "execution_count": 64,
   "metadata": {},
   "outputs": [
    {
     "name": "stdout",
     "output_type": "stream",
     "text": [
      "Precision:  0.7571428571428571\n"
     ]
    },
    {
     "name": "stderr",
     "output_type": "stream",
     "text": [
      "C:\\Users\\valm044\\Anaconda3\\lib\\site-packages\\sklearn\\metrics\\_classification.py:1272: UndefinedMetricWarning: Precision is ill-defined and being set to 0.0 in labels with no predicted samples. Use `zero_division` parameter to control this behavior.\n",
      "  _warn_prf(average, modifier, msg_start, len(result))\n"
     ]
    }
   ],
   "source": [
    "print(\"Precision: \", metrics.precision_score(y_test, y_predicted_test, labels=None, pos_label=1, average='weighted', \n",
    "                                        sample_weight=None,zero_division='warn'))"
   ]
  },
  {
   "cell_type": "code",
   "execution_count": 65,
   "metadata": {},
   "outputs": [
    {
     "name": "stdout",
     "output_type": "stream",
     "text": [
      "Recall: 0.5833333333333334\n"
     ]
    }
   ],
   "source": [
    "\n",
    "print (\"Recall:\", metrics.recall_score(y_test, y_predicted_test,  average='macro') )\n"
   ]
  },
  {
   "cell_type": "code",
   "execution_count": 66,
   "metadata": {},
   "outputs": [
    {
     "name": "stdout",
     "output_type": "stream",
     "text": [
      "F1 score: 0.5634920634920634\n"
     ]
    }
   ],
   "source": [
    "print (\"F1 score:\", metrics.f1_score(y_test, y_predicted_test, average='macro'))\n"
   ]
  },
  {
   "cell_type": "code",
   "execution_count": null,
   "metadata": {},
   "outputs": [],
   "source": []
  },
  {
   "cell_type": "markdown",
   "metadata": {},
   "source": [
    "# 7.2. DESICION TREE"
   ]
  },
  {
   "cell_type": "markdown",
   "metadata": {},
   "source": [
    "## 7.2.1 DESICION TREE - Entropy"
   ]
  },
  {
   "cell_type": "code",
   "execution_count": 67,
   "metadata": {},
   "outputs": [
    {
     "data": {
      "text/plain": [
       "DecisionTreeClassifier(ccp_alpha=0.0, class_weight=None, criterion='entropy',\n",
       "                       max_depth=3, max_features=None, max_leaf_nodes=None,\n",
       "                       min_impurity_decrease=0.0, min_impurity_split=None,\n",
       "                       min_samples_leaf=5, min_samples_split=2,\n",
       "                       min_weight_fraction_leaf=0.0, presort='deprecated',\n",
       "                       random_state=44, splitter='best')"
      ]
     },
     "execution_count": 67,
     "metadata": {},
     "output_type": "execute_result"
    }
   ],
   "source": [
    "from sklearn import tree\n",
    "desicionTree = tree.DecisionTreeClassifier(max_depth =3, criterion='entropy', random_state=44, min_samples_leaf=5)\n",
    "desicionTree.fit(X_train, y_train)\n",
    "\n"
   ]
  },
  {
   "cell_type": "code",
   "execution_count": 68,
   "metadata": {},
   "outputs": [
    {
     "data": {
      "text/plain": [
       "[Text(111.60000000000001, 380.52, 'obesity <= 1.5\\nentropy = 0.954\\nsamples = 40\\nvalue = [15, 25]'),\n",
       " Text(55.800000000000004, 271.8, 'entropy = 0.0\\nsamples = 5\\nvalue = [5, 0]'),\n",
       " Text(167.4, 271.8, 'diabetes <= 1.5\\nentropy = 0.863\\nsamples = 35\\nvalue = [10, 25]'),\n",
       " Text(111.60000000000001, 163.07999999999998, 'entropy = 0.918\\nsamples = 6\\nvalue = [4, 2]'),\n",
       " Text(223.20000000000002, 163.07999999999998, 'pneumonia <= 1.5\\nentropy = 0.736\\nsamples = 29\\nvalue = [6, 23]'),\n",
       " Text(167.4, 54.360000000000014, 'entropy = 0.971\\nsamples = 5\\nvalue = [3, 2]'),\n",
       " Text(279.0, 54.360000000000014, 'entropy = 0.544\\nsamples = 24\\nvalue = [3, 21]')]"
      ]
     },
     "execution_count": 68,
     "metadata": {},
     "output_type": "execute_result"
    },
    {
     "data": {
      "image/png": "[encoded data removed]",
      "text/plain": [
       "<Figure size 432x576 with 1 Axes>"
      ]
     },
     "metadata": {
      "needs_background": "light"
     },
     "output_type": "display_data"
    }
   ],
   "source": [
    "from sklearn.tree import DecisionTreeClassifier, plot_tree\n",
    "\n",
    "plt.figure(figsize = (6,8))\n",
    "plot_tree(desicionTree, feature_names = predictors, filled = True)\n"
   ]
  },
  {
   "cell_type": "code",
   "execution_count": 69,
   "metadata": {},
   "outputs": [],
   "source": [
    "\n",
    "y_predicted_train = desicionTree.predict(X_train)\n",
    "y_predicted_test = desicionTree.predict(X_test)\n",
    "\n"
   ]
  },
  {
   "cell_type": "code",
   "execution_count": 70,
   "metadata": {},
   "outputs": [
    {
     "name": "stdout",
     "output_type": "stream",
     "text": [
      "Accuracy: 0.825\n"
     ]
    },
    {
     "data": {
      "text/plain": [
       "0.0"
      ]
     },
     "execution_count": 70,
     "metadata": {},
     "output_type": "execute_result"
    }
   ],
   "source": [
    "\n",
    "startTimeKNN = time.time()\n",
    "print(\"Accuracy:\", metrics.accuracy_score(y_predicted_train, y_train))\n",
    "\n",
    "endtimeKNN = time.time()\n",
    "eval_KNN_sec = endtimeKNN - startTimeKNN\n",
    "eval_KNN_sec"
   ]
  },
  {
   "cell_type": "code",
   "execution_count": 71,
   "metadata": {},
   "outputs": [
    {
     "name": "stdout",
     "output_type": "stream",
     "text": [
      "Precision:  0.33809523809523806\n"
     ]
    },
    {
     "name": "stderr",
     "output_type": "stream",
     "text": [
      "C:\\Users\\valm044\\Anaconda3\\lib\\site-packages\\sklearn\\metrics\\_classification.py:1272: UndefinedMetricWarning: Precision is ill-defined and being set to 0.0 in labels with no predicted samples. Use `zero_division` parameter to control this behavior.\n",
      "  _warn_prf(average, modifier, msg_start, len(result))\n"
     ]
    }
   ],
   "source": [
    "print(\"Precision: \", metrics.precision_score(y_test, y_predicted_test, labels=None, pos_label=1, average='weighted', \n",
    "                                        sample_weight=None,zero_division='warn'))"
   ]
  },
  {
   "cell_type": "code",
   "execution_count": 72,
   "metadata": {},
   "outputs": [
    {
     "name": "stdout",
     "output_type": "stream",
     "text": [
      "Recall: 0.31666666666666665\n"
     ]
    }
   ],
   "source": [
    "\n",
    "print (\"Recall:\", metrics.recall_score(y_test, y_predicted_test,  average='macro') )\n"
   ]
  },
  {
   "cell_type": "code",
   "execution_count": 73,
   "metadata": {},
   "outputs": [
    {
     "name": "stdout",
     "output_type": "stream",
     "text": [
      "F1 score: 0.26515151515151514\n"
     ]
    }
   ],
   "source": [
    "print (\"F1 score:\", metrics.f1_score(y_test, y_predicted_test, average='macro'))"
   ]
  },
  {
   "cell_type": "markdown",
   "metadata": {},
   "source": [
    "## 7.22 DESICION TREE - GINI\n"
   ]
  },
  {
   "cell_type": "code",
   "execution_count": 74,
   "metadata": {},
   "outputs": [
    {
     "data": {
      "text/plain": [
       "[Text(186.0, 380.52, 'obesity <= 1.5\\ngini = 0.469\\nsamples = 40\\nvalue = [15, 25]'),\n",
       " Text(93.0, 271.8, 'gini = 0.0\\nsamples = 5\\nvalue = [5, 0]'),\n",
       " Text(279.0, 271.8, 'copd <= 1.5\\ngini = 0.408\\nsamples = 35\\nvalue = [10, 25]'),\n",
       " Text(186.0, 163.07999999999998, 'gini = 0.0\\nsamples = 2\\nvalue = [2, 0]'),\n",
       " Text(372.0, 163.07999999999998, 'age <= 30.5\\ngini = 0.367\\nsamples = 33\\nvalue = [8, 25]'),\n",
       " Text(279.0, 54.360000000000014, 'gini = 0.48\\nsamples = 5\\nvalue = [3, 2]'),\n",
       " Text(465.0, 54.360000000000014, 'gini = 0.293\\nsamples = 28\\nvalue = [5, 23]')]"
      ]
     },
     "execution_count": 74,
     "metadata": {},
     "output_type": "execute_result"
    },
    {
     "data": {
      "image/png": "[encoded data removed]",
      "text/plain": [
       "<Figure size 720x576 with 1 Axes>"
      ]
     },
     "metadata": {
      "needs_background": "light"
     },
     "output_type": "display_data"
    }
   ],
   "source": [
    "from sklearn import tree\n",
    "desicionTree = tree.DecisionTreeClassifier(max_depth =3, criterion='gini', random_state=44, min_samples_leaf=2)\n",
    "desicionTree.fit(X_train, y_train)\n",
    "plt.figure(figsize = (10,8))\n",
    "plot_tree(desicionTree, feature_names = predictors, filled = True)\n"
   ]
  },
  {
   "cell_type": "code",
   "execution_count": 75,
   "metadata": {},
   "outputs": [],
   "source": [
    "y_predicted_train = desicionTree.predict(X_train)\n",
    "y_predicted_test = desicionTree.predict(X_test)"
   ]
  },
  {
   "cell_type": "code",
   "execution_count": 76,
   "metadata": {},
   "outputs": [
    {
     "name": "stdout",
     "output_type": "stream",
     "text": [
      "Accuracy: 0.825\n"
     ]
    },
    {
     "data": {
      "text/plain": [
       "0.0"
      ]
     },
     "execution_count": 76,
     "metadata": {},
     "output_type": "execute_result"
    }
   ],
   "source": [
    "startTimeKNN = time.time()\n",
    "print(\"Accuracy:\", metrics.accuracy_score(y_predicted_train, y_train))\n",
    "\n",
    "endtimeKNN = time.time()\n",
    "eval_KNN_sec = endtimeKNN - startTimeKNN\n",
    "eval_KNN_sec"
   ]
  },
  {
   "cell_type": "code",
   "execution_count": 77,
   "metadata": {},
   "outputs": [
    {
     "name": "stdout",
     "output_type": "stream",
     "text": [
      "Precision:  0.13333333333333333\n"
     ]
    },
    {
     "name": "stderr",
     "output_type": "stream",
     "text": [
      "C:\\Users\\valm044\\Anaconda3\\lib\\site-packages\\sklearn\\metrics\\_classification.py:1272: UndefinedMetricWarning: Precision is ill-defined and being set to 0.0 in labels with no predicted samples. Use `zero_division` parameter to control this behavior.\n",
      "  _warn_prf(average, modifier, msg_start, len(result))\n"
     ]
    }
   ],
   "source": [
    "print(\"Precision: \", metrics.precision_score(y_test, y_predicted_test, labels=None, pos_label=1, average='weighted', \n",
    "                                        sample_weight=None,zero_division='warn'))"
   ]
  },
  {
   "cell_type": "code",
   "execution_count": 78,
   "metadata": {},
   "outputs": [
    {
     "name": "stdout",
     "output_type": "stream",
     "text": [
      "Recall: 0.25\n"
     ]
    }
   ],
   "source": [
    "\n",
    "print (\"Recall:\", metrics.recall_score(y_test, y_predicted_test,  average='macro') )\n"
   ]
  },
  {
   "cell_type": "code",
   "execution_count": 79,
   "metadata": {},
   "outputs": [
    {
     "name": "stdout",
     "output_type": "stream",
     "text": [
      "F1 score: 0.15384615384615385\n"
     ]
    }
   ],
   "source": [
    "print (\"F1 score:\", metrics.f1_score(y_test, y_predicted_test, average='macro'))"
   ]
  },
  {
   "cell_type": "markdown",
   "metadata": {},
   "source": [
    "# 7.3. NAYVE BAYES"
   ]
  },
  {
   "cell_type": "code",
   "execution_count": null,
   "metadata": {},
   "outputs": [],
   "source": []
  },
  {
   "cell_type": "code",
   "execution_count": 80,
   "metadata": {},
   "outputs": [
    {
     "data": {
      "text/plain": [
       "GaussianNB(priors=None, var_smoothing=1e-09)"
      ]
     },
     "execution_count": 80,
     "metadata": {},
     "output_type": "execute_result"
    }
   ],
   "source": [
    "#Import Gaussian Naive Bayes model\n",
    "from sklearn.naive_bayes import GaussianNB\n",
    "\n",
    "#Create a Gaussian Classifier\n",
    "gnb = GaussianNB()\n",
    "\n",
    "#Train the model using the training sets\n",
    "gnb.fit(X_train, y_train)\n",
    "\n",
    "\n",
    "\n"
   ]
  },
  {
   "cell_type": "code",
   "execution_count": 81,
   "metadata": {},
   "outputs": [],
   "source": [
    "y_predicted_train = gnb.predict(X_train)\n",
    "y_predicted_test = gnb.predict(X_test)"
   ]
  },
  {
   "cell_type": "code",
   "execution_count": 82,
   "metadata": {},
   "outputs": [
    {
     "name": "stdout",
     "output_type": "stream",
     "text": [
      "Accuracy: 0.825\n"
     ]
    },
    {
     "data": {
      "text/plain": [
       "0.0"
      ]
     },
     "execution_count": 82,
     "metadata": {},
     "output_type": "execute_result"
    }
   ],
   "source": [
    "startTimeKNN = time.time()\n",
    "print(\"Accuracy:\", metrics.accuracy_score(y_predicted_train, y_train))\n",
    "\n",
    "endtimeKNN = time.time()\n",
    "eval_KNN_sec = endtimeKNN - startTimeKNN\n",
    "eval_KNN_sec"
   ]
  },
  {
   "cell_type": "code",
   "execution_count": 83,
   "metadata": {},
   "outputs": [
    {
     "name": "stdout",
     "output_type": "stream",
     "text": [
      "Precision:  0.13333333333333333\n"
     ]
    },
    {
     "name": "stderr",
     "output_type": "stream",
     "text": [
      "C:\\Users\\valm044\\Anaconda3\\lib\\site-packages\\sklearn\\metrics\\_classification.py:1272: UndefinedMetricWarning: Precision is ill-defined and being set to 0.0 in labels with no predicted samples. Use `zero_division` parameter to control this behavior.\n",
      "  _warn_prf(average, modifier, msg_start, len(result))\n"
     ]
    }
   ],
   "source": [
    "print(\"Precision: \", metrics.precision_score(y_test, y_predicted_test, labels=None, pos_label=1, average='weighted', \n",
    "                                        sample_weight=None,zero_division='warn'))"
   ]
  },
  {
   "cell_type": "code",
   "execution_count": 84,
   "metadata": {},
   "outputs": [
    {
     "name": "stdout",
     "output_type": "stream",
     "text": [
      "Recall: 0.25\n"
     ]
    }
   ],
   "source": [
    "\n",
    "print (\"Recall:\", metrics.recall_score(y_test, y_predicted_test,  average='macro') )"
   ]
  },
  {
   "cell_type": "code",
   "execution_count": 85,
   "metadata": {},
   "outputs": [
    {
     "name": "stdout",
     "output_type": "stream",
     "text": [
      "F1 score: 0.15384615384615385\n"
     ]
    }
   ],
   "source": [
    "print (\"F1 score:\", metrics.f1_score(y_test, y_predicted_test, average='macro'))"
   ]
  },
  {
   "cell_type": "markdown",
   "metadata": {},
   "source": [
    "# <font color=\"blue\">8.  CONCLUSIONS</font>"
   ]
  },
  {
   "cell_type": "markdown",
   "metadata": {},
   "source": [
    "https://machinelearningmastery.com/compare-machine-learning-algorithms-python-scikit-learn/"
   ]
  },
  {
   "cell_type": "markdown",
   "metadata": {},
   "source": [
    "# Model Comparation"
   ]
  },
  {
   "cell_type": "code",
   "execution_count": 125,
   "metadata": {},
   "outputs": [],
   "source": [
    "# Mode iterative:\n",
    "\n",
    "import pandas as pd\n",
    "import matplotlib.pyplot as plt\n",
    "import statistics\n",
    "import numpy as np\n",
    "import scipy.stats\n",
    "import seaborn as sns\n",
    "\n",
    "from sklearn.model_selection import train_test_split\n",
    "import time\n",
    "\n",
    "from sklearn import metrics\n",
    "from sklearn.metrics import accuracy_score\n",
    "from sklearn.metrics import classification_report, confusion_matrix\n",
    "\n",
    "from sklearn import neighbors, datasets\n",
    "from sklearn import tree\n",
    "from sklearn.naive_bayes import GaussianNB\n"
   ]
  },
  {
   "cell_type": "code",
   "execution_count": 126,
   "metadata": {},
   "outputs": [],
   "source": [
    "def metrics_models(df, model, y_predicted_test,y_test, y_predicted_train, y_train): \n",
    "    \n",
    "    startTime = time.time()\n",
    "    \n",
    "    accuracy= metrics.accuracy_score(y_predicted_train, y_train)\n",
    "    precision =  metrics.precision_score(y_test, y_predicted_test, labels=None, pos_label=1, average='weighted', \n",
    "                                        sample_weight=None,zero_division='warn')\n",
    "    \n",
    "    recall =  metrics.recall_score(y_test, y_predicted_test,  average='macro') \n",
    "    f1Score = metrics.f1_score(y_test, y_predicted_test, average='macro')\n",
    "    \n",
    "    endtime = time.time()\n",
    "    eval_sec = endtime - startTime\n",
    "\n",
    "   "
   ]
  },
  {
   "cell_type": "code",
   "execution_count": 139,
   "metadata": {},
   "outputs": [
    {
     "name": "stderr",
     "output_type": "stream",
     "text": [
      "C:\\Users\\valm044\\Anaconda3\\lib\\site-packages\\sklearn\\metrics\\_classification.py:1272: UndefinedMetricWarning: Precision is ill-defined and being set to 0.0 in labels with no predicted samples. Use `zero_division` parameter to control this behavior.\n",
      "  _warn_prf(average, modifier, msg_start, len(result))\n",
      "C:\\Users\\valm044\\Anaconda3\\lib\\site-packages\\sklearn\\metrics\\_classification.py:1272: UndefinedMetricWarning: Precision is ill-defined and being set to 0.0 in labels with no predicted samples. Use `zero_division` parameter to control this behavior.\n",
      "  _warn_prf(average, modifier, msg_start, len(result))\n",
      "C:\\Users\\valm044\\Anaconda3\\lib\\site-packages\\sklearn\\metrics\\_classification.py:1272: UndefinedMetricWarning: Precision is ill-defined and being set to 0.0 in labels with no predicted samples. Use `zero_division` parameter to control this behavior.\n",
      "  _warn_prf(average, modifier, msg_start, len(result))\n"
     ]
    },
    {
     "data": {
      "text/html": [
       "<div>\n",
       "<style scoped>\n",
       "    .dataframe tbody tr th:only-of-type {\n",
       "        vertical-align: middle;\n",
       "    }\n",
       "\n",
       "    .dataframe tbody tr th {\n",
       "        vertical-align: top;\n",
       "    }\n",
       "\n",
       "    .dataframe thead th {\n",
       "        text-align: right;\n",
       "    }\n",
       "</style>\n",
       "<table border=\"1\" class=\"dataframe\">\n",
       "  <thead>\n",
       "    <tr style=\"text-align: right;\">\n",
       "      <th></th>\n",
       "      <th>KNN</th>\n",
       "      <th>Tree_Gini</th>\n",
       "      <th>Tree_Entropy</th>\n",
       "      <th>Bayes</th>\n",
       "    </tr>\n",
       "  </thead>\n",
       "  <tbody>\n",
       "    <tr>\n",
       "      <th>Accuracy</th>\n",
       "      <td>0.847</td>\n",
       "      <td>0.848</td>\n",
       "      <td>0.841</td>\n",
       "      <td>0.017</td>\n",
       "    </tr>\n",
       "    <tr>\n",
       "      <th>Precision</th>\n",
       "      <td>0.815</td>\n",
       "      <td>0.831</td>\n",
       "      <td>0.829</td>\n",
       "      <td>0.584</td>\n",
       "    </tr>\n",
       "    <tr>\n",
       "      <th>Recall</th>\n",
       "      <td>0.412</td>\n",
       "      <td>0.421</td>\n",
       "      <td>0.422</td>\n",
       "      <td>0.242</td>\n",
       "    </tr>\n",
       "    <tr>\n",
       "      <th>F1Score</th>\n",
       "      <td>0.415</td>\n",
       "      <td>0.414</td>\n",
       "      <td>0.411</td>\n",
       "      <td>0.018</td>\n",
       "    </tr>\n",
       "    <tr>\n",
       "      <th>FitTime</th>\n",
       "      <td>21.431</td>\n",
       "      <td>0.0717804</td>\n",
       "      <td>0.0710199</td>\n",
       "      <td>0.0473673</td>\n",
       "    </tr>\n",
       "    <tr>\n",
       "      <th>MetricsTime</th>\n",
       "      <td>314.933</td>\n",
       "      <td>0.0260022</td>\n",
       "      <td>0.031019</td>\n",
       "      <td>0.0220037</td>\n",
       "    </tr>\n",
       "  </tbody>\n",
       "</table>\n",
       "</div>"
      ],
      "text/plain": [
       "                 KNN  Tree_Gini Tree_Entropy      Bayes\n",
       "Accuracy       0.847      0.848        0.841      0.017\n",
       "Precision      0.815      0.831        0.829      0.584\n",
       "Recall         0.412      0.421        0.422      0.242\n",
       "F1Score        0.415      0.414        0.411      0.018\n",
       "FitTime       21.431  0.0717804    0.0710199  0.0473673\n",
       "MetricsTime  314.933  0.0260022     0.031019  0.0220037"
      ]
     },
     "execution_count": 139,
     "metadata": {},
     "output_type": "execute_result"
    }
   ],
   "source": [
    "# Load Data\n",
    "\n",
    "dataOriginal = pd.read_csv(\"covid.csv\")\n",
    "pd.set_option('display.max_rows', None)\n",
    "dataOriginal = dataOriginal.head(50)\n",
    "dataOriginal.head(5)\n",
    "\n",
    "\n",
    "# Labels for descriptors\n",
    "\n",
    "datalabels = ['id', 'sex', 'patient_type', 'entry_date', 'date_symptoms',\n",
    "              'date_died','intubed','pneumonia','age','pregnancy','diabetes','copd','asthma','inmsupr','hypertension',\n",
    "              'other_disease','cardiovascular','obesity','renal_chronic','tobacco','contact_other_covid'\n",
    "              ,'covid_res','icu']\n",
    "\n",
    "# Ignored: id, entrydate, date_symptons, date_died, icu\n",
    "predictors = ['sex', 'age','pneumonia','contact_other_covid','covid_res',\n",
    "              'pregnancy','diabetes','copd','asthma','inmsupr',\n",
    "              'hypertension','other_disease','cardiovascular','obesity','renal_chronic','tobacco'\n",
    "             ]\n",
    "\n",
    "target_column= 'icu'\n",
    "\n",
    "target_column2 = 'intubed'\n",
    "\n",
    "model_columns = ['sex', 'age','pneumonia','contact_other_covid','covid_res',\n",
    "              'pregnancy','diabetes','copd','asthma','inmsupr',\n",
    "              'hypertension','other_disease','cardiovascular','obesity','renal_chronic','tobacco', target_column]\n",
    "\n",
    "dataModel =  dataOriginal[dataOriginal['age']<95]\n",
    "\n",
    "# Split in traning and test sets\n",
    "\n",
    "from sklearn.model_selection import train_test_split\n",
    "\n",
    "X_train, X_test, y_train, y_test =train_test_split(dataModel[predictors], \n",
    "                                                   dataModel[target_column], \n",
    "                                                   test_size=0.20, random_state=44)\n",
    "\n",
    "models = ['KNN', 'Tree_Gini', 'Tree_Entropy', 'Bayes']\n",
    "metrics_labels = ['Accuracy', 'Precision', 'Recall', 'F1Score', 'FitTime', 'MetricsTime']\n",
    "df2 = pd.DataFrame(index=metrics_labels, columns=models)\n",
    "\n",
    "# KNN Model\n",
    "#==========\n",
    "startTime = time.time()\n",
    "weights = 'uniform'\n",
    "k_neighbors = 15\n",
    "model1 = neighbors.KNeighborsClassifier(weights=weights)\n",
    "model1.fit(X_train, y_train.values.ravel())\n",
    "endtime = time.time()\n",
    "evalTimeKNN = endtime - startTime\n",
    "\n",
    "startTime = time.time()\n",
    "y_predicted_test= model1.predict(X_test)\n",
    "y_predicted_train = model1.predict(X_train)\n",
    "\n",
    "accuracy= metrics.accuracy_score(y_predicted_train, y_train)\n",
    "precision =  metrics.precision_score(y_test, y_predicted_test, labels=None, pos_label=1, average='weighted', \n",
    "                                        sample_weight=None,zero_division='warn')\n",
    "recall =  metrics.recall_score(y_test, y_predicted_test,  average='macro') \n",
    "f1Score = metrics.f1_score(y_test, y_predicted_test, average='macro')\n",
    "endtime = time.time()\n",
    "eval_secKNN = endtime - startTime\n",
    "\n",
    "model = 'KNN'\n",
    "df2[model]['Precision'] = precision.round(3)\n",
    "df2[model]['Accuracy'] = accuracy.round(3)\n",
    "df2[model]['Recall'] = recall.round(3)\n",
    "df2[model]['F1Score'] = f1Score.round(3)\n",
    "df2[model]['FitTime'] = evalTimeKNN\n",
    "df2[model]['MetricsTime'] = eval_secKNN\n",
    "\n",
    "#Desicion Tree - Gini\n",
    "#=======================\n",
    "startTimeDTG = time.time()\n",
    "desicionTree1 = tree.DecisionTreeClassifier(max_depth =3, criterion='gini', random_state=44, min_samples_leaf=5)\n",
    "desicionTree1.fit(X_train, y_train)\n",
    "endtimeDTG = time.time()\n",
    "evalTimeDTG = endtimeDTG - startTimeDTG\n",
    "\n",
    "y_predicted_test= desicionTree1.predict(X_test)\n",
    "y_predicted_train = desicionTree1.predict(X_train)\n",
    "\n",
    "startTime = time.time()\n",
    "accuracy= metrics.accuracy_score(y_predicted_train, y_train)\n",
    "precision =  metrics.precision_score(y_test, y_predicted_test, labels=None, pos_label=1, average='weighted', \n",
    "                                        sample_weight=None,zero_division='warn')\n",
    "recall =  metrics.recall_score(y_test, y_predicted_test,  average='macro') \n",
    "f1Score = metrics.f1_score(y_test, y_predicted_test, average='macro')\n",
    "endtime = time.time()\n",
    "\n",
    "eval_sec = endtime - startTime\n",
    "\n",
    "model = 'Tree_Gini'\n",
    "df2[model]['Precision'] = precision.round(3)\n",
    "df2[model]['Accuracy'] = accuracy.round(3)\n",
    "df2[model]['Recall'] = recall.round(3)\n",
    "df2[model]['F1Score'] = f1Score.round(3)\n",
    "df2[model]['FitTime'] = evalTimeDTG\n",
    "df2[model]['MetricsTime'] = eval_sec\n",
    "\n",
    "\n",
    "# Desicion Tree - Entropy\n",
    "#===============================\n",
    "\n",
    "startTimeDTG = time.time()\n",
    "desicionTree2 = tree.DecisionTreeClassifier(max_depth =3, criterion='entropy', random_state=44, min_samples_leaf=5)\n",
    "desicionTree2.fit(X_train, y_train)\n",
    "endtimeDTG = time.time()\n",
    "evalTimeDTG = endtimeDTG - startTimeDTG\n",
    "\n",
    "y_predicted_test= desicionTree2.predict(X_test)\n",
    "y_predicted_train = desicionTree2.predict(X_train)\n",
    "\n",
    "startTime = time.time()\n",
    "accuracy= metrics.accuracy_score(y_predicted_train, y_train)\n",
    "precision =  metrics.precision_score(y_test, y_predicted_test, labels=None, pos_label=1, average='weighted', \n",
    "                                        sample_weight=None,zero_division='warn')\n",
    "recall =  metrics.recall_score(y_test, y_predicted_test,  average='macro') \n",
    "f1Score = metrics.f1_score(y_test, y_predicted_test, average='macro')\n",
    "endtime = time.time()\n",
    "\n",
    "eval_sec = endtime - startTime\n",
    "\n",
    "model = 'Tree_Entropy'\n",
    "df2[model]['Precision'] = precision.round(3)\n",
    "df2[model]['Accuracy'] = accuracy.round(3)\n",
    "df2[model]['Recall'] = recall.round(3)\n",
    "df2[model]['F1Score'] = f1Score.round(3)\n",
    "df2[model]['FitTime'] = evalTimeDTG\n",
    "df2[model]['MetricsTime'] = eval_sec\n",
    "\n",
    "# Nayve bayes\n",
    "#============\n",
    "\n",
    "startTimeDTG = time.time()\n",
    "gnb = GaussianNB()\n",
    "gnb.fit(X_train, y_train)\n",
    "endtimeDTG = time.time()\n",
    "evalTimeDTG = endtimeDTG - startTimeDTG\n",
    "\n",
    "y_predicted_test= gnb.predict(X_test)\n",
    "y_predicted_train = gnb.predict(X_train)\n",
    "\n",
    "startTime = time.time()\n",
    "accuracy= metrics.accuracy_score(y_predicted_train, y_train)\n",
    "precision =  metrics.precision_score(y_test, y_predicted_test, labels=None, pos_label=1, average='weighted', \n",
    "                                        sample_weight=None,zero_division='warn')\n",
    "recall =  metrics.recall_score(y_test, y_predicted_test,  average='macro') \n",
    "f1Score = metrics.f1_score(y_test, y_predicted_test, average='macro')\n",
    "endtime = time.time()\n",
    "\n",
    "eval_sec = endtime - startTime\n",
    "\n",
    "model = 'Bayes'\n",
    "df2[model]['Precision'] = precision.round(3)\n",
    "df2[model]['Accuracy'] = accuracy.round(3)\n",
    "df2[model]['Recall'] = recall.round(3)\n",
    "df2[model]['F1Score'] = f1Score.round(3)\n",
    "df2[model]['FitTime'] = evalTimeDTG\n",
    "df2[model]['MetricsTime'] = eval_sec\n",
    "df2"
   ]
  },
  {
   "cell_type": "code",
   "execution_count": 135,
   "metadata": {},
   "outputs": [
    {
     "data": {
      "text/plain": [
       "(40,)"
      ]
     },
     "execution_count": 135,
     "metadata": {},
     "output_type": "execute_result"
    }
   ],
   "source": [
    "y_predicted_train.shape"
   ]
  },
  {
   "cell_type": "code",
   "execution_count": null,
   "metadata": {},
   "outputs": [],
   "source": []
  }
 ],
 "metadata": {
  "kernelspec": {
   "display_name": "Python 3",
   "language": "python",
   "name": "python3"
  },
  "language_info": {
   "codemirror_mode": {
    "name": "ipython",
    "version": 3
   },
   "file_extension": ".py",
   "mimetype": "text/x-python",
   "name": "python",
   "nbconvert_exporter": "python",
   "pygments_lexer": "ipython3",
   "version": "3.7.6"
  }
 },
 "nbformat": 4,
 "nbformat_minor": 4
}
