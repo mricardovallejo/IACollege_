{
 "cells": [
  {
   "cell_type": "markdown",
   "metadata": {},
   "source": [
    "# <font color=green>TP FINAL - ALGORITHMES D'APPRENTISSAGE SUPERVISÉ</font>\n",
    "\n",
    "- Ricardo Vallejo\n",
    "- Yulia Kalugina"
   ]
  },
  {
   "cell_type": "markdown",
   "metadata": {},
   "source": [
    "#  <font color=blue>1.  LOAD DATA</font>"
   ]
  },
  {
   "cell_type": "code",
   "execution_count": 88,
   "metadata": {},
   "outputs": [
    {
     "data": {
      "text/html": [
       "<div>\n",
       "<style scoped>\n",
       "    .dataframe tbody tr th:only-of-type {\n",
       "        vertical-align: middle;\n",
       "    }\n",
       "\n",
       "    .dataframe tbody tr th {\n",
       "        vertical-align: top;\n",
       "    }\n",
       "\n",
       "    .dataframe thead th {\n",
       "        text-align: right;\n",
       "    }\n",
       "</style>\n",
       "<table border=\"1\" class=\"dataframe\">\n",
       "  <thead>\n",
       "    <tr style=\"text-align: right;\">\n",
       "      <th></th>\n",
       "      <th>id</th>\n",
       "      <th>sex</th>\n",
       "      <th>patient_type</th>\n",
       "      <th>entry_date</th>\n",
       "      <th>date_symptoms</th>\n",
       "      <th>date_died</th>\n",
       "      <th>intubed</th>\n",
       "      <th>pneumonia</th>\n",
       "      <th>age</th>\n",
       "      <th>pregnancy</th>\n",
       "      <th>...</th>\n",
       "      <th>inmsupr</th>\n",
       "      <th>hypertension</th>\n",
       "      <th>other_disease</th>\n",
       "      <th>cardiovascular</th>\n",
       "      <th>obesity</th>\n",
       "      <th>renal_chronic</th>\n",
       "      <th>tobacco</th>\n",
       "      <th>contact_other_covid</th>\n",
       "      <th>covid_res</th>\n",
       "      <th>icu</th>\n",
       "    </tr>\n",
       "  </thead>\n",
       "  <tbody>\n",
       "    <tr>\n",
       "      <th>0</th>\n",
       "      <td>16169f</td>\n",
       "      <td>2</td>\n",
       "      <td>1</td>\n",
       "      <td>04-05-2020</td>\n",
       "      <td>02-05-2020</td>\n",
       "      <td>9999-99-99</td>\n",
       "      <td>97</td>\n",
       "      <td>2</td>\n",
       "      <td>27</td>\n",
       "      <td>97</td>\n",
       "      <td>...</td>\n",
       "      <td>2</td>\n",
       "      <td>2</td>\n",
       "      <td>2</td>\n",
       "      <td>2</td>\n",
       "      <td>2</td>\n",
       "      <td>2</td>\n",
       "      <td>2</td>\n",
       "      <td>2</td>\n",
       "      <td>1</td>\n",
       "      <td>97</td>\n",
       "    </tr>\n",
       "    <tr>\n",
       "      <th>1</th>\n",
       "      <td>1009bf</td>\n",
       "      <td>2</td>\n",
       "      <td>1</td>\n",
       "      <td>19-03-2020</td>\n",
       "      <td>17-03-2020</td>\n",
       "      <td>9999-99-99</td>\n",
       "      <td>97</td>\n",
       "      <td>2</td>\n",
       "      <td>24</td>\n",
       "      <td>97</td>\n",
       "      <td>...</td>\n",
       "      <td>2</td>\n",
       "      <td>2</td>\n",
       "      <td>2</td>\n",
       "      <td>2</td>\n",
       "      <td>2</td>\n",
       "      <td>2</td>\n",
       "      <td>2</td>\n",
       "      <td>99</td>\n",
       "      <td>1</td>\n",
       "      <td>97</td>\n",
       "    </tr>\n",
       "    <tr>\n",
       "      <th>2</th>\n",
       "      <td>167386</td>\n",
       "      <td>1</td>\n",
       "      <td>2</td>\n",
       "      <td>06-04-2020</td>\n",
       "      <td>01-04-2020</td>\n",
       "      <td>9999-99-99</td>\n",
       "      <td>2</td>\n",
       "      <td>2</td>\n",
       "      <td>54</td>\n",
       "      <td>2</td>\n",
       "      <td>...</td>\n",
       "      <td>2</td>\n",
       "      <td>2</td>\n",
       "      <td>2</td>\n",
       "      <td>2</td>\n",
       "      <td>1</td>\n",
       "      <td>2</td>\n",
       "      <td>2</td>\n",
       "      <td>99</td>\n",
       "      <td>1</td>\n",
       "      <td>2</td>\n",
       "    </tr>\n",
       "    <tr>\n",
       "      <th>3</th>\n",
       "      <td>0b5948</td>\n",
       "      <td>2</td>\n",
       "      <td>2</td>\n",
       "      <td>17-04-2020</td>\n",
       "      <td>10-04-2020</td>\n",
       "      <td>9999-99-99</td>\n",
       "      <td>2</td>\n",
       "      <td>1</td>\n",
       "      <td>30</td>\n",
       "      <td>97</td>\n",
       "      <td>...</td>\n",
       "      <td>2</td>\n",
       "      <td>2</td>\n",
       "      <td>2</td>\n",
       "      <td>2</td>\n",
       "      <td>2</td>\n",
       "      <td>2</td>\n",
       "      <td>2</td>\n",
       "      <td>99</td>\n",
       "      <td>1</td>\n",
       "      <td>2</td>\n",
       "    </tr>\n",
       "    <tr>\n",
       "      <th>4</th>\n",
       "      <td>0d01b5</td>\n",
       "      <td>1</td>\n",
       "      <td>2</td>\n",
       "      <td>13-04-2020</td>\n",
       "      <td>13-04-2020</td>\n",
       "      <td>22-04-2020</td>\n",
       "      <td>2</td>\n",
       "      <td>2</td>\n",
       "      <td>60</td>\n",
       "      <td>2</td>\n",
       "      <td>...</td>\n",
       "      <td>2</td>\n",
       "      <td>1</td>\n",
       "      <td>2</td>\n",
       "      <td>1</td>\n",
       "      <td>2</td>\n",
       "      <td>2</td>\n",
       "      <td>2</td>\n",
       "      <td>99</td>\n",
       "      <td>1</td>\n",
       "      <td>2</td>\n",
       "    </tr>\n",
       "  </tbody>\n",
       "</table>\n",
       "<p>5 rows × 23 columns</p>\n",
       "</div>"
      ],
      "text/plain": [
       "       id  sex  patient_type  entry_date date_symptoms   date_died  intubed  \\\n",
       "0  16169f    2             1  04-05-2020    02-05-2020  9999-99-99       97   \n",
       "1  1009bf    2             1  19-03-2020    17-03-2020  9999-99-99       97   \n",
       "2  167386    1             2  06-04-2020    01-04-2020  9999-99-99        2   \n",
       "3  0b5948    2             2  17-04-2020    10-04-2020  9999-99-99        2   \n",
       "4  0d01b5    1             2  13-04-2020    13-04-2020  22-04-2020        2   \n",
       "\n",
       "   pneumonia  age  pregnancy  ...  inmsupr  hypertension  other_disease  \\\n",
       "0          2   27         97  ...        2             2              2   \n",
       "1          2   24         97  ...        2             2              2   \n",
       "2          2   54          2  ...        2             2              2   \n",
       "3          1   30         97  ...        2             2              2   \n",
       "4          2   60          2  ...        2             1              2   \n",
       "\n",
       "   cardiovascular  obesity  renal_chronic  tobacco  contact_other_covid  \\\n",
       "0               2        2              2        2                    2   \n",
       "1               2        2              2        2                   99   \n",
       "2               2        1              2        2                   99   \n",
       "3               2        2              2        2                   99   \n",
       "4               1        2              2        2                   99   \n",
       "\n",
       "   covid_res  icu  \n",
       "0          1   97  \n",
       "1          1   97  \n",
       "2          1    2  \n",
       "3          1    2  \n",
       "4          1    2  \n",
       "\n",
       "[5 rows x 23 columns]"
      ]
     },
     "execution_count": 88,
     "metadata": {},
     "output_type": "execute_result"
    }
   ],
   "source": [
    "import pandas as pd\n",
    "import matplotlib.pyplot as plt\n",
    "import statistics\n",
    "import numpy as np\n",
    "import scipy.stats\n",
    "import seaborn as sns\n",
    "\n",
    "dataOriginal = pd.read_csv(\"covid.csv\")\n",
    "pd.set_option('display.max_rows', None)\n",
    "dataOriginal = dataOriginal.head(350000)\n",
    "dataOriginal.head(5)"
   ]
  },
  {
   "cell_type": "markdown",
   "metadata": {},
   "source": [
    "## 1.1. LOAD METADA"
   ]
  },
  {
   "cell_type": "code",
   "execution_count": 89,
   "metadata": {},
   "outputs": [
    {
     "data": {
      "text/html": [
       "<div>\n",
       "<style scoped>\n",
       "    .dataframe tbody tr th:only-of-type {\n",
       "        vertical-align: middle;\n",
       "    }\n",
       "\n",
       "    .dataframe tbody tr th {\n",
       "        vertical-align: top;\n",
       "    }\n",
       "\n",
       "    .dataframe thead th {\n",
       "        text-align: right;\n",
       "    }\n",
       "</style>\n",
       "<table border=\"1\" class=\"dataframe\">\n",
       "  <thead>\n",
       "    <tr style=\"text-align: right;\">\n",
       "      <th></th>\n",
       "      <th>CLAVE</th>\n",
       "      <th>DESCRIPCIÓN</th>\n",
       "    </tr>\n",
       "  </thead>\n",
       "  <tbody>\n",
       "    <tr>\n",
       "      <th>0</th>\n",
       "      <td>1</td>\n",
       "      <td>SI</td>\n",
       "    </tr>\n",
       "    <tr>\n",
       "      <th>1</th>\n",
       "      <td>2</td>\n",
       "      <td>NO</td>\n",
       "    </tr>\n",
       "    <tr>\n",
       "      <th>2</th>\n",
       "      <td>97</td>\n",
       "      <td>NO APLICA</td>\n",
       "    </tr>\n",
       "    <tr>\n",
       "      <th>3</th>\n",
       "      <td>98</td>\n",
       "      <td>SE IGNORA</td>\n",
       "    </tr>\n",
       "    <tr>\n",
       "      <th>4</th>\n",
       "      <td>99</td>\n",
       "      <td>NO ESPECIFICADO</td>\n",
       "    </tr>\n",
       "  </tbody>\n",
       "</table>\n",
       "</div>"
      ],
      "text/plain": [
       "   CLAVE      DESCRIPCIÓN\n",
       "0      1              SI \n",
       "1      2              NO \n",
       "2     97        NO APLICA\n",
       "3     98        SE IGNORA\n",
       "4     99  NO ESPECIFICADO"
      ]
     },
     "execution_count": 89,
     "metadata": {},
     "output_type": "execute_result"
    }
   ],
   "source": [
    "cat_si_no = pd.read_excel(\"Catalogs.xlsx\", 'Catálogo SI_NO')\n",
    "pd.set_option('display.max_rows', None)\n",
    "cat_si_no.head(5)"
   ]
  },
  {
   "cell_type": "code",
   "execution_count": 90,
   "metadata": {},
   "outputs": [
    {
     "data": {
      "text/html": [
       "<div>\n",
       "<style scoped>\n",
       "    .dataframe tbody tr th:only-of-type {\n",
       "        vertical-align: middle;\n",
       "    }\n",
       "\n",
       "    .dataframe tbody tr th {\n",
       "        vertical-align: top;\n",
       "    }\n",
       "\n",
       "    .dataframe thead th {\n",
       "        text-align: right;\n",
       "    }\n",
       "</style>\n",
       "<table border=\"1\" class=\"dataframe\">\n",
       "  <thead>\n",
       "    <tr style=\"text-align: right;\">\n",
       "      <th></th>\n",
       "      <th>CLAVE</th>\n",
       "      <th>DESCRIPCIÓN</th>\n",
       "    </tr>\n",
       "  </thead>\n",
       "  <tbody>\n",
       "    <tr>\n",
       "      <th>0</th>\n",
       "      <td>1</td>\n",
       "      <td>AMBULATORIO</td>\n",
       "    </tr>\n",
       "    <tr>\n",
       "      <th>1</th>\n",
       "      <td>2</td>\n",
       "      <td>HOSPITALIZADO</td>\n",
       "    </tr>\n",
       "    <tr>\n",
       "      <th>2</th>\n",
       "      <td>99</td>\n",
       "      <td>NO ESPECIFICADO</td>\n",
       "    </tr>\n",
       "  </tbody>\n",
       "</table>\n",
       "</div>"
      ],
      "text/plain": [
       "   CLAVE      DESCRIPCIÓN\n",
       "0      1      AMBULATORIO\n",
       "1      2    HOSPITALIZADO\n",
       "2     99  NO ESPECIFICADO"
      ]
     },
     "execution_count": 90,
     "metadata": {},
     "output_type": "execute_result"
    }
   ],
   "source": [
    "cat_pacient_type = pd.read_excel(\"Catalogs.xlsx\", 'Catálogo TIPO_PACIENTE')\n",
    "pd.set_option('display.max_rows', None)\n",
    "cat_pacient_type.head(5)"
   ]
  },
  {
   "cell_type": "code",
   "execution_count": 91,
   "metadata": {},
   "outputs": [
    {
     "data": {
      "text/html": [
       "<div>\n",
       "<style scoped>\n",
       "    .dataframe tbody tr th:only-of-type {\n",
       "        vertical-align: middle;\n",
       "    }\n",
       "\n",
       "    .dataframe tbody tr th {\n",
       "        vertical-align: top;\n",
       "    }\n",
       "\n",
       "    .dataframe thead th {\n",
       "        text-align: right;\n",
       "    }\n",
       "</style>\n",
       "<table border=\"1\" class=\"dataframe\">\n",
       "  <thead>\n",
       "    <tr style=\"text-align: right;\">\n",
       "      <th></th>\n",
       "      <th>CLAVE</th>\n",
       "      <th>DESCRIPCIÓN</th>\n",
       "    </tr>\n",
       "  </thead>\n",
       "  <tbody>\n",
       "    <tr>\n",
       "      <th>0</th>\n",
       "      <td>1</td>\n",
       "      <td>MUJER</td>\n",
       "    </tr>\n",
       "    <tr>\n",
       "      <th>1</th>\n",
       "      <td>2</td>\n",
       "      <td>HOMBRE</td>\n",
       "    </tr>\n",
       "    <tr>\n",
       "      <th>2</th>\n",
       "      <td>99</td>\n",
       "      <td>NO ESPECIFICADO</td>\n",
       "    </tr>\n",
       "  </tbody>\n",
       "</table>\n",
       "</div>"
      ],
      "text/plain": [
       "   CLAVE      DESCRIPCIÓN\n",
       "0      1            MUJER\n",
       "1      2           HOMBRE\n",
       "2     99  NO ESPECIFICADO"
      ]
     },
     "execution_count": 91,
     "metadata": {},
     "output_type": "execute_result"
    }
   ],
   "source": [
    "cat_sex = pd.read_excel(\"Catalogs.xlsx\", 'Catálogo SEXO')\n",
    "pd.set_option('display.max_rows', None)\n",
    "cat_sex.head(5)"
   ]
  },
  {
   "cell_type": "code",
   "execution_count": 92,
   "metadata": {},
   "outputs": [
    {
     "data": {
      "text/html": [
       "<div>\n",
       "<style scoped>\n",
       "    .dataframe tbody tr th:only-of-type {\n",
       "        vertical-align: middle;\n",
       "    }\n",
       "\n",
       "    .dataframe tbody tr th {\n",
       "        vertical-align: top;\n",
       "    }\n",
       "\n",
       "    .dataframe thead th {\n",
       "        text-align: right;\n",
       "    }\n",
       "</style>\n",
       "<table border=\"1\" class=\"dataframe\">\n",
       "  <thead>\n",
       "    <tr style=\"text-align: right;\">\n",
       "      <th></th>\n",
       "      <th>CLAVE</th>\n",
       "      <th>DESCRIPCIÓN</th>\n",
       "    </tr>\n",
       "  </thead>\n",
       "  <tbody>\n",
       "    <tr>\n",
       "      <th>0</th>\n",
       "      <td>1</td>\n",
       "      <td>MUJER</td>\n",
       "    </tr>\n",
       "    <tr>\n",
       "      <th>1</th>\n",
       "      <td>2</td>\n",
       "      <td>HOMBRE</td>\n",
       "    </tr>\n",
       "    <tr>\n",
       "      <th>2</th>\n",
       "      <td>99</td>\n",
       "      <td>NO ESPECIFICADO</td>\n",
       "    </tr>\n",
       "  </tbody>\n",
       "</table>\n",
       "</div>"
      ],
      "text/plain": [
       "   CLAVE      DESCRIPCIÓN\n",
       "0      1            MUJER\n",
       "1      2           HOMBRE\n",
       "2     99  NO ESPECIFICADO"
      ]
     },
     "execution_count": 92,
     "metadata": {},
     "output_type": "execute_result"
    }
   ],
   "source": [
    "cat_result = pd.read_excel(\"Catalogs.xlsx\", 'Catálogo RESULTADO')\n",
    "pd.set_option('display.max_rows', None)\n",
    "cat_sex.head(5)"
   ]
  },
  {
   "cell_type": "markdown",
   "metadata": {},
   "source": [
    "<div style=\"page-break-after: always;\"></div>"
   ]
  },
  {
   "cell_type": "markdown",
   "metadata": {},
   "source": [
    "## <font color=blue>2. IDENTIFYING MODEL VARIABLES </font>\n"
   ]
  },
  {
   "cell_type": "raw",
   "metadata": {},
   "source": [
    "We are going to predict if the pacient needs ICU"
   ]
  },
  {
   "cell_type": "code",
   "execution_count": 93,
   "metadata": {},
   "outputs": [
    {
     "data": {
      "text/html": [
       "<div>\n",
       "<style scoped>\n",
       "    .dataframe tbody tr th:only-of-type {\n",
       "        vertical-align: middle;\n",
       "    }\n",
       "\n",
       "    .dataframe tbody tr th {\n",
       "        vertical-align: top;\n",
       "    }\n",
       "\n",
       "    .dataframe thead th {\n",
       "        text-align: right;\n",
       "    }\n",
       "</style>\n",
       "<table border=\"1\" class=\"dataframe\">\n",
       "  <thead>\n",
       "    <tr style=\"text-align: right;\">\n",
       "      <th></th>\n",
       "      <th>Variable Name</th>\n",
       "      <th>DB Type</th>\n",
       "      <th>Model Type</th>\n",
       "      <th>CATALOG</th>\n",
       "    </tr>\n",
       "  </thead>\n",
       "  <tbody>\n",
       "    <tr>\n",
       "      <th>0</th>\n",
       "      <td>id</td>\n",
       "      <td>String</td>\n",
       "      <td>Non informative</td>\n",
       "      <td>N.A</td>\n",
       "    </tr>\n",
       "    <tr>\n",
       "      <th>1</th>\n",
       "      <td>sex</td>\n",
       "      <td>int</td>\n",
       "      <td>Categorical, Numerical, Non-ordinal, Nominal</td>\n",
       "      <td>Catálogo SEXO</td>\n",
       "    </tr>\n",
       "    <tr>\n",
       "      <th>2</th>\n",
       "      <td>patient_type</td>\n",
       "      <td>String / Date</td>\n",
       "      <td>Categorical, Numerical, Non-ordinal, Nominal</td>\n",
       "      <td>Catálogo TIPO_PACIENTE</td>\n",
       "    </tr>\n",
       "    <tr>\n",
       "      <th>3</th>\n",
       "      <td>entry_date</td>\n",
       "      <td>String / Date</td>\n",
       "      <td>Date</td>\n",
       "      <td>N.A</td>\n",
       "    </tr>\n",
       "    <tr>\n",
       "      <th>4</th>\n",
       "      <td>date_symptoms</td>\n",
       "      <td>String / Date</td>\n",
       "      <td>Date</td>\n",
       "      <td>N.A</td>\n",
       "    </tr>\n",
       "    <tr>\n",
       "      <th>5</th>\n",
       "      <td>date_died</td>\n",
       "      <td>String / Date</td>\n",
       "      <td>Date</td>\n",
       "      <td>N.A</td>\n",
       "    </tr>\n",
       "    <tr>\n",
       "      <th>6</th>\n",
       "      <td>intubed</td>\n",
       "      <td>int</td>\n",
       "      <td>Categorical, Numerical, Non-ordinal, Nominal</td>\n",
       "      <td>Catálogo SI_NO</td>\n",
       "    </tr>\n",
       "    <tr>\n",
       "      <th>7</th>\n",
       "      <td>pneumonia</td>\n",
       "      <td>int</td>\n",
       "      <td>Categorical, Numerical, Non-ordinal, Nominal</td>\n",
       "      <td>Catálogo SI_NO</td>\n",
       "    </tr>\n",
       "    <tr>\n",
       "      <th>8</th>\n",
       "      <td>age</td>\n",
       "      <td>int</td>\n",
       "      <td>Quantitative, Numerical, Non-ordinal, Nominal</td>\n",
       "      <td>N.A</td>\n",
       "    </tr>\n",
       "    <tr>\n",
       "      <th>9</th>\n",
       "      <td>pregnancy</td>\n",
       "      <td>int</td>\n",
       "      <td>Categorical, Numerical, Non-ordinal, Nominal</td>\n",
       "      <td>Catálogo SI_NO</td>\n",
       "    </tr>\n",
       "    <tr>\n",
       "      <th>10</th>\n",
       "      <td>diabetes</td>\n",
       "      <td>int</td>\n",
       "      <td>Categorical, Numerical, Non-ordinal, Nominal</td>\n",
       "      <td>Catálogo SI_NO</td>\n",
       "    </tr>\n",
       "    <tr>\n",
       "      <th>11</th>\n",
       "      <td>copd</td>\n",
       "      <td>int</td>\n",
       "      <td>Categorical, Numerical, Non-ordinal, Nominal</td>\n",
       "      <td>Catálogo SI_NO</td>\n",
       "    </tr>\n",
       "    <tr>\n",
       "      <th>12</th>\n",
       "      <td>asthma</td>\n",
       "      <td>int</td>\n",
       "      <td>Categorical, Numerical, Non-ordinal, Nominal</td>\n",
       "      <td>Catálogo SI_NO</td>\n",
       "    </tr>\n",
       "    <tr>\n",
       "      <th>13</th>\n",
       "      <td>inmsupr</td>\n",
       "      <td>int</td>\n",
       "      <td>Categorical, Numerical, Non-ordinal, Nominal</td>\n",
       "      <td>Catálogo SI_NO</td>\n",
       "    </tr>\n",
       "    <tr>\n",
       "      <th>14</th>\n",
       "      <td>hypertension</td>\n",
       "      <td>int</td>\n",
       "      <td>Categorical, Numerical, Non-ordinal, Nominal</td>\n",
       "      <td>Catálogo SI_NO</td>\n",
       "    </tr>\n",
       "    <tr>\n",
       "      <th>15</th>\n",
       "      <td>other_disease</td>\n",
       "      <td>int</td>\n",
       "      <td>Categorical, Numerical, Non-ordinal, Nominal</td>\n",
       "      <td>Catálogo SI_NO</td>\n",
       "    </tr>\n",
       "    <tr>\n",
       "      <th>16</th>\n",
       "      <td>cardiovascular</td>\n",
       "      <td>int</td>\n",
       "      <td>Categorical, Numerical, Non-ordinal, Nominal</td>\n",
       "      <td>Catálogo SI_NO</td>\n",
       "    </tr>\n",
       "    <tr>\n",
       "      <th>17</th>\n",
       "      <td>obesity</td>\n",
       "      <td>int</td>\n",
       "      <td>Categorical, Numerical, Non-ordinal, Nominal</td>\n",
       "      <td>Catálogo SI_NO</td>\n",
       "    </tr>\n",
       "    <tr>\n",
       "      <th>18</th>\n",
       "      <td>renal_chronic</td>\n",
       "      <td>int</td>\n",
       "      <td>Categorical, Numerical, Non-ordinal, Nominal</td>\n",
       "      <td>Catálogo SI_NO</td>\n",
       "    </tr>\n",
       "    <tr>\n",
       "      <th>19</th>\n",
       "      <td>tobacco</td>\n",
       "      <td>int</td>\n",
       "      <td>Categorical, Numerical, Non-ordinal, Nominal</td>\n",
       "      <td>Catálogo SI_NO</td>\n",
       "    </tr>\n",
       "    <tr>\n",
       "      <th>20</th>\n",
       "      <td>contact_other_covid</td>\n",
       "      <td>int</td>\n",
       "      <td>Categorical, Numerical, Non-ordinal, Nominal</td>\n",
       "      <td>Catálogo SI_NO</td>\n",
       "    </tr>\n",
       "    <tr>\n",
       "      <th>21</th>\n",
       "      <td>covid_res</td>\n",
       "      <td>int</td>\n",
       "      <td>Categorical, Numerical, Non-ordinal, Nominal</td>\n",
       "      <td>Catálogo RESULTADO</td>\n",
       "    </tr>\n",
       "    <tr>\n",
       "      <th>22</th>\n",
       "      <td>icu</td>\n",
       "      <td>int</td>\n",
       "      <td>Categorical, Numerical, Non-ordinal, Nominal</td>\n",
       "      <td>Catálogo SI_NO</td>\n",
       "    </tr>\n",
       "  </tbody>\n",
       "</table>\n",
       "</div>"
      ],
      "text/plain": [
       "          Variable Name        DB Type  \\\n",
       "0                    id         String   \n",
       "1                   sex            int   \n",
       "2          patient_type  String / Date   \n",
       "3            entry_date  String / Date   \n",
       "4         date_symptoms  String / Date   \n",
       "5             date_died  String / Date   \n",
       "6               intubed            int   \n",
       "7             pneumonia            int   \n",
       "8                   age            int   \n",
       "9             pregnancy            int   \n",
       "10             diabetes            int   \n",
       "11                 copd            int   \n",
       "12               asthma            int   \n",
       "13              inmsupr            int   \n",
       "14         hypertension            int   \n",
       "15        other_disease            int   \n",
       "16       cardiovascular            int   \n",
       "17              obesity            int   \n",
       "18        renal_chronic            int   \n",
       "19              tobacco            int   \n",
       "20  contact_other_covid            int   \n",
       "21            covid_res            int   \n",
       "22                  icu            int   \n",
       "\n",
       "                                       Model Type                 CATALOG  \n",
       "0                                 Non informative                     N.A  \n",
       "1    Categorical, Numerical, Non-ordinal, Nominal           Catálogo SEXO  \n",
       "2    Categorical, Numerical, Non-ordinal, Nominal  Catálogo TIPO_PACIENTE  \n",
       "3                                            Date                     N.A  \n",
       "4                                            Date                     N.A  \n",
       "5                                            Date                     N.A  \n",
       "6    Categorical, Numerical, Non-ordinal, Nominal          Catálogo SI_NO  \n",
       "7    Categorical, Numerical, Non-ordinal, Nominal          Catálogo SI_NO  \n",
       "8   Quantitative, Numerical, Non-ordinal, Nominal                     N.A  \n",
       "9    Categorical, Numerical, Non-ordinal, Nominal          Catálogo SI_NO  \n",
       "10   Categorical, Numerical, Non-ordinal, Nominal          Catálogo SI_NO  \n",
       "11   Categorical, Numerical, Non-ordinal, Nominal          Catálogo SI_NO  \n",
       "12   Categorical, Numerical, Non-ordinal, Nominal          Catálogo SI_NO  \n",
       "13   Categorical, Numerical, Non-ordinal, Nominal          Catálogo SI_NO  \n",
       "14   Categorical, Numerical, Non-ordinal, Nominal          Catálogo SI_NO  \n",
       "15   Categorical, Numerical, Non-ordinal, Nominal          Catálogo SI_NO  \n",
       "16   Categorical, Numerical, Non-ordinal, Nominal          Catálogo SI_NO  \n",
       "17   Categorical, Numerical, Non-ordinal, Nominal          Catálogo SI_NO  \n",
       "18   Categorical, Numerical, Non-ordinal, Nominal          Catálogo SI_NO  \n",
       "19   Categorical, Numerical, Non-ordinal, Nominal          Catálogo SI_NO  \n",
       "20   Categorical, Numerical, Non-ordinal, Nominal          Catálogo SI_NO  \n",
       "21   Categorical, Numerical, Non-ordinal, Nominal      Catálogo RESULTADO  \n",
       "22   Categorical, Numerical, Non-ordinal, Nominal          Catálogo SI_NO  "
      ]
     },
     "execution_count": 93,
     "metadata": {},
     "output_type": "execute_result"
    }
   ],
   "source": [
    "dataInfo = pd.read_excel(\"covidInfo.xlsx\", \"DataTypes\")\n",
    "pd.set_option('display.max_rows', None)\n",
    "dataInfo"
   ]
  },
  {
   "cell_type": "code",
   "execution_count": 94,
   "metadata": {},
   "outputs": [],
   "source": [
    "# All labels\n",
    "datalabels = ['id', 'sex', 'patient_type', 'entry_date', 'date_symptoms',\n",
    "              'date_died','intubed','pneumonia','age','pregnancy','diabetes','copd','asthma','inmsupr','hypertension',\n",
    "              'other_disease','cardiovascular','obesity','renal_chronic','tobacco','contact_other_covid'\n",
    "              ,'covid_res','icu']\n",
    "\n",
    "# Ignored: id, entrydate, date_symptons, date_died, icu\n",
    "predictors = ['sex', 'patient_type',\n",
    "              'intubed','pneumonia','age','pregnancy','diabetes','copd','asthma','inmsupr','hypertension',\n",
    "              'other_disease','cardiovascular','obesity','renal_chronic','tobacco',\n",
    "              'contact_other_covid','covid_res']\n",
    "\n",
    "target_column= 'icu'\n",
    "\n",
    "model_columns = ['sex', 'patient_type',\n",
    "              'intubed','pneumonia','age','pregnancy','diabetes','copd','asthma','inmsupr','hypertension',\n",
    "              'other_disease','cardiovascular','obesity','renal_chronic','tobacco',\n",
    "              'contact_other_covid','covid_res', target_column]\n",
    "\n",
    "prefered_columns = ['sex','cardiovascular','obesity','tobacco','contact_other_covid','covid_res', target_column]"
   ]
  },
  {
   "cell_type": "markdown",
   "metadata": {},
   "source": [
    "<div style=\"page-break-after: always;\"></div>"
   ]
  },
  {
   "cell_type": "markdown",
   "metadata": {},
   "source": [
    "#  <font color=blue>3. DATA EXPLORATION</font>"
   ]
  },
  {
   "cell_type": "markdown",
   "metadata": {},
   "source": [
    "# 3.1.  Inspecting for types and Null values detection"
   ]
  },
  {
   "cell_type": "code",
   "execution_count": 95,
   "metadata": {},
   "outputs": [
    {
     "name": "stdout",
     "output_type": "stream",
     "text": [
      "<class 'pandas.core.frame.DataFrame'>\n",
      "RangeIndex: 350000 entries, 0 to 349999\n",
      "Data columns (total 23 columns):\n",
      " #   Column               Non-Null Count   Dtype \n",
      "---  ------               --------------   ----- \n",
      " 0   id                   350000 non-null  object\n",
      " 1   sex                  350000 non-null  int64 \n",
      " 2   patient_type         350000 non-null  int64 \n",
      " 3   entry_date           350000 non-null  object\n",
      " 4   date_symptoms        350000 non-null  object\n",
      " 5   date_died            350000 non-null  object\n",
      " 6   intubed              350000 non-null  int64 \n",
      " 7   pneumonia            350000 non-null  int64 \n",
      " 8   age                  350000 non-null  int64 \n",
      " 9   pregnancy            350000 non-null  int64 \n",
      " 10  diabetes             350000 non-null  int64 \n",
      " 11  copd                 350000 non-null  int64 \n",
      " 12  asthma               350000 non-null  int64 \n",
      " 13  inmsupr              350000 non-null  int64 \n",
      " 14  hypertension         350000 non-null  int64 \n",
      " 15  other_disease        350000 non-null  int64 \n",
      " 16  cardiovascular       350000 non-null  int64 \n",
      " 17  obesity              350000 non-null  int64 \n",
      " 18  renal_chronic        350000 non-null  int64 \n",
      " 19  tobacco              350000 non-null  int64 \n",
      " 20  contact_other_covid  350000 non-null  int64 \n",
      " 21  covid_res            350000 non-null  int64 \n",
      " 22  icu                  350000 non-null  int64 \n",
      "dtypes: int64(19), object(4)\n",
      "memory usage: 61.4+ MB\n"
     ]
    }
   ],
   "source": [
    "dataOriginal.info()"
   ]
  },
  {
   "cell_type": "code",
   "execution_count": 96,
   "metadata": {},
   "outputs": [
    {
     "data": {
      "text/plain": [
       "0"
      ]
     },
     "execution_count": 96,
     "metadata": {},
     "output_type": "execute_result"
    }
   ],
   "source": [
    "dataOriginal.isnull().values.sum()"
   ]
  },
  {
   "cell_type": "markdown",
   "metadata": {},
   "source": [
    "# 3.1.1.  Searching odd information in numerical descriptor - AGE"
   ]
  },
  {
   "cell_type": "code",
   "execution_count": 97,
   "metadata": {},
   "outputs": [
    {
     "data": {
      "image/png": "[encoded data removed]",
      "text/plain": [
       "<Figure size 576x288 with 1 Axes>"
      ]
     },
     "metadata": {
      "needs_background": "light"
     },
     "output_type": "display_data"
    }
   ],
   "source": [
    "#Diagram de moustache\n",
    "\n",
    "dataOriginal.boxplot(column='age', figsize=(8,4), vert=False)\n",
    "plt.ylabel(\"Valeurs\")\n",
    "plt.title(\"Variable Age.\" )\n",
    "plt.grid()\n",
    "plt.show()"
   ]
  },
  {
   "cell_type": "markdown",
   "metadata": {},
   "source": [
    "<font color='blue'>We filter data with ages with outliers?</font>"
   ]
  },
  {
   "cell_type": "code",
   "execution_count": 98,
   "metadata": {},
   "outputs": [],
   "source": [
    "dataModel =  dataOriginal[dataOriginal['age']<95]"
   ]
  },
  {
   "cell_type": "code",
   "execution_count": 99,
   "metadata": {},
   "outputs": [
    {
     "data": {
      "text/plain": [
       "-374"
      ]
     },
     "execution_count": 99,
     "metadata": {},
     "output_type": "execute_result"
    }
   ],
   "source": [
    "dataModel.shape[0] - dataOriginal.shape[0]"
   ]
  },
  {
   "cell_type": "markdown",
   "metadata": {},
   "source": [
    "<div style=\"page-break-after: always;\"></div>"
   ]
  },
  {
   "cell_type": "markdown",
   "metadata": {},
   "source": [
    "# 3.2. Inspecting quantitative variables - Age"
   ]
  },
  {
   "cell_type": "code",
   "execution_count": 100,
   "metadata": {},
   "outputs": [
    {
     "data": {
      "image/png": "[encoded data removed]",
      "text/plain": [
       "<Figure size 720x360 with 1 Axes>"
      ]
     },
     "metadata": {
      "needs_background": "light"
     },
     "output_type": "display_data"
    }
   ],
   "source": [
    "import seaborn as sns\n",
    "\n",
    "mean=dataModel['age'].mean();\n",
    "median=dataModel['age'].median();\n",
    "mode=dataModel['age'].mode();\n",
    "fig, ax = plt.subplots(figsize=(10,5));\n",
    "\n",
    "sns.distplot(dataModel['age']);\n",
    "plt.title('Distribution Age');\n",
    "plt.axvline(mean,color='green',label='Mean'); \n",
    "plt.axvline(median,color='blue',label='Median');\n",
    "plt.axvline(mode[0],color='red',label='Mode')\n",
    "\n",
    "plt.legend();"
   ]
  },
  {
   "cell_type": "code",
   "execution_count": 101,
   "metadata": {},
   "outputs": [
    {
     "data": {
      "text/plain": [
       "43.55038240863094"
      ]
     },
     "execution_count": 101,
     "metadata": {},
     "output_type": "execute_result"
    }
   ],
   "source": [
    "mean"
   ]
  },
  {
   "cell_type": "code",
   "execution_count": 102,
   "metadata": {},
   "outputs": [
    {
     "data": {
      "text/plain": [
       "0    30\n",
       "dtype: int64"
      ]
     },
     "execution_count": 102,
     "metadata": {},
     "output_type": "execute_result"
    }
   ],
   "source": [
    "mode"
   ]
  },
  {
   "cell_type": "markdown",
   "metadata": {},
   "source": [
    "# 3.3. Inspecting categorical variables "
   ]
  },
  {
   "cell_type": "code",
   "execution_count": 103,
   "metadata": {},
   "outputs": [
    {
     "data": {
      "image/png": "[encoded data removed]",
      "text/plain": [
       "<Figure size 720x864 with 9 Axes>"
      ]
     },
     "metadata": {
      "needs_background": "light"
     },
     "output_type": "display_data"
    }
   ],
   "source": [
    "import matplotlib.pyplot as plt\n",
    "\n",
    "\n",
    "fig, ax =plt.subplots(3,3)\n",
    " \n",
    "fig.set_size_inches(10, 12, forward=True)\n",
    "plt.title(\"Overview Chart to main maladies\")\n",
    "\n",
    "sns.countplot(x='pneumonia', data=dataModel, ax=ax[0,0])\n",
    "sns.countplot(x='asthma', data=dataModel, ax=ax[0,1])\n",
    "sns.countplot(x='tobacco', data=dataModel, ax=ax[0,2])\n",
    "\n",
    "sns.countplot(x='cardiovascular', data=dataModel, ax=ax[1,0])\n",
    "sns.countplot(x='hypertension', data=dataModel, ax=ax[1,1])\n",
    "sns.countplot(x='obesity', data=dataModel, ax=ax[1,2])\n",
    "\n",
    "sns.countplot(x='contact_other_covid', data=dataModel, ax=ax[2,0])\n",
    "sns.countplot(x='covid_res', data=dataModel, ax=ax[2,1])\n",
    "sns.countplot(x='intubed', data=dataModel, ax=ax[2,2])\n",
    "#fig.legend() use handles\n",
    "fig.tight_layout()\n"
   ]
  },
  {
   "cell_type": "code",
   "execution_count": 104,
   "metadata": {},
   "outputs": [
    {
     "data": {
      "text/html": [
       "<div>\n",
       "<style scoped>\n",
       "    .dataframe tbody tr th:only-of-type {\n",
       "        vertical-align: middle;\n",
       "    }\n",
       "\n",
       "    .dataframe tbody tr th {\n",
       "        vertical-align: top;\n",
       "    }\n",
       "\n",
       "    .dataframe thead th {\n",
       "        text-align: right;\n",
       "    }\n",
       "</style>\n",
       "<table border=\"1\" class=\"dataframe\">\n",
       "  <thead>\n",
       "    <tr style=\"text-align: right;\">\n",
       "      <th></th>\n",
       "      <th>CLAVE</th>\n",
       "      <th>DESCRIPCIÓN</th>\n",
       "    </tr>\n",
       "  </thead>\n",
       "  <tbody>\n",
       "    <tr>\n",
       "      <th>0</th>\n",
       "      <td>1</td>\n",
       "      <td>SI</td>\n",
       "    </tr>\n",
       "    <tr>\n",
       "      <th>1</th>\n",
       "      <td>2</td>\n",
       "      <td>NO</td>\n",
       "    </tr>\n",
       "    <tr>\n",
       "      <th>2</th>\n",
       "      <td>97</td>\n",
       "      <td>NO APLICA</td>\n",
       "    </tr>\n",
       "    <tr>\n",
       "      <th>3</th>\n",
       "      <td>98</td>\n",
       "      <td>SE IGNORA</td>\n",
       "    </tr>\n",
       "    <tr>\n",
       "      <th>4</th>\n",
       "      <td>99</td>\n",
       "      <td>NO ESPECIFICADO</td>\n",
       "    </tr>\n",
       "  </tbody>\n",
       "</table>\n",
       "</div>"
      ],
      "text/plain": [
       "   CLAVE      DESCRIPCIÓN\n",
       "0      1              SI \n",
       "1      2              NO \n",
       "2     97        NO APLICA\n",
       "3     98        SE IGNORA\n",
       "4     99  NO ESPECIFICADO"
      ]
     },
     "execution_count": 104,
     "metadata": {},
     "output_type": "execute_result"
    }
   ],
   "source": [
    "cat_si_no"
   ]
  },
  {
   "cell_type": "markdown",
   "metadata": {},
   "source": [
    "## Calculate numerical values"
   ]
  },
  {
   "cell_type": "code",
   "execution_count": 105,
   "metadata": {},
   "outputs": [
    {
     "data": {
      "text/html": [
       "<div>\n",
       "<style scoped>\n",
       "    .dataframe tbody tr th:only-of-type {\n",
       "        vertical-align: middle;\n",
       "    }\n",
       "\n",
       "    .dataframe tbody tr th {\n",
       "        vertical-align: top;\n",
       "    }\n",
       "\n",
       "    .dataframe thead th {\n",
       "        text-align: right;\n",
       "    }\n",
       "</style>\n",
       "<table border=\"1\" class=\"dataframe\">\n",
       "  <thead>\n",
       "    <tr style=\"text-align: right;\">\n",
       "      <th></th>\n",
       "      <th>pneumonia</th>\n",
       "    </tr>\n",
       "  </thead>\n",
       "  <tbody>\n",
       "    <tr>\n",
       "      <th>2</th>\n",
       "      <td>284860</td>\n",
       "    </tr>\n",
       "    <tr>\n",
       "      <th>1</th>\n",
       "      <td>64761</td>\n",
       "    </tr>\n",
       "    <tr>\n",
       "      <th>99</th>\n",
       "      <td>5</td>\n",
       "    </tr>\n",
       "  </tbody>\n",
       "</table>\n",
       "</div>"
      ],
      "text/plain": [
       "    pneumonia\n",
       "2      284860\n",
       "1       64761\n",
       "99          5"
      ]
     },
     "execution_count": 105,
     "metadata": {},
     "output_type": "execute_result"
    }
   ],
   "source": [
    "pd.DataFrame(dataModel['pneumonia'].value_counts())"
   ]
  },
  {
   "cell_type": "code",
   "execution_count": 106,
   "metadata": {},
   "outputs": [
    {
     "data": {
      "text/html": [
       "<div>\n",
       "<style scoped>\n",
       "    .dataframe tbody tr th:only-of-type {\n",
       "        vertical-align: middle;\n",
       "    }\n",
       "\n",
       "    .dataframe tbody tr th {\n",
       "        vertical-align: top;\n",
       "    }\n",
       "\n",
       "    .dataframe thead th {\n",
       "        text-align: right;\n",
       "    }\n",
       "</style>\n",
       "<table border=\"1\" class=\"dataframe\">\n",
       "  <thead>\n",
       "    <tr style=\"text-align: right;\">\n",
       "      <th></th>\n",
       "      <th>asthma</th>\n",
       "    </tr>\n",
       "  </thead>\n",
       "  <tbody>\n",
       "    <tr>\n",
       "      <th>2</th>\n",
       "      <td>337798</td>\n",
       "    </tr>\n",
       "    <tr>\n",
       "      <th>1</th>\n",
       "      <td>10730</td>\n",
       "    </tr>\n",
       "    <tr>\n",
       "      <th>98</th>\n",
       "      <td>1098</td>\n",
       "    </tr>\n",
       "  </tbody>\n",
       "</table>\n",
       "</div>"
      ],
      "text/plain": [
       "    asthma\n",
       "2   337798\n",
       "1    10730\n",
       "98    1098"
      ]
     },
     "execution_count": 106,
     "metadata": {},
     "output_type": "execute_result"
    }
   ],
   "source": [
    "pd.DataFrame(dataModel['asthma'].value_counts())"
   ]
  },
  {
   "cell_type": "code",
   "execution_count": 107,
   "metadata": {},
   "outputs": [
    {
     "data": {
      "text/html": [
       "<div>\n",
       "<style scoped>\n",
       "    .dataframe tbody tr th:only-of-type {\n",
       "        vertical-align: middle;\n",
       "    }\n",
       "\n",
       "    .dataframe tbody tr th {\n",
       "        vertical-align: top;\n",
       "    }\n",
       "\n",
       "    .dataframe thead th {\n",
       "        text-align: right;\n",
       "    }\n",
       "</style>\n",
       "<table border=\"1\" class=\"dataframe\">\n",
       "  <thead>\n",
       "    <tr style=\"text-align: right;\">\n",
       "      <th></th>\n",
       "      <th>tobacco</th>\n",
       "    </tr>\n",
       "  </thead>\n",
       "  <tbody>\n",
       "    <tr>\n",
       "      <th>2</th>\n",
       "      <td>319167</td>\n",
       "    </tr>\n",
       "    <tr>\n",
       "      <th>1</th>\n",
       "      <td>29260</td>\n",
       "    </tr>\n",
       "    <tr>\n",
       "      <th>98</th>\n",
       "      <td>1199</td>\n",
       "    </tr>\n",
       "  </tbody>\n",
       "</table>\n",
       "</div>"
      ],
      "text/plain": [
       "    tobacco\n",
       "2    319167\n",
       "1     29260\n",
       "98     1199"
      ]
     },
     "execution_count": 107,
     "metadata": {},
     "output_type": "execute_result"
    }
   ],
   "source": [
    "pd.DataFrame(dataModel['tobacco'].value_counts())"
   ]
  },
  {
   "cell_type": "code",
   "execution_count": 108,
   "metadata": {},
   "outputs": [
    {
     "data": {
      "text/html": [
       "<div>\n",
       "<style scoped>\n",
       "    .dataframe tbody tr th:only-of-type {\n",
       "        vertical-align: middle;\n",
       "    }\n",
       "\n",
       "    .dataframe tbody tr th {\n",
       "        vertical-align: top;\n",
       "    }\n",
       "\n",
       "    .dataframe thead th {\n",
       "        text-align: right;\n",
       "    }\n",
       "</style>\n",
       "<table border=\"1\" class=\"dataframe\">\n",
       "  <thead>\n",
       "    <tr style=\"text-align: right;\">\n",
       "      <th></th>\n",
       "      <th>pregnancy</th>\n",
       "    </tr>\n",
       "  </thead>\n",
       "  <tbody>\n",
       "    <tr>\n",
       "      <th>97</th>\n",
       "      <td>181997</td>\n",
       "    </tr>\n",
       "    <tr>\n",
       "      <th>2</th>\n",
       "      <td>164177</td>\n",
       "    </tr>\n",
       "    <tr>\n",
       "      <th>1</th>\n",
       "      <td>2448</td>\n",
       "    </tr>\n",
       "    <tr>\n",
       "      <th>98</th>\n",
       "      <td>1004</td>\n",
       "    </tr>\n",
       "  </tbody>\n",
       "</table>\n",
       "</div>"
      ],
      "text/plain": [
       "    pregnancy\n",
       "97     181997\n",
       "2      164177\n",
       "1        2448\n",
       "98       1004"
      ]
     },
     "execution_count": 108,
     "metadata": {},
     "output_type": "execute_result"
    }
   ],
   "source": [
    "pd.DataFrame(dataModel['pregnancy'].value_counts())"
   ]
  },
  {
   "cell_type": "markdown",
   "metadata": {},
   "source": [
    "## 3.3.1.  Inspecting categorical variables using bivariable relatioships with sex of patients.\n"
   ]
  },
  {
   "cell_type": "code",
   "execution_count": 109,
   "metadata": {},
   "outputs": [
    {
     "data": {
      "text/html": [
       "<div>\n",
       "<style scoped>\n",
       "    .dataframe tbody tr th:only-of-type {\n",
       "        vertical-align: middle;\n",
       "    }\n",
       "\n",
       "    .dataframe tbody tr th {\n",
       "        vertical-align: top;\n",
       "    }\n",
       "\n",
       "    .dataframe thead th {\n",
       "        text-align: right;\n",
       "    }\n",
       "</style>\n",
       "<table border=\"1\" class=\"dataframe\">\n",
       "  <thead>\n",
       "    <tr style=\"text-align: right;\">\n",
       "      <th></th>\n",
       "      <th>CLAVE</th>\n",
       "      <th>DESCRIPCIÓN</th>\n",
       "    </tr>\n",
       "  </thead>\n",
       "  <tbody>\n",
       "    <tr>\n",
       "      <th>0</th>\n",
       "      <td>1</td>\n",
       "      <td>MUJER</td>\n",
       "    </tr>\n",
       "    <tr>\n",
       "      <th>1</th>\n",
       "      <td>2</td>\n",
       "      <td>HOMBRE</td>\n",
       "    </tr>\n",
       "    <tr>\n",
       "      <th>2</th>\n",
       "      <td>99</td>\n",
       "      <td>NO ESPECIFICADO</td>\n",
       "    </tr>\n",
       "  </tbody>\n",
       "</table>\n",
       "</div>"
      ],
      "text/plain": [
       "   CLAVE      DESCRIPCIÓN\n",
       "0      1            MUJER\n",
       "1      2           HOMBRE\n",
       "2     99  NO ESPECIFICADO"
      ]
     },
     "execution_count": 109,
     "metadata": {},
     "output_type": "execute_result"
    }
   ],
   "source": [
    "cat_sex"
   ]
  },
  {
   "cell_type": "code",
   "execution_count": 110,
   "metadata": {},
   "outputs": [
    {
     "data": {
      "text/html": [
       "<div>\n",
       "<style scoped>\n",
       "    .dataframe tbody tr th:only-of-type {\n",
       "        vertical-align: middle;\n",
       "    }\n",
       "\n",
       "    .dataframe tbody tr th {\n",
       "        vertical-align: top;\n",
       "    }\n",
       "\n",
       "    .dataframe thead th {\n",
       "        text-align: right;\n",
       "    }\n",
       "</style>\n",
       "<table border=\"1\" class=\"dataframe\">\n",
       "  <thead>\n",
       "    <tr style=\"text-align: right;\">\n",
       "      <th></th>\n",
       "      <th>CLAVE</th>\n",
       "      <th>DESCRIPCIÓN</th>\n",
       "    </tr>\n",
       "  </thead>\n",
       "  <tbody>\n",
       "    <tr>\n",
       "      <th>0</th>\n",
       "      <td>1</td>\n",
       "      <td>SI</td>\n",
       "    </tr>\n",
       "    <tr>\n",
       "      <th>1</th>\n",
       "      <td>2</td>\n",
       "      <td>NO</td>\n",
       "    </tr>\n",
       "    <tr>\n",
       "      <th>2</th>\n",
       "      <td>97</td>\n",
       "      <td>NO APLICA</td>\n",
       "    </tr>\n",
       "    <tr>\n",
       "      <th>3</th>\n",
       "      <td>98</td>\n",
       "      <td>SE IGNORA</td>\n",
       "    </tr>\n",
       "    <tr>\n",
       "      <th>4</th>\n",
       "      <td>99</td>\n",
       "      <td>NO ESPECIFICADO</td>\n",
       "    </tr>\n",
       "  </tbody>\n",
       "</table>\n",
       "</div>"
      ],
      "text/plain": [
       "   CLAVE      DESCRIPCIÓN\n",
       "0      1              SI \n",
       "1      2              NO \n",
       "2     97        NO APLICA\n",
       "3     98        SE IGNORA\n",
       "4     99  NO ESPECIFICADO"
      ]
     },
     "execution_count": 110,
     "metadata": {},
     "output_type": "execute_result"
    }
   ],
   "source": [
    "cat_si_no"
   ]
  },
  {
   "cell_type": "code",
   "execution_count": 24,
   "metadata": {
    "scrolled": false
   },
   "outputs": [
    {
     "data": {
      "text/plain": [
       "<matplotlib.axes._subplots.AxesSubplot at 0x25d1c3bbb08>"
      ]
     },
     "execution_count": 24,
     "metadata": {},
     "output_type": "execute_result"
    },
    {
     "data": {
      "image/png": "[encoded data removed]",
      "text/plain": [
       "<Figure size 1080x720 with 4 Axes>"
      ]
     },
     "metadata": {
      "needs_background": "light"
     },
     "output_type": "display_data"
    }
   ],
   "source": [
    "fig, axs = plt.subplots(2,2)\n",
    "\n",
    "pneumonia_bySex= dataModel.pivot_table(index='sex', columns='pneumonia', values='icu', aggfunc='count')\n",
    "pneumonia_bySex.plot(kind='barh', stacked=True, figsize=[15,10], colormap='Dark2_r',ax=axs[0,0])\n",
    "\n",
    "asthma_bySex= dataModel.pivot_table(index='sex', columns='asthma', values='icu', aggfunc='count')\n",
    "asthma_bySex.plot(kind='barh', stacked=True, figsize=[15,10], colormap='Dark2_r',ax=axs[0,1])\n",
    "\n",
    "tobacco_bySex= dataModel.pivot_table(index='sex', columns='tobacco', values='icu', aggfunc='count')\n",
    "tobacco_bySex.plot(kind='barh', stacked=True, figsize=[15,10], colormap='Dark2_r',ax=axs[1,0])\n",
    ",\n",
    "pregnancy_bySex= dataModel.pivot_table(index='sex', columns='pregnancy', values='icu', aggfunc='count')\n",
    "pregnancy_bySex.plot(kind='barh', stacked=True, figsize=[15,10], colormap='Dark2_r',ax=axs[1,1])\n",
    "\n"
   ]
  },
  {
   "cell_type": "markdown",
   "metadata": {},
   "source": [
    "## Calculate numerical values"
   ]
  },
  {
   "cell_type": "code",
   "execution_count": 25,
   "metadata": {},
   "outputs": [
    {
     "data": {
      "text/html": [
       "<div>\n",
       "<style scoped>\n",
       "    .dataframe tbody tr th:only-of-type {\n",
       "        vertical-align: middle;\n",
       "    }\n",
       "\n",
       "    .dataframe tbody tr th {\n",
       "        vertical-align: top;\n",
       "    }\n",
       "\n",
       "    .dataframe thead th {\n",
       "        text-align: right;\n",
       "    }\n",
       "</style>\n",
       "<table border=\"1\" class=\"dataframe\">\n",
       "  <thead>\n",
       "    <tr style=\"text-align: right;\">\n",
       "      <th>pneumonia</th>\n",
       "      <th>1</th>\n",
       "      <th>2</th>\n",
       "      <th>99</th>\n",
       "    </tr>\n",
       "    <tr>\n",
       "      <th>sex</th>\n",
       "      <th></th>\n",
       "      <th></th>\n",
       "      <th></th>\n",
       "    </tr>\n",
       "  </thead>\n",
       "  <tbody>\n",
       "    <tr>\n",
       "      <th>1</th>\n",
       "      <td>24781</td>\n",
       "      <td>142845</td>\n",
       "      <td>3</td>\n",
       "    </tr>\n",
       "    <tr>\n",
       "      <th>2</th>\n",
       "      <td>39980</td>\n",
       "      <td>142015</td>\n",
       "      <td>2</td>\n",
       "    </tr>\n",
       "  </tbody>\n",
       "</table>\n",
       "</div>"
      ],
      "text/plain": [
       "pneumonia     1       2   99\n",
       "sex                         \n",
       "1          24781  142845   3\n",
       "2          39980  142015   2"
      ]
     },
     "execution_count": 25,
     "metadata": {},
     "output_type": "execute_result"
    }
   ],
   "source": [
    "pneumonia_bySex"
   ]
  },
  {
   "cell_type": "code",
   "execution_count": 26,
   "metadata": {},
   "outputs": [
    {
     "data": {
      "text/html": [
       "<div>\n",
       "<style scoped>\n",
       "    .dataframe tbody tr th:only-of-type {\n",
       "        vertical-align: middle;\n",
       "    }\n",
       "\n",
       "    .dataframe tbody tr th {\n",
       "        vertical-align: top;\n",
       "    }\n",
       "\n",
       "    .dataframe thead th {\n",
       "        text-align: right;\n",
       "    }\n",
       "</style>\n",
       "<table border=\"1\" class=\"dataframe\">\n",
       "  <thead>\n",
       "    <tr style=\"text-align: right;\">\n",
       "      <th>tobacco</th>\n",
       "      <th>1</th>\n",
       "      <th>2</th>\n",
       "      <th>98</th>\n",
       "    </tr>\n",
       "    <tr>\n",
       "      <th>sex</th>\n",
       "      <th></th>\n",
       "      <th></th>\n",
       "      <th></th>\n",
       "    </tr>\n",
       "  </thead>\n",
       "  <tbody>\n",
       "    <tr>\n",
       "      <th>1</th>\n",
       "      <td>9066</td>\n",
       "      <td>158117</td>\n",
       "      <td>446</td>\n",
       "    </tr>\n",
       "    <tr>\n",
       "      <th>2</th>\n",
       "      <td>20194</td>\n",
       "      <td>161050</td>\n",
       "      <td>753</td>\n",
       "    </tr>\n",
       "  </tbody>\n",
       "</table>\n",
       "</div>"
      ],
      "text/plain": [
       "tobacco     1       2    98\n",
       "sex                        \n",
       "1         9066  158117  446\n",
       "2        20194  161050  753"
      ]
     },
     "execution_count": 26,
     "metadata": {},
     "output_type": "execute_result"
    }
   ],
   "source": [
    "tobacco_bySex"
   ]
  },
  {
   "cell_type": "code",
   "execution_count": 27,
   "metadata": {},
   "outputs": [
    {
     "data": {
      "text/html": [
       "<div>\n",
       "<style scoped>\n",
       "    .dataframe tbody tr th:only-of-type {\n",
       "        vertical-align: middle;\n",
       "    }\n",
       "\n",
       "    .dataframe tbody tr th {\n",
       "        vertical-align: top;\n",
       "    }\n",
       "\n",
       "    .dataframe thead th {\n",
       "        text-align: right;\n",
       "    }\n",
       "</style>\n",
       "<table border=\"1\" class=\"dataframe\">\n",
       "  <thead>\n",
       "    <tr style=\"text-align: right;\">\n",
       "      <th>asthma</th>\n",
       "      <th>1</th>\n",
       "      <th>2</th>\n",
       "      <th>98</th>\n",
       "    </tr>\n",
       "    <tr>\n",
       "      <th>sex</th>\n",
       "      <th></th>\n",
       "      <th></th>\n",
       "      <th></th>\n",
       "    </tr>\n",
       "  </thead>\n",
       "  <tbody>\n",
       "    <tr>\n",
       "      <th>1</th>\n",
       "      <td>6576</td>\n",
       "      <td>160633</td>\n",
       "      <td>420</td>\n",
       "    </tr>\n",
       "    <tr>\n",
       "      <th>2</th>\n",
       "      <td>4154</td>\n",
       "      <td>177165</td>\n",
       "      <td>678</td>\n",
       "    </tr>\n",
       "  </tbody>\n",
       "</table>\n",
       "</div>"
      ],
      "text/plain": [
       "asthma    1       2    98\n",
       "sex                      \n",
       "1       6576  160633  420\n",
       "2       4154  177165  678"
      ]
     },
     "execution_count": 27,
     "metadata": {},
     "output_type": "execute_result"
    }
   ],
   "source": [
    "asthma_bySex"
   ]
  },
  {
   "cell_type": "code",
   "execution_count": 28,
   "metadata": {},
   "outputs": [
    {
     "data": {
      "text/html": [
       "<div>\n",
       "<style scoped>\n",
       "    .dataframe tbody tr th:only-of-type {\n",
       "        vertical-align: middle;\n",
       "    }\n",
       "\n",
       "    .dataframe tbody tr th {\n",
       "        vertical-align: top;\n",
       "    }\n",
       "\n",
       "    .dataframe thead th {\n",
       "        text-align: right;\n",
       "    }\n",
       "</style>\n",
       "<table border=\"1\" class=\"dataframe\">\n",
       "  <thead>\n",
       "    <tr style=\"text-align: right;\">\n",
       "      <th>pregnancy</th>\n",
       "      <th>1</th>\n",
       "      <th>2</th>\n",
       "      <th>97</th>\n",
       "      <th>98</th>\n",
       "    </tr>\n",
       "    <tr>\n",
       "      <th>sex</th>\n",
       "      <th></th>\n",
       "      <th></th>\n",
       "      <th></th>\n",
       "      <th></th>\n",
       "    </tr>\n",
       "  </thead>\n",
       "  <tbody>\n",
       "    <tr>\n",
       "      <th>1</th>\n",
       "      <td>2448.0</td>\n",
       "      <td>164177.0</td>\n",
       "      <td>NaN</td>\n",
       "      <td>1004.0</td>\n",
       "    </tr>\n",
       "    <tr>\n",
       "      <th>2</th>\n",
       "      <td>NaN</td>\n",
       "      <td>NaN</td>\n",
       "      <td>181997.0</td>\n",
       "      <td>NaN</td>\n",
       "    </tr>\n",
       "  </tbody>\n",
       "</table>\n",
       "</div>"
      ],
      "text/plain": [
       "pregnancy      1         2         97      98\n",
       "sex                                          \n",
       "1          2448.0  164177.0       NaN  1004.0\n",
       "2             NaN       NaN  181997.0     NaN"
      ]
     },
     "execution_count": 28,
     "metadata": {},
     "output_type": "execute_result"
    }
   ],
   "source": [
    "pregnancy_bySex"
   ]
  },
  {
   "cell_type": "markdown",
   "metadata": {},
   "source": [
    "# 3.3.2. Inspecting categorical variables using bivariable relatioships with ICU (Intensive Care Medical Unit) reference"
   ]
  },
  {
   "cell_type": "code",
   "execution_count": 29,
   "metadata": {},
   "outputs": [
    {
     "data": {
      "text/plain": [
       "<matplotlib.axes._subplots.AxesSubplot at 0x25d1c4f9cc8>"
      ]
     },
     "execution_count": 29,
     "metadata": {},
     "output_type": "execute_result"
    },
    {
     "data": {
      "image/png": "[encoded data removed]",
      "text/plain": [
       "<Figure size 1080x720 with 4 Axes>"
      ]
     },
     "metadata": {
      "needs_background": "light"
     },
     "output_type": "display_data"
    }
   ],
   "source": [
    "fig, axs = plt.subplots(2,2)\n",
    "\n",
    "cardiovascular_bySex= dataModel.pivot_table(index='sex', columns='cardiovascular', values='icu', aggfunc='count')\n",
    "pneumonia_bySex.plot(kind='barh', stacked=True, figsize=[15,10], colormap='Dark2_r',ax=axs[0,0])\n",
    "\n",
    "hypertension_bySex= dataModel.pivot_table(index='sex', columns='hypertension', values='icu', aggfunc='count')\n",
    "hypertension_bySex.plot(kind='barh', stacked=True, figsize=[15,10], colormap='Dark2_r',ax=axs[0,1])\n",
    "\n",
    "obesity_bySex= dataModel.pivot_table(index='sex', columns='obesity', values='icu', aggfunc='count')\n",
    "obesity_bySex.plot(kind='barh', stacked=True, figsize=[15,10], colormap='Dark2_r',ax=axs[1,0])\n",
    "\n",
    "covid_res_bySex= dataModel.pivot_table(index='sex', columns='covid_res', values='icu', aggfunc='count')\n",
    "covid_res_bySex.plot(kind='barh', stacked=True, figsize=[15,10], colormap='Dark2_r',ax=axs[1,1])\n"
   ]
  },
  {
   "cell_type": "code",
   "execution_count": 30,
   "metadata": {},
   "outputs": [
    {
     "data": {
      "text/html": [
       "<div>\n",
       "<style scoped>\n",
       "    .dataframe tbody tr th:only-of-type {\n",
       "        vertical-align: middle;\n",
       "    }\n",
       "\n",
       "    .dataframe tbody tr th {\n",
       "        vertical-align: top;\n",
       "    }\n",
       "\n",
       "    .dataframe thead th {\n",
       "        text-align: right;\n",
       "    }\n",
       "</style>\n",
       "<table border=\"1\" class=\"dataframe\">\n",
       "  <thead>\n",
       "    <tr style=\"text-align: right;\">\n",
       "      <th>cardiovascular</th>\n",
       "      <th>1</th>\n",
       "      <th>2</th>\n",
       "      <th>98</th>\n",
       "    </tr>\n",
       "    <tr>\n",
       "      <th>sex</th>\n",
       "      <th></th>\n",
       "      <th></th>\n",
       "      <th></th>\n",
       "    </tr>\n",
       "  </thead>\n",
       "  <tbody>\n",
       "    <tr>\n",
       "      <th>1</th>\n",
       "      <td>3531</td>\n",
       "      <td>163666</td>\n",
       "      <td>432</td>\n",
       "    </tr>\n",
       "    <tr>\n",
       "      <th>2</th>\n",
       "      <td>4453</td>\n",
       "      <td>176829</td>\n",
       "      <td>715</td>\n",
       "    </tr>\n",
       "  </tbody>\n",
       "</table>\n",
       "</div>"
      ],
      "text/plain": [
       "cardiovascular    1       2    98\n",
       "sex                              \n",
       "1               3531  163666  432\n",
       "2               4453  176829  715"
      ]
     },
     "execution_count": 30,
     "metadata": {},
     "output_type": "execute_result"
    }
   ],
   "source": [
    "cardiovascular_bySex"
   ]
  },
  {
   "cell_type": "code",
   "execution_count": 31,
   "metadata": {},
   "outputs": [
    {
     "data": {
      "text/html": [
       "<div>\n",
       "<style scoped>\n",
       "    .dataframe tbody tr th:only-of-type {\n",
       "        vertical-align: middle;\n",
       "    }\n",
       "\n",
       "    .dataframe tbody tr th {\n",
       "        vertical-align: top;\n",
       "    }\n",
       "\n",
       "    .dataframe thead th {\n",
       "        text-align: right;\n",
       "    }\n",
       "</style>\n",
       "<table border=\"1\" class=\"dataframe\">\n",
       "  <thead>\n",
       "    <tr style=\"text-align: right;\">\n",
       "      <th>hypertension</th>\n",
       "      <th>1</th>\n",
       "      <th>2</th>\n",
       "      <th>98</th>\n",
       "    </tr>\n",
       "    <tr>\n",
       "      <th>sex</th>\n",
       "      <th></th>\n",
       "      <th></th>\n",
       "      <th></th>\n",
       "    </tr>\n",
       "  </thead>\n",
       "  <tbody>\n",
       "    <tr>\n",
       "      <th>1</th>\n",
       "      <td>28949</td>\n",
       "      <td>138257</td>\n",
       "      <td>423</td>\n",
       "    </tr>\n",
       "    <tr>\n",
       "      <th>2</th>\n",
       "      <td>32393</td>\n",
       "      <td>148890</td>\n",
       "      <td>714</td>\n",
       "    </tr>\n",
       "  </tbody>\n",
       "</table>\n",
       "</div>"
      ],
      "text/plain": [
       "hypertension     1       2    98\n",
       "sex                             \n",
       "1             28949  138257  423\n",
       "2             32393  148890  714"
      ]
     },
     "execution_count": 31,
     "metadata": {},
     "output_type": "execute_result"
    }
   ],
   "source": [
    "hypertension_bySex"
   ]
  },
  {
   "cell_type": "code",
   "execution_count": 32,
   "metadata": {},
   "outputs": [
    {
     "data": {
      "text/html": [
       "<div>\n",
       "<style scoped>\n",
       "    .dataframe tbody tr th:only-of-type {\n",
       "        vertical-align: middle;\n",
       "    }\n",
       "\n",
       "    .dataframe tbody tr th {\n",
       "        vertical-align: top;\n",
       "    }\n",
       "\n",
       "    .dataframe thead th {\n",
       "        text-align: right;\n",
       "    }\n",
       "</style>\n",
       "<table border=\"1\" class=\"dataframe\">\n",
       "  <thead>\n",
       "    <tr style=\"text-align: right;\">\n",
       "      <th>obesity</th>\n",
       "      <th>1</th>\n",
       "      <th>2</th>\n",
       "      <th>98</th>\n",
       "    </tr>\n",
       "    <tr>\n",
       "      <th>sex</th>\n",
       "      <th></th>\n",
       "      <th></th>\n",
       "      <th></th>\n",
       "    </tr>\n",
       "  </thead>\n",
       "  <tbody>\n",
       "    <tr>\n",
       "      <th>1</th>\n",
       "      <td>30631</td>\n",
       "      <td>136574</td>\n",
       "      <td>424</td>\n",
       "    </tr>\n",
       "    <tr>\n",
       "      <th>2</th>\n",
       "      <td>30554</td>\n",
       "      <td>150743</td>\n",
       "      <td>700</td>\n",
       "    </tr>\n",
       "  </tbody>\n",
       "</table>\n",
       "</div>"
      ],
      "text/plain": [
       "obesity     1       2    98\n",
       "sex                        \n",
       "1        30631  136574  424\n",
       "2        30554  150743  700"
      ]
     },
     "execution_count": 32,
     "metadata": {},
     "output_type": "execute_result"
    }
   ],
   "source": [
    "obesity_bySex"
   ]
  },
  {
   "cell_type": "code",
   "execution_count": 33,
   "metadata": {},
   "outputs": [
    {
     "data": {
      "text/html": [
       "<div>\n",
       "<style scoped>\n",
       "    .dataframe tbody tr th:only-of-type {\n",
       "        vertical-align: middle;\n",
       "    }\n",
       "\n",
       "    .dataframe tbody tr th {\n",
       "        vertical-align: top;\n",
       "    }\n",
       "\n",
       "    .dataframe thead th {\n",
       "        text-align: right;\n",
       "    }\n",
       "</style>\n",
       "<table border=\"1\" class=\"dataframe\">\n",
       "  <thead>\n",
       "    <tr style=\"text-align: right;\">\n",
       "      <th>covid_res</th>\n",
       "      <th>1</th>\n",
       "      <th>2</th>\n",
       "    </tr>\n",
       "    <tr>\n",
       "      <th>sex</th>\n",
       "      <th></th>\n",
       "      <th></th>\n",
       "    </tr>\n",
       "  </thead>\n",
       "  <tbody>\n",
       "    <tr>\n",
       "      <th>1</th>\n",
       "      <td>99743</td>\n",
       "      <td>67886</td>\n",
       "    </tr>\n",
       "    <tr>\n",
       "      <th>2</th>\n",
       "      <td>120688</td>\n",
       "      <td>61309</td>\n",
       "    </tr>\n",
       "  </tbody>\n",
       "</table>\n",
       "</div>"
      ],
      "text/plain": [
       "covid_res       1      2\n",
       "sex                     \n",
       "1           99743  67886\n",
       "2          120688  61309"
      ]
     },
     "execution_count": 33,
     "metadata": {},
     "output_type": "execute_result"
    }
   ],
   "source": [
    "covid_res_bySex"
   ]
  },
  {
   "cell_type": "markdown",
   "metadata": {},
   "source": [
    "## Inspecting relationship between categorical variables - Diseases vs ICU assignation - Overview respiratory diseases"
   ]
  },
  {
   "cell_type": "code",
   "execution_count": 34,
   "metadata": {},
   "outputs": [
    {
     "data": {
      "image/png": "[encoded data removed]",
      "text/plain": [
       "<Figure size 1080x720 with 4 Axes>"
      ]
     },
     "metadata": {
      "needs_background": "light"
     },
     "output_type": "display_data"
    }
   ],
   "source": [
    "fig, axs = plt.subplots(2,2)\n",
    "pneumonia_byICU = pd.crosstab(index=dataModel['icu'],\n",
    "            columns=dataModel['pneumonia'], \n",
    "            margins=True)\n",
    "pneumonia_byICU.plot(kind='bar',ax=axs[0,0], figsize=[15,10])\n",
    "plt.grid(color='gray', linestyle='--', linewidth=1)\n",
    "#plt.ylabel(\"Frequency\")\n",
    "#plt.title('Relationship between Asthma diagnostic and ICU assignation COVID')\n",
    "asthma_byICU = pd.crosstab(index=dataModel['icu'],\n",
    "            columns=dataModel['asthma'], \n",
    "            margins=True)\n",
    "asthma_byICU.plot(kind='bar',ax=axs[0,1])\n",
    "plt.grid(color='gray', linestyle='--', linewidth=1)\n",
    "#plt.ylabel(\"Frequency\")\n",
    "#plt.title('Relationship between Tobacco diagnostic and ICU assignation COVID')\n",
    "tobacco_byICU = pd.crosstab(index=dataModel['icu'],\n",
    "            columns=dataModel['tobacco'], \n",
    "            margins=True)\n",
    "tobacco_byICU.plot(kind='bar',ax=axs[1,0])\n",
    "plt.grid(color='gray', linestyle='--', linewidth=1)\n",
    "#plt.ylabel(\"Frequency\")\n",
    "#plt.title('Relationship between Pregnancy diagnostic and ICU assignation COVID')\n",
    "pregnancy_byICU = pd.crosstab(index=dataModel['icu'],\n",
    "            columns=dataModel['pregnancy'], \n",
    "            margins=True)\n",
    "pregnancy_byICU.plot(kind='bar',ax=axs[1,1])\n",
    "plt.grid(color='gray', linestyle='--', linewidth=1)\n",
    "#plt.ylabel(\"Frequency\")\n",
    "#plt.title('Relationship between Pneumonia diagnostic and ICU assignation COVID')\n"
   ]
  },
  {
   "cell_type": "code",
   "execution_count": 35,
   "metadata": {},
   "outputs": [
    {
     "data": {
      "text/html": [
       "<div>\n",
       "<style scoped>\n",
       "    .dataframe tbody tr th:only-of-type {\n",
       "        vertical-align: middle;\n",
       "    }\n",
       "\n",
       "    .dataframe tbody tr th {\n",
       "        vertical-align: top;\n",
       "    }\n",
       "\n",
       "    .dataframe thead th {\n",
       "        text-align: right;\n",
       "    }\n",
       "</style>\n",
       "<table border=\"1\" class=\"dataframe\">\n",
       "  <thead>\n",
       "    <tr style=\"text-align: right;\">\n",
       "      <th>pneumonia</th>\n",
       "      <th>1</th>\n",
       "      <th>2</th>\n",
       "      <th>99</th>\n",
       "      <th>All</th>\n",
       "    </tr>\n",
       "    <tr>\n",
       "      <th>icu</th>\n",
       "      <th></th>\n",
       "      <th></th>\n",
       "      <th></th>\n",
       "      <th></th>\n",
       "    </tr>\n",
       "  </thead>\n",
       "  <tbody>\n",
       "    <tr>\n",
       "      <th>1</th>\n",
       "      <td>6203</td>\n",
       "      <td>1073</td>\n",
       "      <td>0</td>\n",
       "      <td>7276</td>\n",
       "    </tr>\n",
       "    <tr>\n",
       "      <th>2</th>\n",
       "      <td>48704</td>\n",
       "      <td>30358</td>\n",
       "      <td>0</td>\n",
       "      <td>79062</td>\n",
       "    </tr>\n",
       "    <tr>\n",
       "      <th>97</th>\n",
       "      <td>9803</td>\n",
       "      <td>253378</td>\n",
       "      <td>5</td>\n",
       "      <td>263186</td>\n",
       "    </tr>\n",
       "    <tr>\n",
       "      <th>99</th>\n",
       "      <td>51</td>\n",
       "      <td>51</td>\n",
       "      <td>0</td>\n",
       "      <td>102</td>\n",
       "    </tr>\n",
       "    <tr>\n",
       "      <th>All</th>\n",
       "      <td>64761</td>\n",
       "      <td>284860</td>\n",
       "      <td>5</td>\n",
       "      <td>349626</td>\n",
       "    </tr>\n",
       "  </tbody>\n",
       "</table>\n",
       "</div>"
      ],
      "text/plain": [
       "pneumonia      1       2  99     All\n",
       "icu                                 \n",
       "1           6203    1073   0    7276\n",
       "2          48704   30358   0   79062\n",
       "97          9803  253378   5  263186\n",
       "99            51      51   0     102\n",
       "All        64761  284860   5  349626"
      ]
     },
     "execution_count": 35,
     "metadata": {},
     "output_type": "execute_result"
    }
   ],
   "source": [
    "pneumonia_byICU"
   ]
  },
  {
   "cell_type": "code",
   "execution_count": 36,
   "metadata": {},
   "outputs": [
    {
     "data": {
      "text/html": [
       "<div>\n",
       "<style scoped>\n",
       "    .dataframe tbody tr th:only-of-type {\n",
       "        vertical-align: middle;\n",
       "    }\n",
       "\n",
       "    .dataframe tbody tr th {\n",
       "        vertical-align: top;\n",
       "    }\n",
       "\n",
       "    .dataframe thead th {\n",
       "        text-align: right;\n",
       "    }\n",
       "</style>\n",
       "<table border=\"1\" class=\"dataframe\">\n",
       "  <thead>\n",
       "    <tr style=\"text-align: right;\">\n",
       "      <th>asthma</th>\n",
       "      <th>1</th>\n",
       "      <th>2</th>\n",
       "      <th>98</th>\n",
       "      <th>All</th>\n",
       "    </tr>\n",
       "    <tr>\n",
       "      <th>icu</th>\n",
       "      <th></th>\n",
       "      <th></th>\n",
       "      <th></th>\n",
       "      <th></th>\n",
       "    </tr>\n",
       "  </thead>\n",
       "  <tbody>\n",
       "    <tr>\n",
       "      <th>1</th>\n",
       "      <td>180</td>\n",
       "      <td>7014</td>\n",
       "      <td>82</td>\n",
       "      <td>7276</td>\n",
       "    </tr>\n",
       "    <tr>\n",
       "      <th>2</th>\n",
       "      <td>1976</td>\n",
       "      <td>76737</td>\n",
       "      <td>349</td>\n",
       "      <td>79062</td>\n",
       "    </tr>\n",
       "    <tr>\n",
       "      <th>97</th>\n",
       "      <td>8571</td>\n",
       "      <td>253948</td>\n",
       "      <td>667</td>\n",
       "      <td>263186</td>\n",
       "    </tr>\n",
       "    <tr>\n",
       "      <th>99</th>\n",
       "      <td>3</td>\n",
       "      <td>99</td>\n",
       "      <td>0</td>\n",
       "      <td>102</td>\n",
       "    </tr>\n",
       "    <tr>\n",
       "      <th>All</th>\n",
       "      <td>10730</td>\n",
       "      <td>337798</td>\n",
       "      <td>1098</td>\n",
       "      <td>349626</td>\n",
       "    </tr>\n",
       "  </tbody>\n",
       "</table>\n",
       "</div>"
      ],
      "text/plain": [
       "asthma      1       2    98     All\n",
       "icu                                \n",
       "1         180    7014    82    7276\n",
       "2        1976   76737   349   79062\n",
       "97       8571  253948   667  263186\n",
       "99          3      99     0     102\n",
       "All     10730  337798  1098  349626"
      ]
     },
     "execution_count": 36,
     "metadata": {},
     "output_type": "execute_result"
    }
   ],
   "source": [
    "asthma_byICU"
   ]
  },
  {
   "cell_type": "code",
   "execution_count": 37,
   "metadata": {},
   "outputs": [
    {
     "data": {
      "text/html": [
       "<div>\n",
       "<style scoped>\n",
       "    .dataframe tbody tr th:only-of-type {\n",
       "        vertical-align: middle;\n",
       "    }\n",
       "\n",
       "    .dataframe tbody tr th {\n",
       "        vertical-align: top;\n",
       "    }\n",
       "\n",
       "    .dataframe thead th {\n",
       "        text-align: right;\n",
       "    }\n",
       "</style>\n",
       "<table border=\"1\" class=\"dataframe\">\n",
       "  <thead>\n",
       "    <tr style=\"text-align: right;\">\n",
       "      <th>tobacco</th>\n",
       "      <th>1</th>\n",
       "      <th>2</th>\n",
       "      <th>98</th>\n",
       "      <th>All</th>\n",
       "    </tr>\n",
       "    <tr>\n",
       "      <th>icu</th>\n",
       "      <th></th>\n",
       "      <th></th>\n",
       "      <th></th>\n",
       "      <th></th>\n",
       "    </tr>\n",
       "  </thead>\n",
       "  <tbody>\n",
       "    <tr>\n",
       "      <th>1</th>\n",
       "      <td>611</td>\n",
       "      <td>6581</td>\n",
       "      <td>84</td>\n",
       "      <td>7276</td>\n",
       "    </tr>\n",
       "    <tr>\n",
       "      <th>2</th>\n",
       "      <td>6872</td>\n",
       "      <td>71796</td>\n",
       "      <td>394</td>\n",
       "      <td>79062</td>\n",
       "    </tr>\n",
       "    <tr>\n",
       "      <th>97</th>\n",
       "      <td>21771</td>\n",
       "      <td>240694</td>\n",
       "      <td>721</td>\n",
       "      <td>263186</td>\n",
       "    </tr>\n",
       "    <tr>\n",
       "      <th>99</th>\n",
       "      <td>6</td>\n",
       "      <td>96</td>\n",
       "      <td>0</td>\n",
       "      <td>102</td>\n",
       "    </tr>\n",
       "    <tr>\n",
       "      <th>All</th>\n",
       "      <td>29260</td>\n",
       "      <td>319167</td>\n",
       "      <td>1199</td>\n",
       "      <td>349626</td>\n",
       "    </tr>\n",
       "  </tbody>\n",
       "</table>\n",
       "</div>"
      ],
      "text/plain": [
       "tobacco      1       2    98     All\n",
       "icu                                 \n",
       "1          611    6581    84    7276\n",
       "2         6872   71796   394   79062\n",
       "97       21771  240694   721  263186\n",
       "99           6      96     0     102\n",
       "All      29260  319167  1199  349626"
      ]
     },
     "execution_count": 37,
     "metadata": {},
     "output_type": "execute_result"
    }
   ],
   "source": [
    "tobacco_byICU"
   ]
  },
  {
   "cell_type": "code",
   "execution_count": 38,
   "metadata": {},
   "outputs": [
    {
     "data": {
      "text/html": [
       "<div>\n",
       "<style scoped>\n",
       "    .dataframe tbody tr th:only-of-type {\n",
       "        vertical-align: middle;\n",
       "    }\n",
       "\n",
       "    .dataframe tbody tr th {\n",
       "        vertical-align: top;\n",
       "    }\n",
       "\n",
       "    .dataframe thead th {\n",
       "        text-align: right;\n",
       "    }\n",
       "</style>\n",
       "<table border=\"1\" class=\"dataframe\">\n",
       "  <thead>\n",
       "    <tr style=\"text-align: right;\">\n",
       "      <th>pregnancy</th>\n",
       "      <th>1</th>\n",
       "      <th>2</th>\n",
       "      <th>97</th>\n",
       "      <th>98</th>\n",
       "      <th>All</th>\n",
       "    </tr>\n",
       "    <tr>\n",
       "      <th>icu</th>\n",
       "      <th></th>\n",
       "      <th></th>\n",
       "      <th></th>\n",
       "      <th></th>\n",
       "      <th></th>\n",
       "    </tr>\n",
       "  </thead>\n",
       "  <tbody>\n",
       "    <tr>\n",
       "      <th>1</th>\n",
       "      <td>49</td>\n",
       "      <td>2431</td>\n",
       "      <td>4786</td>\n",
       "      <td>10</td>\n",
       "      <td>7276</td>\n",
       "    </tr>\n",
       "    <tr>\n",
       "      <th>2</th>\n",
       "      <td>626</td>\n",
       "      <td>30286</td>\n",
       "      <td>48056</td>\n",
       "      <td>94</td>\n",
       "      <td>79062</td>\n",
       "    </tr>\n",
       "    <tr>\n",
       "      <th>97</th>\n",
       "      <td>1772</td>\n",
       "      <td>131418</td>\n",
       "      <td>129096</td>\n",
       "      <td>900</td>\n",
       "      <td>263186</td>\n",
       "    </tr>\n",
       "    <tr>\n",
       "      <th>99</th>\n",
       "      <td>1</td>\n",
       "      <td>42</td>\n",
       "      <td>59</td>\n",
       "      <td>0</td>\n",
       "      <td>102</td>\n",
       "    </tr>\n",
       "    <tr>\n",
       "      <th>All</th>\n",
       "      <td>2448</td>\n",
       "      <td>164177</td>\n",
       "      <td>181997</td>\n",
       "      <td>1004</td>\n",
       "      <td>349626</td>\n",
       "    </tr>\n",
       "  </tbody>\n",
       "</table>\n",
       "</div>"
      ],
      "text/plain": [
       "pregnancy     1       2      97    98     All\n",
       "icu                                          \n",
       "1            49    2431    4786    10    7276\n",
       "2           626   30286   48056    94   79062\n",
       "97         1772  131418  129096   900  263186\n",
       "99            1      42      59     0     102\n",
       "All        2448  164177  181997  1004  349626"
      ]
     },
     "execution_count": 38,
     "metadata": {},
     "output_type": "execute_result"
    }
   ],
   "source": [
    "pregnancy_byICU"
   ]
  },
  {
   "cell_type": "markdown",
   "metadata": {},
   "source": [
    "## Inspecting relationship between diseases and ICU assignation - Overview General diseases"
   ]
  },
  {
   "cell_type": "code",
   "execution_count": 39,
   "metadata": {},
   "outputs": [
    {
     "data": {
      "image/png": "[encoded data removed]",
      "text/plain": [
       "<Figure size 1080x720 with 4 Axes>"
      ]
     },
     "metadata": {
      "needs_background": "light"
     },
     "output_type": "display_data"
    }
   ],
   "source": [
    "fig, axs = plt.subplots(2,2)\n",
    "cardiovascular_byICU = pd.crosstab(index=dataModel['icu'],\n",
    "            columns=dataOriginal['cardiovascular'], \n",
    "            margins=True)\n",
    "cardiovascular_byICU.plot(kind='bar',ax=axs[0,0], figsize=[15,10])\n",
    "plt.grid(color='gray', linestyle='--', linewidth=1)\n",
    "#plt.ylabel(\"Frequency\")\n",
    "#plt.title('Relationship between Asthma diagnostic and ICU assignation COVID')\n",
    "hypertension_byICU = pd.crosstab(index=dataModel['icu'],\n",
    "            columns=dataOriginal['hypertension'], \n",
    "            margins=True)\n",
    "asthma_byICU.plot(kind='bar',ax=axs[0,1])\n",
    "plt.grid(color='gray', linestyle='--', linewidth=1)\n",
    "#plt.ylabel(\"Frequency\")\n",
    "#plt.title('Relationship between Tobacco diagnostic and ICU assignation COVID')\n",
    "obesity_byICU = pd.crosstab(index=dataModel['icu'],\n",
    "            columns=dataOriginal['obesity'], \n",
    "            margins=True)\n",
    "obesity_byICU.plot(kind='bar',ax=axs[1,0])\n",
    "plt.grid(color='gray', linestyle='--', linewidth=1)\n",
    "#plt.ylabel(\"Frequency\")\n",
    "#plt.title('Relationship between Pregnancy diagnostic and ICU assignation COVID')\n",
    "obesity_byICU = pd.crosstab(index=dataModel['icu'],\n",
    "            columns=dataOriginal['obesity'], \n",
    "            margins=True)\n",
    "obesity_byICU.plot(kind='bar',ax=axs[1,1])\n",
    "plt.grid(color='gray', linestyle='--', linewidth=1)\n",
    "#plt.ylabel(\"Frequency\")\n",
    "#plt.title('Relationship between Pneumonia diagnostic and ICU assignation COVID')\n"
   ]
  },
  {
   "cell_type": "markdown",
   "metadata": {},
   "source": [
    "# 3.3.  Analysis variable quantitative vs qualitative"
   ]
  },
  {
   "cell_type": "code",
   "execution_count": 40,
   "metadata": {},
   "outputs": [
    {
     "data": {
      "text/plain": [
       "<seaborn.axisgrid.FacetGrid at 0x25d2a8f9048>"
      ]
     },
     "execution_count": 40,
     "metadata": {},
     "output_type": "execute_result"
    },
    {
     "data": {
      "image/png": "[encoded data removed]",
      "text/plain": [
       "<Figure size 360x360 with 1 Axes>"
      ]
     },
     "metadata": {
      "needs_background": "light"
     },
     "output_type": "display_data"
    }
   ],
   "source": [
    "sns.catplot(x=\"icu\", y=\"age\", kind=\"box\", data=dataModel)"
   ]
  },
  {
   "cell_type": "markdown",
   "metadata": {},
   "source": [
    "# 4.  Classes identification"
   ]
  },
  {
   "cell_type": "code",
   "execution_count": 41,
   "metadata": {},
   "outputs": [
    {
     "data": {
      "image/png": "[encoded data removed]",
      "text/plain": [
       "<Figure size 576x216 with 1 Axes>"
      ]
     },
     "metadata": {
      "needs_background": "light"
     },
     "output_type": "display_data"
    }
   ],
   "source": [
    "targetOriginal = dataModel['icu']\n",
    "E1 = targetOriginal.value_counts()\n",
    "E1.plot(kind = 'bar',\n",
    "           stacked = 'True',          # Muestra las barras apiladas\n",
    "           alpha = 0.4,               # nivel de transparencia\n",
    "           width = 0.9,               # Grosor de las barras para dejar espacio entre ellas\n",
    "           figsize=(8,3));\n",
    "\n",
    "plt.grid(color='gray', linestyle='--', linewidth=1)\n",
    "plt.title('Histogram of ICU variable')\n",
    "plt.xlabel(\"Result Type\")\n",
    "plt.ylabel(\"Frequency\")\n",
    "plt.show()\n",
    "\n"
   ]
  },
  {
   "cell_type": "code",
   "execution_count": 42,
   "metadata": {},
   "outputs": [
    {
     "data": {
      "text/html": [
       "<div>\n",
       "<style scoped>\n",
       "    .dataframe tbody tr th:only-of-type {\n",
       "        vertical-align: middle;\n",
       "    }\n",
       "\n",
       "    .dataframe tbody tr th {\n",
       "        vertical-align: top;\n",
       "    }\n",
       "\n",
       "    .dataframe thead th {\n",
       "        text-align: right;\n",
       "    }\n",
       "</style>\n",
       "<table border=\"1\" class=\"dataframe\">\n",
       "  <thead>\n",
       "    <tr style=\"text-align: right;\">\n",
       "      <th></th>\n",
       "      <th>CLAVE</th>\n",
       "      <th>DESCRIPCIÓN</th>\n",
       "    </tr>\n",
       "  </thead>\n",
       "  <tbody>\n",
       "    <tr>\n",
       "      <th>0</th>\n",
       "      <td>1</td>\n",
       "      <td>SI</td>\n",
       "    </tr>\n",
       "    <tr>\n",
       "      <th>1</th>\n",
       "      <td>2</td>\n",
       "      <td>NO</td>\n",
       "    </tr>\n",
       "    <tr>\n",
       "      <th>2</th>\n",
       "      <td>97</td>\n",
       "      <td>NO APLICA</td>\n",
       "    </tr>\n",
       "    <tr>\n",
       "      <th>3</th>\n",
       "      <td>98</td>\n",
       "      <td>SE IGNORA</td>\n",
       "    </tr>\n",
       "    <tr>\n",
       "      <th>4</th>\n",
       "      <td>99</td>\n",
       "      <td>NO ESPECIFICADO</td>\n",
       "    </tr>\n",
       "  </tbody>\n",
       "</table>\n",
       "</div>"
      ],
      "text/plain": [
       "   CLAVE      DESCRIPCIÓN\n",
       "0      1              SI \n",
       "1      2              NO \n",
       "2     97        NO APLICA\n",
       "3     98        SE IGNORA\n",
       "4     99  NO ESPECIFICADO"
      ]
     },
     "execution_count": 42,
     "metadata": {},
     "output_type": "execute_result"
    }
   ],
   "source": [
    "cat_si_no"
   ]
  },
  {
   "cell_type": "code",
   "execution_count": 43,
   "metadata": {},
   "outputs": [
    {
     "data": {
      "text/plain": [
       "97    263186\n",
       "2      79062\n",
       "1       7276\n",
       "99       102\n",
       "Name: icu, dtype: int64"
      ]
     },
     "execution_count": 43,
     "metadata": {},
     "output_type": "execute_result"
    }
   ],
   "source": [
    "E1"
   ]
  },
  {
   "cell_type": "markdown",
   "metadata": {},
   "source": [
    "## 3.2. Check the distribution or instances of any class"
   ]
  },
  {
   "cell_type": "code",
   "execution_count": 44,
   "metadata": {},
   "outputs": [
    {
     "data": {
      "text/html": [
       "<div>\n",
       "<style scoped>\n",
       "    .dataframe tbody tr th:only-of-type {\n",
       "        vertical-align: middle;\n",
       "    }\n",
       "\n",
       "    .dataframe tbody tr th {\n",
       "        vertical-align: top;\n",
       "    }\n",
       "\n",
       "    .dataframe thead th {\n",
       "        text-align: right;\n",
       "    }\n",
       "</style>\n",
       "<table border=\"1\" class=\"dataframe\">\n",
       "  <thead>\n",
       "    <tr style=\"text-align: right;\">\n",
       "      <th></th>\n",
       "      <th>icu</th>\n",
       "    </tr>\n",
       "  </thead>\n",
       "  <tbody>\n",
       "    <tr>\n",
       "      <th>97</th>\n",
       "      <td>263186</td>\n",
       "    </tr>\n",
       "    <tr>\n",
       "      <th>2</th>\n",
       "      <td>79062</td>\n",
       "    </tr>\n",
       "    <tr>\n",
       "      <th>1</th>\n",
       "      <td>7276</td>\n",
       "    </tr>\n",
       "    <tr>\n",
       "      <th>99</th>\n",
       "      <td>102</td>\n",
       "    </tr>\n",
       "  </tbody>\n",
       "</table>\n",
       "</div>"
      ],
      "text/plain": [
       "       icu\n",
       "97  263186\n",
       "2    79062\n",
       "1     7276\n",
       "99     102"
      ]
     },
     "execution_count": 44,
     "metadata": {},
     "output_type": "execute_result"
    }
   ],
   "source": [
    "pd.DataFrame(targetOriginal.value_counts())"
   ]
  },
  {
   "cell_type": "code",
   "execution_count": 45,
   "metadata": {},
   "outputs": [
    {
     "data": {
      "text/html": [
       "<div>\n",
       "<style scoped>\n",
       "    .dataframe tbody tr th:only-of-type {\n",
       "        vertical-align: middle;\n",
       "    }\n",
       "\n",
       "    .dataframe tbody tr th {\n",
       "        vertical-align: top;\n",
       "    }\n",
       "\n",
       "    .dataframe thead th {\n",
       "        text-align: right;\n",
       "    }\n",
       "</style>\n",
       "<table border=\"1\" class=\"dataframe\">\n",
       "  <thead>\n",
       "    <tr style=\"text-align: right;\">\n",
       "      <th></th>\n",
       "      <th>icu</th>\n",
       "    </tr>\n",
       "  </thead>\n",
       "  <tbody>\n",
       "    <tr>\n",
       "      <th>97</th>\n",
       "      <td>75.276438</td>\n",
       "    </tr>\n",
       "    <tr>\n",
       "      <th>2</th>\n",
       "      <td>22.613307</td>\n",
       "    </tr>\n",
       "    <tr>\n",
       "      <th>1</th>\n",
       "      <td>2.081081</td>\n",
       "    </tr>\n",
       "    <tr>\n",
       "      <th>99</th>\n",
       "      <td>0.029174</td>\n",
       "    </tr>\n",
       "  </tbody>\n",
       "</table>\n",
       "</div>"
      ],
      "text/plain": [
       "          icu\n",
       "97  75.276438\n",
       "2   22.613307\n",
       "1    2.081081\n",
       "99   0.029174"
      ]
     },
     "execution_count": 45,
     "metadata": {},
     "output_type": "execute_result"
    }
   ],
   "source": [
    "pd.DataFrame(targetOriginal.value_counts(normalize=True) * 100)"
   ]
  },
  {
   "cell_type": "code",
   "execution_count": 46,
   "metadata": {},
   "outputs": [
    {
     "data": {
      "image/png": "[encoded data removed]",
      "text/plain": [
       "<Figure size 432x432 with 1 Axes>"
      ]
     },
     "metadata": {},
     "output_type": "display_data"
    }
   ],
   "source": [
    "E2 = targetOriginal.value_counts(normalize=True)\n",
    "E2.plot.pie(subplots=True, figsize = (6,6), autopct = '%1.1f%%', startangle = 90)\n",
    "plt.title('Histogram of ICU results')\n",
    "plt.legend(E2.index, loc = 'upper left', fontsize = 10)\n",
    "plt.show() #ok\n"
   ]
  },
  {
   "cell_type": "markdown",
   "metadata": {},
   "source": [
    "#?? Sur tout les data ou seulement sur les donnes ou ilya ICU??"
   ]
  },
  {
   "cell_type": "markdown",
   "metadata": {},
   "source": [
    "# <font color=blue>4.  IMPUTATION AND DETECTION OF NULL AND ODD VALUES.</font>"
   ]
  },
  {
   "cell_type": "markdown",
   "metadata": {},
   "source": [
    "## Check for null values in the dataset"
   ]
  },
  {
   "cell_type": "code",
   "execution_count": 47,
   "metadata": {},
   "outputs": [
    {
     "data": {
      "text/plain": [
       "0"
      ]
     },
     "execution_count": 47,
     "metadata": {},
     "output_type": "execute_result"
    }
   ],
   "source": [
    "dataModel.isnull().values.sum()"
   ]
  },
  {
   "cell_type": "code",
   "execution_count": 48,
   "metadata": {},
   "outputs": [
    {
     "data": {
      "text/plain": [
       "0"
      ]
     },
     "execution_count": 48,
     "metadata": {},
     "output_type": "execute_result"
    }
   ],
   "source": [
    "dataModel.isnull().values.sum()"
   ]
  },
  {
   "cell_type": "markdown",
   "metadata": {},
   "source": [
    "# <font color=blue> 5.  CORRELATION ANALYSIS</font>"
   ]
  },
  {
   "cell_type": "markdown",
   "metadata": {},
   "source": [
    "## 5.1 Correlation Matrix"
   ]
  },
  {
   "cell_type": "raw",
   "metadata": {},
   "source": [
    "All the maladies are really corelated, for example:\n",
    "\n",
    "- Renal_chronic vs Tobacco\n",
    "- Asthma et tobaccon are highly corelated to all diseases.\n",
    "\n",
    "#The default correlation Algorithme user is Pearson, which its not appropiate for categorical \n",
    "#variables but its interesting to see  its able to detect  dependent variables detected with Chi-squared too."
   ]
  },
  {
   "cell_type": "markdown",
   "metadata": {},
   "source": [
    "# <font color=\"blue\">6.  VARIABLE REDUCTION</font>\n",
    "\n",
    "https://machinelearningmastery.com/feature-selection-with-real-and-categorical-data/\n",
    "\n",
    "<font color=\"red\"> Jai essaie Variance Tresholding, normalisation et standarisation, mais ca marche pas pour notre cas.<font>\n"
   ]
  },
  {
   "cell_type": "raw",
   "metadata": {},
   "source": [
    "the degree of association between predictor and outcome can be measured with statistics such as X2 (chi-squared) tests."
   ]
  },
  {
   "cell_type": "markdown",
   "metadata": {},
   "source": [
    "# 6.2.  Chi-Squared Feature Selection"
   ]
  },
  {
   "cell_type": "markdown",
   "metadata": {},
   "source": [
    "Pearson’s chi-squared statistical hypothesis test is an example of a test for independence between categorical variables\n",
    "\n",
    "The degree of association between predictor and outcome can be measured with statistics such as X2 (chi-squared) tests.\n"
   ]
  },
  {
   "cell_type": "markdown",
   "metadata": {},
   "source": [
    "1.Define Hypothesis\n",
    "Null Hypothesis (H0): Two variables are independent.\n",
    "Alternate Hypothesis (H1): Two variables are not independent."
   ]
  },
  {
   "cell_type": "raw",
   "metadata": {},
   "source": [
    "https://towardsdatascience.com/the-search-for-categorical-correlation-a1cf7f1888c9\n",
    "https://towardsdatascience.com/categorical-feature-selection-via-chi-square-fc558b09de43\n",
    "https://towardsdatascience.com/feature-selection-with-pandas-e3690ad8504b\n",
    "https://towardsdatascience.com/the-search-for-categorical-correlation-a1cf7f1888c9\n"
   ]
  },
  {
   "cell_type": "code",
   "execution_count": 111,
   "metadata": {},
   "outputs": [
    {
     "data": {
      "text/plain": [
       "0.092"
      ]
     },
     "execution_count": 111,
     "metadata": {},
     "output_type": "execute_result"
    }
   ],
   "source": [
    "import scipy.stats as ss #import chi2_contingency\n",
    "\n",
    "\n",
    "def cramers_v(x, y):\n",
    "    confusion_matrix = pd.crosstab(x,y)\n",
    "    chi2 = ss.chi2_contingency(confusion_matrix)[0]\n",
    "    n = confusion_matrix.sum().sum()\n",
    "    phi2 = chi2/n\n",
    "    r,k = confusion_matrix.shape\n",
    "    phi2corr = max(0, phi2-((k-1)*(r-1))/(n-1))\n",
    "    rcorr = r-((r-1)**2)/(n-1)\n",
    "    kcorr = k-((k-1)**2)/(n-1)\n",
    "    return round(np.sqrt(phi2corr/min((kcorr-1),(rcorr-1))),3)\n",
    "\n",
    "\n",
    "cramers_v(dataModel['pneumonia'], dataModel['sex'])\n"
   ]
  },
  {
   "cell_type": "code",
   "execution_count": 112,
   "metadata": {},
   "outputs": [
    {
     "data": {
      "text/plain": [
       "0.579"
      ]
     },
     "execution_count": 112,
     "metadata": {},
     "output_type": "execute_result"
    }
   ],
   "source": [
    "\n",
    "cramers_v(dataModel['hypertension'], dataModel['obesity'])"
   ]
  },
  {
   "cell_type": "code",
   "execution_count": 113,
   "metadata": {},
   "outputs": [
    {
     "data": {
      "text/html": [
       "<div>\n",
       "<style scoped>\n",
       "    .dataframe tbody tr th:only-of-type {\n",
       "        vertical-align: middle;\n",
       "    }\n",
       "\n",
       "    .dataframe tbody tr th {\n",
       "        vertical-align: top;\n",
       "    }\n",
       "\n",
       "    .dataframe thead th {\n",
       "        text-align: right;\n",
       "    }\n",
       "</style>\n",
       "<table border=\"1\" class=\"dataframe\">\n",
       "  <thead>\n",
       "    <tr style=\"text-align: right;\">\n",
       "      <th></th>\n",
       "      <th>sex</th>\n",
       "      <th>patient_type</th>\n",
       "      <th>intubed</th>\n",
       "      <th>pneumonia</th>\n",
       "      <th>age</th>\n",
       "      <th>pregnancy</th>\n",
       "      <th>diabetes</th>\n",
       "      <th>copd</th>\n",
       "      <th>asthma</th>\n",
       "      <th>inmsupr</th>\n",
       "      <th>hypertension</th>\n",
       "      <th>other_disease</th>\n",
       "      <th>cardiovascular</th>\n",
       "      <th>obesity</th>\n",
       "      <th>renal_chronic</th>\n",
       "      <th>tobacco</th>\n",
       "      <th>contact_other_covid</th>\n",
       "      <th>covid_res</th>\n",
       "      <th>icu</th>\n",
       "    </tr>\n",
       "  </thead>\n",
       "  <tbody>\n",
       "    <tr>\n",
       "      <th>sex</th>\n",
       "      <td>1</td>\n",
       "      <td>0.105</td>\n",
       "      <td>0.106</td>\n",
       "      <td>0.092</td>\n",
       "      <td>0.058</td>\n",
       "      <td>1</td>\n",
       "      <td>0.02</td>\n",
       "      <td>0.012</td>\n",
       "      <td>0.049</td>\n",
       "      <td>0.014</td>\n",
       "      <td>0.014</td>\n",
       "      <td>0.03</td>\n",
       "      <td>0.016</td>\n",
       "      <td>0.022</td>\n",
       "      <td>0.019</td>\n",
       "      <td>0.104</td>\n",
       "      <td>0.053</td>\n",
       "      <td>0.07</td>\n",
       "      <td>0.106</td>\n",
       "    </tr>\n",
       "    <tr>\n",
       "      <th>patient_type</th>\n",
       "      <td>0.105</td>\n",
       "      <td>1</td>\n",
       "      <td>1</td>\n",
       "      <td>0.665</td>\n",
       "      <td>0.414</td>\n",
       "      <td>0.107</td>\n",
       "      <td>0.269</td>\n",
       "      <td>0.113</td>\n",
       "      <td>0.027</td>\n",
       "      <td>0.087</td>\n",
       "      <td>0.243</td>\n",
       "      <td>0.087</td>\n",
       "      <td>0.098</td>\n",
       "      <td>0.073</td>\n",
       "      <td>0.142</td>\n",
       "      <td>0.021</td>\n",
       "      <td>0.29</td>\n",
       "      <td>0.188</td>\n",
       "      <td>1</td>\n",
       "    </tr>\n",
       "    <tr>\n",
       "      <th>intubed</th>\n",
       "      <td>0.106</td>\n",
       "      <td>1</td>\n",
       "      <td>1</td>\n",
       "      <td>0.477</td>\n",
       "      <td>0.24</td>\n",
       "      <td>0.062</td>\n",
       "      <td>0.192</td>\n",
       "      <td>0.084</td>\n",
       "      <td>0.032</td>\n",
       "      <td>0.067</td>\n",
       "      <td>0.174</td>\n",
       "      <td>0.068</td>\n",
       "      <td>0.074</td>\n",
       "      <td>0.059</td>\n",
       "      <td>0.104</td>\n",
       "      <td>0.029</td>\n",
       "      <td>0.218</td>\n",
       "      <td>0.189</td>\n",
       "      <td>0.856</td>\n",
       "    </tr>\n",
       "    <tr>\n",
       "      <th>pneumonia</th>\n",
       "      <td>0.092</td>\n",
       "      <td>0.665</td>\n",
       "      <td>0.477</td>\n",
       "      <td>1</td>\n",
       "      <td>0.239</td>\n",
       "      <td>0.066</td>\n",
       "      <td>0.16</td>\n",
       "      <td>0.064</td>\n",
       "      <td>0.018</td>\n",
       "      <td>0.044</td>\n",
       "      <td>0.141</td>\n",
       "      <td>0.04</td>\n",
       "      <td>0.055</td>\n",
       "      <td>0.056</td>\n",
       "      <td>0.073</td>\n",
       "      <td>0.015</td>\n",
       "      <td>0.137</td>\n",
       "      <td>0.185</td>\n",
       "      <td>0.474</td>\n",
       "    </tr>\n",
       "    <tr>\n",
       "      <th>age</th>\n",
       "      <td>0.058</td>\n",
       "      <td>0.414</td>\n",
       "      <td>0.24</td>\n",
       "      <td>0.239</td>\n",
       "      <td>1</td>\n",
       "      <td>0.069</td>\n",
       "      <td>0.255</td>\n",
       "      <td>0.149</td>\n",
       "      <td>0.026</td>\n",
       "      <td>0.048</td>\n",
       "      <td>0.294</td>\n",
       "      <td>0.053</td>\n",
       "      <td>0.116</td>\n",
       "      <td>0.089</td>\n",
       "      <td>0.08</td>\n",
       "      <td>0.048</td>\n",
       "      <td>0.125</td>\n",
       "      <td>0.174</td>\n",
       "      <td>0.243</td>\n",
       "    </tr>\n",
       "    <tr>\n",
       "      <th>pregnancy</th>\n",
       "      <td>1</td>\n",
       "      <td>0.107</td>\n",
       "      <td>0.062</td>\n",
       "      <td>0.066</td>\n",
       "      <td>0.069</td>\n",
       "      <td>1</td>\n",
       "      <td>0.051</td>\n",
       "      <td>0.05</td>\n",
       "      <td>0.06</td>\n",
       "      <td>0.048</td>\n",
       "      <td>0.053</td>\n",
       "      <td>0.047</td>\n",
       "      <td>0.05</td>\n",
       "      <td>0.05</td>\n",
       "      <td>0.049</td>\n",
       "      <td>0.086</td>\n",
       "      <td>0.043</td>\n",
       "      <td>0.071</td>\n",
       "      <td>0.062</td>\n",
       "    </tr>\n",
       "    <tr>\n",
       "      <th>diabetes</th>\n",
       "      <td>0.02</td>\n",
       "      <td>0.269</td>\n",
       "      <td>0.192</td>\n",
       "      <td>0.16</td>\n",
       "      <td>0.255</td>\n",
       "      <td>0.051</td>\n",
       "      <td>1</td>\n",
       "      <td>0.595</td>\n",
       "      <td>0.595</td>\n",
       "      <td>0.558</td>\n",
       "      <td>0.651</td>\n",
       "      <td>0.481</td>\n",
       "      <td>0.581</td>\n",
       "      <td>0.535</td>\n",
       "      <td>0.588</td>\n",
       "      <td>0.545</td>\n",
       "      <td>0.078</td>\n",
       "      <td>0.098</td>\n",
       "      <td>0.191</td>\n",
       "    </tr>\n",
       "    <tr>\n",
       "      <th>copd</th>\n",
       "      <td>0.012</td>\n",
       "      <td>0.113</td>\n",
       "      <td>0.084</td>\n",
       "      <td>0.064</td>\n",
       "      <td>0.149</td>\n",
       "      <td>0.05</td>\n",
       "      <td>0.595</td>\n",
       "      <td>1</td>\n",
       "      <td>0.655</td>\n",
       "      <td>0.611</td>\n",
       "      <td>0.618</td>\n",
       "      <td>0.525</td>\n",
       "      <td>0.632</td>\n",
       "      <td>0.573</td>\n",
       "      <td>0.631</td>\n",
       "      <td>0.594</td>\n",
       "      <td>0.039</td>\n",
       "      <td>0.011</td>\n",
       "      <td>0.081</td>\n",
       "    </tr>\n",
       "    <tr>\n",
       "      <th>asthma</th>\n",
       "      <td>0.049</td>\n",
       "      <td>0.027</td>\n",
       "      <td>0.032</td>\n",
       "      <td>0.018</td>\n",
       "      <td>0.026</td>\n",
       "      <td>0.06</td>\n",
       "      <td>0.595</td>\n",
       "      <td>0.655</td>\n",
       "      <td>1</td>\n",
       "      <td>0.625</td>\n",
       "      <td>0.623</td>\n",
       "      <td>0.532</td>\n",
       "      <td>0.639</td>\n",
       "      <td>0.583</td>\n",
       "      <td>0.64</td>\n",
       "      <td>0.602</td>\n",
       "      <td>0.016</td>\n",
       "      <td>0.025</td>\n",
       "      <td>0.022</td>\n",
       "    </tr>\n",
       "    <tr>\n",
       "      <th>inmsupr</th>\n",
       "      <td>0.014</td>\n",
       "      <td>0.087</td>\n",
       "      <td>0.067</td>\n",
       "      <td>0.044</td>\n",
       "      <td>0.048</td>\n",
       "      <td>0.048</td>\n",
       "      <td>0.558</td>\n",
       "      <td>0.611</td>\n",
       "      <td>0.625</td>\n",
       "      <td>1</td>\n",
       "      <td>0.594</td>\n",
       "      <td>0.574</td>\n",
       "      <td>0.615</td>\n",
       "      <td>0.554</td>\n",
       "      <td>0.615</td>\n",
       "      <td>0.573</td>\n",
       "      <td>0.031</td>\n",
       "      <td>0.02</td>\n",
       "      <td>0.063</td>\n",
       "    </tr>\n",
       "    <tr>\n",
       "      <th>hypertension</th>\n",
       "      <td>0.014</td>\n",
       "      <td>0.243</td>\n",
       "      <td>0.174</td>\n",
       "      <td>0.141</td>\n",
       "      <td>0.294</td>\n",
       "      <td>0.053</td>\n",
       "      <td>0.651</td>\n",
       "      <td>0.618</td>\n",
       "      <td>0.623</td>\n",
       "      <td>0.594</td>\n",
       "      <td>1</td>\n",
       "      <td>0.518</td>\n",
       "      <td>0.63</td>\n",
       "      <td>0.579</td>\n",
       "      <td>0.63</td>\n",
       "      <td>0.577</td>\n",
       "      <td>0.081</td>\n",
       "      <td>0.087</td>\n",
       "      <td>0.172</td>\n",
       "    </tr>\n",
       "    <tr>\n",
       "      <th>other_disease</th>\n",
       "      <td>0.03</td>\n",
       "      <td>0.087</td>\n",
       "      <td>0.068</td>\n",
       "      <td>0.04</td>\n",
       "      <td>0.053</td>\n",
       "      <td>0.047</td>\n",
       "      <td>0.481</td>\n",
       "      <td>0.525</td>\n",
       "      <td>0.532</td>\n",
       "      <td>0.574</td>\n",
       "      <td>0.518</td>\n",
       "      <td>1</td>\n",
       "      <td>0.548</td>\n",
       "      <td>0.487</td>\n",
       "      <td>0.537</td>\n",
       "      <td>0.504</td>\n",
       "      <td>0.089</td>\n",
       "      <td>0.015</td>\n",
       "      <td>0.063</td>\n",
       "    </tr>\n",
       "    <tr>\n",
       "      <th>cardiovascular</th>\n",
       "      <td>0.016</td>\n",
       "      <td>0.098</td>\n",
       "      <td>0.074</td>\n",
       "      <td>0.055</td>\n",
       "      <td>0.116</td>\n",
       "      <td>0.05</td>\n",
       "      <td>0.581</td>\n",
       "      <td>0.632</td>\n",
       "      <td>0.639</td>\n",
       "      <td>0.615</td>\n",
       "      <td>0.63</td>\n",
       "      <td>0.548</td>\n",
       "      <td>1</td>\n",
       "      <td>0.586</td>\n",
       "      <td>0.653</td>\n",
       "      <td>0.604</td>\n",
       "      <td>0.027</td>\n",
       "      <td>0.011</td>\n",
       "      <td>0.07</td>\n",
       "    </tr>\n",
       "    <tr>\n",
       "      <th>obesity</th>\n",
       "      <td>0.022</td>\n",
       "      <td>0.073</td>\n",
       "      <td>0.059</td>\n",
       "      <td>0.056</td>\n",
       "      <td>0.089</td>\n",
       "      <td>0.05</td>\n",
       "      <td>0.535</td>\n",
       "      <td>0.573</td>\n",
       "      <td>0.583</td>\n",
       "      <td>0.554</td>\n",
       "      <td>0.579</td>\n",
       "      <td>0.487</td>\n",
       "      <td>0.586</td>\n",
       "      <td>1</td>\n",
       "      <td>0.591</td>\n",
       "      <td>0.565</td>\n",
       "      <td>0.018</td>\n",
       "      <td>0.074</td>\n",
       "      <td>0.054</td>\n",
       "    </tr>\n",
       "    <tr>\n",
       "      <th>renal_chronic</th>\n",
       "      <td>0.019</td>\n",
       "      <td>0.142</td>\n",
       "      <td>0.104</td>\n",
       "      <td>0.073</td>\n",
       "      <td>0.08</td>\n",
       "      <td>0.049</td>\n",
       "      <td>0.588</td>\n",
       "      <td>0.631</td>\n",
       "      <td>0.64</td>\n",
       "      <td>0.615</td>\n",
       "      <td>0.63</td>\n",
       "      <td>0.537</td>\n",
       "      <td>0.653</td>\n",
       "      <td>0.591</td>\n",
       "      <td>1</td>\n",
       "      <td>0.611</td>\n",
       "      <td>0.05</td>\n",
       "      <td>0.013</td>\n",
       "      <td>0.101</td>\n",
       "    </tr>\n",
       "    <tr>\n",
       "      <th>tobacco</th>\n",
       "      <td>0.104</td>\n",
       "      <td>0.021</td>\n",
       "      <td>0.029</td>\n",
       "      <td>0.015</td>\n",
       "      <td>0.048</td>\n",
       "      <td>0.086</td>\n",
       "      <td>0.545</td>\n",
       "      <td>0.594</td>\n",
       "      <td>0.602</td>\n",
       "      <td>0.573</td>\n",
       "      <td>0.577</td>\n",
       "      <td>0.504</td>\n",
       "      <td>0.604</td>\n",
       "      <td>0.565</td>\n",
       "      <td>0.611</td>\n",
       "      <td>1</td>\n",
       "      <td>0.014</td>\n",
       "      <td>0.03</td>\n",
       "      <td>0.019</td>\n",
       "    </tr>\n",
       "    <tr>\n",
       "      <th>contact_other_covid</th>\n",
       "      <td>0.053</td>\n",
       "      <td>0.29</td>\n",
       "      <td>0.218</td>\n",
       "      <td>0.137</td>\n",
       "      <td>0.125</td>\n",
       "      <td>0.043</td>\n",
       "      <td>0.078</td>\n",
       "      <td>0.039</td>\n",
       "      <td>0.016</td>\n",
       "      <td>0.031</td>\n",
       "      <td>0.081</td>\n",
       "      <td>0.089</td>\n",
       "      <td>0.027</td>\n",
       "      <td>0.018</td>\n",
       "      <td>0.05</td>\n",
       "      <td>0.014</td>\n",
       "      <td>1</td>\n",
       "      <td>0.124</td>\n",
       "      <td>0.216</td>\n",
       "    </tr>\n",
       "    <tr>\n",
       "      <th>covid_res</th>\n",
       "      <td>0.07</td>\n",
       "      <td>0.188</td>\n",
       "      <td>0.189</td>\n",
       "      <td>0.185</td>\n",
       "      <td>0.174</td>\n",
       "      <td>0.071</td>\n",
       "      <td>0.098</td>\n",
       "      <td>0.011</td>\n",
       "      <td>0.025</td>\n",
       "      <td>0.02</td>\n",
       "      <td>0.087</td>\n",
       "      <td>0.015</td>\n",
       "      <td>0.011</td>\n",
       "      <td>0.074</td>\n",
       "      <td>0.013</td>\n",
       "      <td>0.03</td>\n",
       "      <td>0.124</td>\n",
       "      <td>1</td>\n",
       "      <td>0.188</td>\n",
       "    </tr>\n",
       "    <tr>\n",
       "      <th>icu</th>\n",
       "      <td>0.106</td>\n",
       "      <td>1</td>\n",
       "      <td>0.856</td>\n",
       "      <td>0.474</td>\n",
       "      <td>0.243</td>\n",
       "      <td>0.062</td>\n",
       "      <td>0.191</td>\n",
       "      <td>0.081</td>\n",
       "      <td>0.022</td>\n",
       "      <td>0.063</td>\n",
       "      <td>0.172</td>\n",
       "      <td>0.063</td>\n",
       "      <td>0.07</td>\n",
       "      <td>0.054</td>\n",
       "      <td>0.101</td>\n",
       "      <td>0.019</td>\n",
       "      <td>0.216</td>\n",
       "      <td>0.188</td>\n",
       "      <td>1</td>\n",
       "    </tr>\n",
       "  </tbody>\n",
       "</table>\n",
       "</div>"
      ],
      "text/plain": [
       "                       sex patient_type intubed pneumonia    age pregnancy  \\\n",
       "sex                      1        0.105   0.106     0.092  0.058         1   \n",
       "patient_type         0.105            1       1     0.665  0.414     0.107   \n",
       "intubed              0.106            1       1     0.477   0.24     0.062   \n",
       "pneumonia            0.092        0.665   0.477         1  0.239     0.066   \n",
       "age                  0.058        0.414    0.24     0.239      1     0.069   \n",
       "pregnancy                1        0.107   0.062     0.066  0.069         1   \n",
       "diabetes              0.02        0.269   0.192      0.16  0.255     0.051   \n",
       "copd                 0.012        0.113   0.084     0.064  0.149      0.05   \n",
       "asthma               0.049        0.027   0.032     0.018  0.026      0.06   \n",
       "inmsupr              0.014        0.087   0.067     0.044  0.048     0.048   \n",
       "hypertension         0.014        0.243   0.174     0.141  0.294     0.053   \n",
       "other_disease         0.03        0.087   0.068      0.04  0.053     0.047   \n",
       "cardiovascular       0.016        0.098   0.074     0.055  0.116      0.05   \n",
       "obesity              0.022        0.073   0.059     0.056  0.089      0.05   \n",
       "renal_chronic        0.019        0.142   0.104     0.073   0.08     0.049   \n",
       "tobacco              0.104        0.021   0.029     0.015  0.048     0.086   \n",
       "contact_other_covid  0.053         0.29   0.218     0.137  0.125     0.043   \n",
       "covid_res             0.07        0.188   0.189     0.185  0.174     0.071   \n",
       "icu                  0.106            1   0.856     0.474  0.243     0.062   \n",
       "\n",
       "                    diabetes   copd asthma inmsupr hypertension other_disease  \\\n",
       "sex                     0.02  0.012  0.049   0.014        0.014          0.03   \n",
       "patient_type           0.269  0.113  0.027   0.087        0.243         0.087   \n",
       "intubed                0.192  0.084  0.032   0.067        0.174         0.068   \n",
       "pneumonia               0.16  0.064  0.018   0.044        0.141          0.04   \n",
       "age                    0.255  0.149  0.026   0.048        0.294         0.053   \n",
       "pregnancy              0.051   0.05   0.06   0.048        0.053         0.047   \n",
       "diabetes                   1  0.595  0.595   0.558        0.651         0.481   \n",
       "copd                   0.595      1  0.655   0.611        0.618         0.525   \n",
       "asthma                 0.595  0.655      1   0.625        0.623         0.532   \n",
       "inmsupr                0.558  0.611  0.625       1        0.594         0.574   \n",
       "hypertension           0.651  0.618  0.623   0.594            1         0.518   \n",
       "other_disease          0.481  0.525  0.532   0.574        0.518             1   \n",
       "cardiovascular         0.581  0.632  0.639   0.615         0.63         0.548   \n",
       "obesity                0.535  0.573  0.583   0.554        0.579         0.487   \n",
       "renal_chronic          0.588  0.631   0.64   0.615         0.63         0.537   \n",
       "tobacco                0.545  0.594  0.602   0.573        0.577         0.504   \n",
       "contact_other_covid    0.078  0.039  0.016   0.031        0.081         0.089   \n",
       "covid_res              0.098  0.011  0.025    0.02        0.087         0.015   \n",
       "icu                    0.191  0.081  0.022   0.063        0.172         0.063   \n",
       "\n",
       "                    cardiovascular obesity renal_chronic tobacco  \\\n",
       "sex                          0.016   0.022         0.019   0.104   \n",
       "patient_type                 0.098   0.073         0.142   0.021   \n",
       "intubed                      0.074   0.059         0.104   0.029   \n",
       "pneumonia                    0.055   0.056         0.073   0.015   \n",
       "age                          0.116   0.089          0.08   0.048   \n",
       "pregnancy                     0.05    0.05         0.049   0.086   \n",
       "diabetes                     0.581   0.535         0.588   0.545   \n",
       "copd                         0.632   0.573         0.631   0.594   \n",
       "asthma                       0.639   0.583          0.64   0.602   \n",
       "inmsupr                      0.615   0.554         0.615   0.573   \n",
       "hypertension                  0.63   0.579          0.63   0.577   \n",
       "other_disease                0.548   0.487         0.537   0.504   \n",
       "cardiovascular                   1   0.586         0.653   0.604   \n",
       "obesity                      0.586       1         0.591   0.565   \n",
       "renal_chronic                0.653   0.591             1   0.611   \n",
       "tobacco                      0.604   0.565         0.611       1   \n",
       "contact_other_covid          0.027   0.018          0.05   0.014   \n",
       "covid_res                    0.011   0.074         0.013    0.03   \n",
       "icu                           0.07   0.054         0.101   0.019   \n",
       "\n",
       "                    contact_other_covid covid_res    icu  \n",
       "sex                               0.053      0.07  0.106  \n",
       "patient_type                       0.29     0.188      1  \n",
       "intubed                           0.218     0.189  0.856  \n",
       "pneumonia                         0.137     0.185  0.474  \n",
       "age                               0.125     0.174  0.243  \n",
       "pregnancy                         0.043     0.071  0.062  \n",
       "diabetes                          0.078     0.098  0.191  \n",
       "copd                              0.039     0.011  0.081  \n",
       "asthma                            0.016     0.025  0.022  \n",
       "inmsupr                           0.031      0.02  0.063  \n",
       "hypertension                      0.081     0.087  0.172  \n",
       "other_disease                     0.089     0.015  0.063  \n",
       "cardiovascular                    0.027     0.011   0.07  \n",
       "obesity                           0.018     0.074  0.054  \n",
       "renal_chronic                      0.05     0.013  0.101  \n",
       "tobacco                           0.014      0.03  0.019  \n",
       "contact_other_covid                   1     0.124  0.216  \n",
       "covid_res                         0.124         1  0.188  \n",
       "icu                               0.216     0.188      1  "
      ]
     },
     "metadata": {},
     "output_type": "display_data"
    }
   ],
   "source": [
    "df2 = pd.DataFrame(columns=model_columns, index=model_columns)\n",
    "for i in range(len(model_columns)):\n",
    "    for j in range(len(model_columns)):\n",
    "        fname = model_columns[i]\n",
    "        cname = model_columns[j]\n",
    "        df2.loc[fname, cname] = cramers_v(dataModel[fname], dataModel[cname])\n",
    "\n",
    "display(df2)"
   ]
  },
  {
   "cell_type": "code",
   "execution_count": 114,
   "metadata": {},
   "outputs": [
    {
     "data": {
      "text/plain": [
       "(19, 19)"
      ]
     },
     "execution_count": 114,
     "metadata": {},
     "output_type": "execute_result"
    }
   ],
   "source": [
    "df2.shape"
   ]
  },
  {
   "cell_type": "code",
   "execution_count": 115,
   "metadata": {},
   "outputs": [
    {
     "data": {
      "image/png": "[encoded data removed]",
      "text/plain": [
       "<Figure size 864x720 with 2 Axes>"
      ]
     },
     "metadata": {
      "needs_background": "light"
     },
     "output_type": "display_data"
    }
   ],
   "source": [
    "import seaborn as sns\n",
    "\n",
    "df2 = df2.astype('float')  # !! Neccessary for Heatmap\n",
    "\n",
    "plt.figure(figsize=(12,10))\n",
    "sns.heatmap(df2, annot=True, cmap=\"Greens\")\n",
    "plt.show()"
   ]
  },
  {
   "cell_type": "markdown",
   "metadata": {},
   "source": [
    "# <font color=\"blue\">7.  MODELISATION & PREDICTION</font>"
   ]
  },
  {
   "cell_type": "markdown",
   "metadata": {},
   "source": [
    "## <font color=\"blue\">7.1.  Splitting DATA to create Training and Test sets.</font>"
   ]
  },
  {
   "cell_type": "code",
   "execution_count": 116,
   "metadata": {},
   "outputs": [],
   "source": [
    "# Labels for descriptors\n",
    "\n",
    "datalabels = ['id', 'sex', 'patient_type', 'entry_date', 'date_symptoms',\n",
    "              'date_died','intubed','pneumonia','age','pregnancy','diabetes','copd','asthma','inmsupr','hypertension',\n",
    "              'other_disease','cardiovascular','obesity','renal_chronic','tobacco','contact_other_covid'\n",
    "              ,'covid_res','icu']\n",
    "\n",
    "# Ignored: id, entrydate, date_symptons, date_died, icu\n",
    "predictors = ['sex', 'age','pneumonia','contact_other_covid','covid_res',\n",
    "              'pregnancy','diabetes','copd','asthma','inmsupr',\n",
    "              'hypertension','other_disease','cardiovascular','obesity','renal_chronic','tobacco'\n",
    "             ]\n",
    "\n",
    "target_column= 'icu'\n",
    "\n",
    "target_column2 = 'intubed'\n",
    "\n",
    "model_columns = ['sex', 'age','pneumonia','contact_other_covid','covid_res',\n",
    "              'pregnancy','diabetes','copd','asthma','inmsupr',\n",
    "              'hypertension','other_disease','cardiovascular','obesity','renal_chronic','tobacco', target_column]\n",
    "\n",
    "\n",
    "# Split in traning and test sets\n",
    "\n",
    "from sklearn.model_selection import train_test_split\n",
    "\n",
    "X_train, X_test, y_train, y_test =train_test_split(dataModel[predictors], \n",
    "                                                   dataModel[target_column], \n",
    "                                                   test_size=0.20, random_state=44)\n",
    "\n"
   ]
  },
  {
   "cell_type": "code",
   "execution_count": 117,
   "metadata": {},
   "outputs": [
    {
     "name": "stdout",
     "output_type": "stream",
     "text": [
      "Size training set:  (279700, 16)\n",
      "Size test set:  (69926, 16)\n"
     ]
    }
   ],
   "source": [
    "print(\"Size training set: \", X_train.shape)\n",
    "print(\"Size test set: \", X_test.shape)\n",
    "\n"
   ]
  },
  {
   "cell_type": "markdown",
   "metadata": {},
   "source": [
    "# 7.1 KNN"
   ]
  },
  {
   "cell_type": "code",
   "execution_count": 58,
   "metadata": {},
   "outputs": [],
   "source": [
    "from sklearn import neighbors, datasets\n",
    "import time\n",
    "\n",
    "startTimeKNN = time.time()\n",
    "weights = 'uniform'\n",
    "k_neighbors = 15\n",
    "model1 = neighbors.KNeighborsClassifier(weights=weights)\n",
    "model1.fit(X_train, y_train.values.ravel())\n",
    "endtimeKNN = time.time()\n"
   ]
  },
  {
   "cell_type": "code",
   "execution_count": 59,
   "metadata": {},
   "outputs": [
    {
     "data": {
      "text/plain": [
       "199.19060134887695"
      ]
     },
     "execution_count": 59,
     "metadata": {},
     "output_type": "execute_result"
    }
   ],
   "source": [
    "KNN_sec=endtimeKNN - startTimeKNN\n",
    "KNN_sec"
   ]
  },
  {
   "cell_type": "markdown",
   "metadata": {},
   "source": [
    "## 7.1.1  Model Evaluation"
   ]
  },
  {
   "cell_type": "code",
   "execution_count": 60,
   "metadata": {},
   "outputs": [
    {
     "name": "stdout",
     "output_type": "stream",
     "text": [
      "<class 'pandas.core.frame.DataFrame'>\n",
      "Int64Index: 69926 entries, 71593 to 229900\n",
      "Data columns (total 18 columns):\n",
      " #   Column               Non-Null Count  Dtype\n",
      "---  ------               --------------  -----\n",
      " 0   sex                  69926 non-null  int64\n",
      " 1   age                  69926 non-null  int64\n",
      " 2   patient_type         69926 non-null  int64\n",
      " 3   intubed              69926 non-null  int64\n",
      " 4   pneumonia            69926 non-null  int64\n",
      " 5   pregnancy            69926 non-null  int64\n",
      " 6   diabetes             69926 non-null  int64\n",
      " 7   copd                 69926 non-null  int64\n",
      " 8   asthma               69926 non-null  int64\n",
      " 9   inmsupr              69926 non-null  int64\n",
      " 10  hypertension         69926 non-null  int64\n",
      " 11  other_disease        69926 non-null  int64\n",
      " 12  cardiovascular       69926 non-null  int64\n",
      " 13  obesity              69926 non-null  int64\n",
      " 14  renal_chronic        69926 non-null  int64\n",
      " 15  tobacco              69926 non-null  int64\n",
      " 16  contact_other_covid  69926 non-null  int64\n",
      " 17  covid_res            69926 non-null  int64\n",
      "dtypes: int64(18)\n",
      "memory usage: 10.1 MB\n"
     ]
    }
   ],
   "source": [
    "X_test.info()"
   ]
  },
  {
   "cell_type": "code",
   "execution_count": 61,
   "metadata": {},
   "outputs": [
    {
     "data": {
      "text/html": [
       "<div>\n",
       "<style scoped>\n",
       "    .dataframe tbody tr th:only-of-type {\n",
       "        vertical-align: middle;\n",
       "    }\n",
       "\n",
       "    .dataframe tbody tr th {\n",
       "        vertical-align: top;\n",
       "    }\n",
       "\n",
       "    .dataframe thead th {\n",
       "        text-align: right;\n",
       "    }\n",
       "</style>\n",
       "<table border=\"1\" class=\"dataframe\">\n",
       "  <thead>\n",
       "    <tr style=\"text-align: right;\">\n",
       "      <th></th>\n",
       "      <th>sex</th>\n",
       "      <th>age</th>\n",
       "      <th>patient_type</th>\n",
       "      <th>intubed</th>\n",
       "      <th>pneumonia</th>\n",
       "      <th>pregnancy</th>\n",
       "      <th>diabetes</th>\n",
       "      <th>copd</th>\n",
       "      <th>asthma</th>\n",
       "      <th>inmsupr</th>\n",
       "      <th>hypertension</th>\n",
       "      <th>other_disease</th>\n",
       "      <th>cardiovascular</th>\n",
       "      <th>obesity</th>\n",
       "      <th>renal_chronic</th>\n",
       "      <th>tobacco</th>\n",
       "      <th>contact_other_covid</th>\n",
       "      <th>covid_res</th>\n",
       "    </tr>\n",
       "  </thead>\n",
       "  <tbody>\n",
       "    <tr>\n",
       "      <th>71593</th>\n",
       "      <td>1</td>\n",
       "      <td>36</td>\n",
       "      <td>1</td>\n",
       "      <td>97</td>\n",
       "      <td>2</td>\n",
       "      <td>2</td>\n",
       "      <td>2</td>\n",
       "      <td>2</td>\n",
       "      <td>1</td>\n",
       "      <td>2</td>\n",
       "      <td>2</td>\n",
       "      <td>2</td>\n",
       "      <td>2</td>\n",
       "      <td>2</td>\n",
       "      <td>2</td>\n",
       "      <td>2</td>\n",
       "      <td>99</td>\n",
       "      <td>1</td>\n",
       "    </tr>\n",
       "    <tr>\n",
       "      <th>196136</th>\n",
       "      <td>1</td>\n",
       "      <td>52</td>\n",
       "      <td>1</td>\n",
       "      <td>97</td>\n",
       "      <td>2</td>\n",
       "      <td>2</td>\n",
       "      <td>2</td>\n",
       "      <td>2</td>\n",
       "      <td>2</td>\n",
       "      <td>2</td>\n",
       "      <td>2</td>\n",
       "      <td>2</td>\n",
       "      <td>2</td>\n",
       "      <td>2</td>\n",
       "      <td>2</td>\n",
       "      <td>2</td>\n",
       "      <td>1</td>\n",
       "      <td>1</td>\n",
       "    </tr>\n",
       "    <tr>\n",
       "      <th>227259</th>\n",
       "      <td>2</td>\n",
       "      <td>20</td>\n",
       "      <td>1</td>\n",
       "      <td>97</td>\n",
       "      <td>2</td>\n",
       "      <td>97</td>\n",
       "      <td>2</td>\n",
       "      <td>2</td>\n",
       "      <td>2</td>\n",
       "      <td>2</td>\n",
       "      <td>2</td>\n",
       "      <td>2</td>\n",
       "      <td>2</td>\n",
       "      <td>2</td>\n",
       "      <td>2</td>\n",
       "      <td>1</td>\n",
       "      <td>99</td>\n",
       "      <td>2</td>\n",
       "    </tr>\n",
       "    <tr>\n",
       "      <th>259004</th>\n",
       "      <td>1</td>\n",
       "      <td>33</td>\n",
       "      <td>1</td>\n",
       "      <td>97</td>\n",
       "      <td>2</td>\n",
       "      <td>1</td>\n",
       "      <td>2</td>\n",
       "      <td>2</td>\n",
       "      <td>2</td>\n",
       "      <td>2</td>\n",
       "      <td>2</td>\n",
       "      <td>2</td>\n",
       "      <td>2</td>\n",
       "      <td>2</td>\n",
       "      <td>2</td>\n",
       "      <td>2</td>\n",
       "      <td>2</td>\n",
       "      <td>2</td>\n",
       "    </tr>\n",
       "    <tr>\n",
       "      <th>230905</th>\n",
       "      <td>2</td>\n",
       "      <td>36</td>\n",
       "      <td>1</td>\n",
       "      <td>97</td>\n",
       "      <td>2</td>\n",
       "      <td>97</td>\n",
       "      <td>2</td>\n",
       "      <td>2</td>\n",
       "      <td>2</td>\n",
       "      <td>2</td>\n",
       "      <td>2</td>\n",
       "      <td>2</td>\n",
       "      <td>2</td>\n",
       "      <td>2</td>\n",
       "      <td>2</td>\n",
       "      <td>2</td>\n",
       "      <td>99</td>\n",
       "      <td>2</td>\n",
       "    </tr>\n",
       "  </tbody>\n",
       "</table>\n",
       "</div>"
      ],
      "text/plain": [
       "        sex  age  patient_type  intubed  pneumonia  pregnancy  diabetes  copd  \\\n",
       "71593     1   36             1       97          2          2         2     2   \n",
       "196136    1   52             1       97          2          2         2     2   \n",
       "227259    2   20             1       97          2         97         2     2   \n",
       "259004    1   33             1       97          2          1         2     2   \n",
       "230905    2   36             1       97          2         97         2     2   \n",
       "\n",
       "        asthma  inmsupr  hypertension  other_disease  cardiovascular  obesity  \\\n",
       "71593        1        2             2              2               2        2   \n",
       "196136       2        2             2              2               2        2   \n",
       "227259       2        2             2              2               2        2   \n",
       "259004       2        2             2              2               2        2   \n",
       "230905       2        2             2              2               2        2   \n",
       "\n",
       "        renal_chronic  tobacco  contact_other_covid  covid_res  \n",
       "71593               2        2                   99          1  \n",
       "196136              2        2                    1          1  \n",
       "227259              2        1                   99          2  \n",
       "259004              2        2                    2          2  \n",
       "230905              2        2                   99          2  "
      ]
     },
     "execution_count": 61,
     "metadata": {},
     "output_type": "execute_result"
    }
   ],
   "source": [
    "X_test.head(5)"
   ]
  },
  {
   "cell_type": "code",
   "execution_count": 62,
   "metadata": {},
   "outputs": [
    {
     "data": {
      "text/html": [
       "<div>\n",
       "<style scoped>\n",
       "    .dataframe tbody tr th:only-of-type {\n",
       "        vertical-align: middle;\n",
       "    }\n",
       "\n",
       "    .dataframe tbody tr th {\n",
       "        vertical-align: top;\n",
       "    }\n",
       "\n",
       "    .dataframe thead th {\n",
       "        text-align: right;\n",
       "    }\n",
       "</style>\n",
       "<table border=\"1\" class=\"dataframe\">\n",
       "  <thead>\n",
       "    <tr style=\"text-align: right;\">\n",
       "      <th></th>\n",
       "      <th>sex</th>\n",
       "      <th>age</th>\n",
       "      <th>patient_type</th>\n",
       "      <th>intubed</th>\n",
       "      <th>pneumonia</th>\n",
       "      <th>pregnancy</th>\n",
       "      <th>diabetes</th>\n",
       "      <th>copd</th>\n",
       "      <th>asthma</th>\n",
       "      <th>inmsupr</th>\n",
       "      <th>hypertension</th>\n",
       "      <th>other_disease</th>\n",
       "      <th>cardiovascular</th>\n",
       "      <th>obesity</th>\n",
       "      <th>renal_chronic</th>\n",
       "      <th>tobacco</th>\n",
       "      <th>contact_other_covid</th>\n",
       "      <th>covid_res</th>\n",
       "    </tr>\n",
       "  </thead>\n",
       "  <tbody>\n",
       "    <tr>\n",
       "      <th>209552</th>\n",
       "      <td>2</td>\n",
       "      <td>57</td>\n",
       "      <td>2</td>\n",
       "      <td>2</td>\n",
       "      <td>2</td>\n",
       "      <td>97</td>\n",
       "      <td>98</td>\n",
       "      <td>2</td>\n",
       "      <td>98</td>\n",
       "      <td>98</td>\n",
       "      <td>98</td>\n",
       "      <td>2</td>\n",
       "      <td>98</td>\n",
       "      <td>98</td>\n",
       "      <td>2</td>\n",
       "      <td>98</td>\n",
       "      <td>2</td>\n",
       "      <td>1</td>\n",
       "    </tr>\n",
       "    <tr>\n",
       "      <th>94988</th>\n",
       "      <td>1</td>\n",
       "      <td>51</td>\n",
       "      <td>1</td>\n",
       "      <td>97</td>\n",
       "      <td>2</td>\n",
       "      <td>2</td>\n",
       "      <td>2</td>\n",
       "      <td>2</td>\n",
       "      <td>2</td>\n",
       "      <td>2</td>\n",
       "      <td>2</td>\n",
       "      <td>2</td>\n",
       "      <td>2</td>\n",
       "      <td>2</td>\n",
       "      <td>2</td>\n",
       "      <td>2</td>\n",
       "      <td>1</td>\n",
       "      <td>1</td>\n",
       "    </tr>\n",
       "    <tr>\n",
       "      <th>21959</th>\n",
       "      <td>1</td>\n",
       "      <td>53</td>\n",
       "      <td>2</td>\n",
       "      <td>2</td>\n",
       "      <td>1</td>\n",
       "      <td>2</td>\n",
       "      <td>1</td>\n",
       "      <td>2</td>\n",
       "      <td>2</td>\n",
       "      <td>2</td>\n",
       "      <td>1</td>\n",
       "      <td>2</td>\n",
       "      <td>2</td>\n",
       "      <td>2</td>\n",
       "      <td>2</td>\n",
       "      <td>2</td>\n",
       "      <td>2</td>\n",
       "      <td>1</td>\n",
       "    </tr>\n",
       "    <tr>\n",
       "      <th>214002</th>\n",
       "      <td>2</td>\n",
       "      <td>71</td>\n",
       "      <td>2</td>\n",
       "      <td>2</td>\n",
       "      <td>1</td>\n",
       "      <td>97</td>\n",
       "      <td>1</td>\n",
       "      <td>2</td>\n",
       "      <td>2</td>\n",
       "      <td>2</td>\n",
       "      <td>1</td>\n",
       "      <td>2</td>\n",
       "      <td>1</td>\n",
       "      <td>1</td>\n",
       "      <td>2</td>\n",
       "      <td>2</td>\n",
       "      <td>99</td>\n",
       "      <td>1</td>\n",
       "    </tr>\n",
       "    <tr>\n",
       "      <th>206645</th>\n",
       "      <td>1</td>\n",
       "      <td>54</td>\n",
       "      <td>1</td>\n",
       "      <td>97</td>\n",
       "      <td>2</td>\n",
       "      <td>2</td>\n",
       "      <td>2</td>\n",
       "      <td>2</td>\n",
       "      <td>2</td>\n",
       "      <td>2</td>\n",
       "      <td>2</td>\n",
       "      <td>2</td>\n",
       "      <td>2</td>\n",
       "      <td>2</td>\n",
       "      <td>2</td>\n",
       "      <td>2</td>\n",
       "      <td>1</td>\n",
       "      <td>1</td>\n",
       "    </tr>\n",
       "  </tbody>\n",
       "</table>\n",
       "</div>"
      ],
      "text/plain": [
       "        sex  age  patient_type  intubed  pneumonia  pregnancy  diabetes  copd  \\\n",
       "209552    2   57             2        2          2         97        98     2   \n",
       "94988     1   51             1       97          2          2         2     2   \n",
       "21959     1   53             2        2          1          2         1     2   \n",
       "214002    2   71             2        2          1         97         1     2   \n",
       "206645    1   54             1       97          2          2         2     2   \n",
       "\n",
       "        asthma  inmsupr  hypertension  other_disease  cardiovascular  obesity  \\\n",
       "209552      98       98            98              2              98       98   \n",
       "94988        2        2             2              2               2        2   \n",
       "21959        2        2             1              2               2        2   \n",
       "214002       2        2             1              2               1        1   \n",
       "206645       2        2             2              2               2        2   \n",
       "\n",
       "        renal_chronic  tobacco  contact_other_covid  covid_res  \n",
       "209552              2       98                    2          1  \n",
       "94988               2        2                    1          1  \n",
       "21959               2        2                    2          1  \n",
       "214002              2        2                   99          1  \n",
       "206645              2        2                    1          1  "
      ]
     },
     "execution_count": 62,
     "metadata": {},
     "output_type": "execute_result"
    }
   ],
   "source": [
    "X_train.head(5)"
   ]
  },
  {
   "cell_type": "code",
   "execution_count": 63,
   "metadata": {},
   "outputs": [],
   "source": [
    "# METRIQUES\n",
    "\n",
    "from sklearn import metrics \n",
    "from sklearn.metrics import accuracy_score\n",
    "from sklearn.metrics import classification_report, confusion_matrix\n",
    "import time\n",
    "\n",
    "y_predicted_train = model1.predict(X_train)\n",
    "y_predicted_test = model1.predict(X_test)\n",
    "\n"
   ]
  },
  {
   "cell_type": "code",
   "execution_count": 64,
   "metadata": {},
   "outputs": [
    {
     "name": "stdout",
     "output_type": "stream",
     "text": [
      "Accuracy: 0.9823203432248838\n"
     ]
    },
    {
     "data": {
      "text/plain": [
       "0.01060938835144043"
      ]
     },
     "execution_count": 64,
     "metadata": {},
     "output_type": "execute_result"
    }
   ],
   "source": [
    "\n",
    "startTimeKNN = time.time()\n",
    "print(\"Accuracy:\", metrics.accuracy_score(y_predicted_train, y_train))\n",
    "\n",
    "endtimeKNN = time.time()\n",
    "eval_KNN_sec = endtimeKNN - startTimeKNN\n",
    "eval_KNN_sec"
   ]
  },
  {
   "cell_type": "code",
   "execution_count": 65,
   "metadata": {},
   "outputs": [
    {
     "name": "stdout",
     "output_type": "stream",
     "text": [
      "[[  241  1250     0     0]\n",
      " [  248 15600     4     0]\n",
      " [    0     5 52545     0]\n",
      " [    0     1    29     3]]\n"
     ]
    },
    {
     "data": {
      "text/plain": [
       "0.04903149604797363"
      ]
     },
     "execution_count": 65,
     "metadata": {},
     "output_type": "execute_result"
    }
   ],
   "source": [
    "startTimeKNN = time.time()\n",
    "\n",
    "print(confusion_matrix(y_test, y_predicted_test))\n",
    "\n",
    "endtimeKNN = time.time()\n",
    "EVAL_KNN_sec = endtimeKNN - startTimeKNN\n",
    "EVAL_KNN_sec"
   ]
  },
  {
   "cell_type": "code",
   "execution_count": 66,
   "metadata": {},
   "outputs": [
    {
     "name": "stdout",
     "output_type": "stream",
     "text": [
      "Precision:  0.9718224605324951\n"
     ]
    }
   ],
   "source": [
    "print(\"Precision: \", metrics.precision_score(y_test, y_predicted_test, labels=None, pos_label=1, average='weighted', \n",
    "                                        sample_weight=None,zero_division='warn'))"
   ]
  },
  {
   "cell_type": "code",
   "execution_count": 67,
   "metadata": {},
   "outputs": [
    {
     "name": "stdout",
     "output_type": "stream",
     "text": [
      "Recall: 0.5591383453298758\n"
     ]
    }
   ],
   "source": [
    "\n",
    "print (\"Recall:\", metrics.recall_score(y_test, y_predicted_test,  average='macro') )\n"
   ]
  },
  {
   "cell_type": "code",
   "execution_count": 68,
   "metadata": {},
   "outputs": [
    {
     "name": "stdout",
     "output_type": "stream",
     "text": [
      "F1 score: 0.5909086543808026\n"
     ]
    }
   ],
   "source": [
    "print (\"F1 score:\", metrics.f1_score(y_test, y_predicted_test, average='macro'))\n"
   ]
  },
  {
   "cell_type": "code",
   "execution_count": null,
   "metadata": {},
   "outputs": [],
   "source": []
  },
  {
   "cell_type": "markdown",
   "metadata": {},
   "source": [
    "# 7.2. DESICION TREE"
   ]
  },
  {
   "cell_type": "markdown",
   "metadata": {},
   "source": [
    "## 7.2.1 DESICION TREE - Entropy"
   ]
  },
  {
   "cell_type": "code",
   "execution_count": 69,
   "metadata": {},
   "outputs": [
    {
     "data": {
      "text/plain": [
       "DecisionTreeClassifier(ccp_alpha=0.0, class_weight=None, criterion='entropy',\n",
       "                       max_depth=3, max_features=None, max_leaf_nodes=None,\n",
       "                       min_impurity_decrease=0.0, min_impurity_split=None,\n",
       "                       min_samples_leaf=5, min_samples_split=2,\n",
       "                       min_weight_fraction_leaf=0.0, presort='deprecated',\n",
       "                       random_state=44, splitter='best')"
      ]
     },
     "execution_count": 69,
     "metadata": {},
     "output_type": "execute_result"
    }
   ],
   "source": [
    "from sklearn import tree\n",
    "desicionTree = tree.DecisionTreeClassifier(max_depth =3, criterion='entropy', random_state=44, min_samples_leaf=5)\n",
    "desicionTree.fit(X_train, y_train)\n",
    "\n"
   ]
  },
  {
   "cell_type": "code",
   "execution_count": 70,
   "metadata": {},
   "outputs": [
    {
     "data": {
      "text/plain": [
       "[Text(125.55000000000001, 380.52, 'patient_type <= 1.5\\nentropy = 0.912\\nsamples = 279700\\nvalue = [5785, 63210, 210636, 69]'),\n",
       " Text(83.7, 271.8, 'entropy = 0.0\\nsamples = 210636\\nvalue = [0, 0, 210636, 0]'),\n",
       " Text(167.4, 271.8, 'intubed <= 1.5\\nentropy = 0.427\\nsamples = 69064\\nvalue = [5785, 63210, 0, 69]'),\n",
       " Text(83.7, 163.07999999999998, 'contact_other_covid <= 50.5\\nentropy = 1.0\\nsamples = 6173\\nvalue = [3022, 3151, 0, 0]'),\n",
       " Text(41.85, 54.360000000000014, 'entropy = 1.0\\nsamples = 4844\\nvalue = [2476, 2368, 0, 0]'),\n",
       " Text(125.55000000000001, 54.360000000000014, 'entropy = 0.977\\nsamples = 1329\\nvalue = [546, 783, 0, 0]'),\n",
       " Text(251.10000000000002, 163.07999999999998, 'intubed <= 50.5\\nentropy = 0.272\\nsamples = 62891\\nvalue = [2763, 60059, 0, 69]'),\n",
       " Text(209.25, 54.360000000000014, 'entropy = 0.26\\nsamples = 62822\\nvalue = [2763, 60059, 0, 0]'),\n",
       " Text(292.95, 54.360000000000014, 'entropy = 0.0\\nsamples = 69\\nvalue = [0, 0, 0, 69]')]"
      ]
     },
     "execution_count": 70,
     "metadata": {},
     "output_type": "execute_result"
    },
    {
     "data": {
      "image/png": "[encoded data removed]",
      "text/plain": [
       "<Figure size 432x576 with 1 Axes>"
      ]
     },
     "metadata": {
      "needs_background": "light"
     },
     "output_type": "display_data"
    }
   ],
   "source": [
    "from sklearn.tree import DecisionTreeClassifier, plot_tree\n",
    "\n",
    "plt.figure(figsize = (6,8))\n",
    "plot_tree(desicionTree, feature_names = predictors, filled = True)\n"
   ]
  },
  {
   "cell_type": "code",
   "execution_count": 71,
   "metadata": {},
   "outputs": [],
   "source": [
    "\n",
    "y_predicted_train = desicionTree.predict(X_train)\n",
    "y_predicted_test = desicionTree.predict(X_test)\n",
    "\n"
   ]
  },
  {
   "cell_type": "code",
   "execution_count": 72,
   "metadata": {},
   "outputs": [
    {
     "name": "stdout",
     "output_type": "stream",
     "text": [
      "Accuracy: 0.9797032534858777\n"
     ]
    },
    {
     "data": {
      "text/plain": [
       "0.011999368667602539"
      ]
     },
     "execution_count": 72,
     "metadata": {},
     "output_type": "execute_result"
    }
   ],
   "source": [
    "\n",
    "startTimeKNN = time.time()\n",
    "print(\"Accuracy:\", metrics.accuracy_score(y_predicted_train, y_train))\n",
    "\n",
    "endtimeKNN = time.time()\n",
    "eval_KNN_sec = endtimeKNN - startTimeKNN\n",
    "eval_KNN_sec"
   ]
  },
  {
   "cell_type": "code",
   "execution_count": 73,
   "metadata": {},
   "outputs": [
    {
     "name": "stdout",
     "output_type": "stream",
     "text": [
      "Precision:  0.9770008191180214\n"
     ]
    }
   ],
   "source": [
    "print(\"Precision: \", metrics.precision_score(y_test, y_predicted_test, labels=None, pos_label=1, average='weighted', \n",
    "                                        sample_weight=None,zero_division='warn'))"
   ]
  },
  {
   "cell_type": "code",
   "execution_count": 74,
   "metadata": {},
   "outputs": [
    {
     "name": "stdout",
     "output_type": "stream",
     "text": [
      "Recall: 0.8358438631006095\n"
     ]
    }
   ],
   "source": [
    "\n",
    "print (\"Recall:\", metrics.recall_score(y_test, y_predicted_test,  average='macro') )\n"
   ]
  },
  {
   "cell_type": "code",
   "execution_count": 75,
   "metadata": {},
   "outputs": [
    {
     "name": "stdout",
     "output_type": "stream",
     "text": [
      "F1 score: 0.8474951210379034\n"
     ]
    }
   ],
   "source": [
    "print (\"F1 score:\", metrics.f1_score(y_test, y_predicted_test, average='macro'))"
   ]
  },
  {
   "cell_type": "markdown",
   "metadata": {},
   "source": [
    "## 7.22 DESICION TREE - GINI\n"
   ]
  },
  {
   "cell_type": "code",
   "execution_count": 76,
   "metadata": {},
   "outputs": [
    {
     "data": {
      "text/plain": [
       "[Text(209.25, 380.52, 'patient_type <= 1.5\\ngini = 0.381\\nsamples = 279700\\nvalue = [5785, 63210, 210636, 69]'),\n",
       " Text(139.5, 271.8, 'gini = 0.0\\nsamples = 210636\\nvalue = [0, 0, 210636, 0]'),\n",
       " Text(279.0, 271.8, 'intubed <= 1.5\\ngini = 0.155\\nsamples = 69064\\nvalue = [5785, 63210, 0, 69]'),\n",
       " Text(139.5, 163.07999999999998, 'contact_other_covid <= 50.5\\ngini = 0.5\\nsamples = 6173\\nvalue = [3022, 3151, 0, 0]'),\n",
       " Text(69.75, 54.360000000000014, 'gini = 0.5\\nsamples = 4844\\nvalue = [2476, 2368, 0, 0]'),\n",
       " Text(209.25, 54.360000000000014, 'gini = 0.484\\nsamples = 1329\\nvalue = [546, 783, 0, 0]'),\n",
       " Text(418.5, 163.07999999999998, 'intubed <= 50.5\\ngini = 0.086\\nsamples = 62891\\nvalue = [2763, 60059, 0, 69]'),\n",
       " Text(348.75, 54.360000000000014, 'gini = 0.084\\nsamples = 62822\\nvalue = [2763, 60059, 0, 0]'),\n",
       " Text(488.25, 54.360000000000014, 'gini = 0.0\\nsamples = 69\\nvalue = [0, 0, 0, 69]')]"
      ]
     },
     "execution_count": 76,
     "metadata": {},
     "output_type": "execute_result"
    },
    {
     "data": {
      "image/png": "[encoded data removed]",
      "text/plain": [
       "<Figure size 720x576 with 1 Axes>"
      ]
     },
     "metadata": {
      "needs_background": "light"
     },
     "output_type": "display_data"
    }
   ],
   "source": [
    "from sklearn import tree\n",
    "desicionTree = tree.DecisionTreeClassifier(max_depth =3, criterion='gini', random_state=44, min_samples_leaf=2)\n",
    "desicionTree.fit(X_train, y_train)\n",
    "plt.figure(figsize = (10,8))\n",
    "plot_tree(desicionTree, feature_names = predictors, filled = True)\n"
   ]
  },
  {
   "cell_type": "code",
   "execution_count": 77,
   "metadata": {},
   "outputs": [],
   "source": [
    "y_predicted_train = desicionTree.predict(X_train)\n",
    "y_predicted_test = desicionTree.predict(X_test)"
   ]
  },
  {
   "cell_type": "code",
   "execution_count": 78,
   "metadata": {},
   "outputs": [
    {
     "name": "stdout",
     "output_type": "stream",
     "text": [
      "Accuracy: 0.9797032534858777\n"
     ]
    },
    {
     "data": {
      "text/plain": [
       "0.016003131866455078"
      ]
     },
     "execution_count": 78,
     "metadata": {},
     "output_type": "execute_result"
    }
   ],
   "source": [
    "startTimeKNN = time.time()\n",
    "print(\"Accuracy:\", metrics.accuracy_score(y_predicted_train, y_train))\n",
    "\n",
    "endtimeKNN = time.time()\n",
    "eval_KNN_sec = endtimeKNN - startTimeKNN\n",
    "eval_KNN_sec"
   ]
  },
  {
   "cell_type": "code",
   "execution_count": 79,
   "metadata": {},
   "outputs": [
    {
     "name": "stdout",
     "output_type": "stream",
     "text": [
      "Precision:  0.9770008191180214\n"
     ]
    }
   ],
   "source": [
    "print(\"Precision: \", metrics.precision_score(y_test, y_predicted_test, labels=None, pos_label=1, average='weighted', \n",
    "                                        sample_weight=None,zero_division='warn'))"
   ]
  },
  {
   "cell_type": "code",
   "execution_count": 80,
   "metadata": {},
   "outputs": [
    {
     "name": "stdout",
     "output_type": "stream",
     "text": [
      "Recall: 0.8358438631006095\n"
     ]
    }
   ],
   "source": [
    "\n",
    "print (\"Recall:\", metrics.recall_score(y_test, y_predicted_test,  average='macro') )\n"
   ]
  },
  {
   "cell_type": "code",
   "execution_count": 81,
   "metadata": {},
   "outputs": [
    {
     "name": "stdout",
     "output_type": "stream",
     "text": [
      "F1 score: 0.8474951210379034\n"
     ]
    }
   ],
   "source": [
    "print (\"F1 score:\", metrics.f1_score(y_test, y_predicted_test, average='macro'))"
   ]
  },
  {
   "cell_type": "markdown",
   "metadata": {},
   "source": [
    "# 7.3. NAYVE BAYES"
   ]
  },
  {
   "cell_type": "code",
   "execution_count": null,
   "metadata": {},
   "outputs": [],
   "source": []
  },
  {
   "cell_type": "code",
   "execution_count": 82,
   "metadata": {},
   "outputs": [
    {
     "data": {
      "text/plain": [
       "GaussianNB(priors=None, var_smoothing=1e-09)"
      ]
     },
     "execution_count": 82,
     "metadata": {},
     "output_type": "execute_result"
    }
   ],
   "source": [
    "#Import Gaussian Naive Bayes model\n",
    "from sklearn.naive_bayes import GaussianNB\n",
    "\n",
    "#Create a Gaussian Classifier\n",
    "gnb = GaussianNB()\n",
    "\n",
    "#Train the model using the training sets\n",
    "gnb.fit(X_train, y_train)\n",
    "\n",
    "\n",
    "\n"
   ]
  },
  {
   "cell_type": "code",
   "execution_count": 83,
   "metadata": {},
   "outputs": [],
   "source": [
    "y_predicted_train = gnb.predict(X_train)\n",
    "y_predicted_test = gnb.predict(X_test)"
   ]
  },
  {
   "cell_type": "code",
   "execution_count": 84,
   "metadata": {},
   "outputs": [
    {
     "name": "stdout",
     "output_type": "stream",
     "text": [
      "Accuracy: 0.9771862710046478\n"
     ]
    },
    {
     "data": {
      "text/plain": [
       "0.014977455139160156"
      ]
     },
     "execution_count": 84,
     "metadata": {},
     "output_type": "execute_result"
    }
   ],
   "source": [
    "startTimeKNN = time.time()\n",
    "print(\"Accuracy:\", metrics.accuracy_score(y_predicted_train, y_train))\n",
    "\n",
    "endtimeKNN = time.time()\n",
    "eval_KNN_sec = endtimeKNN - startTimeKNN\n",
    "eval_KNN_sec"
   ]
  },
  {
   "cell_type": "code",
   "execution_count": 85,
   "metadata": {},
   "outputs": [
    {
     "name": "stdout",
     "output_type": "stream",
     "text": [
      "Precision:  0.9780587299064138\n"
     ]
    }
   ],
   "source": [
    "print(\"Precision: \", metrics.precision_score(y_test, y_predicted_test, labels=None, pos_label=1, average='weighted', \n",
    "                                        sample_weight=None,zero_division='warn'))"
   ]
  },
  {
   "cell_type": "code",
   "execution_count": 86,
   "metadata": {},
   "outputs": [
    {
     "name": "stdout",
     "output_type": "stream",
     "text": [
      "Recall: 0.8429978945773372\n"
     ]
    }
   ],
   "source": [
    "\n",
    "print (\"Recall:\", metrics.recall_score(y_test, y_predicted_test,  average='macro') )"
   ]
  },
  {
   "cell_type": "code",
   "execution_count": 87,
   "metadata": {},
   "outputs": [
    {
     "name": "stdout",
     "output_type": "stream",
     "text": [
      "F1 score: 0.8467354263828701\n"
     ]
    }
   ],
   "source": [
    "print (\"F1 score:\", metrics.f1_score(y_test, y_predicted_test, average='macro'))"
   ]
  },
  {
   "cell_type": "markdown",
   "metadata": {},
   "source": [
    "# <font color=\"blue\">8.  CONCLUSIONS</font>"
   ]
  },
  {
   "cell_type": "markdown",
   "metadata": {},
   "source": [
    "https://machinelearningmastery.com/compare-machine-learning-algorithms-python-scikit-learn/"
   ]
  },
  {
   "cell_type": "markdown",
   "metadata": {},
   "source": [
    "# Model Comparation"
   ]
  },
  {
   "cell_type": "code",
   "execution_count": null,
   "metadata": {},
   "outputs": [],
   "source": [
    "def metrics(dfMetrics, model, y_test, y_predicted_test): \n",
    "    \n",
    "    startTimeKNN = time.time()\n",
    "    \n",
    "    dfMetrics['Accuracy']['model'] = metrics.accuracy_score(y_predicted_train, y_train))\n",
    "    dfMetrics['Precision']['model'] = metrics.precision_score(y_test, y_predicted_test, labels=None, pos_label=1, \n",
    "                                                              average='weighted', sample_weight=None,zero_division='warn')\n",
    "    \n",
    "    dfMetrics['Recall']['model'] =  metrics.recall_score(y_test, y_predicted_test,  average='macro') \n",
    "    dfMetrics['F1Score']['model'] = metrics.f1_score(y_test, y_predicted_test, average='macro')\n",
    "    \n",
    "    endtimeKNN = time.time()\n",
    "    eval_KNN_sec = endtimeKNN - startTimeKNN\n",
    "    \n",
    "    \n",
    "    dfMetrics['MetricsTime']['model'] = eval_KNN_sec\n"
   ]
  },
  {
   "cell_type": "code",
   "execution_count": null,
   "metadata": {},
   "outputs": [],
   "source": [
    "# Mode iterative:\n",
    "\n",
    "import pandas as pd\n",
    "import matplotlib.pyplot as plt\n",
    "import statistics\n",
    "import numpy as np\n",
    "import scipy.stats\n",
    "import seaborn as sns\n",
    "\n",
    "from sklearn.model_selection import train_test_split\n",
    "import time\n",
    "\n",
    "from sklearn import metrics\n",
    "from sklearn.metrics import accuracy_score\n",
    "from sklearn.metrics import classification_report, confusion_matrix\n",
    "\n",
    "from sklearn import neighbors, datasets\n",
    "from sklearn import tree\n",
    "from sklearn.naive_bayes import GaussianNB\n",
    "\n",
    "# Load Data\n",
    "\n",
    "dataOriginal = pd.read_csv(\"covid.csv\")\n",
    "pd.set_option('display.max_rows', None)\n",
    "dataOriginal = dataOriginal.head(150)\n",
    "dataOriginal.head(5)\n",
    "\n",
    "\n",
    "# Define dataModel and predicteurs\n",
    "\n",
    "dataModel =  dataOriginal[dataOriginal['age']<95]\n",
    "\n",
    "datalabels = ['id', 'sex', 'patient_type', 'entry_date', 'date_symptoms',\n",
    "              'date_died','intubed','pneumonia','age','pregnancy','diabetes','copd','asthma','inmsupr','hypertension',\n",
    "              'other_disease','cardiovascular','obesity','renal_chronic','tobacco','contact_other_covid'\n",
    "              ,'covid_res','icu']\n",
    "\n",
    "# Ignored: id, entrydate, date_symptons, date_died, icu\n",
    "predictors = ['sex', 'age','pneumonia','contact_other_covid','covid_res',\n",
    "              'pregnancy','diabetes','copd','asthma','inmsupr',\n",
    "              'hypertension','other_disease','cardiovascular','obesity','renal_chronic','tobacco'\n",
    "             ]\n",
    "\n",
    "target_column= 'icu'\n",
    "\n",
    "target_column2 = 'intubed'\n",
    "\n",
    "model_columns = ['sex', 'age','pneumonia','contact_other_covid','covid_res',\n",
    "              'pregnancy','diabetes','copd','asthma','inmsupr',\n",
    "              'hypertension','other_disease','cardiovascular','obesity','renal_chronic','tobacco', target_column]\n",
    "\n",
    "\n",
    "# Split in traning and test sets\n",
    "test_size = 0.2\n",
    "X_train, X_test, y_train, y_test =train_test_split(dataModel[predictors], \n",
    "                                                   dataModel[target_column], \n",
    "                                                   test_size=test_size, random_state=44)\n",
    "\n",
    "\n",
    "# KNN Model\n",
    "startTimeKNN = time.time()\n",
    "weights = 'uniform'\n",
    "k_neighbors = 15\n",
    "model1 = neighbors.KNeighborsClassifier(weights=weights)\n",
    "model1.fit(X_train, y_train.values.ravel())\n",
    "endtimeKNN = time.time()\n",
    "\n",
    "y_predicted_testKNN = model1.predict(X_test)\n",
    "\n",
    "# Desicion Tree - Gini\n",
    "desicionTree1 = tree.DecisionTreeClassifier(max_depth =3, criterion='gini', random_state=44, min_samples_leaf=5)\n",
    "desicionTree1.fit(X_train, y_train)\n",
    "\n",
    "y_predicted_DTGini = desicionTree1.predict(X_test)\n",
    "\n",
    "# Desicion Tree - Entropy\n",
    "desicionTree2 = tree.DecisionTreeClassifier(max_depth =3, criterion='entropy', random_state=44, min_samples_leaf=5)\n",
    "desicionTree2.fit(X_train, y_train)\n",
    "\n",
    "y_predicted_DTEntropy = desicionTree2.predict(X_test)\n",
    "\n",
    "#Create a Gaussian Classifier Nayve Bayes\n",
    "gnb = GaussianNB()\n",
    "gnb.fit(X_train, y_train)\n",
    "\n",
    "y_predicted_test_GNB = gnb.predict(X_test)\n",
    "\n",
    "models = ['KNN', 'Tree_Gini', 'Tree_Entropy', 'Bayes']\n",
    "metrics_labels = ['Accuracy', 'Presicion', 'Recall', 'F1Score', 'FitTime', 'MetricsTime']\n",
    "dfConclusions = pd.DataFrame(columns=models, index=metrics_labels)\n",
    "\n",
    "metrics(dfConclusions, 'KNN', y_test, y_predicted_testKNN);\n",
    "metrics(dfConclusions, 'Tree_Gini', y_test, y_predicted_DTGini);\n",
    "metrics(dfConclusions, 'Tree_Entropy', y_test, y_predicted_DTEntropy);\n",
    "metrics(dfConclusions, 'Bayes', y_test, y_predicted_test_GNB);\n",
    "\n"
   ]
  },
  {
   "cell_type": "code",
   "execution_count": null,
   "metadata": {},
   "outputs": [],
   "source": []
  }
 ],
 "metadata": {
  "kernelspec": {
   "display_name": "Python 3",
   "language": "python",
   "name": "python3"
  },
  "language_info": {
   "codemirror_mode": {
    "name": "ipython",
    "version": 3
   },
   "file_extension": ".py",
   "mimetype": "text/x-python",
   "name": "python",
   "nbconvert_exporter": "python",
   "pygments_lexer": "ipython3",
   "version": "3.7.6"
  }
 },
 "nbformat": 4,
 "nbformat_minor": 4
}
