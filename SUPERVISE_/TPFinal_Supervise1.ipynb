{
 "cells": [
  {
   "cell_type": "markdown",
   "metadata": {},
   "source": [
    "# <font color=green>TP FINAL - ALGORITHMES D'APPRENTISSAGE SUPERVISÉ</font>\n",
    "\n",
    "- Ricardo Vallejo\n",
    "- Yulia Kalugina"
   ]
  },
  {
   "cell_type": "markdown",
   "metadata": {},
   "source": [
    "#  <font color=blue>1.  LOAD DATA</font>"
   ]
  },
  {
   "cell_type": "code",
   "execution_count": 130,
   "metadata": {},
   "outputs": [
    {
     "data": {
      "text/html": [
       "<div>\n",
       "<style scoped>\n",
       "    .dataframe tbody tr th:only-of-type {\n",
       "        vertical-align: middle;\n",
       "    }\n",
       "\n",
       "    .dataframe tbody tr th {\n",
       "        vertical-align: top;\n",
       "    }\n",
       "\n",
       "    .dataframe thead th {\n",
       "        text-align: right;\n",
       "    }\n",
       "</style>\n",
       "<table border=\"1\" class=\"dataframe\">\n",
       "  <thead>\n",
       "    <tr style=\"text-align: right;\">\n",
       "      <th></th>\n",
       "      <th>id</th>\n",
       "      <th>sex</th>\n",
       "      <th>patient_type</th>\n",
       "      <th>entry_date</th>\n",
       "      <th>date_symptoms</th>\n",
       "      <th>date_died</th>\n",
       "      <th>intubed</th>\n",
       "      <th>pneumonia</th>\n",
       "      <th>age</th>\n",
       "      <th>pregnancy</th>\n",
       "      <th>...</th>\n",
       "      <th>inmsupr</th>\n",
       "      <th>hypertension</th>\n",
       "      <th>other_disease</th>\n",
       "      <th>cardiovascular</th>\n",
       "      <th>obesity</th>\n",
       "      <th>renal_chronic</th>\n",
       "      <th>tobacco</th>\n",
       "      <th>contact_other_covid</th>\n",
       "      <th>covid_res</th>\n",
       "      <th>icu</th>\n",
       "    </tr>\n",
       "  </thead>\n",
       "  <tbody>\n",
       "    <tr>\n",
       "      <th>0</th>\n",
       "      <td>16169f</td>\n",
       "      <td>2</td>\n",
       "      <td>1</td>\n",
       "      <td>04-05-2020</td>\n",
       "      <td>02-05-2020</td>\n",
       "      <td>9999-99-99</td>\n",
       "      <td>97</td>\n",
       "      <td>2</td>\n",
       "      <td>27</td>\n",
       "      <td>97</td>\n",
       "      <td>...</td>\n",
       "      <td>2</td>\n",
       "      <td>2</td>\n",
       "      <td>2</td>\n",
       "      <td>2</td>\n",
       "      <td>2</td>\n",
       "      <td>2</td>\n",
       "      <td>2</td>\n",
       "      <td>2</td>\n",
       "      <td>1</td>\n",
       "      <td>97</td>\n",
       "    </tr>\n",
       "    <tr>\n",
       "      <th>1</th>\n",
       "      <td>1009bf</td>\n",
       "      <td>2</td>\n",
       "      <td>1</td>\n",
       "      <td>19-03-2020</td>\n",
       "      <td>17-03-2020</td>\n",
       "      <td>9999-99-99</td>\n",
       "      <td>97</td>\n",
       "      <td>2</td>\n",
       "      <td>24</td>\n",
       "      <td>97</td>\n",
       "      <td>...</td>\n",
       "      <td>2</td>\n",
       "      <td>2</td>\n",
       "      <td>2</td>\n",
       "      <td>2</td>\n",
       "      <td>2</td>\n",
       "      <td>2</td>\n",
       "      <td>2</td>\n",
       "      <td>99</td>\n",
       "      <td>1</td>\n",
       "      <td>97</td>\n",
       "    </tr>\n",
       "    <tr>\n",
       "      <th>2</th>\n",
       "      <td>167386</td>\n",
       "      <td>1</td>\n",
       "      <td>2</td>\n",
       "      <td>06-04-2020</td>\n",
       "      <td>01-04-2020</td>\n",
       "      <td>9999-99-99</td>\n",
       "      <td>2</td>\n",
       "      <td>2</td>\n",
       "      <td>54</td>\n",
       "      <td>2</td>\n",
       "      <td>...</td>\n",
       "      <td>2</td>\n",
       "      <td>2</td>\n",
       "      <td>2</td>\n",
       "      <td>2</td>\n",
       "      <td>1</td>\n",
       "      <td>2</td>\n",
       "      <td>2</td>\n",
       "      <td>99</td>\n",
       "      <td>1</td>\n",
       "      <td>2</td>\n",
       "    </tr>\n",
       "    <tr>\n",
       "      <th>3</th>\n",
       "      <td>0b5948</td>\n",
       "      <td>2</td>\n",
       "      <td>2</td>\n",
       "      <td>17-04-2020</td>\n",
       "      <td>10-04-2020</td>\n",
       "      <td>9999-99-99</td>\n",
       "      <td>2</td>\n",
       "      <td>1</td>\n",
       "      <td>30</td>\n",
       "      <td>97</td>\n",
       "      <td>...</td>\n",
       "      <td>2</td>\n",
       "      <td>2</td>\n",
       "      <td>2</td>\n",
       "      <td>2</td>\n",
       "      <td>2</td>\n",
       "      <td>2</td>\n",
       "      <td>2</td>\n",
       "      <td>99</td>\n",
       "      <td>1</td>\n",
       "      <td>2</td>\n",
       "    </tr>\n",
       "    <tr>\n",
       "      <th>4</th>\n",
       "      <td>0d01b5</td>\n",
       "      <td>1</td>\n",
       "      <td>2</td>\n",
       "      <td>13-04-2020</td>\n",
       "      <td>13-04-2020</td>\n",
       "      <td>22-04-2020</td>\n",
       "      <td>2</td>\n",
       "      <td>2</td>\n",
       "      <td>60</td>\n",
       "      <td>2</td>\n",
       "      <td>...</td>\n",
       "      <td>2</td>\n",
       "      <td>1</td>\n",
       "      <td>2</td>\n",
       "      <td>1</td>\n",
       "      <td>2</td>\n",
       "      <td>2</td>\n",
       "      <td>2</td>\n",
       "      <td>99</td>\n",
       "      <td>1</td>\n",
       "      <td>2</td>\n",
       "    </tr>\n",
       "  </tbody>\n",
       "</table>\n",
       "<p>5 rows × 23 columns</p>\n",
       "</div>"
      ],
      "text/plain": [
       "       id  sex  patient_type  entry_date date_symptoms   date_died  intubed  \\\n",
       "0  16169f    2             1  04-05-2020    02-05-2020  9999-99-99       97   \n",
       "1  1009bf    2             1  19-03-2020    17-03-2020  9999-99-99       97   \n",
       "2  167386    1             2  06-04-2020    01-04-2020  9999-99-99        2   \n",
       "3  0b5948    2             2  17-04-2020    10-04-2020  9999-99-99        2   \n",
       "4  0d01b5    1             2  13-04-2020    13-04-2020  22-04-2020        2   \n",
       "\n",
       "   pneumonia  age  pregnancy  ...  inmsupr  hypertension  other_disease  \\\n",
       "0          2   27         97  ...        2             2              2   \n",
       "1          2   24         97  ...        2             2              2   \n",
       "2          2   54          2  ...        2             2              2   \n",
       "3          1   30         97  ...        2             2              2   \n",
       "4          2   60          2  ...        2             1              2   \n",
       "\n",
       "   cardiovascular  obesity  renal_chronic  tobacco  contact_other_covid  \\\n",
       "0               2        2              2        2                    2   \n",
       "1               2        2              2        2                   99   \n",
       "2               2        1              2        2                   99   \n",
       "3               2        2              2        2                   99   \n",
       "4               1        2              2        2                   99   \n",
       "\n",
       "   covid_res  icu  \n",
       "0          1   97  \n",
       "1          1   97  \n",
       "2          1    2  \n",
       "3          1    2  \n",
       "4          1    2  \n",
       "\n",
       "[5 rows x 23 columns]"
      ]
     },
     "execution_count": 130,
     "metadata": {},
     "output_type": "execute_result"
    }
   ],
   "source": [
    "import pandas as pd\n",
    "import matplotlib.pyplot as plt\n",
    "import statistics\n",
    "import numpy as np\n",
    "import scipy.stats\n",
    "import seaborn as sns\n",
    "\n",
    "dataOriginal = pd.read_csv(\"covid.csv\")\n",
    "pd.set_option('display.max_rows', None)\n",
    "dataOriginal = dataOriginal\n",
    "dataOriginal.head(5)"
   ]
  },
  {
   "cell_type": "markdown",
   "metadata": {},
   "source": [
    "## 1.1. LOAD METADA"
   ]
  },
  {
   "cell_type": "code",
   "execution_count": 131,
   "metadata": {},
   "outputs": [
    {
     "data": {
      "text/html": [
       "<div>\n",
       "<style scoped>\n",
       "    .dataframe tbody tr th:only-of-type {\n",
       "        vertical-align: middle;\n",
       "    }\n",
       "\n",
       "    .dataframe tbody tr th {\n",
       "        vertical-align: top;\n",
       "    }\n",
       "\n",
       "    .dataframe thead th {\n",
       "        text-align: right;\n",
       "    }\n",
       "</style>\n",
       "<table border=\"1\" class=\"dataframe\">\n",
       "  <thead>\n",
       "    <tr style=\"text-align: right;\">\n",
       "      <th></th>\n",
       "      <th>CLAVE</th>\n",
       "      <th>DESCRIPCIÓN</th>\n",
       "    </tr>\n",
       "  </thead>\n",
       "  <tbody>\n",
       "    <tr>\n",
       "      <th>0</th>\n",
       "      <td>1</td>\n",
       "      <td>YES</td>\n",
       "    </tr>\n",
       "    <tr>\n",
       "      <th>1</th>\n",
       "      <td>2</td>\n",
       "      <td>NO</td>\n",
       "    </tr>\n",
       "    <tr>\n",
       "      <th>2</th>\n",
       "      <td>97</td>\n",
       "      <td>NaN</td>\n",
       "    </tr>\n",
       "    <tr>\n",
       "      <th>3</th>\n",
       "      <td>98</td>\n",
       "      <td>IGNORE</td>\n",
       "    </tr>\n",
       "    <tr>\n",
       "      <th>4</th>\n",
       "      <td>99</td>\n",
       "      <td>NOT SPECIFIED</td>\n",
       "    </tr>\n",
       "  </tbody>\n",
       "</table>\n",
       "</div>"
      ],
      "text/plain": [
       "   CLAVE    DESCRIPCIÓN\n",
       "0      1            YES\n",
       "1      2            NO \n",
       "2     97            NaN\n",
       "3     98         IGNORE\n",
       "4     99  NOT SPECIFIED"
      ]
     },
     "execution_count": 131,
     "metadata": {},
     "output_type": "execute_result"
    }
   ],
   "source": [
    "cat_si_no = pd.read_excel(\"Catalogs.xlsx\", 'Catálogo SI_NO')\n",
    "pd.set_option('display.max_rows', None)\n",
    "cat_si_no.head(5)"
   ]
  },
  {
   "cell_type": "code",
   "execution_count": 132,
   "metadata": {},
   "outputs": [
    {
     "data": {
      "text/html": [
       "<div>\n",
       "<style scoped>\n",
       "    .dataframe tbody tr th:only-of-type {\n",
       "        vertical-align: middle;\n",
       "    }\n",
       "\n",
       "    .dataframe tbody tr th {\n",
       "        vertical-align: top;\n",
       "    }\n",
       "\n",
       "    .dataframe thead th {\n",
       "        text-align: right;\n",
       "    }\n",
       "</style>\n",
       "<table border=\"1\" class=\"dataframe\">\n",
       "  <thead>\n",
       "    <tr style=\"text-align: right;\">\n",
       "      <th></th>\n",
       "      <th>CLAVE</th>\n",
       "      <th>DESCRIPCIÓN</th>\n",
       "    </tr>\n",
       "  </thead>\n",
       "  <tbody>\n",
       "    <tr>\n",
       "      <th>0</th>\n",
       "      <td>1</td>\n",
       "      <td>AMBULATORIO</td>\n",
       "    </tr>\n",
       "    <tr>\n",
       "      <th>1</th>\n",
       "      <td>2</td>\n",
       "      <td>HOSPITALIZADO</td>\n",
       "    </tr>\n",
       "    <tr>\n",
       "      <th>2</th>\n",
       "      <td>99</td>\n",
       "      <td>NO ESPECIFICADO</td>\n",
       "    </tr>\n",
       "  </tbody>\n",
       "</table>\n",
       "</div>"
      ],
      "text/plain": [
       "   CLAVE      DESCRIPCIÓN\n",
       "0      1      AMBULATORIO\n",
       "1      2    HOSPITALIZADO\n",
       "2     99  NO ESPECIFICADO"
      ]
     },
     "execution_count": 132,
     "metadata": {},
     "output_type": "execute_result"
    }
   ],
   "source": [
    "cat_pacient_type = pd.read_excel(\"Catalogs.xlsx\", 'Catálogo TIPO_PACIENTE')\n",
    "pd.set_option('display.max_rows', None)\n",
    "cat_pacient_type.head(5)"
   ]
  },
  {
   "cell_type": "code",
   "execution_count": 133,
   "metadata": {},
   "outputs": [
    {
     "data": {
      "text/html": [
       "<div>\n",
       "<style scoped>\n",
       "    .dataframe tbody tr th:only-of-type {\n",
       "        vertical-align: middle;\n",
       "    }\n",
       "\n",
       "    .dataframe tbody tr th {\n",
       "        vertical-align: top;\n",
       "    }\n",
       "\n",
       "    .dataframe thead th {\n",
       "        text-align: right;\n",
       "    }\n",
       "</style>\n",
       "<table border=\"1\" class=\"dataframe\">\n",
       "  <thead>\n",
       "    <tr style=\"text-align: right;\">\n",
       "      <th></th>\n",
       "      <th>CLAVE</th>\n",
       "      <th>DESCRIPCIÓN</th>\n",
       "    </tr>\n",
       "  </thead>\n",
       "  <tbody>\n",
       "    <tr>\n",
       "      <th>0</th>\n",
       "      <td>1</td>\n",
       "      <td>WOMAN</td>\n",
       "    </tr>\n",
       "    <tr>\n",
       "      <th>1</th>\n",
       "      <td>2</td>\n",
       "      <td>MAN</td>\n",
       "    </tr>\n",
       "    <tr>\n",
       "      <th>2</th>\n",
       "      <td>99</td>\n",
       "      <td>NaN</td>\n",
       "    </tr>\n",
       "  </tbody>\n",
       "</table>\n",
       "</div>"
      ],
      "text/plain": [
       "   CLAVE DESCRIPCIÓN\n",
       "0      1       WOMAN\n",
       "1      2         MAN\n",
       "2     99         NaN"
      ]
     },
     "execution_count": 133,
     "metadata": {},
     "output_type": "execute_result"
    }
   ],
   "source": [
    "cat_sex = pd.read_excel(\"Catalogs.xlsx\", 'Catálogo SEXO')\n",
    "pd.set_option('display.max_rows', None)\n",
    "cat_sex.head(5)"
   ]
  },
  {
   "cell_type": "code",
   "execution_count": 134,
   "metadata": {},
   "outputs": [
    {
     "data": {
      "text/html": [
       "<div>\n",
       "<style scoped>\n",
       "    .dataframe tbody tr th:only-of-type {\n",
       "        vertical-align: middle;\n",
       "    }\n",
       "\n",
       "    .dataframe tbody tr th {\n",
       "        vertical-align: top;\n",
       "    }\n",
       "\n",
       "    .dataframe thead th {\n",
       "        text-align: right;\n",
       "    }\n",
       "</style>\n",
       "<table border=\"1\" class=\"dataframe\">\n",
       "  <thead>\n",
       "    <tr style=\"text-align: right;\">\n",
       "      <th></th>\n",
       "      <th>CLAVE</th>\n",
       "      <th>DESCRIPCIÓN</th>\n",
       "    </tr>\n",
       "  </thead>\n",
       "  <tbody>\n",
       "    <tr>\n",
       "      <th>0</th>\n",
       "      <td>1</td>\n",
       "      <td>WOMAN</td>\n",
       "    </tr>\n",
       "    <tr>\n",
       "      <th>1</th>\n",
       "      <td>2</td>\n",
       "      <td>MAN</td>\n",
       "    </tr>\n",
       "    <tr>\n",
       "      <th>2</th>\n",
       "      <td>99</td>\n",
       "      <td>NaN</td>\n",
       "    </tr>\n",
       "  </tbody>\n",
       "</table>\n",
       "</div>"
      ],
      "text/plain": [
       "   CLAVE DESCRIPCIÓN\n",
       "0      1       WOMAN\n",
       "1      2         MAN\n",
       "2     99         NaN"
      ]
     },
     "execution_count": 134,
     "metadata": {},
     "output_type": "execute_result"
    }
   ],
   "source": [
    "cat_result = pd.read_excel(\"Catalogs.xlsx\", 'Catálogo RESULTADO')\n",
    "pd.set_option('display.max_rows', None)\n",
    "cat_sex.head(5)"
   ]
  },
  {
   "cell_type": "markdown",
   "metadata": {},
   "source": [
    "<div style=\"page-break-after: always;\"></div>"
   ]
  },
  {
   "cell_type": "markdown",
   "metadata": {},
   "source": [
    "## <font color=blue>2. IDENTIFYING MODEL VARIABLES </font>\n"
   ]
  },
  {
   "cell_type": "raw",
   "metadata": {},
   "source": [
    "We are going to predict if the pacient needs ICU"
   ]
  },
  {
   "cell_type": "code",
   "execution_count": 135,
   "metadata": {},
   "outputs": [
    {
     "data": {
      "text/html": [
       "<div>\n",
       "<style scoped>\n",
       "    .dataframe tbody tr th:only-of-type {\n",
       "        vertical-align: middle;\n",
       "    }\n",
       "\n",
       "    .dataframe tbody tr th {\n",
       "        vertical-align: top;\n",
       "    }\n",
       "\n",
       "    .dataframe thead th {\n",
       "        text-align: right;\n",
       "    }\n",
       "</style>\n",
       "<table border=\"1\" class=\"dataframe\">\n",
       "  <thead>\n",
       "    <tr style=\"text-align: right;\">\n",
       "      <th></th>\n",
       "      <th>Variable Name</th>\n",
       "      <th>DB Type</th>\n",
       "      <th>Model Type</th>\n",
       "      <th>CATALOG</th>\n",
       "    </tr>\n",
       "  </thead>\n",
       "  <tbody>\n",
       "    <tr>\n",
       "      <th>0</th>\n",
       "      <td>id</td>\n",
       "      <td>String</td>\n",
       "      <td>Non informative</td>\n",
       "      <td>N.A</td>\n",
       "    </tr>\n",
       "    <tr>\n",
       "      <th>1</th>\n",
       "      <td>sex</td>\n",
       "      <td>int</td>\n",
       "      <td>Categorical, Numerical, Non-ordinal, Nominal</td>\n",
       "      <td>Catálogo SEXO</td>\n",
       "    </tr>\n",
       "    <tr>\n",
       "      <th>2</th>\n",
       "      <td>patient_type</td>\n",
       "      <td>String / Date</td>\n",
       "      <td>Categorical, Numerical, Non-ordinal, Nominal</td>\n",
       "      <td>Catálogo TIPO_PACIENTE</td>\n",
       "    </tr>\n",
       "    <tr>\n",
       "      <th>3</th>\n",
       "      <td>entry_date</td>\n",
       "      <td>String / Date</td>\n",
       "      <td>Date</td>\n",
       "      <td>N.A</td>\n",
       "    </tr>\n",
       "    <tr>\n",
       "      <th>4</th>\n",
       "      <td>date_symptoms</td>\n",
       "      <td>String / Date</td>\n",
       "      <td>Date</td>\n",
       "      <td>N.A</td>\n",
       "    </tr>\n",
       "    <tr>\n",
       "      <th>5</th>\n",
       "      <td>date_died</td>\n",
       "      <td>String / Date</td>\n",
       "      <td>Date</td>\n",
       "      <td>N.A</td>\n",
       "    </tr>\n",
       "    <tr>\n",
       "      <th>6</th>\n",
       "      <td>intubed</td>\n",
       "      <td>int</td>\n",
       "      <td>Categorical, Numerical, Non-ordinal, Nominal</td>\n",
       "      <td>Catálogo SI_NO</td>\n",
       "    </tr>\n",
       "    <tr>\n",
       "      <th>7</th>\n",
       "      <td>pneumonia</td>\n",
       "      <td>int</td>\n",
       "      <td>Categorical, Numerical, Non-ordinal, Nominal</td>\n",
       "      <td>Catálogo SI_NO</td>\n",
       "    </tr>\n",
       "    <tr>\n",
       "      <th>8</th>\n",
       "      <td>age</td>\n",
       "      <td>int</td>\n",
       "      <td>Quantitative, Numerical, Non-ordinal, Nominal</td>\n",
       "      <td>N.A</td>\n",
       "    </tr>\n",
       "    <tr>\n",
       "      <th>9</th>\n",
       "      <td>pregnancy</td>\n",
       "      <td>int</td>\n",
       "      <td>Categorical, Numerical, Non-ordinal, Nominal</td>\n",
       "      <td>Catálogo SI_NO</td>\n",
       "    </tr>\n",
       "    <tr>\n",
       "      <th>10</th>\n",
       "      <td>diabetes</td>\n",
       "      <td>int</td>\n",
       "      <td>Categorical, Numerical, Non-ordinal, Nominal</td>\n",
       "      <td>Catálogo SI_NO</td>\n",
       "    </tr>\n",
       "    <tr>\n",
       "      <th>11</th>\n",
       "      <td>copd</td>\n",
       "      <td>int</td>\n",
       "      <td>Categorical, Numerical, Non-ordinal, Nominal</td>\n",
       "      <td>Catálogo SI_NO</td>\n",
       "    </tr>\n",
       "    <tr>\n",
       "      <th>12</th>\n",
       "      <td>asthma</td>\n",
       "      <td>int</td>\n",
       "      <td>Categorical, Numerical, Non-ordinal, Nominal</td>\n",
       "      <td>Catálogo SI_NO</td>\n",
       "    </tr>\n",
       "    <tr>\n",
       "      <th>13</th>\n",
       "      <td>inmsupr</td>\n",
       "      <td>int</td>\n",
       "      <td>Categorical, Numerical, Non-ordinal, Nominal</td>\n",
       "      <td>Catálogo SI_NO</td>\n",
       "    </tr>\n",
       "    <tr>\n",
       "      <th>14</th>\n",
       "      <td>hypertension</td>\n",
       "      <td>int</td>\n",
       "      <td>Categorical, Numerical, Non-ordinal, Nominal</td>\n",
       "      <td>Catálogo SI_NO</td>\n",
       "    </tr>\n",
       "    <tr>\n",
       "      <th>15</th>\n",
       "      <td>other_disease</td>\n",
       "      <td>int</td>\n",
       "      <td>Categorical, Numerical, Non-ordinal, Nominal</td>\n",
       "      <td>Catálogo SI_NO</td>\n",
       "    </tr>\n",
       "    <tr>\n",
       "      <th>16</th>\n",
       "      <td>cardiovascular</td>\n",
       "      <td>int</td>\n",
       "      <td>Categorical, Numerical, Non-ordinal, Nominal</td>\n",
       "      <td>Catálogo SI_NO</td>\n",
       "    </tr>\n",
       "    <tr>\n",
       "      <th>17</th>\n",
       "      <td>obesity</td>\n",
       "      <td>int</td>\n",
       "      <td>Categorical, Numerical, Non-ordinal, Nominal</td>\n",
       "      <td>Catálogo SI_NO</td>\n",
       "    </tr>\n",
       "    <tr>\n",
       "      <th>18</th>\n",
       "      <td>renal_chronic</td>\n",
       "      <td>int</td>\n",
       "      <td>Categorical, Numerical, Non-ordinal, Nominal</td>\n",
       "      <td>Catálogo SI_NO</td>\n",
       "    </tr>\n",
       "    <tr>\n",
       "      <th>19</th>\n",
       "      <td>tobacco</td>\n",
       "      <td>int</td>\n",
       "      <td>Categorical, Numerical, Non-ordinal, Nominal</td>\n",
       "      <td>Catálogo SI_NO</td>\n",
       "    </tr>\n",
       "    <tr>\n",
       "      <th>20</th>\n",
       "      <td>contact_other_covid</td>\n",
       "      <td>int</td>\n",
       "      <td>Categorical, Numerical, Non-ordinal, Nominal</td>\n",
       "      <td>Catálogo SI_NO</td>\n",
       "    </tr>\n",
       "    <tr>\n",
       "      <th>21</th>\n",
       "      <td>covid_res</td>\n",
       "      <td>int</td>\n",
       "      <td>Categorical, Numerical, Non-ordinal, Nominal</td>\n",
       "      <td>Catálogo RESULTADO</td>\n",
       "    </tr>\n",
       "    <tr>\n",
       "      <th>22</th>\n",
       "      <td>icu</td>\n",
       "      <td>int</td>\n",
       "      <td>Categorical, Numerical, Non-ordinal, Nominal</td>\n",
       "      <td>Catálogo SI_NO</td>\n",
       "    </tr>\n",
       "  </tbody>\n",
       "</table>\n",
       "</div>"
      ],
      "text/plain": [
       "          Variable Name        DB Type  \\\n",
       "0                    id         String   \n",
       "1                   sex            int   \n",
       "2          patient_type  String / Date   \n",
       "3            entry_date  String / Date   \n",
       "4         date_symptoms  String / Date   \n",
       "5             date_died  String / Date   \n",
       "6               intubed            int   \n",
       "7             pneumonia            int   \n",
       "8                   age            int   \n",
       "9             pregnancy            int   \n",
       "10             diabetes            int   \n",
       "11                 copd            int   \n",
       "12               asthma            int   \n",
       "13              inmsupr            int   \n",
       "14         hypertension            int   \n",
       "15        other_disease            int   \n",
       "16       cardiovascular            int   \n",
       "17              obesity            int   \n",
       "18        renal_chronic            int   \n",
       "19              tobacco            int   \n",
       "20  contact_other_covid            int   \n",
       "21            covid_res            int   \n",
       "22                  icu            int   \n",
       "\n",
       "                                       Model Type                 CATALOG  \n",
       "0                                 Non informative                     N.A  \n",
       "1    Categorical, Numerical, Non-ordinal, Nominal           Catálogo SEXO  \n",
       "2    Categorical, Numerical, Non-ordinal, Nominal  Catálogo TIPO_PACIENTE  \n",
       "3                                            Date                     N.A  \n",
       "4                                            Date                     N.A  \n",
       "5                                            Date                     N.A  \n",
       "6    Categorical, Numerical, Non-ordinal, Nominal          Catálogo SI_NO  \n",
       "7    Categorical, Numerical, Non-ordinal, Nominal          Catálogo SI_NO  \n",
       "8   Quantitative, Numerical, Non-ordinal, Nominal                     N.A  \n",
       "9    Categorical, Numerical, Non-ordinal, Nominal          Catálogo SI_NO  \n",
       "10   Categorical, Numerical, Non-ordinal, Nominal          Catálogo SI_NO  \n",
       "11   Categorical, Numerical, Non-ordinal, Nominal          Catálogo SI_NO  \n",
       "12   Categorical, Numerical, Non-ordinal, Nominal          Catálogo SI_NO  \n",
       "13   Categorical, Numerical, Non-ordinal, Nominal          Catálogo SI_NO  \n",
       "14   Categorical, Numerical, Non-ordinal, Nominal          Catálogo SI_NO  \n",
       "15   Categorical, Numerical, Non-ordinal, Nominal          Catálogo SI_NO  \n",
       "16   Categorical, Numerical, Non-ordinal, Nominal          Catálogo SI_NO  \n",
       "17   Categorical, Numerical, Non-ordinal, Nominal          Catálogo SI_NO  \n",
       "18   Categorical, Numerical, Non-ordinal, Nominal          Catálogo SI_NO  \n",
       "19   Categorical, Numerical, Non-ordinal, Nominal          Catálogo SI_NO  \n",
       "20   Categorical, Numerical, Non-ordinal, Nominal          Catálogo SI_NO  \n",
       "21   Categorical, Numerical, Non-ordinal, Nominal      Catálogo RESULTADO  \n",
       "22   Categorical, Numerical, Non-ordinal, Nominal          Catálogo SI_NO  "
      ]
     },
     "execution_count": 135,
     "metadata": {},
     "output_type": "execute_result"
    }
   ],
   "source": [
    "dataInfo = pd.read_excel(\"covidInfo.xlsx\", \"DataTypes\")\n",
    "pd.set_option('display.max_rows', None)\n",
    "dataInfo"
   ]
  },
  {
   "cell_type": "code",
   "execution_count": 137,
   "metadata": {},
   "outputs": [],
   "source": [
    "# All labels\n",
    "datalabels = ['id', 'sex', 'patient_type', 'entry_date', 'date_symptoms',\n",
    "              'date_died','intubed','pneumonia','age','pregnancy','diabetes','copd','asthma','inmsupr','hypertension',\n",
    "              'other_disease','cardiovascular','obesity','renal_chronic','tobacco','contact_other_covid'\n",
    "              ,'covid_res','icu']\n",
    "\n",
    "# Ignored: id, entrydate, date_symptons, date_died, icu\n",
    "predictors = ['sex', 'patient_type',\n",
    "              'intubed','pneumonia','age','pregnancy','diabetes','copd','asthma','inmsupr','hypertension',\n",
    "              'other_disease','cardiovascular','obesity','renal_chronic','tobacco',\n",
    "              'contact_other_covid','covid_res']\n",
    "\n",
    "target_column= 'icu'\n",
    "\n",
    "model_columns = ['sex', 'patient_type',\n",
    "              'intubed','pneumonia','age','pregnancy','diabetes','copd','asthma','inmsupr','hypertension',\n",
    "              'other_disease','cardiovascular','obesity','renal_chronic','tobacco',\n",
    "              'contact_other_covid','covid_res', target_column]\n",
    "\n",
    "prefered_columns = ['sex','cardiovascular','obesity','tobacco','contact_other_covid','covid_res', target_column]"
   ]
  },
  {
   "cell_type": "markdown",
   "metadata": {},
   "source": [
    "<div style=\"page-break-after: always;\"></div>"
   ]
  },
  {
   "cell_type": "markdown",
   "metadata": {},
   "source": [
    "#  <font color=blue>3. DATA EXPLORATION</font>"
   ]
  },
  {
   "cell_type": "markdown",
   "metadata": {},
   "source": [
    "# 3.1.  Inspecting for types and Null values detection"
   ]
  },
  {
   "cell_type": "code",
   "execution_count": 138,
   "metadata": {},
   "outputs": [
    {
     "name": "stdout",
     "output_type": "stream",
     "text": [
      "<class 'pandas.core.frame.DataFrame'>\n",
      "RangeIndex: 566602 entries, 0 to 566601\n",
      "Data columns (total 23 columns):\n",
      " #   Column               Non-Null Count   Dtype \n",
      "---  ------               --------------   ----- \n",
      " 0   id                   566602 non-null  object\n",
      " 1   sex                  566602 non-null  int64 \n",
      " 2   patient_type         566602 non-null  int64 \n",
      " 3   entry_date           566602 non-null  object\n",
      " 4   date_symptoms        566602 non-null  object\n",
      " 5   date_died            566602 non-null  object\n",
      " 6   intubed              566602 non-null  int64 \n",
      " 7   pneumonia            566602 non-null  int64 \n",
      " 8   age                  566602 non-null  int64 \n",
      " 9   pregnancy            566602 non-null  int64 \n",
      " 10  diabetes             566602 non-null  int64 \n",
      " 11  copd                 566602 non-null  int64 \n",
      " 12  asthma               566602 non-null  int64 \n",
      " 13  inmsupr              566602 non-null  int64 \n",
      " 14  hypertension         566602 non-null  int64 \n",
      " 15  other_disease        566602 non-null  int64 \n",
      " 16  cardiovascular       566602 non-null  int64 \n",
      " 17  obesity              566602 non-null  int64 \n",
      " 18  renal_chronic        566602 non-null  int64 \n",
      " 19  tobacco              566602 non-null  int64 \n",
      " 20  contact_other_covid  566602 non-null  int64 \n",
      " 21  covid_res            566602 non-null  int64 \n",
      " 22  icu                  566602 non-null  int64 \n",
      "dtypes: int64(19), object(4)\n",
      "memory usage: 99.4+ MB\n"
     ]
    }
   ],
   "source": [
    "dataOriginal.info()"
   ]
  },
  {
   "cell_type": "code",
   "execution_count": 139,
   "metadata": {},
   "outputs": [
    {
     "data": {
      "text/plain": [
       "0"
      ]
     },
     "execution_count": 139,
     "metadata": {},
     "output_type": "execute_result"
    }
   ],
   "source": [
    "dataOriginal.isnull().values.sum()"
   ]
  },
  {
   "cell_type": "markdown",
   "metadata": {},
   "source": [
    "# 3.1.1.  Searching odd information in numerical descriptor - AGE"
   ]
  },
  {
   "cell_type": "code",
   "execution_count": 140,
   "metadata": {},
   "outputs": [
    {
     "data": {
      "image/png": "[encoded data removed]",
      "text/plain": [
       "<Figure size 576x288 with 1 Axes>"
      ]
     },
     "metadata": {
      "needs_background": "light"
     },
     "output_type": "display_data"
    }
   ],
   "source": [
    "#Diagram de moustache\n",
    "\n",
    "dataOriginal.boxplot(column='age', figsize=(8,4), vert=False)\n",
    "plt.ylabel(\"Valeurs\")\n",
    "plt.title(\"Variable Age.\" )\n",
    "plt.grid()\n",
    "plt.show()"
   ]
  },
  {
   "cell_type": "markdown",
   "metadata": {},
   "source": [
    "<font color='blue'>We filter data with ages with outliers?</font>"
   ]
  },
  {
   "cell_type": "code",
   "execution_count": 141,
   "metadata": {},
   "outputs": [],
   "source": [
    "dataModel =  dataOriginal[dataOriginal['age']<95]\n"
   ]
  },
  {
   "cell_type": "code",
   "execution_count": 142,
   "metadata": {},
   "outputs": [
    {
     "data": {
      "text/plain": [
       "-618"
      ]
     },
     "execution_count": 142,
     "metadata": {},
     "output_type": "execute_result"
    }
   ],
   "source": [
    "dataModel.shape[0] - dataOriginal.shape[0]"
   ]
  },
  {
   "cell_type": "markdown",
   "metadata": {},
   "source": [
    "<div style=\"page-break-after: always;\"></div>"
   ]
  },
  {
   "cell_type": "markdown",
   "metadata": {},
   "source": [
    "# 3.2. Inspecting quantitative variables - Age"
   ]
  },
  {
   "cell_type": "code",
   "execution_count": 145,
   "metadata": {},
   "outputs": [
    {
     "data": {
      "image/png": "[encoded data removed]",
      "text/plain": [
       "<Figure size 720x360 with 1 Axes>"
      ]
     },
     "metadata": {
      "needs_background": "light"
     },
     "output_type": "display_data"
    }
   ],
   "source": [
    "import seaborn as sns\n",
    "\n",
    "mean=dataModel['age'].mean();\n",
    "median=dataModel['age'].median();\n",
    "mode=dataModel['age'].mode();\n",
    "fig, ax = plt.subplots(figsize=(10,5));\n",
    "\n",
    "sns.distplot(dataModel['age'], bins=30);\n",
    "plt.title('Distribution Age');\n",
    "plt.axvline(mean,color='green',label='Mean'); \n",
    "plt.axvline(median,color='blue',label='Median');\n",
    "plt.axvline(mode[0],color='red',label='Mode')\n",
    "\n",
    "plt.legend();"
   ]
  },
  {
   "cell_type": "code",
   "execution_count": 146,
   "metadata": {},
   "outputs": [
    {
     "data": {
      "text/plain": [
       "42.561939913495785"
      ]
     },
     "execution_count": 146,
     "metadata": {},
     "output_type": "execute_result"
    }
   ],
   "source": [
    "mean"
   ]
  },
  {
   "cell_type": "code",
   "execution_count": 147,
   "metadata": {},
   "outputs": [
    {
     "data": {
      "text/plain": [
       "0    30\n",
       "dtype: int64"
      ]
     },
     "execution_count": 147,
     "metadata": {},
     "output_type": "execute_result"
    }
   ],
   "source": [
    "mode"
   ]
  },
  {
   "cell_type": "markdown",
   "metadata": {},
   "source": [
    "# 3.3. Inspecting categorical variables "
   ]
  },
  {
   "cell_type": "code",
   "execution_count": 148,
   "metadata": {},
   "outputs": [
    {
     "data": {
      "image/png": "[encoded data removed]",
      "text/plain": [
       "<Figure size 720x864 with 9 Axes>"
      ]
     },
     "metadata": {
      "needs_background": "light"
     },
     "output_type": "display_data"
    }
   ],
   "source": [
    "import matplotlib.pyplot as plt\n",
    "\n",
    "\n",
    "fig, ax =plt.subplots(3,3)\n",
    " \n",
    "fig.set_size_inches(10, 12, forward=True)\n",
    "plt.title(\"Overview Chart to main maladies\")\n",
    "\n",
    "sns.countplot(x='pneumonia', data=dataModel, ax=ax[0,0])\n",
    "sns.countplot(x='asthma', data=dataModel, ax=ax[0,1])\n",
    "sns.countplot(x='tobacco', data=dataModel, ax=ax[0,2])\n",
    "\n",
    "sns.countplot(x='cardiovascular', data=dataModel, ax=ax[1,0])\n",
    "sns.countplot(x='hypertension', data=dataModel, ax=ax[1,1])\n",
    "sns.countplot(x='obesity', data=dataModel, ax=ax[1,2])\n",
    "\n",
    "sns.countplot(x='contact_other_covid', data=dataModel, ax=ax[2,0])\n",
    "sns.countplot(x='covid_res', data=dataModel, ax=ax[2,1])\n",
    "sns.countplot(x='intubed', data=dataModel, ax=ax[2,2])\n",
    "\n",
    "\n",
    "#fig.legend() use handles\n",
    "fig.tight_layout()\n"
   ]
  },
  {
   "cell_type": "code",
   "execution_count": 149,
   "metadata": {},
   "outputs": [
    {
     "data": {
      "text/html": [
       "<div>\n",
       "<style scoped>\n",
       "    .dataframe tbody tr th:only-of-type {\n",
       "        vertical-align: middle;\n",
       "    }\n",
       "\n",
       "    .dataframe tbody tr th {\n",
       "        vertical-align: top;\n",
       "    }\n",
       "\n",
       "    .dataframe thead th {\n",
       "        text-align: right;\n",
       "    }\n",
       "</style>\n",
       "<table border=\"1\" class=\"dataframe\">\n",
       "  <thead>\n",
       "    <tr style=\"text-align: right;\">\n",
       "      <th></th>\n",
       "      <th>CLAVE</th>\n",
       "      <th>DESCRIPCIÓN</th>\n",
       "    </tr>\n",
       "  </thead>\n",
       "  <tbody>\n",
       "    <tr>\n",
       "      <th>0</th>\n",
       "      <td>1</td>\n",
       "      <td>YES</td>\n",
       "    </tr>\n",
       "    <tr>\n",
       "      <th>1</th>\n",
       "      <td>2</td>\n",
       "      <td>NO</td>\n",
       "    </tr>\n",
       "    <tr>\n",
       "      <th>2</th>\n",
       "      <td>97</td>\n",
       "      <td>NaN</td>\n",
       "    </tr>\n",
       "    <tr>\n",
       "      <th>3</th>\n",
       "      <td>98</td>\n",
       "      <td>IGNORE</td>\n",
       "    </tr>\n",
       "    <tr>\n",
       "      <th>4</th>\n",
       "      <td>99</td>\n",
       "      <td>NOT SPECIFIED</td>\n",
       "    </tr>\n",
       "  </tbody>\n",
       "</table>\n",
       "</div>"
      ],
      "text/plain": [
       "   CLAVE    DESCRIPCIÓN\n",
       "0      1            YES\n",
       "1      2            NO \n",
       "2     97            NaN\n",
       "3     98         IGNORE\n",
       "4     99  NOT SPECIFIED"
      ]
     },
     "execution_count": 149,
     "metadata": {},
     "output_type": "execute_result"
    }
   ],
   "source": [
    "cat_si_no"
   ]
  },
  {
   "cell_type": "markdown",
   "metadata": {},
   "source": [
    "## Calculate numerical values"
   ]
  },
  {
   "cell_type": "code",
   "execution_count": 150,
   "metadata": {},
   "outputs": [
    {
     "data": {
      "text/html": [
       "<div>\n",
       "<style scoped>\n",
       "    .dataframe tbody tr th:only-of-type {\n",
       "        vertical-align: middle;\n",
       "    }\n",
       "\n",
       "    .dataframe tbody tr th {\n",
       "        vertical-align: top;\n",
       "    }\n",
       "\n",
       "    .dataframe thead th {\n",
       "        text-align: right;\n",
       "    }\n",
       "</style>\n",
       "<table border=\"1\" class=\"dataframe\">\n",
       "  <thead>\n",
       "    <tr style=\"text-align: right;\">\n",
       "      <th></th>\n",
       "      <th>pneumonia</th>\n",
       "    </tr>\n",
       "  </thead>\n",
       "  <tbody>\n",
       "    <tr>\n",
       "      <th>2</th>\n",
       "      <td>478032</td>\n",
       "    </tr>\n",
       "    <tr>\n",
       "      <th>1</th>\n",
       "      <td>87941</td>\n",
       "    </tr>\n",
       "    <tr>\n",
       "      <th>99</th>\n",
       "      <td>11</td>\n",
       "    </tr>\n",
       "  </tbody>\n",
       "</table>\n",
       "</div>"
      ],
      "text/plain": [
       "    pneumonia\n",
       "2      478032\n",
       "1       87941\n",
       "99         11"
      ]
     },
     "execution_count": 150,
     "metadata": {},
     "output_type": "execute_result"
    }
   ],
   "source": [
    "pd.DataFrame(dataModel['pneumonia'].value_counts())"
   ]
  },
  {
   "cell_type": "code",
   "execution_count": 154,
   "metadata": {},
   "outputs": [
    {
     "data": {
      "text/html": [
       "<div>\n",
       "<style scoped>\n",
       "    .dataframe tbody tr th:only-of-type {\n",
       "        vertical-align: middle;\n",
       "    }\n",
       "\n",
       "    .dataframe tbody tr th {\n",
       "        vertical-align: top;\n",
       "    }\n",
       "\n",
       "    .dataframe thead th {\n",
       "        text-align: right;\n",
       "    }\n",
       "</style>\n",
       "<table border=\"1\" class=\"dataframe\">\n",
       "  <thead>\n",
       "    <tr style=\"text-align: right;\">\n",
       "      <th></th>\n",
       "      <th>asthma</th>\n",
       "    </tr>\n",
       "  </thead>\n",
       "  <tbody>\n",
       "    <tr>\n",
       "      <th>2</th>\n",
       "      <td>546229</td>\n",
       "    </tr>\n",
       "    <tr>\n",
       "      <th>1</th>\n",
       "      <td>18015</td>\n",
       "    </tr>\n",
       "    <tr>\n",
       "      <th>98</th>\n",
       "      <td>1740</td>\n",
       "    </tr>\n",
       "  </tbody>\n",
       "</table>\n",
       "</div>"
      ],
      "text/plain": [
       "    asthma\n",
       "2   546229\n",
       "1    18015\n",
       "98    1740"
      ]
     },
     "execution_count": 154,
     "metadata": {},
     "output_type": "execute_result"
    }
   ],
   "source": [
    "pd.DataFrame(dataModel['asthma'].value_counts())"
   ]
  },
  {
   "cell_type": "code",
   "execution_count": 155,
   "metadata": {},
   "outputs": [
    {
     "data": {
      "text/html": [
       "<div>\n",
       "<style scoped>\n",
       "    .dataframe tbody tr th:only-of-type {\n",
       "        vertical-align: middle;\n",
       "    }\n",
       "\n",
       "    .dataframe tbody tr th {\n",
       "        vertical-align: top;\n",
       "    }\n",
       "\n",
       "    .dataframe thead th {\n",
       "        text-align: right;\n",
       "    }\n",
       "</style>\n",
       "<table border=\"1\" class=\"dataframe\">\n",
       "  <thead>\n",
       "    <tr style=\"text-align: right;\">\n",
       "      <th></th>\n",
       "      <th>tobacco</th>\n",
       "    </tr>\n",
       "  </thead>\n",
       "  <tbody>\n",
       "    <tr>\n",
       "      <th>2</th>\n",
       "      <td>516114</td>\n",
       "    </tr>\n",
       "    <tr>\n",
       "      <th>1</th>\n",
       "      <td>47975</td>\n",
       "    </tr>\n",
       "    <tr>\n",
       "      <th>98</th>\n",
       "      <td>1895</td>\n",
       "    </tr>\n",
       "  </tbody>\n",
       "</table>\n",
       "</div>"
      ],
      "text/plain": [
       "    tobacco\n",
       "2    516114\n",
       "1     47975\n",
       "98     1895"
      ]
     },
     "execution_count": 155,
     "metadata": {},
     "output_type": "execute_result"
    }
   ],
   "source": [
    "pd.DataFrame(dataModel['tobacco'].value_counts())"
   ]
  },
  {
   "cell_type": "code",
   "execution_count": 156,
   "metadata": {},
   "outputs": [
    {
     "data": {
      "text/html": [
       "<div>\n",
       "<style scoped>\n",
       "    .dataframe tbody tr th:only-of-type {\n",
       "        vertical-align: middle;\n",
       "    }\n",
       "\n",
       "    .dataframe tbody tr th {\n",
       "        vertical-align: top;\n",
       "    }\n",
       "\n",
       "    .dataframe thead th {\n",
       "        text-align: right;\n",
       "    }\n",
       "</style>\n",
       "<table border=\"1\" class=\"dataframe\">\n",
       "  <thead>\n",
       "    <tr style=\"text-align: right;\">\n",
       "      <th></th>\n",
       "      <th>pregnancy</th>\n",
       "    </tr>\n",
       "  </thead>\n",
       "  <tbody>\n",
       "    <tr>\n",
       "      <th>97</th>\n",
       "      <td>286831</td>\n",
       "    </tr>\n",
       "    <tr>\n",
       "      <th>2</th>\n",
       "      <td>273508</td>\n",
       "    </tr>\n",
       "    <tr>\n",
       "      <th>1</th>\n",
       "      <td>4063</td>\n",
       "    </tr>\n",
       "    <tr>\n",
       "      <th>98</th>\n",
       "      <td>1582</td>\n",
       "    </tr>\n",
       "  </tbody>\n",
       "</table>\n",
       "</div>"
      ],
      "text/plain": [
       "    pregnancy\n",
       "97     286831\n",
       "2      273508\n",
       "1        4063\n",
       "98       1582"
      ]
     },
     "execution_count": 156,
     "metadata": {},
     "output_type": "execute_result"
    }
   ],
   "source": [
    "pd.DataFrame(dataModel['pregnancy'].value_counts())"
   ]
  },
  {
   "cell_type": "markdown",
   "metadata": {},
   "source": [
    "## 3.3.1.  Inspecting categorical variables using bivariable relatioships with sex of patients.\n"
   ]
  },
  {
   "cell_type": "code",
   "execution_count": 157,
   "metadata": {},
   "outputs": [
    {
     "data": {
      "text/html": [
       "<div>\n",
       "<style scoped>\n",
       "    .dataframe tbody tr th:only-of-type {\n",
       "        vertical-align: middle;\n",
       "    }\n",
       "\n",
       "    .dataframe tbody tr th {\n",
       "        vertical-align: top;\n",
       "    }\n",
       "\n",
       "    .dataframe thead th {\n",
       "        text-align: right;\n",
       "    }\n",
       "</style>\n",
       "<table border=\"1\" class=\"dataframe\">\n",
       "  <thead>\n",
       "    <tr style=\"text-align: right;\">\n",
       "      <th></th>\n",
       "      <th>CLAVE</th>\n",
       "      <th>DESCRIPCIÓN</th>\n",
       "    </tr>\n",
       "  </thead>\n",
       "  <tbody>\n",
       "    <tr>\n",
       "      <th>0</th>\n",
       "      <td>1</td>\n",
       "      <td>WOMAN</td>\n",
       "    </tr>\n",
       "    <tr>\n",
       "      <th>1</th>\n",
       "      <td>2</td>\n",
       "      <td>MAN</td>\n",
       "    </tr>\n",
       "    <tr>\n",
       "      <th>2</th>\n",
       "      <td>99</td>\n",
       "      <td>NaN</td>\n",
       "    </tr>\n",
       "  </tbody>\n",
       "</table>\n",
       "</div>"
      ],
      "text/plain": [
       "   CLAVE DESCRIPCIÓN\n",
       "0      1       WOMAN\n",
       "1      2         MAN\n",
       "2     99         NaN"
      ]
     },
     "execution_count": 157,
     "metadata": {},
     "output_type": "execute_result"
    }
   ],
   "source": [
    "cat_sex"
   ]
  },
  {
   "cell_type": "code",
   "execution_count": 158,
   "metadata": {},
   "outputs": [
    {
     "data": {
      "text/html": [
       "<div>\n",
       "<style scoped>\n",
       "    .dataframe tbody tr th:only-of-type {\n",
       "        vertical-align: middle;\n",
       "    }\n",
       "\n",
       "    .dataframe tbody tr th {\n",
       "        vertical-align: top;\n",
       "    }\n",
       "\n",
       "    .dataframe thead th {\n",
       "        text-align: right;\n",
       "    }\n",
       "</style>\n",
       "<table border=\"1\" class=\"dataframe\">\n",
       "  <thead>\n",
       "    <tr style=\"text-align: right;\">\n",
       "      <th></th>\n",
       "      <th>CLAVE</th>\n",
       "      <th>DESCRIPCIÓN</th>\n",
       "    </tr>\n",
       "  </thead>\n",
       "  <tbody>\n",
       "    <tr>\n",
       "      <th>0</th>\n",
       "      <td>1</td>\n",
       "      <td>YES</td>\n",
       "    </tr>\n",
       "    <tr>\n",
       "      <th>1</th>\n",
       "      <td>2</td>\n",
       "      <td>NO</td>\n",
       "    </tr>\n",
       "    <tr>\n",
       "      <th>2</th>\n",
       "      <td>97</td>\n",
       "      <td>NaN</td>\n",
       "    </tr>\n",
       "    <tr>\n",
       "      <th>3</th>\n",
       "      <td>98</td>\n",
       "      <td>IGNORE</td>\n",
       "    </tr>\n",
       "    <tr>\n",
       "      <th>4</th>\n",
       "      <td>99</td>\n",
       "      <td>NOT SPECIFIED</td>\n",
       "    </tr>\n",
       "  </tbody>\n",
       "</table>\n",
       "</div>"
      ],
      "text/plain": [
       "   CLAVE    DESCRIPCIÓN\n",
       "0      1            YES\n",
       "1      2            NO \n",
       "2     97            NaN\n",
       "3     98         IGNORE\n",
       "4     99  NOT SPECIFIED"
      ]
     },
     "execution_count": 158,
     "metadata": {},
     "output_type": "execute_result"
    }
   ],
   "source": [
    "cat_si_no"
   ]
  },
  {
   "cell_type": "code",
   "execution_count": 159,
   "metadata": {},
   "outputs": [
    {
     "data": {
      "text/plain": [
       "intubed  icu\n",
       "1        1        5000\n",
       "         2        4947\n",
       "2        2      106452\n",
       "         1        5081\n",
       "         99          1\n",
       "97       97     444379\n",
       "99       99        124\n",
       "Name: icu, dtype: int64"
      ]
     },
     "execution_count": 159,
     "metadata": {},
     "output_type": "execute_result"
    }
   ],
   "source": [
    "dataModel.groupby('intubed')['icu'].value_counts()"
   ]
  },
  {
   "cell_type": "code",
   "execution_count": 160,
   "metadata": {
    "scrolled": false
   },
   "outputs": [
    {
     "data": {
      "text/plain": [
       "<matplotlib.axes._subplots.AxesSubplot at 0x25190310288>"
      ]
     },
     "execution_count": 160,
     "metadata": {},
     "output_type": "execute_result"
    },
    {
     "data": {
      "image/png": "[encoded data removed]",
      "text/plain": [
       "<Figure size 1080x720 with 4 Axes>"
      ]
     },
     "metadata": {
      "needs_background": "light"
     },
     "output_type": "display_data"
    }
   ],
   "source": [
    "fig, axs = plt.subplots(2,2)\n",
    "\n",
    "pneumonia_bySex= dataModel.pivot_table(index='sex', columns='pneumonia', values='icu', aggfunc='count')\n",
    "pneumonia_bySex.plot(kind='barh', stacked=True, figsize=[15,10], colormap='Dark2_r',ax=axs[0,0])\n",
    "\n",
    "asthma_bySex= dataModel.pivot_table(index='sex', columns='asthma', values='icu', aggfunc='count')\n",
    "asthma_bySex.plot(kind='barh', stacked=True, figsize=[15,10], colormap='Dark2_r',ax=axs[0,1])\n",
    "\n",
    "tobacco_bySex= dataModel.pivot_table(index='sex', columns='tobacco', values='icu', aggfunc='count')\n",
    "tobacco_bySex.plot(kind='barh', stacked=True, figsize=[15,10], colormap='Dark2_r',ax=axs[1,0])\n",
    ",\n",
    "pregnancy_bySex= dataModel.pivot_table(index='sex', columns='pregnancy', values='icu', aggfunc='count')\n",
    "pregnancy_bySex.plot(kind='barh', stacked=True, figsize=[15,10], colormap='Dark2_r',ax=axs[1,1])\n",
    "\n"
   ]
  },
  {
   "cell_type": "markdown",
   "metadata": {},
   "source": [
    "## Calculate numerical values"
   ]
  },
  {
   "cell_type": "code",
   "execution_count": 161,
   "metadata": {},
   "outputs": [
    {
     "data": {
      "text/html": [
       "<div>\n",
       "<style scoped>\n",
       "    .dataframe tbody tr th:only-of-type {\n",
       "        vertical-align: middle;\n",
       "    }\n",
       "\n",
       "    .dataframe tbody tr th {\n",
       "        vertical-align: top;\n",
       "    }\n",
       "\n",
       "    .dataframe thead th {\n",
       "        text-align: right;\n",
       "    }\n",
       "</style>\n",
       "<table border=\"1\" class=\"dataframe\">\n",
       "  <thead>\n",
       "    <tr style=\"text-align: right;\">\n",
       "      <th>pneumonia</th>\n",
       "      <th>1</th>\n",
       "      <th>2</th>\n",
       "      <th>99</th>\n",
       "    </tr>\n",
       "    <tr>\n",
       "      <th>sex</th>\n",
       "      <th></th>\n",
       "      <th></th>\n",
       "      <th></th>\n",
       "    </tr>\n",
       "  </thead>\n",
       "  <tbody>\n",
       "    <tr>\n",
       "      <th>1</th>\n",
       "      <td>34637</td>\n",
       "      <td>244511</td>\n",
       "      <td>5</td>\n",
       "    </tr>\n",
       "    <tr>\n",
       "      <th>2</th>\n",
       "      <td>53304</td>\n",
       "      <td>233521</td>\n",
       "      <td>6</td>\n",
       "    </tr>\n",
       "  </tbody>\n",
       "</table>\n",
       "</div>"
      ],
      "text/plain": [
       "pneumonia     1       2   99\n",
       "sex                         \n",
       "1          34637  244511   5\n",
       "2          53304  233521   6"
      ]
     },
     "execution_count": 161,
     "metadata": {},
     "output_type": "execute_result"
    }
   ],
   "source": [
    "pneumonia_bySex"
   ]
  },
  {
   "cell_type": "code",
   "execution_count": 162,
   "metadata": {},
   "outputs": [
    {
     "data": {
      "text/html": [
       "<div>\n",
       "<style scoped>\n",
       "    .dataframe tbody tr th:only-of-type {\n",
       "        vertical-align: middle;\n",
       "    }\n",
       "\n",
       "    .dataframe tbody tr th {\n",
       "        vertical-align: top;\n",
       "    }\n",
       "\n",
       "    .dataframe thead th {\n",
       "        text-align: right;\n",
       "    }\n",
       "</style>\n",
       "<table border=\"1\" class=\"dataframe\">\n",
       "  <thead>\n",
       "    <tr style=\"text-align: right;\">\n",
       "      <th>tobacco</th>\n",
       "      <th>1</th>\n",
       "      <th>2</th>\n",
       "      <th>98</th>\n",
       "    </tr>\n",
       "    <tr>\n",
       "      <th>sex</th>\n",
       "      <th></th>\n",
       "      <th></th>\n",
       "      <th></th>\n",
       "    </tr>\n",
       "  </thead>\n",
       "  <tbody>\n",
       "    <tr>\n",
       "      <th>1</th>\n",
       "      <td>15534</td>\n",
       "      <td>262851</td>\n",
       "      <td>768</td>\n",
       "    </tr>\n",
       "    <tr>\n",
       "      <th>2</th>\n",
       "      <td>32441</td>\n",
       "      <td>253263</td>\n",
       "      <td>1127</td>\n",
       "    </tr>\n",
       "  </tbody>\n",
       "</table>\n",
       "</div>"
      ],
      "text/plain": [
       "tobacco     1       2     98\n",
       "sex                         \n",
       "1        15534  262851   768\n",
       "2        32441  253263  1127"
      ]
     },
     "execution_count": 162,
     "metadata": {},
     "output_type": "execute_result"
    }
   ],
   "source": [
    "tobacco_bySex"
   ]
  },
  {
   "cell_type": "code",
   "execution_count": 163,
   "metadata": {},
   "outputs": [
    {
     "data": {
      "text/html": [
       "<div>\n",
       "<style scoped>\n",
       "    .dataframe tbody tr th:only-of-type {\n",
       "        vertical-align: middle;\n",
       "    }\n",
       "\n",
       "    .dataframe tbody tr th {\n",
       "        vertical-align: top;\n",
       "    }\n",
       "\n",
       "    .dataframe thead th {\n",
       "        text-align: right;\n",
       "    }\n",
       "</style>\n",
       "<table border=\"1\" class=\"dataframe\">\n",
       "  <thead>\n",
       "    <tr style=\"text-align: right;\">\n",
       "      <th>asthma</th>\n",
       "      <th>1</th>\n",
       "      <th>2</th>\n",
       "      <th>98</th>\n",
       "    </tr>\n",
       "    <tr>\n",
       "      <th>sex</th>\n",
       "      <th></th>\n",
       "      <th></th>\n",
       "      <th></th>\n",
       "    </tr>\n",
       "  </thead>\n",
       "  <tbody>\n",
       "    <tr>\n",
       "      <th>1</th>\n",
       "      <td>11195</td>\n",
       "      <td>267235</td>\n",
       "      <td>723</td>\n",
       "    </tr>\n",
       "    <tr>\n",
       "      <th>2</th>\n",
       "      <td>6820</td>\n",
       "      <td>278994</td>\n",
       "      <td>1017</td>\n",
       "    </tr>\n",
       "  </tbody>\n",
       "</table>\n",
       "</div>"
      ],
      "text/plain": [
       "asthma     1       2     98\n",
       "sex                        \n",
       "1       11195  267235   723\n",
       "2        6820  278994  1017"
      ]
     },
     "execution_count": 163,
     "metadata": {},
     "output_type": "execute_result"
    }
   ],
   "source": [
    "asthma_bySex"
   ]
  },
  {
   "cell_type": "code",
   "execution_count": 164,
   "metadata": {},
   "outputs": [
    {
     "data": {
      "text/html": [
       "<div>\n",
       "<style scoped>\n",
       "    .dataframe tbody tr th:only-of-type {\n",
       "        vertical-align: middle;\n",
       "    }\n",
       "\n",
       "    .dataframe tbody tr th {\n",
       "        vertical-align: top;\n",
       "    }\n",
       "\n",
       "    .dataframe thead th {\n",
       "        text-align: right;\n",
       "    }\n",
       "</style>\n",
       "<table border=\"1\" class=\"dataframe\">\n",
       "  <thead>\n",
       "    <tr style=\"text-align: right;\">\n",
       "      <th>pregnancy</th>\n",
       "      <th>1</th>\n",
       "      <th>2</th>\n",
       "      <th>97</th>\n",
       "      <th>98</th>\n",
       "    </tr>\n",
       "    <tr>\n",
       "      <th>sex</th>\n",
       "      <th></th>\n",
       "      <th></th>\n",
       "      <th></th>\n",
       "      <th></th>\n",
       "    </tr>\n",
       "  </thead>\n",
       "  <tbody>\n",
       "    <tr>\n",
       "      <th>1</th>\n",
       "      <td>4063.0</td>\n",
       "      <td>273508.0</td>\n",
       "      <td>NaN</td>\n",
       "      <td>1582.0</td>\n",
       "    </tr>\n",
       "    <tr>\n",
       "      <th>2</th>\n",
       "      <td>NaN</td>\n",
       "      <td>NaN</td>\n",
       "      <td>286831.0</td>\n",
       "      <td>NaN</td>\n",
       "    </tr>\n",
       "  </tbody>\n",
       "</table>\n",
       "</div>"
      ],
      "text/plain": [
       "pregnancy      1         2         97      98\n",
       "sex                                          \n",
       "1          4063.0  273508.0       NaN  1582.0\n",
       "2             NaN       NaN  286831.0     NaN"
      ]
     },
     "execution_count": 164,
     "metadata": {},
     "output_type": "execute_result"
    }
   ],
   "source": [
    "pregnancy_bySex"
   ]
  },
  {
   "cell_type": "markdown",
   "metadata": {},
   "source": [
    "# 3.3.2. Inspecting categorical variables using bivariable relatioships with ICU (Intensive Care Medical Unit) reference"
   ]
  },
  {
   "cell_type": "code",
   "execution_count": 165,
   "metadata": {},
   "outputs": [
    {
     "data": {
      "text/plain": [
       "<matplotlib.axes._subplots.AxesSubplot at 0x2519c039608>"
      ]
     },
     "execution_count": 165,
     "metadata": {},
     "output_type": "execute_result"
    },
    {
     "data": {
      "image/png": "[encoded data removed]",
      "text/plain": [
       "<Figure size 1080x720 with 4 Axes>"
      ]
     },
     "metadata": {
      "needs_background": "light"
     },
     "output_type": "display_data"
    }
   ],
   "source": [
    "fig, axs = plt.subplots(2,2)\n",
    "\n",
    "cardiovascular_bySex= dataModel.pivot_table(index='sex', columns='cardiovascular', values='icu', aggfunc='count')\n",
    "pneumonia_bySex.plot(kind='barh', stacked=True, figsize=[15,10], colormap='Dark2_r',ax=axs[0,0])\n",
    "\n",
    "hypertension_bySex= dataModel.pivot_table(index='sex', columns='hypertension', values='icu', aggfunc='count')\n",
    "hypertension_bySex.plot(kind='barh', stacked=True, figsize=[15,10], colormap='Dark2_r',ax=axs[0,1])\n",
    "\n",
    "obesity_bySex= dataModel.pivot_table(index='sex', columns='obesity', values='icu', aggfunc='count')\n",
    "obesity_bySex.plot(kind='barh', stacked=True, figsize=[15,10], colormap='Dark2_r',ax=axs[1,0])\n",
    "\n",
    "covid_res_bySex= dataModel.pivot_table(index='sex', columns='covid_res', values='icu', aggfunc='count')\n",
    "covid_res_bySex.plot(kind='barh', stacked=True, figsize=[15,10], colormap='Dark2_r',ax=axs[1,1])\n"
   ]
  },
  {
   "cell_type": "code",
   "execution_count": 166,
   "metadata": {},
   "outputs": [
    {
     "data": {
      "text/html": [
       "<div>\n",
       "<style scoped>\n",
       "    .dataframe tbody tr th:only-of-type {\n",
       "        vertical-align: middle;\n",
       "    }\n",
       "\n",
       "    .dataframe tbody tr th {\n",
       "        vertical-align: top;\n",
       "    }\n",
       "\n",
       "    .dataframe thead th {\n",
       "        text-align: right;\n",
       "    }\n",
       "</style>\n",
       "<table border=\"1\" class=\"dataframe\">\n",
       "  <thead>\n",
       "    <tr style=\"text-align: right;\">\n",
       "      <th>cardiovascular</th>\n",
       "      <th>1</th>\n",
       "      <th>2</th>\n",
       "      <th>98</th>\n",
       "    </tr>\n",
       "    <tr>\n",
       "      <th>sex</th>\n",
       "      <th></th>\n",
       "      <th></th>\n",
       "      <th></th>\n",
       "    </tr>\n",
       "  </thead>\n",
       "  <tbody>\n",
       "    <tr>\n",
       "      <th>1</th>\n",
       "      <td>5800</td>\n",
       "      <td>272599</td>\n",
       "      <td>754</td>\n",
       "    </tr>\n",
       "    <tr>\n",
       "      <th>2</th>\n",
       "      <td>6908</td>\n",
       "      <td>278868</td>\n",
       "      <td>1055</td>\n",
       "    </tr>\n",
       "  </tbody>\n",
       "</table>\n",
       "</div>"
      ],
      "text/plain": [
       "cardiovascular    1       2     98\n",
       "sex                               \n",
       "1               5800  272599   754\n",
       "2               6908  278868  1055"
      ]
     },
     "execution_count": 166,
     "metadata": {},
     "output_type": "execute_result"
    }
   ],
   "source": [
    "cardiovascular_bySex"
   ]
  },
  {
   "cell_type": "code",
   "execution_count": 167,
   "metadata": {},
   "outputs": [
    {
     "data": {
      "text/html": [
       "<div>\n",
       "<style scoped>\n",
       "    .dataframe tbody tr th:only-of-type {\n",
       "        vertical-align: middle;\n",
       "    }\n",
       "\n",
       "    .dataframe tbody tr th {\n",
       "        vertical-align: top;\n",
       "    }\n",
       "\n",
       "    .dataframe thead th {\n",
       "        text-align: right;\n",
       "    }\n",
       "</style>\n",
       "<table border=\"1\" class=\"dataframe\">\n",
       "  <thead>\n",
       "    <tr style=\"text-align: right;\">\n",
       "      <th>hypertension</th>\n",
       "      <th>1</th>\n",
       "      <th>2</th>\n",
       "      <th>98</th>\n",
       "    </tr>\n",
       "    <tr>\n",
       "      <th>sex</th>\n",
       "      <th></th>\n",
       "      <th></th>\n",
       "      <th></th>\n",
       "    </tr>\n",
       "  </thead>\n",
       "  <tbody>\n",
       "    <tr>\n",
       "      <th>1</th>\n",
       "      <td>44596</td>\n",
       "      <td>233818</td>\n",
       "      <td>739</td>\n",
       "    </tr>\n",
       "    <tr>\n",
       "      <th>2</th>\n",
       "      <td>47697</td>\n",
       "      <td>238062</td>\n",
       "      <td>1072</td>\n",
       "    </tr>\n",
       "  </tbody>\n",
       "</table>\n",
       "</div>"
      ],
      "text/plain": [
       "hypertension     1       2     98\n",
       "sex                              \n",
       "1             44596  233818   739\n",
       "2             47697  238062  1072"
      ]
     },
     "execution_count": 167,
     "metadata": {},
     "output_type": "execute_result"
    }
   ],
   "source": [
    "hypertension_bySex"
   ]
  },
  {
   "cell_type": "code",
   "execution_count": 168,
   "metadata": {},
   "outputs": [
    {
     "data": {
      "text/html": [
       "<div>\n",
       "<style scoped>\n",
       "    .dataframe tbody tr th:only-of-type {\n",
       "        vertical-align: middle;\n",
       "    }\n",
       "\n",
       "    .dataframe tbody tr th {\n",
       "        vertical-align: top;\n",
       "    }\n",
       "\n",
       "    .dataframe thead th {\n",
       "        text-align: right;\n",
       "    }\n",
       "</style>\n",
       "<table border=\"1\" class=\"dataframe\">\n",
       "  <thead>\n",
       "    <tr style=\"text-align: right;\">\n",
       "      <th>obesity</th>\n",
       "      <th>1</th>\n",
       "      <th>2</th>\n",
       "      <th>98</th>\n",
       "    </tr>\n",
       "    <tr>\n",
       "      <th>sex</th>\n",
       "      <th></th>\n",
       "      <th></th>\n",
       "      <th></th>\n",
       "    </tr>\n",
       "  </thead>\n",
       "  <tbody>\n",
       "    <tr>\n",
       "      <th>1</th>\n",
       "      <td>47503</td>\n",
       "      <td>230919</td>\n",
       "      <td>731</td>\n",
       "    </tr>\n",
       "    <tr>\n",
       "      <th>2</th>\n",
       "      <td>44740</td>\n",
       "      <td>241053</td>\n",
       "      <td>1038</td>\n",
       "    </tr>\n",
       "  </tbody>\n",
       "</table>\n",
       "</div>"
      ],
      "text/plain": [
       "obesity     1       2     98\n",
       "sex                         \n",
       "1        47503  230919   731\n",
       "2        44740  241053  1038"
      ]
     },
     "execution_count": 168,
     "metadata": {},
     "output_type": "execute_result"
    }
   ],
   "source": [
    "obesity_bySex"
   ]
  },
  {
   "cell_type": "code",
   "execution_count": 169,
   "metadata": {},
   "outputs": [
    {
     "data": {
      "text/html": [
       "<div>\n",
       "<style scoped>\n",
       "    .dataframe tbody tr th:only-of-type {\n",
       "        vertical-align: middle;\n",
       "    }\n",
       "\n",
       "    .dataframe tbody tr th {\n",
       "        vertical-align: top;\n",
       "    }\n",
       "\n",
       "    .dataframe thead th {\n",
       "        text-align: right;\n",
       "    }\n",
       "</style>\n",
       "<table border=\"1\" class=\"dataframe\">\n",
       "  <thead>\n",
       "    <tr style=\"text-align: right;\">\n",
       "      <th>covid_res</th>\n",
       "      <th>1</th>\n",
       "      <th>2</th>\n",
       "      <th>3</th>\n",
       "    </tr>\n",
       "    <tr>\n",
       "      <th>sex</th>\n",
       "      <th></th>\n",
       "      <th></th>\n",
       "      <th></th>\n",
       "    </tr>\n",
       "  </thead>\n",
       "  <tbody>\n",
       "    <tr>\n",
       "      <th>1</th>\n",
       "      <td>99743</td>\n",
       "      <td>146552</td>\n",
       "      <td>32858</td>\n",
       "    </tr>\n",
       "    <tr>\n",
       "      <th>2</th>\n",
       "      <td>120688</td>\n",
       "      <td>132158</td>\n",
       "      <td>33985</td>\n",
       "    </tr>\n",
       "  </tbody>\n",
       "</table>\n",
       "</div>"
      ],
      "text/plain": [
       "covid_res       1       2      3\n",
       "sex                             \n",
       "1           99743  146552  32858\n",
       "2          120688  132158  33985"
      ]
     },
     "execution_count": 169,
     "metadata": {},
     "output_type": "execute_result"
    }
   ],
   "source": [
    "covid_res_bySex"
   ]
  },
  {
   "cell_type": "markdown",
   "metadata": {},
   "source": [
    "## Inspecting relationship between categorical variables - Diseases vs ICU assignation - Overview respiratory diseases"
   ]
  },
  {
   "cell_type": "code",
   "execution_count": 170,
   "metadata": {},
   "outputs": [
    {
     "data": {
      "image/png": "[encoded data removed]",
      "text/plain": [
       "<Figure size 1080x720 with 4 Axes>"
      ]
     },
     "metadata": {
      "needs_background": "light"
     },
     "output_type": "display_data"
    }
   ],
   "source": [
    "fig, axs = plt.subplots(2,2)\n",
    "pneumonia_byICU = pd.crosstab(index=dataModel['icu'],\n",
    "            columns=dataModel['pneumonia'], \n",
    "            margins=True)\n",
    "pneumonia_byICU.plot(kind='bar',ax=axs[0,0], figsize=[15,10])\n",
    "plt.grid(color='gray', linestyle='--', linewidth=1)\n",
    "#plt.ylabel(\"Frequency\")\n",
    "#plt.title('Relationship between Asthma diagnostic and ICU assignation COVID')\n",
    "asthma_byICU = pd.crosstab(index=dataModel['icu'],\n",
    "            columns=dataModel['asthma'], \n",
    "            margins=True)\n",
    "asthma_byICU.plot(kind='bar',ax=axs[0,1])\n",
    "plt.grid(color='gray', linestyle='--', linewidth=1)\n",
    "#plt.ylabel(\"Frequency\")\n",
    "#plt.title('Relationship between Tobacco diagnostic and ICU assignation COVID')\n",
    "tobacco_byICU = pd.crosstab(index=dataModel['icu'],\n",
    "            columns=dataModel['tobacco'], \n",
    "            margins=True)\n",
    "tobacco_byICU.plot(kind='bar',ax=axs[1,0])\n",
    "plt.grid(color='gray', linestyle='--', linewidth=1)\n",
    "#plt.ylabel(\"Frequency\")\n",
    "#plt.title('Relationship between Pregnancy diagnostic and ICU assignation COVID')\n",
    "pregnancy_byICU = pd.crosstab(index=dataModel['icu'],\n",
    "            columns=dataModel['pregnancy'], \n",
    "            margins=True)\n",
    "pregnancy_byICU.plot(kind='bar',ax=axs[1,1])\n",
    "plt.grid(color='gray', linestyle='--', linewidth=1)\n",
    "#plt.ylabel(\"Frequency\")\n",
    "#plt.title('Relationship between Pneumonia diagnostic and ICU assignation COVID')\n"
   ]
  },
  {
   "cell_type": "code",
   "execution_count": 171,
   "metadata": {},
   "outputs": [
    {
     "data": {
      "text/html": [
       "<div>\n",
       "<style scoped>\n",
       "    .dataframe tbody tr th:only-of-type {\n",
       "        vertical-align: middle;\n",
       "    }\n",
       "\n",
       "    .dataframe tbody tr th {\n",
       "        vertical-align: top;\n",
       "    }\n",
       "\n",
       "    .dataframe thead th {\n",
       "        text-align: right;\n",
       "    }\n",
       "</style>\n",
       "<table border=\"1\" class=\"dataframe\">\n",
       "  <thead>\n",
       "    <tr style=\"text-align: right;\">\n",
       "      <th>pneumonia</th>\n",
       "      <th>1</th>\n",
       "      <th>2</th>\n",
       "      <th>99</th>\n",
       "      <th>All</th>\n",
       "    </tr>\n",
       "    <tr>\n",
       "      <th>icu</th>\n",
       "      <th></th>\n",
       "      <th></th>\n",
       "      <th></th>\n",
       "      <th></th>\n",
       "    </tr>\n",
       "  </thead>\n",
       "  <tbody>\n",
       "    <tr>\n",
       "      <th>1</th>\n",
       "      <td>8365</td>\n",
       "      <td>1716</td>\n",
       "      <td>0</td>\n",
       "      <td>10081</td>\n",
       "    </tr>\n",
       "    <tr>\n",
       "      <th>2</th>\n",
       "      <td>65110</td>\n",
       "      <td>46289</td>\n",
       "      <td>0</td>\n",
       "      <td>111399</td>\n",
       "    </tr>\n",
       "    <tr>\n",
       "      <th>97</th>\n",
       "      <td>14407</td>\n",
       "      <td>429962</td>\n",
       "      <td>10</td>\n",
       "      <td>444379</td>\n",
       "    </tr>\n",
       "    <tr>\n",
       "      <th>99</th>\n",
       "      <td>59</td>\n",
       "      <td>65</td>\n",
       "      <td>1</td>\n",
       "      <td>125</td>\n",
       "    </tr>\n",
       "    <tr>\n",
       "      <th>All</th>\n",
       "      <td>87941</td>\n",
       "      <td>478032</td>\n",
       "      <td>11</td>\n",
       "      <td>565984</td>\n",
       "    </tr>\n",
       "  </tbody>\n",
       "</table>\n",
       "</div>"
      ],
      "text/plain": [
       "pneumonia      1       2  99     All\n",
       "icu                                 \n",
       "1           8365    1716   0   10081\n",
       "2          65110   46289   0  111399\n",
       "97         14407  429962  10  444379\n",
       "99            59      65   1     125\n",
       "All        87941  478032  11  565984"
      ]
     },
     "execution_count": 171,
     "metadata": {},
     "output_type": "execute_result"
    }
   ],
   "source": [
    "pneumonia_byICU"
   ]
  },
  {
   "cell_type": "code",
   "execution_count": 172,
   "metadata": {},
   "outputs": [
    {
     "data": {
      "text/html": [
       "<div>\n",
       "<style scoped>\n",
       "    .dataframe tbody tr th:only-of-type {\n",
       "        vertical-align: middle;\n",
       "    }\n",
       "\n",
       "    .dataframe tbody tr th {\n",
       "        vertical-align: top;\n",
       "    }\n",
       "\n",
       "    .dataframe thead th {\n",
       "        text-align: right;\n",
       "    }\n",
       "</style>\n",
       "<table border=\"1\" class=\"dataframe\">\n",
       "  <thead>\n",
       "    <tr style=\"text-align: right;\">\n",
       "      <th>asthma</th>\n",
       "      <th>1</th>\n",
       "      <th>2</th>\n",
       "      <th>98</th>\n",
       "      <th>All</th>\n",
       "    </tr>\n",
       "    <tr>\n",
       "      <th>icu</th>\n",
       "      <th></th>\n",
       "      <th></th>\n",
       "      <th></th>\n",
       "      <th></th>\n",
       "    </tr>\n",
       "  </thead>\n",
       "  <tbody>\n",
       "    <tr>\n",
       "      <th>1</th>\n",
       "      <td>246</td>\n",
       "      <td>9721</td>\n",
       "      <td>114</td>\n",
       "      <td>10081</td>\n",
       "    </tr>\n",
       "    <tr>\n",
       "      <th>2</th>\n",
       "      <td>2890</td>\n",
       "      <td>108040</td>\n",
       "      <td>469</td>\n",
       "      <td>111399</td>\n",
       "    </tr>\n",
       "    <tr>\n",
       "      <th>97</th>\n",
       "      <td>14876</td>\n",
       "      <td>428346</td>\n",
       "      <td>1157</td>\n",
       "      <td>444379</td>\n",
       "    </tr>\n",
       "    <tr>\n",
       "      <th>99</th>\n",
       "      <td>3</td>\n",
       "      <td>122</td>\n",
       "      <td>0</td>\n",
       "      <td>125</td>\n",
       "    </tr>\n",
       "    <tr>\n",
       "      <th>All</th>\n",
       "      <td>18015</td>\n",
       "      <td>546229</td>\n",
       "      <td>1740</td>\n",
       "      <td>565984</td>\n",
       "    </tr>\n",
       "  </tbody>\n",
       "</table>\n",
       "</div>"
      ],
      "text/plain": [
       "asthma      1       2    98     All\n",
       "icu                                \n",
       "1         246    9721   114   10081\n",
       "2        2890  108040   469  111399\n",
       "97      14876  428346  1157  444379\n",
       "99          3     122     0     125\n",
       "All     18015  546229  1740  565984"
      ]
     },
     "execution_count": 172,
     "metadata": {},
     "output_type": "execute_result"
    }
   ],
   "source": [
    "asthma_byICU"
   ]
  },
  {
   "cell_type": "code",
   "execution_count": 173,
   "metadata": {},
   "outputs": [
    {
     "data": {
      "text/html": [
       "<div>\n",
       "<style scoped>\n",
       "    .dataframe tbody tr th:only-of-type {\n",
       "        vertical-align: middle;\n",
       "    }\n",
       "\n",
       "    .dataframe tbody tr th {\n",
       "        vertical-align: top;\n",
       "    }\n",
       "\n",
       "    .dataframe thead th {\n",
       "        text-align: right;\n",
       "    }\n",
       "</style>\n",
       "<table border=\"1\" class=\"dataframe\">\n",
       "  <thead>\n",
       "    <tr style=\"text-align: right;\">\n",
       "      <th>tobacco</th>\n",
       "      <th>1</th>\n",
       "      <th>2</th>\n",
       "      <th>98</th>\n",
       "      <th>All</th>\n",
       "    </tr>\n",
       "    <tr>\n",
       "      <th>icu</th>\n",
       "      <th></th>\n",
       "      <th></th>\n",
       "      <th></th>\n",
       "      <th></th>\n",
       "    </tr>\n",
       "  </thead>\n",
       "  <tbody>\n",
       "    <tr>\n",
       "      <th>1</th>\n",
       "      <td>867</td>\n",
       "      <td>9101</td>\n",
       "      <td>113</td>\n",
       "      <td>10081</td>\n",
       "    </tr>\n",
       "    <tr>\n",
       "      <th>2</th>\n",
       "      <td>9838</td>\n",
       "      <td>101037</td>\n",
       "      <td>524</td>\n",
       "      <td>111399</td>\n",
       "    </tr>\n",
       "    <tr>\n",
       "      <th>97</th>\n",
       "      <td>37261</td>\n",
       "      <td>405860</td>\n",
       "      <td>1258</td>\n",
       "      <td>444379</td>\n",
       "    </tr>\n",
       "    <tr>\n",
       "      <th>99</th>\n",
       "      <td>9</td>\n",
       "      <td>116</td>\n",
       "      <td>0</td>\n",
       "      <td>125</td>\n",
       "    </tr>\n",
       "    <tr>\n",
       "      <th>All</th>\n",
       "      <td>47975</td>\n",
       "      <td>516114</td>\n",
       "      <td>1895</td>\n",
       "      <td>565984</td>\n",
       "    </tr>\n",
       "  </tbody>\n",
       "</table>\n",
       "</div>"
      ],
      "text/plain": [
       "tobacco      1       2    98     All\n",
       "icu                                 \n",
       "1          867    9101   113   10081\n",
       "2         9838  101037   524  111399\n",
       "97       37261  405860  1258  444379\n",
       "99           9     116     0     125\n",
       "All      47975  516114  1895  565984"
      ]
     },
     "execution_count": 173,
     "metadata": {},
     "output_type": "execute_result"
    }
   ],
   "source": [
    "tobacco_byICU"
   ]
  },
  {
   "cell_type": "code",
   "execution_count": 174,
   "metadata": {},
   "outputs": [
    {
     "data": {
      "text/html": [
       "<div>\n",
       "<style scoped>\n",
       "    .dataframe tbody tr th:only-of-type {\n",
       "        vertical-align: middle;\n",
       "    }\n",
       "\n",
       "    .dataframe tbody tr th {\n",
       "        vertical-align: top;\n",
       "    }\n",
       "\n",
       "    .dataframe thead th {\n",
       "        text-align: right;\n",
       "    }\n",
       "</style>\n",
       "<table border=\"1\" class=\"dataframe\">\n",
       "  <thead>\n",
       "    <tr style=\"text-align: right;\">\n",
       "      <th>pregnancy</th>\n",
       "      <th>1</th>\n",
       "      <th>2</th>\n",
       "      <th>97</th>\n",
       "      <th>98</th>\n",
       "      <th>All</th>\n",
       "    </tr>\n",
       "    <tr>\n",
       "      <th>icu</th>\n",
       "      <th></th>\n",
       "      <th></th>\n",
       "      <th></th>\n",
       "      <th></th>\n",
       "      <th></th>\n",
       "    </tr>\n",
       "  </thead>\n",
       "  <tbody>\n",
       "    <tr>\n",
       "      <th>1</th>\n",
       "      <td>74</td>\n",
       "      <td>3502</td>\n",
       "      <td>6486</td>\n",
       "      <td>19</td>\n",
       "      <td>10081</td>\n",
       "    </tr>\n",
       "    <tr>\n",
       "      <th>2</th>\n",
       "      <td>995</td>\n",
       "      <td>43899</td>\n",
       "      <td>66358</td>\n",
       "      <td>147</td>\n",
       "      <td>111399</td>\n",
       "    </tr>\n",
       "    <tr>\n",
       "      <th>97</th>\n",
       "      <td>2992</td>\n",
       "      <td>226056</td>\n",
       "      <td>213915</td>\n",
       "      <td>1416</td>\n",
       "      <td>444379</td>\n",
       "    </tr>\n",
       "    <tr>\n",
       "      <th>99</th>\n",
       "      <td>2</td>\n",
       "      <td>51</td>\n",
       "      <td>72</td>\n",
       "      <td>0</td>\n",
       "      <td>125</td>\n",
       "    </tr>\n",
       "    <tr>\n",
       "      <th>All</th>\n",
       "      <td>4063</td>\n",
       "      <td>273508</td>\n",
       "      <td>286831</td>\n",
       "      <td>1582</td>\n",
       "      <td>565984</td>\n",
       "    </tr>\n",
       "  </tbody>\n",
       "</table>\n",
       "</div>"
      ],
      "text/plain": [
       "pregnancy     1       2      97    98     All\n",
       "icu                                          \n",
       "1            74    3502    6486    19   10081\n",
       "2           995   43899   66358   147  111399\n",
       "97         2992  226056  213915  1416  444379\n",
       "99            2      51      72     0     125\n",
       "All        4063  273508  286831  1582  565984"
      ]
     },
     "execution_count": 174,
     "metadata": {},
     "output_type": "execute_result"
    }
   ],
   "source": [
    "pregnancy_byICU"
   ]
  },
  {
   "cell_type": "markdown",
   "metadata": {},
   "source": [
    "## Inspecting relationship between diseases and ICU assignation - Overview General diseases"
   ]
  },
  {
   "cell_type": "code",
   "execution_count": 175,
   "metadata": {},
   "outputs": [
    {
     "data": {
      "image/png": "[encoded data removed]",
      "text/plain": [
       "<Figure size 1080x720 with 4 Axes>"
      ]
     },
     "metadata": {
      "needs_background": "light"
     },
     "output_type": "display_data"
    }
   ],
   "source": [
    "fig, axs = plt.subplots(2,2)\n",
    "cardiovascular_byICU = pd.crosstab(index=dataModel['icu'],\n",
    "            columns=dataOriginal['cardiovascular'], \n",
    "            margins=True)\n",
    "cardiovascular_byICU.plot(kind='bar',ax=axs[0,0], figsize=[15,10])\n",
    "plt.grid(color='gray', linestyle='--', linewidth=1)\n",
    "#plt.ylabel(\"Frequency\")\n",
    "#plt.title('Relationship between Asthma diagnostic and ICU assignation COVID')\n",
    "hypertension_byICU = pd.crosstab(index=dataModel['icu'],\n",
    "            columns=dataOriginal['hypertension'], \n",
    "            margins=True)\n",
    "asthma_byICU.plot(kind='bar',ax=axs[0,1])\n",
    "plt.grid(color='gray', linestyle='--', linewidth=1)\n",
    "#plt.ylabel(\"Frequency\")\n",
    "#plt.title('Relationship between Tobacco diagnostic and ICU assignation COVID')\n",
    "obesity_byICU = pd.crosstab(index=dataModel['icu'],\n",
    "            columns=dataOriginal['obesity'], \n",
    "            margins=True)\n",
    "obesity_byICU.plot(kind='bar',ax=axs[1,0])\n",
    "plt.grid(color='gray', linestyle='--', linewidth=1)\n",
    "#plt.ylabel(\"Frequency\")\n",
    "#plt.title('Relationship between Pregnancy diagnostic and ICU assignation COVID')\n",
    "obesity_byICU = pd.crosstab(index=dataModel['icu'],\n",
    "            columns=dataOriginal['obesity'], \n",
    "            margins=True)\n",
    "obesity_byICU.plot(kind='bar',ax=axs[1,1])\n",
    "plt.grid(color='gray', linestyle='--', linewidth=1)\n",
    "#plt.ylabel(\"Frequency\")\n",
    "#plt.title('Relationship between Pneumonia diagnostic and ICU assignation COVID')\n"
   ]
  },
  {
   "cell_type": "markdown",
   "metadata": {},
   "source": [
    "# 3.3.  Analysis variable quantitative vs qualitative"
   ]
  },
  {
   "cell_type": "code",
   "execution_count": 176,
   "metadata": {},
   "outputs": [
    {
     "data": {
      "text/plain": [
       "<seaborn.axisgrid.FacetGrid at 0x25197ea0208>"
      ]
     },
     "execution_count": 176,
     "metadata": {},
     "output_type": "execute_result"
    },
    {
     "data": {
      "image/png": "[encoded data removed]",
      "text/plain": [
       "<Figure size 360x360 with 1 Axes>"
      ]
     },
     "metadata": {
      "needs_background": "light"
     },
     "output_type": "display_data"
    }
   ],
   "source": [
    "sns.catplot(x=\"icu\", y=\"age\", kind=\"box\", data=dataModel)"
   ]
  },
  {
   "cell_type": "markdown",
   "metadata": {},
   "source": [
    "# 4.  Classes identification"
   ]
  },
  {
   "cell_type": "code",
   "execution_count": 177,
   "metadata": {},
   "outputs": [
    {
     "data": {
      "image/png": "[encoded data removed]",
      "text/plain": [
       "<Figure size 576x216 with 1 Axes>"
      ]
     },
     "metadata": {
      "needs_background": "light"
     },
     "output_type": "display_data"
    }
   ],
   "source": [
    "targetOriginal = dataModel['icu']\n",
    "E1 = targetOriginal.value_counts()\n",
    "E1.plot(kind = 'bar',\n",
    "           stacked = 'True',          # Muestra las barras apiladas\n",
    "           alpha = 0.4,               # nivel de transparencia\n",
    "           width = 0.9,               # Grosor de las barras para dejar espacio entre ellas\n",
    "           figsize=(8,3));\n",
    "\n",
    "plt.grid(color='gray', linestyle='--', linewidth=1)\n",
    "plt.title('Histogram of ICU variable')\n",
    "plt.xlabel(\"Result Type\")\n",
    "plt.ylabel(\"Frequency\")\n",
    "plt.show()\n",
    "\n"
   ]
  },
  {
   "cell_type": "code",
   "execution_count": 178,
   "metadata": {},
   "outputs": [
    {
     "data": {
      "text/html": [
       "<div>\n",
       "<style scoped>\n",
       "    .dataframe tbody tr th:only-of-type {\n",
       "        vertical-align: middle;\n",
       "    }\n",
       "\n",
       "    .dataframe tbody tr th {\n",
       "        vertical-align: top;\n",
       "    }\n",
       "\n",
       "    .dataframe thead th {\n",
       "        text-align: right;\n",
       "    }\n",
       "</style>\n",
       "<table border=\"1\" class=\"dataframe\">\n",
       "  <thead>\n",
       "    <tr style=\"text-align: right;\">\n",
       "      <th></th>\n",
       "      <th>CLAVE</th>\n",
       "      <th>DESCRIPCIÓN</th>\n",
       "    </tr>\n",
       "  </thead>\n",
       "  <tbody>\n",
       "    <tr>\n",
       "      <th>0</th>\n",
       "      <td>1</td>\n",
       "      <td>YES</td>\n",
       "    </tr>\n",
       "    <tr>\n",
       "      <th>1</th>\n",
       "      <td>2</td>\n",
       "      <td>NO</td>\n",
       "    </tr>\n",
       "    <tr>\n",
       "      <th>2</th>\n",
       "      <td>97</td>\n",
       "      <td>NaN</td>\n",
       "    </tr>\n",
       "    <tr>\n",
       "      <th>3</th>\n",
       "      <td>98</td>\n",
       "      <td>IGNORE</td>\n",
       "    </tr>\n",
       "    <tr>\n",
       "      <th>4</th>\n",
       "      <td>99</td>\n",
       "      <td>NOT SPECIFIED</td>\n",
       "    </tr>\n",
       "  </tbody>\n",
       "</table>\n",
       "</div>"
      ],
      "text/plain": [
       "   CLAVE    DESCRIPCIÓN\n",
       "0      1            YES\n",
       "1      2            NO \n",
       "2     97            NaN\n",
       "3     98         IGNORE\n",
       "4     99  NOT SPECIFIED"
      ]
     },
     "execution_count": 178,
     "metadata": {},
     "output_type": "execute_result"
    }
   ],
   "source": [
    "cat_si_no"
   ]
  },
  {
   "cell_type": "code",
   "execution_count": 179,
   "metadata": {},
   "outputs": [
    {
     "data": {
      "text/plain": [
       "97    444379\n",
       "2     111399\n",
       "1      10081\n",
       "99       125\n",
       "Name: icu, dtype: int64"
      ]
     },
     "execution_count": 179,
     "metadata": {},
     "output_type": "execute_result"
    }
   ],
   "source": [
    "E1"
   ]
  },
  {
   "cell_type": "markdown",
   "metadata": {},
   "source": [
    "## 3.2. Check the distribution or instances of any class"
   ]
  },
  {
   "cell_type": "code",
   "execution_count": 180,
   "metadata": {},
   "outputs": [
    {
     "data": {
      "text/html": [
       "<div>\n",
       "<style scoped>\n",
       "    .dataframe tbody tr th:only-of-type {\n",
       "        vertical-align: middle;\n",
       "    }\n",
       "\n",
       "    .dataframe tbody tr th {\n",
       "        vertical-align: top;\n",
       "    }\n",
       "\n",
       "    .dataframe thead th {\n",
       "        text-align: right;\n",
       "    }\n",
       "</style>\n",
       "<table border=\"1\" class=\"dataframe\">\n",
       "  <thead>\n",
       "    <tr style=\"text-align: right;\">\n",
       "      <th></th>\n",
       "      <th>icu</th>\n",
       "    </tr>\n",
       "  </thead>\n",
       "  <tbody>\n",
       "    <tr>\n",
       "      <th>97</th>\n",
       "      <td>444379</td>\n",
       "    </tr>\n",
       "    <tr>\n",
       "      <th>2</th>\n",
       "      <td>111399</td>\n",
       "    </tr>\n",
       "    <tr>\n",
       "      <th>1</th>\n",
       "      <td>10081</td>\n",
       "    </tr>\n",
       "    <tr>\n",
       "      <th>99</th>\n",
       "      <td>125</td>\n",
       "    </tr>\n",
       "  </tbody>\n",
       "</table>\n",
       "</div>"
      ],
      "text/plain": [
       "       icu\n",
       "97  444379\n",
       "2   111399\n",
       "1    10081\n",
       "99     125"
      ]
     },
     "execution_count": 180,
     "metadata": {},
     "output_type": "execute_result"
    }
   ],
   "source": [
    "pd.DataFrame(targetOriginal.value_counts())"
   ]
  },
  {
   "cell_type": "code",
   "execution_count": 181,
   "metadata": {},
   "outputs": [
    {
     "data": {
      "text/html": [
       "<div>\n",
       "<style scoped>\n",
       "    .dataframe tbody tr th:only-of-type {\n",
       "        vertical-align: middle;\n",
       "    }\n",
       "\n",
       "    .dataframe tbody tr th {\n",
       "        vertical-align: top;\n",
       "    }\n",
       "\n",
       "    .dataframe thead th {\n",
       "        text-align: right;\n",
       "    }\n",
       "</style>\n",
       "<table border=\"1\" class=\"dataframe\">\n",
       "  <thead>\n",
       "    <tr style=\"text-align: right;\">\n",
       "      <th></th>\n",
       "      <th>icu</th>\n",
       "    </tr>\n",
       "  </thead>\n",
       "  <tbody>\n",
       "    <tr>\n",
       "      <th>97</th>\n",
       "      <td>78.514410</td>\n",
       "    </tr>\n",
       "    <tr>\n",
       "      <th>2</th>\n",
       "      <td>19.682359</td>\n",
       "    </tr>\n",
       "    <tr>\n",
       "      <th>1</th>\n",
       "      <td>1.781146</td>\n",
       "    </tr>\n",
       "    <tr>\n",
       "      <th>99</th>\n",
       "      <td>0.022085</td>\n",
       "    </tr>\n",
       "  </tbody>\n",
       "</table>\n",
       "</div>"
      ],
      "text/plain": [
       "          icu\n",
       "97  78.514410\n",
       "2   19.682359\n",
       "1    1.781146\n",
       "99   0.022085"
      ]
     },
     "execution_count": 181,
     "metadata": {},
     "output_type": "execute_result"
    }
   ],
   "source": [
    "pd.DataFrame(targetOriginal.value_counts(normalize=True) * 100)"
   ]
  },
  {
   "cell_type": "code",
   "execution_count": 182,
   "metadata": {},
   "outputs": [
    {
     "data": {
      "image/png": "[encoded data removed]",
      "text/plain": [
       "<Figure size 432x432 with 1 Axes>"
      ]
     },
     "metadata": {},
     "output_type": "display_data"
    }
   ],
   "source": [
    "E2 = targetOriginal.value_counts(normalize=True)\n",
    "E2.plot.pie(subplots=True, figsize = (6,6), autopct = '%1.1f%%', startangle = 90)\n",
    "plt.title('Histogram of ICU results')\n",
    "plt.legend(E2.index, loc = 'upper left', fontsize = 10)\n",
    "plt.show() #ok\n"
   ]
  },
  {
   "cell_type": "markdown",
   "metadata": {},
   "source": [
    "#?? Sur tout les data ou seulement sur les donnes ou ilya ICU??"
   ]
  },
  {
   "cell_type": "markdown",
   "metadata": {},
   "source": [
    "# <font color=blue>4.  IMPUTATION AND DETECTION OF NULL AND ODD VALUES.</font>"
   ]
  },
  {
   "cell_type": "markdown",
   "metadata": {},
   "source": [
    "## Check for null values in the dataset"
   ]
  },
  {
   "cell_type": "code",
   "execution_count": 183,
   "metadata": {},
   "outputs": [
    {
     "data": {
      "text/plain": [
       "0"
      ]
     },
     "execution_count": 183,
     "metadata": {},
     "output_type": "execute_result"
    }
   ],
   "source": [
    "dataModel.isnull().values.sum()"
   ]
  },
  {
   "cell_type": "code",
   "execution_count": 184,
   "metadata": {},
   "outputs": [
    {
     "data": {
      "text/plain": [
       "0"
      ]
     },
     "execution_count": 184,
     "metadata": {},
     "output_type": "execute_result"
    }
   ],
   "source": [
    "dataModel.isnull().values.sum()"
   ]
  },
  {
   "cell_type": "markdown",
   "metadata": {},
   "source": [
    "# <font color=blue> 5.  CORRELATION ANALYSIS</font>"
   ]
  },
  {
   "cell_type": "markdown",
   "metadata": {},
   "source": [
    "## 5.1 Correlation Matrix"
   ]
  },
  {
   "cell_type": "raw",
   "metadata": {},
   "source": [
    "All the maladies are really corelated, for example:\n",
    "\n",
    "- Renal_chronic vs Tobacco\n",
    "- Asthma et tobaccon are highly corelated to all diseases.\n",
    "\n",
    "#The default correlation Algorithme user is Pearson, which its not appropiate for categorical \n",
    "#variables but its interesting to see  its able to detect  dependent variables detected with Chi-squared too."
   ]
  },
  {
   "cell_type": "markdown",
   "metadata": {},
   "source": [
    "# <font color=\"blue\">6.  VARIABLE REDUCTION</font>\n",
    "\n",
    "https://machinelearningmastery.com/feature-selection-with-real-and-categorical-data/\n",
    "\n",
    "<font color=\"red\"> Jai essaie Variance Tresholding, normalisation et standarisation, mais ca marche pas pour notre cas.<font>\n"
   ]
  },
  {
   "cell_type": "raw",
   "metadata": {},
   "source": [
    "the degree of association between predictor and outcome can be measured with statistics such as X2 (chi-squared) tests."
   ]
  },
  {
   "cell_type": "markdown",
   "metadata": {},
   "source": [
    "# 6.2.  Chi-Squared Feature Selection"
   ]
  },
  {
   "cell_type": "markdown",
   "metadata": {},
   "source": [
    "Pearson’s chi-squared statistical hypothesis test is an example of a test for independence between categorical variables\n",
    "\n",
    "The degree of association between predictor and outcome can be measured with statistics such as X2 (chi-squared) tests.\n"
   ]
  },
  {
   "cell_type": "markdown",
   "metadata": {},
   "source": [
    "1.Define Hypothesis\n",
    "Null Hypothesis (H0): Two variables are independent.\n",
    "Alternate Hypothesis (H1): Two variables are not independent."
   ]
  },
  {
   "cell_type": "raw",
   "metadata": {},
   "source": [
    "https://towardsdatascience.com/the-search-for-categorical-correlation-a1cf7f1888c9\n",
    "https://towardsdatascience.com/categorical-feature-selection-via-chi-square-fc558b09de43\n",
    "https://towardsdatascience.com/feature-selection-with-pandas-e3690ad8504b\n",
    "https://towardsdatascience.com/the-search-for-categorical-correlation-a1cf7f1888c9\n"
   ]
  },
  {
   "cell_type": "code",
   "execution_count": 185,
   "metadata": {},
   "outputs": [],
   "source": [
    "dataOriginal.loc[dataOriginal['icu'] == 97, 'icu2'] = 2\n",
    "dataOriginal.loc[dataOriginal['icu'] == 98, 'icu2'] = 2\n",
    "dataOriginal.loc[dataOriginal['icu'] == 99, 'icu2'] = 2\n",
    "dataOriginal.loc[dataOriginal['icu'] == 1, 'icu2'] = 1\n",
    "dataOriginal.loc[dataOriginal['icu'] == 2, 'icu2'] = 2"
   ]
  },
  {
   "cell_type": "code",
   "execution_count": 186,
   "metadata": {},
   "outputs": [
    {
     "data": {
      "text/html": [
       "<div>\n",
       "<style scoped>\n",
       "    .dataframe tbody tr th:only-of-type {\n",
       "        vertical-align: middle;\n",
       "    }\n",
       "\n",
       "    .dataframe tbody tr th {\n",
       "        vertical-align: top;\n",
       "    }\n",
       "\n",
       "    .dataframe thead th {\n",
       "        text-align: right;\n",
       "    }\n",
       "</style>\n",
       "<table border=\"1\" class=\"dataframe\">\n",
       "  <thead>\n",
       "    <tr style=\"text-align: right;\">\n",
       "      <th></th>\n",
       "      <th>id</th>\n",
       "      <th>sex</th>\n",
       "      <th>patient_type</th>\n",
       "      <th>entry_date</th>\n",
       "      <th>date_symptoms</th>\n",
       "      <th>date_died</th>\n",
       "      <th>intubed</th>\n",
       "      <th>pneumonia</th>\n",
       "      <th>age</th>\n",
       "      <th>pregnancy</th>\n",
       "      <th>...</th>\n",
       "      <th>hypertension</th>\n",
       "      <th>other_disease</th>\n",
       "      <th>cardiovascular</th>\n",
       "      <th>obesity</th>\n",
       "      <th>renal_chronic</th>\n",
       "      <th>tobacco</th>\n",
       "      <th>contact_other_covid</th>\n",
       "      <th>covid_res</th>\n",
       "      <th>icu</th>\n",
       "      <th>icu2</th>\n",
       "    </tr>\n",
       "  </thead>\n",
       "  <tbody>\n",
       "    <tr>\n",
       "      <th>0</th>\n",
       "      <td>16169f</td>\n",
       "      <td>2</td>\n",
       "      <td>1</td>\n",
       "      <td>04-05-2020</td>\n",
       "      <td>02-05-2020</td>\n",
       "      <td>9999-99-99</td>\n",
       "      <td>97</td>\n",
       "      <td>2</td>\n",
       "      <td>27</td>\n",
       "      <td>97</td>\n",
       "      <td>...</td>\n",
       "      <td>2</td>\n",
       "      <td>2</td>\n",
       "      <td>2</td>\n",
       "      <td>2</td>\n",
       "      <td>2</td>\n",
       "      <td>2</td>\n",
       "      <td>2</td>\n",
       "      <td>1</td>\n",
       "      <td>97</td>\n",
       "      <td>2.0</td>\n",
       "    </tr>\n",
       "    <tr>\n",
       "      <th>1</th>\n",
       "      <td>1009bf</td>\n",
       "      <td>2</td>\n",
       "      <td>1</td>\n",
       "      <td>19-03-2020</td>\n",
       "      <td>17-03-2020</td>\n",
       "      <td>9999-99-99</td>\n",
       "      <td>97</td>\n",
       "      <td>2</td>\n",
       "      <td>24</td>\n",
       "      <td>97</td>\n",
       "      <td>...</td>\n",
       "      <td>2</td>\n",
       "      <td>2</td>\n",
       "      <td>2</td>\n",
       "      <td>2</td>\n",
       "      <td>2</td>\n",
       "      <td>2</td>\n",
       "      <td>99</td>\n",
       "      <td>1</td>\n",
       "      <td>97</td>\n",
       "      <td>2.0</td>\n",
       "    </tr>\n",
       "    <tr>\n",
       "      <th>2</th>\n",
       "      <td>167386</td>\n",
       "      <td>1</td>\n",
       "      <td>2</td>\n",
       "      <td>06-04-2020</td>\n",
       "      <td>01-04-2020</td>\n",
       "      <td>9999-99-99</td>\n",
       "      <td>2</td>\n",
       "      <td>2</td>\n",
       "      <td>54</td>\n",
       "      <td>2</td>\n",
       "      <td>...</td>\n",
       "      <td>2</td>\n",
       "      <td>2</td>\n",
       "      <td>2</td>\n",
       "      <td>1</td>\n",
       "      <td>2</td>\n",
       "      <td>2</td>\n",
       "      <td>99</td>\n",
       "      <td>1</td>\n",
       "      <td>2</td>\n",
       "      <td>2.0</td>\n",
       "    </tr>\n",
       "    <tr>\n",
       "      <th>3</th>\n",
       "      <td>0b5948</td>\n",
       "      <td>2</td>\n",
       "      <td>2</td>\n",
       "      <td>17-04-2020</td>\n",
       "      <td>10-04-2020</td>\n",
       "      <td>9999-99-99</td>\n",
       "      <td>2</td>\n",
       "      <td>1</td>\n",
       "      <td>30</td>\n",
       "      <td>97</td>\n",
       "      <td>...</td>\n",
       "      <td>2</td>\n",
       "      <td>2</td>\n",
       "      <td>2</td>\n",
       "      <td>2</td>\n",
       "      <td>2</td>\n",
       "      <td>2</td>\n",
       "      <td>99</td>\n",
       "      <td>1</td>\n",
       "      <td>2</td>\n",
       "      <td>2.0</td>\n",
       "    </tr>\n",
       "    <tr>\n",
       "      <th>4</th>\n",
       "      <td>0d01b5</td>\n",
       "      <td>1</td>\n",
       "      <td>2</td>\n",
       "      <td>13-04-2020</td>\n",
       "      <td>13-04-2020</td>\n",
       "      <td>22-04-2020</td>\n",
       "      <td>2</td>\n",
       "      <td>2</td>\n",
       "      <td>60</td>\n",
       "      <td>2</td>\n",
       "      <td>...</td>\n",
       "      <td>1</td>\n",
       "      <td>2</td>\n",
       "      <td>1</td>\n",
       "      <td>2</td>\n",
       "      <td>2</td>\n",
       "      <td>2</td>\n",
       "      <td>99</td>\n",
       "      <td>1</td>\n",
       "      <td>2</td>\n",
       "      <td>2.0</td>\n",
       "    </tr>\n",
       "  </tbody>\n",
       "</table>\n",
       "<p>5 rows × 24 columns</p>\n",
       "</div>"
      ],
      "text/plain": [
       "       id  sex  patient_type  entry_date date_symptoms   date_died  intubed  \\\n",
       "0  16169f    2             1  04-05-2020    02-05-2020  9999-99-99       97   \n",
       "1  1009bf    2             1  19-03-2020    17-03-2020  9999-99-99       97   \n",
       "2  167386    1             2  06-04-2020    01-04-2020  9999-99-99        2   \n",
       "3  0b5948    2             2  17-04-2020    10-04-2020  9999-99-99        2   \n",
       "4  0d01b5    1             2  13-04-2020    13-04-2020  22-04-2020        2   \n",
       "\n",
       "   pneumonia  age  pregnancy  ...  hypertension  other_disease  \\\n",
       "0          2   27         97  ...             2              2   \n",
       "1          2   24         97  ...             2              2   \n",
       "2          2   54          2  ...             2              2   \n",
       "3          1   30         97  ...             2              2   \n",
       "4          2   60          2  ...             1              2   \n",
       "\n",
       "   cardiovascular  obesity  renal_chronic  tobacco  contact_other_covid  \\\n",
       "0               2        2              2        2                    2   \n",
       "1               2        2              2        2                   99   \n",
       "2               2        1              2        2                   99   \n",
       "3               2        2              2        2                   99   \n",
       "4               1        2              2        2                   99   \n",
       "\n",
       "   covid_res  icu  icu2  \n",
       "0          1   97   2.0  \n",
       "1          1   97   2.0  \n",
       "2          1    2   2.0  \n",
       "3          1    2   2.0  \n",
       "4          1    2   2.0  \n",
       "\n",
       "[5 rows x 24 columns]"
      ]
     },
     "execution_count": 186,
     "metadata": {},
     "output_type": "execute_result"
    }
   ],
   "source": [
    "dataOriginal.head(5)"
   ]
  },
  {
   "cell_type": "code",
   "execution_count": 187,
   "metadata": {},
   "outputs": [],
   "source": [
    "target_column= 'icu2'\n",
    "\n",
    "model_columns = ['sex', 'patient_type',\n",
    "              'intubed','pneumonia','age','pregnancy','diabetes','copd','asthma','inmsupr','hypertension',\n",
    "              'other_disease','cardiovascular','obesity','renal_chronic','tobacco',\n",
    "              'contact_other_covid','covid_res', target_column]\n",
    "\n"
   ]
  },
  {
   "cell_type": "code",
   "execution_count": 188,
   "metadata": {},
   "outputs": [
    {
     "data": {
      "text/plain": [
       "0.085"
      ]
     },
     "execution_count": 188,
     "metadata": {},
     "output_type": "execute_result"
    }
   ],
   "source": [
    "import scipy.stats as ss #import chi2_contingency\n",
    "\n",
    "\n",
    "def cramers_v(x, y):\n",
    "    confusion_matrix = pd.crosstab(x,y)\n",
    "    chi2 = ss.chi2_contingency(confusion_matrix)[0]\n",
    "    n = confusion_matrix.sum().sum()\n",
    "    phi2 = chi2/n\n",
    "    r,k = confusion_matrix.shape\n",
    "    phi2corr = max(0, phi2-((k-1)*(r-1))/(n-1))\n",
    "    rcorr = r-((r-1)**2)/(n-1)\n",
    "    kcorr = k-((k-1)**2)/(n-1)\n",
    "    return round(np.sqrt(phi2corr/min((kcorr-1),(rcorr-1))),3)\n",
    "\n",
    "\n",
    "cramers_v(dataModel['pneumonia'], dataModel['sex'])\n"
   ]
  },
  {
   "cell_type": "code",
   "execution_count": 189,
   "metadata": {},
   "outputs": [
    {
     "data": {
      "text/plain": [
       "0.594"
      ]
     },
     "execution_count": 189,
     "metadata": {},
     "output_type": "execute_result"
    }
   ],
   "source": [
    "\n",
    "cramers_v(dataModel['hypertension'], dataModel['obesity'])"
   ]
  },
  {
   "cell_type": "code",
   "execution_count": 190,
   "metadata": {},
   "outputs": [
    {
     "data": {
      "text/plain": [
       "['sex',\n",
       " 'patient_type',\n",
       " 'intubed',\n",
       " 'pneumonia',\n",
       " 'age',\n",
       " 'pregnancy',\n",
       " 'diabetes',\n",
       " 'copd',\n",
       " 'asthma',\n",
       " 'inmsupr',\n",
       " 'hypertension',\n",
       " 'other_disease',\n",
       " 'cardiovascular',\n",
       " 'obesity',\n",
       " 'renal_chronic',\n",
       " 'tobacco',\n",
       " 'contact_other_covid',\n",
       " 'covid_res',\n",
       " 'icu2']"
      ]
     },
     "execution_count": 190,
     "metadata": {},
     "output_type": "execute_result"
    }
   ],
   "source": [
    "model_columns"
   ]
  },
  {
   "cell_type": "code",
   "execution_count": 191,
   "metadata": {},
   "outputs": [
    {
     "name": "stderr",
     "output_type": "stream",
     "text": [
      "C:\\Users\\valm044\\Anaconda3\\lib\\site-packages\\ipykernel_launcher.py:1: SettingWithCopyWarning: \n",
      "A value is trying to be set on a copy of a slice from a DataFrame.\n",
      "Try using .loc[row_indexer,col_indexer] = value instead\n",
      "\n",
      "See the caveats in the documentation: https://pandas.pydata.org/pandas-docs/stable/user_guide/indexing.html#returning-a-view-versus-a-copy\n",
      "  \"\"\"Entry point for launching an IPython kernel.\n"
     ]
    }
   ],
   "source": [
    "dataModel['icu2'] = dataOriginal['icu2']"
   ]
  },
  {
   "cell_type": "code",
   "execution_count": 192,
   "metadata": {},
   "outputs": [
    {
     "data": {
      "text/html": [
       "<div>\n",
       "<style scoped>\n",
       "    .dataframe tbody tr th:only-of-type {\n",
       "        vertical-align: middle;\n",
       "    }\n",
       "\n",
       "    .dataframe tbody tr th {\n",
       "        vertical-align: top;\n",
       "    }\n",
       "\n",
       "    .dataframe thead th {\n",
       "        text-align: right;\n",
       "    }\n",
       "</style>\n",
       "<table border=\"1\" class=\"dataframe\">\n",
       "  <thead>\n",
       "    <tr style=\"text-align: right;\">\n",
       "      <th></th>\n",
       "      <th>sex</th>\n",
       "      <th>patient_type</th>\n",
       "      <th>intubed</th>\n",
       "      <th>pneumonia</th>\n",
       "      <th>age</th>\n",
       "      <th>pregnancy</th>\n",
       "      <th>diabetes</th>\n",
       "      <th>copd</th>\n",
       "      <th>asthma</th>\n",
       "      <th>inmsupr</th>\n",
       "      <th>hypertension</th>\n",
       "      <th>other_disease</th>\n",
       "      <th>cardiovascular</th>\n",
       "      <th>obesity</th>\n",
       "      <th>renal_chronic</th>\n",
       "      <th>tobacco</th>\n",
       "      <th>contact_other_covid</th>\n",
       "      <th>covid_res</th>\n",
       "      <th>icu2</th>\n",
       "    </tr>\n",
       "  </thead>\n",
       "  <tbody>\n",
       "    <tr>\n",
       "      <th>sex</th>\n",
       "      <td>1.0</td>\n",
       "      <td>0.097</td>\n",
       "      <td>0.098</td>\n",
       "      <td>0.085</td>\n",
       "      <td>0.054</td>\n",
       "      <td>1.0</td>\n",
       "      <td>0.018</td>\n",
       "      <td>0.011</td>\n",
       "      <td>0.047</td>\n",
       "      <td>0.011</td>\n",
       "      <td>0.013</td>\n",
       "      <td>0.027</td>\n",
       "      <td>0.014</td>\n",
       "      <td>0.021</td>\n",
       "      <td>0.018</td>\n",
       "      <td>0.104</td>\n",
       "      <td>0.049</td>\n",
       "      <td>0.068</td>\n",
       "      <td>0.037</td>\n",
       "    </tr>\n",
       "    <tr>\n",
       "      <th>patient_type</th>\n",
       "      <td>0.097</td>\n",
       "      <td>1.0</td>\n",
       "      <td>1.0</td>\n",
       "      <td>0.649</td>\n",
       "      <td>0.405</td>\n",
       "      <td>0.099</td>\n",
       "      <td>0.264</td>\n",
       "      <td>0.121</td>\n",
       "      <td>0.024</td>\n",
       "      <td>0.098</td>\n",
       "      <td>0.238</td>\n",
       "      <td>0.096</td>\n",
       "      <td>0.104</td>\n",
       "      <td>0.065</td>\n",
       "      <td>0.15</td>\n",
       "      <td>0.018</td>\n",
       "      <td>0.286</td>\n",
       "      <td>0.192</td>\n",
       "      <td>0.257</td>\n",
       "    </tr>\n",
       "    <tr>\n",
       "      <th>intubed</th>\n",
       "      <td>0.098</td>\n",
       "      <td>1.0</td>\n",
       "      <td>1.0</td>\n",
       "      <td>0.467</td>\n",
       "      <td>0.235</td>\n",
       "      <td>0.058</td>\n",
       "      <td>0.188</td>\n",
       "      <td>0.088</td>\n",
       "      <td>0.028</td>\n",
       "      <td>0.073</td>\n",
       "      <td>0.17</td>\n",
       "      <td>0.072</td>\n",
       "      <td>0.077</td>\n",
       "      <td>0.052</td>\n",
       "      <td>0.108</td>\n",
       "      <td>0.025</td>\n",
       "      <td>0.213</td>\n",
       "      <td>0.137</td>\n",
       "      <td>0.509</td>\n",
       "    </tr>\n",
       "    <tr>\n",
       "      <th>pneumonia</th>\n",
       "      <td>0.085</td>\n",
       "      <td>0.649</td>\n",
       "      <td>0.467</td>\n",
       "      <td>1.0</td>\n",
       "      <td>0.227</td>\n",
       "      <td>0.061</td>\n",
       "      <td>0.155</td>\n",
       "      <td>0.067</td>\n",
       "      <td>0.015</td>\n",
       "      <td>0.048</td>\n",
       "      <td>0.136</td>\n",
       "      <td>0.042</td>\n",
       "      <td>0.058</td>\n",
       "      <td>0.051</td>\n",
       "      <td>0.075</td>\n",
       "      <td>0.014</td>\n",
       "      <td>0.132</td>\n",
       "      <td>0.135</td>\n",
       "      <td>0.251</td>\n",
       "    </tr>\n",
       "    <tr>\n",
       "      <th>age</th>\n",
       "      <td>0.054</td>\n",
       "      <td>0.405</td>\n",
       "      <td>0.235</td>\n",
       "      <td>0.227</td>\n",
       "      <td>1.0</td>\n",
       "      <td>0.067</td>\n",
       "      <td>0.255</td>\n",
       "      <td>0.155</td>\n",
       "      <td>0.028</td>\n",
       "      <td>0.052</td>\n",
       "      <td>0.294</td>\n",
       "      <td>0.055</td>\n",
       "      <td>0.122</td>\n",
       "      <td>0.091</td>\n",
       "      <td>0.085</td>\n",
       "      <td>0.05</td>\n",
       "      <td>0.122</td>\n",
       "      <td>0.118</td>\n",
       "      <td>0.145</td>\n",
       "    </tr>\n",
       "    <tr>\n",
       "      <th>pregnancy</th>\n",
       "      <td>1.0</td>\n",
       "      <td>0.099</td>\n",
       "      <td>0.058</td>\n",
       "      <td>0.061</td>\n",
       "      <td>0.067</td>\n",
       "      <td>1.0</td>\n",
       "      <td>0.058</td>\n",
       "      <td>0.059</td>\n",
       "      <td>0.068</td>\n",
       "      <td>0.056</td>\n",
       "      <td>0.061</td>\n",
       "      <td>0.053</td>\n",
       "      <td>0.058</td>\n",
       "      <td>0.06</td>\n",
       "      <td>0.058</td>\n",
       "      <td>0.091</td>\n",
       "      <td>0.041</td>\n",
       "      <td>0.049</td>\n",
       "      <td>0.037</td>\n",
       "    </tr>\n",
       "    <tr>\n",
       "      <th>diabetes</th>\n",
       "      <td>0.018</td>\n",
       "      <td>0.264</td>\n",
       "      <td>0.188</td>\n",
       "      <td>0.155</td>\n",
       "      <td>0.255</td>\n",
       "      <td>0.058</td>\n",
       "      <td>1.0</td>\n",
       "      <td>0.598</td>\n",
       "      <td>0.598</td>\n",
       "      <td>0.564</td>\n",
       "      <td>0.656</td>\n",
       "      <td>0.488</td>\n",
       "      <td>0.587</td>\n",
       "      <td>0.549</td>\n",
       "      <td>0.591</td>\n",
       "      <td>0.551</td>\n",
       "      <td>0.078</td>\n",
       "      <td>0.071</td>\n",
       "      <td>0.076</td>\n",
       "    </tr>\n",
       "    <tr>\n",
       "      <th>copd</th>\n",
       "      <td>0.011</td>\n",
       "      <td>0.121</td>\n",
       "      <td>0.088</td>\n",
       "      <td>0.067</td>\n",
       "      <td>0.155</td>\n",
       "      <td>0.059</td>\n",
       "      <td>0.598</td>\n",
       "      <td>1.0</td>\n",
       "      <td>0.653</td>\n",
       "      <td>0.615</td>\n",
       "      <td>0.624</td>\n",
       "      <td>0.53</td>\n",
       "      <td>0.637</td>\n",
       "      <td>0.587</td>\n",
       "      <td>0.631</td>\n",
       "      <td>0.599</td>\n",
       "      <td>0.041</td>\n",
       "      <td>0.012</td>\n",
       "      <td>0.03</td>\n",
       "    </tr>\n",
       "    <tr>\n",
       "      <th>asthma</th>\n",
       "      <td>0.047</td>\n",
       "      <td>0.024</td>\n",
       "      <td>0.028</td>\n",
       "      <td>0.015</td>\n",
       "      <td>0.028</td>\n",
       "      <td>0.068</td>\n",
       "      <td>0.598</td>\n",
       "      <td>0.653</td>\n",
       "      <td>1.0</td>\n",
       "      <td>0.627</td>\n",
       "      <td>0.626</td>\n",
       "      <td>0.535</td>\n",
       "      <td>0.641</td>\n",
       "      <td>0.595</td>\n",
       "      <td>0.638</td>\n",
       "      <td>0.605</td>\n",
       "      <td>0.017</td>\n",
       "      <td>0.02</td>\n",
       "      <td>0.021</td>\n",
       "    </tr>\n",
       "    <tr>\n",
       "      <th>inmsupr</th>\n",
       "      <td>0.011</td>\n",
       "      <td>0.098</td>\n",
       "      <td>0.073</td>\n",
       "      <td>0.048</td>\n",
       "      <td>0.052</td>\n",
       "      <td>0.056</td>\n",
       "      <td>0.564</td>\n",
       "      <td>0.615</td>\n",
       "      <td>0.627</td>\n",
       "      <td>1.0</td>\n",
       "      <td>0.6</td>\n",
       "      <td>0.575</td>\n",
       "      <td>0.619</td>\n",
       "      <td>0.57</td>\n",
       "      <td>0.618</td>\n",
       "      <td>0.581</td>\n",
       "      <td>0.034</td>\n",
       "      <td>0.015</td>\n",
       "      <td>0.038</td>\n",
       "    </tr>\n",
       "    <tr>\n",
       "      <th>hypertension</th>\n",
       "      <td>0.013</td>\n",
       "      <td>0.238</td>\n",
       "      <td>0.17</td>\n",
       "      <td>0.136</td>\n",
       "      <td>0.294</td>\n",
       "      <td>0.061</td>\n",
       "      <td>0.656</td>\n",
       "      <td>0.624</td>\n",
       "      <td>0.626</td>\n",
       "      <td>0.6</td>\n",
       "      <td>1.0</td>\n",
       "      <td>0.522</td>\n",
       "      <td>0.634</td>\n",
       "      <td>0.594</td>\n",
       "      <td>0.632</td>\n",
       "      <td>0.586</td>\n",
       "      <td>0.08</td>\n",
       "      <td>0.062</td>\n",
       "      <td>0.061</td>\n",
       "    </tr>\n",
       "    <tr>\n",
       "      <th>other_disease</th>\n",
       "      <td>0.027</td>\n",
       "      <td>0.096</td>\n",
       "      <td>0.072</td>\n",
       "      <td>0.042</td>\n",
       "      <td>0.055</td>\n",
       "      <td>0.053</td>\n",
       "      <td>0.488</td>\n",
       "      <td>0.53</td>\n",
       "      <td>0.535</td>\n",
       "      <td>0.575</td>\n",
       "      <td>0.522</td>\n",
       "      <td>1.0</td>\n",
       "      <td>0.552</td>\n",
       "      <td>0.502</td>\n",
       "      <td>0.54</td>\n",
       "      <td>0.512</td>\n",
       "      <td>0.092</td>\n",
       "      <td>0.014</td>\n",
       "      <td>0.034</td>\n",
       "    </tr>\n",
       "    <tr>\n",
       "      <th>cardiovascular</th>\n",
       "      <td>0.014</td>\n",
       "      <td>0.104</td>\n",
       "      <td>0.077</td>\n",
       "      <td>0.058</td>\n",
       "      <td>0.122</td>\n",
       "      <td>0.058</td>\n",
       "      <td>0.587</td>\n",
       "      <td>0.637</td>\n",
       "      <td>0.641</td>\n",
       "      <td>0.619</td>\n",
       "      <td>0.634</td>\n",
       "      <td>0.552</td>\n",
       "      <td>1.0</td>\n",
       "      <td>0.6</td>\n",
       "      <td>0.653</td>\n",
       "      <td>0.612</td>\n",
       "      <td>0.029</td>\n",
       "      <td>0.011</td>\n",
       "      <td>0.04</td>\n",
       "    </tr>\n",
       "    <tr>\n",
       "      <th>obesity</th>\n",
       "      <td>0.021</td>\n",
       "      <td>0.065</td>\n",
       "      <td>0.052</td>\n",
       "      <td>0.051</td>\n",
       "      <td>0.091</td>\n",
       "      <td>0.06</td>\n",
       "      <td>0.549</td>\n",
       "      <td>0.587</td>\n",
       "      <td>0.595</td>\n",
       "      <td>0.57</td>\n",
       "      <td>0.594</td>\n",
       "      <td>0.502</td>\n",
       "      <td>0.6</td>\n",
       "      <td>1.0</td>\n",
       "      <td>0.603</td>\n",
       "      <td>0.579</td>\n",
       "      <td>0.019</td>\n",
       "      <td>0.053</td>\n",
       "      <td>0.037</td>\n",
       "    </tr>\n",
       "    <tr>\n",
       "      <th>renal_chronic</th>\n",
       "      <td>0.018</td>\n",
       "      <td>0.15</td>\n",
       "      <td>0.108</td>\n",
       "      <td>0.075</td>\n",
       "      <td>0.085</td>\n",
       "      <td>0.058</td>\n",
       "      <td>0.591</td>\n",
       "      <td>0.631</td>\n",
       "      <td>0.638</td>\n",
       "      <td>0.618</td>\n",
       "      <td>0.632</td>\n",
       "      <td>0.54</td>\n",
       "      <td>0.653</td>\n",
       "      <td>0.603</td>\n",
       "      <td>1.0</td>\n",
       "      <td>0.615</td>\n",
       "      <td>0.051</td>\n",
       "      <td>0.012</td>\n",
       "      <td>0.035</td>\n",
       "    </tr>\n",
       "    <tr>\n",
       "      <th>tobacco</th>\n",
       "      <td>0.104</td>\n",
       "      <td>0.018</td>\n",
       "      <td>0.025</td>\n",
       "      <td>0.014</td>\n",
       "      <td>0.05</td>\n",
       "      <td>0.091</td>\n",
       "      <td>0.551</td>\n",
       "      <td>0.599</td>\n",
       "      <td>0.605</td>\n",
       "      <td>0.581</td>\n",
       "      <td>0.586</td>\n",
       "      <td>0.512</td>\n",
       "      <td>0.612</td>\n",
       "      <td>0.579</td>\n",
       "      <td>0.615</td>\n",
       "      <td>1.0</td>\n",
       "      <td>0.013</td>\n",
       "      <td>0.022</td>\n",
       "      <td>0.018</td>\n",
       "    </tr>\n",
       "    <tr>\n",
       "      <th>contact_other_covid</th>\n",
       "      <td>0.049</td>\n",
       "      <td>0.286</td>\n",
       "      <td>0.213</td>\n",
       "      <td>0.132</td>\n",
       "      <td>0.122</td>\n",
       "      <td>0.041</td>\n",
       "      <td>0.078</td>\n",
       "      <td>0.041</td>\n",
       "      <td>0.017</td>\n",
       "      <td>0.034</td>\n",
       "      <td>0.08</td>\n",
       "      <td>0.092</td>\n",
       "      <td>0.029</td>\n",
       "      <td>0.019</td>\n",
       "      <td>0.051</td>\n",
       "      <td>0.013</td>\n",
       "      <td>1.0</td>\n",
       "      <td>0.084</td>\n",
       "      <td>0.077</td>\n",
       "    </tr>\n",
       "    <tr>\n",
       "      <th>covid_res</th>\n",
       "      <td>0.068</td>\n",
       "      <td>0.192</td>\n",
       "      <td>0.137</td>\n",
       "      <td>0.135</td>\n",
       "      <td>0.118</td>\n",
       "      <td>0.049</td>\n",
       "      <td>0.071</td>\n",
       "      <td>0.012</td>\n",
       "      <td>0.02</td>\n",
       "      <td>0.015</td>\n",
       "      <td>0.062</td>\n",
       "      <td>0.014</td>\n",
       "      <td>0.011</td>\n",
       "      <td>0.053</td>\n",
       "      <td>0.012</td>\n",
       "      <td>0.022</td>\n",
       "      <td>0.084</td>\n",
       "      <td>1.0</td>\n",
       "      <td>0.053</td>\n",
       "    </tr>\n",
       "    <tr>\n",
       "      <th>icu2</th>\n",
       "      <td>0.037</td>\n",
       "      <td>0.257</td>\n",
       "      <td>0.509</td>\n",
       "      <td>0.251</td>\n",
       "      <td>0.145</td>\n",
       "      <td>0.037</td>\n",
       "      <td>0.076</td>\n",
       "      <td>0.03</td>\n",
       "      <td>0.021</td>\n",
       "      <td>0.038</td>\n",
       "      <td>0.061</td>\n",
       "      <td>0.034</td>\n",
       "      <td>0.04</td>\n",
       "      <td>0.037</td>\n",
       "      <td>0.035</td>\n",
       "      <td>0.018</td>\n",
       "      <td>0.077</td>\n",
       "      <td>0.053</td>\n",
       "      <td>1.0</td>\n",
       "    </tr>\n",
       "  </tbody>\n",
       "</table>\n",
       "</div>"
      ],
      "text/plain": [
       "                       sex patient_type intubed pneumonia    age pregnancy  \\\n",
       "sex                    1.0        0.097   0.098     0.085  0.054       1.0   \n",
       "patient_type         0.097          1.0     1.0     0.649  0.405     0.099   \n",
       "intubed              0.098          1.0     1.0     0.467  0.235     0.058   \n",
       "pneumonia            0.085        0.649   0.467       1.0  0.227     0.061   \n",
       "age                  0.054        0.405   0.235     0.227    1.0     0.067   \n",
       "pregnancy              1.0        0.099   0.058     0.061  0.067       1.0   \n",
       "diabetes             0.018        0.264   0.188     0.155  0.255     0.058   \n",
       "copd                 0.011        0.121   0.088     0.067  0.155     0.059   \n",
       "asthma               0.047        0.024   0.028     0.015  0.028     0.068   \n",
       "inmsupr              0.011        0.098   0.073     0.048  0.052     0.056   \n",
       "hypertension         0.013        0.238    0.17     0.136  0.294     0.061   \n",
       "other_disease        0.027        0.096   0.072     0.042  0.055     0.053   \n",
       "cardiovascular       0.014        0.104   0.077     0.058  0.122     0.058   \n",
       "obesity              0.021        0.065   0.052     0.051  0.091      0.06   \n",
       "renal_chronic        0.018         0.15   0.108     0.075  0.085     0.058   \n",
       "tobacco              0.104        0.018   0.025     0.014   0.05     0.091   \n",
       "contact_other_covid  0.049        0.286   0.213     0.132  0.122     0.041   \n",
       "covid_res            0.068        0.192   0.137     0.135  0.118     0.049   \n",
       "icu2                 0.037        0.257   0.509     0.251  0.145     0.037   \n",
       "\n",
       "                    diabetes   copd asthma inmsupr hypertension other_disease  \\\n",
       "sex                    0.018  0.011  0.047   0.011        0.013         0.027   \n",
       "patient_type           0.264  0.121  0.024   0.098        0.238         0.096   \n",
       "intubed                0.188  0.088  0.028   0.073         0.17         0.072   \n",
       "pneumonia              0.155  0.067  0.015   0.048        0.136         0.042   \n",
       "age                    0.255  0.155  0.028   0.052        0.294         0.055   \n",
       "pregnancy              0.058  0.059  0.068   0.056        0.061         0.053   \n",
       "diabetes                 1.0  0.598  0.598   0.564        0.656         0.488   \n",
       "copd                   0.598    1.0  0.653   0.615        0.624          0.53   \n",
       "asthma                 0.598  0.653    1.0   0.627        0.626         0.535   \n",
       "inmsupr                0.564  0.615  0.627     1.0          0.6         0.575   \n",
       "hypertension           0.656  0.624  0.626     0.6          1.0         0.522   \n",
       "other_disease          0.488   0.53  0.535   0.575        0.522           1.0   \n",
       "cardiovascular         0.587  0.637  0.641   0.619        0.634         0.552   \n",
       "obesity                0.549  0.587  0.595    0.57        0.594         0.502   \n",
       "renal_chronic          0.591  0.631  0.638   0.618        0.632          0.54   \n",
       "tobacco                0.551  0.599  0.605   0.581        0.586         0.512   \n",
       "contact_other_covid    0.078  0.041  0.017   0.034         0.08         0.092   \n",
       "covid_res              0.071  0.012   0.02   0.015        0.062         0.014   \n",
       "icu2                   0.076   0.03  0.021   0.038        0.061         0.034   \n",
       "\n",
       "                    cardiovascular obesity renal_chronic tobacco  \\\n",
       "sex                          0.014   0.021         0.018   0.104   \n",
       "patient_type                 0.104   0.065          0.15   0.018   \n",
       "intubed                      0.077   0.052         0.108   0.025   \n",
       "pneumonia                    0.058   0.051         0.075   0.014   \n",
       "age                          0.122   0.091         0.085    0.05   \n",
       "pregnancy                    0.058    0.06         0.058   0.091   \n",
       "diabetes                     0.587   0.549         0.591   0.551   \n",
       "copd                         0.637   0.587         0.631   0.599   \n",
       "asthma                       0.641   0.595         0.638   0.605   \n",
       "inmsupr                      0.619    0.57         0.618   0.581   \n",
       "hypertension                 0.634   0.594         0.632   0.586   \n",
       "other_disease                0.552   0.502          0.54   0.512   \n",
       "cardiovascular                 1.0     0.6         0.653   0.612   \n",
       "obesity                        0.6     1.0         0.603   0.579   \n",
       "renal_chronic                0.653   0.603           1.0   0.615   \n",
       "tobacco                      0.612   0.579         0.615     1.0   \n",
       "contact_other_covid          0.029   0.019         0.051   0.013   \n",
       "covid_res                    0.011   0.053         0.012   0.022   \n",
       "icu2                          0.04   0.037         0.035   0.018   \n",
       "\n",
       "                    contact_other_covid covid_res   icu2  \n",
       "sex                               0.049     0.068  0.037  \n",
       "patient_type                      0.286     0.192  0.257  \n",
       "intubed                           0.213     0.137  0.509  \n",
       "pneumonia                         0.132     0.135  0.251  \n",
       "age                               0.122     0.118  0.145  \n",
       "pregnancy                         0.041     0.049  0.037  \n",
       "diabetes                          0.078     0.071  0.076  \n",
       "copd                              0.041     0.012   0.03  \n",
       "asthma                            0.017      0.02  0.021  \n",
       "inmsupr                           0.034     0.015  0.038  \n",
       "hypertension                       0.08     0.062  0.061  \n",
       "other_disease                     0.092     0.014  0.034  \n",
       "cardiovascular                    0.029     0.011   0.04  \n",
       "obesity                           0.019     0.053  0.037  \n",
       "renal_chronic                     0.051     0.012  0.035  \n",
       "tobacco                           0.013     0.022  0.018  \n",
       "contact_other_covid                 1.0     0.084  0.077  \n",
       "covid_res                         0.084       1.0  0.053  \n",
       "icu2                              0.077     0.053    1.0  "
      ]
     },
     "metadata": {},
     "output_type": "display_data"
    }
   ],
   "source": [
    "df2 = pd.DataFrame(columns=model_columns, index=model_columns)\n",
    "for i in range(len(model_columns)):\n",
    "    for j in range(len(model_columns)):\n",
    "        fname = model_columns[i]\n",
    "        cname = model_columns[j]\n",
    "        df2.loc[fname, cname] = cramers_v(dataModel[fname], dataModel[cname])\n",
    "\n",
    "display(df2)"
   ]
  },
  {
   "cell_type": "code",
   "execution_count": 193,
   "metadata": {},
   "outputs": [
    {
     "data": {
      "text/plain": [
       "(19, 19)"
      ]
     },
     "execution_count": 193,
     "metadata": {},
     "output_type": "execute_result"
    }
   ],
   "source": [
    "df2.shape"
   ]
  },
  {
   "cell_type": "code",
   "execution_count": 194,
   "metadata": {},
   "outputs": [
    {
     "data": {
      "image/png": "[encoded data removed]",
      "text/plain": [
       "<Figure size 864x720 with 2 Axes>"
      ]
     },
     "metadata": {
      "needs_background": "light"
     },
     "output_type": "display_data"
    }
   ],
   "source": [
    "import seaborn as sns\n",
    "\n",
    "df2 = df2.astype('float')  # !! Neccessary for Heatmap\n",
    "\n",
    "plt.figure(figsize=(12,10))\n",
    "sns.heatmap(df2.round(2), annot=True, cmap=\"Greens\")\n",
    "plt.show()\n",
    "\n",
    "#Dont use patient_type like predicteur because correlation is one and it strongly atached to ICU.\n"
   ]
  },
  {
   "cell_type": "markdown",
   "metadata": {},
   "source": [
    "# <font color=\"blue\">7.  MODELISATION & PREDICTION</font>"
   ]
  },
  {
   "cell_type": "markdown",
   "metadata": {},
   "source": [
    "## <font color=\"blue\">7.1.  Splitting DATA to create Training and Test sets.</font>"
   ]
  },
  {
   "cell_type": "code",
   "execution_count": 195,
   "metadata": {},
   "outputs": [],
   "source": [
    "# Labels for descriptors\n",
    "\n",
    "datalabels = ['id', 'sex', 'patient_type', 'entry_date', 'date_symptoms',\n",
    "              'date_died','intubed','pneumonia','age','pregnancy','diabetes','copd','asthma','inmsupr','hypertension',\n",
    "              'other_disease','cardiovascular','obesity','renal_chronic','tobacco','contact_other_covid'\n",
    "              ,'covid_res','icu']\n",
    "\n",
    "# Ignored: id, entrydate, date_symptons, date_died, icu\n",
    "predictors = ['sex', 'age','pneumonia','contact_other_covid',\n",
    "              'pregnancy','diabetes','copd','asthma','inmsupr',\n",
    "              'hypertension','other_disease','cardiovascular','obesity','renal_chronic','tobacco','intubed'\n",
    "             ]\n",
    "\n",
    "target_column= 'icu2'\n",
    "\n",
    "model_columns = ['sex', 'age','pneumonia','contact_other_covid',\n",
    "              'pregnancy','diabetes','copd','asthma','inmsupr',\n",
    "              'hypertension','other_disease','cardiovascular','obesity','renal_chronic','tobacco', 'intubed', target_column]\n",
    "\n",
    "\n",
    "# Split in traning and test sets\n",
    "\n",
    "from sklearn.model_selection import train_test_split\n",
    "\n",
    "X_train, X_test, y_train, y_test =train_test_split(dataModel[model_columns], \n",
    "                                                   dataModel[target_column], stratify=dataModel[target_column],\n",
    "                                                   test_size=0.20, random_state=44)\n",
    "\n"
   ]
  },
  {
   "cell_type": "code",
   "execution_count": 197,
   "metadata": {},
   "outputs": [
    {
     "name": "stdout",
     "output_type": "stream",
     "text": [
      "size of the train set (by class): \n",
      " icu2\n",
      "1.0      8065\n",
      "2.0    444722\n",
      "dtype: int64\n",
      "size of the test set (by class): \n",
      " icu2\n",
      "1.0      2016\n",
      "2.0    111181\n",
      "dtype: int64\n"
     ]
    }
   ],
   "source": [
    "print('size of the train set (by class): \\n',X_train.groupby('icu2').size())\n",
    "print('size of the test set (by class): \\n',X_test.groupby('icu2').size())\n"
   ]
  },
  {
   "cell_type": "code",
   "execution_count": 199,
   "metadata": {},
   "outputs": [],
   "source": [
    "\n",
    "X_train, X_test, y_train, y_test =train_test_split(dataModel[predictors], \n",
    "                                                   dataModel[target_column], stratify=dataModel['icu2'],\n",
    "                                                   test_size=0.20, random_state=44)"
   ]
  },
  {
   "cell_type": "code",
   "execution_count": null,
   "metadata": {},
   "outputs": [],
   "source": []
  },
  {
   "cell_type": "markdown",
   "metadata": {},
   "source": [
    "# 7.1 KNN"
   ]
  },
  {
   "cell_type": "code",
   "execution_count": 174,
   "metadata": {},
   "outputs": [],
   "source": [
    "from sklearn import neighbors, datasets\n",
    "import time\n",
    "\n",
    "startTimeKNN = time.time()\n",
    "weights = 'uniform'\n",
    "k_neighbors = 15\n",
    "model1 = neighbors.KNeighborsClassifier(weights=weights)\n",
    "model1.fit(X_train, y_train.values.ravel())\n",
    "endtimeKNN = time.time()\n"
   ]
  },
  {
   "cell_type": "code",
   "execution_count": 175,
   "metadata": {},
   "outputs": [
    {
     "data": {
      "text/plain": [
       "3.8633134365081787"
      ]
     },
     "execution_count": 175,
     "metadata": {},
     "output_type": "execute_result"
    }
   ],
   "source": [
    "KNN_sec=endtimeKNN - startTimeKNN\n",
    "KNN_sec"
   ]
  },
  {
   "cell_type": "markdown",
   "metadata": {},
   "source": [
    "## 7.1.1  Model Evaluation"
   ]
  },
  {
   "cell_type": "code",
   "execution_count": 176,
   "metadata": {},
   "outputs": [
    {
     "name": "stdout",
     "output_type": "stream",
     "text": [
      "<class 'pandas.core.frame.DataFrame'>\n",
      "Int64Index: 24358 entries, 35539 to 46314\n",
      "Data columns (total 15 columns):\n",
      " #   Column               Non-Null Count  Dtype\n",
      "---  ------               --------------  -----\n",
      " 0   sex                  24358 non-null  int64\n",
      " 1   age                  24358 non-null  int64\n",
      " 2   pneumonia            24358 non-null  int64\n",
      " 3   contact_other_covid  24358 non-null  int64\n",
      " 4   pregnancy            24358 non-null  int64\n",
      " 5   diabetes             24358 non-null  int64\n",
      " 6   copd                 24358 non-null  int64\n",
      " 7   asthma               24358 non-null  int64\n",
      " 8   inmsupr              24358 non-null  int64\n",
      " 9   hypertension         24358 non-null  int64\n",
      " 10  other_disease        24358 non-null  int64\n",
      " 11  cardiovascular       24358 non-null  int64\n",
      " 12  obesity              24358 non-null  int64\n",
      " 13  renal_chronic        24358 non-null  int64\n",
      " 14  tobacco              24358 non-null  int64\n",
      "dtypes: int64(15)\n",
      "memory usage: 3.0 MB\n"
     ]
    }
   ],
   "source": [
    "X_test.info()"
   ]
  },
  {
   "cell_type": "code",
   "execution_count": 177,
   "metadata": {},
   "outputs": [
    {
     "data": {
      "text/html": [
       "<div>\n",
       "<style scoped>\n",
       "    .dataframe tbody tr th:only-of-type {\n",
       "        vertical-align: middle;\n",
       "    }\n",
       "\n",
       "    .dataframe tbody tr th {\n",
       "        vertical-align: top;\n",
       "    }\n",
       "\n",
       "    .dataframe thead th {\n",
       "        text-align: right;\n",
       "    }\n",
       "</style>\n",
       "<table border=\"1\" class=\"dataframe\">\n",
       "  <thead>\n",
       "    <tr style=\"text-align: right;\">\n",
       "      <th></th>\n",
       "      <th>sex</th>\n",
       "      <th>age</th>\n",
       "      <th>pneumonia</th>\n",
       "      <th>contact_other_covid</th>\n",
       "      <th>pregnancy</th>\n",
       "      <th>diabetes</th>\n",
       "      <th>copd</th>\n",
       "      <th>asthma</th>\n",
       "      <th>inmsupr</th>\n",
       "      <th>hypertension</th>\n",
       "      <th>other_disease</th>\n",
       "      <th>cardiovascular</th>\n",
       "      <th>obesity</th>\n",
       "      <th>renal_chronic</th>\n",
       "      <th>tobacco</th>\n",
       "    </tr>\n",
       "  </thead>\n",
       "  <tbody>\n",
       "    <tr>\n",
       "      <th>35539</th>\n",
       "      <td>1</td>\n",
       "      <td>33</td>\n",
       "      <td>2</td>\n",
       "      <td>99</td>\n",
       "      <td>1</td>\n",
       "      <td>2</td>\n",
       "      <td>2</td>\n",
       "      <td>2</td>\n",
       "      <td>2</td>\n",
       "      <td>2</td>\n",
       "      <td>2</td>\n",
       "      <td>2</td>\n",
       "      <td>2</td>\n",
       "      <td>2</td>\n",
       "      <td>2</td>\n",
       "    </tr>\n",
       "    <tr>\n",
       "      <th>113658</th>\n",
       "      <td>1</td>\n",
       "      <td>71</td>\n",
       "      <td>2</td>\n",
       "      <td>99</td>\n",
       "      <td>2</td>\n",
       "      <td>1</td>\n",
       "      <td>2</td>\n",
       "      <td>2</td>\n",
       "      <td>1</td>\n",
       "      <td>1</td>\n",
       "      <td>2</td>\n",
       "      <td>2</td>\n",
       "      <td>1</td>\n",
       "      <td>2</td>\n",
       "      <td>2</td>\n",
       "    </tr>\n",
       "    <tr>\n",
       "      <th>314064</th>\n",
       "      <td>2</td>\n",
       "      <td>41</td>\n",
       "      <td>1</td>\n",
       "      <td>2</td>\n",
       "      <td>97</td>\n",
       "      <td>2</td>\n",
       "      <td>2</td>\n",
       "      <td>2</td>\n",
       "      <td>1</td>\n",
       "      <td>1</td>\n",
       "      <td>2</td>\n",
       "      <td>2</td>\n",
       "      <td>2</td>\n",
       "      <td>1</td>\n",
       "      <td>2</td>\n",
       "    </tr>\n",
       "    <tr>\n",
       "      <th>270671</th>\n",
       "      <td>1</td>\n",
       "      <td>68</td>\n",
       "      <td>1</td>\n",
       "      <td>99</td>\n",
       "      <td>2</td>\n",
       "      <td>2</td>\n",
       "      <td>2</td>\n",
       "      <td>2</td>\n",
       "      <td>2</td>\n",
       "      <td>2</td>\n",
       "      <td>2</td>\n",
       "      <td>2</td>\n",
       "      <td>2</td>\n",
       "      <td>2</td>\n",
       "      <td>2</td>\n",
       "    </tr>\n",
       "    <tr>\n",
       "      <th>156183</th>\n",
       "      <td>2</td>\n",
       "      <td>55</td>\n",
       "      <td>1</td>\n",
       "      <td>99</td>\n",
       "      <td>97</td>\n",
       "      <td>1</td>\n",
       "      <td>2</td>\n",
       "      <td>2</td>\n",
       "      <td>2</td>\n",
       "      <td>1</td>\n",
       "      <td>2</td>\n",
       "      <td>2</td>\n",
       "      <td>2</td>\n",
       "      <td>1</td>\n",
       "      <td>2</td>\n",
       "    </tr>\n",
       "  </tbody>\n",
       "</table>\n",
       "</div>"
      ],
      "text/plain": [
       "        sex  age  pneumonia  contact_other_covid  pregnancy  diabetes  copd  \\\n",
       "35539     1   33          2                   99          1         2     2   \n",
       "113658    1   71          2                   99          2         1     2   \n",
       "314064    2   41          1                    2         97         2     2   \n",
       "270671    1   68          1                   99          2         2     2   \n",
       "156183    2   55          1                   99         97         1     2   \n",
       "\n",
       "        asthma  inmsupr  hypertension  other_disease  cardiovascular  obesity  \\\n",
       "35539        2        2             2              2               2        2   \n",
       "113658       2        1             1              2               2        1   \n",
       "314064       2        1             1              2               2        2   \n",
       "270671       2        2             2              2               2        2   \n",
       "156183       2        2             1              2               2        2   \n",
       "\n",
       "        renal_chronic  tobacco  \n",
       "35539               2        2  \n",
       "113658              2        2  \n",
       "314064              1        2  \n",
       "270671              2        2  \n",
       "156183              1        2  "
      ]
     },
     "execution_count": 177,
     "metadata": {},
     "output_type": "execute_result"
    }
   ],
   "source": [
    "X_test.head(5)"
   ]
  },
  {
   "cell_type": "code",
   "execution_count": 178,
   "metadata": {},
   "outputs": [
    {
     "data": {
      "text/html": [
       "<div>\n",
       "<style scoped>\n",
       "    .dataframe tbody tr th:only-of-type {\n",
       "        vertical-align: middle;\n",
       "    }\n",
       "\n",
       "    .dataframe tbody tr th {\n",
       "        vertical-align: top;\n",
       "    }\n",
       "\n",
       "    .dataframe thead th {\n",
       "        text-align: right;\n",
       "    }\n",
       "</style>\n",
       "<table border=\"1\" class=\"dataframe\">\n",
       "  <thead>\n",
       "    <tr style=\"text-align: right;\">\n",
       "      <th></th>\n",
       "      <th>sex</th>\n",
       "      <th>age</th>\n",
       "      <th>pneumonia</th>\n",
       "      <th>contact_other_covid</th>\n",
       "      <th>pregnancy</th>\n",
       "      <th>diabetes</th>\n",
       "      <th>copd</th>\n",
       "      <th>asthma</th>\n",
       "      <th>inmsupr</th>\n",
       "      <th>hypertension</th>\n",
       "      <th>other_disease</th>\n",
       "      <th>cardiovascular</th>\n",
       "      <th>obesity</th>\n",
       "      <th>renal_chronic</th>\n",
       "      <th>tobacco</th>\n",
       "    </tr>\n",
       "  </thead>\n",
       "  <tbody>\n",
       "    <tr>\n",
       "      <th>164498</th>\n",
       "      <td>1</td>\n",
       "      <td>84</td>\n",
       "      <td>2</td>\n",
       "      <td>99</td>\n",
       "      <td>2</td>\n",
       "      <td>2</td>\n",
       "      <td>1</td>\n",
       "      <td>2</td>\n",
       "      <td>2</td>\n",
       "      <td>1</td>\n",
       "      <td>2</td>\n",
       "      <td>2</td>\n",
       "      <td>2</td>\n",
       "      <td>2</td>\n",
       "      <td>2</td>\n",
       "    </tr>\n",
       "    <tr>\n",
       "      <th>29956</th>\n",
       "      <td>2</td>\n",
       "      <td>34</td>\n",
       "      <td>2</td>\n",
       "      <td>2</td>\n",
       "      <td>97</td>\n",
       "      <td>2</td>\n",
       "      <td>2</td>\n",
       "      <td>2</td>\n",
       "      <td>2</td>\n",
       "      <td>2</td>\n",
       "      <td>2</td>\n",
       "      <td>2</td>\n",
       "      <td>2</td>\n",
       "      <td>2</td>\n",
       "      <td>2</td>\n",
       "    </tr>\n",
       "    <tr>\n",
       "      <th>413684</th>\n",
       "      <td>1</td>\n",
       "      <td>47</td>\n",
       "      <td>2</td>\n",
       "      <td>99</td>\n",
       "      <td>2</td>\n",
       "      <td>2</td>\n",
       "      <td>2</td>\n",
       "      <td>1</td>\n",
       "      <td>2</td>\n",
       "      <td>1</td>\n",
       "      <td>2</td>\n",
       "      <td>2</td>\n",
       "      <td>2</td>\n",
       "      <td>2</td>\n",
       "      <td>2</td>\n",
       "    </tr>\n",
       "    <tr>\n",
       "      <th>224988</th>\n",
       "      <td>2</td>\n",
       "      <td>14</td>\n",
       "      <td>2</td>\n",
       "      <td>99</td>\n",
       "      <td>97</td>\n",
       "      <td>2</td>\n",
       "      <td>2</td>\n",
       "      <td>2</td>\n",
       "      <td>1</td>\n",
       "      <td>2</td>\n",
       "      <td>1</td>\n",
       "      <td>2</td>\n",
       "      <td>2</td>\n",
       "      <td>2</td>\n",
       "      <td>2</td>\n",
       "    </tr>\n",
       "    <tr>\n",
       "      <th>367174</th>\n",
       "      <td>1</td>\n",
       "      <td>1</td>\n",
       "      <td>2</td>\n",
       "      <td>2</td>\n",
       "      <td>2</td>\n",
       "      <td>2</td>\n",
       "      <td>2</td>\n",
       "      <td>2</td>\n",
       "      <td>2</td>\n",
       "      <td>2</td>\n",
       "      <td>2</td>\n",
       "      <td>2</td>\n",
       "      <td>2</td>\n",
       "      <td>2</td>\n",
       "      <td>2</td>\n",
       "    </tr>\n",
       "  </tbody>\n",
       "</table>\n",
       "</div>"
      ],
      "text/plain": [
       "        sex  age  pneumonia  contact_other_covid  pregnancy  diabetes  copd  \\\n",
       "164498    1   84          2                   99          2         2     1   \n",
       "29956     2   34          2                    2         97         2     2   \n",
       "413684    1   47          2                   99          2         2     2   \n",
       "224988    2   14          2                   99         97         2     2   \n",
       "367174    1    1          2                    2          2         2     2   \n",
       "\n",
       "        asthma  inmsupr  hypertension  other_disease  cardiovascular  obesity  \\\n",
       "164498       2        2             1              2               2        2   \n",
       "29956        2        2             2              2               2        2   \n",
       "413684       1        2             1              2               2        2   \n",
       "224988       2        1             2              1               2        2   \n",
       "367174       2        2             2              2               2        2   \n",
       "\n",
       "        renal_chronic  tobacco  \n",
       "164498              2        2  \n",
       "29956               2        2  \n",
       "413684              2        2  \n",
       "224988              2        2  \n",
       "367174              2        2  "
      ]
     },
     "execution_count": 178,
     "metadata": {},
     "output_type": "execute_result"
    }
   ],
   "source": [
    "X_train.head(5)"
   ]
  },
  {
   "cell_type": "code",
   "execution_count": 290,
   "metadata": {},
   "outputs": [],
   "source": [
    "# METRIQUES\n",
    "\n",
    "from sklearn import metrics \n",
    "from sklearn.metrics import accuracy_score\n",
    "from sklearn.metrics import classification_report, confusion_matrix\n",
    "import time\n",
    "\n",
    "y_predicted_train = model1.predict(X_train)\n",
    "y_predicted_test = model1.predict(X_test)"
   ]
  },
  {
   "cell_type": "code",
   "execution_count": 291,
   "metadata": {},
   "outputs": [
    {
     "name": "stdout",
     "output_type": "stream",
     "text": [
      "Accuracy: 0.9075457755152312\n"
     ]
    },
    {
     "data": {
      "text/plain": [
       "-1012.6716842651367"
      ]
     },
     "execution_count": 291,
     "metadata": {},
     "output_type": "execute_result"
    }
   ],
   "source": [
    "startTimeKNN = time.time()\n",
    "print(\"Accuracy:\", metrics.accuracy_score(y_predicted_test, y_test))\n",
    "\n",
    "eval_KNN_sec = endtimeKNN - startTimeKNN\n",
    "eval_KNN_sec"
   ]
  },
  {
   "cell_type": "code",
   "execution_count": 292,
   "metadata": {},
   "outputs": [
    {
     "name": "stdout",
     "output_type": "stream",
     "text": [
      "[[   68  1986]\n",
      " [  266 22038]]\n"
     ]
    },
    {
     "data": {
      "text/plain": [
       "-1012.6836810112"
      ]
     },
     "execution_count": 292,
     "metadata": {},
     "output_type": "execute_result"
    }
   ],
   "source": [
    "startTimeKNN = time.time()\n",
    "\n",
    "print(confusion_matrix(y_test, y_predicted_test))\n",
    "\n",
    "EVAL_KNN_sec = endtimeKNN - startTimeKNN\n",
    "EVAL_KNN_sec"
   ]
  },
  {
   "cell_type": "code",
   "execution_count": 293,
   "metadata": {},
   "outputs": [
    {
     "name": "stdout",
     "output_type": "stream",
     "text": [
      "Precision:  0.8571462128625658\n"
     ]
    }
   ],
   "source": [
    "print(\"Precision: \", metrics.precision_score(y_test, y_predicted_test, labels=None, pos_label=1, average='weighted', \n",
    "                                        sample_weight=None,zero_division='warn'))"
   ]
  },
  {
   "cell_type": "code",
   "execution_count": 294,
   "metadata": {},
   "outputs": [
    {
     "name": "stdout",
     "output_type": "stream",
     "text": [
      "Recall: 0.5105900112318896\n"
     ]
    }
   ],
   "source": [
    "\n",
    "print (\"Recall:\", metrics.recall_score(y_test, y_predicted_test,  average='macro') )\n"
   ]
  },
  {
   "cell_type": "code",
   "execution_count": 295,
   "metadata": {},
   "outputs": [
    {
     "name": "stdout",
     "output_type": "stream",
     "text": [
      "F1 score: 0.504170755926643\n"
     ]
    }
   ],
   "source": [
    "print (\"F1 score:\", metrics.f1_score(y_test, y_predicted_test, average='macro'))\n"
   ]
  },
  {
   "cell_type": "code",
   "execution_count": null,
   "metadata": {},
   "outputs": [],
   "source": []
  },
  {
   "cell_type": "markdown",
   "metadata": {},
   "source": [
    "# 7.2. DESICION TREE"
   ]
  },
  {
   "cell_type": "markdown",
   "metadata": {},
   "source": [
    "## 7.2.1 DESICION TREE - Entropy"
   ]
  },
  {
   "cell_type": "code",
   "execution_count": 296,
   "metadata": {},
   "outputs": [
    {
     "data": {
      "text/plain": [
       "DecisionTreeClassifier(ccp_alpha=0.0, class_weight=None, criterion='entropy',\n",
       "                       max_depth=3, max_features=None, max_leaf_nodes=None,\n",
       "                       min_impurity_decrease=0.0, min_impurity_split=None,\n",
       "                       min_samples_leaf=5, min_samples_split=2,\n",
       "                       min_weight_fraction_leaf=0.0, presort='deprecated',\n",
       "                       random_state=44, splitter='best')"
      ]
     },
     "execution_count": 296,
     "metadata": {},
     "output_type": "execute_result"
    }
   ],
   "source": [
    "from sklearn import tree\n",
    "desicionTree = tree.DecisionTreeClassifier(max_depth =3, criterion='entropy', random_state=44, min_samples_leaf=5)\n",
    "desicionTree.fit(X_train, y_train)\n",
    "\n"
   ]
  },
  {
   "cell_type": "code",
   "execution_count": 297,
   "metadata": {},
   "outputs": [
    {
     "data": {
      "text/plain": [
       "[Text(167.4, 380.52, 'pneumonia <= 50.5\\nentropy = 0.412\\nsamples = 97430\\nvalue = [8058, 89372]'),\n",
       " Text(83.7, 271.8, 'intubed <= 1.5\\nentropy = 0.552\\nsamples = 47769\\nvalue = [6123, 41646]'),\n",
       " Text(41.85, 163.07999999999998, 'patient_type <= 0.5\\nentropy = 0.624\\nsamples = 33011\\nvalue = [5143, 27868]'),\n",
       " Text(20.925, 54.360000000000014, 'entropy = 0.991\\nsamples = 359\\nvalue = [159, 200]'),\n",
       " Text(62.775000000000006, 54.360000000000014, 'entropy = 0.616\\nsamples = 32652\\nvalue = [4984, 27668]'),\n",
       " Text(125.55000000000001, 163.07999999999998, 'patient_type <= 0.5\\nentropy = 0.352\\nsamples = 14758\\nvalue = [980, 13778]'),\n",
       " Text(104.625, 54.360000000000014, 'entropy = 0.932\\nsamples = 454\\nvalue = [158, 296]'),\n",
       " Text(146.475, 54.360000000000014, 'entropy = 0.317\\nsamples = 14304\\nvalue = [822, 13482]'),\n",
       " Text(251.10000000000002, 271.8, 'intubed <= 1.5\\nentropy = 0.238\\nsamples = 49661\\nvalue = [1935, 47726]'),\n",
       " Text(209.25, 163.07999999999998, 'pregnancy <= 50.0\\nentropy = 0.324\\nsamples = 26095\\nvalue = [1543, 24552]'),\n",
       " Text(188.32500000000002, 54.360000000000014, 'entropy = 0.318\\nsamples = 25914\\nvalue = [1494, 24420]'),\n",
       " Text(230.175, 54.360000000000014, 'entropy = 0.842\\nsamples = 181\\nvalue = [49, 132]'),\n",
       " Text(292.95, 163.07999999999998, 'patient_type <= 0.5\\nentropy = 0.122\\nsamples = 23566\\nvalue = [392, 23174]'),\n",
       " Text(272.02500000000003, 54.360000000000014, 'entropy = 0.767\\nsamples = 326\\nvalue = [73, 253]'),\n",
       " Text(313.875, 54.360000000000014, 'entropy = 0.105\\nsamples = 23240\\nvalue = [319, 22921]')]"
      ]
     },
     "execution_count": 297,
     "metadata": {},
     "output_type": "execute_result"
    },
    {
     "data": {
      "image/png": "[encoded data removed]",
      "text/plain": [
       "<Figure size 432x576 with 1 Axes>"
      ]
     },
     "metadata": {
      "needs_background": "light"
     },
     "output_type": "display_data"
    }
   ],
   "source": [
    "from sklearn.tree import DecisionTreeClassifier, plot_tree\n",
    "\n",
    "plt.figure(figsize = (6,8))\n",
    "plot_tree(desicionTree, feature_names = predictors, filled = True)\n"
   ]
  },
  {
   "cell_type": "code",
   "execution_count": 298,
   "metadata": {},
   "outputs": [],
   "source": [
    "\n",
    "y_predicted_train = desicionTree.predict(X_train)\n",
    "y_predicted_test = desicionTree.predict(X_test)\n",
    "\n"
   ]
  },
  {
   "cell_type": "code",
   "execution_count": 299,
   "metadata": {},
   "outputs": [
    {
     "name": "stdout",
     "output_type": "stream",
     "text": [
      "Accuracy: 0.9172944678230525\n"
     ]
    },
    {
     "data": {
      "text/plain": [
       "0.00999593734741211"
      ]
     },
     "execution_count": 299,
     "metadata": {},
     "output_type": "execute_result"
    }
   ],
   "source": [
    "\n",
    "startTimeKNN = time.time()\n",
    "print(\"Accuracy:\", metrics.accuracy_score(y_predicted_train, y_train))\n",
    "\n",
    "endtimeKNN = time.time()\n",
    "eval_KNN_sec = endtimeKNN - startTimeKNN\n",
    "eval_KNN_sec"
   ]
  },
  {
   "cell_type": "code",
   "execution_count": 300,
   "metadata": {},
   "outputs": [
    {
     "name": "stdout",
     "output_type": "stream",
     "text": [
      "Precision:  0.8384598297229584\n"
     ]
    },
    {
     "name": "stderr",
     "output_type": "stream",
     "text": [
      "C:\\Users\\valm044\\Anaconda3\\lib\\site-packages\\sklearn\\metrics\\_classification.py:1272: UndefinedMetricWarning: Precision is ill-defined and being set to 0.0 in labels with no predicted samples. Use `zero_division` parameter to control this behavior.\n",
      "  _warn_prf(average, modifier, msg_start, len(result))\n"
     ]
    }
   ],
   "source": [
    "print(\"Precision: \", metrics.precision_score(y_test, y_predicted_test, labels=None, pos_label=1, average='weighted', \n",
    "                                        sample_weight=None,zero_division='warn'))"
   ]
  },
  {
   "cell_type": "code",
   "execution_count": 301,
   "metadata": {},
   "outputs": [
    {
     "name": "stdout",
     "output_type": "stream",
     "text": [
      "Recall: 0.5\n"
     ]
    }
   ],
   "source": [
    "\n",
    "print (\"Recall:\", metrics.recall_score(y_test, y_predicted_test,  average='macro') )\n"
   ]
  },
  {
   "cell_type": "code",
   "execution_count": 302,
   "metadata": {},
   "outputs": [
    {
     "name": "stdout",
     "output_type": "stream",
     "text": [
      "F1 score: 0.47799065620847797\n"
     ]
    }
   ],
   "source": [
    "print (\"F1 score:\", metrics.f1_score(y_test, y_predicted_test, average='macro'))"
   ]
  },
  {
   "cell_type": "code",
   "execution_count": 304,
   "metadata": {},
   "outputs": [
    {
     "data": {
      "text/plain": [
       "array([[    0,  2054],\n",
       "       [    0, 22304]], dtype=int64)"
      ]
     },
     "execution_count": 304,
     "metadata": {},
     "output_type": "execute_result"
    }
   ],
   "source": [
    "#Matrice confusion\n",
    "confusion_matrix(y_test, y_predicted_test)"
   ]
  },
  {
   "cell_type": "markdown",
   "metadata": {},
   "source": [
    "## 7.22 DESICION TREE - GINI\n"
   ]
  },
  {
   "cell_type": "code",
   "execution_count": 305,
   "metadata": {},
   "outputs": [
    {
     "data": {
      "text/plain": [
       "[Text(279.0, 380.52, 'pneumonia <= 50.5\\ngini = 0.152\\nsamples = 97430\\nvalue = [8058, 89372]'),\n",
       " Text(139.5, 271.8, 'intubed <= 1.5\\ngini = 0.223\\nsamples = 47769\\nvalue = [6123, 41646]'),\n",
       " Text(69.75, 163.07999999999998, 'patient_type <= 0.5\\ngini = 0.263\\nsamples = 33011\\nvalue = [5143, 27868]'),\n",
       " Text(34.875, 54.360000000000014, 'gini = 0.493\\nsamples = 359\\nvalue = [159, 200]'),\n",
       " Text(104.625, 54.360000000000014, 'gini = 0.259\\nsamples = 32652\\nvalue = [4984, 27668]'),\n",
       " Text(209.25, 163.07999999999998, 'patient_type <= 0.5\\ngini = 0.124\\nsamples = 14758\\nvalue = [980, 13778]'),\n",
       " Text(174.375, 54.360000000000014, 'gini = 0.454\\nsamples = 454\\nvalue = [158, 296]'),\n",
       " Text(244.125, 54.360000000000014, 'gini = 0.108\\nsamples = 14304\\nvalue = [822, 13482]'),\n",
       " Text(418.5, 271.8, 'intubed <= 1.5\\ngini = 0.075\\nsamples = 49661\\nvalue = [1935, 47726]'),\n",
       " Text(348.75, 163.07999999999998, 'pregnancy <= 50.0\\ngini = 0.111\\nsamples = 26095\\nvalue = [1543, 24552]'),\n",
       " Text(313.875, 54.360000000000014, 'gini = 0.109\\nsamples = 25914\\nvalue = [1494, 24420]'),\n",
       " Text(383.625, 54.360000000000014, 'gini = 0.395\\nsamples = 181\\nvalue = [49, 132]'),\n",
       " Text(488.25, 163.07999999999998, 'patient_type <= 0.5\\ngini = 0.033\\nsamples = 23566\\nvalue = [392, 23174]'),\n",
       " Text(453.375, 54.360000000000014, 'gini = 0.348\\nsamples = 326\\nvalue = [73, 253]'),\n",
       " Text(523.125, 54.360000000000014, 'gini = 0.027\\nsamples = 23240\\nvalue = [319, 22921]')]"
      ]
     },
     "execution_count": 305,
     "metadata": {},
     "output_type": "execute_result"
    },
    {
     "data": {
      "image/png": "[encoded data removed]",
      "text/plain": [
       "<Figure size 720x576 with 1 Axes>"
      ]
     },
     "metadata": {
      "needs_background": "light"
     },
     "output_type": "display_data"
    }
   ],
   "source": [
    "from sklearn import tree\n",
    "desicionTree = tree.DecisionTreeClassifier(max_depth =3, criterion='gini', random_state=44, min_samples_leaf=2)\n",
    "desicionTree.fit(X_train, y_train)\n",
    "plt.figure(figsize = (10,8))\n",
    "plot_tree(desicionTree, feature_names = predictors, filled = True)\n"
   ]
  },
  {
   "cell_type": "code",
   "execution_count": 306,
   "metadata": {},
   "outputs": [],
   "source": [
    "y_predicted_train = desicionTree.predict(X_train)\n",
    "y_predicted_test = desicionTree.predict(X_test)"
   ]
  },
  {
   "cell_type": "code",
   "execution_count": 307,
   "metadata": {},
   "outputs": [
    {
     "name": "stdout",
     "output_type": "stream",
     "text": [
      "Accuracy: 0.9172944678230525\n"
     ]
    },
    {
     "data": {
      "text/plain": [
       "0.007546186447143555"
      ]
     },
     "execution_count": 307,
     "metadata": {},
     "output_type": "execute_result"
    }
   ],
   "source": [
    "startTimeKNN = time.time()\n",
    "print(\"Accuracy:\", metrics.accuracy_score(y_predicted_train, y_train))\n",
    "\n",
    "endtimeKNN = time.time()\n",
    "eval_KNN_sec = endtimeKNN - startTimeKNN\n",
    "eval_KNN_sec"
   ]
  },
  {
   "cell_type": "code",
   "execution_count": 308,
   "metadata": {},
   "outputs": [
    {
     "name": "stdout",
     "output_type": "stream",
     "text": [
      "Precision:  0.8384598297229584\n"
     ]
    },
    {
     "name": "stderr",
     "output_type": "stream",
     "text": [
      "C:\\Users\\valm044\\Anaconda3\\lib\\site-packages\\sklearn\\metrics\\_classification.py:1272: UndefinedMetricWarning: Precision is ill-defined and being set to 0.0 in labels with no predicted samples. Use `zero_division` parameter to control this behavior.\n",
      "  _warn_prf(average, modifier, msg_start, len(result))\n"
     ]
    }
   ],
   "source": [
    "print(\"Precision: \", metrics.precision_score(y_test, y_predicted_test, labels=None, pos_label=1, average='weighted', \n",
    "                                        sample_weight=None,zero_division='warn'))"
   ]
  },
  {
   "cell_type": "code",
   "execution_count": 309,
   "metadata": {},
   "outputs": [
    {
     "name": "stdout",
     "output_type": "stream",
     "text": [
      "Recall: 0.5\n"
     ]
    }
   ],
   "source": [
    "\n",
    "print (\"Recall:\", metrics.recall_score(y_test, y_predicted_test,  average='macro') )\n"
   ]
  },
  {
   "cell_type": "code",
   "execution_count": 310,
   "metadata": {},
   "outputs": [
    {
     "name": "stdout",
     "output_type": "stream",
     "text": [
      "F1 score: 0.47799065620847797\n"
     ]
    }
   ],
   "source": [
    "print (\"F1 score:\", metrics.f1_score(y_test, y_predicted_test, average='macro'))"
   ]
  },
  {
   "cell_type": "code",
   "execution_count": 311,
   "metadata": {},
   "outputs": [
    {
     "data": {
      "text/plain": [
       "array([[    0,  2054],\n",
       "       [    0, 22304]], dtype=int64)"
      ]
     },
     "execution_count": 311,
     "metadata": {},
     "output_type": "execute_result"
    }
   ],
   "source": [
    "confusion_matrix(y_test, y_predicted_test)"
   ]
  },
  {
   "cell_type": "markdown",
   "metadata": {},
   "source": [
    "# 7.3. NAYVE BAYES"
   ]
  },
  {
   "cell_type": "code",
   "execution_count": null,
   "metadata": {},
   "outputs": [],
   "source": []
  },
  {
   "cell_type": "code",
   "execution_count": 312,
   "metadata": {},
   "outputs": [
    {
     "data": {
      "text/plain": [
       "GaussianNB(priors=None, var_smoothing=1e-09)"
      ]
     },
     "execution_count": 312,
     "metadata": {},
     "output_type": "execute_result"
    }
   ],
   "source": [
    "#Import Gaussian Naive Bayes model\n",
    "from sklearn.naive_bayes import GaussianNB\n",
    "\n",
    "#Create a Gaussian Classifier\n",
    "gnb = GaussianNB()\n",
    "\n",
    "#Train the model using the training sets\n",
    "gnb.fit(X_train, y_train)\n",
    "\n",
    "\n",
    "\n"
   ]
  },
  {
   "cell_type": "code",
   "execution_count": 313,
   "metadata": {},
   "outputs": [],
   "source": [
    "y_predicted_train = gnb.predict(X_train)\n",
    "y_predicted_test = gnb.predict(X_test)"
   ]
  },
  {
   "cell_type": "code",
   "execution_count": 314,
   "metadata": {},
   "outputs": [
    {
     "name": "stdout",
     "output_type": "stream",
     "text": [
      "Accuracy: 0.908436826439495\n"
     ]
    },
    {
     "data": {
      "text/plain": [
       "0.00899958610534668"
      ]
     },
     "execution_count": 314,
     "metadata": {},
     "output_type": "execute_result"
    }
   ],
   "source": [
    "startTimeKNN = time.time()\n",
    "print(\"Accuracy:\", metrics.accuracy_score(y_predicted_train, y_train))\n",
    "\n",
    "endtimeKNN = time.time()\n",
    "eval_KNN_sec = endtimeKNN - startTimeKNN\n",
    "eval_KNN_sec"
   ]
  },
  {
   "cell_type": "code",
   "execution_count": 315,
   "metadata": {},
   "outputs": [
    {
     "name": "stdout",
     "output_type": "stream",
     "text": [
      "Precision:  0.8559507991767988\n"
     ]
    }
   ],
   "source": [
    "print(\"Precision: \", metrics.precision_score(y_test, y_predicted_test, labels=None, pos_label=1, average='weighted', \n",
    "                                        sample_weight=None,zero_division='warn'))"
   ]
  },
  {
   "cell_type": "code",
   "execution_count": 316,
   "metadata": {},
   "outputs": [
    {
     "name": "stdout",
     "output_type": "stream",
     "text": [
      "Recall: 0.5093728739388029\n"
     ]
    }
   ],
   "source": [
    "\n",
    "print (\"Recall:\", metrics.recall_score(y_test, y_predicted_test,  average='macro') )"
   ]
  },
  {
   "cell_type": "code",
   "execution_count": 317,
   "metadata": {},
   "outputs": [
    {
     "name": "stdout",
     "output_type": "stream",
     "text": [
      "F1 score: 0.5020809736199765\n"
     ]
    }
   ],
   "source": [
    "print (\"F1 score:\", metrics.f1_score(y_test, y_predicted_test, average='macro'))"
   ]
  },
  {
   "cell_type": "code",
   "execution_count": 318,
   "metadata": {},
   "outputs": [
    {
     "data": {
      "text/plain": [
       "array([[   63,  1991],\n",
       "       [  266, 22038]], dtype=int64)"
      ]
     },
     "execution_count": 318,
     "metadata": {},
     "output_type": "execute_result"
    }
   ],
   "source": [
    "confusion_matrix(y_test, y_predicted_test)"
   ]
  },
  {
   "cell_type": "markdown",
   "metadata": {},
   "source": [
    "# 7.4. RANDOM FOREST"
   ]
  },
  {
   "cell_type": "code",
   "execution_count": 319,
   "metadata": {},
   "outputs": [
    {
     "name": "stdout",
     "output_type": "stream",
     "text": [
      "The accuracy of the Random Forest(sur train) is 0.904\n"
     ]
    }
   ],
   "source": [
    "from sklearn.ensemble import RandomForestClassifier\n",
    "from sklearn import metrics\n",
    "\n",
    "clf = RandomForestClassifier(n_jobs=6, random_state=42)\n",
    "\n",
    "clf.fit(X_train, y_train)\n",
    "RandomForestClassifier(bootstrap=True, class_weight=None, criterion='gini',\n",
    "            max_depth=None, max_features='auto', max_leaf_nodes=None,\n",
    "            min_impurity_split=1e-07, min_samples_leaf=1,\n",
    "            min_samples_split=2, min_weight_fraction_leaf=0.0,\n",
    "            n_estimators=10, n_jobs=6, oob_score=False, random_state=42,\n",
    "            verbose=0, warm_start=False)\n",
    "preds = clf.predict(X_test)\n",
    "\n",
    "\n",
    "print('The accuracy of the Random Forest(sur train) is',\"{:.3f}\".format(metrics.accuracy_score(preds,y_test)))\n"
   ]
  },
  {
   "cell_type": "code",
   "execution_count": null,
   "metadata": {},
   "outputs": [],
   "source": []
  },
  {
   "cell_type": "code",
   "execution_count": 320,
   "metadata": {},
   "outputs": [],
   "source": [
    "y_predicted_train = clf.predict(X_train)\n",
    "y_predicted_test = clf.predict(X_test)\n"
   ]
  },
  {
   "cell_type": "code",
   "execution_count": 321,
   "metadata": {},
   "outputs": [
    {
     "name": "stdout",
     "output_type": "stream",
     "text": [
      "Accuracy: 0.9338909986657087\n"
     ]
    },
    {
     "data": {
      "text/plain": [
       "0.010030031204223633"
      ]
     },
     "execution_count": 321,
     "metadata": {},
     "output_type": "execute_result"
    }
   ],
   "source": [
    "startTimeRF = time.time()\n",
    "print(\"Accuracy:\", metrics.accuracy_score(y_predicted_train, y_train))\n",
    "\n",
    "endtimeRF = time.time()\n",
    "eval_RF_sec = endtimeRF - startTimeRF\n",
    "eval_RF_sec"
   ]
  },
  {
   "cell_type": "code",
   "execution_count": 322,
   "metadata": {},
   "outputs": [
    {
     "name": "stdout",
     "output_type": "stream",
     "text": [
      "Precision:  0.8546877115601775\n"
     ]
    }
   ],
   "source": [
    "print(\"Precision: \", metrics.precision_score(y_test, y_predicted_test, labels=None, pos_label=1, average='weighted', \n",
    "                                        sample_weight=None,zero_division='warn'))"
   ]
  },
  {
   "cell_type": "code",
   "execution_count": 323,
   "metadata": {},
   "outputs": [
    {
     "name": "stdout",
     "output_type": "stream",
     "text": [
      "Recall: 0.5103212631265726\n"
     ]
    }
   ],
   "source": [
    "print (\"Recall:\", metrics.recall_score(y_test, y_predicted_test,  average='macro') )"
   ]
  },
  {
   "cell_type": "code",
   "execution_count": 324,
   "metadata": {},
   "outputs": [
    {
     "name": "stdout",
     "output_type": "stream",
     "text": [
      "F1 score: 0.5049745010169687\n"
     ]
    }
   ],
   "source": [
    "print (\"F1 score:\", metrics.f1_score(y_test, y_predicted_test, average='macro'))"
   ]
  },
  {
   "cell_type": "code",
   "execution_count": 325,
   "metadata": {},
   "outputs": [
    {
     "data": {
      "text/html": [
       "<div>\n",
       "<style scoped>\n",
       "    .dataframe tbody tr th:only-of-type {\n",
       "        vertical-align: middle;\n",
       "    }\n",
       "\n",
       "    .dataframe tbody tr th {\n",
       "        vertical-align: top;\n",
       "    }\n",
       "\n",
       "    .dataframe thead th {\n",
       "        text-align: right;\n",
       "    }\n",
       "</style>\n",
       "<table border=\"1\" class=\"dataframe\">\n",
       "  <thead>\n",
       "    <tr style=\"text-align: right;\">\n",
       "      <th>Résultats prédits</th>\n",
       "      <th>1</th>\n",
       "      <th>2</th>\n",
       "    </tr>\n",
       "    <tr>\n",
       "      <th>Vrais résultats</th>\n",
       "      <th></th>\n",
       "      <th></th>\n",
       "    </tr>\n",
       "  </thead>\n",
       "  <tbody>\n",
       "    <tr>\n",
       "      <th>1</th>\n",
       "      <td>75</td>\n",
       "      <td>1979</td>\n",
       "    </tr>\n",
       "    <tr>\n",
       "      <th>2</th>\n",
       "      <td>354</td>\n",
       "      <td>21950</td>\n",
       "    </tr>\n",
       "  </tbody>\n",
       "</table>\n",
       "</div>"
      ],
      "text/plain": [
       "Résultats prédits    1      2\n",
       "Vrais résultats              \n",
       "1                   75   1979\n",
       "2                  354  21950"
      ]
     },
     "execution_count": 325,
     "metadata": {},
     "output_type": "execute_result"
    }
   ],
   "source": [
    "#Matrice confusion\n",
    "pd.crosstab(y_test, y_predicted_test, rownames=['Vrais résultats'], colnames=['Résultats prédits'])\n"
   ]
  },
  {
   "cell_type": "code",
   "execution_count": 326,
   "metadata": {},
   "outputs": [
    {
     "data": {
      "text/plain": [
       "array([[   75,  1979],\n",
       "       [  354, 21950]], dtype=int64)"
      ]
     },
     "execution_count": 326,
     "metadata": {},
     "output_type": "execute_result"
    }
   ],
   "source": [
    "confusion_matrix(y_test, y_predicted_test)"
   ]
  },
  {
   "cell_type": "markdown",
   "metadata": {},
   "source": [
    "# <font color=\"blue\">8.  CONCLUSIONS</font>"
   ]
  },
  {
   "cell_type": "markdown",
   "metadata": {},
   "source": [
    "https://machinelearningmastery.com/compare-machine-learning-algorithms-python-scikit-learn/"
   ]
  },
  {
   "cell_type": "markdown",
   "metadata": {},
   "source": [
    "# Model Comparation"
   ]
  },
  {
   "cell_type": "code",
   "execution_count": 206,
   "metadata": {},
   "outputs": [],
   "source": [
    "# Mode iterative:\n",
    "\n",
    "import pandas as pd\n",
    "import matplotlib.pyplot as plt\n",
    "import statistics\n",
    "import numpy as np\n",
    "import scipy.stats\n",
    "import seaborn as sns\n",
    "\n",
    "from sklearn.model_selection import train_test_split\n",
    "import time\n",
    "\n",
    "from sklearn import metrics\n",
    "from sklearn.metrics import accuracy_score\n",
    "from sklearn.metrics import classification_report, confusion_matrix\n",
    "\n",
    "from sklearn import neighbors, datasets\n",
    "from sklearn import tree\n",
    "from sklearn.naive_bayes import GaussianNB\n",
    "\n",
    "from sklearn.ensemble import RandomForestClassifier\n",
    "from sklearn import metrics\n"
   ]
  },
  {
   "cell_type": "code",
   "execution_count": 207,
   "metadata": {},
   "outputs": [],
   "source": [
    "# Load Data\n",
    "\n",
    "dataOriginal = pd.read_csv(\"covid.csv\")\n",
    "pd.set_option('display.max_rows', None)\n",
    "dataOriginal = dataOriginal\n",
    "dataOriginal.head(5)\n",
    "\n",
    "\n",
    "# Labels for descriptors\n",
    "\n",
    "datalabels = ['id', 'sex', 'patient_type', 'entry_date', 'date_symptoms',\n",
    "              'date_died','intubed','pneumonia','age','pregnancy','diabetes','copd','asthma','inmsupr','hypertension',\n",
    "              'other_disease','cardiovascular','obesity','renal_chronic','tobacco','contact_other_covid'\n",
    "              ,'covid_res','icu']\n",
    "\n",
    "# Ignored: id, entrydate, date_symptons, date_died, icu\n",
    "predictors = ['sex', 'age','pneumonia','contact_other_covid',\n",
    "              'pregnancy','diabetes','copd','asthma','inmsupr',\n",
    "              'hypertension','other_disease','cardiovascular','obesity','renal_chronic','tobacco','intubed'\n",
    "             ]\n",
    "\n",
    "target_column= 'icu2'\n",
    "\n",
    "model_columns = ['sex', 'age','pneumonia','contact_other_covid',\n",
    "              'pregnancy','diabetes','copd','asthma','inmsupr',\n",
    "              'hypertension','other_disease','cardiovascular','obesity','renal_chronic','tobacco', target_column]\n",
    "\n",
    "dataOriginal.loc[dataOriginal['icu'] == 97, 'icu2'] = 2\n",
    "dataOriginal.loc[dataOriginal['icu'] == 98, 'icu2'] = 2\n",
    "dataOriginal.loc[dataOriginal['icu'] == 99, 'icu2'] = 2\n",
    "dataOriginal.loc[dataOriginal['icu'] == 1, 'icu2'] = 1\n",
    "dataOriginal.loc[dataOriginal['icu'] == 2, 'icu2'] = 2\n",
    "\n",
    "dataOriginal.loc[dataOriginal['icu'].isna(), 'icu2'] = 2\n",
    "\n",
    "dataModel =  dataOriginal[dataOriginal['age']<95]\n",
    "\n",
    "#dataModel =  dataOriginal[dataOriginal['icu']<=2]\n",
    "\n",
    "\n",
    "# Split in traning and test sets\n",
    "\n",
    "from sklearn.model_selection import train_test_split\n",
    "\n",
    "X_train, X_test, y_train, y_test =train_test_split(dataModel[predictors], \n",
    "                                                   dataModel[target_column], \n",
    "                                                   test_size=0.20, random_state=44)\n",
    "\n",
    "models = ['KNN', 'Tree_Gini', 'Tree_Entropy', 'Bayes', 'RForest']\n",
    "metrics_labels = ['Accuracy', 'Precision', 'Recall', 'F1Score', 'FitTime', 'MetricsTime']\n",
    "df2 = pd.DataFrame(index=metrics_labels, columns=models)\n",
    "\n"
   ]
  },
  {
   "cell_type": "code",
   "execution_count": 208,
   "metadata": {},
   "outputs": [
    {
     "data": {
      "text/plain": [
       "97    444379\n",
       "2     111399\n",
       "1      10081\n",
       "99       125\n",
       "Name: icu, dtype: int64"
      ]
     },
     "execution_count": 208,
     "metadata": {},
     "output_type": "execute_result"
    }
   ],
   "source": [
    "\n",
    "dataModel['icu'].value_counts()\n"
   ]
  },
  {
   "cell_type": "code",
   "execution_count": 209,
   "metadata": {},
   "outputs": [
    {
     "data": {
      "text/plain": [
       "2.0    555903\n",
       "1.0     10081\n",
       "Name: icu2, dtype: int64"
      ]
     },
     "execution_count": 209,
     "metadata": {},
     "output_type": "execute_result"
    }
   ],
   "source": [
    "\n",
    "dataModel['icu2'].value_counts()\n"
   ]
  },
  {
   "cell_type": "code",
   "execution_count": 210,
   "metadata": {},
   "outputs": [
    {
     "data": {
      "text/html": [
       "<div>\n",
       "<style scoped>\n",
       "    .dataframe tbody tr th:only-of-type {\n",
       "        vertical-align: middle;\n",
       "    }\n",
       "\n",
       "    .dataframe tbody tr th {\n",
       "        vertical-align: top;\n",
       "    }\n",
       "\n",
       "    .dataframe thead th {\n",
       "        text-align: right;\n",
       "    }\n",
       "</style>\n",
       "<table border=\"1\" class=\"dataframe\">\n",
       "  <thead>\n",
       "    <tr style=\"text-align: right;\">\n",
       "      <th></th>\n",
       "      <th>KNN</th>\n",
       "      <th>Tree_Gini</th>\n",
       "      <th>Tree_Entropy</th>\n",
       "      <th>Bayes</th>\n",
       "      <th>RForest</th>\n",
       "    </tr>\n",
       "  </thead>\n",
       "  <tbody>\n",
       "    <tr>\n",
       "      <th>Accuracy</th>\n",
       "      <td>0.983</td>\n",
       "      <td>0.983</td>\n",
       "      <td>0.982</td>\n",
       "      <td>0.98</td>\n",
       "      <td>0.99</td>\n",
       "    </tr>\n",
       "    <tr>\n",
       "      <th>Precision</th>\n",
       "      <td>0.977</td>\n",
       "      <td>0.982</td>\n",
       "      <td>0.977</td>\n",
       "      <td>0.967</td>\n",
       "      <td>0.977</td>\n",
       "    </tr>\n",
       "    <tr>\n",
       "      <th>Recall</th>\n",
       "      <td>0.548</td>\n",
       "      <td>0.731</td>\n",
       "      <td>0.509</td>\n",
       "      <td>0.509</td>\n",
       "      <td>0.632</td>\n",
       "    </tr>\n",
       "    <tr>\n",
       "      <th>F1Score</th>\n",
       "      <td>0.579</td>\n",
       "      <td>0.741</td>\n",
       "      <td>0.513</td>\n",
       "      <td>0.512</td>\n",
       "      <td>0.667</td>\n",
       "    </tr>\n",
       "    <tr>\n",
       "      <th>FitTime</th>\n",
       "      <td>796.023071</td>\n",
       "      <td>0.337971</td>\n",
       "      <td>0.244962</td>\n",
       "      <td>0.21801</td>\n",
       "      <td>0.21801</td>\n",
       "    </tr>\n",
       "    <tr>\n",
       "      <th>MetricsTime</th>\n",
       "      <td>3792.148428</td>\n",
       "      <td>0.220177</td>\n",
       "      <td>0.223034</td>\n",
       "      <td>0.233002</td>\n",
       "      <td>0.268009</td>\n",
       "    </tr>\n",
       "  </tbody>\n",
       "</table>\n",
       "</div>"
      ],
      "text/plain": [
       "                     KNN Tree_Gini Tree_Entropy     Bayes   RForest\n",
       "Accuracy           0.983     0.983        0.982      0.98      0.99\n",
       "Precision          0.977     0.982        0.977     0.967     0.977\n",
       "Recall             0.548     0.731        0.509     0.509     0.632\n",
       "F1Score            0.579     0.741        0.513     0.512     0.667\n",
       "FitTime       796.023071  0.337971     0.244962   0.21801   0.21801\n",
       "MetricsTime  3792.148428  0.220177     0.223034  0.233002  0.268009"
      ]
     },
     "execution_count": 210,
     "metadata": {},
     "output_type": "execute_result"
    }
   ],
   "source": [
    "# KNN Model\n",
    "#==========\n",
    "\n",
    "import time\n",
    "\n",
    "startTime = time.time()\n",
    "weights = 'uniform'\n",
    "\n",
    "model1 = neighbors.KNeighborsClassifier(weights=weights,n_neighbors=15)\n",
    "\n",
    "model1.fit(X_train, y_train.values.ravel())\n",
    "endtime = time.time()\n",
    "evalTimeKNN = endtime - startTime\n",
    "\n",
    "startTime = time.time()\n",
    "y_predicted_test= model1.predict(X_test)\n",
    "y_predicted_train = model1.predict(X_train)\n",
    "\n",
    "accuracy= metrics.accuracy_score(y_predicted_train, y_train)\n",
    "precision =  metrics.precision_score(y_test, y_predicted_test, labels=None, pos_label=1, average='weighted', \n",
    "                                        sample_weight=None,zero_division='warn')\n",
    "recall =  metrics.recall_score(y_test, y_predicted_test,  average='macro') \n",
    "f1Score = metrics.f1_score(y_test, y_predicted_test, average='macro')\n",
    "endtime = time.time()\n",
    "eval_secKNN = endtime - startTime\n",
    "\n",
    "model = 'KNN'\n",
    "df2[model]['Precision'] = precision.round(3)\n",
    "df2[model]['Accuracy'] = accuracy.round(3)\n",
    "df2[model]['Recall'] = recall.round(3)\n",
    "df2[model]['F1Score'] = f1Score.round(3)\n",
    "df2[model]['FitTime'] = evalTimeKNN\n",
    "df2[model]['MetricsTime'] = eval_secKNN\n",
    "\n",
    "#Desicion Tree - Gini\n",
    "#=======================\n",
    "startTimeDTG = time.time()\n",
    "desicionTree1 = tree.DecisionTreeClassifier(max_depth =3, criterion='gini', random_state=44, min_samples_leaf=5)\n",
    "desicionTree1.fit(X_train, y_train)\n",
    "endtimeDTG = time.time()\n",
    "evalTimeDTG = endtimeDTG - startTimeDTG\n",
    "\n",
    "y_predicted_test= desicionTree1.predict(X_test)\n",
    "y_predicted_train = desicionTree1.predict(X_train)\n",
    "\n",
    "startTime = time.time()\n",
    "accuracy= metrics.accuracy_score(y_predicted_train, y_train)\n",
    "precision =  metrics.precision_score(y_test, y_predicted_test, labels=None, pos_label=1, average='weighted', \n",
    "                                        sample_weight=None,zero_division='warn')\n",
    "recall =  metrics.recall_score(y_test, y_predicted_test,  average='macro') \n",
    "f1Score = metrics.f1_score(y_test, y_predicted_test, average='macro')\n",
    "endtime = time.time()\n",
    "\n",
    "eval_sec = endtime - startTime\n",
    "\n",
    "model = 'Tree_Gini'\n",
    "df2[model]['Precision'] = precision.round(3)\n",
    "df2[model]['Accuracy'] = accuracy.round(3)\n",
    "df2[model]['Recall'] = recall.round(3)\n",
    "df2[model]['F1Score'] = f1Score.round(3)\n",
    "df2[model]['FitTime'] = evalTimeDTG\n",
    "df2[model]['MetricsTime'] = eval_sec\n",
    "\n",
    "\n",
    "# Desicion Tree - Entropy\n",
    "#===============================\n",
    "\n",
    "startTimeDTG = time.time()\n",
    "desicionTree2 = tree.DecisionTreeClassifier(max_depth =3, criterion='entropy', random_state=44, min_samples_leaf=5)\n",
    "desicionTree2.fit(X_train, y_train)\n",
    "endtimeDTG = time.time()\n",
    "evalTimeDTG = endtimeDTG - startTimeDTG\n",
    "\n",
    "y_predicted_test= desicionTree2.predict(X_test)\n",
    "y_predicted_train = desicionTree2.predict(X_train)\n",
    "\n",
    "startTime = time.time()\n",
    "accuracy= metrics.accuracy_score(y_predicted_train, y_train)\n",
    "precision =  metrics.precision_score(y_test, y_predicted_test, labels=None, pos_label=1, average='weighted', \n",
    "                                        sample_weight=None,zero_division='warn')\n",
    "recall =  metrics.recall_score(y_test, y_predicted_test,  average='macro') \n",
    "f1Score = metrics.f1_score(y_test, y_predicted_test, average='macro')\n",
    "endtime = time.time()\n",
    "\n",
    "eval_sec = endtime - startTime\n",
    "\n",
    "model = 'Tree_Entropy'\n",
    "df2[model]['Precision'] = precision.round(3)\n",
    "df2[model]['Accuracy'] = accuracy.round(3)\n",
    "df2[model]['Recall'] = recall.round(3)\n",
    "df2[model]['F1Score'] = f1Score.round(3)\n",
    "df2[model]['FitTime'] = evalTimeDTG\n",
    "df2[model]['MetricsTime'] = eval_sec\n",
    "\n",
    "# Nayve bayes\n",
    "#============\n",
    "\n",
    "startTimeDTG = time.time()\n",
    "gnb = GaussianNB()\n",
    "gnb.fit(X_train, y_train)\n",
    "endtimeDTG = time.time()\n",
    "evalTimeDTG = endtimeDTG - startTimeDTG\n",
    "\n",
    "y_predicted_test= gnb.predict(X_test)\n",
    "y_predicted_train = gnb.predict(X_train)\n",
    "\n",
    "startTime = time.time()\n",
    "accuracy= metrics.accuracy_score(y_predicted_train, y_train)\n",
    "precision =  metrics.precision_score(y_test, y_predicted_test, labels=None, pos_label=1, average='weighted', \n",
    "                                        sample_weight=None,zero_division='warn')\n",
    "recall =  metrics.recall_score(y_test, y_predicted_test,  average='macro') \n",
    "f1Score = metrics.f1_score(y_test, y_predicted_test, average='macro')\n",
    "endtime = time.time()\n",
    "\n",
    "eval_sec = endtime - startTime\n",
    "\n",
    "model = 'Bayes'\n",
    "df2[model]['Precision'] = precision.round(3)\n",
    "df2[model]['Accuracy'] = accuracy.round(3)\n",
    "df2[model]['Recall'] = recall.round(3)\n",
    "df2[model]['F1Score'] = f1Score.round(3)\n",
    "df2[model]['FitTime'] = evalTimeDTG\n",
    "df2[model]['MetricsTime'] = eval_sec\n",
    "df2\n",
    "\n",
    "# Random Forest\n",
    "#============\n",
    "\n",
    "startTimeRF = time.time()\n",
    "clf = RandomForestClassifier(n_jobs=6, random_state=42)\n",
    "clf.fit(X_train, y_train)\n",
    "endtimeRF = time.time()\n",
    "evalTimeRF = endtimeDTG - startTimeDTG\n",
    "\n",
    "y_predicted_test= clf.predict(X_test)\n",
    "y_predicted_train = clf.predict(X_train)\n",
    "\n",
    "RandomForestClassifier(bootstrap=True, class_weight=None, criterion='gini',\n",
    "            max_depth=None, max_features='auto', max_leaf_nodes=None,\n",
    "            min_impurity_split=1e-07, min_samples_leaf=1,\n",
    "            min_samples_split=2, min_weight_fraction_leaf=0.0,\n",
    "            n_estimators=10, n_jobs=6, oob_score=False, random_state=42,\n",
    "            verbose=0, warm_start=False)\n",
    "\n",
    "\n",
    "startTime = time.time()\n",
    "accuracy= metrics.accuracy_score(y_predicted_train, y_train)\n",
    "precision =  metrics.precision_score(y_test, y_predicted_test, labels=None, pos_label=1, average='weighted', \n",
    "                                        sample_weight=None,zero_division='warn')\n",
    "recall =  metrics.recall_score(y_test, y_predicted_test,  average='macro') \n",
    "f1Score = metrics.f1_score(y_test, y_predicted_test, average='macro')\n",
    "endtime = time.time()\n",
    "\n",
    "eval_sec = endtime - startTime\n",
    "\n",
    "preds = clf.predict(X_test)\n",
    "model = 'RForest'\n",
    "df2[model]['Precision'] = precision.round(3)\n",
    "df2[model]['Accuracy'] = accuracy.round(3)\n",
    "df2[model]['Recall'] = recall.round(3)\n",
    "df2[model]['F1Score'] = f1Score.round(3)\n",
    "df2[model]['FitTime'] = evalTimeRF\n",
    "df2[model]['MetricsTime'] = eval_sec\n",
    "df2\n"
   ]
  },
  {
   "cell_type": "code",
   "execution_count": null,
   "metadata": {},
   "outputs": [],
   "source": []
  }
 ],
 "metadata": {
  "kernelspec": {
   "display_name": "Python 3",
   "language": "python",
   "name": "python3"
  },
  "language_info": {
   "codemirror_mode": {
    "name": "ipython",
    "version": 3
   },
   "file_extension": ".py",
   "mimetype": "text/x-python",
   "name": "python",
   "nbconvert_exporter": "python",
   "pygments_lexer": "ipython3",
   "version": "3.7.6"
  }
 },
 "nbformat": 4,
 "nbformat_minor": 4
}
