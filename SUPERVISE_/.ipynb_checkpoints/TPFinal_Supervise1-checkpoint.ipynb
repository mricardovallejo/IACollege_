{
 "cells": [
  {
   "cell_type": "markdown",
   "metadata": {},
   "source": [
    "# <font color=green>TP FINAL - ALGORITHMES D'APPRENTISSAGE SUPERVISÉ</font>\n",
    "\n",
    "- Ricardo Vallejo\n",
    "- Yulia Kalugina"
   ]
  },
  {
   "cell_type": "markdown",
   "metadata": {},
   "source": [
    "#  <font color=blue>1.  LOAD DATA</font>"
   ]
  },
  {
   "cell_type": "code",
   "execution_count": 1,
   "metadata": {},
   "outputs": [
    {
     "data": {
      "text/html": [
       "<div>\n",
       "<style scoped>\n",
       "    .dataframe tbody tr th:only-of-type {\n",
       "        vertical-align: middle;\n",
       "    }\n",
       "\n",
       "    .dataframe tbody tr th {\n",
       "        vertical-align: top;\n",
       "    }\n",
       "\n",
       "    .dataframe thead th {\n",
       "        text-align: right;\n",
       "    }\n",
       "</style>\n",
       "<table border=\"1\" class=\"dataframe\">\n",
       "  <thead>\n",
       "    <tr style=\"text-align: right;\">\n",
       "      <th></th>\n",
       "      <th>id</th>\n",
       "      <th>sex</th>\n",
       "      <th>patient_type</th>\n",
       "      <th>entry_date</th>\n",
       "      <th>date_symptoms</th>\n",
       "      <th>date_died</th>\n",
       "      <th>intubed</th>\n",
       "      <th>pneumonia</th>\n",
       "      <th>age</th>\n",
       "      <th>pregnancy</th>\n",
       "      <th>...</th>\n",
       "      <th>inmsupr</th>\n",
       "      <th>hypertension</th>\n",
       "      <th>other_disease</th>\n",
       "      <th>cardiovascular</th>\n",
       "      <th>obesity</th>\n",
       "      <th>renal_chronic</th>\n",
       "      <th>tobacco</th>\n",
       "      <th>contact_other_covid</th>\n",
       "      <th>covid_res</th>\n",
       "      <th>icu</th>\n",
       "    </tr>\n",
       "  </thead>\n",
       "  <tbody>\n",
       "    <tr>\n",
       "      <th>0</th>\n",
       "      <td>16169f</td>\n",
       "      <td>2</td>\n",
       "      <td>1</td>\n",
       "      <td>04-05-2020</td>\n",
       "      <td>02-05-2020</td>\n",
       "      <td>9999-99-99</td>\n",
       "      <td>97</td>\n",
       "      <td>2</td>\n",
       "      <td>27</td>\n",
       "      <td>97</td>\n",
       "      <td>...</td>\n",
       "      <td>2</td>\n",
       "      <td>2</td>\n",
       "      <td>2</td>\n",
       "      <td>2</td>\n",
       "      <td>2</td>\n",
       "      <td>2</td>\n",
       "      <td>2</td>\n",
       "      <td>2</td>\n",
       "      <td>1</td>\n",
       "      <td>97</td>\n",
       "    </tr>\n",
       "    <tr>\n",
       "      <th>1</th>\n",
       "      <td>1009bf</td>\n",
       "      <td>2</td>\n",
       "      <td>1</td>\n",
       "      <td>19-03-2020</td>\n",
       "      <td>17-03-2020</td>\n",
       "      <td>9999-99-99</td>\n",
       "      <td>97</td>\n",
       "      <td>2</td>\n",
       "      <td>24</td>\n",
       "      <td>97</td>\n",
       "      <td>...</td>\n",
       "      <td>2</td>\n",
       "      <td>2</td>\n",
       "      <td>2</td>\n",
       "      <td>2</td>\n",
       "      <td>2</td>\n",
       "      <td>2</td>\n",
       "      <td>2</td>\n",
       "      <td>99</td>\n",
       "      <td>1</td>\n",
       "      <td>97</td>\n",
       "    </tr>\n",
       "    <tr>\n",
       "      <th>2</th>\n",
       "      <td>167386</td>\n",
       "      <td>1</td>\n",
       "      <td>2</td>\n",
       "      <td>06-04-2020</td>\n",
       "      <td>01-04-2020</td>\n",
       "      <td>9999-99-99</td>\n",
       "      <td>2</td>\n",
       "      <td>2</td>\n",
       "      <td>54</td>\n",
       "      <td>2</td>\n",
       "      <td>...</td>\n",
       "      <td>2</td>\n",
       "      <td>2</td>\n",
       "      <td>2</td>\n",
       "      <td>2</td>\n",
       "      <td>1</td>\n",
       "      <td>2</td>\n",
       "      <td>2</td>\n",
       "      <td>99</td>\n",
       "      <td>1</td>\n",
       "      <td>2</td>\n",
       "    </tr>\n",
       "    <tr>\n",
       "      <th>3</th>\n",
       "      <td>0b5948</td>\n",
       "      <td>2</td>\n",
       "      <td>2</td>\n",
       "      <td>17-04-2020</td>\n",
       "      <td>10-04-2020</td>\n",
       "      <td>9999-99-99</td>\n",
       "      <td>2</td>\n",
       "      <td>1</td>\n",
       "      <td>30</td>\n",
       "      <td>97</td>\n",
       "      <td>...</td>\n",
       "      <td>2</td>\n",
       "      <td>2</td>\n",
       "      <td>2</td>\n",
       "      <td>2</td>\n",
       "      <td>2</td>\n",
       "      <td>2</td>\n",
       "      <td>2</td>\n",
       "      <td>99</td>\n",
       "      <td>1</td>\n",
       "      <td>2</td>\n",
       "    </tr>\n",
       "    <tr>\n",
       "      <th>4</th>\n",
       "      <td>0d01b5</td>\n",
       "      <td>1</td>\n",
       "      <td>2</td>\n",
       "      <td>13-04-2020</td>\n",
       "      <td>13-04-2020</td>\n",
       "      <td>22-04-2020</td>\n",
       "      <td>2</td>\n",
       "      <td>2</td>\n",
       "      <td>60</td>\n",
       "      <td>2</td>\n",
       "      <td>...</td>\n",
       "      <td>2</td>\n",
       "      <td>1</td>\n",
       "      <td>2</td>\n",
       "      <td>1</td>\n",
       "      <td>2</td>\n",
       "      <td>2</td>\n",
       "      <td>2</td>\n",
       "      <td>99</td>\n",
       "      <td>1</td>\n",
       "      <td>2</td>\n",
       "    </tr>\n",
       "  </tbody>\n",
       "</table>\n",
       "<p>5 rows × 23 columns</p>\n",
       "</div>"
      ],
      "text/plain": [
       "       id  sex  patient_type  entry_date date_symptoms   date_died  intubed  \\\n",
       "0  16169f    2             1  04-05-2020    02-05-2020  9999-99-99       97   \n",
       "1  1009bf    2             1  19-03-2020    17-03-2020  9999-99-99       97   \n",
       "2  167386    1             2  06-04-2020    01-04-2020  9999-99-99        2   \n",
       "3  0b5948    2             2  17-04-2020    10-04-2020  9999-99-99        2   \n",
       "4  0d01b5    1             2  13-04-2020    13-04-2020  22-04-2020        2   \n",
       "\n",
       "   pneumonia  age  pregnancy  ...  inmsupr  hypertension  other_disease  \\\n",
       "0          2   27         97  ...        2             2              2   \n",
       "1          2   24         97  ...        2             2              2   \n",
       "2          2   54          2  ...        2             2              2   \n",
       "3          1   30         97  ...        2             2              2   \n",
       "4          2   60          2  ...        2             1              2   \n",
       "\n",
       "   cardiovascular  obesity  renal_chronic  tobacco  contact_other_covid  \\\n",
       "0               2        2              2        2                    2   \n",
       "1               2        2              2        2                   99   \n",
       "2               2        1              2        2                   99   \n",
       "3               2        2              2        2                   99   \n",
       "4               1        2              2        2                   99   \n",
       "\n",
       "   covid_res  icu  \n",
       "0          1   97  \n",
       "1          1   97  \n",
       "2          1    2  \n",
       "3          1    2  \n",
       "4          1    2  \n",
       "\n",
       "[5 rows x 23 columns]"
      ]
     },
     "execution_count": 1,
     "metadata": {},
     "output_type": "execute_result"
    }
   ],
   "source": [
    "import pandas as pd\n",
    "import matplotlib.pyplot as plt\n",
    "import statistics\n",
    "import numpy as np\n",
    "import scipy.stats\n",
    "import seaborn as sns\n",
    "\n",
    "dataOriginal = pd.read_csv(\"covid.csv\")\n",
    "pd.set_option('display.max_rows', None)\n",
    "dataOriginal.head(5)"
   ]
  },
  {
   "cell_type": "markdown",
   "metadata": {},
   "source": [
    "## 1.1. LOAD METADA"
   ]
  },
  {
   "cell_type": "code",
   "execution_count": 2,
   "metadata": {},
   "outputs": [
    {
     "data": {
      "text/html": [
       "<div>\n",
       "<style scoped>\n",
       "    .dataframe tbody tr th:only-of-type {\n",
       "        vertical-align: middle;\n",
       "    }\n",
       "\n",
       "    .dataframe tbody tr th {\n",
       "        vertical-align: top;\n",
       "    }\n",
       "\n",
       "    .dataframe thead th {\n",
       "        text-align: right;\n",
       "    }\n",
       "</style>\n",
       "<table border=\"1\" class=\"dataframe\">\n",
       "  <thead>\n",
       "    <tr style=\"text-align: right;\">\n",
       "      <th></th>\n",
       "      <th>CLAVE</th>\n",
       "      <th>DESCRIPCIÓN</th>\n",
       "    </tr>\n",
       "  </thead>\n",
       "  <tbody>\n",
       "    <tr>\n",
       "      <th>0</th>\n",
       "      <td>1</td>\n",
       "      <td>SI</td>\n",
       "    </tr>\n",
       "    <tr>\n",
       "      <th>1</th>\n",
       "      <td>2</td>\n",
       "      <td>NO</td>\n",
       "    </tr>\n",
       "    <tr>\n",
       "      <th>2</th>\n",
       "      <td>97</td>\n",
       "      <td>NO APLICA</td>\n",
       "    </tr>\n",
       "    <tr>\n",
       "      <th>3</th>\n",
       "      <td>98</td>\n",
       "      <td>SE IGNORA</td>\n",
       "    </tr>\n",
       "    <tr>\n",
       "      <th>4</th>\n",
       "      <td>99</td>\n",
       "      <td>NO ESPECIFICADO</td>\n",
       "    </tr>\n",
       "  </tbody>\n",
       "</table>\n",
       "</div>"
      ],
      "text/plain": [
       "   CLAVE      DESCRIPCIÓN\n",
       "0      1              SI \n",
       "1      2              NO \n",
       "2     97        NO APLICA\n",
       "3     98        SE IGNORA\n",
       "4     99  NO ESPECIFICADO"
      ]
     },
     "execution_count": 2,
     "metadata": {},
     "output_type": "execute_result"
    }
   ],
   "source": [
    "cat_si_no = pd.read_excel(\"Catalogs.xlsx\", 'Catálogo SI_NO')\n",
    "pd.set_option('display.max_rows', None)\n",
    "cat_si_no.head(5)"
   ]
  },
  {
   "cell_type": "code",
   "execution_count": 3,
   "metadata": {},
   "outputs": [
    {
     "data": {
      "text/html": [
       "<div>\n",
       "<style scoped>\n",
       "    .dataframe tbody tr th:only-of-type {\n",
       "        vertical-align: middle;\n",
       "    }\n",
       "\n",
       "    .dataframe tbody tr th {\n",
       "        vertical-align: top;\n",
       "    }\n",
       "\n",
       "    .dataframe thead th {\n",
       "        text-align: right;\n",
       "    }\n",
       "</style>\n",
       "<table border=\"1\" class=\"dataframe\">\n",
       "  <thead>\n",
       "    <tr style=\"text-align: right;\">\n",
       "      <th></th>\n",
       "      <th>CLAVE</th>\n",
       "      <th>DESCRIPCIÓN</th>\n",
       "    </tr>\n",
       "  </thead>\n",
       "  <tbody>\n",
       "    <tr>\n",
       "      <th>0</th>\n",
       "      <td>1</td>\n",
       "      <td>AMBULATORIO</td>\n",
       "    </tr>\n",
       "    <tr>\n",
       "      <th>1</th>\n",
       "      <td>2</td>\n",
       "      <td>HOSPITALIZADO</td>\n",
       "    </tr>\n",
       "    <tr>\n",
       "      <th>2</th>\n",
       "      <td>99</td>\n",
       "      <td>NO ESPECIFICADO</td>\n",
       "    </tr>\n",
       "  </tbody>\n",
       "</table>\n",
       "</div>"
      ],
      "text/plain": [
       "   CLAVE      DESCRIPCIÓN\n",
       "0      1      AMBULATORIO\n",
       "1      2    HOSPITALIZADO\n",
       "2     99  NO ESPECIFICADO"
      ]
     },
     "execution_count": 3,
     "metadata": {},
     "output_type": "execute_result"
    }
   ],
   "source": [
    "cat_pacient_type = pd.read_excel(\"Catalogs.xlsx\", 'Catálogo TIPO_PACIENTE')\n",
    "pd.set_option('display.max_rows', None)\n",
    "cat_pacient_type.head(5)"
   ]
  },
  {
   "cell_type": "code",
   "execution_count": 4,
   "metadata": {},
   "outputs": [
    {
     "data": {
      "text/html": [
       "<div>\n",
       "<style scoped>\n",
       "    .dataframe tbody tr th:only-of-type {\n",
       "        vertical-align: middle;\n",
       "    }\n",
       "\n",
       "    .dataframe tbody tr th {\n",
       "        vertical-align: top;\n",
       "    }\n",
       "\n",
       "    .dataframe thead th {\n",
       "        text-align: right;\n",
       "    }\n",
       "</style>\n",
       "<table border=\"1\" class=\"dataframe\">\n",
       "  <thead>\n",
       "    <tr style=\"text-align: right;\">\n",
       "      <th></th>\n",
       "      <th>CLAVE</th>\n",
       "      <th>DESCRIPCIÓN</th>\n",
       "    </tr>\n",
       "  </thead>\n",
       "  <tbody>\n",
       "    <tr>\n",
       "      <th>0</th>\n",
       "      <td>1</td>\n",
       "      <td>MUJER</td>\n",
       "    </tr>\n",
       "    <tr>\n",
       "      <th>1</th>\n",
       "      <td>2</td>\n",
       "      <td>HOMBRE</td>\n",
       "    </tr>\n",
       "    <tr>\n",
       "      <th>2</th>\n",
       "      <td>99</td>\n",
       "      <td>NO ESPECIFICADO</td>\n",
       "    </tr>\n",
       "  </tbody>\n",
       "</table>\n",
       "</div>"
      ],
      "text/plain": [
       "   CLAVE      DESCRIPCIÓN\n",
       "0      1            MUJER\n",
       "1      2           HOMBRE\n",
       "2     99  NO ESPECIFICADO"
      ]
     },
     "execution_count": 4,
     "metadata": {},
     "output_type": "execute_result"
    }
   ],
   "source": [
    "cat_sex = pd.read_excel(\"Catalogs.xlsx\", 'Catálogo SEXO')\n",
    "pd.set_option('display.max_rows', None)\n",
    "cat_sex.head(5)"
   ]
  },
  {
   "cell_type": "code",
   "execution_count": 5,
   "metadata": {},
   "outputs": [
    {
     "data": {
      "text/html": [
       "<div>\n",
       "<style scoped>\n",
       "    .dataframe tbody tr th:only-of-type {\n",
       "        vertical-align: middle;\n",
       "    }\n",
       "\n",
       "    .dataframe tbody tr th {\n",
       "        vertical-align: top;\n",
       "    }\n",
       "\n",
       "    .dataframe thead th {\n",
       "        text-align: right;\n",
       "    }\n",
       "</style>\n",
       "<table border=\"1\" class=\"dataframe\">\n",
       "  <thead>\n",
       "    <tr style=\"text-align: right;\">\n",
       "      <th></th>\n",
       "      <th>CLAVE</th>\n",
       "      <th>DESCRIPCIÓN</th>\n",
       "    </tr>\n",
       "  </thead>\n",
       "  <tbody>\n",
       "    <tr>\n",
       "      <th>0</th>\n",
       "      <td>1</td>\n",
       "      <td>MUJER</td>\n",
       "    </tr>\n",
       "    <tr>\n",
       "      <th>1</th>\n",
       "      <td>2</td>\n",
       "      <td>HOMBRE</td>\n",
       "    </tr>\n",
       "    <tr>\n",
       "      <th>2</th>\n",
       "      <td>99</td>\n",
       "      <td>NO ESPECIFICADO</td>\n",
       "    </tr>\n",
       "  </tbody>\n",
       "</table>\n",
       "</div>"
      ],
      "text/plain": [
       "   CLAVE      DESCRIPCIÓN\n",
       "0      1            MUJER\n",
       "1      2           HOMBRE\n",
       "2     99  NO ESPECIFICADO"
      ]
     },
     "execution_count": 5,
     "metadata": {},
     "output_type": "execute_result"
    }
   ],
   "source": [
    "cat_result = pd.read_excel(\"Catalogs.xlsx\", 'Catálogo RESULTADO')\n",
    "pd.set_option('display.max_rows', None)\n",
    "cat_sex.head(5)"
   ]
  },
  {
   "cell_type": "markdown",
   "metadata": {},
   "source": [
    "<div style=\"page-break-after: always;\"></div>"
   ]
  },
  {
   "cell_type": "markdown",
   "metadata": {},
   "source": [
    "## <font color=blue>2. IDENTIFYING MODEL VARIABLES </font>\n"
   ]
  },
  {
   "cell_type": "raw",
   "metadata": {},
   "source": [
    "We are gooing to predict if the pacient needs ICU"
   ]
  },
  {
   "cell_type": "code",
   "execution_count": 6,
   "metadata": {},
   "outputs": [
    {
     "data": {
      "text/html": [
       "<div>\n",
       "<style scoped>\n",
       "    .dataframe tbody tr th:only-of-type {\n",
       "        vertical-align: middle;\n",
       "    }\n",
       "\n",
       "    .dataframe tbody tr th {\n",
       "        vertical-align: top;\n",
       "    }\n",
       "\n",
       "    .dataframe thead th {\n",
       "        text-align: right;\n",
       "    }\n",
       "</style>\n",
       "<table border=\"1\" class=\"dataframe\">\n",
       "  <thead>\n",
       "    <tr style=\"text-align: right;\">\n",
       "      <th></th>\n",
       "      <th>Variable Name</th>\n",
       "      <th>DB Type</th>\n",
       "      <th>Model Type</th>\n",
       "      <th>CATALOG</th>\n",
       "    </tr>\n",
       "  </thead>\n",
       "  <tbody>\n",
       "    <tr>\n",
       "      <th>0</th>\n",
       "      <td>id</td>\n",
       "      <td>String</td>\n",
       "      <td>Non informative</td>\n",
       "      <td>N.A</td>\n",
       "    </tr>\n",
       "    <tr>\n",
       "      <th>1</th>\n",
       "      <td>sex</td>\n",
       "      <td>int</td>\n",
       "      <td>Categorical, Numerical, Non-ordinal, Nominal</td>\n",
       "      <td>Catálogo SEXO</td>\n",
       "    </tr>\n",
       "    <tr>\n",
       "      <th>2</th>\n",
       "      <td>patient_type</td>\n",
       "      <td>String / Date</td>\n",
       "      <td>Categorical, Numerical, Non-ordinal, Nominal</td>\n",
       "      <td>Catálogo TIPO_PACIENTE</td>\n",
       "    </tr>\n",
       "    <tr>\n",
       "      <th>3</th>\n",
       "      <td>entry_date</td>\n",
       "      <td>String / Date</td>\n",
       "      <td>Date</td>\n",
       "      <td>N.A</td>\n",
       "    </tr>\n",
       "    <tr>\n",
       "      <th>4</th>\n",
       "      <td>date_symptoms</td>\n",
       "      <td>String / Date</td>\n",
       "      <td>Date</td>\n",
       "      <td>N.A</td>\n",
       "    </tr>\n",
       "    <tr>\n",
       "      <th>5</th>\n",
       "      <td>date_died</td>\n",
       "      <td>String / Date</td>\n",
       "      <td>Date</td>\n",
       "      <td>N.A</td>\n",
       "    </tr>\n",
       "    <tr>\n",
       "      <th>6</th>\n",
       "      <td>intubed</td>\n",
       "      <td>int</td>\n",
       "      <td>Categorical, Numerical, Non-ordinal, Nominal</td>\n",
       "      <td>Catálogo SI_NO</td>\n",
       "    </tr>\n",
       "    <tr>\n",
       "      <th>7</th>\n",
       "      <td>pneumonia</td>\n",
       "      <td>int</td>\n",
       "      <td>Categorical, Numerical, Non-ordinal, Nominal</td>\n",
       "      <td>Catálogo SI_NO</td>\n",
       "    </tr>\n",
       "    <tr>\n",
       "      <th>8</th>\n",
       "      <td>age</td>\n",
       "      <td>int</td>\n",
       "      <td>Categorical, Numerical, Non-ordinal, Nominal</td>\n",
       "      <td>N.A</td>\n",
       "    </tr>\n",
       "    <tr>\n",
       "      <th>9</th>\n",
       "      <td>pregnancy</td>\n",
       "      <td>int</td>\n",
       "      <td>Categorical, Numerical, Non-ordinal, Nominal</td>\n",
       "      <td>Catálogo SI_NO</td>\n",
       "    </tr>\n",
       "    <tr>\n",
       "      <th>10</th>\n",
       "      <td>diabetes</td>\n",
       "      <td>int</td>\n",
       "      <td>Categorical, Numerical, Non-ordinal, Nominal</td>\n",
       "      <td>Catálogo SI_NO</td>\n",
       "    </tr>\n",
       "    <tr>\n",
       "      <th>11</th>\n",
       "      <td>copd</td>\n",
       "      <td>int</td>\n",
       "      <td>Categorical, Numerical, Non-ordinal, Nominal</td>\n",
       "      <td>Catálogo SI_NO</td>\n",
       "    </tr>\n",
       "    <tr>\n",
       "      <th>12</th>\n",
       "      <td>asthma</td>\n",
       "      <td>int</td>\n",
       "      <td>Categorical, Numerical, Non-ordinal, Nominal</td>\n",
       "      <td>Catálogo SI_NO</td>\n",
       "    </tr>\n",
       "    <tr>\n",
       "      <th>13</th>\n",
       "      <td>inmsupr</td>\n",
       "      <td>int</td>\n",
       "      <td>Categorical, Numerical, Non-ordinal, Nominal</td>\n",
       "      <td>Catálogo SI_NO</td>\n",
       "    </tr>\n",
       "    <tr>\n",
       "      <th>14</th>\n",
       "      <td>hypertension</td>\n",
       "      <td>int</td>\n",
       "      <td>Categorical, Numerical, Non-ordinal, Nominal</td>\n",
       "      <td>Catálogo SI_NO</td>\n",
       "    </tr>\n",
       "    <tr>\n",
       "      <th>15</th>\n",
       "      <td>other_disease</td>\n",
       "      <td>int</td>\n",
       "      <td>Categorical, Numerical, Non-ordinal, Nominal</td>\n",
       "      <td>Catálogo SI_NO</td>\n",
       "    </tr>\n",
       "    <tr>\n",
       "      <th>16</th>\n",
       "      <td>cardiovascular</td>\n",
       "      <td>int</td>\n",
       "      <td>Categorical, Numerical, Non-ordinal, Nominal</td>\n",
       "      <td>Catálogo SI_NO</td>\n",
       "    </tr>\n",
       "    <tr>\n",
       "      <th>17</th>\n",
       "      <td>obesity</td>\n",
       "      <td>int</td>\n",
       "      <td>Categorical, Numerical, Non-ordinal, Nominal</td>\n",
       "      <td>Catálogo SI_NO</td>\n",
       "    </tr>\n",
       "    <tr>\n",
       "      <th>18</th>\n",
       "      <td>renal_chronic</td>\n",
       "      <td>int</td>\n",
       "      <td>Categorical, Numerical, Non-ordinal, Nominal</td>\n",
       "      <td>Catálogo SI_NO</td>\n",
       "    </tr>\n",
       "    <tr>\n",
       "      <th>19</th>\n",
       "      <td>tobacco</td>\n",
       "      <td>int</td>\n",
       "      <td>Categorical, Numerical, Non-ordinal, Nominal</td>\n",
       "      <td>Catálogo SI_NO</td>\n",
       "    </tr>\n",
       "    <tr>\n",
       "      <th>20</th>\n",
       "      <td>contact_other_covid</td>\n",
       "      <td>int</td>\n",
       "      <td>Categorical, Numerical, Non-ordinal, Nominal</td>\n",
       "      <td>Catálogo SI_NO</td>\n",
       "    </tr>\n",
       "    <tr>\n",
       "      <th>21</th>\n",
       "      <td>covid_res</td>\n",
       "      <td>int</td>\n",
       "      <td>Categorical, Numerical, Non-ordinal, Nominal</td>\n",
       "      <td>Catálogo RESULTADO</td>\n",
       "    </tr>\n",
       "    <tr>\n",
       "      <th>22</th>\n",
       "      <td>icu</td>\n",
       "      <td>int</td>\n",
       "      <td>Categorical, Numerical, Non-ordinal, Nominal</td>\n",
       "      <td>Catálogo SI_NO</td>\n",
       "    </tr>\n",
       "  </tbody>\n",
       "</table>\n",
       "</div>"
      ],
      "text/plain": [
       "          Variable Name        DB Type  \\\n",
       "0                    id         String   \n",
       "1                   sex            int   \n",
       "2          patient_type  String / Date   \n",
       "3            entry_date  String / Date   \n",
       "4         date_symptoms  String / Date   \n",
       "5             date_died  String / Date   \n",
       "6               intubed            int   \n",
       "7             pneumonia            int   \n",
       "8                   age            int   \n",
       "9             pregnancy            int   \n",
       "10             diabetes            int   \n",
       "11                 copd            int   \n",
       "12               asthma            int   \n",
       "13              inmsupr            int   \n",
       "14         hypertension            int   \n",
       "15        other_disease            int   \n",
       "16       cardiovascular            int   \n",
       "17              obesity            int   \n",
       "18        renal_chronic            int   \n",
       "19              tobacco            int   \n",
       "20  contact_other_covid            int   \n",
       "21            covid_res            int   \n",
       "22                  icu            int   \n",
       "\n",
       "                                      Model Type                 CATALOG  \n",
       "0                                Non informative                     N.A  \n",
       "1   Categorical, Numerical, Non-ordinal, Nominal           Catálogo SEXO  \n",
       "2   Categorical, Numerical, Non-ordinal, Nominal  Catálogo TIPO_PACIENTE  \n",
       "3                                           Date                     N.A  \n",
       "4                                           Date                     N.A  \n",
       "5                                           Date                     N.A  \n",
       "6   Categorical, Numerical, Non-ordinal, Nominal          Catálogo SI_NO  \n",
       "7   Categorical, Numerical, Non-ordinal, Nominal          Catálogo SI_NO  \n",
       "8   Categorical, Numerical, Non-ordinal, Nominal                     N.A  \n",
       "9   Categorical, Numerical, Non-ordinal, Nominal          Catálogo SI_NO  \n",
       "10  Categorical, Numerical, Non-ordinal, Nominal          Catálogo SI_NO  \n",
       "11  Categorical, Numerical, Non-ordinal, Nominal          Catálogo SI_NO  \n",
       "12  Categorical, Numerical, Non-ordinal, Nominal          Catálogo SI_NO  \n",
       "13  Categorical, Numerical, Non-ordinal, Nominal          Catálogo SI_NO  \n",
       "14  Categorical, Numerical, Non-ordinal, Nominal          Catálogo SI_NO  \n",
       "15  Categorical, Numerical, Non-ordinal, Nominal          Catálogo SI_NO  \n",
       "16  Categorical, Numerical, Non-ordinal, Nominal          Catálogo SI_NO  \n",
       "17  Categorical, Numerical, Non-ordinal, Nominal          Catálogo SI_NO  \n",
       "18  Categorical, Numerical, Non-ordinal, Nominal          Catálogo SI_NO  \n",
       "19  Categorical, Numerical, Non-ordinal, Nominal          Catálogo SI_NO  \n",
       "20  Categorical, Numerical, Non-ordinal, Nominal          Catálogo SI_NO  \n",
       "21  Categorical, Numerical, Non-ordinal, Nominal      Catálogo RESULTADO  \n",
       "22  Categorical, Numerical, Non-ordinal, Nominal          Catálogo SI_NO  "
      ]
     },
     "execution_count": 6,
     "metadata": {},
     "output_type": "execute_result"
    }
   ],
   "source": [
    "dataInfo = pd.read_excel(\"covidInfo.xlsx\", \"DataTypes\")\n",
    "pd.set_option('display.max_rows', None)\n",
    "dataInfo"
   ]
  },
  {
   "cell_type": "code",
   "execution_count": 2,
   "metadata": {},
   "outputs": [],
   "source": [
    "# All labels\n",
    "datalabels = ['id', 'sex', 'patient_type', 'entry_date', 'date_symptoms',\n",
    "              'date_died','intubed','pneumonia','age','pregnancy','diabetes','copd','asthma','inmsupr','hypertension',\n",
    "              'other_disease','cardiovascular','obesity','renal_chronic','tobacco','contact_other_covid'\n",
    "              ,'covid_res','icu']\n",
    "\n",
    "# Ignored: id, entrydate, date_symptons, date_died, icu\n",
    "predictors = ['sex', 'patient_type',\n",
    "              'intubed','pneumonia','age','pregnancy','diabetes','copd','asthma','inmsupr','hypertension',\n",
    "              'other_disease','cardiovascular','obesity','renal_chronic','tobacco',\n",
    "              'contact_other_covid','covid_res']\n",
    "\n",
    "target_column= 'icu'\n",
    "\n",
    "model_columns = ['sex', 'patient_type',\n",
    "              'intubed','pneumonia','age','pregnancy','diabetes','copd','asthma','inmsupr','hypertension',\n",
    "              'other_disease','cardiovascular','obesity','renal_chronic','tobacco',\n",
    "              'contact_other_covid','covid_res', target_column]\n",
    "\n",
    "prefered_columns = ['sex','cardiovascular','obesity','tobacco','contact_other_covid','covid_res', target_column]"
   ]
  },
  {
   "cell_type": "markdown",
   "metadata": {},
   "source": [
    "<div style=\"page-break-after: always;\"></div>"
   ]
  },
  {
   "cell_type": "markdown",
   "metadata": {},
   "source": [
    "#  <font color=blue>3. DATA EXPLORATION</font>"
   ]
  },
  {
   "cell_type": "markdown",
   "metadata": {},
   "source": [
    "# 3.1.  Applying Catalogs"
   ]
  },
  {
   "cell_type": "code",
   "execution_count": null,
   "metadata": {},
   "outputs": [],
   "source": []
  },
  {
   "cell_type": "code",
   "execution_count": null,
   "metadata": {},
   "outputs": [],
   "source": []
  },
  {
   "cell_type": "markdown",
   "metadata": {},
   "source": [
    "# 3.1.  Inspecting for types and Null values detection"
   ]
  },
  {
   "cell_type": "code",
   "execution_count": 8,
   "metadata": {},
   "outputs": [
    {
     "name": "stdout",
     "output_type": "stream",
     "text": [
      "<class 'pandas.core.frame.DataFrame'>\n",
      "RangeIndex: 566602 entries, 0 to 566601\n",
      "Data columns (total 23 columns):\n",
      " #   Column               Non-Null Count   Dtype \n",
      "---  ------               --------------   ----- \n",
      " 0   id                   566602 non-null  object\n",
      " 1   sex                  566602 non-null  int64 \n",
      " 2   patient_type         566602 non-null  int64 \n",
      " 3   entry_date           566602 non-null  object\n",
      " 4   date_symptoms        566602 non-null  object\n",
      " 5   date_died            566602 non-null  object\n",
      " 6   intubed              566602 non-null  int64 \n",
      " 7   pneumonia            566602 non-null  int64 \n",
      " 8   age                  566602 non-null  int64 \n",
      " 9   pregnancy            566602 non-null  int64 \n",
      " 10  diabetes             566602 non-null  int64 \n",
      " 11  copd                 566602 non-null  int64 \n",
      " 12  asthma               566602 non-null  int64 \n",
      " 13  inmsupr              566602 non-null  int64 \n",
      " 14  hypertension         566602 non-null  int64 \n",
      " 15  other_disease        566602 non-null  int64 \n",
      " 16  cardiovascular       566602 non-null  int64 \n",
      " 17  obesity              566602 non-null  int64 \n",
      " 18  renal_chronic        566602 non-null  int64 \n",
      " 19  tobacco              566602 non-null  int64 \n",
      " 20  contact_other_covid  566602 non-null  int64 \n",
      " 21  covid_res            566602 non-null  int64 \n",
      " 22  icu                  566602 non-null  int64 \n",
      "dtypes: int64(19), object(4)\n",
      "memory usage: 99.4+ MB\n"
     ]
    }
   ],
   "source": [
    "dataOriginal.info()"
   ]
  },
  {
   "cell_type": "code",
   "execution_count": 9,
   "metadata": {},
   "outputs": [
    {
     "data": {
      "text/plain": [
       "0"
      ]
     },
     "execution_count": 9,
     "metadata": {},
     "output_type": "execute_result"
    }
   ],
   "source": [
    "dataOriginal.isnull().values.sum()"
   ]
  },
  {
   "cell_type": "markdown",
   "metadata": {},
   "source": [
    "# 3.1.1.  Searching odd information in numerical descriptor - AGE"
   ]
  },
  {
   "cell_type": "code",
   "execution_count": 10,
   "metadata": {},
   "outputs": [
    {
     "data": {
      "image/png": "[encoded data removed]",
      "text/plain": [
       "<Figure size 576x288 with 1 Axes>"
      ]
     },
     "metadata": {
      "needs_background": "light"
     },
     "output_type": "display_data"
    }
   ],
   "source": [
    "#Diagram de moustache\n",
    "\n",
    "dataOriginal.boxplot(column='age', figsize=(8,4), vert=False)\n",
    "plt.ylabel(\"Valeurs\")\n",
    "plt.title(\"Variable Age.\" )\n",
    "plt.grid()\n",
    "plt.show()"
   ]
  },
  {
   "cell_type": "markdown",
   "metadata": {},
   "source": [
    "<font color='red'>There are 2944 samples with age greater than 100 ans.. to DO ???</font>"
   ]
  },
  {
   "cell_type": "markdown",
   "metadata": {},
   "source": [
    "<div style=\"page-break-after: always;\"></div>"
   ]
  },
  {
   "cell_type": "markdown",
   "metadata": {},
   "source": [
    "# 3.2. Inspecting variables quantitatives - Age"
   ]
  },
  {
   "cell_type": "code",
   "execution_count": 11,
   "metadata": {},
   "outputs": [
    {
     "data": {
      "image/png": "[encoded data removed]",
      "text/plain": [
       "<Figure size 720x360 with 1 Axes>"
      ]
     },
     "metadata": {
      "needs_background": "light"
     },
     "output_type": "display_data"
    }
   ],
   "source": [
    "import seaborn as sns\n",
    "\n",
    "mean=dataOriginal['age'].mean();\n",
    "median=dataOriginal['age'].median();\n",
    "mode=dataOriginal['age'].mode();\n",
    "fig, ax = plt.subplots(figsize=(10,5));\n",
    "\n",
    "sns.distplot(dataOriginal['age']);\n",
    "plt.title('Distribution Age');\n",
    "plt.axvline(mean,color='green',label='Mean'); \n",
    "plt.axvline(median,color='blue',label='Median');\n",
    "plt.axvline(mode[0],color='red',label='Mode')\n",
    "\n",
    "plt.legend();"
   ]
  },
  {
   "cell_type": "code",
   "execution_count": 12,
   "metadata": {},
   "outputs": [
    {
     "data": {
      "text/plain": [
       "42.62248280097847"
      ]
     },
     "execution_count": 12,
     "metadata": {},
     "output_type": "execute_result"
    }
   ],
   "source": [
    "mean"
   ]
  },
  {
   "cell_type": "code",
   "execution_count": 13,
   "metadata": {},
   "outputs": [
    {
     "data": {
      "text/plain": [
       "0    30\n",
       "dtype: int64"
      ]
     },
     "execution_count": 13,
     "metadata": {},
     "output_type": "execute_result"
    }
   ],
   "source": [
    "mode"
   ]
  },
  {
   "cell_type": "markdown",
   "metadata": {},
   "source": [
    "# 2.3. Inspecting categorical variables "
   ]
  },
  {
   "cell_type": "code",
   "execution_count": 14,
   "metadata": {},
   "outputs": [
    {
     "data": {
      "image/png": "[encoded data removed]",
      "text/plain": [
       "<Figure size 720x864 with 9 Axes>"
      ]
     },
     "metadata": {
      "needs_background": "light"
     },
     "output_type": "display_data"
    }
   ],
   "source": [
    "import matplotlib.pyplot as plt\n",
    "\n",
    "\n",
    "fig, ax =plt.subplots(3,3)\n",
    " \n",
    "fig.set_size_inches(10, 12, forward=True)\n",
    "plt.title(\"Overview Chart to main maladies\")\n",
    "\n",
    "sns.countplot(x='pneumonia', data=dataOriginal, ax=ax[0,0])\n",
    "sns.countplot(x='asthma', data=dataOriginal, ax=ax[0,1])\n",
    "sns.countplot(x='tobacco', data=dataOriginal, ax=ax[0,2])\n",
    "\n",
    "sns.countplot(x='cardiovascular', data=dataOriginal, ax=ax[1,0])\n",
    "sns.countplot(x='hypertension', data=dataOriginal, ax=ax[1,1])\n",
    "sns.countplot(x='obesity', data=dataOriginal, ax=ax[1,2])\n",
    "\n",
    "sns.countplot(x='contact_other_covid', data=dataOriginal, ax=ax[2,0])\n",
    "sns.countplot(x='covid_res', data=dataOriginal, ax=ax[2,1])\n",
    "sns.countplot(x='intubed', data=dataOriginal, ax=ax[2,2])\n",
    "#fig.legend() use handles\n",
    "fig.tight_layout()\n"
   ]
  },
  {
   "cell_type": "markdown",
   "metadata": {},
   "source": [
    "## Calculate numerical values"
   ]
  },
  {
   "cell_type": "code",
   "execution_count": 15,
   "metadata": {},
   "outputs": [
    {
     "data": {
      "text/html": [
       "<div>\n",
       "<style scoped>\n",
       "    .dataframe tbody tr th:only-of-type {\n",
       "        vertical-align: middle;\n",
       "    }\n",
       "\n",
       "    .dataframe tbody tr th {\n",
       "        vertical-align: top;\n",
       "    }\n",
       "\n",
       "    .dataframe thead th {\n",
       "        text-align: right;\n",
       "    }\n",
       "</style>\n",
       "<table border=\"1\" class=\"dataframe\">\n",
       "  <thead>\n",
       "    <tr style=\"text-align: right;\">\n",
       "      <th></th>\n",
       "      <th>pneumonia</th>\n",
       "    </tr>\n",
       "  </thead>\n",
       "  <tbody>\n",
       "    <tr>\n",
       "      <th>2</th>\n",
       "      <td>478416</td>\n",
       "    </tr>\n",
       "    <tr>\n",
       "      <th>1</th>\n",
       "      <td>88175</td>\n",
       "    </tr>\n",
       "    <tr>\n",
       "      <th>99</th>\n",
       "      <td>11</td>\n",
       "    </tr>\n",
       "  </tbody>\n",
       "</table>\n",
       "</div>"
      ],
      "text/plain": [
       "    pneumonia\n",
       "2      478416\n",
       "1       88175\n",
       "99         11"
      ]
     },
     "execution_count": 15,
     "metadata": {},
     "output_type": "execute_result"
    }
   ],
   "source": [
    "pd.DataFrame(dataOriginal['pneumonia'].value_counts())"
   ]
  },
  {
   "cell_type": "code",
   "execution_count": 16,
   "metadata": {},
   "outputs": [
    {
     "data": {
      "text/html": [
       "<div>\n",
       "<style scoped>\n",
       "    .dataframe tbody tr th:only-of-type {\n",
       "        vertical-align: middle;\n",
       "    }\n",
       "\n",
       "    .dataframe tbody tr th {\n",
       "        vertical-align: top;\n",
       "    }\n",
       "\n",
       "    .dataframe thead th {\n",
       "        text-align: right;\n",
       "    }\n",
       "</style>\n",
       "<table border=\"1\" class=\"dataframe\">\n",
       "  <thead>\n",
       "    <tr style=\"text-align: right;\">\n",
       "      <th></th>\n",
       "      <th>asthma</th>\n",
       "    </tr>\n",
       "  </thead>\n",
       "  <tbody>\n",
       "    <tr>\n",
       "      <th>2</th>\n",
       "      <td>546824</td>\n",
       "    </tr>\n",
       "    <tr>\n",
       "      <th>1</th>\n",
       "      <td>18026</td>\n",
       "    </tr>\n",
       "    <tr>\n",
       "      <th>98</th>\n",
       "      <td>1752</td>\n",
       "    </tr>\n",
       "  </tbody>\n",
       "</table>\n",
       "</div>"
      ],
      "text/plain": [
       "    asthma\n",
       "2   546824\n",
       "1    18026\n",
       "98    1752"
      ]
     },
     "execution_count": 16,
     "metadata": {},
     "output_type": "execute_result"
    }
   ],
   "source": [
    "pd.DataFrame(dataOriginal['asthma'].value_counts())"
   ]
  },
  {
   "cell_type": "code",
   "execution_count": 17,
   "metadata": {},
   "outputs": [
    {
     "data": {
      "text/html": [
       "<div>\n",
       "<style scoped>\n",
       "    .dataframe tbody tr th:only-of-type {\n",
       "        vertical-align: middle;\n",
       "    }\n",
       "\n",
       "    .dataframe tbody tr th {\n",
       "        vertical-align: top;\n",
       "    }\n",
       "\n",
       "    .dataframe thead th {\n",
       "        text-align: right;\n",
       "    }\n",
       "</style>\n",
       "<table border=\"1\" class=\"dataframe\">\n",
       "  <thead>\n",
       "    <tr style=\"text-align: right;\">\n",
       "      <th></th>\n",
       "      <th>tobacco</th>\n",
       "    </tr>\n",
       "  </thead>\n",
       "  <tbody>\n",
       "    <tr>\n",
       "      <th>2</th>\n",
       "      <td>516678</td>\n",
       "    </tr>\n",
       "    <tr>\n",
       "      <th>1</th>\n",
       "      <td>48017</td>\n",
       "    </tr>\n",
       "    <tr>\n",
       "      <th>98</th>\n",
       "      <td>1907</td>\n",
       "    </tr>\n",
       "  </tbody>\n",
       "</table>\n",
       "</div>"
      ],
      "text/plain": [
       "    tobacco\n",
       "2    516678\n",
       "1     48017\n",
       "98     1907"
      ]
     },
     "execution_count": 17,
     "metadata": {},
     "output_type": "execute_result"
    }
   ],
   "source": [
    "pd.DataFrame(dataOriginal['tobacco'].value_counts())"
   ]
  },
  {
   "cell_type": "code",
   "execution_count": 18,
   "metadata": {},
   "outputs": [
    {
     "data": {
      "text/html": [
       "<div>\n",
       "<style scoped>\n",
       "    .dataframe tbody tr th:only-of-type {\n",
       "        vertical-align: middle;\n",
       "    }\n",
       "\n",
       "    .dataframe tbody tr th {\n",
       "        vertical-align: top;\n",
       "    }\n",
       "\n",
       "    .dataframe thead th {\n",
       "        text-align: right;\n",
       "    }\n",
       "</style>\n",
       "<table border=\"1\" class=\"dataframe\">\n",
       "  <thead>\n",
       "    <tr style=\"text-align: right;\">\n",
       "      <th></th>\n",
       "      <th>pregnancy</th>\n",
       "    </tr>\n",
       "  </thead>\n",
       "  <tbody>\n",
       "    <tr>\n",
       "      <th>97</th>\n",
       "      <td>287112</td>\n",
       "    </tr>\n",
       "    <tr>\n",
       "      <th>2</th>\n",
       "      <td>273840</td>\n",
       "    </tr>\n",
       "    <tr>\n",
       "      <th>1</th>\n",
       "      <td>4063</td>\n",
       "    </tr>\n",
       "    <tr>\n",
       "      <th>98</th>\n",
       "      <td>1587</td>\n",
       "    </tr>\n",
       "  </tbody>\n",
       "</table>\n",
       "</div>"
      ],
      "text/plain": [
       "    pregnancy\n",
       "97     287112\n",
       "2      273840\n",
       "1        4063\n",
       "98       1587"
      ]
     },
     "execution_count": 18,
     "metadata": {},
     "output_type": "execute_result"
    }
   ],
   "source": [
    "pd.DataFrame(dataOriginal['pregnancy'].value_counts())"
   ]
  },
  {
   "cell_type": "markdown",
   "metadata": {},
   "source": [
    "## 2.3.1.  Inspecting categorical variables using bivariable relatioships with sex of patients.\n"
   ]
  },
  {
   "cell_type": "code",
   "execution_count": 19,
   "metadata": {
    "scrolled": false
   },
   "outputs": [
    {
     "data": {
      "text/plain": [
       "<matplotlib.axes._subplots.AxesSubplot at 0x2095f5e14c8>"
      ]
     },
     "execution_count": 19,
     "metadata": {},
     "output_type": "execute_result"
    },
    {
     "data": {
      "image/png": "[encoded data removed]",
      "text/plain": [
       "<Figure size 1080x720 with 4 Axes>"
      ]
     },
     "metadata": {
      "needs_background": "light"
     },
     "output_type": "display_data"
    }
   ],
   "source": [
    "fig, axs = plt.subplots(2,2)\n",
    "\n",
    "pneumonia_bySex= dataOriginal.pivot_table(index='sex', columns='pneumonia', values='icu', aggfunc='count')\n",
    "pneumonia_bySex.plot(kind='barh', stacked=True, figsize=[15,10], colormap='Dark2_r',ax=axs[0,0])\n",
    "\n",
    "asthma_bySex= dataOriginal.pivot_table(index='sex', columns='asthma', values='icu', aggfunc='count')\n",
    "asthma_bySex.plot(kind='barh', stacked=True, figsize=[15,10], colormap='Dark2_r',ax=axs[0,1])\n",
    "\n",
    "tobacco_bySex= dataOriginal.pivot_table(index='sex', columns='tobacco', values='icu', aggfunc='count')\n",
    "tobacco_bySex.plot(kind='barh', stacked=True, figsize=[15,10], colormap='Dark2_r',ax=axs[1,0])\n",
    ",\n",
    "pregnancy_bySex= dataOriginal.pivot_table(index='sex', columns='pregnancy', values='icu', aggfunc='count')\n",
    "pregnancy_bySex.plot(kind='barh', stacked=True, figsize=[15,10], colormap='Dark2_r',ax=axs[1,1])\n",
    "\n"
   ]
  },
  {
   "cell_type": "markdown",
   "metadata": {},
   "source": [
    "## Calculate numerical values"
   ]
  },
  {
   "cell_type": "code",
   "execution_count": 20,
   "metadata": {},
   "outputs": [
    {
     "data": {
      "text/html": [
       "<div>\n",
       "<style scoped>\n",
       "    .dataframe tbody tr th:only-of-type {\n",
       "        vertical-align: middle;\n",
       "    }\n",
       "\n",
       "    .dataframe tbody tr th {\n",
       "        vertical-align: top;\n",
       "    }\n",
       "\n",
       "    .dataframe thead th {\n",
       "        text-align: right;\n",
       "    }\n",
       "</style>\n",
       "<table border=\"1\" class=\"dataframe\">\n",
       "  <thead>\n",
       "    <tr style=\"text-align: right;\">\n",
       "      <th>pneumonia</th>\n",
       "      <th>1</th>\n",
       "      <th>2</th>\n",
       "      <th>99</th>\n",
       "    </tr>\n",
       "    <tr>\n",
       "      <th>sex</th>\n",
       "      <th></th>\n",
       "      <th></th>\n",
       "      <th></th>\n",
       "    </tr>\n",
       "  </thead>\n",
       "  <tbody>\n",
       "    <tr>\n",
       "      <th>1</th>\n",
       "      <td>34752</td>\n",
       "      <td>244733</td>\n",
       "      <td>5</td>\n",
       "    </tr>\n",
       "    <tr>\n",
       "      <th>2</th>\n",
       "      <td>53423</td>\n",
       "      <td>233683</td>\n",
       "      <td>6</td>\n",
       "    </tr>\n",
       "  </tbody>\n",
       "</table>\n",
       "</div>"
      ],
      "text/plain": [
       "pneumonia     1       2   99\n",
       "sex                         \n",
       "1          34752  244733   5\n",
       "2          53423  233683   6"
      ]
     },
     "execution_count": 20,
     "metadata": {},
     "output_type": "execute_result"
    }
   ],
   "source": [
    "pneumonia_bySex"
   ]
  },
  {
   "cell_type": "code",
   "execution_count": 21,
   "metadata": {},
   "outputs": [
    {
     "data": {
      "text/html": [
       "<div>\n",
       "<style scoped>\n",
       "    .dataframe tbody tr th:only-of-type {\n",
       "        vertical-align: middle;\n",
       "    }\n",
       "\n",
       "    .dataframe tbody tr th {\n",
       "        vertical-align: top;\n",
       "    }\n",
       "\n",
       "    .dataframe thead th {\n",
       "        text-align: right;\n",
       "    }\n",
       "</style>\n",
       "<table border=\"1\" class=\"dataframe\">\n",
       "  <thead>\n",
       "    <tr style=\"text-align: right;\">\n",
       "      <th>tobacco</th>\n",
       "      <th>1</th>\n",
       "      <th>2</th>\n",
       "      <th>98</th>\n",
       "    </tr>\n",
       "    <tr>\n",
       "      <th>sex</th>\n",
       "      <th></th>\n",
       "      <th></th>\n",
       "      <th></th>\n",
       "    </tr>\n",
       "  </thead>\n",
       "  <tbody>\n",
       "    <tr>\n",
       "      <th>1</th>\n",
       "      <td>15545</td>\n",
       "      <td>263171</td>\n",
       "      <td>774</td>\n",
       "    </tr>\n",
       "    <tr>\n",
       "      <th>2</th>\n",
       "      <td>32472</td>\n",
       "      <td>253507</td>\n",
       "      <td>1133</td>\n",
       "    </tr>\n",
       "  </tbody>\n",
       "</table>\n",
       "</div>"
      ],
      "text/plain": [
       "tobacco     1       2     98\n",
       "sex                         \n",
       "1        15545  263171   774\n",
       "2        32472  253507  1133"
      ]
     },
     "execution_count": 21,
     "metadata": {},
     "output_type": "execute_result"
    }
   ],
   "source": [
    "tobacco_bySex"
   ]
  },
  {
   "cell_type": "code",
   "execution_count": 22,
   "metadata": {},
   "outputs": [
    {
     "data": {
      "text/html": [
       "<div>\n",
       "<style scoped>\n",
       "    .dataframe tbody tr th:only-of-type {\n",
       "        vertical-align: middle;\n",
       "    }\n",
       "\n",
       "    .dataframe tbody tr th {\n",
       "        vertical-align: top;\n",
       "    }\n",
       "\n",
       "    .dataframe thead th {\n",
       "        text-align: right;\n",
       "    }\n",
       "</style>\n",
       "<table border=\"1\" class=\"dataframe\">\n",
       "  <thead>\n",
       "    <tr style=\"text-align: right;\">\n",
       "      <th>asthma</th>\n",
       "      <th>1</th>\n",
       "      <th>2</th>\n",
       "      <th>98</th>\n",
       "    </tr>\n",
       "    <tr>\n",
       "      <th>sex</th>\n",
       "      <th></th>\n",
       "      <th></th>\n",
       "      <th></th>\n",
       "    </tr>\n",
       "  </thead>\n",
       "  <tbody>\n",
       "    <tr>\n",
       "      <th>1</th>\n",
       "      <td>11203</td>\n",
       "      <td>267558</td>\n",
       "      <td>729</td>\n",
       "    </tr>\n",
       "    <tr>\n",
       "      <th>2</th>\n",
       "      <td>6823</td>\n",
       "      <td>279266</td>\n",
       "      <td>1023</td>\n",
       "    </tr>\n",
       "  </tbody>\n",
       "</table>\n",
       "</div>"
      ],
      "text/plain": [
       "asthma     1       2     98\n",
       "sex                        \n",
       "1       11203  267558   729\n",
       "2        6823  279266  1023"
      ]
     },
     "execution_count": 22,
     "metadata": {},
     "output_type": "execute_result"
    }
   ],
   "source": [
    "asthma_bySex"
   ]
  },
  {
   "cell_type": "code",
   "execution_count": 23,
   "metadata": {},
   "outputs": [
    {
     "data": {
      "text/html": [
       "<div>\n",
       "<style scoped>\n",
       "    .dataframe tbody tr th:only-of-type {\n",
       "        vertical-align: middle;\n",
       "    }\n",
       "\n",
       "    .dataframe tbody tr th {\n",
       "        vertical-align: top;\n",
       "    }\n",
       "\n",
       "    .dataframe thead th {\n",
       "        text-align: right;\n",
       "    }\n",
       "</style>\n",
       "<table border=\"1\" class=\"dataframe\">\n",
       "  <thead>\n",
       "    <tr style=\"text-align: right;\">\n",
       "      <th>pregnancy</th>\n",
       "      <th>1</th>\n",
       "      <th>2</th>\n",
       "      <th>97</th>\n",
       "      <th>98</th>\n",
       "    </tr>\n",
       "    <tr>\n",
       "      <th>sex</th>\n",
       "      <th></th>\n",
       "      <th></th>\n",
       "      <th></th>\n",
       "      <th></th>\n",
       "    </tr>\n",
       "  </thead>\n",
       "  <tbody>\n",
       "    <tr>\n",
       "      <th>1</th>\n",
       "      <td>4063.0</td>\n",
       "      <td>273840.0</td>\n",
       "      <td>NaN</td>\n",
       "      <td>1587.0</td>\n",
       "    </tr>\n",
       "    <tr>\n",
       "      <th>2</th>\n",
       "      <td>NaN</td>\n",
       "      <td>NaN</td>\n",
       "      <td>287112.0</td>\n",
       "      <td>NaN</td>\n",
       "    </tr>\n",
       "  </tbody>\n",
       "</table>\n",
       "</div>"
      ],
      "text/plain": [
       "pregnancy      1         2         97      98\n",
       "sex                                          \n",
       "1          4063.0  273840.0       NaN  1587.0\n",
       "2             NaN       NaN  287112.0     NaN"
      ]
     },
     "execution_count": 23,
     "metadata": {},
     "output_type": "execute_result"
    }
   ],
   "source": [
    "pregnancy_bySex"
   ]
  },
  {
   "cell_type": "markdown",
   "metadata": {},
   "source": [
    "# 2.3.2. Inspecting categorical variables using bivariable relatioships with ICU (Intensive Care Medical Unit) reference"
   ]
  },
  {
   "cell_type": "code",
   "execution_count": 24,
   "metadata": {},
   "outputs": [
    {
     "data": {
      "text/plain": [
       "<matplotlib.axes._subplots.AxesSubplot at 0x2095f7493c8>"
      ]
     },
     "execution_count": 24,
     "metadata": {},
     "output_type": "execute_result"
    },
    {
     "data": {
      "image/png": "[encoded data removed]",
      "text/plain": [
       "<Figure size 1080x720 with 4 Axes>"
      ]
     },
     "metadata": {
      "needs_background": "light"
     },
     "output_type": "display_data"
    }
   ],
   "source": [
    "fig, axs = plt.subplots(2,2)\n",
    "\n",
    "pneumonia_bySex= dataOriginal.pivot_table(index='sex', columns='cardiovascular', values='icu', aggfunc='count')\n",
    "pneumonia_bySex.plot(kind='barh', stacked=True, figsize=[15,10], colormap='Dark2_r',ax=axs[0,0])\n",
    "\n",
    "asthma_bySex= dataOriginal.pivot_table(index='sex', columns='hypertension', values='icu', aggfunc='count')\n",
    "asthma_bySex.plot(kind='barh', stacked=True, figsize=[15,10], colormap='Dark2_r',ax=axs[0,1])\n",
    "\n",
    "tobacco_bySex= dataOriginal.pivot_table(index='sex', columns='obesity', values='icu', aggfunc='count')\n",
    "tobacco_bySex.plot(kind='barh', stacked=True, figsize=[15,10], colormap='Dark2_r',ax=axs[1,0])\n",
    "\n",
    "pregnancy_bySex= dataOriginal.pivot_table(index='sex', columns='covid_res', values='icu', aggfunc='count')\n",
    "pregnancy_bySex.plot(kind='barh', stacked=True, figsize=[15,10], colormap='Dark2_r',ax=axs[1,1])\n"
   ]
  },
  {
   "cell_type": "code",
   "execution_count": 25,
   "metadata": {},
   "outputs": [
    {
     "data": {
      "text/html": [
       "<div>\n",
       "<style scoped>\n",
       "    .dataframe tbody tr th:only-of-type {\n",
       "        vertical-align: middle;\n",
       "    }\n",
       "\n",
       "    .dataframe tbody tr th {\n",
       "        vertical-align: top;\n",
       "    }\n",
       "\n",
       "    .dataframe thead th {\n",
       "        text-align: right;\n",
       "    }\n",
       "</style>\n",
       "<table border=\"1\" class=\"dataframe\">\n",
       "  <thead>\n",
       "    <tr style=\"text-align: right;\">\n",
       "      <th>cardiovascular</th>\n",
       "      <th>1</th>\n",
       "      <th>2</th>\n",
       "      <th>98</th>\n",
       "    </tr>\n",
       "    <tr>\n",
       "      <th>sex</th>\n",
       "      <th></th>\n",
       "      <th></th>\n",
       "      <th></th>\n",
       "    </tr>\n",
       "  </thead>\n",
       "  <tbody>\n",
       "    <tr>\n",
       "      <th>1</th>\n",
       "      <td>5837</td>\n",
       "      <td>272893</td>\n",
       "      <td>760</td>\n",
       "    </tr>\n",
       "    <tr>\n",
       "      <th>2</th>\n",
       "      <td>6938</td>\n",
       "      <td>279112</td>\n",
       "      <td>1062</td>\n",
       "    </tr>\n",
       "  </tbody>\n",
       "</table>\n",
       "</div>"
      ],
      "text/plain": [
       "cardiovascular    1       2     98\n",
       "sex                               \n",
       "1               5837  272893   760\n",
       "2               6938  279112  1062"
      ]
     },
     "execution_count": 25,
     "metadata": {},
     "output_type": "execute_result"
    }
   ],
   "source": [
    "pneumonia_bySex"
   ]
  },
  {
   "cell_type": "code",
   "execution_count": 26,
   "metadata": {},
   "outputs": [
    {
     "data": {
      "text/html": [
       "<div>\n",
       "<style scoped>\n",
       "    .dataframe tbody tr th:only-of-type {\n",
       "        vertical-align: middle;\n",
       "    }\n",
       "\n",
       "    .dataframe tbody tr th {\n",
       "        vertical-align: top;\n",
       "    }\n",
       "\n",
       "    .dataframe thead th {\n",
       "        text-align: right;\n",
       "    }\n",
       "</style>\n",
       "<table border=\"1\" class=\"dataframe\">\n",
       "  <thead>\n",
       "    <tr style=\"text-align: right;\">\n",
       "      <th>hypertension</th>\n",
       "      <th>1</th>\n",
       "      <th>2</th>\n",
       "      <th>98</th>\n",
       "    </tr>\n",
       "    <tr>\n",
       "      <th>sex</th>\n",
       "      <th></th>\n",
       "      <th></th>\n",
       "      <th></th>\n",
       "    </tr>\n",
       "  </thead>\n",
       "  <tbody>\n",
       "    <tr>\n",
       "      <th>1</th>\n",
       "      <td>44727</td>\n",
       "      <td>234018</td>\n",
       "      <td>745</td>\n",
       "    </tr>\n",
       "    <tr>\n",
       "      <th>2</th>\n",
       "      <td>47781</td>\n",
       "      <td>238252</td>\n",
       "      <td>1079</td>\n",
       "    </tr>\n",
       "  </tbody>\n",
       "</table>\n",
       "</div>"
      ],
      "text/plain": [
       "hypertension     1       2     98\n",
       "sex                              \n",
       "1             44727  234018   745\n",
       "2             47781  238252  1079"
      ]
     },
     "execution_count": 26,
     "metadata": {},
     "output_type": "execute_result"
    }
   ],
   "source": [
    "asthma_bySex"
   ]
  },
  {
   "cell_type": "code",
   "execution_count": 27,
   "metadata": {},
   "outputs": [
    {
     "data": {
      "text/html": [
       "<div>\n",
       "<style scoped>\n",
       "    .dataframe tbody tr th:only-of-type {\n",
       "        vertical-align: middle;\n",
       "    }\n",
       "\n",
       "    .dataframe tbody tr th {\n",
       "        vertical-align: top;\n",
       "    }\n",
       "\n",
       "    .dataframe thead th {\n",
       "        text-align: right;\n",
       "    }\n",
       "</style>\n",
       "<table border=\"1\" class=\"dataframe\">\n",
       "  <thead>\n",
       "    <tr style=\"text-align: right;\">\n",
       "      <th>obesity</th>\n",
       "      <th>1</th>\n",
       "      <th>2</th>\n",
       "      <th>98</th>\n",
       "    </tr>\n",
       "    <tr>\n",
       "      <th>sex</th>\n",
       "      <th></th>\n",
       "      <th></th>\n",
       "      <th></th>\n",
       "    </tr>\n",
       "  </thead>\n",
       "  <tbody>\n",
       "    <tr>\n",
       "      <th>1</th>\n",
       "      <td>47518</td>\n",
       "      <td>231235</td>\n",
       "      <td>737</td>\n",
       "    </tr>\n",
       "    <tr>\n",
       "      <th>2</th>\n",
       "      <td>44754</td>\n",
       "      <td>241314</td>\n",
       "      <td>1044</td>\n",
       "    </tr>\n",
       "  </tbody>\n",
       "</table>\n",
       "</div>"
      ],
      "text/plain": [
       "obesity     1       2     98\n",
       "sex                         \n",
       "1        47518  231235   737\n",
       "2        44754  241314  1044"
      ]
     },
     "execution_count": 27,
     "metadata": {},
     "output_type": "execute_result"
    }
   ],
   "source": [
    "tobacco_bySex"
   ]
  },
  {
   "cell_type": "code",
   "execution_count": 28,
   "metadata": {},
   "outputs": [
    {
     "data": {
      "text/html": [
       "<div>\n",
       "<style scoped>\n",
       "    .dataframe tbody tr th:only-of-type {\n",
       "        vertical-align: middle;\n",
       "    }\n",
       "\n",
       "    .dataframe tbody tr th {\n",
       "        vertical-align: top;\n",
       "    }\n",
       "\n",
       "    .dataframe thead th {\n",
       "        text-align: right;\n",
       "    }\n",
       "</style>\n",
       "<table border=\"1\" class=\"dataframe\">\n",
       "  <thead>\n",
       "    <tr style=\"text-align: right;\">\n",
       "      <th>covid_res</th>\n",
       "      <th>1</th>\n",
       "      <th>2</th>\n",
       "      <th>3</th>\n",
       "    </tr>\n",
       "    <tr>\n",
       "      <th>sex</th>\n",
       "      <th></th>\n",
       "      <th></th>\n",
       "      <th></th>\n",
       "    </tr>\n",
       "  </thead>\n",
       "  <tbody>\n",
       "    <tr>\n",
       "      <th>1</th>\n",
       "      <td>99858</td>\n",
       "      <td>146736</td>\n",
       "      <td>32896</td>\n",
       "    </tr>\n",
       "    <tr>\n",
       "      <th>2</th>\n",
       "      <td>120799</td>\n",
       "      <td>132299</td>\n",
       "      <td>34014</td>\n",
       "    </tr>\n",
       "  </tbody>\n",
       "</table>\n",
       "</div>"
      ],
      "text/plain": [
       "covid_res       1       2      3\n",
       "sex                             \n",
       "1           99858  146736  32896\n",
       "2          120799  132299  34014"
      ]
     },
     "execution_count": 28,
     "metadata": {},
     "output_type": "execute_result"
    }
   ],
   "source": [
    "pregnancy_bySex"
   ]
  },
  {
   "cell_type": "code",
   "execution_count": null,
   "metadata": {},
   "outputs": [],
   "source": []
  },
  {
   "cell_type": "markdown",
   "metadata": {},
   "source": [
    "## Inspecting relationship between categorical variables - Diseases vs ICU assignation - Overview respiratory diseases"
   ]
  },
  {
   "cell_type": "code",
   "execution_count": 29,
   "metadata": {},
   "outputs": [
    {
     "data": {
      "image/png": "[encoded data removed]",
      "text/plain": [
       "<Figure size 1080x720 with 4 Axes>"
      ]
     },
     "metadata": {
      "needs_background": "light"
     },
     "output_type": "display_data"
    }
   ],
   "source": [
    "fig, axs = plt.subplots(2,2)\n",
    "pneumonia_byICU = pd.crosstab(index=dataOriginal['icu'],\n",
    "            columns=dataOriginal['pneumonia'], \n",
    "            margins=True)\n",
    "pneumonia_byICU.plot(kind='bar',ax=axs[0,0], figsize=[15,10])\n",
    "plt.grid(color='gray', linestyle='--', linewidth=1)\n",
    "#plt.ylabel(\"Frequency\")\n",
    "#plt.title('Relationship between Asthma diagnostic and ICU assignation COVID')\n",
    "asthma_byICU = pd.crosstab(index=dataOriginal['icu'],\n",
    "            columns=dataOriginal['asthma'], \n",
    "            margins=True)\n",
    "asthma_byICU.plot(kind='bar',ax=axs[0,1])\n",
    "plt.grid(color='gray', linestyle='--', linewidth=1)\n",
    "#plt.ylabel(\"Frequency\")\n",
    "#plt.title('Relationship between Tobacco diagnostic and ICU assignation COVID')\n",
    "tobacco_byICU = pd.crosstab(index=dataOriginal['icu'],\n",
    "            columns=dataOriginal['tobacco'], \n",
    "            margins=True)\n",
    "tobacco_byICU.plot(kind='bar',ax=axs[1,0])\n",
    "plt.grid(color='gray', linestyle='--', linewidth=1)\n",
    "#plt.ylabel(\"Frequency\")\n",
    "#plt.title('Relationship between Pregnancy diagnostic and ICU assignation COVID')\n",
    "pregnancy_byICU = pd.crosstab(index=dataOriginal['icu'],\n",
    "            columns=dataOriginal['pregnancy'], \n",
    "            margins=True)\n",
    "pregnancy_byICU.plot(kind='bar',ax=axs[1,1])\n",
    "plt.grid(color='gray', linestyle='--', linewidth=1)\n",
    "#plt.ylabel(\"Frequency\")\n",
    "#plt.title('Relationship between Pneumonia diagnostic and ICU assignation COVID')\n"
   ]
  },
  {
   "cell_type": "code",
   "execution_count": 30,
   "metadata": {},
   "outputs": [
    {
     "data": {
      "text/html": [
       "<div>\n",
       "<style scoped>\n",
       "    .dataframe tbody tr th:only-of-type {\n",
       "        vertical-align: middle;\n",
       "    }\n",
       "\n",
       "    .dataframe tbody tr th {\n",
       "        vertical-align: top;\n",
       "    }\n",
       "\n",
       "    .dataframe thead th {\n",
       "        text-align: right;\n",
       "    }\n",
       "</style>\n",
       "<table border=\"1\" class=\"dataframe\">\n",
       "  <thead>\n",
       "    <tr style=\"text-align: right;\">\n",
       "      <th>pneumonia</th>\n",
       "      <th>1</th>\n",
       "      <th>2</th>\n",
       "      <th>99</th>\n",
       "      <th>All</th>\n",
       "    </tr>\n",
       "    <tr>\n",
       "      <th>icu</th>\n",
       "      <th></th>\n",
       "      <th></th>\n",
       "      <th></th>\n",
       "      <th></th>\n",
       "    </tr>\n",
       "  </thead>\n",
       "  <tbody>\n",
       "    <tr>\n",
       "      <th>1</th>\n",
       "      <td>8393</td>\n",
       "      <td>1719</td>\n",
       "      <td>0</td>\n",
       "      <td>10112</td>\n",
       "    </tr>\n",
       "    <tr>\n",
       "      <th>2</th>\n",
       "      <td>65295</td>\n",
       "      <td>46381</td>\n",
       "      <td>0</td>\n",
       "      <td>111676</td>\n",
       "    </tr>\n",
       "    <tr>\n",
       "      <th>97</th>\n",
       "      <td>14428</td>\n",
       "      <td>430251</td>\n",
       "      <td>10</td>\n",
       "      <td>444689</td>\n",
       "    </tr>\n",
       "    <tr>\n",
       "      <th>99</th>\n",
       "      <td>59</td>\n",
       "      <td>65</td>\n",
       "      <td>1</td>\n",
       "      <td>125</td>\n",
       "    </tr>\n",
       "    <tr>\n",
       "      <th>All</th>\n",
       "      <td>88175</td>\n",
       "      <td>478416</td>\n",
       "      <td>11</td>\n",
       "      <td>566602</td>\n",
       "    </tr>\n",
       "  </tbody>\n",
       "</table>\n",
       "</div>"
      ],
      "text/plain": [
       "pneumonia      1       2  99     All\n",
       "icu                                 \n",
       "1           8393    1719   0   10112\n",
       "2          65295   46381   0  111676\n",
       "97         14428  430251  10  444689\n",
       "99            59      65   1     125\n",
       "All        88175  478416  11  566602"
      ]
     },
     "execution_count": 30,
     "metadata": {},
     "output_type": "execute_result"
    }
   ],
   "source": [
    "pneumonia_byICU"
   ]
  },
  {
   "cell_type": "code",
   "execution_count": 31,
   "metadata": {},
   "outputs": [
    {
     "data": {
      "text/html": [
       "<div>\n",
       "<style scoped>\n",
       "    .dataframe tbody tr th:only-of-type {\n",
       "        vertical-align: middle;\n",
       "    }\n",
       "\n",
       "    .dataframe tbody tr th {\n",
       "        vertical-align: top;\n",
       "    }\n",
       "\n",
       "    .dataframe thead th {\n",
       "        text-align: right;\n",
       "    }\n",
       "</style>\n",
       "<table border=\"1\" class=\"dataframe\">\n",
       "  <thead>\n",
       "    <tr style=\"text-align: right;\">\n",
       "      <th>asthma</th>\n",
       "      <th>1</th>\n",
       "      <th>2</th>\n",
       "      <th>98</th>\n",
       "      <th>All</th>\n",
       "    </tr>\n",
       "    <tr>\n",
       "      <th>icu</th>\n",
       "      <th></th>\n",
       "      <th></th>\n",
       "      <th></th>\n",
       "      <th></th>\n",
       "    </tr>\n",
       "  </thead>\n",
       "  <tbody>\n",
       "    <tr>\n",
       "      <th>1</th>\n",
       "      <td>247</td>\n",
       "      <td>9751</td>\n",
       "      <td>114</td>\n",
       "      <td>10112</td>\n",
       "    </tr>\n",
       "    <tr>\n",
       "      <th>2</th>\n",
       "      <td>2894</td>\n",
       "      <td>108311</td>\n",
       "      <td>471</td>\n",
       "      <td>111676</td>\n",
       "    </tr>\n",
       "    <tr>\n",
       "      <th>97</th>\n",
       "      <td>14882</td>\n",
       "      <td>428640</td>\n",
       "      <td>1167</td>\n",
       "      <td>444689</td>\n",
       "    </tr>\n",
       "    <tr>\n",
       "      <th>99</th>\n",
       "      <td>3</td>\n",
       "      <td>122</td>\n",
       "      <td>0</td>\n",
       "      <td>125</td>\n",
       "    </tr>\n",
       "    <tr>\n",
       "      <th>All</th>\n",
       "      <td>18026</td>\n",
       "      <td>546824</td>\n",
       "      <td>1752</td>\n",
       "      <td>566602</td>\n",
       "    </tr>\n",
       "  </tbody>\n",
       "</table>\n",
       "</div>"
      ],
      "text/plain": [
       "asthma      1       2    98     All\n",
       "icu                                \n",
       "1         247    9751   114   10112\n",
       "2        2894  108311   471  111676\n",
       "97      14882  428640  1167  444689\n",
       "99          3     122     0     125\n",
       "All     18026  546824  1752  566602"
      ]
     },
     "execution_count": 31,
     "metadata": {},
     "output_type": "execute_result"
    }
   ],
   "source": [
    "asthma_byICU"
   ]
  },
  {
   "cell_type": "code",
   "execution_count": 32,
   "metadata": {},
   "outputs": [
    {
     "data": {
      "text/html": [
       "<div>\n",
       "<style scoped>\n",
       "    .dataframe tbody tr th:only-of-type {\n",
       "        vertical-align: middle;\n",
       "    }\n",
       "\n",
       "    .dataframe tbody tr th {\n",
       "        vertical-align: top;\n",
       "    }\n",
       "\n",
       "    .dataframe thead th {\n",
       "        text-align: right;\n",
       "    }\n",
       "</style>\n",
       "<table border=\"1\" class=\"dataframe\">\n",
       "  <thead>\n",
       "    <tr style=\"text-align: right;\">\n",
       "      <th>tobacco</th>\n",
       "      <th>1</th>\n",
       "      <th>2</th>\n",
       "      <th>98</th>\n",
       "      <th>All</th>\n",
       "    </tr>\n",
       "    <tr>\n",
       "      <th>icu</th>\n",
       "      <th></th>\n",
       "      <th></th>\n",
       "      <th></th>\n",
       "      <th></th>\n",
       "    </tr>\n",
       "  </thead>\n",
       "  <tbody>\n",
       "    <tr>\n",
       "      <th>1</th>\n",
       "      <td>871</td>\n",
       "      <td>9128</td>\n",
       "      <td>113</td>\n",
       "      <td>10112</td>\n",
       "    </tr>\n",
       "    <tr>\n",
       "      <th>2</th>\n",
       "      <td>9865</td>\n",
       "      <td>101285</td>\n",
       "      <td>526</td>\n",
       "      <td>111676</td>\n",
       "    </tr>\n",
       "    <tr>\n",
       "      <th>97</th>\n",
       "      <td>37272</td>\n",
       "      <td>406149</td>\n",
       "      <td>1268</td>\n",
       "      <td>444689</td>\n",
       "    </tr>\n",
       "    <tr>\n",
       "      <th>99</th>\n",
       "      <td>9</td>\n",
       "      <td>116</td>\n",
       "      <td>0</td>\n",
       "      <td>125</td>\n",
       "    </tr>\n",
       "    <tr>\n",
       "      <th>All</th>\n",
       "      <td>48017</td>\n",
       "      <td>516678</td>\n",
       "      <td>1907</td>\n",
       "      <td>566602</td>\n",
       "    </tr>\n",
       "  </tbody>\n",
       "</table>\n",
       "</div>"
      ],
      "text/plain": [
       "tobacco      1       2    98     All\n",
       "icu                                 \n",
       "1          871    9128   113   10112\n",
       "2         9865  101285   526  111676\n",
       "97       37272  406149  1268  444689\n",
       "99           9     116     0     125\n",
       "All      48017  516678  1907  566602"
      ]
     },
     "execution_count": 32,
     "metadata": {},
     "output_type": "execute_result"
    }
   ],
   "source": [
    "tobacco_byICU"
   ]
  },
  {
   "cell_type": "code",
   "execution_count": 33,
   "metadata": {},
   "outputs": [
    {
     "data": {
      "text/html": [
       "<div>\n",
       "<style scoped>\n",
       "    .dataframe tbody tr th:only-of-type {\n",
       "        vertical-align: middle;\n",
       "    }\n",
       "\n",
       "    .dataframe tbody tr th {\n",
       "        vertical-align: top;\n",
       "    }\n",
       "\n",
       "    .dataframe thead th {\n",
       "        text-align: right;\n",
       "    }\n",
       "</style>\n",
       "<table border=\"1\" class=\"dataframe\">\n",
       "  <thead>\n",
       "    <tr style=\"text-align: right;\">\n",
       "      <th>pregnancy</th>\n",
       "      <th>1</th>\n",
       "      <th>2</th>\n",
       "      <th>97</th>\n",
       "      <th>98</th>\n",
       "      <th>All</th>\n",
       "    </tr>\n",
       "    <tr>\n",
       "      <th>icu</th>\n",
       "      <th></th>\n",
       "      <th></th>\n",
       "      <th></th>\n",
       "      <th></th>\n",
       "      <th></th>\n",
       "    </tr>\n",
       "  </thead>\n",
       "  <tbody>\n",
       "    <tr>\n",
       "      <th>1</th>\n",
       "      <td>74</td>\n",
       "      <td>3519</td>\n",
       "      <td>6500</td>\n",
       "      <td>19</td>\n",
       "      <td>10112</td>\n",
       "    </tr>\n",
       "    <tr>\n",
       "      <th>2</th>\n",
       "      <td>995</td>\n",
       "      <td>44035</td>\n",
       "      <td>66499</td>\n",
       "      <td>147</td>\n",
       "      <td>111676</td>\n",
       "    </tr>\n",
       "    <tr>\n",
       "      <th>97</th>\n",
       "      <td>2992</td>\n",
       "      <td>226235</td>\n",
       "      <td>214041</td>\n",
       "      <td>1421</td>\n",
       "      <td>444689</td>\n",
       "    </tr>\n",
       "    <tr>\n",
       "      <th>99</th>\n",
       "      <td>2</td>\n",
       "      <td>51</td>\n",
       "      <td>72</td>\n",
       "      <td>0</td>\n",
       "      <td>125</td>\n",
       "    </tr>\n",
       "    <tr>\n",
       "      <th>All</th>\n",
       "      <td>4063</td>\n",
       "      <td>273840</td>\n",
       "      <td>287112</td>\n",
       "      <td>1587</td>\n",
       "      <td>566602</td>\n",
       "    </tr>\n",
       "  </tbody>\n",
       "</table>\n",
       "</div>"
      ],
      "text/plain": [
       "pregnancy     1       2      97    98     All\n",
       "icu                                          \n",
       "1            74    3519    6500    19   10112\n",
       "2           995   44035   66499   147  111676\n",
       "97         2992  226235  214041  1421  444689\n",
       "99            2      51      72     0     125\n",
       "All        4063  273840  287112  1587  566602"
      ]
     },
     "execution_count": 33,
     "metadata": {},
     "output_type": "execute_result"
    }
   ],
   "source": [
    "pregnancy_byICU"
   ]
  },
  {
   "cell_type": "markdown",
   "metadata": {},
   "source": [
    "## Inspecting relationship between diseases and ICU assignation - Overview General diseases"
   ]
  },
  {
   "cell_type": "code",
   "execution_count": 34,
   "metadata": {},
   "outputs": [
    {
     "data": {
      "image/png": "[encoded data removed]",
      "text/plain": [
       "<Figure size 1080x720 with 4 Axes>"
      ]
     },
     "metadata": {
      "needs_background": "light"
     },
     "output_type": "display_data"
    }
   ],
   "source": [
    "fig, axs = plt.subplots(2,2)\n",
    "pneumonia_byICU = pd.crosstab(index=dataOriginal['icu'],\n",
    "            columns=dataOriginal['cardiovascular'], \n",
    "            margins=True)\n",
    "pneumonia_byICU.plot(kind='bar',ax=axs[0,0], figsize=[15,10])\n",
    "plt.grid(color='gray', linestyle='--', linewidth=1)\n",
    "#plt.ylabel(\"Frequency\")\n",
    "#plt.title('Relationship between Asthma diagnostic and ICU assignation COVID')\n",
    "asthma_byICU = pd.crosstab(index=dataOriginal['icu'],\n",
    "            columns=dataOriginal['hypertension'], \n",
    "            margins=True)\n",
    "asthma_byICU.plot(kind='bar',ax=axs[0,1])\n",
    "plt.grid(color='gray', linestyle='--', linewidth=1)\n",
    "#plt.ylabel(\"Frequency\")\n",
    "#plt.title('Relationship between Tobacco diagnostic and ICU assignation COVID')\n",
    "tobacco_byICU = pd.crosstab(index=dataOriginal['icu'],\n",
    "            columns=dataOriginal['obesity'], \n",
    "            margins=True)\n",
    "tobacco_byICU.plot(kind='bar',ax=axs[1,0])\n",
    "plt.grid(color='gray', linestyle='--', linewidth=1)\n",
    "#plt.ylabel(\"Frequency\")\n",
    "#plt.title('Relationship between Pregnancy diagnostic and ICU assignation COVID')\n",
    "pregnancy_byICU = pd.crosstab(index=dataOriginal['icu'],\n",
    "            columns=dataOriginal['covid_res'], \n",
    "            margins=True)\n",
    "pregnancy_byICU.plot(kind='bar',ax=axs[1,1])\n",
    "plt.grid(color='gray', linestyle='--', linewidth=1)\n",
    "#plt.ylabel(\"Frequency\")\n",
    "#plt.title('Relationship between Pneumonia diagnostic and ICU assignation COVID')\n"
   ]
  },
  {
   "cell_type": "code",
   "execution_count": null,
   "metadata": {},
   "outputs": [],
   "source": []
  },
  {
   "cell_type": "markdown",
   "metadata": {},
   "source": [
    "# 3.1.  Classes identification"
   ]
  },
  {
   "cell_type": "code",
   "execution_count": 35,
   "metadata": {},
   "outputs": [
    {
     "data": {
      "image/png": "[encoded data removed]",
      "text/plain": [
       "<Figure size 576x216 with 1 Axes>"
      ]
     },
     "metadata": {
      "needs_background": "light"
     },
     "output_type": "display_data"
    }
   ],
   "source": [
    "targetOriginal = dataOriginal['icu']\n",
    "E1 = targetOriginal.value_counts()\n",
    "E1.plot(kind = 'bar',\n",
    "           stacked = 'True',          # Muestra las barras apiladas\n",
    "           alpha = 0.4,               # nivel de transparencia\n",
    "           width = 0.9,               # Grosor de las barras para dejar espacio entre ellas\n",
    "           figsize=(8,3));\n",
    "\n",
    "plt.grid(color='gray', linestyle='--', linewidth=1)\n",
    "plt.title('Histogram of ICU variable')\n",
    "plt.xlabel(\"Result Type\")\n",
    "plt.ylabel(\"Frequency\")\n",
    "plt.show()\n",
    "\n"
   ]
  },
  {
   "cell_type": "code",
   "execution_count": 36,
   "metadata": {},
   "outputs": [
    {
     "data": {
      "text/html": [
       "<div>\n",
       "<style scoped>\n",
       "    .dataframe tbody tr th:only-of-type {\n",
       "        vertical-align: middle;\n",
       "    }\n",
       "\n",
       "    .dataframe tbody tr th {\n",
       "        vertical-align: top;\n",
       "    }\n",
       "\n",
       "    .dataframe thead th {\n",
       "        text-align: right;\n",
       "    }\n",
       "</style>\n",
       "<table border=\"1\" class=\"dataframe\">\n",
       "  <thead>\n",
       "    <tr style=\"text-align: right;\">\n",
       "      <th></th>\n",
       "      <th>CLAVE</th>\n",
       "      <th>DESCRIPCIÓN</th>\n",
       "    </tr>\n",
       "  </thead>\n",
       "  <tbody>\n",
       "    <tr>\n",
       "      <th>0</th>\n",
       "      <td>1</td>\n",
       "      <td>SI</td>\n",
       "    </tr>\n",
       "    <tr>\n",
       "      <th>1</th>\n",
       "      <td>2</td>\n",
       "      <td>NO</td>\n",
       "    </tr>\n",
       "    <tr>\n",
       "      <th>2</th>\n",
       "      <td>97</td>\n",
       "      <td>NO APLICA</td>\n",
       "    </tr>\n",
       "    <tr>\n",
       "      <th>3</th>\n",
       "      <td>98</td>\n",
       "      <td>SE IGNORA</td>\n",
       "    </tr>\n",
       "    <tr>\n",
       "      <th>4</th>\n",
       "      <td>99</td>\n",
       "      <td>NO ESPECIFICADO</td>\n",
       "    </tr>\n",
       "  </tbody>\n",
       "</table>\n",
       "</div>"
      ],
      "text/plain": [
       "   CLAVE      DESCRIPCIÓN\n",
       "0      1              SI \n",
       "1      2              NO \n",
       "2     97        NO APLICA\n",
       "3     98        SE IGNORA\n",
       "4     99  NO ESPECIFICADO"
      ]
     },
     "execution_count": 36,
     "metadata": {},
     "output_type": "execute_result"
    }
   ],
   "source": [
    "cat_si_no"
   ]
  },
  {
   "cell_type": "markdown",
   "metadata": {},
   "source": [
    "## 3.2. Check the distribution or instances of any class"
   ]
  },
  {
   "cell_type": "code",
   "execution_count": 37,
   "metadata": {},
   "outputs": [
    {
     "data": {
      "text/html": [
       "<div>\n",
       "<style scoped>\n",
       "    .dataframe tbody tr th:only-of-type {\n",
       "        vertical-align: middle;\n",
       "    }\n",
       "\n",
       "    .dataframe tbody tr th {\n",
       "        vertical-align: top;\n",
       "    }\n",
       "\n",
       "    .dataframe thead th {\n",
       "        text-align: right;\n",
       "    }\n",
       "</style>\n",
       "<table border=\"1\" class=\"dataframe\">\n",
       "  <thead>\n",
       "    <tr style=\"text-align: right;\">\n",
       "      <th></th>\n",
       "      <th>icu</th>\n",
       "    </tr>\n",
       "  </thead>\n",
       "  <tbody>\n",
       "    <tr>\n",
       "      <th>97</th>\n",
       "      <td>444689</td>\n",
       "    </tr>\n",
       "    <tr>\n",
       "      <th>2</th>\n",
       "      <td>111676</td>\n",
       "    </tr>\n",
       "    <tr>\n",
       "      <th>1</th>\n",
       "      <td>10112</td>\n",
       "    </tr>\n",
       "    <tr>\n",
       "      <th>99</th>\n",
       "      <td>125</td>\n",
       "    </tr>\n",
       "  </tbody>\n",
       "</table>\n",
       "</div>"
      ],
      "text/plain": [
       "       icu\n",
       "97  444689\n",
       "2   111676\n",
       "1    10112\n",
       "99     125"
      ]
     },
     "execution_count": 37,
     "metadata": {},
     "output_type": "execute_result"
    }
   ],
   "source": [
    "pd.DataFrame(targetOriginal.value_counts())"
   ]
  },
  {
   "cell_type": "code",
   "execution_count": 38,
   "metadata": {},
   "outputs": [
    {
     "data": {
      "text/html": [
       "<div>\n",
       "<style scoped>\n",
       "    .dataframe tbody tr th:only-of-type {\n",
       "        vertical-align: middle;\n",
       "    }\n",
       "\n",
       "    .dataframe tbody tr th {\n",
       "        vertical-align: top;\n",
       "    }\n",
       "\n",
       "    .dataframe thead th {\n",
       "        text-align: right;\n",
       "    }\n",
       "</style>\n",
       "<table border=\"1\" class=\"dataframe\">\n",
       "  <thead>\n",
       "    <tr style=\"text-align: right;\">\n",
       "      <th></th>\n",
       "      <th>icu</th>\n",
       "    </tr>\n",
       "  </thead>\n",
       "  <tbody>\n",
       "    <tr>\n",
       "      <th>97</th>\n",
       "      <td>78.483486</td>\n",
       "    </tr>\n",
       "    <tr>\n",
       "      <th>2</th>\n",
       "      <td>19.709779</td>\n",
       "    </tr>\n",
       "    <tr>\n",
       "      <th>1</th>\n",
       "      <td>1.784674</td>\n",
       "    </tr>\n",
       "    <tr>\n",
       "      <th>99</th>\n",
       "      <td>0.022061</td>\n",
       "    </tr>\n",
       "  </tbody>\n",
       "</table>\n",
       "</div>"
      ],
      "text/plain": [
       "          icu\n",
       "97  78.483486\n",
       "2   19.709779\n",
       "1    1.784674\n",
       "99   0.022061"
      ]
     },
     "execution_count": 38,
     "metadata": {},
     "output_type": "execute_result"
    }
   ],
   "source": [
    "pd.DataFrame(targetOriginal.value_counts(normalize=True) * 100)"
   ]
  },
  {
   "cell_type": "code",
   "execution_count": 39,
   "metadata": {},
   "outputs": [
    {
     "data": {
      "image/png": "[encoded data removed]",
      "text/plain": [
       "<Figure size 432x432 with 1 Axes>"
      ]
     },
     "metadata": {},
     "output_type": "display_data"
    }
   ],
   "source": [
    "E2 = targetOriginal.value_counts(normalize=True)\n",
    "E2.plot.pie(subplots=True, figsize = (6,6), autopct = '%1.1f%%', startangle = 90)\n",
    "plt.title('Histogram of ICU results')\n",
    "plt.legend(E2.index, loc = 'upper left', fontsize = 10)\n",
    "plt.show() #ok\n"
   ]
  },
  {
   "cell_type": "markdown",
   "metadata": {},
   "source": [
    "#  <font color=\"blue\">4.  Splitting DATA to create Training and Test sets.</font>"
   ]
  },
  {
   "cell_type": "code",
   "execution_count": 3,
   "metadata": {},
   "outputs": [],
   "source": [
    "# Labels for descriptors\n",
    "\n",
    "datalabels = ['id', 'sex', 'patient_type', 'entry_date', 'date_symptoms',\n",
    "              'date_died','intubed','pneumonia','age','pregnancy','diabetes','copd','asthma','inmsupr','hypertension',\n",
    "              'other_disease','cardiovascular','obesity','renal_chronic','tobacco','contact_other_covid'\n",
    "              ,'covid_res','icu']\n",
    "\n",
    "# Ignored: id, entrydate, date_symptons, date_died, icu\n",
    "predictors = ['sex', 'patient_type',\n",
    "              'intubed','pneumonia','age','pregnancy','diabetes','copd','asthma','inmsupr','hypertension',\n",
    "              'other_disease','cardiovascular','obesity','renal_chronic','tobacco',\n",
    "              'contact_other_covid','covid_res']\n",
    "\n",
    "target_column= 'icu'\n",
    "\n",
    "model_columns = ['sex', 'patient_type',\n",
    "              'intubed','pneumonia','age','pregnancy','diabetes','copd','asthma','inmsupr','hypertension',\n",
    "              'other_disease','cardiovascular','obesity','renal_chronic','tobacco',\n",
    "              'contact_other_covid','covid_res', target_column]\n"
   ]
  },
  {
   "cell_type": "code",
   "execution_count": 4,
   "metadata": {},
   "outputs": [
    {
     "name": "stdout",
     "output_type": "stream",
     "text": [
      "Size training set:  (453281, 18)\n",
      "Size test set:  (113321, 18)\n"
     ]
    }
   ],
   "source": [
    "# Split in traning and test sets\n",
    "\n",
    "from sklearn.model_selection import train_test_split\n",
    "\n",
    "X_train, X_test, y_train, y_test =train_test_split(dataOriginal[predictors], \n",
    "                                                   dataOriginal[target_column], \n",
    "                                                   test_size=0.20, random_state=44)\n",
    "\n",
    "print(\"Size training set: \", X_train.shape)\n",
    "print(\"Size test set: \", X_test.shape)\n",
    "\n"
   ]
  },
  {
   "cell_type": "code",
   "execution_count": null,
   "metadata": {},
   "outputs": [],
   "source": []
  },
  {
   "cell_type": "markdown",
   "metadata": {},
   "source": [
    "# <font color=blue>4.  IMPUTATION AND DETECTION OF NULL AND ODD VALUES.</font>"
   ]
  },
  {
   "cell_type": "markdown",
   "metadata": {},
   "source": [
    "## Make transformations with mocked data in order to show competences???\n",
    "\n",
    "<font color=\"red\">I didnt find odd values.</font>\n",
    "\n",
    "\n",
    "\n",
    "\n"
   ]
  },
  {
   "cell_type": "code",
   "execution_count": 42,
   "metadata": {},
   "outputs": [
    {
     "name": "stdout",
     "output_type": "stream",
     "text": [
      "['sex', 'patient_type', 'intubed', 'pneumonia', 'age', 'pregnancy', 'diabetes', 'copd', 'asthma', 'inmsupr', 'hypertension', 'other_disease', 'cardiovascular', 'obesity', 'renal_chronic', 'tobacco', 'contact_other_covid', 'covid_res', 'icu']\n"
     ]
    }
   ],
   "source": [
    "print(model_columns)"
   ]
  },
  {
   "cell_type": "markdown",
   "metadata": {},
   "source": [
    "## Check for null values in the dataset"
   ]
  },
  {
   "cell_type": "code",
   "execution_count": 43,
   "metadata": {},
   "outputs": [
    {
     "data": {
      "text/plain": [
       "0"
      ]
     },
     "execution_count": 43,
     "metadata": {},
     "output_type": "execute_result"
    }
   ],
   "source": [
    "X_train[predictors].isnull().values.sum()"
   ]
  },
  {
   "cell_type": "code",
   "execution_count": 44,
   "metadata": {},
   "outputs": [
    {
     "data": {
      "text/plain": [
       "0"
      ]
     },
     "execution_count": 44,
     "metadata": {},
     "output_type": "execute_result"
    }
   ],
   "source": [
    "y_train.isnull().values.sum()"
   ]
  },
  {
   "cell_type": "markdown",
   "metadata": {},
   "source": [
    "# <font color=blue> 5.  CORRELATION ANALYSIS</font>"
   ]
  },
  {
   "cell_type": "markdown",
   "metadata": {},
   "source": [
    "## 5.1 Correlation Matrix"
   ]
  },
  {
   "cell_type": "code",
   "execution_count": 37,
   "metadata": {},
   "outputs": [
    {
     "data": {
      "image/png": "[encoded data removed]",
      "text/plain": [
       "<Figure size 936x1152 with 2 Axes>"
      ]
     },
     "metadata": {
      "needs_background": "light"
     },
     "output_type": "display_data"
    }
   ],
   "source": [
    "import seaborn as sn\n",
    "\n",
    "#The default correlation Algorithme user is Pearson, which its not appropiate for categorical \n",
    "#variables but its interesting to see  its able to detect  dependent variables detected with Chi-squared too.\n",
    "\n",
    "df = pd.DataFrame(dataOriginal[model_columns], columns=model_columns)\n",
    "plt.figure(figsize=(13,16))\n",
    "corrMatrix = df.corr()\n",
    "sn.heatmap(corrMatrix, annot=True, cmap=\"Greens\")\n",
    "plt.show()"
   ]
  },
  {
   "cell_type": "raw",
   "metadata": {},
   "source": [
    "\n",
    "\n",
    "All the maladies are really corelated, for example:\n",
    "\n",
    "- Renal_chronic vs Tobacco\n",
    "- Asthma et tobaccon are highly corelated to all diseases.\n",
    "- Sex correlated with age?\n",
    "\n"
   ]
  },
  {
   "cell_type": "code",
   "execution_count": 38,
   "metadata": {},
   "outputs": [
    {
     "data": {
      "text/html": [
       "<div>\n",
       "<style scoped>\n",
       "    .dataframe tbody tr th:only-of-type {\n",
       "        vertical-align: middle;\n",
       "    }\n",
       "\n",
       "    .dataframe tbody tr th {\n",
       "        vertical-align: top;\n",
       "    }\n",
       "\n",
       "    .dataframe thead th {\n",
       "        text-align: right;\n",
       "    }\n",
       "</style>\n",
       "<table border=\"1\" class=\"dataframe\">\n",
       "  <thead>\n",
       "    <tr style=\"text-align: right;\">\n",
       "      <th></th>\n",
       "      <th>sex</th>\n",
       "      <th>patient_type</th>\n",
       "      <th>intubed</th>\n",
       "      <th>pneumonia</th>\n",
       "      <th>age</th>\n",
       "      <th>pregnancy</th>\n",
       "      <th>diabetes</th>\n",
       "      <th>copd</th>\n",
       "      <th>asthma</th>\n",
       "      <th>inmsupr</th>\n",
       "      <th>hypertension</th>\n",
       "      <th>other_disease</th>\n",
       "      <th>cardiovascular</th>\n",
       "      <th>obesity</th>\n",
       "      <th>renal_chronic</th>\n",
       "      <th>tobacco</th>\n",
       "      <th>contact_other_covid</th>\n",
       "      <th>covid_res</th>\n",
       "      <th>icu</th>\n",
       "    </tr>\n",
       "  </thead>\n",
       "  <tbody>\n",
       "    <tr>\n",
       "      <th>sex</th>\n",
       "      <td>1.000000</td>\n",
       "      <td>0.097025</td>\n",
       "      <td>-0.097029</td>\n",
       "      <td>-0.054758</td>\n",
       "      <td>0.036709</td>\n",
       "      <td>0.994293</td>\n",
       "      <td>0.008153</td>\n",
       "      <td>0.009339</td>\n",
       "      <td>0.010119</td>\n",
       "      <td>0.008096</td>\n",
       "      <td>0.009019</td>\n",
       "      <td>0.010155</td>\n",
       "      <td>0.008344</td>\n",
       "      <td>0.010199</td>\n",
       "      <td>0.008577</td>\n",
       "      <td>0.004980</td>\n",
       "      <td>-0.001791</td>\n",
       "      <td>-0.047575</td>\n",
       "      <td>-0.097024</td>\n",
       "    </tr>\n",
       "    <tr>\n",
       "      <th>patient_type</th>\n",
       "      <td>0.097025</td>\n",
       "      <td>1.000000</td>\n",
       "      <td>-0.999319</td>\n",
       "      <td>-0.420400</td>\n",
       "      <td>0.325059</td>\n",
       "      <td>0.095472</td>\n",
       "      <td>0.002315</td>\n",
       "      <td>0.013227</td>\n",
       "      <td>0.016670</td>\n",
       "      <td>0.016359</td>\n",
       "      <td>0.000274</td>\n",
       "      <td>0.028232</td>\n",
       "      <td>0.016446</td>\n",
       "      <td>0.014967</td>\n",
       "      <td>0.013240</td>\n",
       "      <td>0.016603</td>\n",
       "      <td>0.228929</td>\n",
       "      <td>-0.135931</td>\n",
       "      <td>-0.999314</td>\n",
       "    </tr>\n",
       "    <tr>\n",
       "      <th>intubed</th>\n",
       "      <td>-0.097029</td>\n",
       "      <td>-0.999319</td>\n",
       "      <td>1.000000</td>\n",
       "      <td>0.421256</td>\n",
       "      <td>-0.324869</td>\n",
       "      <td>-0.095481</td>\n",
       "      <td>-0.002456</td>\n",
       "      <td>-0.013363</td>\n",
       "      <td>-0.016807</td>\n",
       "      <td>-0.016424</td>\n",
       "      <td>-0.000419</td>\n",
       "      <td>-0.028389</td>\n",
       "      <td>-0.016587</td>\n",
       "      <td>-0.015101</td>\n",
       "      <td>-0.013384</td>\n",
       "      <td>-0.016738</td>\n",
       "      <td>-0.228811</td>\n",
       "      <td>0.135738</td>\n",
       "      <td>0.999989</td>\n",
       "    </tr>\n",
       "    <tr>\n",
       "      <th>pneumonia</th>\n",
       "      <td>-0.054758</td>\n",
       "      <td>-0.420400</td>\n",
       "      <td>0.421256</td>\n",
       "      <td>1.000000</td>\n",
       "      <td>-0.183492</td>\n",
       "      <td>-0.054031</td>\n",
       "      <td>-0.002875</td>\n",
       "      <td>-0.008592</td>\n",
       "      <td>-0.010370</td>\n",
       "      <td>-0.010979</td>\n",
       "      <td>-0.001568</td>\n",
       "      <td>-0.019541</td>\n",
       "      <td>-0.010392</td>\n",
       "      <td>-0.010070</td>\n",
       "      <td>-0.008296</td>\n",
       "      <td>-0.009996</td>\n",
       "      <td>-0.074756</td>\n",
       "      <td>0.093832</td>\n",
       "      <td>0.421182</td>\n",
       "    </tr>\n",
       "    <tr>\n",
       "      <th>age</th>\n",
       "      <td>0.036709</td>\n",
       "      <td>0.325059</td>\n",
       "      <td>-0.324869</td>\n",
       "      <td>-0.183492</td>\n",
       "      <td>1.000000</td>\n",
       "      <td>0.036239</td>\n",
       "      <td>0.000556</td>\n",
       "      <td>0.014440</td>\n",
       "      <td>0.018668</td>\n",
       "      <td>0.018625</td>\n",
       "      <td>-0.008617</td>\n",
       "      <td>0.018627</td>\n",
       "      <td>0.015049</td>\n",
       "      <td>0.012068</td>\n",
       "      <td>0.016643</td>\n",
       "      <td>0.017531</td>\n",
       "      <td>0.099339</td>\n",
       "      <td>-0.102643</td>\n",
       "      <td>-0.324791</td>\n",
       "    </tr>\n",
       "    <tr>\n",
       "      <th>pregnancy</th>\n",
       "      <td>0.994293</td>\n",
       "      <td>0.095472</td>\n",
       "      <td>-0.095481</td>\n",
       "      <td>-0.054031</td>\n",
       "      <td>0.036239</td>\n",
       "      <td>1.000000</td>\n",
       "      <td>0.016239</td>\n",
       "      <td>0.018035</td>\n",
       "      <td>0.018931</td>\n",
       "      <td>0.016412</td>\n",
       "      <td>0.017474</td>\n",
       "      <td>0.017392</td>\n",
       "      <td>0.016854</td>\n",
       "      <td>0.018692</td>\n",
       "      <td>0.016970</td>\n",
       "      <td>0.013060</td>\n",
       "      <td>-0.003185</td>\n",
       "      <td>-0.047589</td>\n",
       "      <td>-0.095474</td>\n",
       "    </tr>\n",
       "    <tr>\n",
       "      <th>diabetes</th>\n",
       "      <td>0.008153</td>\n",
       "      <td>0.002315</td>\n",
       "      <td>-0.002456</td>\n",
       "      <td>-0.002875</td>\n",
       "      <td>0.000556</td>\n",
       "      <td>0.016239</td>\n",
       "      <td>1.000000</td>\n",
       "      <td>0.838368</td>\n",
       "      <td>0.843817</td>\n",
       "      <td>0.794140</td>\n",
       "      <td>0.845727</td>\n",
       "      <td>0.688245</td>\n",
       "      <td>0.821716</td>\n",
       "      <td>0.765574</td>\n",
       "      <td>0.817052</td>\n",
       "      <td>0.777978</td>\n",
       "      <td>0.002895</td>\n",
       "      <td>0.005156</td>\n",
       "      <td>-0.002429</td>\n",
       "    </tr>\n",
       "    <tr>\n",
       "      <th>copd</th>\n",
       "      <td>0.009339</td>\n",
       "      <td>0.013227</td>\n",
       "      <td>-0.013363</td>\n",
       "      <td>-0.008592</td>\n",
       "      <td>0.014440</td>\n",
       "      <td>0.018035</td>\n",
       "      <td>0.838368</td>\n",
       "      <td>1.000000</td>\n",
       "      <td>0.922057</td>\n",
       "      <td>0.866870</td>\n",
       "      <td>0.872321</td>\n",
       "      <td>0.748066</td>\n",
       "      <td>0.893562</td>\n",
       "      <td>0.827598</td>\n",
       "      <td>0.889774</td>\n",
       "      <td>0.844021</td>\n",
       "      <td>0.010322</td>\n",
       "      <td>0.000882</td>\n",
       "      <td>-0.013308</td>\n",
       "    </tr>\n",
       "    <tr>\n",
       "      <th>asthma</th>\n",
       "      <td>0.010119</td>\n",
       "      <td>0.016670</td>\n",
       "      <td>-0.016807</td>\n",
       "      <td>-0.010370</td>\n",
       "      <td>0.018668</td>\n",
       "      <td>0.018931</td>\n",
       "      <td>0.843817</td>\n",
       "      <td>0.922057</td>\n",
       "      <td>1.000000</td>\n",
       "      <td>0.886307</td>\n",
       "      <td>0.883549</td>\n",
       "      <td>0.756712</td>\n",
       "      <td>0.906039</td>\n",
       "      <td>0.839128</td>\n",
       "      <td>0.901793</td>\n",
       "      <td>0.855136</td>\n",
       "      <td>0.010714</td>\n",
       "      <td>0.000276</td>\n",
       "      <td>-0.016759</td>\n",
       "    </tr>\n",
       "    <tr>\n",
       "      <th>inmsupr</th>\n",
       "      <td>0.008096</td>\n",
       "      <td>0.016359</td>\n",
       "      <td>-0.016424</td>\n",
       "      <td>-0.010979</td>\n",
       "      <td>0.018625</td>\n",
       "      <td>0.016412</td>\n",
       "      <td>0.794140</td>\n",
       "      <td>0.866870</td>\n",
       "      <td>0.886307</td>\n",
       "      <td>1.000000</td>\n",
       "      <td>0.844534</td>\n",
       "      <td>0.800965</td>\n",
       "      <td>0.872862</td>\n",
       "      <td>0.804051</td>\n",
       "      <td>0.866491</td>\n",
       "      <td>0.821285</td>\n",
       "      <td>0.010554</td>\n",
       "      <td>-0.000914</td>\n",
       "      <td>-0.016299</td>\n",
       "    </tr>\n",
       "    <tr>\n",
       "      <th>hypertension</th>\n",
       "      <td>0.009019</td>\n",
       "      <td>0.000274</td>\n",
       "      <td>-0.000419</td>\n",
       "      <td>-0.001568</td>\n",
       "      <td>-0.008617</td>\n",
       "      <td>0.017474</td>\n",
       "      <td>0.845727</td>\n",
       "      <td>0.872321</td>\n",
       "      <td>0.883549</td>\n",
       "      <td>0.844534</td>\n",
       "      <td>1.000000</td>\n",
       "      <td>0.733541</td>\n",
       "      <td>0.878630</td>\n",
       "      <td>0.821326</td>\n",
       "      <td>0.871760</td>\n",
       "      <td>0.826144</td>\n",
       "      <td>0.002588</td>\n",
       "      <td>0.005350</td>\n",
       "      <td>-0.000369</td>\n",
       "    </tr>\n",
       "    <tr>\n",
       "      <th>other_disease</th>\n",
       "      <td>0.010155</td>\n",
       "      <td>0.028232</td>\n",
       "      <td>-0.028389</td>\n",
       "      <td>-0.019541</td>\n",
       "      <td>0.018627</td>\n",
       "      <td>0.017392</td>\n",
       "      <td>0.688245</td>\n",
       "      <td>0.748066</td>\n",
       "      <td>0.756712</td>\n",
       "      <td>0.800965</td>\n",
       "      <td>0.733541</td>\n",
       "      <td>1.000000</td>\n",
       "      <td>0.777377</td>\n",
       "      <td>0.707074</td>\n",
       "      <td>0.760760</td>\n",
       "      <td>0.723424</td>\n",
       "      <td>0.002503</td>\n",
       "      <td>-0.001526</td>\n",
       "      <td>-0.028260</td>\n",
       "    </tr>\n",
       "    <tr>\n",
       "      <th>cardiovascular</th>\n",
       "      <td>0.008344</td>\n",
       "      <td>0.016446</td>\n",
       "      <td>-0.016587</td>\n",
       "      <td>-0.010392</td>\n",
       "      <td>0.015049</td>\n",
       "      <td>0.016854</td>\n",
       "      <td>0.821716</td>\n",
       "      <td>0.893562</td>\n",
       "      <td>0.906039</td>\n",
       "      <td>0.872862</td>\n",
       "      <td>0.878630</td>\n",
       "      <td>0.777377</td>\n",
       "      <td>1.000000</td>\n",
       "      <td>0.844964</td>\n",
       "      <td>0.916545</td>\n",
       "      <td>0.863272</td>\n",
       "      <td>0.011388</td>\n",
       "      <td>-0.000618</td>\n",
       "      <td>-0.016527</td>\n",
       "    </tr>\n",
       "    <tr>\n",
       "      <th>obesity</th>\n",
       "      <td>0.010199</td>\n",
       "      <td>0.014967</td>\n",
       "      <td>-0.015101</td>\n",
       "      <td>-0.010070</td>\n",
       "      <td>0.012068</td>\n",
       "      <td>0.018692</td>\n",
       "      <td>0.765574</td>\n",
       "      <td>0.827598</td>\n",
       "      <td>0.839128</td>\n",
       "      <td>0.804051</td>\n",
       "      <td>0.821326</td>\n",
       "      <td>0.707074</td>\n",
       "      <td>0.844964</td>\n",
       "      <td>1.000000</td>\n",
       "      <td>0.850989</td>\n",
       "      <td>0.813580</td>\n",
       "      <td>0.011813</td>\n",
       "      <td>0.002820</td>\n",
       "      <td>-0.015058</td>\n",
       "    </tr>\n",
       "    <tr>\n",
       "      <th>renal_chronic</th>\n",
       "      <td>0.008577</td>\n",
       "      <td>0.013240</td>\n",
       "      <td>-0.013384</td>\n",
       "      <td>-0.008296</td>\n",
       "      <td>0.016643</td>\n",
       "      <td>0.016970</td>\n",
       "      <td>0.817052</td>\n",
       "      <td>0.889774</td>\n",
       "      <td>0.901793</td>\n",
       "      <td>0.866491</td>\n",
       "      <td>0.871760</td>\n",
       "      <td>0.760760</td>\n",
       "      <td>0.916545</td>\n",
       "      <td>0.850989</td>\n",
       "      <td>1.000000</td>\n",
       "      <td>0.868382</td>\n",
       "      <td>0.010239</td>\n",
       "      <td>0.000549</td>\n",
       "      <td>-0.013332</td>\n",
       "    </tr>\n",
       "    <tr>\n",
       "      <th>tobacco</th>\n",
       "      <td>0.004980</td>\n",
       "      <td>0.016603</td>\n",
       "      <td>-0.016738</td>\n",
       "      <td>-0.009996</td>\n",
       "      <td>0.017531</td>\n",
       "      <td>0.013060</td>\n",
       "      <td>0.777978</td>\n",
       "      <td>0.844021</td>\n",
       "      <td>0.855136</td>\n",
       "      <td>0.821285</td>\n",
       "      <td>0.826144</td>\n",
       "      <td>0.723424</td>\n",
       "      <td>0.863272</td>\n",
       "      <td>0.813580</td>\n",
       "      <td>0.868382</td>\n",
       "      <td>1.000000</td>\n",
       "      <td>0.011117</td>\n",
       "      <td>-0.001005</td>\n",
       "      <td>-0.016686</td>\n",
       "    </tr>\n",
       "    <tr>\n",
       "      <th>contact_other_covid</th>\n",
       "      <td>-0.001791</td>\n",
       "      <td>0.228929</td>\n",
       "      <td>-0.228811</td>\n",
       "      <td>-0.074756</td>\n",
       "      <td>0.099339</td>\n",
       "      <td>-0.003185</td>\n",
       "      <td>0.002895</td>\n",
       "      <td>0.010322</td>\n",
       "      <td>0.010714</td>\n",
       "      <td>0.010554</td>\n",
       "      <td>0.002588</td>\n",
       "      <td>0.002503</td>\n",
       "      <td>0.011388</td>\n",
       "      <td>0.011813</td>\n",
       "      <td>0.010239</td>\n",
       "      <td>0.011117</td>\n",
       "      <td>1.000000</td>\n",
       "      <td>-0.070829</td>\n",
       "      <td>-0.228823</td>\n",
       "    </tr>\n",
       "    <tr>\n",
       "      <th>covid_res</th>\n",
       "      <td>-0.047575</td>\n",
       "      <td>-0.135931</td>\n",
       "      <td>0.135738</td>\n",
       "      <td>0.093832</td>\n",
       "      <td>-0.102643</td>\n",
       "      <td>-0.047589</td>\n",
       "      <td>0.005156</td>\n",
       "      <td>0.000882</td>\n",
       "      <td>0.000276</td>\n",
       "      <td>-0.000914</td>\n",
       "      <td>0.005350</td>\n",
       "      <td>-0.001526</td>\n",
       "      <td>-0.000618</td>\n",
       "      <td>0.002820</td>\n",
       "      <td>0.000549</td>\n",
       "      <td>-0.001005</td>\n",
       "      <td>-0.070829</td>\n",
       "      <td>1.000000</td>\n",
       "      <td>0.135663</td>\n",
       "    </tr>\n",
       "    <tr>\n",
       "      <th>icu</th>\n",
       "      <td>-0.097024</td>\n",
       "      <td>-0.999314</td>\n",
       "      <td>0.999989</td>\n",
       "      <td>0.421182</td>\n",
       "      <td>-0.324791</td>\n",
       "      <td>-0.095474</td>\n",
       "      <td>-0.002429</td>\n",
       "      <td>-0.013308</td>\n",
       "      <td>-0.016759</td>\n",
       "      <td>-0.016299</td>\n",
       "      <td>-0.000369</td>\n",
       "      <td>-0.028260</td>\n",
       "      <td>-0.016527</td>\n",
       "      <td>-0.015058</td>\n",
       "      <td>-0.013332</td>\n",
       "      <td>-0.016686</td>\n",
       "      <td>-0.228823</td>\n",
       "      <td>0.135663</td>\n",
       "      <td>1.000000</td>\n",
       "    </tr>\n",
       "  </tbody>\n",
       "</table>\n",
       "</div>"
      ],
      "text/plain": [
       "                          sex  patient_type   intubed  pneumonia       age  \\\n",
       "sex                  1.000000      0.097025 -0.097029  -0.054758  0.036709   \n",
       "patient_type         0.097025      1.000000 -0.999319  -0.420400  0.325059   \n",
       "intubed             -0.097029     -0.999319  1.000000   0.421256 -0.324869   \n",
       "pneumonia           -0.054758     -0.420400  0.421256   1.000000 -0.183492   \n",
       "age                  0.036709      0.325059 -0.324869  -0.183492  1.000000   \n",
       "pregnancy            0.994293      0.095472 -0.095481  -0.054031  0.036239   \n",
       "diabetes             0.008153      0.002315 -0.002456  -0.002875  0.000556   \n",
       "copd                 0.009339      0.013227 -0.013363  -0.008592  0.014440   \n",
       "asthma               0.010119      0.016670 -0.016807  -0.010370  0.018668   \n",
       "inmsupr              0.008096      0.016359 -0.016424  -0.010979  0.018625   \n",
       "hypertension         0.009019      0.000274 -0.000419  -0.001568 -0.008617   \n",
       "other_disease        0.010155      0.028232 -0.028389  -0.019541  0.018627   \n",
       "cardiovascular       0.008344      0.016446 -0.016587  -0.010392  0.015049   \n",
       "obesity              0.010199      0.014967 -0.015101  -0.010070  0.012068   \n",
       "renal_chronic        0.008577      0.013240 -0.013384  -0.008296  0.016643   \n",
       "tobacco              0.004980      0.016603 -0.016738  -0.009996  0.017531   \n",
       "contact_other_covid -0.001791      0.228929 -0.228811  -0.074756  0.099339   \n",
       "covid_res           -0.047575     -0.135931  0.135738   0.093832 -0.102643   \n",
       "icu                 -0.097024     -0.999314  0.999989   0.421182 -0.324791   \n",
       "\n",
       "                     pregnancy  diabetes      copd    asthma   inmsupr  \\\n",
       "sex                   0.994293  0.008153  0.009339  0.010119  0.008096   \n",
       "patient_type          0.095472  0.002315  0.013227  0.016670  0.016359   \n",
       "intubed              -0.095481 -0.002456 -0.013363 -0.016807 -0.016424   \n",
       "pneumonia            -0.054031 -0.002875 -0.008592 -0.010370 -0.010979   \n",
       "age                   0.036239  0.000556  0.014440  0.018668  0.018625   \n",
       "pregnancy             1.000000  0.016239  0.018035  0.018931  0.016412   \n",
       "diabetes              0.016239  1.000000  0.838368  0.843817  0.794140   \n",
       "copd                  0.018035  0.838368  1.000000  0.922057  0.866870   \n",
       "asthma                0.018931  0.843817  0.922057  1.000000  0.886307   \n",
       "inmsupr               0.016412  0.794140  0.866870  0.886307  1.000000   \n",
       "hypertension          0.017474  0.845727  0.872321  0.883549  0.844534   \n",
       "other_disease         0.017392  0.688245  0.748066  0.756712  0.800965   \n",
       "cardiovascular        0.016854  0.821716  0.893562  0.906039  0.872862   \n",
       "obesity               0.018692  0.765574  0.827598  0.839128  0.804051   \n",
       "renal_chronic         0.016970  0.817052  0.889774  0.901793  0.866491   \n",
       "tobacco               0.013060  0.777978  0.844021  0.855136  0.821285   \n",
       "contact_other_covid  -0.003185  0.002895  0.010322  0.010714  0.010554   \n",
       "covid_res            -0.047589  0.005156  0.000882  0.000276 -0.000914   \n",
       "icu                  -0.095474 -0.002429 -0.013308 -0.016759 -0.016299   \n",
       "\n",
       "                     hypertension  other_disease  cardiovascular   obesity  \\\n",
       "sex                      0.009019       0.010155        0.008344  0.010199   \n",
       "patient_type             0.000274       0.028232        0.016446  0.014967   \n",
       "intubed                 -0.000419      -0.028389       -0.016587 -0.015101   \n",
       "pneumonia               -0.001568      -0.019541       -0.010392 -0.010070   \n",
       "age                     -0.008617       0.018627        0.015049  0.012068   \n",
       "pregnancy                0.017474       0.017392        0.016854  0.018692   \n",
       "diabetes                 0.845727       0.688245        0.821716  0.765574   \n",
       "copd                     0.872321       0.748066        0.893562  0.827598   \n",
       "asthma                   0.883549       0.756712        0.906039  0.839128   \n",
       "inmsupr                  0.844534       0.800965        0.872862  0.804051   \n",
       "hypertension             1.000000       0.733541        0.878630  0.821326   \n",
       "other_disease            0.733541       1.000000        0.777377  0.707074   \n",
       "cardiovascular           0.878630       0.777377        1.000000  0.844964   \n",
       "obesity                  0.821326       0.707074        0.844964  1.000000   \n",
       "renal_chronic            0.871760       0.760760        0.916545  0.850989   \n",
       "tobacco                  0.826144       0.723424        0.863272  0.813580   \n",
       "contact_other_covid      0.002588       0.002503        0.011388  0.011813   \n",
       "covid_res                0.005350      -0.001526       -0.000618  0.002820   \n",
       "icu                     -0.000369      -0.028260       -0.016527 -0.015058   \n",
       "\n",
       "                     renal_chronic   tobacco  contact_other_covid  covid_res  \\\n",
       "sex                       0.008577  0.004980            -0.001791  -0.047575   \n",
       "patient_type              0.013240  0.016603             0.228929  -0.135931   \n",
       "intubed                  -0.013384 -0.016738            -0.228811   0.135738   \n",
       "pneumonia                -0.008296 -0.009996            -0.074756   0.093832   \n",
       "age                       0.016643  0.017531             0.099339  -0.102643   \n",
       "pregnancy                 0.016970  0.013060            -0.003185  -0.047589   \n",
       "diabetes                  0.817052  0.777978             0.002895   0.005156   \n",
       "copd                      0.889774  0.844021             0.010322   0.000882   \n",
       "asthma                    0.901793  0.855136             0.010714   0.000276   \n",
       "inmsupr                   0.866491  0.821285             0.010554  -0.000914   \n",
       "hypertension              0.871760  0.826144             0.002588   0.005350   \n",
       "other_disease             0.760760  0.723424             0.002503  -0.001526   \n",
       "cardiovascular            0.916545  0.863272             0.011388  -0.000618   \n",
       "obesity                   0.850989  0.813580             0.011813   0.002820   \n",
       "renal_chronic             1.000000  0.868382             0.010239   0.000549   \n",
       "tobacco                   0.868382  1.000000             0.011117  -0.001005   \n",
       "contact_other_covid       0.010239  0.011117             1.000000  -0.070829   \n",
       "covid_res                 0.000549 -0.001005            -0.070829   1.000000   \n",
       "icu                      -0.013332 -0.016686            -0.228823   0.135663   \n",
       "\n",
       "                          icu  \n",
       "sex                 -0.097024  \n",
       "patient_type        -0.999314  \n",
       "intubed              0.999989  \n",
       "pneumonia            0.421182  \n",
       "age                 -0.324791  \n",
       "pregnancy           -0.095474  \n",
       "diabetes            -0.002429  \n",
       "copd                -0.013308  \n",
       "asthma              -0.016759  \n",
       "inmsupr             -0.016299  \n",
       "hypertension        -0.000369  \n",
       "other_disease       -0.028260  \n",
       "cardiovascular      -0.016527  \n",
       "obesity             -0.015058  \n",
       "renal_chronic       -0.013332  \n",
       "tobacco             -0.016686  \n",
       "contact_other_covid -0.228823  \n",
       "covid_res            0.135663  \n",
       "icu                  1.000000  "
      ]
     },
     "execution_count": 38,
     "metadata": {},
     "output_type": "execute_result"
    }
   ],
   "source": [
    "df.corr()"
   ]
  },
  {
   "cell_type": "markdown",
   "metadata": {},
   "source": [
    "# 5.2.  Correlation between numerique and categorical information - Age vs diseases."
   ]
  },
  {
   "cell_type": "code",
   "execution_count": 46,
   "metadata": {},
   "outputs": [],
   "source": [
    "\n",
    "\n",
    "#ANOVA\n",
    "\n",
    "\n",
    "\n"
   ]
  },
  {
   "cell_type": "code",
   "execution_count": null,
   "metadata": {},
   "outputs": [],
   "source": []
  },
  {
   "cell_type": "markdown",
   "metadata": {},
   "source": [
    "# <font color=\"blue\">6.  VARIABLE REDUCTION</font>\n",
    "\n",
    "https://machinelearningmastery.com/feature-selection-with-real-and-categorical-data/\n",
    "\n",
    "<font color=\"red\"> Jai essaie Variance Tresholding, normalisation et standarisation, mais ca marche pas pour notre cas.<font>\n"
   ]
  },
  {
   "cell_type": "markdown",
   "metadata": {},
   "source": [
    "# 6.1.  Based on exploration info \n"
   ]
  },
  {
   "cell_type": "code",
   "execution_count": 72,
   "metadata": {},
   "outputs": [],
   "source": [
    "# Reduce variables based on correlation\n",
    "\n",
    "# Patient_type and intubed are the same information of icu.  We have to eliminate from dataModel.\n",
    "\n",
    "predictors.remove('intubed')\n",
    "predictors.remove('patient_type')\n",
    "\n"
   ]
  },
  {
   "cell_type": "markdown",
   "metadata": {},
   "source": [
    "# 6.2.  Variances Tresholding "
   ]
  },
  {
   "cell_type": "markdown",
   "metadata": {},
   "source": [
    "<font color=\"red\">Normalisation, Variance Tresholding and Standarisation doesnt apply for most of our model descriptors, variance its important in descriptors where means, mode distribution has significant information value.</font>\n"
   ]
  },
  {
   "cell_type": "raw",
   "metadata": {},
   "source": [
    "the degree of association between predictor and outcome can be measured with statistics such as X2 (chi-squared) tests."
   ]
  },
  {
   "cell_type": "markdown",
   "metadata": {},
   "source": [
    "<font color=\"red\">i did it but doesnt work well with categorical</font>"
   ]
  },
  {
   "cell_type": "markdown",
   "metadata": {},
   "source": [
    "# 6.2.  Chi-Squared Feature Selection"
   ]
  },
  {
   "cell_type": "markdown",
   "metadata": {},
   "source": [
    "Pearson’s chi-squared statistical hypothesis test is an example of a test for independence between categorical variables\n",
    "\n",
    "The degree of association between predictor and outcome can be measured with statistics such as X2 (chi-squared) tests.\n"
   ]
  },
  {
   "cell_type": "markdown",
   "metadata": {},
   "source": [
    "1.Define Hypothesis\n",
    "Null Hypothesis (H0): Two variables are independent.\n",
    "Alternate Hypothesis (H1): Two variables are not independent."
   ]
  },
  {
   "cell_type": "raw",
   "metadata": {},
   "source": [
    "https://towardsdatascience.com/the-search-for-categorical-correlation-a1cf7f1888c9\n",
    "https://towardsdatascience.com/categorical-feature-selection-via-chi-square-fc558b09de43\n",
    "https://towardsdatascience.com/feature-selection-with-pandas-e3690ad8504b\n",
    "\n",
    "https://towardsdatascience.com/the-search-for-categorical-correlation-a1cf7f1888c9"
   ]
  },
  {
   "cell_type": "code",
   "execution_count": 73,
   "metadata": {},
   "outputs": [],
   "source": [
    "# Labels for descriptors\n",
    "\n",
    "model_columns = ['sex', 'pneumonia','age','pregnancy','diabetes','copd','asthma','inmsupr','hypertension',\n",
    "              'other_disease','cardiovascular','obesity','renal_chronic','tobacco',\n",
    "              'contact_other_covid','covid_res', target_column]\n",
    "\n"
   ]
  },
  {
   "cell_type": "code",
   "execution_count": 75,
   "metadata": {},
   "outputs": [
    {
     "data": {
      "text/plain": [
       "0.085"
      ]
     },
     "execution_count": 75,
     "metadata": {},
     "output_type": "execute_result"
    }
   ],
   "source": [
    "import scipy.stats as ss #import chi2_contingency\n",
    "\n",
    "def cramers_v(x, y):\n",
    "    confusion_matrix = pd.crosstab(x,y)\n",
    "    chi2 = ss.chi2_contingency(confusion_matrix)[0]\n",
    "    n = confusion_matrix.sum().sum()\n",
    "    phi2 = chi2/n\n",
    "    r,k = confusion_matrix.shape\n",
    "    phi2corr = max(0, phi2-((k-1)*(r-1))/(n-1))\n",
    "    rcorr = r-((r-1)**2)/(n-1)\n",
    "    kcorr = k-((k-1)**2)/(n-1)\n",
    "    return round(np.sqrt(phi2corr/min((kcorr-1),(rcorr-1))),3)\n",
    "\n",
    "\n",
    "cramers_v(X_train['pneumonia'], X_train['sex'])\n"
   ]
  },
  {
   "cell_type": "code",
   "execution_count": 76,
   "metadata": {},
   "outputs": [
    {
     "data": {
      "text/plain": [
       "0.593"
      ]
     },
     "execution_count": 76,
     "metadata": {},
     "output_type": "execute_result"
    }
   ],
   "source": [
    "\n",
    "cramers_v(X_train['hypertension'], X_train['obesity'])"
   ]
  },
  {
   "cell_type": "code",
   "execution_count": 77,
   "metadata": {},
   "outputs": [
    {
     "data": {
      "text/plain": [
       "['sex',\n",
       " 'pneumonia',\n",
       " 'age',\n",
       " 'pregnancy',\n",
       " 'diabetes',\n",
       " 'copd',\n",
       " 'asthma',\n",
       " 'inmsupr',\n",
       " 'hypertension',\n",
       " 'other_disease',\n",
       " 'cardiovascular',\n",
       " 'obesity',\n",
       " 'renal_chronic',\n",
       " 'tobacco',\n",
       " 'contact_other_covid',\n",
       " 'covid_res',\n",
       " 'icu']"
      ]
     },
     "execution_count": 77,
     "metadata": {},
     "output_type": "execute_result"
    }
   ],
   "source": [
    "model_columns"
   ]
  },
  {
   "cell_type": "code",
   "execution_count": 78,
   "metadata": {},
   "outputs": [
    {
     "data": {
      "text/html": [
       "<div>\n",
       "<style scoped>\n",
       "    .dataframe tbody tr th:only-of-type {\n",
       "        vertical-align: middle;\n",
       "    }\n",
       "\n",
       "    .dataframe tbody tr th {\n",
       "        vertical-align: top;\n",
       "    }\n",
       "\n",
       "    .dataframe thead th {\n",
       "        text-align: right;\n",
       "    }\n",
       "</style>\n",
       "<table border=\"1\" class=\"dataframe\">\n",
       "  <thead>\n",
       "    <tr style=\"text-align: right;\">\n",
       "      <th></th>\n",
       "      <th>sex</th>\n",
       "      <th>pneumonia</th>\n",
       "      <th>age</th>\n",
       "      <th>pregnancy</th>\n",
       "      <th>diabetes</th>\n",
       "      <th>copd</th>\n",
       "      <th>asthma</th>\n",
       "      <th>inmsupr</th>\n",
       "      <th>hypertension</th>\n",
       "      <th>other_disease</th>\n",
       "      <th>cardiovascular</th>\n",
       "      <th>obesity</th>\n",
       "      <th>renal_chronic</th>\n",
       "      <th>tobacco</th>\n",
       "      <th>contact_other_covid</th>\n",
       "      <th>covid_res</th>\n",
       "      <th>icu</th>\n",
       "    </tr>\n",
       "  </thead>\n",
       "  <tbody>\n",
       "    <tr>\n",
       "      <th>sex</th>\n",
       "      <td>1</td>\n",
       "      <td>0.085</td>\n",
       "      <td>0.054</td>\n",
       "      <td>1</td>\n",
       "      <td>0.017</td>\n",
       "      <td>0.011</td>\n",
       "      <td>0.047</td>\n",
       "      <td>0.01</td>\n",
       "      <td>0.013</td>\n",
       "      <td>0.027</td>\n",
       "      <td>0.014</td>\n",
       "      <td>0.021</td>\n",
       "      <td>0.018</td>\n",
       "      <td>0.105</td>\n",
       "      <td>0.049</td>\n",
       "      <td>0.069</td>\n",
       "      <td>0.098</td>\n",
       "    </tr>\n",
       "    <tr>\n",
       "      <th>pneumonia</th>\n",
       "      <td>0.085</td>\n",
       "      <td>1</td>\n",
       "      <td>0.227</td>\n",
       "      <td>0.061</td>\n",
       "      <td>0.153</td>\n",
       "      <td>0.068</td>\n",
       "      <td>0.015</td>\n",
       "      <td>0.048</td>\n",
       "      <td>0.135</td>\n",
       "      <td>0.041</td>\n",
       "      <td>0.057</td>\n",
       "      <td>0.05</td>\n",
       "      <td>0.074</td>\n",
       "      <td>0.013</td>\n",
       "      <td>0.131</td>\n",
       "      <td>0.135</td>\n",
       "      <td>0.464</td>\n",
       "    </tr>\n",
       "    <tr>\n",
       "      <th>age</th>\n",
       "      <td>0.054</td>\n",
       "      <td>0.227</td>\n",
       "      <td>1</td>\n",
       "      <td>0.067</td>\n",
       "      <td>0.255</td>\n",
       "      <td>0.157</td>\n",
       "      <td>0.03</td>\n",
       "      <td>0.054</td>\n",
       "      <td>0.294</td>\n",
       "      <td>0.058</td>\n",
       "      <td>0.123</td>\n",
       "      <td>0.092</td>\n",
       "      <td>0.086</td>\n",
       "      <td>0.051</td>\n",
       "      <td>0.123</td>\n",
       "      <td>0.118</td>\n",
       "      <td>0.24</td>\n",
       "    </tr>\n",
       "    <tr>\n",
       "      <th>pregnancy</th>\n",
       "      <td>1</td>\n",
       "      <td>0.061</td>\n",
       "      <td>0.067</td>\n",
       "      <td>1</td>\n",
       "      <td>0.056</td>\n",
       "      <td>0.056</td>\n",
       "      <td>0.065</td>\n",
       "      <td>0.053</td>\n",
       "      <td>0.058</td>\n",
       "      <td>0.051</td>\n",
       "      <td>0.055</td>\n",
       "      <td>0.057</td>\n",
       "      <td>0.055</td>\n",
       "      <td>0.091</td>\n",
       "      <td>0.042</td>\n",
       "      <td>0.05</td>\n",
       "      <td>0.058</td>\n",
       "    </tr>\n",
       "    <tr>\n",
       "      <th>diabetes</th>\n",
       "      <td>0.017</td>\n",
       "      <td>0.153</td>\n",
       "      <td>0.255</td>\n",
       "      <td>0.056</td>\n",
       "      <td>1</td>\n",
       "      <td>0.597</td>\n",
       "      <td>0.599</td>\n",
       "      <td>0.565</td>\n",
       "      <td>0.657</td>\n",
       "      <td>0.488</td>\n",
       "      <td>0.588</td>\n",
       "      <td>0.549</td>\n",
       "      <td>0.593</td>\n",
       "      <td>0.554</td>\n",
       "      <td>0.078</td>\n",
       "      <td>0.071</td>\n",
       "      <td>0.187</td>\n",
       "    </tr>\n",
       "    <tr>\n",
       "      <th>copd</th>\n",
       "      <td>0.011</td>\n",
       "      <td>0.068</td>\n",
       "      <td>0.157</td>\n",
       "      <td>0.056</td>\n",
       "      <td>0.597</td>\n",
       "      <td>1</td>\n",
       "      <td>0.652</td>\n",
       "      <td>0.614</td>\n",
       "      <td>0.621</td>\n",
       "      <td>0.529</td>\n",
       "      <td>0.634</td>\n",
       "      <td>0.585</td>\n",
       "      <td>0.63</td>\n",
       "      <td>0.601</td>\n",
       "      <td>0.041</td>\n",
       "      <td>0.012</td>\n",
       "      <td>0.088</td>\n",
       "    </tr>\n",
       "    <tr>\n",
       "      <th>asthma</th>\n",
       "      <td>0.047</td>\n",
       "      <td>0.015</td>\n",
       "      <td>0.03</td>\n",
       "      <td>0.065</td>\n",
       "      <td>0.599</td>\n",
       "      <td>0.652</td>\n",
       "      <td>1</td>\n",
       "      <td>0.628</td>\n",
       "      <td>0.626</td>\n",
       "      <td>0.535</td>\n",
       "      <td>0.642</td>\n",
       "      <td>0.596</td>\n",
       "      <td>0.641</td>\n",
       "      <td>0.61</td>\n",
       "      <td>0.016</td>\n",
       "      <td>0.021</td>\n",
       "      <td>0.02</td>\n",
       "    </tr>\n",
       "    <tr>\n",
       "      <th>inmsupr</th>\n",
       "      <td>0.01</td>\n",
       "      <td>0.048</td>\n",
       "      <td>0.054</td>\n",
       "      <td>0.053</td>\n",
       "      <td>0.565</td>\n",
       "      <td>0.614</td>\n",
       "      <td>0.628</td>\n",
       "      <td>1</td>\n",
       "      <td>0.599</td>\n",
       "      <td>0.576</td>\n",
       "      <td>0.618</td>\n",
       "      <td>0.57</td>\n",
       "      <td>0.619</td>\n",
       "      <td>0.584</td>\n",
       "      <td>0.034</td>\n",
       "      <td>0.015</td>\n",
       "      <td>0.07</td>\n",
       "    </tr>\n",
       "    <tr>\n",
       "      <th>hypertension</th>\n",
       "      <td>0.013</td>\n",
       "      <td>0.135</td>\n",
       "      <td>0.294</td>\n",
       "      <td>0.058</td>\n",
       "      <td>0.657</td>\n",
       "      <td>0.621</td>\n",
       "      <td>0.626</td>\n",
       "      <td>0.599</td>\n",
       "      <td>1</td>\n",
       "      <td>0.52</td>\n",
       "      <td>0.633</td>\n",
       "      <td>0.593</td>\n",
       "      <td>0.632</td>\n",
       "      <td>0.59</td>\n",
       "      <td>0.081</td>\n",
       "      <td>0.062</td>\n",
       "      <td>0.168</td>\n",
       "    </tr>\n",
       "    <tr>\n",
       "      <th>other_disease</th>\n",
       "      <td>0.027</td>\n",
       "      <td>0.041</td>\n",
       "      <td>0.058</td>\n",
       "      <td>0.051</td>\n",
       "      <td>0.488</td>\n",
       "      <td>0.529</td>\n",
       "      <td>0.535</td>\n",
       "      <td>0.576</td>\n",
       "      <td>0.52</td>\n",
       "      <td>1</td>\n",
       "      <td>0.55</td>\n",
       "      <td>0.5</td>\n",
       "      <td>0.541</td>\n",
       "      <td>0.513</td>\n",
       "      <td>0.091</td>\n",
       "      <td>0.013</td>\n",
       "      <td>0.068</td>\n",
       "    </tr>\n",
       "    <tr>\n",
       "      <th>cardiovascular</th>\n",
       "      <td>0.014</td>\n",
       "      <td>0.057</td>\n",
       "      <td>0.123</td>\n",
       "      <td>0.055</td>\n",
       "      <td>0.588</td>\n",
       "      <td>0.634</td>\n",
       "      <td>0.642</td>\n",
       "      <td>0.618</td>\n",
       "      <td>0.633</td>\n",
       "      <td>0.55</td>\n",
       "      <td>1</td>\n",
       "      <td>0.599</td>\n",
       "      <td>0.654</td>\n",
       "      <td>0.614</td>\n",
       "      <td>0.029</td>\n",
       "      <td>0.011</td>\n",
       "      <td>0.075</td>\n",
       "    </tr>\n",
       "    <tr>\n",
       "      <th>obesity</th>\n",
       "      <td>0.021</td>\n",
       "      <td>0.05</td>\n",
       "      <td>0.092</td>\n",
       "      <td>0.057</td>\n",
       "      <td>0.549</td>\n",
       "      <td>0.585</td>\n",
       "      <td>0.596</td>\n",
       "      <td>0.57</td>\n",
       "      <td>0.593</td>\n",
       "      <td>0.5</td>\n",
       "      <td>0.599</td>\n",
       "      <td>1</td>\n",
       "      <td>0.602</td>\n",
       "      <td>0.581</td>\n",
       "      <td>0.019</td>\n",
       "      <td>0.053</td>\n",
       "      <td>0.048</td>\n",
       "    </tr>\n",
       "    <tr>\n",
       "      <th>renal_chronic</th>\n",
       "      <td>0.018</td>\n",
       "      <td>0.074</td>\n",
       "      <td>0.086</td>\n",
       "      <td>0.055</td>\n",
       "      <td>0.593</td>\n",
       "      <td>0.63</td>\n",
       "      <td>0.641</td>\n",
       "      <td>0.619</td>\n",
       "      <td>0.632</td>\n",
       "      <td>0.541</td>\n",
       "      <td>0.654</td>\n",
       "      <td>0.602</td>\n",
       "      <td>1</td>\n",
       "      <td>0.619</td>\n",
       "      <td>0.051</td>\n",
       "      <td>0.012</td>\n",
       "      <td>0.106</td>\n",
       "    </tr>\n",
       "    <tr>\n",
       "      <th>tobacco</th>\n",
       "      <td>0.105</td>\n",
       "      <td>0.013</td>\n",
       "      <td>0.051</td>\n",
       "      <td>0.091</td>\n",
       "      <td>0.554</td>\n",
       "      <td>0.601</td>\n",
       "      <td>0.61</td>\n",
       "      <td>0.584</td>\n",
       "      <td>0.59</td>\n",
       "      <td>0.513</td>\n",
       "      <td>0.614</td>\n",
       "      <td>0.581</td>\n",
       "      <td>0.619</td>\n",
       "      <td>1</td>\n",
       "      <td>0.012</td>\n",
       "      <td>0.022</td>\n",
       "      <td>0.016</td>\n",
       "    </tr>\n",
       "    <tr>\n",
       "      <th>contact_other_covid</th>\n",
       "      <td>0.049</td>\n",
       "      <td>0.131</td>\n",
       "      <td>0.123</td>\n",
       "      <td>0.042</td>\n",
       "      <td>0.078</td>\n",
       "      <td>0.041</td>\n",
       "      <td>0.016</td>\n",
       "      <td>0.034</td>\n",
       "      <td>0.081</td>\n",
       "      <td>0.091</td>\n",
       "      <td>0.029</td>\n",
       "      <td>0.019</td>\n",
       "      <td>0.051</td>\n",
       "      <td>0.012</td>\n",
       "      <td>1</td>\n",
       "      <td>0.084</td>\n",
       "      <td>0.211</td>\n",
       "    </tr>\n",
       "    <tr>\n",
       "      <th>covid_res</th>\n",
       "      <td>0.069</td>\n",
       "      <td>0.135</td>\n",
       "      <td>0.118</td>\n",
       "      <td>0.05</td>\n",
       "      <td>0.071</td>\n",
       "      <td>0.012</td>\n",
       "      <td>0.021</td>\n",
       "      <td>0.015</td>\n",
       "      <td>0.062</td>\n",
       "      <td>0.013</td>\n",
       "      <td>0.011</td>\n",
       "      <td>0.053</td>\n",
       "      <td>0.012</td>\n",
       "      <td>0.022</td>\n",
       "      <td>0.084</td>\n",
       "      <td>1</td>\n",
       "      <td>0.136</td>\n",
       "    </tr>\n",
       "    <tr>\n",
       "      <th>icu</th>\n",
       "      <td>0.098</td>\n",
       "      <td>0.464</td>\n",
       "      <td>0.24</td>\n",
       "      <td>0.058</td>\n",
       "      <td>0.187</td>\n",
       "      <td>0.088</td>\n",
       "      <td>0.02</td>\n",
       "      <td>0.07</td>\n",
       "      <td>0.168</td>\n",
       "      <td>0.068</td>\n",
       "      <td>0.075</td>\n",
       "      <td>0.048</td>\n",
       "      <td>0.106</td>\n",
       "      <td>0.016</td>\n",
       "      <td>0.211</td>\n",
       "      <td>0.136</td>\n",
       "      <td>1</td>\n",
       "    </tr>\n",
       "  </tbody>\n",
       "</table>\n",
       "</div>"
      ],
      "text/plain": [
       "                       sex pneumonia    age pregnancy diabetes   copd asthma  \\\n",
       "sex                      1     0.085  0.054         1    0.017  0.011  0.047   \n",
       "pneumonia            0.085         1  0.227     0.061    0.153  0.068  0.015   \n",
       "age                  0.054     0.227      1     0.067    0.255  0.157   0.03   \n",
       "pregnancy                1     0.061  0.067         1    0.056  0.056  0.065   \n",
       "diabetes             0.017     0.153  0.255     0.056        1  0.597  0.599   \n",
       "copd                 0.011     0.068  0.157     0.056    0.597      1  0.652   \n",
       "asthma               0.047     0.015   0.03     0.065    0.599  0.652      1   \n",
       "inmsupr               0.01     0.048  0.054     0.053    0.565  0.614  0.628   \n",
       "hypertension         0.013     0.135  0.294     0.058    0.657  0.621  0.626   \n",
       "other_disease        0.027     0.041  0.058     0.051    0.488  0.529  0.535   \n",
       "cardiovascular       0.014     0.057  0.123     0.055    0.588  0.634  0.642   \n",
       "obesity              0.021      0.05  0.092     0.057    0.549  0.585  0.596   \n",
       "renal_chronic        0.018     0.074  0.086     0.055    0.593   0.63  0.641   \n",
       "tobacco              0.105     0.013  0.051     0.091    0.554  0.601   0.61   \n",
       "contact_other_covid  0.049     0.131  0.123     0.042    0.078  0.041  0.016   \n",
       "covid_res            0.069     0.135  0.118      0.05    0.071  0.012  0.021   \n",
       "icu                  0.098     0.464   0.24     0.058    0.187  0.088   0.02   \n",
       "\n",
       "                    inmsupr hypertension other_disease cardiovascular obesity  \\\n",
       "sex                    0.01        0.013         0.027          0.014   0.021   \n",
       "pneumonia             0.048        0.135         0.041          0.057    0.05   \n",
       "age                   0.054        0.294         0.058          0.123   0.092   \n",
       "pregnancy             0.053        0.058         0.051          0.055   0.057   \n",
       "diabetes              0.565        0.657         0.488          0.588   0.549   \n",
       "copd                  0.614        0.621         0.529          0.634   0.585   \n",
       "asthma                0.628        0.626         0.535          0.642   0.596   \n",
       "inmsupr                   1        0.599         0.576          0.618    0.57   \n",
       "hypertension          0.599            1          0.52          0.633   0.593   \n",
       "other_disease         0.576         0.52             1           0.55     0.5   \n",
       "cardiovascular        0.618        0.633          0.55              1   0.599   \n",
       "obesity                0.57        0.593           0.5          0.599       1   \n",
       "renal_chronic         0.619        0.632         0.541          0.654   0.602   \n",
       "tobacco               0.584         0.59         0.513          0.614   0.581   \n",
       "contact_other_covid   0.034        0.081         0.091          0.029   0.019   \n",
       "covid_res             0.015        0.062         0.013          0.011   0.053   \n",
       "icu                    0.07        0.168         0.068          0.075   0.048   \n",
       "\n",
       "                    renal_chronic tobacco contact_other_covid covid_res    icu  \n",
       "sex                         0.018   0.105               0.049     0.069  0.098  \n",
       "pneumonia                   0.074   0.013               0.131     0.135  0.464  \n",
       "age                         0.086   0.051               0.123     0.118   0.24  \n",
       "pregnancy                   0.055   0.091               0.042      0.05  0.058  \n",
       "diabetes                    0.593   0.554               0.078     0.071  0.187  \n",
       "copd                         0.63   0.601               0.041     0.012  0.088  \n",
       "asthma                      0.641    0.61               0.016     0.021   0.02  \n",
       "inmsupr                     0.619   0.584               0.034     0.015   0.07  \n",
       "hypertension                0.632    0.59               0.081     0.062  0.168  \n",
       "other_disease               0.541   0.513               0.091     0.013  0.068  \n",
       "cardiovascular              0.654   0.614               0.029     0.011  0.075  \n",
       "obesity                     0.602   0.581               0.019     0.053  0.048  \n",
       "renal_chronic                   1   0.619               0.051     0.012  0.106  \n",
       "tobacco                     0.619       1               0.012     0.022  0.016  \n",
       "contact_other_covid         0.051   0.012                   1     0.084  0.211  \n",
       "covid_res                   0.012   0.022               0.084         1  0.136  \n",
       "icu                         0.106   0.016               0.211     0.136      1  "
      ]
     },
     "metadata": {},
     "output_type": "display_data"
    }
   ],
   "source": [
    "XY = X_train\n",
    "XY['icu'] = y_train\n",
    "\n",
    "df2 = pd.DataFrame(columns=model_columns, index=model_columns)\n",
    "for i in range(len(model_columns)):\n",
    "    for j in range(len(model_columns)):\n",
    "      #  print(\"f: \" + fname + \"   c: \"+ cname)\n",
    "        fname = model_columns[i]\n",
    "        cname = model_columns[j]\n",
    "        df2.loc[fname, cname] = cramers_v(X_train[fname], X_train[cname])\n",
    "\n",
    "display(df2)"
   ]
  },
  {
   "cell_type": "code",
   "execution_count": 79,
   "metadata": {},
   "outputs": [
    {
     "data": {
      "text/html": [
       "<div>\n",
       "<style scoped>\n",
       "    .dataframe tbody tr th:only-of-type {\n",
       "        vertical-align: middle;\n",
       "    }\n",
       "\n",
       "    .dataframe tbody tr th {\n",
       "        vertical-align: top;\n",
       "    }\n",
       "\n",
       "    .dataframe thead th {\n",
       "        text-align: right;\n",
       "    }\n",
       "</style>\n",
       "<table border=\"1\" class=\"dataframe\">\n",
       "  <thead>\n",
       "    <tr style=\"text-align: right;\">\n",
       "      <th></th>\n",
       "      <th>sex</th>\n",
       "      <th>patient_type</th>\n",
       "      <th>intubed</th>\n",
       "      <th>pneumonia</th>\n",
       "      <th>age</th>\n",
       "      <th>pregnancy</th>\n",
       "      <th>diabetes</th>\n",
       "      <th>copd</th>\n",
       "      <th>asthma</th>\n",
       "      <th>inmsupr</th>\n",
       "      <th>hypertension</th>\n",
       "      <th>other_disease</th>\n",
       "      <th>cardiovascular</th>\n",
       "      <th>obesity</th>\n",
       "      <th>renal_chronic</th>\n",
       "      <th>tobacco</th>\n",
       "      <th>contact_other_covid</th>\n",
       "      <th>covid_res</th>\n",
       "      <th>icu</th>\n",
       "    </tr>\n",
       "  </thead>\n",
       "  <tbody>\n",
       "    <tr>\n",
       "      <th>380621</th>\n",
       "      <td>1</td>\n",
       "      <td>1</td>\n",
       "      <td>97</td>\n",
       "      <td>2</td>\n",
       "      <td>42</td>\n",
       "      <td>2</td>\n",
       "      <td>2</td>\n",
       "      <td>2</td>\n",
       "      <td>2</td>\n",
       "      <td>2</td>\n",
       "      <td>2</td>\n",
       "      <td>2</td>\n",
       "      <td>2</td>\n",
       "      <td>2</td>\n",
       "      <td>2</td>\n",
       "      <td>1</td>\n",
       "      <td>1</td>\n",
       "      <td>2</td>\n",
       "      <td>97</td>\n",
       "    </tr>\n",
       "    <tr>\n",
       "      <th>215435</th>\n",
       "      <td>2</td>\n",
       "      <td>2</td>\n",
       "      <td>1</td>\n",
       "      <td>1</td>\n",
       "      <td>60</td>\n",
       "      <td>97</td>\n",
       "      <td>2</td>\n",
       "      <td>2</td>\n",
       "      <td>2</td>\n",
       "      <td>2</td>\n",
       "      <td>2</td>\n",
       "      <td>2</td>\n",
       "      <td>2</td>\n",
       "      <td>2</td>\n",
       "      <td>2</td>\n",
       "      <td>1</td>\n",
       "      <td>2</td>\n",
       "      <td>1</td>\n",
       "      <td>2</td>\n",
       "    </tr>\n",
       "    <tr>\n",
       "      <th>81577</th>\n",
       "      <td>2</td>\n",
       "      <td>1</td>\n",
       "      <td>97</td>\n",
       "      <td>2</td>\n",
       "      <td>25</td>\n",
       "      <td>97</td>\n",
       "      <td>2</td>\n",
       "      <td>2</td>\n",
       "      <td>2</td>\n",
       "      <td>2</td>\n",
       "      <td>2</td>\n",
       "      <td>2</td>\n",
       "      <td>2</td>\n",
       "      <td>2</td>\n",
       "      <td>2</td>\n",
       "      <td>2</td>\n",
       "      <td>1</td>\n",
       "      <td>1</td>\n",
       "      <td>97</td>\n",
       "    </tr>\n",
       "    <tr>\n",
       "      <th>508482</th>\n",
       "      <td>1</td>\n",
       "      <td>1</td>\n",
       "      <td>97</td>\n",
       "      <td>2</td>\n",
       "      <td>29</td>\n",
       "      <td>2</td>\n",
       "      <td>2</td>\n",
       "      <td>2</td>\n",
       "      <td>2</td>\n",
       "      <td>2</td>\n",
       "      <td>2</td>\n",
       "      <td>2</td>\n",
       "      <td>2</td>\n",
       "      <td>2</td>\n",
       "      <td>2</td>\n",
       "      <td>2</td>\n",
       "      <td>1</td>\n",
       "      <td>3</td>\n",
       "      <td>97</td>\n",
       "    </tr>\n",
       "    <tr>\n",
       "      <th>430578</th>\n",
       "      <td>1</td>\n",
       "      <td>1</td>\n",
       "      <td>97</td>\n",
       "      <td>2</td>\n",
       "      <td>41</td>\n",
       "      <td>2</td>\n",
       "      <td>2</td>\n",
       "      <td>2</td>\n",
       "      <td>2</td>\n",
       "      <td>2</td>\n",
       "      <td>2</td>\n",
       "      <td>2</td>\n",
       "      <td>2</td>\n",
       "      <td>2</td>\n",
       "      <td>2</td>\n",
       "      <td>2</td>\n",
       "      <td>1</td>\n",
       "      <td>2</td>\n",
       "      <td>97</td>\n",
       "    </tr>\n",
       "  </tbody>\n",
       "</table>\n",
       "</div>"
      ],
      "text/plain": [
       "        sex  patient_type  intubed  pneumonia  age  pregnancy  diabetes  copd  \\\n",
       "380621    1             1       97          2   42          2         2     2   \n",
       "215435    2             2        1          1   60         97         2     2   \n",
       "81577     2             1       97          2   25         97         2     2   \n",
       "508482    1             1       97          2   29          2         2     2   \n",
       "430578    1             1       97          2   41          2         2     2   \n",
       "\n",
       "        asthma  inmsupr  hypertension  other_disease  cardiovascular  obesity  \\\n",
       "380621       2        2             2              2               2        2   \n",
       "215435       2        2             2              2               2        2   \n",
       "81577        2        2             2              2               2        2   \n",
       "508482       2        2             2              2               2        2   \n",
       "430578       2        2             2              2               2        2   \n",
       "\n",
       "        renal_chronic  tobacco  contact_other_covid  covid_res  icu  \n",
       "380621              2        1                    1          2   97  \n",
       "215435              2        1                    2          1    2  \n",
       "81577               2        2                    1          1   97  \n",
       "508482              2        2                    1          3   97  \n",
       "430578              2        2                    1          2   97  "
      ]
     },
     "execution_count": 79,
     "metadata": {},
     "output_type": "execute_result"
    }
   ],
   "source": [
    "X_train.head(5)"
   ]
  },
  {
   "cell_type": "code",
   "execution_count": 80,
   "metadata": {},
   "outputs": [
    {
     "data": {
      "text/plain": [
       "(17, 17)"
      ]
     },
     "execution_count": 80,
     "metadata": {},
     "output_type": "execute_result"
    }
   ],
   "source": [
    "df2.shape"
   ]
  },
  {
   "cell_type": "code",
   "execution_count": 81,
   "metadata": {},
   "outputs": [
    {
     "data": {
      "image/png": "[encoded data removed]",
      "text/plain": [
       "<Figure size 864x720 with 2 Axes>"
      ]
     },
     "metadata": {
      "needs_background": "light"
     },
     "output_type": "display_data"
    }
   ],
   "source": [
    "#df = pd.DataFrame(index=predictors, columns=predictors)\n",
    "import seaborn as sns\n",
    "\n",
    "df2 = df2.astype('float')  # !! Neccessary for Heatmap\n",
    "\n",
    "plt.figure(figsize=(12,10))\n",
    "sns.heatmap(df2, annot=True, cmap=\"Greens\")\n",
    "plt.show()"
   ]
  },
  {
   "cell_type": "code",
   "execution_count": 67,
   "metadata": {},
   "outputs": [],
   "source": [
    "# TODO UTIL?"
   ]
  },
  {
   "cell_type": "code",
   "execution_count": 9,
   "metadata": {},
   "outputs": [
    {
     "data": {
      "text/plain": [
       "<matplotlib.axes._subplots.AxesSubplot at 0x16aeee32e08>"
      ]
     },
     "execution_count": 9,
     "metadata": {},
     "output_type": "execute_result"
    },
    {
     "data": {
      "image/png": "[encoded data removed]",
      "text/plain": [
       "<Figure size 864x576 with 2 Axes>"
      ]
     },
     "metadata": {
      "needs_background": "light"
     },
     "output_type": "display_data"
    }
   ],
   "source": [
    "contigency= pd.crosstab(X_train['pneumonia'], y_train)\n",
    "contigency\n",
    "plt.figure(figsize=(12,8))\n",
    "sns.heatmap(contigency, annot=True, cmap=\"YlGnBu\")"
   ]
  },
  {
   "cell_type": "markdown",
   "metadata": {},
   "source": [
    "# <font color=\"blue\">7.  MODELISATION & PREDICTION</font>"
   ]
  },
  {
   "cell_type": "code",
   "execution_count": 5,
   "metadata": {},
   "outputs": [],
   "source": [
    "# Define variables to eliminate and continue\n",
    "\n",
    "predictors = ['sex','pneumonia','age','pregnancy','diabetes','copd','asthma','inmsupr','hypertension',\n",
    "              'other_disease','cardiovascular','obesity','renal_chronic','tobacco',\n",
    "              'contact_other_covid','covid_res']\n",
    "\n",
    "target_column= 'icu'\n",
    "\n",
    "\n",
    "model_columns = ['sex','pneumonia','age','pregnancy','diabetes','copd','asthma','inmsupr','hypertension',\n",
    "              'other_disease','cardiovascular','obesity','renal_chronic','tobacco',\n",
    "              'contact_other_covid','covid_res', target_column]\n"
   ]
  },
  {
   "cell_type": "markdown",
   "metadata": {},
   "source": [
    "# 7.1 KNN"
   ]
  },
  {
   "cell_type": "code",
   "execution_count": 6,
   "metadata": {},
   "outputs": [
    {
     "data": {
      "text/plain": [
       "KNeighborsClassifier(algorithm='auto', leaf_size=30, metric='minkowski',\n",
       "                     metric_params=None, n_jobs=None, n_neighbors=5, p=2,\n",
       "                     weights='uniform')"
      ]
     },
     "execution_count": 6,
     "metadata": {},
     "output_type": "execute_result"
    }
   ],
   "source": [
    "from sklearn import neighbors, datasets\n",
    "\n",
    "weights = 'uniform'\n",
    "k_neighbors = 15\n",
    "model1 = neighbors.KNeighborsClassifier(weights=weights)\n",
    "model1.fit(X_train, y_train.values.ravel())\n"
   ]
  },
  {
   "cell_type": "markdown",
   "metadata": {},
   "source": [
    "## 7.1.1  Model Evaluation"
   ]
  },
  {
   "cell_type": "code",
   "execution_count": 7,
   "metadata": {},
   "outputs": [
    {
     "name": "stdout",
     "output_type": "stream",
     "text": [
      "Accuracy: 0.9822716001447216\n"
     ]
    }
   ],
   "source": [
    "# METRIQUES\n",
    "\n",
    "from sklearn import metrics \n",
    "from sklearn.metrics import accuracy_score\n",
    "from sklearn.metrics import classification_report, confusion_matrix\n",
    "\n",
    "y_predicted_train = model1.predict(X_train)\n",
    "y_predicted_test = model1.predict(X_test)\n",
    "\n",
    "print(\"Accuracy:\", metrics.accuracy_score(y_predicted_test, y_test))"
   ]
  },
  {
   "cell_type": "code",
   "execution_count": 8,
   "metadata": {},
   "outputs": [
    {
     "name": "stdout",
     "output_type": "stream",
     "text": [
      "[[  312  1678     0     0]\n",
      " [  314 21924     1     0]\n",
      " [    0     1 89069     0]\n",
      " [    0     1    14     7]]\n"
     ]
    }
   ],
   "source": [
    "print(confusion_matrix(y_test, y_predicted_test))"
   ]
  },
  {
   "cell_type": "code",
   "execution_count": 12,
   "metadata": {},
   "outputs": [
    {
     "data": {
      "image/png": "[encoded data removed]",
      "text/plain": [
       "<Figure size 432x288 with 2 Axes>"
      ]
     },
     "metadata": {
      "needs_background": "light"
     },
     "output_type": "display_data"
    }
   ],
   "source": [
    "from sklearn.metrics import plot_confusion_matrix\n",
    "\n",
    "plot_confusion_matrix(model1, X_test, y_test)\n",
    "plt.show()"
   ]
  },
  {
   "cell_type": "code",
   "execution_count": 9,
   "metadata": {},
   "outputs": [
    {
     "name": "stdout",
     "output_type": "stream",
     "text": [
      "Precision:  0.9770914170233116\n"
     ]
    }
   ],
   "source": [
    "print(\"Precision: \", metrics.precision_score(y_test, y_predicted_test, labels=None, pos_label=1, average='weighted', \n",
    "                                        sample_weight=None,zero_division='warn'))"
   ]
  },
  {
   "cell_type": "code",
   "execution_count": 10,
   "metadata": {},
   "outputs": [
    {
     "name": "stdout",
     "output_type": "stream",
     "text": [
      "Recall: 0.6151975511765166\n"
     ]
    }
   ],
   "source": [
    "\n",
    "print (\"Recall:\", metrics.recall_score(y_test, y_predicted_test,  average='macro') )\n"
   ]
  },
  {
   "cell_type": "code",
   "execution_count": 11,
   "metadata": {},
   "outputs": [
    {
     "name": "stdout",
     "output_type": "stream",
     "text": [
      "F1 score: 0.6694207066190329\n"
     ]
    }
   ],
   "source": [
    "print (\"F1 score:\", metrics.f1_score(y_test, y_predicted_test, average='macro'))\n"
   ]
  },
  {
   "cell_type": "code",
   "execution_count": null,
   "metadata": {},
   "outputs": [],
   "source": []
  },
  {
   "cell_type": "markdown",
   "metadata": {},
   "source": [
    "# 7.2. DESICION TREE"
   ]
  },
  {
   "cell_type": "code",
   "execution_count": null,
   "metadata": {},
   "outputs": [],
   "source": []
  },
  {
   "cell_type": "markdown",
   "metadata": {},
   "source": [
    "# 7.3. NAYVE BAYES"
   ]
  },
  {
   "cell_type": "markdown",
   "metadata": {},
   "source": [
    "# <font color=\"blue\">8.  CONCLUSIONS</font>"
   ]
  },
  {
   "cell_type": "code",
   "execution_count": null,
   "metadata": {},
   "outputs": [],
   "source": []
  }
 ],
 "metadata": {
  "kernelspec": {
   "display_name": "Python 3",
   "language": "python",
   "name": "python3"
  },
  "language_info": {
   "codemirror_mode": {
    "name": "ipython",
    "version": 3
   },
   "file_extension": ".py",
   "mimetype": "text/x-python",
   "name": "python",
   "nbconvert_exporter": "python",
   "pygments_lexer": "ipython3",
   "version": "3.7.6"
  }
 },
 "nbformat": 4,
 "nbformat_minor": 4
}
