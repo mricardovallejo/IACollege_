{
 "cells": [
  {
   "cell_type": "markdown",
   "metadata": {},
   "source": [
    "# Regression lineaire et multilineaire Ridge et Lasso\n",
    "\n",
    "### Author:  Ricardo Vallejo"
   ]
  },
  {
   "cell_type": "markdown",
   "metadata": {},
   "source": [
    "## 1. Load Data"
   ]
  },
  {
   "cell_type": "code",
   "execution_count": 16,
   "metadata": {},
   "outputs": [
    {
     "name": "stdout",
     "output_type": "stream",
     "text": [
      "Data shape (predicteurs): (442, 10)\n",
      "Target shape (cible): (442,)\n"
     ]
    }
   ],
   "source": [
    "from sklearn import datasets, linear_model\n",
    "import pandas as pd\n",
    "import numpy as np\n",
    "\n",
    "diabetes = datasets.load_diabetes();\n",
    "\n",
    "print(\"Data shape (predicteurs):\" , diabetes.data.shape)\n",
    "print(\"Target shape (cible):\" , diabetes.target.shape)\n",
    "\n"
   ]
  },
  {
   "cell_type": "code",
   "execution_count": 17,
   "metadata": {},
   "outputs": [
    {
     "name": "stdout",
     "output_type": "stream",
     "text": [
      "DATA: \n",
      " [[ 0.03807591  0.05068012  0.06169621  0.02187235 -0.0442235  -0.03482076\n",
      "  -0.04340085 -0.00259226  0.01990842 -0.01764613]\n",
      " [-0.00188202 -0.04464164 -0.05147406 -0.02632783 -0.00844872 -0.01916334\n",
      "   0.07441156 -0.03949338 -0.06832974 -0.09220405]\n",
      " [ 0.08529891  0.05068012  0.04445121 -0.00567061 -0.04559945 -0.03419447\n",
      "  -0.03235593 -0.00259226  0.00286377 -0.02593034]\n",
      " [-0.08906294 -0.04464164 -0.01159501 -0.03665645  0.01219057  0.02499059\n",
      "  -0.03603757  0.03430886  0.02269202 -0.00936191]\n",
      " [ 0.00538306 -0.04464164 -0.03638469  0.02187235  0.00393485  0.01559614\n",
      "   0.00814208 -0.00259226 -0.03199144 -0.04664087]]\n",
      "Target: \n",
      " [151.  75. 141. 206. 135.]\n",
      "Min Max Target: \n",
      " 25.0 346.0\n"
     ]
    }
   ],
   "source": [
    "print(\"DATA: \\n\", diabetes.data[:5,:10])\n",
    "print(\"Target: \\n\", diabetes.target[:5,])\n",
    "print(\"Min Max Target: \\n\" ,min(diabetes.target), max(diabetes.target))"
   ]
  },
  {
   "cell_type": "code",
   "execution_count": 19,
   "metadata": {},
   "outputs": [
    {
     "name": "stdout",
     "output_type": "stream",
     "text": [
      "[[ 0.06169621]\n",
      " [-0.05147406]\n",
      " [ 0.04445121]\n",
      " [-0.01159501]\n",
      " [-0.03638469]]\n"
     ]
    }
   ],
   "source": [
    "diabetes_X = diabetes.data[:, np.newaxis]\n",
    "diabetes_X_temp = diabetes_X[:, :, 2]\n",
    "\n",
    "\n",
    "diabetes_X_train = diabetes_X_temp[:-20]\n",
    "diabetes_X_test = diabetes_X_temp[-20:]\n",
    "print(diabetes_X_train[:5,])\n",
    "\n"
   ]
  },
  {
   "cell_type": "code",
   "execution_count": 21,
   "metadata": {},
   "outputs": [
    {
     "name": "stdout",
     "output_type": "stream",
     "text": [
      "[151.  75. 141. 206. 135.]\n"
     ]
    }
   ],
   "source": [
    "diabetes_y_train = diabetes.target[:-20]\n",
    "diabetes_y_test = diabetes.target[-20:]\n",
    "print(diabetes_y_train[:5,])\n"
   ]
  },
  {
   "cell_type": "code",
   "execution_count": 25,
   "metadata": {},
   "outputs": [
    {
     "name": "stdout",
     "output_type": "stream",
     "text": [
      "coef de model:\n",
      " [938.23786125]\n",
      "Intercept model: \n",
      " 152.91886182616167\n"
     ]
    }
   ],
   "source": [
    "regression = linear_model.LinearRegression()\n",
    "regression.fit(diabetes_X_train, diabetes_y_train)\n",
    "print(\"coef de model:\\n\", regression.coef_)\n",
    "print(\"Intercept model: \\n\", regression.intercept_)\n",
    "\n"
   ]
  },
  {
   "cell_type": "code",
   "execution_count": 26,
   "metadata": {},
   "outputs": [
    {
     "name": "stdout",
     "output_type": "stream",
     "text": [
      "Error RSS: \n",
      "  2548.0723987259703\n"
     ]
    }
   ],
   "source": [
    "#Error RSS\n",
    "print(\"Error RSS: \\n \", np.mean((regression.predict(diabetes_X_test) - diabetes_y_test)**2))\n"
   ]
  },
  {
   "cell_type": "code",
   "execution_count": 28,
   "metadata": {},
   "outputs": [
    {
     "data": {
      "text/plain": [
       "<function matplotlib.pyplot.show(*args, **kw)>"
      ]
     },
     "execution_count": 28,
     "metadata": {},
     "output_type": "execute_result"
    },
    {
     "data": {
      "image/png": "[encoded data removed]",
      "text/plain": [
       "<Figure size 432x288 with 1 Axes>"
      ]
     },
     "metadata": {},
     "output_type": "display_data"
    }
   ],
   "source": [
    "#Predicition\n",
    "\n",
    "import matplotlib.pyplot as plt\n",
    "%matplotlib inline\n",
    "\n",
    "def Yy(m, b, x):\n",
    "    return m*x + b;\n",
    "\n",
    "Xmodel = range(1000,6000, 100)\n",
    "Ymodel = Yy(results.coef_, results.intercept_,  Xmodel)\n",
    "\n",
    "plt.figure(figsize=(8, 6))\n",
    "plt.plot(Xmodel, Yy(results.coef_, results.intercept_,  Xmodel), 'b-', label='Model')\n",
    "plt.plot(tit['cylindree'], tit['puissance'], 'r.', label='Real samples')\n",
    "plt.grid(color='gray', linestyle='--', linewidth=1)\n",
    "plt.ylabel(\"Puissance\")\n",
    "plt.xlabel(\"Cylindree\")\n",
    "plt.title('Comparative model vs real data - fitting')\n",
    "plt.legend(loc='best')\n",
    "plt.show()\n"
   ]
  },
  {
   "cell_type": "code",
   "execution_count": 29,
   "metadata": {},
   "outputs": [
    {
     "name": "stdout",
     "output_type": "stream",
     "text": [
      "Variance score: 0.47\n"
     ]
    }
   ],
   "source": [
    "# Explained variance score: 1  prediction parfaite\n",
    "print('Variance score: %.2f' % regression.score(diabetes_X_test, diabetes_y_test))\n"
   ]
  },
  {
   "cell_type": "code",
   "execution_count": 32,
   "metadata": {},
   "outputs": [
    {
     "name": "stdout",
     "output_type": "stream",
     "text": [
      "coef de model:\n",
      " [458.48859467]\n",
      "Intercept model: \n",
      " 153.14573767340872\n"
     ]
    }
   ],
   "source": [
    "#Another form avec Ride autre form de ionimisation\n",
    "\n",
    "from sklearn.linear_model import Ridge\n",
    "\n",
    "model = Ridge()\n",
    "regression2 = model.fit(diabetes_X_train, diabetes_y_train)\n",
    "print(\"coef de model:\\n\", regression2.coef_)\n",
    "print(\"Intercept model: \\n\", regression2.intercept_)\n",
    "\n"
   ]
  },
  {
   "cell_type": "code",
   "execution_count": 33,
   "metadata": {},
   "outputs": [
    {
     "name": "stdout",
     "output_type": "stream",
     "text": [
      "Variance score: 0.25\n"
     ]
    }
   ],
   "source": [
    "# Explained variance score: 1  prediction parfaite\n",
    "print('Variance score: %.2f' % regression2.score(diabetes_X_test, diabetes_y_test))"
   ]
  },
  {
   "cell_type": "markdown",
   "metadata": {},
   "source": [
    "# Multilineaire"
   ]
  },
  {
   "cell_type": "code",
   "execution_count": 35,
   "metadata": {},
   "outputs": [
    {
     "name": "stdout",
     "output_type": "stream",
     "text": [
      "['CRIM' 'ZN' 'INDUS' 'CHAS' 'NOX' 'RM' 'AGE' 'DIS' 'RAD' 'TAX' 'PTRATIO'\n",
      " 'B' 'LSTAT']\n",
      "Data shape (predicteurs): (506, 13)\n",
      "Target shape (cible): (506,)\n"
     ]
    }
   ],
   "source": [
    "boston = datasets.load_boston();\n",
    "\n",
    "print(boston.feature_names)\n",
    "print(\"Data shape (predicteurs):\" , boston.data.shape)\n",
    "print(\"Target shape (cible):\" , boston.target.shape)"
   ]
  },
  {
   "cell_type": "code",
   "execution_count": null,
   "metadata": {},
   "outputs": [],
   "source": [
    "print(\"DATA: \\n\", boston.data[:5,:10])\n",
    "print(\"Target: \\n\", boston.target[:5,])\n",
    "print(\"Min Max Mean Target: \\n\" ,min(boston.target), max(boston.target), mean(boston.target))"
   ]
  },
  {
   "cell_type": "code",
   "execution_count": 40,
   "metadata": {},
   "outputs": [],
   "source": [
    "# Décomposer les données prédicteurs en training/testing  \n",
    "#ensemble apprentissage et test\n",
    "from sklearn.model_selection import train_test_split\n",
    "X_train, X_test, y_train, y_test =train_test_split(boston.data, boston.target, test_size=0.25, random_state=33)\n",
    "\n",
    "# Effectuer un scaling approprié autour de la moyenne et variance\n",
    "from sklearn.preprocessing import StandardScaler\n",
    "scalerX = StandardScaler().fit(X_train)\n",
    "scalery = StandardScaler().fit(y_train.reshape(-1, 1))\n",
    "\n",
    "# Décomposer les cibles-targets en training/testing  \n",
    "\n",
    "X_train = scalerX.transform(X_train)\n",
    "y_train = scalery.transform(y_train.reshape(-1, 1))\n",
    "\n",
    "X_test = scalerX.transform(X_test)\n",
    "y_test = scalery.transform(y_test.reshape(-1, 1))\n",
    "\n"
   ]
  },
  {
   "cell_type": "code",
   "execution_count": 53,
   "metadata": {},
   "outputs": [
    {
     "name": "stdout",
     "output_type": "stream",
     "text": [
      "Coefficients du modele: \n",
      " [-0.10270486  0.09745246 -0.03757737  0.0981797  -0.12500087  0.34856003\n",
      " -0.02949558 -0.27259783  0.13212947 -0.08500994 -0.19865895  0.0552727\n",
      " -0.40025048]\n",
      "Intercept du modele: \n",
      " [1.52473366e-05]\n",
      "Coefficient de determination sur échantillon apprentissage: 0.7504778181232461\n",
      "Residual sum of squares: 1.72\n",
      "Coefficient de determination:0.664\n",
      "Valeurs test\n",
      "[20.5  5.6 13.4 12.6 21.2 19.7 32.4 14.8 33.  21.4 30.1 36.   8.4 21.6\n",
      " 16.3 23.  14.9 14.1 31.1 11.9]\n",
      "Valeurs predictions\n",
      "[18.37348453 10.85074988 13.11697626 18.017555   22.70577607 20.77317816\n",
      " 36.5369775  15.11113    24.54039093 20.34826664 25.89779479 36.64334344\n",
      "  5.22691619 25.35829705  9.97128649 24.24991194 17.52213559 18.6971126\n",
      " 32.67390579 22.39502175]\n"
     ]
    }
   ],
   "source": [
    "# Créer l'objet linear regression  \n",
    "#On utilise dans la manipulation: SGRegressor\n",
    "#https://scikit-learn.org/stable/modules/sgd.html\n",
    "\n",
    "from sklearn import linear_model\n",
    "from sklearn.utils import column_or_1d\n",
    "from sklearn.model_selection import  KFold, cross_val_score\n",
    "\n",
    "#Used for BIG DATE size - https://scikit-learn.org/stable/modules/sgd.html\n",
    "clf_sgd = linear_model.SGDRegressor(loss='squared_loss', penalty=None, random_state=42) #Stochastic Gradient Descent \n",
    "\n",
    "# Faire apprendre le model en utilisant les training set\n",
    "clf_sgd.fit(X_train, y_train.ravel())  #ravel pass to array all elements of y_train\n",
    "\n",
    "\n",
    "# Affichage des coefficient\n",
    "print('Coefficients du modele: \\n', clf_sgd.coef_)\n",
    "print('Intercept du modele: \\n', clf_sgd.intercept_)\n",
    "print (\"Coefficient de determination sur échantillon apprentissage:\",clf_sgd.score(X_train, y_train))\n",
    "\n",
    "# mean square error\n",
    "print(\"Residual sum of squares: %.2f\" % np.mean((clf_sgd.predict(X_test) - y_test) ** 2))\n",
    "\n",
    "#mesurer la performance\n",
    "from sklearn import metrics\n",
    "y_pred = clf_sgd.predict(X_test)\n",
    "print (\"Coefficient de determination:{0:.3f}\".format( metrics.r2_score(y_test, y_pred)))\n",
    "\n",
    "import matplotlib.pyplot as plt\n",
    "y_pred = clf_sgd.predict(X_test)\n",
    "#on recouvre les valeurs par inversion de valeurs\n",
    "print(\"Valeurs test\")\n",
    "print(scalery.inverse_transform(y_test[:20].ravel()))\n",
    "print(\"Valeurs predictions\")\n",
    "print(scalery.inverse_transform(y_pred[:20]))\n"
   ]
  },
  {
   "cell_type": "code",
   "execution_count": 54,
   "metadata": {},
   "outputs": [
    {
     "name": "stdout",
     "output_type": "stream",
     "text": [
      "Moyenne coefficient de determination avec 5-fold crossvalidation: 0.7100151093068392\n"
     ]
    }
   ],
   "source": [
    "# créer un iterateur de cross validation k-fold avec k=5  \n",
    "from sklearn.model_selection import KFold, cross_val_score\n",
    "#creeer un iterateur de cross validation k-fold avec k=5\n",
    "cv=KFold(  shuffle=True,n_splits=5, random_state=33)\n",
    "scores=cross_val_score(clf_sgd,X_train,y_train.ravel(),cv=cv)\n",
    "\n",
    "print (\"Moyenne coefficient de determination avec 5-fold crossvalidation:\",np.mean(scores))"
   ]
  },
  {
   "cell_type": "code",
   "execution_count": null,
   "metadata": {},
   "outputs": [],
   "source": []
  }
 ],
 "metadata": {
  "kernelspec": {
   "display_name": "Python 3",
   "language": "python",
   "name": "python3"
  },
  "language_info": {
   "codemirror_mode": {
    "name": "ipython",
    "version": 3
   },
   "file_extension": ".py",
   "mimetype": "text/x-python",
   "name": "python",
   "nbconvert_exporter": "python",
   "pygments_lexer": "ipython3",
   "version": "3.7.6"
  }
 },
 "nbformat": 4,
 "nbformat_minor": 4
}
