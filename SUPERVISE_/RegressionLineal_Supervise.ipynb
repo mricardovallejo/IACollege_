{
 "cells": [
  {
   "cell_type": "markdown",
   "metadata": {},
   "source": [
    "# Regression lineaire et multilineaire Ridge et Lasso\n",
    "\n",
    "### Author:  Ricardo Vallejo"
   ]
  },
  {
   "cell_type": "markdown",
   "metadata": {},
   "source": [
    "## 1. Load Data"
   ]
  },
  {
   "cell_type": "code",
   "execution_count": 5,
   "metadata": {},
   "outputs": [
    {
     "data": {
      "text/plain": [
       "{'data': array([[ 0.03807591,  0.05068012,  0.06169621, ..., -0.00259226,\n",
       "          0.01990842, -0.01764613],\n",
       "        [-0.00188202, -0.04464164, -0.05147406, ..., -0.03949338,\n",
       "         -0.06832974, -0.09220405],\n",
       "        [ 0.08529891,  0.05068012,  0.04445121, ..., -0.00259226,\n",
       "          0.00286377, -0.02593034],\n",
       "        ...,\n",
       "        [ 0.04170844,  0.05068012, -0.01590626, ..., -0.01107952,\n",
       "         -0.04687948,  0.01549073],\n",
       "        [-0.04547248, -0.04464164,  0.03906215, ...,  0.02655962,\n",
       "          0.04452837, -0.02593034],\n",
       "        [-0.04547248, -0.04464164, -0.0730303 , ..., -0.03949338,\n",
       "         -0.00421986,  0.00306441]]),\n",
       " 'target': array([151.,  75., 141., 206., 135.,  97., 138.,  63., 110., 310., 101.,\n",
       "         69., 179., 185., 118., 171., 166., 144.,  97., 168.,  68.,  49.,\n",
       "         68., 245., 184., 202., 137.,  85., 131., 283., 129.,  59., 341.,\n",
       "         87.,  65., 102., 265., 276., 252.,  90., 100.,  55.,  61.,  92.,\n",
       "        259.,  53., 190., 142.,  75., 142., 155., 225.,  59., 104., 182.,\n",
       "        128.,  52.,  37., 170., 170.,  61., 144.,  52., 128.,  71., 163.,\n",
       "        150.,  97., 160., 178.,  48., 270., 202., 111.,  85.,  42., 170.,\n",
       "        200., 252., 113., 143.,  51.,  52., 210.,  65., 141.,  55., 134.,\n",
       "         42., 111.,  98., 164.,  48.,  96.,  90., 162., 150., 279.,  92.,\n",
       "         83., 128., 102., 302., 198.,  95.,  53., 134., 144., 232.,  81.,\n",
       "        104.,  59., 246., 297., 258., 229., 275., 281., 179., 200., 200.,\n",
       "        173., 180.,  84., 121., 161.,  99., 109., 115., 268., 274., 158.,\n",
       "        107.,  83., 103., 272.,  85., 280., 336., 281., 118., 317., 235.,\n",
       "         60., 174., 259., 178., 128.,  96., 126., 288.,  88., 292.,  71.,\n",
       "        197., 186.,  25.,  84.,  96., 195.,  53., 217., 172., 131., 214.,\n",
       "         59.,  70., 220., 268., 152.,  47.,  74., 295., 101., 151., 127.,\n",
       "        237., 225.,  81., 151., 107.,  64., 138., 185., 265., 101., 137.,\n",
       "        143., 141.,  79., 292., 178.,  91., 116.,  86., 122.,  72., 129.,\n",
       "        142.,  90., 158.,  39., 196., 222., 277.,  99., 196., 202., 155.,\n",
       "         77., 191.,  70.,  73.,  49.,  65., 263., 248., 296., 214., 185.,\n",
       "         78.,  93., 252., 150.,  77., 208.,  77., 108., 160.,  53., 220.,\n",
       "        154., 259.,  90., 246., 124.,  67.,  72., 257., 262., 275., 177.,\n",
       "         71.,  47., 187., 125.,  78.,  51., 258., 215., 303., 243.,  91.,\n",
       "        150., 310., 153., 346.,  63.,  89.,  50.,  39., 103., 308., 116.,\n",
       "        145.,  74.,  45., 115., 264.,  87., 202., 127., 182., 241.,  66.,\n",
       "         94., 283.,  64., 102., 200., 265.,  94., 230., 181., 156., 233.,\n",
       "         60., 219.,  80.,  68., 332., 248.,  84., 200.,  55.,  85.,  89.,\n",
       "         31., 129.,  83., 275.,  65., 198., 236., 253., 124.,  44., 172.,\n",
       "        114., 142., 109., 180., 144., 163., 147.,  97., 220., 190., 109.,\n",
       "        191., 122., 230., 242., 248., 249., 192., 131., 237.,  78., 135.,\n",
       "        244., 199., 270., 164.,  72.,  96., 306.,  91., 214.,  95., 216.,\n",
       "        263., 178., 113., 200., 139., 139.,  88., 148.,  88., 243.,  71.,\n",
       "         77., 109., 272.,  60.,  54., 221.,  90., 311., 281., 182., 321.,\n",
       "         58., 262., 206., 233., 242., 123., 167.,  63., 197.,  71., 168.,\n",
       "        140., 217., 121., 235., 245.,  40.,  52., 104., 132.,  88.,  69.,\n",
       "        219.,  72., 201., 110.,  51., 277.,  63., 118.,  69., 273., 258.,\n",
       "         43., 198., 242., 232., 175.,  93., 168., 275., 293., 281.,  72.,\n",
       "        140., 189., 181., 209., 136., 261., 113., 131., 174., 257.,  55.,\n",
       "         84.,  42., 146., 212., 233.,  91., 111., 152., 120.,  67., 310.,\n",
       "         94., 183.,  66., 173.,  72.,  49.,  64.,  48., 178., 104., 132.,\n",
       "        220.,  57.]),\n",
       " 'DESCR': '.. _diabetes_dataset:\\n\\nDiabetes dataset\\n----------------\\n\\nTen baseline variables, age, sex, body mass index, average blood\\npressure, and six blood serum measurements were obtained for each of n =\\n442 diabetes patients, as well as the response of interest, a\\nquantitative measure of disease progression one year after baseline.\\n\\n**Data Set Characteristics:**\\n\\n  :Number of Instances: 442\\n\\n  :Number of Attributes: First 10 columns are numeric predictive values\\n\\n  :Target: Column 11 is a quantitative measure of disease progression one year after baseline\\n\\n  :Attribute Information:\\n      - Age\\n      - Sex\\n      - Body mass index\\n      - Average blood pressure\\n      - S1\\n      - S2\\n      - S3\\n      - S4\\n      - S5\\n      - S6\\n\\nNote: Each of these 10 feature variables have been mean centered and scaled by the standard deviation times `n_samples` (i.e. the sum of squares of each column totals 1).\\n\\nSource URL:\\nhttps://www4.stat.ncsu.edu/~boos/var.select/diabetes.html\\n\\nFor more information see:\\nBradley Efron, Trevor Hastie, Iain Johnstone and Robert Tibshirani (2004) \"Least Angle Regression,\" Annals of Statistics (with discussion), 407-499.\\n(https://web.stanford.edu/~hastie/Papers/LARS/LeastAngle_2002.pdf)',\n",
       " 'feature_names': ['age',\n",
       "  'sex',\n",
       "  'bmi',\n",
       "  'bp',\n",
       "  's1',\n",
       "  's2',\n",
       "  's3',\n",
       "  's4',\n",
       "  's5',\n",
       "  's6'],\n",
       " 'data_filename': 'C:\\\\Users\\\\valm044\\\\Anaconda3\\\\lib\\\\site-packages\\\\sklearn\\\\datasets\\\\data\\\\diabetes_data.csv.gz',\n",
       " 'target_filename': 'C:\\\\Users\\\\valm044\\\\Anaconda3\\\\lib\\\\site-packages\\\\sklearn\\\\datasets\\\\data\\\\diabetes_target.csv.gz'}"
      ]
     },
     "execution_count": 5,
     "metadata": {},
     "output_type": "execute_result"
    }
   ],
   "source": [
    "from sklearn import datasets, linear_model\n",
    "import pandas as pd\n",
    "import numpy as np\n",
    "\n",
    "diabetes = datasets.load_diabetes();\n",
    "diabetes"
   ]
  },
  {
   "cell_type": "code",
   "execution_count": null,
   "metadata": {},
   "outputs": [],
   "source": [
    "\n",
    "print(\"Data shape (predicteurs):\" , diabetes.data.shape)\n",
    "print(\"Target shape (cible):\" , diabetes.target.shape)\n",
    "\n"
   ]
  },
  {
   "cell_type": "code",
   "execution_count": 17,
   "metadata": {},
   "outputs": [
    {
     "name": "stdout",
     "output_type": "stream",
     "text": [
      "DATA: \n",
      " [[ 0.03807591  0.05068012  0.06169621  0.02187235 -0.0442235  -0.03482076\n",
      "  -0.04340085 -0.00259226  0.01990842 -0.01764613]\n",
      " [-0.00188202 -0.04464164 -0.05147406 -0.02632783 -0.00844872 -0.01916334\n",
      "   0.07441156 -0.03949338 -0.06832974 -0.09220405]\n",
      " [ 0.08529891  0.05068012  0.04445121 -0.00567061 -0.04559945 -0.03419447\n",
      "  -0.03235593 -0.00259226  0.00286377 -0.02593034]\n",
      " [-0.08906294 -0.04464164 -0.01159501 -0.03665645  0.01219057  0.02499059\n",
      "  -0.03603757  0.03430886  0.02269202 -0.00936191]\n",
      " [ 0.00538306 -0.04464164 -0.03638469  0.02187235  0.00393485  0.01559614\n",
      "   0.00814208 -0.00259226 -0.03199144 -0.04664087]]\n",
      "Target: \n",
      " [151.  75. 141. 206. 135.]\n",
      "Min Max Target: \n",
      " 25.0 346.0\n"
     ]
    }
   ],
   "source": [
    "print(\"DATA: \\n\", diabetes.data[:5,:10])\n",
    "print(\"Target: \\n\", diabetes.target[:5,])\n",
    "print(\"Min Max Target: \\n\" ,min(diabetes.target), max(diabetes.target))"
   ]
  },
  {
   "cell_type": "code",
   "execution_count": 19,
   "metadata": {},
   "outputs": [
    {
     "name": "stdout",
     "output_type": "stream",
     "text": [
      "[[ 0.06169621]\n",
      " [-0.05147406]\n",
      " [ 0.04445121]\n",
      " [-0.01159501]\n",
      " [-0.03638469]]\n"
     ]
    }
   ],
   "source": [
    "diabetes_X = diabetes.data[:, np.newaxis]\n",
    "diabetes_X_temp = diabetes_X[:, :, 2]\n",
    "\n",
    "\n",
    "diabetes_X_train = diabetes_X_temp[:-20]\n",
    "diabetes_X_test = diabetes_X_temp[-20:]\n",
    "print(diabetes_X_train[:5,])\n",
    "\n"
   ]
  },
  {
   "cell_type": "code",
   "execution_count": 21,
   "metadata": {},
   "outputs": [
    {
     "name": "stdout",
     "output_type": "stream",
     "text": [
      "[151.  75. 141. 206. 135.]\n"
     ]
    }
   ],
   "source": [
    "diabetes_y_train = diabetes.target[:-20]\n",
    "diabetes_y_test = diabetes.target[-20:]\n",
    "print(diabetes_y_train[:5,])\n"
   ]
  },
  {
   "cell_type": "code",
   "execution_count": 25,
   "metadata": {},
   "outputs": [
    {
     "name": "stdout",
     "output_type": "stream",
     "text": [
      "coef de model:\n",
      " [938.23786125]\n",
      "Intercept model: \n",
      " 152.91886182616167\n"
     ]
    }
   ],
   "source": [
    "regression = linear_model.LinearRegression()\n",
    "regression.fit(diabetes_X_train, diabetes_y_train)\n",
    "print(\"coef de model:\\n\", regression.coef_)\n",
    "print(\"Intercept model: \\n\", regression.intercept_)\n",
    "\n"
   ]
  },
  {
   "cell_type": "code",
   "execution_count": 26,
   "metadata": {},
   "outputs": [
    {
     "name": "stdout",
     "output_type": "stream",
     "text": [
      "Error RSS: \n",
      "  2548.0723987259703\n"
     ]
    }
   ],
   "source": [
    "#Error RSS\n",
    "print(\"Error RSS: \\n \", np.mean((regression.predict(diabetes_X_test) - diabetes_y_test)**2))\n"
   ]
  },
  {
   "cell_type": "code",
   "execution_count": 28,
   "metadata": {},
   "outputs": [
    {
     "data": {
      "text/plain": [
       "<function matplotlib.pyplot.show(*args, **kw)>"
      ]
     },
     "execution_count": 28,
     "metadata": {},
     "output_type": "execute_result"
    },
    {
     "data": {
      "image/png": "[encoded data removed]",
      "text/plain": [
       "<Figure size 432x288 with 1 Axes>"
      ]
     },
     "metadata": {},
     "output_type": "display_data"
    }
   ],
   "source": [
    "#Predicition\n",
    "\n",
    "import matplotlib.pyplot as plt\n",
    "%matplotlib inline\n",
    "\n",
    "def Yy(m, b, x):\n",
    "    return m*x + b;\n",
    "\n",
    "Xmodel = range(1000,6000, 100)\n",
    "Ymodel = Yy(results.coef_, results.intercept_,  Xmodel)\n",
    "\n",
    "plt.figure(figsize=(8, 6))\n",
    "plt.plot(Xmodel, Yy(results.coef_, results.intercept_,  Xmodel), 'b-', label='Model')\n",
    "plt.plot(tit['cylindree'], tit['puissance'], 'r.', label='Real samples')\n",
    "plt.grid(color='gray', linestyle='--', linewidth=1)\n",
    "plt.ylabel(\"Puissance\")\n",
    "plt.xlabel(\"Cylindree\")\n",
    "plt.title('Comparative model vs real data - fitting')\n",
    "plt.legend(loc='best')\n",
    "plt.show()\n"
   ]
  },
  {
   "cell_type": "code",
   "execution_count": 29,
   "metadata": {},
   "outputs": [
    {
     "name": "stdout",
     "output_type": "stream",
     "text": [
      "Variance score: 0.47\n"
     ]
    }
   ],
   "source": [
    "# Explained variance score: 1  prediction parfaite\n",
    "print('Variance score: %.2f' % regression.score(diabetes_X_test, diabetes_y_test))\n"
   ]
  },
  {
   "cell_type": "code",
   "execution_count": 32,
   "metadata": {},
   "outputs": [
    {
     "name": "stdout",
     "output_type": "stream",
     "text": [
      "coef de model:\n",
      " [458.48859467]\n",
      "Intercept model: \n",
      " 153.14573767340872\n"
     ]
    }
   ],
   "source": [
    "#Another form avec Ride autre form de ionimisation\n",
    "\n",
    "from sklearn.linear_model import Ridge\n",
    "\n",
    "model = Ridge()\n",
    "regression2 = model.fit(diabetes_X_train, diabetes_y_train)\n",
    "print(\"coef de model:\\n\", regression2.coef_)\n",
    "print(\"Intercept model: \\n\", regression2.intercept_)\n",
    "\n"
   ]
  },
  {
   "cell_type": "code",
   "execution_count": 33,
   "metadata": {},
   "outputs": [
    {
     "name": "stdout",
     "output_type": "stream",
     "text": [
      "Variance score: 0.25\n"
     ]
    }
   ],
   "source": [
    "# Explained variance score: 1  prediction parfaite\n",
    "print('Variance score: %.2f' % regression2.score(diabetes_X_test, diabetes_y_test))"
   ]
  },
  {
   "cell_type": "markdown",
   "metadata": {},
   "source": [
    "# Multilineaire"
   ]
  },
  {
   "cell_type": "code",
   "execution_count": 35,
   "metadata": {},
   "outputs": [
    {
     "name": "stdout",
     "output_type": "stream",
     "text": [
      "['CRIM' 'ZN' 'INDUS' 'CHAS' 'NOX' 'RM' 'AGE' 'DIS' 'RAD' 'TAX' 'PTRATIO'\n",
      " 'B' 'LSTAT']\n",
      "Data shape (predicteurs): (506, 13)\n",
      "Target shape (cible): (506,)\n"
     ]
    }
   ],
   "source": [
    "boston = datasets.load_boston();\n",
    "\n",
    "print(boston.feature_names)\n",
    "print(\"Data shape (predicteurs):\" , boston.data.shape)\n",
    "print(\"Target shape (cible):\" , boston.target.shape)"
   ]
  },
  {
   "cell_type": "code",
   "execution_count": null,
   "metadata": {},
   "outputs": [],
   "source": [
    "print(\"DATA: \\n\", boston.data[:5,:10])\n",
    "print(\"Target: \\n\", boston.target[:5,])\n",
    "print(\"Min Max Mean Target: \\n\" ,min(boston.target), max(boston.target), mean(boston.target))"
   ]
  },
  {
   "cell_type": "code",
   "execution_count": 40,
   "metadata": {},
   "outputs": [],
   "source": [
    "# Décomposer les données prédicteurs en training/testing  \n",
    "#ensemble apprentissage et test\n",
    "from sklearn.model_selection import train_test_split\n",
    "X_train, X_test, y_train, y_test =train_test_split(boston.data, boston.target, test_size=0.25, random_state=33)\n",
    "\n",
    "# Effectuer un scaling approprié autour de la moyenne et variance\n",
    "from sklearn.preprocessing import StandardScaler\n",
    "scalerX = StandardScaler().fit(X_train)\n",
    "scalery = StandardScaler().fit(y_train.reshape(-1, 1))\n",
    "\n",
    "# Décomposer les cibles-targets en training/testing  \n",
    "\n",
    "X_train = scalerX.transform(X_train)\n",
    "y_train = scalery.transform(y_train.reshape(-1, 1))\n",
    "\n",
    "X_test = scalerX.transform(X_test)\n",
    "y_test = scalery.transform(y_test.reshape(-1, 1))\n",
    "\n"
   ]
  },
  {
   "cell_type": "code",
   "execution_count": 53,
   "metadata": {},
   "outputs": [
    {
     "name": "stdout",
     "output_type": "stream",
     "text": [
      "Coefficients du modele: \n",
      " [-0.10270486  0.09745246 -0.03757737  0.0981797  -0.12500087  0.34856003\n",
      " -0.02949558 -0.27259783  0.13212947 -0.08500994 -0.19865895  0.0552727\n",
      " -0.40025048]\n",
      "Intercept du modele: \n",
      " [1.52473366e-05]\n",
      "Coefficient de determination sur échantillon apprentissage: 0.7504778181232461\n",
      "Residual sum of squares: 1.72\n",
      "Coefficient de determination:0.664\n",
      "Valeurs test\n",
      "[20.5  5.6 13.4 12.6 21.2 19.7 32.4 14.8 33.  21.4 30.1 36.   8.4 21.6\n",
      " 16.3 23.  14.9 14.1 31.1 11.9]\n",
      "Valeurs predictions\n",
      "[18.37348453 10.85074988 13.11697626 18.017555   22.70577607 20.77317816\n",
      " 36.5369775  15.11113    24.54039093 20.34826664 25.89779479 36.64334344\n",
      "  5.22691619 25.35829705  9.97128649 24.24991194 17.52213559 18.6971126\n",
      " 32.67390579 22.39502175]\n"
     ]
    }
   ],
   "source": [
    "# Créer l'objet linear regression  \n",
    "#On utilise dans la manipulation: SGRegressor\n",
    "#https://scikit-learn.org/stable/modules/sgd.html\n",
    "\n",
    "from sklearn import linear_model\n",
    "from sklearn.utils import column_or_1d\n",
    "from sklearn.model_selection import  KFold, cross_val_score\n",
    "\n",
    "#Used for BIG DATE size - https://scikit-learn.org/stable/modules/sgd.html\n",
    "clf_sgd = linear_model.SGDRegressor(loss='squared_loss', penalty=None, random_state=42) #Stochastic Gradient Descent \n",
    "\n",
    "# Faire apprendre le model en utilisant les training set\n",
    "clf_sgd.fit(X_train, y_train.ravel())  #ravel pass to array all elements of y_train\n",
    "\n",
    "\n",
    "# Affichage des coefficient\n",
    "print('Coefficients du modele: \\n', clf_sgd.coef_)\n",
    "print('Intercept du modele: \\n', clf_sgd.intercept_)\n",
    "print (\"Coefficient de determination sur échantillon apprentissage:\",clf_sgd.score(X_train, y_train))\n",
    "\n",
    "# mean square error\n",
    "print(\"Residual sum of squares: %.2f\" % np.mean((clf_sgd.predict(X_test) - y_test) ** 2))\n",
    "\n",
    "#mesurer la performance\n",
    "from sklearn import metrics\n",
    "y_pred = clf_sgd.predict(X_test)\n",
    "print (\"Coefficient de determination:{0:.3f}\".format( metrics.r2_score(y_test, y_pred)))\n",
    "\n",
    "import matplotlib.pyplot as plt\n",
    "y_pred = clf_sgd.predict(X_test)\n",
    "#on recouvre les valeurs par inversion de valeurs\n",
    "print(\"Valeurs test\")\n",
    "print(scalery.inverse_transform(y_test[:20].ravel()))\n",
    "print(\"Valeurs predictions\")\n",
    "print(scalery.inverse_transform(y_pred[:20]))\n"
   ]
  },
  {
   "cell_type": "code",
   "execution_count": 54,
   "metadata": {},
   "outputs": [
    {
     "name": "stdout",
     "output_type": "stream",
     "text": [
      "Moyenne coefficient de determination avec 5-fold crossvalidation: 0.7100151093068392\n"
     ]
    }
   ],
   "source": [
    "# créer un iterateur de cross validation k-fold avec k=5  \n",
    "from sklearn.model_selection import KFold, cross_val_score\n",
    "#creeer un iterateur de cross validation k-fold avec k=5\n",
    "cv=KFold(  shuffle=True,n_splits=5, random_state=33)\n",
    "scores=cross_val_score(clf_sgd,X_train,y_train.ravel(),cv=cv)\n",
    "\n",
    "print (\"Moyenne coefficient de determination avec 5-fold crossvalidation:\",np.mean(scores))"
   ]
  },
  {
   "cell_type": "code",
   "execution_count": null,
   "metadata": {},
   "outputs": [],
   "source": []
  }
 ],
 "metadata": {
  "kernelspec": {
   "display_name": "Python 3",
   "language": "python",
   "name": "python3"
  },
  "language_info": {
   "codemirror_mode": {
    "name": "ipython",
    "version": 3
   },
   "file_extension": ".py",
   "mimetype": "text/x-python",
   "name": "python",
   "nbconvert_exporter": "python",
   "pygments_lexer": "ipython3",
   "version": "3.7.6"
  }
 },
 "nbformat": 4,
 "nbformat_minor": 4
}
