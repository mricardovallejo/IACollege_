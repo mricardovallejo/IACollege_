{
 "cells": [
  {
   "cell_type": "markdown",
   "metadata": {},
   "source": [
    "# ARBRES DES DECISION - Calcule GINI et Entropy\n",
    "- Homework\n",
    "- Author: Ricardo Vallejo"
   ]
  },
  {
   "cell_type": "markdown",
   "metadata": {},
   "source": [
    "#  DEVOIR 1 - Excercise 1 MOVIES"
   ]
  },
  {
   "cell_type": "code",
   "execution_count": 1,
   "metadata": {},
   "outputs": [
    {
     "data": {
      "text/html": [
       "<div>\n",
       "<style scoped>\n",
       "    .dataframe tbody tr th:only-of-type {\n",
       "        vertical-align: middle;\n",
       "    }\n",
       "\n",
       "    .dataframe tbody tr th {\n",
       "        vertical-align: top;\n",
       "    }\n",
       "\n",
       "    .dataframe thead th {\n",
       "        text-align: right;\n",
       "    }\n",
       "</style>\n",
       "<table border=\"1\" class=\"dataframe\">\n",
       "  <thead>\n",
       "    <tr style=\"text-align: right;\">\n",
       "      <th></th>\n",
       "      <th>MovieID</th>\n",
       "      <th>Format</th>\n",
       "      <th>CategoryMovie</th>\n",
       "      <th>Class</th>\n",
       "    </tr>\n",
       "  </thead>\n",
       "  <tbody>\n",
       "    <tr>\n",
       "      <th>0</th>\n",
       "      <td>1</td>\n",
       "      <td>DVD</td>\n",
       "      <td>Enterteinment</td>\n",
       "      <td>C0</td>\n",
       "    </tr>\n",
       "    <tr>\n",
       "      <th>1</th>\n",
       "      <td>2</td>\n",
       "      <td>DVD</td>\n",
       "      <td>Comedy</td>\n",
       "      <td>C0</td>\n",
       "    </tr>\n",
       "    <tr>\n",
       "      <th>2</th>\n",
       "      <td>3</td>\n",
       "      <td>DVD</td>\n",
       "      <td>Documentaries</td>\n",
       "      <td>C0</td>\n",
       "    </tr>\n",
       "    <tr>\n",
       "      <th>3</th>\n",
       "      <td>4</td>\n",
       "      <td>DVD</td>\n",
       "      <td>Comedy</td>\n",
       "      <td>C0</td>\n",
       "    </tr>\n",
       "    <tr>\n",
       "      <th>4</th>\n",
       "      <td>5</td>\n",
       "      <td>DVD</td>\n",
       "      <td>Comedy</td>\n",
       "      <td>C0</td>\n",
       "    </tr>\n",
       "    <tr>\n",
       "      <th>5</th>\n",
       "      <td>6</td>\n",
       "      <td>DVD</td>\n",
       "      <td>Comedy</td>\n",
       "      <td>C0</td>\n",
       "    </tr>\n",
       "    <tr>\n",
       "      <th>6</th>\n",
       "      <td>7</td>\n",
       "      <td>Online</td>\n",
       "      <td>Comedy</td>\n",
       "      <td>C0</td>\n",
       "    </tr>\n",
       "    <tr>\n",
       "      <th>7</th>\n",
       "      <td>8</td>\n",
       "      <td>Online</td>\n",
       "      <td>Comedy</td>\n",
       "      <td>C0</td>\n",
       "    </tr>\n",
       "    <tr>\n",
       "      <th>8</th>\n",
       "      <td>9</td>\n",
       "      <td>Online</td>\n",
       "      <td>Comedy</td>\n",
       "      <td>C0</td>\n",
       "    </tr>\n",
       "    <tr>\n",
       "      <th>9</th>\n",
       "      <td>10</td>\n",
       "      <td>Online</td>\n",
       "      <td>Documentaries</td>\n",
       "      <td>C0</td>\n",
       "    </tr>\n",
       "    <tr>\n",
       "      <th>10</th>\n",
       "      <td>11</td>\n",
       "      <td>DVD</td>\n",
       "      <td>Comedy</td>\n",
       "      <td>C1</td>\n",
       "    </tr>\n",
       "    <tr>\n",
       "      <th>11</th>\n",
       "      <td>12</td>\n",
       "      <td>DVD</td>\n",
       "      <td>Enterteinment</td>\n",
       "      <td>C1</td>\n",
       "    </tr>\n",
       "    <tr>\n",
       "      <th>12</th>\n",
       "      <td>13</td>\n",
       "      <td>Online</td>\n",
       "      <td>Enterteinment</td>\n",
       "      <td>C1</td>\n",
       "    </tr>\n",
       "    <tr>\n",
       "      <th>13</th>\n",
       "      <td>14</td>\n",
       "      <td>Online</td>\n",
       "      <td>Documentaries</td>\n",
       "      <td>C1</td>\n",
       "    </tr>\n",
       "    <tr>\n",
       "      <th>14</th>\n",
       "      <td>15</td>\n",
       "      <td>Online</td>\n",
       "      <td>Documentaries</td>\n",
       "      <td>C1</td>\n",
       "    </tr>\n",
       "    <tr>\n",
       "      <th>15</th>\n",
       "      <td>16</td>\n",
       "      <td>Online</td>\n",
       "      <td>Documentaries</td>\n",
       "      <td>C1</td>\n",
       "    </tr>\n",
       "    <tr>\n",
       "      <th>16</th>\n",
       "      <td>17</td>\n",
       "      <td>Online</td>\n",
       "      <td>Documentaries</td>\n",
       "      <td>C1</td>\n",
       "    </tr>\n",
       "    <tr>\n",
       "      <th>17</th>\n",
       "      <td>18</td>\n",
       "      <td>Online</td>\n",
       "      <td>Enterteinment</td>\n",
       "      <td>C1</td>\n",
       "    </tr>\n",
       "    <tr>\n",
       "      <th>18</th>\n",
       "      <td>19</td>\n",
       "      <td>Online</td>\n",
       "      <td>Documentaries</td>\n",
       "      <td>C1</td>\n",
       "    </tr>\n",
       "    <tr>\n",
       "      <th>19</th>\n",
       "      <td>20</td>\n",
       "      <td>Online</td>\n",
       "      <td>Documentaries</td>\n",
       "      <td>C1</td>\n",
       "    </tr>\n",
       "  </tbody>\n",
       "</table>\n",
       "</div>"
      ],
      "text/plain": [
       "    MovieID  Format  CategoryMovie Class\n",
       "0         1     DVD  Enterteinment    C0\n",
       "1         2     DVD         Comedy    C0\n",
       "2         3     DVD  Documentaries    C0\n",
       "3         4     DVD         Comedy    C0\n",
       "4         5     DVD         Comedy    C0\n",
       "5         6     DVD         Comedy    C0\n",
       "6         7  Online         Comedy    C0\n",
       "7         8  Online         Comedy    C0\n",
       "8         9  Online         Comedy    C0\n",
       "9        10  Online  Documentaries    C0\n",
       "10       11     DVD         Comedy    C1\n",
       "11       12     DVD  Enterteinment    C1\n",
       "12       13  Online  Enterteinment    C1\n",
       "13       14  Online  Documentaries    C1\n",
       "14       15  Online  Documentaries    C1\n",
       "15       16  Online  Documentaries    C1\n",
       "16       17  Online  Documentaries    C1\n",
       "17       18  Online  Enterteinment    C1\n",
       "18       19  Online  Documentaries    C1\n",
       "19       20  Online  Documentaries    C1"
      ]
     },
     "metadata": {},
     "output_type": "display_data"
    }
   ],
   "source": [
    "import pandas as pd\n",
    "import matplotlib.pyplot as plt\n",
    "import statistics\n",
    "import numpy as np\n",
    "import scipy.stats\n",
    "import seaborn as sns\n",
    "\n",
    "data = pd.read_excel(\"MoviesArbre.xlsx\")\n",
    "pd.set_option('display.max_rows', None)\n",
    "display(data)"
   ]
  },
  {
   "cell_type": "code",
   "execution_count": 2,
   "metadata": {},
   "outputs": [],
   "source": [
    "# Identification de classes et features\n",
    "\n",
    "fn = ['MovieID','Format', 'CategoryMovie'] # Features ou characteristics - MovieID shouldn be \n",
    "                                           # included because doent mean anything \n",
    "cn = ['C0', 'C1'] # Classes\n"
   ]
  },
  {
   "cell_type": "code",
   "execution_count": 3,
   "metadata": {},
   "outputs": [
    {
     "data": {
      "text/plain": [
       "Class\n",
       "C0    10\n",
       "C1    10\n",
       "dtype: int64"
      ]
     },
     "execution_count": 3,
     "metadata": {},
     "output_type": "execute_result"
    }
   ],
   "source": [
    "data.groupby('Class').size()  # In order to know each class"
   ]
  },
  {
   "cell_type": "markdown",
   "metadata": {},
   "source": [
    "  \n",
    "  \n",
    "## (a) Calcule de GINI DATASET\n"
   ]
  },
  {
   "cell_type": "code",
   "execution_count": 4,
   "metadata": {},
   "outputs": [
    {
     "name": "stdout",
     "output_type": "stream",
     "text": [
      "GiniDataset:  0.5\n"
     ]
    }
   ],
   "source": [
    "\n",
    "# GINI = 1 - $P^2(i)\n",
    "# P(i) = ocurrence de class\n",
    "\n",
    "P_co = 10 / 20 \n",
    "P_c1 = 10 / 20\n",
    "\n",
    "Gini_Dataset = 1 - ( pow(P_co,2) + pow(P_c1,2) )\n",
    "\n",
    "print(\"GiniDataset: \", Gini_Dataset)\n"
   ]
  },
  {
   "cell_type": "markdown",
   "metadata": {},
   "source": [
    "## (c) GINI for variable FORMAT"
   ]
  },
  {
   "cell_type": "code",
   "execution_count": 5,
   "metadata": {},
   "outputs": [
    {
     "name": "stdout",
     "output_type": "stream",
     "text": [
      "Format\n",
      "DVD        8\n",
      "Online    12\n",
      "dtype: int64\n",
      "Gini_Format_dvd:  0.4444444444444444\n",
      "Gini_Format_online:  0.375\n",
      "Gini_Format:  0.4166666666666667\n"
     ]
    }
   ],
   "source": [
    "print(data.groupby('Format').size())  #Class species ALL DATA\n",
    "#P_dvd = 1 - [ (6/8)^2 + (2/8)^2 ]    #Ocurrencies de C0 y C1 dans le group DVD\n",
    "#P_onl = 1 - [ (4/12)^2 + (8/12)^2 ]  #Ocurrencies de C0 y C1 dans le group Online\n",
    "\n",
    "Pdvd = 1 - ( pow((6/8),2) + pow((2/8),2) )\n",
    "Ponl = 1 - ( pow((4/12),2) + pow((8/12),2) )\n",
    "\n",
    "print(\"Gini_Format_dvd: \", Ponl)\n",
    "print(\"Gini_Format_online: \", Pdvd)\n",
    "\n",
    "print(\"Gini_Format: \", (8/20)*Pdvd + (12/20)*Ponl )"
   ]
  },
  {
   "cell_type": "markdown",
   "metadata": {},
   "source": [
    "## (e) (b) (f) GINI pour variable MovieID"
   ]
  },
  {
   "cell_type": "code",
   "execution_count": 6,
   "metadata": {},
   "outputs": [],
   "source": [
    "# Dans le cas de GINI Movie ID n'est pas representative, mais on va le faire pour excercise\n",
    "\n",
    "# Pi = 1 - ( (1/1)^2) ) = 0\n",
    "# Gini_MovieId = 1/20 * (0) * 20 = 0\n"
   ]
  },
  {
   "cell_type": "markdown",
   "metadata": {},
   "source": [
    "L'attribute avec l'indice GINI plus bas est MovieId = 0, ca veut dire que cest pure \n",
    "\n",
    "Gini Index is 0. This happens when the node is pure. All the contained elements in the node are of one unique class.\n",
    "Therefore, this node will not be split again.\n",
    "\n",
    "La variable avec plus grande GINI est FORMAT, donc cest a choisir en premiere comme node.\n"
   ]
  },
  {
   "cell_type": "markdown",
   "metadata": {},
   "source": [
    "## GINI pour variable CATEGORIE"
   ]
  },
  {
   "cell_type": "code",
   "execution_count": 7,
   "metadata": {},
   "outputs": [
    {
     "name": "stdout",
     "output_type": "stream",
     "text": [
      "CategoryMovie\n",
      "Comedy           8\n",
      "Documentaries    8\n",
      "Enterteinment    4\n",
      "dtype: int64\n",
      "Gini_Categorie_comedy:  0.21875\n",
      "Gini_Categorie_documentary:  0.375\n",
      "Gini_Categorie_enterteinment:  0.5\n",
      "Gini_Categorie:  0.3375\n"
     ]
    }
   ],
   "source": [
    "# GINI for MOVIE CATEGORIE\n",
    "\n",
    "print(data.groupby('CategoryMovie').size())  #Class species ALL DATA\n",
    "#P_com = 1 - [ (7/8)^2 + (1/8)^2 ]    #Ocurrencies de C0 y C1 dans le group comedy\n",
    "#P_doc = 1 - [ (2/8)^2 + (6/8)^2 ]  #Ocurrencies de C0 y C1 dans le group documentary\n",
    "#P_ent = 1 - [ (2/4)^2 + (2/4)^2 ]  #Ocurrencies de C0 y C1 dans le group enterteinment\n",
    "\n",
    "\n",
    "Pcom = 1 - ( pow((7/8),2) + pow((1/8),2) )\n",
    "Pdoc = 1 - ( pow((2/8),2) + pow((6/8),2) )\n",
    "Pent = 1 - ( pow((2/4),2) + pow((2/4),2) )\n",
    "\n",
    "print(\"Gini_Categorie_comedy: \", Pcom)\n",
    "print(\"Gini_Categorie_documentary: \", Pdoc)\n",
    "print(\"Gini_Categorie_enterteinment: \", Pent)\n",
    "\n",
    "print(\"Gini_Categorie: \", (8/20)*Pcom + (8/20)*Pdoc+ (4/20)*Pent)"
   ]
  },
  {
   "cell_type": "markdown",
   "metadata": {},
   "source": [
    "## Verification avec model Python"
   ]
  },
  {
   "cell_type": "markdown",
   "metadata": {},
   "source": [
    "- Convert Categorical String Data in numerical values"
   ]
  },
  {
   "cell_type": "code",
   "execution_count": 8,
   "metadata": {},
   "outputs": [
    {
     "data": {
      "text/html": [
       "<div>\n",
       "<style scoped>\n",
       "    .dataframe tbody tr th:only-of-type {\n",
       "        vertical-align: middle;\n",
       "    }\n",
       "\n",
       "    .dataframe tbody tr th {\n",
       "        vertical-align: top;\n",
       "    }\n",
       "\n",
       "    .dataframe thead th {\n",
       "        text-align: right;\n",
       "    }\n",
       "</style>\n",
       "<table border=\"1\" class=\"dataframe\">\n",
       "  <thead>\n",
       "    <tr style=\"text-align: right;\">\n",
       "      <th></th>\n",
       "      <th>MovieID</th>\n",
       "      <th>Format</th>\n",
       "      <th>CategoryMovie</th>\n",
       "      <th>Class</th>\n",
       "      <th>FormatNumber</th>\n",
       "      <th>CategoryNumber</th>\n",
       "      <th>ClassNumber</th>\n",
       "    </tr>\n",
       "  </thead>\n",
       "  <tbody>\n",
       "    <tr>\n",
       "      <th>0</th>\n",
       "      <td>1</td>\n",
       "      <td>DVD</td>\n",
       "      <td>Enterteinment</td>\n",
       "      <td>C0</td>\n",
       "      <td>1.0</td>\n",
       "      <td>1.0</td>\n",
       "      <td>0.0</td>\n",
       "    </tr>\n",
       "    <tr>\n",
       "      <th>1</th>\n",
       "      <td>2</td>\n",
       "      <td>DVD</td>\n",
       "      <td>Comedy</td>\n",
       "      <td>C0</td>\n",
       "      <td>1.0</td>\n",
       "      <td>2.0</td>\n",
       "      <td>0.0</td>\n",
       "    </tr>\n",
       "    <tr>\n",
       "      <th>2</th>\n",
       "      <td>3</td>\n",
       "      <td>DVD</td>\n",
       "      <td>Documentaries</td>\n",
       "      <td>C0</td>\n",
       "      <td>1.0</td>\n",
       "      <td>2.0</td>\n",
       "      <td>0.0</td>\n",
       "    </tr>\n",
       "    <tr>\n",
       "      <th>3</th>\n",
       "      <td>4</td>\n",
       "      <td>DVD</td>\n",
       "      <td>Comedy</td>\n",
       "      <td>C0</td>\n",
       "      <td>1.0</td>\n",
       "      <td>2.0</td>\n",
       "      <td>0.0</td>\n",
       "    </tr>\n",
       "    <tr>\n",
       "      <th>4</th>\n",
       "      <td>5</td>\n",
       "      <td>DVD</td>\n",
       "      <td>Comedy</td>\n",
       "      <td>C0</td>\n",
       "      <td>1.0</td>\n",
       "      <td>2.0</td>\n",
       "      <td>0.0</td>\n",
       "    </tr>\n",
       "    <tr>\n",
       "      <th>5</th>\n",
       "      <td>6</td>\n",
       "      <td>DVD</td>\n",
       "      <td>Comedy</td>\n",
       "      <td>C0</td>\n",
       "      <td>1.0</td>\n",
       "      <td>2.0</td>\n",
       "      <td>0.0</td>\n",
       "    </tr>\n",
       "    <tr>\n",
       "      <th>6</th>\n",
       "      <td>7</td>\n",
       "      <td>Online</td>\n",
       "      <td>Comedy</td>\n",
       "      <td>C0</td>\n",
       "      <td>2.0</td>\n",
       "      <td>2.0</td>\n",
       "      <td>0.0</td>\n",
       "    </tr>\n",
       "    <tr>\n",
       "      <th>7</th>\n",
       "      <td>8</td>\n",
       "      <td>Online</td>\n",
       "      <td>Comedy</td>\n",
       "      <td>C0</td>\n",
       "      <td>2.0</td>\n",
       "      <td>2.0</td>\n",
       "      <td>0.0</td>\n",
       "    </tr>\n",
       "    <tr>\n",
       "      <th>8</th>\n",
       "      <td>9</td>\n",
       "      <td>Online</td>\n",
       "      <td>Comedy</td>\n",
       "      <td>C0</td>\n",
       "      <td>2.0</td>\n",
       "      <td>2.0</td>\n",
       "      <td>0.0</td>\n",
       "    </tr>\n",
       "    <tr>\n",
       "      <th>9</th>\n",
       "      <td>10</td>\n",
       "      <td>Online</td>\n",
       "      <td>Documentaries</td>\n",
       "      <td>C0</td>\n",
       "      <td>2.0</td>\n",
       "      <td>2.0</td>\n",
       "      <td>0.0</td>\n",
       "    </tr>\n",
       "    <tr>\n",
       "      <th>10</th>\n",
       "      <td>11</td>\n",
       "      <td>DVD</td>\n",
       "      <td>Comedy</td>\n",
       "      <td>C1</td>\n",
       "      <td>1.0</td>\n",
       "      <td>2.0</td>\n",
       "      <td>1.0</td>\n",
       "    </tr>\n",
       "    <tr>\n",
       "      <th>11</th>\n",
       "      <td>12</td>\n",
       "      <td>DVD</td>\n",
       "      <td>Enterteinment</td>\n",
       "      <td>C1</td>\n",
       "      <td>1.0</td>\n",
       "      <td>1.0</td>\n",
       "      <td>1.0</td>\n",
       "    </tr>\n",
       "    <tr>\n",
       "      <th>12</th>\n",
       "      <td>13</td>\n",
       "      <td>Online</td>\n",
       "      <td>Enterteinment</td>\n",
       "      <td>C1</td>\n",
       "      <td>2.0</td>\n",
       "      <td>1.0</td>\n",
       "      <td>1.0</td>\n",
       "    </tr>\n",
       "    <tr>\n",
       "      <th>13</th>\n",
       "      <td>14</td>\n",
       "      <td>Online</td>\n",
       "      <td>Documentaries</td>\n",
       "      <td>C1</td>\n",
       "      <td>2.0</td>\n",
       "      <td>2.0</td>\n",
       "      <td>1.0</td>\n",
       "    </tr>\n",
       "    <tr>\n",
       "      <th>14</th>\n",
       "      <td>15</td>\n",
       "      <td>Online</td>\n",
       "      <td>Documentaries</td>\n",
       "      <td>C1</td>\n",
       "      <td>2.0</td>\n",
       "      <td>2.0</td>\n",
       "      <td>1.0</td>\n",
       "    </tr>\n",
       "    <tr>\n",
       "      <th>15</th>\n",
       "      <td>16</td>\n",
       "      <td>Online</td>\n",
       "      <td>Documentaries</td>\n",
       "      <td>C1</td>\n",
       "      <td>2.0</td>\n",
       "      <td>2.0</td>\n",
       "      <td>1.0</td>\n",
       "    </tr>\n",
       "    <tr>\n",
       "      <th>16</th>\n",
       "      <td>17</td>\n",
       "      <td>Online</td>\n",
       "      <td>Documentaries</td>\n",
       "      <td>C1</td>\n",
       "      <td>2.0</td>\n",
       "      <td>2.0</td>\n",
       "      <td>1.0</td>\n",
       "    </tr>\n",
       "    <tr>\n",
       "      <th>17</th>\n",
       "      <td>18</td>\n",
       "      <td>Online</td>\n",
       "      <td>Enterteinment</td>\n",
       "      <td>C1</td>\n",
       "      <td>2.0</td>\n",
       "      <td>1.0</td>\n",
       "      <td>1.0</td>\n",
       "    </tr>\n",
       "    <tr>\n",
       "      <th>18</th>\n",
       "      <td>19</td>\n",
       "      <td>Online</td>\n",
       "      <td>Documentaries</td>\n",
       "      <td>C1</td>\n",
       "      <td>2.0</td>\n",
       "      <td>2.0</td>\n",
       "      <td>1.0</td>\n",
       "    </tr>\n",
       "    <tr>\n",
       "      <th>19</th>\n",
       "      <td>20</td>\n",
       "      <td>Online</td>\n",
       "      <td>Documentaries</td>\n",
       "      <td>C1</td>\n",
       "      <td>2.0</td>\n",
       "      <td>2.0</td>\n",
       "      <td>1.0</td>\n",
       "    </tr>\n",
       "  </tbody>\n",
       "</table>\n",
       "</div>"
      ],
      "text/plain": [
       "    MovieID  Format  CategoryMovie Class  FormatNumber  CategoryNumber  \\\n",
       "0         1     DVD  Enterteinment    C0           1.0             1.0   \n",
       "1         2     DVD         Comedy    C0           1.0             2.0   \n",
       "2         3     DVD  Documentaries    C0           1.0             2.0   \n",
       "3         4     DVD         Comedy    C0           1.0             2.0   \n",
       "4         5     DVD         Comedy    C0           1.0             2.0   \n",
       "5         6     DVD         Comedy    C0           1.0             2.0   \n",
       "6         7  Online         Comedy    C0           2.0             2.0   \n",
       "7         8  Online         Comedy    C0           2.0             2.0   \n",
       "8         9  Online         Comedy    C0           2.0             2.0   \n",
       "9        10  Online  Documentaries    C0           2.0             2.0   \n",
       "10       11     DVD         Comedy    C1           1.0             2.0   \n",
       "11       12     DVD  Enterteinment    C1           1.0             1.0   \n",
       "12       13  Online  Enterteinment    C1           2.0             1.0   \n",
       "13       14  Online  Documentaries    C1           2.0             2.0   \n",
       "14       15  Online  Documentaries    C1           2.0             2.0   \n",
       "15       16  Online  Documentaries    C1           2.0             2.0   \n",
       "16       17  Online  Documentaries    C1           2.0             2.0   \n",
       "17       18  Online  Enterteinment    C1           2.0             1.0   \n",
       "18       19  Online  Documentaries    C1           2.0             2.0   \n",
       "19       20  Online  Documentaries    C1           2.0             2.0   \n",
       "\n",
       "    ClassNumber  \n",
       "0           0.0  \n",
       "1           0.0  \n",
       "2           0.0  \n",
       "3           0.0  \n",
       "4           0.0  \n",
       "5           0.0  \n",
       "6           0.0  \n",
       "7           0.0  \n",
       "8           0.0  \n",
       "9           0.0  \n",
       "10          1.0  \n",
       "11          1.0  \n",
       "12          1.0  \n",
       "13          1.0  \n",
       "14          1.0  \n",
       "15          1.0  \n",
       "16          1.0  \n",
       "17          1.0  \n",
       "18          1.0  \n",
       "19          1.0  "
      ]
     },
     "metadata": {},
     "output_type": "display_data"
    }
   ],
   "source": [
    "data.loc[data['Format'] == 'DVD', 'FormatNumber'] = 1\n",
    "data.loc[data['Format'] == 'Online', 'FormatNumber'] = 2\n",
    "\n",
    "data.loc[data['CategoryMovie'] == 'Enterteinment', 'CategoryNumber'] = 1\n",
    "data.loc[data['CategoryMovie'] == 'Comedy', 'CategoryNumber'] = 2\n",
    "data.loc[data['CategoryMovie'] == 'Documentaries', 'CategoryNumber'] = 2\n",
    "\n",
    "data.loc[data['Class'] == 'C0', 'ClassNumber'] = 0\n",
    "data.loc[data['Class'] == 'C1', 'ClassNumber'] = 1\n",
    "\n",
    "display(data)"
   ]
  },
  {
   "cell_type": "markdown",
   "metadata": {},
   "source": [
    "## Aplique l'algorithme en incluant MovieId"
   ]
  },
  {
   "cell_type": "code",
   "execution_count": 9,
   "metadata": {},
   "outputs": [
    {
     "data": {
      "text/plain": [
       "DecisionTreeClassifier(ccp_alpha=0.0, class_weight=None, criterion='gini',\n",
       "                       max_depth=4, max_features=None, max_leaf_nodes=None,\n",
       "                       min_impurity_decrease=0.0, min_impurity_split=None,\n",
       "                       min_samples_leaf=2, min_samples_split=2,\n",
       "                       min_weight_fraction_leaf=0.0, presort='deprecated',\n",
       "                       random_state=44, splitter='best')"
      ]
     },
     "execution_count": 9,
     "metadata": {},
     "output_type": "execute_result"
    }
   ],
   "source": [
    "from sklearn import tree\n",
    "desicionTree = tree.DecisionTreeClassifier(max_depth =4, criterion='gini', random_state=44, min_samples_leaf=2)\n",
    "desicionTree.fit(data[['MovieID', 'FormatNumber', 'CategoryNumber']], data['ClassNumber'])"
   ]
  },
  {
   "cell_type": "code",
   "execution_count": 10,
   "metadata": {},
   "outputs": [
    {
     "data": {
      "text/plain": [
       "[Text(167.4, 326.15999999999997, 'MovieID <= 10.5\\ngini = 0.5\\nsamples = 20\\nvalue = [10, 10]\\nclass = C0'),\n",
       " Text(83.7, 108.72000000000003, 'gini = 0.0\\nsamples = 10\\nvalue = [10, 0]\\nclass = C0'),\n",
       " Text(251.10000000000002, 108.72000000000003, 'gini = 0.0\\nsamples = 10\\nvalue = [0, 10]\\nclass = C1')]"
      ]
     },
     "execution_count": 10,
     "metadata": {},
     "output_type": "execute_result"
    },
    {
     "data": {
      "image/png": "[encoded data removed]",
      "text/plain": [
       "<Figure size 432x576 with 1 Axes>"
      ]
     },
     "metadata": {
      "needs_background": "light"
     },
     "output_type": "display_data"
    }
   ],
   "source": [
    "from sklearn.tree import DecisionTreeClassifier, plot_tree\n",
    "\n",
    "plt.figure(figsize = (6,8))\n",
    "plot_tree(desicionTree, feature_names = ['MovieID', 'FormatNumber', 'CategoryNumber'], class_names = ['C0', 'C1'], filled = True)\n"
   ]
  },
  {
   "cell_type": "markdown",
   "metadata": {},
   "source": [
    "Le methode trouve erroneement que le plus petite ou meilleur gini est MovieId, cest pas une bonne conclusion on dois eliminer cetter variable de model.\n"
   ]
  },
  {
   "cell_type": "markdown",
   "metadata": {},
   "source": [
    "## Appliquer le model sans MovieId"
   ]
  },
  {
   "cell_type": "code",
   "execution_count": 11,
   "metadata": {},
   "outputs": [
    {
     "data": {
      "text/plain": [
       "[Text(279.0, 362.4, 'FormatNumber <= 1.5\\ngini = 0.5\\nsamples = 20\\nvalue = [10, 10]\\nclass = C0'),\n",
       " Text(139.5, 217.44, 'CategoryNumber <= 1.5\\ngini = 0.375\\nsamples = 8\\nvalue = [6, 2]\\nclass = C0'),\n",
       " Text(69.75, 72.47999999999996, 'gini = 0.5\\nsamples = 2\\nvalue = [1, 1]\\nclass = C0'),\n",
       " Text(209.25, 72.47999999999996, 'gini = 0.278\\nsamples = 6\\nvalue = [5, 1]\\nclass = C0'),\n",
       " Text(418.5, 217.44, 'CategoryNumber <= 1.5\\ngini = 0.444\\nsamples = 12\\nvalue = [4, 8]\\nclass = C1'),\n",
       " Text(348.75, 72.47999999999996, 'gini = 0.0\\nsamples = 2\\nvalue = [0, 2]\\nclass = C1'),\n",
       " Text(488.25, 72.47999999999996, 'gini = 0.48\\nsamples = 10\\nvalue = [4, 6]\\nclass = C1')]"
      ]
     },
     "execution_count": 11,
     "metadata": {},
     "output_type": "execute_result"
    },
    {
     "data": {
      "image/png": "[encoded data removed]",
      "text/plain": [
       "<Figure size 720x576 with 1 Axes>"
      ]
     },
     "metadata": {
      "needs_background": "light"
     },
     "output_type": "display_data"
    }
   ],
   "source": [
    "from sklearn import tree\n",
    "desicionTree = tree.DecisionTreeClassifier(max_depth =3, criterion='gini', random_state=44, min_samples_leaf=2)\n",
    "desicionTree.fit(data[['FormatNumber', 'CategoryNumber']], data['ClassNumber'])\n",
    "plt.figure(figsize = (10,8))\n",
    "plot_tree(desicionTree, feature_names = ['FormatNumber', 'CategoryNumber'], class_names = ['C0', 'C1'], filled = True)\n",
    "\n"
   ]
  },
  {
   "cell_type": "raw",
   "metadata": {},
   "source": [
    "# La Variable choisi pour faire le node en premiere est FormatNumber (Representation numerique de Format de movie), que a le plus grande valeur de GINI Globale.  Les calcules de GINI sont les memes obtenus manuellement\n"
   ]
  },
  {
   "cell_type": "markdown",
   "metadata": {},
   "source": [
    "#  DEVOIR 2. EXCERCISE 2 -  BREAST.DATA"
   ]
  },
  {
   "cell_type": "markdown",
   "metadata": {},
   "source": [
    "##  Load data"
   ]
  },
  {
   "cell_type": "code",
   "execution_count": 12,
   "metadata": {},
   "outputs": [
    {
     "data": {
      "text/html": [
       "<div>\n",
       "<style scoped>\n",
       "    .dataframe tbody tr th:only-of-type {\n",
       "        vertical-align: middle;\n",
       "    }\n",
       "\n",
       "    .dataframe tbody tr th {\n",
       "        vertical-align: top;\n",
       "    }\n",
       "\n",
       "    .dataframe thead th {\n",
       "        text-align: right;\n",
       "    }\n",
       "</style>\n",
       "<table border=\"1\" class=\"dataframe\">\n",
       "  <thead>\n",
       "    <tr style=\"text-align: right;\">\n",
       "      <th></th>\n",
       "      <th>id_number</th>\n",
       "      <th>Clump_Thickness</th>\n",
       "      <th>Uniformity_Cell_Size</th>\n",
       "      <th>Uniformity_Cell_Shape</th>\n",
       "      <th>Marginal_Adhesion</th>\n",
       "      <th>Single_Epithelial_Cell_Size</th>\n",
       "      <th>Bare_Nuclei</th>\n",
       "      <th>Bland_Chromatin</th>\n",
       "      <th>Normal_Nucleoli</th>\n",
       "      <th>Mitoses</th>\n",
       "      <th>Class</th>\n",
       "    </tr>\n",
       "  </thead>\n",
       "  <tbody>\n",
       "    <tr>\n",
       "      <th>0</th>\n",
       "      <td>1000025</td>\n",
       "      <td>5</td>\n",
       "      <td>1</td>\n",
       "      <td>1</td>\n",
       "      <td>1</td>\n",
       "      <td>2</td>\n",
       "      <td>1</td>\n",
       "      <td>3</td>\n",
       "      <td>1</td>\n",
       "      <td>1</td>\n",
       "      <td>2</td>\n",
       "    </tr>\n",
       "    <tr>\n",
       "      <th>1</th>\n",
       "      <td>1002945</td>\n",
       "      <td>5</td>\n",
       "      <td>4</td>\n",
       "      <td>4</td>\n",
       "      <td>5</td>\n",
       "      <td>7</td>\n",
       "      <td>10</td>\n",
       "      <td>3</td>\n",
       "      <td>2</td>\n",
       "      <td>1</td>\n",
       "      <td>2</td>\n",
       "    </tr>\n",
       "    <tr>\n",
       "      <th>2</th>\n",
       "      <td>1015425</td>\n",
       "      <td>3</td>\n",
       "      <td>1</td>\n",
       "      <td>1</td>\n",
       "      <td>1</td>\n",
       "      <td>2</td>\n",
       "      <td>2</td>\n",
       "      <td>3</td>\n",
       "      <td>1</td>\n",
       "      <td>1</td>\n",
       "      <td>2</td>\n",
       "    </tr>\n",
       "    <tr>\n",
       "      <th>3</th>\n",
       "      <td>1016277</td>\n",
       "      <td>6</td>\n",
       "      <td>8</td>\n",
       "      <td>8</td>\n",
       "      <td>1</td>\n",
       "      <td>3</td>\n",
       "      <td>4</td>\n",
       "      <td>3</td>\n",
       "      <td>7</td>\n",
       "      <td>1</td>\n",
       "      <td>2</td>\n",
       "    </tr>\n",
       "    <tr>\n",
       "      <th>4</th>\n",
       "      <td>1017023</td>\n",
       "      <td>4</td>\n",
       "      <td>1</td>\n",
       "      <td>1</td>\n",
       "      <td>3</td>\n",
       "      <td>2</td>\n",
       "      <td>1</td>\n",
       "      <td>3</td>\n",
       "      <td>1</td>\n",
       "      <td>1</td>\n",
       "      <td>2</td>\n",
       "    </tr>\n",
       "  </tbody>\n",
       "</table>\n",
       "</div>"
      ],
      "text/plain": [
       "   id_number  Clump_Thickness  Uniformity_Cell_Size  Uniformity_Cell_Shape  \\\n",
       "0    1000025                5                     1                      1   \n",
       "1    1002945                5                     4                      4   \n",
       "2    1015425                3                     1                      1   \n",
       "3    1016277                6                     8                      8   \n",
       "4    1017023                4                     1                      1   \n",
       "\n",
       "   Marginal_Adhesion  Single_Epithelial_Cell_Size Bare_Nuclei  \\\n",
       "0                  1                            2           1   \n",
       "1                  5                            7          10   \n",
       "2                  1                            2           2   \n",
       "3                  1                            3           4   \n",
       "4                  3                            2           1   \n",
       "\n",
       "   Bland_Chromatin  Normal_Nucleoli  Mitoses  Class  \n",
       "0                3                1        1      2  \n",
       "1                3                2        1      2  \n",
       "2                3                1        1      2  \n",
       "3                3                7        1      2  \n",
       "4                3                1        1      2  "
      ]
     },
     "execution_count": 12,
     "metadata": {},
     "output_type": "execute_result"
    }
   ],
   "source": [
    "import pandas as pd\n",
    "import matplotlib.pyplot as plt\n",
    "import statistics\n",
    "import numpy as np\n",
    "import scipy.stats\n",
    "import seaborn as sns\n",
    "\n",
    "Data = pd.read_csv(\"breast.csv\")\n",
    "pd.set_option('display.max_rows', None)\n",
    "#display(Data)\n",
    "Data.head()\n",
    "\n"
   ]
  },
  {
   "cell_type": "markdown",
   "metadata": {},
   "source": [
    "## Exploration de donnes"
   ]
  },
  {
   "cell_type": "code",
   "execution_count": 13,
   "metadata": {},
   "outputs": [
    {
     "name": "stdout",
     "output_type": "stream",
     "text": [
      "<class 'pandas.core.frame.DataFrame'>\n",
      "RangeIndex: 699 entries, 0 to 698\n",
      "Data columns (total 11 columns):\n",
      " #   Column                       Non-Null Count  Dtype \n",
      "---  ------                       --------------  ----- \n",
      " 0   id_number                    699 non-null    int64 \n",
      " 1   Clump_Thickness              699 non-null    int64 \n",
      " 2   Uniformity_Cell_Size         699 non-null    int64 \n",
      " 3   Uniformity_Cell_Shape        699 non-null    int64 \n",
      " 4   Marginal_Adhesion            699 non-null    int64 \n",
      " 5   Single_Epithelial_Cell_Size  699 non-null    int64 \n",
      " 6   Bare_Nuclei                  699 non-null    object\n",
      " 7   Bland_Chromatin              699 non-null    int64 \n",
      " 8   Normal_Nucleoli              699 non-null    int64 \n",
      " 9   Mitoses                      699 non-null    int64 \n",
      " 10  Class                        699 non-null    int64 \n",
      "dtypes: int64(10), object(1)\n",
      "memory usage: 60.2+ KB\n"
     ]
    }
   ],
   "source": [
    "Data.info() # En observation des donnes, dans la column Bare_Nuclei, ilya des valeurs non-numeriques, que pour \n",
    "            # l'instante on va a eliminer les lignes correspondentes.  La Column continue a etre consideree dan la analyses.\n",
    "            # La column Id Number est pas representative de la sortie.\n"
   ]
  },
  {
   "cell_type": "markdown",
   "metadata": {},
   "source": [
    "## Cleaning invalid data"
   ]
  },
  {
   "cell_type": "code",
   "execution_count": 14,
   "metadata": {},
   "outputs": [],
   "source": [
    "labels = ['id_number' 'Clump_Thickness','Uniformity_Cell_Size','Uniformity_Cell_Shape','Marginal_Adhesion','Single_Epithelial_Cell_Size','Bare_Nuclei','Bland_Chromatin','Normal_Nucleoli','Mitoses','Class']\n",
    "\n",
    "# Dont use IdNumber ni 'Class'\n",
    "fn = ['Clump_Thickness','Uniformity_Cell_Size','Uniformity_Cell_Shape','Marginal_Adhesion','Single_Epithelial_Cell_Size','Bare_Nuclei','Bland_Chromatin','Normal_Nucleoli','Mitoses']\n"
   ]
  },
  {
   "cell_type": "code",
   "execution_count": 15,
   "metadata": {},
   "outputs": [
    {
     "name": "stdout",
     "output_type": "stream",
     "text": [
      "<class 'pandas.core.frame.DataFrame'>\n",
      "RangeIndex: 683 entries, 0 to 682\n",
      "Data columns (total 11 columns):\n",
      " #   Column                       Non-Null Count  Dtype  \n",
      "---  ------                       --------------  -----  \n",
      " 0   id_number                    683 non-null    int64  \n",
      " 1   Clump_Thickness              683 non-null    int64  \n",
      " 2   Uniformity_Cell_Size         683 non-null    int64  \n",
      " 3   Uniformity_Cell_Shape        683 non-null    int64  \n",
      " 4   Marginal_Adhesion            683 non-null    int64  \n",
      " 5   Single_Epithelial_Cell_Size  683 non-null    int64  \n",
      " 6   Bare_Nuclei                  683 non-null    float64\n",
      " 7   Bland_Chromatin              683 non-null    int64  \n",
      " 8   Normal_Nucleoli              683 non-null    int64  \n",
      " 9   Mitoses                      683 non-null    int64  \n",
      " 10  Class                        683 non-null    int64  \n",
      "dtypes: float64(1), int64(10)\n",
      "memory usage: 58.8 KB\n"
     ]
    }
   ],
   "source": [
    "# The data contain \"?\" values, we erase non numerical rows with values from data\n",
    "\n",
    "df = Data.apply (pd.to_numeric, errors='coerce')\n",
    "Data2 = df.dropna()\n",
    "Data2 = Data2.reset_index(drop=True)\n",
    "Data2.info()"
   ]
  },
  {
   "cell_type": "markdown",
   "metadata": {},
   "source": [
    "## On separe Xi et y - Features et Target. \n",
    "On a pris tout la donnes comme training set."
   ]
  },
  {
   "cell_type": "code",
   "execution_count": 16,
   "metadata": {},
   "outputs": [
    {
     "data": {
      "text/html": [
       "<div>\n",
       "<style scoped>\n",
       "    .dataframe tbody tr th:only-of-type {\n",
       "        vertical-align: middle;\n",
       "    }\n",
       "\n",
       "    .dataframe tbody tr th {\n",
       "        vertical-align: top;\n",
       "    }\n",
       "\n",
       "    .dataframe thead th {\n",
       "        text-align: right;\n",
       "    }\n",
       "</style>\n",
       "<table border=\"1\" class=\"dataframe\">\n",
       "  <thead>\n",
       "    <tr style=\"text-align: right;\">\n",
       "      <th></th>\n",
       "      <th>Clump_Thickness</th>\n",
       "      <th>Uniformity_Cell_Size</th>\n",
       "      <th>Uniformity_Cell_Shape</th>\n",
       "      <th>Marginal_Adhesion</th>\n",
       "      <th>Single_Epithelial_Cell_Size</th>\n",
       "      <th>Bare_Nuclei</th>\n",
       "      <th>Bland_Chromatin</th>\n",
       "      <th>Normal_Nucleoli</th>\n",
       "      <th>Mitoses</th>\n",
       "    </tr>\n",
       "  </thead>\n",
       "  <tbody>\n",
       "    <tr>\n",
       "      <th>0</th>\n",
       "      <td>5</td>\n",
       "      <td>1</td>\n",
       "      <td>1</td>\n",
       "      <td>1</td>\n",
       "      <td>2</td>\n",
       "      <td>1.0</td>\n",
       "      <td>3</td>\n",
       "      <td>1</td>\n",
       "      <td>1</td>\n",
       "    </tr>\n",
       "    <tr>\n",
       "      <th>1</th>\n",
       "      <td>5</td>\n",
       "      <td>4</td>\n",
       "      <td>4</td>\n",
       "      <td>5</td>\n",
       "      <td>7</td>\n",
       "      <td>10.0</td>\n",
       "      <td>3</td>\n",
       "      <td>2</td>\n",
       "      <td>1</td>\n",
       "    </tr>\n",
       "    <tr>\n",
       "      <th>2</th>\n",
       "      <td>3</td>\n",
       "      <td>1</td>\n",
       "      <td>1</td>\n",
       "      <td>1</td>\n",
       "      <td>2</td>\n",
       "      <td>2.0</td>\n",
       "      <td>3</td>\n",
       "      <td>1</td>\n",
       "      <td>1</td>\n",
       "    </tr>\n",
       "    <tr>\n",
       "      <th>3</th>\n",
       "      <td>6</td>\n",
       "      <td>8</td>\n",
       "      <td>8</td>\n",
       "      <td>1</td>\n",
       "      <td>3</td>\n",
       "      <td>4.0</td>\n",
       "      <td>3</td>\n",
       "      <td>7</td>\n",
       "      <td>1</td>\n",
       "    </tr>\n",
       "    <tr>\n",
       "      <th>4</th>\n",
       "      <td>4</td>\n",
       "      <td>1</td>\n",
       "      <td>1</td>\n",
       "      <td>3</td>\n",
       "      <td>2</td>\n",
       "      <td>1.0</td>\n",
       "      <td>3</td>\n",
       "      <td>1</td>\n",
       "      <td>1</td>\n",
       "    </tr>\n",
       "  </tbody>\n",
       "</table>\n",
       "</div>"
      ],
      "text/plain": [
       "   Clump_Thickness  Uniformity_Cell_Size  Uniformity_Cell_Shape  \\\n",
       "0                5                     1                      1   \n",
       "1                5                     4                      4   \n",
       "2                3                     1                      1   \n",
       "3                6                     8                      8   \n",
       "4                4                     1                      1   \n",
       "\n",
       "   Marginal_Adhesion  Single_Epithelial_Cell_Size  Bare_Nuclei  \\\n",
       "0                  1                            2          1.0   \n",
       "1                  5                            7         10.0   \n",
       "2                  1                            2          2.0   \n",
       "3                  1                            3          4.0   \n",
       "4                  3                            2          1.0   \n",
       "\n",
       "   Bland_Chromatin  Normal_Nucleoli  Mitoses  \n",
       "0                3                1        1  \n",
       "1                3                2        1  \n",
       "2                3                1        1  \n",
       "3                3                7        1  \n",
       "4                3                1        1  "
      ]
     },
     "execution_count": 16,
     "metadata": {},
     "output_type": "execute_result"
    }
   ],
   "source": [
    "X_train = Data2[fn] # Not columns Class et IdNumber\n",
    "X_train.head()\n"
   ]
  },
  {
   "cell_type": "code",
   "execution_count": 17,
   "metadata": {},
   "outputs": [
    {
     "data": {
      "text/plain": [
       "0    2\n",
       "1    2\n",
       "2    2\n",
       "3    2\n",
       "4    2\n",
       "Name: Class, dtype: int64"
      ]
     },
     "execution_count": 17,
     "metadata": {},
     "output_type": "execute_result"
    }
   ],
   "source": [
    "Y_train = Data2['Class']\n",
    "Y_train.head()\n"
   ]
  },
  {
   "cell_type": "code",
   "execution_count": 18,
   "metadata": {},
   "outputs": [
    {
     "data": {
      "text/plain": [
       "Class\n",
       "2    458\n",
       "4    241\n",
       "dtype: int64"
      ]
     },
     "execution_count": 18,
     "metadata": {},
     "output_type": "execute_result"
    }
   ],
   "source": [
    "Data.groupby('Class').size()  #To know frequency of any class in target Column"
   ]
  },
  {
   "cell_type": "markdown",
   "metadata": {},
   "source": [
    "## Arbre de decision - Entropy\n"
   ]
  },
  {
   "cell_type": "code",
   "execution_count": 19,
   "metadata": {},
   "outputs": [
    {
     "data": {
      "text/plain": [
       "DecisionTreeClassifier(ccp_alpha=0.0, class_weight=None, criterion='entropy',\n",
       "                       max_depth=3, max_features=None, max_leaf_nodes=None,\n",
       "                       min_impurity_decrease=0.0, min_impurity_split=None,\n",
       "                       min_samples_leaf=5, min_samples_split=2,\n",
       "                       min_weight_fraction_leaf=0.0, presort='deprecated',\n",
       "                       random_state=44, splitter='best')"
      ]
     },
     "execution_count": 19,
     "metadata": {},
     "output_type": "execute_result"
    }
   ],
   "source": [
    "from sklearn import tree\n",
    "desicionTree = tree.DecisionTreeClassifier(max_depth =3, criterion='entropy', random_state=44, min_samples_leaf=5)\n",
    "desicionTree.fit(X_train, Y_train)\n"
   ]
  },
  {
   "cell_type": "markdown",
   "metadata": {},
   "source": [
    "## Prediction"
   ]
  },
  {
   "cell_type": "code",
   "execution_count": 20,
   "metadata": {},
   "outputs": [],
   "source": [
    "# Pour les données X suivantes ([4,2,1,1,1,2,3,2,1]), prédire la cible"
   ]
  },
  {
   "cell_type": "code",
   "execution_count": 21,
   "metadata": {},
   "outputs": [],
   "source": [
    "fn = ['Clump_Thickness','Uniformity_Cell_Size','Uniformity_Cell_Shape','Marginal_Adhesion','Single_Epithelial_Cell_Size','Bare_Nuclei','Bland_Chromatin','Normal_Nucleoli','Mitoses']\n",
    "cn = ['2', '4']\n",
    "X_prediction = [[4,2,1,1,1,2,3,2,1]]"
   ]
  },
  {
   "cell_type": "code",
   "execution_count": 22,
   "metadata": {},
   "outputs": [
    {
     "name": "stdout",
     "output_type": "stream",
     "text": [
      "[2]\n"
     ]
    }
   ],
   "source": [
    "Y_prediction = desicionTree.predict(X_prediction)\n",
    "print(Y_prediction)"
   ]
  },
  {
   "cell_type": "code",
   "execution_count": 23,
   "metadata": {},
   "outputs": [],
   "source": [
    "# La prediction cest que appartient a la class 2"
   ]
  },
  {
   "cell_type": "code",
   "execution_count": 24,
   "metadata": {},
   "outputs": [
    {
     "data": {
      "text/plain": [
       "[Text(362.7, 475.65000000000003, 'Uniformity_Cell_Size <= 2.5\\nentropy = 0.934\\nsamples = 683\\nvalue = [444, 239]\\nclass = 2'),\n",
       " Text(181.35, 339.75, 'Bare_Nuclei <= 3.5\\nentropy = 0.188\\nsamples = 418\\nvalue = [406, 12]\\nclass = 2'),\n",
       " Text(90.675, 203.85000000000002, 'Bland_Chromatin <= 4.5\\nentropy = 0.046\\nsamples = 395\\nvalue = [393, 2]\\nclass = 2'),\n",
       " Text(45.3375, 67.94999999999999, 'entropy = 0.0\\nsamples = 389\\nvalue = [389, 0]\\nclass = 2'),\n",
       " Text(136.0125, 67.94999999999999, 'entropy = 0.918\\nsamples = 6\\nvalue = [4, 2]\\nclass = 2'),\n",
       " Text(272.025, 203.85000000000002, 'Clump_Thickness <= 3.5\\nentropy = 0.988\\nsamples = 23\\nvalue = [13, 10]\\nclass = 2'),\n",
       " Text(226.6875, 67.94999999999999, 'entropy = 0.0\\nsamples = 11\\nvalue = [11, 0]\\nclass = 2'),\n",
       " Text(317.3625, 67.94999999999999, 'entropy = 0.65\\nsamples = 12\\nvalue = [2, 10]\\nclass = 4'),\n",
       " Text(544.05, 339.75, 'Uniformity_Cell_Size <= 4.5\\nentropy = 0.593\\nsamples = 265\\nvalue = [38, 227]\\nclass = 4'),\n",
       " Text(453.375, 203.85000000000002, 'Bare_Nuclei <= 2.5\\nentropy = 0.964\\nsamples = 90\\nvalue = [35, 55]\\nclass = 4'),\n",
       " Text(408.03749999999997, 67.94999999999999, 'entropy = 0.65\\nsamples = 30\\nvalue = [25, 5]\\nclass = 2'),\n",
       " Text(498.7125, 67.94999999999999, 'entropy = 0.65\\nsamples = 60\\nvalue = [10, 50]\\nclass = 4'),\n",
       " Text(634.725, 203.85000000000002, 'Bland_Chromatin <= 4.5\\nentropy = 0.125\\nsamples = 175\\nvalue = [3, 172]\\nclass = 4'),\n",
       " Text(589.3874999999999, 67.94999999999999, 'entropy = 0.348\\nsamples = 46\\nvalue = [3, 43]\\nclass = 4'),\n",
       " Text(680.0625, 67.94999999999999, 'entropy = 0.0\\nsamples = 129\\nvalue = [0, 129]\\nclass = 4')]"
      ]
     },
     "execution_count": 24,
     "metadata": {},
     "output_type": "execute_result"
    },
    {
     "data": {
      "image/png": "[encoded data removed]",
      "text/plain": [
       "<Figure size 936x720 with 1 Axes>"
      ]
     },
     "metadata": {
      "needs_background": "light"
     },
     "output_type": "display_data"
    }
   ],
   "source": [
    "from sklearn.tree import DecisionTreeClassifier, plot_tree\n",
    "\n",
    "# https://quantdare.com/decision-trees-gini-vs-entropy/\n",
    "# https://towardsdatascience.com/entropy-how-decision-trees-make-decisions-2946b9c18c8\n",
    "\n",
    "plt.figure(figsize = (13,10))\n",
    "plot_tree(desicionTree, feature_names = fn, class_names = cn, filled = True)\n"
   ]
  },
  {
   "cell_type": "markdown",
   "metadata": {},
   "source": [
    "## Arbre de decision - GINI Methode"
   ]
  },
  {
   "cell_type": "code",
   "execution_count": 25,
   "metadata": {},
   "outputs": [
    {
     "data": {
      "text/plain": [
       "DecisionTreeClassifier(ccp_alpha=0.0, class_weight=None, criterion='gini',\n",
       "                       max_depth=3, max_features=None, max_leaf_nodes=None,\n",
       "                       min_impurity_decrease=0.0, min_impurity_split=None,\n",
       "                       min_samples_leaf=5, min_samples_split=2,\n",
       "                       min_weight_fraction_leaf=0.0, presort='deprecated',\n",
       "                       random_state=44, splitter='best')"
      ]
     },
     "execution_count": 25,
     "metadata": {},
     "output_type": "execute_result"
    }
   ],
   "source": [
    "from sklearn import tree\n",
    "desicionTree = tree.DecisionTreeClassifier(max_depth =3, criterion='gini', random_state=44, min_samples_leaf=5)\n",
    "desicionTree.fit(X_train, Y_train)"
   ]
  },
  {
   "cell_type": "code",
   "execution_count": 26,
   "metadata": {},
   "outputs": [
    {
     "data": {
      "text/plain": [
       "[Text(358.05000000000007, 380.52, 'Uniformity_Cell_Size <= 2.5\\ngini = 0.455\\nsamples = 683\\nvalue = [444, 239]\\nclass = 2'),\n",
       " Text(195.3, 271.8, 'Bare_Nuclei <= 5.5\\ngini = 0.056\\nsamples = 418\\nvalue = [406, 12]\\nclass = 2'),\n",
       " Text(130.20000000000002, 163.07999999999998, 'Clump_Thickness <= 6.5\\ngini = 0.024\\nsamples = 410\\nvalue = [405, 5]\\nclass = 2'),\n",
       " Text(65.10000000000001, 54.360000000000014, 'gini = 0.01\\nsamples = 405\\nvalue = [403, 2]\\nclass = 2'),\n",
       " Text(195.3, 54.360000000000014, 'gini = 0.48\\nsamples = 5\\nvalue = [2, 3]\\nclass = 4'),\n",
       " Text(260.40000000000003, 163.07999999999998, 'gini = 0.219\\nsamples = 8\\nvalue = [1, 7]\\nclass = 4'),\n",
       " Text(520.8000000000001, 271.8, 'Uniformity_Cell_Shape <= 2.5\\ngini = 0.246\\nsamples = 265\\nvalue = [38, 227]\\nclass = 4'),\n",
       " Text(390.6, 163.07999999999998, 'Bland_Chromatin <= 3.5\\ngini = 0.34\\nsamples = 23\\nvalue = [18, 5]\\nclass = 2'),\n",
       " Text(325.50000000000006, 54.360000000000014, 'gini = 0.0\\nsamples = 16\\nvalue = [16, 0]\\nclass = 2'),\n",
       " Text(455.70000000000005, 54.360000000000014, 'gini = 0.408\\nsamples = 7\\nvalue = [2, 5]\\nclass = 4'),\n",
       " Text(651.0000000000001, 163.07999999999998, 'Uniformity_Cell_Size <= 4.5\\ngini = 0.152\\nsamples = 242\\nvalue = [20, 222]\\nclass = 4'),\n",
       " Text(585.9000000000001, 54.360000000000014, 'gini = 0.375\\nsamples = 68\\nvalue = [17, 51]\\nclass = 4'),\n",
       " Text(716.1000000000001, 54.360000000000014, 'gini = 0.034\\nsamples = 174\\nvalue = [3, 171]\\nclass = 4')]"
      ]
     },
     "execution_count": 26,
     "metadata": {},
     "output_type": "execute_result"
    },
    {
     "data": {
      "image/png": "[encoded data removed]",
      "text/plain": [
       "<Figure size 1008x576 with 1 Axes>"
      ]
     },
     "metadata": {
      "needs_background": "light"
     },
     "output_type": "display_data"
    }
   ],
   "source": [
    "from sklearn.tree import DecisionTreeClassifier, plot_tree\n",
    "\n",
    "# https://quantdare.com/decision-trees-gini-vs-entropy/\n",
    "# https://towardsdatascience.com/entropy-how-decision-trees-make-decisions-2946b9c18c8\n",
    "\n",
    "plt.figure(figsize = (14,8))\n",
    "plot_tree(desicionTree, feature_names = fn, class_names = cn, filled = True)\n"
   ]
  },
  {
   "cell_type": "markdown",
   "metadata": {},
   "source": [
    "## Prediction"
   ]
  },
  {
   "cell_type": "code",
   "execution_count": 27,
   "metadata": {},
   "outputs": [
    {
     "name": "stdout",
     "output_type": "stream",
     "text": [
      "[2]\n"
     ]
    }
   ],
   "source": [
    "Y_prediction = desicionTree.predict(X_prediction)\n",
    "print(Y_prediction)"
   ]
  },
  {
   "cell_type": "markdown",
   "metadata": {},
   "source": [
    "Les deux methodes ont le meme resultat de prediction - C2"
   ]
  },
  {
   "cell_type": "code",
   "execution_count": 28,
   "metadata": {},
   "outputs": [],
   "source": [
    "# https://www.kdnuggets.com/2019/08/understanding-decision-trees-classification-python.html"
   ]
  },
  {
   "cell_type": "markdown",
   "metadata": {},
   "source": [
    "# DEVOIR 2 - Excercise 1 - Prediction Achat d'ordinateur - Gain et Entropie"
   ]
  },
  {
   "cell_type": "code",
   "execution_count": 29,
   "metadata": {},
   "outputs": [
    {
     "data": {
      "text/html": [
       "<div>\n",
       "<style scoped>\n",
       "    .dataframe tbody tr th:only-of-type {\n",
       "        vertical-align: middle;\n",
       "    }\n",
       "\n",
       "    .dataframe tbody tr th {\n",
       "        vertical-align: top;\n",
       "    }\n",
       "\n",
       "    .dataframe thead th {\n",
       "        text-align: right;\n",
       "    }\n",
       "</style>\n",
       "<table border=\"1\" class=\"dataframe\">\n",
       "  <thead>\n",
       "    <tr style=\"text-align: right;\">\n",
       "      <th></th>\n",
       "      <th>Age</th>\n",
       "      <th>Revenu</th>\n",
       "      <th>StatutEtudiant</th>\n",
       "      <th>Credit</th>\n",
       "      <th>AchatOrdinateur</th>\n",
       "    </tr>\n",
       "  </thead>\n",
       "  <tbody>\n",
       "    <tr>\n",
       "      <th>0</th>\n",
       "      <td>&lt;=30</td>\n",
       "      <td>Élevé</td>\n",
       "      <td>Non</td>\n",
       "      <td>Bon</td>\n",
       "      <td>Non</td>\n",
       "    </tr>\n",
       "    <tr>\n",
       "      <th>1</th>\n",
       "      <td>&lt;=30</td>\n",
       "      <td>Élevé</td>\n",
       "      <td>Non</td>\n",
       "      <td>Excellent</td>\n",
       "      <td>Non</td>\n",
       "    </tr>\n",
       "    <tr>\n",
       "      <th>2</th>\n",
       "      <td>31-40</td>\n",
       "      <td>Élevé</td>\n",
       "      <td>Non</td>\n",
       "      <td>Bon</td>\n",
       "      <td>Oui</td>\n",
       "    </tr>\n",
       "    <tr>\n",
       "      <th>3</th>\n",
       "      <td>&gt;40</td>\n",
       "      <td>Moyen</td>\n",
       "      <td>Non</td>\n",
       "      <td>Bon</td>\n",
       "      <td>Oui</td>\n",
       "    </tr>\n",
       "    <tr>\n",
       "      <th>4</th>\n",
       "      <td>&gt;40</td>\n",
       "      <td>Bas</td>\n",
       "      <td>Oui</td>\n",
       "      <td>Bon</td>\n",
       "      <td>Oui</td>\n",
       "    </tr>\n",
       "    <tr>\n",
       "      <th>5</th>\n",
       "      <td>&gt;40</td>\n",
       "      <td>Bas</td>\n",
       "      <td>Oui</td>\n",
       "      <td>Excellent</td>\n",
       "      <td>Non</td>\n",
       "    </tr>\n",
       "    <tr>\n",
       "      <th>6</th>\n",
       "      <td>31-40</td>\n",
       "      <td>Bas</td>\n",
       "      <td>Oui</td>\n",
       "      <td>Excellent</td>\n",
       "      <td>Oui</td>\n",
       "    </tr>\n",
       "    <tr>\n",
       "      <th>7</th>\n",
       "      <td>&lt;=30</td>\n",
       "      <td>Moyen</td>\n",
       "      <td>Non</td>\n",
       "      <td>Bon</td>\n",
       "      <td>Non</td>\n",
       "    </tr>\n",
       "    <tr>\n",
       "      <th>8</th>\n",
       "      <td>30</td>\n",
       "      <td>Bas</td>\n",
       "      <td>Oui</td>\n",
       "      <td>Bon</td>\n",
       "      <td>Oui</td>\n",
       "    </tr>\n",
       "    <tr>\n",
       "      <th>9</th>\n",
       "      <td>&gt;30</td>\n",
       "      <td>Moyen</td>\n",
       "      <td>Oui</td>\n",
       "      <td>Bon</td>\n",
       "      <td>Oui</td>\n",
       "    </tr>\n",
       "    <tr>\n",
       "      <th>10</th>\n",
       "      <td>&lt;=30</td>\n",
       "      <td>Moyen</td>\n",
       "      <td>Oui</td>\n",
       "      <td>Excellent</td>\n",
       "      <td>Oui</td>\n",
       "    </tr>\n",
       "    <tr>\n",
       "      <th>11</th>\n",
       "      <td>31-40</td>\n",
       "      <td>Moyen</td>\n",
       "      <td>Non</td>\n",
       "      <td>Excellent</td>\n",
       "      <td>Oui</td>\n",
       "    </tr>\n",
       "    <tr>\n",
       "      <th>12</th>\n",
       "      <td>31-40</td>\n",
       "      <td>élevé</td>\n",
       "      <td>Oui</td>\n",
       "      <td>Bon</td>\n",
       "      <td>Oui</td>\n",
       "    </tr>\n",
       "    <tr>\n",
       "      <th>13</th>\n",
       "      <td>&gt;40</td>\n",
       "      <td>Moyen</td>\n",
       "      <td>Non</td>\n",
       "      <td>Excellent</td>\n",
       "      <td>Non</td>\n",
       "    </tr>\n",
       "  </tbody>\n",
       "</table>\n",
       "</div>"
      ],
      "text/plain": [
       "      Age Revenu StatutEtudiant     Credit AchatOrdinateur\n",
       "0    <=30  Élevé            Non        Bon             Non\n",
       "1    <=30  Élevé            Non  Excellent             Non\n",
       "2   31-40  Élevé            Non        Bon             Oui\n",
       "3     >40  Moyen            Non        Bon             Oui\n",
       "4     >40    Bas            Oui        Bon             Oui\n",
       "5     >40    Bas            Oui  Excellent             Non\n",
       "6   31-40    Bas            Oui  Excellent             Oui\n",
       "7    <=30  Moyen            Non        Bon             Non\n",
       "8      30    Bas            Oui        Bon             Oui\n",
       "9     >30  Moyen            Oui        Bon             Oui\n",
       "10   <=30  Moyen            Oui  Excellent             Oui\n",
       "11  31-40  Moyen            Non  Excellent             Oui\n",
       "12  31-40  élevé            Oui        Bon             Oui\n",
       "13    >40  Moyen            Non  Excellent             Non"
      ]
     },
     "metadata": {},
     "output_type": "display_data"
    }
   ],
   "source": [
    "import pandas as pd\n",
    "import matplotlib.pyplot as plt\n",
    "import statistics\n",
    "import numpy as np\n",
    "import scipy.stats\n",
    "import seaborn as sns\n",
    "\n",
    "data3 = pd.read_excel(\"CreditOrdinateur.xlsx\")\n",
    "pd.set_option('display.max_rows', None)\n",
    "display(data3)"
   ]
  },
  {
   "cell_type": "markdown",
   "metadata": {},
   "source": [
    "# ENTROPIE"
   ]
  },
  {
   "cell_type": "markdown",
   "metadata": {},
   "source": [
    "#  Calcules de Entropie - Age"
   ]
  },
  {
   "cell_type": "raw",
   "metadata": {},
   "source": [
    "Ej = - $ Pj log2(Pj)                               Pj: Propportion of samples that belongs to class C for this node"
   ]
  },
  {
   "cell_type": "code",
   "execution_count": 30,
   "metadata": {},
   "outputs": [
    {
     "data": {
      "text/plain": [
       "Age\n",
       "30       1\n",
       "31-40    4\n",
       "<=30     4\n",
       ">30      1\n",
       ">40      4\n",
       "dtype: int64"
      ]
     },
     "execution_count": 30,
     "metadata": {},
     "output_type": "execute_result"
    }
   ],
   "source": [
    "data3.groupby('Age').size()  #Class species ALL DATA"
   ]
  },
  {
   "cell_type": "code",
   "execution_count": 31,
   "metadata": {},
   "outputs": [
    {
     "name": "stdout",
     "output_type": "stream",
     "text": [
      "Entropies for AGE\n",
      "E1:  0.9709505944546686\n",
      "E2:  -0.0\n",
      "E3:  1.0\n",
      "Age Entropie:  0.6324823551623816\n"
     ]
    }
   ],
   "source": [
    "# On peut identifier dans Age trois categories differents, pour calculer la entropie on dois \n",
    "\n",
    "#P1: <= 30  Achat Non  3\n",
    "#P2: <= 30  Achat Oui  2\n",
    "\n",
    "#P3: 31-40 Achat Non 0\n",
    "#P4: 31-40 Achat Oui 4\n",
    "\n",
    "#P5: >40 Achat Non 2\n",
    "#P6: >40 Achat Oui 2\n",
    "\n",
    "# Calcule les Ej:\n",
    "import math\n",
    "E1 = (3/5)*math.log((3/5),2) + (2/5)*math.log((2/5),2) \n",
    "E2 = 0 + (4/4)*math.log((4/4),2) \n",
    "E3 = (2/4)*math.log((2/4),2) + (2/4)*math.log((2/4),2) \n",
    "    \n",
    "print('Entropies for AGE')\n",
    "print('E1: ', -E1)\n",
    "print('E2: ', -E2)\n",
    "print('E3: ', -E3)\n",
    "\n",
    "EAge = (5/14)*-E1 + (4/14)*-E2 + (4/14)*-E3\n",
    "print('Age Entropie: ', EAge)"
   ]
  },
  {
   "cell_type": "markdown",
   "metadata": {},
   "source": [
    "# Calcules de Entropie - Revenu\n"
   ]
  },
  {
   "cell_type": "code",
   "execution_count": 32,
   "metadata": {},
   "outputs": [
    {
     "data": {
      "text/plain": [
       "Revenu\n",
       "Bas      4\n",
       "Moyen    6\n",
       "Élevé    3\n",
       "élevé    1\n",
       "dtype: int64"
      ]
     },
     "execution_count": 32,
     "metadata": {},
     "output_type": "execute_result"
    }
   ],
   "source": [
    "data3.groupby('Revenu').size()"
   ]
  },
  {
   "cell_type": "code",
   "execution_count": 33,
   "metadata": {},
   "outputs": [
    {
     "name": "stdout",
     "output_type": "stream",
     "text": [
      "Entropies for Revenu\n",
      "E1:  0.8112781244591328\n",
      "E2:  0.9182958340544896\n",
      "E3:  1.0\n",
      "Revenu Entropie:  0.9110633930116763\n"
     ]
    }
   ],
   "source": [
    "#P1: Bas  Achat Non  1\n",
    "#P2: Bas  Achat Oui  3\n",
    "\n",
    "#P3: Moy Achat Non 2\n",
    "#P4: Moy Achat Oui 4\n",
    "\n",
    "#P5: elv Achat Non 2\n",
    "#P6: elv Achat Oui 2\n",
    "\n",
    "# Calcule les Ej:\n",
    "import math\n",
    "E1 = (1/4)*math.log((1/4),2) + (3/4)*math.log((3/4),2) \n",
    "E2 = (2/6)*math.log((2/6),2) + (4/6)*math.log((4/6),2)  \n",
    "E3 = (2/4)*math.log((2/4),2) + (2/4)*math.log((2/4),2) \n",
    "    \n",
    "print('Entropies for Revenu')\n",
    "print('E1: ', -E1)\n",
    "print('E2: ', -E2)\n",
    "print('E3: ', -E3)\n",
    "\n",
    "ERevenu = (4/14)*-E1 + (6/14)*-E2 + (4/14)*-E3\n",
    "print('Revenu Entropie: ', ERevenu)"
   ]
  },
  {
   "cell_type": "markdown",
   "metadata": {},
   "source": [
    "# Calcules de Entropie - StatutEtudiant\n"
   ]
  },
  {
   "cell_type": "code",
   "execution_count": 34,
   "metadata": {},
   "outputs": [
    {
     "data": {
      "text/plain": [
       "StatutEtudiant\n",
       "Non    7\n",
       "Oui    7\n",
       "dtype: int64"
      ]
     },
     "execution_count": 34,
     "metadata": {},
     "output_type": "execute_result"
    }
   ],
   "source": [
    "data3.groupby('StatutEtudiant').size()"
   ]
  },
  {
   "cell_type": "code",
   "execution_count": 35,
   "metadata": {},
   "outputs": [
    {
     "name": "stdout",
     "output_type": "stream",
     "text": [
      "Entropies for StatutEtudiant\n",
      "E1:  0.5916727785823275\n",
      "E2:  0.9852281360342516\n",
      "StatutEtudiant Entropie:  0.7884504573082896\n"
     ]
    }
   ],
   "source": [
    "#P1: Oui  Achat Non  1\n",
    "#P2: Oui  Achat Oui  6\n",
    "\n",
    "#P3: Non Achat Non 4\n",
    "#P4: Non Achat Oui 3\n",
    "\n",
    "\n",
    "# Calcule les Ej:\n",
    "import math\n",
    "E1 = (1/7)*math.log((1/7),2) + (6/7)*math.log((6/7),2) \n",
    "E2 = (3/7)*math.log((3/7),2) + (4/7)*math.log((4/7),2)  \n",
    "\n",
    "    \n",
    "print('Entropies for StatutEtudiant')\n",
    "print('E1: ', -E1)\n",
    "print('E2: ', -E2)\n",
    "\n",
    "EStatus = (7/14)*-E1 + (7/14)*-E2\n",
    "print('StatutEtudiant Entropie: ', EStatus)"
   ]
  },
  {
   "cell_type": "markdown",
   "metadata": {},
   "source": [
    "# Calcules de Entropie - Credit"
   ]
  },
  {
   "cell_type": "code",
   "execution_count": 36,
   "metadata": {},
   "outputs": [
    {
     "data": {
      "text/plain": [
       "Credit\n",
       "Bon          8\n",
       "Excellent    6\n",
       "dtype: int64"
      ]
     },
     "execution_count": 36,
     "metadata": {},
     "output_type": "execute_result"
    }
   ],
   "source": [
    "data3.groupby('Credit').size()"
   ]
  },
  {
   "cell_type": "code",
   "execution_count": 37,
   "metadata": {},
   "outputs": [
    {
     "name": "stdout",
     "output_type": "stream",
     "text": [
      "Entropies for Credit\n",
      "E1:  0.8112781244591328\n",
      "E2:  1.0\n",
      "Credit Entropie:  0.9056390622295665\n"
     ]
    }
   ],
   "source": [
    "#P1: Bon  Achat Non  2\n",
    "#P2: Bon  Achat Oui  6\n",
    "\n",
    "#P3: Exc Achat Non 3\n",
    "#P4: Exc Achat Oui 3\n",
    "\n",
    "\n",
    "# Calcule les Ej:\n",
    "import math\n",
    "E1 = (2/8)*math.log((2/8),2) + (6/8)*math.log((6/8),2) \n",
    "E2 = (3/6)*math.log((3/6),2) + (3/6)*math.log((3/6),2)  \n",
    "\n",
    "    \n",
    "print('Entropies for Credit')\n",
    "print('E1: ', -E1)\n",
    "print('E2: ', -E2)\n",
    "\n",
    "ECredit = (7/14)*-E1 + (7/14)*-E2\n",
    "print('Credit Entropie: ', ECredit)"
   ]
  },
  {
   "cell_type": "markdown",
   "metadata": {},
   "source": [
    "# GINI"
   ]
  },
  {
   "cell_type": "markdown",
   "metadata": {},
   "source": [
    "## GINI - Age\n"
   ]
  },
  {
   "cell_type": "code",
   "execution_count": 38,
   "metadata": {},
   "outputs": [
    {
     "name": "stdout",
     "output_type": "stream",
     "text": [
      "Gini_Age_<=30:  0.48\n",
      "Gini_Age_31-40:  0.0\n",
      "Gini_Age_>40:  0.5\n",
      "Gini_Age:  0.3142857142857143\n"
     ]
    }
   ],
   "source": [
    "#P1: <= 30  Achat Non  3\n",
    "#P1: <= 30  Achat Oui  2\n",
    "\n",
    "#P2: 31-40 Achat Non 0\n",
    "#P2: 31-40 Achat Oui 4\n",
    "\n",
    "#P3: >40 Achat Non 2\n",
    "#P3: >40 Achat Oui 2\n",
    "\n",
    "# Calcule les Pj:\n",
    "\n",
    "P1 = 1 - ( pow((3/5),2) + pow((2/5),2) )\n",
    "P2 = 1 - ( pow((0/4),2) + pow((4/4),2) )\n",
    "P3 = 1 - ( pow((2/4),2) + pow((2/4),2) )\n",
    "\n",
    "print(\"Gini_Age_<=30: \", P1)\n",
    "print(\"Gini_Age_31-40: \", P2)\n",
    "print(\"Gini_Age_>40: \", P3)\n",
    "Gini_Age = (5/14)*P1 + (4/14)*P2 + (4/14)*P3\n",
    "print(\"Gini_Age: \", Gini_Age )"
   ]
  },
  {
   "cell_type": "markdown",
   "metadata": {},
   "source": [
    "# Gini - Revenu"
   ]
  },
  {
   "cell_type": "code",
   "execution_count": 39,
   "metadata": {},
   "outputs": [
    {
     "name": "stdout",
     "output_type": "stream",
     "text": [
      "Gini_Bas:  0.375\n",
      "Gini_Moy:  0.4444444444444444\n",
      "Gini_Eleve:  0.5\n",
      "Gini_Revenu:  -0.44047619047619047\n"
     ]
    }
   ],
   "source": [
    "#P1: Bas  Achat Non  1\n",
    "#P1: Bas  Achat Oui  3\n",
    "\n",
    "#P2: Moy Achat Non 2\n",
    "#P2: Moy Achat Oui 4\n",
    "\n",
    "#P3: elv Achat Non 2\n",
    "#P3: elv Achat Oui 2\n",
    "\n",
    "# Calcule les Pj:\n",
    "\n",
    "P1 = 1 - ( pow((1/4),2) + pow((3/4),2) )\n",
    "P2 = 1 - ( pow((2/6),2) + pow((4/6),2) )\n",
    "P3 = 1 - ( pow((2/4),2) + pow((2/4),2) )\n",
    "\n",
    "\n",
    "print(\"Gini_Bas: \", P1)\n",
    "print(\"Gini_Moy: \", P2)\n",
    "print(\"Gini_Eleve: \", P3)\n",
    "Gini_Revenu=(4/14)*P1 + (6/14)*P2 + (4/14)*P3\n",
    "print(\"Gini_Revenu: \", -Gini_Revenu)\n",
    "\n",
    "\n"
   ]
  },
  {
   "cell_type": "markdown",
   "metadata": {},
   "source": [
    "# Gini- StatutEtudiant"
   ]
  },
  {
   "cell_type": "code",
   "execution_count": 40,
   "metadata": {},
   "outputs": [
    {
     "name": "stdout",
     "output_type": "stream",
     "text": [
      "Gini_StatutOUI:  0.24489795918367352\n",
      "Gini_StatutNON:  0.48979591836734704\n",
      "Gini_StatutEtudiant:  0.3673469387755103\n"
     ]
    }
   ],
   "source": [
    "#P1: Oui  Achat Non  1\n",
    "#P1: Oui  Achat Oui  6\n",
    "\n",
    "#P2: Non Achat Non 4\n",
    "#P2: Non Achat Oui 3\n",
    "\n",
    "# Calcule les Pj:\n",
    "\n",
    "P1 = 1 - ( pow((1/7),2) + pow((6/7),2) )\n",
    "P2 = 1 - ( pow((4/7),2) + pow((3/7),2) )\n",
    "\n",
    "print('Gini_StatutOUI: ', P1)\n",
    "print('Gini_StatutNON: ', P2)\n",
    "Gini_StatutEtudiant= (7/14)*P1 + (7/14)*P2\n",
    "print('Gini_StatutEtudiant: ', Gini_StatutEtudiant)\n",
    "\n"
   ]
  },
  {
   "cell_type": "markdown",
   "metadata": {},
   "source": [
    "# Gini - Credit"
   ]
  },
  {
   "cell_type": "code",
   "execution_count": 41,
   "metadata": {},
   "outputs": [
    {
     "name": "stdout",
     "output_type": "stream",
     "text": [
      "Gini_CreditBon:  0.375\n",
      "Gini_CreditExc:  0.5\n",
      "Gini_Credit:  0.42857142857142855\n"
     ]
    }
   ],
   "source": [
    "#P1: Bon  Achat Non  2\n",
    "#P1: Bon  Achat Oui  6\n",
    "\n",
    "#P2: Exc Achat Non 3\n",
    "#P2: Exc Achat Oui 3\n",
    "\n",
    "# Calcule les Pj:\n",
    "\n",
    "P1 = 1 - ( pow((2/8),2) + pow((6/8),2) )\n",
    "P2 = 1 - ( pow((3/6),2) + pow((3/6),2) )\n",
    "\n",
    "print('Gini_CreditBon: ', P1)\n",
    "print('Gini_CreditExc: ', P2)\n",
    "Gini_Credit = (8/14)*P1 + (6/14)*P2\n",
    "print('Gini_Credit: ',Gini_Credit)\n"
   ]
  },
  {
   "cell_type": "raw",
   "metadata": {},
   "source": [
    "Gini = 0,5 always.  if equally splitable sets.\n",
    "Big Value of Gini says this node its very splitable.  Bigger its near to 0.5\n"
   ]
  },
  {
   "cell_type": "markdown",
   "metadata": {},
   "source": [
    "# GAIN"
   ]
  },
  {
   "cell_type": "code",
   "execution_count": 42,
   "metadata": {},
   "outputs": [
    {
     "name": "stdout",
     "output_type": "stream",
     "text": [
      "GiniDataset:  0.9402859586706309\n"
     ]
    }
   ],
   "source": [
    "# GINI = 1 - $P^2(i)\n",
    "# P(i) = ocurrence de class\n",
    "\n",
    "H_T = -(5/14) *math.log((5/14),2) - (9/14)*math.log((9/14),2) \n",
    "\n",
    "print(\"GiniDataset: \", H_T)"
   ]
  },
  {
   "cell_type": "code",
   "execution_count": 43,
   "metadata": {},
   "outputs": [
    {
     "name": "stdout",
     "output_type": "stream",
     "text": [
      "GAIN Age:   0.3078036035082493\n",
      "GAIN Revenu:  0.029222565658954647\n",
      "GAIN Status:  0.15183550136234136\n",
      "GAIN Credit:  0.034646896441064445\n",
      "\n",
      "\n",
      "Gini_Age:   0.3142857142857143\n",
      "Gini_Revenu:  0.44047619047619047\n",
      "Gini_StatutEtudiant:  0.3673469387755103\n",
      "Gini_Credit:  0.42857142857142855\n",
      "\n",
      "\n",
      "Entropie Age:   0.6324823551623816\n",
      "Entropie Revenu:  0.9110633930116763\n",
      "Entropie Status:  0.7884504573082896\n",
      "Entropie Credit:  0.9056390622295665\n"
     ]
    }
   ],
   "source": [
    "GAINAge = H_T - EAge\n",
    "GAINRevenu = H_T - ERevenu\n",
    "GAINStatus = H_T - EStatus\n",
    "GAINCredit = H_T - ECredit\n",
    "\n",
    "print (\"GAIN Age:  \", GAINAge)\n",
    "print (\"GAIN Revenu: \", GAINRevenu )\n",
    "print (\"GAIN Status: \", GAINStatus)\n",
    "print (\"GAIN Credit: \", GAINCredit)\n",
    "\n",
    "print(\"\\n\")\n",
    "\n",
    "print (\"Gini_Age:  \", Gini_Age)\n",
    "print (\"Gini_Revenu: \", Gini_Revenu )\n",
    "print (\"Gini_StatutEtudiant: \", Gini_StatutEtudiant)\n",
    "print (\"Gini_Credit: \", Gini_Credit)\n",
    "\n",
    "print(\"\\n\")\n",
    "\n",
    "print (\"Entropie Age:  \", EAge)\n",
    "print (\"Entropie Revenu: \", ERevenu )\n",
    "print (\"Entropie Status: \", EStatus)\n",
    "print (\"Entropie Credit: \", ECredit)\n"
   ]
  },
  {
   "cell_type": "markdown",
   "metadata": {},
   "source": [
    "La premiere variable pour Grande Gini est REVENU, aussi que la plus grand Entropie, pour tante est notre premiere node.\n",
    "Le status de etudiant cest le descriptor moins elegible."
   ]
  },
  {
   "cell_type": "code",
   "execution_count": null,
   "metadata": {},
   "outputs": [],
   "source": []
  }
 ],
 "metadata": {
  "kernelspec": {
   "display_name": "Python 3",
   "language": "python",
   "name": "python3"
  },
  "language_info": {
   "codemirror_mode": {
    "name": "ipython",
    "version": 3
   },
   "file_extension": ".py",
   "mimetype": "text/x-python",
   "name": "python",
   "nbconvert_exporter": "python",
   "pygments_lexer": "ipython3",
   "version": "3.7.6"
  }
 },
 "nbformat": 4,
 "nbformat_minor": 4
}
