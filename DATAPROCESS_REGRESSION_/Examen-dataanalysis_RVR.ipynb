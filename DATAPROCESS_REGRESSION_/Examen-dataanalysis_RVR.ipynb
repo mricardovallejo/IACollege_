{
 "cells": [
  {
   "cell_type": "markdown",
   "metadata": {},
   "source": [
    "# Examen 2 \n",
    "- Author: Ricardo Vallejo\n",
    "- Date: 2020 - 12 -08"
   ]
  },
  {
   "cell_type": "markdown",
   "metadata": {},
   "source": [
    "## 1.1.  Téléchargez le contenu de la base de données iris"
   ]
  },
  {
   "cell_type": "code",
   "execution_count": 65,
   "metadata": {},
   "outputs": [
    {
     "data": {
      "text/html": [
       "<div>\n",
       "<style scoped>\n",
       "    .dataframe tbody tr th:only-of-type {\n",
       "        vertical-align: middle;\n",
       "    }\n",
       "\n",
       "    .dataframe tbody tr th {\n",
       "        vertical-align: top;\n",
       "    }\n",
       "\n",
       "    .dataframe thead th {\n",
       "        text-align: right;\n",
       "    }\n",
       "</style>\n",
       "<table border=\"1\" class=\"dataframe\">\n",
       "  <thead>\n",
       "    <tr style=\"text-align: right;\">\n",
       "      <th></th>\n",
       "      <th>jour</th>\n",
       "      <th>cons</th>\n",
       "      <th>income</th>\n",
       "      <th>price</th>\n",
       "      <th>temp</th>\n",
       "    </tr>\n",
       "  </thead>\n",
       "  <tbody>\n",
       "    <tr>\n",
       "      <th>0</th>\n",
       "      <td>1</td>\n",
       "      <td>0.386</td>\n",
       "      <td>78</td>\n",
       "      <td>0.270</td>\n",
       "      <td>41</td>\n",
       "    </tr>\n",
       "    <tr>\n",
       "      <th>1</th>\n",
       "      <td>2</td>\n",
       "      <td>0.374</td>\n",
       "      <td>79</td>\n",
       "      <td>0.282</td>\n",
       "      <td>56</td>\n",
       "    </tr>\n",
       "    <tr>\n",
       "      <th>2</th>\n",
       "      <td>3</td>\n",
       "      <td>0.393</td>\n",
       "      <td>81</td>\n",
       "      <td>0.277</td>\n",
       "      <td>63</td>\n",
       "    </tr>\n",
       "    <tr>\n",
       "      <th>3</th>\n",
       "      <td>4</td>\n",
       "      <td>0.425</td>\n",
       "      <td>80</td>\n",
       "      <td>0.280</td>\n",
       "      <td>68</td>\n",
       "    </tr>\n",
       "    <tr>\n",
       "      <th>4</th>\n",
       "      <td>5</td>\n",
       "      <td>0.406</td>\n",
       "      <td>76</td>\n",
       "      <td>0.272</td>\n",
       "      <td>69</td>\n",
       "    </tr>\n",
       "    <tr>\n",
       "      <th>5</th>\n",
       "      <td>6</td>\n",
       "      <td>0.344</td>\n",
       "      <td>78</td>\n",
       "      <td>0.262</td>\n",
       "      <td>65</td>\n",
       "    </tr>\n",
       "    <tr>\n",
       "      <th>6</th>\n",
       "      <td>7</td>\n",
       "      <td>0.327</td>\n",
       "      <td>82</td>\n",
       "      <td>0.275</td>\n",
       "      <td>61</td>\n",
       "    </tr>\n",
       "    <tr>\n",
       "      <th>7</th>\n",
       "      <td>8</td>\n",
       "      <td>0.288</td>\n",
       "      <td>79</td>\n",
       "      <td>0.267</td>\n",
       "      <td>47</td>\n",
       "    </tr>\n",
       "    <tr>\n",
       "      <th>8</th>\n",
       "      <td>9</td>\n",
       "      <td>0.269</td>\n",
       "      <td>76</td>\n",
       "      <td>0.265</td>\n",
       "      <td>32</td>\n",
       "    </tr>\n",
       "    <tr>\n",
       "      <th>9</th>\n",
       "      <td>10</td>\n",
       "      <td>0.256</td>\n",
       "      <td>79</td>\n",
       "      <td>0.277</td>\n",
       "      <td>24</td>\n",
       "    </tr>\n",
       "  </tbody>\n",
       "</table>\n",
       "</div>"
      ],
      "text/plain": [
       "   jour   cons  income  price  temp\n",
       "0     1  0.386      78  0.270    41\n",
       "1     2  0.374      79  0.282    56\n",
       "2     3  0.393      81  0.277    63\n",
       "3     4  0.425      80  0.280    68\n",
       "4     5  0.406      76  0.272    69\n",
       "5     6  0.344      78  0.262    65\n",
       "6     7  0.327      82  0.275    61\n",
       "7     8  0.288      79  0.267    47\n",
       "8     9  0.269      76  0.265    32\n",
       "9    10  0.256      79  0.277    24"
      ]
     },
     "execution_count": 65,
     "metadata": {},
     "output_type": "execute_result"
    }
   ],
   "source": [
    "import pandas as pd\n",
    "import matplotlib.pyplot as plt\n",
    "import statistics\n",
    "import numpy as np\n",
    "import scipy.stats\n",
    "import seaborn as sns\n",
    "\n",
    "\n",
    "\n",
    "df = pd.read_excel(\"Icecream.xlsx\")\n",
    "pd.set_option('display.max_rows', None)\n",
    "df.head(10)\n"
   ]
  },
  {
   "cell_type": "markdown",
   "metadata": {},
   "source": [
    "## 1.2. Identifier les différentes variables et leurs types.\n"
   ]
  },
  {
   "cell_type": "code",
   "execution_count": 9,
   "metadata": {},
   "outputs": [
    {
     "name": "stdout",
     "output_type": "stream",
     "text": [
      "General info:\n",
      "<class 'pandas.core.frame.DataFrame'>\n",
      "RangeIndex: 32 entries, 0 to 31\n",
      "Data columns (total 5 columns):\n",
      " #   Column  Non-Null Count  Dtype  \n",
      "---  ------  --------------  -----  \n",
      " 0   jour    32 non-null     int64  \n",
      " 1   cons    32 non-null     float64\n",
      " 2   income  32 non-null     int64  \n",
      " 3   price   32 non-null     float64\n",
      " 4   temp    32 non-null     int64  \n",
      "dtypes: float64(2), int64(3)\n",
      "memory usage: 1.4 KB\n"
     ]
    }
   ],
   "source": [
    "print('General info:')\n",
    "data.info()"
   ]
  },
  {
   "cell_type": "markdown",
   "metadata": {},
   "source": [
    "Variable price et cons sont point flotant, et jour, temp et income sont integers"
   ]
  },
  {
   "cell_type": "code",
   "execution_count": 11,
   "metadata": {},
   "outputs": [
    {
     "name": "stdout",
     "output_type": "stream",
     "text": [
      "Row or individues count is: 32\n",
      "Variables or columns count is: 5\n"
     ]
    }
   ],
   "source": [
    "#General\n",
    "\n",
    "print('Row or individues count is:',data.shape[0])\n",
    "print('Variables or columns count is:',data.shape[1])\n"
   ]
  },
  {
   "cell_type": "markdown",
   "metadata": {},
   "source": [
    "## 2.1.  Détectez les données aberrantes à l’aide d’une analyse graphique. Commentez le graphique obtenu.\n"
   ]
  },
  {
   "cell_type": "code",
   "execution_count": 12,
   "metadata": {},
   "outputs": [
    {
     "data": {
      "image/png": "[encoded data removed]",
      "text/plain": [
       "<Figure size 720x432 with 1 Axes>"
      ]
     },
     "metadata": {
      "needs_background": "light"
     },
     "output_type": "display_data"
    }
   ],
   "source": [
    "mean=df['cons'].mean();\n",
    "median=df['cons'].median();\n",
    "mode=df['cons'].mode();\n",
    "fig, ax = plt.subplots(figsize=(10,6));\n",
    "\n",
    "sns.distplot(df['cons']);\n",
    "plt.title('Distribution Cons');\n",
    "plt.axvline(mean,color='green',label='Mean'); \n",
    "plt.axvline(median,color='blue',label='Median');\n",
    "plt.axvline(mode[0],color='red',label='Mode 1')\n",
    "\n",
    "plt.legend();"
   ]
  },
  {
   "cell_type": "markdown",
   "metadata": {},
   "source": [
    "Graphiquement on peut regarder de donnes aberrants au tour de 0,85 et 0,9, cette donnes aberrants sont dehors de quartiles accepte.\n"
   ]
  },
  {
   "cell_type": "markdown",
   "metadata": {},
   "source": [
    "## 2.2.  Supprimez donne aberrants"
   ]
  },
  {
   "cell_type": "code",
   "execution_count": 24,
   "metadata": {},
   "outputs": [
    {
     "name": "stdout",
     "output_type": "stream",
     "text": [
      "The detected outliers are:  [0.8320000000000001, 0.99]\n",
      "<class 'pandas.core.frame.DataFrame'>\n",
      "Int64Index: 30 entries, 0 to 29\n",
      "Data columns (total 5 columns):\n",
      " #   Column  Non-Null Count  Dtype  \n",
      "---  ------  --------------  -----  \n",
      " 0   jour    30 non-null     int64  \n",
      " 1   cons    30 non-null     float64\n",
      " 2   income  30 non-null     int64  \n",
      " 3   price   30 non-null     float64\n",
      " 4   temp    30 non-null     int64  \n",
      "dtypes: float64(2), int64(3)\n",
      "memory usage: 1.4 KB\n"
     ]
    }
   ],
   "source": [
    "# random data points to calculate z-score\n",
    "data = df['cons']\n",
    "mean = np.mean(data) # calculate mean\n",
    "sd = np.std(data) # calculate standard deviation\n",
    "\n",
    "threshold = 2\n",
    "outliers = []\n",
    "\n",
    "for i in data: \n",
    "    z = (i-mean)/sd # calculate z-score\n",
    "    if abs(z) > threshold:  # identify outliers\n",
    "        outliers.append(i) # add to the empty list\n",
    " \n",
    "print(\"The detected outliers are: \", outliers) \n",
    "\n",
    "dfPreprocessed = df[df.cons < 0.8320000000000001]\n",
    "dfPreprocessed.info()\n",
    "\n",
    "# On a verifie que le deux donnes aberrant ont ete enleves"
   ]
  },
  {
   "cell_type": "markdown",
   "metadata": {},
   "source": [
    "## 3.1.  Déterminez la matrice de corrélation des variables"
   ]
  },
  {
   "cell_type": "code",
   "execution_count": 25,
   "metadata": {},
   "outputs": [
    {
     "name": "stdout",
     "output_type": "stream",
     "text": [
      "        jour  cons  income  price  temp\n",
      "jour    1.00  0.22    0.84  -0.07 -0.10\n",
      "cons    0.22  1.00    0.05  -0.26  0.78\n",
      "income  0.84  0.05    1.00  -0.11 -0.32\n",
      "price  -0.07 -0.26   -0.11   1.00 -0.11\n",
      "temp   -0.10  0.78   -0.32  -0.11  1.00\n"
     ]
    }
   ],
   "source": [
    "matrice_correlation = dfPreprocessed.corr().round(2)\n",
    "print(matrice_correlation)"
   ]
  },
  {
   "cell_type": "markdown",
   "metadata": {},
   "source": [
    "## 3.2.  Représentez visuellement cette matrice.\n"
   ]
  },
  {
   "cell_type": "code",
   "execution_count": 26,
   "metadata": {},
   "outputs": [
    {
     "data": {
      "image/png": "[encoded data removed]",
      "text/plain": [
       "<Figure size 900x900 with 30 Axes>"
      ]
     },
     "metadata": {
      "needs_background": "light"
     },
     "output_type": "display_data"
    }
   ],
   "source": [
    "import seaborn as sns\n",
    "\n",
    "sns.pairplot(dfPreprocessed[['jour', 'cons', 'income', 'price', 'temp']])\n",
    "plt.show()"
   ]
  },
  {
   "cell_type": "markdown",
   "metadata": {},
   "source": [
    "Le meilleur coeficient de correlation cest jour avec income: 0,84, mais pas bcp de significat dans l'analyses cette correlation, la variable jour c'est nest pas important dans l'analyses.  \n",
    "\n",
    "\n",
    "Autre relation de cons vs Temp: 0,76 permet d'etablire une relation lineaire entre  le consumation de icecream et temperature, si augmente la temperature augmente le consumation pour persone.\n",
    "\n",
    "Les autres variables pn peut pas les modeler comme lineaires, et les avec coef>0,7 et <0,9 sont fiables comme aproximation.\n"
   ]
  },
  {
   "cell_type": "markdown",
   "metadata": {},
   "source": [
    "## 4.1. \n",
    "\n",
    "- Variable explicative:  Prix\n",
    "- Variable expliquee:  cons\n",
    "        "
   ]
  },
  {
   "cell_type": "markdown",
   "metadata": {},
   "source": [
    "## 4.2"
   ]
  },
  {
   "cell_type": "code",
   "execution_count": 30,
   "metadata": {},
   "outputs": [
    {
     "name": "stdout",
     "output_type": "stream",
     "text": [
      "Coeficient determination: \n",
      " 0.06738904552840508\n",
      "Intercept: \n",
      " 0.9230324365390012\n",
      "Slope: \n",
      " [-2.04721796]\n"
     ]
    }
   ],
   "source": [
    "from sklearn import linear_model\n",
    "from sklearn.linear_model import LinearRegression\n",
    "\n",
    "x1 = np.array(dfPreprocessed[\"price\"]).reshape((-1,1))\n",
    "y1 = dfPreprocessed['cons']\n",
    "\n",
    "mymodel = LinearRegression()\n",
    "results = mymodel.fit(x1,y1)\n",
    "\n",
    "print(\"Coeficient determination: \\n\", results.score(x1, y1))\n",
    "print(\"Intercept: \\n\", results.intercept_)\n",
    "print(\"Slope: \\n\", results.coef_)"
   ]
  },
  {
   "cell_type": "markdown",
   "metadata": {},
   "source": [
    "La ecuacion est:  y = -2.04721796 x + 0,92"
   ]
  },
  {
   "cell_type": "markdown",
   "metadata": {},
   "source": [
    "## 4.3 "
   ]
  },
  {
   "cell_type": "markdown",
   "metadata": {},
   "source": [
    "Le model ne fit pas bien le donnes, le coeficient de correlation le confirme (0,716), est tres bas, meme que le coeficient de determination (0,067)\n",
    "\n",
    "Aussi les coeficient de correlation de la consumation sont linear correlies seulement a la temperature."
   ]
  },
  {
   "cell_type": "markdown",
   "metadata": {},
   "source": [
    "## 5.1"
   ]
  },
  {
   "cell_type": "markdown",
   "metadata": {},
   "source": [
    "- Variable explicative:  income, prix, temp\n",
    "- Variable expliquee:  cons"
   ]
  },
  {
   "cell_type": "markdown",
   "metadata": {},
   "source": [
    "## 5.2."
   ]
  },
  {
   "cell_type": "code",
   "execution_count": 45,
   "metadata": {},
   "outputs": [
    {
     "data": {
      "text/plain": [
       "Index(['jour', 'cons', 'income', 'price', 'temp'], dtype='object')"
      ]
     },
     "execution_count": 45,
     "metadata": {},
     "output_type": "execute_result"
    }
   ],
   "source": [
    "from sklearn import datasets, linear_model\n",
    "from statsmodels.formula.api import ols\n",
    "dfPreprocessed.keys()\n"
   ]
  },
  {
   "cell_type": "code",
   "execution_count": 46,
   "metadata": {},
   "outputs": [],
   "source": [
    "x1 = dfPreprocessed['income']\n",
    "x2 = dfPreprocessed['price']\n",
    "x3 = dfPreprocessed['temp']\n",
    "y = dfPreprocessed['cons']"
   ]
  },
  {
   "cell_type": "code",
   "execution_count": 47,
   "metadata": {},
   "outputs": [
    {
     "name": "stdout",
     "output_type": "stream",
     "text": [
      "                            OLS Regression Results                            \n",
      "==============================================================================\n",
      "Dep. Variable:                      y   R-squared:                       0.719\n",
      "Model:                            OLS   Adj. R-squared:                  0.687\n",
      "Method:                 Least Squares   F-statistic:                     22.17\n",
      "Date:                Tue, 08 Dec 2020   Prob (F-statistic):           2.45e-07\n",
      "Time:                        19:17:53   Log-Likelihood:                 58.619\n",
      "No. Observations:                  30   AIC:                            -109.2\n",
      "Df Residuals:                      26   BIC:                            -103.6\n",
      "Df Model:                           3                                         \n",
      "Covariance Type:            nonrobust                                         \n",
      "==============================================================================\n",
      "                 coef    std err          t      P>|t|      [0.025      0.975]\n",
      "------------------------------------------------------------------------------\n",
      "Intercept      0.1973      0.270      0.730      0.472      -0.358       0.753\n",
      "x1             0.0033      0.001      2.824      0.009       0.001       0.006\n",
      "x2            -1.0444      0.834     -1.252      0.222      -2.759       0.671\n",
      "x3             0.0035      0.000      7.762      0.000       0.003       0.004\n",
      "==============================================================================\n",
      "Omnibus:                        0.565   Durbin-Watson:                   1.021\n",
      "Prob(Omnibus):                  0.754   Jarque-Bera (JB):                0.047\n",
      "Skew:                           0.038   Prob(JB):                        0.977\n",
      "Kurtosis:                       3.179   Cond. No.                     1.27e+04\n",
      "==============================================================================\n",
      "\n",
      "Warnings:\n",
      "[1] Standard Errors assume that the covariance matrix of the errors is correctly specified.\n",
      "[2] The condition number is large, 1.27e+04. This might indicate that there are\n",
      "strong multicollinearity or other numerical problems.\n"
     ]
    }
   ],
   "source": [
    "#Model\n",
    "\n",
    "modelMulti = ols('y ~ x1 + x2 + x3', data=dfPreprocessed).fit()  # Ajusta el modelo usando el registro natural de uno de los regresores\n",
    "print(modelMulti.summary())"
   ]
  },
  {
   "cell_type": "code",
   "execution_count": 55,
   "metadata": {},
   "outputs": [
    {
     "name": "stdout",
     "output_type": "stream",
     "text": [
      "0.7189938520147974\n"
     ]
    }
   ],
   "source": [
    "print(modelMulti.rsquared)"
   ]
  },
  {
   "cell_type": "markdown",
   "metadata": {},
   "source": [
    "## cons = 0.0033 income - 1.0444 price + 0.0035 temp + 0.19"
   ]
  },
  {
   "cell_type": "markdown",
   "metadata": {},
   "source": [
    "## 5.3. "
   ]
  },
  {
   "cell_type": "markdown",
   "metadata": {},
   "source": [
    "Les coeficiente de correlation x1, x2, x3 sont tres loin de 1, mais le modele general a un indicative de confiance de 0,719=R2"
   ]
  },
  {
   "cell_type": "markdown",
   "metadata": {},
   "source": [
    "Les donnes ont bas correlation lineaire entre eaux, le model n'est pas un bonne aproximation."
   ]
  },
  {
   "cell_type": "markdown",
   "metadata": {},
   "source": [
    "## 5.4. "
   ]
  },
  {
   "cell_type": "code",
   "execution_count": 67,
   "metadata": {},
   "outputs": [
    {
     "name": "stdout",
     "output_type": "stream",
     "text": [
      "0.52662\n"
     ]
    }
   ],
   "source": [
    "xincome=90\n",
    "xprice=0.2\n",
    "xtemp=71\n",
    "xcons = 0.0033*xincome - 1.0444*xprice + 0.0035* xtemp + 0.19\n",
    "print(xcons)"
   ]
  },
  {
   "cell_type": "markdown",
   "metadata": {},
   "source": [
    "## Le consumation par persone cest 0,5262 taces sur les conditions donnes."
   ]
  },
  {
   "cell_type": "code",
   "execution_count": null,
   "metadata": {},
   "outputs": [],
   "source": []
  },
  {
   "cell_type": "code",
   "execution_count": null,
   "metadata": {},
   "outputs": [],
   "source": []
  }
 ],
 "metadata": {
  "kernelspec": {
   "display_name": "Python 3",
   "language": "python",
   "name": "python3"
  },
  "language_info": {
   "codemirror_mode": {
    "name": "ipython",
    "version": 3
   },
   "file_extension": ".py",
   "mimetype": "text/x-python",
   "name": "python",
   "nbconvert_exporter": "python",
   "pygments_lexer": "ipython3",
   "version": "3.7.6"
  }
 },
 "nbformat": 4,
 "nbformat_minor": 4
}
