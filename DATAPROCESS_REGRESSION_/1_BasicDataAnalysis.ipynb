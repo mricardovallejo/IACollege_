{
 "cells": [
  {
   "cell_type": "markdown",
   "metadata": {},
   "source": [
    "# DATA ANALYSIS HEARTH.TXT\n",
    "\n",
    "Author:  Ricardo Vallejo\n"
   ]
  },
  {
   "cell_type": "markdown",
   "metadata": {},
   "source": [
    "## 1. Data Presentation"
   ]
  },
  {
   "cell_type": "code",
   "execution_count": 210,
   "metadata": {},
   "outputs": [
    {
     "data": {
      "text/html": [
       "<div>\n",
       "<style scoped>\n",
       "    .dataframe tbody tr th:only-of-type {\n",
       "        vertical-align: middle;\n",
       "    }\n",
       "\n",
       "    .dataframe tbody tr th {\n",
       "        vertical-align: top;\n",
       "    }\n",
       "\n",
       "    .dataframe thead th {\n",
       "        text-align: right;\n",
       "    }\n",
       "</style>\n",
       "<table border=\"1\" class=\"dataframe\">\n",
       "  <thead>\n",
       "    <tr style=\"text-align: right;\">\n",
       "      <th></th>\n",
       "      <th>age</th>\n",
       "      <th>sexe</th>\n",
       "      <th>type_douleur</th>\n",
       "      <th>pression</th>\n",
       "      <th>cholester</th>\n",
       "      <th>sucre</th>\n",
       "      <th>electro</th>\n",
       "      <th>taux_max</th>\n",
       "      <th>angine</th>\n",
       "      <th>depression</th>\n",
       "      <th>pic</th>\n",
       "      <th>vaisseau</th>\n",
       "      <th>coeur</th>\n",
       "    </tr>\n",
       "  </thead>\n",
       "  <tbody>\n",
       "    <tr>\n",
       "      <th>0</th>\n",
       "      <td>70</td>\n",
       "      <td>masculin</td>\n",
       "      <td>D</td>\n",
       "      <td>130</td>\n",
       "      <td>322</td>\n",
       "      <td>A</td>\n",
       "      <td>C</td>\n",
       "      <td>109</td>\n",
       "      <td>non</td>\n",
       "      <td>2.4</td>\n",
       "      <td>2</td>\n",
       "      <td>D</td>\n",
       "      <td>presence</td>\n",
       "    </tr>\n",
       "    <tr>\n",
       "      <th>1</th>\n",
       "      <td>67</td>\n",
       "      <td>feminin</td>\n",
       "      <td>C</td>\n",
       "      <td>115</td>\n",
       "      <td>564</td>\n",
       "      <td>A</td>\n",
       "      <td>C</td>\n",
       "      <td>160</td>\n",
       "      <td>non</td>\n",
       "      <td>1.6</td>\n",
       "      <td>2</td>\n",
       "      <td>A</td>\n",
       "      <td>absence</td>\n",
       "    </tr>\n",
       "    <tr>\n",
       "      <th>2</th>\n",
       "      <td>57</td>\n",
       "      <td>masculin</td>\n",
       "      <td>B</td>\n",
       "      <td>124</td>\n",
       "      <td>261</td>\n",
       "      <td>A</td>\n",
       "      <td>A</td>\n",
       "      <td>141</td>\n",
       "      <td>non</td>\n",
       "      <td>0.3</td>\n",
       "      <td>1</td>\n",
       "      <td>A</td>\n",
       "      <td>presence</td>\n",
       "    </tr>\n",
       "    <tr>\n",
       "      <th>3</th>\n",
       "      <td>64</td>\n",
       "      <td>masculin</td>\n",
       "      <td>D</td>\n",
       "      <td>128</td>\n",
       "      <td>263</td>\n",
       "      <td>A</td>\n",
       "      <td>A</td>\n",
       "      <td>105</td>\n",
       "      <td>oui</td>\n",
       "      <td>0.2</td>\n",
       "      <td>2</td>\n",
       "      <td>B</td>\n",
       "      <td>absence</td>\n",
       "    </tr>\n",
       "    <tr>\n",
       "      <th>4</th>\n",
       "      <td>74</td>\n",
       "      <td>feminin</td>\n",
       "      <td>B</td>\n",
       "      <td>120</td>\n",
       "      <td>269</td>\n",
       "      <td>A</td>\n",
       "      <td>C</td>\n",
       "      <td>121</td>\n",
       "      <td>oui</td>\n",
       "      <td>0.2</td>\n",
       "      <td>1</td>\n",
       "      <td>B</td>\n",
       "      <td>absence</td>\n",
       "    </tr>\n",
       "    <tr>\n",
       "      <th>5</th>\n",
       "      <td>65</td>\n",
       "      <td>masculin</td>\n",
       "      <td>D</td>\n",
       "      <td>120</td>\n",
       "      <td>177</td>\n",
       "      <td>A</td>\n",
       "      <td>A</td>\n",
       "      <td>140</td>\n",
       "      <td>non</td>\n",
       "      <td>0.4</td>\n",
       "      <td>1</td>\n",
       "      <td>A</td>\n",
       "      <td>absence</td>\n",
       "    </tr>\n",
       "    <tr>\n",
       "      <th>6</th>\n",
       "      <td>56</td>\n",
       "      <td>masculin</td>\n",
       "      <td>C</td>\n",
       "      <td>130</td>\n",
       "      <td>256</td>\n",
       "      <td>B</td>\n",
       "      <td>C</td>\n",
       "      <td>142</td>\n",
       "      <td>oui</td>\n",
       "      <td>0.6</td>\n",
       "      <td>2</td>\n",
       "      <td>B</td>\n",
       "      <td>presence</td>\n",
       "    </tr>\n",
       "    <tr>\n",
       "      <th>7</th>\n",
       "      <td>59</td>\n",
       "      <td>masculin</td>\n",
       "      <td>D</td>\n",
       "      <td>110</td>\n",
       "      <td>239</td>\n",
       "      <td>A</td>\n",
       "      <td>C</td>\n",
       "      <td>142</td>\n",
       "      <td>oui</td>\n",
       "      <td>1.2</td>\n",
       "      <td>2</td>\n",
       "      <td>B</td>\n",
       "      <td>presence</td>\n",
       "    </tr>\n",
       "    <tr>\n",
       "      <th>8</th>\n",
       "      <td>60</td>\n",
       "      <td>masculin</td>\n",
       "      <td>D</td>\n",
       "      <td>140</td>\n",
       "      <td>293</td>\n",
       "      <td>A</td>\n",
       "      <td>C</td>\n",
       "      <td>170</td>\n",
       "      <td>non</td>\n",
       "      <td>1.2</td>\n",
       "      <td>2</td>\n",
       "      <td>C</td>\n",
       "      <td>presence</td>\n",
       "    </tr>\n",
       "    <tr>\n",
       "      <th>9</th>\n",
       "      <td>63</td>\n",
       "      <td>feminin</td>\n",
       "      <td>D</td>\n",
       "      <td>150</td>\n",
       "      <td>407</td>\n",
       "      <td>A</td>\n",
       "      <td>C</td>\n",
       "      <td>154</td>\n",
       "      <td>non</td>\n",
       "      <td>4.0</td>\n",
       "      <td>2</td>\n",
       "      <td>D</td>\n",
       "      <td>presence</td>\n",
       "    </tr>\n",
       "  </tbody>\n",
       "</table>\n",
       "</div>"
      ],
      "text/plain": [
       "   age      sexe type_douleur  pression  cholester sucre electro  taux_max  \\\n",
       "0   70  masculin            D       130        322     A       C       109   \n",
       "1   67   feminin            C       115        564     A       C       160   \n",
       "2   57  masculin            B       124        261     A       A       141   \n",
       "3   64  masculin            D       128        263     A       A       105   \n",
       "4   74   feminin            B       120        269     A       C       121   \n",
       "5   65  masculin            D       120        177     A       A       140   \n",
       "6   56  masculin            C       130        256     B       C       142   \n",
       "7   59  masculin            D       110        239     A       C       142   \n",
       "8   60  masculin            D       140        293     A       C       170   \n",
       "9   63   feminin            D       150        407     A       C       154   \n",
       "\n",
       "  angine  depression  pic vaisseau     coeur  \n",
       "0    non         2.4    2        D  presence  \n",
       "1    non         1.6    2        A   absence  \n",
       "2    non         0.3    1        A  presence  \n",
       "3    oui         0.2    2        B   absence  \n",
       "4    oui         0.2    1        B   absence  \n",
       "5    non         0.4    1        A   absence  \n",
       "6    oui         0.6    2        B  presence  \n",
       "7    oui         1.2    2        B  presence  \n",
       "8    non         1.2    2        C  presence  \n",
       "9    non         4.0    2        D  presence  "
      ]
     },
     "execution_count": 210,
     "metadata": {},
     "output_type": "execute_result"
    }
   ],
   "source": [
    "import pandas as pd\n",
    "import matplotlib.pyplot as plt\n",
    "import statistics\n",
    "import statistics\n",
    "import numpy as np\n",
    "import scipy.stats\n",
    "import seaborn as sns\n",
    "\n",
    "\n",
    "\n",
    "tit = pd.read_table(\"C:\\wrkOrion3\\IACollege\\DataProcess\\heart.txt\")\n",
    "pd.options.display.max_columns = None\n",
    "tit.head(10)"
   ]
  },
  {
   "cell_type": "markdown",
   "metadata": {},
   "source": [
    "### 1.1. Data Categories"
   ]
  },
  {
   "cell_type": "raw",
   "metadata": {},
   "source": [
    "Qualitative:  sexe\ttype_douleur\tsucre\telectro\t\tangine\t\tvaisseau\tcoeur\n",
    "Quantitative: \n",
    "    Discrete: age, cholester, taux_max, pic\n",
    "    Continuos: pression, depression"
   ]
  },
  {
   "cell_type": "markdown",
   "metadata": {},
   "source": [
    "### 1.2. Data Types"
   ]
  },
  {
   "cell_type": "raw",
   "metadata": {},
   "source": [
    "Object String: sexe\ttype_douleur\tsucre\telectro\t\tangine\t\tvaisseau\tcoeur\n",
    "Numeric int:  age, cholester, taux_max, pic\n",
    "numeric float: pression, depression"
   ]
  },
  {
   "cell_type": "code",
   "execution_count": 12,
   "metadata": {},
   "outputs": [
    {
     "name": "stdout",
     "output_type": "stream",
     "text": [
      "int64\n"
     ]
    }
   ],
   "source": [
    "t1 = tit['age'].dtypes\n",
    "print(t1)"
   ]
  },
  {
   "cell_type": "code",
   "execution_count": 13,
   "metadata": {},
   "outputs": [
    {
     "name": "stdout",
     "output_type": "stream",
     "text": [
      "<class 'pandas.core.frame.DataFrame'>\n",
      "RangeIndex: 270 entries, 0 to 269\n",
      "Data columns (total 13 columns):\n",
      " #   Column        Non-Null Count  Dtype  \n",
      "---  ------        --------------  -----  \n",
      " 0   age           270 non-null    int64  \n",
      " 1   sexe          270 non-null    object \n",
      " 2   type_douleur  270 non-null    object \n",
      " 3   pression      270 non-null    int64  \n",
      " 4   cholester     270 non-null    int64  \n",
      " 5   sucre         270 non-null    object \n",
      " 6   electro       270 non-null    object \n",
      " 7   taux_max      270 non-null    int64  \n",
      " 8   angine        270 non-null    object \n",
      " 9   depression    270 non-null    float64\n",
      " 10  pic           270 non-null    int64  \n",
      " 11  vaisseau      270 non-null    object \n",
      " 12  coeur         270 non-null    object \n",
      "dtypes: float64(1), int64(5), object(7)\n",
      "memory usage: 27.5+ KB\n"
     ]
    }
   ],
   "source": [
    "tit.info()\n"
   ]
  },
  {
   "cell_type": "code",
   "execution_count": 17,
   "metadata": {},
   "outputs": [
    {
     "name": "stdout",
     "output_type": "stream",
     "text": [
      "Data samplesof population:  age             270\n",
      "sexe            270\n",
      "type_douleur    270\n",
      "pression        270\n",
      "cholester       270\n",
      "sucre           270\n",
      "electro         270\n",
      "taux_max        270\n",
      "angine          270\n",
      "depression      270\n",
      "pic             270\n",
      "vaisseau        270\n",
      "coeur           270\n",
      "dtype: int64\n"
     ]
    }
   ],
   "source": [
    "print(\"Data samplesof population: \", tit.count())"
   ]
  },
  {
   "cell_type": "markdown",
   "metadata": {},
   "source": [
    "# 2.  Analysis qualitative variable - Pain Type"
   ]
  },
  {
   "cell_type": "raw",
   "metadata": {},
   "source": [
    "Effectives:  We want to identify the frequency of repetition of any value of this varible in the table."
   ]
  },
  {
   "cell_type": "code",
   "execution_count": 15,
   "metadata": {},
   "outputs": [
    {
     "name": "stdout",
     "output_type": "stream",
     "text": [
      "D    129\n",
      "C     79\n",
      "B     42\n",
      "A     20\n",
      "Name: type_douleur, dtype: int64\n"
     ]
    }
   ],
   "source": [
    "E1 = tit['type_douleur'].value_counts()\n",
    "print(E1)"
   ]
  },
  {
   "cell_type": "raw",
   "metadata": {},
   "source": [
    "The value with more repetitions its Dolor type D with 129 samples of 270"
   ]
  },
  {
   "cell_type": "code",
   "execution_count": 21,
   "metadata": {},
   "outputs": [
    {
     "name": "stdout",
     "output_type": "stream",
     "text": [
      "D    47.777778\n",
      "C    29.259259\n",
      "B    15.555556\n",
      "A     7.407407\n",
      "Name: type_douleur, dtype: float64\n"
     ]
    }
   ],
   "source": [
    "E2 = tit['type_douleur'].value_counts(normalize=True) * 100\n",
    "print (E2)"
   ]
  },
  {
   "cell_type": "raw",
   "metadata": {},
   "source": [
    "The value with more repetitions its Dolor type D with 129 samples who represents 47.7% of population"
   ]
  },
  {
   "cell_type": "raw",
   "metadata": {},
   "source": [
    "Modalites:  Distinct values of the variable present in the dataframe"
   ]
  },
  {
   "cell_type": "code",
   "execution_count": 23,
   "metadata": {},
   "outputs": [
    {
     "name": "stdout",
     "output_type": "stream",
     "text": [
      "Modalites  ['D' 'C' 'B' 'A']\n"
     ]
    }
   ],
   "source": [
    "Modalites = tit['type_douleur'].unique()\n",
    "print(\"Modalites \", Modalites)"
   ]
  },
  {
   "cell_type": "markdown",
   "metadata": {},
   "source": [
    "## 2.1 Graphical representation "
   ]
  },
  {
   "cell_type": "code",
   "execution_count": 34,
   "metadata": {},
   "outputs": [
    {
     "data": {
      "image/png": "[encoded data removed]",
      "text/plain": [
       "<Figure size 648x288 with 1 Axes>"
      ]
     },
     "metadata": {
      "needs_background": "light"
     },
     "output_type": "display_data"
    }
   ],
   "source": [
    "E1.plot(kind = 'bar',\n",
    "           stacked = 'True',          # Muestra las barras apiladas\n",
    "           alpha = 0.4,               # nivel de transparencia\n",
    "           width = 0.9,               # Grosor de las barras para dejar espacio entre ellas\n",
    "           figsize=(9,4));\n",
    "\n",
    "plt.grid(color='gray', linestyle='--', linewidth=1)\n",
    "plt.title('Histogram of Pain Type')\n",
    "plt.xlabel(\"Pain Type\")\n",
    "plt.ylabel(\"Frequency\")\n",
    "plt.show()\n"
   ]
  },
  {
   "cell_type": "raw",
   "metadata": {},
   "source": [
    "We can see easily in the graphic, there are 4 differentes values for pain type, and the most frequent type its D and less frequent A.\n"
   ]
  },
  {
   "cell_type": "code",
   "execution_count": 42,
   "metadata": {},
   "outputs": [
    {
     "data": {
      "image/png": "[encoded data removed]",
      "text/plain": [
       "<Figure size 360x504 with 1 Axes>"
      ]
     },
     "metadata": {},
     "output_type": "display_data"
    }
   ],
   "source": [
    "# Simple PIE Graphic\n",
    "\n",
    "E1.plot.pie(subplots=True, figsize = (5,5))\n",
    "plt.show() #ok\n"
   ]
  },
  {
   "cell_type": "code",
   "execution_count": 82,
   "metadata": {},
   "outputs": [
    {
     "data": {
      "text/plain": [
       "Text(0.5, 1.0, 'Circular diagram of Pain Type')"
      ]
     },
     "execution_count": 82,
     "metadata": {},
     "output_type": "execute_result"
    },
    {
     "data": {
      "image/png": "[encoded data removed]",
      "text/plain": [
       "<Figure size 432x432 with 1 Axes>"
      ]
     },
     "metadata": {},
     "output_type": "display_data"
    }
   ],
   "source": [
    "# Advanced PIE Graphic\n",
    "E1.plot.pie(labels=tit['type_douleur'].unique(), \n",
    "            colors=['r', 'g', 'b', 'c'], \n",
    "            autopct='%.2f', \n",
    "            fontsize=20,\n",
    "            figsize=(6, 6), \n",
    "            subplots=True)\n",
    "plt.title('Circular diagram of Pain Type')"
   ]
  },
  {
   "cell_type": "raw",
   "metadata": {},
   "source": [
    "We can see the porcentual representation of the data in a pie chart, its easy to view how representative its Type C about the total of population.  Its 29.26% of total of data."
   ]
  },
  {
   "cell_type": "markdown",
   "metadata": {},
   "source": [
    "## 2.2 Relationships between Qualitatives (categorical) variables"
   ]
  },
  {
   "cell_type": "markdown",
   "metadata": {},
   "source": [
    "### 2.2.1  Relationship between type of pain and sexe."
   ]
  },
  {
   "cell_type": "code",
   "execution_count": 99,
   "metadata": {},
   "outputs": [
    {
     "data": {
      "text/plain": [
       "Text(0.5, 1.0, 'Relationship between sex and type de douleur')"
      ]
     },
     "execution_count": 99,
     "metadata": {},
     "output_type": "execute_result"
    },
    {
     "data": {
      "image/png": "[encoded data removed]",
      "text/plain": [
       "<Figure size 432x288 with 1 Axes>"
      ]
     },
     "metadata": {
      "needs_background": "light"
     },
     "output_type": "display_data"
    }
   ],
   "source": [
    "pd.crosstab(index=tit['type_douleur'],\n",
    "            columns=tit['sexe'], \n",
    "            margins=True).plot(kind='line')\n",
    "\n",
    "plt.grid(color='gray', linestyle='--', linewidth=1)\n",
    "plt.ylabel(\"Frequency\")\n",
    "plt.title('Relationship between sex and type de douleur')"
   ]
  },
  {
   "cell_type": "raw",
   "metadata": {},
   "source": [
    "Masculine population has more of all types of pain than womans, and the difference its really important for Type D."
   ]
  },
  {
   "cell_type": "markdown",
   "metadata": {},
   "source": [
    "### 2.2.1  Relationship between sexe of hearth affections"
   ]
  },
  {
   "cell_type": "code",
   "execution_count": 105,
   "metadata": {},
   "outputs": [
    {
     "data": {
      "text/plain": [
       "Text(0.5, 1.0, 'Relationship between sex and type de hearth affection presence')"
      ]
     },
     "execution_count": 105,
     "metadata": {},
     "output_type": "execute_result"
    },
    {
     "data": {
      "image/png": "[encoded data removed]",
      "text/plain": [
       "<Figure size 432x288 with 1 Axes>"
      ]
     },
     "metadata": {
      "needs_background": "light"
     },
     "output_type": "display_data"
    }
   ],
   "source": [
    "pd.crosstab(index=tit['coeur'],\n",
    "            columns=tit['sexe'], \n",
    "            margins=True).plot(kind='bar')\n",
    "\n",
    "plt.grid(color='gray', linestyle='--', linewidth=1)\n",
    "plt.ylabel(\"Frequency\")\n",
    "plt.title('Relationship between sex and type de hearth affection presence')"
   ]
  },
  {
   "cell_type": "raw",
   "metadata": {},
   "source": [
    "In the feminin population there are more abscence of hearth affections.\n",
    "In the masculine population there  are more people sick than healthy about hearth affections.\n",
    "In the sampling population we find more masculine persones without affection than womans.\n",
    "There masculine population its more affected for hearth affections.\n",
    "There are more masculine than femenine population represented in the data. -double-\n"
   ]
  },
  {
   "cell_type": "code",
   "execution_count": 135,
   "metadata": {},
   "outputs": [
    {
     "data": {
      "text/html": [
       "<div>\n",
       "<style scoped>\n",
       "    .dataframe tbody tr th:only-of-type {\n",
       "        vertical-align: middle;\n",
       "    }\n",
       "\n",
       "    .dataframe tbody tr th {\n",
       "        vertical-align: top;\n",
       "    }\n",
       "\n",
       "    .dataframe thead th {\n",
       "        text-align: right;\n",
       "    }\n",
       "</style>\n",
       "<table border=\"1\" class=\"dataframe\">\n",
       "  <thead>\n",
       "    <tr style=\"text-align: right;\">\n",
       "      <th></th>\n",
       "      <th>sexe</th>\n",
       "    </tr>\n",
       "  </thead>\n",
       "  <tbody>\n",
       "    <tr>\n",
       "      <th>masculin</th>\n",
       "      <td>183</td>\n",
       "    </tr>\n",
       "    <tr>\n",
       "      <th>feminin</th>\n",
       "      <td>87</td>\n",
       "    </tr>\n",
       "  </tbody>\n",
       "</table>\n",
       "</div>"
      ],
      "text/plain": [
       "          sexe\n",
       "masculin   183\n",
       "feminin     87"
      ]
     },
     "execution_count": 135,
     "metadata": {},
     "output_type": "execute_result"
    }
   ],
   "source": [
    "# applying value_counts with default parameters - https://re-thought.com/pandas-value_counts/\n",
    "tit['sexe'].value_counts().to_frame()"
   ]
  },
  {
   "cell_type": "code",
   "execution_count": 137,
   "metadata": {},
   "outputs": [
    {
     "data": {
      "text/html": [
       "<div>\n",
       "<style scoped>\n",
       "    .dataframe tbody tr th:only-of-type {\n",
       "        vertical-align: middle;\n",
       "    }\n",
       "\n",
       "    .dataframe tbody tr th {\n",
       "        vertical-align: top;\n",
       "    }\n",
       "\n",
       "    .dataframe thead th {\n",
       "        text-align: right;\n",
       "    }\n",
       "</style>\n",
       "<table border=\"1\" class=\"dataframe\">\n",
       "  <thead>\n",
       "    <tr style=\"text-align: right;\">\n",
       "      <th></th>\n",
       "      <th>coeur</th>\n",
       "    </tr>\n",
       "  </thead>\n",
       "  <tbody>\n",
       "    <tr>\n",
       "      <th>absence</th>\n",
       "      <td>150</td>\n",
       "    </tr>\n",
       "    <tr>\n",
       "      <th>presence</th>\n",
       "      <td>120</td>\n",
       "    </tr>\n",
       "  </tbody>\n",
       "</table>\n",
       "</div>"
      ],
      "text/plain": [
       "          coeur\n",
       "absence     150\n",
       "presence    120"
      ]
     },
     "execution_count": 137,
     "metadata": {},
     "output_type": "execute_result"
    }
   ],
   "source": [
    "tit['coeur'].value_counts().to_frame()"
   ]
  },
  {
   "cell_type": "code",
   "execution_count": 138,
   "metadata": {},
   "outputs": [
    {
     "data": {
      "text/html": [
       "<div>\n",
       "<style scoped>\n",
       "    .dataframe tbody tr th:only-of-type {\n",
       "        vertical-align: middle;\n",
       "    }\n",
       "\n",
       "    .dataframe tbody tr th {\n",
       "        vertical-align: top;\n",
       "    }\n",
       "\n",
       "    .dataframe thead th {\n",
       "        text-align: right;\n",
       "    }\n",
       "</style>\n",
       "<table border=\"1\" class=\"dataframe\">\n",
       "  <thead>\n",
       "    <tr style=\"text-align: right;\">\n",
       "      <th></th>\n",
       "      <th>type_douleur</th>\n",
       "    </tr>\n",
       "  </thead>\n",
       "  <tbody>\n",
       "    <tr>\n",
       "      <th>D</th>\n",
       "      <td>129</td>\n",
       "    </tr>\n",
       "    <tr>\n",
       "      <th>C</th>\n",
       "      <td>79</td>\n",
       "    </tr>\n",
       "    <tr>\n",
       "      <th>B</th>\n",
       "      <td>42</td>\n",
       "    </tr>\n",
       "    <tr>\n",
       "      <th>A</th>\n",
       "      <td>20</td>\n",
       "    </tr>\n",
       "  </tbody>\n",
       "</table>\n",
       "</div>"
      ],
      "text/plain": [
       "   type_douleur\n",
       "D           129\n",
       "C            79\n",
       "B            42\n",
       "A            20"
      ]
     },
     "execution_count": 138,
     "metadata": {},
     "output_type": "execute_result"
    }
   ],
   "source": [
    "tit['type_douleur'].value_counts().to_frame()   "
   ]
  },
  {
   "cell_type": "code",
   "execution_count": 148,
   "metadata": {
    "scrolled": true
   },
   "outputs": [
    {
     "data": {
      "text/html": [
       "<div>\n",
       "<style scoped>\n",
       "    .dataframe tbody tr th:only-of-type {\n",
       "        vertical-align: middle;\n",
       "    }\n",
       "\n",
       "    .dataframe tbody tr th {\n",
       "        vertical-align: top;\n",
       "    }\n",
       "\n",
       "    .dataframe thead th {\n",
       "        text-align: right;\n",
       "    }\n",
       "</style>\n",
       "<table border=\"1\" class=\"dataframe\">\n",
       "  <thead>\n",
       "    <tr style=\"text-align: right;\">\n",
       "      <th></th>\n",
       "      <th></th>\n",
       "      <th>sexe</th>\n",
       "    </tr>\n",
       "    <tr>\n",
       "      <th>type_douleur</th>\n",
       "      <th>sexe</th>\n",
       "      <th></th>\n",
       "    </tr>\n",
       "  </thead>\n",
       "  <tbody>\n",
       "    <tr>\n",
       "      <th rowspan=\"2\" valign=\"top\">A</th>\n",
       "      <th>masculin</th>\n",
       "      <td>16</td>\n",
       "    </tr>\n",
       "    <tr>\n",
       "      <th>feminin</th>\n",
       "      <td>4</td>\n",
       "    </tr>\n",
       "    <tr>\n",
       "      <th rowspan=\"2\" valign=\"top\">B</th>\n",
       "      <th>masculin</th>\n",
       "      <td>26</td>\n",
       "    </tr>\n",
       "    <tr>\n",
       "      <th>feminin</th>\n",
       "      <td>16</td>\n",
       "    </tr>\n",
       "    <tr>\n",
       "      <th rowspan=\"2\" valign=\"top\">C</th>\n",
       "      <th>masculin</th>\n",
       "      <td>47</td>\n",
       "    </tr>\n",
       "    <tr>\n",
       "      <th>feminin</th>\n",
       "      <td>32</td>\n",
       "    </tr>\n",
       "    <tr>\n",
       "      <th rowspan=\"2\" valign=\"top\">D</th>\n",
       "      <th>masculin</th>\n",
       "      <td>94</td>\n",
       "    </tr>\n",
       "    <tr>\n",
       "      <th>feminin</th>\n",
       "      <td>35</td>\n",
       "    </tr>\n",
       "  </tbody>\n",
       "</table>\n",
       "</div>"
      ],
      "text/plain": [
       "                       sexe\n",
       "type_douleur sexe          \n",
       "A            masculin    16\n",
       "             feminin      4\n",
       "B            masculin    26\n",
       "             feminin     16\n",
       "C            masculin    47\n",
       "             feminin     32\n",
       "D            masculin    94\n",
       "             feminin     35"
      ]
     },
     "execution_count": 148,
     "metadata": {},
     "output_type": "execute_result"
    }
   ],
   "source": [
    "  tit.groupby('type_douleur')['sexe'].value_counts().to_frame()"
   ]
  },
  {
   "cell_type": "code",
   "execution_count": 184,
   "metadata": {},
   "outputs": [
    {
     "data": {
      "image/png": "[encoded data removed]",
      "text/plain": [
       "<Figure size 360x216 with 2 Axes>"
      ]
     },
     "metadata": {
      "needs_background": "light"
     },
     "output_type": "display_data"
    }
   ],
   "source": [
    "tit.hist(column='type_douleur', by=\"sexe\", figsize=(5,3)) #10 pour default bins\n",
    "plt.show() #ok"
   ]
  },
  {
   "cell_type": "markdown",
   "metadata": {},
   "source": [
    "# 3. Analysis qualitative variable - Cholester"
   ]
  },
  {
   "cell_type": "code",
   "execution_count": null,
   "metadata": {},
   "outputs": [],
   "source": [
    "tit.hist(column='type_douleur', by=\"sexe\", figsize=(5,3)) #10 pour default bins\n",
    "plt.show() #ok"
   ]
  },
  {
   "cell_type": "markdown",
   "metadata": {},
   "source": [
    "## 3.1. Basic statistics of cholesterol"
   ]
  },
  {
   "cell_type": "code",
   "execution_count": 205,
   "metadata": {},
   "outputs": [
    {
     "name": "stdout",
     "output_type": "stream",
     "text": [
      "age            54.433333\n",
      "pression      131.344444\n",
      "cholester     249.659259\n",
      "taux_max      149.677778\n",
      "depression      1.050000\n",
      "pic             1.585185\n",
      "dtype: float64\n"
     ]
    }
   ],
   "source": [
    "meanData = tit.mean()\n",
    "print(meanData)\n"
   ]
  },
  {
   "cell_type": "code",
   "execution_count": 235,
   "metadata": {},
   "outputs": [
    {
     "name": "stdout",
     "output_type": "stream",
     "text": [
      "mean Cholester 249.65925925925927\n"
     ]
    }
   ],
   "source": [
    "meanCholesterol = tit['cholester'].mean() #https://realpython.com/python-statistics/\n",
    "print(\"mean Cholester\",meanCholesterol)"
   ]
  },
  {
   "cell_type": "code",
   "execution_count": 167,
   "metadata": {},
   "outputs": [
    {
     "name": "stdout",
     "output_type": "stream",
     "text": [
      "564\n"
     ]
    }
   ],
   "source": [
    "maxValue = tit['cholester'].max()\n",
    "print(\"max Cholester\\n\",maxValue)"
   ]
  },
  {
   "cell_type": "code",
   "execution_count": 168,
   "metadata": {},
   "outputs": [
    {
     "name": "stdout",
     "output_type": "stream",
     "text": [
      "0    234\n",
      "dtype: int64\n"
     ]
    }
   ],
   "source": [
    "modeValue = tit['cholester'].mode()\n",
    "print(\"mode Cholester\\n\", modeValue)  #More frequent data"
   ]
  },
  {
   "cell_type": "code",
   "execution_count": 237,
   "metadata": {},
   "outputs": [
    {
     "name": "stdout",
     "output_type": "stream",
     "text": [
      "sigma Cholester\n",
      " 51.68623711643128\n"
     ]
    }
   ],
   "source": [
    "#The standard deviation is a common method for numerically describing the distribution of a variable.\n",
    "\n",
    "stdCholesterol = tit['cholester'].std()\n",
    "print(\"sigma Cholester\\n\", stdCholesterol)"
   ]
  },
  {
   "cell_type": "code",
   "execution_count": 230,
   "metadata": {},
   "outputs": [
    {
     "name": "stdout",
     "output_type": "stream",
     "text": [
      "Median\n",
      " age            55.0\n",
      "pression      130.0\n",
      "cholester     245.0\n",
      "taux_max      153.5\n",
      "depression      0.8\n",
      "pic             2.0\n",
      "dtype: float64\n"
     ]
    }
   ],
   "source": [
    "medianValue = tit.median()\n",
    "print (\"Median\\n\", medianValue)"
   ]
  },
  {
   "cell_type": "code",
   "execution_count": 219,
   "metadata": {},
   "outputs": [
    {
     "name": "stdout",
     "output_type": "stream",
     "text": [
      "variance\n",
      " age             82.975093\n",
      "pression       319.037051\n",
      "cholester     2671.467107\n",
      "taux_max       536.650434\n",
      "depression       1.311506\n",
      "pic              0.377475\n",
      "dtype: float64\n"
     ]
    }
   ],
   "source": [
    "varianceValue = tit.var() #The variance uses the difference between each value and its arithmetic mean. \n",
    "print(\"variance\\n\", varianceValue)"
   ]
  },
  {
   "cell_type": "code",
   "execution_count": 165,
   "metadata": {},
   "outputs": [
    {
     "name": "stdout",
     "output_type": "stream",
     "text": [
      "count    270.000000\n",
      "mean     249.659259\n",
      "std       51.686237\n",
      "min      126.000000\n",
      "25%      213.000000\n",
      "50%      245.000000\n",
      "75%      280.000000\n",
      "max      564.000000\n",
      "Name: cholester, dtype: float64\n"
     ]
    }
   ],
   "source": [
    "cholester_description = tit['cholester'].describe()\n",
    "print(cholester_description)"
   ]
  },
  {
   "cell_type": "code",
   "execution_count": 166,
   "metadata": {},
   "outputs": [
    {
     "name": "stdout",
     "output_type": "stream",
     "text": [
      "count    270.000000\n",
      "mean     249.659259\n",
      "std       51.686237\n",
      "min      126.000000\n",
      "10%      194.800000\n",
      "30%      221.700000\n",
      "50%      245.000000\n",
      "65%      264.850000\n",
      "80%      288.200000\n",
      "max      564.000000\n",
      "Name: cholester, dtype: float64\n"
     ]
    }
   ],
   "source": [
    "cholester_description2 = tit['cholester'].describe(percentiles=[.10, .30, .65, .80])\n",
    "print(cholester_description2)"
   ]
  },
  {
   "cell_type": "code",
   "execution_count": 178,
   "metadata": {},
   "outputs": [
    {
     "name": "stdout",
     "output_type": "stream",
     "text": [
      "194.8\n"
     ]
    }
   ],
   "source": [
    "#Quartiles\n",
    "q1 = tit['cholester'].quantile(0.10)\n",
    "print(q1)"
   ]
  },
  {
   "cell_type": "markdown",
   "metadata": {},
   "source": [
    "## 3.2. Graphical representation and frequency analysis"
   ]
  },
  {
   "cell_type": "code",
   "execution_count": 200,
   "metadata": {},
   "outputs": [
    {
     "data": {
      "image/png": "[encoded data removed]",
      "text/plain": [
       "<Figure size 360x216 with 1 Axes>"
      ]
     },
     "metadata": {
      "needs_background": "light"
     },
     "output_type": "display_data"
    }
   ],
   "source": [
    "tit.hist(column='cholester', figsize=(5,3), bins=4)\n",
    "plt.grid(color='gray', linestyle='--', linewidth=1)\n",
    "plt.ylabel(\"Frequency\")\n",
    "plt.title('Cholesterol measurements')\n",
    "plt.show() #ok"
   ]
  },
  {
   "cell_type": "code",
   "execution_count": 197,
   "metadata": {},
   "outputs": [
    {
     "data": {
      "image/png": "[encoded data removed]",
      "text/plain": [
       "<Figure size 360x216 with 1 Axes>"
      ]
     },
     "metadata": {
      "needs_background": "light"
     },
     "output_type": "display_data"
    }
   ],
   "source": [
    "tit.hist(column='cholester', figsize=(5,3), bins=15)\n",
    "plt.grid(color='gray', linestyle='--', linewidth=1)\n",
    "plt.ylabel(\"Frequency\")\n",
    "plt.title('Cholesterol measurements')\n",
    "plt.show() #ok"
   ]
  },
  {
   "cell_type": "code",
   "execution_count": 217,
   "metadata": {},
   "outputs": [
    {
     "data": {
      "image/png": "[encoded data removed]",
      "text/plain": [
       "<Figure size 720x432 with 1 Axes>"
      ]
     },
     "metadata": {
      "needs_background": "light"
     },
     "output_type": "display_data"
    }
   ],
   "source": [
    "mean=tit['cholester'].mean();\n",
    "median=tit['cholester'].median();\n",
    "mode=tit['cholester'].mode();\n",
    "fig, ax = plt.subplots(figsize=(10,6));\n",
    "\n",
    "sns.distplot(tit['cholester']);\n",
    "plt.title('Distribution Cholesterol variable');\n",
    "plt.axvline(mean,color='green',label='Mean'); \n",
    "plt.axvline(median,color='blue',label='Median');\n",
    "plt.axvline(mode[0],color='red',label='Mode 1')\n",
    "\n",
    "plt.legend();"
   ]
  },
  {
   "cell_type": "raw",
   "metadata": {},
   "source": [
    "A normal distribution the mean, median, and mode are equals.  Cholester its not the case.\n",
    "Mode: Most frequently value, Sometimes each value occurs only once and the mode will not be meaningful.\n",
    "Median: Its the middle value of the data set when the data are sorted in order from least to greatest."
   ]
  },
  {
   "cell_type": "markdown",
   "metadata": {},
   "source": [
    "## 3.2. Graphical representation and dispersion analysis"
   ]
  },
  {
   "cell_type": "raw",
   "metadata": {},
   "source": [
    "Once we have organized and summarized your sample data, the next step is to identify the underlying distribution of our random variable. \n",
    "\n",
    "Source:  https://courses.lumenlearning.com/suny-natural-resources-biometrics/chapter/chapter-1-descriptive-statistics-and-the-normal-distribution/"
   ]
  },
  {
   "cell_type": "code",
   "execution_count": null,
   "metadata": {},
   "outputs": [],
   "source": [
    "Boxplots\n",
    "Boxplots use the 5-number summary (minimum and maximum values with the three quartiles) \n",
    "to illustrate the center, spread, and distribution of your data. "
   ]
  },
  {
   "cell_type": "code",
   "execution_count": 225,
   "metadata": {},
   "outputs": [
    {
     "data": {
      "image/png": "[encoded data removed]",
      "text/plain": [
       "<Figure size 432x216 with 1 Axes>"
      ]
     },
     "metadata": {
      "needs_background": "light"
     },
     "output_type": "display_data"
    }
   ],
   "source": [
    "#Diagram de moustache\n",
    "tit.boxplot(column='cholester', figsize=(6,3), vert=False) #Vert cest verticale\n",
    "plt.show()"
   ]
  },
  {
   "cell_type": "raw",
   "metadata": {},
   "source": [
    "There are rare data (low frequency data) around limits of 400 and near 600\n",
    "Its not symetric because green line its not in half of rectangle.\n",
    "Its Skewed Right distribution - With skewed right distributions, we see that the histogram looks “pulled” to the right, and boxplot to the left."
   ]
  },
  {
   "cell_type": "code",
   "execution_count": 228,
   "metadata": {},
   "outputs": [
    {
     "name": "stdout",
     "output_type": "stream",
     "text": [
      "Skewness: \n",
      " 1.1837208885656836\n",
      "Kurtosis: \n",
      " 4.895598990181746\n"
     ]
    }
   ],
   "source": [
    "#Factor de aplatissemnet - Measure de concentration de donnes\n",
    "skew1 = tit['cholester'].skew(axis = 0, skipna = True)\n",
    "print(\"Skewness: \\n\", skew1)\n",
    "\n",
    "kurt1 = tit['cholester'].kurt(axis = 0, skipna = True)\n",
    "print(\"Kurtosis: \\n\", kurt1)\n"
   ]
  },
  {
   "cell_type": "code",
   "execution_count": 241,
   "metadata": {},
   "outputs": [],
   "source": [
    "Right skewenees  "
   ]
  },
  {
   "cell_type": "raw",
   "metadata": {},
   "source": [
    "Investors commonly use standard deviation to predict future returns, but standard deviation assumes a normal distribution. As few return distributions come close to normal, skewness is a better measure on which to base performance predictions. This is due to skewness risk."
   ]
  },
  {
   "cell_type": "code",
   "execution_count": null,
   "metadata": {},
   "outputs": [],
   "source": []
  }
 ],
 "metadata": {
  "kernelspec": {
   "display_name": "Python 3",
   "language": "python",
   "name": "python3"
  },
  "language_info": {
   "codemirror_mode": {
    "name": "ipython",
    "version": 3
   },
   "file_extension": ".py",
   "mimetype": "text/x-python",
   "name": "python",
   "nbconvert_exporter": "python",
   "pygments_lexer": "ipython3",
   "version": "3.7.6"
  }
 },
 "nbformat": 4,
 "nbformat_minor": 4
}
