{
 "cells": [
  {
   "cell_type": "markdown",
   "metadata": {},
   "source": [
    "# Regression lineaire et multilineaire\n",
    "\n",
    "### Author:  Ricardo Vallejo"
   ]
  },
  {
   "cell_type": "markdown",
   "metadata": {},
   "source": [
    "## 1. Load Data"
   ]
  },
  {
   "cell_type": "code",
   "execution_count": 2,
   "metadata": {},
   "outputs": [
    {
     "data": {
      "text/html": [
       "<div>\n",
       "<style scoped>\n",
       "    .dataframe tbody tr th:only-of-type {\n",
       "        vertical-align: middle;\n",
       "    }\n",
       "\n",
       "    .dataframe tbody tr th {\n",
       "        vertical-align: top;\n",
       "    }\n",
       "\n",
       "    .dataframe thead th {\n",
       "        text-align: right;\n",
       "    }\n",
       "</style>\n",
       "<table border=\"1\" class=\"dataframe\">\n",
       "  <thead>\n",
       "    <tr style=\"text-align: right;\">\n",
       "      <th></th>\n",
       "      <th>Id</th>\n",
       "      <th>type</th>\n",
       "      <th>prix</th>\n",
       "      <th>cylindree</th>\n",
       "      <th>puissance</th>\n",
       "      <th>poids</th>\n",
       "      <th>conso</th>\n",
       "    </tr>\n",
       "  </thead>\n",
       "  <tbody>\n",
       "    <tr>\n",
       "      <th>0</th>\n",
       "      <td>1</td>\n",
       "      <td>Daihatsu Cuore</td>\n",
       "      <td>11600</td>\n",
       "      <td>846</td>\n",
       "      <td>32</td>\n",
       "      <td>650</td>\n",
       "      <td>5.7</td>\n",
       "    </tr>\n",
       "    <tr>\n",
       "      <th>1</th>\n",
       "      <td>2</td>\n",
       "      <td>Suzuki Swift 1.0 GLS</td>\n",
       "      <td>12490</td>\n",
       "      <td>993</td>\n",
       "      <td>39</td>\n",
       "      <td>790</td>\n",
       "      <td>5.8</td>\n",
       "    </tr>\n",
       "    <tr>\n",
       "      <th>2</th>\n",
       "      <td>3</td>\n",
       "      <td>Fiat Panda Mambo L</td>\n",
       "      <td>10450</td>\n",
       "      <td>899</td>\n",
       "      <td>29</td>\n",
       "      <td>730</td>\n",
       "      <td>6.1</td>\n",
       "    </tr>\n",
       "    <tr>\n",
       "      <th>3</th>\n",
       "      <td>4</td>\n",
       "      <td>VW Polo 1.4 60</td>\n",
       "      <td>17140</td>\n",
       "      <td>1390</td>\n",
       "      <td>44</td>\n",
       "      <td>955</td>\n",
       "      <td>6.5</td>\n",
       "    </tr>\n",
       "    <tr>\n",
       "      <th>4</th>\n",
       "      <td>5</td>\n",
       "      <td>Opel Corsa 1.2i Eco</td>\n",
       "      <td>14825</td>\n",
       "      <td>1195</td>\n",
       "      <td>33</td>\n",
       "      <td>895</td>\n",
       "      <td>6.8</td>\n",
       "    </tr>\n",
       "    <tr>\n",
       "      <th>5</th>\n",
       "      <td>6</td>\n",
       "      <td>Toyota Corolla</td>\n",
       "      <td>19490</td>\n",
       "      <td>1331</td>\n",
       "      <td>55</td>\n",
       "      <td>1010</td>\n",
       "      <td>7.1</td>\n",
       "    </tr>\n",
       "    <tr>\n",
       "      <th>6</th>\n",
       "      <td>7</td>\n",
       "      <td>Mercedes S 600</td>\n",
       "      <td>183900</td>\n",
       "      <td>5987</td>\n",
       "      <td>300</td>\n",
       "      <td>2250</td>\n",
       "      <td>18.7</td>\n",
       "    </tr>\n",
       "    <tr>\n",
       "      <th>7</th>\n",
       "      <td>8</td>\n",
       "      <td>Maserati Ghibli GT</td>\n",
       "      <td>92500</td>\n",
       "      <td>2789</td>\n",
       "      <td>209</td>\n",
       "      <td>1485</td>\n",
       "      <td>14.5</td>\n",
       "    </tr>\n",
       "    <tr>\n",
       "      <th>8</th>\n",
       "      <td>9</td>\n",
       "      <td>Opel Astra 1.6i 16V</td>\n",
       "      <td>25000</td>\n",
       "      <td>1597</td>\n",
       "      <td>74</td>\n",
       "      <td>1080</td>\n",
       "      <td>7.4</td>\n",
       "    </tr>\n",
       "    <tr>\n",
       "      <th>9</th>\n",
       "      <td>10</td>\n",
       "      <td>Peugeot 306 XS 108</td>\n",
       "      <td>22350</td>\n",
       "      <td>1761</td>\n",
       "      <td>74</td>\n",
       "      <td>1100</td>\n",
       "      <td>9.0</td>\n",
       "    </tr>\n",
       "  </tbody>\n",
       "</table>\n",
       "</div>"
      ],
      "text/plain": [
       "   Id                  type    prix  cylindree  puissance  poids  conso\n",
       "0   1        Daihatsu Cuore   11600        846         32    650    5.7\n",
       "1   2  Suzuki Swift 1.0 GLS   12490        993         39    790    5.8\n",
       "2   3    Fiat Panda Mambo L   10450        899         29    730    6.1\n",
       "3   4        VW Polo 1.4 60   17140       1390         44    955    6.5\n",
       "4   5   Opel Corsa 1.2i Eco   14825       1195         33    895    6.8\n",
       "5   6        Toyota Corolla   19490       1331         55   1010    7.1\n",
       "6   7        Mercedes S 600  183900       5987        300   2250   18.7\n",
       "7   8    Maserati Ghibli GT   92500       2789        209   1485   14.5\n",
       "8   9   Opel Astra 1.6i 16V   25000       1597         74   1080    7.4\n",
       "9  10    Peugeot 306 XS 108   22350       1761         74   1100    9.0"
      ]
     },
     "execution_count": 2,
     "metadata": {},
     "output_type": "execute_result"
    }
   ],
   "source": [
    "import pandas as pd\n",
    "import matplotlib.pyplot as plt\n",
    "import numpy as np\n",
    "import seaborn as sns\n",
    "\n",
    "\n",
    "tit = pd.read_excel(\"C:\\wrkOrion3\\IACollege\\DataProcess\\Correlation\\cars.xlsx\")\n",
    "pd.options.display.max_columns = None\n",
    "tit.head(10)"
   ]
  },
  {
   "cell_type": "markdown",
   "metadata": {},
   "source": [
    "# 2. Regression Lineal"
   ]
  },
  {
   "cell_type": "markdown",
   "metadata": {},
   "source": [
    "## 2.1.  Methode 1 - sklearn"
   ]
  },
  {
   "cell_type": "code",
   "execution_count": 15,
   "metadata": {},
   "outputs": [
    {
     "name": "stdout",
     "output_type": "stream",
     "text": [
      "Coeficient determination: \n",
      " 0.9264320565625962\n",
      "Intercept: \n",
      " -24.163623713709967\n",
      "Slope: \n",
      " [0.05791742]\n"
     ]
    }
   ],
   "source": [
    "from sklearn import linear_model\n",
    "from sklearn.linear_model import LinearRegression\n",
    "\n",
    "x1 = np.array(tit[\"cylindree\"]).reshape((-1,1))\n",
    "y1 = tit['puissance']\n",
    "\n",
    "mymodel = LinearRegression()\n",
    "results = mymodel.fit(x1,y1)\n",
    "\n",
    "print(\"Coeficient determination: \\n\", results.score(x1, y1))\n",
    "print(\"Intercept: \\n\", results.intercept_)\n",
    "print(\"Slope: \\n\", results.coef_)"
   ]
  },
  {
   "cell_type": "code",
   "execution_count": 4,
   "metadata": {},
   "outputs": [],
   "source": [
    " # y = mx + b ==> y = Slope * X + Intercept ==> y = 0.0579x-24.163"
   ]
  },
  {
   "cell_type": "markdown",
   "metadata": {},
   "source": [
    "## 2.2. Model Graphique verification"
   ]
  },
  {
   "cell_type": "code",
   "execution_count": 16,
   "metadata": {},
   "outputs": [
    {
     "data": {
      "image/png": "[encoded data removed]",
      "text/plain": [
       "<Figure size 576x432 with 1 Axes>"
      ]
     },
     "metadata": {
      "needs_background": "light"
     },
     "output_type": "display_data"
    }
   ],
   "source": [
    "def Yy(m, b, x):\n",
    "    return m*x + b;\n",
    "\n",
    "Xmodel = range(1000,6000, 100)\n",
    "Ymodel = Yy(results.coef_, results.intercept_,  Xmodel)\n",
    "\n",
    "plt.figure(figsize=(8, 6))\n",
    "plt.plot(Xmodel, Yy(results.coef_, results.intercept_,  Xmodel), 'b-', label='Model')\n",
    "plt.plot(tit['cylindree'], tit['puissance'], 'r.', label='Real samples')\n",
    "plt.grid(color='gray', linestyle='--', linewidth=1)\n",
    "plt.ylabel(\"Puissance\")\n",
    "plt.xlabel(\"Cylindree\")\n",
    "plt.title('Comparative model vs real data - fitting')\n",
    "plt.legend(loc='best')\n",
    "plt.show()\n"
   ]
  },
  {
   "cell_type": "markdown",
   "metadata": {},
   "source": [
    "## 2.3. Methode 2 - statsmodels"
   ]
  },
  {
   "cell_type": "code",
   "execution_count": 6,
   "metadata": {},
   "outputs": [
    {
     "name": "stdout",
     "output_type": "stream",
     "text": [
      "Results summary: \n",
      "                             OLS Regression Results                            \n",
      "==============================================================================\n",
      "Dep. Variable:              puissance   R-squared:                       0.926\n",
      "Model:                            OLS   Adj. R-squared:                  0.924\n",
      "Method:                 Least Squares   F-statistic:                     365.2\n",
      "Date:                Mon, 30 Nov 2020   Prob (F-statistic):           5.62e-18\n",
      "Time:                        20:04:49   Log-Likelihood:                -134.44\n",
      "No. Observations:                  31   AIC:                             272.9\n",
      "Df Residuals:                      29   BIC:                             275.7\n",
      "Df Model:                           1                                         \n",
      "Covariance Type:            nonrobust                                         \n",
      "==============================================================================\n",
      "                 coef    std err          t      P>|t|      [0.025      0.975]\n",
      "------------------------------------------------------------------------------\n",
      "Intercept    -24.1636      7.216     -3.349      0.002     -38.922      -9.406\n",
      "cylindree      0.0579      0.003     19.110      0.000       0.052       0.064\n",
      "==============================================================================\n",
      "Omnibus:                       23.288   Durbin-Watson:                   2.288\n",
      "Prob(Omnibus):                  0.000   Jarque-Bera (JB):               52.439\n",
      "Skew:                           1.519   Prob(JB):                     4.10e-12\n",
      "Kurtosis:                       8.601   Cond. No.                     5.00e+03\n",
      "==============================================================================\n",
      "\n",
      "Warnings:\n",
      "[1] Standard Errors assume that the covariance matrix of the errors is correctly specified.\n",
      "[2] The condition number is large,  5e+03. This might indicate that there are\n",
      "strong multicollinearity or other numerical problems.\n"
     ]
    }
   ],
   "source": [
    "from statsmodels.formula.api import ols\n",
    "\n",
    "model1 = ols('puissance ~ cylindree', data=tit).fit()\n",
    "\n",
    "print(\"Results summary: \\n\", model1.summary())"
   ]
  },
  {
   "cell_type": "markdown",
   "metadata": {},
   "source": [
    "### The result are the same y = 0.0579x - 24.163"
   ]
  },
  {
   "cell_type": "markdown",
   "metadata": {},
   "source": [
    "# 3.  Analysis error Regression multilinaire\n"
   ]
  },
  {
   "cell_type": "code",
   "execution_count": 32,
   "metadata": {},
   "outputs": [
    {
     "name": "stdout",
     "output_type": "stream",
     "text": [
      "    Real Measured Puissance  Predicted Puissance\n",
      "0                        32            24.834515\n",
      "1                        39            33.348376\n",
      "2                        29            27.904138\n",
      "3                        44            56.341592\n",
      "4                        33            45.047695\n",
      "5                        55            52.924465\n",
      "6                       300           322.587980\n",
      "7                       209           137.368065\n",
      "8                        74            68.330499\n",
      "9                        74            77.828956\n",
      "10                      101           101.227594\n",
      "11                       85            90.686623\n",
      "12                       85            90.744541\n",
      "13                       89            91.555385\n",
      "14                       54            56.341592\n",
      "15                       66            56.689097\n",
      "16                      106           116.865298\n",
      "17                       55            47.769814\n",
      "18                      107           147.966953\n",
      "19                      150           147.156110\n",
      "20                      122           120.456178\n",
      "21                       66            91.555385\n",
      "22                      125           120.398261\n",
      "23                       89            91.555385\n",
      "24                       85            90.744541\n",
      "25                       97           117.039050\n",
      "26                       32            13.946040\n",
      "27                      325           292.876342\n",
      "28                       65            67.345903\n",
      "29                       92            91.497467\n",
      "30                      125           119.066160\n",
      "mean squared error:  18.50177554050939\n",
      "mean absoute error:  11.318353116666065\n",
      "R2:  0.9264320565625961\n"
     ]
    }
   ],
   "source": [
    "#There are three primary metrics used to evaluate linear models. \n",
    "#These are: Mean absolute error (MAE), Mean squared error (MSE), or Root mean squared error (RMSE).\n",
    "\n",
    "from sklearn.metrics import mean_squared_error, mean_absolute_error, r2_score\n",
    "\n",
    "\n",
    "Ytrue = tit['puissance']\n",
    "Ypredicted = Yy(results.coef_, results.intercept_,  tit['cylindree'])\n",
    " \n",
    "model_compare = pd.concat([Ytrue, Ypredicted])\n",
    "\n",
    "data = [Ytrue, Ypredicted]\n",
    "\n",
    "headers = [\"Real Measured Puissance\", \"Predicted Puissance\"]\n",
    "\n",
    "df3 = pd.concat(data, axis=1, keys=headers)\n",
    "print(df3)\n",
    "\n",
    "print(\"mean squared error: \", np.sqrt(metrics.mean_squared_error(Ytrue, Ypredicted)))\n",
    "print(\"mean absoute error: \", metrics.mean_absolute_error(Ytrue, Ypredicted))\n",
    "print(\"R2: \", metrics.r2_score(Ytrue, Ypredicted))  #Same Rsquared, near to 1, its a good model.\n",
    "\n",
    "\n"
   ]
  },
  {
   "cell_type": "markdown",
   "metadata": {},
   "source": [
    "# 4.  Regression Multilineaire - Example 1\n"
   ]
  },
  {
   "cell_type": "markdown",
   "metadata": {},
   "source": [
    "## Grafic representation initial data"
   ]
  },
  {
   "cell_type": "code",
   "execution_count": 33,
   "metadata": {},
   "outputs": [
    {
     "data": {
      "text/plain": [
       "Index(['Id', 'type', 'prix', 'cylindree', 'puissance', 'poids', 'conso'], dtype='object')"
      ]
     },
     "execution_count": 33,
     "metadata": {},
     "output_type": "execute_result"
    }
   ],
   "source": [
    "tit.keys()"
   ]
  },
  {
   "cell_type": "code",
   "execution_count": 34,
   "metadata": {},
   "outputs": [],
   "source": [
    "x1 = tit['cylindree']\n",
    "x2 = tit['conso']\n",
    "y = tit['puissance']"
   ]
  },
  {
   "cell_type": "markdown",
   "metadata": {},
   "source": [
    "## Model"
   ]
  },
  {
   "cell_type": "code",
   "execution_count": 35,
   "metadata": {},
   "outputs": [
    {
     "name": "stdout",
     "output_type": "stream",
     "text": [
      "                            OLS Regression Results                            \n",
      "==============================================================================\n",
      "Dep. Variable:                      y   R-squared:                       0.946\n",
      "Model:                            OLS   Adj. R-squared:                  0.942\n",
      "Method:                 Least Squares   F-statistic:                     243.6\n",
      "Date:                Mon, 30 Nov 2020   Prob (F-statistic):           1.97e-18\n",
      "Time:                        20:32:37   Log-Likelihood:                -129.75\n",
      "No. Observations:                  31   AIC:                             265.5\n",
      "Df Residuals:                      28   BIC:                             269.8\n",
      "Df Model:                           2                                         \n",
      "Covariance Type:            nonrobust                                         \n",
      "==============================================================================\n",
      "                 coef    std err          t      P>|t|      [0.025      0.975]\n",
      "------------------------------------------------------------------------------\n",
      "Intercept    -54.8222     11.612     -4.721      0.000     -78.607     -31.037\n",
      "x1             0.0347      0.008      4.433      0.000       0.019       0.051\n",
      "x2             7.9570      2.529      3.146      0.004       2.776      13.138\n",
      "==============================================================================\n",
      "Omnibus:                        7.269   Durbin-Watson:                   1.909\n",
      "Prob(Omnibus):                  0.026   Jarque-Bera (JB):                8.157\n",
      "Skew:                           0.473   Prob(JB):                       0.0169\n",
      "Kurtosis:                       5.328   Cond. No.                     9.35e+03\n",
      "==============================================================================\n",
      "\n",
      "Warnings:\n",
      "[1] Standard Errors assume that the covariance matrix of the errors is correctly specified.\n",
      "[2] The condition number is large, 9.35e+03. This might indicate that there are\n",
      "strong multicollinearity or other numerical problems.\n"
     ]
    }
   ],
   "source": [
    "#Model\n",
    "\n",
    "modelMulti = ols('y ~ x1 + x2', data=tit).fit()\n",
    "print(modelMulti.summary())"
   ]
  },
  {
   "cell_type": "markdown",
   "metadata": {},
   "source": [
    "R-squared = 0.946 cest un tres bon niveau de confiance pour le model.\n"
   ]
  },
  {
   "cell_type": "code",
   "execution_count": 36,
   "metadata": {},
   "outputs": [
    {
     "data": {
      "text/plain": [
       "Intercept   -54.822171\n",
       "x1            0.034728\n",
       "x2            7.956969\n",
       "dtype: float64"
      ]
     },
     "execution_count": 36,
     "metadata": {},
     "output_type": "execute_result"
    }
   ],
   "source": [
    "# Extract Betas\n",
    "    \n",
    "modelMulti.params"
   ]
  },
  {
   "cell_type": "code",
   "execution_count": 37,
   "metadata": {},
   "outputs": [
    {
     "data": {
      "text/plain": [
       "280.0253496226268"
      ]
     },
     "execution_count": 37,
     "metadata": {},
     "output_type": "execute_result"
    }
   ],
   "source": [
    "# Extraer el  σ2  estimado:\n",
    "    \n",
    "modelMulti.mse_resid"
   ]
  },
  {
   "cell_type": "markdown",
   "metadata": {},
   "source": [
    "# y = -54 + 7.9569 x1 + 0.034 x2 "
   ]
  },
  {
   "cell_type": "markdown",
   "metadata": {},
   "source": [
    "## Prediction"
   ]
  },
  {
   "cell_type": "markdown",
   "metadata": {},
   "source": [
    "## Comparative numerique model vs reel."
   ]
  },
  {
   "cell_type": "code",
   "execution_count": 38,
   "metadata": {
    "scrolled": true
   },
   "outputs": [
    {
     "data": {
      "text/html": [
       "<div>\n",
       "<style scoped>\n",
       "    .dataframe tbody tr th:only-of-type {\n",
       "        vertical-align: middle;\n",
       "    }\n",
       "\n",
       "    .dataframe tbody tr th {\n",
       "        vertical-align: top;\n",
       "    }\n",
       "\n",
       "    .dataframe thead th {\n",
       "        text-align: right;\n",
       "    }\n",
       "</style>\n",
       "<table border=\"1\" class=\"dataframe\">\n",
       "  <thead>\n",
       "    <tr style=\"text-align: right;\">\n",
       "      <th></th>\n",
       "      <th>Id</th>\n",
       "      <th>type</th>\n",
       "      <th>prix</th>\n",
       "      <th>cylindree</th>\n",
       "      <th>puissance</th>\n",
       "      <th>poids</th>\n",
       "      <th>conso</th>\n",
       "      <th>Puissance model predicted</th>\n",
       "    </tr>\n",
       "  </thead>\n",
       "  <tbody>\n",
       "    <tr>\n",
       "      <th>0</th>\n",
       "      <td>1</td>\n",
       "      <td>Daihatsu Cuore</td>\n",
       "      <td>11600</td>\n",
       "      <td>846</td>\n",
       "      <td>32</td>\n",
       "      <td>650</td>\n",
       "      <td>5.7</td>\n",
       "      <td>19.912186</td>\n",
       "    </tr>\n",
       "    <tr>\n",
       "      <th>1</th>\n",
       "      <td>2</td>\n",
       "      <td>Suzuki Swift 1.0 GLS</td>\n",
       "      <td>12490</td>\n",
       "      <td>993</td>\n",
       "      <td>39</td>\n",
       "      <td>790</td>\n",
       "      <td>5.8</td>\n",
       "      <td>25.812855</td>\n",
       "    </tr>\n",
       "    <tr>\n",
       "      <th>2</th>\n",
       "      <td>3</td>\n",
       "      <td>Fiat Panda Mambo L</td>\n",
       "      <td>10450</td>\n",
       "      <td>899</td>\n",
       "      <td>29</td>\n",
       "      <td>730</td>\n",
       "      <td>6.1</td>\n",
       "      <td>24.935542</td>\n",
       "    </tr>\n",
       "    <tr>\n",
       "      <th>3</th>\n",
       "      <td>4</td>\n",
       "      <td>VW Polo 1.4 60</td>\n",
       "      <td>17140</td>\n",
       "      <td>1390</td>\n",
       "      <td>44</td>\n",
       "      <td>955</td>\n",
       "      <td>6.5</td>\n",
       "      <td>45.169631</td>\n",
       "    </tr>\n",
       "    <tr>\n",
       "      <th>4</th>\n",
       "      <td>5</td>\n",
       "      <td>Opel Corsa 1.2i Eco</td>\n",
       "      <td>14825</td>\n",
       "      <td>1195</td>\n",
       "      <td>33</td>\n",
       "      <td>895</td>\n",
       "      <td>6.8</td>\n",
       "      <td>40.784820</td>\n",
       "    </tr>\n",
       "    <tr>\n",
       "      <th>5</th>\n",
       "      <td>6</td>\n",
       "      <td>Toyota Corolla</td>\n",
       "      <td>19490</td>\n",
       "      <td>1331</td>\n",
       "      <td>55</td>\n",
       "      <td>1010</td>\n",
       "      <td>7.1</td>\n",
       "      <td>47.894878</td>\n",
       "    </tr>\n",
       "    <tr>\n",
       "      <th>6</th>\n",
       "      <td>7</td>\n",
       "      <td>Mercedes S 600</td>\n",
       "      <td>183900</td>\n",
       "      <td>5987</td>\n",
       "      <td>300</td>\n",
       "      <td>2250</td>\n",
       "      <td>18.7</td>\n",
       "      <td>301.887896</td>\n",
       "    </tr>\n",
       "    <tr>\n",
       "      <th>7</th>\n",
       "      <td>8</td>\n",
       "      <td>Maserati Ghibli GT</td>\n",
       "      <td>92500</td>\n",
       "      <td>2789</td>\n",
       "      <td>209</td>\n",
       "      <td>1485</td>\n",
       "      <td>14.5</td>\n",
       "      <td>157.409436</td>\n",
       "    </tr>\n",
       "    <tr>\n",
       "      <th>8</th>\n",
       "      <td>9</td>\n",
       "      <td>Opel Astra 1.6i 16V</td>\n",
       "      <td>25000</td>\n",
       "      <td>1597</td>\n",
       "      <td>74</td>\n",
       "      <td>1080</td>\n",
       "      <td>7.4</td>\n",
       "      <td>59.519537</td>\n",
       "    </tr>\n",
       "    <tr>\n",
       "      <th>9</th>\n",
       "      <td>10</td>\n",
       "      <td>Peugeot 306 XS 108</td>\n",
       "      <td>22350</td>\n",
       "      <td>1761</td>\n",
       "      <td>74</td>\n",
       "      <td>1100</td>\n",
       "      <td>9.0</td>\n",
       "      <td>77.946030</td>\n",
       "    </tr>\n",
       "  </tbody>\n",
       "</table>\n",
       "</div>"
      ],
      "text/plain": [
       "   Id                  type    prix  cylindree  puissance  poids  conso  \\\n",
       "0   1        Daihatsu Cuore   11600        846         32    650    5.7   \n",
       "1   2  Suzuki Swift 1.0 GLS   12490        993         39    790    5.8   \n",
       "2   3    Fiat Panda Mambo L   10450        899         29    730    6.1   \n",
       "3   4        VW Polo 1.4 60   17140       1390         44    955    6.5   \n",
       "4   5   Opel Corsa 1.2i Eco   14825       1195         33    895    6.8   \n",
       "5   6        Toyota Corolla   19490       1331         55   1010    7.1   \n",
       "6   7        Mercedes S 600  183900       5987        300   2250   18.7   \n",
       "7   8    Maserati Ghibli GT   92500       2789        209   1485   14.5   \n",
       "8   9   Opel Astra 1.6i 16V   25000       1597         74   1080    7.4   \n",
       "9  10    Peugeot 306 XS 108   22350       1761         74   1100    9.0   \n",
       "\n",
       "   Puissance model predicted  \n",
       "0                  19.912186  \n",
       "1                  25.812855  \n",
       "2                  24.935542  \n",
       "3                  45.169631  \n",
       "4                  40.784820  \n",
       "5                  47.894878  \n",
       "6                 301.887896  \n",
       "7                 157.409436  \n",
       "8                  59.519537  \n",
       "9                  77.946030  "
      ]
     },
     "execution_count": 38,
     "metadata": {},
     "output_type": "execute_result"
    }
   ],
   "source": [
    "\n",
    "XX = tit[['conso','cylindree']]\n",
    "yModel = modelMulti.predict(XX)\n",
    "\n",
    "tit['Puissance model predicted'] = yModel\n",
    "\n",
    "tit.head(10)"
   ]
  },
  {
   "cell_type": "markdown",
   "metadata": {},
   "source": [
    "## Grafic Representation - Different views"
   ]
  },
  {
   "cell_type": "code",
   "execution_count": 42,
   "metadata": {},
   "outputs": [
    {
     "data": {
      "text/plain": [
       "Text(0.5, 0, 'puissance (HP)')"
      ]
     },
     "execution_count": 42,
     "metadata": {},
     "output_type": "execute_result"
    },
    {
     "data": {
      "image/png": "[encoded data removed]",
      "text/plain": [
       "<Figure size 576x432 with 1 Axes>"
      ]
     },
     "metadata": {
      "needs_background": "light"
     },
     "output_type": "display_data"
    }
   ],
   "source": [
    "from mpl_toolkits.mplot3d import Axes3D\n",
    "\n",
    "fig = plt.figure(figsize=(8, 6))   # Ajustes del gráfico\n",
    "ax = Axes3D(fig)\n",
    "ax.scatter(x1, x2, y, marker='*', c='r')\n",
    "ax.scatter(x1, x2, yModel, marker='*', c='b')\n",
    "ax.set_xlabel('conso (Lt)')        #  eje X\n",
    "ax.set_ylabel('cylindree (cc3)')   #  eje Y\n",
    "ax.set_zlabel('puissance (HP)')\n"
   ]
  },
  {
   "cell_type": "markdown",
   "metadata": {},
   "source": [
    "Effectivement on peut constater que les donnes reels (rouge)  sont tres proche a les donnes de puissance obtenus avec le modele.\n",
    "\n",
    "On peut regarder differentment la graphique 3D pour evaluer respect a chaque variable.\n",
    "\n",
    "Cest impresionant que le modele fait approche meme de donnes \"bizarre\", mais "
   ]
  },
  {
   "cell_type": "code",
   "execution_count": 43,
   "metadata": {},
   "outputs": [
    {
     "data": {
      "image/png": "[encoded data removed]",
      "text/plain": [
       "<Figure size 576x432 with 1 Axes>"
      ]
     },
     "metadata": {
      "needs_background": "light"
     },
     "output_type": "display_data"
    }
   ],
   "source": [
    "#View\n",
    "fig = plt.figure(figsize=(8, 6))   # Ajustes del gráfico\n",
    "ax = Axes3D(fig)\n",
    "ax.scatter(x1, x2, y, marker='*', c='r')\n",
    "ax.scatter(x1, x2, yModel, marker='*', c='b')\n",
    "ax.set_xlabel('conso (Lt)')        #  eje X\n",
    "ax.set_ylabel('cylindree (cc3)')   #  eje Y\n",
    "ax.set_zlabel('puissance (HP)')\n",
    "\n",
    "#View\n",
    "ax.view_init(elev=0, azim=80)"
   ]
  },
  {
   "cell_type": "markdown",
   "metadata": {},
   "source": [
    "Graphiquement il semble avoir bonne correlation entre variables Puissance  et Consonmme,comportement verifiable avec le coefficient de correlation (0,96)."
   ]
  },
  {
   "cell_type": "code",
   "execution_count": 41,
   "metadata": {
    "scrolled": false
   },
   "outputs": [
    {
     "name": "stdout",
     "output_type": "stream",
     "text": [
      "             Id  prix  cylindree  puissance  poids  conso\n",
      "Id         1.00  0.20       0.24       0.22   0.42   0.37\n",
      "prix       0.20  1.00       0.90       0.94   0.63   0.89\n",
      "cylindree  0.24  0.90       1.00       0.96   0.84   0.94\n",
      "puissance  0.22  0.94       0.96       1.00   0.78   0.95\n",
      "poids      0.42  0.63       0.84       0.78   1.00   0.86\n",
      "conso      0.37  0.89       0.94       0.95   0.86   1.00\n"
     ]
    }
   ],
   "source": [
    "matrice_correlation = tit.loc[:, tit.columns != 'Puissance model predicted'].corr().round(2)\n",
    "print(matrice_correlation)"
   ]
  },
  {
   "cell_type": "markdown",
   "metadata": {},
   "source": [
    "# 5.  Regression Multilineaire - Example 2\n"
   ]
  },
  {
   "cell_type": "code",
   "execution_count": 173,
   "metadata": {},
   "outputs": [],
   "source": [
    "from sklearn import datasets, linear_model"
   ]
  },
  {
   "cell_type": "markdown",
   "metadata": {},
   "source": [
    "## Grafic representation initial data"
   ]
  },
  {
   "cell_type": "code",
   "execution_count": 174,
   "metadata": {},
   "outputs": [
    {
     "data": {
      "text/plain": [
       "Index(['Id', 'type', 'prix', 'cylindree', 'puissance', 'poids', 'conso',\n",
       "       'Puissance model predicted'],\n",
       "      dtype='object')"
      ]
     },
     "execution_count": 174,
     "metadata": {},
     "output_type": "execute_result"
    }
   ],
   "source": [
    "tit.keys()"
   ]
  },
  {
   "cell_type": "code",
   "execution_count": 175,
   "metadata": {},
   "outputs": [],
   "source": [
    "# 'conso ~ cylindree + puissance + poids'\n",
    "x1 = tit['cylindree']\n",
    "x2 = tit['puissance']\n",
    "x3 = tit['poids']\n",
    "y = tit['conso']"
   ]
  },
  {
   "cell_type": "markdown",
   "metadata": {},
   "source": [
    "## Model"
   ]
  },
  {
   "cell_type": "code",
   "execution_count": 176,
   "metadata": {},
   "outputs": [
    {
     "name": "stdout",
     "output_type": "stream",
     "text": [
      "                            OLS Regression Results                            \n",
      "==============================================================================\n",
      "Dep. Variable:                      y   R-squared:                       0.945\n",
      "Model:                            OLS   Adj. R-squared:                  0.939\n",
      "Method:                 Least Squares   F-statistic:                     154.6\n",
      "Date:                Wed, 25 Nov 2020   Prob (F-statistic):           4.10e-17\n",
      "Time:                        00:25:42   Log-Likelihood:                -37.964\n",
      "No. Observations:                  31   AIC:                             83.93\n",
      "Df Residuals:                      27   BIC:                             89.66\n",
      "Df Model:                           3                                         \n",
      "Covariance Type:            nonrobust                                         \n",
      "==============================================================================\n",
      "                 coef    std err          t      P>|t|      [0.025      0.975]\n",
      "------------------------------------------------------------------------------\n",
      "Intercept      2.5486      0.675      3.774      0.001       1.163       3.934\n",
      "x1            -0.0002      0.001     -0.273      0.787      -0.001       0.001\n",
      "x2             0.0388      0.009      4.455      0.000       0.021       0.057\n",
      "x3             0.0032      0.001      3.813      0.001       0.001       0.005\n",
      "==============================================================================\n",
      "Omnibus:                        1.829   Durbin-Watson:                   1.519\n",
      "Prob(Omnibus):                  0.401   Jarque-Bera (JB):                1.096\n",
      "Skew:                          -0.026   Prob(JB):                        0.578\n",
      "Kurtosis:                       2.080   Cond. No.                     1.15e+04\n",
      "==============================================================================\n",
      "\n",
      "Warnings:\n",
      "[1] Standard Errors assume that the covariance matrix of the errors is correctly specified.\n",
      "[2] The condition number is large, 1.15e+04. This might indicate that there are\n",
      "strong multicollinearity or other numerical problems.\n"
     ]
    }
   ],
   "source": [
    "#Model\n",
    "\n",
    "modelMulti = ols('y ~ x1 + x2 + x3', data=tit).fit()\n",
    "print(modelMulti.summary())"
   ]
  },
  {
   "cell_type": "code",
   "execution_count": 144,
   "metadata": {},
   "outputs": [],
   "source": [
    "# R-squared = 0.945 cest aussi un tres bon niveau de confiance pour le model."
   ]
  },
  {
   "cell_type": "code",
   "execution_count": 44,
   "metadata": {},
   "outputs": [
    {
     "data": {
      "text/plain": [
       "Intercept   -54.822171\n",
       "x1            0.034728\n",
       "x2            7.956969\n",
       "dtype: float64"
      ]
     },
     "execution_count": 44,
     "metadata": {},
     "output_type": "execute_result"
    }
   ],
   "source": [
    "# Extract Betas\n",
    "    \n",
    "modelMulti.params"
   ]
  },
  {
   "cell_type": "code",
   "execution_count": 45,
   "metadata": {},
   "outputs": [
    {
     "data": {
      "text/plain": [
       "280.0253496226268"
      ]
     },
     "execution_count": 45,
     "metadata": {},
     "output_type": "execute_result"
    }
   ],
   "source": [
    "# Extraer el  σ2  estimado:\n",
    "    \n",
    "modelMulti.mse_resid"
   ]
  },
  {
   "cell_type": "markdown",
   "metadata": {},
   "source": [
    "# y = 2.548 - 0.000164 x1 + 0.038791 x2 + 0.003171 x3"
   ]
  },
  {
   "cell_type": "markdown",
   "metadata": {},
   "source": [
    "## Prediction"
   ]
  },
  {
   "cell_type": "markdown",
   "metadata": {},
   "source": [
    "## Comparative numerique model vs reel."
   ]
  },
  {
   "cell_type": "code",
   "execution_count": 46,
   "metadata": {
    "scrolled": true
   },
   "outputs": [
    {
     "data": {
      "text/html": [
       "<div>\n",
       "<style scoped>\n",
       "    .dataframe tbody tr th:only-of-type {\n",
       "        vertical-align: middle;\n",
       "    }\n",
       "\n",
       "    .dataframe tbody tr th {\n",
       "        vertical-align: top;\n",
       "    }\n",
       "\n",
       "    .dataframe thead th {\n",
       "        text-align: right;\n",
       "    }\n",
       "</style>\n",
       "<table border=\"1\" class=\"dataframe\">\n",
       "  <thead>\n",
       "    <tr style=\"text-align: right;\">\n",
       "      <th></th>\n",
       "      <th>cylindree</th>\n",
       "      <th>puissance</th>\n",
       "      <th>poids</th>\n",
       "      <th>conso</th>\n",
       "      <th>Conso model predicted</th>\n",
       "    </tr>\n",
       "  </thead>\n",
       "  <tbody>\n",
       "    <tr>\n",
       "      <th>0</th>\n",
       "      <td>846</td>\n",
       "      <td>32</td>\n",
       "      <td>650</td>\n",
       "      <td>5.7</td>\n",
       "      <td>19.912186</td>\n",
       "    </tr>\n",
       "    <tr>\n",
       "      <th>1</th>\n",
       "      <td>993</td>\n",
       "      <td>39</td>\n",
       "      <td>790</td>\n",
       "      <td>5.8</td>\n",
       "      <td>25.812855</td>\n",
       "    </tr>\n",
       "    <tr>\n",
       "      <th>2</th>\n",
       "      <td>899</td>\n",
       "      <td>29</td>\n",
       "      <td>730</td>\n",
       "      <td>6.1</td>\n",
       "      <td>24.935542</td>\n",
       "    </tr>\n",
       "    <tr>\n",
       "      <th>3</th>\n",
       "      <td>1390</td>\n",
       "      <td>44</td>\n",
       "      <td>955</td>\n",
       "      <td>6.5</td>\n",
       "      <td>45.169631</td>\n",
       "    </tr>\n",
       "    <tr>\n",
       "      <th>4</th>\n",
       "      <td>1195</td>\n",
       "      <td>33</td>\n",
       "      <td>895</td>\n",
       "      <td>6.8</td>\n",
       "      <td>40.784820</td>\n",
       "    </tr>\n",
       "    <tr>\n",
       "      <th>5</th>\n",
       "      <td>1331</td>\n",
       "      <td>55</td>\n",
       "      <td>1010</td>\n",
       "      <td>7.1</td>\n",
       "      <td>47.894878</td>\n",
       "    </tr>\n",
       "    <tr>\n",
       "      <th>6</th>\n",
       "      <td>5987</td>\n",
       "      <td>300</td>\n",
       "      <td>2250</td>\n",
       "      <td>18.7</td>\n",
       "      <td>301.887896</td>\n",
       "    </tr>\n",
       "    <tr>\n",
       "      <th>7</th>\n",
       "      <td>2789</td>\n",
       "      <td>209</td>\n",
       "      <td>1485</td>\n",
       "      <td>14.5</td>\n",
       "      <td>157.409436</td>\n",
       "    </tr>\n",
       "    <tr>\n",
       "      <th>8</th>\n",
       "      <td>1597</td>\n",
       "      <td>74</td>\n",
       "      <td>1080</td>\n",
       "      <td>7.4</td>\n",
       "      <td>59.519537</td>\n",
       "    </tr>\n",
       "    <tr>\n",
       "      <th>9</th>\n",
       "      <td>1761</td>\n",
       "      <td>74</td>\n",
       "      <td>1100</td>\n",
       "      <td>9.0</td>\n",
       "      <td>77.946030</td>\n",
       "    </tr>\n",
       "  </tbody>\n",
       "</table>\n",
       "</div>"
      ],
      "text/plain": [
       "   cylindree  puissance  poids  conso  Conso model predicted\n",
       "0        846         32    650    5.7              19.912186\n",
       "1        993         39    790    5.8              25.812855\n",
       "2        899         29    730    6.1              24.935542\n",
       "3       1390         44    955    6.5              45.169631\n",
       "4       1195         33    895    6.8              40.784820\n",
       "5       1331         55   1010    7.1              47.894878\n",
       "6       5987        300   2250   18.7             301.887896\n",
       "7       2789        209   1485   14.5             157.409436\n",
       "8       1597         74   1080    7.4              59.519537\n",
       "9       1761         74   1100    9.0              77.946030"
      ]
     },
     "execution_count": 46,
     "metadata": {},
     "output_type": "execute_result"
    }
   ],
   "source": [
    "# 'conso ~ cylindree + puissance + poids'\n",
    "XX = tit[['cylindree', 'puissance', 'poids']]\n",
    "yModel = modelMulti.predict(XX)\n",
    "\n",
    "tit['Conso model predicted'] = yModel\n",
    "\n",
    "tit[['cylindree', 'puissance', 'poids', 'conso', 'Conso model predicted']].head(10)"
   ]
  },
  {
   "cell_type": "markdown",
   "metadata": {},
   "source": [
    "Pas mal, tres proche."
   ]
  },
  {
   "cell_type": "markdown",
   "metadata": {},
   "source": [
    "## 5.1. Analysis de error"
   ]
  },
  {
   "cell_type": "code",
   "execution_count": 47,
   "metadata": {},
   "outputs": [
    {
     "name": "stdout",
     "output_type": "stream",
     "text": [
      "    Real Measured Conso  Predicted Conso\n",
      "0                    32        19.912186\n",
      "1                    39        25.812855\n",
      "2                    29        24.935542\n",
      "3                    44        45.169631\n",
      "4                    33        40.784820\n",
      "5                    55        47.894878\n",
      "6                   300       301.887896\n",
      "7                   209       157.409436\n",
      "8                    74        59.519537\n",
      "9                    74        77.946030\n",
      "10                  101       113.459837\n",
      "11                   85        89.634064\n",
      "12                   85        89.668792\n",
      "13                   89        84.585102\n",
      "14                   54        61.879265\n",
      "15                   66        54.926360\n",
      "16                  106       115.675045\n",
      "17                   55        40.825628\n",
      "18                  107       141.485093\n",
      "19                  150       142.590299\n",
      "20                  122       117.828163\n",
      "21                   66        75.036740\n",
      "22                  125       121.771919\n",
      "23                   89       100.499039\n",
      "24                   85       106.378426\n",
      "25                   97       131.693165\n",
      "26                   32        22.136043\n",
      "27                  325       304.760703\n",
      "28                   65        74.047407\n",
      "29                   92        87.733162\n",
      "30                  125       132.112938\n",
      "mean squared error:  15.90365122353329\n",
      "mean absoute error:  11.700528288362351\n",
      "R2:  0.9456429992686175\n"
     ]
    }
   ],
   "source": [
    "\n",
    "from sklearn.metrics import mean_squared_error, mean_absolute_error, r2_score\n",
    "\n",
    "\n",
    "YYtrue = tit['puissance']\n",
    "YYpredicted = modelMulti.predict(XX)\n",
    " \n",
    "model_compare = pd.concat([YYtrue, YYpredicted])\n",
    "\n",
    "dataMulti = [YYtrue, YYpredicted]\n",
    "\n",
    "headers = [\"Real Measured Conso\", \"Predicted Conso\"]\n",
    "\n",
    "df4 = pd.concat(dataMulti, axis=1, keys=headers)\n",
    "print(df4)\n",
    "\n",
    "print(\"mean squared error: \", np.sqrt(metrics.mean_squared_error(YYtrue, YYpredicted)))\n",
    "print(\"mean absoute error: \", metrics.mean_absolute_error(YYtrue, YYpredicted))\n",
    "print(\"R2: \", metrics.r2_score(YYtrue, YYpredicted))  #Same Rsquared, near to 1, its a good model.\n"
   ]
  },
  {
   "cell_type": "markdown",
   "metadata": {},
   "source": [
    "R2 = 0,945 its a good indicator for a good model fit --> Coeficient de determination"
   ]
  },
  {
   "cell_type": "code",
   "execution_count": null,
   "metadata": {},
   "outputs": [],
   "source": []
  }
 ],
 "metadata": {
  "kernelspec": {
   "display_name": "Python 3",
   "language": "python",
   "name": "python3"
  },
  "language_info": {
   "codemirror_mode": {
    "name": "ipython",
    "version": 3
   },
   "file_extension": ".py",
   "mimetype": "text/x-python",
   "name": "python",
   "nbconvert_exporter": "python",
   "pygments_lexer": "ipython3",
   "version": "3.7.6"
  }
 },
 "nbformat": 4,
 "nbformat_minor": 4
}
