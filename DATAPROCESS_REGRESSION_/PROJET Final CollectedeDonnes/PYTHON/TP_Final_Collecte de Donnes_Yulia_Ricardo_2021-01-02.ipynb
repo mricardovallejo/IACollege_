{
 "cells": [
  {
   "cell_type": "markdown",
   "metadata": {},
   "source": [
    "## TP FINAL - Stockage de donnes\n",
    "\n",
    "Authors:  \n",
    "- Yulia Kalugina\n",
    "- Ricardo Vallejo      "
   ]
  },
  {
   "cell_type": "markdown",
   "metadata": {},
   "source": [
    "# Python (Importation et Manipulation de données)"
   ]
  },
  {
   "cell_type": "markdown",
   "metadata": {},
   "source": [
    "## 1.1. Aller sur le site data.gov https://www.data.gov/ , charger et fusionner les jeux de données\n",
    "- Chicago Park District: Movies in the Parks 2015\n",
    "- Chicago Park District: Movies in the Parks 2016\n",
    "- Chicago Park District: Movies in the Parks 2017\n",
    "### Calculer le nombre de lignes de votre table de données résultante (dataframe) (avec les fichiers fusionnés) sans et avec redondances des données (doublons s ils existent). Afficher des statistiques sur ces données. Préciser toutes les vérifications que vous avez effectuées sans faire de nettoyage sur les données.\n"
   ]
  },
  {
   "cell_type": "markdown",
   "metadata": {},
   "source": [
    "### Chargement des jeux de donnees"
   ]
  },
  {
   "cell_type": "code",
   "execution_count": 2,
   "metadata": {},
   "outputs": [
    {
     "data": {
      "text/html": [
       "<div>\n",
       "<style scoped>\n",
       "    .dataframe tbody tr th:only-of-type {\n",
       "        vertical-align: middle;\n",
       "    }\n",
       "\n",
       "    .dataframe tbody tr th {\n",
       "        vertical-align: top;\n",
       "    }\n",
       "\n",
       "    .dataframe thead th {\n",
       "        text-align: right;\n",
       "    }\n",
       "</style>\n",
       "<table border=\"1\" class=\"dataframe\">\n",
       "  <thead>\n",
       "    <tr style=\"text-align: right;\">\n",
       "      <th></th>\n",
       "      <th>EventName</th>\n",
       "      <th>MovieName</th>\n",
       "      <th>ParkName</th>\n",
       "      <th>ZipCode</th>\n",
       "      <th>Phone</th>\n",
       "      <th>StartDate</th>\n",
       "      <th>EndDate</th>\n",
       "      <th>ContactName</th>\n",
       "      <th>ContactEmail</th>\n",
       "      <th>EventUrl</th>\n",
       "      <th>ParkUrl</th>\n",
       "      <th>Community</th>\n",
       "      <th>MovieClosedCaption</th>\n",
       "      <th>MovieRating</th>\n",
       "      <th>Location 1</th>\n",
       "    </tr>\n",
       "  </thead>\n",
       "  <tbody>\n",
       "    <tr>\n",
       "      <th>0</th>\n",
       "      <td>Night Out: Movies in the Parks at Lindblom</td>\n",
       "      <td>Annie (2014)</td>\n",
       "      <td>Lindblom Park</td>\n",
       "      <td>60636.0</td>\n",
       "      <td>(312) 747-6443</td>\n",
       "      <td>08/06/2015 08:30:00 PM</td>\n",
       "      <td>08/06/2015 10:30:00 PM</td>\n",
       "      <td>Maceo Johnson</td>\n",
       "      <td>maceo.johnson@chicagoparkdistrict.com</td>\n",
       "      <td>http://www.chicagoparkdistrict.com/events/Nigh...</td>\n",
       "      <td>http://www.chicagoparkdistrict.com/parks/Lindb...</td>\n",
       "      <td>Englewood, West Englewood</td>\n",
       "      <td>NaN</td>\n",
       "      <td>PG</td>\n",
       "      <td>6054 S. Damen Ave. Chicago IL 60636\\nChicago, ...</td>\n",
       "    </tr>\n",
       "    <tr>\n",
       "      <th>1</th>\n",
       "      <td>Night Out: Movies in the Parks at Wicker</td>\n",
       "      <td>Night at the Museum</td>\n",
       "      <td>Wicker Park</td>\n",
       "      <td>60622.0</td>\n",
       "      <td>(312) 742-7553</td>\n",
       "      <td>06/18/2015 08:00:00 PM</td>\n",
       "      <td>06/18/2015 09:48:00 PM</td>\n",
       "      <td>Claribel \"Clare\" Rodriguez</td>\n",
       "      <td>claribel.rodriguez@chicagoparkdistrict.com</td>\n",
       "      <td>http://www.chicagoparkdistrict.com/events/Nigh...</td>\n",
       "      <td>http://www.chicagoparkdistrict.com/parks/Wicke...</td>\n",
       "      <td>West Town</td>\n",
       "      <td>Yes</td>\n",
       "      <td>PG</td>\n",
       "      <td>1425 N. Damen Avenue Chicago IL 60622\\nChicago...</td>\n",
       "    </tr>\n",
       "  </tbody>\n",
       "</table>\n",
       "</div>"
      ],
      "text/plain": [
       "                                   EventName              MovieName  \\\n",
       "0  Night Out: Movies in the Parks at Lindblom          Annie (2014)   \n",
       "1    Night Out: Movies in the Parks at Wicker  Night at the Museum    \n",
       "\n",
       "        ParkName   ZipCode           Phone               StartDate  \\\n",
       "0  Lindblom Park   60636.0  (312) 747-6443  08/06/2015 08:30:00 PM   \n",
       "1    Wicker Park   60622.0  (312) 742-7553  06/18/2015 08:00:00 PM   \n",
       "\n",
       "                  EndDate                 ContactName  \\\n",
       "0  08/06/2015 10:30:00 PM               Maceo Johnson   \n",
       "1  06/18/2015 09:48:00 PM  Claribel \"Clare\" Rodriguez   \n",
       "\n",
       "                                 ContactEmail  \\\n",
       "0       maceo.johnson@chicagoparkdistrict.com   \n",
       "1  claribel.rodriguez@chicagoparkdistrict.com   \n",
       "\n",
       "                                            EventUrl  \\\n",
       "0  http://www.chicagoparkdistrict.com/events/Nigh...   \n",
       "1  http://www.chicagoparkdistrict.com/events/Nigh...   \n",
       "\n",
       "                                             ParkUrl  \\\n",
       "0  http://www.chicagoparkdistrict.com/parks/Lindb...   \n",
       "1  http://www.chicagoparkdistrict.com/parks/Wicke...   \n",
       "\n",
       "                   Community  MovieClosedCaption  MovieRating  \\\n",
       "0  Englewood, West Englewood                 NaN           PG   \n",
       "1                  West Town                 Yes           PG   \n",
       "\n",
       "                                          Location 1  \n",
       "0  6054 S. Damen Ave. Chicago IL 60636\\nChicago, ...  \n",
       "1  1425 N. Damen Avenue Chicago IL 60622\\nChicago...  "
      ]
     },
     "execution_count": 2,
     "metadata": {},
     "output_type": "execute_result"
    }
   ],
   "source": [
    "import pandas as pd\n",
    "import numpy as np\n",
    "import requests\n",
    "\n",
    "df1 = pd.read_csv(\"data_projet/Chicago_Park_District__Movies_in_the_Parks_2015.csv\",header =0) #Reading the data from sheet cars\n",
    "df1.head(2)\n"
   ]
  },
  {
   "cell_type": "code",
   "execution_count": 3,
   "metadata": {},
   "outputs": [
    {
     "data": {
      "text/plain": [
       "(237, 15)"
      ]
     },
     "execution_count": 3,
     "metadata": {},
     "output_type": "execute_result"
    }
   ],
   "source": [
    "df1.shape"
   ]
  },
  {
   "cell_type": "code",
   "execution_count": 4,
   "metadata": {},
   "outputs": [
    {
     "data": {
      "text/html": [
       "<div>\n",
       "<style scoped>\n",
       "    .dataframe tbody tr th:only-of-type {\n",
       "        vertical-align: middle;\n",
       "    }\n",
       "\n",
       "    .dataframe tbody tr th {\n",
       "        vertical-align: top;\n",
       "    }\n",
       "\n",
       "    .dataframe thead th {\n",
       "        text-align: right;\n",
       "    }\n",
       "</style>\n",
       "<table border=\"1\" class=\"dataframe\">\n",
       "  <thead>\n",
       "    <tr style=\"text-align: right;\">\n",
       "      <th></th>\n",
       "      <th>EventName</th>\n",
       "      <th>MovieName</th>\n",
       "      <th>MovieClosedCaption</th>\n",
       "      <th>MovieRating</th>\n",
       "      <th>Location</th>\n",
       "      <th>Location Notes</th>\n",
       "      <th>StartDate</th>\n",
       "      <th>EndDate</th>\n",
       "      <th>Zipcode</th>\n",
       "      <th>Phone</th>\n",
       "      <th>ContactName</th>\n",
       "      <th>ContactEmail</th>\n",
       "      <th>EventUrl</th>\n",
       "      <th>ParkUrl</th>\n",
       "      <th>Location 1</th>\n",
       "    </tr>\n",
       "  </thead>\n",
       "  <tbody>\n",
       "    <tr>\n",
       "      <th>0</th>\n",
       "      <td>Movies in the Parks at Rosenblum</td>\n",
       "      <td>The Color Purple</td>\n",
       "      <td>Yes</td>\n",
       "      <td>PG-13</td>\n",
       "      <td>Rosenblum Park</td>\n",
       "      <td>NaN</td>\n",
       "      <td>NaN</td>\n",
       "      <td>NaN</td>\n",
       "      <td>60649</td>\n",
       "      <td>(312) 747-7661</td>\n",
       "      <td>TBD</td>\n",
       "      <td>NaN</td>\n",
       "      <td>NaN</td>\n",
       "      <td>NaN</td>\n",
       "      <td>7547 S. Euclid Ave.\\nChicago, IL</td>\n",
       "    </tr>\n",
       "    <tr>\n",
       "      <th>1</th>\n",
       "      <td>Movies in the Parks at Rutherford Sayre</td>\n",
       "      <td>Inside Out</td>\n",
       "      <td>NaN</td>\n",
       "      <td>PG</td>\n",
       "      <td>Rutherford Sayre Park</td>\n",
       "      <td>NaN</td>\n",
       "      <td>NaN</td>\n",
       "      <td>NaN</td>\n",
       "      <td>60635</td>\n",
       "      <td>(312) 746-5368</td>\n",
       "      <td>Kim Gapinski</td>\n",
       "      <td>NaN</td>\n",
       "      <td>NaN</td>\n",
       "      <td>NaN</td>\n",
       "      <td>6871 W. Belden Ave.\\nChicago, IL\\n(41.921134, ...</td>\n",
       "    </tr>\n",
       "  </tbody>\n",
       "</table>\n",
       "</div>"
      ],
      "text/plain": [
       "                                 EventName         MovieName  \\\n",
       "0         Movies in the Parks at Rosenblum  The Color Purple   \n",
       "1  Movies in the Parks at Rutherford Sayre        Inside Out   \n",
       "\n",
       "  MovieClosedCaption MovieRating               Location Location Notes  \\\n",
       "0                Yes       PG-13         Rosenblum Park            NaN   \n",
       "1                NaN          PG  Rutherford Sayre Park            NaN   \n",
       "\n",
       "   StartDate  EndDate  Zipcode           Phone   ContactName ContactEmail  \\\n",
       "0        NaN      NaN    60649  (312) 747-7661           TBD          NaN   \n",
       "1        NaN      NaN    60635  (312) 746-5368  Kim Gapinski          NaN   \n",
       "\n",
       "   EventUrl  ParkUrl                                         Location 1  \n",
       "0       NaN      NaN                   7547 S. Euclid Ave.\\nChicago, IL  \n",
       "1       NaN      NaN  6871 W. Belden Ave.\\nChicago, IL\\n(41.921134, ...  "
      ]
     },
     "execution_count": 4,
     "metadata": {},
     "output_type": "execute_result"
    }
   ],
   "source": [
    "df2 = pd.read_csv(\"data_projet/Chicago_Park_District__Movies_in_the_Parks_2016.csv\",header =0) #Reading the data from sheet cars\n",
    "df2.head(2)\n"
   ]
  },
  {
   "cell_type": "code",
   "execution_count": 5,
   "metadata": {},
   "outputs": [
    {
     "data": {
      "text/plain": [
       "(243, 15)"
      ]
     },
     "execution_count": 5,
     "metadata": {},
     "output_type": "execute_result"
    }
   ],
   "source": [
    "df2.shape"
   ]
  },
  {
   "cell_type": "code",
   "execution_count": 6,
   "metadata": {},
   "outputs": [
    {
     "data": {
      "text/html": [
       "<div>\n",
       "<style scoped>\n",
       "    .dataframe tbody tr th:only-of-type {\n",
       "        vertical-align: middle;\n",
       "    }\n",
       "\n",
       "    .dataframe tbody tr th {\n",
       "        vertical-align: top;\n",
       "    }\n",
       "\n",
       "    .dataframe thead th {\n",
       "        text-align: right;\n",
       "    }\n",
       "</style>\n",
       "<table border=\"1\" class=\"dataframe\">\n",
       "  <thead>\n",
       "    <tr style=\"text-align: right;\">\n",
       "      <th></th>\n",
       "      <th>Day</th>\n",
       "      <th>Date</th>\n",
       "      <th>Park</th>\n",
       "      <th>Park Phone</th>\n",
       "      <th>Title</th>\n",
       "      <th>CC</th>\n",
       "      <th>Rating</th>\n",
       "      <th>Underwriter</th>\n",
       "      <th>Park Address</th>\n",
       "      <th>Location</th>\n",
       "    </tr>\n",
       "  </thead>\n",
       "  <tbody>\n",
       "    <tr>\n",
       "      <th>0</th>\n",
       "      <td>Mon</td>\n",
       "      <td>08/07/2017</td>\n",
       "      <td>Oakwood Beach</td>\n",
       "      <td>(312) 742-1134</td>\n",
       "      <td>Home Alone</td>\n",
       "      <td>Y</td>\n",
       "      <td>PG</td>\n",
       "      <td>NaN</td>\n",
       "      <td>3900 S. Lake Shore Dr.</td>\n",
       "      <td>3900 S. Lake Shore Dr.\\nChicago, IL</td>\n",
       "    </tr>\n",
       "    <tr>\n",
       "      <th>1</th>\n",
       "      <td>Tue</td>\n",
       "      <td>06/13/2017</td>\n",
       "      <td>Grant Park</td>\n",
       "      <td>(312) 742-3918</td>\n",
       "      <td>Jumanji</td>\n",
       "      <td>Y</td>\n",
       "      <td>PG</td>\n",
       "      <td>Underwritten by the Greater South Loop Associa...</td>\n",
       "      <td>Columbus Drive</td>\n",
       "      <td>Columbus Drive\\nChicago, IL</td>\n",
       "    </tr>\n",
       "  </tbody>\n",
       "</table>\n",
       "</div>"
      ],
      "text/plain": [
       "   Day        Date           Park      Park Phone       Title CC Rating  \\\n",
       "0  Mon  08/07/2017  Oakwood Beach  (312) 742-1134  Home Alone  Y     PG   \n",
       "1  Tue  06/13/2017     Grant Park  (312) 742-3918     Jumanji  Y     PG   \n",
       "\n",
       "                                         Underwriter            Park Address  \\\n",
       "0                                                NaN  3900 S. Lake Shore Dr.   \n",
       "1  Underwritten by the Greater South Loop Associa...          Columbus Drive   \n",
       "\n",
       "                              Location  \n",
       "0  3900 S. Lake Shore Dr.\\nChicago, IL  \n",
       "1          Columbus Drive\\nChicago, IL  "
      ]
     },
     "execution_count": 6,
     "metadata": {},
     "output_type": "execute_result"
    }
   ],
   "source": [
    "df3 = pd.read_csv(\"data_projet/Chicago_Park_District__Movies_in_the_Parks_2017.csv\",header =0) #Reading the data from sheet cars\n",
    "df3.head(2)\n"
   ]
  },
  {
   "cell_type": "code",
   "execution_count": 7,
   "metadata": {},
   "outputs": [
    {
     "data": {
      "text/plain": [
       "(237, 10)"
      ]
     },
     "execution_count": 7,
     "metadata": {},
     "output_type": "execute_result"
    }
   ],
   "source": [
    "df3.shape"
   ]
  },
  {
   "cell_type": "markdown",
   "metadata": {},
   "source": [
    "## Analysis preliminaire"
   ]
  },
  {
   "cell_type": "markdown",
   "metadata": {},
   "source": [
    "A cause que tous les tables ont de differentes columns, mais avec information common, on dois identifier les labels que partage information differente et unifier le nom de label.  Pour faciliter le travail on enleve les espaces de nom de Labels."
   ]
  },
  {
   "cell_type": "markdown",
   "metadata": {},
   "source": [
    "### Affichage des noms de colognes"
   ]
  },
  {
   "cell_type": "code",
   "execution_count": 8,
   "metadata": {},
   "outputs": [
    {
     "data": {
      "text/plain": [
       "Index([' Community', ' ContactEmail', ' ContactName', ' EndDate',\n",
       "       ' EventName ', ' EventUrl', ' MovieClosedCaption', ' MovieName',\n",
       "       ' MovieRating', ' ParkUrl', ' Phone', ' StartDate', ' ZipCode',\n",
       "       'Location 1', 'ParkName'],\n",
       "      dtype='object')"
      ]
     },
     "execution_count": 8,
     "metadata": {},
     "output_type": "execute_result"
    }
   ],
   "source": [
    "#df1.columns\n",
    "df1.columns.sort_values()"
   ]
  },
  {
   "cell_type": "code",
   "execution_count": 9,
   "metadata": {},
   "outputs": [
    {
     "data": {
      "text/plain": [
       "Index(['ContactEmail', 'ContactName', 'EndDate', 'EventName', 'EventUrl',\n",
       "       'Location', 'Location 1', 'Location Notes', 'MovieClosedCaption',\n",
       "       'MovieName', 'MovieRating', 'ParkUrl', 'Phone', 'StartDate', 'Zipcode'],\n",
       "      dtype='object')"
      ]
     },
     "execution_count": 9,
     "metadata": {},
     "output_type": "execute_result"
    }
   ],
   "source": [
    "df2.columns.sort_values()"
   ]
  },
  {
   "cell_type": "code",
   "execution_count": 10,
   "metadata": {},
   "outputs": [
    {
     "data": {
      "text/plain": [
       "Index(['CC', 'Date', 'Day', 'Location', 'Park', 'Park Address', 'Park Phone',\n",
       "       'Rating', 'Title', 'Underwriter'],\n",
       "      dtype='object')"
      ]
     },
     "execution_count": 10,
     "metadata": {},
     "output_type": "execute_result"
    }
   ],
   "source": [
    "df3.columns.sort_values()"
   ]
  },
  {
   "cell_type": "markdown",
   "metadata": {},
   "source": [
    "## Modification et unification de labels"
   ]
  },
  {
   "cell_type": "code",
   "execution_count": 11,
   "metadata": {},
   "outputs": [
    {
     "name": "stdout",
     "output_type": "stream",
     "text": [
      "Index(['EventName', 'MovieName', 'ParkName', 'ZipCode', 'Phone', 'StartDate',\n",
      "       'EndDate', 'ContactName', 'ContactEmail', 'EventUrl', 'ParkUrl',\n",
      "       'Community', 'MovieClosedCaption', 'MovieRating', 'Location1'],\n",
      "      dtype='object')\n"
     ]
    }
   ],
   "source": [
    "df1.columns = df1.columns.str.replace(' ', '')  \n",
    "print(df1.columns)"
   ]
  },
  {
   "cell_type": "code",
   "execution_count": 12,
   "metadata": {},
   "outputs": [
    {
     "name": "stdout",
     "output_type": "stream",
     "text": [
      "Index(['EventName', 'MovieName', 'MovieClosedCaption', 'MovieRating',\n",
      "       'ParkName', 'LocationNotes', 'StartDate', 'EndDate', 'ZipCode', 'Phone',\n",
      "       'ContactName', 'ContactEmail', 'EventUrl', 'ParkUrl', 'Location1'],\n",
      "      dtype='object')\n"
     ]
    }
   ],
   "source": [
    "df2.columns = df2.columns.str.replace(' ', '') \n",
    "df2.rename(columns={   'Location':  'ParkName',\n",
    "                        'Zipcode':  'ZipCode'}, inplace=True)\n",
    "print(df2.columns)"
   ]
  },
  {
   "cell_type": "code",
   "execution_count": 13,
   "metadata": {},
   "outputs": [
    {
     "name": "stdout",
     "output_type": "stream",
     "text": [
      "Index(['Day', 'StartDate', 'ParkName', 'Phone', 'MovieName',\n",
      "       'MovieClosedCaption', 'MovieRating', 'Underwriter', 'ParkAddress',\n",
      "       'Location1'],\n",
      "      dtype='object')\n"
     ]
    }
   ],
   "source": [
    "df3.columns = df3.columns.str.replace(' ', '') \n",
    "df3.rename(columns={'Park'      :'ParkName',\n",
    "                    'Title'     :'MovieName',\n",
    "                    'CC'        :'MovieClosedCaption',\n",
    "                    'ParkPhone' :'Phone',\n",
    "                    'Rating'    :'MovieRating',\n",
    "                    'Location'  :'Location1',\n",
    "                    'Date'      :'StartDate'}, \n",
    "                     inplace=True)\n",
    " \n",
    "print(df3.columns)"
   ]
  },
  {
   "cell_type": "code",
   "execution_count": 14,
   "metadata": {},
   "outputs": [
    {
     "name": "stdout",
     "output_type": "stream",
     "text": [
      "['MovieClosedCaption', 'ParkAddress', 'ContactEmail', 'EndDate', 'ZipCode', 'LocationNotes', 'Location1', 'Phone', 'EventUrl', 'Day', 'MovieRating', 'ContactName', 'EventName', 'MovieName', 'StartDate', 'ParkName', 'ParkUrl', 'Underwriter', 'Community']\n"
     ]
    }
   ],
   "source": [
    "finalColumnsx = np.concatenate((df1.columns, df2.columns, df3.columns))\n",
    "finalColumns = list(set(finalColumnsx))\n",
    "print(finalColumns)"
   ]
  },
  {
   "cell_type": "markdown",
   "metadata": {},
   "source": [
    "### Maintenant on fait la fusion avec la fonction .concat"
   ]
  },
  {
   "cell_type": "code",
   "execution_count": 15,
   "metadata": {},
   "outputs": [
    {
     "data": {
      "text/html": [
       "<div>\n",
       "<style scoped>\n",
       "    .dataframe tbody tr th:only-of-type {\n",
       "        vertical-align: middle;\n",
       "    }\n",
       "\n",
       "    .dataframe tbody tr th {\n",
       "        vertical-align: top;\n",
       "    }\n",
       "\n",
       "    .dataframe thead th {\n",
       "        text-align: right;\n",
       "    }\n",
       "</style>\n",
       "<table border=\"1\" class=\"dataframe\">\n",
       "  <thead>\n",
       "    <tr style=\"text-align: right;\">\n",
       "      <th></th>\n",
       "      <th>EventName</th>\n",
       "      <th>MovieName</th>\n",
       "      <th>ParkName</th>\n",
       "      <th>ZipCode</th>\n",
       "      <th>Phone</th>\n",
       "      <th>StartDate</th>\n",
       "      <th>EndDate</th>\n",
       "      <th>ContactName</th>\n",
       "      <th>ContactEmail</th>\n",
       "      <th>EventUrl</th>\n",
       "      <th>ParkUrl</th>\n",
       "      <th>Community</th>\n",
       "      <th>MovieClosedCaption</th>\n",
       "      <th>MovieRating</th>\n",
       "      <th>Location1</th>\n",
       "      <th>LocationNotes</th>\n",
       "      <th>Day</th>\n",
       "      <th>Underwriter</th>\n",
       "      <th>ParkAddress</th>\n",
       "    </tr>\n",
       "  </thead>\n",
       "  <tbody>\n",
       "    <tr>\n",
       "      <th>0</th>\n",
       "      <td>Night Out: Movies in the Parks at Lindblom</td>\n",
       "      <td>Annie (2014)</td>\n",
       "      <td>Lindblom Park</td>\n",
       "      <td>60636.0</td>\n",
       "      <td>(312) 747-6443</td>\n",
       "      <td>08/06/2015 08:30:00 PM</td>\n",
       "      <td>08/06/2015 10:30:00 PM</td>\n",
       "      <td>Maceo Johnson</td>\n",
       "      <td>maceo.johnson@chicagoparkdistrict.com</td>\n",
       "      <td>http://www.chicagoparkdistrict.com/events/Nigh...</td>\n",
       "      <td>http://www.chicagoparkdistrict.com/parks/Lindb...</td>\n",
       "      <td>Englewood, West Englewood</td>\n",
       "      <td>NaN</td>\n",
       "      <td>PG</td>\n",
       "      <td>6054 S. Damen Ave. Chicago IL 60636\\nChicago, ...</td>\n",
       "      <td>NaN</td>\n",
       "      <td>NaN</td>\n",
       "      <td>NaN</td>\n",
       "      <td>NaN</td>\n",
       "    </tr>\n",
       "    <tr>\n",
       "      <th>1</th>\n",
       "      <td>Night Out: Movies in the Parks at Wicker</td>\n",
       "      <td>Night at the Museum</td>\n",
       "      <td>Wicker Park</td>\n",
       "      <td>60622.0</td>\n",
       "      <td>(312) 742-7553</td>\n",
       "      <td>06/18/2015 08:00:00 PM</td>\n",
       "      <td>06/18/2015 09:48:00 PM</td>\n",
       "      <td>Claribel \"Clare\" Rodriguez</td>\n",
       "      <td>claribel.rodriguez@chicagoparkdistrict.com</td>\n",
       "      <td>http://www.chicagoparkdistrict.com/events/Nigh...</td>\n",
       "      <td>http://www.chicagoparkdistrict.com/parks/Wicke...</td>\n",
       "      <td>West Town</td>\n",
       "      <td>Yes</td>\n",
       "      <td>PG</td>\n",
       "      <td>1425 N. Damen Avenue Chicago IL 60622\\nChicago...</td>\n",
       "      <td>NaN</td>\n",
       "      <td>NaN</td>\n",
       "      <td>NaN</td>\n",
       "      <td>NaN</td>\n",
       "    </tr>\n",
       "    <tr>\n",
       "      <th>2</th>\n",
       "      <td>Night Out: Movies in the Parks at Belmont Harbor</td>\n",
       "      <td>Dial M for Murder</td>\n",
       "      <td>Lincoln Park</td>\n",
       "      <td>60614.0</td>\n",
       "      <td>(312) 742-7726</td>\n",
       "      <td>06/15/2015 08:30:00 PM</td>\n",
       "      <td>06/15/2015 10:15:00 PM</td>\n",
       "      <td>Lauren Quinn</td>\n",
       "      <td>NaN</td>\n",
       "      <td>http://www.chicagoparkdistrict.com/events/Nigh...</td>\n",
       "      <td>http://www.chicagoparkdistrict.com/parks/linco...</td>\n",
       "      <td>Lincoln Park</td>\n",
       "      <td>Yes</td>\n",
       "      <td>PG</td>\n",
       "      <td>2045 N Lincoln Park West Chicago IL 60614\\nChi...</td>\n",
       "      <td>NaN</td>\n",
       "      <td>NaN</td>\n",
       "      <td>NaN</td>\n",
       "      <td>NaN</td>\n",
       "    </tr>\n",
       "  </tbody>\n",
       "</table>\n",
       "</div>"
      ],
      "text/plain": [
       "                                          EventName             MovieName  \\\n",
       "0        Night Out: Movies in the Parks at Lindblom          Annie (2014)   \n",
       "1          Night Out: Movies in the Parks at Wicker  Night at the Museum    \n",
       "2  Night Out: Movies in the Parks at Belmont Harbor     Dial M for Murder   \n",
       "\n",
       "        ParkName  ZipCode            Phone               StartDate  \\\n",
       "0  Lindblom Park  60636.0   (312) 747-6443  08/06/2015 08:30:00 PM   \n",
       "1    Wicker Park  60622.0   (312) 742-7553  06/18/2015 08:00:00 PM   \n",
       "2   Lincoln Park  60614.0  (312) 742-7726   06/15/2015 08:30:00 PM   \n",
       "\n",
       "                  EndDate                 ContactName  \\\n",
       "0  08/06/2015 10:30:00 PM               Maceo Johnson   \n",
       "1  06/18/2015 09:48:00 PM  Claribel \"Clare\" Rodriguez   \n",
       "2  06/15/2015 10:15:00 PM                Lauren Quinn   \n",
       "\n",
       "                                 ContactEmail  \\\n",
       "0       maceo.johnson@chicagoparkdistrict.com   \n",
       "1  claribel.rodriguez@chicagoparkdistrict.com   \n",
       "2                                         NaN   \n",
       "\n",
       "                                            EventUrl  \\\n",
       "0  http://www.chicagoparkdistrict.com/events/Nigh...   \n",
       "1  http://www.chicagoparkdistrict.com/events/Nigh...   \n",
       "2  http://www.chicagoparkdistrict.com/events/Nigh...   \n",
       "\n",
       "                                             ParkUrl  \\\n",
       "0  http://www.chicagoparkdistrict.com/parks/Lindb...   \n",
       "1  http://www.chicagoparkdistrict.com/parks/Wicke...   \n",
       "2  http://www.chicagoparkdistrict.com/parks/linco...   \n",
       "\n",
       "                   Community MovieClosedCaption MovieRating  \\\n",
       "0  Englewood, West Englewood                NaN          PG   \n",
       "1                  West Town                Yes          PG   \n",
       "2               Lincoln Park                Yes          PG   \n",
       "\n",
       "                                           Location1 LocationNotes  Day  \\\n",
       "0  6054 S. Damen Ave. Chicago IL 60636\\nChicago, ...           NaN  NaN   \n",
       "1  1425 N. Damen Avenue Chicago IL 60622\\nChicago...           NaN  NaN   \n",
       "2  2045 N Lincoln Park West Chicago IL 60614\\nChi...           NaN  NaN   \n",
       "\n",
       "  Underwriter ParkAddress  \n",
       "0         NaN         NaN  \n",
       "1         NaN         NaN  \n",
       "2         NaN         NaN  "
      ]
     },
     "execution_count": 15,
     "metadata": {},
     "output_type": "execute_result"
    }
   ],
   "source": [
    "FUSIONA = pd.concat([df1, df2, df3])\n",
    "FUSIONA.head(3)"
   ]
  },
  {
   "cell_type": "code",
   "execution_count": 16,
   "metadata": {},
   "outputs": [
    {
     "data": {
      "text/plain": [
       "(717, 19)"
      ]
     },
     "execution_count": 16,
     "metadata": {},
     "output_type": "execute_result"
    }
   ],
   "source": [
    "FUSIONA.shape"
   ]
  },
  {
   "cell_type": "markdown",
   "metadata": {},
   "source": [
    "### Le resultat sans doublons"
   ]
  },
  {
   "cell_type": "code",
   "execution_count": 17,
   "metadata": {},
   "outputs": [],
   "source": [
    "result2 = FUSIONA.drop_duplicates()"
   ]
  },
  {
   "cell_type": "markdown",
   "metadata": {},
   "source": [
    "### Affichage de dimensions de data frame resultante (sans doublons)\n"
   ]
  },
  {
   "cell_type": "code",
   "execution_count": 18,
   "metadata": {},
   "outputs": [
    {
     "data": {
      "text/plain": [
       "(717, 19)"
      ]
     },
     "execution_count": 18,
     "metadata": {},
     "output_type": "execute_result"
    }
   ],
   "source": [
    "result2.shape"
   ]
  },
  {
   "cell_type": "code",
   "execution_count": 19,
   "metadata": {},
   "outputs": [
    {
     "data": {
      "text/plain": [
       "Index(['EventName', 'MovieName', 'ParkName', 'ZipCode', 'Phone', 'StartDate',\n",
       "       'EndDate', 'ContactName', 'ContactEmail', 'EventUrl', 'ParkUrl',\n",
       "       'Community', 'MovieClosedCaption', 'MovieRating', 'Location1',\n",
       "       'LocationNotes', 'Day', 'Underwriter', 'ParkAddress'],\n",
       "      dtype='object')"
      ]
     },
     "execution_count": 19,
     "metadata": {},
     "output_type": "execute_result"
    }
   ],
   "source": [
    "result2.columns"
   ]
  },
  {
   "cell_type": "code",
   "execution_count": 20,
   "metadata": {},
   "outputs": [
    {
     "name": "stdout",
     "output_type": "stream",
     "text": [
      "Le nombre des lignes de data frame resultante 717\n"
     ]
    }
   ],
   "source": [
    "print('Le nombre des lignes de data frame resultante', result2.shape[0])"
   ]
  },
  {
   "cell_type": "markdown",
   "metadata": {},
   "source": [
    "### Il y  a pas de doublons dans le data frame resultante. Le nombre des lignes avec et sans \"drop_duplicates()\" est pareil. Sans le nettoyage des donnees, on peut pas faire beaucoup de choses pour statistique, suelement \".shape\" pour afficher les dimension de data frame.\n"
   ]
  },
  {
   "cell_type": "code",
   "execution_count": 21,
   "metadata": {},
   "outputs": [
    {
     "name": "stdout",
     "output_type": "stream",
     "text": [
      "<class 'pandas.core.frame.DataFrame'>\n",
      "Int64Index: 717 entries, 0 to 236\n",
      "Data columns (total 19 columns):\n",
      " #   Column              Non-Null Count  Dtype  \n",
      "---  ------              --------------  -----  \n",
      " 0   EventName           480 non-null    object \n",
      " 1   MovieName           717 non-null    object \n",
      " 2   ParkName            717 non-null    object \n",
      " 3   ZipCode             477 non-null    float64\n",
      " 4   Phone               715 non-null    object \n",
      " 5   StartDate           474 non-null    object \n",
      " 6   EndDate             237 non-null    object \n",
      " 7   ContactName         474 non-null    object \n",
      " 8   ContactEmail        367 non-null    object \n",
      " 9   EventUrl            237 non-null    object \n",
      " 10  ParkUrl             237 non-null    object \n",
      " 11  Community           237 non-null    object \n",
      " 12  MovieClosedCaption  605 non-null    object \n",
      " 13  MovieRating         704 non-null    object \n",
      " 14  Location1           717 non-null    object \n",
      " 15  LocationNotes       33 non-null     object \n",
      " 16  Day                 237 non-null    object \n",
      " 17  Underwriter         86 non-null     object \n",
      " 18  ParkAddress         237 non-null    object \n",
      "dtypes: float64(1), object(18)\n",
      "memory usage: 112.0+ KB\n"
     ]
    }
   ],
   "source": [
    "result2.info()"
   ]
  },
  {
   "cell_type": "markdown",
   "metadata": {},
   "source": [
    "## 1.2 Charger le jeu de données movies (movies.csv) dans une table de données (dataframe) et répondre aux questions suivantes\n",
    "- Qui est l’acteur principal ayant été dans le film le plus couteux de la table de données? Quel est\n",
    "le montant du budget de ce film?\n",
    "- Quels sont les 2 films ayant eu la plus grande rentabilité de notre table de données?\n",
    "- Lister des titres de films dans lesquelles ont tourné votre acteur (actrice) préféré(e)?"
   ]
  },
  {
   "cell_type": "code",
   "execution_count": 22,
   "metadata": {},
   "outputs": [
    {
     "data": {
      "text/html": [
       "<div>\n",
       "<style scoped>\n",
       "    .dataframe tbody tr th:only-of-type {\n",
       "        vertical-align: middle;\n",
       "    }\n",
       "\n",
       "    .dataframe tbody tr th {\n",
       "        vertical-align: top;\n",
       "    }\n",
       "\n",
       "    .dataframe thead th {\n",
       "        text-align: right;\n",
       "    }\n",
       "</style>\n",
       "<table border=\"1\" class=\"dataframe\">\n",
       "  <thead>\n",
       "    <tr style=\"text-align: right;\">\n",
       "      <th></th>\n",
       "      <th>color</th>\n",
       "      <th>director_name</th>\n",
       "      <th>num_critic_for_reviews</th>\n",
       "      <th>duration</th>\n",
       "      <th>director_facebook_likes</th>\n",
       "      <th>actor_3_facebook_likes</th>\n",
       "      <th>actor_2_name</th>\n",
       "      <th>actor_1_facebook_likes</th>\n",
       "      <th>gross</th>\n",
       "      <th>genres</th>\n",
       "      <th>...</th>\n",
       "      <th>num_user_for_reviews</th>\n",
       "      <th>language</th>\n",
       "      <th>country</th>\n",
       "      <th>content_rating</th>\n",
       "      <th>budget</th>\n",
       "      <th>title_year</th>\n",
       "      <th>actor_2_facebook_likes</th>\n",
       "      <th>imdb_score</th>\n",
       "      <th>aspect_ratio</th>\n",
       "      <th>movie_facebook_likes</th>\n",
       "    </tr>\n",
       "  </thead>\n",
       "  <tbody>\n",
       "    <tr>\n",
       "      <th>0</th>\n",
       "      <td>Colores</td>\n",
       "      <td>James Cameron</td>\n",
       "      <td>723.0</td>\n",
       "      <td>178 min</td>\n",
       "      <td>0.0</td>\n",
       "      <td>855.0</td>\n",
       "      <td>Joel David Moore</td>\n",
       "      <td>1000.0</td>\n",
       "      <td>760505847 $</td>\n",
       "      <td>Action|Adventure|Fantasy|Sci-Fi</td>\n",
       "      <td>...</td>\n",
       "      <td>3054</td>\n",
       "      <td>English</td>\n",
       "      <td>USA</td>\n",
       "      <td>PG-13</td>\n",
       "      <td>2.37e+08 $</td>\n",
       "      <td>2009.0</td>\n",
       "      <td>936</td>\n",
       "      <td>7.9 #</td>\n",
       "      <td>1.78</td>\n",
       "      <td>4834</td>\n",
       "    </tr>\n",
       "    <tr>\n",
       "      <th>1</th>\n",
       "      <td>Colores</td>\n",
       "      <td>Gore Verbinski</td>\n",
       "      <td>302.0</td>\n",
       "      <td>169 min</td>\n",
       "      <td>563.0</td>\n",
       "      <td>1000.0</td>\n",
       "      <td>ORLANDO BLOOM</td>\n",
       "      <td>40000.0</td>\n",
       "      <td>309404152 $</td>\n",
       "      <td>Action|Adventure|Fantasy</td>\n",
       "      <td>...</td>\n",
       "      <td>1238</td>\n",
       "      <td>English</td>\n",
       "      <td>USA</td>\n",
       "      <td>PG-13</td>\n",
       "      <td>3e+08 $</td>\n",
       "      <td>2007.0</td>\n",
       "      <td>5000</td>\n",
       "      <td>7.1 #</td>\n",
       "      <td>2.35</td>\n",
       "      <td>48350</td>\n",
       "    </tr>\n",
       "  </tbody>\n",
       "</table>\n",
       "<p>2 rows × 28 columns</p>\n",
       "</div>"
      ],
      "text/plain": [
       "     color   director_name  num_critic_for_reviews duration  \\\n",
       "0  Colores   James Cameron                   723.0  178 min   \n",
       "1  Colores  Gore Verbinski                   302.0  169 min   \n",
       "\n",
       "   director_facebook_likes  actor_3_facebook_likes      actor_2_name  \\\n",
       "0                      0.0                   855.0  Joel David Moore   \n",
       "1                    563.0                  1000.0     ORLANDO BLOOM   \n",
       "\n",
       "   actor_1_facebook_likes        gross                           genres  ...  \\\n",
       "0                  1000.0  760505847 $  Action|Adventure|Fantasy|Sci-Fi  ...   \n",
       "1                 40000.0  309404152 $         Action|Adventure|Fantasy  ...   \n",
       "\n",
       "  num_user_for_reviews language  country  content_rating      budget  \\\n",
       "0                 3054  English      USA           PG-13  2.37e+08 $   \n",
       "1                 1238  English      USA           PG-13     3e+08 $   \n",
       "\n",
       "   title_year actor_2_facebook_likes imdb_score aspect_ratio  \\\n",
       "0      2009.0                    936      7.9 #         1.78   \n",
       "1      2007.0                   5000      7.1 #         2.35   \n",
       "\n",
       "  movie_facebook_likes  \n",
       "0                 4834  \n",
       "1                48350  \n",
       "\n",
       "[2 rows x 28 columns]"
      ]
     },
     "execution_count": 22,
     "metadata": {},
     "output_type": "execute_result"
    }
   ],
   "source": [
    "df = pd.read_csv(\"data_projet/movies.csv\",header =0) #Chargement de donnees dans data frame df1\n",
    "df.head(2)\n"
   ]
  },
  {
   "cell_type": "code",
   "execution_count": 23,
   "metadata": {},
   "outputs": [
    {
     "name": "stdout",
     "output_type": "stream",
     "text": [
      "<class 'pandas.core.frame.DataFrame'>\n",
      "RangeIndex: 7410 entries, 0 to 7409\n",
      "Data columns (total 28 columns):\n",
      " #   Column                     Non-Null Count  Dtype  \n",
      "---  ------                     --------------  -----  \n",
      " 0   color                      7386 non-null   object \n",
      " 1   director_name              7263 non-null   object \n",
      " 2   num_critic_for_reviews     7338 non-null   float64\n",
      " 3   duration                   7410 non-null   object \n",
      " 4   director_facebook_likes    7263 non-null   float64\n",
      " 5   actor_3_facebook_likes     7373 non-null   float64\n",
      " 6   actor_2_name               7391 non-null   object \n",
      " 7   actor_1_facebook_likes     7400 non-null   float64\n",
      " 8   gross                      7410 non-null   object \n",
      " 9   genres                     7410 non-null   object \n",
      " 10  actor_1_name               7400 non-null   object \n",
      " 11  movie_title                7410 non-null   object \n",
      " 12  num_voted_users            7410 non-null   int64  \n",
      " 13  cast_total_facebook_likes  7410 non-null   int64  \n",
      " 14  actor_3_name               7373 non-null   object \n",
      " 15  facenumber_in_poster       7388 non-null   float64\n",
      " 16  plot_keywords              7189 non-null   object \n",
      " 17  movie_imdb_link            7410 non-null   object \n",
      " 18  num_user_for_reviews       7410 non-null   object \n",
      " 19  language                   7394 non-null   object \n",
      " 20  country                    7403 non-null   object \n",
      " 21  content_rating             6973 non-null   object \n",
      " 22  budget                     7410 non-null   object \n",
      " 23  title_year                 7258 non-null   float64\n",
      " 24  actor_2_facebook_likes     7410 non-null   object \n",
      " 25  imdb_score                 7410 non-null   object \n",
      " 26  aspect_ratio               6944 non-null   float64\n",
      " 27  movie_facebook_likes       7410 non-null   int64  \n",
      "dtypes: float64(7), int64(3), object(18)\n",
      "memory usage: 1.6+ MB\n"
     ]
    }
   ],
   "source": [
    "df.info()"
   ]
  },
  {
   "cell_type": "markdown",
   "metadata": {},
   "source": [
    "### 1.2.a Le film le plus couteux -> 'budget' doit etre maximale\n"
   ]
  },
  {
   "cell_type": "code",
   "execution_count": 24,
   "metadata": {},
   "outputs": [
    {
     "data": {
      "text/plain": [
       "'NA $'"
      ]
     },
     "execution_count": 24,
     "metadata": {},
     "output_type": "execute_result"
    }
   ],
   "source": [
    "df['budget'].max()"
   ]
  },
  {
   "cell_type": "markdown",
   "metadata": {},
   "source": [
    "#### Data frame n'est pas formattee, dans le 'budget' on doit enlever 2 dernieres strings \" $\". Apres, on replace 'NA' par np.nan. On convert en float et cherche le max. On fait pas les modifications au tableau."
   ]
  },
  {
   "cell_type": "code",
   "execution_count": 25,
   "metadata": {},
   "outputs": [
    {
     "name": "stdout",
     "output_type": "stream",
     "text": [
      "le budget maximal =  12215500000.0\n"
     ]
    }
   ],
   "source": [
    "print('le budget maximal = ',df['budget'].str.rstrip(' $').replace('NA', np.nan).astype(float).max())"
   ]
  },
  {
   "cell_type": "code",
   "execution_count": 26,
   "metadata": {},
   "outputs": [
    {
     "name": "stdout",
     "output_type": "stream",
     "text": [
      "index de la valuer maximal du budget =  2988\n"
     ]
    }
   ],
   "source": [
    "indm=df['budget'].str.rstrip(' $').replace('NA', np.nan).astype(float).idxmax()\n",
    "print('index de la valuer maximal du budget = ',indm)"
   ]
  },
  {
   "cell_type": "markdown",
   "metadata": {},
   "source": [
    "### Affichage de ligne 2988"
   ]
  },
  {
   "cell_type": "code",
   "execution_count": 27,
   "metadata": {},
   "outputs": [
    {
     "data": {
      "text/plain": [
       "color                                                                  Colores\n",
       "director_name                                                     Joon-ho Bong\n",
       "num_critic_for_reviews                                                     363\n",
       "duration                                                               110 min\n",
       "director_facebook_likes                                                    584\n",
       "actor_3_facebook_likes                                                      74\n",
       "actor_2_name                                                      KANG-HO SONG\n",
       "actor_1_facebook_likes                                                     629\n",
       "gross                                                                2201412 $\n",
       "genres                                              Comedy|Drama|Horror|Sci-Fi\n",
       "actor_1_name                                                         DOONA BAE\n",
       "movie_title                                                          The Host \n",
       "num_voted_users                                                          68883\n",
       "cast_total_facebook_likes                                                 1173\n",
       "actor_3_name                                                        Ah-sung Ko\n",
       "facenumber_in_poster                                                         0\n",
       "plot_keywords                           daughter|han river|monster|river|seoul\n",
       "movie_imdb_link              http://www.imdb.com/title/tt0468492/?ref_=fn_t...\n",
       "num_user_for_reviews                                                       279\n",
       "language                                                                Korean\n",
       "country                                                            South Korea\n",
       "content_rating                                                               R\n",
       "budget                                                           12215500000 $\n",
       "title_year                                                                2006\n",
       "actor_2_facebook_likes                                                     398\n",
       "imdb_score                                                                 7 #\n",
       "aspect_ratio                                                              1.85\n",
       "movie_facebook_likes                                                      1173\n",
       "Name: 2988, dtype: object"
      ]
     },
     "execution_count": 27,
     "metadata": {},
     "output_type": "execute_result"
    }
   ],
   "source": [
    "df.iloc[indm]"
   ]
  },
  {
   "cell_type": "markdown",
   "metadata": {},
   "source": [
    "### 1.2.b.  Comme on peut voir de le tableau, \"actor_1_facebook_likes\" a obtenu le plus de facebook likes (629). Donc, on a choisi \"actor_1_name\" comme acteur principal"
   ]
  },
  {
   "cell_type": "code",
   "execution_count": 28,
   "metadata": {},
   "outputs": [
    {
     "name": "stdout",
     "output_type": "stream",
     "text": [
      "l'acteur principal du film le plus couteaux: DOONA BAE\n"
     ]
    }
   ],
   "source": [
    "print(\"l'acteur principal du film le plus couteaux:\" ,df['actor_1_name'].iloc[indm])"
   ]
  },
  {
   "cell_type": "code",
   "execution_count": 29,
   "metadata": {},
   "outputs": [],
   "source": [
    "df1=df.copy()\n",
    "df1['gross']=df['gross'].str.rstrip(' $').replace('NA', np.nan).astype(float)"
   ]
  },
  {
   "cell_type": "markdown",
   "metadata": {},
   "source": [
    "### 1.2.c. Quels sont les 2 films ayant eu la plus grande rentabilité"
   ]
  },
  {
   "cell_type": "code",
   "execution_count": 30,
   "metadata": {},
   "outputs": [
    {
     "name": "stdout",
     "output_type": "stream",
     "text": [
      "les 2 films ayant eu la plus grande rentabilité:\n",
      " 0      Avatar \n",
      "26    Titanic \n",
      "Name: movie_title, dtype: object\n"
     ]
    }
   ],
   "source": [
    "print('les 2 films ayant eu la plus grande rentabilité:\\n',df1.sort_values(by='gross',ascending=[False])['movie_title'][0:2])\n"
   ]
  },
  {
   "cell_type": "markdown",
   "metadata": {},
   "source": [
    "### Notre acteur prefere est Orlando Bloom. Pour eviter les repititions, on a enleve les doublicats. On cherche dans les colognes 'actor_1_name','actor_2_name','actor_3_name'. On compare les strings, donc, on a fait ces colognes upper case et enleve les espaces vides avant et apres les noms. "
   ]
  },
  {
   "cell_type": "code",
   "execution_count": 31,
   "metadata": {},
   "outputs": [
    {
     "name": "stdout",
     "output_type": "stream",
     "text": [
      "339     The Lord of the Rings: The Return of the King \n",
      "896                                     Elizabethtown \n",
      "2591                                             Zulu \n",
      "Name: movie_title, dtype: object\n",
      "1              Pirates of the Caribbean: At World's End \n",
      "13           Pirates of the Caribbean: Dead Man's Chest \n",
      "147                                                Troy \n",
      "205    Pirates of the Caribbean: The Curse of the Bla...\n",
      "270    The Lord of the Rings: The Fellowship of the R...\n",
      "275                                   Kingdom of Heaven \n",
      "340               The Lord of the Rings: The Two Towers \n",
      "Name: movie_title, dtype: object\n",
      "401    The Three Musketeers \n",
      "Name: movie_title, dtype: object\n"
     ]
    }
   ],
   "source": [
    "a=['actor_1_name','actor_2_name','actor_3_name']\n",
    "df2=df.drop_duplicates()\n",
    "\n",
    "for col in list(a):\n",
    "    print(df2[df2[col].str.upper().str.strip()=='ORLANDO BLOOM']['movie_title'])\n",
    "    #None\n"
   ]
  },
  {
   "cell_type": "markdown",
   "metadata": {},
   "source": [
    "## 1.3. Charger le jeu de données Film Locations in San Francisco du site data.gov https://www.data.gov/ .Transposer l’affichage de la table de données et donner le nombre et les endroits de tournage (location) par film. Créer une nouvelle table de données n’ayant que ces trois attributs et afficher les 10 premiers enregistrements:\n",
    "- Titre (title)\n",
    "- Release year\n",
    "- Production"
   ]
  },
  {
   "cell_type": "markdown",
   "metadata": {},
   "source": [
    "### Chargement de fichier csv dans la dataframe df. Affichage de 5 premieres lignes\n"
   ]
  },
  {
   "cell_type": "code",
   "execution_count": 32,
   "metadata": {},
   "outputs": [
    {
     "data": {
      "text/html": [
       "<div>\n",
       "<style scoped>\n",
       "    .dataframe tbody tr th:only-of-type {\n",
       "        vertical-align: middle;\n",
       "    }\n",
       "\n",
       "    .dataframe tbody tr th {\n",
       "        vertical-align: top;\n",
       "    }\n",
       "\n",
       "    .dataframe thead th {\n",
       "        text-align: right;\n",
       "    }\n",
       "</style>\n",
       "<table border=\"1\" class=\"dataframe\">\n",
       "  <thead>\n",
       "    <tr style=\"text-align: right;\">\n",
       "      <th></th>\n",
       "      <th>Title</th>\n",
       "      <th>Release Year</th>\n",
       "      <th>Locations</th>\n",
       "      <th>Fun Facts</th>\n",
       "      <th>Production Company</th>\n",
       "      <th>Distributor</th>\n",
       "      <th>Director</th>\n",
       "      <th>Writer</th>\n",
       "      <th>Actor 1</th>\n",
       "      <th>Actor 2</th>\n",
       "      <th>Actor 3</th>\n",
       "    </tr>\n",
       "  </thead>\n",
       "  <tbody>\n",
       "    <tr>\n",
       "      <th>0</th>\n",
       "      <td>180</td>\n",
       "      <td>2011</td>\n",
       "      <td>Epic Roasthouse (399 Embarcadero)</td>\n",
       "      <td>NaN</td>\n",
       "      <td>SPI Cinemas</td>\n",
       "      <td>NaN</td>\n",
       "      <td>Jayendra</td>\n",
       "      <td>Umarji Anuradha, Jayendra, Aarthi Sriram, &amp; Suba</td>\n",
       "      <td>Siddarth</td>\n",
       "      <td>Nithya Menon</td>\n",
       "      <td>Priya Anand</td>\n",
       "    </tr>\n",
       "    <tr>\n",
       "      <th>1</th>\n",
       "      <td>180</td>\n",
       "      <td>2011</td>\n",
       "      <td>Mason &amp; California Streets (Nob Hill)</td>\n",
       "      <td>NaN</td>\n",
       "      <td>SPI Cinemas</td>\n",
       "      <td>NaN</td>\n",
       "      <td>Jayendra</td>\n",
       "      <td>Umarji Anuradha, Jayendra, Aarthi Sriram, &amp; Suba</td>\n",
       "      <td>Siddarth</td>\n",
       "      <td>Nithya Menon</td>\n",
       "      <td>Priya Anand</td>\n",
       "    </tr>\n",
       "    <tr>\n",
       "      <th>2</th>\n",
       "      <td>180</td>\n",
       "      <td>2011</td>\n",
       "      <td>Justin Herman Plaza</td>\n",
       "      <td>NaN</td>\n",
       "      <td>SPI Cinemas</td>\n",
       "      <td>NaN</td>\n",
       "      <td>Jayendra</td>\n",
       "      <td>Umarji Anuradha, Jayendra, Aarthi Sriram, &amp; Suba</td>\n",
       "      <td>Siddarth</td>\n",
       "      <td>Nithya Menon</td>\n",
       "      <td>Priya Anand</td>\n",
       "    </tr>\n",
       "    <tr>\n",
       "      <th>3</th>\n",
       "      <td>180</td>\n",
       "      <td>2011</td>\n",
       "      <td>200 block Market Street</td>\n",
       "      <td>NaN</td>\n",
       "      <td>SPI Cinemas</td>\n",
       "      <td>NaN</td>\n",
       "      <td>Jayendra</td>\n",
       "      <td>Umarji Anuradha, Jayendra, Aarthi Sriram, &amp; Suba</td>\n",
       "      <td>Siddarth</td>\n",
       "      <td>Nithya Menon</td>\n",
       "      <td>Priya Anand</td>\n",
       "    </tr>\n",
       "    <tr>\n",
       "      <th>4</th>\n",
       "      <td>180</td>\n",
       "      <td>2011</td>\n",
       "      <td>City Hall</td>\n",
       "      <td>NaN</td>\n",
       "      <td>SPI Cinemas</td>\n",
       "      <td>NaN</td>\n",
       "      <td>Jayendra</td>\n",
       "      <td>Umarji Anuradha, Jayendra, Aarthi Sriram, &amp; Suba</td>\n",
       "      <td>Siddarth</td>\n",
       "      <td>Nithya Menon</td>\n",
       "      <td>Priya Anand</td>\n",
       "    </tr>\n",
       "  </tbody>\n",
       "</table>\n",
       "</div>"
      ],
      "text/plain": [
       "  Title  Release Year                              Locations Fun Facts  \\\n",
       "0   180          2011      Epic Roasthouse (399 Embarcadero)       NaN   \n",
       "1   180          2011  Mason & California Streets (Nob Hill)       NaN   \n",
       "2   180          2011                    Justin Herman Plaza       NaN   \n",
       "3   180          2011                200 block Market Street       NaN   \n",
       "4   180          2011                              City Hall       NaN   \n",
       "\n",
       "  Production Company Distributor  Director  \\\n",
       "0        SPI Cinemas         NaN  Jayendra   \n",
       "1        SPI Cinemas         NaN  Jayendra   \n",
       "2        SPI Cinemas         NaN  Jayendra   \n",
       "3        SPI Cinemas         NaN  Jayendra   \n",
       "4        SPI Cinemas         NaN  Jayendra   \n",
       "\n",
       "                                              Writer   Actor 1       Actor 2  \\\n",
       "0  Umarji Anuradha, Jayendra, Aarthi Sriram, & Suba   Siddarth  Nithya Menon   \n",
       "1  Umarji Anuradha, Jayendra, Aarthi Sriram, & Suba   Siddarth  Nithya Menon   \n",
       "2  Umarji Anuradha, Jayendra, Aarthi Sriram, & Suba   Siddarth  Nithya Menon   \n",
       "3  Umarji Anuradha, Jayendra, Aarthi Sriram, & Suba   Siddarth  Nithya Menon   \n",
       "4  Umarji Anuradha, Jayendra, Aarthi Sriram, & Suba   Siddarth  Nithya Menon   \n",
       "\n",
       "       Actor 3  \n",
       "0  Priya Anand  \n",
       "1  Priya Anand  \n",
       "2  Priya Anand  \n",
       "3  Priya Anand  \n",
       "4  Priya Anand  "
      ]
     },
     "execution_count": 32,
     "metadata": {},
     "output_type": "execute_result"
    }
   ],
   "source": [
    "df = pd.read_csv(\"data_projet/Film_Locations_in_San_Francisco.csv\",header =0) #Chargement de donnees dans data frame df\n",
    "df.head(5)\n"
   ]
  },
  {
   "cell_type": "code",
   "execution_count": 33,
   "metadata": {},
   "outputs": [
    {
     "data": {
      "text/plain": [
       "(3414, 11)"
      ]
     },
     "execution_count": 33,
     "metadata": {},
     "output_type": "execute_result"
    }
   ],
   "source": [
    "df.shape"
   ]
  },
  {
   "cell_type": "markdown",
   "metadata": {},
   "source": [
    "### Affichage de dataFrame transposee"
   ]
  },
  {
   "cell_type": "code",
   "execution_count": 34,
   "metadata": {},
   "outputs": [
    {
     "data": {
      "text/html": [
       "<div>\n",
       "<style scoped>\n",
       "    .dataframe tbody tr th:only-of-type {\n",
       "        vertical-align: middle;\n",
       "    }\n",
       "\n",
       "    .dataframe tbody tr th {\n",
       "        vertical-align: top;\n",
       "    }\n",
       "\n",
       "    .dataframe thead th {\n",
       "        text-align: right;\n",
       "    }\n",
       "</style>\n",
       "<table border=\"1\" class=\"dataframe\">\n",
       "  <thead>\n",
       "    <tr style=\"text-align: right;\">\n",
       "      <th></th>\n",
       "      <th>0</th>\n",
       "      <th>1</th>\n",
       "      <th>2</th>\n",
       "      <th>3</th>\n",
       "      <th>4</th>\n",
       "      <th>5</th>\n",
       "      <th>6</th>\n",
       "      <th>7</th>\n",
       "      <th>8</th>\n",
       "      <th>9</th>\n",
       "      <th>...</th>\n",
       "      <th>3404</th>\n",
       "      <th>3405</th>\n",
       "      <th>3406</th>\n",
       "      <th>3407</th>\n",
       "      <th>3408</th>\n",
       "      <th>3409</th>\n",
       "      <th>3410</th>\n",
       "      <th>3411</th>\n",
       "      <th>3412</th>\n",
       "      <th>3413</th>\n",
       "    </tr>\n",
       "  </thead>\n",
       "  <tbody>\n",
       "    <tr>\n",
       "      <th>Title</th>\n",
       "      <td>180</td>\n",
       "      <td>180</td>\n",
       "      <td>180</td>\n",
       "      <td>180</td>\n",
       "      <td>180</td>\n",
       "      <td>180</td>\n",
       "      <td>180</td>\n",
       "      <td>180</td>\n",
       "      <td>24 Hours on Craigslist</td>\n",
       "      <td>Summertime</td>\n",
       "      <td>...</td>\n",
       "      <td>Basic Instinct</td>\n",
       "      <td>GirlBoss</td>\n",
       "      <td>Burglar</td>\n",
       "      <td>The Game</td>\n",
       "      <td>Tales of the City</td>\n",
       "      <td>Quicksilver</td>\n",
       "      <td>Murder in the First, Season 1</td>\n",
       "      <td>Murder in the First, Season 3</td>\n",
       "      <td>George of the Jungle</td>\n",
       "      <td>Alcatraz</td>\n",
       "    </tr>\n",
       "    <tr>\n",
       "      <th>Release Year</th>\n",
       "      <td>2011</td>\n",
       "      <td>2011</td>\n",
       "      <td>2011</td>\n",
       "      <td>2011</td>\n",
       "      <td>2011</td>\n",
       "      <td>2011</td>\n",
       "      <td>2011</td>\n",
       "      <td>2011</td>\n",
       "      <td>2005</td>\n",
       "      <td>2015</td>\n",
       "      <td>...</td>\n",
       "      <td>1992</td>\n",
       "      <td>2017</td>\n",
       "      <td>1987</td>\n",
       "      <td>1997</td>\n",
       "      <td>2019</td>\n",
       "      <td>1986</td>\n",
       "      <td>2014</td>\n",
       "      <td>2016</td>\n",
       "      <td>1997</td>\n",
       "      <td>2012</td>\n",
       "    </tr>\n",
       "    <tr>\n",
       "      <th>Locations</th>\n",
       "      <td>Epic Roasthouse (399 Embarcadero)</td>\n",
       "      <td>Mason &amp; California Streets (Nob Hill)</td>\n",
       "      <td>Justin Herman Plaza</td>\n",
       "      <td>200 block Market Street</td>\n",
       "      <td>City Hall</td>\n",
       "      <td>Polk &amp; Larkin Streets</td>\n",
       "      <td>Randall Museum</td>\n",
       "      <td>555 Market St.</td>\n",
       "      <td>NaN</td>\n",
       "      <td>Alamo Square</td>\n",
       "      <td>...</td>\n",
       "      <td>Gibb Street (Chinatown)</td>\n",
       "      <td>Fillmore between Haight and Waller</td>\n",
       "      <td>1400 18th Street</td>\n",
       "      <td>Merchant Exchange Building</td>\n",
       "      <td>Mission District</td>\n",
       "      <td>Pacific Stock Exchange</td>\n",
       "      <td>50 California Street</td>\n",
       "      <td>Linden Alley between Octavia and Gough Streets</td>\n",
       "      <td>755 Vallejo Street</td>\n",
       "      <td>Chestnut St. from Larkin to Columbus</td>\n",
       "    </tr>\n",
       "    <tr>\n",
       "      <th>Fun Facts</th>\n",
       "      <td>NaN</td>\n",
       "      <td>NaN</td>\n",
       "      <td>NaN</td>\n",
       "      <td>NaN</td>\n",
       "      <td>NaN</td>\n",
       "      <td>NaN</td>\n",
       "      <td>NaN</td>\n",
       "      <td>NaN</td>\n",
       "      <td>NaN</td>\n",
       "      <td>NaN</td>\n",
       "      <td>...</td>\n",
       "      <td>NaN</td>\n",
       "      <td>NaN</td>\n",
       "      <td>NaN</td>\n",
       "      <td>NaN</td>\n",
       "      <td>NaN</td>\n",
       "      <td>NaN</td>\n",
       "      <td>NaN</td>\n",
       "      <td>NaN</td>\n",
       "      <td>NaN</td>\n",
       "      <td>NaN</td>\n",
       "    </tr>\n",
       "    <tr>\n",
       "      <th>Production Company</th>\n",
       "      <td>SPI Cinemas</td>\n",
       "      <td>SPI Cinemas</td>\n",
       "      <td>SPI Cinemas</td>\n",
       "      <td>SPI Cinemas</td>\n",
       "      <td>SPI Cinemas</td>\n",
       "      <td>SPI Cinemas</td>\n",
       "      <td>SPI Cinemas</td>\n",
       "      <td>SPI Cinemas</td>\n",
       "      <td>Yerba Buena Productions</td>\n",
       "      <td>Creative Monster Productions, Inc.</td>\n",
       "      <td>...</td>\n",
       "      <td>Carolco Pictures</td>\n",
       "      <td>Hippolyta Productions, LLC</td>\n",
       "      <td>Warner Bros. Pictures</td>\n",
       "      <td>Polygram Filmed Entertainment</td>\n",
       "      <td>Universal Television LLC</td>\n",
       "      <td>Columbia Pictures Corporation</td>\n",
       "      <td>Turner North Center Productions</td>\n",
       "      <td>Turner North Center Productions</td>\n",
       "      <td>Walt Disney Pictures</td>\n",
       "      <td>Bonanza Productions Inc.</td>\n",
       "    </tr>\n",
       "  </tbody>\n",
       "</table>\n",
       "<p>5 rows × 3414 columns</p>\n",
       "</div>"
      ],
      "text/plain": [
       "                                                 0     \\\n",
       "Title                                             180   \n",
       "Release Year                                     2011   \n",
       "Locations           Epic Roasthouse (399 Embarcadero)   \n",
       "Fun Facts                                         NaN   \n",
       "Production Company                        SPI Cinemas   \n",
       "\n",
       "                                                     1     \\\n",
       "Title                                                 180   \n",
       "Release Year                                         2011   \n",
       "Locations           Mason & California Streets (Nob Hill)   \n",
       "Fun Facts                                             NaN   \n",
       "Production Company                            SPI Cinemas   \n",
       "\n",
       "                                   2                        3            4     \\\n",
       "Title                               180                      180          180   \n",
       "Release Year                       2011                     2011         2011   \n",
       "Locations           Justin Herman Plaza  200 block Market Street    City Hall   \n",
       "Fun Facts                           NaN                      NaN          NaN   \n",
       "Production Company          SPI Cinemas              SPI Cinemas  SPI Cinemas   \n",
       "\n",
       "                                     5               6               7     \\\n",
       "Title                                 180             180             180   \n",
       "Release Year                         2011            2011            2011   \n",
       "Locations           Polk & Larkin Streets  Randall Museum  555 Market St.   \n",
       "Fun Facts                             NaN             NaN             NaN   \n",
       "Production Company            SPI Cinemas     SPI Cinemas     SPI Cinemas   \n",
       "\n",
       "                                       8     \\\n",
       "Title                24 Hours on Craigslist   \n",
       "Release Year                           2005   \n",
       "Locations                               NaN   \n",
       "Fun Facts                               NaN   \n",
       "Production Company  Yerba Buena Productions   \n",
       "\n",
       "                                                  9     ...  \\\n",
       "Title                                       Summertime  ...   \n",
       "Release Year                                      2015  ...   \n",
       "Locations                                Alamo Square   ...   \n",
       "Fun Facts                                          NaN  ...   \n",
       "Production Company  Creative Monster Productions, Inc.  ...   \n",
       "\n",
       "                                       3404  \\\n",
       "Title                        Basic Instinct   \n",
       "Release Year                           1992   \n",
       "Locations           Gibb Street (Chinatown)   \n",
       "Fun Facts                               NaN   \n",
       "Production Company         Carolco Pictures   \n",
       "\n",
       "                                                  3405                   3406  \\\n",
       "Title                                         GirlBoss                Burglar   \n",
       "Release Year                                      2017                   1987   \n",
       "Locations           Fillmore between Haight and Waller       1400 18th Street   \n",
       "Fun Facts                                          NaN                    NaN   \n",
       "Production Company          Hippolyta Productions, LLC  Warner Bros. Pictures   \n",
       "\n",
       "                                             3407                      3408  \\\n",
       "Title                                    The Game         Tales of the City   \n",
       "Release Year                                 1997                      2019   \n",
       "Locations              Merchant Exchange Building          Mission District   \n",
       "Fun Facts                                     NaN                       NaN   \n",
       "Production Company  Polygram Filmed Entertainment  Universal Television LLC   \n",
       "\n",
       "                                             3409  \\\n",
       "Title                                 Quicksilver   \n",
       "Release Year                                 1986   \n",
       "Locations                  Pacific Stock Exchange   \n",
       "Fun Facts                                     NaN   \n",
       "Production Company  Columbia Pictures Corporation   \n",
       "\n",
       "                                               3410  \\\n",
       "Title                 Murder in the First, Season 1   \n",
       "Release Year                                   2014   \n",
       "Locations                      50 California Street   \n",
       "Fun Facts                                       NaN   \n",
       "Production Company  Turner North Center Productions   \n",
       "\n",
       "                                                              3411  \\\n",
       "Title                                Murder in the First, Season 3   \n",
       "Release Year                                                  2016   \n",
       "Locations           Linden Alley between Octavia and Gough Streets   \n",
       "Fun Facts                                                      NaN   \n",
       "Production Company                 Turner North Center Productions   \n",
       "\n",
       "                                    3412                                  3413  \n",
       "Title               George of the Jungle                              Alcatraz  \n",
       "Release Year                        1997                                  2012  \n",
       "Locations             755 Vallejo Street  Chestnut St. from Larkin to Columbus  \n",
       "Fun Facts                            NaN                                   NaN  \n",
       "Production Company  Walt Disney Pictures              Bonanza Productions Inc.  \n",
       "\n",
       "[5 rows x 3414 columns]"
      ]
     },
     "execution_count": 34,
     "metadata": {},
     "output_type": "execute_result"
    }
   ],
   "source": [
    "df.T.head(5)"
   ]
  },
  {
   "cell_type": "code",
   "execution_count": 35,
   "metadata": {},
   "outputs": [
    {
     "data": {
      "text/plain": [
       "Index(['Title', 'Release Year', 'Locations', 'Fun Facts', 'Production Company',\n",
       "       'Distributor', 'Director', 'Writer', 'Actor 1', 'Actor 2', 'Actor 3'],\n",
       "      dtype='object')"
      ]
     },
     "execution_count": 35,
     "metadata": {},
     "output_type": "execute_result"
    }
   ],
   "source": [
    "df.columns"
   ]
  },
  {
   "cell_type": "markdown",
   "metadata": {},
   "source": [
    "### Donner le nombre et les endroits de tournage (location) par film.\n"
   ]
  },
  {
   "cell_type": "code",
   "execution_count": 36,
   "metadata": {},
   "outputs": [
    {
     "data": {
      "text/html": [
       "<div>\n",
       "<style scoped>\n",
       "    .dataframe tbody tr th:only-of-type {\n",
       "        vertical-align: middle;\n",
       "    }\n",
       "\n",
       "    .dataframe tbody tr th {\n",
       "        vertical-align: top;\n",
       "    }\n",
       "\n",
       "    .dataframe thead th {\n",
       "        text-align: right;\n",
       "    }\n",
       "</style>\n",
       "<table border=\"1\" class=\"dataframe\">\n",
       "  <thead>\n",
       "    <tr style=\"text-align: right;\">\n",
       "      <th></th>\n",
       "      <th>Title</th>\n",
       "    </tr>\n",
       "  </thead>\n",
       "  <tbody>\n",
       "    <tr>\n",
       "      <th>Looking</th>\n",
       "      <td>82</td>\n",
       "    </tr>\n",
       "    <tr>\n",
       "      <th>Chance Season 2</th>\n",
       "      <td>60</td>\n",
       "    </tr>\n",
       "    <tr>\n",
       "      <th>The Dead Pool</th>\n",
       "      <td>58</td>\n",
       "    </tr>\n",
       "    <tr>\n",
       "      <th>Blue Jasmine</th>\n",
       "      <td>56</td>\n",
       "    </tr>\n",
       "    <tr>\n",
       "      <th>Etruscan Smile</th>\n",
       "      <td>56</td>\n",
       "    </tr>\n",
       "  </tbody>\n",
       "</table>\n",
       "</div>"
      ],
      "text/plain": [
       "                 Title\n",
       "Looking             82\n",
       "Chance Season 2     60\n",
       "The Dead Pool       58\n",
       "Blue Jasmine        56\n",
       "Etruscan Smile      56"
      ]
     },
     "execution_count": 36,
     "metadata": {},
     "output_type": "execute_result"
    }
   ],
   "source": [
    "df['Title'].value_counts().to_frame().head(5)"
   ]
  },
  {
   "cell_type": "markdown",
   "metadata": {},
   "source": [
    "### On souvegarde les valeurs unique dans une liste \n"
   ]
  },
  {
   "cell_type": "code",
   "execution_count": 37,
   "metadata": {},
   "outputs": [],
   "source": [
    "uniqueValues = (df['Title']).unique()\n",
    "# print(uniqueValues)"
   ]
  },
  {
   "cell_type": "code",
   "execution_count": 38,
   "metadata": {},
   "outputs": [
    {
     "data": {
      "text/plain": [
       "316"
      ]
     },
     "execution_count": 38,
     "metadata": {},
     "output_type": "execute_result"
    }
   ],
   "source": [
    "uniqueValues.size"
   ]
  },
  {
   "cell_type": "raw",
   "metadata": {},
   "source": [
    "Il y a 316 films"
   ]
  },
  {
   "cell_type": "markdown",
   "metadata": {},
   "source": [
    "### We create an empty data frame  dfn with column names: 'Title' and'Locations'. Then, we search in  df dataframe unique values (Title) and append all the Locations corresponding to the Title to dfn dataframe."
   ]
  },
  {
   "cell_type": "code",
   "execution_count": 39,
   "metadata": {},
   "outputs": [],
   "source": [
    "dfn = pd.DataFrame(columns=['Title','Locations'])\n",
    "for i in (uniqueValues):\n",
    "    dfn = dfn.append({'Title':i,'Locations': df[df['Title']==i]['Locations']}, ignore_index=True)\n",
    "dfn.to_csv('movies_Locations.csv', index = False)"
   ]
  },
  {
   "cell_type": "markdown",
   "metadata": {},
   "source": [
    "### Example: on va meintenant afficher le nombre des tournages et tout les locations pour le deuxieme Film dans une dataframe dfn"
   ]
  },
  {
   "cell_type": "code",
   "execution_count": 40,
   "metadata": {},
   "outputs": [
    {
     "name": "stdout",
     "output_type": "stream",
     "text": [
      "Title : Summertime \n",
      " Nombre des tournages:  28 \n",
      "  Locations:\n",
      " 9                                           Alamo Square \n",
      "21      Chinatown (Stockton @ Jackson & Jackson toward...\n",
      "22                    Broadway and Taylor St Intersection\n",
      "24      Buena Vista East & Duboce; Buena Vista East & ...\n",
      "26      Love Street Vintage (1506 Haight & adjacent Ha...\n",
      "27                 Montgomery between California and Pine\n",
      "51      Sansome (Washington to Bush) Pine (Davis to Ke...\n",
      "52                                     Stanyan & Belgrave\n",
      "65                                            Duboce Park\n",
      "180                     20th St and Church (3885 20th St)\n",
      "187                     Turk St between Lyon and Baker St\n",
      "189                                         53 Potomac St\n",
      "194                         Oasis Nightclub (298 11th St)\n",
      "200     Fisherman's Wharf pier near Chapel (Port Walk ...\n",
      "650     Chinatown (Stockton @ Jackson & Jackson toward...\n",
      "715                   Broadway and Taylor St Intersection\n",
      "829     Buena Vista East & Duboce; Buena Vista East & ...\n",
      "909     Love Street Vintage (1506 Haight & adjacent Ha...\n",
      "1011               Montgomery between California and Pine\n",
      "2437    Sansome (Washington to Bush) Pine (Davis to Ke...\n",
      "2450                                   Stanyan & Belgrave\n",
      "2511                                         Alamo Square\n",
      "2546                                          Duboce Park\n",
      "2841                    20th St and Church (3885 20th St)\n",
      "3072                    Turk St between Lyon and Baker St\n",
      "3097                                        53 Potomac St\n",
      "3217                        Oasis Nightclub (298 11th St)\n",
      "3388    Fisherman's Wharf pier near Chapel (Port Walk ...\n",
      "Name: Locations, dtype: object\n"
     ]
    }
   ],
   "source": [
    "k=2\n",
    "\n",
    "print('Title :',dfn['Title'][k],'\\n Nombre des tournages: ',dfn['Locations'][k].shape[0], '\\n  Locations:\\n',str(dfn['Locations'][k]))"
   ]
  },
  {
   "cell_type": "markdown",
   "metadata": {},
   "source": [
    "### Création de nouvelle table de données n’ayant que ces trois attributs et afficher les 10 premiers enregistrements: Title, Release Year et Production"
   ]
  },
  {
   "cell_type": "code",
   "execution_count": 41,
   "metadata": {},
   "outputs": [
    {
     "name": "stdout",
     "output_type": "stream",
     "text": [
      "(319, 3)\n"
     ]
    },
    {
     "data": {
      "text/html": [
       "<div>\n",
       "<style scoped>\n",
       "    .dataframe tbody tr th:only-of-type {\n",
       "        vertical-align: middle;\n",
       "    }\n",
       "\n",
       "    .dataframe tbody tr th {\n",
       "        vertical-align: top;\n",
       "    }\n",
       "\n",
       "    .dataframe thead th {\n",
       "        text-align: right;\n",
       "    }\n",
       "</style>\n",
       "<table border=\"1\" class=\"dataframe\">\n",
       "  <thead>\n",
       "    <tr style=\"text-align: right;\">\n",
       "      <th></th>\n",
       "      <th>Title</th>\n",
       "      <th>Release Year</th>\n",
       "      <th>Production Company</th>\n",
       "    </tr>\n",
       "  </thead>\n",
       "  <tbody>\n",
       "    <tr>\n",
       "      <th>0</th>\n",
       "      <td>180</td>\n",
       "      <td>2011</td>\n",
       "      <td>SPI Cinemas</td>\n",
       "    </tr>\n",
       "    <tr>\n",
       "      <th>1</th>\n",
       "      <td>24 Hours on Craigslist</td>\n",
       "      <td>2005</td>\n",
       "      <td>Yerba Buena Productions</td>\n",
       "    </tr>\n",
       "    <tr>\n",
       "      <th>2</th>\n",
       "      <td>Summertime</td>\n",
       "      <td>2015</td>\n",
       "      <td>Creative Monster Productions, Inc.</td>\n",
       "    </tr>\n",
       "    <tr>\n",
       "      <th>3</th>\n",
       "      <td>Ballers Season 3</td>\n",
       "      <td>2017</td>\n",
       "      <td>Chori Perros Productions, LLC</td>\n",
       "    </tr>\n",
       "    <tr>\n",
       "      <th>4</th>\n",
       "      <td>Chance Season 2</td>\n",
       "      <td>2017</td>\n",
       "      <td>TVM Productions Inc.</td>\n",
       "    </tr>\n",
       "    <tr>\n",
       "      <th>5</th>\n",
       "      <td>A Night Full of Rain</td>\n",
       "      <td>1978</td>\n",
       "      <td>Liberty Film</td>\n",
       "    </tr>\n",
       "    <tr>\n",
       "      <th>6</th>\n",
       "      <td>Vegas in Space</td>\n",
       "      <td>1992</td>\n",
       "      <td>Troma Entertainment</td>\n",
       "    </tr>\n",
       "    <tr>\n",
       "      <th>7</th>\n",
       "      <td>Nine Months</td>\n",
       "      <td>1995</td>\n",
       "      <td>1492 Pictures</td>\n",
       "    </tr>\n",
       "    <tr>\n",
       "      <th>8</th>\n",
       "      <td>Beautiful Boy</td>\n",
       "      <td>2018</td>\n",
       "      <td>Big Indie Pictures</td>\n",
       "    </tr>\n",
       "    <tr>\n",
       "      <th>9</th>\n",
       "      <td>About a Boy</td>\n",
       "      <td>2014</td>\n",
       "      <td>NBC Studios</td>\n",
       "    </tr>\n",
       "  </tbody>\n",
       "</table>\n",
       "</div>"
      ],
      "text/plain": [
       "                    Title  Release Year                  Production Company\n",
       "0                     180          2011                         SPI Cinemas\n",
       "1  24 Hours on Craigslist          2005             Yerba Buena Productions\n",
       "2              Summertime          2015  Creative Monster Productions, Inc.\n",
       "3        Ballers Season 3          2017       Chori Perros Productions, LLC\n",
       "4         Chance Season 2          2017                TVM Productions Inc.\n",
       "5    A Night Full of Rain          1978                        Liberty Film\n",
       "6          Vegas in Space          1992                 Troma Entertainment\n",
       "7             Nine Months          1995                       1492 Pictures\n",
       "8           Beautiful Boy          2018                  Big Indie Pictures\n",
       "9             About a Boy          2014                         NBC Studios"
      ]
     },
     "execution_count": 41,
     "metadata": {},
     "output_type": "execute_result"
    }
   ],
   "source": [
    "df1=df[['Title','Release Year', 'Production Company']]\n",
    "result = df1.drop_duplicates()\n",
    "print(result.shape)\n",
    "result.reset_index(inplace=True)\n",
    "result_movie=result.drop('index',axis=1)\n",
    "\n",
    "result_movie.head(10)\n"
   ]
  },
  {
   "cell_type": "code",
   "execution_count": 42,
   "metadata": {},
   "outputs": [],
   "source": [
    "result_movie.to_csv('RESULT_moviesx.csv', index = False)"
   ]
  },
  {
   "cell_type": "markdown",
   "metadata": {},
   "source": [
    "## 1.4. Charger le jeu de données « data_employe.profiles.txt ».\n",
    "- Déterminer la classe des travailleurs qui ont un capital gain (gain capital) le plus élevé et\n",
    "afficher uniquement l’âge, genre, classe de travail (class work) et le salaire ?\n",
    "- Déterminer les employés qui sont susceptibles d’avoir un capital perte (capital loss) élevé\n",
    "(choisir les attributs qui vous semblent pertinents pour faire cette investigation et dites\n",
    "pourquoi ?\n",
    "- Selon vous quelles sont les facteurs (combinaison d’attributs) ou le capital gain est au\n",
    "maximum et la perte en capitale (capital loss) est au minimum avec un salaire moyen par\n",
    "rapport à tous les employés ?\n"
   ]
  },
  {
   "cell_type": "markdown",
   "metadata": {},
   "source": [
    "### Chargement de jeu de données « data_person_profiles.txt »\n"
   ]
  },
  {
   "cell_type": "code",
   "execution_count": 43,
   "metadata": {},
   "outputs": [
    {
     "data": {
      "text/html": [
       "<div>\n",
       "<style scoped>\n",
       "    .dataframe tbody tr th:only-of-type {\n",
       "        vertical-align: middle;\n",
       "    }\n",
       "\n",
       "    .dataframe tbody tr th {\n",
       "        vertical-align: top;\n",
       "    }\n",
       "\n",
       "    .dataframe thead th {\n",
       "        text-align: right;\n",
       "    }\n",
       "</style>\n",
       "<table border=\"1\" class=\"dataframe\">\n",
       "  <thead>\n",
       "    <tr style=\"text-align: right;\">\n",
       "      <th></th>\n",
       "      <th>age</th>\n",
       "      <th>work_class</th>\n",
       "      <th>salary</th>\n",
       "      <th>education</th>\n",
       "      <th>education_num</th>\n",
       "      <th>marital_status</th>\n",
       "      <th>occupation</th>\n",
       "      <th>relationship</th>\n",
       "      <th>race</th>\n",
       "      <th>gender</th>\n",
       "      <th>capital_gain</th>\n",
       "      <th>capital_loss</th>\n",
       "      <th>hours_per_week</th>\n",
       "      <th>country</th>\n",
       "      <th>target</th>\n",
       "    </tr>\n",
       "  </thead>\n",
       "  <tbody>\n",
       "    <tr>\n",
       "      <th>0</th>\n",
       "      <td>39</td>\n",
       "      <td>State-gov</td>\n",
       "      <td>77516</td>\n",
       "      <td>BACHELORS</td>\n",
       "      <td>13.0</td>\n",
       "      <td>NEVER-MARRIED</td>\n",
       "      <td>Adm-clerical</td>\n",
       "      <td>Not-in-family</td>\n",
       "      <td>white</td>\n",
       "      <td>Male</td>\n",
       "      <td>2174.0</td>\n",
       "      <td>NaN</td>\n",
       "      <td>40.0</td>\n",
       "      <td>United-States</td>\n",
       "      <td>&lt;=50K</td>\n",
       "    </tr>\n",
       "    <tr>\n",
       "      <th>1</th>\n",
       "      <td>50</td>\n",
       "      <td>Self-emp-not-inc</td>\n",
       "      <td>83311</td>\n",
       "      <td>BACHELORS</td>\n",
       "      <td>13.0</td>\n",
       "      <td>Married-civ-spouse</td>\n",
       "      <td>Exec-managerial</td>\n",
       "      <td>husband</td>\n",
       "      <td>white</td>\n",
       "      <td>Male</td>\n",
       "      <td>NaN</td>\n",
       "      <td>NaN</td>\n",
       "      <td>13.0</td>\n",
       "      <td>United-States</td>\n",
       "      <td>&lt;=50K</td>\n",
       "    </tr>\n",
       "    <tr>\n",
       "      <th>2</th>\n",
       "      <td>38</td>\n",
       "      <td>PRIvate</td>\n",
       "      <td>215646</td>\n",
       "      <td>HS-grad</td>\n",
       "      <td>9.0</td>\n",
       "      <td>Divorced</td>\n",
       "      <td>Handlers-cleaners</td>\n",
       "      <td>Not-in-family</td>\n",
       "      <td>white</td>\n",
       "      <td>Male</td>\n",
       "      <td>NaN</td>\n",
       "      <td>NaN</td>\n",
       "      <td>40.0</td>\n",
       "      <td>United-States</td>\n",
       "      <td>&lt;=50K</td>\n",
       "    </tr>\n",
       "    <tr>\n",
       "      <th>3</th>\n",
       "      <td>53</td>\n",
       "      <td>PRIvate</td>\n",
       "      <td>234721</td>\n",
       "      <td>11th</td>\n",
       "      <td>7.0</td>\n",
       "      <td>Married-civ-spouse</td>\n",
       "      <td>Handlers-cleaners</td>\n",
       "      <td>husband</td>\n",
       "      <td>Black</td>\n",
       "      <td>Male</td>\n",
       "      <td>NaN</td>\n",
       "      <td>NaN</td>\n",
       "      <td>40.0</td>\n",
       "      <td>United-States</td>\n",
       "      <td>&lt;=50K</td>\n",
       "    </tr>\n",
       "    <tr>\n",
       "      <th>4</th>\n",
       "      <td>28</td>\n",
       "      <td>PRIvate</td>\n",
       "      <td>338409</td>\n",
       "      <td>BACHELORS</td>\n",
       "      <td>13.0</td>\n",
       "      <td>Married-civ-spouse</td>\n",
       "      <td>Prof-specialty</td>\n",
       "      <td>Wife</td>\n",
       "      <td>Black</td>\n",
       "      <td>Female</td>\n",
       "      <td>NaN</td>\n",
       "      <td>NaN</td>\n",
       "      <td>40.0</td>\n",
       "      <td>Cuba</td>\n",
       "      <td>&lt;=50K</td>\n",
       "    </tr>\n",
       "  </tbody>\n",
       "</table>\n",
       "</div>"
      ],
      "text/plain": [
       "   age        work_class  salary  education  education_num  \\\n",
       "0   39         State-gov   77516  BACHELORS           13.0   \n",
       "1   50  Self-emp-not-inc   83311  BACHELORS           13.0   \n",
       "2   38           PRIvate  215646    HS-grad            9.0   \n",
       "3   53           PRIvate  234721       11th            7.0   \n",
       "4   28           PRIvate  338409  BACHELORS           13.0   \n",
       "\n",
       "       marital_status         occupation   relationship   race  gender  \\\n",
       "0       NEVER-MARRIED       Adm-clerical  Not-in-family  white    Male   \n",
       "1  Married-civ-spouse    Exec-managerial        husband  white    Male   \n",
       "2            Divorced  Handlers-cleaners  Not-in-family  white    Male   \n",
       "3  Married-civ-spouse  Handlers-cleaners        husband  Black    Male   \n",
       "4  Married-civ-spouse     Prof-specialty           Wife  Black  Female   \n",
       "\n",
       "   capital_gain  capital_loss  hours_per_week        country target  \n",
       "0        2174.0           NaN            40.0  United-States  <=50K  \n",
       "1           NaN           NaN            13.0  United-States  <=50K  \n",
       "2           NaN           NaN            40.0  United-States  <=50K  \n",
       "3           NaN           NaN            40.0  United-States  <=50K  \n",
       "4           NaN           NaN            40.0           Cuba  <=50K  "
      ]
     },
     "execution_count": 43,
     "metadata": {},
     "output_type": "execute_result"
    }
   ],
   "source": [
    "df = pd.read_csv('data_projet/data_employe_profiles.csv', delimiter=\",\") #Chargement de donnees dans data frame df\n",
    "df.head(5)\n"
   ]
  },
  {
   "cell_type": "code",
   "execution_count": 44,
   "metadata": {},
   "outputs": [
    {
     "data": {
      "text/plain": [
       "(5730, 15)"
      ]
     },
     "execution_count": 44,
     "metadata": {},
     "output_type": "execute_result"
    }
   ],
   "source": [
    "df.shape"
   ]
  },
  {
   "cell_type": "code",
   "execution_count": 45,
   "metadata": {},
   "outputs": [
    {
     "data": {
      "text/plain": [
       "Index(['age', 'work_class', 'salary', 'education', 'education_num',\n",
       "       'marital_status', 'occupation', 'relationship', 'race', 'gender',\n",
       "       'capital_gain', 'capital_loss', 'hours_per_week', 'country', 'target'],\n",
       "      dtype='object')"
      ]
     },
     "execution_count": 45,
     "metadata": {},
     "output_type": "execute_result"
    }
   ],
   "source": [
    "df.columns"
   ]
  },
  {
   "cell_type": "markdown",
   "metadata": {},
   "source": [
    "### 1.4.a. On cherche le 'capital_gain' moyen par classe le plus eleve.  "
   ]
  },
  {
   "cell_type": "code",
   "execution_count": 46,
   "metadata": {},
   "outputs": [
    {
     "data": {
      "text/html": [
       "<div>\n",
       "<style scoped>\n",
       "    .dataframe tbody tr th:only-of-type {\n",
       "        vertical-align: middle;\n",
       "    }\n",
       "\n",
       "    .dataframe tbody tr th {\n",
       "        vertical-align: top;\n",
       "    }\n",
       "\n",
       "    .dataframe thead th {\n",
       "        text-align: right;\n",
       "    }\n",
       "</style>\n",
       "<table border=\"1\" class=\"dataframe\">\n",
       "  <thead>\n",
       "    <tr style=\"text-align: right;\">\n",
       "      <th></th>\n",
       "      <th>age</th>\n",
       "      <th>salary</th>\n",
       "      <th>capital_gain</th>\n",
       "    </tr>\n",
       "    <tr>\n",
       "      <th>work_class</th>\n",
       "      <th></th>\n",
       "      <th></th>\n",
       "      <th></th>\n",
       "    </tr>\n",
       "  </thead>\n",
       "  <tbody>\n",
       "    <tr>\n",
       "      <th>Self-emp-inc</th>\n",
       "      <td>45.373786</td>\n",
       "      <td>172596.470874</td>\n",
       "      <td>8928.105263</td>\n",
       "    </tr>\n",
       "    <tr>\n",
       "      <th>PRIvate</th>\n",
       "      <td>36.586047</td>\n",
       "      <td>191583.953488</td>\n",
       "      <td>7291.619048</td>\n",
       "    </tr>\n",
       "    <tr>\n",
       "      <th>Self-emp-not-inc</th>\n",
       "      <td>44.890661</td>\n",
       "      <td>184634.865604</td>\n",
       "      <td>3134.097959</td>\n",
       "    </tr>\n",
       "    <tr>\n",
       "      <th>Private</th>\n",
       "      <td>36.981745</td>\n",
       "      <td>193673.559732</td>\n",
       "      <td>1453.709648</td>\n",
       "    </tr>\n",
       "    <tr>\n",
       "      <th>Local-gov</th>\n",
       "      <td>41.808511</td>\n",
       "      <td>187465.561170</td>\n",
       "      <td>1179.922330</td>\n",
       "    </tr>\n",
       "    <tr>\n",
       "      <th>Federal-gov</th>\n",
       "      <td>42.503030</td>\n",
       "      <td>187870.787879</td>\n",
       "      <td>1106.621053</td>\n",
       "    </tr>\n",
       "    <tr>\n",
       "      <th>State-gov</th>\n",
       "      <td>38.926724</td>\n",
       "      <td>179988.715517</td>\n",
       "      <td>970.074074</td>\n",
       "    </tr>\n",
       "    <tr>\n",
       "      <th>?</th>\n",
       "      <td>39.667568</td>\n",
       "      <td>192141.686486</td>\n",
       "      <td>642.689320</td>\n",
       "    </tr>\n",
       "    <tr>\n",
       "      <th>Never-worked</th>\n",
       "      <td>18.000000</td>\n",
       "      <td>206359.000000</td>\n",
       "      <td>0.000000</td>\n",
       "    </tr>\n",
       "    <tr>\n",
       "      <th>Without-pay</th>\n",
       "      <td>65.000000</td>\n",
       "      <td>27012.000000</td>\n",
       "      <td>NaN</td>\n",
       "    </tr>\n",
       "  </tbody>\n",
       "</table>\n",
       "</div>"
      ],
      "text/plain": [
       "                        age         salary  capital_gain\n",
       "work_class                                              \n",
       "Self-emp-inc      45.373786  172596.470874   8928.105263\n",
       "PRIvate           36.586047  191583.953488   7291.619048\n",
       "Self-emp-not-inc  44.890661  184634.865604   3134.097959\n",
       "Private           36.981745  193673.559732   1453.709648\n",
       "Local-gov         41.808511  187465.561170   1179.922330\n",
       "Federal-gov       42.503030  187870.787879   1106.621053\n",
       "State-gov         38.926724  179988.715517    970.074074\n",
       "?                 39.667568  192141.686486    642.689320\n",
       "Never-worked      18.000000  206359.000000      0.000000\n",
       "Without-pay       65.000000   27012.000000           NaN"
      ]
     },
     "execution_count": 46,
     "metadata": {},
     "output_type": "execute_result"
    }
   ],
   "source": [
    "df2 = df[['age', 'gender', 'work_class', 'salary', 'capital_gain', 'gender']]\n",
    "df2.groupby('work_class').mean().sort_values(by='capital_gain',ascending=False)\n"
   ]
  },
  {
   "cell_type": "markdown",
   "metadata": {},
   "source": [
    "###  La classe de travaillurs avec le capital_gain plus eleve est \"Self-emp-inc\""
   ]
  },
  {
   "cell_type": "code",
   "execution_count": 49,
   "metadata": {},
   "outputs": [
    {
     "data": {
      "text/plain": [
       "'Self-emp-inc'"
      ]
     },
     "execution_count": 49,
     "metadata": {},
     "output_type": "execute_result"
    }
   ],
   "source": [
    "df1=df.groupby('work_class').mean().sort_values(by='capital_gain',ascending=False).head(1).idxmax()[1]\n",
    "df1\n"
   ]
  },
  {
   "cell_type": "code",
   "execution_count": 50,
   "metadata": {},
   "outputs": [
    {
     "data": {
      "text/html": [
       "<div>\n",
       "<style scoped>\n",
       "    .dataframe tbody tr th:only-of-type {\n",
       "        vertical-align: middle;\n",
       "    }\n",
       "\n",
       "    .dataframe tbody tr th {\n",
       "        vertical-align: top;\n",
       "    }\n",
       "\n",
       "    .dataframe thead th {\n",
       "        text-align: right;\n",
       "    }\n",
       "</style>\n",
       "<table border=\"1\" class=\"dataframe\">\n",
       "  <thead>\n",
       "    <tr style=\"text-align: right;\">\n",
       "      <th></th>\n",
       "      <th>age</th>\n",
       "      <th>gender</th>\n",
       "      <th>work_class</th>\n",
       "      <th>salary</th>\n",
       "    </tr>\n",
       "  </thead>\n",
       "  <tbody>\n",
       "    <tr>\n",
       "      <th>54</th>\n",
       "      <td>47</td>\n",
       "      <td>Male</td>\n",
       "      <td>Self-emp-inc</td>\n",
       "      <td>109832</td>\n",
       "    </tr>\n",
       "    <tr>\n",
       "      <th>68</th>\n",
       "      <td>49</td>\n",
       "      <td>Male</td>\n",
       "      <td>Self-emp-inc</td>\n",
       "      <td>191681</td>\n",
       "    </tr>\n",
       "    <tr>\n",
       "      <th>105</th>\n",
       "      <td>32</td>\n",
       "      <td>Male</td>\n",
       "      <td>Self-emp-inc</td>\n",
       "      <td>317660</td>\n",
       "    </tr>\n",
       "    <tr>\n",
       "      <th>116</th>\n",
       "      <td>56</td>\n",
       "      <td>Male</td>\n",
       "      <td>Self-emp-inc</td>\n",
       "      <td>303090</td>\n",
       "    </tr>\n",
       "    <tr>\n",
       "      <th>140</th>\n",
       "      <td>61</td>\n",
       "      <td>Male</td>\n",
       "      <td>Self-emp-inc</td>\n",
       "      <td>66614</td>\n",
       "    </tr>\n",
       "  </tbody>\n",
       "</table>\n",
       "</div>"
      ],
      "text/plain": [
       "     age gender    work_class  salary\n",
       "54    47   Male  Self-emp-inc  109832\n",
       "68    49   Male  Self-emp-inc  191681\n",
       "105   32   Male  Self-emp-inc  317660\n",
       "116   56   Male  Self-emp-inc  303090\n",
       "140   61   Male  Self-emp-inc   66614"
      ]
     },
     "execution_count": 50,
     "metadata": {},
     "output_type": "execute_result"
    }
   ],
   "source": [
    "dfx = df[df.work_class == 'Self-emp-inc'][['age', 'gender', 'work_class', 'salary']]\n",
    "dfx.head(5)"
   ]
  },
  {
   "cell_type": "code",
   "execution_count": 51,
   "metadata": {},
   "outputs": [
    {
     "name": "stdout",
     "output_type": "stream",
     "text": [
      "La classe de travail avec le capital gain le plus eleve:  Self-emp-inc\n",
      "age moyen  45.37378640776699\n",
      "le genre plus courant:  Male\n",
      "le salaire moyen  172596.4708737864\n"
     ]
    }
   ],
   "source": [
    "print('La classe de travail avec le capital gain le plus eleve: ',df1)\n",
    "print('age moyen ',df.groupby('work_class').mean().loc['Self-emp-inc']['age'])\n",
    "print('le genre plus courant: ',df[df['work_class']=='Self-emp-inc']['gender'].value_counts().idxmax())\n",
    "print('le salaire moyen ',df.groupby('work_class').mean().loc['Self-emp-inc']['salary'])"
   ]
  },
  {
   "cell_type": "markdown",
   "metadata": {},
   "source": [
    "Pour savoir le genre le plus courant dans la class 'Self-emp-inc' on applique .value_counts().idxmax() pour les autres caracteristiques on cherche le moyenne"
   ]
  },
  {
   "cell_type": "code",
   "execution_count": 52,
   "metadata": {},
   "outputs": [
    {
     "name": "stdout",
     "output_type": "stream",
     "text": [
      "Male      177\n",
      "Female     29\n",
      "Name: gender, dtype: int64\n"
     ]
    }
   ],
   "source": [
    "print(df[df['work_class']=='Self-emp-inc']['gender'].value_counts())"
   ]
  },
  {
   "cell_type": "code",
   "execution_count": 53,
   "metadata": {},
   "outputs": [
    {
     "data": {
      "text/plain": [
       "'Male'"
      ]
     },
     "execution_count": 53,
     "metadata": {},
     "output_type": "execute_result"
    }
   ],
   "source": [
    "df[df['work_class']=='Self-emp-inc']['gender'].value_counts().idxmax()"
   ]
  },
  {
   "cell_type": "markdown",
   "metadata": {},
   "source": [
    "### Déterminer les employés qui sont susceptibles d’avoir un capital perte (capital loss) élevé\n"
   ]
  },
  {
   "cell_type": "code",
   "execution_count": 54,
   "metadata": {},
   "outputs": [
    {
     "data": {
      "text/html": [
       "<div>\n",
       "<style scoped>\n",
       "    .dataframe tbody tr th:only-of-type {\n",
       "        vertical-align: middle;\n",
       "    }\n",
       "\n",
       "    .dataframe tbody tr th {\n",
       "        vertical-align: top;\n",
       "    }\n",
       "\n",
       "    .dataframe thead th {\n",
       "        text-align: right;\n",
       "    }\n",
       "</style>\n",
       "<table border=\"1\" class=\"dataframe\">\n",
       "  <thead>\n",
       "    <tr style=\"text-align: right;\">\n",
       "      <th></th>\n",
       "      <th>age</th>\n",
       "      <th>work_class</th>\n",
       "      <th>salary</th>\n",
       "      <th>education</th>\n",
       "      <th>education_num</th>\n",
       "      <th>marital_status</th>\n",
       "      <th>occupation</th>\n",
       "      <th>relationship</th>\n",
       "      <th>race</th>\n",
       "      <th>gender</th>\n",
       "      <th>capital_gain</th>\n",
       "      <th>capital_loss</th>\n",
       "      <th>hours_per_week</th>\n",
       "      <th>country</th>\n",
       "      <th>target</th>\n",
       "    </tr>\n",
       "  </thead>\n",
       "  <tbody>\n",
       "    <tr>\n",
       "      <th>5309</th>\n",
       "      <td>41</td>\n",
       "      <td>Private</td>\n",
       "      <td>70037</td>\n",
       "      <td>Some-college</td>\n",
       "      <td>10.0</td>\n",
       "      <td>Never-married</td>\n",
       "      <td>Craft-repair</td>\n",
       "      <td>Unmarried</td>\n",
       "      <td>White</td>\n",
       "      <td>Male</td>\n",
       "      <td>0.0</td>\n",
       "      <td>3004.0</td>\n",
       "      <td>60.0</td>\n",
       "      <td>?</td>\n",
       "      <td>&gt;50K</td>\n",
       "    </tr>\n",
       "    <tr>\n",
       "      <th>5713</th>\n",
       "      <td>38</td>\n",
       "      <td>Self-emp-not-inc</td>\n",
       "      <td>164526</td>\n",
       "      <td>Prof-school</td>\n",
       "      <td>15.0</td>\n",
       "      <td>Never-married</td>\n",
       "      <td>Prof-specialty</td>\n",
       "      <td>Not-in-family</td>\n",
       "      <td>White</td>\n",
       "      <td>Male</td>\n",
       "      <td>0.0</td>\n",
       "      <td>2824.0</td>\n",
       "      <td>45.0</td>\n",
       "      <td>United-States</td>\n",
       "      <td>&gt;50K</td>\n",
       "    </tr>\n",
       "    <tr>\n",
       "      <th>2414</th>\n",
       "      <td>44</td>\n",
       "      <td>Private</td>\n",
       "      <td>326232</td>\n",
       "      <td>BACHELORS</td>\n",
       "      <td>13.0</td>\n",
       "      <td>Divorced</td>\n",
       "      <td>Exec-managerial</td>\n",
       "      <td>Unmarried</td>\n",
       "      <td>white</td>\n",
       "      <td>Male</td>\n",
       "      <td>NaN</td>\n",
       "      <td>2547.0</td>\n",
       "      <td>50.0</td>\n",
       "      <td>United-States</td>\n",
       "      <td>&gt;50K</td>\n",
       "    </tr>\n",
       "    <tr>\n",
       "      <th>2859</th>\n",
       "      <td>40</td>\n",
       "      <td>Self-emp-not-inc</td>\n",
       "      <td>335549</td>\n",
       "      <td>Prof-school</td>\n",
       "      <td>15.0</td>\n",
       "      <td>Never-married</td>\n",
       "      <td>Prof-specialty</td>\n",
       "      <td>Not-in-family</td>\n",
       "      <td>White</td>\n",
       "      <td>Male</td>\n",
       "      <td>0.0</td>\n",
       "      <td>2444.0</td>\n",
       "      <td>45.0</td>\n",
       "      <td>United-States</td>\n",
       "      <td>&gt;50K</td>\n",
       "    </tr>\n",
       "    <tr>\n",
       "      <th>387</th>\n",
       "      <td>44</td>\n",
       "      <td>Private</td>\n",
       "      <td>162028</td>\n",
       "      <td>Some-college</td>\n",
       "      <td>10.0</td>\n",
       "      <td>Married-civ-spouse</td>\n",
       "      <td>Adm-clerical</td>\n",
       "      <td>Wife</td>\n",
       "      <td>white</td>\n",
       "      <td>Female</td>\n",
       "      <td>NaN</td>\n",
       "      <td>2415.0</td>\n",
       "      <td>6.0</td>\n",
       "      <td>United-States</td>\n",
       "      <td>&gt;50K</td>\n",
       "    </tr>\n",
       "  </tbody>\n",
       "</table>\n",
       "</div>"
      ],
      "text/plain": [
       "      age        work_class  salary     education  education_num  \\\n",
       "5309   41           Private   70037  Some-college           10.0   \n",
       "5713   38  Self-emp-not-inc  164526   Prof-school           15.0   \n",
       "2414   44           Private  326232     BACHELORS           13.0   \n",
       "2859   40  Self-emp-not-inc  335549   Prof-school           15.0   \n",
       "387    44           Private  162028  Some-college           10.0   \n",
       "\n",
       "          marital_status       occupation   relationship   race  gender  \\\n",
       "5309       Never-married     Craft-repair      Unmarried  White    Male   \n",
       "5713       Never-married   Prof-specialty  Not-in-family  White    Male   \n",
       "2414            Divorced  Exec-managerial      Unmarried  white    Male   \n",
       "2859       Never-married   Prof-specialty  Not-in-family  White    Male   \n",
       "387   Married-civ-spouse     Adm-clerical           Wife  white  Female   \n",
       "\n",
       "      capital_gain  capital_loss  hours_per_week        country target  \n",
       "5309           0.0        3004.0            60.0              ?   >50K  \n",
       "5713           0.0        2824.0            45.0  United-States   >50K  \n",
       "2414           NaN        2547.0            50.0  United-States   >50K  \n",
       "2859           0.0        2444.0            45.0  United-States   >50K  \n",
       "387            NaN        2415.0             6.0  United-States   >50K  "
      ]
     },
     "execution_count": 54,
     "metadata": {},
     "output_type": "execute_result"
    }
   ],
   "source": [
    "df.sort_values(by='capital_loss',ascending=False).head(5)"
   ]
  },
  {
   "cell_type": "markdown",
   "metadata": {},
   "source": [
    "#### Le personnes le plus susceptible a capital perte sont dans le work_class privee et self-empl-not-inc, ils ont capital_gain=0, genre \"Male\" et ils sont never-married or divorced. On a choisi ces attributs parce que il sont plus courant pour les personnes concernees"
   ]
  },
  {
   "cell_type": "markdown",
   "metadata": {},
   "source": [
    "### Selon vous quelles sont les facteurs (combinaison d’attributs) ou le capital gain est au maximum et la perte en capitale (capital loss) est au minimum avec un salaire moyen par rapport à tous les employés?"
   ]
  },
  {
   "cell_type": "markdown",
   "metadata": {},
   "source": [
    "### On cherche les salaires qui sont plus proches a la moyenne\n"
   ]
  },
  {
   "cell_type": "code",
   "execution_count": 55,
   "metadata": {},
   "outputs": [
    {
     "name": "stdout",
     "output_type": "stream",
     "text": [
      "(array([3105, 3175], dtype=int64),)\n"
     ]
    }
   ],
   "source": [
    "idx = np.where((df['capital_loss']==df['capital_loss'].min()) & (df['capital_gain']==df['capital_gain'].max()) & (df['salary']>0.9*df['salary'].mean())&  (df['salary']<=1.1*df['salary'].mean())) \n",
    "print(idx)"
   ]
  },
  {
   "cell_type": "code",
   "execution_count": 56,
   "metadata": {},
   "outputs": [
    {
     "data": {
      "text/html": [
       "<div>\n",
       "<style scoped>\n",
       "    .dataframe tbody tr th:only-of-type {\n",
       "        vertical-align: middle;\n",
       "    }\n",
       "\n",
       "    .dataframe tbody tr th {\n",
       "        vertical-align: top;\n",
       "    }\n",
       "\n",
       "    .dataframe thead th {\n",
       "        text-align: right;\n",
       "    }\n",
       "</style>\n",
       "<table border=\"1\" class=\"dataframe\">\n",
       "  <thead>\n",
       "    <tr style=\"text-align: right;\">\n",
       "      <th></th>\n",
       "      <th>age</th>\n",
       "      <th>work_class</th>\n",
       "      <th>salary</th>\n",
       "      <th>education</th>\n",
       "      <th>education_num</th>\n",
       "      <th>marital_status</th>\n",
       "      <th>occupation</th>\n",
       "      <th>relationship</th>\n",
       "      <th>race</th>\n",
       "      <th>gender</th>\n",
       "      <th>capital_gain</th>\n",
       "      <th>capital_loss</th>\n",
       "      <th>hours_per_week</th>\n",
       "      <th>country</th>\n",
       "      <th>target</th>\n",
       "    </tr>\n",
       "  </thead>\n",
       "  <tbody>\n",
       "    <tr>\n",
       "      <th>3105</th>\n",
       "      <td>46</td>\n",
       "      <td>Private</td>\n",
       "      <td>176814</td>\n",
       "      <td>Prof-school</td>\n",
       "      <td>15.0</td>\n",
       "      <td>Married-civ-spouse</td>\n",
       "      <td>Prof-specialty</td>\n",
       "      <td>Husband</td>\n",
       "      <td>White</td>\n",
       "      <td>Male</td>\n",
       "      <td>99999.0</td>\n",
       "      <td>0.0</td>\n",
       "      <td>50.0</td>\n",
       "      <td>United-States</td>\n",
       "      <td>&gt;50K</td>\n",
       "    </tr>\n",
       "    <tr>\n",
       "      <th>3175</th>\n",
       "      <td>36</td>\n",
       "      <td>Private</td>\n",
       "      <td>208358</td>\n",
       "      <td>Prof-school</td>\n",
       "      <td>15.0</td>\n",
       "      <td>Divorced</td>\n",
       "      <td>Prof-specialty</td>\n",
       "      <td>Not-in-family</td>\n",
       "      <td>White</td>\n",
       "      <td>Male</td>\n",
       "      <td>99999.0</td>\n",
       "      <td>0.0</td>\n",
       "      <td>45.0</td>\n",
       "      <td>United-States</td>\n",
       "      <td>&gt;50K</td>\n",
       "    </tr>\n",
       "  </tbody>\n",
       "</table>\n",
       "</div>"
      ],
      "text/plain": [
       "      age work_class  salary    education  education_num      marital_status  \\\n",
       "3105   46    Private  176814  Prof-school           15.0  Married-civ-spouse   \n",
       "3175   36    Private  208358  Prof-school           15.0            Divorced   \n",
       "\n",
       "          occupation   relationship   race gender  capital_gain  capital_loss  \\\n",
       "3105  Prof-specialty        Husband  White   Male       99999.0           0.0   \n",
       "3175  Prof-specialty  Not-in-family  White   Male       99999.0           0.0   \n",
       "\n",
       "      hours_per_week        country target  \n",
       "3105            50.0  United-States   >50K  \n",
       "3175            45.0  United-States   >50K  "
      ]
     },
     "execution_count": 56,
     "metadata": {},
     "output_type": "execute_result"
    }
   ],
   "source": [
    "df.loc[idx]"
   ]
  },
  {
   "cell_type": "code",
   "execution_count": 57,
   "metadata": {},
   "outputs": [
    {
     "data": {
      "text/plain": [
       "38.60401396160559"
      ]
     },
     "execution_count": 57,
     "metadata": {},
     "output_type": "execute_result"
    }
   ],
   "source": [
    "df['age'].mean()"
   ]
  },
  {
   "cell_type": "code",
   "execution_count": 58,
   "metadata": {},
   "outputs": [
    {
     "data": {
      "text/plain": [
       "10.20142774454949"
      ]
     },
     "execution_count": 58,
     "metadata": {},
     "output_type": "execute_result"
    }
   ],
   "source": [
    "df['education_num'].mean()"
   ]
  },
  {
   "cell_type": "code",
   "execution_count": 59,
   "metadata": {},
   "outputs": [
    {
     "data": {
      "text/plain": [
       "190890.58411867364"
      ]
     },
     "execution_count": 59,
     "metadata": {},
     "output_type": "execute_result"
    }
   ],
   "source": [
    "df['salary'].mean()"
   ]
  },
  {
   "cell_type": "code",
   "execution_count": 60,
   "metadata": {},
   "outputs": [
    {
     "data": {
      "text/plain": [
       "40.49607261302147"
      ]
     },
     "execution_count": 60,
     "metadata": {},
     "output_type": "execute_result"
    }
   ],
   "source": [
    "df['hours_per_week'].mean()"
   ]
  },
  {
   "cell_type": "markdown",
   "metadata": {},
   "source": [
    "### Si on regarde sur 2 ligne on peut dire que c'est un homme qui travail beaucoup (5-10 h en plus que moyen) dans le secteur prive avec l'education Prof-school  (15 points education_num ) et occupation Prof-specialty. "
   ]
  },
  {
   "cell_type": "markdown",
   "metadata": {},
   "source": [
    "### Donc, work_class, education, eduction_num, occupation et gender sont les attributs le plus important "
   ]
  },
  {
   "cell_type": "code",
   "execution_count": 61,
   "metadata": {},
   "outputs": [
    {
     "data": {
      "text/plain": [
       "White                 2582\n",
       "white                 2300\n",
       "Black                  576\n",
       "Asian-Pac-Islander     174\n",
       "Amer-Indian-Eskimo      58\n",
       "Other                   40\n",
       "Name: race, dtype: int64"
      ]
     },
     "execution_count": 61,
     "metadata": {},
     "output_type": "execute_result"
    }
   ],
   "source": [
    "df['race'].value_counts()"
   ]
  },
  {
   "cell_type": "markdown",
   "metadata": {},
   "source": [
    "### Je doit noter que la majorite des tout les employees sont 'white',  donc on ne peut pas dire que race est important. "
   ]
  },
  {
   "cell_type": "markdown",
   "metadata": {},
   "source": [
    "#  SQL & Python"
   ]
  },
  {
   "cell_type": "markdown",
   "metadata": {},
   "source": [
    "## Running code example for SQL: "
   ]
  },
  {
   "cell_type": "code",
   "execution_count": 63,
   "metadata": {},
   "outputs": [
    {
     "name": "stdout",
     "output_type": "stream",
     "text": [
      "Table created successfully\n",
      "ID =  1\n",
      "NAME =  Paul\n",
      "ADDRESS =  California\n",
      "SALARY =  20000.0 \n",
      "\n"
     ]
    }
   ],
   "source": [
    "import sqlite3\n",
    "\n",
    "conn = sqlite3.connect('testYuliaRicardo_example.db')\n",
    "\n",
    "conn.execute('''CREATE TABLE COMPANY\n",
    "    (ID INT PRIMARY KEY NOT NULL,\n",
    "    NAME TEXT NOT NULL,\n",
    "    AGE INT NOT NULL,\n",
    "    ADDRESS CHAR(50),\n",
    "    SALARY REAL);''')\n",
    "\n",
    "print(\"Table created successfully\")\n",
    "conn.execute(\"INSERT INTO COMPANY (ID,NAME,AGE,ADDRESS,SALARY) \\\n",
    "VALUES (1, 'Paul', 32, 'California', 20000.00 )\")\n",
    "\n",
    "conn.commit()\n",
    "cursor = conn.execute(\"SELECT id, name, address, salary from COMPANY\")\n",
    "\n",
    "for row in cursor:\n",
    "    print (\"ID = \", row[0])\n",
    "    print (\"NAME = \", row[1])\n",
    "    print (\"ADDRESS = \", row[2])\n",
    "    print (\"SALARY = \", row[3], \"\\n\")\n",
    "\n",
    "conn.close() #Run example\n"
   ]
  },
  {
   "cell_type": "markdown",
   "metadata": {},
   "source": [
    "### Notes:\n",
    "- Adding parenthesis to prints \n",
    "- Database created automatically in folder of jupyter file\n",
    "- Execute 2nd time doesnt work second time because its already created the table or the database.\n",
    "- To Erase database, i have to close jupyther (Windows show file already in use)"
   ]
  },
  {
   "cell_type": "markdown",
   "metadata": {},
   "source": [
    "##  1.5.   Importer le jeu de données movies (movies.csv) dans une table de données qui se nommera data_movies en gardant seulement les variables suivantes :\n",
    "\n",
    "- num_voted_users,\n",
    "- country,\n",
    "- movie_facebook_likes,\n",
    "- director_facebook_likes,\n",
    "- aspect_ratio,\n",
    "- movie_title,\n",
    "- actor_1_name,\n",
    "- imdb_score,\n",
    "- duration\n",
    "\n",
    "Cette table de données comprendra seulement les films qui ont plus de 52000 personnes ayant voté"
   ]
  },
  {
   "cell_type": "code",
   "execution_count": 64,
   "metadata": {},
   "outputs": [
    {
     "data": {
      "text/html": [
       "<div>\n",
       "<style scoped>\n",
       "    .dataframe tbody tr th:only-of-type {\n",
       "        vertical-align: middle;\n",
       "    }\n",
       "\n",
       "    .dataframe tbody tr th {\n",
       "        vertical-align: top;\n",
       "    }\n",
       "\n",
       "    .dataframe thead th {\n",
       "        text-align: right;\n",
       "    }\n",
       "</style>\n",
       "<table border=\"1\" class=\"dataframe\">\n",
       "  <thead>\n",
       "    <tr style=\"text-align: right;\">\n",
       "      <th></th>\n",
       "      <th>color</th>\n",
       "      <th>director_name</th>\n",
       "      <th>num_critic_for_reviews</th>\n",
       "      <th>duration</th>\n",
       "      <th>director_facebook_likes</th>\n",
       "      <th>actor_3_facebook_likes</th>\n",
       "      <th>actor_2_name</th>\n",
       "      <th>actor_1_facebook_likes</th>\n",
       "      <th>gross</th>\n",
       "      <th>genres</th>\n",
       "      <th>...</th>\n",
       "      <th>num_user_for_reviews</th>\n",
       "      <th>language</th>\n",
       "      <th>country</th>\n",
       "      <th>content_rating</th>\n",
       "      <th>budget</th>\n",
       "      <th>title_year</th>\n",
       "      <th>actor_2_facebook_likes</th>\n",
       "      <th>imdb_score</th>\n",
       "      <th>aspect_ratio</th>\n",
       "      <th>movie_facebook_likes</th>\n",
       "    </tr>\n",
       "  </thead>\n",
       "  <tbody>\n",
       "    <tr>\n",
       "      <th>0</th>\n",
       "      <td>Colores</td>\n",
       "      <td>James Cameron</td>\n",
       "      <td>723.0</td>\n",
       "      <td>178 min</td>\n",
       "      <td>0.0</td>\n",
       "      <td>855.0</td>\n",
       "      <td>Joel David Moore</td>\n",
       "      <td>1000.0</td>\n",
       "      <td>760505847 $</td>\n",
       "      <td>Action|Adventure|Fantasy|Sci-Fi</td>\n",
       "      <td>...</td>\n",
       "      <td>3054</td>\n",
       "      <td>English</td>\n",
       "      <td>USA</td>\n",
       "      <td>PG-13</td>\n",
       "      <td>2.37e+08 $</td>\n",
       "      <td>2009.0</td>\n",
       "      <td>936</td>\n",
       "      <td>7.9 #</td>\n",
       "      <td>1.78</td>\n",
       "      <td>4834</td>\n",
       "    </tr>\n",
       "    <tr>\n",
       "      <th>1</th>\n",
       "      <td>Colores</td>\n",
       "      <td>Gore Verbinski</td>\n",
       "      <td>302.0</td>\n",
       "      <td>169 min</td>\n",
       "      <td>563.0</td>\n",
       "      <td>1000.0</td>\n",
       "      <td>ORLANDO BLOOM</td>\n",
       "      <td>40000.0</td>\n",
       "      <td>309404152 $</td>\n",
       "      <td>Action|Adventure|Fantasy</td>\n",
       "      <td>...</td>\n",
       "      <td>1238</td>\n",
       "      <td>English</td>\n",
       "      <td>USA</td>\n",
       "      <td>PG-13</td>\n",
       "      <td>3e+08 $</td>\n",
       "      <td>2007.0</td>\n",
       "      <td>5000</td>\n",
       "      <td>7.1 #</td>\n",
       "      <td>2.35</td>\n",
       "      <td>48350</td>\n",
       "    </tr>\n",
       "    <tr>\n",
       "      <th>2</th>\n",
       "      <td>Colores</td>\n",
       "      <td>Sam Mendes</td>\n",
       "      <td>602.0</td>\n",
       "      <td>148 min</td>\n",
       "      <td>0.0</td>\n",
       "      <td>161.0</td>\n",
       "      <td>Rory Kinnear</td>\n",
       "      <td>11000.0</td>\n",
       "      <td>200074175 $</td>\n",
       "      <td>Action|Adventure|Thriller</td>\n",
       "      <td>...</td>\n",
       "      <td>994</td>\n",
       "      <td>English</td>\n",
       "      <td>UK</td>\n",
       "      <td>PG-13</td>\n",
       "      <td>2.45e+08 $</td>\n",
       "      <td>2015.0</td>\n",
       "      <td>393</td>\n",
       "      <td>6.8 #</td>\n",
       "      <td>2.35</td>\n",
       "      <td>11700</td>\n",
       "    </tr>\n",
       "    <tr>\n",
       "      <th>3</th>\n",
       "      <td>Colores</td>\n",
       "      <td>Christopher Nolan</td>\n",
       "      <td>813.0</td>\n",
       "      <td>164 min</td>\n",
       "      <td>22000.0</td>\n",
       "      <td>23000.0</td>\n",
       "      <td>Christian Bale</td>\n",
       "      <td>27000.0</td>\n",
       "      <td>448130642 $</td>\n",
       "      <td>Action|Thriller</td>\n",
       "      <td>...</td>\n",
       "      <td>2701</td>\n",
       "      <td>English</td>\n",
       "      <td>USA</td>\n",
       "      <td>PG-13</td>\n",
       "      <td>2.5e+08 $</td>\n",
       "      <td>2012.0</td>\n",
       "      <td>23000</td>\n",
       "      <td>8.5 #</td>\n",
       "      <td>2.35</td>\n",
       "      <td>106759</td>\n",
       "    </tr>\n",
       "    <tr>\n",
       "      <th>4</th>\n",
       "      <td>NaN</td>\n",
       "      <td>Doug Walker</td>\n",
       "      <td>NaN</td>\n",
       "      <td>NA min</td>\n",
       "      <td>131.0</td>\n",
       "      <td>NaN</td>\n",
       "      <td>ROB WALKER</td>\n",
       "      <td>131.0</td>\n",
       "      <td>NA $</td>\n",
       "      <td>Documentary</td>\n",
       "      <td>...</td>\n",
       "      <td>NA</td>\n",
       "      <td>NaN</td>\n",
       "      <td>NaN</td>\n",
       "      <td>NaN</td>\n",
       "      <td>NA $</td>\n",
       "      <td>NaN</td>\n",
       "      <td>12</td>\n",
       "      <td>7.1 #</td>\n",
       "      <td>NaN</td>\n",
       "      <td>143</td>\n",
       "    </tr>\n",
       "  </tbody>\n",
       "</table>\n",
       "<p>5 rows × 28 columns</p>\n",
       "</div>"
      ],
      "text/plain": [
       "     color      director_name  num_critic_for_reviews duration  \\\n",
       "0  Colores      James Cameron                   723.0  178 min   \n",
       "1  Colores     Gore Verbinski                   302.0  169 min   \n",
       "2  Colores         Sam Mendes                   602.0  148 min   \n",
       "3  Colores  Christopher Nolan                   813.0  164 min   \n",
       "4      NaN        Doug Walker                     NaN   NA min   \n",
       "\n",
       "   director_facebook_likes  actor_3_facebook_likes      actor_2_name  \\\n",
       "0                      0.0                   855.0  Joel David Moore   \n",
       "1                    563.0                  1000.0     ORLANDO BLOOM   \n",
       "2                      0.0                   161.0      Rory Kinnear   \n",
       "3                  22000.0                 23000.0    Christian Bale   \n",
       "4                    131.0                     NaN        ROB WALKER   \n",
       "\n",
       "   actor_1_facebook_likes        gross                           genres  ...  \\\n",
       "0                  1000.0  760505847 $  Action|Adventure|Fantasy|Sci-Fi  ...   \n",
       "1                 40000.0  309404152 $         Action|Adventure|Fantasy  ...   \n",
       "2                 11000.0  200074175 $        Action|Adventure|Thriller  ...   \n",
       "3                 27000.0  448130642 $                  Action|Thriller  ...   \n",
       "4                   131.0         NA $                      Documentary  ...   \n",
       "\n",
       "  num_user_for_reviews language  country  content_rating      budget  \\\n",
       "0                 3054  English      USA           PG-13  2.37e+08 $   \n",
       "1                 1238  English      USA           PG-13     3e+08 $   \n",
       "2                  994  English       UK           PG-13  2.45e+08 $   \n",
       "3                 2701  English      USA           PG-13   2.5e+08 $   \n",
       "4                 NA        NaN      NaN             NaN        NA $   \n",
       "\n",
       "   title_year actor_2_facebook_likes imdb_score aspect_ratio  \\\n",
       "0      2009.0                    936      7.9 #         1.78   \n",
       "1      2007.0                   5000      7.1 #         2.35   \n",
       "2      2015.0                    393      6.8 #         2.35   \n",
       "3      2012.0                  23000      8.5 #         2.35   \n",
       "4         NaN                     12      7.1 #          NaN   \n",
       "\n",
       "  movie_facebook_likes  \n",
       "0                 4834  \n",
       "1                48350  \n",
       "2                11700  \n",
       "3               106759  \n",
       "4                  143  \n",
       "\n",
       "[5 rows x 28 columns]"
      ]
     },
     "execution_count": 64,
     "metadata": {},
     "output_type": "execute_result"
    }
   ],
   "source": [
    "import pandas as pd\n",
    "\n",
    "data= pd.read_csv(\"data_projet/movies.csv\")\n",
    "pd.set_option('display.max_rows', None)\n",
    "data.head()\n"
   ]
  },
  {
   "cell_type": "code",
   "execution_count": 65,
   "metadata": {},
   "outputs": [
    {
     "name": "stdout",
     "output_type": "stream",
     "text": [
      "<class 'pandas.core.frame.DataFrame'>\n",
      "RangeIndex: 7410 entries, 0 to 7409\n",
      "Data columns (total 28 columns):\n",
      " #   Column                     Non-Null Count  Dtype  \n",
      "---  ------                     --------------  -----  \n",
      " 0   color                      7386 non-null   object \n",
      " 1   director_name              7263 non-null   object \n",
      " 2   num_critic_for_reviews     7338 non-null   float64\n",
      " 3   duration                   7410 non-null   object \n",
      " 4   director_facebook_likes    7263 non-null   float64\n",
      " 5   actor_3_facebook_likes     7373 non-null   float64\n",
      " 6   actor_2_name               7391 non-null   object \n",
      " 7   actor_1_facebook_likes     7400 non-null   float64\n",
      " 8   gross                      7410 non-null   object \n",
      " 9   genres                     7410 non-null   object \n",
      " 10  actor_1_name               7400 non-null   object \n",
      " 11  movie_title                7410 non-null   object \n",
      " 12  num_voted_users            7410 non-null   int64  \n",
      " 13  cast_total_facebook_likes  7410 non-null   int64  \n",
      " 14  actor_3_name               7373 non-null   object \n",
      " 15  facenumber_in_poster       7388 non-null   float64\n",
      " 16  plot_keywords              7189 non-null   object \n",
      " 17  movie_imdb_link            7410 non-null   object \n",
      " 18  num_user_for_reviews       7410 non-null   object \n",
      " 19  language                   7394 non-null   object \n",
      " 20  country                    7403 non-null   object \n",
      " 21  content_rating             6973 non-null   object \n",
      " 22  budget                     7410 non-null   object \n",
      " 23  title_year                 7258 non-null   float64\n",
      " 24  actor_2_facebook_likes     7410 non-null   object \n",
      " 25  imdb_score                 7410 non-null   object \n",
      " 26  aspect_ratio               6944 non-null   float64\n",
      " 27  movie_facebook_likes       7410 non-null   int64  \n",
      "dtypes: float64(7), int64(3), object(18)\n",
      "memory usage: 1.6+ MB\n"
     ]
    }
   ],
   "source": [
    "data.info()"
   ]
  },
  {
   "cell_type": "markdown",
   "metadata": {},
   "source": [
    "### Response"
   ]
  },
  {
   "cell_type": "code",
   "execution_count": 66,
   "metadata": {},
   "outputs": [
    {
     "data": {
      "text/html": [
       "<div>\n",
       "<style scoped>\n",
       "    .dataframe tbody tr th:only-of-type {\n",
       "        vertical-align: middle;\n",
       "    }\n",
       "\n",
       "    .dataframe tbody tr th {\n",
       "        vertical-align: top;\n",
       "    }\n",
       "\n",
       "    .dataframe thead th {\n",
       "        text-align: right;\n",
       "    }\n",
       "</style>\n",
       "<table border=\"1\" class=\"dataframe\">\n",
       "  <thead>\n",
       "    <tr style=\"text-align: right;\">\n",
       "      <th></th>\n",
       "      <th>num_voted_users</th>\n",
       "      <th>country</th>\n",
       "      <th>movie_facebook_likes</th>\n",
       "      <th>director_facebook_likes</th>\n",
       "      <th>aspect_ratio</th>\n",
       "      <th>movie_title</th>\n",
       "      <th>actor_1_name</th>\n",
       "      <th>imdb_score</th>\n",
       "      <th>duration</th>\n",
       "    </tr>\n",
       "  </thead>\n",
       "  <tbody>\n",
       "    <tr>\n",
       "      <th>0</th>\n",
       "      <td>886204</td>\n",
       "      <td>USA</td>\n",
       "      <td>4834</td>\n",
       "      <td>0.0</td>\n",
       "      <td>1.78</td>\n",
       "      <td>Avatar</td>\n",
       "      <td>CCH POUNDER</td>\n",
       "      <td>7.9 #</td>\n",
       "      <td>178 min</td>\n",
       "    </tr>\n",
       "    <tr>\n",
       "      <th>1</th>\n",
       "      <td>471220</td>\n",
       "      <td>USA</td>\n",
       "      <td>48350</td>\n",
       "      <td>563.0</td>\n",
       "      <td>2.35</td>\n",
       "      <td>Pirates of the Caribbean: At World's End</td>\n",
       "      <td>JOHNNY DEPP</td>\n",
       "      <td>7.1 #</td>\n",
       "      <td>169 min</td>\n",
       "    </tr>\n",
       "    <tr>\n",
       "      <th>2</th>\n",
       "      <td>275868</td>\n",
       "      <td>UK</td>\n",
       "      <td>11700</td>\n",
       "      <td>0.0</td>\n",
       "      <td>2.35</td>\n",
       "      <td>Spectre</td>\n",
       "      <td>Christoph Waltz</td>\n",
       "      <td>6.8 #</td>\n",
       "      <td>148 min</td>\n",
       "    </tr>\n",
       "    <tr>\n",
       "      <th>3</th>\n",
       "      <td>1144337</td>\n",
       "      <td>USA</td>\n",
       "      <td>106759</td>\n",
       "      <td>22000.0</td>\n",
       "      <td>2.35</td>\n",
       "      <td>The Dark Knight Rises</td>\n",
       "      <td>Tom Hardy</td>\n",
       "      <td>8.5 #</td>\n",
       "      <td>164 min</td>\n",
       "    </tr>\n",
       "    <tr>\n",
       "      <th>5</th>\n",
       "      <td>212204</td>\n",
       "      <td>USA</td>\n",
       "      <td>1873</td>\n",
       "      <td>475.0</td>\n",
       "      <td>2.35</td>\n",
       "      <td>John Carter</td>\n",
       "      <td>DARYL SABARA</td>\n",
       "      <td>6.6 #</td>\n",
       "      <td>132 min</td>\n",
       "    </tr>\n",
       "  </tbody>\n",
       "</table>\n",
       "</div>"
      ],
      "text/plain": [
       "   num_voted_users country  movie_facebook_likes  director_facebook_likes  \\\n",
       "0           886204     USA                  4834                      0.0   \n",
       "1           471220     USA                 48350                    563.0   \n",
       "2           275868      UK                 11700                      0.0   \n",
       "3          1144337     USA                106759                  22000.0   \n",
       "5           212204     USA                  1873                    475.0   \n",
       "\n",
       "   aspect_ratio                                movie_title     actor_1_name  \\\n",
       "0          1.78                                    Avatar       CCH POUNDER   \n",
       "1          2.35  Pirates of the Caribbean: At World's End       JOHNNY DEPP   \n",
       "2          2.35                                   Spectre   Christoph Waltz   \n",
       "3          2.35                     The Dark Knight Rises         Tom Hardy   \n",
       "5          2.35                               John Carter      DARYL SABARA   \n",
       "\n",
       "  imdb_score duration  \n",
       "0      7.9 #  178 min  \n",
       "1      7.1 #  169 min  \n",
       "2      6.8 #  148 min  \n",
       "3      8.5 #  164 min  \n",
       "5      6.6 #  132 min  "
      ]
     },
     "execution_count": 66,
     "metadata": {},
     "output_type": "execute_result"
    }
   ],
   "source": [
    "# Obtention de certaines characteristiques.\n",
    "\n",
    "dataMovies = data [['num_voted_users','country','movie_facebook_likes','director_facebook_likes',\n",
    "                    'aspect_ratio','movie_title','actor_1_name','imdb_score','duration']]\n",
    "\n",
    "dataMovies_filtered =  dataMovies[data.num_voted_users>52000]\n",
    "\n",
    "dataMovies_filtered.head()"
   ]
  },
  {
   "cell_type": "markdown",
   "metadata": {},
   "source": [
    "### Verification"
   ]
  },
  {
   "cell_type": "code",
   "execution_count": 67,
   "metadata": {},
   "outputs": [
    {
     "name": "stdout",
     "output_type": "stream",
     "text": [
      "<class 'pandas.core.frame.DataFrame'>\n",
      "RangeIndex: 7410 entries, 0 to 7409\n",
      "Data columns (total 9 columns):\n",
      " #   Column                   Non-Null Count  Dtype  \n",
      "---  ------                   --------------  -----  \n",
      " 0   num_voted_users          7410 non-null   int64  \n",
      " 1   country                  7403 non-null   object \n",
      " 2   movie_facebook_likes     7410 non-null   int64  \n",
      " 3   director_facebook_likes  7263 non-null   float64\n",
      " 4   aspect_ratio             6944 non-null   float64\n",
      " 5   movie_title              7410 non-null   object \n",
      " 6   actor_1_name             7400 non-null   object \n",
      " 7   imdb_score               7410 non-null   object \n",
      " 8   duration                 7410 non-null   object \n",
      "dtypes: float64(2), int64(2), object(5)\n",
      "memory usage: 521.1+ KB\n"
     ]
    }
   ],
   "source": [
    "dataMovies.info() #Data not filtered"
   ]
  },
  {
   "cell_type": "code",
   "execution_count": 68,
   "metadata": {},
   "outputs": [
    {
     "name": "stdout",
     "output_type": "stream",
     "text": [
      "<class 'pandas.core.frame.DataFrame'>\n",
      "Int64Index: 3033 entries, 0 to 7407\n",
      "Data columns (total 9 columns):\n",
      " #   Column                   Non-Null Count  Dtype  \n",
      "---  ------                   --------------  -----  \n",
      " 0   num_voted_users          3033 non-null   int64  \n",
      " 1   country                  3033 non-null   object \n",
      " 2   movie_facebook_likes     3033 non-null   int64  \n",
      " 3   director_facebook_likes  3009 non-null   float64\n",
      " 4   aspect_ratio             3033 non-null   float64\n",
      " 5   movie_title              3033 non-null   object \n",
      " 6   actor_1_name             3033 non-null   object \n",
      " 7   imdb_score               3033 non-null   object \n",
      " 8   duration                 3033 non-null   object \n",
      "dtypes: float64(2), int64(2), object(5)\n",
      "memory usage: 237.0+ KB\n"
     ]
    }
   ],
   "source": [
    "dataMovies_filtered.info() "
   ]
  },
  {
   "cell_type": "markdown",
   "metadata": {},
   "source": [
    "Ilya 3033 films."
   ]
  },
  {
   "cell_type": "markdown",
   "metadata": {},
   "source": [
    "## 1.6 Créer la variable « popularite » qui prendra les valeurs suivantes :\n",
    "-  Faible - Si le nombre de « Likes » sur FACEBOOK du film est en-dessous de 5000.\n",
    "-  Moyenne- Si le nombre de « Likes » sur FACEBOOK du film est compris entre 5000 et 24999.\n",
    "-  Forte- Si le nombre de « Likes » sur FACEBOOK du film est supérieur ou égale à 25000"
   ]
  },
  {
   "cell_type": "markdown",
   "metadata": {},
   "source": [
    "### Metode 1 - np.select"
   ]
  },
  {
   "cell_type": "code",
   "execution_count": 69,
   "metadata": {},
   "outputs": [
    {
     "name": "stderr",
     "output_type": "stream",
     "text": [
      "<ipython-input-69-295e12a84965>:13: SettingWithCopyWarning: \n",
      "A value is trying to be set on a copy of a slice from a DataFrame.\n",
      "Try using .loc[row_indexer,col_indexer] = value instead\n",
      "\n",
      "See the caveats in the documentation: https://pandas.pydata.org/pandas-docs/stable/user_guide/indexing.html#returning-a-view-versus-a-copy\n",
      "  dataMovies['popularite'] = np.select(conditions, condition_values)\n"
     ]
    },
    {
     "data": {
      "text/html": [
       "<div>\n",
       "<style scoped>\n",
       "    .dataframe tbody tr th:only-of-type {\n",
       "        vertical-align: middle;\n",
       "    }\n",
       "\n",
       "    .dataframe tbody tr th {\n",
       "        vertical-align: top;\n",
       "    }\n",
       "\n",
       "    .dataframe thead th {\n",
       "        text-align: right;\n",
       "    }\n",
       "</style>\n",
       "<table border=\"1\" class=\"dataframe\">\n",
       "  <thead>\n",
       "    <tr style=\"text-align: right;\">\n",
       "      <th></th>\n",
       "      <th>num_voted_users</th>\n",
       "      <th>country</th>\n",
       "      <th>movie_facebook_likes</th>\n",
       "      <th>director_facebook_likes</th>\n",
       "      <th>aspect_ratio</th>\n",
       "      <th>movie_title</th>\n",
       "      <th>actor_1_name</th>\n",
       "      <th>imdb_score</th>\n",
       "      <th>duration</th>\n",
       "      <th>popularite</th>\n",
       "    </tr>\n",
       "  </thead>\n",
       "  <tbody>\n",
       "    <tr>\n",
       "      <th>0</th>\n",
       "      <td>886204</td>\n",
       "      <td>USA</td>\n",
       "      <td>4834</td>\n",
       "      <td>0.0</td>\n",
       "      <td>1.78</td>\n",
       "      <td>Avatar</td>\n",
       "      <td>CCH POUNDER</td>\n",
       "      <td>7.9 #</td>\n",
       "      <td>178 min</td>\n",
       "      <td>Faible</td>\n",
       "    </tr>\n",
       "    <tr>\n",
       "      <th>1</th>\n",
       "      <td>471220</td>\n",
       "      <td>USA</td>\n",
       "      <td>48350</td>\n",
       "      <td>563.0</td>\n",
       "      <td>2.35</td>\n",
       "      <td>Pirates of the Caribbean: At World's End</td>\n",
       "      <td>JOHNNY DEPP</td>\n",
       "      <td>7.1 #</td>\n",
       "      <td>169 min</td>\n",
       "      <td>Forte</td>\n",
       "    </tr>\n",
       "    <tr>\n",
       "      <th>2</th>\n",
       "      <td>275868</td>\n",
       "      <td>UK</td>\n",
       "      <td>11700</td>\n",
       "      <td>0.0</td>\n",
       "      <td>2.35</td>\n",
       "      <td>Spectre</td>\n",
       "      <td>Christoph Waltz</td>\n",
       "      <td>6.8 #</td>\n",
       "      <td>148 min</td>\n",
       "      <td>Moyenne</td>\n",
       "    </tr>\n",
       "    <tr>\n",
       "      <th>3</th>\n",
       "      <td>1144337</td>\n",
       "      <td>USA</td>\n",
       "      <td>106759</td>\n",
       "      <td>22000.0</td>\n",
       "      <td>2.35</td>\n",
       "      <td>The Dark Knight Rises</td>\n",
       "      <td>Tom Hardy</td>\n",
       "      <td>8.5 #</td>\n",
       "      <td>164 min</td>\n",
       "      <td>Forte</td>\n",
       "    </tr>\n",
       "    <tr>\n",
       "      <th>4</th>\n",
       "      <td>8</td>\n",
       "      <td>NaN</td>\n",
       "      <td>143</td>\n",
       "      <td>131.0</td>\n",
       "      <td>NaN</td>\n",
       "      <td>Star Wars: Episode VII - The Force Awakens    ...</td>\n",
       "      <td>Doug Walker</td>\n",
       "      <td>7.1 #</td>\n",
       "      <td>NA min</td>\n",
       "      <td>Faible</td>\n",
       "    </tr>\n",
       "  </tbody>\n",
       "</table>\n",
       "</div>"
      ],
      "text/plain": [
       "   num_voted_users country  movie_facebook_likes  director_facebook_likes  \\\n",
       "0           886204     USA                  4834                      0.0   \n",
       "1           471220     USA                 48350                    563.0   \n",
       "2           275868      UK                 11700                      0.0   \n",
       "3          1144337     USA                106759                  22000.0   \n",
       "4                8     NaN                   143                    131.0   \n",
       "\n",
       "   aspect_ratio                                        movie_title  \\\n",
       "0          1.78                                            Avatar    \n",
       "1          2.35          Pirates of the Caribbean: At World's End    \n",
       "2          2.35                                           Spectre    \n",
       "3          2.35                             The Dark Knight Rises    \n",
       "4           NaN  Star Wars: Episode VII - The Force Awakens    ...   \n",
       "\n",
       "      actor_1_name imdb_score duration popularite  \n",
       "0      CCH POUNDER      7.9 #  178 min     Faible  \n",
       "1      JOHNNY DEPP      7.1 #  169 min      Forte  \n",
       "2  Christoph Waltz      6.8 #  148 min    Moyenne  \n",
       "3        Tom Hardy      8.5 #  164 min      Forte  \n",
       "4      Doug Walker      7.1 #   NA min     Faible  "
      ]
     },
     "execution_count": 69,
     "metadata": {},
     "output_type": "execute_result"
    }
   ],
   "source": [
    "# create a list of our conditions\n",
    "#df = dataMovies\n",
    "conditions = [\n",
    "    (dataMovies['movie_facebook_likes'] <= 5000),\n",
    "    (dataMovies['movie_facebook_likes'] > 5000) & (dataMovies['movie_facebook_likes'] <= 24999),\n",
    "    (dataMovies['movie_facebook_likes'] >= 25000) \n",
    "    ]\n",
    "\n",
    "# create a list of the values we want to assign for each condition\n",
    "condition_values = ['Faible', 'Moyenne', 'Forte']\n",
    "\n",
    "# create a new column and use np.select to assign values to it using our lists as arguments\n",
    "dataMovies['popularite'] = np.select(conditions, condition_values)\n",
    "dataMovies.head()\n",
    "    "
   ]
  },
  {
   "cell_type": "markdown",
   "metadata": {},
   "source": [
    "### Metode 2 - custom algorithme"
   ]
  },
  {
   "cell_type": "code",
   "execution_count": 76,
   "metadata": {},
   "outputs": [
    {
     "name": "stderr",
     "output_type": "stream",
     "text": [
      "<ipython-input-76-e508149c68a6>:8: SettingWithCopyWarning: \n",
      "A value is trying to be set on a copy of a slice from a DataFrame.\n",
      "Try using .loc[row_indexer,col_indexer] = value instead\n",
      "\n",
      "See the caveats in the documentation: https://pandas.pydata.org/pandas-docs/stable/user_guide/indexing.html#returning-a-view-versus-a-copy\n",
      "  dataMovies['popularite'] =  populariteX\n"
     ]
    }
   ],
   "source": [
    "populariteX = []\n",
    "for row in dataMovies['movie_facebook_likes']:\n",
    "    if row <= 5000 : populariteX.append('FIABLE')\n",
    "    elif ((row > 5000) & (row <= 24999)): populariteX.append('MOYENNE')\n",
    "    elif (row >= 25000) :  populariteX.append('FORTE')\n",
    "    else: populariteX.append('Not_Rated')\n",
    "        \n",
    "dataMovies['popularite'] =  populariteX    \n",
    "\n"
   ]
  },
  {
   "cell_type": "code",
   "execution_count": 77,
   "metadata": {},
   "outputs": [
    {
     "data": {
      "text/html": [
       "<div>\n",
       "<style scoped>\n",
       "    .dataframe tbody tr th:only-of-type {\n",
       "        vertical-align: middle;\n",
       "    }\n",
       "\n",
       "    .dataframe tbody tr th {\n",
       "        vertical-align: top;\n",
       "    }\n",
       "\n",
       "    .dataframe thead th {\n",
       "        text-align: right;\n",
       "    }\n",
       "</style>\n",
       "<table border=\"1\" class=\"dataframe\">\n",
       "  <thead>\n",
       "    <tr style=\"text-align: right;\">\n",
       "      <th></th>\n",
       "      <th>num_voted_users</th>\n",
       "      <th>country</th>\n",
       "      <th>movie_facebook_likes</th>\n",
       "      <th>director_facebook_likes</th>\n",
       "      <th>aspect_ratio</th>\n",
       "      <th>movie_title</th>\n",
       "      <th>actor_1_name</th>\n",
       "      <th>imdb_score</th>\n",
       "      <th>duration</th>\n",
       "      <th>popularite</th>\n",
       "    </tr>\n",
       "  </thead>\n",
       "  <tbody>\n",
       "    <tr>\n",
       "      <th>0</th>\n",
       "      <td>886204</td>\n",
       "      <td>USA</td>\n",
       "      <td>4834</td>\n",
       "      <td>0.0</td>\n",
       "      <td>1.78</td>\n",
       "      <td>Avatar</td>\n",
       "      <td>CCH POUNDER</td>\n",
       "      <td>7.9 #</td>\n",
       "      <td>178 min</td>\n",
       "      <td>FIABLE</td>\n",
       "    </tr>\n",
       "    <tr>\n",
       "      <th>1</th>\n",
       "      <td>471220</td>\n",
       "      <td>USA</td>\n",
       "      <td>48350</td>\n",
       "      <td>563.0</td>\n",
       "      <td>2.35</td>\n",
       "      <td>Pirates of the Caribbean: At World's End</td>\n",
       "      <td>JOHNNY DEPP</td>\n",
       "      <td>7.1 #</td>\n",
       "      <td>169 min</td>\n",
       "      <td>FORTE</td>\n",
       "    </tr>\n",
       "    <tr>\n",
       "      <th>2</th>\n",
       "      <td>275868</td>\n",
       "      <td>UK</td>\n",
       "      <td>11700</td>\n",
       "      <td>0.0</td>\n",
       "      <td>2.35</td>\n",
       "      <td>Spectre</td>\n",
       "      <td>Christoph Waltz</td>\n",
       "      <td>6.8 #</td>\n",
       "      <td>148 min</td>\n",
       "      <td>MOYENNE</td>\n",
       "    </tr>\n",
       "    <tr>\n",
       "      <th>3</th>\n",
       "      <td>1144337</td>\n",
       "      <td>USA</td>\n",
       "      <td>106759</td>\n",
       "      <td>22000.0</td>\n",
       "      <td>2.35</td>\n",
       "      <td>The Dark Knight Rises</td>\n",
       "      <td>Tom Hardy</td>\n",
       "      <td>8.5 #</td>\n",
       "      <td>164 min</td>\n",
       "      <td>FORTE</td>\n",
       "    </tr>\n",
       "    <tr>\n",
       "      <th>4</th>\n",
       "      <td>8</td>\n",
       "      <td>NaN</td>\n",
       "      <td>143</td>\n",
       "      <td>131.0</td>\n",
       "      <td>NaN</td>\n",
       "      <td>Star Wars: Episode VII - The Force Awakens    ...</td>\n",
       "      <td>Doug Walker</td>\n",
       "      <td>7.1 #</td>\n",
       "      <td>NA min</td>\n",
       "      <td>FIABLE</td>\n",
       "    </tr>\n",
       "  </tbody>\n",
       "</table>\n",
       "</div>"
      ],
      "text/plain": [
       "   num_voted_users country  movie_facebook_likes  director_facebook_likes  \\\n",
       "0           886204     USA                  4834                      0.0   \n",
       "1           471220     USA                 48350                    563.0   \n",
       "2           275868      UK                 11700                      0.0   \n",
       "3          1144337     USA                106759                  22000.0   \n",
       "4                8     NaN                   143                    131.0   \n",
       "\n",
       "   aspect_ratio                                        movie_title  \\\n",
       "0          1.78                                            Avatar    \n",
       "1          2.35          Pirates of the Caribbean: At World's End    \n",
       "2          2.35                                           Spectre    \n",
       "3          2.35                             The Dark Knight Rises    \n",
       "4           NaN  Star Wars: Episode VII - The Force Awakens    ...   \n",
       "\n",
       "      actor_1_name imdb_score duration popularite  \n",
       "0      CCH POUNDER      7.9 #  178 min     FIABLE  \n",
       "1      JOHNNY DEPP      7.1 #  169 min      FORTE  \n",
       "2  Christoph Waltz      6.8 #  148 min    MOYENNE  \n",
       "3        Tom Hardy      8.5 #  164 min      FORTE  \n",
       "4      Doug Walker      7.1 #   NA min     FIABLE  "
      ]
     },
     "execution_count": 77,
     "metadata": {},
     "output_type": "execute_result"
    }
   ],
   "source": [
    "dataMovies.head()\n",
    "    "
   ]
  },
  {
   "cell_type": "markdown",
   "metadata": {},
   "source": [
    "### 1.7. Renommer la variable « duration » en « temps » et la variable « movie_title » en « titre »"
   ]
  },
  {
   "cell_type": "code",
   "execution_count": 78,
   "metadata": {},
   "outputs": [
    {
     "data": {
      "text/html": [
       "<div>\n",
       "<style scoped>\n",
       "    .dataframe tbody tr th:only-of-type {\n",
       "        vertical-align: middle;\n",
       "    }\n",
       "\n",
       "    .dataframe tbody tr th {\n",
       "        vertical-align: top;\n",
       "    }\n",
       "\n",
       "    .dataframe thead th {\n",
       "        text-align: right;\n",
       "    }\n",
       "</style>\n",
       "<table border=\"1\" class=\"dataframe\">\n",
       "  <thead>\n",
       "    <tr style=\"text-align: right;\">\n",
       "      <th></th>\n",
       "      <th>num_voted_users</th>\n",
       "      <th>country</th>\n",
       "      <th>movie_facebook_likes</th>\n",
       "      <th>director_facebook_likes</th>\n",
       "      <th>aspect_ratio</th>\n",
       "      <th>tittre</th>\n",
       "      <th>actor_1_name</th>\n",
       "      <th>imdb_score</th>\n",
       "      <th>temps</th>\n",
       "      <th>popularite</th>\n",
       "    </tr>\n",
       "  </thead>\n",
       "  <tbody>\n",
       "    <tr>\n",
       "      <th>0</th>\n",
       "      <td>886204</td>\n",
       "      <td>USA</td>\n",
       "      <td>4834</td>\n",
       "      <td>0.0</td>\n",
       "      <td>1.78</td>\n",
       "      <td>Avatar</td>\n",
       "      <td>CCH POUNDER</td>\n",
       "      <td>7.9 #</td>\n",
       "      <td>178 min</td>\n",
       "      <td>FIABLE</td>\n",
       "    </tr>\n",
       "    <tr>\n",
       "      <th>1</th>\n",
       "      <td>471220</td>\n",
       "      <td>USA</td>\n",
       "      <td>48350</td>\n",
       "      <td>563.0</td>\n",
       "      <td>2.35</td>\n",
       "      <td>Pirates of the Caribbean: At World's End</td>\n",
       "      <td>JOHNNY DEPP</td>\n",
       "      <td>7.1 #</td>\n",
       "      <td>169 min</td>\n",
       "      <td>FORTE</td>\n",
       "    </tr>\n",
       "    <tr>\n",
       "      <th>2</th>\n",
       "      <td>275868</td>\n",
       "      <td>UK</td>\n",
       "      <td>11700</td>\n",
       "      <td>0.0</td>\n",
       "      <td>2.35</td>\n",
       "      <td>Spectre</td>\n",
       "      <td>Christoph Waltz</td>\n",
       "      <td>6.8 #</td>\n",
       "      <td>148 min</td>\n",
       "      <td>MOYENNE</td>\n",
       "    </tr>\n",
       "    <tr>\n",
       "      <th>3</th>\n",
       "      <td>1144337</td>\n",
       "      <td>USA</td>\n",
       "      <td>106759</td>\n",
       "      <td>22000.0</td>\n",
       "      <td>2.35</td>\n",
       "      <td>The Dark Knight Rises</td>\n",
       "      <td>Tom Hardy</td>\n",
       "      <td>8.5 #</td>\n",
       "      <td>164 min</td>\n",
       "      <td>FORTE</td>\n",
       "    </tr>\n",
       "    <tr>\n",
       "      <th>4</th>\n",
       "      <td>8</td>\n",
       "      <td>NaN</td>\n",
       "      <td>143</td>\n",
       "      <td>131.0</td>\n",
       "      <td>NaN</td>\n",
       "      <td>Star Wars: Episode VII - The Force Awakens    ...</td>\n",
       "      <td>Doug Walker</td>\n",
       "      <td>7.1 #</td>\n",
       "      <td>NA min</td>\n",
       "      <td>FIABLE</td>\n",
       "    </tr>\n",
       "  </tbody>\n",
       "</table>\n",
       "</div>"
      ],
      "text/plain": [
       "   num_voted_users country  movie_facebook_likes  director_facebook_likes  \\\n",
       "0           886204     USA                  4834                      0.0   \n",
       "1           471220     USA                 48350                    563.0   \n",
       "2           275868      UK                 11700                      0.0   \n",
       "3          1144337     USA                106759                  22000.0   \n",
       "4                8     NaN                   143                    131.0   \n",
       "\n",
       "   aspect_ratio                                             tittre  \\\n",
       "0          1.78                                            Avatar    \n",
       "1          2.35          Pirates of the Caribbean: At World's End    \n",
       "2          2.35                                           Spectre    \n",
       "3          2.35                             The Dark Knight Rises    \n",
       "4           NaN  Star Wars: Episode VII - The Force Awakens    ...   \n",
       "\n",
       "      actor_1_name imdb_score    temps popularite  \n",
       "0      CCH POUNDER      7.9 #  178 min     FIABLE  \n",
       "1      JOHNNY DEPP      7.1 #  169 min      FORTE  \n",
       "2  Christoph Waltz      6.8 #  148 min    MOYENNE  \n",
       "3        Tom Hardy      8.5 #  164 min      FORTE  \n",
       "4      Doug Walker      7.1 #   NA min     FIABLE  "
      ]
     },
     "execution_count": 78,
     "metadata": {},
     "output_type": "execute_result"
    }
   ],
   "source": [
    "\n",
    "dataMovies_new = dataMovies.rename(columns={'duration': 'temps', 'movie_title': 'tittre'})\n",
    "dataMovies_new.head()\n"
   ]
  },
  {
   "cell_type": "markdown",
   "metadata": {},
   "source": [
    "# SQL & Python- Partie 2:"
   ]
  },
  {
   "cell_type": "markdown",
   "metadata": {},
   "source": [
    "## 2.1. Charger les 6 fichiers (data_credit*_infos et data_credit*_socio) dans 6 tables"
   ]
  },
  {
   "cell_type": "markdown",
   "metadata": {},
   "source": [
    "### data_credit_mtl_infos.xlsx"
   ]
  },
  {
   "cell_type": "code",
   "execution_count": 79,
   "metadata": {},
   "outputs": [
    {
     "data": {
      "text/html": [
       "<div>\n",
       "<style scoped>\n",
       "    .dataframe tbody tr th:only-of-type {\n",
       "        vertical-align: middle;\n",
       "    }\n",
       "\n",
       "    .dataframe tbody tr th {\n",
       "        vertical-align: top;\n",
       "    }\n",
       "\n",
       "    .dataframe thead th {\n",
       "        text-align: right;\n",
       "    }\n",
       "</style>\n",
       "<table border=\"1\" class=\"dataframe\">\n",
       "  <thead>\n",
       "    <tr style=\"text-align: right;\">\n",
       "      <th></th>\n",
       "      <th>ClientID</th>\n",
       "      <th>checking_status</th>\n",
       "      <th>duration</th>\n",
       "      <th>credit_history</th>\n",
       "      <th>purpose</th>\n",
       "      <th>amount</th>\n",
       "      <th>savings_status</th>\n",
       "      <th>other_parties</th>\n",
       "      <th>property_magnitude</th>\n",
       "      <th>other_payment_plans</th>\n",
       "      <th>existing_credits</th>\n",
       "      <th>class</th>\n",
       "      <th>number_product</th>\n",
       "    </tr>\n",
       "  </thead>\n",
       "  <tbody>\n",
       "    <tr>\n",
       "      <th>0</th>\n",
       "      <td>1215693</td>\n",
       "      <td>&lt;0</td>\n",
       "      <td>1_2_years</td>\n",
       "      <td>existing paid</td>\n",
       "      <td>radio/tv</td>\n",
       "      <td>1000_2000</td>\n",
       "      <td>&lt;100</td>\n",
       "      <td>none</td>\n",
       "      <td>real estate</td>\n",
       "      <td>none</td>\n",
       "      <td>two</td>\n",
       "      <td>bad</td>\n",
       "      <td>5</td>\n",
       "    </tr>\n",
       "    <tr>\n",
       "      <th>1</th>\n",
       "      <td>1215693</td>\n",
       "      <td>&lt;0</td>\n",
       "      <td>1_2_years</td>\n",
       "      <td>existing paid</td>\n",
       "      <td>radio/tv</td>\n",
       "      <td>1000_2000</td>\n",
       "      <td>&lt;100</td>\n",
       "      <td>none</td>\n",
       "      <td>real estate</td>\n",
       "      <td>none</td>\n",
       "      <td>two</td>\n",
       "      <td>bad</td>\n",
       "      <td>5</td>\n",
       "    </tr>\n",
       "    <tr>\n",
       "      <th>2</th>\n",
       "      <td>1215696</td>\n",
       "      <td>0&lt;=X&lt;200</td>\n",
       "      <td>lo_1_year</td>\n",
       "      <td>critical/other existing</td>\n",
       "      <td>used car</td>\n",
       "      <td>1000_2000</td>\n",
       "      <td>&lt;100</td>\n",
       "      <td>none</td>\n",
       "      <td>car</td>\n",
       "      <td>none</td>\n",
       "      <td>two</td>\n",
       "      <td>good</td>\n",
       "      <td>5</td>\n",
       "    </tr>\n",
       "    <tr>\n",
       "      <th>3</th>\n",
       "      <td>1215696</td>\n",
       "      <td>0&lt;=X&lt;200</td>\n",
       "      <td>lo_1_year</td>\n",
       "      <td>critical/other existing</td>\n",
       "      <td>used car</td>\n",
       "      <td>1000_2000</td>\n",
       "      <td>&lt;100</td>\n",
       "      <td>none</td>\n",
       "      <td>car</td>\n",
       "      <td>none</td>\n",
       "      <td>two</td>\n",
       "      <td>good</td>\n",
       "      <td>5</td>\n",
       "    </tr>\n",
       "    <tr>\n",
       "      <th>4</th>\n",
       "      <td>1215699</td>\n",
       "      <td>no checking</td>\n",
       "      <td>lo_1_year</td>\n",
       "      <td>critical/other existing</td>\n",
       "      <td>radio/tv</td>\n",
       "      <td>1000_2000</td>\n",
       "      <td>no known savings</td>\n",
       "      <td>none</td>\n",
       "      <td>real estate</td>\n",
       "      <td>none</td>\n",
       "      <td>two</td>\n",
       "      <td>good</td>\n",
       "      <td>5</td>\n",
       "    </tr>\n",
       "  </tbody>\n",
       "</table>\n",
       "</div>"
      ],
      "text/plain": [
       "   ClientID checking_status   duration           credit_history   purpose  \\\n",
       "0   1215693              <0  1_2_years            existing paid  radio/tv   \n",
       "1   1215693              <0  1_2_years            existing paid  radio/tv   \n",
       "2   1215696        0<=X<200  lo_1_year  critical/other existing  used car   \n",
       "3   1215696        0<=X<200  lo_1_year  critical/other existing  used car   \n",
       "4   1215699     no checking  lo_1_year  critical/other existing  radio/tv   \n",
       "\n",
       "      amount    savings_status other_parties property_magnitude  \\\n",
       "0  1000_2000              <100          none        real estate   \n",
       "1  1000_2000              <100          none        real estate   \n",
       "2  1000_2000              <100          none                car   \n",
       "3  1000_2000              <100          none                car   \n",
       "4  1000_2000  no known savings          none        real estate   \n",
       "\n",
       "  other_payment_plans existing_credits class  number_product  \n",
       "0                none              two   bad               5  \n",
       "1                none              two   bad               5  \n",
       "2                none              two  good               5  \n",
       "3                none              two  good               5  \n",
       "4                none              two  good               5  "
      ]
     },
     "execution_count": 79,
     "metadata": {},
     "output_type": "execute_result"
    }
   ],
   "source": [
    "import pandas as pd\n",
    "\n",
    "data1= pd.read_excel(\"data_projet/data_credit_mtl_infos.xlsx\")\n",
    "pd.set_option('display.max_rows', None)\n",
    "data1.head()\n"
   ]
  },
  {
   "cell_type": "markdown",
   "metadata": {},
   "source": [
    "### data_credit_mtl_socio.xlsx"
   ]
  },
  {
   "cell_type": "code",
   "execution_count": 80,
   "metadata": {},
   "outputs": [
    {
     "data": {
      "text/html": [
       "<div>\n",
       "<style scoped>\n",
       "    .dataframe tbody tr th:only-of-type {\n",
       "        vertical-align: middle;\n",
       "    }\n",
       "\n",
       "    .dataframe tbody tr th {\n",
       "        vertical-align: top;\n",
       "    }\n",
       "\n",
       "    .dataframe thead th {\n",
       "        text-align: right;\n",
       "    }\n",
       "</style>\n",
       "<table border=\"1\" class=\"dataframe\">\n",
       "  <thead>\n",
       "    <tr style=\"text-align: right;\">\n",
       "      <th></th>\n",
       "      <th>ClientID</th>\n",
       "      <th>personal_status</th>\n",
       "      <th>employment</th>\n",
       "      <th>job</th>\n",
       "      <th>own_telephone</th>\n",
       "      <th>foreign_worker</th>\n",
       "      <th>City</th>\n",
       "      <th>housing</th>\n",
       "      <th>age</th>\n",
       "    </tr>\n",
       "  </thead>\n",
       "  <tbody>\n",
       "    <tr>\n",
       "      <th>0</th>\n",
       "      <td>1218528</td>\n",
       "      <td>male single</td>\n",
       "      <td>unemployed</td>\n",
       "      <td>high qualif/self emp/mgm</td>\n",
       "      <td>yes</td>\n",
       "      <td>yes</td>\n",
       "      <td>Montreal</td>\n",
       "      <td>rent</td>\n",
       "      <td>15</td>\n",
       "    </tr>\n",
       "    <tr>\n",
       "      <th>1</th>\n",
       "      <td>1218459</td>\n",
       "      <td>male single</td>\n",
       "      <td>&gt;=7</td>\n",
       "      <td>skilled</td>\n",
       "      <td>yes</td>\n",
       "      <td>yes</td>\n",
       "      <td>Montreal</td>\n",
       "      <td>rent</td>\n",
       "      <td>17</td>\n",
       "    </tr>\n",
       "    <tr>\n",
       "      <th>2</th>\n",
       "      <td>1218507</td>\n",
       "      <td>male single</td>\n",
       "      <td>&gt;=7</td>\n",
       "      <td>high qualif/self emp/mgm</td>\n",
       "      <td>yes</td>\n",
       "      <td>yes</td>\n",
       "      <td>Montreal</td>\n",
       "      <td>rent</td>\n",
       "      <td>19</td>\n",
       "    </tr>\n",
       "    <tr>\n",
       "      <th>3</th>\n",
       "      <td>1218450</td>\n",
       "      <td>female div/dep/mar</td>\n",
       "      <td>&lt;1</td>\n",
       "      <td>skilled</td>\n",
       "      <td>none</td>\n",
       "      <td>yes</td>\n",
       "      <td>Montreal</td>\n",
       "      <td>rent</td>\n",
       "      <td>22</td>\n",
       "    </tr>\n",
       "    <tr>\n",
       "      <th>4</th>\n",
       "      <td>1218360</td>\n",
       "      <td>female div/dep/mar</td>\n",
       "      <td>&gt;=7</td>\n",
       "      <td>skilled</td>\n",
       "      <td>yes</td>\n",
       "      <td>yes</td>\n",
       "      <td>Montreal</td>\n",
       "      <td>rent</td>\n",
       "      <td>22</td>\n",
       "    </tr>\n",
       "  </tbody>\n",
       "</table>\n",
       "</div>"
      ],
      "text/plain": [
       "   ClientID     personal_status  employment                       job  \\\n",
       "0   1218528         male single  unemployed  high qualif/self emp/mgm   \n",
       "1   1218459         male single         >=7                   skilled   \n",
       "2   1218507         male single         >=7  high qualif/self emp/mgm   \n",
       "3   1218450  female div/dep/mar          <1                   skilled   \n",
       "4   1218360  female div/dep/mar         >=7                   skilled   \n",
       "\n",
       "  own_telephone foreign_worker      City housing  age  \n",
       "0           yes            yes  Montreal    rent   15  \n",
       "1           yes            yes  Montreal    rent   17  \n",
       "2           yes            yes  Montreal    rent   19  \n",
       "3          none            yes  Montreal    rent   22  \n",
       "4           yes            yes  Montreal    rent   22  "
      ]
     },
     "execution_count": 80,
     "metadata": {},
     "output_type": "execute_result"
    }
   ],
   "source": [
    "\n",
    "data2= pd.read_excel(\"data_projet/data_credit_mtl_socio.xlsx\")\n",
    "pd.set_option('display.max_rows', None)\n",
    "data2.head()\n"
   ]
  },
  {
   "cell_type": "markdown",
   "metadata": {},
   "source": [
    "### data_credit_que_infos.xlsx"
   ]
  },
  {
   "cell_type": "code",
   "execution_count": 81,
   "metadata": {},
   "outputs": [
    {
     "data": {
      "text/html": [
       "<div>\n",
       "<style scoped>\n",
       "    .dataframe tbody tr th:only-of-type {\n",
       "        vertical-align: middle;\n",
       "    }\n",
       "\n",
       "    .dataframe tbody tr th {\n",
       "        vertical-align: top;\n",
       "    }\n",
       "\n",
       "    .dataframe thead th {\n",
       "        text-align: right;\n",
       "    }\n",
       "</style>\n",
       "<table border=\"1\" class=\"dataframe\">\n",
       "  <thead>\n",
       "    <tr style=\"text-align: right;\">\n",
       "      <th></th>\n",
       "      <th>ClientID</th>\n",
       "      <th>checking_status</th>\n",
       "      <th>duration</th>\n",
       "      <th>credit_history</th>\n",
       "      <th>purpose</th>\n",
       "      <th>amount</th>\n",
       "      <th>savings_status</th>\n",
       "      <th>other_parties</th>\n",
       "      <th>property_magnitude</th>\n",
       "      <th>other_payment_plans</th>\n",
       "      <th>existing_credits</th>\n",
       "      <th>class</th>\n",
       "      <th>number_product</th>\n",
       "    </tr>\n",
       "  </thead>\n",
       "  <tbody>\n",
       "    <tr>\n",
       "      <th>0</th>\n",
       "      <td>1216377</td>\n",
       "      <td>&lt;0</td>\n",
       "      <td>1_2_years</td>\n",
       "      <td>existing paid</td>\n",
       "      <td>new car</td>\n",
       "      <td>1000_2000</td>\n",
       "      <td>&lt;100</td>\n",
       "      <td>none</td>\n",
       "      <td>life insurance</td>\n",
       "      <td>none</td>\n",
       "      <td>one</td>\n",
       "      <td>bad</td>\n",
       "      <td>5</td>\n",
       "    </tr>\n",
       "    <tr>\n",
       "      <th>1</th>\n",
       "      <td>1216371</td>\n",
       "      <td>&lt;0</td>\n",
       "      <td>1_2_years</td>\n",
       "      <td>delayed previously</td>\n",
       "      <td>radio/tv</td>\n",
       "      <td>1000_2000</td>\n",
       "      <td>&lt;100</td>\n",
       "      <td>none</td>\n",
       "      <td>car</td>\n",
       "      <td>none</td>\n",
       "      <td>one</td>\n",
       "      <td>bad</td>\n",
       "      <td>5</td>\n",
       "    </tr>\n",
       "    <tr>\n",
       "      <th>2</th>\n",
       "      <td>1216380</td>\n",
       "      <td>no checking</td>\n",
       "      <td>lo_1_year</td>\n",
       "      <td>delayed previously</td>\n",
       "      <td>used car</td>\n",
       "      <td>1000_2000</td>\n",
       "      <td>&lt;100</td>\n",
       "      <td>none</td>\n",
       "      <td>real estate</td>\n",
       "      <td>none</td>\n",
       "      <td>one</td>\n",
       "      <td>good</td>\n",
       "      <td>2</td>\n",
       "    </tr>\n",
       "    <tr>\n",
       "      <th>3</th>\n",
       "      <td>1216374</td>\n",
       "      <td>no checking</td>\n",
       "      <td>lo_1_year</td>\n",
       "      <td>existing paid</td>\n",
       "      <td>new car</td>\n",
       "      <td>1000_2000</td>\n",
       "      <td>100&lt;=X&lt;500</td>\n",
       "      <td>none</td>\n",
       "      <td>real estate</td>\n",
       "      <td>none</td>\n",
       "      <td>one</td>\n",
       "      <td>good</td>\n",
       "      <td>6</td>\n",
       "    </tr>\n",
       "    <tr>\n",
       "      <th>4</th>\n",
       "      <td>1216104</td>\n",
       "      <td>0&lt;=X&lt;200</td>\n",
       "      <td>lo_1_year</td>\n",
       "      <td>delayed previously</td>\n",
       "      <td>furniture/equipment</td>\n",
       "      <td>1000_2000</td>\n",
       "      <td>&lt;100</td>\n",
       "      <td>none</td>\n",
       "      <td>life insurance</td>\n",
       "      <td>stores</td>\n",
       "      <td>two</td>\n",
       "      <td>good</td>\n",
       "      <td>3</td>\n",
       "    </tr>\n",
       "  </tbody>\n",
       "</table>\n",
       "</div>"
      ],
      "text/plain": [
       "   ClientID checking_status   duration      credit_history  \\\n",
       "0   1216377              <0  1_2_years       existing paid   \n",
       "1   1216371              <0  1_2_years  delayed previously   \n",
       "2   1216380     no checking  lo_1_year  delayed previously   \n",
       "3   1216374     no checking  lo_1_year       existing paid   \n",
       "4   1216104        0<=X<200  lo_1_year  delayed previously   \n",
       "\n",
       "               purpose     amount savings_status other_parties  \\\n",
       "0              new car  1000_2000           <100          none   \n",
       "1             radio/tv  1000_2000           <100          none   \n",
       "2             used car  1000_2000           <100          none   \n",
       "3              new car  1000_2000     100<=X<500          none   \n",
       "4  furniture/equipment  1000_2000           <100          none   \n",
       "\n",
       "  property_magnitude other_payment_plans existing_credits class  \\\n",
       "0     life insurance                none              one   bad   \n",
       "1                car                none              one   bad   \n",
       "2        real estate                none              one  good   \n",
       "3        real estate                none              one  good   \n",
       "4     life insurance              stores              two  good   \n",
       "\n",
       "   number_product  \n",
       "0               5  \n",
       "1               5  \n",
       "2               2  \n",
       "3               6  \n",
       "4               3  "
      ]
     },
     "execution_count": 81,
     "metadata": {},
     "output_type": "execute_result"
    }
   ],
   "source": [
    "data3= pd.read_excel(\"data_projet/data_credit_que_infos.xlsx\")\n",
    "pd.set_option('display.max_rows', None)\n",
    "data3.head()\n"
   ]
  },
  {
   "cell_type": "markdown",
   "metadata": {},
   "source": [
    "### data_credit_que_socio.xlsx"
   ]
  },
  {
   "cell_type": "code",
   "execution_count": 82,
   "metadata": {},
   "outputs": [
    {
     "data": {
      "text/html": [
       "<div>\n",
       "<style scoped>\n",
       "    .dataframe tbody tr th:only-of-type {\n",
       "        vertical-align: middle;\n",
       "    }\n",
       "\n",
       "    .dataframe tbody tr th {\n",
       "        vertical-align: top;\n",
       "    }\n",
       "\n",
       "    .dataframe thead th {\n",
       "        text-align: right;\n",
       "    }\n",
       "</style>\n",
       "<table border=\"1\" class=\"dataframe\">\n",
       "  <thead>\n",
       "    <tr style=\"text-align: right;\">\n",
       "      <th></th>\n",
       "      <th>ClientID</th>\n",
       "      <th>personal_status</th>\n",
       "      <th>employment</th>\n",
       "      <th>job</th>\n",
       "      <th>own_telephone</th>\n",
       "      <th>foreign_worker</th>\n",
       "      <th>City</th>\n",
       "      <th>housing</th>\n",
       "      <th>age</th>\n",
       "    </tr>\n",
       "  </thead>\n",
       "  <tbody>\n",
       "    <tr>\n",
       "      <th>0</th>\n",
       "      <td>1216377</td>\n",
       "      <td>female div/dep/mar</td>\n",
       "      <td>&lt;1</td>\n",
       "      <td>skilled</td>\n",
       "      <td>none</td>\n",
       "      <td>yes</td>\n",
       "      <td>Quebec</td>\n",
       "      <td>rent</td>\n",
       "      <td>25</td>\n",
       "    </tr>\n",
       "    <tr>\n",
       "      <th>1</th>\n",
       "      <td>1216371</td>\n",
       "      <td>female div/dep/mar</td>\n",
       "      <td>&lt;1</td>\n",
       "      <td>unskilled resident</td>\n",
       "      <td>yes</td>\n",
       "      <td>yes</td>\n",
       "      <td>Quebec</td>\n",
       "      <td>rent</td>\n",
       "      <td>28</td>\n",
       "    </tr>\n",
       "    <tr>\n",
       "      <th>2</th>\n",
       "      <td>1216380</td>\n",
       "      <td>male mar/wid</td>\n",
       "      <td>1&lt;=X&lt;4</td>\n",
       "      <td>skilled</td>\n",
       "      <td>none</td>\n",
       "      <td>yes</td>\n",
       "      <td>Quebec</td>\n",
       "      <td>rent</td>\n",
       "      <td>29</td>\n",
       "    </tr>\n",
       "    <tr>\n",
       "      <th>3</th>\n",
       "      <td>1216374</td>\n",
       "      <td>male single</td>\n",
       "      <td>1&lt;=X&lt;4</td>\n",
       "      <td>unskilled resident</td>\n",
       "      <td>none</td>\n",
       "      <td>no</td>\n",
       "      <td>Quebec</td>\n",
       "      <td>rent</td>\n",
       "      <td>29</td>\n",
       "    </tr>\n",
       "    <tr>\n",
       "      <th>4</th>\n",
       "      <td>1216104</td>\n",
       "      <td>male single</td>\n",
       "      <td>unemployed</td>\n",
       "      <td>high qualif/self emp/mgm</td>\n",
       "      <td>yes</td>\n",
       "      <td>yes</td>\n",
       "      <td>Quebec</td>\n",
       "      <td>own</td>\n",
       "      <td>33</td>\n",
       "    </tr>\n",
       "  </tbody>\n",
       "</table>\n",
       "</div>"
      ],
      "text/plain": [
       "   ClientID     personal_status  employment                       job  \\\n",
       "0   1216377  female div/dep/mar          <1                   skilled   \n",
       "1   1216371  female div/dep/mar          <1        unskilled resident   \n",
       "2   1216380        male mar/wid      1<=X<4                   skilled   \n",
       "3   1216374         male single      1<=X<4        unskilled resident   \n",
       "4   1216104         male single  unemployed  high qualif/self emp/mgm   \n",
       "\n",
       "  own_telephone foreign_worker    City housing  age  \n",
       "0          none            yes  Quebec    rent   25  \n",
       "1           yes            yes  Quebec    rent   28  \n",
       "2          none            yes  Quebec    rent   29  \n",
       "3          none             no  Quebec    rent   29  \n",
       "4           yes            yes  Quebec     own   33  "
      ]
     },
     "execution_count": 82,
     "metadata": {},
     "output_type": "execute_result"
    }
   ],
   "source": [
    "data4 = pd.read_excel(\"data_projet/data_credit_que_socio.xlsx\")\n",
    "pd.set_option('display.max_rows', None)\n",
    "data4.head()\n",
    "\n",
    "\n"
   ]
  },
  {
   "cell_type": "markdown",
   "metadata": {},
   "source": [
    "### data_credit_tor_infos.xlsx"
   ]
  },
  {
   "cell_type": "code",
   "execution_count": 83,
   "metadata": {},
   "outputs": [
    {
     "data": {
      "text/html": [
       "<div>\n",
       "<style scoped>\n",
       "    .dataframe tbody tr th:only-of-type {\n",
       "        vertical-align: middle;\n",
       "    }\n",
       "\n",
       "    .dataframe tbody tr th {\n",
       "        vertical-align: top;\n",
       "    }\n",
       "\n",
       "    .dataframe thead th {\n",
       "        text-align: right;\n",
       "    }\n",
       "</style>\n",
       "<table border=\"1\" class=\"dataframe\">\n",
       "  <thead>\n",
       "    <tr style=\"text-align: right;\">\n",
       "      <th></th>\n",
       "      <th>ClientID</th>\n",
       "      <th>checking_status</th>\n",
       "      <th>duration</th>\n",
       "      <th>credit_history</th>\n",
       "      <th>purpose</th>\n",
       "      <th>amount</th>\n",
       "      <th>savings_status</th>\n",
       "      <th>other_parties</th>\n",
       "      <th>property_magnitude</th>\n",
       "      <th>other_payment_plans</th>\n",
       "      <th>existing_credits</th>\n",
       "      <th>class</th>\n",
       "      <th>number_product</th>\n",
       "    </tr>\n",
       "  </thead>\n",
       "  <tbody>\n",
       "    <tr>\n",
       "      <th>0</th>\n",
       "      <td>1216830</td>\n",
       "      <td>&lt;0</td>\n",
       "      <td>1_2_years</td>\n",
       "      <td>delayed previously</td>\n",
       "      <td>new car</td>\n",
       "      <td>up_2000</td>\n",
       "      <td>&lt;100</td>\n",
       "      <td>none</td>\n",
       "      <td>no known property</td>\n",
       "      <td>none</td>\n",
       "      <td>two</td>\n",
       "      <td>bad</td>\n",
       "      <td>3</td>\n",
       "    </tr>\n",
       "    <tr>\n",
       "      <th>1</th>\n",
       "      <td>1217052</td>\n",
       "      <td>&lt;0</td>\n",
       "      <td>1_2_years</td>\n",
       "      <td>existing paid</td>\n",
       "      <td>used car</td>\n",
       "      <td>up_2000</td>\n",
       "      <td>&lt;100</td>\n",
       "      <td>none</td>\n",
       "      <td>no known property</td>\n",
       "      <td>none</td>\n",
       "      <td>one</td>\n",
       "      <td>good</td>\n",
       "      <td>4</td>\n",
       "    </tr>\n",
       "    <tr>\n",
       "      <th>2</th>\n",
       "      <td>1216386</td>\n",
       "      <td>&lt;0</td>\n",
       "      <td>1_2_years</td>\n",
       "      <td>all paid</td>\n",
       "      <td>radio/tv</td>\n",
       "      <td>1000_2000</td>\n",
       "      <td>&lt;100</td>\n",
       "      <td>guarantor</td>\n",
       "      <td>car</td>\n",
       "      <td>bank</td>\n",
       "      <td>one</td>\n",
       "      <td>bad</td>\n",
       "      <td>6</td>\n",
       "    </tr>\n",
       "    <tr>\n",
       "      <th>3</th>\n",
       "      <td>1216836</td>\n",
       "      <td>0&lt;=X&lt;200</td>\n",
       "      <td>1_2_years</td>\n",
       "      <td>existing paid</td>\n",
       "      <td>used car</td>\n",
       "      <td>up_2000</td>\n",
       "      <td>&lt;100</td>\n",
       "      <td>none</td>\n",
       "      <td>no known property</td>\n",
       "      <td>none</td>\n",
       "      <td>one</td>\n",
       "      <td>bad</td>\n",
       "      <td>7</td>\n",
       "    </tr>\n",
       "    <tr>\n",
       "      <th>4</th>\n",
       "      <td>1216902</td>\n",
       "      <td>0&lt;=X&lt;200</td>\n",
       "      <td>up_2_years</td>\n",
       "      <td>existing paid</td>\n",
       "      <td>other</td>\n",
       "      <td>up_2000</td>\n",
       "      <td>no known savings</td>\n",
       "      <td>none</td>\n",
       "      <td>no known property</td>\n",
       "      <td>bank</td>\n",
       "      <td>one</td>\n",
       "      <td>good</td>\n",
       "      <td>1</td>\n",
       "    </tr>\n",
       "  </tbody>\n",
       "</table>\n",
       "</div>"
      ],
      "text/plain": [
       "   ClientID checking_status    duration      credit_history   purpose  \\\n",
       "0   1216830              <0   1_2_years  delayed previously   new car   \n",
       "1   1217052              <0   1_2_years       existing paid  used car   \n",
       "2   1216386              <0   1_2_years            all paid  radio/tv   \n",
       "3   1216836        0<=X<200   1_2_years       existing paid  used car   \n",
       "4   1216902        0<=X<200  up_2_years       existing paid     other   \n",
       "\n",
       "      amount    savings_status other_parties property_magnitude  \\\n",
       "0    up_2000              <100          none  no known property   \n",
       "1    up_2000              <100          none  no known property   \n",
       "2  1000_2000              <100     guarantor                car   \n",
       "3    up_2000              <100          none  no known property   \n",
       "4    up_2000  no known savings          none  no known property   \n",
       "\n",
       "  other_payment_plans existing_credits class  number_product  \n",
       "0                none              two   bad               3  \n",
       "1                none              one  good               4  \n",
       "2                bank              one   bad               6  \n",
       "3                none              one   bad               7  \n",
       "4                bank              one  good               1  "
      ]
     },
     "execution_count": 83,
     "metadata": {},
     "output_type": "execute_result"
    }
   ],
   "source": [
    "data5= pd.read_excel(\"data_projet/data_credit_tor_infos.xlsx\")\n",
    "pd.set_option('display.max_rows', None)\n",
    "data5.head()\n"
   ]
  },
  {
   "cell_type": "markdown",
   "metadata": {},
   "source": [
    "### data_credit_tor_socio.xlsx"
   ]
  },
  {
   "cell_type": "code",
   "execution_count": 84,
   "metadata": {},
   "outputs": [
    {
     "data": {
      "text/html": [
       "<div>\n",
       "<style scoped>\n",
       "    .dataframe tbody tr th:only-of-type {\n",
       "        vertical-align: middle;\n",
       "    }\n",
       "\n",
       "    .dataframe tbody tr th {\n",
       "        vertical-align: top;\n",
       "    }\n",
       "\n",
       "    .dataframe thead th {\n",
       "        text-align: right;\n",
       "    }\n",
       "</style>\n",
       "<table border=\"1\" class=\"dataframe\">\n",
       "  <thead>\n",
       "    <tr style=\"text-align: right;\">\n",
       "      <th></th>\n",
       "      <th>ClientID</th>\n",
       "      <th>personal_status</th>\n",
       "      <th>employment</th>\n",
       "      <th>job</th>\n",
       "      <th>own_telephone</th>\n",
       "      <th>foreign_worker</th>\n",
       "      <th>City</th>\n",
       "      <th>housing</th>\n",
       "      <th>age</th>\n",
       "    </tr>\n",
       "  </thead>\n",
       "  <tbody>\n",
       "    <tr>\n",
       "      <th>0</th>\n",
       "      <td>1216830</td>\n",
       "      <td>male single</td>\n",
       "      <td>1&lt;=X&lt;4</td>\n",
       "      <td>skilled</td>\n",
       "      <td>none</td>\n",
       "      <td>yes</td>\n",
       "      <td>Toronto</td>\n",
       "      <td>for free</td>\n",
       "      <td>15</td>\n",
       "    </tr>\n",
       "    <tr>\n",
       "      <th>1</th>\n",
       "      <td>1217052</td>\n",
       "      <td>male single</td>\n",
       "      <td>unemployed</td>\n",
       "      <td>high qualif/self emp/mgm</td>\n",
       "      <td>yes</td>\n",
       "      <td>yes</td>\n",
       "      <td>Toronto</td>\n",
       "      <td>for free</td>\n",
       "      <td>15</td>\n",
       "    </tr>\n",
       "    <tr>\n",
       "      <th>2</th>\n",
       "      <td>1216386</td>\n",
       "      <td>male single</td>\n",
       "      <td>4&lt;=X&lt;7</td>\n",
       "      <td>unskilled resident</td>\n",
       "      <td>none</td>\n",
       "      <td>yes</td>\n",
       "      <td>Toronto</td>\n",
       "      <td>rent</td>\n",
       "      <td>15</td>\n",
       "    </tr>\n",
       "    <tr>\n",
       "      <th>3</th>\n",
       "      <td>1216836</td>\n",
       "      <td>female div/dep/mar</td>\n",
       "      <td>&gt;=7</td>\n",
       "      <td>high qualif/self emp/mgm</td>\n",
       "      <td>yes</td>\n",
       "      <td>yes</td>\n",
       "      <td>Toronto</td>\n",
       "      <td>for free</td>\n",
       "      <td>15</td>\n",
       "    </tr>\n",
       "    <tr>\n",
       "      <th>4</th>\n",
       "      <td>1216902</td>\n",
       "      <td>male single</td>\n",
       "      <td>unemployed</td>\n",
       "      <td>unemp/unskilled non res</td>\n",
       "      <td>yes</td>\n",
       "      <td>yes</td>\n",
       "      <td>Toronto</td>\n",
       "      <td>for free</td>\n",
       "      <td>16</td>\n",
       "    </tr>\n",
       "  </tbody>\n",
       "</table>\n",
       "</div>"
      ],
      "text/plain": [
       "   ClientID     personal_status  employment                       job  \\\n",
       "0   1216830         male single      1<=X<4                   skilled   \n",
       "1   1217052         male single  unemployed  high qualif/self emp/mgm   \n",
       "2   1216386         male single      4<=X<7        unskilled resident   \n",
       "3   1216836  female div/dep/mar         >=7  high qualif/self emp/mgm   \n",
       "4   1216902         male single  unemployed   unemp/unskilled non res   \n",
       "\n",
       "  own_telephone foreign_worker     City   housing  age  \n",
       "0          none            yes  Toronto  for free   15  \n",
       "1           yes            yes  Toronto  for free   15  \n",
       "2          none            yes  Toronto      rent   15  \n",
       "3           yes            yes  Toronto  for free   15  \n",
       "4           yes            yes  Toronto  for free   16  "
      ]
     },
     "execution_count": 84,
     "metadata": {},
     "output_type": "execute_result"
    }
   ],
   "source": [
    "data6= pd.read_excel(\"data_projet/data_credit_tor_socio.xlsx\")\n",
    "pd.set_option('display.max_rows', None)\n",
    "data6.head()"
   ]
  },
  {
   "cell_type": "markdown",
   "metadata": {},
   "source": [
    "## 2.2.  Fusionner les de façon à avoir toutes ces données toutes ensembles dans une table de base de données. Cette nouvelle table a comme nom data_credit\n",
    "Aucun enregistrement (donnée) provenant des fichiers ne doit être perdu lors de la fusion et assurer qu'il\n",
    "n'y a aucun doublon dans cette nouvelle table (par doublons, nous voulons dire qu'aucune ligne de données\n",
    "ne se retrouve plus d'une fois dans la nouvelle table) ?"
   ]
  },
  {
   "cell_type": "markdown",
   "metadata": {},
   "source": [
    "## Analysis preliminaire:"
   ]
  },
  {
   "cell_type": "markdown",
   "metadata": {},
   "source": [
    "- On a besoin de preserver tous les donnes, effacer pas de variables et conserver la structuture adequate pour profiter\n",
    "de la functionalite de pandas dataframes.\n",
    "\n",
    "- Les 6 tables de data sont de 2 types:\n",
    "    - Information general socio.\n",
    "    - Information credit socio.\n",
    "    \n",
    "- Ilya deux champs importantes pour la fussion, City pour identifier le set de donnes et ClientId pour indexer des donnes.\n",
    "- Les donnes ont de deux types: **DATACREDIT et DATAINFOUSER**\n",
    "- Le numero de set de donnes est 3, **MONTREAL, TORONTO, QUEBEC**\n",
    "- Chaque set de donnes est composse de deux fichiers chaque excell.\n",
    "\n",
    "- Selon l'information generale de datasets:\n",
    "    - On a pas des valeurs null comme valeurs des donnes des datasets.\n",
    "    - On va reduire les donnes a un dataset de 21 labels.\n",
    "  \n",
    "- Pour chaque Ville ou set donnes on va faire un **fusion preliminaire** de donnes de credit et info general basse sur le **ClientId**. \n",
    "\n",
    "- La image suivant explique le methodologie de fussion."
   ]
  },
  {
   "cell_type": "code",
   "execution_count": 85,
   "metadata": {},
   "outputs": [
    {
     "data": {
      "image/png": "[encoded data removed]",
      "text/plain": [
       "<IPython.core.display.Image object>"
      ]
     },
     "execution_count": 85,
     "metadata": {
      "image/png": {
       "height": 1200,
       "width": 1600
      }
     },
     "output_type": "execute_result"
    }
   ],
   "source": [
    "from IPython.display import Image\n",
    "Image(filename = \"data_projet/strategieFusionData.png\", width = 1600, height = 1200)\n"
   ]
  },
  {
   "cell_type": "code",
   "execution_count": 86,
   "metadata": {},
   "outputs": [
    {
     "name": "stdout",
     "output_type": "stream",
     "text": [
      "No. Columns merged dataSet:  21\n"
     ]
    }
   ],
   "source": [
    "# Numero de columns dataset resultat\n",
    "\n",
    "ncols_merged = data1.shape[1] + data2.shape[1] - 1 #No repeter clientId\n",
    "print(\"No. Columns merged dataSet: \", ncols_merged)"
   ]
  },
  {
   "cell_type": "code",
   "execution_count": 87,
   "metadata": {},
   "outputs": [
    {
     "name": "stdout",
     "output_type": "stream",
     "text": [
      "<class 'pandas.core.frame.DataFrame'>\n",
      "RangeIndex: 475 entries, 0 to 474\n",
      "Data columns (total 13 columns):\n",
      " #   Column               Non-Null Count  Dtype \n",
      "---  ------               --------------  ----- \n",
      " 0   ClientID             475 non-null    int64 \n",
      " 1   checking_status      475 non-null    object\n",
      " 2   duration             475 non-null    object\n",
      " 3   credit_history       475 non-null    object\n",
      " 4   purpose              475 non-null    object\n",
      " 5   amount               475 non-null    object\n",
      " 6   savings_status       475 non-null    object\n",
      " 7   other_parties        475 non-null    object\n",
      " 8   property_magnitude   475 non-null    object\n",
      " 9   other_payment_plans  475 non-null    object\n",
      " 10  existing_credits     475 non-null    object\n",
      " 11  class                475 non-null    object\n",
      " 12  number_product       475 non-null    int64 \n",
      "dtypes: int64(2), object(11)\n",
      "memory usage: 48.4+ KB\n"
     ]
    }
   ],
   "source": [
    "data1.info()"
   ]
  },
  {
   "cell_type": "code",
   "execution_count": 88,
   "metadata": {},
   "outputs": [
    {
     "name": "stdout",
     "output_type": "stream",
     "text": [
      "<class 'pandas.core.frame.DataFrame'>\n",
      "RangeIndex: 475 entries, 0 to 474\n",
      "Data columns (total 9 columns):\n",
      " #   Column           Non-Null Count  Dtype \n",
      "---  ------           --------------  ----- \n",
      " 0   ClientID         475 non-null    int64 \n",
      " 1   personal_status  475 non-null    object\n",
      " 2   employment       475 non-null    object\n",
      " 3   job              475 non-null    object\n",
      " 4   own_telephone    475 non-null    object\n",
      " 5   foreign_worker   475 non-null    object\n",
      " 6   City             475 non-null    object\n",
      " 7   housing          475 non-null    object\n",
      " 8   age              475 non-null    int64 \n",
      "dtypes: int64(2), object(7)\n",
      "memory usage: 33.5+ KB\n"
     ]
    }
   ],
   "source": [
    "data2.info()"
   ]
  },
  {
   "cell_type": "markdown",
   "metadata": {},
   "source": [
    "## Analysis de relation entre tables - ClientID"
   ]
  },
  {
   "cell_type": "markdown",
   "metadata": {},
   "source": [
    "- Dans les tables de type DATACREDIT (Data 1,3,5) on repete des ClientIDs, apres de explorer les donnes on arrive a la conclusion que pour les cases ou les socios sont enregistres plus d'une fois, sont des doublons, mais pas tout les socios sont en doublon.\n",
    "\n",
    "- On va enlever les donnes doublons sur tables DATA 1,3,5 avant le merge preliminaire"
   ]
  },
  {
   "cell_type": "code",
   "execution_count": 89,
   "metadata": {},
   "outputs": [
    {
     "data": {
      "text/plain": [
       "475"
      ]
     },
     "execution_count": 89,
     "metadata": {},
     "output_type": "execute_result"
    }
   ],
   "source": [
    "data1['ClientID'].count()"
   ]
  },
  {
   "cell_type": "code",
   "execution_count": 90,
   "metadata": {},
   "outputs": [
    {
     "data": {
      "text/plain": [
       "241"
      ]
     },
     "execution_count": 90,
     "metadata": {},
     "output_type": "execute_result"
    }
   ],
   "source": [
    "data1['ClientID'].nunique()"
   ]
  },
  {
   "cell_type": "code",
   "execution_count": 91,
   "metadata": {},
   "outputs": [
    {
     "data": {
      "text/html": [
       "<div>\n",
       "<style scoped>\n",
       "    .dataframe tbody tr th:only-of-type {\n",
       "        vertical-align: middle;\n",
       "    }\n",
       "\n",
       "    .dataframe tbody tr th {\n",
       "        vertical-align: top;\n",
       "    }\n",
       "\n",
       "    .dataframe thead th {\n",
       "        text-align: right;\n",
       "    }\n",
       "</style>\n",
       "<table border=\"1\" class=\"dataframe\">\n",
       "  <thead>\n",
       "    <tr style=\"text-align: right;\">\n",
       "      <th></th>\n",
       "      <th>ClientID</th>\n",
       "      <th>checking_status</th>\n",
       "      <th>duration</th>\n",
       "      <th>credit_history</th>\n",
       "      <th>purpose</th>\n",
       "      <th>amount</th>\n",
       "      <th>savings_status</th>\n",
       "      <th>other_parties</th>\n",
       "      <th>property_magnitude</th>\n",
       "      <th>other_payment_plans</th>\n",
       "      <th>existing_credits</th>\n",
       "      <th>class</th>\n",
       "      <th>number_product</th>\n",
       "    </tr>\n",
       "  </thead>\n",
       "  <tbody>\n",
       "    <tr>\n",
       "      <th>0</th>\n",
       "      <td>1215693</td>\n",
       "      <td>&lt;0</td>\n",
       "      <td>1_2_years</td>\n",
       "      <td>existing paid</td>\n",
       "      <td>radio/tv</td>\n",
       "      <td>1000_2000</td>\n",
       "      <td>&lt;100</td>\n",
       "      <td>none</td>\n",
       "      <td>real estate</td>\n",
       "      <td>none</td>\n",
       "      <td>two</td>\n",
       "      <td>bad</td>\n",
       "      <td>5</td>\n",
       "    </tr>\n",
       "    <tr>\n",
       "      <th>1</th>\n",
       "      <td>1215693</td>\n",
       "      <td>&lt;0</td>\n",
       "      <td>1_2_years</td>\n",
       "      <td>existing paid</td>\n",
       "      <td>radio/tv</td>\n",
       "      <td>1000_2000</td>\n",
       "      <td>&lt;100</td>\n",
       "      <td>none</td>\n",
       "      <td>real estate</td>\n",
       "      <td>none</td>\n",
       "      <td>two</td>\n",
       "      <td>bad</td>\n",
       "      <td>5</td>\n",
       "    </tr>\n",
       "    <tr>\n",
       "      <th>2</th>\n",
       "      <td>1215696</td>\n",
       "      <td>0&lt;=X&lt;200</td>\n",
       "      <td>lo_1_year</td>\n",
       "      <td>critical/other existing</td>\n",
       "      <td>used car</td>\n",
       "      <td>1000_2000</td>\n",
       "      <td>&lt;100</td>\n",
       "      <td>none</td>\n",
       "      <td>car</td>\n",
       "      <td>none</td>\n",
       "      <td>two</td>\n",
       "      <td>good</td>\n",
       "      <td>5</td>\n",
       "    </tr>\n",
       "    <tr>\n",
       "      <th>3</th>\n",
       "      <td>1215696</td>\n",
       "      <td>0&lt;=X&lt;200</td>\n",
       "      <td>lo_1_year</td>\n",
       "      <td>critical/other existing</td>\n",
       "      <td>used car</td>\n",
       "      <td>1000_2000</td>\n",
       "      <td>&lt;100</td>\n",
       "      <td>none</td>\n",
       "      <td>car</td>\n",
       "      <td>none</td>\n",
       "      <td>two</td>\n",
       "      <td>good</td>\n",
       "      <td>5</td>\n",
       "    </tr>\n",
       "    <tr>\n",
       "      <th>4</th>\n",
       "      <td>1215699</td>\n",
       "      <td>no checking</td>\n",
       "      <td>lo_1_year</td>\n",
       "      <td>critical/other existing</td>\n",
       "      <td>radio/tv</td>\n",
       "      <td>1000_2000</td>\n",
       "      <td>no known savings</td>\n",
       "      <td>none</td>\n",
       "      <td>real estate</td>\n",
       "      <td>none</td>\n",
       "      <td>two</td>\n",
       "      <td>good</td>\n",
       "      <td>5</td>\n",
       "    </tr>\n",
       "    <tr>\n",
       "      <th>5</th>\n",
       "      <td>1215699</td>\n",
       "      <td>no checking</td>\n",
       "      <td>lo_1_year</td>\n",
       "      <td>critical/other existing</td>\n",
       "      <td>radio/tv</td>\n",
       "      <td>1000_2000</td>\n",
       "      <td>no known savings</td>\n",
       "      <td>none</td>\n",
       "      <td>real estate</td>\n",
       "      <td>none</td>\n",
       "      <td>two</td>\n",
       "      <td>good</td>\n",
       "      <td>5</td>\n",
       "    </tr>\n",
       "  </tbody>\n",
       "</table>\n",
       "</div>"
      ],
      "text/plain": [
       "   ClientID checking_status   duration           credit_history   purpose  \\\n",
       "0   1215693              <0  1_2_years            existing paid  radio/tv   \n",
       "1   1215693              <0  1_2_years            existing paid  radio/tv   \n",
       "2   1215696        0<=X<200  lo_1_year  critical/other existing  used car   \n",
       "3   1215696        0<=X<200  lo_1_year  critical/other existing  used car   \n",
       "4   1215699     no checking  lo_1_year  critical/other existing  radio/tv   \n",
       "5   1215699     no checking  lo_1_year  critical/other existing  radio/tv   \n",
       "\n",
       "      amount    savings_status other_parties property_magnitude  \\\n",
       "0  1000_2000              <100          none        real estate   \n",
       "1  1000_2000              <100          none        real estate   \n",
       "2  1000_2000              <100          none                car   \n",
       "3  1000_2000              <100          none                car   \n",
       "4  1000_2000  no known savings          none        real estate   \n",
       "5  1000_2000  no known savings          none        real estate   \n",
       "\n",
       "  other_payment_plans existing_credits class  number_product  \n",
       "0                none              two   bad               5  \n",
       "1                none              two   bad               5  \n",
       "2                none              two  good               5  \n",
       "3                none              two  good               5  \n",
       "4                none              two  good               5  \n",
       "5                none              two  good               5  "
      ]
     },
     "execution_count": 91,
     "metadata": {},
     "output_type": "execute_result"
    }
   ],
   "source": [
    "data1.sort_values('ClientID').head(6)"
   ]
  },
  {
   "cell_type": "markdown",
   "metadata": {},
   "source": [
    "- Dans les tables de type DATAINFOUSER on repete les ClientIDs, donc ilya une plus de une credit pour usager, \n",
    "il faut tenir en compte un relation many to many or one to many entre les deux tables.\n",
    "\n",
    "- On va enlever les donnes doublons sur tables DATA 2,4,6 avant de merge preliminaire\n"
   ]
  },
  {
   "cell_type": "code",
   "execution_count": 92,
   "metadata": {},
   "outputs": [
    {
     "data": {
      "text/plain": [
       "475"
      ]
     },
     "execution_count": 92,
     "metadata": {},
     "output_type": "execute_result"
    }
   ],
   "source": [
    "data2['ClientID'].count() # Numero de ClientIDs des clients dans le dataset"
   ]
  },
  {
   "cell_type": "code",
   "execution_count": 93,
   "metadata": {},
   "outputs": [
    {
     "data": {
      "text/plain": [
       "241"
      ]
     },
     "execution_count": 93,
     "metadata": {},
     "output_type": "execute_result"
    }
   ],
   "source": [
    "data2['ClientID'].nunique() # Numero de ClientIDs uniques dans le dataset"
   ]
  },
  {
   "cell_type": "code",
   "execution_count": 94,
   "metadata": {},
   "outputs": [
    {
     "data": {
      "text/html": [
       "<div>\n",
       "<style scoped>\n",
       "    .dataframe tbody tr th:only-of-type {\n",
       "        vertical-align: middle;\n",
       "    }\n",
       "\n",
       "    .dataframe tbody tr th {\n",
       "        vertical-align: top;\n",
       "    }\n",
       "\n",
       "    .dataframe thead th {\n",
       "        text-align: right;\n",
       "    }\n",
       "</style>\n",
       "<table border=\"1\" class=\"dataframe\">\n",
       "  <thead>\n",
       "    <tr style=\"text-align: right;\">\n",
       "      <th></th>\n",
       "      <th>ClientID</th>\n",
       "      <th>personal_status</th>\n",
       "      <th>employment</th>\n",
       "      <th>job</th>\n",
       "      <th>own_telephone</th>\n",
       "      <th>foreign_worker</th>\n",
       "      <th>City</th>\n",
       "      <th>housing</th>\n",
       "      <th>age</th>\n",
       "    </tr>\n",
       "  </thead>\n",
       "  <tbody>\n",
       "    <tr>\n",
       "      <th>375</th>\n",
       "      <td>1215693</td>\n",
       "      <td>female div/dep/mar</td>\n",
       "      <td>1&lt;=X&lt;4</td>\n",
       "      <td>skilled</td>\n",
       "      <td>yes</td>\n",
       "      <td>yes</td>\n",
       "      <td>Montreal</td>\n",
       "      <td>own</td>\n",
       "      <td>49</td>\n",
       "    </tr>\n",
       "    <tr>\n",
       "      <th>134</th>\n",
       "      <td>1215693</td>\n",
       "      <td>female div/dep/mar</td>\n",
       "      <td>1&lt;=X&lt;4</td>\n",
       "      <td>skilled</td>\n",
       "      <td>yes</td>\n",
       "      <td>yes</td>\n",
       "      <td>Montreal</td>\n",
       "      <td>own</td>\n",
       "      <td>49</td>\n",
       "    </tr>\n",
       "    <tr>\n",
       "      <th>355</th>\n",
       "      <td>1215696</td>\n",
       "      <td>male single</td>\n",
       "      <td>unemployed</td>\n",
       "      <td>high qualif/self emp/mgm</td>\n",
       "      <td>yes</td>\n",
       "      <td>yes</td>\n",
       "      <td>Montreal</td>\n",
       "      <td>own</td>\n",
       "      <td>46</td>\n",
       "    </tr>\n",
       "    <tr>\n",
       "      <th>114</th>\n",
       "      <td>1215696</td>\n",
       "      <td>male single</td>\n",
       "      <td>unemployed</td>\n",
       "      <td>high qualif/self emp/mgm</td>\n",
       "      <td>yes</td>\n",
       "      <td>yes</td>\n",
       "      <td>Montreal</td>\n",
       "      <td>own</td>\n",
       "      <td>46</td>\n",
       "    </tr>\n",
       "    <tr>\n",
       "      <th>376</th>\n",
       "      <td>1215699</td>\n",
       "      <td>female div/dep/mar</td>\n",
       "      <td>&gt;=7</td>\n",
       "      <td>skilled</td>\n",
       "      <td>yes</td>\n",
       "      <td>yes</td>\n",
       "      <td>Montreal</td>\n",
       "      <td>own</td>\n",
       "      <td>49</td>\n",
       "    </tr>\n",
       "    <tr>\n",
       "      <th>135</th>\n",
       "      <td>1215699</td>\n",
       "      <td>female div/dep/mar</td>\n",
       "      <td>&gt;=7</td>\n",
       "      <td>skilled</td>\n",
       "      <td>yes</td>\n",
       "      <td>yes</td>\n",
       "      <td>Montreal</td>\n",
       "      <td>own</td>\n",
       "      <td>49</td>\n",
       "    </tr>\n",
       "    <tr>\n",
       "      <th>51</th>\n",
       "      <td>1215702</td>\n",
       "      <td>male single</td>\n",
       "      <td>&gt;=7</td>\n",
       "      <td>skilled</td>\n",
       "      <td>none</td>\n",
       "      <td>yes</td>\n",
       "      <td>Montreal</td>\n",
       "      <td>own</td>\n",
       "      <td>35</td>\n",
       "    </tr>\n",
       "    <tr>\n",
       "      <th>292</th>\n",
       "      <td>1215702</td>\n",
       "      <td>male single</td>\n",
       "      <td>&gt;=7</td>\n",
       "      <td>skilled</td>\n",
       "      <td>none</td>\n",
       "      <td>yes</td>\n",
       "      <td>Montreal</td>\n",
       "      <td>own</td>\n",
       "      <td>35</td>\n",
       "    </tr>\n",
       "    <tr>\n",
       "      <th>397</th>\n",
       "      <td>1215705</td>\n",
       "      <td>male single</td>\n",
       "      <td>1&lt;=X&lt;4</td>\n",
       "      <td>skilled</td>\n",
       "      <td>yes</td>\n",
       "      <td>no</td>\n",
       "      <td>Montreal</td>\n",
       "      <td>own</td>\n",
       "      <td>52</td>\n",
       "    </tr>\n",
       "    <tr>\n",
       "      <th>156</th>\n",
       "      <td>1215705</td>\n",
       "      <td>male single</td>\n",
       "      <td>1&lt;=X&lt;4</td>\n",
       "      <td>skilled</td>\n",
       "      <td>yes</td>\n",
       "      <td>no</td>\n",
       "      <td>Montreal</td>\n",
       "      <td>own</td>\n",
       "      <td>52</td>\n",
       "    </tr>\n",
       "  </tbody>\n",
       "</table>\n",
       "</div>"
      ],
      "text/plain": [
       "     ClientID     personal_status  employment                       job  \\\n",
       "375   1215693  female div/dep/mar      1<=X<4                   skilled   \n",
       "134   1215693  female div/dep/mar      1<=X<4                   skilled   \n",
       "355   1215696         male single  unemployed  high qualif/self emp/mgm   \n",
       "114   1215696         male single  unemployed  high qualif/self emp/mgm   \n",
       "376   1215699  female div/dep/mar         >=7                   skilled   \n",
       "135   1215699  female div/dep/mar         >=7                   skilled   \n",
       "51    1215702         male single         >=7                   skilled   \n",
       "292   1215702         male single         >=7                   skilled   \n",
       "397   1215705         male single      1<=X<4                   skilled   \n",
       "156   1215705         male single      1<=X<4                   skilled   \n",
       "\n",
       "    own_telephone foreign_worker      City housing  age  \n",
       "375           yes            yes  Montreal     own   49  \n",
       "134           yes            yes  Montreal     own   49  \n",
       "355           yes            yes  Montreal     own   46  \n",
       "114           yes            yes  Montreal     own   46  \n",
       "376           yes            yes  Montreal     own   49  \n",
       "135           yes            yes  Montreal     own   49  \n",
       "51           none            yes  Montreal     own   35  \n",
       "292          none            yes  Montreal     own   35  \n",
       "397           yes             no  Montreal     own   52  \n",
       "156           yes             no  Montreal     own   52  "
      ]
     },
     "execution_count": 94,
     "metadata": {},
     "output_type": "execute_result"
    }
   ],
   "source": [
    "data2.sort_values('ClientID').head(10) # Pour regarder les valeurs repetetitives."
   ]
  },
  {
   "cell_type": "code",
   "execution_count": 95,
   "metadata": {},
   "outputs": [],
   "source": [
    "# All the ClientIDs of DATA1 are in DATA2, in order to evaluate if the inner join its valid. "
   ]
  },
  {
   "cell_type": "code",
   "execution_count": 96,
   "metadata": {},
   "outputs": [
    {
     "name": "stdout",
     "output_type": "stream",
     "text": [
      "True\n"
     ]
    }
   ],
   "source": [
    "res = data1.isin(data2['ClientID']).any().any()\n",
    "print(res)"
   ]
  },
  {
   "cell_type": "markdown",
   "metadata": {},
   "source": [
    "### Procedure de fussion:"
   ]
  },
  {
   "cell_type": "code",
   "execution_count": 97,
   "metadata": {},
   "outputs": [
    {
     "name": "stdout",
     "output_type": "stream",
     "text": [
      "<class 'pandas.core.frame.DataFrame'>\n",
      "Int64Index: 946 entries, 0 to 600\n",
      "Data columns (total 13 columns):\n",
      " #   Column               Non-Null Count  Dtype \n",
      "---  ------               --------------  ----- \n",
      " 0   ClientID             946 non-null    int64 \n",
      " 1   checking_status      946 non-null    object\n",
      " 2   duration             946 non-null    object\n",
      " 3   credit_history       946 non-null    object\n",
      " 4   purpose              946 non-null    object\n",
      " 5   amount               946 non-null    object\n",
      " 6   savings_status       946 non-null    object\n",
      " 7   other_parties        946 non-null    object\n",
      " 8   property_magnitude   946 non-null    object\n",
      " 9   other_payment_plans  946 non-null    object\n",
      " 10  existing_credits     946 non-null    object\n",
      " 11  class                946 non-null    object\n",
      " 12  number_product       946 non-null    int64 \n",
      "dtypes: int64(2), object(11)\n",
      "memory usage: 103.5+ KB\n"
     ]
    }
   ],
   "source": [
    "DATACLIENTS = pd.concat([data1, data3, data5]).drop_duplicates()\n",
    "DATACLIENTS.info()"
   ]
  },
  {
   "cell_type": "code",
   "execution_count": 98,
   "metadata": {},
   "outputs": [
    {
     "name": "stdout",
     "output_type": "stream",
     "text": [
      "<class 'pandas.core.frame.DataFrame'>\n",
      "Int64Index: 946 entries, 0 to 600\n",
      "Data columns (total 9 columns):\n",
      " #   Column           Non-Null Count  Dtype \n",
      "---  ------           --------------  ----- \n",
      " 0   ClientID         946 non-null    int64 \n",
      " 1   personal_status  946 non-null    object\n",
      " 2   employment       946 non-null    object\n",
      " 3   job              946 non-null    object\n",
      " 4   own_telephone    946 non-null    object\n",
      " 5   foreign_worker   946 non-null    object\n",
      " 6   City             946 non-null    object\n",
      " 7   housing          946 non-null    object\n",
      " 8   age              946 non-null    int64 \n",
      "dtypes: int64(2), object(7)\n",
      "memory usage: 73.9+ KB\n"
     ]
    }
   ],
   "source": [
    "DATACREDITS = pd.concat([data2, data4, data6]).drop_duplicates()\n",
    "DATACREDITS.info()\n"
   ]
  },
  {
   "cell_type": "code",
   "execution_count": 99,
   "metadata": {},
   "outputs": [
    {
     "data": {
      "text/html": [
       "<div>\n",
       "<style scoped>\n",
       "    .dataframe tbody tr th:only-of-type {\n",
       "        vertical-align: middle;\n",
       "    }\n",
       "\n",
       "    .dataframe tbody tr th {\n",
       "        vertical-align: top;\n",
       "    }\n",
       "\n",
       "    .dataframe thead th {\n",
       "        text-align: right;\n",
       "    }\n",
       "</style>\n",
       "<table border=\"1\" class=\"dataframe\">\n",
       "  <thead>\n",
       "    <tr style=\"text-align: right;\">\n",
       "      <th></th>\n",
       "      <th>ClientID</th>\n",
       "      <th>checking_status</th>\n",
       "      <th>duration</th>\n",
       "      <th>credit_history</th>\n",
       "      <th>purpose</th>\n",
       "      <th>amount</th>\n",
       "      <th>savings_status</th>\n",
       "      <th>other_parties</th>\n",
       "      <th>property_magnitude</th>\n",
       "      <th>other_payment_plans</th>\n",
       "      <th>...</th>\n",
       "      <th>class</th>\n",
       "      <th>number_product</th>\n",
       "      <th>personal_status</th>\n",
       "      <th>employment</th>\n",
       "      <th>job</th>\n",
       "      <th>own_telephone</th>\n",
       "      <th>foreign_worker</th>\n",
       "      <th>City</th>\n",
       "      <th>housing</th>\n",
       "      <th>age</th>\n",
       "    </tr>\n",
       "  </thead>\n",
       "  <tbody>\n",
       "    <tr>\n",
       "      <th>0</th>\n",
       "      <td>1215693</td>\n",
       "      <td>&lt;0</td>\n",
       "      <td>1_2_years</td>\n",
       "      <td>existing paid</td>\n",
       "      <td>radio/tv</td>\n",
       "      <td>1000_2000</td>\n",
       "      <td>&lt;100</td>\n",
       "      <td>none</td>\n",
       "      <td>real estate</td>\n",
       "      <td>none</td>\n",
       "      <td>...</td>\n",
       "      <td>bad</td>\n",
       "      <td>5</td>\n",
       "      <td>female div/dep/mar</td>\n",
       "      <td>1&lt;=X&lt;4</td>\n",
       "      <td>skilled</td>\n",
       "      <td>yes</td>\n",
       "      <td>yes</td>\n",
       "      <td>Montreal</td>\n",
       "      <td>own</td>\n",
       "      <td>49</td>\n",
       "    </tr>\n",
       "    <tr>\n",
       "      <th>1</th>\n",
       "      <td>1215696</td>\n",
       "      <td>0&lt;=X&lt;200</td>\n",
       "      <td>lo_1_year</td>\n",
       "      <td>critical/other existing</td>\n",
       "      <td>used car</td>\n",
       "      <td>1000_2000</td>\n",
       "      <td>&lt;100</td>\n",
       "      <td>none</td>\n",
       "      <td>car</td>\n",
       "      <td>none</td>\n",
       "      <td>...</td>\n",
       "      <td>good</td>\n",
       "      <td>5</td>\n",
       "      <td>male single</td>\n",
       "      <td>unemployed</td>\n",
       "      <td>high qualif/self emp/mgm</td>\n",
       "      <td>yes</td>\n",
       "      <td>yes</td>\n",
       "      <td>Montreal</td>\n",
       "      <td>own</td>\n",
       "      <td>46</td>\n",
       "    </tr>\n",
       "    <tr>\n",
       "      <th>2</th>\n",
       "      <td>1215699</td>\n",
       "      <td>no checking</td>\n",
       "      <td>lo_1_year</td>\n",
       "      <td>critical/other existing</td>\n",
       "      <td>radio/tv</td>\n",
       "      <td>1000_2000</td>\n",
       "      <td>no known savings</td>\n",
       "      <td>none</td>\n",
       "      <td>real estate</td>\n",
       "      <td>none</td>\n",
       "      <td>...</td>\n",
       "      <td>good</td>\n",
       "      <td>5</td>\n",
       "      <td>female div/dep/mar</td>\n",
       "      <td>&gt;=7</td>\n",
       "      <td>skilled</td>\n",
       "      <td>yes</td>\n",
       "      <td>yes</td>\n",
       "      <td>Montreal</td>\n",
       "      <td>own</td>\n",
       "      <td>49</td>\n",
       "    </tr>\n",
       "    <tr>\n",
       "      <th>3</th>\n",
       "      <td>1215702</td>\n",
       "      <td>no checking</td>\n",
       "      <td>1_2_years</td>\n",
       "      <td>critical/other existing</td>\n",
       "      <td>radio/tv</td>\n",
       "      <td>1000_2000</td>\n",
       "      <td>&gt;=1000</td>\n",
       "      <td>none</td>\n",
       "      <td>car</td>\n",
       "      <td>none</td>\n",
       "      <td>...</td>\n",
       "      <td>good</td>\n",
       "      <td>5</td>\n",
       "      <td>male single</td>\n",
       "      <td>&gt;=7</td>\n",
       "      <td>skilled</td>\n",
       "      <td>none</td>\n",
       "      <td>yes</td>\n",
       "      <td>Montreal</td>\n",
       "      <td>own</td>\n",
       "      <td>35</td>\n",
       "    </tr>\n",
       "    <tr>\n",
       "      <th>4</th>\n",
       "      <td>1215705</td>\n",
       "      <td>no checking</td>\n",
       "      <td>lo_1_year</td>\n",
       "      <td>existing paid</td>\n",
       "      <td>radio/tv</td>\n",
       "      <td>1000_2000</td>\n",
       "      <td>&lt;100</td>\n",
       "      <td>none</td>\n",
       "      <td>life insurance</td>\n",
       "      <td>none</td>\n",
       "      <td>...</td>\n",
       "      <td>good</td>\n",
       "      <td>5</td>\n",
       "      <td>male single</td>\n",
       "      <td>1&lt;=X&lt;4</td>\n",
       "      <td>skilled</td>\n",
       "      <td>yes</td>\n",
       "      <td>no</td>\n",
       "      <td>Montreal</td>\n",
       "      <td>own</td>\n",
       "      <td>52</td>\n",
       "    </tr>\n",
       "  </tbody>\n",
       "</table>\n",
       "<p>5 rows × 21 columns</p>\n",
       "</div>"
      ],
      "text/plain": [
       "   ClientID checking_status   duration           credit_history   purpose  \\\n",
       "0   1215693              <0  1_2_years            existing paid  radio/tv   \n",
       "1   1215696        0<=X<200  lo_1_year  critical/other existing  used car   \n",
       "2   1215699     no checking  lo_1_year  critical/other existing  radio/tv   \n",
       "3   1215702     no checking  1_2_years  critical/other existing  radio/tv   \n",
       "4   1215705     no checking  lo_1_year            existing paid  radio/tv   \n",
       "\n",
       "      amount    savings_status other_parties property_magnitude  \\\n",
       "0  1000_2000              <100          none        real estate   \n",
       "1  1000_2000              <100          none                car   \n",
       "2  1000_2000  no known savings          none        real estate   \n",
       "3  1000_2000            >=1000          none                car   \n",
       "4  1000_2000              <100          none     life insurance   \n",
       "\n",
       "  other_payment_plans  ... class number_product     personal_status  \\\n",
       "0                none  ...   bad              5  female div/dep/mar   \n",
       "1                none  ...  good              5         male single   \n",
       "2                none  ...  good              5  female div/dep/mar   \n",
       "3                none  ...  good              5         male single   \n",
       "4                none  ...  good              5         male single   \n",
       "\n",
       "   employment                       job own_telephone foreign_worker  \\\n",
       "0      1<=X<4                   skilled           yes            yes   \n",
       "1  unemployed  high qualif/self emp/mgm           yes            yes   \n",
       "2         >=7                   skilled           yes            yes   \n",
       "3         >=7                   skilled          none            yes   \n",
       "4      1<=X<4                   skilled           yes             no   \n",
       "\n",
       "       City housing age  \n",
       "0  Montreal     own  49  \n",
       "1  Montreal     own  46  \n",
       "2  Montreal     own  49  \n",
       "3  Montreal     own  35  \n",
       "4  Montreal     own  52  \n",
       "\n",
       "[5 rows x 21 columns]"
      ]
     },
     "execution_count": 99,
     "metadata": {},
     "output_type": "execute_result"
    }
   ],
   "source": [
    "FUSION = pd.merge(DATACLIENTS, DATACREDITS, on=[\"ClientID\"], how = 'inner') \n",
    "FUSION.sort_values('ClientID').head()\n"
   ]
  },
  {
   "cell_type": "code",
   "execution_count": 100,
   "metadata": {},
   "outputs": [
    {
     "name": "stdout",
     "output_type": "stream",
     "text": [
      "<class 'pandas.core.frame.DataFrame'>\n",
      "Int64Index: 946 entries, 0 to 945\n",
      "Data columns (total 21 columns):\n",
      " #   Column               Non-Null Count  Dtype \n",
      "---  ------               --------------  ----- \n",
      " 0   ClientID             946 non-null    int64 \n",
      " 1   checking_status      946 non-null    object\n",
      " 2   duration             946 non-null    object\n",
      " 3   credit_history       946 non-null    object\n",
      " 4   purpose              946 non-null    object\n",
      " 5   amount               946 non-null    object\n",
      " 6   savings_status       946 non-null    object\n",
      " 7   other_parties        946 non-null    object\n",
      " 8   property_magnitude   946 non-null    object\n",
      " 9   other_payment_plans  946 non-null    object\n",
      " 10  existing_credits     946 non-null    object\n",
      " 11  class                946 non-null    object\n",
      " 12  number_product       946 non-null    int64 \n",
      " 13  personal_status      946 non-null    object\n",
      " 14  employment           946 non-null    object\n",
      " 15  job                  946 non-null    object\n",
      " 16  own_telephone        946 non-null    object\n",
      " 17  foreign_worker       946 non-null    object\n",
      " 18  City                 946 non-null    object\n",
      " 19  housing              946 non-null    object\n",
      " 20  age                  946 non-null    int64 \n",
      "dtypes: int64(3), object(18)\n",
      "memory usage: 162.6+ KB\n"
     ]
    }
   ],
   "source": [
    "FUSION.info()"
   ]
  },
  {
   "cell_type": "markdown",
   "metadata": {},
   "source": [
    "## 2.3. Afficher le nombre de clients qu'il y a dans la région de Toronto et après de Québec ainsi que l'âge moyen des clients de chaque région ?"
   ]
  },
  {
   "cell_type": "code",
   "execution_count": 101,
   "metadata": {},
   "outputs": [
    {
     "name": "stdout",
     "output_type": "stream",
     "text": [
      "nombre de clients qu'il y a dans la région de Toronto:  582\n",
      "nombre de clients qu'il y a dans la région de Quebec:  104\n",
      "nombre de clients qu'il y a dans la région de Montreal:  241\n"
     ]
    }
   ],
   "source": [
    "respTor = FUSION[FUSION.City==\"Toronto\"]\n",
    "print(\"nombre de clients qu'il y a dans la région de Toronto: \", respTor.shape[0])\n",
    "\n",
    "respQc = FUSION[FUSION.City==\"Quebec\"]\n",
    "print(\"nombre de clients qu'il y a dans la région de Quebec: \", respQc.shape[0])\n",
    "\n",
    "respMtl = FUSION[FUSION.City==\"Montreal\"]\n",
    "print(\"nombre de clients qu'il y a dans la région de Montreal: \", respMtl.shape[0])"
   ]
  },
  {
   "cell_type": "code",
   "execution_count": 102,
   "metadata": {},
   "outputs": [
    {
     "data": {
      "text/html": [
       "<div>\n",
       "<style scoped>\n",
       "    .dataframe tbody tr th:only-of-type {\n",
       "        vertical-align: middle;\n",
       "    }\n",
       "\n",
       "    .dataframe tbody tr th {\n",
       "        vertical-align: top;\n",
       "    }\n",
       "\n",
       "    .dataframe thead th {\n",
       "        text-align: right;\n",
       "    }\n",
       "</style>\n",
       "<table border=\"1\" class=\"dataframe\">\n",
       "  <thead>\n",
       "    <tr style=\"text-align: right;\">\n",
       "      <th></th>\n",
       "      <th>0</th>\n",
       "    </tr>\n",
       "    <tr>\n",
       "      <th>City</th>\n",
       "      <th></th>\n",
       "    </tr>\n",
       "  </thead>\n",
       "  <tbody>\n",
       "    <tr>\n",
       "      <th>Montreal</th>\n",
       "      <td>241</td>\n",
       "    </tr>\n",
       "    <tr>\n",
       "      <th>Quebec</th>\n",
       "      <td>104</td>\n",
       "    </tr>\n",
       "    <tr>\n",
       "      <th>Toronto</th>\n",
       "      <td>582</td>\n",
       "    </tr>\n",
       "    <tr>\n",
       "      <th>Totonto</th>\n",
       "      <td>19</td>\n",
       "    </tr>\n",
       "  </tbody>\n",
       "</table>\n",
       "</div>"
      ],
      "text/plain": [
       "            0\n",
       "City         \n",
       "Montreal  241\n",
       "Quebec    104\n",
       "Toronto   582\n",
       "Totonto    19"
      ]
     },
     "execution_count": 102,
     "metadata": {},
     "output_type": "execute_result"
    }
   ],
   "source": [
    "FUSION.groupby('City').size().to_frame()"
   ]
  },
  {
   "cell_type": "markdown",
   "metadata": {},
   "source": [
    "- Ca dois etre corrige l'erreur de typo \"Totonto\" dans les donnes, en total Toronto 582 + 19 = 601\n",
    "- **On le fait pas la modification pour respecter les donnes original dans l'analysis de projet**"
   ]
  },
  {
   "cell_type": "code",
   "execution_count": 103,
   "metadata": {},
   "outputs": [
    {
     "name": "stdout",
     "output_type": "stream",
     "text": [
      "Age moyene Toronto 42.94329896907217\n"
     ]
    }
   ],
   "source": [
    "print(\"Age moyene Toronto\", respTor['age'].mean())"
   ]
  },
  {
   "cell_type": "markdown",
   "metadata": {},
   "source": [
    "### Age moyenne pour chaque region"
   ]
  },
  {
   "cell_type": "code",
   "execution_count": 104,
   "metadata": {},
   "outputs": [
    {
     "data": {
      "text/html": [
       "<div>\n",
       "<style scoped>\n",
       "    .dataframe tbody tr th:only-of-type {\n",
       "        vertical-align: middle;\n",
       "    }\n",
       "\n",
       "    .dataframe tbody tr th {\n",
       "        vertical-align: top;\n",
       "    }\n",
       "\n",
       "    .dataframe thead th {\n",
       "        text-align: right;\n",
       "    }\n",
       "</style>\n",
       "<table border=\"1\" class=\"dataframe\">\n",
       "  <thead>\n",
       "    <tr style=\"text-align: right;\">\n",
       "      <th></th>\n",
       "      <th>age</th>\n",
       "    </tr>\n",
       "    <tr>\n",
       "      <th>City</th>\n",
       "      <th></th>\n",
       "    </tr>\n",
       "  </thead>\n",
       "  <tbody>\n",
       "    <tr>\n",
       "      <th>Montreal</th>\n",
       "      <td>47.742739</td>\n",
       "    </tr>\n",
       "    <tr>\n",
       "      <th>Quebec</th>\n",
       "      <td>55.317308</td>\n",
       "    </tr>\n",
       "    <tr>\n",
       "      <th>Toronto</th>\n",
       "      <td>42.943299</td>\n",
       "    </tr>\n",
       "    <tr>\n",
       "      <th>Totonto</th>\n",
       "      <td>46.947368</td>\n",
       "    </tr>\n",
       "  </tbody>\n",
       "</table>\n",
       "</div>"
      ],
      "text/plain": [
       "                age\n",
       "City               \n",
       "Montreal  47.742739\n",
       "Quebec    55.317308\n",
       "Toronto   42.943299\n",
       "Totonto   46.947368"
      ]
     },
     "execution_count": 104,
     "metadata": {},
     "output_type": "execute_result"
    }
   ],
   "source": [
    "FUSION.groupby('City').mean()['age'].to_frame()"
   ]
  },
  {
   "cell_type": "markdown",
   "metadata": {},
   "source": [
    "## 2.4. Dans cette nouvelle table, veuillez afficher le nombre de produits moyen, le minimum du nombre de produit, le maximum du nombre de produits et cela grouper par ville. Nous voulons seulement la ville de Montréal et de Québec. Quelle est la ville qui a la plus petite moyenne ? Est-ce une grande différence?"
   ]
  },
  {
   "cell_type": "code",
   "execution_count": 105,
   "metadata": {},
   "outputs": [
    {
     "data": {
      "text/html": [
       "<div>\n",
       "<style scoped>\n",
       "    .dataframe tbody tr th:only-of-type {\n",
       "        vertical-align: middle;\n",
       "    }\n",
       "\n",
       "    .dataframe tbody tr th {\n",
       "        vertical-align: top;\n",
       "    }\n",
       "\n",
       "    .dataframe thead th {\n",
       "        text-align: right;\n",
       "    }\n",
       "</style>\n",
       "<table border=\"1\" class=\"dataframe\">\n",
       "  <thead>\n",
       "    <tr style=\"text-align: right;\">\n",
       "      <th></th>\n",
       "      <th>count</th>\n",
       "      <th>mean</th>\n",
       "      <th>std</th>\n",
       "      <th>min</th>\n",
       "      <th>25%</th>\n",
       "      <th>50%</th>\n",
       "      <th>75%</th>\n",
       "      <th>max</th>\n",
       "    </tr>\n",
       "    <tr>\n",
       "      <th>City</th>\n",
       "      <th></th>\n",
       "      <th></th>\n",
       "      <th></th>\n",
       "      <th></th>\n",
       "      <th></th>\n",
       "      <th></th>\n",
       "      <th></th>\n",
       "      <th></th>\n",
       "    </tr>\n",
       "  </thead>\n",
       "  <tbody>\n",
       "    <tr>\n",
       "      <th>Montreal</th>\n",
       "      <td>241.0</td>\n",
       "      <td>5.049793</td>\n",
       "      <td>1.164407</td>\n",
       "      <td>1.0</td>\n",
       "      <td>5.0</td>\n",
       "      <td>5.0</td>\n",
       "      <td>5.0</td>\n",
       "      <td>12.0</td>\n",
       "    </tr>\n",
       "    <tr>\n",
       "      <th>Quebec</th>\n",
       "      <td>104.0</td>\n",
       "      <td>4.942308</td>\n",
       "      <td>2.198088</td>\n",
       "      <td>1.0</td>\n",
       "      <td>3.0</td>\n",
       "      <td>5.0</td>\n",
       "      <td>6.0</td>\n",
       "      <td>12.0</td>\n",
       "    </tr>\n",
       "  </tbody>\n",
       "</table>\n",
       "</div>"
      ],
      "text/plain": [
       "          count      mean       std  min  25%  50%  75%   max\n",
       "City                                                         \n",
       "Montreal  241.0  5.049793  1.164407  1.0  5.0  5.0  5.0  12.0\n",
       "Quebec    104.0  4.942308  2.198088  1.0  3.0  5.0  6.0  12.0"
      ]
     },
     "execution_count": 105,
     "metadata": {},
     "output_type": "execute_result"
    }
   ],
   "source": [
    "f2 = FUSION[(FUSION.City == \"Montreal\") | (FUSION.City == \"Quebec\")]\n",
    "f2.groupby('City').describe()['number_product']"
   ]
  },
  {
   "cell_type": "markdown",
   "metadata": {},
   "source": [
    "La Ville avec plut petite moyenne cest Quebec, et il n'as pas bcp de difference."
   ]
  },
  {
   "cell_type": "code",
   "execution_count": 106,
   "metadata": {},
   "outputs": [
    {
     "name": "stdout",
     "output_type": "stream",
     "text": [
      "Differences entre moyennes number_product de Montreal et Quebec:  0.10748483881263926\n"
     ]
    }
   ],
   "source": [
    "difference = FUSION[(FUSION.City == \"Montreal\")].mean()['number_product'] - FUSION[(FUSION.City == \"Quebec\")].mean()['number_product']\n",
    "print(\"Differences entre moyennes number_product de Montreal et Quebec: \", difference)"
   ]
  },
  {
   "cell_type": "markdown",
   "metadata": {},
   "source": [
    "## 2.5. Créer deux nouvelles variables pour grouper la variable « âge » avec un pas de 5 et après un pas de 10 en commençant par la valeur 10 (des groupes 10-15 pour les pas de 5) et (des groupes 10-20 pour les  pas de 10, etc.) jusqu’à atteindre l’âge maximum de la table de données. Vous nommerez ces variables «age_group_5 et age_group_10 » (4 requêtes maximum)."
   ]
  },
  {
   "cell_type": "code",
   "execution_count": 107,
   "metadata": {},
   "outputs": [
    {
     "data": {
      "text/plain": [
       "count    946.000000\n",
       "mean      45.606765\n",
       "std       13.585150\n",
       "min       15.000000\n",
       "25%       37.000000\n",
       "50%       46.000000\n",
       "75%       53.000000\n",
       "max       79.000000\n",
       "Name: age, dtype: float64"
      ]
     },
     "execution_count": 107,
     "metadata": {},
     "output_type": "execute_result"
    }
   ],
   "source": [
    "FUSION['age'].describe()"
   ]
  },
  {
   "cell_type": "markdown",
   "metadata": {},
   "source": [
    "### Version 1."
   ]
  },
  {
   "cell_type": "code",
   "execution_count": 108,
   "metadata": {},
   "outputs": [
    {
     "name": "stdout",
     "output_type": "stream",
     "text": [
      "[10 15 20 25 30 35 40 45 50 55 60 65 70 75 80 85 90 95]\n",
      "No de bins de 5:  18\n",
      "No de labels de 5:  17\n",
      "[10 20 30 40 50 60 70 80 90]\n",
      "No de bins de 10:  18\n",
      "No de labels de 10:  17\n"
     ]
    },
    {
     "data": {
      "text/html": [
       "<div>\n",
       "<style scoped>\n",
       "    .dataframe tbody tr th:only-of-type {\n",
       "        vertical-align: middle;\n",
       "    }\n",
       "\n",
       "    .dataframe tbody tr th {\n",
       "        vertical-align: top;\n",
       "    }\n",
       "\n",
       "    .dataframe thead th {\n",
       "        text-align: right;\n",
       "    }\n",
       "</style>\n",
       "<table border=\"1\" class=\"dataframe\">\n",
       "  <thead>\n",
       "    <tr style=\"text-align: right;\">\n",
       "      <th></th>\n",
       "      <th>ClientID</th>\n",
       "      <th>checking_status</th>\n",
       "      <th>duration</th>\n",
       "      <th>credit_history</th>\n",
       "      <th>purpose</th>\n",
       "      <th>amount</th>\n",
       "      <th>savings_status</th>\n",
       "      <th>other_parties</th>\n",
       "      <th>property_magnitude</th>\n",
       "      <th>other_payment_plans</th>\n",
       "      <th>...</th>\n",
       "      <th>personal_status</th>\n",
       "      <th>employment</th>\n",
       "      <th>job</th>\n",
       "      <th>own_telephone</th>\n",
       "      <th>foreign_worker</th>\n",
       "      <th>City</th>\n",
       "      <th>housing</th>\n",
       "      <th>age</th>\n",
       "      <th>age_group_5</th>\n",
       "      <th>age_group_10</th>\n",
       "    </tr>\n",
       "  </thead>\n",
       "  <tbody>\n",
       "    <tr>\n",
       "      <th>0</th>\n",
       "      <td>1215693</td>\n",
       "      <td>&lt;0</td>\n",
       "      <td>1_2_years</td>\n",
       "      <td>existing paid</td>\n",
       "      <td>radio/tv</td>\n",
       "      <td>1000_2000</td>\n",
       "      <td>&lt;100</td>\n",
       "      <td>none</td>\n",
       "      <td>real estate</td>\n",
       "      <td>none</td>\n",
       "      <td>...</td>\n",
       "      <td>female div/dep/mar</td>\n",
       "      <td>1&lt;=X&lt;4</td>\n",
       "      <td>skilled</td>\n",
       "      <td>yes</td>\n",
       "      <td>yes</td>\n",
       "      <td>Montreal</td>\n",
       "      <td>own</td>\n",
       "      <td>49</td>\n",
       "      <td>46-50</td>\n",
       "      <td>41-50</td>\n",
       "    </tr>\n",
       "    <tr>\n",
       "      <th>1</th>\n",
       "      <td>1215696</td>\n",
       "      <td>0&lt;=X&lt;200</td>\n",
       "      <td>lo_1_year</td>\n",
       "      <td>critical/other existing</td>\n",
       "      <td>used car</td>\n",
       "      <td>1000_2000</td>\n",
       "      <td>&lt;100</td>\n",
       "      <td>none</td>\n",
       "      <td>car</td>\n",
       "      <td>none</td>\n",
       "      <td>...</td>\n",
       "      <td>male single</td>\n",
       "      <td>unemployed</td>\n",
       "      <td>high qualif/self emp/mgm</td>\n",
       "      <td>yes</td>\n",
       "      <td>yes</td>\n",
       "      <td>Montreal</td>\n",
       "      <td>own</td>\n",
       "      <td>46</td>\n",
       "      <td>46-50</td>\n",
       "      <td>41-50</td>\n",
       "    </tr>\n",
       "    <tr>\n",
       "      <th>2</th>\n",
       "      <td>1215699</td>\n",
       "      <td>no checking</td>\n",
       "      <td>lo_1_year</td>\n",
       "      <td>critical/other existing</td>\n",
       "      <td>radio/tv</td>\n",
       "      <td>1000_2000</td>\n",
       "      <td>no known savings</td>\n",
       "      <td>none</td>\n",
       "      <td>real estate</td>\n",
       "      <td>none</td>\n",
       "      <td>...</td>\n",
       "      <td>female div/dep/mar</td>\n",
       "      <td>&gt;=7</td>\n",
       "      <td>skilled</td>\n",
       "      <td>yes</td>\n",
       "      <td>yes</td>\n",
       "      <td>Montreal</td>\n",
       "      <td>own</td>\n",
       "      <td>49</td>\n",
       "      <td>46-50</td>\n",
       "      <td>41-50</td>\n",
       "    </tr>\n",
       "    <tr>\n",
       "      <th>3</th>\n",
       "      <td>1215702</td>\n",
       "      <td>no checking</td>\n",
       "      <td>1_2_years</td>\n",
       "      <td>critical/other existing</td>\n",
       "      <td>radio/tv</td>\n",
       "      <td>1000_2000</td>\n",
       "      <td>&gt;=1000</td>\n",
       "      <td>none</td>\n",
       "      <td>car</td>\n",
       "      <td>none</td>\n",
       "      <td>...</td>\n",
       "      <td>male single</td>\n",
       "      <td>&gt;=7</td>\n",
       "      <td>skilled</td>\n",
       "      <td>none</td>\n",
       "      <td>yes</td>\n",
       "      <td>Montreal</td>\n",
       "      <td>own</td>\n",
       "      <td>35</td>\n",
       "      <td>31-35</td>\n",
       "      <td>31-40</td>\n",
       "    </tr>\n",
       "    <tr>\n",
       "      <th>4</th>\n",
       "      <td>1215705</td>\n",
       "      <td>no checking</td>\n",
       "      <td>lo_1_year</td>\n",
       "      <td>existing paid</td>\n",
       "      <td>radio/tv</td>\n",
       "      <td>1000_2000</td>\n",
       "      <td>&lt;100</td>\n",
       "      <td>none</td>\n",
       "      <td>life insurance</td>\n",
       "      <td>none</td>\n",
       "      <td>...</td>\n",
       "      <td>male single</td>\n",
       "      <td>1&lt;=X&lt;4</td>\n",
       "      <td>skilled</td>\n",
       "      <td>yes</td>\n",
       "      <td>no</td>\n",
       "      <td>Montreal</td>\n",
       "      <td>own</td>\n",
       "      <td>52</td>\n",
       "      <td>51-55</td>\n",
       "      <td>51-60</td>\n",
       "    </tr>\n",
       "    <tr>\n",
       "      <th>5</th>\n",
       "      <td>1215708</td>\n",
       "      <td>&lt;0</td>\n",
       "      <td>lo_1_year</td>\n",
       "      <td>critical/other existing</td>\n",
       "      <td>repairs</td>\n",
       "      <td>1000_2000</td>\n",
       "      <td>100&lt;=X&lt;500</td>\n",
       "      <td>guarantor</td>\n",
       "      <td>real estate</td>\n",
       "      <td>none</td>\n",
       "      <td>...</td>\n",
       "      <td>male single</td>\n",
       "      <td>&gt;=7</td>\n",
       "      <td>skilled</td>\n",
       "      <td>none</td>\n",
       "      <td>no</td>\n",
       "      <td>Montreal</td>\n",
       "      <td>own</td>\n",
       "      <td>38</td>\n",
       "      <td>36-40</td>\n",
       "      <td>31-40</td>\n",
       "    </tr>\n",
       "    <tr>\n",
       "      <th>6</th>\n",
       "      <td>1215711</td>\n",
       "      <td>no checking</td>\n",
       "      <td>lo_1_year</td>\n",
       "      <td>critical/other existing</td>\n",
       "      <td>radio/tv</td>\n",
       "      <td>1000_2000</td>\n",
       "      <td>no known savings</td>\n",
       "      <td>none</td>\n",
       "      <td>real estate</td>\n",
       "      <td>none</td>\n",
       "      <td>...</td>\n",
       "      <td>male single</td>\n",
       "      <td>1&lt;=X&lt;4</td>\n",
       "      <td>unskilled resident</td>\n",
       "      <td>none</td>\n",
       "      <td>yes</td>\n",
       "      <td>Montreal</td>\n",
       "      <td>own</td>\n",
       "      <td>58</td>\n",
       "      <td>56-60</td>\n",
       "      <td>51-60</td>\n",
       "    </tr>\n",
       "    <tr>\n",
       "      <th>7</th>\n",
       "      <td>1215714</td>\n",
       "      <td>no checking</td>\n",
       "      <td>1_2_years</td>\n",
       "      <td>critical/other existing</td>\n",
       "      <td>new car</td>\n",
       "      <td>1000_2000</td>\n",
       "      <td>&lt;100</td>\n",
       "      <td>none</td>\n",
       "      <td>life insurance</td>\n",
       "      <td>none</td>\n",
       "      <td>...</td>\n",
       "      <td>female div/dep/mar</td>\n",
       "      <td>&lt;1</td>\n",
       "      <td>skilled</td>\n",
       "      <td>none</td>\n",
       "      <td>yes</td>\n",
       "      <td>Montreal</td>\n",
       "      <td>own</td>\n",
       "      <td>51</td>\n",
       "      <td>51-55</td>\n",
       "      <td>51-60</td>\n",
       "    </tr>\n",
       "    <tr>\n",
       "      <th>8</th>\n",
       "      <td>1215717</td>\n",
       "      <td>no checking</td>\n",
       "      <td>1_2_years</td>\n",
       "      <td>existing paid</td>\n",
       "      <td>domestic appliance</td>\n",
       "      <td>1000_2000</td>\n",
       "      <td>500&lt;=X&lt;1000</td>\n",
       "      <td>none</td>\n",
       "      <td>life insurance</td>\n",
       "      <td>none</td>\n",
       "      <td>...</td>\n",
       "      <td>male single</td>\n",
       "      <td>4&lt;=X&lt;7</td>\n",
       "      <td>skilled</td>\n",
       "      <td>yes</td>\n",
       "      <td>yes</td>\n",
       "      <td>Montreal</td>\n",
       "      <td>own</td>\n",
       "      <td>54</td>\n",
       "      <td>51-55</td>\n",
       "      <td>51-60</td>\n",
       "    </tr>\n",
       "    <tr>\n",
       "      <th>9</th>\n",
       "      <td>1215720</td>\n",
       "      <td>&lt;0</td>\n",
       "      <td>1_2_years</td>\n",
       "      <td>existing paid</td>\n",
       "      <td>furniture/equipment</td>\n",
       "      <td>1000_2000</td>\n",
       "      <td>&lt;100</td>\n",
       "      <td>none</td>\n",
       "      <td>car</td>\n",
       "      <td>none</td>\n",
       "      <td>...</td>\n",
       "      <td>female div/dep/mar</td>\n",
       "      <td>unemployed</td>\n",
       "      <td>skilled</td>\n",
       "      <td>none</td>\n",
       "      <td>yes</td>\n",
       "      <td>Montreal</td>\n",
       "      <td>own</td>\n",
       "      <td>39</td>\n",
       "      <td>36-40</td>\n",
       "      <td>31-40</td>\n",
       "    </tr>\n",
       "  </tbody>\n",
       "</table>\n",
       "<p>10 rows × 23 columns</p>\n",
       "</div>"
      ],
      "text/plain": [
       "   ClientID checking_status   duration           credit_history  \\\n",
       "0   1215693              <0  1_2_years            existing paid   \n",
       "1   1215696        0<=X<200  lo_1_year  critical/other existing   \n",
       "2   1215699     no checking  lo_1_year  critical/other existing   \n",
       "3   1215702     no checking  1_2_years  critical/other existing   \n",
       "4   1215705     no checking  lo_1_year            existing paid   \n",
       "5   1215708              <0  lo_1_year  critical/other existing   \n",
       "6   1215711     no checking  lo_1_year  critical/other existing   \n",
       "7   1215714     no checking  1_2_years  critical/other existing   \n",
       "8   1215717     no checking  1_2_years            existing paid   \n",
       "9   1215720              <0  1_2_years            existing paid   \n",
       "\n",
       "               purpose     amount    savings_status other_parties  \\\n",
       "0             radio/tv  1000_2000              <100          none   \n",
       "1             used car  1000_2000              <100          none   \n",
       "2             radio/tv  1000_2000  no known savings          none   \n",
       "3             radio/tv  1000_2000            >=1000          none   \n",
       "4             radio/tv  1000_2000              <100          none   \n",
       "5              repairs  1000_2000        100<=X<500     guarantor   \n",
       "6             radio/tv  1000_2000  no known savings          none   \n",
       "7              new car  1000_2000              <100          none   \n",
       "8   domestic appliance  1000_2000       500<=X<1000          none   \n",
       "9  furniture/equipment  1000_2000              <100          none   \n",
       "\n",
       "  property_magnitude other_payment_plans  ...     personal_status  employment  \\\n",
       "0        real estate                none  ...  female div/dep/mar      1<=X<4   \n",
       "1                car                none  ...         male single  unemployed   \n",
       "2        real estate                none  ...  female div/dep/mar         >=7   \n",
       "3                car                none  ...         male single         >=7   \n",
       "4     life insurance                none  ...         male single      1<=X<4   \n",
       "5        real estate                none  ...         male single         >=7   \n",
       "6        real estate                none  ...         male single      1<=X<4   \n",
       "7     life insurance                none  ...  female div/dep/mar          <1   \n",
       "8     life insurance                none  ...         male single      4<=X<7   \n",
       "9                car                none  ...  female div/dep/mar  unemployed   \n",
       "\n",
       "                        job own_telephone foreign_worker      City housing  \\\n",
       "0                   skilled           yes            yes  Montreal     own   \n",
       "1  high qualif/self emp/mgm           yes            yes  Montreal     own   \n",
       "2                   skilled           yes            yes  Montreal     own   \n",
       "3                   skilled          none            yes  Montreal     own   \n",
       "4                   skilled           yes             no  Montreal     own   \n",
       "5                   skilled          none             no  Montreal     own   \n",
       "6        unskilled resident          none            yes  Montreal     own   \n",
       "7                   skilled          none            yes  Montreal     own   \n",
       "8                   skilled           yes            yes  Montreal     own   \n",
       "9                   skilled          none            yes  Montreal     own   \n",
       "\n",
       "  age age_group_5 age_group_10  \n",
       "0  49       46-50        41-50  \n",
       "1  46       46-50        41-50  \n",
       "2  49       46-50        41-50  \n",
       "3  35       31-35        31-40  \n",
       "4  52       51-55        51-60  \n",
       "5  38       36-40        31-40  \n",
       "6  58       56-60        51-60  \n",
       "7  51       51-55        51-60  \n",
       "8  54       51-55        51-60  \n",
       "9  39       36-40        31-40  \n",
       "\n",
       "[10 rows x 23 columns]"
      ]
     },
     "execution_count": 108,
     "metadata": {},
     "output_type": "execute_result"
    }
   ],
   "source": [
    "bins5 = np.arange(start=10, stop=100, step=5)\n",
    "print(bins5)\n",
    "print(\"No de bins de 5: \", len(bins5))\n",
    "labels5 = ['11-15', '16-20', '21-25', '26-30', '31-35', '36-40','41-45', '46-50','51-55', '56-60', '61-65', '66-70', '71-75', '76-80', '81-85', '86-90', '91-95']\n",
    "print(\"No de labels de 5: \", len(labels5))\n",
    "\n",
    "FUSION['age_group_5']  =  pd.cut(FUSION['age'], bins5, labels = labels5, include_lowest = True)\n",
    "\n",
    "\n",
    "bins10 = np.arange(start=10, stop=100, step=10)\n",
    "print(bins10)\n",
    "print(\"No de bins de 10: \", len(bins5))\n",
    "labels10 = ['11-20', '21-30', '31-40', '41-50', '51-60', '61-70','71-80', '81-90']\n",
    "print(\"No de labels de 10: \", len(labels5))\n",
    "\n",
    "FUSION['age_group_10']  =  pd.cut(FUSION['age'], bins10, labels = labels10, include_lowest = True)\n",
    "FUSION.head(10)\n"
   ]
  },
  {
   "cell_type": "markdown",
   "metadata": {},
   "source": [
    "### Version 2"
   ]
  },
  {
   "cell_type": "code",
   "execution_count": 109,
   "metadata": {},
   "outputs": [],
   "source": [
    "def age_gr10(x): \n",
    "    if   x < 20: return '10-19'\n",
    "    elif x < 30: return '20-29'\n",
    "    elif x < 40: return '30-39' \n",
    "    elif x < 50: return '40-49' \n",
    "    elif x < 60: return '50-59' \n",
    "    elif x < 70: return '60-69' \n",
    "    elif x < 80: return '70-79'\n",
    "    elif x <=90: return '80-90'\n",
    "    else: return 'other'\n",
    "    \n",
    "    \n",
    "def age_gr5(x): \n",
    "    if   x < 10: return '<10'\n",
    "    elif x < 15: return '10-14'\n",
    "    elif x < 20: return '15-19'\n",
    "    elif x < 25: return '20-24' \n",
    "    elif x < 30: return '25-29' \n",
    "    elif x < 35: return '30-34' \n",
    "    elif x < 40: return '35-39' \n",
    "    elif x < 45: return '40-44'\n",
    "    elif x < 50: return '45-49'\n",
    "    elif x < 55: return '50-54' \n",
    "    elif x < 60: return '55-59' \n",
    "    elif x < 65: return '60-64' \n",
    "    elif x < 70: return '65-69'\n",
    "    elif x < 75: return '70-74' \n",
    "    elif x < 80: return '75-79' \n",
    "    elif x < 85: return '80-84' \n",
    "    elif x < 90: return '85-89'     \n",
    "    else: return 'other'\n",
    "    \n",
    "    \n",
    "    \n",
    "#FUSION['age_group_10'] = FUSION.age.apply(age_gr10)\n",
    "#FUSION['age_group_5']  = FUSION.age.apply(age_gr5)\n",
    "#FUSION.head(2)"
   ]
  },
  {
   "cell_type": "markdown",
   "metadata": {},
   "source": [
    "## 2.6. Afficher la proportion totale de clients qui possèdent soit un mauvais crédit ou un bon crédit. Quelle est la catégorie où il l’y a le plus de mauvais crédit ?"
   ]
  },
  {
   "cell_type": "code",
   "execution_count": 110,
   "metadata": {},
   "outputs": [
    {
     "data": {
      "text/html": [
       "<div>\n",
       "<style scoped>\n",
       "    .dataframe tbody tr th:only-of-type {\n",
       "        vertical-align: middle;\n",
       "    }\n",
       "\n",
       "    .dataframe tbody tr th {\n",
       "        vertical-align: top;\n",
       "    }\n",
       "\n",
       "    .dataframe thead th {\n",
       "        text-align: right;\n",
       "    }\n",
       "</style>\n",
       "<table border=\"1\" class=\"dataframe\">\n",
       "  <thead>\n",
       "    <tr style=\"text-align: right;\">\n",
       "      <th></th>\n",
       "      <th></th>\n",
       "      <th>ClientID</th>\n",
       "    </tr>\n",
       "    <tr>\n",
       "      <th>other_parties</th>\n",
       "      <th>class</th>\n",
       "      <th></th>\n",
       "    </tr>\n",
       "  </thead>\n",
       "  <tbody>\n",
       "    <tr>\n",
       "      <th rowspan=\"2\" valign=\"top\">co applicant</th>\n",
       "      <th>bad</th>\n",
       "      <td>18</td>\n",
       "    </tr>\n",
       "    <tr>\n",
       "      <th>good</th>\n",
       "      <td>22</td>\n",
       "    </tr>\n",
       "    <tr>\n",
       "      <th rowspan=\"2\" valign=\"top\">guarantor</th>\n",
       "      <th>bad</th>\n",
       "      <td>10</td>\n",
       "    </tr>\n",
       "    <tr>\n",
       "      <th>good</th>\n",
       "      <td>39</td>\n",
       "    </tr>\n",
       "    <tr>\n",
       "      <th rowspan=\"2\" valign=\"top\">none</th>\n",
       "      <th>bad</th>\n",
       "      <td>255</td>\n",
       "    </tr>\n",
       "    <tr>\n",
       "      <th>good</th>\n",
       "      <td>602</td>\n",
       "    </tr>\n",
       "  </tbody>\n",
       "</table>\n",
       "</div>"
      ],
      "text/plain": [
       "                     ClientID\n",
       "other_parties class          \n",
       "co applicant  bad          18\n",
       "              good         22\n",
       "guarantor     bad          10\n",
       "              good         39\n",
       "none          bad         255\n",
       "              good        602"
      ]
     },
     "execution_count": 110,
     "metadata": {},
     "output_type": "execute_result"
    }
   ],
   "source": [
    "FUSION.groupby(['other_parties', 'class'])['ClientID'].count().to_frame() #nested Groupby Housing -- Categorie assumed"
   ]
  },
  {
   "cell_type": "markdown",
   "metadata": {},
   "source": [
    "#### La categorie avec le plus mauvaise credit est pour les socios lequelles ont pas ni guarantor ni co applicant. "
   ]
  },
  {
   "cell_type": "markdown",
   "metadata": {},
   "source": [
    "## 2.7. Y a-t-il une préférence par territoire pour ce qui est des montants prêtés à la clientèle. Pour cela, vous devez exclure les personnes ayant entre 10 et 24 ans et les personnes de plus de 70 ans. Veuillez ordonner (ordre décroissant) cette sortie par le nombre de clients qu'il y a dans chacun des groupes"
   ]
  },
  {
   "cell_type": "code",
   "execution_count": 111,
   "metadata": {},
   "outputs": [
    {
     "data": {
      "text/html": [
       "<div>\n",
       "<style scoped>\n",
       "    .dataframe tbody tr th:only-of-type {\n",
       "        vertical-align: middle;\n",
       "    }\n",
       "\n",
       "    .dataframe tbody tr th {\n",
       "        vertical-align: top;\n",
       "    }\n",
       "\n",
       "    .dataframe thead th {\n",
       "        text-align: right;\n",
       "    }\n",
       "</style>\n",
       "<table border=\"1\" class=\"dataframe\">\n",
       "  <thead>\n",
       "    <tr style=\"text-align: right;\">\n",
       "      <th></th>\n",
       "      <th></th>\n",
       "      <th>ClientID</th>\n",
       "    </tr>\n",
       "    <tr>\n",
       "      <th>City</th>\n",
       "      <th>amount</th>\n",
       "      <th></th>\n",
       "    </tr>\n",
       "  </thead>\n",
       "  <tbody>\n",
       "    <tr>\n",
       "      <th>Toronto</th>\n",
       "      <th>up_2000</th>\n",
       "      <td>371</td>\n",
       "    </tr>\n",
       "    <tr>\n",
       "      <th rowspan=\"2\" valign=\"top\">Montreal</th>\n",
       "      <th>1000_2000</th>\n",
       "      <td>107</td>\n",
       "    </tr>\n",
       "    <tr>\n",
       "      <th>up_2000</th>\n",
       "      <td>105</td>\n",
       "    </tr>\n",
       "    <tr>\n",
       "      <th>Toronto</th>\n",
       "      <th>lo_1000</th>\n",
       "      <td>103</td>\n",
       "    </tr>\n",
       "    <tr>\n",
       "      <th>Quebec</th>\n",
       "      <th>1000_2000</th>\n",
       "      <td>90</td>\n",
       "    </tr>\n",
       "    <tr>\n",
       "      <th>Toronto</th>\n",
       "      <th>1000_2000</th>\n",
       "      <td>27</td>\n",
       "    </tr>\n",
       "    <tr>\n",
       "      <th>Totonto</th>\n",
       "      <th>1000_2000</th>\n",
       "      <td>19</td>\n",
       "    </tr>\n",
       "  </tbody>\n",
       "</table>\n",
       "</div>"
      ],
      "text/plain": [
       "                    ClientID\n",
       "City     amount             \n",
       "Toronto  up_2000         371\n",
       "Montreal 1000_2000       107\n",
       "         up_2000         105\n",
       "Toronto  lo_1000         103\n",
       "Quebec   1000_2000        90\n",
       "Toronto  1000_2000        27\n",
       "Totonto  1000_2000        19"
      ]
     },
     "execution_count": 111,
     "metadata": {},
     "output_type": "execute_result"
    }
   ],
   "source": [
    "#Filtrer les donnees\n",
    "subFusion = FUSION[(FUSION.age < 10) | ((FUSION.age > 24) & (FUSION.age < 70)) ]\n",
    "subFusion.groupby(['City', 'amount'])['ClientID'].count().sort_values(ascending=False).to_frame()"
   ]
  },
  {
   "cell_type": "markdown",
   "metadata": {},
   "source": [
    "#### Oui, il y a une preference. Par exemple, a Toronto la preference pour les montantes pretes a la clientele :  2000+ CAD. A Montreal les pretes 1000-2000 CAD et 2000+ CAD sont egales (en preference), parcontre il y a pas des pretes de <1000 CAD. A Quebec il y a que des pretes de 1000-2000 CAD."
   ]
  },
  {
   "cell_type": "markdown",
   "metadata": {},
   "source": [
    "# THE END"
   ]
  },
  {
   "cell_type": "code",
   "execution_count": null,
   "metadata": {},
   "outputs": [],
   "source": []
  }
 ],
 "metadata": {
  "kernelspec": {
   "display_name": "Python 3",
   "language": "python",
   "name": "python3"
  },
  "language_info": {
   "codemirror_mode": {
    "name": "ipython",
    "version": 3
   },
   "file_extension": ".py",
   "mimetype": "text/x-python",
   "name": "python",
   "nbconvert_exporter": "python",
   "pygments_lexer": "ipython3",
   "version": "3.8.3"
  }
 },
 "nbformat": 4,
 "nbformat_minor": 4
}
