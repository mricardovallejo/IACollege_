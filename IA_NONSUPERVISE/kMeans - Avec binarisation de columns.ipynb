{
 "cells": [
  {
   "cell_type": "code",
   "execution_count": null,
   "id": "9545d275",
   "metadata": {},
   "outputs": [],
   "source": [
    "import pandas as pd\n",
    "import numpy as np\n",
    "import matplotlib\n",
    "import matplotlib.pyplot as plt\n",
    "import seaborn as sns\n",
    "import sklearn\n",
    "%matplotlib inline"
   ]
  },
  {
   "cell_type": "code",
   "execution_count": null,
   "id": "61881df8",
   "metadata": {},
   "outputs": [],
   "source": [
    "# charger les données\n",
    "data = pd.read_csv(\"skin.csv\", delimiter=\";\", decimal = \",\")\n",
    "# faire une copie\n",
    "df = data.copy()\n",
    "df.head()"
   ]
  },
  {
   "cell_type": "code",
   "execution_count": null,
   "id": "3c0de880",
   "metadata": {},
   "outputs": [],
   "source": [
    "df.info()"
   ]
  },
  {
   "cell_type": "markdown",
   "id": "86b2be3f",
   "metadata": {},
   "source": [
    "# Preprocessing: Binariser  les variables qcut"
   ]
  },
  {
   "cell_type": "markdown",
   "id": "77a1e90f",
   "metadata": {},
   "source": [
    "* **Notes:**\n",
    "    * d'après l'EDA:\n",
    "        * Binariser les columns avec qcut (q=2) e traite adequatemente les zero values."
   ]
  },
  {
   "cell_type": "markdown",
   "id": "b0289a79",
   "metadata": {},
   "source": [
    "* Note:\n",
    "    * "
   ]
  },
  {
   "cell_type": "code",
   "execution_count": null,
   "id": "e1b539a0",
   "metadata": {},
   "outputs": [],
   "source": [
    "var_numeriques = df.columns[3:]\n",
    "\n",
    "dfstd = sc.fit_transform(df[var_numeriques])\n",
    "dfstd = pd.DataFrame(dfstd, columns = var_numeriques, index = df.index)\n",
    "dfstd.head()"
   ]
  },
  {
   "cell_type": "code",
   "execution_count": null,
   "id": "02db630c",
   "metadata": {},
   "outputs": [],
   "source": [
    "dfstd.describe()"
   ]
  },
  {
   "cell_type": "code",
   "execution_count": null,
   "id": "4b21d80e",
   "metadata": {},
   "outputs": [],
   "source": [
    "correlation_matrix = np.corrcoef(dfstd[var_numeriques].transpose())\n",
    "\n",
    "pd.DataFrame(correlation_matrix.round(2), columns = var_numeriques, index = var_numeriques)"
   ]
  },
  {
   "cell_type": "code",
   "execution_count": null,
   "id": "1b4ce303",
   "metadata": {},
   "outputs": [],
   "source": [
    "import seaborn as sns\n",
    "\n",
    "dfCorrelation = correlation_matrix.astype('float')  # !! Neccessary for Heatmap\n",
    "dfCorrelation = pd.DataFrame(correlation_matrix, columns = var_numeriques, index = var_numeriques)\n",
    "plt.figure(figsize=(15,15))\n",
    "sns.heatmap(dfCorrelation, annot=False, cmap=\"vlag\")\n",
    "plt.show()"
   ]
  },
  {
   "cell_type": "code",
   "execution_count": null,
   "id": "e77c6527",
   "metadata": {},
   "outputs": [],
   "source": [
    "eig_vals, eig_vecs = np.linalg.eig(correlation_matrix)\n",
    "eig_vals.round(3)"
   ]
  },
  {
   "cell_type": "code",
   "execution_count": null,
   "id": "40e4968d",
   "metadata": {},
   "outputs": [],
   "source": [
    "from sklearn.decomposition import PCA\n",
    "pca = PCA(n_components=None)\n",
    "pca.fit(dfstd)\n",
    "\n",
    "print('Explained variance ratio: ',pca.explained_variance_ratio_.round(3))\n",
    "coude=pca.explained_variance_\n",
    "\n",
    "import matplotlib.pyplot as plt\n",
    "plt.plot(np.arange(43),coude, marker='o')\n",
    "plt.title('Regle de coude', fontsize=14)\n",
    "plt.xlabel('Number of principal components', fontsize=14)\n",
    "plt.ylabel('Variance expliquee', fontsize=14)\n",
    "plt.grid(True)\n",
    "plt.show()\n",
    "None\n"
   ]
  },
  {
   "cell_type": "code",
   "execution_count": null,
   "id": "3ddd5248",
   "metadata": {},
   "outputs": [],
   "source": [
    "SSE_Info = pca.explained_variance_ratio_.cumsum()\n",
    "SSE_Info\n",
    "\n",
    "import matplotlib.pyplot as plt\n",
    "plt.plot(np.arange(43),SSE_Info, marker='o')\n",
    "plt.title('Regle de coude', fontsize=14)\n",
    "plt.xlabel('Number of principal components', fontsize=14)\n",
    "plt.ylabel('Variance expliquee', fontsize=14)\n",
    "plt.grid(True)\n",
    "plt.show()\n",
    "None\n",
    "\n"
   ]
  },
  {
   "cell_type": "code",
   "execution_count": null,
   "id": "4e3b78b2",
   "metadata": {},
   "outputs": [],
   "source": [
    "SSE_Info"
   ]
  },
  {
   "cell_type": "code",
   "execution_count": null,
   "id": "2e6630c8",
   "metadata": {},
   "outputs": [],
   "source": [
    "print('combien composants a garder (nombre des valuers qui sont > 1) = 1 \\n ', eig_vals*((dfstd.shape[0]-1)/dfstd.shape[0]))"
   ]
  },
  {
   "cell_type": "code",
   "execution_count": null,
   "id": "7c1a5c81",
   "metadata": {},
   "outputs": [],
   "source": [
    "# Usinng Coefficient of Sihouette\n",
    "\n",
    "from sklearn.metrics import silhouette_score\n",
    "\n",
    "kmeans_kwargs = {\n",
    "\"init\": \"random\",\n",
    "\"n_init\": 10,\n",
    " \"max_iter\": 300,\n",
    " \"random_state\": 42,\n",
    "}\n",
    "\n",
    "silhouette_coefficients2 = []\n",
    "# Notice you start at 2 clusters for silhouette coefficient\n",
    "for k in range(2, 11):\n",
    "    kmeans = KMeans(n_clusters=k, **kmeans_kwargs)\n",
    "    kmeans.fit(dfstd)\n",
    "    score = silhouette_score(dfstd, kmeans.labels_)\n",
    "    silhouette_coefficients2.append(score)\n",
    "    \n",
    "plt.style.use(\"fivethirtyeight\")\n",
    "plt.plot(range(2, 11), silhouette_coefficients2)\n",
    "plt.xticks(range(2, 11))\n",
    "plt.xlabel(\"Number of Clusters\")\n",
    "plt.ylabel(\"Silhouette Coefficient\")\n",
    "plt.show()"
   ]
  },
  {
   "cell_type": "code",
   "execution_count": null,
   "id": "2c4d322d",
   "metadata": {},
   "outputs": [],
   "source": [
    "\n"
   ]
  },
  {
   "cell_type": "code",
   "execution_count": null,
   "id": "ab4b38f5",
   "metadata": {},
   "outputs": [],
   "source": []
  },
  {
   "cell_type": "markdown",
   "id": "0a9ca7b6",
   "metadata": {},
   "source": [
    "# ACP"
   ]
  },
  {
   "cell_type": "code",
   "execution_count": null,
   "id": "b742dff9",
   "metadata": {},
   "outputs": [],
   "source": [
    "from sklearn.decomposition import PCA\n",
    "pca = PCA(svd_solver = \"full\")"
   ]
  },
  {
   "cell_type": "code",
   "execution_count": null,
   "id": "d9455d6e",
   "metadata": {},
   "outputs": [],
   "source": [
    "# calcul des nouvelles coordonnées\n",
    "X_pca = pca.fit_transform(dfstd)\n",
    "print('variances expliquées:\\n',pca.explained_variance_ratio_)"
   ]
  },
  {
   "cell_type": "code",
   "execution_count": null,
   "id": "31a890fc",
   "metadata": {},
   "outputs": [],
   "source": [
    "# valeur propre en fct des nouvelles variables\n",
    "eigval = pca.explained_variance_\n",
    "eigval"
   ]
  },
  {
   "cell_type": "code",
   "execution_count": null,
   "id": "416f8690",
   "metadata": {},
   "outputs": [],
   "source": [
    "# les valeur propre en fct du numero de la nouvelle variable\n",
    "plt.plot(np.arange(1,df.shape[1]-2), eigval)\n",
    "plt.ylabel(\"Eigen Values\")\n",
    "plt.xlabel(\"Factor number\")\n",
    "plt.show()"
   ]
  },
  {
   "cell_type": "code",
   "execution_count": null,
   "id": "fb03d11a",
   "metadata": {},
   "outputs": [],
   "source": [
    "fig, (ax1,ax2) = plt.subplots(1, 2, figsize=(18,8))\n",
    "fig.subtitle('Analyses PCA')\n",
    "plt_elbow(dfz)"
   ]
  },
  {
   "cell_type": "code",
   "execution_count": null,
   "id": "5300d479",
   "metadata": {},
   "outputs": [],
   "source": [
    "# vérification\n",
    "percen = 0.86\n",
    "pca = PCA(n_components = percen, svd_solver = \"full\")\n",
    "X_pca = pca.fit_transform(dfstd)\n",
    "print(\"Shape:\",X_pca.shape)\n",
    "print(\"avec\", X_pca.shape[1], \"dimension(s) on a: \", percen *100, \"% de variance expliquée\")"
   ]
  },
  {
   "cell_type": "markdown",
   "id": "48882bff",
   "metadata": {},
   "source": [
    "* Pas loins du cas idéal avec les 90 % de variance expliquée"
   ]
  },
  {
   "cell_type": "markdown",
   "id": "bba215e8",
   "metadata": {},
   "source": [
    "## projection sur les composantes 0, 1"
   ]
  },
  {
   "cell_type": "code",
   "execution_count": null,
   "id": "d547a91e",
   "metadata": {},
   "outputs": [],
   "source": [
    "def plot_pca(cmp1,cmp2, X_pca=X_pca, df=df):\n",
    "    import matplotlib.pyplot as plt\n",
    "    f, ax= plt.subplots(figsize=(16,9))\n",
    "    for i in range(df.shape[0]):\n",
    "        plt.annotate(df.index[i], (X_pca[i,cmp1], X_pca[i,cmp2]))\n",
    "        plt.plot([X_pca[:,cmp1].min(),X_pca[:,cmp1].max()],[0,0],color = \"silver\", linestyle = \"-\", linewidth=1)\n",
    "        plt.plot([0,0],[X_pca[:,cmp2].min(),X_pca[:,cmp2].max()],color = \"silver\", linestyle = \"-\", linewidth=1)\n",
    "        ax.set_xlabel(\"X_pca_\"+str(cmp1),fontsize=15)\n",
    "        ax.set_ylabel(\"X_pca_\"+str(cmp2),fontsize=15)\n",
    "    plt.tight_layout() \n",
    "    plt.show()"
   ]
  },
  {
   "cell_type": "code",
   "execution_count": null,
   "id": "036270b7",
   "metadata": {},
   "outputs": [],
   "source": [
    "plot_pca(0, 1, X_pca, dfstd)"
   ]
  },
  {
   "cell_type": "markdown",
   "id": "f37267d1",
   "metadata": {},
   "source": [
    "## projection sur les composantes 0, 2"
   ]
  },
  {
   "cell_type": "code",
   "execution_count": null,
   "id": "20172f84",
   "metadata": {},
   "outputs": [],
   "source": [
    "plot_pca(0,2,X_pca,df)"
   ]
  },
  {
   "cell_type": "markdown",
   "id": "c225c628",
   "metadata": {},
   "source": [
    "## projection sur les composantes 1, 2"
   ]
  },
  {
   "cell_type": "code",
   "execution_count": null,
   "id": "b0f62946",
   "metadata": {},
   "outputs": [],
   "source": [
    "plot_pca(1,2,X_pca,df)"
   ]
  },
  {
   "cell_type": "markdown",
   "id": "c7925cfa",
   "metadata": {},
   "source": [
    "## projection PCA en 3D: composantes 0,1,2"
   ]
  },
  {
   "cell_type": "markdown",
   "id": "00659b65",
   "metadata": {},
   "source": [
    " * **Note importante**\n",
    "    * pour le plot 3D, une nouvelle fenetre s'ouvre et on peut faire tourner le graphique"
   ]
  },
  {
   "cell_type": "code",
   "execution_count": null,
   "id": "13b01545",
   "metadata": {},
   "outputs": [],
   "source": [
    "from mpl_toolkits.mplot3d import Axes3D\n",
    "%matplotlib\n",
    "matplotlib.use('Qt5Agg')\n",
    "ax = plt.axes(projection = \"3d\",)\n",
    "ax.scatter(X_pca[:,0], X_pca[:,1], X_pca[:,2],  s = 100)\n",
    "ax.set_xlabel(\"X_pca_0\")\n",
    "ax.set_ylabel(\"X_pca_1\")\n",
    "ax.set_zlabel(\"X_pca_2\")\n",
    "n=dfstd.shape[0]\n",
    "for i in range(n):\n",
    "    ax.text(X_pca[i,0], X_pca[i,1], X_pca[i,2], \"%s\"%(dfstd.index[i]))"
   ]
  },
  {
   "cell_type": "markdown",
   "id": "01d21d6e",
   "metadata": {},
   "source": [
    "* **executer cette cellule pour remettre les plots sur le notebook(inline)**"
   ]
  },
  {
   "cell_type": "code",
   "execution_count": null,
   "id": "32b59a08",
   "metadata": {},
   "outputs": [],
   "source": [
    "# pip install mplot3d-dragger"
   ]
  },
  {
   "cell_type": "code",
   "execution_count": null,
   "id": "876bf9f5",
   "metadata": {},
   "outputs": [],
   "source": [
    "%matplotlib inline\n",
    "\n"
   ]
  },
  {
   "cell_type": "markdown",
   "id": "692035d8",
   "metadata": {},
   "source": [
    "* **Note**:\n",
    "    * Rien qu'avec la PCA et visuellement, on voit qu'un cluster se distinge, le groupe des fromages frais dans le graphique X_pca_1 en fonction de X_pca_0.\n",
    "    * Dans le graphique 3D, si on regarde le plan X_pca0, X_pca1, il semble que les fromages se classe de haut en bas selon l'axe X_pca2\n",
    "    * Confirmer le clusters avec KMeans"
   ]
  },
  {
   "cell_type": "markdown",
   "id": "b670bf4c",
   "metadata": {},
   "source": [
    "# Clustering: KMeans"
   ]
  },
  {
   "cell_type": "code",
   "execution_count": null,
   "id": "ff1e5bdd",
   "metadata": {},
   "outputs": [],
   "source": [
    "from sklearn.cluster import KMeans\n",
    "from sklearn import metrics"
   ]
  },
  {
   "cell_type": "markdown",
   "id": "1393ff32",
   "metadata": {},
   "source": [
    "## recherche du nombre de clusters\n"
   ]
  },
  {
   "cell_type": "code",
   "execution_count": null,
   "id": "8f0876fe",
   "metadata": {},
   "outputs": [],
   "source": [
    "# fonction pour calculer et visualiser les parametres silhouette et inertie\n",
    "def plot_silhouette_inertie(df, k_range):\n",
    "    from sklearn.cluster import KMeans\n",
    "    from sklearn import metrics\n",
    "    import matplotlib.pyplot as plt\n",
    "    \n",
    "    inertia = []\n",
    "    res = []\n",
    "    \n",
    "    for k in k_range:\n",
    "        model = KMeans(n_clusters=k, n_init=20, random_state=42).fit(df)\n",
    "        res.append(metrics.silhouette_score(df, model.labels_))\n",
    "        inertia.append(model.inertia_)\n",
    "\n",
    "    #plot nb. clusters vs. silhouette score \n",
    "    plt.grid()\n",
    "    plt.plot(k_range, res)\n",
    "    plt.title(\"Silhouette\")\n",
    "    plt.xlabel(\"Nombre de classes\")\n",
    "    plt.ylabel(\"Coefficient de silhouette\")\n",
    "    plt.tight_layout()\n",
    "    plt.show() \n",
    "    #plot nb. clusters vs. Inertie score \n",
    "    plt.grid()\n",
    "    plt.plot(k_range, inertia)\n",
    "    plt.title(\"Inertie\")\n",
    "    plt.xlabel(\"Nombre de classes\")\n",
    "    plt.ylabel(\"Coefficient d'inertie\")\n",
    "    plt.tight_layout()\n",
    "    plt.show() "
   ]
  },
  {
   "cell_type": "code",
   "execution_count": null,
   "id": "962e8a07",
   "metadata": {},
   "outputs": [],
   "source": [
    "plot_silhouette_inertie(X_pca, range(2,10,1))"
   ]
  },
  {
   "cell_type": "markdown",
   "id": "b35b3af6",
   "metadata": {},
   "source": [
    "* Note:\n",
    "    * le score silhouette est un peux mieux avec ACP\n",
    "    * Le facteur silhouette n'est pas très élevé: 0.475\n",
    "    * Point d'inflexion pour Nombre de classes = 4\n",
    "    * on va choisir 4 clusters même si 5 parait etre un bon candidat"
   ]
  },
  {
   "cell_type": "code",
   "execution_count": null,
   "id": "cd3347fd",
   "metadata": {},
   "outputs": [],
   "source": [
    "from yellowbrick.cluster import SilhouetteVisualizer\n",
    "fig, ax = plt.subplots(2, 2, figsize=(15,8))\n",
    "for i in [2, 3, 4, 5]:\n",
    "    km = KMeans(n_clusters=i, n_init=10, max_iter=100, random_state=42)\n",
    "    q, mod = divmod(i, 2)\n",
    "\n",
    "    visualizer = SilhouetteVisualizer(km, colors='yellowbrick', ax=ax[q-1][mod])\n",
    "    visualizer.fit(X_pca)"
   ]
  },
  {
   "cell_type": "code",
   "execution_count": null,
   "id": "7a0b1ef8",
   "metadata": {},
   "outputs": [],
   "source": [
    "# pip install yellowbrick"
   ]
  },
  {
   "cell_type": "markdown",
   "id": "c372f12e",
   "metadata": {},
   "source": [
    "* Note:\n",
    "    * Aucun cluster n'est en dessous de la limite\n",
    "    * Un cluster est beaucoup plus rempli que les autres\n",
    "    * Les clusters semblent bien détachés les uns par rapport aux autres meme si le score est < 0.5\n",
    "    * Ca confirme que 4 cluster est le meilleur choix"
   ]
  },
  {
   "cell_type": "code",
   "execution_count": null,
   "id": "255dc458",
   "metadata": {},
   "outputs": [],
   "source": [
    "nbr_cluster = 4\n",
    "km = KMeans(n_clusters = nbr_cluster, n_init=20, random_state=42)     \n",
    "# on peut entrainer le modèle et obtenir les labels en meme temps avec fit_predict\n",
    "prediction = km.fit_predict(X_pca)\n",
    "prediction"
   ]
  },
  {
   "cell_type": "markdown",
   "id": "483e231b",
   "metadata": {},
   "source": [
    "## visualiser comment sont classées nos données: visualiser les clusters"
   ]
  },
  {
   "cell_type": "code",
   "execution_count": null,
   "id": "b980e527",
   "metadata": {},
   "outputs": [],
   "source": [
    "def plot_cmpv2(cmp1,cmp2, X_pca=X_pca, dfstd=dfstd, prediction=prediction):\n",
    "    import matplotlib.pyplot as plt\n",
    "    import matplotlib.cm as cm\n",
    "#\n",
    "    nbr_cluster = len(np.unique(prediction))\n",
    "    colors = colors = cm.nipy_spectral(prediction/nbr_cluster)\n",
    "\n",
    "    # visualiser comment sont classées nos données: visualiser les clusters\n",
    "    plt.figure(figsize=(16,9))\n",
    "\n",
    "    for k in range(nbr_cluster):\n",
    "        plt.scatter(X_pca[prediction == k,cmp1], X_pca[prediction == k,cmp2], c = colors[prediction == k], s = 100 \n",
    "                     )\n",
    "    plt.xlabel(\"X_pca_\"+str(cmp1),fontsize=15)\n",
    "    plt.ylabel(\"X_pca_\"+str(cmp2),fontsize=15)\n",
    "    \n",
    "    # positions finales des centroides\n",
    "    plt.scatter(km.cluster_centers_[:,cmp1], km.cluster_centers_[:,cmp2], c = 'r', marker = '+', s = 100,\n",
    "               alpha=0.75, linewidth= 1.5)\n",
    "\n",
    "    # mettre le nom des fromages\n",
    "    for i, idx in enumerate(dfstd.index):\n",
    "        plt.annotate(idx, (X_pca[i,cmp1], X_pca[i,cmp2]))\n",
    "        \n",
    "    plt.tight_layout()"
   ]
  },
  {
   "cell_type": "markdown",
   "id": "8d8ddd4e",
   "metadata": {},
   "source": [
    "### composantes: 0, 1"
   ]
  },
  {
   "cell_type": "code",
   "execution_count": null,
   "id": "48e94d9f",
   "metadata": {},
   "outputs": [],
   "source": [
    "plot_cmpv2(0,1,X_pca,dfstd,prediction)"
   ]
  },
  {
   "cell_type": "markdown",
   "id": "60e6b30d",
   "metadata": {},
   "source": [
    "### composantes: 0, 2"
   ]
  },
  {
   "cell_type": "code",
   "execution_count": null,
   "id": "9153c9b3",
   "metadata": {},
   "outputs": [],
   "source": [
    "plot_cmpv2(0,2,X_pca,dfstd,prediction)"
   ]
  },
  {
   "cell_type": "markdown",
   "id": "47612302",
   "metadata": {},
   "source": [
    "### composantes: 1, 2"
   ]
  },
  {
   "cell_type": "code",
   "execution_count": null,
   "id": "fd19bd78",
   "metadata": {},
   "outputs": [],
   "source": [
    "plot_cmpv2(1,2,X_pca,dfstd,prediction)"
   ]
  },
  {
   "cell_type": "markdown",
   "id": "2cb39ac8",
   "metadata": {},
   "source": [
    "## plot 3D: composantes 0,1,2"
   ]
  },
  {
   "cell_type": "markdown",
   "id": "67a313ff",
   "metadata": {},
   "source": [
    " * **Note importante**\n",
    "    * pour le plot 3D, une nouvelle fenetre s'ouvre et on peut faire tourner le graphique pour bien observer les clusters "
   ]
  },
  {
   "cell_type": "code",
   "execution_count": null,
   "id": "815b9410",
   "metadata": {},
   "outputs": [],
   "source": [
    "from mpl_toolkits.mplot3d import Axes3D\n",
    "import matplotlib.cm as cm\n",
    "%matplotlib\n",
    "nbr_cluster = len(np.unique(prediction))\n",
    "colors = colors = cm.nipy_spectral(prediction/nbr_cluster)\n",
    "    \n",
    "ax = plt.axes(projection = \"3d\",)\n",
    "for k in range(nbr_cluster):\n",
    "    ax.scatter(X_pca[prediction == k,0], X_pca[prediction == k,1], X_pca[prediction == k,2],\n",
    "               c = colors[prediction == k], s = 100, alpha=0.9, edgecolors=\"grey\", linewidth= 1.5) \n",
    "\n",
    "ax.scatter(km.cluster_centers_[:,0], km.cluster_centers_[:,1], km.cluster_centers_[:,2], c = 'r', marker = '+', s = 100,\n",
    "               alpha=0.5, linewidth= 1.5)\n",
    "ax.set_xlabel(\"X_pca_0\")\n",
    "ax.set_ylabel(\"X_pca_1\")\n",
    "ax.set_zlabel(\"X_pca_2\")\n",
    "n=dfstd.shape[0]\n",
    "for i in range(n):\n",
    "    ax.text(X_pca[i,0], X_pca[i,1], X_pca[i,2], \"%s\"%(dfstd.index[i]))"
   ]
  },
  {
   "cell_type": "markdown",
   "id": "5f545fa1",
   "metadata": {},
   "source": [
    "* **executer cette cellule pour remettre les plots sur le notebook(inline)**"
   ]
  },
  {
   "cell_type": "code",
   "execution_count": null,
   "id": "c1d9d6be",
   "metadata": {},
   "outputs": [],
   "source": [
    "%matplotlib inline"
   ]
  },
  {
   "cell_type": "markdown",
   "id": "c0628a65",
   "metadata": {},
   "source": [
    "## Valider les clusters\n"
   ]
  },
  {
   "cell_type": "markdown",
   "id": "00e6bd88",
   "metadata": {},
   "source": [
    "https://gdcoder.com/silhouette-analysis-vs-elbow-method-vs-davies-bouldin-index-selecting-the-optimal-number-of-clusters-for-kmeans-clustering/"
   ]
  },
  {
   "cell_type": "markdown",
   "id": "aab75777",
   "metadata": {},
   "source": [
    "### score silhouette par cluster"
   ]
  },
  {
   "cell_type": "raw",
   "id": "61027b87",
   "metadata": {},
   "source": [
    "The score is defined as the average similarity measure of each cluster with its most similar cluster, \n",
    "where similarity is the ratio of within-cluster distances to between-cluster distances. Thus,\n",
    "clusters which are farther apart and less dispersed will result in a better score.\n",
    "\n",
    "The minimum score is zero, with lower values indicating better clustering.\n"
   ]
  },
  {
   "cell_type": "code",
   "execution_count": null,
   "id": "9378ac97",
   "metadata": {},
   "outputs": [],
   "source": [
    "for nbr in range(nbr_cluster):\n",
    "    print(\"cluster\", nbr)\n",
    "    print(\"score silhouette:\", metrics.silhouette_score(X_pca, prediction==nbr))\n",
    "    print(\"\")\n"
   ]
  },
  {
   "cell_type": "markdown",
   "id": "877e54c7",
   "metadata": {},
   "source": [
    "### somme des distances par rapport au centre d'un cluster"
   ]
  },
  {
   "cell_type": "code",
   "execution_count": null,
   "id": "f8f803d5",
   "metadata": {},
   "outputs": [],
   "source": [
    "distances = km.fit_transform(X_pca)\n",
    "for label in range(nbr_cluster): \n",
    "    print(\"cluster \", label)\n",
    "    print(\"somme_distance:\", distances[:,label].sum())  #Cohesion\n",
    "    print(\"\")"
   ]
  },
  {
   "cell_type": "markdown",
   "id": "24116323",
   "metadata": {},
   "source": [
    "### index Davies_bouldin\n",
    "\n",
    "evaluates intra-cluster similarity and inter-cluster differences while the Silhouette score measure the distance between each data point,"
   ]
  },
  {
   "cell_type": "markdown",
   "id": "9269c635",
   "metadata": {},
   "source": [
    "Entre mas pquena mas cohesion."
   ]
  },
  {
   "cell_type": "code",
   "execution_count": null,
   "id": "63fff63b",
   "metadata": {},
   "outputs": [],
   "source": [
    "for label in np.unique(prediction):\n",
    "    print(\"cluster:\", label)\n",
    "    print(\"nbr_element dans le cluster:\", dfstd.groupby(prediction).size()[label])\n",
    "    print(\"davies_bouldin_score:\",metrics.davies_bouldin_score(dfstd, prediction == label).round(3))\n",
    "    print(\"liste d'individus:\\n\")\n",
    "    idk=np.argsort(prediction)\n",
    "    dfname = pd.DataFrame(dfstd.index[idk], prediction[idk])\n",
    "    dfname[dfname.index == label].apply(lambda x: print(x.values))\n",
    "    print(\"=\"*50)"
   ]
  },
  {
   "cell_type": "markdown",
   "id": "051053dc",
   "metadata": {},
   "source": [
    "* Notes:\n",
    "    * Un cluster avec un index > 2.\n",
    "    * On observe des indexes très proches de 1. Ceci peut s'expliquer par le fait qu'on a peu d'individus, que les clusters ne sont pas vraiment globulaires et aussi, que le facteur silhouette est de 0.475 pour 4 clusters et donc l'index peut être biaisé.\n",
    "    * Meme si le cluster avec l'index 0.62 se détache bien du reste, l'indexe est faible car il ne contient pas beaucoup de fromages. il a une structure très lacunaire. On le voit avec la somme des distances qui est très grande au regard du nombre d'individus."
   ]
  },
  {
   "cell_type": "markdown",
   "id": "a6b9cae8",
   "metadata": {},
   "source": [
    "## Caracteriser les clusters"
   ]
  },
  {
   "cell_type": "code",
   "execution_count": null,
   "id": "b73c75c7",
   "metadata": {},
   "outputs": [],
   "source": [
    "# definir une fonction utile pour avoir les métriques\n",
    "def get_metriques(df=df, prediction = prediction):\n",
    "    # calcul de la moyenne par variable\n",
    "    m = df.mean()\n",
    "\n",
    "    #TSS = 1/N * variance de chaque variable\n",
    "    TSS = df.shape[0]*df.var(ddof = 0)\n",
    "    dfTSS = pd.DataFrame(TSS, columns = [\"TSS\"])\n",
    "\n",
    "    # ecart entre moyenne du cluster et la moyenne pour tous les fromages\n",
    "    #pour chaque groupe écart à la moyenne par variable\n",
    "    ecart = (df.groupby(prediction).mean() - m)**2\n",
    "    # pndérer l'écart\n",
    "    ecartp = ecart.multiply(df.groupby(prediction).size(), axis = 0)\n",
    "    # calcule de BSS\n",
    "    BSS = np.sum(ecartp, axis = 0)\n",
    "    dfBSS = pd.DataFrame(BSS, columns = [\"BSS\"])\n",
    "\n",
    "    #carré du rapport de corrélation\n",
    "    #variance expliquée par l'appartenance aux groupes\n",
    "    #pour chaque variable\n",
    "    R2 = BSS/TSS\n",
    "    dfr2 = pd.DataFrame(R2, columns = [\"R2\"])\n",
    "    return pd.concat([dfTSS,dfBSS,dfr2], axis = 1)"
   ]
  },
  {
   "cell_type": "code",
   "execution_count": null,
   "id": "fbdbe8c0",
   "metadata": {},
   "outputs": [],
   "source": [
    "# index trié des labels(prediction)\n",
    "idk=np.argsort(prediction)"
   ]
  },
  {
   "cell_type": "markdown",
   "id": "7687c587",
   "metadata": {},
   "source": [
    "* **Indications:**\n",
    "    * Ligne Moyenne totale: est la Moyenne des variables initiales sur tous les fromages (tout le dataset)\n",
    "    * Les autres valeurs sont la moyenne de la variables dans chaque cluster"
   ]
  },
  {
   "cell_type": "code",
   "execution_count": null,
   "id": "bce48d71",
   "metadata": {},
   "outputs": [],
   "source": [
    "# Afficher les deux moyennes\n",
    "pd.concat([df.groupby(prediction).mean(), pd.DataFrame(df.mean(),columns = [\"Moyenne_totale\"]).T])"
   ]
  },
  {
   "cell_type": "code",
   "execution_count": null,
   "id": "03713587",
   "metadata": {},
   "outputs": [],
   "source": [
    "# Difference des deux moyennes\n",
    "df.groupby(prediction).mean()-df.mean()"
   ]
  },
  {
   "cell_type": "markdown",
   "id": "22b70a41",
   "metadata": {},
   "source": [
    "* Note:\n",
    "    * On voit que le cluster 1 a une moyenne très basse par rapport aux autres pour la variable Calories, de même pour Lipides et Cholesterol puisqu'elles sont fortement corrélées. Donc elles peuvent typer le cluster 1. Même chose pour le Sodium qui est très bas. C'est donc des variables qui vont caracteriser le cluster 1\n",
    "    * Moyenne de Retinol ne varie pas beaucoup pour les clusters 0,1 et 2\n",
    "    * Retinol et Folates ne semblent pas interessants pour typer un cluster\n",
    "    * Cluster 1, sauf pour le Folates a toutes les variables en dessous de la moyenne"
   ]
  },
  {
   "cell_type": "code",
   "execution_count": null,
   "id": "a13a46f6",
   "metadata": {},
   "outputs": [],
   "source": [
    "# relation variance cluster / variable\n",
    "get_metriques(df, prediction)"
   ]
  },
  {
   "cell_type": "markdown",
   "id": "446d0121",
   "metadata": {},
   "source": [
    "* Notes:\n",
    "    * On voit que Calories avec un R2 de 0.88 et donc lipides et cholesterol caracterisent bien le cluster car elles très impliquées dans la variance du cluster\n",
    "    * Potentiellement, elles sont importantes pour distinguer les clusters"
   ]
  },
  {
   "cell_type": "markdown",
   "id": "e6f29c4a",
   "metadata": {},
   "source": [
    "### stocker les predictions de KMeans dans le dataframe d'origine"
   ]
  },
  {
   "cell_type": "code",
   "execution_count": null,
   "id": "220d2018",
   "metadata": {},
   "outputs": [],
   "source": [
    "df = df.assign(Prediction = prediction)\n",
    "df.head(10)"
   ]
  },
  {
   "cell_type": "code",
   "execution_count": null,
   "id": "69505e56",
   "metadata": {},
   "outputs": [],
   "source": [
    "# sauvegarder dans un fichier csv\n",
    "df.to_csv(\"Fromages_avec_predictions_KMeans.csv\", index=True)"
   ]
  },
  {
   "cell_type": "markdown",
   "id": "89c7b57f",
   "metadata": {},
   "source": [
    "# CAH"
   ]
  },
  {
   "cell_type": "code",
   "execution_count": null,
   "id": "9fba4fea",
   "metadata": {},
   "outputs": [],
   "source": [
    "#librairies pour la CAH\n",
    "from matplotlib import pyplot as plt\n",
    "from scipy.cluster.hierarchy import dendrogram, linkage"
   ]
  },
  {
   "cell_type": "code",
   "execution_count": null,
   "id": "869441ee",
   "metadata": {},
   "outputs": [],
   "source": [
    "#générer la matrice des liens\n",
    "Z = linkage(X_pca,method='ward',metric='euclidean')\n",
    "\n",
    "#affichage du dendrogramme\n",
    "plt.figure(figsize=(16, 9))\n",
    "dendrogram(Z,labels=dfstd.index,orientation='left',color_threshold= 4)\n",
    "\n",
    "plt.show()"
   ]
  },
  {
   "cell_type": "markdown",
   "id": "9380b25c",
   "metadata": {},
   "source": [
    "* Notes:\n",
    "    * Le CAH suggere 5 clusters, c'est vrai qu'avec 5 clusters on ne perd pas beaucoup en silhouette et on baisse encore l'inertie et c'est aussi un point d'inflexion."
   ]
  },
  {
   "cell_type": "markdown",
   "id": "c5a42499",
   "metadata": {},
   "source": [
    "## nombre de cluster = 5"
   ]
  },
  {
   "cell_type": "code",
   "execution_count": null,
   "id": "edfe97e3",
   "metadata": {},
   "outputs": [],
   "source": [
    "nbr_cluster = 3\n",
    "km = KMeans(n_clusters = nbr_cluster, n_init=20, random_state=42)     \n",
    "# on peut entrainer le modèle et obtenir les labels en meme temps avec fit_predict\n",
    "prediction = km.fit_predict(X_pca)\n",
    "prediction"
   ]
  },
  {
   "cell_type": "markdown",
   "id": "599f3154",
   "metadata": {},
   "source": [
    "## 3D"
   ]
  },
  {
   "cell_type": "code",
   "execution_count": null,
   "id": "2d5b3ff5",
   "metadata": {},
   "outputs": [],
   "source": [
    "from mpl_toolkits.mplot3d import Axes3D\n",
    "import matplotlib.cm as cm\n",
    "%matplotlib\n",
    "nbr_cluster = len(np.unique(prediction))\n",
    "colors = colors = cm.nipy_spectral(prediction/nbr_cluster)\n",
    "    \n",
    "ax = plt.axes(projection = \"3d\",)\n",
    "for k in range(nbr_cluster):\n",
    "    ax.scatter(X_pca[prediction == k,0], X_pca[prediction == k,1], X_pca[prediction == k,2],\n",
    "               c = colors[prediction == k], s = 100, alpha=0.9, edgecolors=\"grey\", linewidth= 1.5) \n",
    "\n",
    "ax.scatter(km.cluster_centers_[:,0], km.cluster_centers_[:,1], km.cluster_centers_[:,2], c = 'r', marker = '+', s = 100,\n",
    "               alpha=0.5, linewidth= 1.5)\n",
    "ax.set_xlabel(\"X_pca_0\")\n",
    "ax.set_ylabel(\"X_pca_1\")\n",
    "ax.set_zlabel(\"X_pca_2\")\n",
    "n=dfstd.shape[0]\n",
    "for i in range(n):\n",
    "    ax.text(X_pca[i,0], X_pca[i,1], X_pca[i,2], \"%s\"%(dfstd.index[i]))"
   ]
  },
  {
   "cell_type": "code",
   "execution_count": null,
   "id": "8643caff",
   "metadata": {},
   "outputs": [],
   "source": [
    "%matplotlib inline"
   ]
  },
  {
   "cell_type": "markdown",
   "id": "68661a61",
   "metadata": {},
   "source": [
    "* Note: avec le 3d, on a voit une belle séparation des clusters, reste le FR,ChevretPateMolle qui est clairement un outlier et qui tire un peu.\n",
    "* En réalité, c'est le cluster (anciennement 0, quand on a fait nbr_cluster = 4) qui a étét divisé en deux"
   ]
  },
  {
   "cell_type": "code",
   "execution_count": null,
   "id": "a05a2c46",
   "metadata": {},
   "outputs": [],
   "source": [
    "for label in np.unique(prediction):\n",
    "    print(\"cluster:\", label)\n",
    "    print(\"nbr_element dans le cluster:\", dfstd.groupby(prediction).size()[label])\n",
    "    print(\"davies_bouldin_score:\",metrics.davies_bouldin_score(dfstd, prediction == label).round(3))\n",
    "    print(\"liste d'individus:\\n\")\n",
    "    idk=np.argsort(prediction)\n",
    "    dfname = pd.DataFrame(dfstd.index[idk], prediction[idk])\n",
    "    dfname[dfname.index == label].apply(lambda x: print(x.values))\n",
    "    print(\"=\"*50)"
   ]
  },
  {
   "cell_type": "markdown",
   "id": "df337497",
   "metadata": {},
   "source": [
    "* Notes:\n",
    "    * Cluster 1 et cluster4  avec un index > 2. Ces deux clusters contiennent le plus grand nombre d'individus"
   ]
  },
  {
   "cell_type": "code",
   "execution_count": null,
   "id": "32f4c995",
   "metadata": {},
   "outputs": [],
   "source": [
    "# Afficher les deux moyennes\n",
    "pd.concat([df.groupby(prediction).mean(), pd.DataFrame(df.mean(),columns = [\"Moyenne_totale\"]).T])"
   ]
  },
  {
   "cell_type": "code",
   "execution_count": null,
   "id": "7410beac",
   "metadata": {},
   "outputs": [],
   "source": [
    "# Difference des deux moyennes\n",
    "df.groupby(prediction).mean()-df.mean()"
   ]
  },
  {
   "cell_type": "code",
   "execution_count": null,
   "id": "ec80c183",
   "metadata": {},
   "outputs": [],
   "source": [
    "get_metriques(df, prediction)"
   ]
  },
  {
   "cell_type": "markdown",
   "id": "e521ce41",
   "metadata": {},
   "source": [
    "* Note:\n",
    "    * cluster 0 et cluster 1 se distinguent des autres maintenant\n",
    "    * Il faut vérifier si le clustering a du sens avec un expert métier ou une recherche sur le net\n",
    "    * Je pense quand meme que le bon nombre reste 4 clusters, puisque c'est le cluster0 qui a été coupé en deux, en plus mettre le Coulommier avec le Roquefort, personnelement et sans etre un connaisseur, j ene l'aurais aps fait"
   ]
  },
  {
   "cell_type": "markdown",
   "id": "b97040dc",
   "metadata": {},
   "source": [
    "# Réduire le dataset"
   ]
  },
  {
   "cell_type": "code",
   "execution_count": null,
   "id": "22d5b7f5",
   "metadata": {},
   "outputs": [],
   "source": [
    "# repartir sur une bonne base\n",
    "df = data.copy()\n",
    "df.head()"
   ]
  },
  {
   "cell_type": "code",
   "execution_count": null,
   "id": "fa6dabfd",
   "metadata": {},
   "outputs": [],
   "source": [
    "df = df.set_index(\"Fromages\")"
   ]
  },
  {
   "cell_type": "code",
   "execution_count": null,
   "id": "b7a42f31",
   "metadata": {},
   "outputs": [],
   "source": [
    "list_fromages = [\"Yaourtlaitent.nat\", \"Fr.Frais20nat\", \"Fr.Frais40nat\", \"PetitSuisse40\"]"
   ]
  },
  {
   "cell_type": "code",
   "execution_count": null,
   "id": "7b656d7c",
   "metadata": {},
   "outputs": [],
   "source": [
    "df = df.drop(labels = list_fromages, axis = 0)\n",
    "df.shape"
   ]
  },
  {
   "cell_type": "code",
   "execution_count": null,
   "id": "bbc32ed8",
   "metadata": {},
   "outputs": [],
   "source": [
    "dfstd = sc.fit_transform(df)\n",
    "dfstd = pd.DataFrame(dfstd, columns = df.columns, index = df.index)\n",
    "dfstd.head()"
   ]
  },
  {
   "cell_type": "code",
   "execution_count": null,
   "id": "160fb4c7",
   "metadata": {},
   "outputs": [],
   "source": [
    "pca = PCA(svd_solver = \"full\")\n",
    "X_pca = pca.fit_transform(dfstd)\n",
    "print('variances expliquées:\\n',pca.explained_variance_ratio_)"
   ]
  },
  {
   "cell_type": "code",
   "execution_count": null,
   "id": "45fa00c2",
   "metadata": {},
   "outputs": [],
   "source": [
    "eigval = pca.explained_variance_\n",
    "eigval"
   ]
  },
  {
   "cell_type": "code",
   "execution_count": null,
   "id": "4bed086b",
   "metadata": {},
   "outputs": [],
   "source": [
    "plt.plot(np.arange(1,df.shape[1]+1), eigval)\n",
    "plt.ylabel(\"Eigen Values\")\n",
    "plt.xlabel(\"Factor number\")\n",
    "plt.show()"
   ]
  },
  {
   "cell_type": "code",
   "execution_count": null,
   "id": "7d3d6013",
   "metadata": {},
   "outputs": [],
   "source": [
    "percen = 0.81\n",
    "pca = PCA(n_components = percen, svd_solver = \"full\")\n",
    "X_pca = pca.fit_transform(dfstd)\n",
    "X_pca.shape\n",
    "print(\"avec\", X_pca.shape[1], \"dimensions on a: \", percen *100, \"% de variance expliquée\")"
   ]
  },
  {
   "cell_type": "code",
   "execution_count": null,
   "id": "eebca931",
   "metadata": {},
   "outputs": [],
   "source": [
    "plot_pca(0, 1, X_pca, dfstd)"
   ]
  },
  {
   "cell_type": "code",
   "execution_count": null,
   "id": "70d8037c",
   "metadata": {},
   "outputs": [],
   "source": [
    "plot_pca(0, 2, X_pca, dfstd)"
   ]
  },
  {
   "cell_type": "code",
   "execution_count": null,
   "id": "74697804",
   "metadata": {},
   "outputs": [],
   "source": [
    "plot_pca(1, 2, X_pca, dfstd)"
   ]
  },
  {
   "cell_type": "code",
   "execution_count": null,
   "id": "9c3f37a2",
   "metadata": {},
   "outputs": [],
   "source": [
    "from mpl_toolkits.mplot3d import Axes3D\n",
    "%matplotlib\n",
    "ax = plt.axes(projection = \"3d\",)\n",
    "ax.scatter(X_pca[:,0], X_pca[:,1], X_pca[:,2],  s = 100)\n",
    "ax.set_xlabel(\"X_pca_0\")\n",
    "ax.set_ylabel(\"X_pca_1\")\n",
    "ax.set_zlabel(\"X_pca_2\")\n",
    "n=dfstd.shape[0]\n",
    "for i in range(n):\n",
    "    ax.text(X_pca[i,0], X_pca[i,1], X_pca[i,2], \"%s\"%(dfstd.index[i]))"
   ]
  },
  {
   "cell_type": "code",
   "execution_count": null,
   "id": "4f182cb3",
   "metadata": {},
   "outputs": [],
   "source": [
    "%matplotlib inline"
   ]
  },
  {
   "cell_type": "code",
   "execution_count": null,
   "id": "f6bb4018",
   "metadata": {},
   "outputs": [],
   "source": [
    "plot_silhouette_inertie(X_pca, range(2,10,1))"
   ]
  },
  {
   "cell_type": "markdown",
   "id": "a9c46e61",
   "metadata": {},
   "source": [
    "* Note: Nombre clusters = 3\n",
    "* On pouvait s 'y attendre, on enlever un cluster qui était bien typé"
   ]
  },
  {
   "cell_type": "code",
   "execution_count": null,
   "id": "509bfaec",
   "metadata": {},
   "outputs": [],
   "source": [
    "from yellowbrick.cluster import SilhouetteVisualizer\n",
    "fig, ax = plt.subplots(2, 2, figsize=(15,8))\n",
    "for i in [2, 3, 4, 5]:\n",
    "    km = KMeans(n_clusters=i, n_init=10, max_iter=100, random_state=42)\n",
    "    q, mod = divmod(i, 2)\n",
    "\n",
    "    visualizer = SilhouetteVisualizer(km, colors='yellowbrick', ax=ax[q-1][mod])\n",
    "    visualizer.fit(X_pca)"
   ]
  },
  {
   "cell_type": "code",
   "execution_count": null,
   "id": "72f0b5b2",
   "metadata": {},
   "outputs": [],
   "source": [
    "nbr_cluster = 3\n",
    "km = KMeans(n_clusters = nbr_cluster, n_init=20, random_state=42)     \n",
    "# on peut entrainer le modèle et obtenir les labels en meme temps avec fit_predict\n",
    "prediction = km.fit_predict(X_pca)\n",
    "prediction"
   ]
  },
  {
   "cell_type": "code",
   "execution_count": null,
   "id": "79ed5492",
   "metadata": {},
   "outputs": [],
   "source": [
    "plot_cmpv2(0,1,X_pca,dfstd,prediction)"
   ]
  },
  {
   "cell_type": "code",
   "execution_count": null,
   "id": "fb1a56dd",
   "metadata": {},
   "outputs": [],
   "source": [
    "plot_cmpv2(0,2,X_pca,dfstd,prediction)"
   ]
  },
  {
   "cell_type": "code",
   "execution_count": null,
   "id": "801d0d2c",
   "metadata": {},
   "outputs": [],
   "source": [
    "plot_cmpv2(1,2,X_pca,dfstd,prediction)"
   ]
  },
  {
   "cell_type": "code",
   "execution_count": null,
   "id": "31ac2b6c",
   "metadata": {},
   "outputs": [],
   "source": [
    "from mpl_toolkits.mplot3d import Axes3D\n",
    "import matplotlib.cm as cm\n",
    "%matplotlib\n",
    "nbr_cluster = len(np.unique(prediction))\n",
    "colors = colors = cm.nipy_spectral(prediction/nbr_cluster)\n",
    "    \n",
    "ax = plt.axes(projection = \"3d\",)\n",
    "for k in range(nbr_cluster):\n",
    "    ax.scatter(X_pca[prediction == k,0], X_pca[prediction == k,1], X_pca[prediction == k,2],\n",
    "               c = colors[prediction == k], s = 100, alpha=0.9, edgecolors=\"grey\", linewidth= 1.5) \n",
    "\n",
    "ax.scatter(km.cluster_centers_[:,0], km.cluster_centers_[:,1], km.cluster_centers_[:,2], c = 'r', marker = '+', s = 100,\n",
    "               alpha=0.5, linewidth= 1.5)\n",
    "ax.set_xlabel(\"X_pca_0\")\n",
    "ax.set_ylabel(\"X_pca_1\")\n",
    "ax.set_zlabel(\"X_pca_2\")\n",
    "n=dfstd.shape[0]\n",
    "for i in range(n):\n",
    "    ax.text(X_pca[i,0], X_pca[i,1], X_pca[i,2], \"%s\"%(dfstd.index[i]))"
   ]
  },
  {
   "cell_type": "code",
   "execution_count": null,
   "id": "ccd250c7",
   "metadata": {},
   "outputs": [],
   "source": [
    "%matplotlib inline"
   ]
  },
  {
   "cell_type": "code",
   "execution_count": null,
   "id": "c53e362e",
   "metadata": {},
   "outputs": [],
   "source": [
    "for nbr in range(nbr_cluster):\n",
    "    print(\"cluster\", nbr)\n",
    "    print(\"score silhouette:\", metrics.silhouette_score(X_pca, prediction==nbr))\n",
    "    print(\"\")\n"
   ]
  },
  {
   "cell_type": "code",
   "execution_count": null,
   "id": "5a718478",
   "metadata": {},
   "outputs": [],
   "source": [
    "distances = km.fit_transform(X_pca)\n",
    "for label in range(nbr_cluster): \n",
    "    print(\"cluster \", label)\n",
    "    print(\"somme_distance:\", distances[:,label].sum())\n",
    "    print(\"\")"
   ]
  },
  {
   "cell_type": "code",
   "execution_count": null,
   "id": "67a68af2",
   "metadata": {},
   "outputs": [],
   "source": [
    "for label in np.unique(prediction):\n",
    "    print(\"cluster:\", label)\n",
    "    print(\"nbr_element dans le cluster:\", dfstd.groupby(prediction).size()[label])\n",
    "    print(\"davies_bouldin_score:\",metrics.davies_bouldin_score(dfstd, prediction == label).round(3))\n",
    "    print(\"liste d'individus:\\n\")\n",
    "    idk=np.argsort(prediction)\n",
    "    dfname = pd.DataFrame(dfstd.index[idk], prediction[idk])\n",
    "    dfname[dfname.index == label].apply(lambda x: print(x.values))\n",
    "    print(\"=\"*50)"
   ]
  },
  {
   "cell_type": "markdown",
   "id": "3fc1cbf1",
   "metadata": {},
   "source": [
    "* Note: \n",
    "    * le cluster 2 contient que 3 element!\n",
    "    * Fr.ChevrePateMolle est vraiment atypique, faut peut etre le supprimer du dataset ou collecter plus de fromages qui lui ressembles"
   ]
  },
  {
   "cell_type": "code",
   "execution_count": null,
   "id": "1100f911",
   "metadata": {},
   "outputs": [],
   "source": [
    "# Afficher les deux moyennes\n",
    "pd.concat([df.groupby(prediction).mean(), pd.DataFrame(df.mean(),columns = [\"Moyenne_totale\"]).T])"
   ]
  },
  {
   "cell_type": "code",
   "execution_count": null,
   "id": "f6b6863e",
   "metadata": {},
   "outputs": [],
   "source": [
    "# Difference des deux moyennes\n",
    "df.groupby(prediction).mean()-df.mean()"
   ]
  },
  {
   "cell_type": "code",
   "execution_count": null,
   "id": "bfebdaf4",
   "metadata": {},
   "outputs": [],
   "source": [
    "get_metriques(df, prediction)"
   ]
  },
  {
   "cell_type": "markdown",
   "id": "e38407a8",
   "metadata": {},
   "source": [
    "* La moyenne du cluster2 est plus basse que les autres\n",
    "* les coeff R2 des variables ont perdu, il devient difficile de dire que maintenant ces variables peuvent expliquer ces clusters\n",
    "* Il est vraiment nécessaire de collecter plus de fromages et de se tourner vers l'expert métier qui peux aider a voir un lien dans ces clusters"
   ]
  },
  {
   "cell_type": "code",
   "execution_count": null,
   "id": "a6e5128b",
   "metadata": {},
   "outputs": [],
   "source": []
  },
  {
   "cell_type": "code",
   "execution_count": null,
   "id": "2b1a5d48",
   "metadata": {},
   "outputs": [],
   "source": []
  },
  {
   "cell_type": "code",
   "execution_count": null,
   "id": "c1b2c293",
   "metadata": {},
   "outputs": [],
   "source": []
  },
  {
   "cell_type": "code",
   "execution_count": null,
   "id": "c3f49571",
   "metadata": {},
   "outputs": [],
   "source": []
  },
  {
   "cell_type": "code",
   "execution_count": null,
   "id": "c2cf9b01",
   "metadata": {},
   "outputs": [],
   "source": []
  }
 ],
 "metadata": {
  "kernelspec": {
   "display_name": "Python 3",
   "language": "python",
   "name": "python3"
  },
  "language_info": {
   "codemirror_mode": {
    "name": "ipython",
    "version": 3
   },
   "file_extension": ".py",
   "mimetype": "text/x-python",
   "name": "python",
   "nbconvert_exporter": "python",
   "pygments_lexer": "ipython3",
   "version": "3.8.8"
  },
  "toc": {
   "base_numbering": 1,
   "nav_menu": {},
   "number_sections": true,
   "sideBar": true,
   "skip_h1_title": false,
   "title_cell": "Table of Contents",
   "title_sidebar": "Contents",
   "toc_cell": false,
   "toc_position": {
    "height": "calc(100% - 180px)",
    "left": "10px",
    "top": "150px",
    "width": "349.091px"
   },
   "toc_section_display": true,
   "toc_window_display": true
  }
 },
 "nbformat": 4,
 "nbformat_minor": 5
}
