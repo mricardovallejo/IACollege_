{
 "cells": [
  {
   "cell_type": "markdown",
   "metadata": {},
   "source": [
    "# Principal Component Analysis"
   ]
  },
  {
   "cell_type": "code",
   "execution_count": null,
   "metadata": {},
   "outputs": [],
   "source": [
    "https://medium.com/apprentice-journal/pca-application-in-machine-learning-4827c07a61db\n"
   ]
  },
  {
   "cell_type": "code",
   "execution_count": 88,
   "metadata": {},
   "outputs": [
    {
     "data": {
      "text/html": [
       "<div>\n",
       "<style scoped>\n",
       "    .dataframe tbody tr th:only-of-type {\n",
       "        vertical-align: middle;\n",
       "    }\n",
       "\n",
       "    .dataframe tbody tr th {\n",
       "        vertical-align: top;\n",
       "    }\n",
       "\n",
       "    .dataframe thead th {\n",
       "        text-align: right;\n",
       "    }\n",
       "</style>\n",
       "<table border=\"1\" class=\"dataframe\">\n",
       "  <thead>\n",
       "    <tr style=\"text-align: right;\">\n",
       "      <th></th>\n",
       "      <th>Country</th>\n",
       "      <th>Car</th>\n",
       "      <th>MPG</th>\n",
       "      <th>Weight</th>\n",
       "      <th>Drive_Ratio</th>\n",
       "      <th>Horsepower</th>\n",
       "      <th>Displacement</th>\n",
       "      <th>Cylinders</th>\n",
       "    </tr>\n",
       "  </thead>\n",
       "  <tbody>\n",
       "    <tr>\n",
       "      <th>0</th>\n",
       "      <td>U.S.</td>\n",
       "      <td>Buick Estate Wagon</td>\n",
       "      <td>16.9</td>\n",
       "      <td>4.360</td>\n",
       "      <td>2.73</td>\n",
       "      <td>155</td>\n",
       "      <td>350</td>\n",
       "      <td>8</td>\n",
       "    </tr>\n",
       "    <tr>\n",
       "      <th>1</th>\n",
       "      <td>U.S.</td>\n",
       "      <td>Ford Country Squire Wagon</td>\n",
       "      <td>15.5</td>\n",
       "      <td>4.054</td>\n",
       "      <td>2.26</td>\n",
       "      <td>142</td>\n",
       "      <td>351</td>\n",
       "      <td>8</td>\n",
       "    </tr>\n",
       "    <tr>\n",
       "      <th>2</th>\n",
       "      <td>U.S.</td>\n",
       "      <td>Chevy Malibu Wagon</td>\n",
       "      <td>19.2</td>\n",
       "      <td>3.605</td>\n",
       "      <td>2.56</td>\n",
       "      <td>125</td>\n",
       "      <td>267</td>\n",
       "      <td>8</td>\n",
       "    </tr>\n",
       "    <tr>\n",
       "      <th>3</th>\n",
       "      <td>U.S.</td>\n",
       "      <td>Chrysler LeBaron Wagon</td>\n",
       "      <td>18.5</td>\n",
       "      <td>3.940</td>\n",
       "      <td>2.45</td>\n",
       "      <td>150</td>\n",
       "      <td>360</td>\n",
       "      <td>8</td>\n",
       "    </tr>\n",
       "    <tr>\n",
       "      <th>4</th>\n",
       "      <td>U.S.</td>\n",
       "      <td>Chevette</td>\n",
       "      <td>30.0</td>\n",
       "      <td>2.155</td>\n",
       "      <td>3.70</td>\n",
       "      <td>68</td>\n",
       "      <td>98</td>\n",
       "      <td>4</td>\n",
       "    </tr>\n",
       "    <tr>\n",
       "      <th>5</th>\n",
       "      <td>Japan</td>\n",
       "      <td>Toyota Corona</td>\n",
       "      <td>27.5</td>\n",
       "      <td>2.560</td>\n",
       "      <td>3.05</td>\n",
       "      <td>95</td>\n",
       "      <td>134</td>\n",
       "      <td>4</td>\n",
       "    </tr>\n",
       "    <tr>\n",
       "      <th>6</th>\n",
       "      <td>Japan</td>\n",
       "      <td>Datsun 510</td>\n",
       "      <td>27.2</td>\n",
       "      <td>2.300</td>\n",
       "      <td>3.54</td>\n",
       "      <td>97</td>\n",
       "      <td>119</td>\n",
       "      <td>4</td>\n",
       "    </tr>\n",
       "    <tr>\n",
       "      <th>7</th>\n",
       "      <td>U.S.</td>\n",
       "      <td>Dodge Omni</td>\n",
       "      <td>30.9</td>\n",
       "      <td>2.230</td>\n",
       "      <td>3.37</td>\n",
       "      <td>75</td>\n",
       "      <td>105</td>\n",
       "      <td>4</td>\n",
       "    </tr>\n",
       "    <tr>\n",
       "      <th>8</th>\n",
       "      <td>Germany</td>\n",
       "      <td>Audi 5000</td>\n",
       "      <td>20.3</td>\n",
       "      <td>2.830</td>\n",
       "      <td>3.90</td>\n",
       "      <td>103</td>\n",
       "      <td>131</td>\n",
       "      <td>5</td>\n",
       "    </tr>\n",
       "    <tr>\n",
       "      <th>9</th>\n",
       "      <td>Sweden</td>\n",
       "      <td>Volvo 240 GL</td>\n",
       "      <td>17.0</td>\n",
       "      <td>3.140</td>\n",
       "      <td>3.50</td>\n",
       "      <td>125</td>\n",
       "      <td>163</td>\n",
       "      <td>6</td>\n",
       "    </tr>\n",
       "    <tr>\n",
       "      <th>10</th>\n",
       "      <td>Sweden</td>\n",
       "      <td>Saab 99 GLE</td>\n",
       "      <td>21.6</td>\n",
       "      <td>2.795</td>\n",
       "      <td>3.77</td>\n",
       "      <td>115</td>\n",
       "      <td>121</td>\n",
       "      <td>4</td>\n",
       "    </tr>\n",
       "    <tr>\n",
       "      <th>11</th>\n",
       "      <td>France</td>\n",
       "      <td>Peugeot 694 SL</td>\n",
       "      <td>16.2</td>\n",
       "      <td>3.410</td>\n",
       "      <td>3.58</td>\n",
       "      <td>133</td>\n",
       "      <td>163</td>\n",
       "      <td>6</td>\n",
       "    </tr>\n",
       "    <tr>\n",
       "      <th>12</th>\n",
       "      <td>U.S.</td>\n",
       "      <td>Buick Century Special</td>\n",
       "      <td>20.6</td>\n",
       "      <td>3.380</td>\n",
       "      <td>2.73</td>\n",
       "      <td>105</td>\n",
       "      <td>231</td>\n",
       "      <td>6</td>\n",
       "    </tr>\n",
       "    <tr>\n",
       "      <th>13</th>\n",
       "      <td>U.S.</td>\n",
       "      <td>Mercury Zephyr</td>\n",
       "      <td>20.8</td>\n",
       "      <td>3.070</td>\n",
       "      <td>3.08</td>\n",
       "      <td>85</td>\n",
       "      <td>200</td>\n",
       "      <td>6</td>\n",
       "    </tr>\n",
       "    <tr>\n",
       "      <th>14</th>\n",
       "      <td>U.S.</td>\n",
       "      <td>Dodge Aspen</td>\n",
       "      <td>18.6</td>\n",
       "      <td>3.620</td>\n",
       "      <td>2.71</td>\n",
       "      <td>110</td>\n",
       "      <td>225</td>\n",
       "      <td>6</td>\n",
       "    </tr>\n",
       "    <tr>\n",
       "      <th>15</th>\n",
       "      <td>U.S.</td>\n",
       "      <td>AMC Concord D/L</td>\n",
       "      <td>18.1</td>\n",
       "      <td>3.410</td>\n",
       "      <td>2.73</td>\n",
       "      <td>120</td>\n",
       "      <td>258</td>\n",
       "      <td>6</td>\n",
       "    </tr>\n",
       "    <tr>\n",
       "      <th>16</th>\n",
       "      <td>U.S.</td>\n",
       "      <td>Chevy Caprice Classic</td>\n",
       "      <td>17.0</td>\n",
       "      <td>3.840</td>\n",
       "      <td>2.41</td>\n",
       "      <td>130</td>\n",
       "      <td>305</td>\n",
       "      <td>8</td>\n",
       "    </tr>\n",
       "    <tr>\n",
       "      <th>17</th>\n",
       "      <td>U.S.</td>\n",
       "      <td>Ford LTD</td>\n",
       "      <td>17.6</td>\n",
       "      <td>3.725</td>\n",
       "      <td>2.26</td>\n",
       "      <td>129</td>\n",
       "      <td>302</td>\n",
       "      <td>8</td>\n",
       "    </tr>\n",
       "    <tr>\n",
       "      <th>18</th>\n",
       "      <td>U.S.</td>\n",
       "      <td>Mercury Grand Marquis</td>\n",
       "      <td>16.5</td>\n",
       "      <td>3.955</td>\n",
       "      <td>2.26</td>\n",
       "      <td>138</td>\n",
       "      <td>351</td>\n",
       "      <td>8</td>\n",
       "    </tr>\n",
       "    <tr>\n",
       "      <th>19</th>\n",
       "      <td>U.S.</td>\n",
       "      <td>Dodge St Regis</td>\n",
       "      <td>18.2</td>\n",
       "      <td>3.830</td>\n",
       "      <td>2.45</td>\n",
       "      <td>135</td>\n",
       "      <td>318</td>\n",
       "      <td>8</td>\n",
       "    </tr>\n",
       "    <tr>\n",
       "      <th>20</th>\n",
       "      <td>U.S.</td>\n",
       "      <td>Ford Mustang 4</td>\n",
       "      <td>26.5</td>\n",
       "      <td>2.585</td>\n",
       "      <td>3.08</td>\n",
       "      <td>88</td>\n",
       "      <td>140</td>\n",
       "      <td>4</td>\n",
       "    </tr>\n",
       "    <tr>\n",
       "      <th>21</th>\n",
       "      <td>U.S.</td>\n",
       "      <td>Ford Mustang Ghia</td>\n",
       "      <td>21.9</td>\n",
       "      <td>2.910</td>\n",
       "      <td>3.08</td>\n",
       "      <td>109</td>\n",
       "      <td>171</td>\n",
       "      <td>6</td>\n",
       "    </tr>\n",
       "    <tr>\n",
       "      <th>22</th>\n",
       "      <td>Japan</td>\n",
       "      <td>Mazda GLC</td>\n",
       "      <td>34.1</td>\n",
       "      <td>1.975</td>\n",
       "      <td>3.73</td>\n",
       "      <td>65</td>\n",
       "      <td>86</td>\n",
       "      <td>4</td>\n",
       "    </tr>\n",
       "    <tr>\n",
       "      <th>23</th>\n",
       "      <td>Japan</td>\n",
       "      <td>Dodge Colt</td>\n",
       "      <td>35.1</td>\n",
       "      <td>1.915</td>\n",
       "      <td>2.97</td>\n",
       "      <td>80</td>\n",
       "      <td>98</td>\n",
       "      <td>4</td>\n",
       "    </tr>\n",
       "    <tr>\n",
       "      <th>24</th>\n",
       "      <td>U.S.</td>\n",
       "      <td>AMC Spirit</td>\n",
       "      <td>27.4</td>\n",
       "      <td>2.670</td>\n",
       "      <td>3.08</td>\n",
       "      <td>80</td>\n",
       "      <td>121</td>\n",
       "      <td>4</td>\n",
       "    </tr>\n",
       "    <tr>\n",
       "      <th>25</th>\n",
       "      <td>Germany</td>\n",
       "      <td>VW Scirocco</td>\n",
       "      <td>31.5</td>\n",
       "      <td>1.990</td>\n",
       "      <td>3.78</td>\n",
       "      <td>71</td>\n",
       "      <td>89</td>\n",
       "      <td>4</td>\n",
       "    </tr>\n",
       "    <tr>\n",
       "      <th>26</th>\n",
       "      <td>Japan</td>\n",
       "      <td>Honda Accord LX</td>\n",
       "      <td>29.5</td>\n",
       "      <td>2.135</td>\n",
       "      <td>3.05</td>\n",
       "      <td>68</td>\n",
       "      <td>98</td>\n",
       "      <td>4</td>\n",
       "    </tr>\n",
       "    <tr>\n",
       "      <th>27</th>\n",
       "      <td>U.S.</td>\n",
       "      <td>Buick Skylark</td>\n",
       "      <td>28.4</td>\n",
       "      <td>2.670</td>\n",
       "      <td>2.53</td>\n",
       "      <td>90</td>\n",
       "      <td>151</td>\n",
       "      <td>4</td>\n",
       "    </tr>\n",
       "    <tr>\n",
       "      <th>28</th>\n",
       "      <td>U.S.</td>\n",
       "      <td>Chevy Citation</td>\n",
       "      <td>28.8</td>\n",
       "      <td>2.595</td>\n",
       "      <td>2.69</td>\n",
       "      <td>115</td>\n",
       "      <td>173</td>\n",
       "      <td>6</td>\n",
       "    </tr>\n",
       "    <tr>\n",
       "      <th>29</th>\n",
       "      <td>U.S.</td>\n",
       "      <td>Olds Omega</td>\n",
       "      <td>26.8</td>\n",
       "      <td>2.700</td>\n",
       "      <td>2.84</td>\n",
       "      <td>115</td>\n",
       "      <td>173</td>\n",
       "      <td>6</td>\n",
       "    </tr>\n",
       "    <tr>\n",
       "      <th>30</th>\n",
       "      <td>U.S.</td>\n",
       "      <td>Pontiac Phoenix</td>\n",
       "      <td>33.5</td>\n",
       "      <td>2.556</td>\n",
       "      <td>2.69</td>\n",
       "      <td>90</td>\n",
       "      <td>151</td>\n",
       "      <td>4</td>\n",
       "    </tr>\n",
       "    <tr>\n",
       "      <th>31</th>\n",
       "      <td>U.S.</td>\n",
       "      <td>Plymouth Horizon</td>\n",
       "      <td>34.2</td>\n",
       "      <td>2.200</td>\n",
       "      <td>3.37</td>\n",
       "      <td>70</td>\n",
       "      <td>105</td>\n",
       "      <td>4</td>\n",
       "    </tr>\n",
       "    <tr>\n",
       "      <th>32</th>\n",
       "      <td>Japan</td>\n",
       "      <td>Datsun 210</td>\n",
       "      <td>31.8</td>\n",
       "      <td>2.020</td>\n",
       "      <td>3.70</td>\n",
       "      <td>65</td>\n",
       "      <td>85</td>\n",
       "      <td>4</td>\n",
       "    </tr>\n",
       "    <tr>\n",
       "      <th>33</th>\n",
       "      <td>Italy</td>\n",
       "      <td>Fiat Strada</td>\n",
       "      <td>37.3</td>\n",
       "      <td>2.130</td>\n",
       "      <td>3.10</td>\n",
       "      <td>69</td>\n",
       "      <td>91</td>\n",
       "      <td>4</td>\n",
       "    </tr>\n",
       "    <tr>\n",
       "      <th>34</th>\n",
       "      <td>Germany</td>\n",
       "      <td>VW Dasher</td>\n",
       "      <td>30.5</td>\n",
       "      <td>2.190</td>\n",
       "      <td>3.70</td>\n",
       "      <td>78</td>\n",
       "      <td>97</td>\n",
       "      <td>4</td>\n",
       "    </tr>\n",
       "    <tr>\n",
       "      <th>35</th>\n",
       "      <td>Japan</td>\n",
       "      <td>Datsun 810</td>\n",
       "      <td>22.0</td>\n",
       "      <td>2.815</td>\n",
       "      <td>3.70</td>\n",
       "      <td>97</td>\n",
       "      <td>146</td>\n",
       "      <td>6</td>\n",
       "    </tr>\n",
       "    <tr>\n",
       "      <th>36</th>\n",
       "      <td>Germany</td>\n",
       "      <td>BMW 320i</td>\n",
       "      <td>21.5</td>\n",
       "      <td>2.600</td>\n",
       "      <td>3.64</td>\n",
       "      <td>110</td>\n",
       "      <td>121</td>\n",
       "      <td>4</td>\n",
       "    </tr>\n",
       "    <tr>\n",
       "      <th>37</th>\n",
       "      <td>Germany</td>\n",
       "      <td>VW Rabbit</td>\n",
       "      <td>31.9</td>\n",
       "      <td>1.925</td>\n",
       "      <td>3.78</td>\n",
       "      <td>71</td>\n",
       "      <td>89</td>\n",
       "      <td>4</td>\n",
       "    </tr>\n",
       "  </tbody>\n",
       "</table>\n",
       "</div>"
      ],
      "text/plain": [
       "    Country                        Car   MPG  Weight  Drive_Ratio  Horsepower  \\\n",
       "0      U.S.         Buick Estate Wagon  16.9   4.360         2.73         155   \n",
       "1      U.S.  Ford Country Squire Wagon  15.5   4.054         2.26         142   \n",
       "2      U.S.         Chevy Malibu Wagon  19.2   3.605         2.56         125   \n",
       "3      U.S.     Chrysler LeBaron Wagon  18.5   3.940         2.45         150   \n",
       "4      U.S.                   Chevette  30.0   2.155         3.70          68   \n",
       "5     Japan              Toyota Corona  27.5   2.560         3.05          95   \n",
       "6     Japan                 Datsun 510  27.2   2.300         3.54          97   \n",
       "7      U.S.                 Dodge Omni  30.9   2.230         3.37          75   \n",
       "8   Germany                  Audi 5000  20.3   2.830         3.90         103   \n",
       "9    Sweden               Volvo 240 GL  17.0   3.140         3.50         125   \n",
       "10   Sweden                Saab 99 GLE  21.6   2.795         3.77         115   \n",
       "11   France             Peugeot 694 SL  16.2   3.410         3.58         133   \n",
       "12     U.S.      Buick Century Special  20.6   3.380         2.73         105   \n",
       "13     U.S.             Mercury Zephyr  20.8   3.070         3.08          85   \n",
       "14     U.S.                Dodge Aspen  18.6   3.620         2.71         110   \n",
       "15     U.S.            AMC Concord D/L  18.1   3.410         2.73         120   \n",
       "16     U.S.      Chevy Caprice Classic  17.0   3.840         2.41         130   \n",
       "17     U.S.                   Ford LTD  17.6   3.725         2.26         129   \n",
       "18     U.S.      Mercury Grand Marquis  16.5   3.955         2.26         138   \n",
       "19     U.S.             Dodge St Regis  18.2   3.830         2.45         135   \n",
       "20     U.S.             Ford Mustang 4  26.5   2.585         3.08          88   \n",
       "21     U.S.          Ford Mustang Ghia  21.9   2.910         3.08         109   \n",
       "22    Japan                  Mazda GLC  34.1   1.975         3.73          65   \n",
       "23    Japan                 Dodge Colt  35.1   1.915         2.97          80   \n",
       "24     U.S.                 AMC Spirit  27.4   2.670         3.08          80   \n",
       "25  Germany                VW Scirocco  31.5   1.990         3.78          71   \n",
       "26    Japan            Honda Accord LX  29.5   2.135         3.05          68   \n",
       "27     U.S.              Buick Skylark  28.4   2.670         2.53          90   \n",
       "28     U.S.             Chevy Citation  28.8   2.595         2.69         115   \n",
       "29     U.S.                 Olds Omega  26.8   2.700         2.84         115   \n",
       "30     U.S.            Pontiac Phoenix  33.5   2.556         2.69          90   \n",
       "31     U.S.           Plymouth Horizon  34.2   2.200         3.37          70   \n",
       "32    Japan                 Datsun 210  31.8   2.020         3.70          65   \n",
       "33    Italy                Fiat Strada  37.3   2.130         3.10          69   \n",
       "34  Germany                  VW Dasher  30.5   2.190         3.70          78   \n",
       "35    Japan                 Datsun 810  22.0   2.815         3.70          97   \n",
       "36  Germany                   BMW 320i  21.5   2.600         3.64         110   \n",
       "37  Germany                  VW Rabbit  31.9   1.925         3.78          71   \n",
       "\n",
       "    Displacement  Cylinders  \n",
       "0            350          8  \n",
       "1            351          8  \n",
       "2            267          8  \n",
       "3            360          8  \n",
       "4             98          4  \n",
       "5            134          4  \n",
       "6            119          4  \n",
       "7            105          4  \n",
       "8            131          5  \n",
       "9            163          6  \n",
       "10           121          4  \n",
       "11           163          6  \n",
       "12           231          6  \n",
       "13           200          6  \n",
       "14           225          6  \n",
       "15           258          6  \n",
       "16           305          8  \n",
       "17           302          8  \n",
       "18           351          8  \n",
       "19           318          8  \n",
       "20           140          4  \n",
       "21           171          6  \n",
       "22            86          4  \n",
       "23            98          4  \n",
       "24           121          4  \n",
       "25            89          4  \n",
       "26            98          4  \n",
       "27           151          4  \n",
       "28           173          6  \n",
       "29           173          6  \n",
       "30           151          4  \n",
       "31           105          4  \n",
       "32            85          4  \n",
       "33            91          4  \n",
       "34            97          4  \n",
       "35           146          6  \n",
       "36           121          4  \n",
       "37            89          4  "
      ]
     },
     "metadata": {},
     "output_type": "display_data"
    }
   ],
   "source": [
    "import pandas as pd\n",
    "import numpy as np\n",
    "#Loading the data\n",
    "df=pd.read_csv('cars.csv',sep=';',decimal=',')\n",
    "display(df)"
   ]
  },
  {
   "cell_type": "code",
   "execution_count": 89,
   "metadata": {},
   "outputs": [],
   "source": [
    "df.set_index(['Country','Car'],inplace=True)"
   ]
  },
  {
   "cell_type": "markdown",
   "metadata": {},
   "source": [
    "###  Pour faire l'analys il faut scandardiser les donnees"
   ]
  },
  {
   "cell_type": "code",
   "execution_count": 90,
   "metadata": {},
   "outputs": [],
   "source": [
    "from sklearn.preprocessing import StandardScaler"
   ]
  },
  {
   "cell_type": "code",
   "execution_count": 91,
   "metadata": {},
   "outputs": [],
   "source": [
    "scaler = StandardScaler()\n",
    "Z=(scaler.fit(df))"
   ]
  },
  {
   "cell_type": "code",
   "execution_count": 92,
   "metadata": {},
   "outputs": [],
   "source": [
    "res=scaler.transform(df)"
   ]
  },
  {
   "cell_type": "markdown",
   "metadata": {},
   "source": [
    " ### Checking that the data is prepared correctly"
   ]
  },
  {
   "cell_type": "code",
   "execution_count": 29,
   "metadata": {},
   "outputs": [
    {
     "name": "stdout",
     "output_type": "stream",
     "text": [
      "The mean of the standerdised variables Xsc \n",
      " [ 0. -0.  0. -0. -0. -0.]\n",
      "Standart deviation of variables Xsc \n",
      " [1. 1. 1. 1. 1. 1.]\n"
     ]
    }
   ],
   "source": [
    "import math\n",
    "M=np.mean(res.round(3),axis=0)\n",
    "print('The mean of the standerdised variables Xsc \\n', M.round(3))\n",
    "print('Standart deviation of variables Xsc \\n', np.std(res,axis=0,ddof=0))"
   ]
  },
  {
   "cell_type": "markdown",
   "metadata": {},
   "source": [
    "### Doing the decomposition"
   ]
  },
  {
   "cell_type": "code",
   "execution_count": 24,
   "metadata": {},
   "outputs": [
    {
     "data": {
      "text/plain": [
       "PCA()"
      ]
     },
     "execution_count": 24,
     "metadata": {},
     "output_type": "execute_result"
    }
   ],
   "source": [
    "from sklearn.decomposition import PCA\n",
    "pca = PCA(n_components=None)\n",
    "pca.fit(res)"
   ]
  },
  {
   "cell_type": "code",
   "execution_count": 42,
   "metadata": {},
   "outputs": [
    {
     "name": "stdout",
     "output_type": "stream",
     "text": [
      "Explained variance ratio:  [0.83999614 0.10819696 0.0221887  0.01836637 0.00815936 0.00309248]\n"
     ]
    }
   ],
   "source": [
    "print('Explained variance ratio: ',pca.explained_variance_ratio_)\n",
    "coude=pca.explained_variance_"
   ]
  },
  {
   "cell_type": "markdown",
   "metadata": {},
   "source": [
    "### Regle de coude"
   ]
  },
  {
   "cell_type": "code",
   "execution_count": 43,
   "metadata": {},
   "outputs": [
    {
     "data": {
      "image/png": "[encoded data removed]",
      "text/plain": [
       "<Figure size 432x288 with 1 Axes>"
      ]
     },
     "metadata": {
      "needs_background": "light"
     },
     "output_type": "display_data"
    }
   ],
   "source": [
    "import matplotlib.pyplot as plt\n",
    "plt.plot(np.arange(6),coude, marker='o')\n",
    "plt.title('Regle de coude', fontsize=14)\n",
    "plt.xlabel('Number of principal components', fontsize=14)\n",
    "plt.ylabel('Variance expliquee', fontsize=14)\n",
    "plt.grid(True)\n",
    "plt.show()\n",
    "None"
   ]
  },
  {
   "cell_type": "markdown",
   "metadata": {},
   "source": [
    "### Singular values"
   ]
  },
  {
   "cell_type": "code",
   "execution_count": 44,
   "metadata": {},
   "outputs": [
    {
     "name": "stdout",
     "output_type": "stream",
     "text": [
      "[13.83904328  4.96678024  2.24922725  2.046346    1.3639407   0.83969387]\n"
     ]
    }
   ],
   "source": [
    "print(pca.singular_values_)"
   ]
  },
  {
   "cell_type": "code",
   "execution_count": 93,
   "metadata": {},
   "outputs": [
    {
     "name": "stdout",
     "output_type": "stream",
     "text": [
      "number of components = 6\n"
     ]
    }
   ],
   "source": [
    "print('number of components =',pca.n_components_)"
   ]
  },
  {
   "cell_type": "markdown",
   "metadata": {},
   "source": [
    "### Matrice de correlation"
   ]
  },
  {
   "cell_type": "code",
   "execution_count": 50,
   "metadata": {},
   "outputs": [
    {
     "data": {
      "text/html": [
       "<div>\n",
       "<style scoped>\n",
       "    .dataframe tbody tr th:only-of-type {\n",
       "        vertical-align: middle;\n",
       "    }\n",
       "\n",
       "    .dataframe tbody tr th {\n",
       "        vertical-align: top;\n",
       "    }\n",
       "\n",
       "    .dataframe thead th {\n",
       "        text-align: right;\n",
       "    }\n",
       "</style>\n",
       "<table border=\"1\" class=\"dataframe\">\n",
       "  <thead>\n",
       "    <tr style=\"text-align: right;\">\n",
       "      <th></th>\n",
       "      <th>0</th>\n",
       "      <th>1</th>\n",
       "      <th>2</th>\n",
       "      <th>3</th>\n",
       "      <th>4</th>\n",
       "      <th>5</th>\n",
       "    </tr>\n",
       "  </thead>\n",
       "  <tbody>\n",
       "    <tr>\n",
       "      <th>0</th>\n",
       "      <td>1.000000</td>\n",
       "      <td>-0.903071</td>\n",
       "      <td>0.417225</td>\n",
       "      <td>-0.871282</td>\n",
       "      <td>-0.786048</td>\n",
       "      <td>-0.805511</td>\n",
       "    </tr>\n",
       "    <tr>\n",
       "      <th>1</th>\n",
       "      <td>-0.903071</td>\n",
       "      <td>1.000000</td>\n",
       "      <td>-0.687880</td>\n",
       "      <td>0.917220</td>\n",
       "      <td>0.950765</td>\n",
       "      <td>0.916678</td>\n",
       "    </tr>\n",
       "    <tr>\n",
       "      <th>2</th>\n",
       "      <td>0.417225</td>\n",
       "      <td>-0.687880</td>\n",
       "      <td>1.000000</td>\n",
       "      <td>-0.588906</td>\n",
       "      <td>-0.798273</td>\n",
       "      <td>-0.692150</td>\n",
       "    </tr>\n",
       "    <tr>\n",
       "      <th>3</th>\n",
       "      <td>-0.871282</td>\n",
       "      <td>0.917220</td>\n",
       "      <td>-0.588906</td>\n",
       "      <td>1.000000</td>\n",
       "      <td>0.871799</td>\n",
       "      <td>0.863847</td>\n",
       "    </tr>\n",
       "    <tr>\n",
       "      <th>4</th>\n",
       "      <td>-0.786048</td>\n",
       "      <td>0.950765</td>\n",
       "      <td>-0.798273</td>\n",
       "      <td>0.871799</td>\n",
       "      <td>1.000000</td>\n",
       "      <td>0.940281</td>\n",
       "    </tr>\n",
       "    <tr>\n",
       "      <th>5</th>\n",
       "      <td>-0.805511</td>\n",
       "      <td>0.916678</td>\n",
       "      <td>-0.692150</td>\n",
       "      <td>0.863847</td>\n",
       "      <td>0.940281</td>\n",
       "      <td>1.000000</td>\n",
       "    </tr>\n",
       "  </tbody>\n",
       "</table>\n",
       "</div>"
      ],
      "text/plain": [
       "          0         1         2         3         4         5\n",
       "0  1.000000 -0.903071  0.417225 -0.871282 -0.786048 -0.805511\n",
       "1 -0.903071  1.000000 -0.687880  0.917220  0.950765  0.916678\n",
       "2  0.417225 -0.687880  1.000000 -0.588906 -0.798273 -0.692150\n",
       "3 -0.871282  0.917220 -0.588906  1.000000  0.871799  0.863847\n",
       "4 -0.786048  0.950765 -0.798273  0.871799  1.000000  0.940281\n",
       "5 -0.805511  0.916678 -0.692150  0.863847  0.940281  1.000000"
      ]
     },
     "execution_count": 50,
     "metadata": {},
     "output_type": "execute_result"
    }
   ],
   "source": [
    "M=pd.DataFrame(res) #Matrice de correlation des variables#\n",
    "M.corr()"
   ]
  },
  {
   "cell_type": "code",
   "execution_count": 76,
   "metadata": {},
   "outputs": [
    {
     "data": {
      "image/png": "[encoded data removed]",
      "text/plain": [
       "<Figure size 432x288 with 2 Axes>"
      ]
     },
     "metadata": {
      "needs_background": "light"
     },
     "output_type": "display_data"
    }
   ],
   "source": [
    "import seaborn as sb\n",
    "dataplot = sb.heatmap(M.corr(), cmap=\"Blues\", annot=True)\n",
    "plt.show()"
   ]
  },
  {
   "cell_type": "markdown",
   "metadata": {},
   "source": [
    "### Valuers propres (diagonalisation):"
   ]
  },
  {
   "cell_type": "code",
   "execution_count": 72,
   "metadata": {},
   "outputs": [
    {
     "data": {
      "text/plain": [
       "array([5.03997681, 0.64918174, 0.01855489, 0.04895616, 0.11019821,\n",
       "       0.13313219])"
      ]
     },
     "execution_count": 72,
     "metadata": {},
     "output_type": "execute_result"
    }
   ],
   "source": [
    "eig_vals, eig_vecs = np.linalg.eig(M.corr())\n",
    "eig_vals"
   ]
  },
  {
   "cell_type": "code",
   "execution_count": 94,
   "metadata": {},
   "outputs": [
    {
     "name": "stdout",
     "output_type": "stream",
     "text": [
      "combien composants a garder (nombre des valuers qui sont > 1) = 1 \n",
      "  [4.90734584 0.63209801 0.0180666  0.04766784 0.10729826 0.12962871]\n"
     ]
    }
   ],
   "source": [
    "print('combien composants a garder (nombre des valuers qui sont > 1) = 1 \\n ', eig_vals*((df.shape[0]-1)/df.shape[0]))"
   ]
  },
  {
   "cell_type": "markdown",
   "metadata": {},
   "source": [
    "## Valuers propres a partir de singular values"
   ]
  },
  {
   "cell_type": "code",
   "execution_count": 75,
   "metadata": {},
   "outputs": [
    {
     "name": "stdout",
     "output_type": "stream",
     "text": [
      "[5.03997681 0.64918174 0.13313219 0.11019821 0.04895616 0.01855489]\n"
     ]
    }
   ],
   "source": [
    "print(pca.singular_values_**2/df.shape[0])"
   ]
  },
  {
   "cell_type": "code",
   "execution_count": 52,
   "metadata": {},
   "outputs": [
    {
     "name": "stdout",
     "output_type": "stream",
     "text": [
      "La somee de valeurs propres de la matrice de correlation =  5.999999999999997\n"
     ]
    }
   ],
   "source": [
    "Summa=sum(eig_vals)\n",
    "print('La somee de valeurs propres de la matrice de correlation = ',Summa)"
   ]
  },
  {
   "cell_type": "markdown",
   "metadata": {},
   "source": [
    "### Projection des individus sur les 2 premieres composantes principales"
   ]
  },
  {
   "cell_type": "code",
   "execution_count": 58,
   "metadata": {},
   "outputs": [],
   "source": [
    "coords=pca.fit_transform(res)"
   ]
  },
  {
   "cell_type": "code",
   "execution_count": 116,
   "metadata": {
    "scrolled": true
   },
   "outputs": [
    {
     "data": {
      "image/png": "[encoded data removed]",
      "text/plain": [
       "<Figure size 432x288 with 1 Axes>"
      ]
     },
     "metadata": {
      "needs_background": "light"
     },
     "output_type": "display_data"
    }
   ],
   "source": [
    "plt.scatter(coords[:,0],coords[:,1])\n",
    "plt.title('Var1 vs Var2')\n",
    "for i in range(df.shape[0]):\n",
    "    plt.annotate(df.index[i][1],(coords[i,0],coords[i,1])) \n",
    "None"
   ]
  },
  {
   "cell_type": "code",
   "execution_count": null,
   "metadata": {},
   "outputs": [],
   "source": []
  }
 ],
 "metadata": {
  "kernelspec": {
   "display_name": "Python 3",
   "language": "python",
   "name": "python3"
  },
  "language_info": {
   "codemirror_mode": {
    "name": "ipython",
    "version": 3
   },
   "file_extension": ".py",
   "mimetype": "text/x-python",
   "name": "python",
   "nbconvert_exporter": "python",
   "pygments_lexer": "ipython3",
   "version": "3.8.8"
  }
 },
 "nbformat": 4,
 "nbformat_minor": 4
}
