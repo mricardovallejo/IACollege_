{
 "cells": [
  {
   "cell_type": "markdown",
   "metadata": {},
   "source": [
    "# AFDM\n",
    "\n",
    " - Author:  Ricardo Vallejo R."
   ]
  },
  {
   "cell_type": "markdown",
   "metadata": {},
   "source": [
    "# 1. téléchargez le contenu de la base de données et affichez son contenue"
   ]
  },
  {
   "cell_type": "code",
   "execution_count": 86,
   "metadata": {},
   "outputs": [
    {
     "data": {
      "text/html": [
       "<div>\n",
       "<style scoped>\n",
       "    .dataframe tbody tr th:only-of-type {\n",
       "        vertical-align: middle;\n",
       "    }\n",
       "\n",
       "    .dataframe tbody tr th {\n",
       "        vertical-align: top;\n",
       "    }\n",
       "\n",
       "    .dataframe thead th {\n",
       "        text-align: right;\n",
       "    }\n",
       "</style>\n",
       "<table border=\"1\" class=\"dataframe\">\n",
       "  <thead>\n",
       "    <tr style=\"text-align: right;\">\n",
       "      <th></th>\n",
       "      <th>Modele</th>\n",
       "      <th>puissance</th>\n",
       "      <th>longueur</th>\n",
       "      <th>hauteur</th>\n",
       "      <th>poids</th>\n",
       "      <th>CO2</th>\n",
       "      <th>origine</th>\n",
       "      <th>carburant</th>\n",
       "      <th>4X4</th>\n",
       "    </tr>\n",
       "  </thead>\n",
       "  <tbody>\n",
       "    <tr>\n",
       "      <th>0</th>\n",
       "      <td>GOLF</td>\n",
       "      <td>75</td>\n",
       "      <td>421</td>\n",
       "      <td>149</td>\n",
       "      <td>1217</td>\n",
       "      <td>143</td>\n",
       "      <td>Europe</td>\n",
       "      <td>Diesel</td>\n",
       "      <td>non</td>\n",
       "    </tr>\n",
       "    <tr>\n",
       "      <th>1</th>\n",
       "      <td>CITRONC4</td>\n",
       "      <td>138</td>\n",
       "      <td>426</td>\n",
       "      <td>146</td>\n",
       "      <td>1381</td>\n",
       "      <td>142</td>\n",
       "      <td>France</td>\n",
       "      <td>Diesel</td>\n",
       "      <td>non</td>\n",
       "    </tr>\n",
       "    <tr>\n",
       "      <th>2</th>\n",
       "      <td>P607</td>\n",
       "      <td>204</td>\n",
       "      <td>491</td>\n",
       "      <td>145</td>\n",
       "      <td>1723</td>\n",
       "      <td>223</td>\n",
       "      <td>France</td>\n",
       "      <td>Diesel</td>\n",
       "      <td>non</td>\n",
       "    </tr>\n",
       "    <tr>\n",
       "      <th>3</th>\n",
       "      <td>VELSATIS</td>\n",
       "      <td>150</td>\n",
       "      <td>486</td>\n",
       "      <td>158</td>\n",
       "      <td>1735</td>\n",
       "      <td>188</td>\n",
       "      <td>France</td>\n",
       "      <td>Diesel</td>\n",
       "      <td>non</td>\n",
       "    </tr>\n",
       "    <tr>\n",
       "      <th>4</th>\n",
       "      <td>CITRONC2</td>\n",
       "      <td>61</td>\n",
       "      <td>367</td>\n",
       "      <td>147</td>\n",
       "      <td>932</td>\n",
       "      <td>141</td>\n",
       "      <td>France</td>\n",
       "      <td>Essence</td>\n",
       "      <td>non</td>\n",
       "    </tr>\n",
       "    <tr>\n",
       "      <th>5</th>\n",
       "      <td>CHRYS300</td>\n",
       "      <td>340</td>\n",
       "      <td>502</td>\n",
       "      <td>148</td>\n",
       "      <td>1835</td>\n",
       "      <td>291</td>\n",
       "      <td>Autres</td>\n",
       "      <td>Essence</td>\n",
       "      <td>non</td>\n",
       "    </tr>\n",
       "    <tr>\n",
       "      <th>6</th>\n",
       "      <td>AUDIA3</td>\n",
       "      <td>102</td>\n",
       "      <td>421</td>\n",
       "      <td>143</td>\n",
       "      <td>1205</td>\n",
       "      <td>168</td>\n",
       "      <td>Europe</td>\n",
       "      <td>Essence</td>\n",
       "      <td>non</td>\n",
       "    </tr>\n",
       "    <tr>\n",
       "      <th>7</th>\n",
       "      <td>OUTLAND</td>\n",
       "      <td>202</td>\n",
       "      <td>455</td>\n",
       "      <td>167</td>\n",
       "      <td>1595</td>\n",
       "      <td>237</td>\n",
       "      <td>Autres</td>\n",
       "      <td>Diesel</td>\n",
       "      <td>oui</td>\n",
       "    </tr>\n",
       "    <tr>\n",
       "      <th>8</th>\n",
       "      <td>PTCRUISER</td>\n",
       "      <td>223</td>\n",
       "      <td>429</td>\n",
       "      <td>154</td>\n",
       "      <td>1595</td>\n",
       "      <td>235</td>\n",
       "      <td>Autres</td>\n",
       "      <td>Essence</td>\n",
       "      <td>non</td>\n",
       "    </tr>\n",
       "    <tr>\n",
       "      <th>9</th>\n",
       "      <td>SANTA_FE</td>\n",
       "      <td>125</td>\n",
       "      <td>450</td>\n",
       "      <td>173</td>\n",
       "      <td>1757</td>\n",
       "      <td>197</td>\n",
       "      <td>Autres</td>\n",
       "      <td>Diesel</td>\n",
       "      <td>oui</td>\n",
       "    </tr>\n",
       "  </tbody>\n",
       "</table>\n",
       "</div>"
      ],
      "text/plain": [
       "         Modele  puissance  longueur  hauteur  poids  CO2 origine carburant  \\\n",
       "0  GOLF                 75       421      149   1217  143  Europe    Diesel   \n",
       "1  CITRONC4            138       426      146   1381  142  France    Diesel   \n",
       "2  P607                204       491      145   1723  223  France    Diesel   \n",
       "3  VELSATIS            150       486      158   1735  188  France    Diesel   \n",
       "4  CITRONC2             61       367      147    932  141  France   Essence   \n",
       "5  CHRYS300            340       502      148   1835  291  Autres   Essence   \n",
       "6  AUDIA3              102       421      143   1205  168  Europe   Essence   \n",
       "7  OUTLAND             202       455      167   1595  237  Autres    Diesel   \n",
       "8  PTCRUISER           223       429      154   1595  235  Autres   Essence   \n",
       "9  SANTA_FE            125       450      173   1757  197  Autres    Diesel   \n",
       "\n",
       "   4X4  \n",
       "0  non  \n",
       "1  non  \n",
       "2  non  \n",
       "3  non  \n",
       "4  non  \n",
       "5  non  \n",
       "6  non  \n",
       "7  oui  \n",
       "8  non  \n",
       "9  oui  "
      ]
     },
     "execution_count": 86,
     "metadata": {},
     "output_type": "execute_result"
    }
   ],
   "source": [
    "import pandas as pd\n",
    "import matplotlib.pyplot as plt\n",
    "import statistics\n",
    "import numpy as np\n",
    "import scipy.stats\n",
    "import seaborn as sns\n",
    "\n",
    "dataOriginal = pd.read_excel(\"Autos_Mixtes.xlsx\")\n",
    "pd.set_option('display.max_rows', None)\n",
    "n_data = dataOriginal.shape[0]\n",
    "\n",
    "dataOriginal"
   ]
  },
  {
   "cell_type": "markdown",
   "metadata": {},
   "source": [
    "# 2. Identifiez les données quantitatives et les données qualitatives"
   ]
  },
  {
   "cell_type": "code",
   "execution_count": 87,
   "metadata": {},
   "outputs": [],
   "source": [
    "v_qualitative = ['origine', 'carburant', '4X4']\n",
    "v_quantitative = ['puissance', 'longueur', 'hauteur', 'poids', 'CO2']"
   ]
  },
  {
   "cell_type": "markdown",
   "metadata": {},
   "source": [
    "# 3. Effectuez la préparation des données quantitatives en vue d’une analyse factorielle"
   ]
  },
  {
   "cell_type": "markdown",
   "metadata": {},
   "source": [
    "# Variables Quantitatives"
   ]
  },
  {
   "cell_type": "code",
   "execution_count": 88,
   "metadata": {},
   "outputs": [],
   "source": [
    "\n",
    "Z1 = dataOriginal[v_quantitative]"
   ]
  },
  {
   "cell_type": "code",
   "execution_count": 89,
   "metadata": {},
   "outputs": [
    {
     "data": {
      "text/html": [
       "<div>\n",
       "<style scoped>\n",
       "    .dataframe tbody tr th:only-of-type {\n",
       "        vertical-align: middle;\n",
       "    }\n",
       "\n",
       "    .dataframe tbody tr th {\n",
       "        vertical-align: top;\n",
       "    }\n",
       "\n",
       "    .dataframe thead th {\n",
       "        text-align: right;\n",
       "    }\n",
       "</style>\n",
       "<table border=\"1\" class=\"dataframe\">\n",
       "  <thead>\n",
       "    <tr style=\"text-align: right;\">\n",
       "      <th></th>\n",
       "      <th>puissance</th>\n",
       "      <th>longueur</th>\n",
       "      <th>hauteur</th>\n",
       "      <th>poids</th>\n",
       "      <th>CO2</th>\n",
       "    </tr>\n",
       "  </thead>\n",
       "  <tbody>\n",
       "    <tr>\n",
       "      <th>0</th>\n",
       "      <td>-1.103</td>\n",
       "      <td>-0.614</td>\n",
       "      <td>-0.419</td>\n",
       "      <td>-0.989</td>\n",
       "      <td>-1.127</td>\n",
       "    </tr>\n",
       "    <tr>\n",
       "      <th>1</th>\n",
       "      <td>-0.304</td>\n",
       "      <td>-0.485</td>\n",
       "      <td>-0.733</td>\n",
       "      <td>-0.411</td>\n",
       "      <td>-1.148</td>\n",
       "    </tr>\n",
       "    <tr>\n",
       "      <th>2</th>\n",
       "      <td>0.532</td>\n",
       "      <td>1.192</td>\n",
       "      <td>-0.838</td>\n",
       "      <td>0.795</td>\n",
       "      <td>0.558</td>\n",
       "    </tr>\n",
       "    <tr>\n",
       "      <th>3</th>\n",
       "      <td>-0.152</td>\n",
       "      <td>1.063</td>\n",
       "      <td>0.524</td>\n",
       "      <td>0.837</td>\n",
       "      <td>-0.179</td>\n",
       "    </tr>\n",
       "    <tr>\n",
       "      <th>4</th>\n",
       "      <td>-1.280</td>\n",
       "      <td>-2.007</td>\n",
       "      <td>-0.628</td>\n",
       "      <td>-1.993</td>\n",
       "      <td>-1.169</td>\n",
       "    </tr>\n",
       "    <tr>\n",
       "      <th>5</th>\n",
       "      <td>2.256</td>\n",
       "      <td>1.476</td>\n",
       "      <td>-0.524</td>\n",
       "      <td>1.189</td>\n",
       "      <td>1.990</td>\n",
       "    </tr>\n",
       "    <tr>\n",
       "      <th>6</th>\n",
       "      <td>-0.761</td>\n",
       "      <td>-0.614</td>\n",
       "      <td>-1.047</td>\n",
       "      <td>-1.031</td>\n",
       "      <td>-0.600</td>\n",
       "    </tr>\n",
       "    <tr>\n",
       "      <th>7</th>\n",
       "      <td>0.507</td>\n",
       "      <td>0.263</td>\n",
       "      <td>1.466</td>\n",
       "      <td>0.344</td>\n",
       "      <td>0.853</td>\n",
       "    </tr>\n",
       "    <tr>\n",
       "      <th>8</th>\n",
       "      <td>0.773</td>\n",
       "      <td>-0.408</td>\n",
       "      <td>0.105</td>\n",
       "      <td>0.344</td>\n",
       "      <td>0.811</td>\n",
       "    </tr>\n",
       "    <tr>\n",
       "      <th>9</th>\n",
       "      <td>-0.469</td>\n",
       "      <td>0.134</td>\n",
       "      <td>2.094</td>\n",
       "      <td>0.915</td>\n",
       "      <td>0.011</td>\n",
       "    </tr>\n",
       "  </tbody>\n",
       "</table>\n",
       "</div>"
      ],
      "text/plain": [
       "   puissance  longueur  hauteur  poids    CO2\n",
       "0     -1.103    -0.614   -0.419 -0.989 -1.127\n",
       "1     -0.304    -0.485   -0.733 -0.411 -1.148\n",
       "2      0.532     1.192   -0.838  0.795  0.558\n",
       "3     -0.152     1.063    0.524  0.837 -0.179\n",
       "4     -1.280    -2.007   -0.628 -1.993 -1.169\n",
       "5      2.256     1.476   -0.524  1.189  1.990\n",
       "6     -0.761    -0.614   -1.047 -1.031 -0.600\n",
       "7      0.507     0.263    1.466  0.344  0.853\n",
       "8      0.773    -0.408    0.105  0.344  0.811\n",
       "9     -0.469     0.134    2.094  0.915  0.011"
      ]
     },
     "execution_count": 89,
     "metadata": {},
     "output_type": "execute_result"
    }
   ],
   "source": [
    "from sklearn.preprocessing import StandardScaler\n",
    "\n",
    "scaler = StandardScaler()\n",
    "scaler.fit(Z1)\n",
    "Z1_std = scaler.transform(Z1)\n",
    "Z1_standarized = pd.DataFrame(Z1_std)\n",
    "Z1_standarized = pd.DataFrame(Z1_std, columns=Z1.columns)\n",
    "Z1_standarized.round(3)"
   ]
  },
  {
   "cell_type": "code",
   "execution_count": 90,
   "metadata": {},
   "outputs": [
    {
     "data": {
      "text/html": [
       "<div>\n",
       "<style scoped>\n",
       "    .dataframe tbody tr th:only-of-type {\n",
       "        vertical-align: middle;\n",
       "    }\n",
       "\n",
       "    .dataframe tbody tr th {\n",
       "        vertical-align: top;\n",
       "    }\n",
       "\n",
       "    .dataframe thead th {\n",
       "        text-align: right;\n",
       "    }\n",
       "</style>\n",
       "<table border=\"1\" class=\"dataframe\">\n",
       "  <thead>\n",
       "    <tr style=\"text-align: right;\">\n",
       "      <th></th>\n",
       "      <th>puissance</th>\n",
       "      <th>longueur</th>\n",
       "      <th>hauteur</th>\n",
       "      <th>poids</th>\n",
       "      <th>CO2</th>\n",
       "    </tr>\n",
       "  </thead>\n",
       "  <tbody>\n",
       "    <tr>\n",
       "      <th>count</th>\n",
       "      <td>10.000</td>\n",
       "      <td>10.000</td>\n",
       "      <td>10.000</td>\n",
       "      <td>10.000</td>\n",
       "      <td>10.000</td>\n",
       "    </tr>\n",
       "    <tr>\n",
       "      <th>mean</th>\n",
       "      <td>-0.000</td>\n",
       "      <td>-0.000</td>\n",
       "      <td>-0.000</td>\n",
       "      <td>0.000</td>\n",
       "      <td>-0.000</td>\n",
       "    </tr>\n",
       "    <tr>\n",
       "      <th>std</th>\n",
       "      <td>1.054</td>\n",
       "      <td>1.054</td>\n",
       "      <td>1.054</td>\n",
       "      <td>1.054</td>\n",
       "      <td>1.054</td>\n",
       "    </tr>\n",
       "    <tr>\n",
       "      <th>min</th>\n",
       "      <td>-1.280</td>\n",
       "      <td>-2.007</td>\n",
       "      <td>-1.047</td>\n",
       "      <td>-1.993</td>\n",
       "      <td>-1.169</td>\n",
       "    </tr>\n",
       "    <tr>\n",
       "      <th>25%</th>\n",
       "      <td>-0.688</td>\n",
       "      <td>-0.582</td>\n",
       "      <td>-0.707</td>\n",
       "      <td>-0.844</td>\n",
       "      <td>-0.995</td>\n",
       "    </tr>\n",
       "    <tr>\n",
       "      <th>50%</th>\n",
       "      <td>-0.228</td>\n",
       "      <td>-0.137</td>\n",
       "      <td>-0.471</td>\n",
       "      <td>0.344</td>\n",
       "      <td>-0.084</td>\n",
       "    </tr>\n",
       "    <tr>\n",
       "      <th>75%</th>\n",
       "      <td>0.526</td>\n",
       "      <td>0.863</td>\n",
       "      <td>0.419</td>\n",
       "      <td>0.826</td>\n",
       "      <td>0.748</td>\n",
       "    </tr>\n",
       "    <tr>\n",
       "      <th>max</th>\n",
       "      <td>2.256</td>\n",
       "      <td>1.476</td>\n",
       "      <td>2.094</td>\n",
       "      <td>1.189</td>\n",
       "      <td>1.990</td>\n",
       "    </tr>\n",
       "  </tbody>\n",
       "</table>\n",
       "</div>"
      ],
      "text/plain": [
       "       puissance  longueur  hauteur   poids     CO2\n",
       "count     10.000    10.000   10.000  10.000  10.000\n",
       "mean      -0.000    -0.000   -0.000   0.000  -0.000\n",
       "std        1.054     1.054    1.054   1.054   1.054\n",
       "min       -1.280    -2.007   -1.047  -1.993  -1.169\n",
       "25%       -0.688    -0.582   -0.707  -0.844  -0.995\n",
       "50%       -0.228    -0.137   -0.471   0.344  -0.084\n",
       "75%        0.526     0.863    0.419   0.826   0.748\n",
       "max        2.256     1.476    2.094   1.189   1.990"
      ]
     },
     "execution_count": 90,
     "metadata": {},
     "output_type": "execute_result"
    }
   ],
   "source": [
    "Z1_standarized.describe().round(3)"
   ]
  },
  {
   "cell_type": "markdown",
   "metadata": {},
   "source": [
    "# Variables Qualitatives"
   ]
  },
  {
   "cell_type": "markdown",
   "metadata": {},
   "source": [
    "4. Représentez les données qualitatives sous la forme d’un tableau disjonctif (TDC) en vue d’une analyse factorielle."
   ]
  },
  {
   "cell_type": "code",
   "execution_count": 91,
   "metadata": {},
   "outputs": [],
   "source": [
    "dataX = dataOriginal[v_qualitative]\n",
    "K_disj = pd.get_dummies(dataX,prefix='',prefix_sep='')"
   ]
  },
  {
   "cell_type": "code",
   "execution_count": 92,
   "metadata": {},
   "outputs": [
    {
     "data": {
      "text/html": [
       "<div>\n",
       "<style scoped>\n",
       "    .dataframe tbody tr th:only-of-type {\n",
       "        vertical-align: middle;\n",
       "    }\n",
       "\n",
       "    .dataframe tbody tr th {\n",
       "        vertical-align: top;\n",
       "    }\n",
       "\n",
       "    .dataframe thead th {\n",
       "        text-align: right;\n",
       "    }\n",
       "</style>\n",
       "<table border=\"1\" class=\"dataframe\">\n",
       "  <thead>\n",
       "    <tr style=\"text-align: right;\">\n",
       "      <th></th>\n",
       "      <th>Autres</th>\n",
       "      <th>Europe</th>\n",
       "      <th>France</th>\n",
       "      <th>Diesel</th>\n",
       "      <th>Essence</th>\n",
       "      <th>non</th>\n",
       "      <th>oui</th>\n",
       "    </tr>\n",
       "  </thead>\n",
       "  <tbody>\n",
       "    <tr>\n",
       "      <th>0</th>\n",
       "      <td>0</td>\n",
       "      <td>1</td>\n",
       "      <td>0</td>\n",
       "      <td>1</td>\n",
       "      <td>0</td>\n",
       "      <td>1</td>\n",
       "      <td>0</td>\n",
       "    </tr>\n",
       "    <tr>\n",
       "      <th>1</th>\n",
       "      <td>0</td>\n",
       "      <td>0</td>\n",
       "      <td>1</td>\n",
       "      <td>1</td>\n",
       "      <td>0</td>\n",
       "      <td>1</td>\n",
       "      <td>0</td>\n",
       "    </tr>\n",
       "    <tr>\n",
       "      <th>2</th>\n",
       "      <td>0</td>\n",
       "      <td>0</td>\n",
       "      <td>1</td>\n",
       "      <td>1</td>\n",
       "      <td>0</td>\n",
       "      <td>1</td>\n",
       "      <td>0</td>\n",
       "    </tr>\n",
       "    <tr>\n",
       "      <th>3</th>\n",
       "      <td>0</td>\n",
       "      <td>0</td>\n",
       "      <td>1</td>\n",
       "      <td>1</td>\n",
       "      <td>0</td>\n",
       "      <td>1</td>\n",
       "      <td>0</td>\n",
       "    </tr>\n",
       "    <tr>\n",
       "      <th>4</th>\n",
       "      <td>0</td>\n",
       "      <td>0</td>\n",
       "      <td>1</td>\n",
       "      <td>0</td>\n",
       "      <td>1</td>\n",
       "      <td>1</td>\n",
       "      <td>0</td>\n",
       "    </tr>\n",
       "    <tr>\n",
       "      <th>5</th>\n",
       "      <td>1</td>\n",
       "      <td>0</td>\n",
       "      <td>0</td>\n",
       "      <td>0</td>\n",
       "      <td>1</td>\n",
       "      <td>1</td>\n",
       "      <td>0</td>\n",
       "    </tr>\n",
       "    <tr>\n",
       "      <th>6</th>\n",
       "      <td>0</td>\n",
       "      <td>1</td>\n",
       "      <td>0</td>\n",
       "      <td>0</td>\n",
       "      <td>1</td>\n",
       "      <td>1</td>\n",
       "      <td>0</td>\n",
       "    </tr>\n",
       "    <tr>\n",
       "      <th>7</th>\n",
       "      <td>1</td>\n",
       "      <td>0</td>\n",
       "      <td>0</td>\n",
       "      <td>1</td>\n",
       "      <td>0</td>\n",
       "      <td>0</td>\n",
       "      <td>1</td>\n",
       "    </tr>\n",
       "    <tr>\n",
       "      <th>8</th>\n",
       "      <td>1</td>\n",
       "      <td>0</td>\n",
       "      <td>0</td>\n",
       "      <td>0</td>\n",
       "      <td>1</td>\n",
       "      <td>1</td>\n",
       "      <td>0</td>\n",
       "    </tr>\n",
       "    <tr>\n",
       "      <th>9</th>\n",
       "      <td>1</td>\n",
       "      <td>0</td>\n",
       "      <td>0</td>\n",
       "      <td>1</td>\n",
       "      <td>0</td>\n",
       "      <td>0</td>\n",
       "      <td>1</td>\n",
       "    </tr>\n",
       "  </tbody>\n",
       "</table>\n",
       "</div>"
      ],
      "text/plain": [
       "   Autres  Europe  France  Diesel  Essence  non  oui\n",
       "0       0       1       0       1        0    1    0\n",
       "1       0       0       1       1        0    1    0\n",
       "2       0       0       1       1        0    1    0\n",
       "3       0       0       1       1        0    1    0\n",
       "4       0       0       1       0        1    1    0\n",
       "5       1       0       0       0        1    1    0\n",
       "6       0       1       0       0        1    1    0\n",
       "7       1       0       0       1        0    0    1\n",
       "8       1       0       0       0        1    1    0\n",
       "9       1       0       0       1        0    0    1"
      ]
     },
     "execution_count": 92,
     "metadata": {},
     "output_type": "execute_result"
    }
   ],
   "source": [
    "K_disj"
   ]
  },
  {
   "cell_type": "code",
   "execution_count": 93,
   "metadata": {},
   "outputs": [
    {
     "data": {
      "text/plain": [
       "Index(['Autres', 'Europe', 'France', 'Diesel', 'Essence', 'non', 'oui'], dtype='object')"
      ]
     },
     "execution_count": 93,
     "metadata": {},
     "output_type": "execute_result"
    }
   ],
   "source": [
    "columnsx=K_disj.columns\n",
    "columnsx"
   ]
  },
  {
   "cell_type": "code",
   "execution_count": 94,
   "metadata": {},
   "outputs": [
    {
     "data": {
      "text/html": [
       "<div>\n",
       "<style scoped>\n",
       "    .dataframe tbody tr th:only-of-type {\n",
       "        vertical-align: middle;\n",
       "    }\n",
       "\n",
       "    .dataframe tbody tr th {\n",
       "        vertical-align: top;\n",
       "    }\n",
       "\n",
       "    .dataframe thead th {\n",
       "        text-align: right;\n",
       "    }\n",
       "</style>\n",
       "<table border=\"1\" class=\"dataframe\">\n",
       "  <thead>\n",
       "    <tr style=\"text-align: right;\">\n",
       "      <th></th>\n",
       "      <th>0</th>\n",
       "    </tr>\n",
       "  </thead>\n",
       "  <tbody>\n",
       "    <tr>\n",
       "      <th>Autres</th>\n",
       "      <td>4</td>\n",
       "    </tr>\n",
       "    <tr>\n",
       "      <th>Europe</th>\n",
       "      <td>2</td>\n",
       "    </tr>\n",
       "    <tr>\n",
       "      <th>France</th>\n",
       "      <td>4</td>\n",
       "    </tr>\n",
       "    <tr>\n",
       "      <th>Diesel</th>\n",
       "      <td>6</td>\n",
       "    </tr>\n",
       "    <tr>\n",
       "      <th>Essence</th>\n",
       "      <td>4</td>\n",
       "    </tr>\n",
       "    <tr>\n",
       "      <th>non</th>\n",
       "      <td>8</td>\n",
       "    </tr>\n",
       "    <tr>\n",
       "      <th>oui</th>\n",
       "      <td>2</td>\n",
       "    </tr>\n",
       "  </tbody>\n",
       "</table>\n",
       "</div>"
      ],
      "text/plain": [
       "         0\n",
       "Autres   4\n",
       "Europe   2\n",
       "France   4\n",
       "Diesel   6\n",
       "Essence  4\n",
       "non      8\n",
       "oui      2"
      ]
     },
     "execution_count": 94,
     "metadata": {},
     "output_type": "execute_result"
    }
   ],
   "source": [
    "Nj = K_disj[columnsx].sum()\n",
    "Nj.to_frame()"
   ]
  },
  {
   "cell_type": "code",
   "execution_count": 95,
   "metadata": {},
   "outputs": [
    {
     "data": {
      "text/plain": [
       "10"
      ]
     },
     "execution_count": 95,
     "metadata": {},
     "output_type": "execute_result"
    }
   ],
   "source": [
    "N = dataOriginal.shape[0]\n",
    "N"
   ]
  },
  {
   "cell_type": "code",
   "execution_count": 96,
   "metadata": {},
   "outputs": [
    {
     "data": {
      "text/html": [
       "<div>\n",
       "<style scoped>\n",
       "    .dataframe tbody tr th:only-of-type {\n",
       "        vertical-align: middle;\n",
       "    }\n",
       "\n",
       "    .dataframe tbody tr th {\n",
       "        vertical-align: top;\n",
       "    }\n",
       "\n",
       "    .dataframe thead th {\n",
       "        text-align: right;\n",
       "    }\n",
       "</style>\n",
       "<table border=\"1\" class=\"dataframe\">\n",
       "  <thead>\n",
       "    <tr style=\"text-align: right;\">\n",
       "      <th></th>\n",
       "      <th>0</th>\n",
       "    </tr>\n",
       "  </thead>\n",
       "  <tbody>\n",
       "    <tr>\n",
       "      <th>Autres</th>\n",
       "      <td>0.4</td>\n",
       "    </tr>\n",
       "    <tr>\n",
       "      <th>Europe</th>\n",
       "      <td>0.2</td>\n",
       "    </tr>\n",
       "    <tr>\n",
       "      <th>France</th>\n",
       "      <td>0.4</td>\n",
       "    </tr>\n",
       "    <tr>\n",
       "      <th>Diesel</th>\n",
       "      <td>0.6</td>\n",
       "    </tr>\n",
       "    <tr>\n",
       "      <th>Essence</th>\n",
       "      <td>0.4</td>\n",
       "    </tr>\n",
       "    <tr>\n",
       "      <th>non</th>\n",
       "      <td>0.8</td>\n",
       "    </tr>\n",
       "    <tr>\n",
       "      <th>oui</th>\n",
       "      <td>0.2</td>\n",
       "    </tr>\n",
       "  </tbody>\n",
       "</table>\n",
       "</div>"
      ],
      "text/plain": [
       "           0\n",
       "Autres   0.4\n",
       "Europe   0.2\n",
       "France   0.4\n",
       "Diesel   0.6\n",
       "Essence  0.4\n",
       "non      0.8\n",
       "oui      0.2"
      ]
     },
     "execution_count": 96,
     "metadata": {},
     "output_type": "execute_result"
    }
   ],
   "source": [
    "Pj = Nj / N\n",
    "Pj.to_frame()"
   ]
  },
  {
   "cell_type": "code",
   "execution_count": null,
   "metadata": {},
   "outputs": [],
   "source": []
  },
  {
   "cell_type": "markdown",
   "metadata": {},
   "source": [
    "# Normalisation variables qualitatives"
   ]
  },
  {
   "cell_type": "markdown",
   "metadata": {},
   "source": [
    "5. Représentez une matrice sommaire des données"
   ]
  },
  {
   "cell_type": "code",
   "execution_count": 97,
   "metadata": {},
   "outputs": [
    {
     "data": {
      "text/html": [
       "<div>\n",
       "<style scoped>\n",
       "    .dataframe tbody tr th:only-of-type {\n",
       "        vertical-align: middle;\n",
       "    }\n",
       "\n",
       "    .dataframe tbody tr th {\n",
       "        vertical-align: top;\n",
       "    }\n",
       "\n",
       "    .dataframe thead th {\n",
       "        text-align: right;\n",
       "    }\n",
       "</style>\n",
       "<table border=\"1\" class=\"dataframe\">\n",
       "  <thead>\n",
       "    <tr style=\"text-align: right;\">\n",
       "      <th></th>\n",
       "      <th>Autres</th>\n",
       "      <th>Europe</th>\n",
       "      <th>France</th>\n",
       "      <th>Diesel</th>\n",
       "      <th>Essence</th>\n",
       "      <th>non</th>\n",
       "      <th>oui</th>\n",
       "    </tr>\n",
       "  </thead>\n",
       "  <tbody>\n",
       "    <tr>\n",
       "      <th>0</th>\n",
       "      <td>0.000000</td>\n",
       "      <td>2.236068</td>\n",
       "      <td>0.000000</td>\n",
       "      <td>1.290994</td>\n",
       "      <td>0.000000</td>\n",
       "      <td>1.118034</td>\n",
       "      <td>0.000000</td>\n",
       "    </tr>\n",
       "    <tr>\n",
       "      <th>1</th>\n",
       "      <td>0.000000</td>\n",
       "      <td>0.000000</td>\n",
       "      <td>1.581139</td>\n",
       "      <td>1.290994</td>\n",
       "      <td>0.000000</td>\n",
       "      <td>1.118034</td>\n",
       "      <td>0.000000</td>\n",
       "    </tr>\n",
       "    <tr>\n",
       "      <th>2</th>\n",
       "      <td>0.000000</td>\n",
       "      <td>0.000000</td>\n",
       "      <td>1.581139</td>\n",
       "      <td>1.290994</td>\n",
       "      <td>0.000000</td>\n",
       "      <td>1.118034</td>\n",
       "      <td>0.000000</td>\n",
       "    </tr>\n",
       "    <tr>\n",
       "      <th>3</th>\n",
       "      <td>0.000000</td>\n",
       "      <td>0.000000</td>\n",
       "      <td>1.581139</td>\n",
       "      <td>1.290994</td>\n",
       "      <td>0.000000</td>\n",
       "      <td>1.118034</td>\n",
       "      <td>0.000000</td>\n",
       "    </tr>\n",
       "    <tr>\n",
       "      <th>4</th>\n",
       "      <td>0.000000</td>\n",
       "      <td>0.000000</td>\n",
       "      <td>1.581139</td>\n",
       "      <td>0.000000</td>\n",
       "      <td>1.581139</td>\n",
       "      <td>1.118034</td>\n",
       "      <td>0.000000</td>\n",
       "    </tr>\n",
       "    <tr>\n",
       "      <th>5</th>\n",
       "      <td>1.581139</td>\n",
       "      <td>0.000000</td>\n",
       "      <td>0.000000</td>\n",
       "      <td>0.000000</td>\n",
       "      <td>1.581139</td>\n",
       "      <td>1.118034</td>\n",
       "      <td>0.000000</td>\n",
       "    </tr>\n",
       "    <tr>\n",
       "      <th>6</th>\n",
       "      <td>0.000000</td>\n",
       "      <td>2.236068</td>\n",
       "      <td>0.000000</td>\n",
       "      <td>0.000000</td>\n",
       "      <td>1.581139</td>\n",
       "      <td>1.118034</td>\n",
       "      <td>0.000000</td>\n",
       "    </tr>\n",
       "    <tr>\n",
       "      <th>7</th>\n",
       "      <td>1.581139</td>\n",
       "      <td>0.000000</td>\n",
       "      <td>0.000000</td>\n",
       "      <td>1.290994</td>\n",
       "      <td>0.000000</td>\n",
       "      <td>0.000000</td>\n",
       "      <td>2.236068</td>\n",
       "    </tr>\n",
       "    <tr>\n",
       "      <th>8</th>\n",
       "      <td>1.581139</td>\n",
       "      <td>0.000000</td>\n",
       "      <td>0.000000</td>\n",
       "      <td>0.000000</td>\n",
       "      <td>1.581139</td>\n",
       "      <td>1.118034</td>\n",
       "      <td>0.000000</td>\n",
       "    </tr>\n",
       "    <tr>\n",
       "      <th>9</th>\n",
       "      <td>1.581139</td>\n",
       "      <td>0.000000</td>\n",
       "      <td>0.000000</td>\n",
       "      <td>1.290994</td>\n",
       "      <td>0.000000</td>\n",
       "      <td>0.000000</td>\n",
       "      <td>2.236068</td>\n",
       "    </tr>\n",
       "  </tbody>\n",
       "</table>\n",
       "</div>"
      ],
      "text/plain": [
       "     Autres    Europe    France    Diesel   Essence       non       oui\n",
       "0  0.000000  2.236068  0.000000  1.290994  0.000000  1.118034  0.000000\n",
       "1  0.000000  0.000000  1.581139  1.290994  0.000000  1.118034  0.000000\n",
       "2  0.000000  0.000000  1.581139  1.290994  0.000000  1.118034  0.000000\n",
       "3  0.000000  0.000000  1.581139  1.290994  0.000000  1.118034  0.000000\n",
       "4  0.000000  0.000000  1.581139  0.000000  1.581139  1.118034  0.000000\n",
       "5  1.581139  0.000000  0.000000  0.000000  1.581139  1.118034  0.000000\n",
       "6  0.000000  2.236068  0.000000  0.000000  1.581139  1.118034  0.000000\n",
       "7  1.581139  0.000000  0.000000  1.290994  0.000000  0.000000  2.236068\n",
       "8  1.581139  0.000000  0.000000  0.000000  1.581139  1.118034  0.000000\n",
       "9  1.581139  0.000000  0.000000  1.290994  0.000000  0.000000  2.236068"
      ]
     },
     "execution_count": 97,
     "metadata": {},
     "output_type": "execute_result"
    }
   ],
   "source": [
    "import math \n",
    "\n",
    "Z2 = pd.DataFrame(columns=K_disj.columns) \n",
    "for col in K_disj.columns:\n",
    "    Z2[col] = K_disj[col] / math.sqrt(Pj[col])\n",
    "Z2"
   ]
  },
  {
   "cell_type": "code",
   "execution_count": 98,
   "metadata": {},
   "outputs": [],
   "source": [
    "Z = pd.concat([Z1_standarized, Z2], axis=1).round(3)"
   ]
  },
  {
   "cell_type": "code",
   "execution_count": 99,
   "metadata": {},
   "outputs": [
    {
     "data": {
      "text/html": [
       "<div>\n",
       "<style scoped>\n",
       "    .dataframe tbody tr th:only-of-type {\n",
       "        vertical-align: middle;\n",
       "    }\n",
       "\n",
       "    .dataframe tbody tr th {\n",
       "        vertical-align: top;\n",
       "    }\n",
       "\n",
       "    .dataframe thead th {\n",
       "        text-align: right;\n",
       "    }\n",
       "</style>\n",
       "<table border=\"1\" class=\"dataframe\">\n",
       "  <thead>\n",
       "    <tr style=\"text-align: right;\">\n",
       "      <th></th>\n",
       "      <th>puissance</th>\n",
       "      <th>longueur</th>\n",
       "      <th>hauteur</th>\n",
       "      <th>poids</th>\n",
       "      <th>CO2</th>\n",
       "      <th>Autres</th>\n",
       "      <th>Europe</th>\n",
       "      <th>France</th>\n",
       "      <th>Diesel</th>\n",
       "      <th>Essence</th>\n",
       "      <th>non</th>\n",
       "      <th>oui</th>\n",
       "    </tr>\n",
       "  </thead>\n",
       "  <tbody>\n",
       "    <tr>\n",
       "      <th>0</th>\n",
       "      <td>-1.103</td>\n",
       "      <td>-0.614</td>\n",
       "      <td>-0.419</td>\n",
       "      <td>-0.989</td>\n",
       "      <td>-1.127</td>\n",
       "      <td>0.000</td>\n",
       "      <td>2.236</td>\n",
       "      <td>0.000</td>\n",
       "      <td>1.291</td>\n",
       "      <td>0.000</td>\n",
       "      <td>1.118</td>\n",
       "      <td>0.000</td>\n",
       "    </tr>\n",
       "    <tr>\n",
       "      <th>1</th>\n",
       "      <td>-0.304</td>\n",
       "      <td>-0.485</td>\n",
       "      <td>-0.733</td>\n",
       "      <td>-0.411</td>\n",
       "      <td>-1.148</td>\n",
       "      <td>0.000</td>\n",
       "      <td>0.000</td>\n",
       "      <td>1.581</td>\n",
       "      <td>1.291</td>\n",
       "      <td>0.000</td>\n",
       "      <td>1.118</td>\n",
       "      <td>0.000</td>\n",
       "    </tr>\n",
       "    <tr>\n",
       "      <th>2</th>\n",
       "      <td>0.532</td>\n",
       "      <td>1.192</td>\n",
       "      <td>-0.838</td>\n",
       "      <td>0.795</td>\n",
       "      <td>0.558</td>\n",
       "      <td>0.000</td>\n",
       "      <td>0.000</td>\n",
       "      <td>1.581</td>\n",
       "      <td>1.291</td>\n",
       "      <td>0.000</td>\n",
       "      <td>1.118</td>\n",
       "      <td>0.000</td>\n",
       "    </tr>\n",
       "    <tr>\n",
       "      <th>3</th>\n",
       "      <td>-0.152</td>\n",
       "      <td>1.063</td>\n",
       "      <td>0.524</td>\n",
       "      <td>0.837</td>\n",
       "      <td>-0.179</td>\n",
       "      <td>0.000</td>\n",
       "      <td>0.000</td>\n",
       "      <td>1.581</td>\n",
       "      <td>1.291</td>\n",
       "      <td>0.000</td>\n",
       "      <td>1.118</td>\n",
       "      <td>0.000</td>\n",
       "    </tr>\n",
       "    <tr>\n",
       "      <th>4</th>\n",
       "      <td>-1.280</td>\n",
       "      <td>-2.007</td>\n",
       "      <td>-0.628</td>\n",
       "      <td>-1.993</td>\n",
       "      <td>-1.169</td>\n",
       "      <td>0.000</td>\n",
       "      <td>0.000</td>\n",
       "      <td>1.581</td>\n",
       "      <td>0.000</td>\n",
       "      <td>1.581</td>\n",
       "      <td>1.118</td>\n",
       "      <td>0.000</td>\n",
       "    </tr>\n",
       "    <tr>\n",
       "      <th>5</th>\n",
       "      <td>2.256</td>\n",
       "      <td>1.476</td>\n",
       "      <td>-0.524</td>\n",
       "      <td>1.189</td>\n",
       "      <td>1.990</td>\n",
       "      <td>1.581</td>\n",
       "      <td>0.000</td>\n",
       "      <td>0.000</td>\n",
       "      <td>0.000</td>\n",
       "      <td>1.581</td>\n",
       "      <td>1.118</td>\n",
       "      <td>0.000</td>\n",
       "    </tr>\n",
       "    <tr>\n",
       "      <th>6</th>\n",
       "      <td>-0.761</td>\n",
       "      <td>-0.614</td>\n",
       "      <td>-1.047</td>\n",
       "      <td>-1.031</td>\n",
       "      <td>-0.600</td>\n",
       "      <td>0.000</td>\n",
       "      <td>2.236</td>\n",
       "      <td>0.000</td>\n",
       "      <td>0.000</td>\n",
       "      <td>1.581</td>\n",
       "      <td>1.118</td>\n",
       "      <td>0.000</td>\n",
       "    </tr>\n",
       "    <tr>\n",
       "      <th>7</th>\n",
       "      <td>0.507</td>\n",
       "      <td>0.263</td>\n",
       "      <td>1.466</td>\n",
       "      <td>0.344</td>\n",
       "      <td>0.853</td>\n",
       "      <td>1.581</td>\n",
       "      <td>0.000</td>\n",
       "      <td>0.000</td>\n",
       "      <td>1.291</td>\n",
       "      <td>0.000</td>\n",
       "      <td>0.000</td>\n",
       "      <td>2.236</td>\n",
       "    </tr>\n",
       "    <tr>\n",
       "      <th>8</th>\n",
       "      <td>0.773</td>\n",
       "      <td>-0.408</td>\n",
       "      <td>0.105</td>\n",
       "      <td>0.344</td>\n",
       "      <td>0.811</td>\n",
       "      <td>1.581</td>\n",
       "      <td>0.000</td>\n",
       "      <td>0.000</td>\n",
       "      <td>0.000</td>\n",
       "      <td>1.581</td>\n",
       "      <td>1.118</td>\n",
       "      <td>0.000</td>\n",
       "    </tr>\n",
       "    <tr>\n",
       "      <th>9</th>\n",
       "      <td>-0.469</td>\n",
       "      <td>0.134</td>\n",
       "      <td>2.094</td>\n",
       "      <td>0.915</td>\n",
       "      <td>0.011</td>\n",
       "      <td>1.581</td>\n",
       "      <td>0.000</td>\n",
       "      <td>0.000</td>\n",
       "      <td>1.291</td>\n",
       "      <td>0.000</td>\n",
       "      <td>0.000</td>\n",
       "      <td>2.236</td>\n",
       "    </tr>\n",
       "  </tbody>\n",
       "</table>\n",
       "</div>"
      ],
      "text/plain": [
       "   puissance  longueur  hauteur  poids    CO2  Autres  Europe  France  Diesel  \\\n",
       "0     -1.103    -0.614   -0.419 -0.989 -1.127   0.000   2.236   0.000   1.291   \n",
       "1     -0.304    -0.485   -0.733 -0.411 -1.148   0.000   0.000   1.581   1.291   \n",
       "2      0.532     1.192   -0.838  0.795  0.558   0.000   0.000   1.581   1.291   \n",
       "3     -0.152     1.063    0.524  0.837 -0.179   0.000   0.000   1.581   1.291   \n",
       "4     -1.280    -2.007   -0.628 -1.993 -1.169   0.000   0.000   1.581   0.000   \n",
       "5      2.256     1.476   -0.524  1.189  1.990   1.581   0.000   0.000   0.000   \n",
       "6     -0.761    -0.614   -1.047 -1.031 -0.600   0.000   2.236   0.000   0.000   \n",
       "7      0.507     0.263    1.466  0.344  0.853   1.581   0.000   0.000   1.291   \n",
       "8      0.773    -0.408    0.105  0.344  0.811   1.581   0.000   0.000   0.000   \n",
       "9     -0.469     0.134    2.094  0.915  0.011   1.581   0.000   0.000   1.291   \n",
       "\n",
       "   Essence    non    oui  \n",
       "0    0.000  1.118  0.000  \n",
       "1    0.000  1.118  0.000  \n",
       "2    0.000  1.118  0.000  \n",
       "3    0.000  1.118  0.000  \n",
       "4    1.581  1.118  0.000  \n",
       "5    1.581  1.118  0.000  \n",
       "6    1.581  1.118  0.000  \n",
       "7    0.000  0.000  2.236  \n",
       "8    1.581  1.118  0.000  \n",
       "9    0.000  0.000  2.236  "
      ]
     },
     "execution_count": 99,
     "metadata": {},
     "output_type": "execute_result"
    }
   ],
   "source": [
    "Z"
   ]
  },
  {
   "cell_type": "markdown",
   "metadata": {},
   "source": [
    "# Analysis AFDM"
   ]
  },
  {
   "cell_type": "code",
   "execution_count": 100,
   "metadata": {},
   "outputs": [
    {
     "ename": "AttributeError",
     "evalue": "'Series' object has no attribute 'reshape'",
     "output_type": "error",
     "traceback": [
      "\u001b[1;31m---------------------------------------------------------------------------\u001b[0m",
      "\u001b[1;31mAttributeError\u001b[0m                            Traceback (most recent call last)",
      "\u001b[1;32m<ipython-input-100-32b72e8b3fd9>\u001b[0m in \u001b[0;36m<module>\u001b[1;34m\u001b[0m\n\u001b[0;32m      2\u001b[0m \u001b[1;33m\u001b[0m\u001b[0m\n\u001b[0;32m      3\u001b[0m \u001b[0mafdm\u001b[0m \u001b[1;33m=\u001b[0m \u001b[0mPCA\u001b[0m\u001b[1;33m(\u001b[0m\u001b[0mstd_unit\u001b[0m\u001b[1;33m=\u001b[0m\u001b[1;32mFalse\u001b[0m\u001b[1;33m,\u001b[0m \u001b[0mrow_labels\u001b[0m\u001b[1;33m=\u001b[0m\u001b[0mdataOriginal\u001b[0m\u001b[1;33m.\u001b[0m\u001b[0mindex\u001b[0m\u001b[1;33m,\u001b[0m \u001b[0mcol_labels\u001b[0m\u001b[1;33m=\u001b[0m\u001b[1;33m[\u001b[0m\u001b[0mZ1\u001b[0m\u001b[1;33m.\u001b[0m\u001b[0mcolumns\u001b[0m\u001b[1;33m,\u001b[0m \u001b[0mZ2\u001b[0m\u001b[1;33m.\u001b[0m\u001b[0mcolumns\u001b[0m\u001b[1;33m]\u001b[0m\u001b[1;33m)\u001b[0m\u001b[1;33m\u001b[0m\u001b[1;33m\u001b[0m\u001b[0m\n\u001b[1;32m----> 4\u001b[1;33m \u001b[0mafdm\u001b[0m\u001b[1;33m.\u001b[0m\u001b[0mfit\u001b[0m\u001b[1;33m(\u001b[0m\u001b[0mZ\u001b[0m\u001b[1;33m)\u001b[0m\u001b[1;33m\u001b[0m\u001b[1;33m\u001b[0m\u001b[0m\n\u001b[0m\u001b[0;32m      5\u001b[0m \u001b[1;31m#afdm.fit(Z)\u001b[0m\u001b[1;33m\u001b[0m\u001b[1;33m\u001b[0m\u001b[1;33m\u001b[0m\u001b[0m\n",
      "\u001b[1;32m~\\Anaconda3\\lib\\site-packages\\fanalysis\\pca.py\u001b[0m in \u001b[0;36mfit\u001b[1;34m(self, X, y)\u001b[0m\n\u001b[0;32m    163\u001b[0m \u001b[1;33m\u001b[0m\u001b[0m\n\u001b[0;32m    164\u001b[0m         \u001b[1;31m# Compute SVD\u001b[0m\u001b[1;33m\u001b[0m\u001b[1;33m\u001b[0m\u001b[1;33m\u001b[0m\u001b[0m\n\u001b[1;32m--> 165\u001b[1;33m         \u001b[0mself\u001b[0m\u001b[1;33m.\u001b[0m\u001b[0m_compute_svd\u001b[0m\u001b[1;33m(\u001b[0m\u001b[0mX\u001b[0m\u001b[1;33m)\u001b[0m\u001b[1;33m\u001b[0m\u001b[1;33m\u001b[0m\u001b[0m\n\u001b[0m\u001b[0;32m    166\u001b[0m \u001b[1;33m\u001b[0m\u001b[0m\n\u001b[0;32m    167\u001b[0m         \u001b[1;32mreturn\u001b[0m \u001b[0mself\u001b[0m\u001b[1;33m\u001b[0m\u001b[1;33m\u001b[0m\u001b[0m\n",
      "\u001b[1;32m~\\Anaconda3\\lib\\site-packages\\fanalysis\\pca.py\u001b[0m in \u001b[0;36m_compute_svd\u001b[1;34m(self, X)\u001b[0m\n\u001b[0;32m    223\u001b[0m         \"\"\"\n\u001b[0;32m    224\u001b[0m         \u001b[1;31m# Initializations\u001b[0m\u001b[1;33m\u001b[0m\u001b[1;33m\u001b[0m\u001b[1;33m\u001b[0m\u001b[0m\n\u001b[1;32m--> 225\u001b[1;33m         \u001b[0mself\u001b[0m\u001b[1;33m.\u001b[0m\u001b[0mmeans_\u001b[0m \u001b[1;33m=\u001b[0m \u001b[0mnp\u001b[0m\u001b[1;33m.\u001b[0m\u001b[0mmean\u001b[0m\u001b[1;33m(\u001b[0m\u001b[0mX\u001b[0m\u001b[1;33m,\u001b[0m \u001b[0maxis\u001b[0m\u001b[1;33m=\u001b[0m\u001b[1;36m0\u001b[0m\u001b[1;33m)\u001b[0m\u001b[1;33m.\u001b[0m\u001b[0mreshape\u001b[0m\u001b[1;33m(\u001b[0m\u001b[1;36m1\u001b[0m\u001b[1;33m,\u001b[0m \u001b[1;33m-\u001b[0m\u001b[1;36m1\u001b[0m\u001b[1;33m)\u001b[0m\u001b[1;33m\u001b[0m\u001b[1;33m\u001b[0m\u001b[0m\n\u001b[0m\u001b[0;32m    226\u001b[0m         \u001b[1;32mif\u001b[0m \u001b[0mself\u001b[0m\u001b[1;33m.\u001b[0m\u001b[0mstd_unit\u001b[0m\u001b[1;33m:\u001b[0m\u001b[1;33m\u001b[0m\u001b[1;33m\u001b[0m\u001b[0m\n\u001b[0;32m    227\u001b[0m             \u001b[0mself\u001b[0m\u001b[1;33m.\u001b[0m\u001b[0mstd_\u001b[0m \u001b[1;33m=\u001b[0m \u001b[0mnp\u001b[0m\u001b[1;33m.\u001b[0m\u001b[0mstd\u001b[0m\u001b[1;33m(\u001b[0m\u001b[0mX\u001b[0m\u001b[1;33m,\u001b[0m \u001b[0maxis\u001b[0m\u001b[1;33m=\u001b[0m\u001b[1;36m0\u001b[0m\u001b[1;33m,\u001b[0m \u001b[0mddof\u001b[0m\u001b[1;33m=\u001b[0m\u001b[1;36m0\u001b[0m\u001b[1;33m)\u001b[0m\u001b[1;33m.\u001b[0m\u001b[0mreshape\u001b[0m\u001b[1;33m(\u001b[0m\u001b[1;36m1\u001b[0m\u001b[1;33m,\u001b[0m \u001b[1;33m-\u001b[0m\u001b[1;36m1\u001b[0m\u001b[1;33m)\u001b[0m\u001b[1;33m\u001b[0m\u001b[1;33m\u001b[0m\u001b[0m\n",
      "\u001b[1;32m~\\Anaconda3\\lib\\site-packages\\pandas\\core\\generic.py\u001b[0m in \u001b[0;36m__getattr__\u001b[1;34m(self, name)\u001b[0m\n\u001b[0;32m   5463\u001b[0m             \u001b[1;32mif\u001b[0m \u001b[0mself\u001b[0m\u001b[1;33m.\u001b[0m\u001b[0m_info_axis\u001b[0m\u001b[1;33m.\u001b[0m\u001b[0m_can_hold_identifiers_and_holds_name\u001b[0m\u001b[1;33m(\u001b[0m\u001b[0mname\u001b[0m\u001b[1;33m)\u001b[0m\u001b[1;33m:\u001b[0m\u001b[1;33m\u001b[0m\u001b[1;33m\u001b[0m\u001b[0m\n\u001b[0;32m   5464\u001b[0m                 \u001b[1;32mreturn\u001b[0m \u001b[0mself\u001b[0m\u001b[1;33m[\u001b[0m\u001b[0mname\u001b[0m\u001b[1;33m]\u001b[0m\u001b[1;33m\u001b[0m\u001b[1;33m\u001b[0m\u001b[0m\n\u001b[1;32m-> 5465\u001b[1;33m             \u001b[1;32mreturn\u001b[0m \u001b[0mobject\u001b[0m\u001b[1;33m.\u001b[0m\u001b[0m__getattribute__\u001b[0m\u001b[1;33m(\u001b[0m\u001b[0mself\u001b[0m\u001b[1;33m,\u001b[0m \u001b[0mname\u001b[0m\u001b[1;33m)\u001b[0m\u001b[1;33m\u001b[0m\u001b[1;33m\u001b[0m\u001b[0m\n\u001b[0m\u001b[0;32m   5466\u001b[0m \u001b[1;33m\u001b[0m\u001b[0m\n\u001b[0;32m   5467\u001b[0m     \u001b[1;32mdef\u001b[0m \u001b[0m__setattr__\u001b[0m\u001b[1;33m(\u001b[0m\u001b[0mself\u001b[0m\u001b[1;33m,\u001b[0m \u001b[0mname\u001b[0m\u001b[1;33m:\u001b[0m \u001b[0mstr\u001b[0m\u001b[1;33m,\u001b[0m \u001b[0mvalue\u001b[0m\u001b[1;33m)\u001b[0m \u001b[1;33m->\u001b[0m \u001b[1;32mNone\u001b[0m\u001b[1;33m:\u001b[0m\u001b[1;33m\u001b[0m\u001b[1;33m\u001b[0m\u001b[0m\n",
      "\u001b[1;31mAttributeError\u001b[0m: 'Series' object has no attribute 'reshape'"
     ]
    }
   ],
   "source": [
    "from fanalysis.pca  import PCA\n",
    "\n",
    "afdm = PCA(std_unit=False, row_labels=dataOriginal.index, col_labels=[Z1.columns, Z2.columns])\n",
    "afdm.fit(Z)\n",
    "#afdm.fit(Z)"
   ]
  },
  {
   "cell_type": "code",
   "execution_count": null,
   "metadata": {},
   "outputs": [],
   "source": []
  },
  {
   "cell_type": "code",
   "execution_count": 76,
   "metadata": {},
   "outputs": [
    {
     "data": {
      "text/plain": [
       "FAMD(check_input=True, copy=True, engine='auto', n_components=3, n_iter=3,\n",
       "     random_state=101)"
      ]
     },
     "execution_count": 76,
     "metadata": {},
     "output_type": "execute_result"
    }
   ],
   "source": [
    "from prince import FAMD\n",
    "\n",
    "afdm = FAMD(n_components =3, n_iter = 3, random_state = 101) #FAMD(std_unit=False, row_labels=dataOriginal.index, col_labels=[Z1.columns, Z2.columns])\n",
    "afdm.fit(dataOriginal[v_quantitative + v_qualitative])\n",
    "#afdm.fit(Z)"
   ]
  },
  {
   "cell_type": "code",
   "execution_count": 77,
   "metadata": {},
   "outputs": [
    {
     "data": {
      "text/plain": [
       "array([0.41612849, 0.25007996, 0.19260293])"
      ]
     },
     "execution_count": 77,
     "metadata": {},
     "output_type": "execute_result"
    }
   ],
   "source": [
    "afdm.explained_inertia_"
   ]
  },
  {
   "cell_type": "code",
   "execution_count": 78,
   "metadata": {},
   "outputs": [],
   "source": [
    "correlation_matrix = np.corrcoef(Z.transpose())\n",
    "\n",
    "pd.DataFrame(correlation_matrix.round(4), columns = Z.columns, index = Z.columns)\n",
    "eig_vals, eig_vecs = np.linalg.eig(correlation_matrix)"
   ]
  },
  {
   "cell_type": "code",
   "execution_count": 84,
   "metadata": {},
   "outputs": [
    {
     "data": {
      "text/plain": [
       "array([ 5.097e+00,  3.097e+00,  2.248e+00,  1.124e+00,  1.980e-01,\n",
       "        1.810e-01,  3.700e-02,  1.600e-02,  2.000e-03, -0.000e+00,\n",
       "       -0.000e+00,  0.000e+00])"
      ]
     },
     "execution_count": 84,
     "metadata": {},
     "output_type": "execute_result"
    }
   ],
   "source": [
    "eig_vals.round(3)"
   ]
  },
  {
   "cell_type": "code",
   "execution_count": 67,
   "metadata": {},
   "outputs": [
    {
     "data": {
      "text/plain": [
       "array([[ 2.86217886e-01,  3.95592369e-01, -1.54428853e-01,\n",
       "        -3.79709645e-02, -3.88986974e-01, -2.00101437e-01,\n",
       "         8.39199022e-03,  5.47676728e-01,  4.94898232e-01,\n",
       "         2.31969933e-14, -2.18162500e-14, -5.49421001e-31],\n",
       "       [ 2.93455070e-01,  1.54522334e-01, -3.84807585e-01,\n",
       "        -3.21804844e-01,  1.30635617e-01,  4.18527446e-01,\n",
       "        -2.61548104e-02,  3.58834693e-01, -5.62756107e-01,\n",
       "        -2.66496333e-14,  2.25726434e-14,  2.57244484e-17],\n",
       "       [ 3.39031868e-01, -2.80684450e-01,  1.70061837e-01,\n",
       "         1.37917947e-01,  6.07949152e-01, -1.29167908e-02,\n",
       "        -4.90743854e-01,  2.94667453e-01,  2.46786935e-01,\n",
       "         1.07023812e-14, -1.02708658e-14, -7.34781494e-17],\n",
       "       [ 3.75985943e-01,  1.16516184e-01, -2.72348770e-01,\n",
       "        -1.29660869e-01,  4.37059449e-01,  2.04854204e-02,\n",
       "         5.55268203e-01, -3.68309893e-01,  3.44466527e-01,\n",
       "         1.63683884e-14, -1.35073945e-14,  3.40455835e-17],\n",
       "       [ 3.39083643e-01,  3.48203371e-01, -3.57767729e-02,\n",
       "        -4.92550679e-02, -2.19400025e-01,  1.70389165e-01,\n",
       "        -5.86073282e-01, -5.79655449e-01,  5.84763798e-02,\n",
       "         2.22165364e-15, -9.48445120e-16, -5.36677469e-17],\n",
       "       [ 3.69945686e-01,  1.43609095e-01,  2.87857250e-01,\n",
       "         1.10035783e-01,  9.06054861e-03, -4.57240367e-01,\n",
       "         1.20068923e-01, -2.25456300e-02, -3.85319671e-01,\n",
       "         7.92150502e-02, -5.86025934e-01,  2.13001748e-17],\n",
       "       [-2.31205619e-01, -5.41935082e-02,  2.42866140e-01,\n",
       "        -7.17415086e-01,  2.69809416e-02,  1.95035471e-01,\n",
       "        -6.66505135e-02,  2.05411191e-02,  2.76238345e-01,\n",
       "         6.46788177e-02, -4.78488172e-01,  1.42323176e-17],\n",
       "       [-1.81167089e-01, -9.93602812e-02, -4.86156623e-01,\n",
       "         4.75731182e-01, -3.10903952e-02,  2.97994572e-01,\n",
       "        -6.56490063e-02,  5.77387647e-03,  1.59772007e-01,\n",
       "         7.92150502e-02, -5.86025934e-01,  2.76651811e-17],\n",
       "       [ 1.29382972e-01, -4.39111585e-01, -3.30415126e-01,\n",
       "        -2.08956759e-01, -1.75653249e-01, -3.02137791e-01,\n",
       "        -9.67549941e-02, -7.61837756e-02, -1.72387575e-02,\n",
       "        -7.01165673e-01,  2.05178311e-01, -1.66818473e-17],\n",
       "       [-1.29382972e-01,  4.39111585e-01,  3.30415126e-01,\n",
       "         2.08956759e-01,  1.75653249e-01,  3.02137791e-01,\n",
       "         9.67549941e-02,  7.61837756e-02,  1.72387575e-02,\n",
       "        -7.01165673e-01,  2.05178311e-01,  2.28594327e-17],\n",
       "       [-3.19421681e-01,  3.05739443e-01, -2.52148432e-01,\n",
       "        -9.02834282e-02,  2.82293429e-01, -3.44014815e-01,\n",
       "        -1.79888319e-01, -1.08357005e-02, -4.74369123e-02,\n",
       "        -2.66849470e-15,  2.27547581e-15,  7.07106781e-01],\n",
       "       [ 3.19421681e-01, -3.05739443e-01,  2.52148432e-01,\n",
       "         9.02834282e-02, -2.82293429e-01,  3.44014815e-01,\n",
       "         1.79888319e-01,  1.08357005e-02,  4.74369123e-02,\n",
       "         1.85882396e-15, -2.07877562e-15,  7.07106781e-01]])"
      ]
     },
     "execution_count": 67,
     "metadata": {},
     "output_type": "execute_result"
    }
   ],
   "source": [
    "eig_vecs"
   ]
  },
  {
   "cell_type": "markdown",
   "metadata": {},
   "source": [
    "# Numero de facteurs a retenir"
   ]
  },
  {
   "cell_type": "markdown",
   "metadata": {},
   "source": [
    "6. Faites une analyse du nombre de facteurs principaux à retenir. Justifiez votre raisonnement et les différentes étapes à \n",
    "réaliser"
   ]
  },
  {
   "cell_type": "code",
   "execution_count": 18,
   "metadata": {},
   "outputs": [
    {
     "data": {
      "text/plain": [
       "9"
      ]
     },
     "execution_count": 18,
     "metadata": {},
     "output_type": "execute_result"
    }
   ],
   "source": [
    "p = Z.shape[1] # All\n",
    "p2 = len(v_qualitative) # Z2.shape[1] # Cualitatives\n",
    "Fmax = p - p2  # numero de variables quantitatives es el max numero de valores propios\n",
    "Fmax"
   ]
  },
  {
   "cell_type": "code",
   "execution_count": 19,
   "metadata": {},
   "outputs": [
    {
     "data": {
      "text/plain": [
       "12"
      ]
     },
     "execution_count": 19,
     "metadata": {},
     "output_type": "execute_result"
    }
   ],
   "source": [
    "p #No columnes of Z (normalised multitype)"
   ]
  },
  {
   "cell_type": "code",
   "execution_count": 20,
   "metadata": {},
   "outputs": [
    {
     "data": {
      "text/plain": [
       "3"
      ]
     },
     "execution_count": 20,
     "metadata": {},
     "output_type": "execute_result"
    }
   ],
   "source": [
    "p2 # No. variables qualitatives"
   ]
  },
  {
   "cell_type": "code",
   "execution_count": 21,
   "metadata": {},
   "outputs": [
    {
     "name": "stdout",
     "output_type": "stream",
     "text": [
      "Le numero maximo de facteur principaux est:  9\n"
     ]
    }
   ],
   "source": [
    "print('Le numero maximo de facteur principaux est: ', Fmax)"
   ]
  },
  {
   "cell_type": "markdown",
   "metadata": {},
   "source": [
    "# 7. Déterminez les valeurs propres de l’ensemble des données"
   ]
  },
  {
   "cell_type": "code",
   "execution_count": 32,
   "metadata": {},
   "outputs": [
    {
     "ename": "AttributeError",
     "evalue": "'FAMD' object has no attribute 'erg_'",
     "output_type": "error",
     "traceback": [
      "\u001b[1;31m---------------------------------------------------------------------------\u001b[0m",
      "\u001b[1;31mAttributeError\u001b[0m                            Traceback (most recent call last)",
      "\u001b[1;32m<ipython-input-32-4bc1633a974c>\u001b[0m in \u001b[0;36m<module>\u001b[1;34m\u001b[0m\n\u001b[1;32m----> 1\u001b[1;33m \u001b[0mdfVPropes\u001b[0m \u001b[1;33m=\u001b[0m \u001b[0mpd\u001b[0m\u001b[1;33m.\u001b[0m\u001b[0mDataFrame\u001b[0m\u001b[1;33m(\u001b[0m\u001b[0mafdm\u001b[0m\u001b[1;33m.\u001b[0m\u001b[0merg_\u001b[0m\u001b[1;33m)\u001b[0m\u001b[1;33m\u001b[0m\u001b[1;33m\u001b[0m\u001b[0m\n\u001b[0m",
      "\u001b[1;31mAttributeError\u001b[0m: 'FAMD' object has no attribute 'erg_'"
     ]
    }
   ],
   "source": [
    "dfVPropes = pd.DataFrame(afdm.erg_)"
   ]
  },
  {
   "cell_type": "code",
   "execution_count": 23,
   "metadata": {},
   "outputs": [],
   "source": [
    "# 8. Déterminez la contribution des variables aux 2 premiers axes factoriels. Commentez les résultats."
   ]
  },
  {
   "cell_type": "code",
   "execution_count": null,
   "metadata": {},
   "outputs": [],
   "source": []
  },
  {
   "cell_type": "code",
   "execution_count": null,
   "metadata": {},
   "outputs": [],
   "source": [
    "# 9. Représentez graphiquement les variables et les individus sur le même graphique."
   ]
  }
 ],
 "metadata": {
  "kernelspec": {
   "display_name": "Anaconda (base)",
   "language": "python",
   "name": "anaconda-base"
  },
  "language_info": {
   "codemirror_mode": {
    "name": "ipython",
    "version": 3
   },
   "file_extension": ".py",
   "mimetype": "text/x-python",
   "name": "python",
   "nbconvert_exporter": "python",
   "pygments_lexer": "ipython3",
   "version": "3.7.6"
  }
 },
 "nbformat": 4,
 "nbformat_minor": 4
}
