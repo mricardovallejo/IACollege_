{
 "cells": [
  {
   "cell_type": "markdown",
   "metadata": {},
   "source": [
    "# Examen 1 - Exploration de donnes\n",
    "Author: Ricardo Vallejo"
   ]
  },
  {
   "cell_type": "markdown",
   "metadata": {},
   "source": [
    "# Etape 1"
   ]
  },
  {
   "cell_type": "markdown",
   "metadata": {},
   "source": [
    "## 1.1. Load Data"
   ]
  },
  {
   "cell_type": "code",
   "execution_count": 1,
   "metadata": {},
   "outputs": [
    {
     "data": {
      "text/html": [
       "<div>\n",
       "<style scoped>\n",
       "    .dataframe tbody tr th:only-of-type {\n",
       "        vertical-align: middle;\n",
       "    }\n",
       "\n",
       "    .dataframe tbody tr th {\n",
       "        vertical-align: top;\n",
       "    }\n",
       "\n",
       "    .dataframe thead th {\n",
       "        text-align: right;\n",
       "    }\n",
       "</style>\n",
       "<table border=\"1\" class=\"dataframe\">\n",
       "  <thead>\n",
       "    <tr style=\"text-align: right;\">\n",
       "      <th></th>\n",
       "      <th>Unnamed: 0</th>\n",
       "      <th>price</th>\n",
       "      <th>brand</th>\n",
       "      <th>model</th>\n",
       "      <th>year</th>\n",
       "      <th>title_status</th>\n",
       "      <th>mileage</th>\n",
       "      <th>color</th>\n",
       "      <th>vin</th>\n",
       "      <th>lot</th>\n",
       "      <th>state</th>\n",
       "      <th>country</th>\n",
       "      <th>condition</th>\n",
       "    </tr>\n",
       "  </thead>\n",
       "  <tbody>\n",
       "    <tr>\n",
       "      <th>0</th>\n",
       "      <td>0</td>\n",
       "      <td>6300</td>\n",
       "      <td>toyota</td>\n",
       "      <td>cruiser</td>\n",
       "      <td>2008</td>\n",
       "      <td>clean vehicle</td>\n",
       "      <td>274117.0</td>\n",
       "      <td>black</td>\n",
       "      <td>jtezu11f88k007763</td>\n",
       "      <td>159348797</td>\n",
       "      <td>new jersey</td>\n",
       "      <td>usa</td>\n",
       "      <td>10 days left</td>\n",
       "    </tr>\n",
       "    <tr>\n",
       "      <th>1</th>\n",
       "      <td>1</td>\n",
       "      <td>2899</td>\n",
       "      <td>ford</td>\n",
       "      <td>se</td>\n",
       "      <td>2011</td>\n",
       "      <td>clean vehicle</td>\n",
       "      <td>190552.0</td>\n",
       "      <td>silver</td>\n",
       "      <td>2fmdk3gc4bbb02217</td>\n",
       "      <td>166951262</td>\n",
       "      <td>tennessee</td>\n",
       "      <td>usa</td>\n",
       "      <td>6 days left</td>\n",
       "    </tr>\n",
       "    <tr>\n",
       "      <th>2</th>\n",
       "      <td>2</td>\n",
       "      <td>5350</td>\n",
       "      <td>dodge</td>\n",
       "      <td>mpv</td>\n",
       "      <td>2018</td>\n",
       "      <td>clean vehicle</td>\n",
       "      <td>39590.0</td>\n",
       "      <td>silver</td>\n",
       "      <td>3c4pdcgg5jt346413</td>\n",
       "      <td>167655728</td>\n",
       "      <td>georgia</td>\n",
       "      <td>usa</td>\n",
       "      <td>2 days left</td>\n",
       "    </tr>\n",
       "    <tr>\n",
       "      <th>3</th>\n",
       "      <td>3</td>\n",
       "      <td>25000</td>\n",
       "      <td>ford</td>\n",
       "      <td>door</td>\n",
       "      <td>2014</td>\n",
       "      <td>clean vehicle</td>\n",
       "      <td>64146.0</td>\n",
       "      <td>blue</td>\n",
       "      <td>1ftfw1et4efc23745</td>\n",
       "      <td>167753855</td>\n",
       "      <td>virginia</td>\n",
       "      <td>usa</td>\n",
       "      <td>22 hours left</td>\n",
       "    </tr>\n",
       "    <tr>\n",
       "      <th>4</th>\n",
       "      <td>4</td>\n",
       "      <td>27700</td>\n",
       "      <td>chevrolet</td>\n",
       "      <td>1500</td>\n",
       "      <td>2018</td>\n",
       "      <td>clean vehicle</td>\n",
       "      <td>6654.0</td>\n",
       "      <td>red</td>\n",
       "      <td>3gcpcrec2jg473991</td>\n",
       "      <td>167763266</td>\n",
       "      <td>florida</td>\n",
       "      <td>usa</td>\n",
       "      <td>22 hours left</td>\n",
       "    </tr>\n",
       "  </tbody>\n",
       "</table>\n",
       "</div>"
      ],
      "text/plain": [
       "   Unnamed: 0  price      brand    model  year   title_status   mileage  \\\n",
       "0           0   6300     toyota  cruiser  2008  clean vehicle  274117.0   \n",
       "1           1   2899       ford       se  2011  clean vehicle  190552.0   \n",
       "2           2   5350      dodge      mpv  2018  clean vehicle   39590.0   \n",
       "3           3  25000       ford     door  2014  clean vehicle   64146.0   \n",
       "4           4  27700  chevrolet     1500  2018  clean vehicle    6654.0   \n",
       "\n",
       "    color                  vin        lot       state country      condition  \n",
       "0   black    jtezu11f88k007763  159348797  new jersey     usa   10 days left  \n",
       "1  silver    2fmdk3gc4bbb02217  166951262   tennessee     usa    6 days left  \n",
       "2  silver    3c4pdcgg5jt346413  167655728     georgia     usa    2 days left  \n",
       "3    blue    1ftfw1et4efc23745  167753855    virginia     usa  22 hours left  \n",
       "4     red    3gcpcrec2jg473991  167763266     florida     usa  22 hours left  "
      ]
     },
     "execution_count": 1,
     "metadata": {},
     "output_type": "execute_result"
    }
   ],
   "source": [
    "import pandas as pd\n",
    "import numpy as np\n",
    "import seaborn as sns\n",
    "import matplotlib.pyplot as plt\n",
    "\n",
    "df = pd.read_excel('USA_cars_dataset.xlsx')\n",
    "df.head(5)"
   ]
  },
  {
   "cell_type": "markdown",
   "metadata": {},
   "source": [
    "## 1.2.  Identifiez les différentes variables et leurs types. Résumez le tout dans un tableau.\n"
   ]
  },
  {
   "cell_type": "code",
   "execution_count": 2,
   "metadata": {},
   "outputs": [
    {
     "name": "stdout",
     "output_type": "stream",
     "text": [
      "<class 'pandas.core.frame.DataFrame'>\n",
      "RangeIndex: 2499 entries, 0 to 2498\n",
      "Data columns (total 13 columns):\n",
      " #   Column        Non-Null Count  Dtype  \n",
      "---  ------        --------------  -----  \n",
      " 0   Unnamed: 0    2499 non-null   int64  \n",
      " 1   price         2499 non-null   int64  \n",
      " 2   brand         2499 non-null   object \n",
      " 3   model         2499 non-null   object \n",
      " 4   year          2499 non-null   int64  \n",
      " 5   title_status  2499 non-null   object \n",
      " 6   mileage       2499 non-null   float64\n",
      " 7   color         2499 non-null   object \n",
      " 8   vin           2499 non-null   object \n",
      " 9   lot           2499 non-null   int64  \n",
      " 10  state         2499 non-null   object \n",
      " 11  country       2499 non-null   object \n",
      " 12  condition     2499 non-null   object \n",
      "dtypes: float64(1), int64(4), object(8)\n",
      "memory usage: 253.9+ KB\n"
     ]
    }
   ],
   "source": [
    "df.info()"
   ]
  },
  {
   "cell_type": "raw",
   "metadata": {},
   "source": [
    "TYPES                           VARIABLES\n",
    "===============================================================\n",
    "Integers variables:             price   year  lot  \n",
    "Float ou point dec variables:   mileage\n",
    "Object structure:               brand   model year tittle status color vin state country condition"
   ]
  },
  {
   "cell_type": "markdown",
   "metadata": {},
   "source": [
    "## 1.3. Déterminer le nombre de voitures vendues annuellement. Interprétez les résultats"
   ]
  },
  {
   "cell_type": "code",
   "execution_count": 3,
   "metadata": {},
   "outputs": [
    {
     "data": {
      "text/html": [
       "<div>\n",
       "<style scoped>\n",
       "    .dataframe tbody tr th:only-of-type {\n",
       "        vertical-align: middle;\n",
       "    }\n",
       "\n",
       "    .dataframe tbody tr th {\n",
       "        vertical-align: top;\n",
       "    }\n",
       "\n",
       "    .dataframe thead th {\n",
       "        text-align: right;\n",
       "    }\n",
       "</style>\n",
       "<table border=\"1\" class=\"dataframe\">\n",
       "  <thead>\n",
       "    <tr style=\"text-align: right;\">\n",
       "      <th></th>\n",
       "      <th>lot</th>\n",
       "    </tr>\n",
       "    <tr>\n",
       "      <th>year</th>\n",
       "      <th></th>\n",
       "    </tr>\n",
       "  </thead>\n",
       "  <tbody>\n",
       "    <tr>\n",
       "      <th>1973</th>\n",
       "      <td>1</td>\n",
       "    </tr>\n",
       "    <tr>\n",
       "      <th>1984</th>\n",
       "      <td>1</td>\n",
       "    </tr>\n",
       "    <tr>\n",
       "      <th>1993</th>\n",
       "      <td>1</td>\n",
       "    </tr>\n",
       "    <tr>\n",
       "      <th>1994</th>\n",
       "      <td>2</td>\n",
       "    </tr>\n",
       "    <tr>\n",
       "      <th>1995</th>\n",
       "      <td>1</td>\n",
       "    </tr>\n",
       "    <tr>\n",
       "      <th>1996</th>\n",
       "      <td>2</td>\n",
       "    </tr>\n",
       "    <tr>\n",
       "      <th>1997</th>\n",
       "      <td>2</td>\n",
       "    </tr>\n",
       "    <tr>\n",
       "      <th>1998</th>\n",
       "      <td>4</td>\n",
       "    </tr>\n",
       "    <tr>\n",
       "      <th>1999</th>\n",
       "      <td>1</td>\n",
       "    </tr>\n",
       "    <tr>\n",
       "      <th>2000</th>\n",
       "      <td>4</td>\n",
       "    </tr>\n",
       "    <tr>\n",
       "      <th>2001</th>\n",
       "      <td>5</td>\n",
       "    </tr>\n",
       "    <tr>\n",
       "      <th>2002</th>\n",
       "      <td>2</td>\n",
       "    </tr>\n",
       "    <tr>\n",
       "      <th>2003</th>\n",
       "      <td>9</td>\n",
       "    </tr>\n",
       "    <tr>\n",
       "      <th>2004</th>\n",
       "      <td>6</td>\n",
       "    </tr>\n",
       "    <tr>\n",
       "      <th>2005</th>\n",
       "      <td>6</td>\n",
       "    </tr>\n",
       "    <tr>\n",
       "      <th>2006</th>\n",
       "      <td>8</td>\n",
       "    </tr>\n",
       "    <tr>\n",
       "      <th>2007</th>\n",
       "      <td>6</td>\n",
       "    </tr>\n",
       "    <tr>\n",
       "      <th>2008</th>\n",
       "      <td>18</td>\n",
       "    </tr>\n",
       "    <tr>\n",
       "      <th>2009</th>\n",
       "      <td>11</td>\n",
       "    </tr>\n",
       "    <tr>\n",
       "      <th>2010</th>\n",
       "      <td>13</td>\n",
       "    </tr>\n",
       "    <tr>\n",
       "      <th>2011</th>\n",
       "      <td>23</td>\n",
       "    </tr>\n",
       "    <tr>\n",
       "      <th>2012</th>\n",
       "      <td>72</td>\n",
       "    </tr>\n",
       "    <tr>\n",
       "      <th>2013</th>\n",
       "      <td>86</td>\n",
       "    </tr>\n",
       "    <tr>\n",
       "      <th>2014</th>\n",
       "      <td>104</td>\n",
       "    </tr>\n",
       "    <tr>\n",
       "      <th>2015</th>\n",
       "      <td>196</td>\n",
       "    </tr>\n",
       "    <tr>\n",
       "      <th>2016</th>\n",
       "      <td>203</td>\n",
       "    </tr>\n",
       "    <tr>\n",
       "      <th>2017</th>\n",
       "      <td>377</td>\n",
       "    </tr>\n",
       "    <tr>\n",
       "      <th>2018</th>\n",
       "      <td>395</td>\n",
       "    </tr>\n",
       "    <tr>\n",
       "      <th>2019</th>\n",
       "      <td>892</td>\n",
       "    </tr>\n",
       "    <tr>\n",
       "      <th>2020</th>\n",
       "      <td>48</td>\n",
       "    </tr>\n",
       "  </tbody>\n",
       "</table>\n",
       "</div>"
      ],
      "text/plain": [
       "      lot\n",
       "year     \n",
       "1973    1\n",
       "1984    1\n",
       "1993    1\n",
       "1994    2\n",
       "1995    1\n",
       "1996    2\n",
       "1997    2\n",
       "1998    4\n",
       "1999    1\n",
       "2000    4\n",
       "2001    5\n",
       "2002    2\n",
       "2003    9\n",
       "2004    6\n",
       "2005    6\n",
       "2006    8\n",
       "2007    6\n",
       "2008   18\n",
       "2009   11\n",
       "2010   13\n",
       "2011   23\n",
       "2012   72\n",
       "2013   86\n",
       "2014  104\n",
       "2015  196\n",
       "2016  203\n",
       "2017  377\n",
       "2018  395\n",
       "2019  892\n",
       "2020   48"
      ]
     },
     "execution_count": 3,
     "metadata": {},
     "output_type": "execute_result"
    }
   ],
   "source": [
    "df[['lot', 'year']].groupby('year').count()\n"
   ]
  },
  {
   "cell_type": "code",
   "execution_count": 4,
   "metadata": {},
   "outputs": [
    {
     "data": {
      "image/png": "[encoded data removed]",
      "text/plain": [
       "<Figure size 432x288 with 1 Axes>"
      ]
     },
     "metadata": {
      "needs_background": "light"
     },
     "output_type": "display_data"
    }
   ],
   "source": [
    "df[['lot', 'year']].groupby('year').count().plot(kind='bar')\n",
    "plt.title('Cars vendus Histogram', color = 'black', fontsize = 16)\n",
    "plt.xlabel('Years',color = 'black')\n",
    "plt.ylabel('Number of Cars vendus', color = 'blue')\n",
    "plt.xticks(color = 'blue')\n",
    "plt.yticks(color = 'black')\n",
    "plt.show()"
   ]
  },
  {
   "cell_type": "raw",
   "metadata": {},
   "source": [
    "En el anne 2019 sont vendus 892 voitures, cest le anne de plus ventes entre 1973 et 2020.  \n",
    "La plupart de vehicles sont vendus entre 2012 et 2019."
   ]
  },
  {
   "cell_type": "markdown",
   "metadata": {},
   "source": [
    "# Étape 2 : Analyse des prix de voiture"
   ]
  },
  {
   "cell_type": "markdown",
   "metadata": {},
   "source": [
    "# 1. À partir du fichier USA_cars_dataset.xlsx, créez une nouvelle structure df2010 qui contient les observations \n",
    "entre 2010 (inclus) et 2020 (exlus).\n"
   ]
  },
  {
   "cell_type": "code",
   "execution_count": 5,
   "metadata": {},
   "outputs": [],
   "source": [
    "yearscond = list(range(2009, 2020))"
   ]
  },
  {
   "cell_type": "code",
   "execution_count": 6,
   "metadata": {},
   "outputs": [],
   "source": [
    "is2010 =  df['year'].isin(yearscond)"
   ]
  },
  {
   "cell_type": "code",
   "execution_count": 7,
   "metadata": {},
   "outputs": [
    {
     "data": {
      "text/html": [
       "<div>\n",
       "<style scoped>\n",
       "    .dataframe tbody tr th:only-of-type {\n",
       "        vertical-align: middle;\n",
       "    }\n",
       "\n",
       "    .dataframe tbody tr th {\n",
       "        vertical-align: top;\n",
       "    }\n",
       "\n",
       "    .dataframe thead th {\n",
       "        text-align: right;\n",
       "    }\n",
       "</style>\n",
       "<table border=\"1\" class=\"dataframe\">\n",
       "  <thead>\n",
       "    <tr style=\"text-align: right;\">\n",
       "      <th></th>\n",
       "      <th>Unnamed: 0</th>\n",
       "      <th>price</th>\n",
       "      <th>brand</th>\n",
       "      <th>model</th>\n",
       "      <th>year</th>\n",
       "      <th>title_status</th>\n",
       "      <th>mileage</th>\n",
       "      <th>color</th>\n",
       "      <th>vin</th>\n",
       "      <th>lot</th>\n",
       "      <th>state</th>\n",
       "      <th>country</th>\n",
       "      <th>condition</th>\n",
       "    </tr>\n",
       "  </thead>\n",
       "  <tbody>\n",
       "    <tr>\n",
       "      <th>1</th>\n",
       "      <td>1</td>\n",
       "      <td>2899</td>\n",
       "      <td>ford</td>\n",
       "      <td>se</td>\n",
       "      <td>2011</td>\n",
       "      <td>clean vehicle</td>\n",
       "      <td>190552.0</td>\n",
       "      <td>silver</td>\n",
       "      <td>2fmdk3gc4bbb02217</td>\n",
       "      <td>166951262</td>\n",
       "      <td>tennessee</td>\n",
       "      <td>usa</td>\n",
       "      <td>6 days left</td>\n",
       "    </tr>\n",
       "    <tr>\n",
       "      <th>2</th>\n",
       "      <td>2</td>\n",
       "      <td>5350</td>\n",
       "      <td>dodge</td>\n",
       "      <td>mpv</td>\n",
       "      <td>2018</td>\n",
       "      <td>clean vehicle</td>\n",
       "      <td>39590.0</td>\n",
       "      <td>silver</td>\n",
       "      <td>3c4pdcgg5jt346413</td>\n",
       "      <td>167655728</td>\n",
       "      <td>georgia</td>\n",
       "      <td>usa</td>\n",
       "      <td>2 days left</td>\n",
       "    </tr>\n",
       "    <tr>\n",
       "      <th>3</th>\n",
       "      <td>3</td>\n",
       "      <td>25000</td>\n",
       "      <td>ford</td>\n",
       "      <td>door</td>\n",
       "      <td>2014</td>\n",
       "      <td>clean vehicle</td>\n",
       "      <td>64146.0</td>\n",
       "      <td>blue</td>\n",
       "      <td>1ftfw1et4efc23745</td>\n",
       "      <td>167753855</td>\n",
       "      <td>virginia</td>\n",
       "      <td>usa</td>\n",
       "      <td>22 hours left</td>\n",
       "    </tr>\n",
       "    <tr>\n",
       "      <th>4</th>\n",
       "      <td>4</td>\n",
       "      <td>27700</td>\n",
       "      <td>chevrolet</td>\n",
       "      <td>1500</td>\n",
       "      <td>2018</td>\n",
       "      <td>clean vehicle</td>\n",
       "      <td>6654.0</td>\n",
       "      <td>red</td>\n",
       "      <td>3gcpcrec2jg473991</td>\n",
       "      <td>167763266</td>\n",
       "      <td>florida</td>\n",
       "      <td>usa</td>\n",
       "      <td>22 hours left</td>\n",
       "    </tr>\n",
       "    <tr>\n",
       "      <th>5</th>\n",
       "      <td>5</td>\n",
       "      <td>5700</td>\n",
       "      <td>dodge</td>\n",
       "      <td>mpv</td>\n",
       "      <td>2018</td>\n",
       "      <td>clean vehicle</td>\n",
       "      <td>45561.0</td>\n",
       "      <td>white</td>\n",
       "      <td>2c4rdgeg9jr237989</td>\n",
       "      <td>167655771</td>\n",
       "      <td>texas</td>\n",
       "      <td>usa</td>\n",
       "      <td>2 days left</td>\n",
       "    </tr>\n",
       "    <tr>\n",
       "      <th>...</th>\n",
       "      <td>...</td>\n",
       "      <td>...</td>\n",
       "      <td>...</td>\n",
       "      <td>...</td>\n",
       "      <td>...</td>\n",
       "      <td>...</td>\n",
       "      <td>...</td>\n",
       "      <td>...</td>\n",
       "      <td>...</td>\n",
       "      <td>...</td>\n",
       "      <td>...</td>\n",
       "      <td>...</td>\n",
       "      <td>...</td>\n",
       "    </tr>\n",
       "    <tr>\n",
       "      <th>102</th>\n",
       "      <td>102</td>\n",
       "      <td>10780</td>\n",
       "      <td>ford</td>\n",
       "      <td>mpv</td>\n",
       "      <td>2017</td>\n",
       "      <td>clean vehicle</td>\n",
       "      <td>40455.0</td>\n",
       "      <td>white</td>\n",
       "      <td>1fm5k8ht0hga07252</td>\n",
       "      <td>167656360</td>\n",
       "      <td>texas</td>\n",
       "      <td>usa</td>\n",
       "      <td>2 days left</td>\n",
       "    </tr>\n",
       "    <tr>\n",
       "      <th>103</th>\n",
       "      <td>103</td>\n",
       "      <td>13800</td>\n",
       "      <td>ford</td>\n",
       "      <td>focus</td>\n",
       "      <td>2018</td>\n",
       "      <td>clean vehicle</td>\n",
       "      <td>23164.0</td>\n",
       "      <td>white</td>\n",
       "      <td>1fadp3j2xjl279400</td>\n",
       "      <td>167755491</td>\n",
       "      <td>south carolina</td>\n",
       "      <td>usa</td>\n",
       "      <td>21 hours left</td>\n",
       "    </tr>\n",
       "    <tr>\n",
       "      <th>104</th>\n",
       "      <td>104</td>\n",
       "      <td>25201</td>\n",
       "      <td>cadillac</td>\n",
       "      <td>door</td>\n",
       "      <td>2017</td>\n",
       "      <td>clean vehicle</td>\n",
       "      <td>19011.0</td>\n",
       "      <td>no_color</td>\n",
       "      <td>1gyknbrs8hz257399</td>\n",
       "      <td>167765111</td>\n",
       "      <td>michigan</td>\n",
       "      <td>usa</td>\n",
       "      <td>2 days left</td>\n",
       "    </tr>\n",
       "    <tr>\n",
       "      <th>105</th>\n",
       "      <td>105</td>\n",
       "      <td>7070</td>\n",
       "      <td>ford</td>\n",
       "      <td>mpv</td>\n",
       "      <td>2017</td>\n",
       "      <td>clean vehicle</td>\n",
       "      <td>45191.0</td>\n",
       "      <td>white</td>\n",
       "      <td>1fm5k7d82hgb39148</td>\n",
       "      <td>167656361</td>\n",
       "      <td>texas</td>\n",
       "      <td>usa</td>\n",
       "      <td>2 days left</td>\n",
       "    </tr>\n",
       "    <tr>\n",
       "      <th>106</th>\n",
       "      <td>106</td>\n",
       "      <td>8700</td>\n",
       "      <td>ford</td>\n",
       "      <td>focus</td>\n",
       "      <td>2018</td>\n",
       "      <td>clean vehicle</td>\n",
       "      <td>21405.0</td>\n",
       "      <td>white</td>\n",
       "      <td>1fadp3k23jl219764</td>\n",
       "      <td>167755494</td>\n",
       "      <td>south carolina</td>\n",
       "      <td>usa</td>\n",
       "      <td>21 hours left</td>\n",
       "    </tr>\n",
       "  </tbody>\n",
       "</table>\n",
       "<p>100 rows × 13 columns</p>\n",
       "</div>"
      ],
      "text/plain": [
       "     Unnamed: 0  price      brand  model  year   title_status   mileage  \\\n",
       "1             1   2899       ford     se  2011  clean vehicle  190552.0   \n",
       "2             2   5350      dodge    mpv  2018  clean vehicle   39590.0   \n",
       "3             3  25000       ford   door  2014  clean vehicle   64146.0   \n",
       "4             4  27700  chevrolet   1500  2018  clean vehicle    6654.0   \n",
       "5             5   5700      dodge    mpv  2018  clean vehicle   45561.0   \n",
       "..          ...    ...        ...    ...   ...            ...       ...   \n",
       "102         102  10780       ford    mpv  2017  clean vehicle   40455.0   \n",
       "103         103  13800       ford  focus  2018  clean vehicle   23164.0   \n",
       "104         104  25201   cadillac   door  2017  clean vehicle   19011.0   \n",
       "105         105   7070       ford    mpv  2017  clean vehicle   45191.0   \n",
       "106         106   8700       ford  focus  2018  clean vehicle   21405.0   \n",
       "\n",
       "        color                  vin        lot           state country  \\\n",
       "1      silver    2fmdk3gc4bbb02217  166951262       tennessee     usa   \n",
       "2      silver    3c4pdcgg5jt346413  167655728         georgia     usa   \n",
       "3        blue    1ftfw1et4efc23745  167753855        virginia     usa   \n",
       "4         red    3gcpcrec2jg473991  167763266         florida     usa   \n",
       "5       white    2c4rdgeg9jr237989  167655771           texas     usa   \n",
       "..        ...                  ...        ...             ...     ...   \n",
       "102     white    1fm5k8ht0hga07252  167656360           texas     usa   \n",
       "103     white    1fadp3j2xjl279400  167755491  south carolina     usa   \n",
       "104  no_color    1gyknbrs8hz257399  167765111        michigan     usa   \n",
       "105     white    1fm5k7d82hgb39148  167656361           texas     usa   \n",
       "106     white    1fadp3k23jl219764  167755494  south carolina     usa   \n",
       "\n",
       "         condition  \n",
       "1      6 days left  \n",
       "2      2 days left  \n",
       "3    22 hours left  \n",
       "4    22 hours left  \n",
       "5      2 days left  \n",
       "..             ...  \n",
       "102    2 days left  \n",
       "103  21 hours left  \n",
       "104    2 days left  \n",
       "105    2 days left  \n",
       "106  21 hours left  \n",
       "\n",
       "[100 rows x 13 columns]"
      ]
     },
     "execution_count": 7,
     "metadata": {},
     "output_type": "execute_result"
    }
   ],
   "source": [
    "df2010 = df[is2010]\n",
    "\n",
    "df2010.head(100)"
   ]
  },
  {
   "cell_type": "markdown",
   "metadata": {},
   "source": [
    "# 2. On s’intéresse uniquement à la variable price des voitures. Résumez dans un tableau deux indicateurs descriptifs de tendances centrales, deux de dispersions et deux de formes de cette variable.\n"
   ]
  },
  {
   "cell_type": "markdown",
   "metadata": {},
   "source": [
    "# Deux tendence central."
   ]
  },
  {
   "cell_type": "code",
   "execution_count": 8,
   "metadata": {},
   "outputs": [
    {
     "data": {
      "text/plain": [
       "1     2899\n",
       "2     5350\n",
       "3    25000\n",
       "4    27700\n",
       "5     5700\n",
       "Name: price, dtype: int64"
      ]
     },
     "execution_count": 8,
     "metadata": {},
     "output_type": "execute_result"
    }
   ],
   "source": [
    "price = df2010['price']\n",
    "price.head(5)"
   ]
  },
  {
   "cell_type": "code",
   "execution_count": 9,
   "metadata": {},
   "outputs": [
    {
     "data": {
      "text/plain": [
       "0    16500\n",
       "dtype: int64"
      ]
     },
     "execution_count": 9,
     "metadata": {},
     "output_type": "execute_result"
    }
   ],
   "source": [
    "price.mode()"
   ]
  },
  {
   "cell_type": "code",
   "execution_count": 10,
   "metadata": {},
   "outputs": [
    {
     "data": {
      "text/plain": [
       "19189.131956155143"
      ]
     },
     "execution_count": 10,
     "metadata": {},
     "output_type": "execute_result"
    }
   ],
   "source": [
    "price.mean()"
   ]
  },
  {
   "cell_type": "markdown",
   "metadata": {},
   "source": [
    "# Deux dispersion"
   ]
  },
  {
   "cell_type": "code",
   "execution_count": 11,
   "metadata": {},
   "outputs": [
    {
     "data": {
      "text/plain": [
       "11844.723105701421"
      ]
     },
     "execution_count": 11,
     "metadata": {},
     "output_type": "execute_result"
    }
   ],
   "source": [
    "import statistics \n",
    "\n",
    "statistics.stdev(price)"
   ]
  },
  {
   "cell_type": "code",
   "execution_count": 12,
   "metadata": {},
   "outputs": [
    {
     "data": {
      "text/plain": [
       "140297465.45073712"
      ]
     },
     "execution_count": 12,
     "metadata": {},
     "output_type": "execute_result"
    }
   ],
   "source": [
    "\n",
    "statistics.variance(price)"
   ]
  },
  {
   "cell_type": "markdown",
   "metadata": {},
   "source": [
    "# Deux de forme"
   ]
  },
  {
   "cell_type": "code",
   "execution_count": 13,
   "metadata": {},
   "outputs": [
    {
     "data": {
      "text/plain": [
       "0.9656648298546364"
      ]
     },
     "execution_count": 13,
     "metadata": {},
     "output_type": "execute_result"
    }
   ],
   "source": [
    "price.skew()"
   ]
  },
  {
   "cell_type": "markdown",
   "metadata": {},
   "source": [
    "# 3. Visualisez graphiquement un indicateur de tendance centrale et un indicateur de forme."
   ]
  },
  {
   "cell_type": "code",
   "execution_count": 14,
   "metadata": {},
   "outputs": [
    {
     "data": {
      "text/plain": [
       "<matplotlib.legend.Legend at 0x1ea6d804e88>"
      ]
     },
     "execution_count": 14,
     "metadata": {},
     "output_type": "execute_result"
    },
    {
     "data": {
      "image/png": "[encoded data removed]",
      "text/plain": [
       "<Figure size 720x432 with 1 Axes>"
      ]
     },
     "metadata": {
      "needs_background": "light"
     },
     "output_type": "display_data"
    }
   ],
   "source": [
    "import seaborn as sns\n",
    "\n",
    "mean=price.mean();\n",
    "median=price.median();\n",
    "mode=price.mode();\n",
    "fig, ax = plt.subplots(figsize=(10,6));\n",
    "\n",
    "sns.distplot(price);\n",
    "plt.title('Distribution Price');\n",
    "plt.axvline(mean,color='green',label='Mean'); \n",
    "plt.axvline(median,color='blue',label='Median');\n",
    "plt.axvline(mode[0],color='red',label='Mode 1')\n",
    "\n",
    "plt.legend()"
   ]
  },
  {
   "cell_type": "markdown",
   "metadata": {},
   "source": [
    "# Faites le lien entre les représentations graphiques et les indicateurs et commentez les résultats."
   ]
  },
  {
   "cell_type": "raw",
   "metadata": {},
   "source": [
    "Le skew positive 0,96 nous confirme une distribution non simetrique.\n",
    "mean = 19189\n",
    "Mode es 16500, ca veut dire que bcp de voitures sont vendus a cette price.\n"
   ]
  },
  {
   "cell_type": "markdown",
   "metadata": {},
   "source": [
    "# Étape 3 : Analyse des ventes de voiture"
   ]
  },
  {
   "cell_type": "code",
   "execution_count": 15,
   "metadata": {},
   "outputs": [
    {
     "data": {
      "text/html": [
       "<div>\n",
       "<style scoped>\n",
       "    .dataframe tbody tr th:only-of-type {\n",
       "        vertical-align: middle;\n",
       "    }\n",
       "\n",
       "    .dataframe tbody tr th {\n",
       "        vertical-align: top;\n",
       "    }\n",
       "\n",
       "    .dataframe thead th {\n",
       "        text-align: right;\n",
       "    }\n",
       "</style>\n",
       "<table border=\"1\" class=\"dataframe\">\n",
       "  <thead>\n",
       "    <tr style=\"text-align: right;\">\n",
       "      <th></th>\n",
       "      <th>lot</th>\n",
       "    </tr>\n",
       "    <tr>\n",
       "      <th>brand</th>\n",
       "      <th></th>\n",
       "    </tr>\n",
       "  </thead>\n",
       "  <tbody>\n",
       "    <tr>\n",
       "      <th>ford</th>\n",
       "      <td>1189</td>\n",
       "    </tr>\n",
       "    <tr>\n",
       "      <th>dodge</th>\n",
       "      <td>424</td>\n",
       "    </tr>\n",
       "    <tr>\n",
       "      <th>nissan</th>\n",
       "      <td>298</td>\n",
       "    </tr>\n",
       "    <tr>\n",
       "      <th>chevrolet</th>\n",
       "      <td>262</td>\n",
       "    </tr>\n",
       "    <tr>\n",
       "      <th>gmc</th>\n",
       "      <td>39</td>\n",
       "    </tr>\n",
       "    <tr>\n",
       "      <th>jeep</th>\n",
       "      <td>28</td>\n",
       "    </tr>\n",
       "  </tbody>\n",
       "</table>\n",
       "</div>"
      ],
      "text/plain": [
       "            lot\n",
       "brand          \n",
       "ford       1189\n",
       "dodge       424\n",
       "nissan      298\n",
       "chevrolet   262\n",
       "gmc          39\n",
       "jeep         28"
      ]
     },
     "execution_count": 15,
     "metadata": {},
     "output_type": "execute_result"
    }
   ],
   "source": [
    "dfventes = df2010[['lot', 'brand']].groupby('brand').count()\n",
    "dfventes\n",
    "\n",
    "dfventes.sort_values(by=['lot'], inplace=True, ascending=False)\n",
    "dfventes2 = dfventes.head(6) #First 5 after order\n",
    "dfventes2"
   ]
  },
  {
   "cell_type": "code",
   "execution_count": 16,
   "metadata": {},
   "outputs": [
    {
     "data": {
      "image/png": "[encoded data removed]",
      "text/plain": [
       "<Figure size 432x288 with 1 Axes>"
      ]
     },
     "metadata": {
      "needs_background": "light"
     },
     "output_type": "display_data"
    }
   ],
   "source": [
    "df[['lot', 'brand']].groupby('brand').count().plot(kind='bar')\n",
    "plt.title('Cars vendus by brand Histogram', color = 'black', fontsize = 16)\n",
    "plt.xlabel('Years',color = 'black')\n",
    "plt.ylabel('Number of Cars vendus', color = 'blue')\n",
    "plt.xticks(color = 'blue')\n",
    "plt.yticks(color = 'black')\n",
    "plt.show()"
   ]
  },
  {
   "cell_type": "markdown",
   "metadata": {},
   "source": [
    "# Les cars le plus vendus sont ford=1189, dodge=424 et chevrolet=262"
   ]
  },
  {
   "cell_type": "markdown",
   "metadata": {},
   "source": [
    "# 2. Visualisez la variation de vente annuelle de chacune des 6 marques (sur un même graphique)\n"
   ]
  },
  {
   "cell_type": "code",
   "execution_count": 17,
   "metadata": {},
   "outputs": [
    {
     "data": {
      "text/plain": [
       "Text(0.5, 0, 'Year')"
      ]
     },
     "execution_count": 17,
     "metadata": {},
     "output_type": "execute_result"
    },
    {
     "data": {
      "image/png": "[encoded data removed]",
      "text/plain": [
       "<Figure size 576x576 with 1 Axes>"
      ]
     },
     "metadata": {
      "needs_background": "light"
     },
     "output_type": "display_data"
    }
   ],
   "source": [
    "FreqData2_table = pd.crosstab(columns=df2010['brand'], index=df2010['year'])\n",
    "FreqData2_table.reset_index()\n",
    "\n",
    "Stacked = FreqData2_table.plot(kind=\"bar\",figsize=(8,8),stacked=True,title='Stacked Bar Chart',fontsize=12)\n",
    "Stacked.set_ylabel(\"Count of Vents\",fontsize=12)\n",
    "Stacked.set_xlabel(\"Year\",fontsize=12)"
   ]
  },
  {
   "cell_type": "markdown",
   "metadata": {},
   "source": [
    "# Étape 4 : Analyse des relations"
   ]
  },
  {
   "cell_type": "markdown",
   "metadata": {},
   "source": [
    "# Pensez-vous qu’il y a une relation entre le prix price et la distance parcourue mileage ? Expliquez la démarche et\n",
    "les résultats obtenus."
   ]
  },
  {
   "cell_type": "code",
   "execution_count": 18,
   "metadata": {},
   "outputs": [
    {
     "data": {
      "text/html": [
       "<div>\n",
       "<style scoped>\n",
       "    .dataframe tbody tr th:only-of-type {\n",
       "        vertical-align: middle;\n",
       "    }\n",
       "\n",
       "    .dataframe tbody tr th {\n",
       "        vertical-align: top;\n",
       "    }\n",
       "\n",
       "    .dataframe thead th {\n",
       "        text-align: right;\n",
       "    }\n",
       "</style>\n",
       "<table border=\"1\" class=\"dataframe\">\n",
       "  <thead>\n",
       "    <tr style=\"text-align: right;\">\n",
       "      <th></th>\n",
       "      <th>Unnamed: 0</th>\n",
       "      <th>price</th>\n",
       "      <th>brand</th>\n",
       "      <th>model</th>\n",
       "      <th>year</th>\n",
       "      <th>title_status</th>\n",
       "      <th>mileage</th>\n",
       "      <th>color</th>\n",
       "      <th>vin</th>\n",
       "      <th>lot</th>\n",
       "      <th>state</th>\n",
       "      <th>country</th>\n",
       "      <th>condition</th>\n",
       "    </tr>\n",
       "  </thead>\n",
       "  <tbody>\n",
       "    <tr>\n",
       "      <th>1</th>\n",
       "      <td>1</td>\n",
       "      <td>2899</td>\n",
       "      <td>ford</td>\n",
       "      <td>se</td>\n",
       "      <td>2011</td>\n",
       "      <td>clean vehicle</td>\n",
       "      <td>190552.0</td>\n",
       "      <td>silver</td>\n",
       "      <td>2fmdk3gc4bbb02217</td>\n",
       "      <td>166951262</td>\n",
       "      <td>tennessee</td>\n",
       "      <td>usa</td>\n",
       "      <td>6 days left</td>\n",
       "    </tr>\n",
       "    <tr>\n",
       "      <th>2</th>\n",
       "      <td>2</td>\n",
       "      <td>5350</td>\n",
       "      <td>dodge</td>\n",
       "      <td>mpv</td>\n",
       "      <td>2018</td>\n",
       "      <td>clean vehicle</td>\n",
       "      <td>39590.0</td>\n",
       "      <td>silver</td>\n",
       "      <td>3c4pdcgg5jt346413</td>\n",
       "      <td>167655728</td>\n",
       "      <td>georgia</td>\n",
       "      <td>usa</td>\n",
       "      <td>2 days left</td>\n",
       "    </tr>\n",
       "    <tr>\n",
       "      <th>3</th>\n",
       "      <td>3</td>\n",
       "      <td>25000</td>\n",
       "      <td>ford</td>\n",
       "      <td>door</td>\n",
       "      <td>2014</td>\n",
       "      <td>clean vehicle</td>\n",
       "      <td>64146.0</td>\n",
       "      <td>blue</td>\n",
       "      <td>1ftfw1et4efc23745</td>\n",
       "      <td>167753855</td>\n",
       "      <td>virginia</td>\n",
       "      <td>usa</td>\n",
       "      <td>22 hours left</td>\n",
       "    </tr>\n",
       "    <tr>\n",
       "      <th>4</th>\n",
       "      <td>4</td>\n",
       "      <td>27700</td>\n",
       "      <td>chevrolet</td>\n",
       "      <td>1500</td>\n",
       "      <td>2018</td>\n",
       "      <td>clean vehicle</td>\n",
       "      <td>6654.0</td>\n",
       "      <td>red</td>\n",
       "      <td>3gcpcrec2jg473991</td>\n",
       "      <td>167763266</td>\n",
       "      <td>florida</td>\n",
       "      <td>usa</td>\n",
       "      <td>22 hours left</td>\n",
       "    </tr>\n",
       "    <tr>\n",
       "      <th>5</th>\n",
       "      <td>5</td>\n",
       "      <td>5700</td>\n",
       "      <td>dodge</td>\n",
       "      <td>mpv</td>\n",
       "      <td>2018</td>\n",
       "      <td>clean vehicle</td>\n",
       "      <td>45561.0</td>\n",
       "      <td>white</td>\n",
       "      <td>2c4rdgeg9jr237989</td>\n",
       "      <td>167655771</td>\n",
       "      <td>texas</td>\n",
       "      <td>usa</td>\n",
       "      <td>2 days left</td>\n",
       "    </tr>\n",
       "  </tbody>\n",
       "</table>\n",
       "</div>"
      ],
      "text/plain": [
       "   Unnamed: 0  price      brand model  year   title_status   mileage   color  \\\n",
       "1           1   2899       ford    se  2011  clean vehicle  190552.0  silver   \n",
       "2           2   5350      dodge   mpv  2018  clean vehicle   39590.0  silver   \n",
       "3           3  25000       ford  door  2014  clean vehicle   64146.0    blue   \n",
       "4           4  27700  chevrolet  1500  2018  clean vehicle    6654.0     red   \n",
       "5           5   5700      dodge   mpv  2018  clean vehicle   45561.0   white   \n",
       "\n",
       "                   vin        lot      state country      condition  \n",
       "1    2fmdk3gc4bbb02217  166951262  tennessee     usa    6 days left  \n",
       "2    3c4pdcgg5jt346413  167655728    georgia     usa    2 days left  \n",
       "3    1ftfw1et4efc23745  167753855   virginia     usa  22 hours left  \n",
       "4    3gcpcrec2jg473991  167763266    florida     usa  22 hours left  \n",
       "5    2c4rdgeg9jr237989  167655771      texas     usa    2 days left  "
      ]
     },
     "execution_count": 18,
     "metadata": {},
     "output_type": "execute_result"
    }
   ],
   "source": [
    "df2010.head(5)"
   ]
  },
  {
   "cell_type": "code",
   "execution_count": 19,
   "metadata": {},
   "outputs": [
    {
     "data": {
      "text/plain": [
       "Text(0.5, 1.0, 'Variation de Price vs Millaige')"
      ]
     },
     "execution_count": 19,
     "metadata": {},
     "output_type": "execute_result"
    },
    {
     "data": {
      "image/png": "[encoded data removed]",
      "text/plain": [
       "<Figure size 864x576 with 1 Axes>"
      ]
     },
     "metadata": {
      "needs_background": "light"
     },
     "output_type": "display_data"
    }
   ],
   "source": [
    "fig = plt.figure(figsize=(12,8))\n",
    "plt.scatter( df2010['price'], df2010[\"mileage\"], s=30)\n",
    "plt.grid(color='gray', linestyle='--', linewidth=1)\n",
    "plt.ylabel(\"Price\")\n",
    "plt.xlabel(\"Millaige\")\n",
    "plt.title('Variation de Price vs Millaige')"
   ]
  },
  {
   "cell_type": "markdown",
   "metadata": {},
   "source": [
    "# Graphiquement on a pas une relation lineaire entre les deux variables."
   ]
  },
  {
   "cell_type": "code",
   "execution_count": 20,
   "metadata": {},
   "outputs": [
    {
     "name": "stdout",
     "output_type": "stream",
     "text": [
      "Coeficient determination: \n",
      " 0.12446583982016178\n",
      "Intercept: \n",
      " 80379.37301767626\n",
      "Slope: \n",
      " [-1.62942198]\n"
     ]
    }
   ],
   "source": [
    "# Regression Lineaire\n",
    "\n",
    "from sklearn import linear_model\n",
    "from sklearn.linear_model import LinearRegression\n",
    "\n",
    "x1 = np.array(df2010['price']).reshape((-1,1))\n",
    "y1 = df2010['mileage']\n",
    "\n",
    "mymodel = LinearRegression()\n",
    "results = mymodel.fit(x1,y1)\n",
    "\n",
    "print(\"Coeficient determination: \\n\", results.score(x1, y1))\n",
    "print(\"Intercept: \\n\", results.intercept_)\n",
    "print(\"Slope: \\n\", results.coef_)"
   ]
  },
  {
   "cell_type": "markdown",
   "metadata": {},
   "source": [
    "# Le coeficient de determination cest tres bas, donc pas de relation lineaire entre variables."
   ]
  },
  {
   "cell_type": "code",
   "execution_count": 21,
   "metadata": {},
   "outputs": [
    {
     "name": "stdout",
     "output_type": "stream",
     "text": [
      "                            OLS Regression Results                            \n",
      "==============================================================================\n",
      "Dep. Variable:                  price   R-squared:                       0.124\n",
      "Model:                            OLS   Adj. R-squared:                  0.124\n",
      "Method:                 Least Squares   F-statistic:                     336.9\n",
      "Date:                Tue, 02 Mar 2021   Prob (F-statistic):           1.82e-70\n",
      "Time:                        21:36:42   Log-Likelihood:                -25456.\n",
      "No. Observations:                2372   AIC:                         5.092e+04\n",
      "Df Residuals:                    2370   BIC:                         5.093e+04\n",
      "Df Model:                           1                                         \n",
      "Covariance Type:            nonrobust                                         \n",
      "==============================================================================\n",
      "                 coef    std err          t      P>|t|      [0.025      0.975]\n",
      "------------------------------------------------------------------------------\n",
      "Intercept   2.294e+04    305.908     74.992      0.000    2.23e+04    2.35e+04\n",
      "mileage       -0.0764      0.004    -18.355      0.000      -0.085      -0.068\n",
      "==============================================================================\n",
      "Omnibus:                      520.702   Durbin-Watson:                   1.689\n",
      "Prob(Omnibus):                  0.000   Jarque-Bera (JB):             1181.266\n",
      "Skew:                           1.228   Prob(JB):                    3.10e-257\n",
      "Kurtosis:                       5.434   Cond. No.                     9.88e+04\n",
      "==============================================================================\n",
      "\n",
      "Warnings:\n",
      "[1] Standard Errors assume that the covariance matrix of the errors is correctly specified.\n",
      "[2] The condition number is large, 9.88e+04. This might indicate that there are\n",
      "strong multicollinearity or other numerical problems.\n"
     ]
    }
   ],
   "source": [
    "from statsmodels.formula.api import ols\n",
    "\n",
    "model2 = ols('price ~ mileage', data=df2010).fit() #x vs y\n",
    "print(model2.summary())"
   ]
  },
  {
   "cell_type": "raw",
   "metadata": {},
   "source": [
    "R-squared confirm que on a pas relation linear entre variables price and mileage"
   ]
  },
  {
   "cell_type": "markdown",
   "metadata": {},
   "source": [
    "# 3. Les variables prix price et title_status contiennent plusieurs valeurs aberrantes. En fixant un seuil à 2 (threshold = 2), supprimer\n",
    "les valeurs aberrantes en utilisant la distance interquartile."
   ]
  },
  {
   "cell_type": "code",
   "execution_count": 22,
   "metadata": {},
   "outputs": [
    {
     "name": "stderr",
     "output_type": "stream",
     "text": [
      "C:\\Users\\valm044\\Anaconda3\\lib\\site-packages\\ipykernel_launcher.py:21: SettingWithCopyWarning: \n",
      "A value is trying to be set on a copy of a slice from a DataFrame\n",
      "\n",
      "See the caveats in the documentation: https://pandas.pydata.org/pandas-docs/stable/user_guide/indexing.html#returning-a-view-versus-a-copy\n"
     ]
    },
    {
     "ename": "ValueError",
     "evalue": "[313 347] not contained in the index",
     "output_type": "error",
     "traceback": [
      "\u001b[1;31m---------------------------------------------------------------------------\u001b[0m",
      "\u001b[1;31mTypeError\u001b[0m                                 Traceback (most recent call last)",
      "\u001b[1;32m~\\Anaconda3\\lib\\site-packages\\pandas\\core\\series.py\u001b[0m in \u001b[0;36m__setitem__\u001b[1;34m(self, key, value)\u001b[0m\n\u001b[0;32m   1013\u001b[0m         \u001b[1;32mtry\u001b[0m\u001b[1;33m:\u001b[0m\u001b[1;33m\u001b[0m\u001b[1;33m\u001b[0m\u001b[0m\n\u001b[1;32m-> 1014\u001b[1;33m             \u001b[0mself\u001b[0m\u001b[1;33m.\u001b[0m\u001b[0m_set_with_engine\u001b[0m\u001b[1;33m(\u001b[0m\u001b[0mkey\u001b[0m\u001b[1;33m,\u001b[0m \u001b[0mvalue\u001b[0m\u001b[1;33m)\u001b[0m\u001b[1;33m\u001b[0m\u001b[1;33m\u001b[0m\u001b[0m\n\u001b[0m\u001b[0;32m   1015\u001b[0m         \u001b[1;32mexcept\u001b[0m \u001b[0mcom\u001b[0m\u001b[1;33m.\u001b[0m\u001b[0mSettingWithCopyError\u001b[0m\u001b[1;33m:\u001b[0m\u001b[1;33m\u001b[0m\u001b[1;33m\u001b[0m\u001b[0m\n",
      "\u001b[1;32m~\\Anaconda3\\lib\\site-packages\\pandas\\core\\series.py\u001b[0m in \u001b[0;36m_set_with_engine\u001b[1;34m(self, key, value)\u001b[0m\n\u001b[0;32m   1053\u001b[0m         \u001b[1;32mtry\u001b[0m\u001b[1;33m:\u001b[0m\u001b[1;33m\u001b[0m\u001b[1;33m\u001b[0m\u001b[0m\n\u001b[1;32m-> 1054\u001b[1;33m             \u001b[0mself\u001b[0m\u001b[1;33m.\u001b[0m\u001b[0mindex\u001b[0m\u001b[1;33m.\u001b[0m\u001b[0m_engine\u001b[0m\u001b[1;33m.\u001b[0m\u001b[0mset_value\u001b[0m\u001b[1;33m(\u001b[0m\u001b[0mvalues\u001b[0m\u001b[1;33m,\u001b[0m \u001b[0mkey\u001b[0m\u001b[1;33m,\u001b[0m \u001b[0mvalue\u001b[0m\u001b[1;33m)\u001b[0m\u001b[1;33m\u001b[0m\u001b[1;33m\u001b[0m\u001b[0m\n\u001b[0m\u001b[0;32m   1055\u001b[0m             \u001b[1;32mreturn\u001b[0m\u001b[1;33m\u001b[0m\u001b[1;33m\u001b[0m\u001b[0m\n",
      "\u001b[1;32mpandas\\_libs\\index.pyx\u001b[0m in \u001b[0;36mpandas._libs.index.IndexEngine.set_value\u001b[1;34m()\u001b[0m\n",
      "\u001b[1;32mpandas\\_libs\\index.pyx\u001b[0m in \u001b[0;36mpandas._libs.index.IndexEngine.set_value\u001b[1;34m()\u001b[0m\n",
      "\u001b[1;32mpandas\\_libs\\index.pyx\u001b[0m in \u001b[0;36mpandas._libs.index.IndexEngine.get_loc\u001b[1;34m()\u001b[0m\n",
      "\u001b[1;31mTypeError\u001b[0m: '[38, 43, 88, 120, 252, 313, 326, 335, 341, 347, 422, 555, 576, 771, 775, 1016, 1119, 1161, 1196, 1199, 1228, 1231, 1232, 1235, 1237, 1238, 1240, 1241, 1242, 1243, 1244, 1269, 1270, 1286, 1296, 1315, 1324, 1347, 1351, 1354, 1359, 1373, 1461, 1536, 1538, 1597, 1600, 1670, 1749, 1752, 1786, 1789, 1791, 1867, 1935, 1941, 1945, 1947, 2083, 2085, 2087]' is an invalid key",
      "\nDuring handling of the above exception, another exception occurred:\n",
      "\u001b[1;31mValueError\u001b[0m                                Traceback (most recent call last)",
      "\u001b[1;32m<ipython-input-22-fa86f6ac5400>\u001b[0m in \u001b[0;36m<module>\u001b[1;34m\u001b[0m\n\u001b[0;32m     19\u001b[0m \u001b[1;33m\u001b[0m\u001b[0m\n\u001b[0;32m     20\u001b[0m \u001b[0mindices_of_outliers\u001b[0m \u001b[1;33m=\u001b[0m \u001b[0mget_indices_of_outliers\u001b[0m\u001b[1;33m(\u001b[0m\u001b[0mdf2010\u001b[0m\u001b[1;33m[\u001b[0m\u001b[1;34m'price'\u001b[0m\u001b[1;33m]\u001b[0m\u001b[1;33m)\u001b[0m\u001b[1;33m\u001b[0m\u001b[1;33m\u001b[0m\u001b[0m\n\u001b[1;32m---> 21\u001b[1;33m \u001b[0mdf2010\u001b[0m\u001b[1;33m[\u001b[0m\u001b[1;34m'price'\u001b[0m\u001b[1;33m]\u001b[0m\u001b[1;33m[\u001b[0m\u001b[0mindices_of_outliers\u001b[0m\u001b[1;33m]\u001b[0m \u001b[1;33m=\u001b[0m \u001b[0mmean\u001b[0m\u001b[1;33m;\u001b[0m \u001b[1;31m#np.percentile(df2010['price'], 75, interpolation = 'midpoint') - np.percentile(df2010['price'], 25, interpolation = 'midpoint')\u001b[0m\u001b[1;33m\u001b[0m\u001b[1;33m\u001b[0m\u001b[0m\n\u001b[0m",
      "\u001b[1;32m~\\Anaconda3\\lib\\site-packages\\pandas\\core\\series.py\u001b[0m in \u001b[0;36m__setitem__\u001b[1;34m(self, key, value)\u001b[0m\n\u001b[0;32m   1040\u001b[0m                     \u001b[1;32mpass\u001b[0m\u001b[1;33m\u001b[0m\u001b[1;33m\u001b[0m\u001b[0m\n\u001b[0;32m   1041\u001b[0m \u001b[1;33m\u001b[0m\u001b[0m\n\u001b[1;32m-> 1042\u001b[1;33m             \u001b[0mself\u001b[0m\u001b[1;33m.\u001b[0m\u001b[0m_set_with\u001b[0m\u001b[1;33m(\u001b[0m\u001b[0mkey\u001b[0m\u001b[1;33m,\u001b[0m \u001b[0mvalue\u001b[0m\u001b[1;33m)\u001b[0m\u001b[1;33m\u001b[0m\u001b[1;33m\u001b[0m\u001b[0m\n\u001b[0m\u001b[0;32m   1043\u001b[0m \u001b[1;33m\u001b[0m\u001b[0m\n\u001b[0;32m   1044\u001b[0m         \u001b[1;32mif\u001b[0m \u001b[0mcacher_needs_updating\u001b[0m\u001b[1;33m:\u001b[0m\u001b[1;33m\u001b[0m\u001b[1;33m\u001b[0m\u001b[0m\n",
      "\u001b[1;32m~\\Anaconda3\\lib\\site-packages\\pandas\\core\\series.py\u001b[0m in \u001b[0;36m_set_with\u001b[1;34m(self, key, value)\u001b[0m\n\u001b[0;32m   1090\u001b[0m             \u001b[1;32mif\u001b[0m \u001b[0mkey_type\u001b[0m \u001b[1;33m==\u001b[0m \u001b[1;34m\"integer\"\u001b[0m\u001b[1;33m:\u001b[0m\u001b[1;33m\u001b[0m\u001b[1;33m\u001b[0m\u001b[0m\n\u001b[0;32m   1091\u001b[0m                 \u001b[1;32mif\u001b[0m \u001b[0mself\u001b[0m\u001b[1;33m.\u001b[0m\u001b[0mindex\u001b[0m\u001b[1;33m.\u001b[0m\u001b[0minferred_type\u001b[0m \u001b[1;33m==\u001b[0m \u001b[1;34m\"integer\"\u001b[0m\u001b[1;33m:\u001b[0m\u001b[1;33m\u001b[0m\u001b[1;33m\u001b[0m\u001b[0m\n\u001b[1;32m-> 1092\u001b[1;33m                     \u001b[0mself\u001b[0m\u001b[1;33m.\u001b[0m\u001b[0m_set_labels\u001b[0m\u001b[1;33m(\u001b[0m\u001b[0mkey\u001b[0m\u001b[1;33m,\u001b[0m \u001b[0mvalue\u001b[0m\u001b[1;33m)\u001b[0m\u001b[1;33m\u001b[0m\u001b[1;33m\u001b[0m\u001b[0m\n\u001b[0m\u001b[0;32m   1093\u001b[0m                 \u001b[1;32melse\u001b[0m\u001b[1;33m:\u001b[0m\u001b[1;33m\u001b[0m\u001b[1;33m\u001b[0m\u001b[0m\n\u001b[0;32m   1094\u001b[0m                     \u001b[1;32mreturn\u001b[0m \u001b[0mself\u001b[0m\u001b[1;33m.\u001b[0m\u001b[0m_set_values\u001b[0m\u001b[1;33m(\u001b[0m\u001b[0mkey\u001b[0m\u001b[1;33m,\u001b[0m \u001b[0mvalue\u001b[0m\u001b[1;33m)\u001b[0m\u001b[1;33m\u001b[0m\u001b[1;33m\u001b[0m\u001b[0m\n",
      "\u001b[1;32m~\\Anaconda3\\lib\\site-packages\\pandas\\core\\series.py\u001b[0m in \u001b[0;36m_set_labels\u001b[1;34m(self, key, value)\u001b[0m\n\u001b[0;32m   1103\u001b[0m         \u001b[0mmask\u001b[0m \u001b[1;33m=\u001b[0m \u001b[0mindexer\u001b[0m \u001b[1;33m==\u001b[0m \u001b[1;33m-\u001b[0m\u001b[1;36m1\u001b[0m\u001b[1;33m\u001b[0m\u001b[1;33m\u001b[0m\u001b[0m\n\u001b[0;32m   1104\u001b[0m         \u001b[1;32mif\u001b[0m \u001b[0mmask\u001b[0m\u001b[1;33m.\u001b[0m\u001b[0many\u001b[0m\u001b[1;33m(\u001b[0m\u001b[1;33m)\u001b[0m\u001b[1;33m:\u001b[0m\u001b[1;33m\u001b[0m\u001b[1;33m\u001b[0m\u001b[0m\n\u001b[1;32m-> 1105\u001b[1;33m             \u001b[1;32mraise\u001b[0m \u001b[0mValueError\u001b[0m\u001b[1;33m(\u001b[0m\u001b[1;34mf\"{key[mask]} not contained in the index\"\u001b[0m\u001b[1;33m)\u001b[0m\u001b[1;33m\u001b[0m\u001b[1;33m\u001b[0m\u001b[0m\n\u001b[0m\u001b[0;32m   1106\u001b[0m         \u001b[0mself\u001b[0m\u001b[1;33m.\u001b[0m\u001b[0m_set_values\u001b[0m\u001b[1;33m(\u001b[0m\u001b[0mindexer\u001b[0m\u001b[1;33m,\u001b[0m \u001b[0mvalue\u001b[0m\u001b[1;33m)\u001b[0m\u001b[1;33m\u001b[0m\u001b[1;33m\u001b[0m\u001b[0m\n\u001b[0;32m   1107\u001b[0m \u001b[1;33m\u001b[0m\u001b[0m\n",
      "\u001b[1;31mValueError\u001b[0m: [313 347] not contained in the index"
     ]
    }
   ],
   "source": [
    "def is_outlier(value, p25, p75):\n",
    "    # Check if value is an outlier\n",
    "    lower = p25 - 1.5 * (p75 - p25)\n",
    "    upper = p75 + 1.5 * (p75 - p25)\n",
    "    return value <= lower or value >= upper\n",
    "\n",
    "\n",
    "def get_indices_of_outliers(values):\n",
    "    #Get outlier indices (if any)\n",
    "    p25 = np.percentile(values, 25)\n",
    "    p75 = np.percentile(values, 75)\n",
    "     \n",
    "    indices_of_outliers = []\n",
    "    for ind, value in enumerate(values):\n",
    "        if is_outlier(value, p25, p75):\n",
    "            indices_of_outliers.append(ind)\n",
    "    return indices_of_outliers\n",
    "\n",
    "\n",
    "indices_of_outliers = get_indices_of_outliers(df2010['price'])\n",
    "df2010['price'][indices_of_outliers] = mean; #np.percentile(df2010['price'], 75, interpolation = 'midpoint') - np.percentile(df2010['price'], 25, interpolation = 'midpoint') "
   ]
  },
  {
   "cell_type": "markdown",
   "metadata": {},
   "source": [
    "# Excercise 4"
   ]
  },
  {
   "cell_type": "code",
   "execution_count": 25,
   "metadata": {},
   "outputs": [
    {
     "name": "stdout",
     "output_type": "stream",
     "text": [
      "stattiscit:  -3.3341306580162486\n",
      "p_value:  0.0008688293624366382\n"
     ]
    }
   ],
   "source": [
    "\n",
    "from scipy import stats\n",
    "\n",
    "results = stats.ttest_1samp(df2010['price'], 20000, 0)\n",
    "print('stattiscit: ', results[0])\n",
    "print('p_value: ', results[1])"
   ]
  },
  {
   "cell_type": "code",
   "execution_count": 26,
   "metadata": {},
   "outputs": [
    {
     "name": "stdout",
     "output_type": "stream",
     "text": [
      "(reject H0)\n"
     ]
    }
   ],
   "source": [
    "# interpret p-value \n",
    "alpha = 0.05\n",
    "if results[1] <= alpha: \n",
    "    print('(reject H0)') \n",
    "else: \n",
    "    print('(H0 holds true)') "
   ]
  },
  {
   "cell_type": "code",
   "execution_count": null,
   "metadata": {},
   "outputs": [],
   "source": [
    "# Nos rejectons que la moyenne cest 20000"
   ]
  }
 ],
 "metadata": {
  "kernelspec": {
   "display_name": "Python 3",
   "language": "python",
   "name": "python3"
  },
  "language_info": {
   "codemirror_mode": {
    "name": "ipython",
    "version": 3
   },
   "file_extension": ".py",
   "mimetype": "text/x-python",
   "name": "python",
   "nbconvert_exporter": "python",
   "pygments_lexer": "ipython3",
   "version": "3.7.6"
  }
 },
 "nbformat": 4,
 "nbformat_minor": 4
}
