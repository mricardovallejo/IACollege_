{
 "cells": [
  {
   "cell_type": "markdown",
   "metadata": {},
   "source": [
    "# AFDM\n",
    "\n",
    " - Author:  Ricardo Vallejo R."
   ]
  },
  {
   "cell_type": "markdown",
   "metadata": {},
   "source": [
    "# 1. téléchargez le contenu de la base de données et affichez son contenue"
   ]
  },
  {
   "cell_type": "code",
   "execution_count": 1,
   "metadata": {},
   "outputs": [
    {
     "data": {
      "text/html": [
       "<div>\n",
       "<style scoped>\n",
       "    .dataframe tbody tr th:only-of-type {\n",
       "        vertical-align: middle;\n",
       "    }\n",
       "\n",
       "    .dataframe tbody tr th {\n",
       "        vertical-align: top;\n",
       "    }\n",
       "\n",
       "    .dataframe thead th {\n",
       "        text-align: right;\n",
       "    }\n",
       "</style>\n",
       "<table border=\"1\" class=\"dataframe\">\n",
       "  <thead>\n",
       "    <tr style=\"text-align: right;\">\n",
       "      <th></th>\n",
       "      <th>Modele</th>\n",
       "      <th>puissance</th>\n",
       "      <th>longueur</th>\n",
       "      <th>hauteur</th>\n",
       "      <th>poids</th>\n",
       "      <th>CO2</th>\n",
       "      <th>origine</th>\n",
       "      <th>carburant</th>\n",
       "      <th>4X4</th>\n",
       "    </tr>\n",
       "  </thead>\n",
       "  <tbody>\n",
       "    <tr>\n",
       "      <th>0</th>\n",
       "      <td>GOLF</td>\n",
       "      <td>75</td>\n",
       "      <td>421</td>\n",
       "      <td>149</td>\n",
       "      <td>1217</td>\n",
       "      <td>143</td>\n",
       "      <td>Europe</td>\n",
       "      <td>Diesel</td>\n",
       "      <td>non</td>\n",
       "    </tr>\n",
       "    <tr>\n",
       "      <th>1</th>\n",
       "      <td>CITRONC4</td>\n",
       "      <td>138</td>\n",
       "      <td>426</td>\n",
       "      <td>146</td>\n",
       "      <td>1381</td>\n",
       "      <td>142</td>\n",
       "      <td>France</td>\n",
       "      <td>Diesel</td>\n",
       "      <td>non</td>\n",
       "    </tr>\n",
       "    <tr>\n",
       "      <th>2</th>\n",
       "      <td>P607</td>\n",
       "      <td>204</td>\n",
       "      <td>491</td>\n",
       "      <td>145</td>\n",
       "      <td>1723</td>\n",
       "      <td>223</td>\n",
       "      <td>France</td>\n",
       "      <td>Diesel</td>\n",
       "      <td>non</td>\n",
       "    </tr>\n",
       "    <tr>\n",
       "      <th>3</th>\n",
       "      <td>VELSATIS</td>\n",
       "      <td>150</td>\n",
       "      <td>486</td>\n",
       "      <td>158</td>\n",
       "      <td>1735</td>\n",
       "      <td>188</td>\n",
       "      <td>France</td>\n",
       "      <td>Diesel</td>\n",
       "      <td>non</td>\n",
       "    </tr>\n",
       "    <tr>\n",
       "      <th>4</th>\n",
       "      <td>CITRONC2</td>\n",
       "      <td>61</td>\n",
       "      <td>367</td>\n",
       "      <td>147</td>\n",
       "      <td>932</td>\n",
       "      <td>141</td>\n",
       "      <td>France</td>\n",
       "      <td>Essence</td>\n",
       "      <td>non</td>\n",
       "    </tr>\n",
       "    <tr>\n",
       "      <th>5</th>\n",
       "      <td>CHRYS300</td>\n",
       "      <td>340</td>\n",
       "      <td>502</td>\n",
       "      <td>148</td>\n",
       "      <td>1835</td>\n",
       "      <td>291</td>\n",
       "      <td>Autres</td>\n",
       "      <td>Essence</td>\n",
       "      <td>non</td>\n",
       "    </tr>\n",
       "    <tr>\n",
       "      <th>6</th>\n",
       "      <td>AUDIA3</td>\n",
       "      <td>102</td>\n",
       "      <td>421</td>\n",
       "      <td>143</td>\n",
       "      <td>1205</td>\n",
       "      <td>168</td>\n",
       "      <td>Europe</td>\n",
       "      <td>Essence</td>\n",
       "      <td>non</td>\n",
       "    </tr>\n",
       "    <tr>\n",
       "      <th>7</th>\n",
       "      <td>OUTLAND</td>\n",
       "      <td>202</td>\n",
       "      <td>455</td>\n",
       "      <td>167</td>\n",
       "      <td>1595</td>\n",
       "      <td>237</td>\n",
       "      <td>Autres</td>\n",
       "      <td>Diesel</td>\n",
       "      <td>oui</td>\n",
       "    </tr>\n",
       "    <tr>\n",
       "      <th>8</th>\n",
       "      <td>PTCRUISER</td>\n",
       "      <td>223</td>\n",
       "      <td>429</td>\n",
       "      <td>154</td>\n",
       "      <td>1595</td>\n",
       "      <td>235</td>\n",
       "      <td>Autres</td>\n",
       "      <td>Essence</td>\n",
       "      <td>non</td>\n",
       "    </tr>\n",
       "    <tr>\n",
       "      <th>9</th>\n",
       "      <td>SANTA_FE</td>\n",
       "      <td>125</td>\n",
       "      <td>450</td>\n",
       "      <td>173</td>\n",
       "      <td>1757</td>\n",
       "      <td>197</td>\n",
       "      <td>Autres</td>\n",
       "      <td>Diesel</td>\n",
       "      <td>oui</td>\n",
       "    </tr>\n",
       "  </tbody>\n",
       "</table>\n",
       "</div>"
      ],
      "text/plain": [
       "         Modele  puissance  longueur  hauteur  poids  CO2 origine carburant  \\\n",
       "0  GOLF                 75       421      149   1217  143  Europe    Diesel   \n",
       "1  CITRONC4            138       426      146   1381  142  France    Diesel   \n",
       "2  P607                204       491      145   1723  223  France    Diesel   \n",
       "3  VELSATIS            150       486      158   1735  188  France    Diesel   \n",
       "4  CITRONC2             61       367      147    932  141  France   Essence   \n",
       "5  CHRYS300            340       502      148   1835  291  Autres   Essence   \n",
       "6  AUDIA3              102       421      143   1205  168  Europe   Essence   \n",
       "7  OUTLAND             202       455      167   1595  237  Autres    Diesel   \n",
       "8  PTCRUISER           223       429      154   1595  235  Autres   Essence   \n",
       "9  SANTA_FE            125       450      173   1757  197  Autres    Diesel   \n",
       "\n",
       "   4X4  \n",
       "0  non  \n",
       "1  non  \n",
       "2  non  \n",
       "3  non  \n",
       "4  non  \n",
       "5  non  \n",
       "6  non  \n",
       "7  oui  \n",
       "8  non  \n",
       "9  oui  "
      ]
     },
     "execution_count": 1,
     "metadata": {},
     "output_type": "execute_result"
    }
   ],
   "source": [
    "import pandas as pd\n",
    "import matplotlib.pyplot as plt\n",
    "import statistics\n",
    "import numpy as np\n",
    "import scipy.stats\n",
    "import seaborn as sns\n",
    "\n",
    "dataOriginal = pd.read_excel(\"Autos_Mixtes.xlsx\")\n",
    "pd.set_option('display.max_rows', None)\n",
    "dataOriginal"
   ]
  },
  {
   "cell_type": "markdown",
   "metadata": {},
   "source": [
    "# 2. Identifiez les données quantitatives et les données qualitatives"
   ]
  },
  {
   "cell_type": "code",
   "execution_count": 2,
   "metadata": {},
   "outputs": [],
   "source": [
    "v_qualitative = ['origine', 'carburant', '4X4']\n",
    "v_quantitative = ['puissance', 'longueur', 'hauteur', 'poids', 'CO2']"
   ]
  },
  {
   "cell_type": "code",
   "execution_count": 3,
   "metadata": {},
   "outputs": [
    {
     "data": {
      "text/html": [
       "<div>\n",
       "<style scoped>\n",
       "    .dataframe tbody tr th:only-of-type {\n",
       "        vertical-align: middle;\n",
       "    }\n",
       "\n",
       "    .dataframe tbody tr th {\n",
       "        vertical-align: top;\n",
       "    }\n",
       "\n",
       "    .dataframe thead th {\n",
       "        text-align: right;\n",
       "    }\n",
       "</style>\n",
       "<table border=\"1\" class=\"dataframe\">\n",
       "  <thead>\n",
       "    <tr style=\"text-align: right;\">\n",
       "      <th></th>\n",
       "      <th>type de variable</th>\n",
       "    </tr>\n",
       "    <tr>\n",
       "      <th>Variable name</th>\n",
       "      <th></th>\n",
       "    </tr>\n",
       "  </thead>\n",
       "  <tbody>\n",
       "    <tr>\n",
       "      <th>Modele</th>\n",
       "      <td>Qualitative</td>\n",
       "    </tr>\n",
       "    <tr>\n",
       "      <th>CYL</th>\n",
       "      <td>Quantitative</td>\n",
       "    </tr>\n",
       "    <tr>\n",
       "      <th>PUISS</th>\n",
       "      <td>Quantitative</td>\n",
       "    </tr>\n",
       "    <tr>\n",
       "      <th>LONG</th>\n",
       "      <td>Quantitative</td>\n",
       "    </tr>\n",
       "    <tr>\n",
       "      <th>LARG</th>\n",
       "      <td>Quantitative</td>\n",
       "    </tr>\n",
       "    <tr>\n",
       "      <th>POIDS</th>\n",
       "      <td>Quantitative</td>\n",
       "    </tr>\n",
       "    <tr>\n",
       "      <th>POIDS</th>\n",
       "      <td>Quantitative</td>\n",
       "    </tr>\n",
       "    <tr>\n",
       "      <th>V.MAX</th>\n",
       "      <td>Quantitative</td>\n",
       "    </tr>\n",
       "    <tr>\n",
       "      <th>4X4</th>\n",
       "      <td>Qualitative</td>\n",
       "    </tr>\n",
       "    <tr>\n",
       "      <th>Origine</th>\n",
       "      <td>Qualitative</td>\n",
       "    </tr>\n",
       "    <tr>\n",
       "      <th>carburant</th>\n",
       "      <td>Qualitative</td>\n",
       "    </tr>\n",
       "  </tbody>\n",
       "</table>\n",
       "</div>"
      ],
      "text/plain": [
       "              type de variable\n",
       "Variable name                 \n",
       "Modele             Qualitative\n",
       "CYL               Quantitative\n",
       "PUISS             Quantitative\n",
       "LONG              Quantitative\n",
       "LARG              Quantitative\n",
       "POIDS             Quantitative\n",
       "POIDS             Quantitative\n",
       "V.MAX             Quantitative\n",
       "4X4                Qualitative\n",
       "Origine            Qualitative\n",
       "carburant          Qualitative"
      ]
     },
     "execution_count": 3,
     "metadata": {},
     "output_type": "execute_result"
    }
   ],
   "source": [
    "infoVariables = pd.read_excel('Autos_Mixtes.xlsx',sheet_name='types',index_col=0)\n",
    "pd.set_option('display.max_rows', None)\n",
    "n_variables = infoVariables.shape[0]\n",
    "infoVariables"
   ]
  },
  {
   "cell_type": "code",
   "execution_count": 4,
   "metadata": {},
   "outputs": [
    {
     "data": {
      "text/plain": [
       "10"
      ]
     },
     "execution_count": 4,
     "metadata": {},
     "output_type": "execute_result"
    }
   ],
   "source": [
    "n_data = dataOriginal.shape[0] #individues\n",
    "n_data"
   ]
  },
  {
   "cell_type": "code",
   "execution_count": 5,
   "metadata": {},
   "outputs": [
    {
     "data": {
      "text/plain": [
       "9"
      ]
     },
     "execution_count": 5,
     "metadata": {},
     "output_type": "execute_result"
    }
   ],
   "source": [
    "p = dataOriginal.shape[1]\n",
    "p"
   ]
  },
  {
   "cell_type": "markdown",
   "metadata": {},
   "source": [
    "# 3. Effectuez la préparation des données quantitatives en vue d’une analyse factorielle"
   ]
  },
  {
   "cell_type": "markdown",
   "metadata": {},
   "source": [
    "# Standarisation Variables Quantitatives"
   ]
  },
  {
   "cell_type": "code",
   "execution_count": 6,
   "metadata": {},
   "outputs": [],
   "source": [
    "\n",
    "DCT = dataOriginal[v_quantitative]"
   ]
  },
  {
   "cell_type": "code",
   "execution_count": 7,
   "metadata": {},
   "outputs": [
    {
     "ename": "NameError",
     "evalue": "name 'Z1' is not defined",
     "output_type": "error",
     "traceback": [
      "\u001b[1;31m---------------------------------------------------------------------------\u001b[0m",
      "\u001b[1;31mNameError\u001b[0m                                 Traceback (most recent call last)",
      "\u001b[1;32m<ipython-input-7-7d17ce4a92e1>\u001b[0m in \u001b[0;36m<module>\u001b[1;34m\u001b[0m\n\u001b[0;32m      3\u001b[0m \u001b[0mscaler\u001b[0m \u001b[1;33m=\u001b[0m \u001b[0mStandardScaler\u001b[0m\u001b[1;33m(\u001b[0m\u001b[1;33m)\u001b[0m\u001b[1;33m\u001b[0m\u001b[1;33m\u001b[0m\u001b[0m\n\u001b[0;32m      4\u001b[0m \u001b[0mscaler\u001b[0m\u001b[1;33m.\u001b[0m\u001b[0mfit\u001b[0m\u001b[1;33m(\u001b[0m\u001b[0mDCT\u001b[0m\u001b[1;33m)\u001b[0m\u001b[1;33m\u001b[0m\u001b[1;33m\u001b[0m\u001b[0m\n\u001b[1;32m----> 5\u001b[1;33m \u001b[0mDCT_std\u001b[0m \u001b[1;33m=\u001b[0m \u001b[0mscaler\u001b[0m\u001b[1;33m.\u001b[0m\u001b[0mtransform\u001b[0m\u001b[1;33m(\u001b[0m\u001b[0mZ1\u001b[0m\u001b[1;33m)\u001b[0m\u001b[1;33m\u001b[0m\u001b[1;33m\u001b[0m\u001b[0m\n\u001b[0m\u001b[0;32m      6\u001b[0m \u001b[0mDCT_standarized\u001b[0m \u001b[1;33m=\u001b[0m \u001b[0mpd\u001b[0m\u001b[1;33m.\u001b[0m\u001b[0mDataFrame\u001b[0m\u001b[1;33m(\u001b[0m\u001b[0mDCT_std\u001b[0m\u001b[1;33m)\u001b[0m\u001b[1;33m\u001b[0m\u001b[1;33m\u001b[0m\u001b[0m\n\u001b[0;32m      7\u001b[0m \u001b[0mDCT_standarized\u001b[0m \u001b[1;33m=\u001b[0m \u001b[0mpd\u001b[0m\u001b[1;33m.\u001b[0m\u001b[0mDataFrame\u001b[0m\u001b[1;33m(\u001b[0m\u001b[0mDCT_std\u001b[0m\u001b[1;33m,\u001b[0m \u001b[0mcolumns\u001b[0m\u001b[1;33m=\u001b[0m\u001b[0mDCT\u001b[0m\u001b[1;33m.\u001b[0m\u001b[0mcolumns\u001b[0m\u001b[1;33m)\u001b[0m\u001b[1;33m\u001b[0m\u001b[1;33m\u001b[0m\u001b[0m\n",
      "\u001b[1;31mNameError\u001b[0m: name 'Z1' is not defined"
     ]
    }
   ],
   "source": [
    "from sklearn.preprocessing import StandardScaler\n",
    "\n",
    "scaler = StandardScaler()\n",
    "scaler.fit(DCT)\n",
    "DCT_std = scaler.transform(Z1)\n",
    "DCT_standarized = pd.DataFrame(DCT_std)\n",
    "DCT_standarized = pd.DataFrame(DCT_std, columns=DCT.columns)\n",
    "DCT_standarized.round(3)"
   ]
  },
  {
   "cell_type": "code",
   "execution_count": null,
   "metadata": {},
   "outputs": [],
   "source": [
    "DCT_standarized.describe().round(3) \n",
    "#Les moyennes des variables de X sont zero"
   ]
  },
  {
   "cell_type": "code",
   "execution_count": null,
   "metadata": {},
   "outputs": [],
   "source": [
    "# Verification de donnes centres et reduites"
   ]
  },
  {
   "cell_type": "code",
   "execution_count": null,
   "metadata": {},
   "outputs": [],
   "source": [
    "print('Les écarts types des variables de X\\n', np.std(DCT_std,axis=0,ddof=0))"
   ]
  },
  {
   "cell_type": "markdown",
   "metadata": {},
   "source": [
    "# Standarisation Variables Qualitatives"
   ]
  },
  {
   "cell_type": "markdown",
   "metadata": {},
   "source": [
    "4. Représentez les données qualitatives sous la forme d’un tableau disjonctif (TDC) en vue d’une analyse factorielle."
   ]
  },
  {
   "cell_type": "code",
   "execution_count": null,
   "metadata": {},
   "outputs": [],
   "source": [
    "v_qualitative"
   ]
  },
  {
   "cell_type": "code",
   "execution_count": null,
   "metadata": {},
   "outputs": [],
   "source": [
    "dataDCL = dataOriginal[v_qualitative]\n",
    "K_disj = pd.get_dummies(dataDCL, prefix='',prefix_sep='')"
   ]
  },
  {
   "cell_type": "code",
   "execution_count": null,
   "metadata": {},
   "outputs": [],
   "source": [
    "K_disj"
   ]
  },
  {
   "cell_type": "code",
   "execution_count": null,
   "metadata": {},
   "outputs": [],
   "source": [
    "#nombre total de modalites\n",
    "print('Nombre  total des modalites',K_disj.shape[1])\n",
    "\n",
    "#proportions\n",
    "pk=np.mean(K_disj.values,axis=0)\n",
    "print('proportions: ',pk)\n"
   ]
  },
  {
   "cell_type": "code",
   "execution_count": null,
   "metadata": {},
   "outputs": [],
   "source": [
    "#Modalites\n",
    "K_disj.columns"
   ]
  },
  {
   "cell_type": "code",
   "execution_count": null,
   "metadata": {},
   "outputs": [],
   "source": [
    "X2_std = K_disj.values/np.sqrt(pk)\n",
    "X2_stdDf = pd.DataFrame(X2_std, columns = K_disj.columns)\n",
    "X2_stdDf"
   ]
  },
  {
   "cell_type": "markdown",
   "metadata": {},
   "source": [
    "## 5. Représentez une matrice sommaire des données"
   ]
  },
  {
   "cell_type": "code",
   "execution_count": null,
   "metadata": {},
   "outputs": [],
   "source": [
    "listcol=[list(DCT_standarized.columns)+list(K_disj.columns)]\n",
    "print(listcol)"
   ]
  },
  {
   "cell_type": "code",
   "execution_count": null,
   "metadata": {},
   "outputs": [],
   "source": [
    "X=np.concatenate((DCT_standarized,X2_stdDf),axis=1)\n",
    "Xdf = pd.DataFrame(X, columns = listcol)\n",
    "Xdf.round(3)"
   ]
  },
  {
   "cell_type": "code",
   "execution_count": null,
   "metadata": {},
   "outputs": [],
   "source": [
    "print('Dimension de la matrice de donnees preparees',Xdf.shape[0],Xdf.shape[1])"
   ]
  },
  {
   "cell_type": "markdown",
   "metadata": {},
   "source": [
    "# 6. Analysis AFDM"
   ]
  },
  {
   "cell_type": "code",
   "execution_count": null,
   "metadata": {},
   "outputs": [],
   "source": [
    "from fanalysis.pca  import PCA\n",
    "\n",
    "afdm=PCA(std_unit=False,row_labels=Xdf.index,col_labels=listcol)\n",
    "afdm.fit(X)\n",
    "None"
   ]
  },
  {
   "cell_type": "markdown",
   "metadata": {},
   "source": [
    "## 7. Déterminez les valeurs propres de l’ensemble des données"
   ]
  },
  {
   "cell_type": "code",
   "execution_count": null,
   "metadata": {},
   "outputs": [],
   "source": [
    "afdm.eig_[0].round(3)"
   ]
  },
  {
   "cell_type": "markdown",
   "metadata": {},
   "source": [
    "# Numero de facteurs a retenir"
   ]
  },
  {
   "cell_type": "markdown",
   "metadata": {},
   "source": [
    "6. Faites une analyse du nombre de facteurs principaux à retenir. Justifiez votre raisonnement et les différentes étapes à \n",
    "réaliser"
   ]
  },
  {
   "cell_type": "code",
   "execution_count": null,
   "metadata": {},
   "outputs": [],
   "source": [
    "p = X.shape[1] # All\n",
    "p2 = len(v_qualitative) # Z2.shape[1] # Cualitatives\n",
    "Fmax = p - p2  # numero de variables quantitatives es el max numero de valores propios\n",
    "Fmax"
   ]
  },
  {
   "cell_type": "code",
   "execution_count": null,
   "metadata": {},
   "outputs": [],
   "source": [
    "p #No columnes of Z (normalised multitype)"
   ]
  },
  {
   "cell_type": "code",
   "execution_count": null,
   "metadata": {},
   "outputs": [],
   "source": [
    "p2 # No. variables qualitatives"
   ]
  },
  {
   "cell_type": "code",
   "execution_count": null,
   "metadata": {},
   "outputs": [],
   "source": [
    "print('Le numero maximo de facteur principaux est: ', Fmax)"
   ]
  },
  {
   "cell_type": "markdown",
   "metadata": {},
   "source": [
    "# 7. Déterminez les valeurs propres de l’ensemble des données"
   ]
  },
  {
   "cell_type": "code",
   "execution_count": null,
   "metadata": {},
   "outputs": [],
   "source": [
    "afdm.eig_[0].round(3)"
   ]
  },
  {
   "cell_type": "code",
   "execution_count": null,
   "metadata": {},
   "outputs": [],
   "source": [
    "s=np.arange(1,Fmax+2)\n",
    "display(s)"
   ]
  },
  {
   "cell_type": "markdown",
   "metadata": {},
   "source": [
    "\n",
    "# Determination de facteurs principaux"
   ]
  },
  {
   "cell_type": "code",
   "execution_count": null,
   "metadata": {},
   "outputs": [],
   "source": [
    "XVarianceInfo=pd.DataFrame(np.transpose(afdm.eig_),columns=['Val.P','%','Cumul %'], index=s)\n",
    "XVarianceInfo.round(3)"
   ]
  },
  {
   "cell_type": "markdown",
   "metadata": {},
   "source": [
    "Les (H = 2) premiers facteurs seraient donc les seules pertinentes avec des variances égales respectivement à\n",
    "4.273 et 2.122. Ils restituent 71% de l’information disponible. on preserve 71% de la variance\n",
    "cumulee. "
   ]
  },
  {
   "cell_type": "markdown",
   "metadata": {},
   "source": [
    "### Determination de nombre de facteurs principaux a partir de le Elbow plot"
   ]
  },
  {
   "cell_type": "code",
   "execution_count": null,
   "metadata": {},
   "outputs": [],
   "source": [
    "fix,ax=plt.subplots(figsize=(6,6))\n",
    "ax.plot(range(1,Fmax+1),afdm.eig_[0][:Fmax],\".-\")\n",
    "ax.set_xlabel(\"Nombre de facteurs\")\n",
    "ax.set_ylabel(\"Valuers propres\")\n",
    "plt.title(\"Eboulis des valeurs propres\")\n",
    "plt.show()"
   ]
  },
  {
   "cell_type": "markdown",
   "metadata": {},
   "source": [
    "# 8. Déterminez la contribution des variables aux 2 premiers axes factoriels. Commentez les résultats."
   ]
  },
  {
   "cell_type": "markdown",
   "metadata": {},
   "source": [
    "## 9. Représentez graphiquement les variables et les individus sur le même graphique. "
   ]
  },
  {
   "cell_type": "markdown",
   "metadata": {},
   "source": [
    "## Individues"
   ]
  },
  {
   "cell_type": "code",
   "execution_count": null,
   "metadata": {},
   "outputs": [],
   "source": [
    "#afdm.col_coord_ \n",
    "\n",
    "ContributionInfo=pd.DataFrame(afdm.row_coord_[:,:2],columns=['Coord F1','Coord F2'], index=dataOriginal['Modele'])\n",
    "display(ContributionInfo)\n"
   ]
  },
  {
   "cell_type": "code",
   "execution_count": null,
   "metadata": {},
   "outputs": [],
   "source": [
    "fix,ax=plt.subplots(figsize=(6,6))\n",
    "ax.axis([-4,+4,-4,+4])\n",
    "ax.plot([-4,+4],[0,0],linestyle='--')\n",
    "ax.plot([0,0],[-4,+4],linestyle='--')\n",
    "ax.set_xlabel(\"Dim.1\")\n",
    "ax.set_ylabel(\"Dim.2\")\n",
    "plt.title('Representation des individus')\n",
    "for i in range(dataOriginal.shape[0]):\n",
    "    ax.text(afdm.row_coord_[i,0],afdm.row_coord_[i,1],dataOriginal.iloc[i, 0])\n",
    "plt.show() "
   ]
  },
  {
   "cell_type": "markdown",
   "metadata": {},
   "source": [
    "## Variables - Coordonnees des variables-modalites sur les axes factorielles\n"
   ]
  },
  {
   "cell_type": "code",
   "execution_count": null,
   "metadata": {},
   "outputs": [],
   "source": [
    "#afdm.col_coord_ \n",
    "\n",
    "# 2 cest le numero de axes factorielles a retenir.\n",
    "\n",
    "ContributionInfo2=pd.DataFrame(afdm.col_coord_[:,:2],columns=['Coord F1','Coord F2'], index=listcol)\n",
    "display(ContributionInfo2)\n",
    "\n"
   ]
  },
  {
   "cell_type": "code",
   "execution_count": null,
   "metadata": {},
   "outputs": [],
   "source": [
    "a=list(ContributionInfo2.index.values)\n",
    "a"
   ]
  },
  {
   "cell_type": "code",
   "execution_count": null,
   "metadata": {},
   "outputs": [],
   "source": [
    "fix,ax=plt.subplots(figsize=(6,6))\n",
    "ax.axis([-2,+2,-2,+2])\n",
    "ax.plot([-2,+2],[0,0],linestyle='--')\n",
    "ax.plot([0,0],[-2,+2],linestyle='--')\n",
    "ax.set_xlabel(\"Dim.1\")\n",
    "ax.set_ylabel(\"Dim.2\")\n",
    "plt.title('Representation des variables')\n",
    "for i in range(dataOriginal.shape[0]):\n",
    "    ax.text(afdm.col_coord_[i,0],afdm.col_coord_[i,1], a[i], color='green')\n",
    "plt.show() "
   ]
  },
  {
   "cell_type": "code",
   "execution_count": null,
   "metadata": {},
   "outputs": [],
   "source": [
    " ax.text(afdm.col_coord_[i,0],afdm.col_coord_[i,1],dataOriginal.iloc[i, 0], color='red')"
   ]
  },
  {
   "cell_type": "code",
   "execution_count": null,
   "metadata": {},
   "outputs": [],
   "source": [
    "fix,ax=plt.subplots(figsize=(12,12))\n",
    "ax.axis([-4,+4,-4,+4])\n",
    "ax.plot([-4,+4],[0,0],linestyle='--')\n",
    "ax.plot([0,0],[-4,+4],linestyle='--')\n",
    "ax.set_xlabel(\"Dim.1\")\n",
    "ax.set_ylabel(\"Dim.2\")\n",
    "plt.title('Representation des individus et variables')\n",
    "for i in range(dataOriginal.shape[0]):\n",
    "    ax.text(afdm.row_coord_[i,0],afdm.row_coord_[i,1],dataOriginal.iloc[i, 0])\n",
    "    ax.text(afdm.col_coord_[i,0],afdm.col_coord_[i,1], a[i], color='green')\n",
    "plt.show() \n",
    "\n",
    "\n"
   ]
  },
  {
   "cell_type": "code",
   "execution_count": null,
   "metadata": {},
   "outputs": [],
   "source": [
    "dataOriginal"
   ]
  },
  {
   "cell_type": "markdown",
   "metadata": {},
   "source": [
    "- Les variables sont importants au niveaux absolut, ca veut dire SANTAFE,OUTLAND,\n",
    "  CHRYS300 sont les plus importants dans les axis de hauteur, lequelle est predominant dans le axe factorielle Dim 1. \n",
    "  independendante de son signe.\n",
    "  \n",
    "- \n",
    "\n",
    "\n",
    "\n",
    "\n"
   ]
  },
  {
   "cell_type": "markdown",
   "metadata": {},
   "source": [
    "### Carre des correlations des variables quantitatives: r2\n"
   ]
  },
  {
   "cell_type": "code",
   "execution_count": null,
   "metadata": {},
   "outputs": [],
   "source": [
    "\n",
    "corr2F1=(np.corrcoef(afdm.row_coord_[:,0],DCT_standarized.values,rowvar=False)**2)[0,1:]\n",
    "print(corr2F1)\n"
   ]
  },
  {
   "cell_type": "code",
   "execution_count": null,
   "metadata": {},
   "outputs": [],
   "source": [
    "corr2F2=(np.corrcoef(afdm.row_coord_[:,1],DCT_standarized.values,rowvar=False)**2)[0,1:]\n",
    "print(corr2F2)"
   ]
  },
  {
   "cell_type": "code",
   "execution_count": null,
   "metadata": {},
   "outputs": [],
   "source": [
    "DCT_standarized"
   ]
  },
  {
   "cell_type": "markdown",
   "metadata": {},
   "source": [
    "### Carré du rapport de corrélation variables qualitatives: n2"
   ]
  },
  {
   "cell_type": "code",
   "execution_count": null,
   "metadata": {},
   "outputs": [],
   "source": [
    "p_k = np.mean(K_disj.values,axis=0)\n",
    "p_k"
   ]
  },
  {
   "cell_type": "code",
   "execution_count": null,
   "metadata": {},
   "outputs": [],
   "source": [
    "#data frame temporaire \n",
    "temp = dataDCL.copy() \n",
    "temp['F1'] = afdm.row_coord_[:,0] \n",
    "\n",
    "#carré du rapport de corrélation pour origine \n",
    "eta_origine = np.sum((pd.pivot_table(temp,values='F1',index='origine').values[:,0]**2)*p_k[:3])/afdm.eig_[0][0] \n",
    "print(eta_origine)\n",
    "\n",
    "#carré du rapport de corrélation pour carburant \n",
    "eta_carburant = np.sum((pd.pivot_table(temp,values='F1',index='carburant').values[:,0]**2)*p_k[3:5])/afdm.eig_[0][0] \n",
    "print(eta_carburant)\n",
    "\n",
    "#carré du rapport de corrélation pour 4X4 \n",
    "eta_4X4 = np.sum((pd.pivot_table(temp,values='F1',index='4X4').values[:,0]**2)*p_k[5:])/afdm.eig_[0][0] \n",
    "print(eta_4X4)"
   ]
  },
  {
   "cell_type": "code",
   "execution_count": null,
   "metadata": {},
   "outputs": [],
   "source": [
    "# Verification"
   ]
  },
  {
   "cell_type": "code",
   "execution_count": null,
   "metadata": {},
   "outputs": [],
   "source": [
    "sum_sq = np.sum(corr2F1) + eta_origine + eta_carburant + eta_4X4\n",
    "sum_sq"
   ]
  },
  {
   "cell_type": "markdown",
   "metadata": {},
   "source": [
    "cest le meme valeur de lambda1."
   ]
  },
  {
   "cell_type": "code",
   "execution_count": null,
   "metadata": {},
   "outputs": [],
   "source": [
    "afdm.eig_[0].round(3)"
   ]
  },
  {
   "cell_type": "code",
   "execution_count": null,
   "metadata": {},
   "outputs": [],
   "source": []
  }
 ],
 "metadata": {
  "kernelspec": {
   "display_name": "Anaconda (base)",
   "language": "python",
   "name": "anaconda-base"
  },
  "language_info": {
   "codemirror_mode": {
    "name": "ipython",
    "version": 3
   },
   "file_extension": ".py",
   "mimetype": "text/x-python",
   "name": "python",
   "nbconvert_exporter": "python",
   "pygments_lexer": "ipython3",
   "version": "3.7.6"
  }
 },
 "nbformat": 4,
 "nbformat_minor": 4
}
