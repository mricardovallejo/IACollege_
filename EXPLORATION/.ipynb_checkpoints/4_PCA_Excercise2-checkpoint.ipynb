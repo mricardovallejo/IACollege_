{
 "cells": [
  {
   "cell_type": "markdown",
   "metadata": {},
   "source": [
    "# Analysis PCA - Excercise Temperature de France"
   ]
  },
  {
   "cell_type": "markdown",
   "metadata": {},
   "source": [
    "# Author: Ricardo Vallejo R."
   ]
  },
  {
   "cell_type": "markdown",
   "metadata": {},
   "source": [
    "# 1. Load Data"
   ]
  },
  {
   "cell_type": "code",
   "execution_count": 1,
   "metadata": {},
   "outputs": [
    {
     "data": {
      "text/html": [
       "<div>\n",
       "<style scoped>\n",
       "    .dataframe tbody tr th:only-of-type {\n",
       "        vertical-align: middle;\n",
       "    }\n",
       "\n",
       "    .dataframe tbody tr th {\n",
       "        vertical-align: top;\n",
       "    }\n",
       "\n",
       "    .dataframe thead th {\n",
       "        text-align: right;\n",
       "    }\n",
       "</style>\n",
       "<table border=\"1\" class=\"dataframe\">\n",
       "  <thead>\n",
       "    <tr style=\"text-align: right;\">\n",
       "      <th></th>\n",
       "      <th>City</th>\n",
       "      <th>Janv</th>\n",
       "      <th>Fevrier</th>\n",
       "      <th>Mars</th>\n",
       "      <th>Avril</th>\n",
       "      <th>Mai</th>\n",
       "      <th>Juin</th>\n",
       "      <th>juil</th>\n",
       "      <th>Aout</th>\n",
       "      <th>Sept</th>\n",
       "      <th>Octo</th>\n",
       "      <th>Nove</th>\n",
       "      <th>Dece</th>\n",
       "      <th>Lati</th>\n",
       "      <th>Long</th>\n",
       "      <th>Moye</th>\n",
       "      <th>Ampl</th>\n",
       "      <th>Region</th>\n",
       "    </tr>\n",
       "  </thead>\n",
       "  <tbody>\n",
       "    <tr>\n",
       "      <th>0</th>\n",
       "      <td>Bordeaux</td>\n",
       "      <td>5.6</td>\n",
       "      <td>6.6</td>\n",
       "      <td>10.3</td>\n",
       "      <td>12.8</td>\n",
       "      <td>15.8</td>\n",
       "      <td>19.3</td>\n",
       "      <td>20.9</td>\n",
       "      <td>21.0</td>\n",
       "      <td>18.6</td>\n",
       "      <td>13.8</td>\n",
       "      <td>9.1</td>\n",
       "      <td>6.2</td>\n",
       "      <td>44.50</td>\n",
       "      <td>-0.34</td>\n",
       "      <td>13.33</td>\n",
       "      <td>15.4</td>\n",
       "      <td>SO</td>\n",
       "    </tr>\n",
       "    <tr>\n",
       "      <th>1</th>\n",
       "      <td>Brest</td>\n",
       "      <td>6.1</td>\n",
       "      <td>5.8</td>\n",
       "      <td>7.8</td>\n",
       "      <td>9.2</td>\n",
       "      <td>11.6</td>\n",
       "      <td>14.4</td>\n",
       "      <td>15.6</td>\n",
       "      <td>16.0</td>\n",
       "      <td>14.7</td>\n",
       "      <td>12.0</td>\n",
       "      <td>9.0</td>\n",
       "      <td>7.0</td>\n",
       "      <td>48.24</td>\n",
       "      <td>-4.29</td>\n",
       "      <td>10.77</td>\n",
       "      <td>10.2</td>\n",
       "      <td>NO</td>\n",
       "    </tr>\n",
       "    <tr>\n",
       "      <th>2</th>\n",
       "      <td>Clermont</td>\n",
       "      <td>2.6</td>\n",
       "      <td>3.7</td>\n",
       "      <td>7.5</td>\n",
       "      <td>10.3</td>\n",
       "      <td>13.8</td>\n",
       "      <td>17.3</td>\n",
       "      <td>19.4</td>\n",
       "      <td>19.1</td>\n",
       "      <td>16.2</td>\n",
       "      <td>11.2</td>\n",
       "      <td>6.6</td>\n",
       "      <td>3.6</td>\n",
       "      <td>45.47</td>\n",
       "      <td>3.05</td>\n",
       "      <td>10.94</td>\n",
       "      <td>16.8</td>\n",
       "      <td>SE</td>\n",
       "    </tr>\n",
       "    <tr>\n",
       "      <th>3</th>\n",
       "      <td>Grenoble</td>\n",
       "      <td>1.5</td>\n",
       "      <td>3.2</td>\n",
       "      <td>7.7</td>\n",
       "      <td>10.6</td>\n",
       "      <td>14.5</td>\n",
       "      <td>17.8</td>\n",
       "      <td>20.1</td>\n",
       "      <td>19.5</td>\n",
       "      <td>16.7</td>\n",
       "      <td>11.4</td>\n",
       "      <td>6.5</td>\n",
       "      <td>2.3</td>\n",
       "      <td>45.10</td>\n",
       "      <td>5.43</td>\n",
       "      <td>10.98</td>\n",
       "      <td>18.6</td>\n",
       "      <td>SE</td>\n",
       "    </tr>\n",
       "    <tr>\n",
       "      <th>4</th>\n",
       "      <td>Lille</td>\n",
       "      <td>2.4</td>\n",
       "      <td>2.9</td>\n",
       "      <td>6.0</td>\n",
       "      <td>8.9</td>\n",
       "      <td>12.4</td>\n",
       "      <td>15.3</td>\n",
       "      <td>17.1</td>\n",
       "      <td>17.1</td>\n",
       "      <td>14.7</td>\n",
       "      <td>10.4</td>\n",
       "      <td>6.1</td>\n",
       "      <td>3.5</td>\n",
       "      <td>50.38</td>\n",
       "      <td>3.04</td>\n",
       "      <td>9.73</td>\n",
       "      <td>14.7</td>\n",
       "      <td>NE</td>\n",
       "    </tr>\n",
       "    <tr>\n",
       "      <th>5</th>\n",
       "      <td>Lyon</td>\n",
       "      <td>2.1</td>\n",
       "      <td>3.3</td>\n",
       "      <td>7.7</td>\n",
       "      <td>10.9</td>\n",
       "      <td>14.9</td>\n",
       "      <td>18.5</td>\n",
       "      <td>20.7</td>\n",
       "      <td>20.1</td>\n",
       "      <td>16.9</td>\n",
       "      <td>11.4</td>\n",
       "      <td>6.7</td>\n",
       "      <td>3.1</td>\n",
       "      <td>45.45</td>\n",
       "      <td>4.51</td>\n",
       "      <td>11.36</td>\n",
       "      <td>18.6</td>\n",
       "      <td>SE</td>\n",
       "    </tr>\n",
       "    <tr>\n",
       "      <th>6</th>\n",
       "      <td>Marseille</td>\n",
       "      <td>5.5</td>\n",
       "      <td>6.6</td>\n",
       "      <td>10.0</td>\n",
       "      <td>13.0</td>\n",
       "      <td>16.8</td>\n",
       "      <td>20.8</td>\n",
       "      <td>23.3</td>\n",
       "      <td>22.8</td>\n",
       "      <td>19.9</td>\n",
       "      <td>15.0</td>\n",
       "      <td>10.2</td>\n",
       "      <td>6.9</td>\n",
       "      <td>43.18</td>\n",
       "      <td>5.24</td>\n",
       "      <td>14.23</td>\n",
       "      <td>17.8</td>\n",
       "      <td>SE</td>\n",
       "    </tr>\n",
       "    <tr>\n",
       "      <th>7</th>\n",
       "      <td>Montpellier</td>\n",
       "      <td>5.6</td>\n",
       "      <td>6.7</td>\n",
       "      <td>9.9</td>\n",
       "      <td>12.8</td>\n",
       "      <td>16.2</td>\n",
       "      <td>20.1</td>\n",
       "      <td>22.7</td>\n",
       "      <td>22.3</td>\n",
       "      <td>19.3</td>\n",
       "      <td>14.6</td>\n",
       "      <td>10.0</td>\n",
       "      <td>6.5</td>\n",
       "      <td>43.36</td>\n",
       "      <td>3.53</td>\n",
       "      <td>13.89</td>\n",
       "      <td>17.1</td>\n",
       "      <td>SE</td>\n",
       "    </tr>\n",
       "    <tr>\n",
       "      <th>8</th>\n",
       "      <td>Nantes</td>\n",
       "      <td>5.0</td>\n",
       "      <td>5.3</td>\n",
       "      <td>8.4</td>\n",
       "      <td>10.8</td>\n",
       "      <td>13.9</td>\n",
       "      <td>17.2</td>\n",
       "      <td>18.8</td>\n",
       "      <td>18.6</td>\n",
       "      <td>16.4</td>\n",
       "      <td>12.2</td>\n",
       "      <td>8.2</td>\n",
       "      <td>5.5</td>\n",
       "      <td>47.13</td>\n",
       "      <td>-1.33</td>\n",
       "      <td>11.69</td>\n",
       "      <td>13.8</td>\n",
       "      <td>NO</td>\n",
       "    </tr>\n",
       "    <tr>\n",
       "      <th>9</th>\n",
       "      <td>Nice</td>\n",
       "      <td>7.5</td>\n",
       "      <td>8.5</td>\n",
       "      <td>10.8</td>\n",
       "      <td>13.3</td>\n",
       "      <td>16.7</td>\n",
       "      <td>20.1</td>\n",
       "      <td>22.7</td>\n",
       "      <td>22.5</td>\n",
       "      <td>20.3</td>\n",
       "      <td>16.0</td>\n",
       "      <td>11.5</td>\n",
       "      <td>8.2</td>\n",
       "      <td>43.42</td>\n",
       "      <td>7.15</td>\n",
       "      <td>14.84</td>\n",
       "      <td>15.2</td>\n",
       "      <td>SE</td>\n",
       "    </tr>\n",
       "    <tr>\n",
       "      <th>10</th>\n",
       "      <td>Paris</td>\n",
       "      <td>3.4</td>\n",
       "      <td>4.1</td>\n",
       "      <td>7.6</td>\n",
       "      <td>10.7</td>\n",
       "      <td>14.3</td>\n",
       "      <td>17.5</td>\n",
       "      <td>19.1</td>\n",
       "      <td>18.7</td>\n",
       "      <td>16.0</td>\n",
       "      <td>11.4</td>\n",
       "      <td>7.1</td>\n",
       "      <td>4.3</td>\n",
       "      <td>48.52</td>\n",
       "      <td>2.20</td>\n",
       "      <td>11.18</td>\n",
       "      <td>15.7</td>\n",
       "      <td>NE</td>\n",
       "    </tr>\n",
       "    <tr>\n",
       "      <th>11</th>\n",
       "      <td>Rennes</td>\n",
       "      <td>4.8</td>\n",
       "      <td>5.3</td>\n",
       "      <td>7.9</td>\n",
       "      <td>10.1</td>\n",
       "      <td>13.1</td>\n",
       "      <td>16.2</td>\n",
       "      <td>17.9</td>\n",
       "      <td>17.8</td>\n",
       "      <td>15.7</td>\n",
       "      <td>11.6</td>\n",
       "      <td>7.8</td>\n",
       "      <td>5.4</td>\n",
       "      <td>48.05</td>\n",
       "      <td>-1.41</td>\n",
       "      <td>11.13</td>\n",
       "      <td>13.1</td>\n",
       "      <td>NO</td>\n",
       "    </tr>\n",
       "    <tr>\n",
       "      <th>12</th>\n",
       "      <td>Strasbourg</td>\n",
       "      <td>0.4</td>\n",
       "      <td>1.5</td>\n",
       "      <td>5.6</td>\n",
       "      <td>9.8</td>\n",
       "      <td>14.0</td>\n",
       "      <td>17.2</td>\n",
       "      <td>19.0</td>\n",
       "      <td>18.3</td>\n",
       "      <td>15.1</td>\n",
       "      <td>9.5</td>\n",
       "      <td>4.9</td>\n",
       "      <td>1.3</td>\n",
       "      <td>48.35</td>\n",
       "      <td>7.45</td>\n",
       "      <td>9.72</td>\n",
       "      <td>18.6</td>\n",
       "      <td>NE</td>\n",
       "    </tr>\n",
       "    <tr>\n",
       "      <th>13</th>\n",
       "      <td>Toulouse</td>\n",
       "      <td>4.7</td>\n",
       "      <td>5.6</td>\n",
       "      <td>9.2</td>\n",
       "      <td>11.6</td>\n",
       "      <td>14.9</td>\n",
       "      <td>18.7</td>\n",
       "      <td>20.9</td>\n",
       "      <td>20.9</td>\n",
       "      <td>18.3</td>\n",
       "      <td>13.3</td>\n",
       "      <td>8.6</td>\n",
       "      <td>5.5</td>\n",
       "      <td>43.36</td>\n",
       "      <td>1.26</td>\n",
       "      <td>12.68</td>\n",
       "      <td>16.2</td>\n",
       "      <td>SO</td>\n",
       "    </tr>\n",
       "    <tr>\n",
       "      <th>14</th>\n",
       "      <td>Vichy</td>\n",
       "      <td>2.4</td>\n",
       "      <td>3.4</td>\n",
       "      <td>7.1</td>\n",
       "      <td>9.9</td>\n",
       "      <td>13.6</td>\n",
       "      <td>17.1</td>\n",
       "      <td>19.3</td>\n",
       "      <td>18.8</td>\n",
       "      <td>16.0</td>\n",
       "      <td>11.0</td>\n",
       "      <td>6.6</td>\n",
       "      <td>3.4</td>\n",
       "      <td>46.08</td>\n",
       "      <td>3.26</td>\n",
       "      <td>10.72</td>\n",
       "      <td>16.9</td>\n",
       "      <td>SE</td>\n",
       "    </tr>\n",
       "  </tbody>\n",
       "</table>\n",
       "</div>"
      ],
      "text/plain": [
       "           City  Janv  Fevrier  Mars  Avril   Mai  Juin  juil  Aout  Sept  \\\n",
       "0      Bordeaux   5.6      6.6  10.3   12.8  15.8  19.3  20.9  21.0  18.6   \n",
       "1         Brest   6.1      5.8   7.8    9.2  11.6  14.4  15.6  16.0  14.7   \n",
       "2      Clermont   2.6      3.7   7.5   10.3  13.8  17.3  19.4  19.1  16.2   \n",
       "3      Grenoble   1.5      3.2   7.7   10.6  14.5  17.8  20.1  19.5  16.7   \n",
       "4         Lille   2.4      2.9   6.0    8.9  12.4  15.3  17.1  17.1  14.7   \n",
       "5          Lyon   2.1      3.3   7.7   10.9  14.9  18.5  20.7  20.1  16.9   \n",
       "6     Marseille   5.5      6.6  10.0   13.0  16.8  20.8  23.3  22.8  19.9   \n",
       "7   Montpellier   5.6      6.7   9.9   12.8  16.2  20.1  22.7  22.3  19.3   \n",
       "8        Nantes   5.0      5.3   8.4   10.8  13.9  17.2  18.8  18.6  16.4   \n",
       "9          Nice   7.5      8.5  10.8   13.3  16.7  20.1  22.7  22.5  20.3   \n",
       "10        Paris   3.4      4.1   7.6   10.7  14.3  17.5  19.1  18.7  16.0   \n",
       "11       Rennes   4.8      5.3   7.9   10.1  13.1  16.2  17.9  17.8  15.7   \n",
       "12   Strasbourg   0.4      1.5   5.6    9.8  14.0  17.2  19.0  18.3  15.1   \n",
       "13     Toulouse   4.7      5.6   9.2   11.6  14.9  18.7  20.9  20.9  18.3   \n",
       "14        Vichy   2.4      3.4   7.1    9.9  13.6  17.1  19.3  18.8  16.0   \n",
       "\n",
       "    Octo  Nove  Dece   Lati  Long   Moye  Ampl Region  \n",
       "0   13.8   9.1   6.2  44.50 -0.34  13.33  15.4     SO  \n",
       "1   12.0   9.0   7.0  48.24 -4.29  10.77  10.2     NO  \n",
       "2   11.2   6.6   3.6  45.47  3.05  10.94  16.8     SE  \n",
       "3   11.4   6.5   2.3  45.10  5.43  10.98  18.6     SE  \n",
       "4   10.4   6.1   3.5  50.38  3.04   9.73  14.7     NE  \n",
       "5   11.4   6.7   3.1  45.45  4.51  11.36  18.6     SE  \n",
       "6   15.0  10.2   6.9  43.18  5.24  14.23  17.8     SE  \n",
       "7   14.6  10.0   6.5  43.36  3.53  13.89  17.1     SE  \n",
       "8   12.2   8.2   5.5  47.13 -1.33  11.69  13.8     NO  \n",
       "9   16.0  11.5   8.2  43.42  7.15  14.84  15.2     SE  \n",
       "10  11.4   7.1   4.3  48.52  2.20  11.18  15.7     NE  \n",
       "11  11.6   7.8   5.4  48.05 -1.41  11.13  13.1     NO  \n",
       "12   9.5   4.9   1.3  48.35  7.45   9.72  18.6     NE  \n",
       "13  13.3   8.6   5.5  43.36  1.26  12.68  16.2     SO  \n",
       "14  11.0   6.6   3.4  46.08  3.26  10.72  16.9     SE  "
      ]
     },
     "execution_count": 1,
     "metadata": {},
     "output_type": "execute_result"
    }
   ],
   "source": [
    "import pandas as pd\n",
    "import matplotlib.pyplot as plt\n",
    "import statistics\n",
    "import numpy as np\n",
    "import scipy.stats\n",
    "import seaborn as sns\n",
    "\n",
    "dataOriginal = pd.read_excel(\"Donnees_Temperat_France.xls\")\n",
    "pd.set_option('display.max_rows', None)\n",
    "n_data = dataOriginal.shape[0]\n",
    "\n",
    "dataOriginal"
   ]
  },
  {
   "cell_type": "code",
   "execution_count": 2,
   "metadata": {},
   "outputs": [
    {
     "data": {
      "text/plain": [
       "15"
      ]
     },
     "execution_count": 2,
     "metadata": {},
     "output_type": "execute_result"
    }
   ],
   "source": [
    "n_data"
   ]
  },
  {
   "cell_type": "code",
   "execution_count": 3,
   "metadata": {},
   "outputs": [
    {
     "name": "stdout",
     "output_type": "stream",
     "text": [
      "<class 'pandas.core.frame.DataFrame'>\n",
      "RangeIndex: 15 entries, 0 to 14\n",
      "Data columns (total 18 columns):\n",
      " #   Column   Non-Null Count  Dtype  \n",
      "---  ------   --------------  -----  \n",
      " 0   City     15 non-null     object \n",
      " 1   Janv     15 non-null     float64\n",
      " 2   Fevrier  15 non-null     float64\n",
      " 3   Mars     15 non-null     float64\n",
      " 4   Avril    15 non-null     float64\n",
      " 5   Mai      15 non-null     float64\n",
      " 6   Juin     15 non-null     float64\n",
      " 7   juil     15 non-null     float64\n",
      " 8   Aout     15 non-null     float64\n",
      " 9   Sept     15 non-null     float64\n",
      " 10  Octo     15 non-null     float64\n",
      " 11  Nove     15 non-null     float64\n",
      " 12  Dece     15 non-null     float64\n",
      " 13  Lati     15 non-null     float64\n",
      " 14  Long     15 non-null     float64\n",
      " 15  Moye     15 non-null     float64\n",
      " 16  Ampl     15 non-null     float64\n",
      " 17  Region   15 non-null     object \n",
      "dtypes: float64(16), object(2)\n",
      "memory usage: 2.2+ KB\n"
     ]
    }
   ],
   "source": [
    "dataOriginal.info()"
   ]
  },
  {
   "cell_type": "markdown",
   "metadata": {},
   "source": [
    "# 2. Standarisation"
   ]
  },
  {
   "cell_type": "code",
   "execution_count": 4,
   "metadata": {},
   "outputs": [
    {
     "data": {
      "text/html": [
       "<div>\n",
       "<style scoped>\n",
       "    .dataframe tbody tr th:only-of-type {\n",
       "        vertical-align: middle;\n",
       "    }\n",
       "\n",
       "    .dataframe tbody tr th {\n",
       "        vertical-align: top;\n",
       "    }\n",
       "\n",
       "    .dataframe thead th {\n",
       "        text-align: right;\n",
       "    }\n",
       "</style>\n",
       "<table border=\"1\" class=\"dataframe\">\n",
       "  <thead>\n",
       "    <tr style=\"text-align: right;\">\n",
       "      <th></th>\n",
       "      <th>Janv</th>\n",
       "      <th>Fevrier</th>\n",
       "      <th>Mars</th>\n",
       "      <th>Avril</th>\n",
       "      <th>Mai</th>\n",
       "      <th>Juin</th>\n",
       "      <th>juil</th>\n",
       "      <th>Aout</th>\n",
       "      <th>Sept</th>\n",
       "      <th>Octo</th>\n",
       "      <th>Nove</th>\n",
       "      <th>Dece</th>\n",
       "      <th>Lati</th>\n",
       "      <th>Long</th>\n",
       "      <th>Moye</th>\n",
       "      <th>Ampl</th>\n",
       "    </tr>\n",
       "  </thead>\n",
       "  <tbody>\n",
       "    <tr>\n",
       "      <th>0</th>\n",
       "      <td>5.6</td>\n",
       "      <td>6.6</td>\n",
       "      <td>10.3</td>\n",
       "      <td>12.8</td>\n",
       "      <td>15.8</td>\n",
       "      <td>19.3</td>\n",
       "      <td>20.9</td>\n",
       "      <td>21.0</td>\n",
       "      <td>18.6</td>\n",
       "      <td>13.8</td>\n",
       "      <td>9.1</td>\n",
       "      <td>6.2</td>\n",
       "      <td>44.50</td>\n",
       "      <td>-0.34</td>\n",
       "      <td>13.33</td>\n",
       "      <td>15.4</td>\n",
       "    </tr>\n",
       "    <tr>\n",
       "      <th>1</th>\n",
       "      <td>6.1</td>\n",
       "      <td>5.8</td>\n",
       "      <td>7.8</td>\n",
       "      <td>9.2</td>\n",
       "      <td>11.6</td>\n",
       "      <td>14.4</td>\n",
       "      <td>15.6</td>\n",
       "      <td>16.0</td>\n",
       "      <td>14.7</td>\n",
       "      <td>12.0</td>\n",
       "      <td>9.0</td>\n",
       "      <td>7.0</td>\n",
       "      <td>48.24</td>\n",
       "      <td>-4.29</td>\n",
       "      <td>10.77</td>\n",
       "      <td>10.2</td>\n",
       "    </tr>\n",
       "    <tr>\n",
       "      <th>2</th>\n",
       "      <td>2.6</td>\n",
       "      <td>3.7</td>\n",
       "      <td>7.5</td>\n",
       "      <td>10.3</td>\n",
       "      <td>13.8</td>\n",
       "      <td>17.3</td>\n",
       "      <td>19.4</td>\n",
       "      <td>19.1</td>\n",
       "      <td>16.2</td>\n",
       "      <td>11.2</td>\n",
       "      <td>6.6</td>\n",
       "      <td>3.6</td>\n",
       "      <td>45.47</td>\n",
       "      <td>3.05</td>\n",
       "      <td>10.94</td>\n",
       "      <td>16.8</td>\n",
       "    </tr>\n",
       "    <tr>\n",
       "      <th>3</th>\n",
       "      <td>1.5</td>\n",
       "      <td>3.2</td>\n",
       "      <td>7.7</td>\n",
       "      <td>10.6</td>\n",
       "      <td>14.5</td>\n",
       "      <td>17.8</td>\n",
       "      <td>20.1</td>\n",
       "      <td>19.5</td>\n",
       "      <td>16.7</td>\n",
       "      <td>11.4</td>\n",
       "      <td>6.5</td>\n",
       "      <td>2.3</td>\n",
       "      <td>45.10</td>\n",
       "      <td>5.43</td>\n",
       "      <td>10.98</td>\n",
       "      <td>18.6</td>\n",
       "    </tr>\n",
       "    <tr>\n",
       "      <th>4</th>\n",
       "      <td>2.4</td>\n",
       "      <td>2.9</td>\n",
       "      <td>6.0</td>\n",
       "      <td>8.9</td>\n",
       "      <td>12.4</td>\n",
       "      <td>15.3</td>\n",
       "      <td>17.1</td>\n",
       "      <td>17.1</td>\n",
       "      <td>14.7</td>\n",
       "      <td>10.4</td>\n",
       "      <td>6.1</td>\n",
       "      <td>3.5</td>\n",
       "      <td>50.38</td>\n",
       "      <td>3.04</td>\n",
       "      <td>9.73</td>\n",
       "      <td>14.7</td>\n",
       "    </tr>\n",
       "    <tr>\n",
       "      <th>5</th>\n",
       "      <td>2.1</td>\n",
       "      <td>3.3</td>\n",
       "      <td>7.7</td>\n",
       "      <td>10.9</td>\n",
       "      <td>14.9</td>\n",
       "      <td>18.5</td>\n",
       "      <td>20.7</td>\n",
       "      <td>20.1</td>\n",
       "      <td>16.9</td>\n",
       "      <td>11.4</td>\n",
       "      <td>6.7</td>\n",
       "      <td>3.1</td>\n",
       "      <td>45.45</td>\n",
       "      <td>4.51</td>\n",
       "      <td>11.36</td>\n",
       "      <td>18.6</td>\n",
       "    </tr>\n",
       "    <tr>\n",
       "      <th>6</th>\n",
       "      <td>5.5</td>\n",
       "      <td>6.6</td>\n",
       "      <td>10.0</td>\n",
       "      <td>13.0</td>\n",
       "      <td>16.8</td>\n",
       "      <td>20.8</td>\n",
       "      <td>23.3</td>\n",
       "      <td>22.8</td>\n",
       "      <td>19.9</td>\n",
       "      <td>15.0</td>\n",
       "      <td>10.2</td>\n",
       "      <td>6.9</td>\n",
       "      <td>43.18</td>\n",
       "      <td>5.24</td>\n",
       "      <td>14.23</td>\n",
       "      <td>17.8</td>\n",
       "    </tr>\n",
       "    <tr>\n",
       "      <th>7</th>\n",
       "      <td>5.6</td>\n",
       "      <td>6.7</td>\n",
       "      <td>9.9</td>\n",
       "      <td>12.8</td>\n",
       "      <td>16.2</td>\n",
       "      <td>20.1</td>\n",
       "      <td>22.7</td>\n",
       "      <td>22.3</td>\n",
       "      <td>19.3</td>\n",
       "      <td>14.6</td>\n",
       "      <td>10.0</td>\n",
       "      <td>6.5</td>\n",
       "      <td>43.36</td>\n",
       "      <td>3.53</td>\n",
       "      <td>13.89</td>\n",
       "      <td>17.1</td>\n",
       "    </tr>\n",
       "    <tr>\n",
       "      <th>8</th>\n",
       "      <td>5.0</td>\n",
       "      <td>5.3</td>\n",
       "      <td>8.4</td>\n",
       "      <td>10.8</td>\n",
       "      <td>13.9</td>\n",
       "      <td>17.2</td>\n",
       "      <td>18.8</td>\n",
       "      <td>18.6</td>\n",
       "      <td>16.4</td>\n",
       "      <td>12.2</td>\n",
       "      <td>8.2</td>\n",
       "      <td>5.5</td>\n",
       "      <td>47.13</td>\n",
       "      <td>-1.33</td>\n",
       "      <td>11.69</td>\n",
       "      <td>13.8</td>\n",
       "    </tr>\n",
       "    <tr>\n",
       "      <th>9</th>\n",
       "      <td>7.5</td>\n",
       "      <td>8.5</td>\n",
       "      <td>10.8</td>\n",
       "      <td>13.3</td>\n",
       "      <td>16.7</td>\n",
       "      <td>20.1</td>\n",
       "      <td>22.7</td>\n",
       "      <td>22.5</td>\n",
       "      <td>20.3</td>\n",
       "      <td>16.0</td>\n",
       "      <td>11.5</td>\n",
       "      <td>8.2</td>\n",
       "      <td>43.42</td>\n",
       "      <td>7.15</td>\n",
       "      <td>14.84</td>\n",
       "      <td>15.2</td>\n",
       "    </tr>\n",
       "    <tr>\n",
       "      <th>10</th>\n",
       "      <td>3.4</td>\n",
       "      <td>4.1</td>\n",
       "      <td>7.6</td>\n",
       "      <td>10.7</td>\n",
       "      <td>14.3</td>\n",
       "      <td>17.5</td>\n",
       "      <td>19.1</td>\n",
       "      <td>18.7</td>\n",
       "      <td>16.0</td>\n",
       "      <td>11.4</td>\n",
       "      <td>7.1</td>\n",
       "      <td>4.3</td>\n",
       "      <td>48.52</td>\n",
       "      <td>2.20</td>\n",
       "      <td>11.18</td>\n",
       "      <td>15.7</td>\n",
       "    </tr>\n",
       "    <tr>\n",
       "      <th>11</th>\n",
       "      <td>4.8</td>\n",
       "      <td>5.3</td>\n",
       "      <td>7.9</td>\n",
       "      <td>10.1</td>\n",
       "      <td>13.1</td>\n",
       "      <td>16.2</td>\n",
       "      <td>17.9</td>\n",
       "      <td>17.8</td>\n",
       "      <td>15.7</td>\n",
       "      <td>11.6</td>\n",
       "      <td>7.8</td>\n",
       "      <td>5.4</td>\n",
       "      <td>48.05</td>\n",
       "      <td>-1.41</td>\n",
       "      <td>11.13</td>\n",
       "      <td>13.1</td>\n",
       "    </tr>\n",
       "    <tr>\n",
       "      <th>12</th>\n",
       "      <td>0.4</td>\n",
       "      <td>1.5</td>\n",
       "      <td>5.6</td>\n",
       "      <td>9.8</td>\n",
       "      <td>14.0</td>\n",
       "      <td>17.2</td>\n",
       "      <td>19.0</td>\n",
       "      <td>18.3</td>\n",
       "      <td>15.1</td>\n",
       "      <td>9.5</td>\n",
       "      <td>4.9</td>\n",
       "      <td>1.3</td>\n",
       "      <td>48.35</td>\n",
       "      <td>7.45</td>\n",
       "      <td>9.72</td>\n",
       "      <td>18.6</td>\n",
       "    </tr>\n",
       "    <tr>\n",
       "      <th>13</th>\n",
       "      <td>4.7</td>\n",
       "      <td>5.6</td>\n",
       "      <td>9.2</td>\n",
       "      <td>11.6</td>\n",
       "      <td>14.9</td>\n",
       "      <td>18.7</td>\n",
       "      <td>20.9</td>\n",
       "      <td>20.9</td>\n",
       "      <td>18.3</td>\n",
       "      <td>13.3</td>\n",
       "      <td>8.6</td>\n",
       "      <td>5.5</td>\n",
       "      <td>43.36</td>\n",
       "      <td>1.26</td>\n",
       "      <td>12.68</td>\n",
       "      <td>16.2</td>\n",
       "    </tr>\n",
       "    <tr>\n",
       "      <th>14</th>\n",
       "      <td>2.4</td>\n",
       "      <td>3.4</td>\n",
       "      <td>7.1</td>\n",
       "      <td>9.9</td>\n",
       "      <td>13.6</td>\n",
       "      <td>17.1</td>\n",
       "      <td>19.3</td>\n",
       "      <td>18.8</td>\n",
       "      <td>16.0</td>\n",
       "      <td>11.0</td>\n",
       "      <td>6.6</td>\n",
       "      <td>3.4</td>\n",
       "      <td>46.08</td>\n",
       "      <td>3.26</td>\n",
       "      <td>10.72</td>\n",
       "      <td>16.9</td>\n",
       "    </tr>\n",
       "  </tbody>\n",
       "</table>\n",
       "</div>"
      ],
      "text/plain": [
       "    Janv  Fevrier  Mars  Avril   Mai  Juin  juil  Aout  Sept  Octo  Nove  \\\n",
       "0    5.6      6.6  10.3   12.8  15.8  19.3  20.9  21.0  18.6  13.8   9.1   \n",
       "1    6.1      5.8   7.8    9.2  11.6  14.4  15.6  16.0  14.7  12.0   9.0   \n",
       "2    2.6      3.7   7.5   10.3  13.8  17.3  19.4  19.1  16.2  11.2   6.6   \n",
       "3    1.5      3.2   7.7   10.6  14.5  17.8  20.1  19.5  16.7  11.4   6.5   \n",
       "4    2.4      2.9   6.0    8.9  12.4  15.3  17.1  17.1  14.7  10.4   6.1   \n",
       "5    2.1      3.3   7.7   10.9  14.9  18.5  20.7  20.1  16.9  11.4   6.7   \n",
       "6    5.5      6.6  10.0   13.0  16.8  20.8  23.3  22.8  19.9  15.0  10.2   \n",
       "7    5.6      6.7   9.9   12.8  16.2  20.1  22.7  22.3  19.3  14.6  10.0   \n",
       "8    5.0      5.3   8.4   10.8  13.9  17.2  18.8  18.6  16.4  12.2   8.2   \n",
       "9    7.5      8.5  10.8   13.3  16.7  20.1  22.7  22.5  20.3  16.0  11.5   \n",
       "10   3.4      4.1   7.6   10.7  14.3  17.5  19.1  18.7  16.0  11.4   7.1   \n",
       "11   4.8      5.3   7.9   10.1  13.1  16.2  17.9  17.8  15.7  11.6   7.8   \n",
       "12   0.4      1.5   5.6    9.8  14.0  17.2  19.0  18.3  15.1   9.5   4.9   \n",
       "13   4.7      5.6   9.2   11.6  14.9  18.7  20.9  20.9  18.3  13.3   8.6   \n",
       "14   2.4      3.4   7.1    9.9  13.6  17.1  19.3  18.8  16.0  11.0   6.6   \n",
       "\n",
       "    Dece   Lati  Long   Moye  Ampl  \n",
       "0    6.2  44.50 -0.34  13.33  15.4  \n",
       "1    7.0  48.24 -4.29  10.77  10.2  \n",
       "2    3.6  45.47  3.05  10.94  16.8  \n",
       "3    2.3  45.10  5.43  10.98  18.6  \n",
       "4    3.5  50.38  3.04   9.73  14.7  \n",
       "5    3.1  45.45  4.51  11.36  18.6  \n",
       "6    6.9  43.18  5.24  14.23  17.8  \n",
       "7    6.5  43.36  3.53  13.89  17.1  \n",
       "8    5.5  47.13 -1.33  11.69  13.8  \n",
       "9    8.2  43.42  7.15  14.84  15.2  \n",
       "10   4.3  48.52  2.20  11.18  15.7  \n",
       "11   5.4  48.05 -1.41  11.13  13.1  \n",
       "12   1.3  48.35  7.45   9.72  18.6  \n",
       "13   5.5  43.36  1.26  12.68  16.2  \n",
       "14   3.4  46.08  3.26  10.72  16.9  "
      ]
     },
     "execution_count": 4,
     "metadata": {},
     "output_type": "execute_result"
    }
   ],
   "source": [
    "\n",
    "dataOriginal_X = dataOriginal.drop(['Region'], axis = 1)\n",
    "dataOriginal_X = dataOriginal_X.drop(['City'], axis = 1)\n",
    "dataOriginal_X"
   ]
  },
  {
   "cell_type": "code",
   "execution_count": 5,
   "metadata": {},
   "outputs": [],
   "source": [
    "from sklearn.preprocessing import StandardScaler\n",
    "\n",
    "\n",
    "scaler = StandardScaler()\n",
    "scaler.fit(dataOriginal_X)\n",
    "dataOriginal_std = scaler.transform(dataOriginal_X)\n",
    "data_standarized = pd.DataFrame(dataOriginal_std)\n",
    "data_standarized = pd.DataFrame(dataOriginal_std, columns=dataOriginal_X.columns)"
   ]
  },
  {
   "cell_type": "code",
   "execution_count": 6,
   "metadata": {},
   "outputs": [
    {
     "data": {
      "text/html": [
       "<div>\n",
       "<style scoped>\n",
       "    .dataframe tbody tr th:only-of-type {\n",
       "        vertical-align: middle;\n",
       "    }\n",
       "\n",
       "    .dataframe tbody tr th {\n",
       "        vertical-align: top;\n",
       "    }\n",
       "\n",
       "    .dataframe thead th {\n",
       "        text-align: right;\n",
       "    }\n",
       "</style>\n",
       "<table border=\"1\" class=\"dataframe\">\n",
       "  <thead>\n",
       "    <tr style=\"text-align: right;\">\n",
       "      <th></th>\n",
       "      <th>Janv</th>\n",
       "      <th>Fevrier</th>\n",
       "      <th>Mars</th>\n",
       "      <th>Avril</th>\n",
       "      <th>Mai</th>\n",
       "      <th>Juin</th>\n",
       "      <th>juil</th>\n",
       "      <th>Aout</th>\n",
       "      <th>Sept</th>\n",
       "      <th>Octo</th>\n",
       "      <th>Nove</th>\n",
       "      <th>Dece</th>\n",
       "      <th>Lati</th>\n",
       "      <th>Long</th>\n",
       "      <th>Moye</th>\n",
       "      <th>Ampl</th>\n",
       "    </tr>\n",
       "  </thead>\n",
       "  <tbody>\n",
       "    <tr>\n",
       "      <th>0</th>\n",
       "      <td>0.838820</td>\n",
       "      <td>0.978733</td>\n",
       "      <td>1.399010</td>\n",
       "      <td>1.331533</td>\n",
       "      <td>0.940209</td>\n",
       "      <td>0.846467</td>\n",
       "      <td>0.518617</td>\n",
       "      <td>0.737401</td>\n",
       "      <td>0.903602</td>\n",
       "      <td>0.837134</td>\n",
       "      <td>0.673327</td>\n",
       "      <td>0.715277</td>\n",
       "      <td>-0.694320</td>\n",
       "      <td>-0.911939</td>\n",
       "      <td>0.980564</td>\n",
       "      <td>-0.228389</td>\n",
       "    </tr>\n",
       "    <tr>\n",
       "      <th>1</th>\n",
       "      <td>1.096654</td>\n",
       "      <td>0.535533</td>\n",
       "      <td>-0.293341</td>\n",
       "      <td>-1.302269</td>\n",
       "      <td>-1.949213</td>\n",
       "      <td>-1.981502</td>\n",
       "      <td>-2.058263</td>\n",
       "      <td>-1.834927</td>\n",
       "      <td>-1.280725</td>\n",
       "      <td>-0.181002</td>\n",
       "      <td>0.615941</td>\n",
       "      <td>1.138100</td>\n",
       "      <td>0.992615</td>\n",
       "      <td>-2.144149</td>\n",
       "      <td>-0.673815</td>\n",
       "      <td>-2.541941</td>\n",
       "    </tr>\n",
       "    <tr>\n",
       "      <th>2</th>\n",
       "      <td>-0.708184</td>\n",
       "      <td>-0.627866</td>\n",
       "      <td>-0.496423</td>\n",
       "      <td>-0.497496</td>\n",
       "      <td>-0.435706</td>\n",
       "      <td>-0.307806</td>\n",
       "      <td>-0.210688</td>\n",
       "      <td>-0.240084</td>\n",
       "      <td>-0.440599</td>\n",
       "      <td>-0.633507</td>\n",
       "      <td>-0.761319</td>\n",
       "      <td>-0.658900</td>\n",
       "      <td>-0.256799</td>\n",
       "      <td>0.145578</td>\n",
       "      <td>-0.563954</td>\n",
       "      <td>0.394490</td>\n",
       "    </tr>\n",
       "    <tr>\n",
       "      <th>3</th>\n",
       "      <td>-1.275419</td>\n",
       "      <td>-0.904866</td>\n",
       "      <td>-0.361035</td>\n",
       "      <td>-0.278012</td>\n",
       "      <td>0.045864</td>\n",
       "      <td>-0.019238</td>\n",
       "      <td>0.129654</td>\n",
       "      <td>-0.034298</td>\n",
       "      <td>-0.160557</td>\n",
       "      <td>-0.520381</td>\n",
       "      <td>-0.818704</td>\n",
       "      <td>-1.345989</td>\n",
       "      <td>-0.423688</td>\n",
       "      <td>0.888023</td>\n",
       "      <td>-0.538104</td>\n",
       "      <td>1.195335</td>\n",
       "    </tr>\n",
       "    <tr>\n",
       "      <th>4</th>\n",
       "      <td>-0.811318</td>\n",
       "      <td>-1.071066</td>\n",
       "      <td>-1.511834</td>\n",
       "      <td>-1.521752</td>\n",
       "      <td>-1.398847</td>\n",
       "      <td>-1.462079</td>\n",
       "      <td>-1.328957</td>\n",
       "      <td>-1.269015</td>\n",
       "      <td>-1.280725</td>\n",
       "      <td>-1.086012</td>\n",
       "      <td>-1.048248</td>\n",
       "      <td>-0.711753</td>\n",
       "      <td>1.957867</td>\n",
       "      <td>0.142458</td>\n",
       "      <td>-1.345906</td>\n",
       "      <td>-0.539829</td>\n",
       "    </tr>\n",
       "    <tr>\n",
       "      <th>5</th>\n",
       "      <td>-0.966018</td>\n",
       "      <td>-0.849466</td>\n",
       "      <td>-0.361035</td>\n",
       "      <td>-0.058529</td>\n",
       "      <td>0.321047</td>\n",
       "      <td>0.384758</td>\n",
       "      <td>0.421377</td>\n",
       "      <td>0.274382</td>\n",
       "      <td>-0.048541</td>\n",
       "      <td>-0.520381</td>\n",
       "      <td>-0.703933</td>\n",
       "      <td>-0.923165</td>\n",
       "      <td>-0.265820</td>\n",
       "      <td>0.601027</td>\n",
       "      <td>-0.292532</td>\n",
       "      <td>1.195335</td>\n",
       "    </tr>\n",
       "    <tr>\n",
       "      <th>6</th>\n",
       "      <td>0.787253</td>\n",
       "      <td>0.978733</td>\n",
       "      <td>1.195928</td>\n",
       "      <td>1.477855</td>\n",
       "      <td>1.628166</td>\n",
       "      <td>1.712172</td>\n",
       "      <td>1.685507</td>\n",
       "      <td>1.663438</td>\n",
       "      <td>1.631711</td>\n",
       "      <td>1.515891</td>\n",
       "      <td>1.304571</td>\n",
       "      <td>1.085247</td>\n",
       "      <td>-1.289708</td>\n",
       "      <td>0.828752</td>\n",
       "      <td>1.562182</td>\n",
       "      <td>0.839404</td>\n",
       "    </tr>\n",
       "    <tr>\n",
       "      <th>7</th>\n",
       "      <td>0.838820</td>\n",
       "      <td>1.034133</td>\n",
       "      <td>1.128234</td>\n",
       "      <td>1.331533</td>\n",
       "      <td>1.215392</td>\n",
       "      <td>1.308176</td>\n",
       "      <td>1.393784</td>\n",
       "      <td>1.406206</td>\n",
       "      <td>1.295660</td>\n",
       "      <td>1.289639</td>\n",
       "      <td>1.189799</td>\n",
       "      <td>0.873836</td>\n",
       "      <td>-1.208519</td>\n",
       "      <td>0.295314</td>\n",
       "      <td>1.342460</td>\n",
       "      <td>0.527964</td>\n",
       "    </tr>\n",
       "    <tr>\n",
       "      <th>8</th>\n",
       "      <td>0.529419</td>\n",
       "      <td>0.258533</td>\n",
       "      <td>0.112823</td>\n",
       "      <td>-0.131690</td>\n",
       "      <td>-0.366911</td>\n",
       "      <td>-0.365520</td>\n",
       "      <td>-0.502411</td>\n",
       "      <td>-0.497317</td>\n",
       "      <td>-0.328582</td>\n",
       "      <td>-0.067876</td>\n",
       "      <td>0.156855</td>\n",
       "      <td>0.345306</td>\n",
       "      <td>0.491948</td>\n",
       "      <td>-1.220771</td>\n",
       "      <td>-0.079272</td>\n",
       "      <td>-0.940251</td>\n",
       "    </tr>\n",
       "    <tr>\n",
       "      <th>9</th>\n",
       "      <td>1.818589</td>\n",
       "      <td>2.031333</td>\n",
       "      <td>1.737481</td>\n",
       "      <td>1.697339</td>\n",
       "      <td>1.559371</td>\n",
       "      <td>1.308176</td>\n",
       "      <td>1.393784</td>\n",
       "      <td>1.509099</td>\n",
       "      <td>1.855744</td>\n",
       "      <td>2.081523</td>\n",
       "      <td>2.050587</td>\n",
       "      <td>1.772336</td>\n",
       "      <td>-1.181456</td>\n",
       "      <td>1.424580</td>\n",
       "      <td>1.956389</td>\n",
       "      <td>-0.317372</td>\n",
       "    </tr>\n",
       "    <tr>\n",
       "      <th>10</th>\n",
       "      <td>-0.295650</td>\n",
       "      <td>-0.406267</td>\n",
       "      <td>-0.428729</td>\n",
       "      <td>-0.204851</td>\n",
       "      <td>-0.091728</td>\n",
       "      <td>-0.192379</td>\n",
       "      <td>-0.356550</td>\n",
       "      <td>-0.445870</td>\n",
       "      <td>-0.552616</td>\n",
       "      <td>-0.520381</td>\n",
       "      <td>-0.474389</td>\n",
       "      <td>-0.288929</td>\n",
       "      <td>1.118910</td>\n",
       "      <td>-0.119582</td>\n",
       "      <td>-0.408856</td>\n",
       "      <td>-0.094915</td>\n",
       "    </tr>\n",
       "    <tr>\n",
       "      <th>11</th>\n",
       "      <td>0.426286</td>\n",
       "      <td>0.258533</td>\n",
       "      <td>-0.225647</td>\n",
       "      <td>-0.643818</td>\n",
       "      <td>-0.917277</td>\n",
       "      <td>-0.942656</td>\n",
       "      <td>-0.939994</td>\n",
       "      <td>-0.908889</td>\n",
       "      <td>-0.720641</td>\n",
       "      <td>-0.407254</td>\n",
       "      <td>-0.072689</td>\n",
       "      <td>0.292453</td>\n",
       "      <td>0.906916</td>\n",
       "      <td>-1.245727</td>\n",
       "      <td>-0.441168</td>\n",
       "      <td>-1.251691</td>\n",
       "    </tr>\n",
       "    <tr>\n",
       "      <th>12</th>\n",
       "      <td>-1.842654</td>\n",
       "      <td>-1.846666</td>\n",
       "      <td>-1.782610</td>\n",
       "      <td>-0.863302</td>\n",
       "      <td>-0.298115</td>\n",
       "      <td>-0.365520</td>\n",
       "      <td>-0.405170</td>\n",
       "      <td>-0.651656</td>\n",
       "      <td>-1.056691</td>\n",
       "      <td>-1.595080</td>\n",
       "      <td>-1.736878</td>\n",
       "      <td>-1.874518</td>\n",
       "      <td>1.042231</td>\n",
       "      <td>1.518165</td>\n",
       "      <td>-1.352369</td>\n",
       "      <td>1.195335</td>\n",
       "    </tr>\n",
       "    <tr>\n",
       "      <th>13</th>\n",
       "      <td>0.374719</td>\n",
       "      <td>0.424733</td>\n",
       "      <td>0.654376</td>\n",
       "      <td>0.453599</td>\n",
       "      <td>0.321047</td>\n",
       "      <td>0.500185</td>\n",
       "      <td>0.518617</td>\n",
       "      <td>0.685954</td>\n",
       "      <td>0.735577</td>\n",
       "      <td>0.554319</td>\n",
       "      <td>0.386398</td>\n",
       "      <td>0.345306</td>\n",
       "      <td>-1.208519</td>\n",
       "      <td>-0.412816</td>\n",
       "      <td>0.560507</td>\n",
       "      <td>0.127542</td>\n",
       "    </tr>\n",
       "    <tr>\n",
       "      <th>14</th>\n",
       "      <td>-0.811318</td>\n",
       "      <td>-0.794066</td>\n",
       "      <td>-0.767199</td>\n",
       "      <td>-0.790140</td>\n",
       "      <td>-0.573298</td>\n",
       "      <td>-0.423233</td>\n",
       "      <td>-0.259309</td>\n",
       "      <td>-0.394424</td>\n",
       "      <td>-0.552616</td>\n",
       "      <td>-0.746633</td>\n",
       "      <td>-0.761319</td>\n",
       "      <td>-0.764606</td>\n",
       "      <td>0.018343</td>\n",
       "      <td>0.211087</td>\n",
       "      <td>-0.706127</td>\n",
       "      <td>0.438982</td>\n",
       "    </tr>\n",
       "  </tbody>\n",
       "</table>\n",
       "</div>"
      ],
      "text/plain": [
       "        Janv   Fevrier      Mars     Avril       Mai      Juin      juil  \\\n",
       "0   0.838820  0.978733  1.399010  1.331533  0.940209  0.846467  0.518617   \n",
       "1   1.096654  0.535533 -0.293341 -1.302269 -1.949213 -1.981502 -2.058263   \n",
       "2  -0.708184 -0.627866 -0.496423 -0.497496 -0.435706 -0.307806 -0.210688   \n",
       "3  -1.275419 -0.904866 -0.361035 -0.278012  0.045864 -0.019238  0.129654   \n",
       "4  -0.811318 -1.071066 -1.511834 -1.521752 -1.398847 -1.462079 -1.328957   \n",
       "5  -0.966018 -0.849466 -0.361035 -0.058529  0.321047  0.384758  0.421377   \n",
       "6   0.787253  0.978733  1.195928  1.477855  1.628166  1.712172  1.685507   \n",
       "7   0.838820  1.034133  1.128234  1.331533  1.215392  1.308176  1.393784   \n",
       "8   0.529419  0.258533  0.112823 -0.131690 -0.366911 -0.365520 -0.502411   \n",
       "9   1.818589  2.031333  1.737481  1.697339  1.559371  1.308176  1.393784   \n",
       "10 -0.295650 -0.406267 -0.428729 -0.204851 -0.091728 -0.192379 -0.356550   \n",
       "11  0.426286  0.258533 -0.225647 -0.643818 -0.917277 -0.942656 -0.939994   \n",
       "12 -1.842654 -1.846666 -1.782610 -0.863302 -0.298115 -0.365520 -0.405170   \n",
       "13  0.374719  0.424733  0.654376  0.453599  0.321047  0.500185  0.518617   \n",
       "14 -0.811318 -0.794066 -0.767199 -0.790140 -0.573298 -0.423233 -0.259309   \n",
       "\n",
       "        Aout      Sept      Octo      Nove      Dece      Lati      Long  \\\n",
       "0   0.737401  0.903602  0.837134  0.673327  0.715277 -0.694320 -0.911939   \n",
       "1  -1.834927 -1.280725 -0.181002  0.615941  1.138100  0.992615 -2.144149   \n",
       "2  -0.240084 -0.440599 -0.633507 -0.761319 -0.658900 -0.256799  0.145578   \n",
       "3  -0.034298 -0.160557 -0.520381 -0.818704 -1.345989 -0.423688  0.888023   \n",
       "4  -1.269015 -1.280725 -1.086012 -1.048248 -0.711753  1.957867  0.142458   \n",
       "5   0.274382 -0.048541 -0.520381 -0.703933 -0.923165 -0.265820  0.601027   \n",
       "6   1.663438  1.631711  1.515891  1.304571  1.085247 -1.289708  0.828752   \n",
       "7   1.406206  1.295660  1.289639  1.189799  0.873836 -1.208519  0.295314   \n",
       "8  -0.497317 -0.328582 -0.067876  0.156855  0.345306  0.491948 -1.220771   \n",
       "9   1.509099  1.855744  2.081523  2.050587  1.772336 -1.181456  1.424580   \n",
       "10 -0.445870 -0.552616 -0.520381 -0.474389 -0.288929  1.118910 -0.119582   \n",
       "11 -0.908889 -0.720641 -0.407254 -0.072689  0.292453  0.906916 -1.245727   \n",
       "12 -0.651656 -1.056691 -1.595080 -1.736878 -1.874518  1.042231  1.518165   \n",
       "13  0.685954  0.735577  0.554319  0.386398  0.345306 -1.208519 -0.412816   \n",
       "14 -0.394424 -0.552616 -0.746633 -0.761319 -0.764606  0.018343  0.211087   \n",
       "\n",
       "        Moye      Ampl  \n",
       "0   0.980564 -0.228389  \n",
       "1  -0.673815 -2.541941  \n",
       "2  -0.563954  0.394490  \n",
       "3  -0.538104  1.195335  \n",
       "4  -1.345906 -0.539829  \n",
       "5  -0.292532  1.195335  \n",
       "6   1.562182  0.839404  \n",
       "7   1.342460  0.527964  \n",
       "8  -0.079272 -0.940251  \n",
       "9   1.956389 -0.317372  \n",
       "10 -0.408856 -0.094915  \n",
       "11 -0.441168 -1.251691  \n",
       "12 -1.352369  1.195335  \n",
       "13  0.560507  0.127542  \n",
       "14 -0.706127  0.438982  "
      ]
     },
     "execution_count": 6,
     "metadata": {},
     "output_type": "execute_result"
    }
   ],
   "source": [
    "data_standarized"
   ]
  },
  {
   "cell_type": "code",
   "execution_count": 7,
   "metadata": {},
   "outputs": [
    {
     "data": {
      "text/html": [
       "<div>\n",
       "<style scoped>\n",
       "    .dataframe tbody tr th:only-of-type {\n",
       "        vertical-align: middle;\n",
       "    }\n",
       "\n",
       "    .dataframe tbody tr th {\n",
       "        vertical-align: top;\n",
       "    }\n",
       "\n",
       "    .dataframe thead th {\n",
       "        text-align: right;\n",
       "    }\n",
       "</style>\n",
       "<table border=\"1\" class=\"dataframe\">\n",
       "  <thead>\n",
       "    <tr style=\"text-align: right;\">\n",
       "      <th></th>\n",
       "      <th>Janv</th>\n",
       "      <th>Fevrier</th>\n",
       "      <th>Mars</th>\n",
       "      <th>Avril</th>\n",
       "      <th>Mai</th>\n",
       "      <th>Juin</th>\n",
       "      <th>juil</th>\n",
       "      <th>Aout</th>\n",
       "      <th>Sept</th>\n",
       "      <th>Octo</th>\n",
       "      <th>Nove</th>\n",
       "      <th>Dece</th>\n",
       "      <th>Lati</th>\n",
       "      <th>Long</th>\n",
       "      <th>Moye</th>\n",
       "      <th>Ampl</th>\n",
       "    </tr>\n",
       "  </thead>\n",
       "  <tbody>\n",
       "    <tr>\n",
       "      <th>count</th>\n",
       "      <td>1.500000e+01</td>\n",
       "      <td>1.500000e+01</td>\n",
       "      <td>1.500000e+01</td>\n",
       "      <td>1.500000e+01</td>\n",
       "      <td>1.500000e+01</td>\n",
       "      <td>1.500000e+01</td>\n",
       "      <td>1.500000e+01</td>\n",
       "      <td>1.500000e+01</td>\n",
       "      <td>1.500000e+01</td>\n",
       "      <td>1.500000e+01</td>\n",
       "      <td>1.500000e+01</td>\n",
       "      <td>1.500000e+01</td>\n",
       "      <td>1.500000e+01</td>\n",
       "      <td>1.500000e+01</td>\n",
       "      <td>1.500000e+01</td>\n",
       "      <td>1.500000e+01</td>\n",
       "    </tr>\n",
       "    <tr>\n",
       "      <th>mean</th>\n",
       "      <td>3.700743e-17</td>\n",
       "      <td>1.332268e-16</td>\n",
       "      <td>5.995204e-16</td>\n",
       "      <td>-1.702342e-16</td>\n",
       "      <td>-5.181041e-17</td>\n",
       "      <td>2.960595e-15</td>\n",
       "      <td>5.181041e-16</td>\n",
       "      <td>3.367677e-16</td>\n",
       "      <td>-9.843977e-16</td>\n",
       "      <td>-1.110223e-16</td>\n",
       "      <td>3.182639e-16</td>\n",
       "      <td>4.144833e-16</td>\n",
       "      <td>-2.159152e-15</td>\n",
       "      <td>-6.106227e-17</td>\n",
       "      <td>-5.181041e-17</td>\n",
       "      <td>5.810167e-16</td>\n",
       "    </tr>\n",
       "    <tr>\n",
       "      <th>std</th>\n",
       "      <td>1.035098e+00</td>\n",
       "      <td>1.035098e+00</td>\n",
       "      <td>1.035098e+00</td>\n",
       "      <td>1.035098e+00</td>\n",
       "      <td>1.035098e+00</td>\n",
       "      <td>1.035098e+00</td>\n",
       "      <td>1.035098e+00</td>\n",
       "      <td>1.035098e+00</td>\n",
       "      <td>1.035098e+00</td>\n",
       "      <td>1.035098e+00</td>\n",
       "      <td>1.035098e+00</td>\n",
       "      <td>1.035098e+00</td>\n",
       "      <td>1.035098e+00</td>\n",
       "      <td>1.035098e+00</td>\n",
       "      <td>1.035098e+00</td>\n",
       "      <td>1.035098e+00</td>\n",
       "    </tr>\n",
       "    <tr>\n",
       "      <th>min</th>\n",
       "      <td>-1.842654e+00</td>\n",
       "      <td>-1.846666e+00</td>\n",
       "      <td>-1.782610e+00</td>\n",
       "      <td>-1.521752e+00</td>\n",
       "      <td>-1.949213e+00</td>\n",
       "      <td>-1.981502e+00</td>\n",
       "      <td>-2.058263e+00</td>\n",
       "      <td>-1.834927e+00</td>\n",
       "      <td>-1.280725e+00</td>\n",
       "      <td>-1.595080e+00</td>\n",
       "      <td>-1.736878e+00</td>\n",
       "      <td>-1.874518e+00</td>\n",
       "      <td>-1.289708e+00</td>\n",
       "      <td>-2.144149e+00</td>\n",
       "      <td>-1.352369e+00</td>\n",
       "      <td>-2.541941e+00</td>\n",
       "    </tr>\n",
       "    <tr>\n",
       "      <th>25%</th>\n",
       "      <td>-8.113176e-01</td>\n",
       "      <td>-8.217664e-01</td>\n",
       "      <td>-4.625760e-01</td>\n",
       "      <td>-7.169793e-01</td>\n",
       "      <td>-5.045022e-01</td>\n",
       "      <td>-3.943766e-01</td>\n",
       "      <td>-4.537903e-01</td>\n",
       "      <td>-5.744865e-01</td>\n",
       "      <td>-6.366285e-01</td>\n",
       "      <td>-5.769437e-01</td>\n",
       "      <td>-7.613186e-01</td>\n",
       "      <td>-7.381796e-01</td>\n",
       "      <td>-9.378878e-01</td>\n",
       "      <td>-6.623776e-01</td>\n",
       "      <td>-6.188842e-01</td>\n",
       "      <td>-4.286004e-01</td>\n",
       "    </tr>\n",
       "    <tr>\n",
       "      <th>50%</th>\n",
       "      <td>3.747187e-01</td>\n",
       "      <td>2.585333e-01</td>\n",
       "      <td>-2.933409e-01</td>\n",
       "      <td>-2.048512e-01</td>\n",
       "      <td>-9.172768e-02</td>\n",
       "      <td>-1.923789e-01</td>\n",
       "      <td>-2.106883e-01</td>\n",
       "      <td>-2.400839e-01</td>\n",
       "      <td>-3.285825e-01</td>\n",
       "      <td>-4.072544e-01</td>\n",
       "      <td>-7.268871e-02</td>\n",
       "      <td>2.924530e-01</td>\n",
       "      <td>-2.567990e-01</td>\n",
       "      <td>1.455775e-01</td>\n",
       "      <td>-4.088556e-01</td>\n",
       "      <td>1.275420e-01</td>\n",
       "    </tr>\n",
       "    <tr>\n",
       "      <th>75%</th>\n",
       "      <td>8.130365e-01</td>\n",
       "      <td>7.571331e-01</td>\n",
       "      <td>8.913050e-01</td>\n",
       "      <td>8.925661e-01</td>\n",
       "      <td>6.306278e-01</td>\n",
       "      <td>6.733260e-01</td>\n",
       "      <td>5.186175e-01</td>\n",
       "      <td>7.116773e-01</td>\n",
       "      <td>8.195892e-01</td>\n",
       "      <td>6.957263e-01</td>\n",
       "      <td>6.446341e-01</td>\n",
       "      <td>7.945561e-01</td>\n",
       "      <td>9.497655e-01</td>\n",
       "      <td>7.148895e-01</td>\n",
       "      <td>7.705356e-01</td>\n",
       "      <td>6.836844e-01</td>\n",
       "    </tr>\n",
       "    <tr>\n",
       "      <th>max</th>\n",
       "      <td>1.818589e+00</td>\n",
       "      <td>2.031333e+00</td>\n",
       "      <td>1.737481e+00</td>\n",
       "      <td>1.697339e+00</td>\n",
       "      <td>1.628166e+00</td>\n",
       "      <td>1.712172e+00</td>\n",
       "      <td>1.685507e+00</td>\n",
       "      <td>1.663438e+00</td>\n",
       "      <td>1.855744e+00</td>\n",
       "      <td>2.081523e+00</td>\n",
       "      <td>2.050587e+00</td>\n",
       "      <td>1.772336e+00</td>\n",
       "      <td>1.957867e+00</td>\n",
       "      <td>1.518165e+00</td>\n",
       "      <td>1.956389e+00</td>\n",
       "      <td>1.195335e+00</td>\n",
       "    </tr>\n",
       "  </tbody>\n",
       "</table>\n",
       "</div>"
      ],
      "text/plain": [
       "               Janv       Fevrier          Mars         Avril           Mai  \\\n",
       "count  1.500000e+01  1.500000e+01  1.500000e+01  1.500000e+01  1.500000e+01   \n",
       "mean   3.700743e-17  1.332268e-16  5.995204e-16 -1.702342e-16 -5.181041e-17   \n",
       "std    1.035098e+00  1.035098e+00  1.035098e+00  1.035098e+00  1.035098e+00   \n",
       "min   -1.842654e+00 -1.846666e+00 -1.782610e+00 -1.521752e+00 -1.949213e+00   \n",
       "25%   -8.113176e-01 -8.217664e-01 -4.625760e-01 -7.169793e-01 -5.045022e-01   \n",
       "50%    3.747187e-01  2.585333e-01 -2.933409e-01 -2.048512e-01 -9.172768e-02   \n",
       "75%    8.130365e-01  7.571331e-01  8.913050e-01  8.925661e-01  6.306278e-01   \n",
       "max    1.818589e+00  2.031333e+00  1.737481e+00  1.697339e+00  1.628166e+00   \n",
       "\n",
       "               Juin          juil          Aout          Sept          Octo  \\\n",
       "count  1.500000e+01  1.500000e+01  1.500000e+01  1.500000e+01  1.500000e+01   \n",
       "mean   2.960595e-15  5.181041e-16  3.367677e-16 -9.843977e-16 -1.110223e-16   \n",
       "std    1.035098e+00  1.035098e+00  1.035098e+00  1.035098e+00  1.035098e+00   \n",
       "min   -1.981502e+00 -2.058263e+00 -1.834927e+00 -1.280725e+00 -1.595080e+00   \n",
       "25%   -3.943766e-01 -4.537903e-01 -5.744865e-01 -6.366285e-01 -5.769437e-01   \n",
       "50%   -1.923789e-01 -2.106883e-01 -2.400839e-01 -3.285825e-01 -4.072544e-01   \n",
       "75%    6.733260e-01  5.186175e-01  7.116773e-01  8.195892e-01  6.957263e-01   \n",
       "max    1.712172e+00  1.685507e+00  1.663438e+00  1.855744e+00  2.081523e+00   \n",
       "\n",
       "               Nove          Dece          Lati          Long          Moye  \\\n",
       "count  1.500000e+01  1.500000e+01  1.500000e+01  1.500000e+01  1.500000e+01   \n",
       "mean   3.182639e-16  4.144833e-16 -2.159152e-15 -6.106227e-17 -5.181041e-17   \n",
       "std    1.035098e+00  1.035098e+00  1.035098e+00  1.035098e+00  1.035098e+00   \n",
       "min   -1.736878e+00 -1.874518e+00 -1.289708e+00 -2.144149e+00 -1.352369e+00   \n",
       "25%   -7.613186e-01 -7.381796e-01 -9.378878e-01 -6.623776e-01 -6.188842e-01   \n",
       "50%   -7.268871e-02  2.924530e-01 -2.567990e-01  1.455775e-01 -4.088556e-01   \n",
       "75%    6.446341e-01  7.945561e-01  9.497655e-01  7.148895e-01  7.705356e-01   \n",
       "max    2.050587e+00  1.772336e+00  1.957867e+00  1.518165e+00  1.956389e+00   \n",
       "\n",
       "               Ampl  \n",
       "count  1.500000e+01  \n",
       "mean   5.810167e-16  \n",
       "std    1.035098e+00  \n",
       "min   -2.541941e+00  \n",
       "25%   -4.286004e-01  \n",
       "50%    1.275420e-01  \n",
       "75%    6.836844e-01  \n",
       "max    1.195335e+00  "
      ]
     },
     "execution_count": 7,
     "metadata": {},
     "output_type": "execute_result"
    }
   ],
   "source": [
    "data_standarized.describe()"
   ]
  },
  {
   "cell_type": "markdown",
   "metadata": {},
   "source": [
    "Verfication:  <font color=\"blue\">Apres l'standarisation Les moyennes sont maintenant nulles et les écarts-type unitaires</font>"
   ]
  },
  {
   "cell_type": "markdown",
   "metadata": {},
   "source": [
    "# 3.  Exploration de desviation et moyenne"
   ]
  },
  {
   "cell_type": "code",
   "execution_count": 8,
   "metadata": {},
   "outputs": [],
   "source": [
    "# Moyenes et ecart-types"
   ]
  },
  {
   "cell_type": "code",
   "execution_count": 31,
   "metadata": {},
   "outputs": [],
   "source": [
    "x_labels = ['Janv', 'Fevrier', 'Mars', 'Avril', 'Mai', 'Juin', 'juil', 'Aout','Sept', 'Octo', 'Nove', 'Dece', 'Lati', 'Long', 'Moye', 'Ampl']\n"
   ]
  },
  {
   "cell_type": "code",
   "execution_count": 32,
   "metadata": {},
   "outputs": [],
   "source": [
    "labelsTemperatures = ['Janv', 'Fevrier', 'Mars', 'Avril', 'Mai', 'Juin', 'juil', 'Aout','Sept', 'Octo', 'Nove', 'Dece']\n"
   ]
  },
  {
   "cell_type": "code",
   "execution_count": 12,
   "metadata": {},
   "outputs": [
    {
     "data": {
      "text/plain": [
       "Janv       1.0\n",
       "Fevrier    1.0\n",
       "Mars       1.0\n",
       "Avril      1.0\n",
       "Mai        1.0\n",
       "Juin       1.0\n",
       "juil       1.0\n",
       "Aout       1.0\n",
       "Sept       1.0\n",
       "Octo       1.0\n",
       "Nove       1.0\n",
       "Dece       1.0\n",
       "dtype: float64"
      ]
     },
     "execution_count": 12,
     "metadata": {},
     "output_type": "execute_result"
    }
   ],
   "source": [
    "ecarts = np.std(data_standarized[labelsTemperatures], axis=0)\n",
    "ecarts"
   ]
  },
  {
   "cell_type": "markdown",
   "metadata": {},
   "source": [
    "# 4. Correlation "
   ]
  },
  {
   "cell_type": "code",
   "execution_count": 39,
   "metadata": {},
   "outputs": [
    {
     "data": {
      "text/html": [
       "<div>\n",
       "<style scoped>\n",
       "    .dataframe tbody tr th:only-of-type {\n",
       "        vertical-align: middle;\n",
       "    }\n",
       "\n",
       "    .dataframe tbody tr th {\n",
       "        vertical-align: top;\n",
       "    }\n",
       "\n",
       "    .dataframe thead th {\n",
       "        text-align: right;\n",
       "    }\n",
       "</style>\n",
       "<table border=\"1\" class=\"dataframe\">\n",
       "  <thead>\n",
       "    <tr style=\"text-align: right;\">\n",
       "      <th></th>\n",
       "      <th>Janv</th>\n",
       "      <th>Fevrier</th>\n",
       "      <th>Mars</th>\n",
       "      <th>Avril</th>\n",
       "      <th>Mai</th>\n",
       "      <th>Juin</th>\n",
       "      <th>juil</th>\n",
       "      <th>Aout</th>\n",
       "      <th>Sept</th>\n",
       "      <th>Octo</th>\n",
       "      <th>Nove</th>\n",
       "      <th>Dece</th>\n",
       "      <th>Lati</th>\n",
       "      <th>Long</th>\n",
       "      <th>Moye</th>\n",
       "      <th>Ampl</th>\n",
       "    </tr>\n",
       "  </thead>\n",
       "  <tbody>\n",
       "    <tr>\n",
       "      <th>0</th>\n",
       "      <td>1.00</td>\n",
       "      <td>0.97</td>\n",
       "      <td>0.84</td>\n",
       "      <td>0.61</td>\n",
       "      <td>0.36</td>\n",
       "      <td>0.34</td>\n",
       "      <td>0.30</td>\n",
       "      <td>0.41</td>\n",
       "      <td>0.60</td>\n",
       "      <td>0.85</td>\n",
       "      <td>0.95</td>\n",
       "      <td>0.99</td>\n",
       "      <td>-0.42</td>\n",
       "      <td>-0.39</td>\n",
       "      <td>0.77</td>\n",
       "      <td>-0.57</td>\n",
       "    </tr>\n",
       "    <tr>\n",
       "      <th>1</th>\n",
       "      <td>0.97</td>\n",
       "      <td>1.00</td>\n",
       "      <td>0.93</td>\n",
       "      <td>0.76</td>\n",
       "      <td>0.55</td>\n",
       "      <td>0.52</td>\n",
       "      <td>0.49</td>\n",
       "      <td>0.59</td>\n",
       "      <td>0.76</td>\n",
       "      <td>0.94</td>\n",
       "      <td>0.99</td>\n",
       "      <td>0.97</td>\n",
       "      <td>-0.60</td>\n",
       "      <td>-0.22</td>\n",
       "      <td>0.89</td>\n",
       "      <td>-0.38</td>\n",
       "    </tr>\n",
       "    <tr>\n",
       "      <th>2</th>\n",
       "      <td>0.84</td>\n",
       "      <td>0.93</td>\n",
       "      <td>1.00</td>\n",
       "      <td>0.92</td>\n",
       "      <td>0.77</td>\n",
       "      <td>0.76</td>\n",
       "      <td>0.72</td>\n",
       "      <td>0.80</td>\n",
       "      <td>0.91</td>\n",
       "      <td>0.97</td>\n",
       "      <td>0.93</td>\n",
       "      <td>0.83</td>\n",
       "      <td>-0.81</td>\n",
       "      <td>-0.04</td>\n",
       "      <td>0.97</td>\n",
       "      <td>-0.06</td>\n",
       "    </tr>\n",
       "    <tr>\n",
       "      <th>3</th>\n",
       "      <td>0.61</td>\n",
       "      <td>0.76</td>\n",
       "      <td>0.92</td>\n",
       "      <td>1.00</td>\n",
       "      <td>0.95</td>\n",
       "      <td>0.94</td>\n",
       "      <td>0.91</td>\n",
       "      <td>0.95</td>\n",
       "      <td>0.98</td>\n",
       "      <td>0.91</td>\n",
       "      <td>0.78</td>\n",
       "      <td>0.62</td>\n",
       "      <td>-0.85</td>\n",
       "      <td>0.29</td>\n",
       "      <td>0.96</td>\n",
       "      <td>0.28</td>\n",
       "    </tr>\n",
       "    <tr>\n",
       "      <th>4</th>\n",
       "      <td>0.36</td>\n",
       "      <td>0.55</td>\n",
       "      <td>0.77</td>\n",
       "      <td>0.95</td>\n",
       "      <td>1.00</td>\n",
       "      <td>0.99</td>\n",
       "      <td>0.98</td>\n",
       "      <td>0.98</td>\n",
       "      <td>0.94</td>\n",
       "      <td>0.77</td>\n",
       "      <td>0.59</td>\n",
       "      <td>0.38</td>\n",
       "      <td>-0.84</td>\n",
       "      <td>0.54</td>\n",
       "      <td>0.86</td>\n",
       "      <td>0.55</td>\n",
       "    </tr>\n",
       "    <tr>\n",
       "      <th>5</th>\n",
       "      <td>0.34</td>\n",
       "      <td>0.52</td>\n",
       "      <td>0.76</td>\n",
       "      <td>0.94</td>\n",
       "      <td>0.99</td>\n",
       "      <td>1.00</td>\n",
       "      <td>0.99</td>\n",
       "      <td>0.99</td>\n",
       "      <td>0.94</td>\n",
       "      <td>0.76</td>\n",
       "      <td>0.57</td>\n",
       "      <td>0.36</td>\n",
       "      <td>-0.87</td>\n",
       "      <td>0.53</td>\n",
       "      <td>0.85</td>\n",
       "      <td>0.58</td>\n",
       "    </tr>\n",
       "    <tr>\n",
       "      <th>6</th>\n",
       "      <td>0.30</td>\n",
       "      <td>0.49</td>\n",
       "      <td>0.72</td>\n",
       "      <td>0.91</td>\n",
       "      <td>0.98</td>\n",
       "      <td>0.99</td>\n",
       "      <td>1.00</td>\n",
       "      <td>0.99</td>\n",
       "      <td>0.93</td>\n",
       "      <td>0.74</td>\n",
       "      <td>0.55</td>\n",
       "      <td>0.32</td>\n",
       "      <td>-0.88</td>\n",
       "      <td>0.59</td>\n",
       "      <td>0.83</td>\n",
       "      <td>0.62</td>\n",
       "    </tr>\n",
       "    <tr>\n",
       "      <th>7</th>\n",
       "      <td>0.41</td>\n",
       "      <td>0.59</td>\n",
       "      <td>0.80</td>\n",
       "      <td>0.95</td>\n",
       "      <td>0.98</td>\n",
       "      <td>0.99</td>\n",
       "      <td>0.99</td>\n",
       "      <td>1.00</td>\n",
       "      <td>0.97</td>\n",
       "      <td>0.81</td>\n",
       "      <td>0.64</td>\n",
       "      <td>0.43</td>\n",
       "      <td>-0.90</td>\n",
       "      <td>0.50</td>\n",
       "      <td>0.89</td>\n",
       "      <td>0.52</td>\n",
       "    </tr>\n",
       "    <tr>\n",
       "      <th>8</th>\n",
       "      <td>0.60</td>\n",
       "      <td>0.76</td>\n",
       "      <td>0.91</td>\n",
       "      <td>0.98</td>\n",
       "      <td>0.94</td>\n",
       "      <td>0.94</td>\n",
       "      <td>0.93</td>\n",
       "      <td>0.97</td>\n",
       "      <td>1.00</td>\n",
       "      <td>0.93</td>\n",
       "      <td>0.80</td>\n",
       "      <td>0.62</td>\n",
       "      <td>-0.90</td>\n",
       "      <td>0.35</td>\n",
       "      <td>0.97</td>\n",
       "      <td>0.31</td>\n",
       "    </tr>\n",
       "    <tr>\n",
       "      <th>9</th>\n",
       "      <td>0.85</td>\n",
       "      <td>0.94</td>\n",
       "      <td>0.97</td>\n",
       "      <td>0.91</td>\n",
       "      <td>0.77</td>\n",
       "      <td>0.76</td>\n",
       "      <td>0.74</td>\n",
       "      <td>0.81</td>\n",
       "      <td>0.93</td>\n",
       "      <td>1.00</td>\n",
       "      <td>0.96</td>\n",
       "      <td>0.87</td>\n",
       "      <td>-0.78</td>\n",
       "      <td>0.07</td>\n",
       "      <td>0.98</td>\n",
       "      <td>-0.06</td>\n",
       "    </tr>\n",
       "    <tr>\n",
       "      <th>10</th>\n",
       "      <td>0.95</td>\n",
       "      <td>0.99</td>\n",
       "      <td>0.93</td>\n",
       "      <td>0.78</td>\n",
       "      <td>0.59</td>\n",
       "      <td>0.57</td>\n",
       "      <td>0.55</td>\n",
       "      <td>0.64</td>\n",
       "      <td>0.80</td>\n",
       "      <td>0.96</td>\n",
       "      <td>1.00</td>\n",
       "      <td>0.96</td>\n",
       "      <td>-0.64</td>\n",
       "      <td>-0.13</td>\n",
       "      <td>0.91</td>\n",
       "      <td>-0.30</td>\n",
       "    </tr>\n",
       "    <tr>\n",
       "      <th>11</th>\n",
       "      <td>0.99</td>\n",
       "      <td>0.97</td>\n",
       "      <td>0.83</td>\n",
       "      <td>0.62</td>\n",
       "      <td>0.38</td>\n",
       "      <td>0.36</td>\n",
       "      <td>0.32</td>\n",
       "      <td>0.43</td>\n",
       "      <td>0.62</td>\n",
       "      <td>0.87</td>\n",
       "      <td>0.96</td>\n",
       "      <td>1.00</td>\n",
       "      <td>-0.44</td>\n",
       "      <td>-0.35</td>\n",
       "      <td>0.79</td>\n",
       "      <td>-0.54</td>\n",
       "    </tr>\n",
       "    <tr>\n",
       "      <th>12</th>\n",
       "      <td>-0.42</td>\n",
       "      <td>-0.60</td>\n",
       "      <td>-0.81</td>\n",
       "      <td>-0.85</td>\n",
       "      <td>-0.84</td>\n",
       "      <td>-0.87</td>\n",
       "      <td>-0.88</td>\n",
       "      <td>-0.90</td>\n",
       "      <td>-0.90</td>\n",
       "      <td>-0.78</td>\n",
       "      <td>-0.64</td>\n",
       "      <td>-0.44</td>\n",
       "      <td>1.00</td>\n",
       "      <td>-0.31</td>\n",
       "      <td>-0.83</td>\n",
       "      <td>-0.42</td>\n",
       "    </tr>\n",
       "    <tr>\n",
       "      <th>13</th>\n",
       "      <td>-0.39</td>\n",
       "      <td>-0.22</td>\n",
       "      <td>-0.04</td>\n",
       "      <td>0.29</td>\n",
       "      <td>0.54</td>\n",
       "      <td>0.53</td>\n",
       "      <td>0.59</td>\n",
       "      <td>0.50</td>\n",
       "      <td>0.35</td>\n",
       "      <td>0.07</td>\n",
       "      <td>-0.13</td>\n",
       "      <td>-0.35</td>\n",
       "      <td>-0.31</td>\n",
       "      <td>1.00</td>\n",
       "      <td>0.16</td>\n",
       "      <td>0.83</td>\n",
       "    </tr>\n",
       "    <tr>\n",
       "      <th>14</th>\n",
       "      <td>0.77</td>\n",
       "      <td>0.89</td>\n",
       "      <td>0.97</td>\n",
       "      <td>0.96</td>\n",
       "      <td>0.86</td>\n",
       "      <td>0.85</td>\n",
       "      <td>0.83</td>\n",
       "      <td>0.89</td>\n",
       "      <td>0.97</td>\n",
       "      <td>0.98</td>\n",
       "      <td>0.91</td>\n",
       "      <td>0.79</td>\n",
       "      <td>-0.83</td>\n",
       "      <td>0.16</td>\n",
       "      <td>1.00</td>\n",
       "      <td>0.08</td>\n",
       "    </tr>\n",
       "    <tr>\n",
       "      <th>15</th>\n",
       "      <td>-0.57</td>\n",
       "      <td>-0.38</td>\n",
       "      <td>-0.06</td>\n",
       "      <td>0.28</td>\n",
       "      <td>0.55</td>\n",
       "      <td>0.58</td>\n",
       "      <td>0.62</td>\n",
       "      <td>0.52</td>\n",
       "      <td>0.31</td>\n",
       "      <td>-0.06</td>\n",
       "      <td>-0.30</td>\n",
       "      <td>-0.54</td>\n",
       "      <td>-0.42</td>\n",
       "      <td>0.83</td>\n",
       "      <td>0.08</td>\n",
       "      <td>1.00</td>\n",
       "    </tr>\n",
       "  </tbody>\n",
       "</table>\n",
       "</div>"
      ],
      "text/plain": [
       "    Janv  Fevrier  Mars  Avril   Mai  Juin  juil  Aout  Sept  Octo  Nove  \\\n",
       "0   1.00     0.97  0.84   0.61  0.36  0.34  0.30  0.41  0.60  0.85  0.95   \n",
       "1   0.97     1.00  0.93   0.76  0.55  0.52  0.49  0.59  0.76  0.94  0.99   \n",
       "2   0.84     0.93  1.00   0.92  0.77  0.76  0.72  0.80  0.91  0.97  0.93   \n",
       "3   0.61     0.76  0.92   1.00  0.95  0.94  0.91  0.95  0.98  0.91  0.78   \n",
       "4   0.36     0.55  0.77   0.95  1.00  0.99  0.98  0.98  0.94  0.77  0.59   \n",
       "5   0.34     0.52  0.76   0.94  0.99  1.00  0.99  0.99  0.94  0.76  0.57   \n",
       "6   0.30     0.49  0.72   0.91  0.98  0.99  1.00  0.99  0.93  0.74  0.55   \n",
       "7   0.41     0.59  0.80   0.95  0.98  0.99  0.99  1.00  0.97  0.81  0.64   \n",
       "8   0.60     0.76  0.91   0.98  0.94  0.94  0.93  0.97  1.00  0.93  0.80   \n",
       "9   0.85     0.94  0.97   0.91  0.77  0.76  0.74  0.81  0.93  1.00  0.96   \n",
       "10  0.95     0.99  0.93   0.78  0.59  0.57  0.55  0.64  0.80  0.96  1.00   \n",
       "11  0.99     0.97  0.83   0.62  0.38  0.36  0.32  0.43  0.62  0.87  0.96   \n",
       "12 -0.42    -0.60 -0.81  -0.85 -0.84 -0.87 -0.88 -0.90 -0.90 -0.78 -0.64   \n",
       "13 -0.39    -0.22 -0.04   0.29  0.54  0.53  0.59  0.50  0.35  0.07 -0.13   \n",
       "14  0.77     0.89  0.97   0.96  0.86  0.85  0.83  0.89  0.97  0.98  0.91   \n",
       "15 -0.57    -0.38 -0.06   0.28  0.55  0.58  0.62  0.52  0.31 -0.06 -0.30   \n",
       "\n",
       "    Dece  Lati  Long  Moye  Ampl  \n",
       "0   0.99 -0.42 -0.39  0.77 -0.57  \n",
       "1   0.97 -0.60 -0.22  0.89 -0.38  \n",
       "2   0.83 -0.81 -0.04  0.97 -0.06  \n",
       "3   0.62 -0.85  0.29  0.96  0.28  \n",
       "4   0.38 -0.84  0.54  0.86  0.55  \n",
       "5   0.36 -0.87  0.53  0.85  0.58  \n",
       "6   0.32 -0.88  0.59  0.83  0.62  \n",
       "7   0.43 -0.90  0.50  0.89  0.52  \n",
       "8   0.62 -0.90  0.35  0.97  0.31  \n",
       "9   0.87 -0.78  0.07  0.98 -0.06  \n",
       "10  0.96 -0.64 -0.13  0.91 -0.30  \n",
       "11  1.00 -0.44 -0.35  0.79 -0.54  \n",
       "12 -0.44  1.00 -0.31 -0.83 -0.42  \n",
       "13 -0.35 -0.31  1.00  0.16  0.83  \n",
       "14  0.79 -0.83  0.16  1.00  0.08  \n",
       "15 -0.54 -0.42  0.83  0.08  1.00  "
      ]
     },
     "execution_count": 39,
     "metadata": {},
     "output_type": "execute_result"
    }
   ],
   "source": [
    "correlation_matrix = np.corrcoef(data_standarized[x_labels].transpose())\n",
    "\n",
    "pd.DataFrame(correlation_matrix.round(2), columns = x_labels)\n",
    "\n"
   ]
  },
  {
   "cell_type": "code",
   "execution_count": 40,
   "metadata": {},
   "outputs": [
    {
     "data": {
      "image/png": "[encoded data removed]",
      "text/plain": [
       "<Figure size 864x864 with 2 Axes>"
      ]
     },
     "metadata": {
      "needs_background": "light"
     },
     "output_type": "display_data"
    }
   ],
   "source": [
    "import seaborn as sns\n",
    "\n",
    "df2 = correlation_matrix.astype('float')  # !! Neccessary for Heatmap\n",
    "df2 = pd.DataFrame(correlation_matrix, columns = x_labels, index = x_labels)\n",
    "plt.figure(figsize=(12,12))\n",
    "sns.heatmap(df2, annot=True, cmap=\"Greens\")\n",
    "plt.show()"
   ]
  },
  {
   "cell_type": "markdown",
   "metadata": {},
   "source": [
    "Les variables Ampl, Moye, Long et Lat ont tres bas correlation."
   ]
  },
  {
   "cell_type": "markdown",
   "metadata": {},
   "source": [
    "# 5. Finding eigen values and vectors"
   ]
  },
  {
   "cell_type": "code",
   "execution_count": 15,
   "metadata": {},
   "outputs": [],
   "source": [
    "eig_vals, eig_vecs = np.linalg.eig(correlation_matrix)"
   ]
  },
  {
   "cell_type": "code",
   "execution_count": 35,
   "metadata": {},
   "outputs": [
    {
     "data": {
      "text/plain": [
       "array([ 1.137e+01,  4.010e+00,  3.700e-01,  1.700e-01,  4.000e-02,\n",
       "        1.000e-02,  1.000e-02,  1.000e-02,  0.000e+00,  0.000e+00,\n",
       "        0.000e+00,  0.000e+00,  0.000e+00,  0.000e+00,  0.000e+00,\n",
       "       -0.000e+00])"
      ]
     },
     "execution_count": 35,
     "metadata": {},
     "output_type": "execute_result"
    }
   ],
   "source": [
    "eig_vals.round(2)  #Si le valor pasa de 1 pasa criterio de kramer en este caso cogemeo 4.42 y 0.85"
   ]
  },
  {
   "cell_type": "code",
   "execution_count": 33,
   "metadata": {},
   "outputs": [
    {
     "data": {
      "text/plain": [
       "array([[-0.212, -0.345,  0.135,  0.015, -0.036, -0.227,  0.297,  0.073,\n",
       "         0.235, -0.112,  0.35 , -0.185, -0.181, -0.375,  0.385, -0.264],\n",
       "       [-0.251, -0.261,  0.093, -0.042,  0.233,  0.032,  0.226,  0.494,\n",
       "        -0.15 ,  0.287, -0.565,  0.041,  0.234, -0.149, -0.02 , -0.072],\n",
       "       [-0.284, -0.117, -0.208,  0.06 ,  0.476,  0.28 , -0.217,  0.145,\n",
       "        -0.475, -0.251,  0.371, -0.104, -0.11 , -0.082, -0.171, -0.066],\n",
       "       [-0.29 ,  0.062, -0.06 ,  0.36 ,  0.335, -0.216, -0.041, -0.252,\n",
       "         0.168,  0.605,  0.049,  0.072, -0.333,  0.171, -0.097, -0.08 ],\n",
       "       [-0.266,  0.205,  0.041,  0.36 ,  0.169, -0.271, -0.133, -0.069,\n",
       "         0.02 , -0.355, -0.132, -0.129,  0.481,  0.328,  0.334, -0.071],\n",
       "       [-0.265,  0.215, -0.075,  0.273, -0.191, -0.287,  0.071, -0.083,\n",
       "        -0.007, -0.265, -0.098,  0.304,  0.037, -0.54 , -0.451, -0.031],\n",
       "       [-0.26 ,  0.238, -0.019,  0.046, -0.317,  0.03 ,  0.201,  0.552,\n",
       "         0.012, -0.101,  0.171,  0.295, -0.288,  0.457, -0.021, -0.094],\n",
       "       [-0.275,  0.185, -0.043,  0.027, -0.249,  0.331,  0.336, -0.099,\n",
       "         0.022,  0.316,  0.329, -0.338,  0.484, -0.013, -0.187, -0.015],\n",
       "       [-0.293,  0.073,  0.001, -0.047,  0.01 ,  0.466,  0.167, -0.299,\n",
       "         0.234, -0.31 , -0.453, -0.247, -0.367,  0.061, -0.052, -0.128],\n",
       "       [-0.287, -0.111,  0.127, -0.139, -0.074,  0.387, -0.362, -0.166,\n",
       "         0.176,  0.091,  0.082,  0.614,  0.212, -0.103,  0.226, -0.112],\n",
       "       [-0.26 , -0.228,  0.18 , -0.183, -0.185, -0.182, -0.558,  0.213,\n",
       "         0.338, -0.008,  0.01 , -0.355,  0.017,  0.091, -0.372, -0.016],\n",
       "       [-0.217, -0.333,  0.183, -0.053, -0.413, -0.185,  0.018, -0.365,\n",
       "        -0.628,  0.055, -0.095, -0.002, -0.088,  0.213, -0.01 , -0.094],\n",
       "       [ 0.258, -0.126,  0.495,  0.699, -0.141,  0.335, -0.117,  0.137,\n",
       "        -0.041,  0.011,  0.009, -0.07 , -0.071, -0.074, -0.039, -0.005],\n",
       "       [-0.066,  0.423,  0.754, -0.328,  0.292, -0.091,  0.089, -0.047,\n",
       "        -0.117, -0.016,  0.107,  0.012, -0.053, -0.049, -0.074,  0.004],\n",
       "       [-0.295, -0.043,  0.04 ,  0.049, -0.051,  0.012,  0.016,  0.023,\n",
       "        -0.001, -0.006,  0.013, -0.032, -0.115, -0.087,  0.387,  0.918],\n",
       "       [-0.05 ,  0.489, -0.139, -0.024, -0.246,  0.024, -0.378,  0.152,\n",
       "        -0.242,  0.248, -0.144, -0.261, -0.178, -0.332,  0.338, -0.137]])"
      ]
     },
     "execution_count": 33,
     "metadata": {},
     "output_type": "execute_result"
    }
   ],
   "source": [
    "eig_vecs.round(3)"
   ]
  },
  {
   "cell_type": "code",
   "execution_count": 18,
   "metadata": {},
   "outputs": [
    {
     "data": {
      "text/plain": [
       "(16, 16)"
      ]
     },
     "execution_count": 18,
     "metadata": {},
     "output_type": "execute_result"
    }
   ],
   "source": [
    "eig_vecs.shape # numero de donnes vs numero de descriptors"
   ]
  },
  {
   "cell_type": "markdown",
   "metadata": {},
   "source": [
    "# 6. Optimal number of components"
   ]
  },
  {
   "cell_type": "markdown",
   "metadata": {},
   "source": [
    "# 6.1 Methode de code"
   ]
  },
  {
   "cell_type": "code",
   "execution_count": 19,
   "metadata": {},
   "outputs": [],
   "source": [
    "from sklearn.cluster import KMeans\n",
    "from kneed import KneeLocator\n",
    "\n",
    "SSE = []\n",
    "cluster_Range = eig_vecs.shape[0]\n",
    "for cluster in range(1,cluster_Range):\n",
    "    kmeans = KMeans(n_jobs = -1, n_clusters = cluster, init='k-means++')\n",
    "    kmeans.fit(data_standarized[x_labels])\n",
    "    SSE.append(kmeans.inertia_)\n",
    "\n"
   ]
  },
  {
   "cell_type": "code",
   "execution_count": 20,
   "metadata": {},
   "outputs": [
    {
     "data": {
      "text/plain": [
       "Text(0, 0.5, 'Inertia')"
      ]
     },
     "execution_count": 20,
     "metadata": {},
     "output_type": "execute_result"
    },
    {
     "data": {
      "image/png": "[encoded data removed]",
      "text/plain": [
       "<Figure size 648x432 with 1 Axes>"
      ]
     },
     "metadata": {
      "needs_background": "light"
     },
     "output_type": "display_data"
    }
   ],
   "source": [
    "# converting the results into a dataframe and plotting them\n",
    "frame = pd.DataFrame({'Cluster':range(1,cluster_Range), 'SSE':SSE})\n",
    "plt.figure(figsize=(9,6))\n",
    "plt.plot(frame['Cluster'], frame['SSE'], marker='o')\n",
    "plt.xlabel('Number of clusters')\n",
    "plt.ylabel('Inertia')"
   ]
  },
  {
   "cell_type": "code",
   "execution_count": 21,
   "metadata": {},
   "outputs": [
    {
     "data": {
      "text/plain": [
       "[240.0,\n",
       " 99.41167466195421,\n",
       " 57.474269114514485,\n",
       " 45.1304076153006,\n",
       " 30.253631701507178,\n",
       " 23.404618998066205,\n",
       " 14.819772364816231,\n",
       " 10.360519147856575,\n",
       " 6.058443184079971,\n",
       " 4.057397591999552,\n",
       " 2.308619087913506,\n",
       " 1.2538740712721748,\n",
       " 0.6663769773755752,\n",
       " 0.19718272823161126,\n",
       " 0.0]"
      ]
     },
     "execution_count": 21,
     "metadata": {},
     "output_type": "execute_result"
    }
   ],
   "source": [
    "SSE"
   ]
  },
  {
   "cell_type": "markdown",
   "metadata": {},
   "source": [
    "<font color=\"red\">Pour observation le numero optimal cest 3 clusters</font>\n"
   ]
  },
  {
   "cell_type": "code",
   "execution_count": 37,
   "metadata": {},
   "outputs": [
    {
     "data": {
      "text/html": [
       "<div>\n",
       "<style scoped>\n",
       "    .dataframe tbody tr th:only-of-type {\n",
       "        vertical-align: middle;\n",
       "    }\n",
       "\n",
       "    .dataframe tbody tr th {\n",
       "        vertical-align: top;\n",
       "    }\n",
       "\n",
       "    .dataframe thead th {\n",
       "        text-align: right;\n",
       "    }\n",
       "</style>\n",
       "<table border=\"1\" class=\"dataframe\">\n",
       "  <thead>\n",
       "    <tr style=\"text-align: right;\">\n",
       "      <th></th>\n",
       "      <th>SSE</th>\n",
       "    </tr>\n",
       "  </thead>\n",
       "  <tbody>\n",
       "    <tr>\n",
       "      <th>0</th>\n",
       "      <td>240.000000</td>\n",
       "    </tr>\n",
       "    <tr>\n",
       "      <th>1</th>\n",
       "      <td>99.411675</td>\n",
       "    </tr>\n",
       "    <tr>\n",
       "      <th>2</th>\n",
       "      <td>57.474269</td>\n",
       "    </tr>\n",
       "    <tr>\n",
       "      <th>3</th>\n",
       "      <td>45.130408</td>\n",
       "    </tr>\n",
       "    <tr>\n",
       "      <th>4</th>\n",
       "      <td>30.253632</td>\n",
       "    </tr>\n",
       "    <tr>\n",
       "      <th>5</th>\n",
       "      <td>23.404619</td>\n",
       "    </tr>\n",
       "    <tr>\n",
       "      <th>6</th>\n",
       "      <td>14.819772</td>\n",
       "    </tr>\n",
       "    <tr>\n",
       "      <th>7</th>\n",
       "      <td>10.360519</td>\n",
       "    </tr>\n",
       "    <tr>\n",
       "      <th>8</th>\n",
       "      <td>6.058443</td>\n",
       "    </tr>\n",
       "    <tr>\n",
       "      <th>9</th>\n",
       "      <td>4.057398</td>\n",
       "    </tr>\n",
       "    <tr>\n",
       "      <th>10</th>\n",
       "      <td>2.308619</td>\n",
       "    </tr>\n",
       "    <tr>\n",
       "      <th>11</th>\n",
       "      <td>1.253874</td>\n",
       "    </tr>\n",
       "    <tr>\n",
       "      <th>12</th>\n",
       "      <td>0.666377</td>\n",
       "    </tr>\n",
       "    <tr>\n",
       "      <th>13</th>\n",
       "      <td>0.197183</td>\n",
       "    </tr>\n",
       "    <tr>\n",
       "      <th>14</th>\n",
       "      <td>0.000000</td>\n",
       "    </tr>\n",
       "  </tbody>\n",
       "</table>\n",
       "</div>"
      ],
      "text/plain": [
       "           SSE\n",
       "0   240.000000\n",
       "1    99.411675\n",
       "2    57.474269\n",
       "3    45.130408\n",
       "4    30.253632\n",
       "5    23.404619\n",
       "6    14.819772\n",
       "7    10.360519\n",
       "8     6.058443\n",
       "9     4.057398\n",
       "10    2.308619\n",
       "11    1.253874\n",
       "12    0.666377\n",
       "13    0.197183\n",
       "14    0.000000"
      ]
     },
     "execution_count": 37,
     "metadata": {},
     "output_type": "execute_result"
    }
   ],
   "source": [
    "SSE_Info = pd.DataFrame(SSE, columns = ['SSE']).sort_values(by=['SSE'], ascending=False)\n",
    "SSE_Info"
   ]
  },
  {
   "cell_type": "markdown",
   "metadata": {},
   "source": [
    "# 6.2.  Matrix de composant principaux et explained_variance_ratio\n"
   ]
  },
  {
   "cell_type": "code",
   "execution_count": 48,
   "metadata": {},
   "outputs": [
    {
     "data": {
      "text/html": [
       "<div>\n",
       "<style scoped>\n",
       "    .dataframe tbody tr th:only-of-type {\n",
       "        vertical-align: middle;\n",
       "    }\n",
       "\n",
       "    .dataframe tbody tr th {\n",
       "        vertical-align: top;\n",
       "    }\n",
       "\n",
       "    .dataframe thead th {\n",
       "        text-align: right;\n",
       "    }\n",
       "</style>\n",
       "<table border=\"1\" class=\"dataframe\">\n",
       "  <thead>\n",
       "    <tr style=\"text-align: right;\">\n",
       "      <th></th>\n",
       "      <th>Janv</th>\n",
       "      <th>Fevrier</th>\n",
       "      <th>Mars</th>\n",
       "      <th>Avril</th>\n",
       "      <th>Mai</th>\n",
       "      <th>Juin</th>\n",
       "      <th>juil</th>\n",
       "      <th>Aout</th>\n",
       "      <th>Sept</th>\n",
       "      <th>Octo</th>\n",
       "      <th>Nove</th>\n",
       "      <th>Dece</th>\n",
       "      <th>Lati</th>\n",
       "      <th>Long</th>\n",
       "      <th>Moye</th>\n",
       "      <th>Ampl</th>\n",
       "    </tr>\n",
       "  </thead>\n",
       "  <tbody>\n",
       "    <tr>\n",
       "      <th>0</th>\n",
       "      <td>0.839</td>\n",
       "      <td>0.979</td>\n",
       "      <td>1.399</td>\n",
       "      <td>1.332</td>\n",
       "      <td>0.940</td>\n",
       "      <td>0.846</td>\n",
       "      <td>0.519</td>\n",
       "      <td>0.737</td>\n",
       "      <td>0.904</td>\n",
       "      <td>0.837</td>\n",
       "      <td>0.673</td>\n",
       "      <td>0.715</td>\n",
       "      <td>-0.694</td>\n",
       "      <td>-0.912</td>\n",
       "      <td>0.981</td>\n",
       "      <td>-0.228</td>\n",
       "    </tr>\n",
       "    <tr>\n",
       "      <th>1</th>\n",
       "      <td>1.097</td>\n",
       "      <td>0.536</td>\n",
       "      <td>-0.293</td>\n",
       "      <td>-1.302</td>\n",
       "      <td>-1.949</td>\n",
       "      <td>-1.982</td>\n",
       "      <td>-2.058</td>\n",
       "      <td>-1.835</td>\n",
       "      <td>-1.281</td>\n",
       "      <td>-0.181</td>\n",
       "      <td>0.616</td>\n",
       "      <td>1.138</td>\n",
       "      <td>0.993</td>\n",
       "      <td>-2.144</td>\n",
       "      <td>-0.674</td>\n",
       "      <td>-2.542</td>\n",
       "    </tr>\n",
       "    <tr>\n",
       "      <th>2</th>\n",
       "      <td>-0.708</td>\n",
       "      <td>-0.628</td>\n",
       "      <td>-0.496</td>\n",
       "      <td>-0.497</td>\n",
       "      <td>-0.436</td>\n",
       "      <td>-0.308</td>\n",
       "      <td>-0.211</td>\n",
       "      <td>-0.240</td>\n",
       "      <td>-0.441</td>\n",
       "      <td>-0.634</td>\n",
       "      <td>-0.761</td>\n",
       "      <td>-0.659</td>\n",
       "      <td>-0.257</td>\n",
       "      <td>0.146</td>\n",
       "      <td>-0.564</td>\n",
       "      <td>0.394</td>\n",
       "    </tr>\n",
       "    <tr>\n",
       "      <th>3</th>\n",
       "      <td>-1.275</td>\n",
       "      <td>-0.905</td>\n",
       "      <td>-0.361</td>\n",
       "      <td>-0.278</td>\n",
       "      <td>0.046</td>\n",
       "      <td>-0.019</td>\n",
       "      <td>0.130</td>\n",
       "      <td>-0.034</td>\n",
       "      <td>-0.161</td>\n",
       "      <td>-0.520</td>\n",
       "      <td>-0.819</td>\n",
       "      <td>-1.346</td>\n",
       "      <td>-0.424</td>\n",
       "      <td>0.888</td>\n",
       "      <td>-0.538</td>\n",
       "      <td>1.195</td>\n",
       "    </tr>\n",
       "    <tr>\n",
       "      <th>4</th>\n",
       "      <td>-0.811</td>\n",
       "      <td>-1.071</td>\n",
       "      <td>-1.512</td>\n",
       "      <td>-1.522</td>\n",
       "      <td>-1.399</td>\n",
       "      <td>-1.462</td>\n",
       "      <td>-1.329</td>\n",
       "      <td>-1.269</td>\n",
       "      <td>-1.281</td>\n",
       "      <td>-1.086</td>\n",
       "      <td>-1.048</td>\n",
       "      <td>-0.712</td>\n",
       "      <td>1.958</td>\n",
       "      <td>0.142</td>\n",
       "      <td>-1.346</td>\n",
       "      <td>-0.540</td>\n",
       "    </tr>\n",
       "    <tr>\n",
       "      <th>5</th>\n",
       "      <td>-0.966</td>\n",
       "      <td>-0.849</td>\n",
       "      <td>-0.361</td>\n",
       "      <td>-0.059</td>\n",
       "      <td>0.321</td>\n",
       "      <td>0.385</td>\n",
       "      <td>0.421</td>\n",
       "      <td>0.274</td>\n",
       "      <td>-0.049</td>\n",
       "      <td>-0.520</td>\n",
       "      <td>-0.704</td>\n",
       "      <td>-0.923</td>\n",
       "      <td>-0.266</td>\n",
       "      <td>0.601</td>\n",
       "      <td>-0.293</td>\n",
       "      <td>1.195</td>\n",
       "    </tr>\n",
       "    <tr>\n",
       "      <th>6</th>\n",
       "      <td>0.787</td>\n",
       "      <td>0.979</td>\n",
       "      <td>1.196</td>\n",
       "      <td>1.478</td>\n",
       "      <td>1.628</td>\n",
       "      <td>1.712</td>\n",
       "      <td>1.686</td>\n",
       "      <td>1.663</td>\n",
       "      <td>1.632</td>\n",
       "      <td>1.516</td>\n",
       "      <td>1.305</td>\n",
       "      <td>1.085</td>\n",
       "      <td>-1.290</td>\n",
       "      <td>0.829</td>\n",
       "      <td>1.562</td>\n",
       "      <td>0.839</td>\n",
       "    </tr>\n",
       "    <tr>\n",
       "      <th>7</th>\n",
       "      <td>0.839</td>\n",
       "      <td>1.034</td>\n",
       "      <td>1.128</td>\n",
       "      <td>1.332</td>\n",
       "      <td>1.215</td>\n",
       "      <td>1.308</td>\n",
       "      <td>1.394</td>\n",
       "      <td>1.406</td>\n",
       "      <td>1.296</td>\n",
       "      <td>1.290</td>\n",
       "      <td>1.190</td>\n",
       "      <td>0.874</td>\n",
       "      <td>-1.209</td>\n",
       "      <td>0.295</td>\n",
       "      <td>1.342</td>\n",
       "      <td>0.528</td>\n",
       "    </tr>\n",
       "    <tr>\n",
       "      <th>8</th>\n",
       "      <td>0.529</td>\n",
       "      <td>0.259</td>\n",
       "      <td>0.113</td>\n",
       "      <td>-0.132</td>\n",
       "      <td>-0.367</td>\n",
       "      <td>-0.366</td>\n",
       "      <td>-0.502</td>\n",
       "      <td>-0.497</td>\n",
       "      <td>-0.329</td>\n",
       "      <td>-0.068</td>\n",
       "      <td>0.157</td>\n",
       "      <td>0.345</td>\n",
       "      <td>0.492</td>\n",
       "      <td>-1.221</td>\n",
       "      <td>-0.079</td>\n",
       "      <td>-0.940</td>\n",
       "    </tr>\n",
       "    <tr>\n",
       "      <th>9</th>\n",
       "      <td>1.819</td>\n",
       "      <td>2.031</td>\n",
       "      <td>1.737</td>\n",
       "      <td>1.697</td>\n",
       "      <td>1.559</td>\n",
       "      <td>1.308</td>\n",
       "      <td>1.394</td>\n",
       "      <td>1.509</td>\n",
       "      <td>1.856</td>\n",
       "      <td>2.082</td>\n",
       "      <td>2.051</td>\n",
       "      <td>1.772</td>\n",
       "      <td>-1.181</td>\n",
       "      <td>1.425</td>\n",
       "      <td>1.956</td>\n",
       "      <td>-0.317</td>\n",
       "    </tr>\n",
       "    <tr>\n",
       "      <th>10</th>\n",
       "      <td>-0.296</td>\n",
       "      <td>-0.406</td>\n",
       "      <td>-0.429</td>\n",
       "      <td>-0.205</td>\n",
       "      <td>-0.092</td>\n",
       "      <td>-0.192</td>\n",
       "      <td>-0.357</td>\n",
       "      <td>-0.446</td>\n",
       "      <td>-0.553</td>\n",
       "      <td>-0.520</td>\n",
       "      <td>-0.474</td>\n",
       "      <td>-0.289</td>\n",
       "      <td>1.119</td>\n",
       "      <td>-0.120</td>\n",
       "      <td>-0.409</td>\n",
       "      <td>-0.095</td>\n",
       "    </tr>\n",
       "    <tr>\n",
       "      <th>11</th>\n",
       "      <td>0.426</td>\n",
       "      <td>0.259</td>\n",
       "      <td>-0.226</td>\n",
       "      <td>-0.644</td>\n",
       "      <td>-0.917</td>\n",
       "      <td>-0.943</td>\n",
       "      <td>-0.940</td>\n",
       "      <td>-0.909</td>\n",
       "      <td>-0.721</td>\n",
       "      <td>-0.407</td>\n",
       "      <td>-0.073</td>\n",
       "      <td>0.292</td>\n",
       "      <td>0.907</td>\n",
       "      <td>-1.246</td>\n",
       "      <td>-0.441</td>\n",
       "      <td>-1.252</td>\n",
       "    </tr>\n",
       "    <tr>\n",
       "      <th>12</th>\n",
       "      <td>-1.843</td>\n",
       "      <td>-1.847</td>\n",
       "      <td>-1.783</td>\n",
       "      <td>-0.863</td>\n",
       "      <td>-0.298</td>\n",
       "      <td>-0.366</td>\n",
       "      <td>-0.405</td>\n",
       "      <td>-0.652</td>\n",
       "      <td>-1.057</td>\n",
       "      <td>-1.595</td>\n",
       "      <td>-1.737</td>\n",
       "      <td>-1.875</td>\n",
       "      <td>1.042</td>\n",
       "      <td>1.518</td>\n",
       "      <td>-1.352</td>\n",
       "      <td>1.195</td>\n",
       "    </tr>\n",
       "    <tr>\n",
       "      <th>13</th>\n",
       "      <td>0.375</td>\n",
       "      <td>0.425</td>\n",
       "      <td>0.654</td>\n",
       "      <td>0.454</td>\n",
       "      <td>0.321</td>\n",
       "      <td>0.500</td>\n",
       "      <td>0.519</td>\n",
       "      <td>0.686</td>\n",
       "      <td>0.736</td>\n",
       "      <td>0.554</td>\n",
       "      <td>0.386</td>\n",
       "      <td>0.345</td>\n",
       "      <td>-1.209</td>\n",
       "      <td>-0.413</td>\n",
       "      <td>0.561</td>\n",
       "      <td>0.128</td>\n",
       "    </tr>\n",
       "    <tr>\n",
       "      <th>14</th>\n",
       "      <td>-0.811</td>\n",
       "      <td>-0.794</td>\n",
       "      <td>-0.767</td>\n",
       "      <td>-0.790</td>\n",
       "      <td>-0.573</td>\n",
       "      <td>-0.423</td>\n",
       "      <td>-0.259</td>\n",
       "      <td>-0.394</td>\n",
       "      <td>-0.553</td>\n",
       "      <td>-0.747</td>\n",
       "      <td>-0.761</td>\n",
       "      <td>-0.765</td>\n",
       "      <td>0.018</td>\n",
       "      <td>0.211</td>\n",
       "      <td>-0.706</td>\n",
       "      <td>0.439</td>\n",
       "    </tr>\n",
       "  </tbody>\n",
       "</table>\n",
       "</div>"
      ],
      "text/plain": [
       "     Janv  Fevrier   Mars  Avril    Mai   Juin   juil   Aout   Sept   Octo  \\\n",
       "0   0.839    0.979  1.399  1.332  0.940  0.846  0.519  0.737  0.904  0.837   \n",
       "1   1.097    0.536 -0.293 -1.302 -1.949 -1.982 -2.058 -1.835 -1.281 -0.181   \n",
       "2  -0.708   -0.628 -0.496 -0.497 -0.436 -0.308 -0.211 -0.240 -0.441 -0.634   \n",
       "3  -1.275   -0.905 -0.361 -0.278  0.046 -0.019  0.130 -0.034 -0.161 -0.520   \n",
       "4  -0.811   -1.071 -1.512 -1.522 -1.399 -1.462 -1.329 -1.269 -1.281 -1.086   \n",
       "5  -0.966   -0.849 -0.361 -0.059  0.321  0.385  0.421  0.274 -0.049 -0.520   \n",
       "6   0.787    0.979  1.196  1.478  1.628  1.712  1.686  1.663  1.632  1.516   \n",
       "7   0.839    1.034  1.128  1.332  1.215  1.308  1.394  1.406  1.296  1.290   \n",
       "8   0.529    0.259  0.113 -0.132 -0.367 -0.366 -0.502 -0.497 -0.329 -0.068   \n",
       "9   1.819    2.031  1.737  1.697  1.559  1.308  1.394  1.509  1.856  2.082   \n",
       "10 -0.296   -0.406 -0.429 -0.205 -0.092 -0.192 -0.357 -0.446 -0.553 -0.520   \n",
       "11  0.426    0.259 -0.226 -0.644 -0.917 -0.943 -0.940 -0.909 -0.721 -0.407   \n",
       "12 -1.843   -1.847 -1.783 -0.863 -0.298 -0.366 -0.405 -0.652 -1.057 -1.595   \n",
       "13  0.375    0.425  0.654  0.454  0.321  0.500  0.519  0.686  0.736  0.554   \n",
       "14 -0.811   -0.794 -0.767 -0.790 -0.573 -0.423 -0.259 -0.394 -0.553 -0.747   \n",
       "\n",
       "     Nove   Dece   Lati   Long   Moye   Ampl  \n",
       "0   0.673  0.715 -0.694 -0.912  0.981 -0.228  \n",
       "1   0.616  1.138  0.993 -2.144 -0.674 -2.542  \n",
       "2  -0.761 -0.659 -0.257  0.146 -0.564  0.394  \n",
       "3  -0.819 -1.346 -0.424  0.888 -0.538  1.195  \n",
       "4  -1.048 -0.712  1.958  0.142 -1.346 -0.540  \n",
       "5  -0.704 -0.923 -0.266  0.601 -0.293  1.195  \n",
       "6   1.305  1.085 -1.290  0.829  1.562  0.839  \n",
       "7   1.190  0.874 -1.209  0.295  1.342  0.528  \n",
       "8   0.157  0.345  0.492 -1.221 -0.079 -0.940  \n",
       "9   2.051  1.772 -1.181  1.425  1.956 -0.317  \n",
       "10 -0.474 -0.289  1.119 -0.120 -0.409 -0.095  \n",
       "11 -0.073  0.292  0.907 -1.246 -0.441 -1.252  \n",
       "12 -1.737 -1.875  1.042  1.518 -1.352  1.195  \n",
       "13  0.386  0.345 -1.209 -0.413  0.561  0.128  \n",
       "14 -0.761 -0.765  0.018  0.211 -0.706  0.439  "
      ]
     },
     "execution_count": 48,
     "metadata": {},
     "output_type": "execute_result"
    }
   ],
   "source": [
    "data_standarized[x_labels].round(3)"
   ]
  },
  {
   "cell_type": "code",
   "execution_count": 44,
   "metadata": {},
   "outputs": [
    {
     "data": {
      "text/html": [
       "<div>\n",
       "<style scoped>\n",
       "    .dataframe tbody tr th:only-of-type {\n",
       "        vertical-align: middle;\n",
       "    }\n",
       "\n",
       "    .dataframe tbody tr th {\n",
       "        vertical-align: top;\n",
       "    }\n",
       "\n",
       "    .dataframe thead th {\n",
       "        text-align: right;\n",
       "    }\n",
       "</style>\n",
       "<table border=\"1\" class=\"dataframe\">\n",
       "  <thead>\n",
       "    <tr style=\"text-align: right;\">\n",
       "      <th></th>\n",
       "      <th>0</th>\n",
       "      <th>1</th>\n",
       "      <th>2</th>\n",
       "      <th>3</th>\n",
       "      <th>4</th>\n",
       "      <th>5</th>\n",
       "      <th>6</th>\n",
       "      <th>7</th>\n",
       "      <th>8</th>\n",
       "      <th>9</th>\n",
       "      <th>10</th>\n",
       "      <th>11</th>\n",
       "      <th>12</th>\n",
       "      <th>13</th>\n",
       "      <th>14</th>\n",
       "    </tr>\n",
       "    <tr>\n",
       "      <th>City</th>\n",
       "      <th></th>\n",
       "      <th></th>\n",
       "      <th></th>\n",
       "      <th></th>\n",
       "      <th></th>\n",
       "      <th></th>\n",
       "      <th></th>\n",
       "      <th></th>\n",
       "      <th></th>\n",
       "      <th></th>\n",
       "      <th></th>\n",
       "      <th></th>\n",
       "      <th></th>\n",
       "      <th></th>\n",
       "      <th></th>\n",
       "    </tr>\n",
       "  </thead>\n",
       "  <tbody>\n",
       "    <tr>\n",
       "      <th>Bordeaux</th>\n",
       "      <td>3.250</td>\n",
       "      <td>0.863</td>\n",
       "      <td>-0.835</td>\n",
       "      <td>0.697</td>\n",
       "      <td>-0.325</td>\n",
       "      <td>0.055</td>\n",
       "      <td>0.014</td>\n",
       "      <td>-0.102</td>\n",
       "      <td>0.027</td>\n",
       "      <td>0.037</td>\n",
       "      <td>0.011</td>\n",
       "      <td>0.009</td>\n",
       "      <td>0.007</td>\n",
       "      <td>0.001</td>\n",
       "      <td>0.0</td>\n",
       "    </tr>\n",
       "    <tr>\n",
       "      <th>Brest</th>\n",
       "      <td>-2.920</td>\n",
       "      <td>5.057</td>\n",
       "      <td>0.021</td>\n",
       "      <td>-0.542</td>\n",
       "      <td>0.022</td>\n",
       "      <td>-0.138</td>\n",
       "      <td>0.176</td>\n",
       "      <td>-0.061</td>\n",
       "      <td>0.003</td>\n",
       "      <td>0.017</td>\n",
       "      <td>-0.002</td>\n",
       "      <td>0.010</td>\n",
       "      <td>-0.001</td>\n",
       "      <td>0.000</td>\n",
       "      <td>0.0</td>\n",
       "    </tr>\n",
       "    <tr>\n",
       "      <th>Clermont</th>\n",
       "      <td>-1.634</td>\n",
       "      <td>-0.928</td>\n",
       "      <td>-0.434</td>\n",
       "      <td>-0.432</td>\n",
       "      <td>-0.053</td>\n",
       "      <td>-0.057</td>\n",
       "      <td>-0.143</td>\n",
       "      <td>-0.024</td>\n",
       "      <td>0.095</td>\n",
       "      <td>0.050</td>\n",
       "      <td>-0.023</td>\n",
       "      <td>-0.029</td>\n",
       "      <td>-0.002</td>\n",
       "      <td>-0.004</td>\n",
       "      <td>0.0</td>\n",
       "    </tr>\n",
       "    <tr>\n",
       "      <th>Grenoble</th>\n",
       "      <td>-1.282</td>\n",
       "      <td>-2.449</td>\n",
       "      <td>-0.350</td>\n",
       "      <td>-0.429</td>\n",
       "      <td>-0.345</td>\n",
       "      <td>0.127</td>\n",
       "      <td>0.224</td>\n",
       "      <td>0.073</td>\n",
       "      <td>-0.025</td>\n",
       "      <td>-0.012</td>\n",
       "      <td>0.014</td>\n",
       "      <td>-0.014</td>\n",
       "      <td>-0.003</td>\n",
       "      <td>-0.001</td>\n",
       "      <td>0.0</td>\n",
       "    </tr>\n",
       "    <tr>\n",
       "      <th>Lille</th>\n",
       "      <td>-4.799</td>\n",
       "      <td>0.398</td>\n",
       "      <td>0.970</td>\n",
       "      <td>0.105</td>\n",
       "      <td>0.149</td>\n",
       "      <td>0.311</td>\n",
       "      <td>-0.014</td>\n",
       "      <td>-0.064</td>\n",
       "      <td>-0.007</td>\n",
       "      <td>0.021</td>\n",
       "      <td>-0.009</td>\n",
       "      <td>0.001</td>\n",
       "      <td>0.003</td>\n",
       "      <td>-0.001</td>\n",
       "      <td>0.0</td>\n",
       "    </tr>\n",
       "    <tr>\n",
       "      <th>Lyon</th>\n",
       "      <td>-0.631</td>\n",
       "      <td>-2.300</td>\n",
       "      <td>-0.385</td>\n",
       "      <td>0.052</td>\n",
       "      <td>0.093</td>\n",
       "      <td>-0.034</td>\n",
       "      <td>0.052</td>\n",
       "      <td>0.023</td>\n",
       "      <td>0.034</td>\n",
       "      <td>-0.043</td>\n",
       "      <td>-0.034</td>\n",
       "      <td>0.048</td>\n",
       "      <td>0.001</td>\n",
       "      <td>-0.003</td>\n",
       "      <td>0.0</td>\n",
       "    </tr>\n",
       "    <tr>\n",
       "      <th>Marseille</th>\n",
       "      <td>5.340</td>\n",
       "      <td>-0.982</td>\n",
       "      <td>0.253</td>\n",
       "      <td>0.051</td>\n",
       "      <td>0.382</td>\n",
       "      <td>-0.020</td>\n",
       "      <td>0.115</td>\n",
       "      <td>-0.059</td>\n",
       "      <td>0.044</td>\n",
       "      <td>-0.037</td>\n",
       "      <td>0.035</td>\n",
       "      <td>-0.016</td>\n",
       "      <td>0.001</td>\n",
       "      <td>-0.003</td>\n",
       "      <td>0.0</td>\n",
       "    </tr>\n",
       "    <tr>\n",
       "      <th>Montpellier</th>\n",
       "      <td>4.565</td>\n",
       "      <td>-0.379</td>\n",
       "      <td>-0.098</td>\n",
       "      <td>0.022</td>\n",
       "      <td>0.246</td>\n",
       "      <td>-0.003</td>\n",
       "      <td>0.042</td>\n",
       "      <td>0.100</td>\n",
       "      <td>-0.063</td>\n",
       "      <td>0.109</td>\n",
       "      <td>-0.016</td>\n",
       "      <td>0.002</td>\n",
       "      <td>-0.000</td>\n",
       "      <td>0.001</td>\n",
       "      <td>0.0</td>\n",
       "    </tr>\n",
       "    <tr>\n",
       "      <th>Nantes</th>\n",
       "      <td>-0.569</td>\n",
       "      <td>1.838</td>\n",
       "      <td>-0.343</td>\n",
       "      <td>0.429</td>\n",
       "      <td>0.019</td>\n",
       "      <td>-0.048</td>\n",
       "      <td>-0.028</td>\n",
       "      <td>0.041</td>\n",
       "      <td>-0.087</td>\n",
       "      <td>-0.068</td>\n",
       "      <td>-0.029</td>\n",
       "      <td>-0.029</td>\n",
       "      <td>0.005</td>\n",
       "      <td>-0.003</td>\n",
       "      <td>0.0</td>\n",
       "    </tr>\n",
       "    <tr>\n",
       "      <th>Nice</th>\n",
       "      <td>6.439</td>\n",
       "      <td>0.688</td>\n",
       "      <td>1.416</td>\n",
       "      <td>-0.353</td>\n",
       "      <td>-0.316</td>\n",
       "      <td>-0.022</td>\n",
       "      <td>-0.085</td>\n",
       "      <td>0.018</td>\n",
       "      <td>0.007</td>\n",
       "      <td>-0.027</td>\n",
       "      <td>-0.014</td>\n",
       "      <td>0.006</td>\n",
       "      <td>0.001</td>\n",
       "      <td>0.000</td>\n",
       "      <td>0.0</td>\n",
       "    </tr>\n",
       "    <tr>\n",
       "      <th>Paris</th>\n",
       "      <td>-1.556</td>\n",
       "      <td>-0.020</td>\n",
       "      <td>0.317</td>\n",
       "      <td>0.803</td>\n",
       "      <td>0.021</td>\n",
       "      <td>-0.042</td>\n",
       "      <td>0.058</td>\n",
       "      <td>0.029</td>\n",
       "      <td>0.062</td>\n",
       "      <td>-0.016</td>\n",
       "      <td>-0.016</td>\n",
       "      <td>-0.011</td>\n",
       "      <td>-0.010</td>\n",
       "      <td>0.006</td>\n",
       "      <td>0.0</td>\n",
       "    </tr>\n",
       "    <tr>\n",
       "      <th>Rennes</th>\n",
       "      <td>-1.876</td>\n",
       "      <td>2.332</td>\n",
       "      <td>-0.088</td>\n",
       "      <td>0.234</td>\n",
       "      <td>-0.025</td>\n",
       "      <td>0.023</td>\n",
       "      <td>-0.143</td>\n",
       "      <td>0.145</td>\n",
       "      <td>0.018</td>\n",
       "      <td>0.001</td>\n",
       "      <td>0.046</td>\n",
       "      <td>0.015</td>\n",
       "      <td>-0.003</td>\n",
       "      <td>-0.003</td>\n",
       "      <td>0.0</td>\n",
       "    </tr>\n",
       "    <tr>\n",
       "      <th>Strasbourg</th>\n",
       "      <td>-4.205</td>\n",
       "      <td>-3.191</td>\n",
       "      <td>0.634</td>\n",
       "      <td>0.211</td>\n",
       "      <td>-0.081</td>\n",
       "      <td>-0.220</td>\n",
       "      <td>-0.048</td>\n",
       "      <td>-0.077</td>\n",
       "      <td>-0.074</td>\n",
       "      <td>0.027</td>\n",
       "      <td>0.022</td>\n",
       "      <td>0.004</td>\n",
       "      <td>-0.000</td>\n",
       "      <td>-0.001</td>\n",
       "      <td>0.0</td>\n",
       "    </tr>\n",
       "    <tr>\n",
       "      <th>Toulouse</th>\n",
       "      <td>2.051</td>\n",
       "      <td>0.060</td>\n",
       "      <td>-0.838</td>\n",
       "      <td>-0.400</td>\n",
       "      <td>0.084</td>\n",
       "      <td>0.093</td>\n",
       "      <td>-0.152</td>\n",
       "      <td>-0.098</td>\n",
       "      <td>-0.064</td>\n",
       "      <td>-0.033</td>\n",
       "      <td>0.004</td>\n",
       "      <td>0.007</td>\n",
       "      <td>-0.009</td>\n",
       "      <td>0.003</td>\n",
       "      <td>0.0</td>\n",
       "    </tr>\n",
       "    <tr>\n",
       "      <th>Vichy</th>\n",
       "      <td>-2.176</td>\n",
       "      <td>-0.988</td>\n",
       "      <td>-0.239</td>\n",
       "      <td>-0.447</td>\n",
       "      <td>0.129</td>\n",
       "      <td>-0.025</td>\n",
       "      <td>-0.069</td>\n",
       "      <td>0.057</td>\n",
       "      <td>0.030</td>\n",
       "      <td>-0.027</td>\n",
       "      <td>0.011</td>\n",
       "      <td>-0.002</td>\n",
       "      <td>0.011</td>\n",
       "      <td>0.007</td>\n",
       "      <td>0.0</td>\n",
       "    </tr>\n",
       "  </tbody>\n",
       "</table>\n",
       "</div>"
      ],
      "text/plain": [
       "                 0      1      2      3      4      5      6      7      8  \\\n",
       "City                                                                         \n",
       "Bordeaux     3.250  0.863 -0.835  0.697 -0.325  0.055  0.014 -0.102  0.027   \n",
       "Brest       -2.920  5.057  0.021 -0.542  0.022 -0.138  0.176 -0.061  0.003   \n",
       "Clermont    -1.634 -0.928 -0.434 -0.432 -0.053 -0.057 -0.143 -0.024  0.095   \n",
       "Grenoble    -1.282 -2.449 -0.350 -0.429 -0.345  0.127  0.224  0.073 -0.025   \n",
       "Lille       -4.799  0.398  0.970  0.105  0.149  0.311 -0.014 -0.064 -0.007   \n",
       "Lyon        -0.631 -2.300 -0.385  0.052  0.093 -0.034  0.052  0.023  0.034   \n",
       "Marseille    5.340 -0.982  0.253  0.051  0.382 -0.020  0.115 -0.059  0.044   \n",
       "Montpellier  4.565 -0.379 -0.098  0.022  0.246 -0.003  0.042  0.100 -0.063   \n",
       "Nantes      -0.569  1.838 -0.343  0.429  0.019 -0.048 -0.028  0.041 -0.087   \n",
       "Nice         6.439  0.688  1.416 -0.353 -0.316 -0.022 -0.085  0.018  0.007   \n",
       "Paris       -1.556 -0.020  0.317  0.803  0.021 -0.042  0.058  0.029  0.062   \n",
       "Rennes      -1.876  2.332 -0.088  0.234 -0.025  0.023 -0.143  0.145  0.018   \n",
       "Strasbourg  -4.205 -3.191  0.634  0.211 -0.081 -0.220 -0.048 -0.077 -0.074   \n",
       "Toulouse     2.051  0.060 -0.838 -0.400  0.084  0.093 -0.152 -0.098 -0.064   \n",
       "Vichy       -2.176 -0.988 -0.239 -0.447  0.129 -0.025 -0.069  0.057  0.030   \n",
       "\n",
       "                 9     10     11     12     13   14  \n",
       "City                                                 \n",
       "Bordeaux     0.037  0.011  0.009  0.007  0.001  0.0  \n",
       "Brest        0.017 -0.002  0.010 -0.001  0.000  0.0  \n",
       "Clermont     0.050 -0.023 -0.029 -0.002 -0.004  0.0  \n",
       "Grenoble    -0.012  0.014 -0.014 -0.003 -0.001  0.0  \n",
       "Lille        0.021 -0.009  0.001  0.003 -0.001  0.0  \n",
       "Lyon        -0.043 -0.034  0.048  0.001 -0.003  0.0  \n",
       "Marseille   -0.037  0.035 -0.016  0.001 -0.003  0.0  \n",
       "Montpellier  0.109 -0.016  0.002 -0.000  0.001  0.0  \n",
       "Nantes      -0.068 -0.029 -0.029  0.005 -0.003  0.0  \n",
       "Nice        -0.027 -0.014  0.006  0.001  0.000  0.0  \n",
       "Paris       -0.016 -0.016 -0.011 -0.010  0.006  0.0  \n",
       "Rennes       0.001  0.046  0.015 -0.003 -0.003  0.0  \n",
       "Strasbourg   0.027  0.022  0.004 -0.000 -0.001  0.0  \n",
       "Toulouse    -0.033  0.004  0.007 -0.009  0.003  0.0  \n",
       "Vichy       -0.027  0.011 -0.002  0.011  0.007  0.0  "
      ]
     },
     "execution_count": 44,
     "metadata": {},
     "output_type": "execute_result"
    }
   ],
   "source": [
    "from sklearn.decomposition import PCA\n",
    "pca = PCA() #PCA(n_components=2)\n",
    "principalComponents = pca.fit_transform(data_standarized[x_labels])\n",
    "principalDf = pd.DataFrame(data = principalComponents.round(3), index = dataOriginal['City'])\n",
    "principalDf  #name of columns are (PC1..PC15) components, not the real variables"
   ]
  },
  {
   "cell_type": "code",
   "execution_count": 24,
   "metadata": {},
   "outputs": [
    {
     "name": "stdout",
     "output_type": "stream",
     "text": [
      "[0.71 0.25 0.02 0.01 0.   0.   0.   0.   0.   0.   0.   0.   0.   0.\n",
      " 0.  ]\n"
     ]
    }
   ],
   "source": [
    "print(pca.explained_variance_ratio_.round(2))"
   ]
  },
  {
   "cell_type": "markdown",
   "metadata": {},
   "source": [
    "We can see with the two first variables we have 96% de la information."
   ]
  },
  {
   "cell_type": "code",
   "execution_count": 56,
   "metadata": {},
   "outputs": [
    {
     "data": {
      "text/html": [
       "<div>\n",
       "<style scoped>\n",
       "    .dataframe tbody tr th:only-of-type {\n",
       "        vertical-align: middle;\n",
       "    }\n",
       "\n",
       "    .dataframe tbody tr th {\n",
       "        vertical-align: top;\n",
       "    }\n",
       "\n",
       "    .dataframe thead th {\n",
       "        text-align: right;\n",
       "    }\n",
       "</style>\n",
       "<table border=\"1\" class=\"dataframe\">\n",
       "  <thead>\n",
       "    <tr style=\"text-align: right;\">\n",
       "      <th></th>\n",
       "      <th>SSE</th>\n",
       "      <th>Variance Explained ratio</th>\n",
       "    </tr>\n",
       "  </thead>\n",
       "  <tbody>\n",
       "    <tr>\n",
       "      <th>0</th>\n",
       "      <td>240.000000</td>\n",
       "      <td>0.710510</td>\n",
       "    </tr>\n",
       "    <tr>\n",
       "      <th>1</th>\n",
       "      <td>99.411675</td>\n",
       "      <td>0.961306</td>\n",
       "    </tr>\n",
       "    <tr>\n",
       "      <th>2</th>\n",
       "      <td>57.474269</td>\n",
       "      <td>0.984488</td>\n",
       "    </tr>\n",
       "    <tr>\n",
       "      <th>3</th>\n",
       "      <td>45.130408</td>\n",
       "      <td>0.995239</td>\n",
       "    </tr>\n",
       "    <tr>\n",
       "      <th>4</th>\n",
       "      <td>30.253632</td>\n",
       "      <td>0.997725</td>\n",
       "    </tr>\n",
       "    <tr>\n",
       "      <th>5</th>\n",
       "      <td>23.404619</td>\n",
       "      <td>0.998569</td>\n",
       "    </tr>\n",
       "    <tr>\n",
       "      <th>6</th>\n",
       "      <td>14.819772</td>\n",
       "      <td>0.999326</td>\n",
       "    </tr>\n",
       "    <tr>\n",
       "      <th>7</th>\n",
       "      <td>10.360519</td>\n",
       "      <td>0.999663</td>\n",
       "    </tr>\n",
       "    <tr>\n",
       "      <th>8</th>\n",
       "      <td>6.058443</td>\n",
       "      <td>0.999829</td>\n",
       "    </tr>\n",
       "    <tr>\n",
       "      <th>9</th>\n",
       "      <td>4.057398</td>\n",
       "      <td>0.999945</td>\n",
       "    </tr>\n",
       "    <tr>\n",
       "      <th>10</th>\n",
       "      <td>2.308619</td>\n",
       "      <td>0.999977</td>\n",
       "    </tr>\n",
       "    <tr>\n",
       "      <th>11</th>\n",
       "      <td>1.253874</td>\n",
       "      <td>0.999998</td>\n",
       "    </tr>\n",
       "    <tr>\n",
       "      <th>12</th>\n",
       "      <td>0.666377</td>\n",
       "      <td>0.999999</td>\n",
       "    </tr>\n",
       "    <tr>\n",
       "      <th>13</th>\n",
       "      <td>0.197183</td>\n",
       "      <td>1.000000</td>\n",
       "    </tr>\n",
       "    <tr>\n",
       "      <th>14</th>\n",
       "      <td>0.000000</td>\n",
       "      <td>1.000000</td>\n",
       "    </tr>\n",
       "  </tbody>\n",
       "</table>\n",
       "</div>"
      ],
      "text/plain": [
       "           SSE  Variance Explained ratio\n",
       "0   240.000000                  0.710510\n",
       "1    99.411675                  0.961306\n",
       "2    57.474269                  0.984488\n",
       "3    45.130408                  0.995239\n",
       "4    30.253632                  0.997725\n",
       "5    23.404619                  0.998569\n",
       "6    14.819772                  0.999326\n",
       "7    10.360519                  0.999663\n",
       "8     6.058443                  0.999829\n",
       "9     4.057398                  0.999945\n",
       "10    2.308619                  0.999977\n",
       "11    1.253874                  0.999998\n",
       "12    0.666377                  0.999999\n",
       "13    0.197183                  1.000000\n",
       "14    0.000000                  1.000000"
      ]
     },
     "execution_count": 56,
     "metadata": {},
     "output_type": "execute_result"
    }
   ],
   "source": [
    "factors = range(len(eig_vals)-1)\n",
    "\n",
    "SSE_Info['Variance Explained ratio'] = pca.explained_variance_ratio_.cumsum()\n",
    "SSE_Info\n"
   ]
  },
  {
   "cell_type": "code",
   "execution_count": 57,
   "metadata": {},
   "outputs": [
    {
     "data": {
      "image/png": "[encoded data removed]",
      "text/plain": [
       "<Figure size 432x288 with 1 Axes>"
      ]
     },
     "metadata": {
      "needs_background": "light"
     },
     "output_type": "display_data"
    }
   ],
   "source": [
    "plt.plot(factors, SSE_Info['Variance Explained ratio'], color='Blue', marker='o')\n",
    "plt.title('Diagram de code accumule', color = 'black', fontsize = 16)\n",
    "plt.xlabel('Years',color = 'black')\n",
    "plt.ylabel('Explained variance ration', color = 'blue')\n",
    "plt.xticks(color = 'red')\n",
    "plt.yticks(color = 'black')\n",
    "#plt.savefig('linechart_single.png')\n",
    "plt.show()"
   ]
  },
  {
   "cell_type": "markdown",
   "metadata": {},
   "source": [
    "# 7. Modelisation avec selection k=3 composants principaux"
   ]
  },
  {
   "cell_type": "code",
   "execution_count": 59,
   "metadata": {},
   "outputs": [
    {
     "data": {
      "text/html": [
       "<div>\n",
       "<style scoped>\n",
       "    .dataframe tbody tr th:only-of-type {\n",
       "        vertical-align: middle;\n",
       "    }\n",
       "\n",
       "    .dataframe tbody tr th {\n",
       "        vertical-align: top;\n",
       "    }\n",
       "\n",
       "    .dataframe thead th {\n",
       "        text-align: right;\n",
       "    }\n",
       "</style>\n",
       "<table border=\"1\" class=\"dataframe\">\n",
       "  <thead>\n",
       "    <tr style=\"text-align: right;\">\n",
       "      <th></th>\n",
       "      <th>PC1</th>\n",
       "      <th>PC2</th>\n",
       "      <th>PC3</th>\n",
       "    </tr>\n",
       "  </thead>\n",
       "  <tbody>\n",
       "    <tr>\n",
       "      <th>0</th>\n",
       "      <td>3.250477</td>\n",
       "      <td>0.863297</td>\n",
       "      <td>-0.834574</td>\n",
       "    </tr>\n",
       "    <tr>\n",
       "      <th>1</th>\n",
       "      <td>-2.919582</td>\n",
       "      <td>5.057038</td>\n",
       "      <td>0.020974</td>\n",
       "    </tr>\n",
       "    <tr>\n",
       "      <th>2</th>\n",
       "      <td>-1.633715</td>\n",
       "      <td>-0.928294</td>\n",
       "      <td>-0.434425</td>\n",
       "    </tr>\n",
       "    <tr>\n",
       "      <th>3</th>\n",
       "      <td>-1.281629</td>\n",
       "      <td>-2.448846</td>\n",
       "      <td>-0.350406</td>\n",
       "    </tr>\n",
       "    <tr>\n",
       "      <th>4</th>\n",
       "      <td>-4.798567</td>\n",
       "      <td>0.397868</td>\n",
       "      <td>0.969566</td>\n",
       "    </tr>\n",
       "    <tr>\n",
       "      <th>5</th>\n",
       "      <td>-0.630819</td>\n",
       "      <td>-2.300378</td>\n",
       "      <td>-0.384754</td>\n",
       "    </tr>\n",
       "    <tr>\n",
       "      <th>6</th>\n",
       "      <td>5.340317</td>\n",
       "      <td>-0.981846</td>\n",
       "      <td>0.253013</td>\n",
       "    </tr>\n",
       "    <tr>\n",
       "      <th>7</th>\n",
       "      <td>4.564581</td>\n",
       "      <td>-0.378661</td>\n",
       "      <td>-0.097548</td>\n",
       "    </tr>\n",
       "    <tr>\n",
       "      <th>8</th>\n",
       "      <td>-0.568689</td>\n",
       "      <td>1.838434</td>\n",
       "      <td>-0.343158</td>\n",
       "    </tr>\n",
       "    <tr>\n",
       "      <th>9</th>\n",
       "      <td>6.438984</td>\n",
       "      <td>0.687978</td>\n",
       "      <td>1.416023</td>\n",
       "    </tr>\n",
       "    <tr>\n",
       "      <th>10</th>\n",
       "      <td>-1.555756</td>\n",
       "      <td>-0.019906</td>\n",
       "      <td>0.316502</td>\n",
       "    </tr>\n",
       "    <tr>\n",
       "      <th>11</th>\n",
       "      <td>-1.875544</td>\n",
       "      <td>2.332311</td>\n",
       "      <td>-0.087809</td>\n",
       "    </tr>\n",
       "    <tr>\n",
       "      <th>12</th>\n",
       "      <td>-4.204820</td>\n",
       "      <td>-3.191003</td>\n",
       "      <td>0.634457</td>\n",
       "    </tr>\n",
       "    <tr>\n",
       "      <th>13</th>\n",
       "      <td>2.050706</td>\n",
       "      <td>0.060392</td>\n",
       "      <td>-0.838413</td>\n",
       "    </tr>\n",
       "    <tr>\n",
       "      <th>14</th>\n",
       "      <td>-2.175945</td>\n",
       "      <td>-0.988382</td>\n",
       "      <td>-0.239448</td>\n",
       "    </tr>\n",
       "  </tbody>\n",
       "</table>\n",
       "</div>"
      ],
      "text/plain": [
       "         PC1       PC2       PC3\n",
       "0   3.250477  0.863297 -0.834574\n",
       "1  -2.919582  5.057038  0.020974\n",
       "2  -1.633715 -0.928294 -0.434425\n",
       "3  -1.281629 -2.448846 -0.350406\n",
       "4  -4.798567  0.397868  0.969566\n",
       "5  -0.630819 -2.300378 -0.384754\n",
       "6   5.340317 -0.981846  0.253013\n",
       "7   4.564581 -0.378661 -0.097548\n",
       "8  -0.568689  1.838434 -0.343158\n",
       "9   6.438984  0.687978  1.416023\n",
       "10 -1.555756 -0.019906  0.316502\n",
       "11 -1.875544  2.332311 -0.087809\n",
       "12 -4.204820 -3.191003  0.634457\n",
       "13  2.050706  0.060392 -0.838413\n",
       "14 -2.175945 -0.988382 -0.239448"
      ]
     },
     "execution_count": 59,
     "metadata": {},
     "output_type": "execute_result"
    }
   ],
   "source": [
    "from sklearn.decomposition import PCA\n",
    "pca = PCA(n_components=3)\n",
    "principalComponents = pca.fit_transform(data_standarized[x_labels])\n",
    "principalComponentsDf = pd.DataFrame(data = principalComponents, columns=['PC1', 'PC2', 'PC3'])\n",
    "principalComponentsDf\n",
    "\n",
    "#The same first two columns of principalComponents avec n_components default.   default = same number of descriptors original"
   ]
  },
  {
   "cell_type": "code",
   "execution_count": 60,
   "metadata": {},
   "outputs": [
    {
     "data": {
      "text/html": [
       "<div>\n",
       "<style scoped>\n",
       "    .dataframe tbody tr th:only-of-type {\n",
       "        vertical-align: middle;\n",
       "    }\n",
       "\n",
       "    .dataframe tbody tr th {\n",
       "        vertical-align: top;\n",
       "    }\n",
       "\n",
       "    .dataframe thead th {\n",
       "        text-align: right;\n",
       "    }\n",
       "</style>\n",
       "<table border=\"1\" class=\"dataframe\">\n",
       "  <thead>\n",
       "    <tr style=\"text-align: right;\">\n",
       "      <th></th>\n",
       "      <th>PC1</th>\n",
       "      <th>PC2</th>\n",
       "      <th>PC3</th>\n",
       "      <th>City</th>\n",
       "    </tr>\n",
       "  </thead>\n",
       "  <tbody>\n",
       "    <tr>\n",
       "      <th>0</th>\n",
       "      <td>3.250477</td>\n",
       "      <td>0.863297</td>\n",
       "      <td>-0.834574</td>\n",
       "      <td>Bordeaux</td>\n",
       "    </tr>\n",
       "    <tr>\n",
       "      <th>1</th>\n",
       "      <td>-2.919582</td>\n",
       "      <td>5.057038</td>\n",
       "      <td>0.020974</td>\n",
       "      <td>Brest</td>\n",
       "    </tr>\n",
       "    <tr>\n",
       "      <th>2</th>\n",
       "      <td>-1.633715</td>\n",
       "      <td>-0.928294</td>\n",
       "      <td>-0.434425</td>\n",
       "      <td>Clermont</td>\n",
       "    </tr>\n",
       "    <tr>\n",
       "      <th>3</th>\n",
       "      <td>-1.281629</td>\n",
       "      <td>-2.448846</td>\n",
       "      <td>-0.350406</td>\n",
       "      <td>Grenoble</td>\n",
       "    </tr>\n",
       "    <tr>\n",
       "      <th>4</th>\n",
       "      <td>-4.798567</td>\n",
       "      <td>0.397868</td>\n",
       "      <td>0.969566</td>\n",
       "      <td>Lille</td>\n",
       "    </tr>\n",
       "    <tr>\n",
       "      <th>5</th>\n",
       "      <td>-0.630819</td>\n",
       "      <td>-2.300378</td>\n",
       "      <td>-0.384754</td>\n",
       "      <td>Lyon</td>\n",
       "    </tr>\n",
       "    <tr>\n",
       "      <th>6</th>\n",
       "      <td>5.340317</td>\n",
       "      <td>-0.981846</td>\n",
       "      <td>0.253013</td>\n",
       "      <td>Marseille</td>\n",
       "    </tr>\n",
       "    <tr>\n",
       "      <th>7</th>\n",
       "      <td>4.564581</td>\n",
       "      <td>-0.378661</td>\n",
       "      <td>-0.097548</td>\n",
       "      <td>Montpellier</td>\n",
       "    </tr>\n",
       "    <tr>\n",
       "      <th>8</th>\n",
       "      <td>-0.568689</td>\n",
       "      <td>1.838434</td>\n",
       "      <td>-0.343158</td>\n",
       "      <td>Nantes</td>\n",
       "    </tr>\n",
       "    <tr>\n",
       "      <th>9</th>\n",
       "      <td>6.438984</td>\n",
       "      <td>0.687978</td>\n",
       "      <td>1.416023</td>\n",
       "      <td>Nice</td>\n",
       "    </tr>\n",
       "    <tr>\n",
       "      <th>10</th>\n",
       "      <td>-1.555756</td>\n",
       "      <td>-0.019906</td>\n",
       "      <td>0.316502</td>\n",
       "      <td>Paris</td>\n",
       "    </tr>\n",
       "    <tr>\n",
       "      <th>11</th>\n",
       "      <td>-1.875544</td>\n",
       "      <td>2.332311</td>\n",
       "      <td>-0.087809</td>\n",
       "      <td>Rennes</td>\n",
       "    </tr>\n",
       "    <tr>\n",
       "      <th>12</th>\n",
       "      <td>-4.204820</td>\n",
       "      <td>-3.191003</td>\n",
       "      <td>0.634457</td>\n",
       "      <td>Strasbourg</td>\n",
       "    </tr>\n",
       "    <tr>\n",
       "      <th>13</th>\n",
       "      <td>2.050706</td>\n",
       "      <td>0.060392</td>\n",
       "      <td>-0.838413</td>\n",
       "      <td>Toulouse</td>\n",
       "    </tr>\n",
       "    <tr>\n",
       "      <th>14</th>\n",
       "      <td>-2.175945</td>\n",
       "      <td>-0.988382</td>\n",
       "      <td>-0.239448</td>\n",
       "      <td>Vichy</td>\n",
       "    </tr>\n",
       "  </tbody>\n",
       "</table>\n",
       "</div>"
      ],
      "text/plain": [
       "         PC1       PC2       PC3         City\n",
       "0   3.250477  0.863297 -0.834574     Bordeaux\n",
       "1  -2.919582  5.057038  0.020974        Brest\n",
       "2  -1.633715 -0.928294 -0.434425     Clermont\n",
       "3  -1.281629 -2.448846 -0.350406     Grenoble\n",
       "4  -4.798567  0.397868  0.969566        Lille\n",
       "5  -0.630819 -2.300378 -0.384754         Lyon\n",
       "6   5.340317 -0.981846  0.253013    Marseille\n",
       "7   4.564581 -0.378661 -0.097548  Montpellier\n",
       "8  -0.568689  1.838434 -0.343158       Nantes\n",
       "9   6.438984  0.687978  1.416023         Nice\n",
       "10 -1.555756 -0.019906  0.316502        Paris\n",
       "11 -1.875544  2.332311 -0.087809       Rennes\n",
       "12 -4.204820 -3.191003  0.634457   Strasbourg\n",
       "13  2.050706  0.060392 -0.838413     Toulouse\n",
       "14 -2.175945 -0.988382 -0.239448        Vichy"
      ]
     },
     "execution_count": 60,
     "metadata": {},
     "output_type": "execute_result"
    }
   ],
   "source": [
    "principalComponentsDf['City'] = dataOriginal['City']\n",
    "principalComponentsDf"
   ]
  },
  {
   "cell_type": "code",
   "execution_count": 82,
   "metadata": {},
   "outputs": [
    {
     "data": {
      "application/vnd.plotly.v1+json": {
       "config": {
        "plotlyServerURL": "https://plot.ly"
       },
       "data": [
        {
         "diagonal": {
          "visible": false
         },
         "dimensions": [
          {
           "axis": {
            "matches": true
           },
           "label": "PC 1 (71.1%)",
           "values": [
            3.250476968211823
           ]
          },
          {
           "axis": {
            "matches": true
           },
           "label": "PC 2 (25.1%)",
           "values": [
            0.8632969138171216
           ]
          },
          {
           "axis": {
            "matches": true
           },
           "label": "PC 3 (2.3%)",
           "values": [
            -0.8345735751417435
           ]
          },
          {
           "axis": {
            "matches": true
           },
           "label": "PC 4 (1.1%)",
           "values": [
            0.6968162034595028
           ]
          }
         ],
         "hovertemplate": "color=Bordeaux<br>%{xaxis.title.text}=%{x}<br>%{yaxis.title.text}=%{y}<extra></extra>",
         "legendgroup": "Bordeaux",
         "marker": {
          "color": "#636efa",
          "symbol": "circle"
         },
         "name": "Bordeaux",
         "showlegend": true,
         "type": "splom"
        },
        {
         "diagonal": {
          "visible": false
         },
         "dimensions": [
          {
           "axis": {
            "matches": true
           },
           "label": "PC 1 (71.1%)",
           "values": [
            -2.9195823385788806
           ]
          },
          {
           "axis": {
            "matches": true
           },
           "label": "PC 2 (25.1%)",
           "values": [
            5.057037907763607
           ]
          },
          {
           "axis": {
            "matches": true
           },
           "label": "PC 3 (2.3%)",
           "values": [
            0.02097384008751654
           ]
          },
          {
           "axis": {
            "matches": true
           },
           "label": "PC 4 (1.1%)",
           "values": [
            -0.541843398441126
           ]
          }
         ],
         "hovertemplate": "color=Brest<br>%{xaxis.title.text}=%{x}<br>%{yaxis.title.text}=%{y}<extra></extra>",
         "legendgroup": "Brest",
         "marker": {
          "color": "#EF553B",
          "symbol": "circle"
         },
         "name": "Brest",
         "showlegend": true,
         "type": "splom"
        },
        {
         "diagonal": {
          "visible": false
         },
         "dimensions": [
          {
           "axis": {
            "matches": true
           },
           "label": "PC 1 (71.1%)",
           "values": [
            -1.6337147343655019
           ]
          },
          {
           "axis": {
            "matches": true
           },
           "label": "PC 2 (25.1%)",
           "values": [
            -0.9282939692025769
           ]
          },
          {
           "axis": {
            "matches": true
           },
           "label": "PC 3 (2.3%)",
           "values": [
            -0.4344249614330958
           ]
          },
          {
           "axis": {
            "matches": true
           },
           "label": "PC 4 (1.1%)",
           "values": [
            -0.4323459339593218
           ]
          }
         ],
         "hovertemplate": "color=Clermont<br>%{xaxis.title.text}=%{x}<br>%{yaxis.title.text}=%{y}<extra></extra>",
         "legendgroup": "Clermont",
         "marker": {
          "color": "#00cc96",
          "symbol": "circle"
         },
         "name": "Clermont",
         "showlegend": true,
         "type": "splom"
        },
        {
         "diagonal": {
          "visible": false
         },
         "dimensions": [
          {
           "axis": {
            "matches": true
           },
           "label": "PC 1 (71.1%)",
           "values": [
            -1.281628580726276
           ]
          },
          {
           "axis": {
            "matches": true
           },
           "label": "PC 2 (25.1%)",
           "values": [
            -2.448846083762081
           ]
          },
          {
           "axis": {
            "matches": true
           },
           "label": "PC 3 (2.3%)",
           "values": [
            -0.35040613141338867
           ]
          },
          {
           "axis": {
            "matches": true
           },
           "label": "PC 4 (1.1%)",
           "values": [
            -0.4293807103221837
           ]
          }
         ],
         "hovertemplate": "color=Grenoble<br>%{xaxis.title.text}=%{x}<br>%{yaxis.title.text}=%{y}<extra></extra>",
         "legendgroup": "Grenoble",
         "marker": {
          "color": "#ab63fa",
          "symbol": "circle"
         },
         "name": "Grenoble",
         "showlegend": true,
         "type": "splom"
        },
        {
         "diagonal": {
          "visible": false
         },
         "dimensions": [
          {
           "axis": {
            "matches": true
           },
           "label": "PC 1 (71.1%)",
           "values": [
            -4.798566659352196
           ]
          },
          {
           "axis": {
            "matches": true
           },
           "label": "PC 2 (25.1%)",
           "values": [
            0.39786790551497225
           ]
          },
          {
           "axis": {
            "matches": true
           },
           "label": "PC 3 (2.3%)",
           "values": [
            0.9695657002605339
           ]
          },
          {
           "axis": {
            "matches": true
           },
           "label": "PC 4 (1.1%)",
           "values": [
            0.10450879131047137
           ]
          }
         ],
         "hovertemplate": "color=Lille<br>%{xaxis.title.text}=%{x}<br>%{yaxis.title.text}=%{y}<extra></extra>",
         "legendgroup": "Lille",
         "marker": {
          "color": "#FFA15A",
          "symbol": "circle"
         },
         "name": "Lille",
         "showlegend": true,
         "type": "splom"
        },
        {
         "diagonal": {
          "visible": false
         },
         "dimensions": [
          {
           "axis": {
            "matches": true
           },
           "label": "PC 1 (71.1%)",
           "values": [
            -0.6308187515354045
           ]
          },
          {
           "axis": {
            "matches": true
           },
           "label": "PC 2 (25.1%)",
           "values": [
            -2.3003778367278285
           ]
          },
          {
           "axis": {
            "matches": true
           },
           "label": "PC 3 (2.3%)",
           "values": [
            -0.38475365944396567
           ]
          },
          {
           "axis": {
            "matches": true
           },
           "label": "PC 4 (1.1%)",
           "values": [
            0.0515957444109676
           ]
          }
         ],
         "hovertemplate": "color=Lyon<br>%{xaxis.title.text}=%{x}<br>%{yaxis.title.text}=%{y}<extra></extra>",
         "legendgroup": "Lyon",
         "marker": {
          "color": "#19d3f3",
          "symbol": "circle"
         },
         "name": "Lyon",
         "showlegend": true,
         "type": "splom"
        },
        {
         "diagonal": {
          "visible": false
         },
         "dimensions": [
          {
           "axis": {
            "matches": true
           },
           "label": "PC 1 (71.1%)",
           "values": [
            5.340316638429699
           ]
          },
          {
           "axis": {
            "matches": true
           },
           "label": "PC 2 (25.1%)",
           "values": [
            -0.9818463179184743
           ]
          },
          {
           "axis": {
            "matches": true
           },
           "label": "PC 3 (2.3%)",
           "values": [
            0.2530125702864775
           ]
          },
          {
           "axis": {
            "matches": true
           },
           "label": "PC 4 (1.1%)",
           "values": [
            0.05135692059984313
           ]
          }
         ],
         "hovertemplate": "color=Marseille<br>%{xaxis.title.text}=%{x}<br>%{yaxis.title.text}=%{y}<extra></extra>",
         "legendgroup": "Marseille",
         "marker": {
          "color": "#FF6692",
          "symbol": "circle"
         },
         "name": "Marseille",
         "showlegend": true,
         "type": "splom"
        },
        {
         "diagonal": {
          "visible": false
         },
         "dimensions": [
          {
           "axis": {
            "matches": true
           },
           "label": "PC 1 (71.1%)",
           "values": [
            4.564581286316624
           ]
          },
          {
           "axis": {
            "matches": true
           },
           "label": "PC 2 (25.1%)",
           "values": [
            -0.3786608385838134
           ]
          },
          {
           "axis": {
            "matches": true
           },
           "label": "PC 3 (2.3%)",
           "values": [
            -0.09754804818229677
           ]
          },
          {
           "axis": {
            "matches": true
           },
           "label": "PC 4 (1.1%)",
           "values": [
            0.02160820678242369
           ]
          }
         ],
         "hovertemplate": "color=Montpellier<br>%{xaxis.title.text}=%{x}<br>%{yaxis.title.text}=%{y}<extra></extra>",
         "legendgroup": "Montpellier",
         "marker": {
          "color": "#B6E880",
          "symbol": "circle"
         },
         "name": "Montpellier",
         "showlegend": true,
         "type": "splom"
        },
        {
         "diagonal": {
          "visible": false
         },
         "dimensions": [
          {
           "axis": {
            "matches": true
           },
           "label": "PC 1 (71.1%)",
           "values": [
            -0.5686890924874721
           ]
          },
          {
           "axis": {
            "matches": true
           },
           "label": "PC 2 (25.1%)",
           "values": [
            1.838433800750341
           ]
          },
          {
           "axis": {
            "matches": true
           },
           "label": "PC 3 (2.3%)",
           "values": [
            -0.34315802823461794
           ]
          },
          {
           "axis": {
            "matches": true
           },
           "label": "PC 4 (1.1%)",
           "values": [
            0.42940482433885385
           ]
          }
         ],
         "hovertemplate": "color=Nantes<br>%{xaxis.title.text}=%{x}<br>%{yaxis.title.text}=%{y}<extra></extra>",
         "legendgroup": "Nantes",
         "marker": {
          "color": "#FF97FF",
          "symbol": "circle"
         },
         "name": "Nantes",
         "showlegend": true,
         "type": "splom"
        },
        {
         "diagonal": {
          "visible": false
         },
         "dimensions": [
          {
           "axis": {
            "matches": true
           },
           "label": "PC 1 (71.1%)",
           "values": [
            6.438984017583438
           ]
          },
          {
           "axis": {
            "matches": true
           },
           "label": "PC 2 (25.1%)",
           "values": [
            0.6879776965811787
           ]
          },
          {
           "axis": {
            "matches": true
           },
           "label": "PC 3 (2.3%)",
           "values": [
            1.4160225189792435
           ]
          },
          {
           "axis": {
            "matches": true
           },
           "label": "PC 4 (1.1%)",
           "values": [
            -0.35320078258556276
           ]
          }
         ],
         "hovertemplate": "color=Nice<br>%{xaxis.title.text}=%{x}<br>%{yaxis.title.text}=%{y}<extra></extra>",
         "legendgroup": "Nice",
         "marker": {
          "color": "#FECB52",
          "symbol": "circle"
         },
         "name": "Nice",
         "showlegend": true,
         "type": "splom"
        },
        {
         "diagonal": {
          "visible": false
         },
         "dimensions": [
          {
           "axis": {
            "matches": true
           },
           "label": "PC 1 (71.1%)",
           "values": [
            -1.555755955594685
           ]
          },
          {
           "axis": {
            "matches": true
           },
           "label": "PC 2 (25.1%)",
           "values": [
            -0.019905906238894638
           ]
          },
          {
           "axis": {
            "matches": true
           },
           "label": "PC 3 (2.3%)",
           "values": [
            0.3165018145877165
           ]
          },
          {
           "axis": {
            "matches": true
           },
           "label": "PC 4 (1.1%)",
           "values": [
            0.8030394152292343
           ]
          }
         ],
         "hovertemplate": "color=Paris<br>%{xaxis.title.text}=%{x}<br>%{yaxis.title.text}=%{y}<extra></extra>",
         "legendgroup": "Paris",
         "marker": {
          "color": "#636efa",
          "symbol": "circle"
         },
         "name": "Paris",
         "showlegend": true,
         "type": "splom"
        },
        {
         "diagonal": {
          "visible": false
         },
         "dimensions": [
          {
           "axis": {
            "matches": true
           },
           "label": "PC 1 (71.1%)",
           "values": [
            -1.8755435900343147
           ]
          },
          {
           "axis": {
            "matches": true
           },
           "label": "PC 2 (25.1%)",
           "values": [
            2.3323107912272736
           ]
          },
          {
           "axis": {
            "matches": true
           },
           "label": "PC 3 (2.3%)",
           "values": [
            -0.08780883699919914
           ]
          },
          {
           "axis": {
            "matches": true
           },
           "label": "PC 4 (1.1%)",
           "values": [
            0.23433452110826236
           ]
          }
         ],
         "hovertemplate": "color=Rennes<br>%{xaxis.title.text}=%{x}<br>%{yaxis.title.text}=%{y}<extra></extra>",
         "legendgroup": "Rennes",
         "marker": {
          "color": "#EF553B",
          "symbol": "circle"
         },
         "name": "Rennes",
         "showlegend": true,
         "type": "splom"
        },
        {
         "diagonal": {
          "visible": false
         },
         "dimensions": [
          {
           "axis": {
            "matches": true
           },
           "label": "PC 1 (71.1%)",
           "values": [
            -4.2048204708804775
           ]
          },
          {
           "axis": {
            "matches": true
           },
           "label": "PC 2 (25.1%)",
           "values": [
            -3.1910033297677094
           ]
          },
          {
           "axis": {
            "matches": true
           },
           "label": "PC 3 (2.3%)",
           "values": [
            0.634457249785953
           ]
          },
          {
           "axis": {
            "matches": true
           },
           "label": "PC 4 (1.1%)",
           "values": [
            0.21086754364840582
           ]
          }
         ],
         "hovertemplate": "color=Strasbourg<br>%{xaxis.title.text}=%{x}<br>%{yaxis.title.text}=%{y}<extra></extra>",
         "legendgroup": "Strasbourg",
         "marker": {
          "color": "#00cc96",
          "symbol": "circle"
         },
         "name": "Strasbourg",
         "showlegend": true,
         "type": "splom"
        },
        {
         "diagonal": {
          "visible": false
         },
         "dimensions": [
          {
           "axis": {
            "matches": true
           },
           "label": "PC 1 (71.1%)",
           "values": [
            2.0507062897352326
           ]
          },
          {
           "axis": {
            "matches": true
           },
           "label": "PC 2 (25.1%)",
           "values": [
            0.06039166042341602
           ]
          },
          {
           "axis": {
            "matches": true
           },
           "label": "PC 3 (2.3%)",
           "values": [
            -0.8384126508230832
           ]
          },
          {
           "axis": {
            "matches": true
           },
           "label": "PC 4 (1.1%)",
           "values": [
            -0.400077619664921
           ]
          }
         ],
         "hovertemplate": "color=Toulouse<br>%{xaxis.title.text}=%{x}<br>%{yaxis.title.text}=%{y}<extra></extra>",
         "legendgroup": "Toulouse",
         "marker": {
          "color": "#ab63fa",
          "symbol": "circle"
         },
         "name": "Toulouse",
         "showlegend": true,
         "type": "splom"
        },
        {
         "diagonal": {
          "visible": false
         },
         "dimensions": [
          {
           "axis": {
            "matches": true
           },
           "label": "PC 1 (71.1%)",
           "values": [
            -2.1759450267216103
           ]
          },
          {
           "axis": {
            "matches": true
           },
           "label": "PC 2 (25.1%)",
           "values": [
            -0.988382393876528
           ]
          },
          {
           "axis": {
            "matches": true
           },
           "label": "PC 3 (2.3%)",
           "values": [
            -0.23944780231605067
           ]
          },
          {
           "axis": {
            "matches": true
           },
           "label": "PC 4 (1.1%)",
           "values": [
            -0.44668372591484967
           ]
          }
         ],
         "hovertemplate": "color=Vichy<br>%{xaxis.title.text}=%{x}<br>%{yaxis.title.text}=%{y}<extra></extra>",
         "legendgroup": "Vichy",
         "marker": {
          "color": "#FFA15A",
          "symbol": "circle"
         },
         "name": "Vichy",
         "showlegend": true,
         "type": "splom"
        }
       ],
       "layout": {
        "dragmode": "select",
        "legend": {
         "title": {
          "text": "color"
         },
         "tracegroupgap": 0
        },
        "margin": {
         "t": 60
        },
        "template": {
         "data": {
          "bar": [
           {
            "error_x": {
             "color": "#2a3f5f"
            },
            "error_y": {
             "color": "#2a3f5f"
            },
            "marker": {
             "line": {
              "color": "#E5ECF6",
              "width": 0.5
             }
            },
            "type": "bar"
           }
          ],
          "barpolar": [
           {
            "marker": {
             "line": {
              "color": "#E5ECF6",
              "width": 0.5
             }
            },
            "type": "barpolar"
           }
          ],
          "carpet": [
           {
            "aaxis": {
             "endlinecolor": "#2a3f5f",
             "gridcolor": "white",
             "linecolor": "white",
             "minorgridcolor": "white",
             "startlinecolor": "#2a3f5f"
            },
            "baxis": {
             "endlinecolor": "#2a3f5f",
             "gridcolor": "white",
             "linecolor": "white",
             "minorgridcolor": "white",
             "startlinecolor": "#2a3f5f"
            },
            "type": "carpet"
           }
          ],
          "choropleth": [
           {
            "colorbar": {
             "outlinewidth": 0,
             "ticks": ""
            },
            "type": "choropleth"
           }
          ],
          "contour": [
           {
            "colorbar": {
             "outlinewidth": 0,
             "ticks": ""
            },
            "colorscale": [
             [
              0,
              "#0d0887"
             ],
             [
              0.1111111111111111,
              "#46039f"
             ],
             [
              0.2222222222222222,
              "#7201a8"
             ],
             [
              0.3333333333333333,
              "#9c179e"
             ],
             [
              0.4444444444444444,
              "#bd3786"
             ],
             [
              0.5555555555555556,
              "#d8576b"
             ],
             [
              0.6666666666666666,
              "#ed7953"
             ],
             [
              0.7777777777777778,
              "#fb9f3a"
             ],
             [
              0.8888888888888888,
              "#fdca26"
             ],
             [
              1,
              "#f0f921"
             ]
            ],
            "type": "contour"
           }
          ],
          "contourcarpet": [
           {
            "colorbar": {
             "outlinewidth": 0,
             "ticks": ""
            },
            "type": "contourcarpet"
           }
          ],
          "heatmap": [
           {
            "colorbar": {
             "outlinewidth": 0,
             "ticks": ""
            },
            "colorscale": [
             [
              0,
              "#0d0887"
             ],
             [
              0.1111111111111111,
              "#46039f"
             ],
             [
              0.2222222222222222,
              "#7201a8"
             ],
             [
              0.3333333333333333,
              "#9c179e"
             ],
             [
              0.4444444444444444,
              "#bd3786"
             ],
             [
              0.5555555555555556,
              "#d8576b"
             ],
             [
              0.6666666666666666,
              "#ed7953"
             ],
             [
              0.7777777777777778,
              "#fb9f3a"
             ],
             [
              0.8888888888888888,
              "#fdca26"
             ],
             [
              1,
              "#f0f921"
             ]
            ],
            "type": "heatmap"
           }
          ],
          "heatmapgl": [
           {
            "colorbar": {
             "outlinewidth": 0,
             "ticks": ""
            },
            "colorscale": [
             [
              0,
              "#0d0887"
             ],
             [
              0.1111111111111111,
              "#46039f"
             ],
             [
              0.2222222222222222,
              "#7201a8"
             ],
             [
              0.3333333333333333,
              "#9c179e"
             ],
             [
              0.4444444444444444,
              "#bd3786"
             ],
             [
              0.5555555555555556,
              "#d8576b"
             ],
             [
              0.6666666666666666,
              "#ed7953"
             ],
             [
              0.7777777777777778,
              "#fb9f3a"
             ],
             [
              0.8888888888888888,
              "#fdca26"
             ],
             [
              1,
              "#f0f921"
             ]
            ],
            "type": "heatmapgl"
           }
          ],
          "histogram": [
           {
            "marker": {
             "colorbar": {
              "outlinewidth": 0,
              "ticks": ""
             }
            },
            "type": "histogram"
           }
          ],
          "histogram2d": [
           {
            "colorbar": {
             "outlinewidth": 0,
             "ticks": ""
            },
            "colorscale": [
             [
              0,
              "#0d0887"
             ],
             [
              0.1111111111111111,
              "#46039f"
             ],
             [
              0.2222222222222222,
              "#7201a8"
             ],
             [
              0.3333333333333333,
              "#9c179e"
             ],
             [
              0.4444444444444444,
              "#bd3786"
             ],
             [
              0.5555555555555556,
              "#d8576b"
             ],
             [
              0.6666666666666666,
              "#ed7953"
             ],
             [
              0.7777777777777778,
              "#fb9f3a"
             ],
             [
              0.8888888888888888,
              "#fdca26"
             ],
             [
              1,
              "#f0f921"
             ]
            ],
            "type": "histogram2d"
           }
          ],
          "histogram2dcontour": [
           {
            "colorbar": {
             "outlinewidth": 0,
             "ticks": ""
            },
            "colorscale": [
             [
              0,
              "#0d0887"
             ],
             [
              0.1111111111111111,
              "#46039f"
             ],
             [
              0.2222222222222222,
              "#7201a8"
             ],
             [
              0.3333333333333333,
              "#9c179e"
             ],
             [
              0.4444444444444444,
              "#bd3786"
             ],
             [
              0.5555555555555556,
              "#d8576b"
             ],
             [
              0.6666666666666666,
              "#ed7953"
             ],
             [
              0.7777777777777778,
              "#fb9f3a"
             ],
             [
              0.8888888888888888,
              "#fdca26"
             ],
             [
              1,
              "#f0f921"
             ]
            ],
            "type": "histogram2dcontour"
           }
          ],
          "mesh3d": [
           {
            "colorbar": {
             "outlinewidth": 0,
             "ticks": ""
            },
            "type": "mesh3d"
           }
          ],
          "parcoords": [
           {
            "line": {
             "colorbar": {
              "outlinewidth": 0,
              "ticks": ""
             }
            },
            "type": "parcoords"
           }
          ],
          "pie": [
           {
            "automargin": true,
            "type": "pie"
           }
          ],
          "scatter": [
           {
            "marker": {
             "colorbar": {
              "outlinewidth": 0,
              "ticks": ""
             }
            },
            "type": "scatter"
           }
          ],
          "scatter3d": [
           {
            "line": {
             "colorbar": {
              "outlinewidth": 0,
              "ticks": ""
             }
            },
            "marker": {
             "colorbar": {
              "outlinewidth": 0,
              "ticks": ""
             }
            },
            "type": "scatter3d"
           }
          ],
          "scattercarpet": [
           {
            "marker": {
             "colorbar": {
              "outlinewidth": 0,
              "ticks": ""
             }
            },
            "type": "scattercarpet"
           }
          ],
          "scattergeo": [
           {
            "marker": {
             "colorbar": {
              "outlinewidth": 0,
              "ticks": ""
             }
            },
            "type": "scattergeo"
           }
          ],
          "scattergl": [
           {
            "marker": {
             "colorbar": {
              "outlinewidth": 0,
              "ticks": ""
             }
            },
            "type": "scattergl"
           }
          ],
          "scattermapbox": [
           {
            "marker": {
             "colorbar": {
              "outlinewidth": 0,
              "ticks": ""
             }
            },
            "type": "scattermapbox"
           }
          ],
          "scatterpolar": [
           {
            "marker": {
             "colorbar": {
              "outlinewidth": 0,
              "ticks": ""
             }
            },
            "type": "scatterpolar"
           }
          ],
          "scatterpolargl": [
           {
            "marker": {
             "colorbar": {
              "outlinewidth": 0,
              "ticks": ""
             }
            },
            "type": "scatterpolargl"
           }
          ],
          "scatterternary": [
           {
            "marker": {
             "colorbar": {
              "outlinewidth": 0,
              "ticks": ""
             }
            },
            "type": "scatterternary"
           }
          ],
          "surface": [
           {
            "colorbar": {
             "outlinewidth": 0,
             "ticks": ""
            },
            "colorscale": [
             [
              0,
              "#0d0887"
             ],
             [
              0.1111111111111111,
              "#46039f"
             ],
             [
              0.2222222222222222,
              "#7201a8"
             ],
             [
              0.3333333333333333,
              "#9c179e"
             ],
             [
              0.4444444444444444,
              "#bd3786"
             ],
             [
              0.5555555555555556,
              "#d8576b"
             ],
             [
              0.6666666666666666,
              "#ed7953"
             ],
             [
              0.7777777777777778,
              "#fb9f3a"
             ],
             [
              0.8888888888888888,
              "#fdca26"
             ],
             [
              1,
              "#f0f921"
             ]
            ],
            "type": "surface"
           }
          ],
          "table": [
           {
            "cells": {
             "fill": {
              "color": "#EBF0F8"
             },
             "line": {
              "color": "white"
             }
            },
            "header": {
             "fill": {
              "color": "#C8D4E3"
             },
             "line": {
              "color": "white"
             }
            },
            "type": "table"
           }
          ]
         },
         "layout": {
          "annotationdefaults": {
           "arrowcolor": "#2a3f5f",
           "arrowhead": 0,
           "arrowwidth": 1
          },
          "autotypenumbers": "strict",
          "coloraxis": {
           "colorbar": {
            "outlinewidth": 0,
            "ticks": ""
           }
          },
          "colorscale": {
           "diverging": [
            [
             0,
             "#8e0152"
            ],
            [
             0.1,
             "#c51b7d"
            ],
            [
             0.2,
             "#de77ae"
            ],
            [
             0.3,
             "#f1b6da"
            ],
            [
             0.4,
             "#fde0ef"
            ],
            [
             0.5,
             "#f7f7f7"
            ],
            [
             0.6,
             "#e6f5d0"
            ],
            [
             0.7,
             "#b8e186"
            ],
            [
             0.8,
             "#7fbc41"
            ],
            [
             0.9,
             "#4d9221"
            ],
            [
             1,
             "#276419"
            ]
           ],
           "sequential": [
            [
             0,
             "#0d0887"
            ],
            [
             0.1111111111111111,
             "#46039f"
            ],
            [
             0.2222222222222222,
             "#7201a8"
            ],
            [
             0.3333333333333333,
             "#9c179e"
            ],
            [
             0.4444444444444444,
             "#bd3786"
            ],
            [
             0.5555555555555556,
             "#d8576b"
            ],
            [
             0.6666666666666666,
             "#ed7953"
            ],
            [
             0.7777777777777778,
             "#fb9f3a"
            ],
            [
             0.8888888888888888,
             "#fdca26"
            ],
            [
             1,
             "#f0f921"
            ]
           ],
           "sequentialminus": [
            [
             0,
             "#0d0887"
            ],
            [
             0.1111111111111111,
             "#46039f"
            ],
            [
             0.2222222222222222,
             "#7201a8"
            ],
            [
             0.3333333333333333,
             "#9c179e"
            ],
            [
             0.4444444444444444,
             "#bd3786"
            ],
            [
             0.5555555555555556,
             "#d8576b"
            ],
            [
             0.6666666666666666,
             "#ed7953"
            ],
            [
             0.7777777777777778,
             "#fb9f3a"
            ],
            [
             0.8888888888888888,
             "#fdca26"
            ],
            [
             1,
             "#f0f921"
            ]
           ]
          },
          "colorway": [
           "#636efa",
           "#EF553B",
           "#00cc96",
           "#ab63fa",
           "#FFA15A",
           "#19d3f3",
           "#FF6692",
           "#B6E880",
           "#FF97FF",
           "#FECB52"
          ],
          "font": {
           "color": "#2a3f5f"
          },
          "geo": {
           "bgcolor": "white",
           "lakecolor": "white",
           "landcolor": "#E5ECF6",
           "showlakes": true,
           "showland": true,
           "subunitcolor": "white"
          },
          "hoverlabel": {
           "align": "left"
          },
          "hovermode": "closest",
          "mapbox": {
           "style": "light"
          },
          "paper_bgcolor": "white",
          "plot_bgcolor": "#E5ECF6",
          "polar": {
           "angularaxis": {
            "gridcolor": "white",
            "linecolor": "white",
            "ticks": ""
           },
           "bgcolor": "#E5ECF6",
           "radialaxis": {
            "gridcolor": "white",
            "linecolor": "white",
            "ticks": ""
           }
          },
          "scene": {
           "xaxis": {
            "backgroundcolor": "#E5ECF6",
            "gridcolor": "white",
            "gridwidth": 2,
            "linecolor": "white",
            "showbackground": true,
            "ticks": "",
            "zerolinecolor": "white"
           },
           "yaxis": {
            "backgroundcolor": "#E5ECF6",
            "gridcolor": "white",
            "gridwidth": 2,
            "linecolor": "white",
            "showbackground": true,
            "ticks": "",
            "zerolinecolor": "white"
           },
           "zaxis": {
            "backgroundcolor": "#E5ECF6",
            "gridcolor": "white",
            "gridwidth": 2,
            "linecolor": "white",
            "showbackground": true,
            "ticks": "",
            "zerolinecolor": "white"
           }
          },
          "shapedefaults": {
           "line": {
            "color": "#2a3f5f"
           }
          },
          "ternary": {
           "aaxis": {
            "gridcolor": "white",
            "linecolor": "white",
            "ticks": ""
           },
           "baxis": {
            "gridcolor": "white",
            "linecolor": "white",
            "ticks": ""
           },
           "bgcolor": "#E5ECF6",
           "caxis": {
            "gridcolor": "white",
            "linecolor": "white",
            "ticks": ""
           }
          },
          "title": {
           "x": 0.05
          },
          "xaxis": {
           "automargin": true,
           "gridcolor": "white",
           "linecolor": "white",
           "ticks": "",
           "title": {
            "standoff": 15
           },
           "zerolinecolor": "white",
           "zerolinewidth": 2
          },
          "yaxis": {
           "automargin": true,
           "gridcolor": "white",
           "linecolor": "white",
           "ticks": "",
           "title": {
            "standoff": 15
           },
           "zerolinecolor": "white",
           "zerolinewidth": 2
          }
         }
        }
       }
      },
      "text/html": [
       "<div>                            <div id=\"5c88330a-647a-4de5-b2e0-cc44eabbcc88\" class=\"plotly-graph-div\" style=\"height:525px; width:100%;\"></div>            <script type=\"text/javascript\">                require([\"plotly\"], function(Plotly) {                    window.PLOTLYENV=window.PLOTLYENV || {};                                    if (document.getElementById(\"5c88330a-647a-4de5-b2e0-cc44eabbcc88\")) {                    Plotly.newPlot(                        \"5c88330a-647a-4de5-b2e0-cc44eabbcc88\",                        [{\"diagonal\": {\"visible\": false}, \"dimensions\": [{\"axis\": {\"matches\": true}, \"label\": \"PC 1 (71.1%)\", \"values\": [3.250476968211823]}, {\"axis\": {\"matches\": true}, \"label\": \"PC 2 (25.1%)\", \"values\": [0.8632969138171216]}, {\"axis\": {\"matches\": true}, \"label\": \"PC 3 (2.3%)\", \"values\": [-0.8345735751417435]}, {\"axis\": {\"matches\": true}, \"label\": \"PC 4 (1.1%)\", \"values\": [0.6968162034595028]}], \"hovertemplate\": \"color=Bordeaux<br>%{xaxis.title.text}=%{x}<br>%{yaxis.title.text}=%{y}<extra></extra>\", \"legendgroup\": \"Bordeaux\", \"marker\": {\"color\": \"#636efa\", \"symbol\": \"circle\"}, \"name\": \"Bordeaux\", \"showlegend\": true, \"type\": \"splom\"}, {\"diagonal\": {\"visible\": false}, \"dimensions\": [{\"axis\": {\"matches\": true}, \"label\": \"PC 1 (71.1%)\", \"values\": [-2.9195823385788806]}, {\"axis\": {\"matches\": true}, \"label\": \"PC 2 (25.1%)\", \"values\": [5.057037907763607]}, {\"axis\": {\"matches\": true}, \"label\": \"PC 3 (2.3%)\", \"values\": [0.02097384008751654]}, {\"axis\": {\"matches\": true}, \"label\": \"PC 4 (1.1%)\", \"values\": [-0.541843398441126]}], \"hovertemplate\": \"color=Brest<br>%{xaxis.title.text}=%{x}<br>%{yaxis.title.text}=%{y}<extra></extra>\", \"legendgroup\": \"Brest\", \"marker\": {\"color\": \"#EF553B\", \"symbol\": \"circle\"}, \"name\": \"Brest\", \"showlegend\": true, \"type\": \"splom\"}, {\"diagonal\": {\"visible\": false}, \"dimensions\": [{\"axis\": {\"matches\": true}, \"label\": \"PC 1 (71.1%)\", \"values\": [-1.6337147343655019]}, {\"axis\": {\"matches\": true}, \"label\": \"PC 2 (25.1%)\", \"values\": [-0.9282939692025769]}, {\"axis\": {\"matches\": true}, \"label\": \"PC 3 (2.3%)\", \"values\": [-0.4344249614330958]}, {\"axis\": {\"matches\": true}, \"label\": \"PC 4 (1.1%)\", \"values\": [-0.4323459339593218]}], \"hovertemplate\": \"color=Clermont<br>%{xaxis.title.text}=%{x}<br>%{yaxis.title.text}=%{y}<extra></extra>\", \"legendgroup\": \"Clermont\", \"marker\": {\"color\": \"#00cc96\", \"symbol\": \"circle\"}, \"name\": \"Clermont\", \"showlegend\": true, \"type\": \"splom\"}, {\"diagonal\": {\"visible\": false}, \"dimensions\": [{\"axis\": {\"matches\": true}, \"label\": \"PC 1 (71.1%)\", \"values\": [-1.281628580726276]}, {\"axis\": {\"matches\": true}, \"label\": \"PC 2 (25.1%)\", \"values\": [-2.448846083762081]}, {\"axis\": {\"matches\": true}, \"label\": \"PC 3 (2.3%)\", \"values\": [-0.35040613141338867]}, {\"axis\": {\"matches\": true}, \"label\": \"PC 4 (1.1%)\", \"values\": [-0.4293807103221837]}], \"hovertemplate\": \"color=Grenoble<br>%{xaxis.title.text}=%{x}<br>%{yaxis.title.text}=%{y}<extra></extra>\", \"legendgroup\": \"Grenoble\", \"marker\": {\"color\": \"#ab63fa\", \"symbol\": \"circle\"}, \"name\": \"Grenoble\", \"showlegend\": true, \"type\": \"splom\"}, {\"diagonal\": {\"visible\": false}, \"dimensions\": [{\"axis\": {\"matches\": true}, \"label\": \"PC 1 (71.1%)\", \"values\": [-4.798566659352196]}, {\"axis\": {\"matches\": true}, \"label\": \"PC 2 (25.1%)\", \"values\": [0.39786790551497225]}, {\"axis\": {\"matches\": true}, \"label\": \"PC 3 (2.3%)\", \"values\": [0.9695657002605339]}, {\"axis\": {\"matches\": true}, \"label\": \"PC 4 (1.1%)\", \"values\": [0.10450879131047137]}], \"hovertemplate\": \"color=Lille<br>%{xaxis.title.text}=%{x}<br>%{yaxis.title.text}=%{y}<extra></extra>\", \"legendgroup\": \"Lille\", \"marker\": {\"color\": \"#FFA15A\", \"symbol\": \"circle\"}, \"name\": \"Lille\", \"showlegend\": true, \"type\": \"splom\"}, {\"diagonal\": {\"visible\": false}, \"dimensions\": [{\"axis\": {\"matches\": true}, \"label\": \"PC 1 (71.1%)\", \"values\": [-0.6308187515354045]}, {\"axis\": {\"matches\": true}, \"label\": \"PC 2 (25.1%)\", \"values\": [-2.3003778367278285]}, {\"axis\": {\"matches\": true}, \"label\": \"PC 3 (2.3%)\", \"values\": [-0.38475365944396567]}, {\"axis\": {\"matches\": true}, \"label\": \"PC 4 (1.1%)\", \"values\": [0.0515957444109676]}], \"hovertemplate\": \"color=Lyon<br>%{xaxis.title.text}=%{x}<br>%{yaxis.title.text}=%{y}<extra></extra>\", \"legendgroup\": \"Lyon\", \"marker\": {\"color\": \"#19d3f3\", \"symbol\": \"circle\"}, \"name\": \"Lyon\", \"showlegend\": true, \"type\": \"splom\"}, {\"diagonal\": {\"visible\": false}, \"dimensions\": [{\"axis\": {\"matches\": true}, \"label\": \"PC 1 (71.1%)\", \"values\": [5.340316638429699]}, {\"axis\": {\"matches\": true}, \"label\": \"PC 2 (25.1%)\", \"values\": [-0.9818463179184743]}, {\"axis\": {\"matches\": true}, \"label\": \"PC 3 (2.3%)\", \"values\": [0.2530125702864775]}, {\"axis\": {\"matches\": true}, \"label\": \"PC 4 (1.1%)\", \"values\": [0.05135692059984313]}], \"hovertemplate\": \"color=Marseille<br>%{xaxis.title.text}=%{x}<br>%{yaxis.title.text}=%{y}<extra></extra>\", \"legendgroup\": \"Marseille\", \"marker\": {\"color\": \"#FF6692\", \"symbol\": \"circle\"}, \"name\": \"Marseille\", \"showlegend\": true, \"type\": \"splom\"}, {\"diagonal\": {\"visible\": false}, \"dimensions\": [{\"axis\": {\"matches\": true}, \"label\": \"PC 1 (71.1%)\", \"values\": [4.564581286316624]}, {\"axis\": {\"matches\": true}, \"label\": \"PC 2 (25.1%)\", \"values\": [-0.3786608385838134]}, {\"axis\": {\"matches\": true}, \"label\": \"PC 3 (2.3%)\", \"values\": [-0.09754804818229677]}, {\"axis\": {\"matches\": true}, \"label\": \"PC 4 (1.1%)\", \"values\": [0.02160820678242369]}], \"hovertemplate\": \"color=Montpellier<br>%{xaxis.title.text}=%{x}<br>%{yaxis.title.text}=%{y}<extra></extra>\", \"legendgroup\": \"Montpellier\", \"marker\": {\"color\": \"#B6E880\", \"symbol\": \"circle\"}, \"name\": \"Montpellier\", \"showlegend\": true, \"type\": \"splom\"}, {\"diagonal\": {\"visible\": false}, \"dimensions\": [{\"axis\": {\"matches\": true}, \"label\": \"PC 1 (71.1%)\", \"values\": [-0.5686890924874721]}, {\"axis\": {\"matches\": true}, \"label\": \"PC 2 (25.1%)\", \"values\": [1.838433800750341]}, {\"axis\": {\"matches\": true}, \"label\": \"PC 3 (2.3%)\", \"values\": [-0.34315802823461794]}, {\"axis\": {\"matches\": true}, \"label\": \"PC 4 (1.1%)\", \"values\": [0.42940482433885385]}], \"hovertemplate\": \"color=Nantes<br>%{xaxis.title.text}=%{x}<br>%{yaxis.title.text}=%{y}<extra></extra>\", \"legendgroup\": \"Nantes\", \"marker\": {\"color\": \"#FF97FF\", \"symbol\": \"circle\"}, \"name\": \"Nantes\", \"showlegend\": true, \"type\": \"splom\"}, {\"diagonal\": {\"visible\": false}, \"dimensions\": [{\"axis\": {\"matches\": true}, \"label\": \"PC 1 (71.1%)\", \"values\": [6.438984017583438]}, {\"axis\": {\"matches\": true}, \"label\": \"PC 2 (25.1%)\", \"values\": [0.6879776965811787]}, {\"axis\": {\"matches\": true}, \"label\": \"PC 3 (2.3%)\", \"values\": [1.4160225189792435]}, {\"axis\": {\"matches\": true}, \"label\": \"PC 4 (1.1%)\", \"values\": [-0.35320078258556276]}], \"hovertemplate\": \"color=Nice<br>%{xaxis.title.text}=%{x}<br>%{yaxis.title.text}=%{y}<extra></extra>\", \"legendgroup\": \"Nice\", \"marker\": {\"color\": \"#FECB52\", \"symbol\": \"circle\"}, \"name\": \"Nice\", \"showlegend\": true, \"type\": \"splom\"}, {\"diagonal\": {\"visible\": false}, \"dimensions\": [{\"axis\": {\"matches\": true}, \"label\": \"PC 1 (71.1%)\", \"values\": [-1.555755955594685]}, {\"axis\": {\"matches\": true}, \"label\": \"PC 2 (25.1%)\", \"values\": [-0.019905906238894638]}, {\"axis\": {\"matches\": true}, \"label\": \"PC 3 (2.3%)\", \"values\": [0.3165018145877165]}, {\"axis\": {\"matches\": true}, \"label\": \"PC 4 (1.1%)\", \"values\": [0.8030394152292343]}], \"hovertemplate\": \"color=Paris<br>%{xaxis.title.text}=%{x}<br>%{yaxis.title.text}=%{y}<extra></extra>\", \"legendgroup\": \"Paris\", \"marker\": {\"color\": \"#636efa\", \"symbol\": \"circle\"}, \"name\": \"Paris\", \"showlegend\": true, \"type\": \"splom\"}, {\"diagonal\": {\"visible\": false}, \"dimensions\": [{\"axis\": {\"matches\": true}, \"label\": \"PC 1 (71.1%)\", \"values\": [-1.8755435900343147]}, {\"axis\": {\"matches\": true}, \"label\": \"PC 2 (25.1%)\", \"values\": [2.3323107912272736]}, {\"axis\": {\"matches\": true}, \"label\": \"PC 3 (2.3%)\", \"values\": [-0.08780883699919914]}, {\"axis\": {\"matches\": true}, \"label\": \"PC 4 (1.1%)\", \"values\": [0.23433452110826236]}], \"hovertemplate\": \"color=Rennes<br>%{xaxis.title.text}=%{x}<br>%{yaxis.title.text}=%{y}<extra></extra>\", \"legendgroup\": \"Rennes\", \"marker\": {\"color\": \"#EF553B\", \"symbol\": \"circle\"}, \"name\": \"Rennes\", \"showlegend\": true, \"type\": \"splom\"}, {\"diagonal\": {\"visible\": false}, \"dimensions\": [{\"axis\": {\"matches\": true}, \"label\": \"PC 1 (71.1%)\", \"values\": [-4.2048204708804775]}, {\"axis\": {\"matches\": true}, \"label\": \"PC 2 (25.1%)\", \"values\": [-3.1910033297677094]}, {\"axis\": {\"matches\": true}, \"label\": \"PC 3 (2.3%)\", \"values\": [0.634457249785953]}, {\"axis\": {\"matches\": true}, \"label\": \"PC 4 (1.1%)\", \"values\": [0.21086754364840582]}], \"hovertemplate\": \"color=Strasbourg<br>%{xaxis.title.text}=%{x}<br>%{yaxis.title.text}=%{y}<extra></extra>\", \"legendgroup\": \"Strasbourg\", \"marker\": {\"color\": \"#00cc96\", \"symbol\": \"circle\"}, \"name\": \"Strasbourg\", \"showlegend\": true, \"type\": \"splom\"}, {\"diagonal\": {\"visible\": false}, \"dimensions\": [{\"axis\": {\"matches\": true}, \"label\": \"PC 1 (71.1%)\", \"values\": [2.0507062897352326]}, {\"axis\": {\"matches\": true}, \"label\": \"PC 2 (25.1%)\", \"values\": [0.06039166042341602]}, {\"axis\": {\"matches\": true}, \"label\": \"PC 3 (2.3%)\", \"values\": [-0.8384126508230832]}, {\"axis\": {\"matches\": true}, \"label\": \"PC 4 (1.1%)\", \"values\": [-0.400077619664921]}], \"hovertemplate\": \"color=Toulouse<br>%{xaxis.title.text}=%{x}<br>%{yaxis.title.text}=%{y}<extra></extra>\", \"legendgroup\": \"Toulouse\", \"marker\": {\"color\": \"#ab63fa\", \"symbol\": \"circle\"}, \"name\": \"Toulouse\", \"showlegend\": true, \"type\": \"splom\"}, {\"diagonal\": {\"visible\": false}, \"dimensions\": [{\"axis\": {\"matches\": true}, \"label\": \"PC 1 (71.1%)\", \"values\": [-2.1759450267216103]}, {\"axis\": {\"matches\": true}, \"label\": \"PC 2 (25.1%)\", \"values\": [-0.988382393876528]}, {\"axis\": {\"matches\": true}, \"label\": \"PC 3 (2.3%)\", \"values\": [-0.23944780231605067]}, {\"axis\": {\"matches\": true}, \"label\": \"PC 4 (1.1%)\", \"values\": [-0.44668372591484967]}], \"hovertemplate\": \"color=Vichy<br>%{xaxis.title.text}=%{x}<br>%{yaxis.title.text}=%{y}<extra></extra>\", \"legendgroup\": \"Vichy\", \"marker\": {\"color\": \"#FFA15A\", \"symbol\": \"circle\"}, \"name\": \"Vichy\", \"showlegend\": true, \"type\": \"splom\"}],                        {\"dragmode\": \"select\", \"legend\": {\"title\": {\"text\": \"color\"}, \"tracegroupgap\": 0}, \"margin\": {\"t\": 60}, \"template\": {\"data\": {\"bar\": [{\"error_x\": {\"color\": \"#2a3f5f\"}, \"error_y\": {\"color\": \"#2a3f5f\"}, \"marker\": {\"line\": {\"color\": \"#E5ECF6\", \"width\": 0.5}}, \"type\": \"bar\"}], \"barpolar\": [{\"marker\": {\"line\": {\"color\": \"#E5ECF6\", \"width\": 0.5}}, \"type\": \"barpolar\"}], \"carpet\": [{\"aaxis\": {\"endlinecolor\": \"#2a3f5f\", \"gridcolor\": \"white\", \"linecolor\": \"white\", \"minorgridcolor\": \"white\", \"startlinecolor\": \"#2a3f5f\"}, \"baxis\": {\"endlinecolor\": \"#2a3f5f\", \"gridcolor\": \"white\", \"linecolor\": \"white\", \"minorgridcolor\": \"white\", \"startlinecolor\": \"#2a3f5f\"}, \"type\": \"carpet\"}], \"choropleth\": [{\"colorbar\": {\"outlinewidth\": 0, \"ticks\": \"\"}, \"type\": \"choropleth\"}], \"contour\": [{\"colorbar\": {\"outlinewidth\": 0, \"ticks\": \"\"}, \"colorscale\": [[0.0, \"#0d0887\"], [0.1111111111111111, \"#46039f\"], [0.2222222222222222, \"#7201a8\"], [0.3333333333333333, \"#9c179e\"], [0.4444444444444444, \"#bd3786\"], [0.5555555555555556, \"#d8576b\"], [0.6666666666666666, \"#ed7953\"], [0.7777777777777778, \"#fb9f3a\"], [0.8888888888888888, \"#fdca26\"], [1.0, \"#f0f921\"]], \"type\": \"contour\"}], \"contourcarpet\": [{\"colorbar\": {\"outlinewidth\": 0, \"ticks\": \"\"}, \"type\": \"contourcarpet\"}], \"heatmap\": [{\"colorbar\": {\"outlinewidth\": 0, \"ticks\": \"\"}, \"colorscale\": [[0.0, \"#0d0887\"], [0.1111111111111111, \"#46039f\"], [0.2222222222222222, \"#7201a8\"], [0.3333333333333333, \"#9c179e\"], [0.4444444444444444, \"#bd3786\"], [0.5555555555555556, \"#d8576b\"], [0.6666666666666666, \"#ed7953\"], [0.7777777777777778, \"#fb9f3a\"], [0.8888888888888888, \"#fdca26\"], [1.0, \"#f0f921\"]], \"type\": \"heatmap\"}], \"heatmapgl\": [{\"colorbar\": {\"outlinewidth\": 0, \"ticks\": \"\"}, \"colorscale\": [[0.0, \"#0d0887\"], [0.1111111111111111, \"#46039f\"], [0.2222222222222222, \"#7201a8\"], [0.3333333333333333, \"#9c179e\"], [0.4444444444444444, \"#bd3786\"], [0.5555555555555556, \"#d8576b\"], [0.6666666666666666, \"#ed7953\"], [0.7777777777777778, \"#fb9f3a\"], [0.8888888888888888, \"#fdca26\"], [1.0, \"#f0f921\"]], \"type\": \"heatmapgl\"}], \"histogram\": [{\"marker\": {\"colorbar\": {\"outlinewidth\": 0, \"ticks\": \"\"}}, \"type\": \"histogram\"}], \"histogram2d\": [{\"colorbar\": {\"outlinewidth\": 0, \"ticks\": \"\"}, \"colorscale\": [[0.0, \"#0d0887\"], [0.1111111111111111, \"#46039f\"], [0.2222222222222222, \"#7201a8\"], [0.3333333333333333, \"#9c179e\"], [0.4444444444444444, \"#bd3786\"], [0.5555555555555556, \"#d8576b\"], [0.6666666666666666, \"#ed7953\"], [0.7777777777777778, \"#fb9f3a\"], [0.8888888888888888, \"#fdca26\"], [1.0, \"#f0f921\"]], \"type\": \"histogram2d\"}], \"histogram2dcontour\": [{\"colorbar\": {\"outlinewidth\": 0, \"ticks\": \"\"}, \"colorscale\": [[0.0, \"#0d0887\"], [0.1111111111111111, \"#46039f\"], [0.2222222222222222, \"#7201a8\"], [0.3333333333333333, \"#9c179e\"], [0.4444444444444444, \"#bd3786\"], [0.5555555555555556, \"#d8576b\"], [0.6666666666666666, \"#ed7953\"], [0.7777777777777778, \"#fb9f3a\"], [0.8888888888888888, \"#fdca26\"], [1.0, \"#f0f921\"]], \"type\": \"histogram2dcontour\"}], \"mesh3d\": [{\"colorbar\": {\"outlinewidth\": 0, \"ticks\": \"\"}, \"type\": \"mesh3d\"}], \"parcoords\": [{\"line\": {\"colorbar\": {\"outlinewidth\": 0, \"ticks\": \"\"}}, \"type\": \"parcoords\"}], \"pie\": [{\"automargin\": true, \"type\": \"pie\"}], \"scatter\": [{\"marker\": {\"colorbar\": {\"outlinewidth\": 0, \"ticks\": \"\"}}, \"type\": \"scatter\"}], \"scatter3d\": [{\"line\": {\"colorbar\": {\"outlinewidth\": 0, \"ticks\": \"\"}}, \"marker\": {\"colorbar\": {\"outlinewidth\": 0, \"ticks\": \"\"}}, \"type\": \"scatter3d\"}], \"scattercarpet\": [{\"marker\": {\"colorbar\": {\"outlinewidth\": 0, \"ticks\": \"\"}}, \"type\": \"scattercarpet\"}], \"scattergeo\": [{\"marker\": {\"colorbar\": {\"outlinewidth\": 0, \"ticks\": \"\"}}, \"type\": \"scattergeo\"}], \"scattergl\": [{\"marker\": {\"colorbar\": {\"outlinewidth\": 0, \"ticks\": \"\"}}, \"type\": \"scattergl\"}], \"scattermapbox\": [{\"marker\": {\"colorbar\": {\"outlinewidth\": 0, \"ticks\": \"\"}}, \"type\": \"scattermapbox\"}], \"scatterpolar\": [{\"marker\": {\"colorbar\": {\"outlinewidth\": 0, \"ticks\": \"\"}}, \"type\": \"scatterpolar\"}], \"scatterpolargl\": [{\"marker\": {\"colorbar\": {\"outlinewidth\": 0, \"ticks\": \"\"}}, \"type\": \"scatterpolargl\"}], \"scatterternary\": [{\"marker\": {\"colorbar\": {\"outlinewidth\": 0, \"ticks\": \"\"}}, \"type\": \"scatterternary\"}], \"surface\": [{\"colorbar\": {\"outlinewidth\": 0, \"ticks\": \"\"}, \"colorscale\": [[0.0, \"#0d0887\"], [0.1111111111111111, \"#46039f\"], [0.2222222222222222, \"#7201a8\"], [0.3333333333333333, \"#9c179e\"], [0.4444444444444444, \"#bd3786\"], [0.5555555555555556, \"#d8576b\"], [0.6666666666666666, \"#ed7953\"], [0.7777777777777778, \"#fb9f3a\"], [0.8888888888888888, \"#fdca26\"], [1.0, \"#f0f921\"]], \"type\": \"surface\"}], \"table\": [{\"cells\": {\"fill\": {\"color\": \"#EBF0F8\"}, \"line\": {\"color\": \"white\"}}, \"header\": {\"fill\": {\"color\": \"#C8D4E3\"}, \"line\": {\"color\": \"white\"}}, \"type\": \"table\"}]}, \"layout\": {\"annotationdefaults\": {\"arrowcolor\": \"#2a3f5f\", \"arrowhead\": 0, \"arrowwidth\": 1}, \"autotypenumbers\": \"strict\", \"coloraxis\": {\"colorbar\": {\"outlinewidth\": 0, \"ticks\": \"\"}}, \"colorscale\": {\"diverging\": [[0, \"#8e0152\"], [0.1, \"#c51b7d\"], [0.2, \"#de77ae\"], [0.3, \"#f1b6da\"], [0.4, \"#fde0ef\"], [0.5, \"#f7f7f7\"], [0.6, \"#e6f5d0\"], [0.7, \"#b8e186\"], [0.8, \"#7fbc41\"], [0.9, \"#4d9221\"], [1, \"#276419\"]], \"sequential\": [[0.0, \"#0d0887\"], [0.1111111111111111, \"#46039f\"], [0.2222222222222222, \"#7201a8\"], [0.3333333333333333, \"#9c179e\"], [0.4444444444444444, \"#bd3786\"], [0.5555555555555556, \"#d8576b\"], [0.6666666666666666, \"#ed7953\"], [0.7777777777777778, \"#fb9f3a\"], [0.8888888888888888, \"#fdca26\"], [1.0, \"#f0f921\"]], \"sequentialminus\": [[0.0, \"#0d0887\"], [0.1111111111111111, \"#46039f\"], [0.2222222222222222, \"#7201a8\"], [0.3333333333333333, \"#9c179e\"], [0.4444444444444444, \"#bd3786\"], [0.5555555555555556, \"#d8576b\"], [0.6666666666666666, \"#ed7953\"], [0.7777777777777778, \"#fb9f3a\"], [0.8888888888888888, \"#fdca26\"], [1.0, \"#f0f921\"]]}, \"colorway\": [\"#636efa\", \"#EF553B\", \"#00cc96\", \"#ab63fa\", \"#FFA15A\", \"#19d3f3\", \"#FF6692\", \"#B6E880\", \"#FF97FF\", \"#FECB52\"], \"font\": {\"color\": \"#2a3f5f\"}, \"geo\": {\"bgcolor\": \"white\", \"lakecolor\": \"white\", \"landcolor\": \"#E5ECF6\", \"showlakes\": true, \"showland\": true, \"subunitcolor\": \"white\"}, \"hoverlabel\": {\"align\": \"left\"}, \"hovermode\": \"closest\", \"mapbox\": {\"style\": \"light\"}, \"paper_bgcolor\": \"white\", \"plot_bgcolor\": \"#E5ECF6\", \"polar\": {\"angularaxis\": {\"gridcolor\": \"white\", \"linecolor\": \"white\", \"ticks\": \"\"}, \"bgcolor\": \"#E5ECF6\", \"radialaxis\": {\"gridcolor\": \"white\", \"linecolor\": \"white\", \"ticks\": \"\"}}, \"scene\": {\"xaxis\": {\"backgroundcolor\": \"#E5ECF6\", \"gridcolor\": \"white\", \"gridwidth\": 2, \"linecolor\": \"white\", \"showbackground\": true, \"ticks\": \"\", \"zerolinecolor\": \"white\"}, \"yaxis\": {\"backgroundcolor\": \"#E5ECF6\", \"gridcolor\": \"white\", \"gridwidth\": 2, \"linecolor\": \"white\", \"showbackground\": true, \"ticks\": \"\", \"zerolinecolor\": \"white\"}, \"zaxis\": {\"backgroundcolor\": \"#E5ECF6\", \"gridcolor\": \"white\", \"gridwidth\": 2, \"linecolor\": \"white\", \"showbackground\": true, \"ticks\": \"\", \"zerolinecolor\": \"white\"}}, \"shapedefaults\": {\"line\": {\"color\": \"#2a3f5f\"}}, \"ternary\": {\"aaxis\": {\"gridcolor\": \"white\", \"linecolor\": \"white\", \"ticks\": \"\"}, \"baxis\": {\"gridcolor\": \"white\", \"linecolor\": \"white\", \"ticks\": \"\"}, \"bgcolor\": \"#E5ECF6\", \"caxis\": {\"gridcolor\": \"white\", \"linecolor\": \"white\", \"ticks\": \"\"}}, \"title\": {\"x\": 0.05}, \"xaxis\": {\"automargin\": true, \"gridcolor\": \"white\", \"linecolor\": \"white\", \"ticks\": \"\", \"title\": {\"standoff\": 15}, \"zerolinecolor\": \"white\", \"zerolinewidth\": 2}, \"yaxis\": {\"automargin\": true, \"gridcolor\": \"white\", \"linecolor\": \"white\", \"ticks\": \"\", \"title\": {\"standoff\": 15}, \"zerolinecolor\": \"white\", \"zerolinewidth\": 2}}}},                        {\"responsive\": true}                    ).then(function(){\n",
       "                            \n",
       "var gd = document.getElementById('5c88330a-647a-4de5-b2e0-cc44eabbcc88');\n",
       "var x = new MutationObserver(function (mutations, observer) {{\n",
       "        var display = window.getComputedStyle(gd).display;\n",
       "        if (!display || display === 'none') {{\n",
       "            console.log([gd, 'removed!']);\n",
       "            Plotly.purge(gd);\n",
       "            observer.disconnect();\n",
       "        }}\n",
       "}});\n",
       "\n",
       "// Listen for the removal of the full notebook cells\n",
       "var notebookContainer = gd.closest('#notebook-container');\n",
       "if (notebookContainer) {{\n",
       "    x.observe(notebookContainer, {childList: true});\n",
       "}}\n",
       "\n",
       "// Listen for the clearing of the current output cell\n",
       "var outputEl = gd.closest('.output');\n",
       "if (outputEl) {{\n",
       "    x.observe(outputEl, {childList: true});\n",
       "}}\n",
       "\n",
       "                        })                };                });            </script>        </div>"
      ]
     },
     "metadata": {},
     "output_type": "display_data"
    }
   ],
   "source": [
    "import plotly.express as px\n",
    "from sklearn.decomposition import PCA\n",
    "\n",
    "df = data_standarized\n",
    "features = x_labels\n",
    "\n",
    "pca = PCA()\n",
    "components = pca.fit_transform(df[features])\n",
    "labels = {\n",
    "    str(i): f\"PC {i+1} ({var:.1f}%)\"\n",
    "    for i, var in enumerate(pca.explained_variance_ratio_ * 100)\n",
    "}\n",
    "\n",
    "fig = px.scatter_matrix(\n",
    "    components,\n",
    "    labels=labels,\n",
    "    dimensions=range(4),\n",
    "    #text=principalComponentsDf['City']\n",
    "    color=principalComponentsDf['City']\n",
    ")\n",
    "fig.update_traces(diagonal_visible=False)\n",
    "fig.show()\n"
   ]
  },
  {
   "cell_type": "code",
   "execution_count": 62,
   "metadata": {},
   "outputs": [
    {
     "data": {
      "text/plain": [
       "15.99999999999999"
      ]
     },
     "execution_count": 62,
     "metadata": {},
     "output_type": "execute_result"
    }
   ],
   "source": [
    "eig_vals.sum()"
   ]
  },
  {
   "cell_type": "markdown",
   "metadata": {},
   "source": [
    "# 7.1  Obtention des Axes factorials  -  2 methodes"
   ]
  },
  {
   "cell_type": "code",
   "execution_count": 73,
   "metadata": {},
   "outputs": [
    {
     "data": {
      "text/html": [
       "<div>\n",
       "<style scoped>\n",
       "    .dataframe tbody tr th:only-of-type {\n",
       "        vertical-align: middle;\n",
       "    }\n",
       "\n",
       "    .dataframe tbody tr th {\n",
       "        vertical-align: top;\n",
       "    }\n",
       "\n",
       "    .dataframe thead th {\n",
       "        text-align: right;\n",
       "    }\n",
       "</style>\n",
       "<table border=\"1\" class=\"dataframe\">\n",
       "  <thead>\n",
       "    <tr style=\"text-align: right;\">\n",
       "      <th></th>\n",
       "      <th>0</th>\n",
       "      <th>1</th>\n",
       "      <th>2</th>\n",
       "      <th>3</th>\n",
       "      <th>4</th>\n",
       "      <th>5</th>\n",
       "      <th>6</th>\n",
       "      <th>7</th>\n",
       "      <th>8</th>\n",
       "      <th>9</th>\n",
       "      <th>10</th>\n",
       "      <th>11</th>\n",
       "      <th>12</th>\n",
       "      <th>13</th>\n",
       "      <th>14</th>\n",
       "      <th>15</th>\n",
       "    </tr>\n",
       "  </thead>\n",
       "  <tbody>\n",
       "    <tr>\n",
       "      <th>0</th>\n",
       "      <td>0.212</td>\n",
       "      <td>0.251</td>\n",
       "      <td>0.284</td>\n",
       "      <td>0.290</td>\n",
       "      <td>0.266</td>\n",
       "      <td>0.265</td>\n",
       "      <td>0.260</td>\n",
       "      <td>0.275</td>\n",
       "      <td>0.293</td>\n",
       "      <td>0.287</td>\n",
       "      <td>0.260</td>\n",
       "      <td>0.217</td>\n",
       "      <td>-0.258</td>\n",
       "      <td>0.066</td>\n",
       "      <td>0.295</td>\n",
       "      <td>0.050</td>\n",
       "    </tr>\n",
       "    <tr>\n",
       "      <th>1</th>\n",
       "      <td>0.345</td>\n",
       "      <td>0.261</td>\n",
       "      <td>0.117</td>\n",
       "      <td>-0.062</td>\n",
       "      <td>-0.205</td>\n",
       "      <td>-0.215</td>\n",
       "      <td>-0.238</td>\n",
       "      <td>-0.185</td>\n",
       "      <td>-0.073</td>\n",
       "      <td>0.111</td>\n",
       "      <td>0.228</td>\n",
       "      <td>0.333</td>\n",
       "      <td>0.126</td>\n",
       "      <td>-0.423</td>\n",
       "      <td>0.043</td>\n",
       "      <td>-0.489</td>\n",
       "    </tr>\n",
       "    <tr>\n",
       "      <th>2</th>\n",
       "      <td>0.135</td>\n",
       "      <td>0.093</td>\n",
       "      <td>-0.208</td>\n",
       "      <td>-0.060</td>\n",
       "      <td>0.041</td>\n",
       "      <td>-0.075</td>\n",
       "      <td>-0.019</td>\n",
       "      <td>-0.043</td>\n",
       "      <td>0.001</td>\n",
       "      <td>0.127</td>\n",
       "      <td>0.180</td>\n",
       "      <td>0.183</td>\n",
       "      <td>0.495</td>\n",
       "      <td>0.754</td>\n",
       "      <td>0.040</td>\n",
       "      <td>-0.139</td>\n",
       "    </tr>\n",
       "    <tr>\n",
       "      <th>3</th>\n",
       "      <td>0.015</td>\n",
       "      <td>-0.042</td>\n",
       "      <td>0.060</td>\n",
       "      <td>0.360</td>\n",
       "      <td>0.360</td>\n",
       "      <td>0.273</td>\n",
       "      <td>0.046</td>\n",
       "      <td>0.027</td>\n",
       "      <td>-0.047</td>\n",
       "      <td>-0.139</td>\n",
       "      <td>-0.183</td>\n",
       "      <td>-0.053</td>\n",
       "      <td>0.699</td>\n",
       "      <td>-0.328</td>\n",
       "      <td>0.049</td>\n",
       "      <td>-0.024</td>\n",
       "    </tr>\n",
       "    <tr>\n",
       "      <th>4</th>\n",
       "      <td>0.036</td>\n",
       "      <td>-0.233</td>\n",
       "      <td>-0.476</td>\n",
       "      <td>-0.335</td>\n",
       "      <td>-0.169</td>\n",
       "      <td>0.191</td>\n",
       "      <td>0.317</td>\n",
       "      <td>0.249</td>\n",
       "      <td>-0.010</td>\n",
       "      <td>0.074</td>\n",
       "      <td>0.185</td>\n",
       "      <td>0.413</td>\n",
       "      <td>0.141</td>\n",
       "      <td>-0.292</td>\n",
       "      <td>0.051</td>\n",
       "      <td>0.246</td>\n",
       "    </tr>\n",
       "    <tr>\n",
       "      <th>5</th>\n",
       "      <td>-0.227</td>\n",
       "      <td>0.032</td>\n",
       "      <td>0.280</td>\n",
       "      <td>-0.216</td>\n",
       "      <td>-0.271</td>\n",
       "      <td>-0.287</td>\n",
       "      <td>0.030</td>\n",
       "      <td>0.331</td>\n",
       "      <td>0.466</td>\n",
       "      <td>0.387</td>\n",
       "      <td>-0.182</td>\n",
       "      <td>-0.185</td>\n",
       "      <td>0.335</td>\n",
       "      <td>-0.091</td>\n",
       "      <td>0.012</td>\n",
       "      <td>0.024</td>\n",
       "    </tr>\n",
       "    <tr>\n",
       "      <th>6</th>\n",
       "      <td>-0.297</td>\n",
       "      <td>-0.226</td>\n",
       "      <td>0.217</td>\n",
       "      <td>0.041</td>\n",
       "      <td>0.133</td>\n",
       "      <td>-0.071</td>\n",
       "      <td>-0.201</td>\n",
       "      <td>-0.336</td>\n",
       "      <td>-0.167</td>\n",
       "      <td>0.362</td>\n",
       "      <td>0.558</td>\n",
       "      <td>-0.018</td>\n",
       "      <td>0.117</td>\n",
       "      <td>-0.089</td>\n",
       "      <td>-0.016</td>\n",
       "      <td>0.378</td>\n",
       "    </tr>\n",
       "    <tr>\n",
       "      <th>7</th>\n",
       "      <td>0.073</td>\n",
       "      <td>0.494</td>\n",
       "      <td>0.145</td>\n",
       "      <td>-0.252</td>\n",
       "      <td>-0.069</td>\n",
       "      <td>-0.083</td>\n",
       "      <td>0.552</td>\n",
       "      <td>-0.099</td>\n",
       "      <td>-0.299</td>\n",
       "      <td>-0.166</td>\n",
       "      <td>0.213</td>\n",
       "      <td>-0.365</td>\n",
       "      <td>0.137</td>\n",
       "      <td>-0.047</td>\n",
       "      <td>0.023</td>\n",
       "      <td>0.152</td>\n",
       "    </tr>\n",
       "    <tr>\n",
       "      <th>8</th>\n",
       "      <td>-0.235</td>\n",
       "      <td>0.150</td>\n",
       "      <td>0.475</td>\n",
       "      <td>-0.168</td>\n",
       "      <td>-0.020</td>\n",
       "      <td>0.007</td>\n",
       "      <td>-0.012</td>\n",
       "      <td>-0.022</td>\n",
       "      <td>-0.234</td>\n",
       "      <td>-0.176</td>\n",
       "      <td>-0.338</td>\n",
       "      <td>0.628</td>\n",
       "      <td>0.041</td>\n",
       "      <td>0.117</td>\n",
       "      <td>0.001</td>\n",
       "      <td>0.242</td>\n",
       "    </tr>\n",
       "    <tr>\n",
       "      <th>9</th>\n",
       "      <td>-0.112</td>\n",
       "      <td>0.287</td>\n",
       "      <td>-0.251</td>\n",
       "      <td>0.605</td>\n",
       "      <td>-0.355</td>\n",
       "      <td>-0.265</td>\n",
       "      <td>-0.101</td>\n",
       "      <td>0.316</td>\n",
       "      <td>-0.310</td>\n",
       "      <td>0.091</td>\n",
       "      <td>-0.008</td>\n",
       "      <td>0.055</td>\n",
       "      <td>0.011</td>\n",
       "      <td>-0.016</td>\n",
       "      <td>-0.006</td>\n",
       "      <td>0.248</td>\n",
       "    </tr>\n",
       "    <tr>\n",
       "      <th>10</th>\n",
       "      <td>-0.350</td>\n",
       "      <td>0.565</td>\n",
       "      <td>-0.371</td>\n",
       "      <td>-0.049</td>\n",
       "      <td>0.132</td>\n",
       "      <td>0.098</td>\n",
       "      <td>-0.171</td>\n",
       "      <td>-0.329</td>\n",
       "      <td>0.453</td>\n",
       "      <td>-0.082</td>\n",
       "      <td>-0.010</td>\n",
       "      <td>0.095</td>\n",
       "      <td>-0.009</td>\n",
       "      <td>-0.107</td>\n",
       "      <td>-0.013</td>\n",
       "      <td>0.144</td>\n",
       "    </tr>\n",
       "    <tr>\n",
       "      <th>11</th>\n",
       "      <td>0.185</td>\n",
       "      <td>-0.041</td>\n",
       "      <td>0.104</td>\n",
       "      <td>-0.072</td>\n",
       "      <td>0.129</td>\n",
       "      <td>-0.304</td>\n",
       "      <td>-0.295</td>\n",
       "      <td>0.338</td>\n",
       "      <td>0.247</td>\n",
       "      <td>-0.614</td>\n",
       "      <td>0.355</td>\n",
       "      <td>0.002</td>\n",
       "      <td>0.070</td>\n",
       "      <td>-0.012</td>\n",
       "      <td>0.032</td>\n",
       "      <td>0.261</td>\n",
       "    </tr>\n",
       "    <tr>\n",
       "      <th>12</th>\n",
       "      <td>0.181</td>\n",
       "      <td>-0.234</td>\n",
       "      <td>0.110</td>\n",
       "      <td>0.333</td>\n",
       "      <td>-0.481</td>\n",
       "      <td>-0.037</td>\n",
       "      <td>0.288</td>\n",
       "      <td>-0.484</td>\n",
       "      <td>0.367</td>\n",
       "      <td>-0.212</td>\n",
       "      <td>-0.017</td>\n",
       "      <td>0.088</td>\n",
       "      <td>0.071</td>\n",
       "      <td>0.053</td>\n",
       "      <td>0.115</td>\n",
       "      <td>0.178</td>\n",
       "    </tr>\n",
       "    <tr>\n",
       "      <th>13</th>\n",
       "      <td>0.375</td>\n",
       "      <td>0.149</td>\n",
       "      <td>0.082</td>\n",
       "      <td>-0.171</td>\n",
       "      <td>-0.328</td>\n",
       "      <td>0.540</td>\n",
       "      <td>-0.457</td>\n",
       "      <td>0.013</td>\n",
       "      <td>-0.061</td>\n",
       "      <td>0.103</td>\n",
       "      <td>-0.091</td>\n",
       "      <td>-0.213</td>\n",
       "      <td>0.074</td>\n",
       "      <td>0.049</td>\n",
       "      <td>0.087</td>\n",
       "      <td>0.332</td>\n",
       "    </tr>\n",
       "    <tr>\n",
       "      <th>14</th>\n",
       "      <td>0.453</td>\n",
       "      <td>0.060</td>\n",
       "      <td>-0.022</td>\n",
       "      <td>0.029</td>\n",
       "      <td>0.239</td>\n",
       "      <td>-0.199</td>\n",
       "      <td>0.081</td>\n",
       "      <td>-0.080</td>\n",
       "      <td>0.098</td>\n",
       "      <td>0.224</td>\n",
       "      <td>-0.174</td>\n",
       "      <td>0.086</td>\n",
       "      <td>-0.015</td>\n",
       "      <td>-0.042</td>\n",
       "      <td>-0.698</td>\n",
       "      <td>0.306</td>\n",
       "    </tr>\n",
       "  </tbody>\n",
       "</table>\n",
       "</div>"
      ],
      "text/plain": [
       "        0      1      2      3      4      5      6      7      8      9  \\\n",
       "0   0.212  0.251  0.284  0.290  0.266  0.265  0.260  0.275  0.293  0.287   \n",
       "1   0.345  0.261  0.117 -0.062 -0.205 -0.215 -0.238 -0.185 -0.073  0.111   \n",
       "2   0.135  0.093 -0.208 -0.060  0.041 -0.075 -0.019 -0.043  0.001  0.127   \n",
       "3   0.015 -0.042  0.060  0.360  0.360  0.273  0.046  0.027 -0.047 -0.139   \n",
       "4   0.036 -0.233 -0.476 -0.335 -0.169  0.191  0.317  0.249 -0.010  0.074   \n",
       "5  -0.227  0.032  0.280 -0.216 -0.271 -0.287  0.030  0.331  0.466  0.387   \n",
       "6  -0.297 -0.226  0.217  0.041  0.133 -0.071 -0.201 -0.336 -0.167  0.362   \n",
       "7   0.073  0.494  0.145 -0.252 -0.069 -0.083  0.552 -0.099 -0.299 -0.166   \n",
       "8  -0.235  0.150  0.475 -0.168 -0.020  0.007 -0.012 -0.022 -0.234 -0.176   \n",
       "9  -0.112  0.287 -0.251  0.605 -0.355 -0.265 -0.101  0.316 -0.310  0.091   \n",
       "10 -0.350  0.565 -0.371 -0.049  0.132  0.098 -0.171 -0.329  0.453 -0.082   \n",
       "11  0.185 -0.041  0.104 -0.072  0.129 -0.304 -0.295  0.338  0.247 -0.614   \n",
       "12  0.181 -0.234  0.110  0.333 -0.481 -0.037  0.288 -0.484  0.367 -0.212   \n",
       "13  0.375  0.149  0.082 -0.171 -0.328  0.540 -0.457  0.013 -0.061  0.103   \n",
       "14  0.453  0.060 -0.022  0.029  0.239 -0.199  0.081 -0.080  0.098  0.224   \n",
       "\n",
       "       10     11     12     13     14     15  \n",
       "0   0.260  0.217 -0.258  0.066  0.295  0.050  \n",
       "1   0.228  0.333  0.126 -0.423  0.043 -0.489  \n",
       "2   0.180  0.183  0.495  0.754  0.040 -0.139  \n",
       "3  -0.183 -0.053  0.699 -0.328  0.049 -0.024  \n",
       "4   0.185  0.413  0.141 -0.292  0.051  0.246  \n",
       "5  -0.182 -0.185  0.335 -0.091  0.012  0.024  \n",
       "6   0.558 -0.018  0.117 -0.089 -0.016  0.378  \n",
       "7   0.213 -0.365  0.137 -0.047  0.023  0.152  \n",
       "8  -0.338  0.628  0.041  0.117  0.001  0.242  \n",
       "9  -0.008  0.055  0.011 -0.016 -0.006  0.248  \n",
       "10 -0.010  0.095 -0.009 -0.107 -0.013  0.144  \n",
       "11  0.355  0.002  0.070 -0.012  0.032  0.261  \n",
       "12 -0.017  0.088  0.071  0.053  0.115  0.178  \n",
       "13 -0.091 -0.213  0.074  0.049  0.087  0.332  \n",
       "14 -0.174  0.086 -0.015 -0.042 -0.698  0.306  "
      ]
     },
     "execution_count": 73,
     "metadata": {},
     "output_type": "execute_result"
    }
   ],
   "source": [
    "pcaComponentsDf = pd.DataFrame(data = pca.components_.round(3))\n",
    "pcaComponentsDf"
   ]
  },
  {
   "cell_type": "code",
   "execution_count": 74,
   "metadata": {},
   "outputs": [
    {
     "data": {
      "text/html": [
       "<div>\n",
       "<style scoped>\n",
       "    .dataframe tbody tr th:only-of-type {\n",
       "        vertical-align: middle;\n",
       "    }\n",
       "\n",
       "    .dataframe tbody tr th {\n",
       "        vertical-align: top;\n",
       "    }\n",
       "\n",
       "    .dataframe thead th {\n",
       "        text-align: right;\n",
       "    }\n",
       "</style>\n",
       "<table border=\"1\" class=\"dataframe\">\n",
       "  <thead>\n",
       "    <tr style=\"text-align: right;\">\n",
       "      <th></th>\n",
       "      <th>0</th>\n",
       "      <th>1</th>\n",
       "      <th>2</th>\n",
       "      <th>3</th>\n",
       "      <th>4</th>\n",
       "      <th>5</th>\n",
       "      <th>6</th>\n",
       "      <th>7</th>\n",
       "      <th>8</th>\n",
       "      <th>9</th>\n",
       "      <th>10</th>\n",
       "      <th>11</th>\n",
       "      <th>12</th>\n",
       "      <th>13</th>\n",
       "      <th>14</th>\n",
       "      <th>15</th>\n",
       "    </tr>\n",
       "  </thead>\n",
       "  <tbody>\n",
       "    <tr>\n",
       "      <th>0</th>\n",
       "      <td>-0.212</td>\n",
       "      <td>-0.251</td>\n",
       "      <td>-0.284</td>\n",
       "      <td>-0.290</td>\n",
       "      <td>-0.266</td>\n",
       "      <td>-0.265</td>\n",
       "      <td>-0.260</td>\n",
       "      <td>-0.275</td>\n",
       "      <td>-0.293</td>\n",
       "      <td>-0.287</td>\n",
       "      <td>-0.260</td>\n",
       "      <td>-0.217</td>\n",
       "      <td>0.258</td>\n",
       "      <td>-0.066</td>\n",
       "      <td>-0.295</td>\n",
       "      <td>-0.050</td>\n",
       "    </tr>\n",
       "    <tr>\n",
       "      <th>1</th>\n",
       "      <td>-0.345</td>\n",
       "      <td>-0.261</td>\n",
       "      <td>-0.117</td>\n",
       "      <td>0.062</td>\n",
       "      <td>0.205</td>\n",
       "      <td>0.215</td>\n",
       "      <td>0.238</td>\n",
       "      <td>0.185</td>\n",
       "      <td>0.073</td>\n",
       "      <td>-0.111</td>\n",
       "      <td>-0.228</td>\n",
       "      <td>-0.333</td>\n",
       "      <td>-0.126</td>\n",
       "      <td>0.423</td>\n",
       "      <td>-0.043</td>\n",
       "      <td>0.489</td>\n",
       "    </tr>\n",
       "    <tr>\n",
       "      <th>2</th>\n",
       "      <td>0.135</td>\n",
       "      <td>0.093</td>\n",
       "      <td>-0.208</td>\n",
       "      <td>-0.060</td>\n",
       "      <td>0.041</td>\n",
       "      <td>-0.075</td>\n",
       "      <td>-0.019</td>\n",
       "      <td>-0.043</td>\n",
       "      <td>0.001</td>\n",
       "      <td>0.127</td>\n",
       "      <td>0.180</td>\n",
       "      <td>0.183</td>\n",
       "      <td>0.495</td>\n",
       "      <td>0.754</td>\n",
       "      <td>0.040</td>\n",
       "      <td>-0.139</td>\n",
       "    </tr>\n",
       "    <tr>\n",
       "      <th>3</th>\n",
       "      <td>0.015</td>\n",
       "      <td>-0.042</td>\n",
       "      <td>0.060</td>\n",
       "      <td>0.360</td>\n",
       "      <td>0.360</td>\n",
       "      <td>0.273</td>\n",
       "      <td>0.046</td>\n",
       "      <td>0.027</td>\n",
       "      <td>-0.047</td>\n",
       "      <td>-0.139</td>\n",
       "      <td>-0.183</td>\n",
       "      <td>-0.053</td>\n",
       "      <td>0.699</td>\n",
       "      <td>-0.328</td>\n",
       "      <td>0.049</td>\n",
       "      <td>-0.024</td>\n",
       "    </tr>\n",
       "    <tr>\n",
       "      <th>4</th>\n",
       "      <td>-0.036</td>\n",
       "      <td>0.233</td>\n",
       "      <td>0.476</td>\n",
       "      <td>0.335</td>\n",
       "      <td>0.169</td>\n",
       "      <td>-0.191</td>\n",
       "      <td>-0.317</td>\n",
       "      <td>-0.249</td>\n",
       "      <td>0.010</td>\n",
       "      <td>-0.074</td>\n",
       "      <td>-0.185</td>\n",
       "      <td>-0.413</td>\n",
       "      <td>-0.141</td>\n",
       "      <td>0.292</td>\n",
       "      <td>-0.051</td>\n",
       "      <td>-0.246</td>\n",
       "    </tr>\n",
       "    <tr>\n",
       "      <th>5</th>\n",
       "      <td>-0.227</td>\n",
       "      <td>0.032</td>\n",
       "      <td>0.280</td>\n",
       "      <td>-0.216</td>\n",
       "      <td>-0.271</td>\n",
       "      <td>-0.287</td>\n",
       "      <td>0.030</td>\n",
       "      <td>0.331</td>\n",
       "      <td>0.466</td>\n",
       "      <td>0.387</td>\n",
       "      <td>-0.182</td>\n",
       "      <td>-0.185</td>\n",
       "      <td>0.335</td>\n",
       "      <td>-0.091</td>\n",
       "      <td>0.012</td>\n",
       "      <td>0.024</td>\n",
       "    </tr>\n",
       "    <tr>\n",
       "      <th>6</th>\n",
       "      <td>0.297</td>\n",
       "      <td>0.226</td>\n",
       "      <td>-0.217</td>\n",
       "      <td>-0.041</td>\n",
       "      <td>-0.133</td>\n",
       "      <td>0.071</td>\n",
       "      <td>0.201</td>\n",
       "      <td>0.336</td>\n",
       "      <td>0.167</td>\n",
       "      <td>-0.362</td>\n",
       "      <td>-0.558</td>\n",
       "      <td>0.018</td>\n",
       "      <td>-0.117</td>\n",
       "      <td>0.089</td>\n",
       "      <td>0.016</td>\n",
       "      <td>-0.378</td>\n",
       "    </tr>\n",
       "    <tr>\n",
       "      <th>7</th>\n",
       "      <td>0.073</td>\n",
       "      <td>0.494</td>\n",
       "      <td>0.145</td>\n",
       "      <td>-0.252</td>\n",
       "      <td>-0.069</td>\n",
       "      <td>-0.083</td>\n",
       "      <td>0.552</td>\n",
       "      <td>-0.099</td>\n",
       "      <td>-0.299</td>\n",
       "      <td>-0.166</td>\n",
       "      <td>0.213</td>\n",
       "      <td>-0.365</td>\n",
       "      <td>0.137</td>\n",
       "      <td>-0.047</td>\n",
       "      <td>0.023</td>\n",
       "      <td>0.152</td>\n",
       "    </tr>\n",
       "    <tr>\n",
       "      <th>8</th>\n",
       "      <td>0.235</td>\n",
       "      <td>-0.150</td>\n",
       "      <td>-0.475</td>\n",
       "      <td>0.168</td>\n",
       "      <td>0.020</td>\n",
       "      <td>-0.007</td>\n",
       "      <td>0.012</td>\n",
       "      <td>0.022</td>\n",
       "      <td>0.234</td>\n",
       "      <td>0.176</td>\n",
       "      <td>0.338</td>\n",
       "      <td>-0.628</td>\n",
       "      <td>-0.041</td>\n",
       "      <td>-0.117</td>\n",
       "      <td>-0.001</td>\n",
       "      <td>-0.242</td>\n",
       "    </tr>\n",
       "    <tr>\n",
       "      <th>9</th>\n",
       "      <td>-0.112</td>\n",
       "      <td>0.287</td>\n",
       "      <td>-0.251</td>\n",
       "      <td>0.605</td>\n",
       "      <td>-0.355</td>\n",
       "      <td>-0.265</td>\n",
       "      <td>-0.101</td>\n",
       "      <td>0.316</td>\n",
       "      <td>-0.310</td>\n",
       "      <td>0.091</td>\n",
       "      <td>-0.008</td>\n",
       "      <td>0.055</td>\n",
       "      <td>0.011</td>\n",
       "      <td>-0.016</td>\n",
       "      <td>-0.006</td>\n",
       "      <td>0.248</td>\n",
       "    </tr>\n",
       "    <tr>\n",
       "      <th>10</th>\n",
       "      <td>0.350</td>\n",
       "      <td>-0.565</td>\n",
       "      <td>0.371</td>\n",
       "      <td>0.049</td>\n",
       "      <td>-0.132</td>\n",
       "      <td>-0.098</td>\n",
       "      <td>0.171</td>\n",
       "      <td>0.329</td>\n",
       "      <td>-0.453</td>\n",
       "      <td>0.082</td>\n",
       "      <td>0.010</td>\n",
       "      <td>-0.095</td>\n",
       "      <td>0.009</td>\n",
       "      <td>0.107</td>\n",
       "      <td>0.013</td>\n",
       "      <td>-0.144</td>\n",
       "    </tr>\n",
       "    <tr>\n",
       "      <th>11</th>\n",
       "      <td>-0.185</td>\n",
       "      <td>0.041</td>\n",
       "      <td>-0.104</td>\n",
       "      <td>0.072</td>\n",
       "      <td>-0.129</td>\n",
       "      <td>0.304</td>\n",
       "      <td>0.295</td>\n",
       "      <td>-0.338</td>\n",
       "      <td>-0.247</td>\n",
       "      <td>0.614</td>\n",
       "      <td>-0.355</td>\n",
       "      <td>-0.002</td>\n",
       "      <td>-0.070</td>\n",
       "      <td>0.012</td>\n",
       "      <td>-0.032</td>\n",
       "      <td>-0.261</td>\n",
       "    </tr>\n",
       "    <tr>\n",
       "      <th>12</th>\n",
       "      <td>-0.181</td>\n",
       "      <td>0.234</td>\n",
       "      <td>-0.110</td>\n",
       "      <td>-0.333</td>\n",
       "      <td>0.481</td>\n",
       "      <td>0.037</td>\n",
       "      <td>-0.288</td>\n",
       "      <td>0.484</td>\n",
       "      <td>-0.367</td>\n",
       "      <td>0.212</td>\n",
       "      <td>0.017</td>\n",
       "      <td>-0.088</td>\n",
       "      <td>-0.071</td>\n",
       "      <td>-0.053</td>\n",
       "      <td>-0.115</td>\n",
       "      <td>-0.178</td>\n",
       "    </tr>\n",
       "    <tr>\n",
       "      <th>13</th>\n",
       "      <td>-0.375</td>\n",
       "      <td>-0.149</td>\n",
       "      <td>-0.082</td>\n",
       "      <td>0.171</td>\n",
       "      <td>0.328</td>\n",
       "      <td>-0.540</td>\n",
       "      <td>0.457</td>\n",
       "      <td>-0.013</td>\n",
       "      <td>0.061</td>\n",
       "      <td>-0.103</td>\n",
       "      <td>0.091</td>\n",
       "      <td>0.213</td>\n",
       "      <td>-0.074</td>\n",
       "      <td>-0.049</td>\n",
       "      <td>-0.087</td>\n",
       "      <td>-0.332</td>\n",
       "    </tr>\n",
       "    <tr>\n",
       "      <th>14</th>\n",
       "      <td>0.385</td>\n",
       "      <td>-0.020</td>\n",
       "      <td>-0.171</td>\n",
       "      <td>-0.097</td>\n",
       "      <td>0.334</td>\n",
       "      <td>-0.451</td>\n",
       "      <td>-0.021</td>\n",
       "      <td>-0.187</td>\n",
       "      <td>-0.052</td>\n",
       "      <td>0.226</td>\n",
       "      <td>-0.372</td>\n",
       "      <td>-0.010</td>\n",
       "      <td>-0.039</td>\n",
       "      <td>-0.074</td>\n",
       "      <td>0.387</td>\n",
       "      <td>0.338</td>\n",
       "    </tr>\n",
       "    <tr>\n",
       "      <th>15</th>\n",
       "      <td>-0.264</td>\n",
       "      <td>-0.072</td>\n",
       "      <td>-0.066</td>\n",
       "      <td>-0.080</td>\n",
       "      <td>-0.071</td>\n",
       "      <td>-0.031</td>\n",
       "      <td>-0.094</td>\n",
       "      <td>-0.015</td>\n",
       "      <td>-0.128</td>\n",
       "      <td>-0.112</td>\n",
       "      <td>-0.016</td>\n",
       "      <td>-0.094</td>\n",
       "      <td>-0.005</td>\n",
       "      <td>0.004</td>\n",
       "      <td>0.918</td>\n",
       "      <td>-0.137</td>\n",
       "    </tr>\n",
       "  </tbody>\n",
       "</table>\n",
       "</div>"
      ],
      "text/plain": [
       "        0      1      2      3      4      5      6      7      8      9  \\\n",
       "0  -0.212 -0.251 -0.284 -0.290 -0.266 -0.265 -0.260 -0.275 -0.293 -0.287   \n",
       "1  -0.345 -0.261 -0.117  0.062  0.205  0.215  0.238  0.185  0.073 -0.111   \n",
       "2   0.135  0.093 -0.208 -0.060  0.041 -0.075 -0.019 -0.043  0.001  0.127   \n",
       "3   0.015 -0.042  0.060  0.360  0.360  0.273  0.046  0.027 -0.047 -0.139   \n",
       "4  -0.036  0.233  0.476  0.335  0.169 -0.191 -0.317 -0.249  0.010 -0.074   \n",
       "5  -0.227  0.032  0.280 -0.216 -0.271 -0.287  0.030  0.331  0.466  0.387   \n",
       "6   0.297  0.226 -0.217 -0.041 -0.133  0.071  0.201  0.336  0.167 -0.362   \n",
       "7   0.073  0.494  0.145 -0.252 -0.069 -0.083  0.552 -0.099 -0.299 -0.166   \n",
       "8   0.235 -0.150 -0.475  0.168  0.020 -0.007  0.012  0.022  0.234  0.176   \n",
       "9  -0.112  0.287 -0.251  0.605 -0.355 -0.265 -0.101  0.316 -0.310  0.091   \n",
       "10  0.350 -0.565  0.371  0.049 -0.132 -0.098  0.171  0.329 -0.453  0.082   \n",
       "11 -0.185  0.041 -0.104  0.072 -0.129  0.304  0.295 -0.338 -0.247  0.614   \n",
       "12 -0.181  0.234 -0.110 -0.333  0.481  0.037 -0.288  0.484 -0.367  0.212   \n",
       "13 -0.375 -0.149 -0.082  0.171  0.328 -0.540  0.457 -0.013  0.061 -0.103   \n",
       "14  0.385 -0.020 -0.171 -0.097  0.334 -0.451 -0.021 -0.187 -0.052  0.226   \n",
       "15 -0.264 -0.072 -0.066 -0.080 -0.071 -0.031 -0.094 -0.015 -0.128 -0.112   \n",
       "\n",
       "       10     11     12     13     14     15  \n",
       "0  -0.260 -0.217  0.258 -0.066 -0.295 -0.050  \n",
       "1  -0.228 -0.333 -0.126  0.423 -0.043  0.489  \n",
       "2   0.180  0.183  0.495  0.754  0.040 -0.139  \n",
       "3  -0.183 -0.053  0.699 -0.328  0.049 -0.024  \n",
       "4  -0.185 -0.413 -0.141  0.292 -0.051 -0.246  \n",
       "5  -0.182 -0.185  0.335 -0.091  0.012  0.024  \n",
       "6  -0.558  0.018 -0.117  0.089  0.016 -0.378  \n",
       "7   0.213 -0.365  0.137 -0.047  0.023  0.152  \n",
       "8   0.338 -0.628 -0.041 -0.117 -0.001 -0.242  \n",
       "9  -0.008  0.055  0.011 -0.016 -0.006  0.248  \n",
       "10  0.010 -0.095  0.009  0.107  0.013 -0.144  \n",
       "11 -0.355 -0.002 -0.070  0.012 -0.032 -0.261  \n",
       "12  0.017 -0.088 -0.071 -0.053 -0.115 -0.178  \n",
       "13  0.091  0.213 -0.074 -0.049 -0.087 -0.332  \n",
       "14 -0.372 -0.010 -0.039 -0.074  0.387  0.338  \n",
       "15 -0.016 -0.094 -0.005  0.004  0.918 -0.137  "
      ]
     },
     "execution_count": 74,
     "metadata": {},
     "output_type": "execute_result"
    }
   ],
   "source": [
    "pcaComponentsDf2 = pd.DataFrame(data = eig_vecs.T.round(3))\n",
    "pcaComponentsDf2"
   ]
  },
  {
   "cell_type": "markdown",
   "metadata": {},
   "source": [
    "<font color=\"red\">Observer que la matriz de composants cest la meme eigenVecteurs obtenus de la correlation mais transpose - Python case</font>"
   ]
  },
  {
   "cell_type": "markdown",
   "metadata": {},
   "source": [
    "<font color=\"red\">Chaque ROW cest une Axe factorielle</font>"
   ]
  },
  {
   "cell_type": "markdown",
   "metadata": {},
   "source": [
    "# 8. Qualite Globale de la representation"
   ]
  },
  {
   "cell_type": "code",
   "execution_count": 78,
   "metadata": {},
   "outputs": [
    {
     "data": {
      "text/plain": [
       "array([11.36815511,  4.01274702])"
      ]
     },
     "execution_count": 78,
     "metadata": {},
     "output_type": "execute_result"
    }
   ],
   "source": [
    "eig_vals[0:2]"
   ]
  },
  {
   "cell_type": "code",
   "execution_count": 79,
   "metadata": {},
   "outputs": [
    {
     "data": {
      "text/plain": [
       "96.13063825000006"
      ]
     },
     "execution_count": 79,
     "metadata": {},
     "output_type": "execute_result"
    }
   ],
   "source": [
    "# Avec k=2, les deux composant representatives\n",
    "\n",
    "Ik =((11.3681551+  4.01274702) / np.sum(eig_vals) ) *100\n",
    "Ik"
   ]
  },
  {
   "cell_type": "markdown",
   "metadata": {},
   "source": [
    "<font color=\"blue\">La qualite globale est preserve a 96.1%</font>"
   ]
  },
  {
   "cell_type": "code",
   "execution_count": 95,
   "metadata": {},
   "outputs": [
    {
     "name": "stdout",
     "output_type": "stream",
     "text": [
      "La variance explique \n",
      " [0.7105096944039875, 0.25079668860120374, 0.023181893701401248, 0.010750434945582312, 0.0024866101619858095, 0.0008434648467958797, 0.0007575197249003513, 0.0003365864878368303, 0.00016585686180546326, 0.00011642675354572831, 3.165060054540828e-05, 2.088131467889555e-05, 1.684872783710156e-06, 6.067229471450349e-07, 1.3365314813913427e-17, -1.2788802965523818e-17]\n"
     ]
    }
   ],
   "source": [
    "explained_variances = []\n",
    "for i in range(len(eig_vals)):\n",
    "    explained_variances.append(eig_vals[i]/np.sum(eig_vals))\n",
    "\n",
    "print('La variance explique', '\\n', explained_variances)"
   ]
  },
  {
   "cell_type": "markdown",
   "metadata": {},
   "source": [
    "<font color=\"blue\"> La plupart de la variance ou informationest dans les dexu premieres axes factorials. 96%</font>"
   ]
  },
  {
   "cell_type": "markdown",
   "metadata": {},
   "source": [
    "# 8.1. Qualité de représentation des individus COS2 \n"
   ]
  },
  {
   "cell_type": "code",
   "execution_count": null,
   "metadata": {},
   "outputs": [],
   "source": [
    "# Pour calculer la qualité de représentation des individus sur les axes, nous devons d’abord calculer les carrés des distances\n",
    "# à l’origine des individus, qui correspondent également à leur contribution dans l’inertie totale"
   ]
  },
  {
   "cell_type": "code",
   "execution_count": 77,
   "metadata": {},
   "outputs": [
    {
     "name": "stdout",
     "output_type": "stream",
     "text": [
      "             ID        d_i\n",
      "9          Nice  44.172405\n",
      "1         Brest  34.446409\n",
      "6     Marseille  29.717668\n",
      "12   Strasbourg  28.380070\n",
      "4         Lille  24.259275\n",
      "7   Montpellier  21.077283\n",
      "0      Bordeaux  12.614630\n",
      "11       Rennes   9.065328\n",
      "3      Grenoble   8.138589\n",
      "14        Vichy   5.995591\n",
      "5          Lyon   5.859712\n",
      "13     Toulouse   5.125778\n",
      "8        Nantes   4.024229\n",
      "2      Clermont   3.946312\n",
      "10        Paris   3.176722\n"
     ]
    }
   ],
   "source": [
    "di = np.sum(data_standarized[x_labels]**2,axis=1) \n",
    "print(pd.DataFrame({'ID':dataOriginal['City'],'d_i':di}).sort_values(by='d_i', ascending=False))"
   ]
  },
  {
   "cell_type": "code",
   "execution_count": 84,
   "metadata": {},
   "outputs": [
    {
     "data": {
      "text/plain": [
       "array([[ 3.25047697,  0.86329691, -0.83457358],\n",
       "       [-2.91958234,  5.05703791,  0.02097384],\n",
       "       [-1.63371473, -0.92829397, -0.43442496],\n",
       "       [-1.28162858, -2.44884608, -0.35040613],\n",
       "       [-4.79856666,  0.39786791,  0.9695657 ],\n",
       "       [-0.63081875, -2.30037784, -0.38475366],\n",
       "       [ 5.34031664, -0.98184632,  0.25301257],\n",
       "       [ 4.56458129, -0.37866084, -0.09754805],\n",
       "       [-0.56868909,  1.8384338 , -0.34315803],\n",
       "       [ 6.43898402,  0.6879777 ,  1.41602252],\n",
       "       [-1.55575596, -0.01990591,  0.31650181],\n",
       "       [-1.87554359,  2.33231079, -0.08780884],\n",
       "       [-4.20482047, -3.19100333,  0.63445725],\n",
       "       [ 2.05070629,  0.06039166, -0.83841265],\n",
       "       [-2.17594503, -0.98838239, -0.2394478 ]])"
      ]
     },
     "execution_count": 84,
     "metadata": {},
     "output_type": "execute_result"
    }
   ],
   "source": [
    "principalComponents"
   ]
  },
  {
   "cell_type": "code",
   "execution_count": 88,
   "metadata": {},
   "outputs": [
    {
     "data": {
      "text/html": [
       "<div>\n",
       "<style scoped>\n",
       "    .dataframe tbody tr th:only-of-type {\n",
       "        vertical-align: middle;\n",
       "    }\n",
       "\n",
       "    .dataframe tbody tr th {\n",
       "        vertical-align: top;\n",
       "    }\n",
       "\n",
       "    .dataframe thead th {\n",
       "        text-align: right;\n",
       "    }\n",
       "</style>\n",
       "<table border=\"1\" class=\"dataframe\">\n",
       "  <thead>\n",
       "    <tr style=\"text-align: right;\">\n",
       "      <th></th>\n",
       "      <th>id</th>\n",
       "      <th>COS2_1</th>\n",
       "      <th>COS2_2</th>\n",
       "      <th>COS2_3</th>\n",
       "    </tr>\n",
       "  </thead>\n",
       "  <tbody>\n",
       "    <tr>\n",
       "      <th>0</th>\n",
       "      <td>Bordeaux</td>\n",
       "      <td>0.837567</td>\n",
       "      <td>0.059081</td>\n",
       "      <td>0.055215</td>\n",
       "    </tr>\n",
       "    <tr>\n",
       "      <th>1</th>\n",
       "      <td>Brest</td>\n",
       "      <td>0.247456</td>\n",
       "      <td>0.742418</td>\n",
       "      <td>0.000013</td>\n",
       "    </tr>\n",
       "    <tr>\n",
       "      <th>2</th>\n",
       "      <td>Clermont</td>\n",
       "      <td>0.676334</td>\n",
       "      <td>0.218363</td>\n",
       "      <td>0.047823</td>\n",
       "    </tr>\n",
       "    <tr>\n",
       "      <th>3</th>\n",
       "      <td>Grenoble</td>\n",
       "      <td>0.201825</td>\n",
       "      <td>0.736841</td>\n",
       "      <td>0.015087</td>\n",
       "    </tr>\n",
       "    <tr>\n",
       "      <th>4</th>\n",
       "      <td>Lille</td>\n",
       "      <td>0.949173</td>\n",
       "      <td>0.006525</td>\n",
       "      <td>0.038750</td>\n",
       "    </tr>\n",
       "    <tr>\n",
       "      <th>5</th>\n",
       "      <td>Lyon</td>\n",
       "      <td>0.067910</td>\n",
       "      <td>0.903071</td>\n",
       "      <td>0.025263</td>\n",
       "    </tr>\n",
       "    <tr>\n",
       "      <th>6</th>\n",
       "      <td>Marseille</td>\n",
       "      <td>0.959664</td>\n",
       "      <td>0.032439</td>\n",
       "      <td>0.002154</td>\n",
       "    </tr>\n",
       "    <tr>\n",
       "      <th>7</th>\n",
       "      <td>Montpellier</td>\n",
       "      <td>0.988524</td>\n",
       "      <td>0.006803</td>\n",
       "      <td>0.000451</td>\n",
       "    </tr>\n",
       "    <tr>\n",
       "      <th>8</th>\n",
       "      <td>Nantes</td>\n",
       "      <td>0.080365</td>\n",
       "      <td>0.839872</td>\n",
       "      <td>0.029262</td>\n",
       "    </tr>\n",
       "    <tr>\n",
       "      <th>9</th>\n",
       "      <td>Nice</td>\n",
       "      <td>0.938607</td>\n",
       "      <td>0.010715</td>\n",
       "      <td>0.045393</td>\n",
       "    </tr>\n",
       "    <tr>\n",
       "      <th>10</th>\n",
       "      <td>Paris</td>\n",
       "      <td>0.761910</td>\n",
       "      <td>0.000125</td>\n",
       "      <td>0.031534</td>\n",
       "    </tr>\n",
       "    <tr>\n",
       "      <th>11</th>\n",
       "      <td>Rennes</td>\n",
       "      <td>0.388035</td>\n",
       "      <td>0.600053</td>\n",
       "      <td>0.000851</td>\n",
       "    </tr>\n",
       "    <tr>\n",
       "      <th>12</th>\n",
       "      <td>Strasbourg</td>\n",
       "      <td>0.622991</td>\n",
       "      <td>0.358791</td>\n",
       "      <td>0.014184</td>\n",
       "    </tr>\n",
       "    <tr>\n",
       "      <th>13</th>\n",
       "      <td>Toulouse</td>\n",
       "      <td>0.820441</td>\n",
       "      <td>0.000712</td>\n",
       "      <td>0.137137</td>\n",
       "    </tr>\n",
       "    <tr>\n",
       "      <th>14</th>\n",
       "      <td>Vichy</td>\n",
       "      <td>0.789703</td>\n",
       "      <td>0.162936</td>\n",
       "      <td>0.009563</td>\n",
       "    </tr>\n",
       "  </tbody>\n",
       "</table>\n",
       "</div>"
      ],
      "text/plain": [
       "             id    COS2_1    COS2_2    COS2_3\n",
       "0      Bordeaux  0.837567  0.059081  0.055215\n",
       "1         Brest  0.247456  0.742418  0.000013\n",
       "2      Clermont  0.676334  0.218363  0.047823\n",
       "3      Grenoble  0.201825  0.736841  0.015087\n",
       "4         Lille  0.949173  0.006525  0.038750\n",
       "5          Lyon  0.067910  0.903071  0.025263\n",
       "6     Marseille  0.959664  0.032439  0.002154\n",
       "7   Montpellier  0.988524  0.006803  0.000451\n",
       "8        Nantes  0.080365  0.839872  0.029262\n",
       "9          Nice  0.938607  0.010715  0.045393\n",
       "10        Paris  0.761910  0.000125  0.031534\n",
       "11       Rennes  0.388035  0.600053  0.000851\n",
       "12   Strasbourg  0.622991  0.358791  0.014184\n",
       "13     Toulouse  0.820441  0.000712  0.137137\n",
       "14        Vichy  0.789703  0.162936  0.009563"
      ]
     },
     "execution_count": 88,
     "metadata": {},
     "output_type": "execute_result"
    }
   ],
   "source": [
    "cos2 = principalComponents**2 \n",
    "p=3 #Numero de composants\n",
    "for j in range(p): \n",
    "    cos2[:,j] = cos2[:,j]/di\n",
    "\n",
    "cos2 = pd.DataFrame({'id':dataOriginal['City'],'COS2_1':cos2[:,0],'COS2_2':cos2[:,1],'COS2_3':cos2[:,2]})\n",
    "cos2"
   ]
  },
  {
   "cell_type": "markdown",
   "metadata": {},
   "source": [
    "<font color=\"blue\"> Bordeaux a une tres forte influence sur le axe factoriel 1, avec Clermont er Lile</font>"
   ]
  },
  {
   "cell_type": "markdown",
   "metadata": {},
   "source": [
    "# 8.2. Contribution de individu 1 sur l'axe factoriel\n"
   ]
  },
  {
   "cell_type": "code",
   "execution_count": 96,
   "metadata": {},
   "outputs": [
    {
     "data": {
      "text/plain": [
       "array([ 1.1368e+01,  4.0130e+00,  3.7100e-01,  1.7200e-01,  4.0000e-02,\n",
       "        1.3000e-02,  1.2000e-02,  5.0000e-03,  3.0000e-03,  2.0000e-03,\n",
       "        1.0000e-03,  0.0000e+00,  0.0000e+00,  0.0000e+00,  0.0000e+00,\n",
       "       -0.0000e+00])"
      ]
     },
     "execution_count": 96,
     "metadata": {},
     "output_type": "execute_result"
    }
   ],
   "source": [
    "eig_vals.round(3)"
   ]
  },
  {
   "cell_type": "code",
   "execution_count": 100,
   "metadata": {},
   "outputs": [
    {
     "data": {
      "text/plain": [
       "array([[ 3.25 ,  0.863, -0.835],\n",
       "       [-2.92 ,  5.057,  0.021],\n",
       "       [-1.634, -0.928, -0.434],\n",
       "       [-1.282, -2.449, -0.35 ],\n",
       "       [-4.799,  0.398,  0.97 ],\n",
       "       [-0.631, -2.3  , -0.385],\n",
       "       [ 5.34 , -0.982,  0.253],\n",
       "       [ 4.565, -0.379, -0.098],\n",
       "       [-0.569,  1.838, -0.343],\n",
       "       [ 6.439,  0.688,  1.416],\n",
       "       [-1.556, -0.02 ,  0.317],\n",
       "       [-1.876,  2.332, -0.088],\n",
       "       [-4.205, -3.191,  0.634],\n",
       "       [ 2.051,  0.06 , -0.838],\n",
       "       [-2.176, -0.988, -0.239]])"
      ]
     },
     "execution_count": 100,
     "metadata": {},
     "output_type": "execute_result"
    }
   ],
   "source": [
    "principalComponents.round(3)"
   ]
  },
  {
   "cell_type": "code",
   "execution_count": 101,
   "metadata": {},
   "outputs": [
    {
     "data": {
      "text/plain": [
       "-0.061942035433569874"
      ]
     },
     "execution_count": 101,
     "metadata": {},
     "output_type": "execute_result"
    }
   ],
   "source": [
    "# Contribution individu 1 sur l'axe 1 - Numerique\n",
    "n = 15 #Numero de donnes\n",
    "ctr1_1 = (-3.25**2)/(n*eig_vals[0])\n",
    "ctr1_1"
   ]
  },
  {
   "cell_type": "code",
   "execution_count": 98,
   "metadata": {},
   "outputs": [
    {
     "data": {
      "text/plain": [
       "0.061960217925776676"
      ]
     },
     "execution_count": 98,
     "metadata": {},
     "output_type": "execute_result"
    }
   ],
   "source": [
    "# Generique\n",
    "ctr1_1 = (principalComponentsDf['PC1'][0]**2)/(principalComponentsDf.shape[0]*eig_vals[0])\n",
    "ctr1_1"
   ]
  },
  {
   "cell_type": "markdown",
   "metadata": {},
   "source": [
    "# 8.3. Evaluez la qualite de representation de chaque individu sur les deux premieres axes"
   ]
  },
  {
   "cell_type": "code",
   "execution_count": 102,
   "metadata": {},
   "outputs": [
    {
     "data": {
      "text/html": [
       "<div>\n",
       "<style scoped>\n",
       "    .dataframe tbody tr th:only-of-type {\n",
       "        vertical-align: middle;\n",
       "    }\n",
       "\n",
       "    .dataframe tbody tr th {\n",
       "        vertical-align: top;\n",
       "    }\n",
       "\n",
       "    .dataframe thead th {\n",
       "        text-align: right;\n",
       "    }\n",
       "</style>\n",
       "<table border=\"1\" class=\"dataframe\">\n",
       "  <thead>\n",
       "    <tr style=\"text-align: right;\">\n",
       "      <th></th>\n",
       "      <th>Cont_PC1</th>\n",
       "      <th>Cont_PC2</th>\n",
       "      <th>Cont_PC3</th>\n",
       "      <th>City</th>\n",
       "    </tr>\n",
       "  </thead>\n",
       "  <tbody>\n",
       "    <tr>\n",
       "      <th>0</th>\n",
       "      <td>0.061960</td>\n",
       "      <td>0.012382</td>\n",
       "      <td>0.125190</td>\n",
       "      <td>Bordeaux</td>\n",
       "    </tr>\n",
       "    <tr>\n",
       "      <th>1</th>\n",
       "      <td>0.049987</td>\n",
       "      <td>0.424873</td>\n",
       "      <td>0.000079</td>\n",
       "      <td>Brest</td>\n",
       "    </tr>\n",
       "    <tr>\n",
       "      <th>2</th>\n",
       "      <td>0.015652</td>\n",
       "      <td>0.014317</td>\n",
       "      <td>0.033921</td>\n",
       "      <td>Clermont</td>\n",
       "    </tr>\n",
       "    <tr>\n",
       "      <th>3</th>\n",
       "      <td>0.009633</td>\n",
       "      <td>0.099630</td>\n",
       "      <td>0.022069</td>\n",
       "      <td>Grenoble</td>\n",
       "    </tr>\n",
       "    <tr>\n",
       "      <th>4</th>\n",
       "      <td>0.135034</td>\n",
       "      <td>0.002630</td>\n",
       "      <td>0.168964</td>\n",
       "      <td>Lille</td>\n",
       "    </tr>\n",
       "    <tr>\n",
       "      <th>5</th>\n",
       "      <td>0.002334</td>\n",
       "      <td>0.087915</td>\n",
       "      <td>0.026608</td>\n",
       "      <td>Lyon</td>\n",
       "    </tr>\n",
       "    <tr>\n",
       "      <th>6</th>\n",
       "      <td>0.167245</td>\n",
       "      <td>0.016016</td>\n",
       "      <td>0.011506</td>\n",
       "      <td>Marseille</td>\n",
       "    </tr>\n",
       "    <tr>\n",
       "      <th>7</th>\n",
       "      <td>0.122186</td>\n",
       "      <td>0.002382</td>\n",
       "      <td>0.001710</td>\n",
       "      <td>Montpellier</td>\n",
       "    </tr>\n",
       "    <tr>\n",
       "      <th>8</th>\n",
       "      <td>0.001897</td>\n",
       "      <td>0.056152</td>\n",
       "      <td>0.021165</td>\n",
       "      <td>Nantes</td>\n",
       "    </tr>\n",
       "    <tr>\n",
       "      <th>9</th>\n",
       "      <td>0.243138</td>\n",
       "      <td>0.007863</td>\n",
       "      <td>0.360396</td>\n",
       "      <td>Nice</td>\n",
       "    </tr>\n",
       "    <tr>\n",
       "      <th>10</th>\n",
       "      <td>0.014194</td>\n",
       "      <td>0.000007</td>\n",
       "      <td>0.018005</td>\n",
       "      <td>Paris</td>\n",
       "    </tr>\n",
       "    <tr>\n",
       "      <th>11</th>\n",
       "      <td>0.020629</td>\n",
       "      <td>0.090373</td>\n",
       "      <td>0.001386</td>\n",
       "      <td>Rennes</td>\n",
       "    </tr>\n",
       "    <tr>\n",
       "      <th>12</th>\n",
       "      <td>0.103684</td>\n",
       "      <td>0.169169</td>\n",
       "      <td>0.072351</td>\n",
       "      <td>Strasbourg</td>\n",
       "    </tr>\n",
       "    <tr>\n",
       "      <th>13</th>\n",
       "      <td>0.024662</td>\n",
       "      <td>0.000061</td>\n",
       "      <td>0.126344</td>\n",
       "      <td>Toulouse</td>\n",
       "    </tr>\n",
       "    <tr>\n",
       "      <th>14</th>\n",
       "      <td>0.027766</td>\n",
       "      <td>0.016230</td>\n",
       "      <td>0.010305</td>\n",
       "      <td>Vichy</td>\n",
       "    </tr>\n",
       "  </tbody>\n",
       "</table>\n",
       "</div>"
      ],
      "text/plain": [
       "    Cont_PC1  Cont_PC2  Cont_PC3         City\n",
       "0   0.061960  0.012382  0.125190     Bordeaux\n",
       "1   0.049987  0.424873  0.000079        Brest\n",
       "2   0.015652  0.014317  0.033921     Clermont\n",
       "3   0.009633  0.099630  0.022069     Grenoble\n",
       "4   0.135034  0.002630  0.168964        Lille\n",
       "5   0.002334  0.087915  0.026608         Lyon\n",
       "6   0.167245  0.016016  0.011506    Marseille\n",
       "7   0.122186  0.002382  0.001710  Montpellier\n",
       "8   0.001897  0.056152  0.021165       Nantes\n",
       "9   0.243138  0.007863  0.360396         Nice\n",
       "10  0.014194  0.000007  0.018005        Paris\n",
       "11  0.020629  0.090373  0.001386       Rennes\n",
       "12  0.103684  0.169169  0.072351   Strasbourg\n",
       "13  0.024662  0.000061  0.126344     Toulouse\n",
       "14  0.027766  0.016230  0.010305        Vichy"
      ]
     },
     "execution_count": 102,
     "metadata": {},
     "output_type": "execute_result"
    }
   ],
   "source": [
    "# Iterative\n",
    "\n",
    "contributionsIndividusDf = pd.DataFrame(data = [], columns=['Cont_PC1', 'Cont_PC2'])\n",
    "contributionsIndividusDf['Cont_PC1'] =  (principalComponentsDf['PC1']**2)/(principalComponentsDf.shape[0]*eig_vals[0])\n",
    "contributionsIndividusDf['Cont_PC2'] =  (principalComponentsDf['PC2']**2)/(principalComponentsDf.shape[0]*eig_vals[1])\n",
    "contributionsIndividusDf['Cont_PC3'] =  (principalComponentsDf['PC3']**2)/(principalComponentsDf.shape[0]*eig_vals[2])\n",
    "contributionsIndividusDf['City'] = dataOriginal['City']\n",
    "contributionsIndividusDf"
   ]
  },
  {
   "cell_type": "markdown",
   "metadata": {},
   "source": [
    "- Nice, Marseille sont les individuos que plus determinantes pour l'axe factoriel 1\n",
    "- Brest, Strasbourg, le plus contribuant a l'axes 2\n",
    "- Lille et Bourdeaux les plus contribuant a l'axes 3"
   ]
  },
  {
   "cell_type": "markdown",
   "metadata": {},
   "source": [
    "# 9. Circle de correlation de variables"
   ]
  },
  {
   "cell_type": "code",
   "execution_count": 112,
   "metadata": {},
   "outputs": [],
   "source": [
    "# pca.components_\n",
    "\n",
    "#racine carrée des valeurs propres \n",
    "sqrt_eigval = np.sqrt(abs(eig_vals))"
   ]
  },
  {
   "cell_type": "code",
   "execution_count": 138,
   "metadata": {},
   "outputs": [
    {
     "name": "stdout",
     "output_type": "stream",
     "text": [
      "0\n"
     ]
    },
    {
     "ename": "ValueError",
     "evalue": "could not broadcast input array from shape (16) into shape (15)",
     "output_type": "error",
     "traceback": [
      "\u001b[1;31m---------------------------------------------------------------------------\u001b[0m",
      "\u001b[1;31mValueError\u001b[0m                                Traceback (most recent call last)",
      "\u001b[1;32m<ipython-input-138-727d6c3ecbe1>\u001b[0m in \u001b[0;36m<module>\u001b[1;34m\u001b[0m\n\u001b[0;32m      4\u001b[0m \u001b[1;32mfor\u001b[0m \u001b[0mk\u001b[0m \u001b[1;32min\u001b[0m \u001b[0mrange\u001b[0m\u001b[1;33m(\u001b[0m\u001b[1;36m0\u001b[0m\u001b[1;33m,\u001b[0m\u001b[0mp\u001b[0m\u001b[1;33m)\u001b[0m\u001b[1;33m:\u001b[0m\u001b[1;33m\u001b[0m\u001b[1;33m\u001b[0m\u001b[0m\n\u001b[0;32m      5\u001b[0m     \u001b[0mprint\u001b[0m\u001b[1;33m(\u001b[0m\u001b[0mk\u001b[0m\u001b[1;33m)\u001b[0m\u001b[1;33m\u001b[0m\u001b[1;33m\u001b[0m\u001b[0m\n\u001b[1;32m----> 6\u001b[1;33m     \u001b[0mcorvar\u001b[0m\u001b[1;33m[\u001b[0m\u001b[1;33m:\u001b[0m\u001b[1;33m,\u001b[0m\u001b[0mk\u001b[0m\u001b[1;33m]\u001b[0m \u001b[1;33m=\u001b[0m \u001b[0mpca\u001b[0m\u001b[1;33m.\u001b[0m\u001b[0mcomponents_\u001b[0m\u001b[1;33m[\u001b[0m\u001b[0mk\u001b[0m\u001b[1;33m,\u001b[0m\u001b[1;33m:\u001b[0m\u001b[1;33m]\u001b[0m \u001b[1;33m*\u001b[0m \u001b[0msqrt_eigval\u001b[0m\u001b[1;33m[\u001b[0m\u001b[0mk\u001b[0m\u001b[1;33m]\u001b[0m \u001b[1;31m#afficher la matrice des corrélations variables x facteurs\u001b[0m\u001b[1;33m\u001b[0m\u001b[1;33m\u001b[0m\u001b[0m\n\u001b[0m\u001b[0;32m      7\u001b[0m \u001b[1;33m\u001b[0m\u001b[0m\n\u001b[0;32m      8\u001b[0m \u001b[0mprint\u001b[0m\u001b[1;33m(\u001b[0m\u001b[0mcorvar\u001b[0m\u001b[1;33m)\u001b[0m \u001b[1;31m#Les variables sont maintenant en ligne, les facteurs en colonne\u001b[0m\u001b[1;33m\u001b[0m\u001b[1;33m\u001b[0m\u001b[0m\n",
      "\u001b[1;31mValueError\u001b[0m: could not broadcast input array from shape (16) into shape (15)"
     ]
    }
   ],
   "source": [
    "#corrélation des variables avec les axes \n",
    "p=15\n",
    "corvar = np.zeros((p,p)) \n",
    "for k in range(0,p): \n",
    "    print(k)\n",
    "    corvar[:,k] = pca.components_[k,:] * sqrt_eigval[k] #afficher la matrice des corrélations variables x facteurs \n",
    "\n",
    "print(corvar) #Les variables sont maintenant en ligne, les facteurs en colonne"
   ]
  },
  {
   "cell_type": "code",
   "execution_count": 132,
   "metadata": {},
   "outputs": [
    {
     "data": {
      "text/plain": [
       "array([[ 0.21,  0.25,  0.28,  0.29,  0.27,  0.26,  0.26,  0.27,  0.29,\n",
       "         0.29,  0.26,  0.22, -0.26,  0.07,  0.3 ,  0.05],\n",
       "       [ 0.35,  0.26,  0.12, -0.06, -0.2 , -0.22, -0.24, -0.18, -0.07,\n",
       "         0.11,  0.23,  0.33,  0.13, -0.42,  0.04, -0.49],\n",
       "       [ 0.14,  0.09, -0.21, -0.06,  0.04, -0.08, -0.02, -0.04,  0.  ,\n",
       "         0.13,  0.18,  0.18,  0.5 ,  0.75,  0.04, -0.14],\n",
       "       [ 0.02, -0.04,  0.06,  0.36,  0.36,  0.27,  0.05,  0.03, -0.05,\n",
       "        -0.14, -0.18, -0.05,  0.7 , -0.33,  0.05, -0.02],\n",
       "       [ 0.04, -0.23, -0.48, -0.34, -0.17,  0.19,  0.32,  0.25, -0.01,\n",
       "         0.07,  0.18,  0.41,  0.14, -0.29,  0.05,  0.25],\n",
       "       [-0.23,  0.03,  0.28, -0.22, -0.27, -0.29,  0.03,  0.33,  0.47,\n",
       "         0.39, -0.18, -0.19,  0.33, -0.09,  0.01,  0.02],\n",
       "       [-0.3 , -0.23,  0.22,  0.04,  0.13, -0.07, -0.2 , -0.34, -0.17,\n",
       "         0.36,  0.56, -0.02,  0.12, -0.09, -0.02,  0.38],\n",
       "       [ 0.07,  0.49,  0.15, -0.25, -0.07, -0.08,  0.55, -0.1 , -0.3 ,\n",
       "        -0.17,  0.21, -0.36,  0.14, -0.05,  0.02,  0.15],\n",
       "       [-0.23,  0.15,  0.47, -0.17, -0.02,  0.01, -0.01, -0.02, -0.23,\n",
       "        -0.18, -0.34,  0.63,  0.04,  0.12,  0.  ,  0.24],\n",
       "       [-0.11,  0.29, -0.25,  0.61, -0.35, -0.26, -0.1 ,  0.32, -0.31,\n",
       "         0.09, -0.01,  0.05,  0.01, -0.02, -0.01,  0.25],\n",
       "       [-0.35,  0.57, -0.37, -0.05,  0.13,  0.1 , -0.17, -0.33,  0.45,\n",
       "        -0.08, -0.01,  0.1 , -0.01, -0.11, -0.01,  0.14],\n",
       "       [ 0.19, -0.04,  0.1 , -0.07,  0.13, -0.3 , -0.3 ,  0.34,  0.25,\n",
       "        -0.61,  0.35,  0.  ,  0.07, -0.01,  0.03,  0.26],\n",
       "       [ 0.18, -0.23,  0.11,  0.33, -0.48, -0.04,  0.29, -0.48,  0.37,\n",
       "        -0.21, -0.02,  0.09,  0.07,  0.05,  0.11,  0.18],\n",
       "       [ 0.37,  0.15,  0.08, -0.17, -0.33,  0.54, -0.46,  0.01, -0.06,\n",
       "         0.1 , -0.09, -0.21,  0.07,  0.05,  0.09,  0.33],\n",
       "       [ 0.45,  0.06, -0.02,  0.03,  0.24, -0.2 ,  0.08, -0.08,  0.1 ,\n",
       "         0.22, -0.17,  0.09, -0.02, -0.04, -0.7 ,  0.31]])"
      ]
     },
     "execution_count": 132,
     "metadata": {},
     "output_type": "execute_result"
    }
   ],
   "source": [
    "pca.components_.round(2)\n"
   ]
  },
  {
   "cell_type": "code",
   "execution_count": null,
   "metadata": {},
   "outputs": [],
   "source": []
  },
  {
   "cell_type": "code",
   "execution_count": null,
   "metadata": {},
   "outputs": [],
   "source": []
  }
 ],
 "metadata": {
  "kernelspec": {
   "display_name": "Python 3",
   "language": "python",
   "name": "python3"
  },
  "language_info": {
   "codemirror_mode": {
    "name": "ipython",
    "version": 3
   },
   "file_extension": ".py",
   "mimetype": "text/x-python",
   "name": "python",
   "nbconvert_exporter": "python",
   "pygments_lexer": "ipython3",
   "version": "3.7.6"
  }
 },
 "nbformat": 4,
 "nbformat_minor": 4
}
