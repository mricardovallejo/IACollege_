{
 "cells": [
  {
   "cell_type": "markdown",
   "metadata": {},
   "source": [
    "# Analyse factoriel"
   ]
  },
  {
   "cell_type": "code",
   "execution_count": 74,
   "metadata": {},
   "outputs": [],
   "source": [
    "import pandas as pd\n",
    "import numpy as np\n",
    "import seaborn as sns\n",
    "import matplotlib.pyplot as plt\n",
    "from sklearn.decomposition import PCA"
   ]
  },
  {
   "cell_type": "markdown",
   "metadata": {},
   "source": [
    "## 1. À partir de la feuille Feuil1.xls, téléchargez le contenu de la base de données et affichez son contenue."
   ]
  },
  {
   "cell_type": "code",
   "execution_count": 75,
   "metadata": {},
   "outputs": [],
   "source": [
    "df=pd.read_excel('Autos_Mixtes.xlsx',sheet_name='Feuil1',index_col=0)\n"
   ]
  },
  {
   "cell_type": "markdown",
   "metadata": {},
   "source": [
    "## 2. Identifiez les données quantitatives et les données qualitatives."
   ]
  },
  {
   "cell_type": "code",
   "execution_count": 76,
   "metadata": {},
   "outputs": [
    {
     "name": "stdout",
     "output_type": "stream",
     "text": [
      "<class 'pandas.core.frame.DataFrame'>\n",
      "Index: 10 entries, GOLF         to SANTA_FE    \n",
      "Data columns (total 8 columns):\n",
      " #   Column     Non-Null Count  Dtype \n",
      "---  ------     --------------  ----- \n",
      " 0   puissance  10 non-null     int64 \n",
      " 1   longueur   10 non-null     int64 \n",
      " 2   hauteur    10 non-null     int64 \n",
      " 3   poids      10 non-null     int64 \n",
      " 4   CO2        10 non-null     int64 \n",
      " 5   origine    10 non-null     object\n",
      " 6   carburant  10 non-null     object\n",
      " 7   4X4        10 non-null     object\n",
      "dtypes: int64(5), object(3)\n",
      "memory usage: 720.0+ bytes\n",
      "Nombre d'individus 10\n",
      "Nombre de variables  8\n"
     ]
    }
   ],
   "source": [
    "df.info()\n",
    "\n",
    "N = df.shape[0]\n",
    "K = df.shape[1]\n",
    "print(\"Nombre d'individus\",N)\n",
    "print(\"Nombre de variables \",K)"
   ]
  },
  {
   "cell_type": "code",
   "execution_count": 77,
   "metadata": {},
   "outputs": [
    {
     "data": {
      "text/html": [
       "<div>\n",
       "<style scoped>\n",
       "    .dataframe tbody tr th:only-of-type {\n",
       "        vertical-align: middle;\n",
       "    }\n",
       "\n",
       "    .dataframe tbody tr th {\n",
       "        vertical-align: top;\n",
       "    }\n",
       "\n",
       "    .dataframe thead th {\n",
       "        text-align: right;\n",
       "    }\n",
       "</style>\n",
       "<table border=\"1\" class=\"dataframe\">\n",
       "  <thead>\n",
       "    <tr style=\"text-align: right;\">\n",
       "      <th></th>\n",
       "      <th>puissance</th>\n",
       "      <th>longueur</th>\n",
       "      <th>hauteur</th>\n",
       "      <th>poids</th>\n",
       "      <th>CO2</th>\n",
       "      <th>origine</th>\n",
       "      <th>carburant</th>\n",
       "      <th>4X4</th>\n",
       "    </tr>\n",
       "    <tr>\n",
       "      <th>Modele</th>\n",
       "      <th></th>\n",
       "      <th></th>\n",
       "      <th></th>\n",
       "      <th></th>\n",
       "      <th></th>\n",
       "      <th></th>\n",
       "      <th></th>\n",
       "      <th></th>\n",
       "    </tr>\n",
       "  </thead>\n",
       "  <tbody>\n",
       "    <tr>\n",
       "      <th>GOLF</th>\n",
       "      <td>75</td>\n",
       "      <td>421</td>\n",
       "      <td>149</td>\n",
       "      <td>1217</td>\n",
       "      <td>143</td>\n",
       "      <td>Europe</td>\n",
       "      <td>Diesel</td>\n",
       "      <td>non</td>\n",
       "    </tr>\n",
       "    <tr>\n",
       "      <th>CITRONC4</th>\n",
       "      <td>138</td>\n",
       "      <td>426</td>\n",
       "      <td>146</td>\n",
       "      <td>1381</td>\n",
       "      <td>142</td>\n",
       "      <td>France</td>\n",
       "      <td>Diesel</td>\n",
       "      <td>non</td>\n",
       "    </tr>\n",
       "    <tr>\n",
       "      <th>P607</th>\n",
       "      <td>204</td>\n",
       "      <td>491</td>\n",
       "      <td>145</td>\n",
       "      <td>1723</td>\n",
       "      <td>223</td>\n",
       "      <td>France</td>\n",
       "      <td>Diesel</td>\n",
       "      <td>non</td>\n",
       "    </tr>\n",
       "    <tr>\n",
       "      <th>VELSATIS</th>\n",
       "      <td>150</td>\n",
       "      <td>486</td>\n",
       "      <td>158</td>\n",
       "      <td>1735</td>\n",
       "      <td>188</td>\n",
       "      <td>France</td>\n",
       "      <td>Diesel</td>\n",
       "      <td>non</td>\n",
       "    </tr>\n",
       "    <tr>\n",
       "      <th>CITRONC2</th>\n",
       "      <td>61</td>\n",
       "      <td>367</td>\n",
       "      <td>147</td>\n",
       "      <td>932</td>\n",
       "      <td>141</td>\n",
       "      <td>France</td>\n",
       "      <td>Essence</td>\n",
       "      <td>non</td>\n",
       "    </tr>\n",
       "  </tbody>\n",
       "</table>\n",
       "</div>"
      ],
      "text/plain": [
       "              puissance  longueur  hauteur  poids  CO2 origine carburant  4X4\n",
       "Modele                                                                       \n",
       "GOLF                 75       421      149   1217  143  Europe    Diesel  non\n",
       "CITRONC4            138       426      146   1381  142  France    Diesel  non\n",
       "P607                204       491      145   1723  223  France    Diesel  non\n",
       "VELSATIS            150       486      158   1735  188  France    Diesel  non\n",
       "CITRONC2             61       367      147    932  141  France   Essence  non"
      ]
     },
     "execution_count": 77,
     "metadata": {},
     "output_type": "execute_result"
    }
   ],
   "source": [
    "df.head(5)"
   ]
  },
  {
   "cell_type": "markdown",
   "metadata": {},
   "source": [
    "#### Variables qualitative: Modele, origine,carburant et 4x4\n",
    "#### Variables quantitative: puissance, longuer, hauteur, poids et CO2"
   ]
  },
  {
   "cell_type": "markdown",
   "metadata": {},
   "source": [
    "#### Variable expiquee : Modele"
   ]
  },
  {
   "cell_type": "markdown",
   "metadata": {},
   "source": [
    "## 3. Effectuez la préparation des données quantitatives en vue d’une analyse factorielle."
   ]
  },
  {
   "cell_type": "markdown",
   "metadata": {},
   "source": [
    "#### On va standardiser (centrage et reduction) les donnees quantitative (sauvegardes dans matrice M) et sauvegarder dans matrice X"
   ]
  },
  {
   "cell_type": "code",
   "execution_count": 85,
   "metadata": {},
   "outputs": [
    {
     "name": "stdout",
     "output_type": "stream",
     "text": [
      "5\n"
     ]
    }
   ],
   "source": [
    "M1=df[['puissance', 'longueur', 'hauteur', 'poids', 'CO2']]\n",
    "p1=M1.shape[1]\n",
    "print(p1)"
   ]
  },
  {
   "cell_type": "code",
   "execution_count": 101,
   "metadata": {},
   "outputs": [],
   "source": [
    "from sklearn import preprocessing\n",
    "scaler = preprocessing.StandardScaler()\n",
    "X1std= scaler.fit_transform(M1)"
   ]
  },
  {
   "cell_type": "code",
   "execution_count": 102,
   "metadata": {},
   "outputs": [],
   "source": [
    "#Or:\n",
    "#X1std=(M1.values-np.mean(M1.values,axis=0))/np.std(M1.values,axis=0)\n",
    "#print(X1std.round(3))\n",
    "#dfnew=pd.DataFrame(X1std)\n",
    "#dfnew.to_excel('output.xlsx')"
   ]
  },
  {
   "cell_type": "code",
   "execution_count": 103,
   "metadata": {},
   "outputs": [
    {
     "name": "stdout",
     "output_type": "stream",
     "text": [
      "[[-1.103 -0.614 -0.419 -0.989 -1.127]\n",
      " [-0.304 -0.485 -0.733 -0.411 -1.148]\n",
      " [ 0.532  1.192 -0.838  0.795  0.558]\n",
      " [-0.152  1.063  0.524  0.837 -0.179]\n",
      " [-1.28  -2.007 -0.628 -1.993 -1.169]\n",
      " [ 2.256  1.476 -0.524  1.189  1.99 ]\n",
      " [-0.761 -0.614 -1.047 -1.031 -0.6  ]\n",
      " [ 0.507  0.263  1.466  0.344  0.853]\n",
      " [ 0.773 -0.408  0.105  0.344  0.811]\n",
      " [-0.469  0.134  2.094  0.915  0.011]]\n",
      "          0         1         2         3         4\n",
      "0 -1.102875 -0.614031 -0.418854 -0.988562 -1.126565\n",
      "1 -0.304241 -0.485033 -0.732994 -0.410579 -1.147623\n",
      "2  0.532422  1.191942 -0.837708  0.794727  0.558018\n",
      "3 -0.152121  1.062944  0.523567  0.837018 -0.178987\n",
      "4 -1.280349 -2.007209 -0.628281 -1.992984 -1.168680\n",
      "5  2.256457  1.475737 -0.523567  1.189447  1.989915\n",
      "6 -0.760604 -0.614031 -1.047135 -1.030854 -0.600133\n",
      "7  0.507069  0.263156  1.465989  0.343618  0.852821\n",
      "8  0.773280 -0.407634  0.104713  0.343618  0.810706\n",
      "9 -0.469039  0.134158  2.094270  0.914552  0.010529\n"
     ]
    }
   ],
   "source": [
    "print(X1std.round(3))\n",
    "None\n",
    "X1=pd.DataFrame(X1std.reshape((10,5)))\n",
    "print(X1)"
   ]
  },
  {
   "cell_type": "markdown",
   "metadata": {},
   "source": [
    "### Vérification que les données sont centrées et réduites"
   ]
  },
  {
   "cell_type": "code",
   "execution_count": 104,
   "metadata": {},
   "outputs": [
    {
     "name": "stdout",
     "output_type": "stream",
     "text": [
      "Les moyennes des variables de X \n",
      " [-0. -0.  0.  0. -0.]\n",
      "Les écarts types des variables de X\n",
      " [1. 1. 1. 1. 1.]\n"
     ]
    }
   ],
   "source": [
    "import math\n",
    "Moy =np.mean(X1std.round(3),axis=0)\n",
    "print('Les moyennes des variables de X \\n', Moy.round(3))\n",
    "print('Les écarts types des variables de X\\n', np.std(X1std,axis=0,ddof=0))"
   ]
  },
  {
   "cell_type": "markdown",
   "metadata": {},
   "source": [
    "## 4. Représentez les données qualitatives sous la forme d’un tableau disjonctif (TDC) en vue d’une analyse factorielle."
   ]
  },
  {
   "cell_type": "markdown",
   "metadata": {},
   "source": [
    "### On va sauvegarder les donnees quantitative en matrice M2\n"
   ]
  },
  {
   "cell_type": "code",
   "execution_count": 105,
   "metadata": {},
   "outputs": [
    {
     "name": "stdout",
     "output_type": "stream",
     "text": [
      "             origine carburant  4X4\n",
      "Modele                             \n",
      "GOLF          Europe    Diesel  non\n",
      "CITRONC4      France    Diesel  non\n",
      "P607          France    Diesel  non\n",
      "VELSATIS      France    Diesel  non\n",
      "CITRONC2      France   Essence  non\n",
      "CHRYS300      Autres   Essence  non\n",
      "AUDIA3        Europe   Essence  non\n",
      "OUTLAND       Autres    Diesel  oui\n",
      "PTCRUISER     Autres   Essence  non\n",
      "SANTA_FE      Autres    Diesel  oui\n"
     ]
    }
   ],
   "source": [
    "M2=df[['origine', 'carburant', '4X4']]\n",
    "p2=M2.shape[1]\n",
    "print(M2)"
   ]
  },
  {
   "cell_type": "code",
   "execution_count": 91,
   "metadata": {},
   "outputs": [],
   "source": [
    "#! pip install fanalysis\n"
   ]
  },
  {
   "cell_type": "markdown",
   "metadata": {},
   "source": [
    "### Tableau disjonctif complet (TDC)"
   ]
  },
  {
   "cell_type": "code",
   "execution_count": 106,
   "metadata": {},
   "outputs": [
    {
     "name": "stdout",
     "output_type": "stream",
     "text": [
      "              Autres  Europe  France  Diesel  Essence  non  oui\n",
      "Modele                                                         \n",
      "GOLF               0       1       0       1        0    1    0\n",
      "CITRONC4           0       0       1       1        0    1    0\n",
      "P607               0       0       1       1        0    1    0\n",
      "VELSATIS           0       0       1       1        0    1    0\n",
      "CITRONC2           0       0       1       0        1    1    0\n",
      "CHRYS300           1       0       0       0        1    1    0\n",
      "AUDIA3             0       1       0       0        1    1    0\n",
      "OUTLAND            1       0       0       1        0    0    1\n",
      "PTCRUISER          1       0       0       0        1    1    0\n",
      "SANTA_FE           1       0       0       1        0    0    1\n"
     ]
    }
   ],
   "source": [
    "X2 = pd.get_dummies(M2,prefix='',prefix_sep='')\n",
    "print(X2)"
   ]
  },
  {
   "cell_type": "code",
   "execution_count": 107,
   "metadata": {},
   "outputs": [
    {
     "name": "stdout",
     "output_type": "stream",
     "text": [
      "Nombre  total des modalites 7\n",
      "proportions:  [0.4 0.2 0.4 0.6 0.4 0.8 0.2]\n"
     ]
    }
   ],
   "source": [
    "#nombre total de modalites\n",
    "Modal=X2.shape[1]\n",
    "print('Nombre  total des modalites',Modal)\n",
    "#proportions\n",
    "pk=np.mean(X2.values,axis=0)\n",
    "print('proportions: ',pk)"
   ]
  },
  {
   "cell_type": "markdown",
   "metadata": {},
   "source": [
    "### Standardisation des donnees qualitatives (des indicatrices)"
   ]
  },
  {
   "cell_type": "code",
   "execution_count": 108,
   "metadata": {},
   "outputs": [
    {
     "name": "stdout",
     "output_type": "stream",
     "text": [
      "[[0.    2.236 0.    1.291 0.    1.118 0.   ]\n",
      " [0.    0.    1.581 1.291 0.    1.118 0.   ]\n",
      " [0.    0.    1.581 1.291 0.    1.118 0.   ]\n",
      " [0.    0.    1.581 1.291 0.    1.118 0.   ]\n",
      " [0.    0.    1.581 0.    1.581 1.118 0.   ]\n",
      " [1.581 0.    0.    0.    1.581 1.118 0.   ]\n",
      " [0.    2.236 0.    0.    1.581 1.118 0.   ]\n",
      " [1.581 0.    0.    1.291 0.    0.    2.236]\n",
      " [1.581 0.    0.    0.    1.581 1.118 0.   ]\n",
      " [1.581 0.    0.    1.291 0.    0.    2.236]]\n"
     ]
    }
   ],
   "source": [
    "X2std=X2.values/np.sqrt(pk)\n",
    "print(X2std.round(3))"
   ]
  },
  {
   "cell_type": "markdown",
   "metadata": {},
   "source": [
    "## 5. Représentez une matrice sommaire des données"
   ]
  },
  {
   "cell_type": "code",
   "execution_count": null,
   "metadata": {},
   "outputs": [],
   "source": [
    "### Assamblage de deux matrices X1std et X2std"
   ]
  },
  {
   "cell_type": "code",
   "execution_count": 110,
   "metadata": {},
   "outputs": [
    {
     "name": "stdout",
     "output_type": "stream",
     "text": [
      "[[-1.103 -0.614 -0.419 -0.989 -1.127  0.     2.236  0.     1.291  0.\n",
      "   1.118  0.   ]\n",
      " [-0.304 -0.485 -0.733 -0.411 -1.148  0.     0.     1.581  1.291  0.\n",
      "   1.118  0.   ]\n",
      " [ 0.532  1.192 -0.838  0.795  0.558  0.     0.     1.581  1.291  0.\n",
      "   1.118  0.   ]\n",
      " [-0.152  1.063  0.524  0.837 -0.179  0.     0.     1.581  1.291  0.\n",
      "   1.118  0.   ]\n",
      " [-1.28  -2.007 -0.628 -1.993 -1.169  0.     0.     1.581  0.     1.581\n",
      "   1.118  0.   ]\n",
      " [ 2.256  1.476 -0.524  1.189  1.99   1.581  0.     0.     0.     1.581\n",
      "   1.118  0.   ]\n",
      " [-0.761 -0.614 -1.047 -1.031 -0.6    0.     2.236  0.     0.     1.581\n",
      "   1.118  0.   ]\n",
      " [ 0.507  0.263  1.466  0.344  0.853  1.581  0.     0.     1.291  0.\n",
      "   0.     2.236]\n",
      " [ 0.773 -0.408  0.105  0.344  0.811  1.581  0.     0.     0.     1.581\n",
      "   1.118  0.   ]\n",
      " [-0.469  0.134  2.094  0.915  0.011  1.581  0.     0.     1.291  0.\n",
      "   0.     2.236]]\n"
     ]
    }
   ],
   "source": [
    "X=np.concatenate((X1std,X2std),axis=1)\n",
    "print(X.round(3))"
   ]
  },
  {
   "cell_type": "code",
   "execution_count": 120,
   "metadata": {},
   "outputs": [
    {
     "name": "stdout",
     "output_type": "stream",
     "text": [
      "[['puissance', 'longueur', 'hauteur', 'poids', 'CO2', 'Autres', 'Europe', 'France', 'Diesel', 'Essence', 'non', 'oui']]\n"
     ]
    }
   ],
   "source": [
    "listcol=[list(M1.columns)+list(X2.columns)]\n",
    "print(listcol)"
   ]
  },
  {
   "cell_type": "code",
   "execution_count": 118,
   "metadata": {},
   "outputs": [
    {
     "name": "stdout",
     "output_type": "stream",
     "text": [
      "Dimention de la matrice de donnees preparees 12 12\n"
     ]
    }
   ],
   "source": [
    "p=X.shape[1]\n",
    "print('Dimention de la matrice de donnees preparees',p,p1+Modal)"
   ]
  },
  {
   "cell_type": "code",
   "execution_count": null,
   "metadata": {},
   "outputs": [],
   "source": []
  },
  {
   "cell_type": "markdown",
   "metadata": {},
   "source": [
    "## 6.  Analyse AFDM. Faites une analyse du nombre de facteurs principaux à retenir. Justifiez votre raisonnement et les différentes étapes à réaliser."
   ]
  },
  {
   "cell_type": "code",
   "execution_count": 122,
   "metadata": {},
   "outputs": [],
   "source": [
    "from fanalysis.pca import PCA"
   ]
  },
  {
   "cell_type": "markdown",
   "metadata": {},
   "source": [
    "### Modele"
   ]
  },
  {
   "cell_type": "code",
   "execution_count": 123,
   "metadata": {},
   "outputs": [],
   "source": [
    "afdm=PCA(std_unit=False,row_labels=df.index,col_labels=listcol)"
   ]
  },
  {
   "cell_type": "markdown",
   "metadata": {},
   "source": [
    "### Fit"
   ]
  },
  {
   "cell_type": "code",
   "execution_count": 126,
   "metadata": {},
   "outputs": [],
   "source": [
    "afdm.fit(X)\n",
    "None"
   ]
  },
  {
   "cell_type": "markdown",
   "metadata": {},
   "source": [
    "### Nombre des axes maximal a retenir"
   ]
  },
  {
   "cell_type": "code",
   "execution_count": 128,
   "metadata": {},
   "outputs": [
    {
     "name": "stdout",
     "output_type": "stream",
     "text": [
      "Nombre maximal de facteurs principaux 9\n"
     ]
    }
   ],
   "source": [
    "Fmax=p-p2\n",
    "print('Nombre maximal de facteurs principaux',Fmax )"
   ]
  },
  {
   "cell_type": "markdown",
   "metadata": {},
   "source": [
    "## 7. Déterminez les valeurs propres de l’ensemble des données"
   ]
  },
  {
   "cell_type": "code",
   "execution_count": 131,
   "metadata": {},
   "outputs": [
    {
     "name": "stdout",
     "output_type": "stream",
     "text": [
      "[4.273e+00 2.122e+00 1.439e+00 8.360e-01 1.640e-01 1.140e-01 3.400e-02\n",
      " 1.600e-02 2.000e-03 0.000e+00]\n"
     ]
    }
   ],
   "source": [
    "print(afdm.eig_[0].round(3))"
   ]
  },
  {
   "cell_type": "code",
   "execution_count": 155,
   "metadata": {},
   "outputs": [
    {
     "data": {
      "text/plain": [
       "array([ 1,  2,  3,  4,  5,  6,  7,  8,  9, 10])"
      ]
     },
     "metadata": {},
     "output_type": "display_data"
    }
   ],
   "source": [
    "s=np.arange(1,Fmax+2)\n",
    "display(s)"
   ]
  },
  {
   "cell_type": "code",
   "execution_count": 157,
   "metadata": {},
   "outputs": [
    {
     "data": {
      "text/html": [
       "<div>\n",
       "<style scoped>\n",
       "    .dataframe tbody tr th:only-of-type {\n",
       "        vertical-align: middle;\n",
       "    }\n",
       "\n",
       "    .dataframe tbody tr th {\n",
       "        vertical-align: top;\n",
       "    }\n",
       "\n",
       "    .dataframe thead th {\n",
       "        text-align: right;\n",
       "    }\n",
       "</style>\n",
       "<table border=\"1\" class=\"dataframe\">\n",
       "  <thead>\n",
       "    <tr style=\"text-align: right;\">\n",
       "      <th></th>\n",
       "      <th>Val.P</th>\n",
       "      <th>%</th>\n",
       "      <th>Cumul %</th>\n",
       "    </tr>\n",
       "  </thead>\n",
       "  <tbody>\n",
       "    <tr>\n",
       "      <th>1</th>\n",
       "      <td>4.273136e+00</td>\n",
       "      <td>4.747928e+01</td>\n",
       "      <td>47.479285</td>\n",
       "    </tr>\n",
       "    <tr>\n",
       "      <th>2</th>\n",
       "      <td>2.121887e+00</td>\n",
       "      <td>2.357653e+01</td>\n",
       "      <td>71.055811</td>\n",
       "    </tr>\n",
       "    <tr>\n",
       "      <th>3</th>\n",
       "      <td>1.438718e+00</td>\n",
       "      <td>1.598575e+01</td>\n",
       "      <td>87.041565</td>\n",
       "    </tr>\n",
       "    <tr>\n",
       "      <th>4</th>\n",
       "      <td>8.363671e-01</td>\n",
       "      <td>9.292968e+00</td>\n",
       "      <td>96.334533</td>\n",
       "    </tr>\n",
       "    <tr>\n",
       "      <th>5</th>\n",
       "      <td>1.640301e-01</td>\n",
       "      <td>1.822556e+00</td>\n",
       "      <td>98.157089</td>\n",
       "    </tr>\n",
       "    <tr>\n",
       "      <th>6</th>\n",
       "      <td>1.144703e-01</td>\n",
       "      <td>1.271892e+00</td>\n",
       "      <td>99.428982</td>\n",
       "    </tr>\n",
       "    <tr>\n",
       "      <th>7</th>\n",
       "      <td>3.362515e-02</td>\n",
       "      <td>3.736128e-01</td>\n",
       "      <td>99.802594</td>\n",
       "    </tr>\n",
       "    <tr>\n",
       "      <th>8</th>\n",
       "      <td>1.580522e-02</td>\n",
       "      <td>1.756136e-01</td>\n",
       "      <td>99.978208</td>\n",
       "    </tr>\n",
       "    <tr>\n",
       "      <th>9</th>\n",
       "      <td>1.961281e-03</td>\n",
       "      <td>2.179201e-02</td>\n",
       "      <td>100.000000</td>\n",
       "    </tr>\n",
       "    <tr>\n",
       "      <th>10</th>\n",
       "      <td>1.087369e-32</td>\n",
       "      <td>1.208187e-31</td>\n",
       "      <td>100.000000</td>\n",
       "    </tr>\n",
       "  </tbody>\n",
       "</table>\n",
       "</div>"
      ],
      "text/plain": [
       "           Val.P             %     Cumul %\n",
       "1   4.273136e+00  4.747928e+01   47.479285\n",
       "2   2.121887e+00  2.357653e+01   71.055811\n",
       "3   1.438718e+00  1.598575e+01   87.041565\n",
       "4   8.363671e-01  9.292968e+00   96.334533\n",
       "5   1.640301e-01  1.822556e+00   98.157089\n",
       "6   1.144703e-01  1.271892e+00   99.428982\n",
       "7   3.362515e-02  3.736128e-01   99.802594\n",
       "8   1.580522e-02  1.756136e-01   99.978208\n",
       "9   1.961281e-03  2.179201e-02  100.000000\n",
       "10  1.087369e-32  1.208187e-31  100.000000"
      ]
     },
     "metadata": {},
     "output_type": "display_data"
    }
   ],
   "source": [
    "XX=pd.DataFrame(np.transpose(afdm.eig_),columns=['Val.P','%','Cumul %'])\n",
    "XX.set_index(s,inplace=True)\n",
    "display(XX)"
   ]
  },
  {
   "cell_type": "markdown",
   "metadata": {},
   "source": [
    "### Determination de nombre de facteurs principaux a partir de le Elbow plot"
   ]
  },
  {
   "cell_type": "code",
   "execution_count": 158,
   "metadata": {},
   "outputs": [
    {
     "data": {
      "image/png": "[encoded data removed]",
      "text/plain": [
       "<Figure size 432x432 with 1 Axes>"
      ]
     },
     "metadata": {
      "needs_background": "light"
     },
     "output_type": "display_data"
    }
   ],
   "source": [
    "fix,ax=plt.subplots(figsize=(6,6))\n",
    "ax.plot(range(1,Fmax+1),afdm.eig_[0][:Fmax],\".-\")\n",
    "ax.set_xlabel(\"Nombre de facteurs\")\n",
    "ax.set_ylabel(\"Valuers propres\")\n",
    "plt.title(\"Eboulis des valeurs propres\")\n",
    "plt.show()"
   ]
  },
  {
   "cell_type": "markdown",
   "metadata": {},
   "source": [
    "- A  partir de le table XX et la figure en haut on peut determiner que la rpis grande contribution est de facteurs 1 et 2. \n",
    "Le premier cassure et a N=2. Donc on a choisi le 2 axes facteuriels pour faire la representation. Contribution cumulative deest 71% (varience expliquee)."
   ]
  },
  {
   "cell_type": "markdown",
   "metadata": {},
   "source": [
    "## 8. Déterminez la contribution des variables aux 2 premiers axes factoriels. Commentez les résultats."
   ]
  },
  {
   "cell_type": "markdown",
   "metadata": {},
   "source": [
    "### Representation des individus dans le plan factoriel"
   ]
  },
  {
   "cell_type": "code",
   "execution_count": 160,
   "metadata": {},
   "outputs": [
    {
     "data": {
      "text/html": [
       "<div>\n",
       "<style scoped>\n",
       "    .dataframe tbody tr th:only-of-type {\n",
       "        vertical-align: middle;\n",
       "    }\n",
       "\n",
       "    .dataframe tbody tr th {\n",
       "        vertical-align: top;\n",
       "    }\n",
       "\n",
       "    .dataframe thead th {\n",
       "        text-align: right;\n",
       "    }\n",
       "</style>\n",
       "<table border=\"1\" class=\"dataframe\">\n",
       "  <thead>\n",
       "    <tr style=\"text-align: right;\">\n",
       "      <th></th>\n",
       "      <th>Coord.F1</th>\n",
       "      <th>Coord.F2</th>\n",
       "    </tr>\n",
       "    <tr>\n",
       "      <th>Modele</th>\n",
       "      <th></th>\n",
       "      <th></th>\n",
       "    </tr>\n",
       "  </thead>\n",
       "  <tbody>\n",
       "    <tr>\n",
       "      <th>GOLF</th>\n",
       "      <td>2.317805</td>\n",
       "      <td>-0.687271</td>\n",
       "    </tr>\n",
       "    <tr>\n",
       "      <th>CITRONC4</th>\n",
       "      <td>1.445368</td>\n",
       "      <td>-0.122286</td>\n",
       "    </tr>\n",
       "    <tr>\n",
       "      <th>P607</th>\n",
       "      <td>-0.779731</td>\n",
       "      <td>1.018563</td>\n",
       "    </tr>\n",
       "    <tr>\n",
       "      <th>VELSATIS</th>\n",
       "      <td>-0.541063</td>\n",
       "      <td>-0.160059</td>\n",
       "    </tr>\n",
       "    <tr>\n",
       "      <th>CITRONC2</th>\n",
       "      <td>3.275864</td>\n",
       "      <td>0.025117</td>\n",
       "    </tr>\n",
       "    <tr>\n",
       "      <th>CHRYS300</th>\n",
       "      <td>-2.957705</td>\n",
       "      <td>2.628112</td>\n",
       "    </tr>\n",
       "    <tr>\n",
       "      <th>AUDIA3</th>\n",
       "      <td>2.316133</td>\n",
       "      <td>0.795341</td>\n",
       "    </tr>\n",
       "    <tr>\n",
       "      <th>OUTLAND</th>\n",
       "      <td>-2.255919</td>\n",
       "      <td>-1.840426</td>\n",
       "    </tr>\n",
       "    <tr>\n",
       "      <th>PTCRUISER</th>\n",
       "      <td>-0.931809</td>\n",
       "      <td>1.090852</td>\n",
       "    </tr>\n",
       "    <tr>\n",
       "      <th>SANTA_FE</th>\n",
       "      <td>-1.888943</td>\n",
       "      <td>-2.747943</td>\n",
       "    </tr>\n",
       "  </tbody>\n",
       "</table>\n",
       "</div>"
      ],
      "text/plain": [
       "              Coord.F1  Coord.F2\n",
       "Modele                          \n",
       "GOLF          2.317805 -0.687271\n",
       "CITRONC4      1.445368 -0.122286\n",
       "P607         -0.779731  1.018563\n",
       "VELSATIS     -0.541063 -0.160059\n",
       "CITRONC2      3.275864  0.025117\n",
       "CHRYS300     -2.957705  2.628112\n",
       "AUDIA3        2.316133  0.795341\n",
       "OUTLAND      -2.255919 -1.840426\n",
       "PTCRUISER    -0.931809  1.090852\n",
       "SANTA_FE     -1.888943 -2.747943"
      ]
     },
     "metadata": {},
     "output_type": "display_data"
    }
   ],
   "source": [
    "XXX=pd.DataFrame(afdm.row_coord_[:,:2],index=df.index,columns=['Coord.F1','Coord.F2'])\n",
    "display(XXX)"
   ]
  },
  {
   "cell_type": "markdown",
   "metadata": {},
   "source": [
    "-"
   ]
  },
  {
   "cell_type": "markdown",
   "metadata": {},
   "source": [
    "## 9. Représentez graphiquement les variables et les individus sur le même graphique."
   ]
  },
  {
   "cell_type": "code",
   "execution_count": 168,
   "metadata": {},
   "outputs": [
    {
     "data": {
      "image/png": "[encoded data removed]",
      "text/plain": [
       "<Figure size 432x432 with 1 Axes>"
      ]
     },
     "metadata": {
      "needs_background": "light"
     },
     "output_type": "display_data"
    }
   ],
   "source": [
    "fix,ax=plt.subplots(figsize=(6,6))\n",
    "ax.axis([-4,+4,-4,+4])\n",
    "ax.plot([-4,+4],[0,0],linestyle='--')\n",
    "ax.plot([0,0],[-4,+4],linestyle='--')\n",
    "ax.set_xlabel(\"Dim.1\")\n",
    "ax.set_ylabel(\"Dim.2\")\n",
    "plt.title('Representation des individus')\n",
    "for i in range(df.shape[0]):\n",
    "    ax.text(afdm.row_coord_[i,0],afdm.row_coord_[i,1],df.index[i])\n",
    "plt.show()    "
   ]
  },
  {
   "cell_type": "markdown",
   "metadata": {},
   "source": [
    "### Coordonnees des variables-modalites"
   ]
  },
  {
   "cell_type": "code",
   "execution_count": 171,
   "metadata": {},
   "outputs": [
    {
     "name": "stdout",
     "output_type": "stream",
     "text": [
      "                 F1        F2\n",
      "puissance -0.819345  0.539186\n",
      "longueur  -0.796182  0.244889\n",
      "hauteur   -0.578377 -0.763585\n",
      "poids     -0.929516  0.061131\n",
      "CO2       -0.890662  0.378984\n",
      "Autres    -0.614538 -0.094369\n",
      "Europe     0.501259  0.016589\n",
      "France     0.260095  0.082639\n",
      "Diesel    -0.106325 -0.402313\n",
      "Essence    0.130221  0.492730\n",
      "non        0.224177  0.352170\n",
      "oui       -0.448355 -0.704340\n"
     ]
    }
   ],
   "source": [
    "print(pd.DataFrame(afdm.col_coord_[:,:2],columns=['F1','F2'],index=listcol))"
   ]
  },
  {
   "cell_type": "markdown",
   "metadata": {},
   "source": [
    "### Carre des correlations des variables quantitatives: r2"
   ]
  },
  {
   "cell_type": "code",
   "execution_count": 176,
   "metadata": {},
   "outputs": [
    {
     "name": "stdout",
     "output_type": "stream",
     "text": [
      "[0.67132603 0.6339052  0.33451975 0.86400031 0.79327801]\n"
     ]
    }
   ],
   "source": [
    "corr2F1=(np.corrcoef(afdm.row_coord_[:,0],X1.values,rowvar=False)**2)[0,1:]\n",
    "print(corr2F1)"
   ]
  },
  {
   "cell_type": "code",
   "execution_count": 177,
   "metadata": {},
   "outputs": [
    {
     "name": "stdout",
     "output_type": "stream",
     "text": [
      "[0.29072151 0.05997081 0.583062   0.00373703 0.14362903]\n"
     ]
    }
   ],
   "source": [
    "corr2F2=(np.corrcoef(afdm.row_coord_[:,1],X1.values,rowvar=False)**2)[0,1:]\n",
    "print(corr2F2)"
   ]
  },
  {
   "cell_type": "markdown",
   "metadata": {},
   "source": [
    "### Carre des correlations des variables qualitatives: eta2"
   ]
  },
  {
   "cell_type": "code",
   "execution_count": 178,
   "metadata": {},
   "outputs": [
    {
     "name": "stdout",
     "output_type": "stream",
     "text": [
      "[ 2.31780488  1.44536838 -0.77973114 -0.54106289  3.27586403 -2.95770457\n",
      "  2.31613266 -2.25591897 -0.93180905 -1.88894333]\n"
     ]
    }
   ],
   "source": [
    "print(afdm.row_coord_[:,0])"
   ]
  },
  {
   "cell_type": "code",
   "execution_count": 225,
   "metadata": {},
   "outputs": [
    {
     "name": "stdout",
     "output_type": "stream",
     "text": [
      "-----ETA2  Pour l'axe 1------\n",
      "-----V1------\n",
      "0.6965665387607467\n",
      "0.028262312028001453\n",
      "0.2512774715903162\n",
      "-----V2------\n",
      "0.6965665387607467\n",
      "0.028262312028001453\n",
      "0.2512774715903162\n"
     ]
    }
   ],
   "source": [
    "# dataframe temporaire pour l'axe 1:\n",
    "temp=df.copy()\n",
    "temp['F1']=afdm.row_coord_[:,0]\n",
    "#print(df.info())\n",
    "\n",
    "print(\"-----ETA2  Pour l'axe 1------\")\n",
    "########################Variant1##########################\n",
    "print('-----V1------')\n",
    "#effectif par groupe de origine\n",
    "n_g = pd.pivot_table(temp,values='F1',index='origine',aggfunc='count')\n",
    "#moyennes conditionnelles pour le 1er facteur\n",
    "m_1 = pd.pivot_table(temp,values='F1',index='origine',aggfunc='mean')\n",
    "#carre du rapport de correlation pour origine:\n",
    "eta_origineF1=np.sum((n_g.F1/n)*(m_1.F1**2))/afdm.eig_[0][0]\n",
    "print(eta_origineF1)\n",
    "\n",
    "\n",
    "#effectif par groupe de carburant\n",
    "n_g = pd.pivot_table(temp,values='F1',index='carburant',aggfunc='count')\n",
    "#moyennes conditionnelles pour le 1er facteur\n",
    "m_1 = pd.pivot_table(temp,values='F1',index='carburant',aggfunc='mean')\n",
    "#carre du rapport de correlation pour carburant:\n",
    "eta_carburantF1=np.sum((n_g.F1/n)*(m_1.F1**2))/afdm.eig_[0][0]\n",
    "print(eta_carburantF1)\n",
    "\n",
    "#effectif par groupe de 4X4\n",
    "n_g = pd.pivot_table(temp,values='F1',index='4X4',aggfunc='count')\n",
    "#moyennes conditionnelles pour le 1er facteur\n",
    "m_1 = pd.pivot_table(temp,values='F1',index='4X4',aggfunc='mean')\n",
    "#carre du rapport de correlation pour 4X4:\n",
    "eta_4X4F1=np.sum((n_g.F1/n)*(m_1.F1**2))/afdm.eig_[0][0]\n",
    "print(eta_4X4F1)\n",
    "\n",
    "########################Variant2##########################\n",
    "print('-----V2------')\n",
    "#carre du rapport de correlation pour origine:\n",
    "eta_origineF1=np.sum((pd.pivot_table(temp,values='F1',index='origine').values[:,0]**2)*pk[0:3])/afdm.eig_[0][0]\n",
    "print(eta_origineF1)\n",
    "\n",
    "\n",
    "#carre du rapport de correlation pour carburant:\n",
    "eta_carburantF1=np.sum((pd.pivot_table(temp,values='F1',index='carburant').values[:,0]**2)*pk[3:5])/afdm.eig_[0][0]\n",
    "print(eta_carburantF1)\n",
    "\n",
    "#carre du rapport de correlation pour 4x4:\n",
    "eta_4X4F1=np.sum((pd.pivot_table(temp,values='F1',index='4X4').values[:,0]**2)*pk[5:])/afdm.eig_[0][0]\n",
    "print(eta_4X4F1)"
   ]
  },
  {
   "cell_type": "code",
   "execution_count": 229,
   "metadata": {},
   "outputs": [
    {
     "name": "stdout",
     "output_type": "stream",
     "text": [
      "-----ETA2 Pour l'axe 2------\n",
      "0.0160099676029385\n",
      "0.4046388988769231\n",
      "0.6201180649628443\n"
     ]
    }
   ],
   "source": [
    "# dataframe temporaire pour l'axe 2:\n",
    "temp=df.copy()\n",
    "temp['F2']=afdm.row_coord_[:,1]\n",
    "\n",
    "print(\"-----ETA2 Pour l'axe 2------\")\n",
    "#carre du rapport de correlation pour origine:\n",
    "eta_origineF2=np.sum((pd.pivot_table(temp,values='F2',index='origine').values[:,0]**2)*pk[0:3])/afdm.eig_[0][1]\n",
    "print(eta_origineF2)\n",
    "\n",
    "\n",
    "#carre du rapport de correlation pour carburant:\n",
    "eta_carburantF2=np.sum((pd.pivot_table(temp,values='F2',index='carburant').values[:,0]**2)*pk[3:5])/afdm.eig_[0][1]\n",
    "print(eta_carburantF2)\n",
    "\n",
    "#carre du rapport de correlation pour 4x4:\n",
    "eta_4X4F2=np.sum((pd.pivot_table(temp,values='F2',index='4X4').values[:,0]**2)*pk[5:])/afdm.eig_[0][1]\n",
    "print(eta_4X4F2)"
   ]
  },
  {
   "cell_type": "code",
   "execution_count": 232,
   "metadata": {},
   "outputs": [
    {
     "data": {
      "text/html": [
       "<div>\n",
       "<style scoped>\n",
       "    .dataframe tbody tr th:only-of-type {\n",
       "        vertical-align: middle;\n",
       "    }\n",
       "\n",
       "    .dataframe tbody tr th {\n",
       "        vertical-align: top;\n",
       "    }\n",
       "\n",
       "    .dataframe thead th {\n",
       "        text-align: right;\n",
       "    }\n",
       "</style>\n",
       "<table border=\"1\" class=\"dataframe\">\n",
       "  <thead>\n",
       "    <tr style=\"text-align: right;\">\n",
       "      <th></th>\n",
       "      <th>F1</th>\n",
       "      <th>F2</th>\n",
       "    </tr>\n",
       "    <tr>\n",
       "      <th>origine</th>\n",
       "      <th></th>\n",
       "      <th></th>\n",
       "    </tr>\n",
       "  </thead>\n",
       "  <tbody>\n",
       "    <tr>\n",
       "      <th>Autres</th>\n",
       "      <td>-2.008594</td>\n",
       "      <td>-0.217351</td>\n",
       "    </tr>\n",
       "    <tr>\n",
       "      <th>Europe</th>\n",
       "      <td>2.316969</td>\n",
       "      <td>0.054035</td>\n",
       "    </tr>\n",
       "    <tr>\n",
       "      <th>France</th>\n",
       "      <td>0.850110</td>\n",
       "      <td>0.190334</td>\n",
       "    </tr>\n",
       "  </tbody>\n",
       "</table>\n",
       "</div>"
      ],
      "text/plain": [
       "               F1        F2\n",
       "origine                    \n",
       "Autres  -2.008594 -0.217351\n",
       "Europe   2.316969  0.054035\n",
       "France   0.850110  0.190334"
      ]
     },
     "execution_count": 232,
     "metadata": {},
     "output_type": "execute_result"
    }
   ],
   "source": [
    "#Moyennes conditionnelles\n",
    "DD=df.copy()\n",
    "DD['F1']=afdm.row_coord_[:,0]\n",
    "DD['F2']=afdm.row_coord_[:,1]\n",
    "pd.pivot_table(DD,values=['F1','F2'],index='origine')"
   ]
  },
  {
   "cell_type": "code",
   "execution_count": null,
   "metadata": {},
   "outputs": [],
   "source": []
  }
 ],
 "metadata": {
  "kernelspec": {
   "display_name": "Python 3",
   "language": "python",
   "name": "python3"
  },
  "language_info": {
   "codemirror_mode": {
    "name": "ipython",
    "version": 3
   },
   "file_extension": ".py",
   "mimetype": "text/x-python",
   "name": "python",
   "nbconvert_exporter": "python",
   "pygments_lexer": "ipython3",
   "version": "3.7.6"
  }
 },
 "nbformat": 4,
 "nbformat_minor": 4
}
