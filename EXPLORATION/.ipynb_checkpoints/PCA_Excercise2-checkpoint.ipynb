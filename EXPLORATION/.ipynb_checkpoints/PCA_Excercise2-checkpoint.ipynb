{
 "cells": [
  {
   "cell_type": "markdown",
   "metadata": {},
   "source": [
    "# Analysis PCA - Excercise Temperature de France"
   ]
  },
  {
   "cell_type": "markdown",
   "metadata": {},
   "source": [
    "# Author: Ricardo Vallejo R."
   ]
  },
  {
   "cell_type": "markdown",
   "metadata": {},
   "source": [
    "# 1. Load Data"
   ]
  },
  {
   "cell_type": "code",
   "execution_count": 1,
   "metadata": {},
   "outputs": [
    {
     "data": {
      "text/html": [
       "<div>\n",
       "<style scoped>\n",
       "    .dataframe tbody tr th:only-of-type {\n",
       "        vertical-align: middle;\n",
       "    }\n",
       "\n",
       "    .dataframe tbody tr th {\n",
       "        vertical-align: top;\n",
       "    }\n",
       "\n",
       "    .dataframe thead th {\n",
       "        text-align: right;\n",
       "    }\n",
       "</style>\n",
       "<table border=\"1\" class=\"dataframe\">\n",
       "  <thead>\n",
       "    <tr style=\"text-align: right;\">\n",
       "      <th></th>\n",
       "      <th>City</th>\n",
       "      <th>Janv</th>\n",
       "      <th>Fevrier</th>\n",
       "      <th>Mars</th>\n",
       "      <th>Avril</th>\n",
       "      <th>Mai</th>\n",
       "      <th>Juin</th>\n",
       "      <th>juil</th>\n",
       "      <th>Aout</th>\n",
       "      <th>Sept</th>\n",
       "      <th>Octo</th>\n",
       "      <th>Nove</th>\n",
       "      <th>Dece</th>\n",
       "      <th>Lati</th>\n",
       "      <th>Long</th>\n",
       "      <th>Moye</th>\n",
       "      <th>Ampl</th>\n",
       "      <th>Region</th>\n",
       "    </tr>\n",
       "  </thead>\n",
       "  <tbody>\n",
       "    <tr>\n",
       "      <th>0</th>\n",
       "      <td>Bordeaux</td>\n",
       "      <td>5.6</td>\n",
       "      <td>6.6</td>\n",
       "      <td>10.3</td>\n",
       "      <td>12.8</td>\n",
       "      <td>15.8</td>\n",
       "      <td>19.3</td>\n",
       "      <td>20.9</td>\n",
       "      <td>21.0</td>\n",
       "      <td>18.6</td>\n",
       "      <td>13.8</td>\n",
       "      <td>9.1</td>\n",
       "      <td>6.2</td>\n",
       "      <td>44.50</td>\n",
       "      <td>-0.34</td>\n",
       "      <td>13.33</td>\n",
       "      <td>15.4</td>\n",
       "      <td>SO</td>\n",
       "    </tr>\n",
       "    <tr>\n",
       "      <th>1</th>\n",
       "      <td>Brest</td>\n",
       "      <td>6.1</td>\n",
       "      <td>5.8</td>\n",
       "      <td>7.8</td>\n",
       "      <td>9.2</td>\n",
       "      <td>11.6</td>\n",
       "      <td>14.4</td>\n",
       "      <td>15.6</td>\n",
       "      <td>16.0</td>\n",
       "      <td>14.7</td>\n",
       "      <td>12.0</td>\n",
       "      <td>9.0</td>\n",
       "      <td>7.0</td>\n",
       "      <td>48.24</td>\n",
       "      <td>-4.29</td>\n",
       "      <td>10.77</td>\n",
       "      <td>10.2</td>\n",
       "      <td>NO</td>\n",
       "    </tr>\n",
       "    <tr>\n",
       "      <th>2</th>\n",
       "      <td>Clermont</td>\n",
       "      <td>2.6</td>\n",
       "      <td>3.7</td>\n",
       "      <td>7.5</td>\n",
       "      <td>10.3</td>\n",
       "      <td>13.8</td>\n",
       "      <td>17.3</td>\n",
       "      <td>19.4</td>\n",
       "      <td>19.1</td>\n",
       "      <td>16.2</td>\n",
       "      <td>11.2</td>\n",
       "      <td>6.6</td>\n",
       "      <td>3.6</td>\n",
       "      <td>45.47</td>\n",
       "      <td>3.05</td>\n",
       "      <td>10.94</td>\n",
       "      <td>16.8</td>\n",
       "      <td>SE</td>\n",
       "    </tr>\n",
       "    <tr>\n",
       "      <th>3</th>\n",
       "      <td>Grenoble</td>\n",
       "      <td>1.5</td>\n",
       "      <td>3.2</td>\n",
       "      <td>7.7</td>\n",
       "      <td>10.6</td>\n",
       "      <td>14.5</td>\n",
       "      <td>17.8</td>\n",
       "      <td>20.1</td>\n",
       "      <td>19.5</td>\n",
       "      <td>16.7</td>\n",
       "      <td>11.4</td>\n",
       "      <td>6.5</td>\n",
       "      <td>2.3</td>\n",
       "      <td>45.10</td>\n",
       "      <td>5.43</td>\n",
       "      <td>10.98</td>\n",
       "      <td>18.6</td>\n",
       "      <td>SE</td>\n",
       "    </tr>\n",
       "    <tr>\n",
       "      <th>4</th>\n",
       "      <td>Lille</td>\n",
       "      <td>2.4</td>\n",
       "      <td>2.9</td>\n",
       "      <td>6.0</td>\n",
       "      <td>8.9</td>\n",
       "      <td>12.4</td>\n",
       "      <td>15.3</td>\n",
       "      <td>17.1</td>\n",
       "      <td>17.1</td>\n",
       "      <td>14.7</td>\n",
       "      <td>10.4</td>\n",
       "      <td>6.1</td>\n",
       "      <td>3.5</td>\n",
       "      <td>50.38</td>\n",
       "      <td>3.04</td>\n",
       "      <td>9.73</td>\n",
       "      <td>14.7</td>\n",
       "      <td>NE</td>\n",
       "    </tr>\n",
       "    <tr>\n",
       "      <th>5</th>\n",
       "      <td>Lyon</td>\n",
       "      <td>2.1</td>\n",
       "      <td>3.3</td>\n",
       "      <td>7.7</td>\n",
       "      <td>10.9</td>\n",
       "      <td>14.9</td>\n",
       "      <td>18.5</td>\n",
       "      <td>20.7</td>\n",
       "      <td>20.1</td>\n",
       "      <td>16.9</td>\n",
       "      <td>11.4</td>\n",
       "      <td>6.7</td>\n",
       "      <td>3.1</td>\n",
       "      <td>45.45</td>\n",
       "      <td>4.51</td>\n",
       "      <td>11.36</td>\n",
       "      <td>18.6</td>\n",
       "      <td>SE</td>\n",
       "    </tr>\n",
       "    <tr>\n",
       "      <th>6</th>\n",
       "      <td>Marseille</td>\n",
       "      <td>5.5</td>\n",
       "      <td>6.6</td>\n",
       "      <td>10.0</td>\n",
       "      <td>13.0</td>\n",
       "      <td>16.8</td>\n",
       "      <td>20.8</td>\n",
       "      <td>23.3</td>\n",
       "      <td>22.8</td>\n",
       "      <td>19.9</td>\n",
       "      <td>15.0</td>\n",
       "      <td>10.2</td>\n",
       "      <td>6.9</td>\n",
       "      <td>43.18</td>\n",
       "      <td>5.24</td>\n",
       "      <td>14.23</td>\n",
       "      <td>17.8</td>\n",
       "      <td>SE</td>\n",
       "    </tr>\n",
       "    <tr>\n",
       "      <th>7</th>\n",
       "      <td>Montpellier</td>\n",
       "      <td>5.6</td>\n",
       "      <td>6.7</td>\n",
       "      <td>9.9</td>\n",
       "      <td>12.8</td>\n",
       "      <td>16.2</td>\n",
       "      <td>20.1</td>\n",
       "      <td>22.7</td>\n",
       "      <td>22.3</td>\n",
       "      <td>19.3</td>\n",
       "      <td>14.6</td>\n",
       "      <td>10.0</td>\n",
       "      <td>6.5</td>\n",
       "      <td>43.36</td>\n",
       "      <td>3.53</td>\n",
       "      <td>13.89</td>\n",
       "      <td>17.1</td>\n",
       "      <td>SE</td>\n",
       "    </tr>\n",
       "    <tr>\n",
       "      <th>8</th>\n",
       "      <td>Nantes</td>\n",
       "      <td>5.0</td>\n",
       "      <td>5.3</td>\n",
       "      <td>8.4</td>\n",
       "      <td>10.8</td>\n",
       "      <td>13.9</td>\n",
       "      <td>17.2</td>\n",
       "      <td>18.8</td>\n",
       "      <td>18.6</td>\n",
       "      <td>16.4</td>\n",
       "      <td>12.2</td>\n",
       "      <td>8.2</td>\n",
       "      <td>5.5</td>\n",
       "      <td>47.13</td>\n",
       "      <td>-1.33</td>\n",
       "      <td>11.69</td>\n",
       "      <td>13.8</td>\n",
       "      <td>NO</td>\n",
       "    </tr>\n",
       "    <tr>\n",
       "      <th>9</th>\n",
       "      <td>Nice</td>\n",
       "      <td>7.5</td>\n",
       "      <td>8.5</td>\n",
       "      <td>10.8</td>\n",
       "      <td>13.3</td>\n",
       "      <td>16.7</td>\n",
       "      <td>20.1</td>\n",
       "      <td>22.7</td>\n",
       "      <td>22.5</td>\n",
       "      <td>20.3</td>\n",
       "      <td>16.0</td>\n",
       "      <td>11.5</td>\n",
       "      <td>8.2</td>\n",
       "      <td>43.42</td>\n",
       "      <td>7.15</td>\n",
       "      <td>14.84</td>\n",
       "      <td>15.2</td>\n",
       "      <td>SE</td>\n",
       "    </tr>\n",
       "    <tr>\n",
       "      <th>10</th>\n",
       "      <td>Paris</td>\n",
       "      <td>3.4</td>\n",
       "      <td>4.1</td>\n",
       "      <td>7.6</td>\n",
       "      <td>10.7</td>\n",
       "      <td>14.3</td>\n",
       "      <td>17.5</td>\n",
       "      <td>19.1</td>\n",
       "      <td>18.7</td>\n",
       "      <td>16.0</td>\n",
       "      <td>11.4</td>\n",
       "      <td>7.1</td>\n",
       "      <td>4.3</td>\n",
       "      <td>48.52</td>\n",
       "      <td>2.20</td>\n",
       "      <td>11.18</td>\n",
       "      <td>15.7</td>\n",
       "      <td>NE</td>\n",
       "    </tr>\n",
       "    <tr>\n",
       "      <th>11</th>\n",
       "      <td>Rennes</td>\n",
       "      <td>4.8</td>\n",
       "      <td>5.3</td>\n",
       "      <td>7.9</td>\n",
       "      <td>10.1</td>\n",
       "      <td>13.1</td>\n",
       "      <td>16.2</td>\n",
       "      <td>17.9</td>\n",
       "      <td>17.8</td>\n",
       "      <td>15.7</td>\n",
       "      <td>11.6</td>\n",
       "      <td>7.8</td>\n",
       "      <td>5.4</td>\n",
       "      <td>48.05</td>\n",
       "      <td>-1.41</td>\n",
       "      <td>11.13</td>\n",
       "      <td>13.1</td>\n",
       "      <td>NO</td>\n",
       "    </tr>\n",
       "    <tr>\n",
       "      <th>12</th>\n",
       "      <td>Strasbourg</td>\n",
       "      <td>0.4</td>\n",
       "      <td>1.5</td>\n",
       "      <td>5.6</td>\n",
       "      <td>9.8</td>\n",
       "      <td>14.0</td>\n",
       "      <td>17.2</td>\n",
       "      <td>19.0</td>\n",
       "      <td>18.3</td>\n",
       "      <td>15.1</td>\n",
       "      <td>9.5</td>\n",
       "      <td>4.9</td>\n",
       "      <td>1.3</td>\n",
       "      <td>48.35</td>\n",
       "      <td>7.45</td>\n",
       "      <td>9.72</td>\n",
       "      <td>18.6</td>\n",
       "      <td>NE</td>\n",
       "    </tr>\n",
       "    <tr>\n",
       "      <th>13</th>\n",
       "      <td>Toulouse</td>\n",
       "      <td>4.7</td>\n",
       "      <td>5.6</td>\n",
       "      <td>9.2</td>\n",
       "      <td>11.6</td>\n",
       "      <td>14.9</td>\n",
       "      <td>18.7</td>\n",
       "      <td>20.9</td>\n",
       "      <td>20.9</td>\n",
       "      <td>18.3</td>\n",
       "      <td>13.3</td>\n",
       "      <td>8.6</td>\n",
       "      <td>5.5</td>\n",
       "      <td>43.36</td>\n",
       "      <td>1.26</td>\n",
       "      <td>12.68</td>\n",
       "      <td>16.2</td>\n",
       "      <td>SO</td>\n",
       "    </tr>\n",
       "    <tr>\n",
       "      <th>14</th>\n",
       "      <td>Vichy</td>\n",
       "      <td>2.4</td>\n",
       "      <td>3.4</td>\n",
       "      <td>7.1</td>\n",
       "      <td>9.9</td>\n",
       "      <td>13.6</td>\n",
       "      <td>17.1</td>\n",
       "      <td>19.3</td>\n",
       "      <td>18.8</td>\n",
       "      <td>16.0</td>\n",
       "      <td>11.0</td>\n",
       "      <td>6.6</td>\n",
       "      <td>3.4</td>\n",
       "      <td>46.08</td>\n",
       "      <td>3.26</td>\n",
       "      <td>10.72</td>\n",
       "      <td>16.9</td>\n",
       "      <td>SE</td>\n",
       "    </tr>\n",
       "  </tbody>\n",
       "</table>\n",
       "</div>"
      ],
      "text/plain": [
       "           City  Janv  Fevrier  Mars  Avril   Mai  Juin  juil  Aout  Sept  \\\n",
       "0      Bordeaux   5.6      6.6  10.3   12.8  15.8  19.3  20.9  21.0  18.6   \n",
       "1         Brest   6.1      5.8   7.8    9.2  11.6  14.4  15.6  16.0  14.7   \n",
       "2      Clermont   2.6      3.7   7.5   10.3  13.8  17.3  19.4  19.1  16.2   \n",
       "3      Grenoble   1.5      3.2   7.7   10.6  14.5  17.8  20.1  19.5  16.7   \n",
       "4         Lille   2.4      2.9   6.0    8.9  12.4  15.3  17.1  17.1  14.7   \n",
       "5          Lyon   2.1      3.3   7.7   10.9  14.9  18.5  20.7  20.1  16.9   \n",
       "6     Marseille   5.5      6.6  10.0   13.0  16.8  20.8  23.3  22.8  19.9   \n",
       "7   Montpellier   5.6      6.7   9.9   12.8  16.2  20.1  22.7  22.3  19.3   \n",
       "8        Nantes   5.0      5.3   8.4   10.8  13.9  17.2  18.8  18.6  16.4   \n",
       "9          Nice   7.5      8.5  10.8   13.3  16.7  20.1  22.7  22.5  20.3   \n",
       "10        Paris   3.4      4.1   7.6   10.7  14.3  17.5  19.1  18.7  16.0   \n",
       "11       Rennes   4.8      5.3   7.9   10.1  13.1  16.2  17.9  17.8  15.7   \n",
       "12   Strasbourg   0.4      1.5   5.6    9.8  14.0  17.2  19.0  18.3  15.1   \n",
       "13     Toulouse   4.7      5.6   9.2   11.6  14.9  18.7  20.9  20.9  18.3   \n",
       "14        Vichy   2.4      3.4   7.1    9.9  13.6  17.1  19.3  18.8  16.0   \n",
       "\n",
       "    Octo  Nove  Dece   Lati  Long   Moye  Ampl Region  \n",
       "0   13.8   9.1   6.2  44.50 -0.34  13.33  15.4     SO  \n",
       "1   12.0   9.0   7.0  48.24 -4.29  10.77  10.2     NO  \n",
       "2   11.2   6.6   3.6  45.47  3.05  10.94  16.8     SE  \n",
       "3   11.4   6.5   2.3  45.10  5.43  10.98  18.6     SE  \n",
       "4   10.4   6.1   3.5  50.38  3.04   9.73  14.7     NE  \n",
       "5   11.4   6.7   3.1  45.45  4.51  11.36  18.6     SE  \n",
       "6   15.0  10.2   6.9  43.18  5.24  14.23  17.8     SE  \n",
       "7   14.6  10.0   6.5  43.36  3.53  13.89  17.1     SE  \n",
       "8   12.2   8.2   5.5  47.13 -1.33  11.69  13.8     NO  \n",
       "9   16.0  11.5   8.2  43.42  7.15  14.84  15.2     SE  \n",
       "10  11.4   7.1   4.3  48.52  2.20  11.18  15.7     NE  \n",
       "11  11.6   7.8   5.4  48.05 -1.41  11.13  13.1     NO  \n",
       "12   9.5   4.9   1.3  48.35  7.45   9.72  18.6     NE  \n",
       "13  13.3   8.6   5.5  43.36  1.26  12.68  16.2     SO  \n",
       "14  11.0   6.6   3.4  46.08  3.26  10.72  16.9     SE  "
      ]
     },
     "execution_count": 1,
     "metadata": {},
     "output_type": "execute_result"
    }
   ],
   "source": [
    "import pandas as pd\n",
    "import matplotlib.pyplot as plt\n",
    "import statistics\n",
    "import numpy as np\n",
    "import scipy.stats\n",
    "import seaborn as sns\n",
    "\n",
    "dataOriginal = pd.read_excel(\"Donnees_Temperat_France.xls\")\n",
    "pd.set_option('display.max_rows', None)\n",
    "n_data = dataOriginal.shape[0]\n",
    "\n",
    "dataOriginal"
   ]
  },
  {
   "cell_type": "code",
   "execution_count": 2,
   "metadata": {},
   "outputs": [
    {
     "data": {
      "text/plain": [
       "15"
      ]
     },
     "execution_count": 2,
     "metadata": {},
     "output_type": "execute_result"
    }
   ],
   "source": [
    "n_data"
   ]
  },
  {
   "cell_type": "code",
   "execution_count": 3,
   "metadata": {},
   "outputs": [
    {
     "name": "stdout",
     "output_type": "stream",
     "text": [
      "<class 'pandas.core.frame.DataFrame'>\n",
      "RangeIndex: 15 entries, 0 to 14\n",
      "Data columns (total 18 columns):\n",
      " #   Column   Non-Null Count  Dtype  \n",
      "---  ------   --------------  -----  \n",
      " 0   City     15 non-null     object \n",
      " 1   Janv     15 non-null     float64\n",
      " 2   Fevrier  15 non-null     float64\n",
      " 3   Mars     15 non-null     float64\n",
      " 4   Avril    15 non-null     float64\n",
      " 5   Mai      15 non-null     float64\n",
      " 6   Juin     15 non-null     float64\n",
      " 7   juil     15 non-null     float64\n",
      " 8   Aout     15 non-null     float64\n",
      " 9   Sept     15 non-null     float64\n",
      " 10  Octo     15 non-null     float64\n",
      " 11  Nove     15 non-null     float64\n",
      " 12  Dece     15 non-null     float64\n",
      " 13  Lati     15 non-null     float64\n",
      " 14  Long     15 non-null     float64\n",
      " 15  Moye     15 non-null     float64\n",
      " 16  Ampl     15 non-null     float64\n",
      " 17  Region   15 non-null     object \n",
      "dtypes: float64(16), object(2)\n",
      "memory usage: 2.2+ KB\n"
     ]
    }
   ],
   "source": [
    "dataOriginal.info()"
   ]
  },
  {
   "cell_type": "markdown",
   "metadata": {},
   "source": [
    "# 2. Standarisation"
   ]
  },
  {
   "cell_type": "code",
   "execution_count": 4,
   "metadata": {},
   "outputs": [
    {
     "data": {
      "text/html": [
       "<div>\n",
       "<style scoped>\n",
       "    .dataframe tbody tr th:only-of-type {\n",
       "        vertical-align: middle;\n",
       "    }\n",
       "\n",
       "    .dataframe tbody tr th {\n",
       "        vertical-align: top;\n",
       "    }\n",
       "\n",
       "    .dataframe thead th {\n",
       "        text-align: right;\n",
       "    }\n",
       "</style>\n",
       "<table border=\"1\" class=\"dataframe\">\n",
       "  <thead>\n",
       "    <tr style=\"text-align: right;\">\n",
       "      <th></th>\n",
       "      <th>Janv</th>\n",
       "      <th>Fevrier</th>\n",
       "      <th>Mars</th>\n",
       "      <th>Avril</th>\n",
       "      <th>Mai</th>\n",
       "      <th>Juin</th>\n",
       "      <th>juil</th>\n",
       "      <th>Aout</th>\n",
       "      <th>Sept</th>\n",
       "      <th>Octo</th>\n",
       "      <th>Nove</th>\n",
       "      <th>Dece</th>\n",
       "      <th>Lati</th>\n",
       "      <th>Long</th>\n",
       "      <th>Moye</th>\n",
       "      <th>Ampl</th>\n",
       "    </tr>\n",
       "  </thead>\n",
       "  <tbody>\n",
       "    <tr>\n",
       "      <th>0</th>\n",
       "      <td>5.6</td>\n",
       "      <td>6.6</td>\n",
       "      <td>10.3</td>\n",
       "      <td>12.8</td>\n",
       "      <td>15.8</td>\n",
       "      <td>19.3</td>\n",
       "      <td>20.9</td>\n",
       "      <td>21.0</td>\n",
       "      <td>18.6</td>\n",
       "      <td>13.8</td>\n",
       "      <td>9.1</td>\n",
       "      <td>6.2</td>\n",
       "      <td>44.50</td>\n",
       "      <td>-0.34</td>\n",
       "      <td>13.33</td>\n",
       "      <td>15.4</td>\n",
       "    </tr>\n",
       "    <tr>\n",
       "      <th>1</th>\n",
       "      <td>6.1</td>\n",
       "      <td>5.8</td>\n",
       "      <td>7.8</td>\n",
       "      <td>9.2</td>\n",
       "      <td>11.6</td>\n",
       "      <td>14.4</td>\n",
       "      <td>15.6</td>\n",
       "      <td>16.0</td>\n",
       "      <td>14.7</td>\n",
       "      <td>12.0</td>\n",
       "      <td>9.0</td>\n",
       "      <td>7.0</td>\n",
       "      <td>48.24</td>\n",
       "      <td>-4.29</td>\n",
       "      <td>10.77</td>\n",
       "      <td>10.2</td>\n",
       "    </tr>\n",
       "    <tr>\n",
       "      <th>2</th>\n",
       "      <td>2.6</td>\n",
       "      <td>3.7</td>\n",
       "      <td>7.5</td>\n",
       "      <td>10.3</td>\n",
       "      <td>13.8</td>\n",
       "      <td>17.3</td>\n",
       "      <td>19.4</td>\n",
       "      <td>19.1</td>\n",
       "      <td>16.2</td>\n",
       "      <td>11.2</td>\n",
       "      <td>6.6</td>\n",
       "      <td>3.6</td>\n",
       "      <td>45.47</td>\n",
       "      <td>3.05</td>\n",
       "      <td>10.94</td>\n",
       "      <td>16.8</td>\n",
       "    </tr>\n",
       "    <tr>\n",
       "      <th>3</th>\n",
       "      <td>1.5</td>\n",
       "      <td>3.2</td>\n",
       "      <td>7.7</td>\n",
       "      <td>10.6</td>\n",
       "      <td>14.5</td>\n",
       "      <td>17.8</td>\n",
       "      <td>20.1</td>\n",
       "      <td>19.5</td>\n",
       "      <td>16.7</td>\n",
       "      <td>11.4</td>\n",
       "      <td>6.5</td>\n",
       "      <td>2.3</td>\n",
       "      <td>45.10</td>\n",
       "      <td>5.43</td>\n",
       "      <td>10.98</td>\n",
       "      <td>18.6</td>\n",
       "    </tr>\n",
       "    <tr>\n",
       "      <th>4</th>\n",
       "      <td>2.4</td>\n",
       "      <td>2.9</td>\n",
       "      <td>6.0</td>\n",
       "      <td>8.9</td>\n",
       "      <td>12.4</td>\n",
       "      <td>15.3</td>\n",
       "      <td>17.1</td>\n",
       "      <td>17.1</td>\n",
       "      <td>14.7</td>\n",
       "      <td>10.4</td>\n",
       "      <td>6.1</td>\n",
       "      <td>3.5</td>\n",
       "      <td>50.38</td>\n",
       "      <td>3.04</td>\n",
       "      <td>9.73</td>\n",
       "      <td>14.7</td>\n",
       "    </tr>\n",
       "    <tr>\n",
       "      <th>5</th>\n",
       "      <td>2.1</td>\n",
       "      <td>3.3</td>\n",
       "      <td>7.7</td>\n",
       "      <td>10.9</td>\n",
       "      <td>14.9</td>\n",
       "      <td>18.5</td>\n",
       "      <td>20.7</td>\n",
       "      <td>20.1</td>\n",
       "      <td>16.9</td>\n",
       "      <td>11.4</td>\n",
       "      <td>6.7</td>\n",
       "      <td>3.1</td>\n",
       "      <td>45.45</td>\n",
       "      <td>4.51</td>\n",
       "      <td>11.36</td>\n",
       "      <td>18.6</td>\n",
       "    </tr>\n",
       "    <tr>\n",
       "      <th>6</th>\n",
       "      <td>5.5</td>\n",
       "      <td>6.6</td>\n",
       "      <td>10.0</td>\n",
       "      <td>13.0</td>\n",
       "      <td>16.8</td>\n",
       "      <td>20.8</td>\n",
       "      <td>23.3</td>\n",
       "      <td>22.8</td>\n",
       "      <td>19.9</td>\n",
       "      <td>15.0</td>\n",
       "      <td>10.2</td>\n",
       "      <td>6.9</td>\n",
       "      <td>43.18</td>\n",
       "      <td>5.24</td>\n",
       "      <td>14.23</td>\n",
       "      <td>17.8</td>\n",
       "    </tr>\n",
       "    <tr>\n",
       "      <th>7</th>\n",
       "      <td>5.6</td>\n",
       "      <td>6.7</td>\n",
       "      <td>9.9</td>\n",
       "      <td>12.8</td>\n",
       "      <td>16.2</td>\n",
       "      <td>20.1</td>\n",
       "      <td>22.7</td>\n",
       "      <td>22.3</td>\n",
       "      <td>19.3</td>\n",
       "      <td>14.6</td>\n",
       "      <td>10.0</td>\n",
       "      <td>6.5</td>\n",
       "      <td>43.36</td>\n",
       "      <td>3.53</td>\n",
       "      <td>13.89</td>\n",
       "      <td>17.1</td>\n",
       "    </tr>\n",
       "    <tr>\n",
       "      <th>8</th>\n",
       "      <td>5.0</td>\n",
       "      <td>5.3</td>\n",
       "      <td>8.4</td>\n",
       "      <td>10.8</td>\n",
       "      <td>13.9</td>\n",
       "      <td>17.2</td>\n",
       "      <td>18.8</td>\n",
       "      <td>18.6</td>\n",
       "      <td>16.4</td>\n",
       "      <td>12.2</td>\n",
       "      <td>8.2</td>\n",
       "      <td>5.5</td>\n",
       "      <td>47.13</td>\n",
       "      <td>-1.33</td>\n",
       "      <td>11.69</td>\n",
       "      <td>13.8</td>\n",
       "    </tr>\n",
       "    <tr>\n",
       "      <th>9</th>\n",
       "      <td>7.5</td>\n",
       "      <td>8.5</td>\n",
       "      <td>10.8</td>\n",
       "      <td>13.3</td>\n",
       "      <td>16.7</td>\n",
       "      <td>20.1</td>\n",
       "      <td>22.7</td>\n",
       "      <td>22.5</td>\n",
       "      <td>20.3</td>\n",
       "      <td>16.0</td>\n",
       "      <td>11.5</td>\n",
       "      <td>8.2</td>\n",
       "      <td>43.42</td>\n",
       "      <td>7.15</td>\n",
       "      <td>14.84</td>\n",
       "      <td>15.2</td>\n",
       "    </tr>\n",
       "    <tr>\n",
       "      <th>10</th>\n",
       "      <td>3.4</td>\n",
       "      <td>4.1</td>\n",
       "      <td>7.6</td>\n",
       "      <td>10.7</td>\n",
       "      <td>14.3</td>\n",
       "      <td>17.5</td>\n",
       "      <td>19.1</td>\n",
       "      <td>18.7</td>\n",
       "      <td>16.0</td>\n",
       "      <td>11.4</td>\n",
       "      <td>7.1</td>\n",
       "      <td>4.3</td>\n",
       "      <td>48.52</td>\n",
       "      <td>2.20</td>\n",
       "      <td>11.18</td>\n",
       "      <td>15.7</td>\n",
       "    </tr>\n",
       "    <tr>\n",
       "      <th>11</th>\n",
       "      <td>4.8</td>\n",
       "      <td>5.3</td>\n",
       "      <td>7.9</td>\n",
       "      <td>10.1</td>\n",
       "      <td>13.1</td>\n",
       "      <td>16.2</td>\n",
       "      <td>17.9</td>\n",
       "      <td>17.8</td>\n",
       "      <td>15.7</td>\n",
       "      <td>11.6</td>\n",
       "      <td>7.8</td>\n",
       "      <td>5.4</td>\n",
       "      <td>48.05</td>\n",
       "      <td>-1.41</td>\n",
       "      <td>11.13</td>\n",
       "      <td>13.1</td>\n",
       "    </tr>\n",
       "    <tr>\n",
       "      <th>12</th>\n",
       "      <td>0.4</td>\n",
       "      <td>1.5</td>\n",
       "      <td>5.6</td>\n",
       "      <td>9.8</td>\n",
       "      <td>14.0</td>\n",
       "      <td>17.2</td>\n",
       "      <td>19.0</td>\n",
       "      <td>18.3</td>\n",
       "      <td>15.1</td>\n",
       "      <td>9.5</td>\n",
       "      <td>4.9</td>\n",
       "      <td>1.3</td>\n",
       "      <td>48.35</td>\n",
       "      <td>7.45</td>\n",
       "      <td>9.72</td>\n",
       "      <td>18.6</td>\n",
       "    </tr>\n",
       "    <tr>\n",
       "      <th>13</th>\n",
       "      <td>4.7</td>\n",
       "      <td>5.6</td>\n",
       "      <td>9.2</td>\n",
       "      <td>11.6</td>\n",
       "      <td>14.9</td>\n",
       "      <td>18.7</td>\n",
       "      <td>20.9</td>\n",
       "      <td>20.9</td>\n",
       "      <td>18.3</td>\n",
       "      <td>13.3</td>\n",
       "      <td>8.6</td>\n",
       "      <td>5.5</td>\n",
       "      <td>43.36</td>\n",
       "      <td>1.26</td>\n",
       "      <td>12.68</td>\n",
       "      <td>16.2</td>\n",
       "    </tr>\n",
       "    <tr>\n",
       "      <th>14</th>\n",
       "      <td>2.4</td>\n",
       "      <td>3.4</td>\n",
       "      <td>7.1</td>\n",
       "      <td>9.9</td>\n",
       "      <td>13.6</td>\n",
       "      <td>17.1</td>\n",
       "      <td>19.3</td>\n",
       "      <td>18.8</td>\n",
       "      <td>16.0</td>\n",
       "      <td>11.0</td>\n",
       "      <td>6.6</td>\n",
       "      <td>3.4</td>\n",
       "      <td>46.08</td>\n",
       "      <td>3.26</td>\n",
       "      <td>10.72</td>\n",
       "      <td>16.9</td>\n",
       "    </tr>\n",
       "  </tbody>\n",
       "</table>\n",
       "</div>"
      ],
      "text/plain": [
       "    Janv  Fevrier  Mars  Avril   Mai  Juin  juil  Aout  Sept  Octo  Nove  \\\n",
       "0    5.6      6.6  10.3   12.8  15.8  19.3  20.9  21.0  18.6  13.8   9.1   \n",
       "1    6.1      5.8   7.8    9.2  11.6  14.4  15.6  16.0  14.7  12.0   9.0   \n",
       "2    2.6      3.7   7.5   10.3  13.8  17.3  19.4  19.1  16.2  11.2   6.6   \n",
       "3    1.5      3.2   7.7   10.6  14.5  17.8  20.1  19.5  16.7  11.4   6.5   \n",
       "4    2.4      2.9   6.0    8.9  12.4  15.3  17.1  17.1  14.7  10.4   6.1   \n",
       "5    2.1      3.3   7.7   10.9  14.9  18.5  20.7  20.1  16.9  11.4   6.7   \n",
       "6    5.5      6.6  10.0   13.0  16.8  20.8  23.3  22.8  19.9  15.0  10.2   \n",
       "7    5.6      6.7   9.9   12.8  16.2  20.1  22.7  22.3  19.3  14.6  10.0   \n",
       "8    5.0      5.3   8.4   10.8  13.9  17.2  18.8  18.6  16.4  12.2   8.2   \n",
       "9    7.5      8.5  10.8   13.3  16.7  20.1  22.7  22.5  20.3  16.0  11.5   \n",
       "10   3.4      4.1   7.6   10.7  14.3  17.5  19.1  18.7  16.0  11.4   7.1   \n",
       "11   4.8      5.3   7.9   10.1  13.1  16.2  17.9  17.8  15.7  11.6   7.8   \n",
       "12   0.4      1.5   5.6    9.8  14.0  17.2  19.0  18.3  15.1   9.5   4.9   \n",
       "13   4.7      5.6   9.2   11.6  14.9  18.7  20.9  20.9  18.3  13.3   8.6   \n",
       "14   2.4      3.4   7.1    9.9  13.6  17.1  19.3  18.8  16.0  11.0   6.6   \n",
       "\n",
       "    Dece   Lati  Long   Moye  Ampl  \n",
       "0    6.2  44.50 -0.34  13.33  15.4  \n",
       "1    7.0  48.24 -4.29  10.77  10.2  \n",
       "2    3.6  45.47  3.05  10.94  16.8  \n",
       "3    2.3  45.10  5.43  10.98  18.6  \n",
       "4    3.5  50.38  3.04   9.73  14.7  \n",
       "5    3.1  45.45  4.51  11.36  18.6  \n",
       "6    6.9  43.18  5.24  14.23  17.8  \n",
       "7    6.5  43.36  3.53  13.89  17.1  \n",
       "8    5.5  47.13 -1.33  11.69  13.8  \n",
       "9    8.2  43.42  7.15  14.84  15.2  \n",
       "10   4.3  48.52  2.20  11.18  15.7  \n",
       "11   5.4  48.05 -1.41  11.13  13.1  \n",
       "12   1.3  48.35  7.45   9.72  18.6  \n",
       "13   5.5  43.36  1.26  12.68  16.2  \n",
       "14   3.4  46.08  3.26  10.72  16.9  "
      ]
     },
     "execution_count": 4,
     "metadata": {},
     "output_type": "execute_result"
    }
   ],
   "source": [
    "\n",
    "dataOriginal_X = dataOriginal.drop(['Region'], axis = 1)\n",
    "dataOriginal_X = dataOriginal_X.drop(['City'], axis = 1)\n",
    "dataOriginal_X"
   ]
  },
  {
   "cell_type": "code",
   "execution_count": 5,
   "metadata": {},
   "outputs": [],
   "source": [
    "from sklearn.preprocessing import StandardScaler\n",
    "\n",
    "\n",
    "scaler = StandardScaler()\n",
    "scaler.fit(dataOriginal_X)\n",
    "dataOriginal_std = scaler.transform(dataOriginal_X)\n",
    "data_standarized = pd.DataFrame(dataOriginal_std)\n",
    "data_standarized = pd.DataFrame(dataOriginal_std, columns=dataOriginal_X.columns)"
   ]
  },
  {
   "cell_type": "code",
   "execution_count": 6,
   "metadata": {},
   "outputs": [
    {
     "data": {
      "text/html": [
       "<div>\n",
       "<style scoped>\n",
       "    .dataframe tbody tr th:only-of-type {\n",
       "        vertical-align: middle;\n",
       "    }\n",
       "\n",
       "    .dataframe tbody tr th {\n",
       "        vertical-align: top;\n",
       "    }\n",
       "\n",
       "    .dataframe thead th {\n",
       "        text-align: right;\n",
       "    }\n",
       "</style>\n",
       "<table border=\"1\" class=\"dataframe\">\n",
       "  <thead>\n",
       "    <tr style=\"text-align: right;\">\n",
       "      <th></th>\n",
       "      <th>Janv</th>\n",
       "      <th>Fevrier</th>\n",
       "      <th>Mars</th>\n",
       "      <th>Avril</th>\n",
       "      <th>Mai</th>\n",
       "      <th>Juin</th>\n",
       "      <th>juil</th>\n",
       "      <th>Aout</th>\n",
       "      <th>Sept</th>\n",
       "      <th>Octo</th>\n",
       "      <th>Nove</th>\n",
       "      <th>Dece</th>\n",
       "      <th>Lati</th>\n",
       "      <th>Long</th>\n",
       "      <th>Moye</th>\n",
       "      <th>Ampl</th>\n",
       "    </tr>\n",
       "  </thead>\n",
       "  <tbody>\n",
       "    <tr>\n",
       "      <th>0</th>\n",
       "      <td>0.838820</td>\n",
       "      <td>0.978733</td>\n",
       "      <td>1.399010</td>\n",
       "      <td>1.331533</td>\n",
       "      <td>0.940209</td>\n",
       "      <td>0.846467</td>\n",
       "      <td>0.518617</td>\n",
       "      <td>0.737401</td>\n",
       "      <td>0.903602</td>\n",
       "      <td>0.837134</td>\n",
       "      <td>0.673327</td>\n",
       "      <td>0.715277</td>\n",
       "      <td>-0.694320</td>\n",
       "      <td>-0.911939</td>\n",
       "      <td>0.980564</td>\n",
       "      <td>-0.228389</td>\n",
       "    </tr>\n",
       "    <tr>\n",
       "      <th>1</th>\n",
       "      <td>1.096654</td>\n",
       "      <td>0.535533</td>\n",
       "      <td>-0.293341</td>\n",
       "      <td>-1.302269</td>\n",
       "      <td>-1.949213</td>\n",
       "      <td>-1.981502</td>\n",
       "      <td>-2.058263</td>\n",
       "      <td>-1.834927</td>\n",
       "      <td>-1.280725</td>\n",
       "      <td>-0.181002</td>\n",
       "      <td>0.615941</td>\n",
       "      <td>1.138100</td>\n",
       "      <td>0.992615</td>\n",
       "      <td>-2.144149</td>\n",
       "      <td>-0.673815</td>\n",
       "      <td>-2.541941</td>\n",
       "    </tr>\n",
       "    <tr>\n",
       "      <th>2</th>\n",
       "      <td>-0.708184</td>\n",
       "      <td>-0.627866</td>\n",
       "      <td>-0.496423</td>\n",
       "      <td>-0.497496</td>\n",
       "      <td>-0.435706</td>\n",
       "      <td>-0.307806</td>\n",
       "      <td>-0.210688</td>\n",
       "      <td>-0.240084</td>\n",
       "      <td>-0.440599</td>\n",
       "      <td>-0.633507</td>\n",
       "      <td>-0.761319</td>\n",
       "      <td>-0.658900</td>\n",
       "      <td>-0.256799</td>\n",
       "      <td>0.145578</td>\n",
       "      <td>-0.563954</td>\n",
       "      <td>0.394490</td>\n",
       "    </tr>\n",
       "    <tr>\n",
       "      <th>3</th>\n",
       "      <td>-1.275419</td>\n",
       "      <td>-0.904866</td>\n",
       "      <td>-0.361035</td>\n",
       "      <td>-0.278012</td>\n",
       "      <td>0.045864</td>\n",
       "      <td>-0.019238</td>\n",
       "      <td>0.129654</td>\n",
       "      <td>-0.034298</td>\n",
       "      <td>-0.160557</td>\n",
       "      <td>-0.520381</td>\n",
       "      <td>-0.818704</td>\n",
       "      <td>-1.345989</td>\n",
       "      <td>-0.423688</td>\n",
       "      <td>0.888023</td>\n",
       "      <td>-0.538104</td>\n",
       "      <td>1.195335</td>\n",
       "    </tr>\n",
       "    <tr>\n",
       "      <th>4</th>\n",
       "      <td>-0.811318</td>\n",
       "      <td>-1.071066</td>\n",
       "      <td>-1.511834</td>\n",
       "      <td>-1.521752</td>\n",
       "      <td>-1.398847</td>\n",
       "      <td>-1.462079</td>\n",
       "      <td>-1.328957</td>\n",
       "      <td>-1.269015</td>\n",
       "      <td>-1.280725</td>\n",
       "      <td>-1.086012</td>\n",
       "      <td>-1.048248</td>\n",
       "      <td>-0.711753</td>\n",
       "      <td>1.957867</td>\n",
       "      <td>0.142458</td>\n",
       "      <td>-1.345906</td>\n",
       "      <td>-0.539829</td>\n",
       "    </tr>\n",
       "    <tr>\n",
       "      <th>5</th>\n",
       "      <td>-0.966018</td>\n",
       "      <td>-0.849466</td>\n",
       "      <td>-0.361035</td>\n",
       "      <td>-0.058529</td>\n",
       "      <td>0.321047</td>\n",
       "      <td>0.384758</td>\n",
       "      <td>0.421377</td>\n",
       "      <td>0.274382</td>\n",
       "      <td>-0.048541</td>\n",
       "      <td>-0.520381</td>\n",
       "      <td>-0.703933</td>\n",
       "      <td>-0.923165</td>\n",
       "      <td>-0.265820</td>\n",
       "      <td>0.601027</td>\n",
       "      <td>-0.292532</td>\n",
       "      <td>1.195335</td>\n",
       "    </tr>\n",
       "    <tr>\n",
       "      <th>6</th>\n",
       "      <td>0.787253</td>\n",
       "      <td>0.978733</td>\n",
       "      <td>1.195928</td>\n",
       "      <td>1.477855</td>\n",
       "      <td>1.628166</td>\n",
       "      <td>1.712172</td>\n",
       "      <td>1.685507</td>\n",
       "      <td>1.663438</td>\n",
       "      <td>1.631711</td>\n",
       "      <td>1.515891</td>\n",
       "      <td>1.304571</td>\n",
       "      <td>1.085247</td>\n",
       "      <td>-1.289708</td>\n",
       "      <td>0.828752</td>\n",
       "      <td>1.562182</td>\n",
       "      <td>0.839404</td>\n",
       "    </tr>\n",
       "    <tr>\n",
       "      <th>7</th>\n",
       "      <td>0.838820</td>\n",
       "      <td>1.034133</td>\n",
       "      <td>1.128234</td>\n",
       "      <td>1.331533</td>\n",
       "      <td>1.215392</td>\n",
       "      <td>1.308176</td>\n",
       "      <td>1.393784</td>\n",
       "      <td>1.406206</td>\n",
       "      <td>1.295660</td>\n",
       "      <td>1.289639</td>\n",
       "      <td>1.189799</td>\n",
       "      <td>0.873836</td>\n",
       "      <td>-1.208519</td>\n",
       "      <td>0.295314</td>\n",
       "      <td>1.342460</td>\n",
       "      <td>0.527964</td>\n",
       "    </tr>\n",
       "    <tr>\n",
       "      <th>8</th>\n",
       "      <td>0.529419</td>\n",
       "      <td>0.258533</td>\n",
       "      <td>0.112823</td>\n",
       "      <td>-0.131690</td>\n",
       "      <td>-0.366911</td>\n",
       "      <td>-0.365520</td>\n",
       "      <td>-0.502411</td>\n",
       "      <td>-0.497317</td>\n",
       "      <td>-0.328582</td>\n",
       "      <td>-0.067876</td>\n",
       "      <td>0.156855</td>\n",
       "      <td>0.345306</td>\n",
       "      <td>0.491948</td>\n",
       "      <td>-1.220771</td>\n",
       "      <td>-0.079272</td>\n",
       "      <td>-0.940251</td>\n",
       "    </tr>\n",
       "    <tr>\n",
       "      <th>9</th>\n",
       "      <td>1.818589</td>\n",
       "      <td>2.031333</td>\n",
       "      <td>1.737481</td>\n",
       "      <td>1.697339</td>\n",
       "      <td>1.559371</td>\n",
       "      <td>1.308176</td>\n",
       "      <td>1.393784</td>\n",
       "      <td>1.509099</td>\n",
       "      <td>1.855744</td>\n",
       "      <td>2.081523</td>\n",
       "      <td>2.050587</td>\n",
       "      <td>1.772336</td>\n",
       "      <td>-1.181456</td>\n",
       "      <td>1.424580</td>\n",
       "      <td>1.956389</td>\n",
       "      <td>-0.317372</td>\n",
       "    </tr>\n",
       "    <tr>\n",
       "      <th>10</th>\n",
       "      <td>-0.295650</td>\n",
       "      <td>-0.406267</td>\n",
       "      <td>-0.428729</td>\n",
       "      <td>-0.204851</td>\n",
       "      <td>-0.091728</td>\n",
       "      <td>-0.192379</td>\n",
       "      <td>-0.356550</td>\n",
       "      <td>-0.445870</td>\n",
       "      <td>-0.552616</td>\n",
       "      <td>-0.520381</td>\n",
       "      <td>-0.474389</td>\n",
       "      <td>-0.288929</td>\n",
       "      <td>1.118910</td>\n",
       "      <td>-0.119582</td>\n",
       "      <td>-0.408856</td>\n",
       "      <td>-0.094915</td>\n",
       "    </tr>\n",
       "    <tr>\n",
       "      <th>11</th>\n",
       "      <td>0.426286</td>\n",
       "      <td>0.258533</td>\n",
       "      <td>-0.225647</td>\n",
       "      <td>-0.643818</td>\n",
       "      <td>-0.917277</td>\n",
       "      <td>-0.942656</td>\n",
       "      <td>-0.939994</td>\n",
       "      <td>-0.908889</td>\n",
       "      <td>-0.720641</td>\n",
       "      <td>-0.407254</td>\n",
       "      <td>-0.072689</td>\n",
       "      <td>0.292453</td>\n",
       "      <td>0.906916</td>\n",
       "      <td>-1.245727</td>\n",
       "      <td>-0.441168</td>\n",
       "      <td>-1.251691</td>\n",
       "    </tr>\n",
       "    <tr>\n",
       "      <th>12</th>\n",
       "      <td>-1.842654</td>\n",
       "      <td>-1.846666</td>\n",
       "      <td>-1.782610</td>\n",
       "      <td>-0.863302</td>\n",
       "      <td>-0.298115</td>\n",
       "      <td>-0.365520</td>\n",
       "      <td>-0.405170</td>\n",
       "      <td>-0.651656</td>\n",
       "      <td>-1.056691</td>\n",
       "      <td>-1.595080</td>\n",
       "      <td>-1.736878</td>\n",
       "      <td>-1.874518</td>\n",
       "      <td>1.042231</td>\n",
       "      <td>1.518165</td>\n",
       "      <td>-1.352369</td>\n",
       "      <td>1.195335</td>\n",
       "    </tr>\n",
       "    <tr>\n",
       "      <th>13</th>\n",
       "      <td>0.374719</td>\n",
       "      <td>0.424733</td>\n",
       "      <td>0.654376</td>\n",
       "      <td>0.453599</td>\n",
       "      <td>0.321047</td>\n",
       "      <td>0.500185</td>\n",
       "      <td>0.518617</td>\n",
       "      <td>0.685954</td>\n",
       "      <td>0.735577</td>\n",
       "      <td>0.554319</td>\n",
       "      <td>0.386398</td>\n",
       "      <td>0.345306</td>\n",
       "      <td>-1.208519</td>\n",
       "      <td>-0.412816</td>\n",
       "      <td>0.560507</td>\n",
       "      <td>0.127542</td>\n",
       "    </tr>\n",
       "    <tr>\n",
       "      <th>14</th>\n",
       "      <td>-0.811318</td>\n",
       "      <td>-0.794066</td>\n",
       "      <td>-0.767199</td>\n",
       "      <td>-0.790140</td>\n",
       "      <td>-0.573298</td>\n",
       "      <td>-0.423233</td>\n",
       "      <td>-0.259309</td>\n",
       "      <td>-0.394424</td>\n",
       "      <td>-0.552616</td>\n",
       "      <td>-0.746633</td>\n",
       "      <td>-0.761319</td>\n",
       "      <td>-0.764606</td>\n",
       "      <td>0.018343</td>\n",
       "      <td>0.211087</td>\n",
       "      <td>-0.706127</td>\n",
       "      <td>0.438982</td>\n",
       "    </tr>\n",
       "  </tbody>\n",
       "</table>\n",
       "</div>"
      ],
      "text/plain": [
       "        Janv   Fevrier      Mars     Avril       Mai      Juin      juil  \\\n",
       "0   0.838820  0.978733  1.399010  1.331533  0.940209  0.846467  0.518617   \n",
       "1   1.096654  0.535533 -0.293341 -1.302269 -1.949213 -1.981502 -2.058263   \n",
       "2  -0.708184 -0.627866 -0.496423 -0.497496 -0.435706 -0.307806 -0.210688   \n",
       "3  -1.275419 -0.904866 -0.361035 -0.278012  0.045864 -0.019238  0.129654   \n",
       "4  -0.811318 -1.071066 -1.511834 -1.521752 -1.398847 -1.462079 -1.328957   \n",
       "5  -0.966018 -0.849466 -0.361035 -0.058529  0.321047  0.384758  0.421377   \n",
       "6   0.787253  0.978733  1.195928  1.477855  1.628166  1.712172  1.685507   \n",
       "7   0.838820  1.034133  1.128234  1.331533  1.215392  1.308176  1.393784   \n",
       "8   0.529419  0.258533  0.112823 -0.131690 -0.366911 -0.365520 -0.502411   \n",
       "9   1.818589  2.031333  1.737481  1.697339  1.559371  1.308176  1.393784   \n",
       "10 -0.295650 -0.406267 -0.428729 -0.204851 -0.091728 -0.192379 -0.356550   \n",
       "11  0.426286  0.258533 -0.225647 -0.643818 -0.917277 -0.942656 -0.939994   \n",
       "12 -1.842654 -1.846666 -1.782610 -0.863302 -0.298115 -0.365520 -0.405170   \n",
       "13  0.374719  0.424733  0.654376  0.453599  0.321047  0.500185  0.518617   \n",
       "14 -0.811318 -0.794066 -0.767199 -0.790140 -0.573298 -0.423233 -0.259309   \n",
       "\n",
       "        Aout      Sept      Octo      Nove      Dece      Lati      Long  \\\n",
       "0   0.737401  0.903602  0.837134  0.673327  0.715277 -0.694320 -0.911939   \n",
       "1  -1.834927 -1.280725 -0.181002  0.615941  1.138100  0.992615 -2.144149   \n",
       "2  -0.240084 -0.440599 -0.633507 -0.761319 -0.658900 -0.256799  0.145578   \n",
       "3  -0.034298 -0.160557 -0.520381 -0.818704 -1.345989 -0.423688  0.888023   \n",
       "4  -1.269015 -1.280725 -1.086012 -1.048248 -0.711753  1.957867  0.142458   \n",
       "5   0.274382 -0.048541 -0.520381 -0.703933 -0.923165 -0.265820  0.601027   \n",
       "6   1.663438  1.631711  1.515891  1.304571  1.085247 -1.289708  0.828752   \n",
       "7   1.406206  1.295660  1.289639  1.189799  0.873836 -1.208519  0.295314   \n",
       "8  -0.497317 -0.328582 -0.067876  0.156855  0.345306  0.491948 -1.220771   \n",
       "9   1.509099  1.855744  2.081523  2.050587  1.772336 -1.181456  1.424580   \n",
       "10 -0.445870 -0.552616 -0.520381 -0.474389 -0.288929  1.118910 -0.119582   \n",
       "11 -0.908889 -0.720641 -0.407254 -0.072689  0.292453  0.906916 -1.245727   \n",
       "12 -0.651656 -1.056691 -1.595080 -1.736878 -1.874518  1.042231  1.518165   \n",
       "13  0.685954  0.735577  0.554319  0.386398  0.345306 -1.208519 -0.412816   \n",
       "14 -0.394424 -0.552616 -0.746633 -0.761319 -0.764606  0.018343  0.211087   \n",
       "\n",
       "        Moye      Ampl  \n",
       "0   0.980564 -0.228389  \n",
       "1  -0.673815 -2.541941  \n",
       "2  -0.563954  0.394490  \n",
       "3  -0.538104  1.195335  \n",
       "4  -1.345906 -0.539829  \n",
       "5  -0.292532  1.195335  \n",
       "6   1.562182  0.839404  \n",
       "7   1.342460  0.527964  \n",
       "8  -0.079272 -0.940251  \n",
       "9   1.956389 -0.317372  \n",
       "10 -0.408856 -0.094915  \n",
       "11 -0.441168 -1.251691  \n",
       "12 -1.352369  1.195335  \n",
       "13  0.560507  0.127542  \n",
       "14 -0.706127  0.438982  "
      ]
     },
     "execution_count": 6,
     "metadata": {},
     "output_type": "execute_result"
    }
   ],
   "source": [
    "data_standarized"
   ]
  },
  {
   "cell_type": "markdown",
   "metadata": {},
   "source": [
    "# 3.  Exploration de desviation et moyenne"
   ]
  },
  {
   "cell_type": "code",
   "execution_count": 7,
   "metadata": {},
   "outputs": [],
   "source": [
    "# Moyenes et ecart-types"
   ]
  },
  {
   "cell_type": "code",
   "execution_count": 8,
   "metadata": {},
   "outputs": [
    {
     "data": {
      "text/plain": [
       "['Janv',\n",
       " 'Fevrier',\n",
       " 'Mars',\n",
       " 'Avril',\n",
       " 'Mai',\n",
       " 'Juin',\n",
       " 'juil',\n",
       " 'Aout',\n",
       " 'Sept',\n",
       " 'Octo',\n",
       " 'Nove',\n",
       " 'Dece',\n",
       " 'Lati',\n",
       " 'Long',\n",
       " 'Moye',\n",
       " 'Ampl']"
      ]
     },
     "execution_count": 8,
     "metadata": {},
     "output_type": "execute_result"
    }
   ],
   "source": [
    "x_labels = ['Janv', 'Fevrier', 'Mars', 'Avril', 'Mai', 'Juin', 'juil', 'Aout','Sept', 'Octo', 'Nove', 'Dece', 'Lati', 'Long', 'Moye', 'Ampl']\n",
    "x_labels"
   ]
  },
  {
   "cell_type": "code",
   "execution_count": 9,
   "metadata": {},
   "outputs": [],
   "source": [
    "labelsTemperatures = ['Janv', 'Fevrier', 'Mars', 'Avril', 'Mai', 'Juin', 'juil', 'Aout','Sept', 'Octo', 'Nove', 'Dece']\n",
    "\n",
    "\n",
    "moyennes = np.mean(data_standarized[labelsTemperatures], axis=0)"
   ]
  },
  {
   "cell_type": "code",
   "execution_count": 10,
   "metadata": {},
   "outputs": [
    {
     "data": {
      "text/plain": [
       "Janv       3.700743e-17\n",
       "Fevrier    1.332268e-16\n",
       "Mars       5.995204e-16\n",
       "Avril     -1.702342e-16\n",
       "Mai       -5.181041e-17\n",
       "Juin       2.960595e-15\n",
       "juil       5.181041e-16\n",
       "Aout       3.367677e-16\n",
       "Sept      -9.843977e-16\n",
       "Octo      -1.110223e-16\n",
       "Nove       3.182639e-16\n",
       "Dece       4.144833e-16\n",
       "dtype: float64"
      ]
     },
     "execution_count": 10,
     "metadata": {},
     "output_type": "execute_result"
    }
   ],
   "source": [
    "moyennes"
   ]
  },
  {
   "cell_type": "code",
   "execution_count": 11,
   "metadata": {},
   "outputs": [
    {
     "data": {
      "text/plain": [
       "Janv       1.0\n",
       "Fevrier    1.0\n",
       "Mars       1.0\n",
       "Avril      1.0\n",
       "Mai        1.0\n",
       "Juin       1.0\n",
       "juil       1.0\n",
       "Aout       1.0\n",
       "Sept       1.0\n",
       "Octo       1.0\n",
       "Nove       1.0\n",
       "Dece       1.0\n",
       "dtype: float64"
      ]
     },
     "execution_count": 11,
     "metadata": {},
     "output_type": "execute_result"
    }
   ],
   "source": [
    "ecarts = np.std(data_standarized[labelsTemperatures], axis=0)\n",
    "ecarts"
   ]
  },
  {
   "cell_type": "markdown",
   "metadata": {},
   "source": [
    "# 4. Correlation "
   ]
  },
  {
   "cell_type": "code",
   "execution_count": 12,
   "metadata": {},
   "outputs": [
    {
     "data": {
      "text/html": [
       "<div>\n",
       "<style scoped>\n",
       "    .dataframe tbody tr th:only-of-type {\n",
       "        vertical-align: middle;\n",
       "    }\n",
       "\n",
       "    .dataframe tbody tr th {\n",
       "        vertical-align: top;\n",
       "    }\n",
       "\n",
       "    .dataframe thead th {\n",
       "        text-align: right;\n",
       "    }\n",
       "</style>\n",
       "<table border=\"1\" class=\"dataframe\">\n",
       "  <thead>\n",
       "    <tr style=\"text-align: right;\">\n",
       "      <th></th>\n",
       "      <th>Janv</th>\n",
       "      <th>Fevrier</th>\n",
       "      <th>Mars</th>\n",
       "      <th>Avril</th>\n",
       "      <th>Mai</th>\n",
       "      <th>Juin</th>\n",
       "      <th>juil</th>\n",
       "      <th>Aout</th>\n",
       "      <th>Sept</th>\n",
       "      <th>Octo</th>\n",
       "      <th>Nove</th>\n",
       "      <th>Dece</th>\n",
       "      <th>Lati</th>\n",
       "      <th>Long</th>\n",
       "      <th>Moye</th>\n",
       "      <th>Ampl</th>\n",
       "    </tr>\n",
       "  </thead>\n",
       "  <tbody>\n",
       "    <tr>\n",
       "      <th>Janv</th>\n",
       "      <td>1.00</td>\n",
       "      <td>0.97</td>\n",
       "      <td>0.84</td>\n",
       "      <td>0.61</td>\n",
       "      <td>0.36</td>\n",
       "      <td>0.34</td>\n",
       "      <td>0.30</td>\n",
       "      <td>0.41</td>\n",
       "      <td>0.60</td>\n",
       "      <td>0.85</td>\n",
       "      <td>0.95</td>\n",
       "      <td>0.99</td>\n",
       "      <td>-0.42</td>\n",
       "      <td>-0.39</td>\n",
       "      <td>0.77</td>\n",
       "      <td>-0.57</td>\n",
       "    </tr>\n",
       "    <tr>\n",
       "      <th>Fevrier</th>\n",
       "      <td>0.97</td>\n",
       "      <td>1.00</td>\n",
       "      <td>0.93</td>\n",
       "      <td>0.76</td>\n",
       "      <td>0.55</td>\n",
       "      <td>0.52</td>\n",
       "      <td>0.49</td>\n",
       "      <td>0.59</td>\n",
       "      <td>0.76</td>\n",
       "      <td>0.94</td>\n",
       "      <td>0.99</td>\n",
       "      <td>0.97</td>\n",
       "      <td>-0.60</td>\n",
       "      <td>-0.22</td>\n",
       "      <td>0.89</td>\n",
       "      <td>-0.38</td>\n",
       "    </tr>\n",
       "    <tr>\n",
       "      <th>Mars</th>\n",
       "      <td>0.84</td>\n",
       "      <td>0.93</td>\n",
       "      <td>1.00</td>\n",
       "      <td>0.92</td>\n",
       "      <td>0.77</td>\n",
       "      <td>0.76</td>\n",
       "      <td>0.72</td>\n",
       "      <td>0.80</td>\n",
       "      <td>0.91</td>\n",
       "      <td>0.97</td>\n",
       "      <td>0.93</td>\n",
       "      <td>0.83</td>\n",
       "      <td>-0.81</td>\n",
       "      <td>-0.04</td>\n",
       "      <td>0.97</td>\n",
       "      <td>-0.06</td>\n",
       "    </tr>\n",
       "    <tr>\n",
       "      <th>Avril</th>\n",
       "      <td>0.61</td>\n",
       "      <td>0.76</td>\n",
       "      <td>0.92</td>\n",
       "      <td>1.00</td>\n",
       "      <td>0.95</td>\n",
       "      <td>0.94</td>\n",
       "      <td>0.91</td>\n",
       "      <td>0.95</td>\n",
       "      <td>0.98</td>\n",
       "      <td>0.91</td>\n",
       "      <td>0.78</td>\n",
       "      <td>0.62</td>\n",
       "      <td>-0.85</td>\n",
       "      <td>0.29</td>\n",
       "      <td>0.96</td>\n",
       "      <td>0.28</td>\n",
       "    </tr>\n",
       "    <tr>\n",
       "      <th>Mai</th>\n",
       "      <td>0.36</td>\n",
       "      <td>0.55</td>\n",
       "      <td>0.77</td>\n",
       "      <td>0.95</td>\n",
       "      <td>1.00</td>\n",
       "      <td>0.99</td>\n",
       "      <td>0.98</td>\n",
       "      <td>0.98</td>\n",
       "      <td>0.94</td>\n",
       "      <td>0.77</td>\n",
       "      <td>0.59</td>\n",
       "      <td>0.38</td>\n",
       "      <td>-0.84</td>\n",
       "      <td>0.54</td>\n",
       "      <td>0.86</td>\n",
       "      <td>0.55</td>\n",
       "    </tr>\n",
       "    <tr>\n",
       "      <th>Juin</th>\n",
       "      <td>0.34</td>\n",
       "      <td>0.52</td>\n",
       "      <td>0.76</td>\n",
       "      <td>0.94</td>\n",
       "      <td>0.99</td>\n",
       "      <td>1.00</td>\n",
       "      <td>0.99</td>\n",
       "      <td>0.99</td>\n",
       "      <td>0.94</td>\n",
       "      <td>0.76</td>\n",
       "      <td>0.57</td>\n",
       "      <td>0.36</td>\n",
       "      <td>-0.87</td>\n",
       "      <td>0.53</td>\n",
       "      <td>0.85</td>\n",
       "      <td>0.58</td>\n",
       "    </tr>\n",
       "    <tr>\n",
       "      <th>juil</th>\n",
       "      <td>0.30</td>\n",
       "      <td>0.49</td>\n",
       "      <td>0.72</td>\n",
       "      <td>0.91</td>\n",
       "      <td>0.98</td>\n",
       "      <td>0.99</td>\n",
       "      <td>1.00</td>\n",
       "      <td>0.99</td>\n",
       "      <td>0.93</td>\n",
       "      <td>0.74</td>\n",
       "      <td>0.55</td>\n",
       "      <td>0.32</td>\n",
       "      <td>-0.88</td>\n",
       "      <td>0.59</td>\n",
       "      <td>0.83</td>\n",
       "      <td>0.62</td>\n",
       "    </tr>\n",
       "    <tr>\n",
       "      <th>Aout</th>\n",
       "      <td>0.41</td>\n",
       "      <td>0.59</td>\n",
       "      <td>0.80</td>\n",
       "      <td>0.95</td>\n",
       "      <td>0.98</td>\n",
       "      <td>0.99</td>\n",
       "      <td>0.99</td>\n",
       "      <td>1.00</td>\n",
       "      <td>0.97</td>\n",
       "      <td>0.81</td>\n",
       "      <td>0.64</td>\n",
       "      <td>0.43</td>\n",
       "      <td>-0.90</td>\n",
       "      <td>0.50</td>\n",
       "      <td>0.89</td>\n",
       "      <td>0.52</td>\n",
       "    </tr>\n",
       "    <tr>\n",
       "      <th>Sept</th>\n",
       "      <td>0.60</td>\n",
       "      <td>0.76</td>\n",
       "      <td>0.91</td>\n",
       "      <td>0.98</td>\n",
       "      <td>0.94</td>\n",
       "      <td>0.94</td>\n",
       "      <td>0.93</td>\n",
       "      <td>0.97</td>\n",
       "      <td>1.00</td>\n",
       "      <td>0.93</td>\n",
       "      <td>0.80</td>\n",
       "      <td>0.62</td>\n",
       "      <td>-0.90</td>\n",
       "      <td>0.35</td>\n",
       "      <td>0.97</td>\n",
       "      <td>0.31</td>\n",
       "    </tr>\n",
       "    <tr>\n",
       "      <th>Octo</th>\n",
       "      <td>0.85</td>\n",
       "      <td>0.94</td>\n",
       "      <td>0.97</td>\n",
       "      <td>0.91</td>\n",
       "      <td>0.77</td>\n",
       "      <td>0.76</td>\n",
       "      <td>0.74</td>\n",
       "      <td>0.81</td>\n",
       "      <td>0.93</td>\n",
       "      <td>1.00</td>\n",
       "      <td>0.96</td>\n",
       "      <td>0.87</td>\n",
       "      <td>-0.78</td>\n",
       "      <td>0.07</td>\n",
       "      <td>0.98</td>\n",
       "      <td>-0.06</td>\n",
       "    </tr>\n",
       "    <tr>\n",
       "      <th>Nove</th>\n",
       "      <td>0.95</td>\n",
       "      <td>0.99</td>\n",
       "      <td>0.93</td>\n",
       "      <td>0.78</td>\n",
       "      <td>0.59</td>\n",
       "      <td>0.57</td>\n",
       "      <td>0.55</td>\n",
       "      <td>0.64</td>\n",
       "      <td>0.80</td>\n",
       "      <td>0.96</td>\n",
       "      <td>1.00</td>\n",
       "      <td>0.96</td>\n",
       "      <td>-0.64</td>\n",
       "      <td>-0.13</td>\n",
       "      <td>0.91</td>\n",
       "      <td>-0.30</td>\n",
       "    </tr>\n",
       "    <tr>\n",
       "      <th>Dece</th>\n",
       "      <td>0.99</td>\n",
       "      <td>0.97</td>\n",
       "      <td>0.83</td>\n",
       "      <td>0.62</td>\n",
       "      <td>0.38</td>\n",
       "      <td>0.36</td>\n",
       "      <td>0.32</td>\n",
       "      <td>0.43</td>\n",
       "      <td>0.62</td>\n",
       "      <td>0.87</td>\n",
       "      <td>0.96</td>\n",
       "      <td>1.00</td>\n",
       "      <td>-0.44</td>\n",
       "      <td>-0.35</td>\n",
       "      <td>0.79</td>\n",
       "      <td>-0.54</td>\n",
       "    </tr>\n",
       "    <tr>\n",
       "      <th>Lati</th>\n",
       "      <td>-0.42</td>\n",
       "      <td>-0.60</td>\n",
       "      <td>-0.81</td>\n",
       "      <td>-0.85</td>\n",
       "      <td>-0.84</td>\n",
       "      <td>-0.87</td>\n",
       "      <td>-0.88</td>\n",
       "      <td>-0.90</td>\n",
       "      <td>-0.90</td>\n",
       "      <td>-0.78</td>\n",
       "      <td>-0.64</td>\n",
       "      <td>-0.44</td>\n",
       "      <td>1.00</td>\n",
       "      <td>-0.31</td>\n",
       "      <td>-0.83</td>\n",
       "      <td>-0.42</td>\n",
       "    </tr>\n",
       "    <tr>\n",
       "      <th>Long</th>\n",
       "      <td>-0.39</td>\n",
       "      <td>-0.22</td>\n",
       "      <td>-0.04</td>\n",
       "      <td>0.29</td>\n",
       "      <td>0.54</td>\n",
       "      <td>0.53</td>\n",
       "      <td>0.59</td>\n",
       "      <td>0.50</td>\n",
       "      <td>0.35</td>\n",
       "      <td>0.07</td>\n",
       "      <td>-0.13</td>\n",
       "      <td>-0.35</td>\n",
       "      <td>-0.31</td>\n",
       "      <td>1.00</td>\n",
       "      <td>0.16</td>\n",
       "      <td>0.83</td>\n",
       "    </tr>\n",
       "    <tr>\n",
       "      <th>Moye</th>\n",
       "      <td>0.77</td>\n",
       "      <td>0.89</td>\n",
       "      <td>0.97</td>\n",
       "      <td>0.96</td>\n",
       "      <td>0.86</td>\n",
       "      <td>0.85</td>\n",
       "      <td>0.83</td>\n",
       "      <td>0.89</td>\n",
       "      <td>0.97</td>\n",
       "      <td>0.98</td>\n",
       "      <td>0.91</td>\n",
       "      <td>0.79</td>\n",
       "      <td>-0.83</td>\n",
       "      <td>0.16</td>\n",
       "      <td>1.00</td>\n",
       "      <td>0.08</td>\n",
       "    </tr>\n",
       "    <tr>\n",
       "      <th>Ampl</th>\n",
       "      <td>-0.57</td>\n",
       "      <td>-0.38</td>\n",
       "      <td>-0.06</td>\n",
       "      <td>0.28</td>\n",
       "      <td>0.55</td>\n",
       "      <td>0.58</td>\n",
       "      <td>0.62</td>\n",
       "      <td>0.52</td>\n",
       "      <td>0.31</td>\n",
       "      <td>-0.06</td>\n",
       "      <td>-0.30</td>\n",
       "      <td>-0.54</td>\n",
       "      <td>-0.42</td>\n",
       "      <td>0.83</td>\n",
       "      <td>0.08</td>\n",
       "      <td>1.00</td>\n",
       "    </tr>\n",
       "  </tbody>\n",
       "</table>\n",
       "</div>"
      ],
      "text/plain": [
       "         Janv  Fevrier  Mars  Avril   Mai  Juin  juil  Aout  Sept  Octo  Nove  \\\n",
       "Janv     1.00     0.97  0.84   0.61  0.36  0.34  0.30  0.41  0.60  0.85  0.95   \n",
       "Fevrier  0.97     1.00  0.93   0.76  0.55  0.52  0.49  0.59  0.76  0.94  0.99   \n",
       "Mars     0.84     0.93  1.00   0.92  0.77  0.76  0.72  0.80  0.91  0.97  0.93   \n",
       "Avril    0.61     0.76  0.92   1.00  0.95  0.94  0.91  0.95  0.98  0.91  0.78   \n",
       "Mai      0.36     0.55  0.77   0.95  1.00  0.99  0.98  0.98  0.94  0.77  0.59   \n",
       "Juin     0.34     0.52  0.76   0.94  0.99  1.00  0.99  0.99  0.94  0.76  0.57   \n",
       "juil     0.30     0.49  0.72   0.91  0.98  0.99  1.00  0.99  0.93  0.74  0.55   \n",
       "Aout     0.41     0.59  0.80   0.95  0.98  0.99  0.99  1.00  0.97  0.81  0.64   \n",
       "Sept     0.60     0.76  0.91   0.98  0.94  0.94  0.93  0.97  1.00  0.93  0.80   \n",
       "Octo     0.85     0.94  0.97   0.91  0.77  0.76  0.74  0.81  0.93  1.00  0.96   \n",
       "Nove     0.95     0.99  0.93   0.78  0.59  0.57  0.55  0.64  0.80  0.96  1.00   \n",
       "Dece     0.99     0.97  0.83   0.62  0.38  0.36  0.32  0.43  0.62  0.87  0.96   \n",
       "Lati    -0.42    -0.60 -0.81  -0.85 -0.84 -0.87 -0.88 -0.90 -0.90 -0.78 -0.64   \n",
       "Long    -0.39    -0.22 -0.04   0.29  0.54  0.53  0.59  0.50  0.35  0.07 -0.13   \n",
       "Moye     0.77     0.89  0.97   0.96  0.86  0.85  0.83  0.89  0.97  0.98  0.91   \n",
       "Ampl    -0.57    -0.38 -0.06   0.28  0.55  0.58  0.62  0.52  0.31 -0.06 -0.30   \n",
       "\n",
       "         Dece  Lati  Long  Moye  Ampl  \n",
       "Janv     0.99 -0.42 -0.39  0.77 -0.57  \n",
       "Fevrier  0.97 -0.60 -0.22  0.89 -0.38  \n",
       "Mars     0.83 -0.81 -0.04  0.97 -0.06  \n",
       "Avril    0.62 -0.85  0.29  0.96  0.28  \n",
       "Mai      0.38 -0.84  0.54  0.86  0.55  \n",
       "Juin     0.36 -0.87  0.53  0.85  0.58  \n",
       "juil     0.32 -0.88  0.59  0.83  0.62  \n",
       "Aout     0.43 -0.90  0.50  0.89  0.52  \n",
       "Sept     0.62 -0.90  0.35  0.97  0.31  \n",
       "Octo     0.87 -0.78  0.07  0.98 -0.06  \n",
       "Nove     0.96 -0.64 -0.13  0.91 -0.30  \n",
       "Dece     1.00 -0.44 -0.35  0.79 -0.54  \n",
       "Lati    -0.44  1.00 -0.31 -0.83 -0.42  \n",
       "Long    -0.35 -0.31  1.00  0.16  0.83  \n",
       "Moye     0.79 -0.83  0.16  1.00  0.08  \n",
       "Ampl    -0.54 -0.42  0.83  0.08  1.00  "
      ]
     },
     "execution_count": 12,
     "metadata": {},
     "output_type": "execute_result"
    }
   ],
   "source": [
    "correlation_matrix = np.corrcoef(data_standarized[x_labels].transpose())\n",
    "\n",
    "pd.DataFrame(correlation_matrix.round(2), columns = x_labels, index = x_labels)\n",
    "\n"
   ]
  },
  {
   "cell_type": "code",
   "execution_count": 13,
   "metadata": {},
   "outputs": [
    {
     "data": {
      "image/png": "[encoded data removed]",
      "text/plain": [
       "<Figure size 864x864 with 2 Axes>"
      ]
     },
     "metadata": {
      "needs_background": "light"
     },
     "output_type": "display_data"
    }
   ],
   "source": [
    "import seaborn as sns\n",
    "\n",
    "df2 = correlation_matrix.astype('float')  # !! Neccessary for Heatmap\n",
    "df2 = pd.DataFrame(correlation_matrix, columns = x_labels, index = x_labels)\n",
    "plt.figure(figsize=(12,12))\n",
    "sns.heatmap(df2, annot=True, cmap=\"Greens\")\n",
    "plt.show()"
   ]
  },
  {
   "cell_type": "markdown",
   "metadata": {},
   "source": [
    "# 5. Finding eigen values and vectors"
   ]
  },
  {
   "cell_type": "code",
   "execution_count": 14,
   "metadata": {},
   "outputs": [],
   "source": [
    "eig_vals, eig_vecs = np.linalg.eig(correlation_matrix)"
   ]
  },
  {
   "cell_type": "code",
   "execution_count": 15,
   "metadata": {},
   "outputs": [
    {
     "data": {
      "text/plain": [
       "array([ 1.13681551e+01,  4.01274702e+00,  3.70910299e-01,  1.72006959e-01,\n",
       "        3.97857626e-02,  1.34954375e-02,  1.21203156e-02,  5.38538381e-03,\n",
       "        2.65370979e-03,  1.86282806e-03,  5.06409609e-04,  3.34101035e-04,\n",
       "        2.69579645e-05,  9.70756715e-06,  2.13845037e-16, -2.04620847e-16])"
      ]
     },
     "execution_count": 15,
     "metadata": {},
     "output_type": "execute_result"
    }
   ],
   "source": [
    "eig_vals  #Si le valor pasa de 1 pasa criterio de kramer en este caso cogemeo 4.42 y 0.85"
   ]
  },
  {
   "cell_type": "code",
   "execution_count": 16,
   "metadata": {},
   "outputs": [
    {
     "data": {
      "text/plain": [
       "array([[-2.12306762e-01, -3.45374355e-01,  1.35418569e-01,\n",
       "         1.52887219e-02, -3.63057483e-02, -2.27472199e-01,\n",
       "         2.96950013e-01,  7.26669492e-02,  2.34845486e-01,\n",
       "        -1.12233913e-01,  3.50369465e-01, -1.85114833e-01,\n",
       "        -1.80888675e-01, -3.74538416e-01,  3.84609547e-01,\n",
       "        -2.64242585e-01],\n",
       "       [-2.51400795e-01, -2.61073961e-01,  9.31355247e-02,\n",
       "        -4.18951720e-02,  2.32833905e-01,  3.20789029e-02,\n",
       "         2.26001207e-01,  4.93750016e-01, -1.49692716e-01,\n",
       "         2.86585256e-01, -5.65265094e-01,  4.05746605e-02,\n",
       "         2.34289517e-01, -1.49404503e-01, -2.03776744e-02,\n",
       "        -7.17659918e-02],\n",
       "       [-2.83933928e-01, -1.17425516e-01, -2.07804772e-01,\n",
       "         6.01604926e-02,  4.75879819e-01,  2.80364168e-01,\n",
       "        -2.17414556e-01,  1.45302841e-01, -4.74708555e-01,\n",
       "        -2.51095954e-01,  3.70698340e-01, -1.03753838e-01,\n",
       "        -1.09729270e-01, -8.16611946e-02, -1.70624733e-01,\n",
       "        -6.59933554e-02],\n",
       "       [-2.89805423e-01,  6.19401256e-02, -5.97452745e-02,\n",
       "         3.59884771e-01,  3.35132198e-01, -2.16114760e-01,\n",
       "        -4.05113112e-02, -2.51830686e-01,  1.68110490e-01,\n",
       "         6.05169142e-01,  4.88282364e-02,  7.22806615e-02,\n",
       "        -3.32605233e-01,  1.70743123e-01, -9.69612183e-02,\n",
       "        -8.01573804e-02],\n",
       "       [-2.66384754e-01,  2.04503246e-01,  4.05728761e-02,\n",
       "         3.59713536e-01,  1.68684249e-01, -2.70768757e-01,\n",
       "        -1.33201937e-01, -6.89684109e-02,  2.03292119e-02,\n",
       "        -3.54946629e-01, -1.31658548e-01, -1.28906695e-01,\n",
       "         4.80977551e-01,  3.27925964e-01,  3.34368162e-01,\n",
       "        -7.07015336e-02],\n",
       "       [-2.64681955e-01,  2.15181085e-01, -7.50890103e-02,\n",
       "         2.73461284e-01, -1.90813541e-01, -2.87244796e-01,\n",
       "         7.13195504e-02, -8.33997444e-02, -7.09989688e-03,\n",
       "        -2.64729472e-01, -9.75479131e-02,  3.03791647e-01,\n",
       "         3.74568188e-02, -5.40040587e-01, -4.50554379e-01,\n",
       "        -3.11338667e-02],\n",
       "       [-2.59537470e-01,  2.38127376e-01, -1.87110020e-02,\n",
       "         4.64610969e-02, -3.16792787e-01,  3.04037506e-02,\n",
       "         2.00729501e-01,  5.51954645e-01,  1.20212392e-02,\n",
       "        -1.01007426e-01,  1.71161948e-01,  2.95306784e-01,\n",
       "        -2.88161689e-01,  4.56601313e-01, -2.14092004e-02,\n",
       "        -9.39388869e-02],\n",
       "       [-2.74520909e-01,  1.84643717e-01, -4.27235702e-02,\n",
       "         2.73959176e-02, -2.49244676e-01,  3.31347614e-01,\n",
       "         3.36006421e-01, -9.94334123e-02,  2.20396666e-02,\n",
       "         3.16455996e-01,  3.29460174e-01, -3.38185393e-01,\n",
       "         4.83771516e-01, -1.32741416e-02, -1.86845582e-01,\n",
       "        -1.54411536e-02],\n",
       "       [-2.92674729e-01,  7.34262588e-02,  7.46540043e-04,\n",
       "        -4.68897948e-02,  1.03834615e-02,  4.66167223e-01,\n",
       "         1.66729070e-01, -2.99120532e-01,  2.33774890e-01,\n",
       "        -3.10472270e-01, -4.52694165e-01, -2.46654836e-01,\n",
       "        -3.66679595e-01,  6.11425278e-02, -5.21262152e-02,\n",
       "        -1.28034164e-01],\n",
       "       [-2.87096174e-01, -1.11098619e-01,  1.26528706e-01,\n",
       "        -1.38817524e-01, -7.35040110e-02,  3.87173816e-01,\n",
       "        -3.62395863e-01, -1.66386109e-01,  1.76161891e-01,\n",
       "         9.06545277e-02,  8.17034563e-02,  6.13892892e-01,\n",
       "         2.11704182e-01, -1.02973614e-01,  2.25554302e-01,\n",
       "        -1.11666965e-01],\n",
       "       [-2.59768844e-01, -2.28202483e-01,  1.79656707e-01,\n",
       "        -1.83211870e-01, -1.84560424e-01, -1.81682650e-01,\n",
       "        -5.58066230e-01,  2.12621388e-01,  3.37749882e-01,\n",
       "        -7.60083037e-03,  1.01978832e-02, -3.54760047e-01,\n",
       "         1.69251480e-02,  9.08509288e-02, -3.71686149e-01,\n",
       "        -1.58176894e-02],\n",
       "       [-2.16723917e-01, -3.32687442e-01,  1.82894804e-01,\n",
       "        -5.26845622e-02, -4.13029810e-01, -1.85323636e-01,\n",
       "         1.82344170e-02, -3.64749573e-01, -6.27548321e-01,\n",
       "         5.45424538e-02, -9.50339141e-02, -2.43231805e-03,\n",
       "        -8.76976758e-02,  2.13010601e-01, -1.00143334e-02,\n",
       "        -9.38959921e-02],\n",
       "       [ 2.58341125e-01, -1.25902983e-01,  4.95222967e-01,\n",
       "         6.99394631e-01, -1.41258971e-01,  3.34503642e-01,\n",
       "        -1.17102647e-01,  1.36930142e-01, -4.07254868e-02,\n",
       "         1.10719613e-02,  9.01189122e-03, -6.95038030e-02,\n",
       "        -7.10459411e-02, -7.35967142e-02, -3.91349306e-02,\n",
       "        -4.97126809e-03],\n",
       "       [-6.64483940e-02,  4.22600506e-01,  7.54166187e-01,\n",
       "        -3.28425208e-01,  2.91764493e-01, -9.06342558e-02,\n",
       "         8.92069966e-02, -4.73831156e-02, -1.17494826e-01,\n",
       "        -1.57247521e-02,  1.07350616e-01,  1.21388395e-02,\n",
       "        -5.30788891e-02, -4.86866147e-02, -7.41146007e-02,\n",
       "         4.27627751e-03],\n",
       "       [-2.95310073e-01, -4.32312637e-02,  3.97084319e-02,\n",
       "         4.88299757e-02, -5.06377832e-02,  1.21745835e-02,\n",
       "         1.62685176e-02,  2.27504885e-02, -7.91363565e-04,\n",
       "        -6.11306377e-03,  1.25059096e-02, -3.18167155e-02,\n",
       "        -1.14505924e-01, -8.74165973e-02,  3.86779576e-01,\n",
       "         9.17861906e-01],\n",
       "       [-4.98360742e-02,  4.89086769e-01, -1.39459833e-01,\n",
       "        -2.40645226e-02, -2.46046094e-01,  2.35033860e-02,\n",
       "        -3.78122558e-01,  1.52399439e-01, -2.42273777e-01,\n",
       "         2.48045802e-01, -1.43946166e-01, -2.60884943e-01,\n",
       "        -1.77988958e-01, -3.32173696e-01,  3.38392234e-01,\n",
       "        -1.37010246e-01]])"
      ]
     },
     "execution_count": 16,
     "metadata": {},
     "output_type": "execute_result"
    }
   ],
   "source": [
    "eig_vecs "
   ]
  },
  {
   "cell_type": "code",
   "execution_count": 17,
   "metadata": {},
   "outputs": [
    {
     "data": {
      "text/plain": [
       "(16, 16)"
      ]
     },
     "execution_count": 17,
     "metadata": {},
     "output_type": "execute_result"
    }
   ],
   "source": [
    "eig_vecs.shape # numero de donnes vs numero de descriptors"
   ]
  },
  {
   "cell_type": "markdown",
   "metadata": {},
   "source": [
    "# 6. Optimal number of components"
   ]
  },
  {
   "cell_type": "markdown",
   "metadata": {},
   "source": [
    "# 6.1 Methode de code"
   ]
  },
  {
   "cell_type": "code",
   "execution_count": 18,
   "metadata": {},
   "outputs": [],
   "source": [
    "from sklearn.cluster import KMeans\n",
    "from kneed import KneeLocator\n",
    "\n",
    "SSE = []\n",
    "cluster_Range = eig_vecs.shape[0]\n",
    "for cluster in range(1,cluster_Range):\n",
    "    kmeans = KMeans(n_jobs = -1, n_clusters = cluster, init='k-means++')\n",
    "    kmeans.fit(data_standarized[x_labels])\n",
    "    SSE.append(kmeans.inertia_)\n",
    "\n"
   ]
  },
  {
   "cell_type": "code",
   "execution_count": 19,
   "metadata": {},
   "outputs": [
    {
     "data": {
      "text/plain": [
       "Text(0, 0.5, 'Inertia')"
      ]
     },
     "execution_count": 19,
     "metadata": {},
     "output_type": "execute_result"
    },
    {
     "data": {
      "image/png": "[encoded data removed]",
      "text/plain": [
       "<Figure size 648x432 with 1 Axes>"
      ]
     },
     "metadata": {
      "needs_background": "light"
     },
     "output_type": "display_data"
    }
   ],
   "source": [
    "# converting the results into a dataframe and plotting them\n",
    "frame = pd.DataFrame({'Cluster':range(1,cluster_Range), 'SSE':SSE})\n",
    "plt.figure(figsize=(9,6))\n",
    "plt.plot(frame['Cluster'], frame['SSE'], marker='o')\n",
    "plt.xlabel('Number of clusters')\n",
    "plt.ylabel('Inertia')"
   ]
  },
  {
   "cell_type": "code",
   "execution_count": 20,
   "metadata": {},
   "outputs": [
    {
     "data": {
      "text/plain": [
       "[240.0,\n",
       " 99.41167466195421,\n",
       " 57.474269114514485,\n",
       " 42.59749320072107,\n",
       " 30.253631701507178,\n",
       " 21.668785068257204,\n",
       " 14.819772364816231,\n",
       " 10.360519147856575,\n",
       " 6.058443184079971,\n",
       " 4.057397591999552,\n",
       " 2.308619087913506,\n",
       " 1.2538740712721748,\n",
       " 0.6663769773755752,\n",
       " 0.19718272823161126,\n",
       " 0.0]"
      ]
     },
     "execution_count": 20,
     "metadata": {},
     "output_type": "execute_result"
    }
   ],
   "source": [
    "SSE"
   ]
  },
  {
   "cell_type": "markdown",
   "metadata": {},
   "source": [
    "<font color=\"red\">Pour observation le numero optimal cest 4 clusters</font>\n"
   ]
  },
  {
   "cell_type": "code",
   "execution_count": 21,
   "metadata": {},
   "outputs": [
    {
     "data": {
      "text/html": [
       "<div>\n",
       "<style scoped>\n",
       "    .dataframe tbody tr th:only-of-type {\n",
       "        vertical-align: middle;\n",
       "    }\n",
       "\n",
       "    .dataframe tbody tr th {\n",
       "        vertical-align: top;\n",
       "    }\n",
       "\n",
       "    .dataframe thead th {\n",
       "        text-align: right;\n",
       "    }\n",
       "</style>\n",
       "<table border=\"1\" class=\"dataframe\">\n",
       "  <thead>\n",
       "    <tr style=\"text-align: right;\">\n",
       "      <th></th>\n",
       "      <th>SSE</th>\n",
       "    </tr>\n",
       "  </thead>\n",
       "  <tbody>\n",
       "    <tr>\n",
       "      <th>14</th>\n",
       "      <td>0.000000</td>\n",
       "    </tr>\n",
       "    <tr>\n",
       "      <th>13</th>\n",
       "      <td>0.197183</td>\n",
       "    </tr>\n",
       "    <tr>\n",
       "      <th>12</th>\n",
       "      <td>0.666377</td>\n",
       "    </tr>\n",
       "    <tr>\n",
       "      <th>11</th>\n",
       "      <td>1.253874</td>\n",
       "    </tr>\n",
       "    <tr>\n",
       "      <th>10</th>\n",
       "      <td>2.308619</td>\n",
       "    </tr>\n",
       "    <tr>\n",
       "      <th>9</th>\n",
       "      <td>4.057398</td>\n",
       "    </tr>\n",
       "    <tr>\n",
       "      <th>8</th>\n",
       "      <td>6.058443</td>\n",
       "    </tr>\n",
       "    <tr>\n",
       "      <th>7</th>\n",
       "      <td>10.360519</td>\n",
       "    </tr>\n",
       "    <tr>\n",
       "      <th>6</th>\n",
       "      <td>14.819772</td>\n",
       "    </tr>\n",
       "    <tr>\n",
       "      <th>5</th>\n",
       "      <td>21.668785</td>\n",
       "    </tr>\n",
       "    <tr>\n",
       "      <th>4</th>\n",
       "      <td>30.253632</td>\n",
       "    </tr>\n",
       "    <tr>\n",
       "      <th>3</th>\n",
       "      <td>42.597493</td>\n",
       "    </tr>\n",
       "    <tr>\n",
       "      <th>2</th>\n",
       "      <td>57.474269</td>\n",
       "    </tr>\n",
       "    <tr>\n",
       "      <th>1</th>\n",
       "      <td>99.411675</td>\n",
       "    </tr>\n",
       "    <tr>\n",
       "      <th>0</th>\n",
       "      <td>240.000000</td>\n",
       "    </tr>\n",
       "  </tbody>\n",
       "</table>\n",
       "</div>"
      ],
      "text/plain": [
       "           SSE\n",
       "14    0.000000\n",
       "13    0.197183\n",
       "12    0.666377\n",
       "11    1.253874\n",
       "10    2.308619\n",
       "9     4.057398\n",
       "8     6.058443\n",
       "7    10.360519\n",
       "6    14.819772\n",
       "5    21.668785\n",
       "4    30.253632\n",
       "3    42.597493\n",
       "2    57.474269\n",
       "1    99.411675\n",
       "0   240.000000"
      ]
     },
     "execution_count": 21,
     "metadata": {},
     "output_type": "execute_result"
    }
   ],
   "source": [
    "SSE_Info = pd.DataFrame(SSE, columns = ['SSE']).sort_values(by=['SSE'])\n",
    "SSE_Info"
   ]
  },
  {
   "cell_type": "markdown",
   "metadata": {},
   "source": [
    "# 6.2.  Matrix de composant principaux et explained_variance_ratio\n"
   ]
  },
  {
   "cell_type": "code",
   "execution_count": 22,
   "metadata": {},
   "outputs": [
    {
     "data": {
      "text/html": [
       "<div>\n",
       "<style scoped>\n",
       "    .dataframe tbody tr th:only-of-type {\n",
       "        vertical-align: middle;\n",
       "    }\n",
       "\n",
       "    .dataframe tbody tr th {\n",
       "        vertical-align: top;\n",
       "    }\n",
       "\n",
       "    .dataframe thead th {\n",
       "        text-align: right;\n",
       "    }\n",
       "</style>\n",
       "<table border=\"1\" class=\"dataframe\">\n",
       "  <thead>\n",
       "    <tr style=\"text-align: right;\">\n",
       "      <th></th>\n",
       "      <th>0</th>\n",
       "      <th>1</th>\n",
       "      <th>2</th>\n",
       "      <th>3</th>\n",
       "      <th>4</th>\n",
       "      <th>5</th>\n",
       "      <th>6</th>\n",
       "      <th>7</th>\n",
       "      <th>8</th>\n",
       "      <th>9</th>\n",
       "      <th>10</th>\n",
       "      <th>11</th>\n",
       "      <th>12</th>\n",
       "      <th>13</th>\n",
       "      <th>14</th>\n",
       "    </tr>\n",
       "  </thead>\n",
       "  <tbody>\n",
       "    <tr>\n",
       "      <th>0</th>\n",
       "      <td>3.250477</td>\n",
       "      <td>0.863297</td>\n",
       "      <td>-0.834574</td>\n",
       "      <td>0.696816</td>\n",
       "      <td>-0.325120</td>\n",
       "      <td>0.054865</td>\n",
       "      <td>0.013989</td>\n",
       "      <td>-0.102013</td>\n",
       "      <td>0.026966</td>\n",
       "      <td>0.037274</td>\n",
       "      <td>0.011149</td>\n",
       "      <td>0.008755</td>\n",
       "      <td>0.006936</td>\n",
       "      <td>0.000861</td>\n",
       "      <td>2.476547e-17</td>\n",
       "    </tr>\n",
       "    <tr>\n",
       "      <th>1</th>\n",
       "      <td>-2.919582</td>\n",
       "      <td>5.057038</td>\n",
       "      <td>0.020974</td>\n",
       "      <td>-0.541843</td>\n",
       "      <td>0.022456</td>\n",
       "      <td>-0.138212</td>\n",
       "      <td>0.176397</td>\n",
       "      <td>-0.060643</td>\n",
       "      <td>0.002622</td>\n",
       "      <td>0.016535</td>\n",
       "      <td>-0.001635</td>\n",
       "      <td>0.009866</td>\n",
       "      <td>-0.000900</td>\n",
       "      <td>0.000379</td>\n",
       "      <td>2.476547e-17</td>\n",
       "    </tr>\n",
       "    <tr>\n",
       "      <th>2</th>\n",
       "      <td>-1.633715</td>\n",
       "      <td>-0.928294</td>\n",
       "      <td>-0.434425</td>\n",
       "      <td>-0.432346</td>\n",
       "      <td>-0.053268</td>\n",
       "      <td>-0.057208</td>\n",
       "      <td>-0.142702</td>\n",
       "      <td>-0.024126</td>\n",
       "      <td>0.094820</td>\n",
       "      <td>0.049948</td>\n",
       "      <td>-0.022727</td>\n",
       "      <td>-0.028899</td>\n",
       "      <td>-0.001634</td>\n",
       "      <td>-0.003825</td>\n",
       "      <td>2.476547e-17</td>\n",
       "    </tr>\n",
       "    <tr>\n",
       "      <th>3</th>\n",
       "      <td>-1.281629</td>\n",
       "      <td>-2.448846</td>\n",
       "      <td>-0.350406</td>\n",
       "      <td>-0.429381</td>\n",
       "      <td>-0.345224</td>\n",
       "      <td>0.126838</td>\n",
       "      <td>0.224202</td>\n",
       "      <td>0.072827</td>\n",
       "      <td>-0.025141</td>\n",
       "      <td>-0.012287</td>\n",
       "      <td>0.013608</td>\n",
       "      <td>-0.014243</td>\n",
       "      <td>-0.002893</td>\n",
       "      <td>-0.000589</td>\n",
       "      <td>2.476547e-17</td>\n",
       "    </tr>\n",
       "    <tr>\n",
       "      <th>4</th>\n",
       "      <td>-4.798567</td>\n",
       "      <td>0.397868</td>\n",
       "      <td>0.969566</td>\n",
       "      <td>0.104509</td>\n",
       "      <td>0.149102</td>\n",
       "      <td>0.310825</td>\n",
       "      <td>-0.013964</td>\n",
       "      <td>-0.064202</td>\n",
       "      <td>-0.006930</td>\n",
       "      <td>0.021109</td>\n",
       "      <td>-0.009481</td>\n",
       "      <td>0.001425</td>\n",
       "      <td>0.002766</td>\n",
       "      <td>-0.001048</td>\n",
       "      <td>2.476547e-17</td>\n",
       "    </tr>\n",
       "    <tr>\n",
       "      <th>5</th>\n",
       "      <td>-0.630819</td>\n",
       "      <td>-2.300378</td>\n",
       "      <td>-0.384754</td>\n",
       "      <td>0.051596</td>\n",
       "      <td>0.092703</td>\n",
       "      <td>-0.033790</td>\n",
       "      <td>0.052021</td>\n",
       "      <td>0.022518</td>\n",
       "      <td>0.033852</td>\n",
       "      <td>-0.042547</td>\n",
       "      <td>-0.034151</td>\n",
       "      <td>0.047549</td>\n",
       "      <td>0.000654</td>\n",
       "      <td>-0.003303</td>\n",
       "      <td>2.476547e-17</td>\n",
       "    </tr>\n",
       "    <tr>\n",
       "      <th>6</th>\n",
       "      <td>5.340317</td>\n",
       "      <td>-0.981846</td>\n",
       "      <td>0.253013</td>\n",
       "      <td>0.051357</td>\n",
       "      <td>0.382071</td>\n",
       "      <td>-0.020374</td>\n",
       "      <td>0.114991</td>\n",
       "      <td>-0.059275</td>\n",
       "      <td>0.044417</td>\n",
       "      <td>-0.037377</td>\n",
       "      <td>0.035366</td>\n",
       "      <td>-0.015855</td>\n",
       "      <td>0.000732</td>\n",
       "      <td>-0.002930</td>\n",
       "      <td>2.476547e-17</td>\n",
       "    </tr>\n",
       "    <tr>\n",
       "      <th>7</th>\n",
       "      <td>4.564581</td>\n",
       "      <td>-0.378661</td>\n",
       "      <td>-0.097548</td>\n",
       "      <td>0.021608</td>\n",
       "      <td>0.246016</td>\n",
       "      <td>-0.002686</td>\n",
       "      <td>0.042079</td>\n",
       "      <td>0.100366</td>\n",
       "      <td>-0.062724</td>\n",
       "      <td>0.109230</td>\n",
       "      <td>-0.016334</td>\n",
       "      <td>0.002325</td>\n",
       "      <td>-0.000030</td>\n",
       "      <td>0.001142</td>\n",
       "      <td>2.476547e-17</td>\n",
       "    </tr>\n",
       "    <tr>\n",
       "      <th>8</th>\n",
       "      <td>-0.568689</td>\n",
       "      <td>1.838434</td>\n",
       "      <td>-0.343158</td>\n",
       "      <td>0.429405</td>\n",
       "      <td>0.018805</td>\n",
       "      <td>-0.047569</td>\n",
       "      <td>-0.027605</td>\n",
       "      <td>0.040700</td>\n",
       "      <td>-0.086841</td>\n",
       "      <td>-0.067579</td>\n",
       "      <td>-0.028591</td>\n",
       "      <td>-0.029038</td>\n",
       "      <td>0.004988</td>\n",
       "      <td>-0.002853</td>\n",
       "      <td>2.476547e-17</td>\n",
       "    </tr>\n",
       "    <tr>\n",
       "      <th>9</th>\n",
       "      <td>6.438984</td>\n",
       "      <td>0.687978</td>\n",
       "      <td>1.416023</td>\n",
       "      <td>-0.353201</td>\n",
       "      <td>-0.315689</td>\n",
       "      <td>-0.021763</td>\n",
       "      <td>-0.085319</td>\n",
       "      <td>0.017719</td>\n",
       "      <td>0.007069</td>\n",
       "      <td>-0.026621</td>\n",
       "      <td>-0.013628</td>\n",
       "      <td>0.005888</td>\n",
       "      <td>0.000519</td>\n",
       "      <td>0.000494</td>\n",
       "      <td>2.476547e-17</td>\n",
       "    </tr>\n",
       "    <tr>\n",
       "      <th>10</th>\n",
       "      <td>-1.555756</td>\n",
       "      <td>-0.019906</td>\n",
       "      <td>0.316502</td>\n",
       "      <td>0.803039</td>\n",
       "      <td>0.020703</td>\n",
       "      <td>-0.041637</td>\n",
       "      <td>0.057524</td>\n",
       "      <td>0.028637</td>\n",
       "      <td>0.062111</td>\n",
       "      <td>-0.015694</td>\n",
       "      <td>-0.016114</td>\n",
       "      <td>-0.011192</td>\n",
       "      <td>-0.009533</td>\n",
       "      <td>0.005710</td>\n",
       "      <td>2.476547e-17</td>\n",
       "    </tr>\n",
       "    <tr>\n",
       "      <th>11</th>\n",
       "      <td>-1.875544</td>\n",
       "      <td>2.332311</td>\n",
       "      <td>-0.087809</td>\n",
       "      <td>0.234335</td>\n",
       "      <td>-0.024854</td>\n",
       "      <td>0.023479</td>\n",
       "      <td>-0.143150</td>\n",
       "      <td>0.145003</td>\n",
       "      <td>0.018248</td>\n",
       "      <td>0.000918</td>\n",
       "      <td>0.045954</td>\n",
       "      <td>0.014645</td>\n",
       "      <td>-0.003178</td>\n",
       "      <td>-0.003164</td>\n",
       "      <td>2.476547e-17</td>\n",
       "    </tr>\n",
       "    <tr>\n",
       "      <th>12</th>\n",
       "      <td>-4.204820</td>\n",
       "      <td>-3.191003</td>\n",
       "      <td>0.634457</td>\n",
       "      <td>0.210868</td>\n",
       "      <td>-0.080699</td>\n",
       "      <td>-0.220377</td>\n",
       "      <td>-0.047744</td>\n",
       "      <td>-0.077010</td>\n",
       "      <td>-0.074436</td>\n",
       "      <td>0.026892</td>\n",
       "      <td>0.022000</td>\n",
       "      <td>0.003818</td>\n",
       "      <td>-0.000073</td>\n",
       "      <td>-0.000592</td>\n",
       "      <td>2.476547e-17</td>\n",
       "    </tr>\n",
       "    <tr>\n",
       "      <th>13</th>\n",
       "      <td>2.050706</td>\n",
       "      <td>0.060392</td>\n",
       "      <td>-0.838413</td>\n",
       "      <td>-0.400078</td>\n",
       "      <td>0.084381</td>\n",
       "      <td>0.092580</td>\n",
       "      <td>-0.152119</td>\n",
       "      <td>-0.097800</td>\n",
       "      <td>-0.064163</td>\n",
       "      <td>-0.032726</td>\n",
       "      <td>0.003504</td>\n",
       "      <td>0.006683</td>\n",
       "      <td>-0.009383</td>\n",
       "      <td>0.002705</td>\n",
       "      <td>2.476547e-17</td>\n",
       "    </tr>\n",
       "    <tr>\n",
       "      <th>14</th>\n",
       "      <td>-2.175945</td>\n",
       "      <td>-0.988382</td>\n",
       "      <td>-0.239448</td>\n",
       "      <td>-0.446684</td>\n",
       "      <td>0.128618</td>\n",
       "      <td>-0.024973</td>\n",
       "      <td>-0.068599</td>\n",
       "      <td>0.057299</td>\n",
       "      <td>0.030131</td>\n",
       "      <td>-0.027074</td>\n",
       "      <td>0.011081</td>\n",
       "      <td>-0.001724</td>\n",
       "      <td>0.011028</td>\n",
       "      <td>0.007014</td>\n",
       "      <td>2.476547e-17</td>\n",
       "    </tr>\n",
       "  </tbody>\n",
       "</table>\n",
       "</div>"
      ],
      "text/plain": [
       "           0         1         2         3         4         5         6  \\\n",
       "0   3.250477  0.863297 -0.834574  0.696816 -0.325120  0.054865  0.013989   \n",
       "1  -2.919582  5.057038  0.020974 -0.541843  0.022456 -0.138212  0.176397   \n",
       "2  -1.633715 -0.928294 -0.434425 -0.432346 -0.053268 -0.057208 -0.142702   \n",
       "3  -1.281629 -2.448846 -0.350406 -0.429381 -0.345224  0.126838  0.224202   \n",
       "4  -4.798567  0.397868  0.969566  0.104509  0.149102  0.310825 -0.013964   \n",
       "5  -0.630819 -2.300378 -0.384754  0.051596  0.092703 -0.033790  0.052021   \n",
       "6   5.340317 -0.981846  0.253013  0.051357  0.382071 -0.020374  0.114991   \n",
       "7   4.564581 -0.378661 -0.097548  0.021608  0.246016 -0.002686  0.042079   \n",
       "8  -0.568689  1.838434 -0.343158  0.429405  0.018805 -0.047569 -0.027605   \n",
       "9   6.438984  0.687978  1.416023 -0.353201 -0.315689 -0.021763 -0.085319   \n",
       "10 -1.555756 -0.019906  0.316502  0.803039  0.020703 -0.041637  0.057524   \n",
       "11 -1.875544  2.332311 -0.087809  0.234335 -0.024854  0.023479 -0.143150   \n",
       "12 -4.204820 -3.191003  0.634457  0.210868 -0.080699 -0.220377 -0.047744   \n",
       "13  2.050706  0.060392 -0.838413 -0.400078  0.084381  0.092580 -0.152119   \n",
       "14 -2.175945 -0.988382 -0.239448 -0.446684  0.128618 -0.024973 -0.068599   \n",
       "\n",
       "           7         8         9        10        11        12        13  \\\n",
       "0  -0.102013  0.026966  0.037274  0.011149  0.008755  0.006936  0.000861   \n",
       "1  -0.060643  0.002622  0.016535 -0.001635  0.009866 -0.000900  0.000379   \n",
       "2  -0.024126  0.094820  0.049948 -0.022727 -0.028899 -0.001634 -0.003825   \n",
       "3   0.072827 -0.025141 -0.012287  0.013608 -0.014243 -0.002893 -0.000589   \n",
       "4  -0.064202 -0.006930  0.021109 -0.009481  0.001425  0.002766 -0.001048   \n",
       "5   0.022518  0.033852 -0.042547 -0.034151  0.047549  0.000654 -0.003303   \n",
       "6  -0.059275  0.044417 -0.037377  0.035366 -0.015855  0.000732 -0.002930   \n",
       "7   0.100366 -0.062724  0.109230 -0.016334  0.002325 -0.000030  0.001142   \n",
       "8   0.040700 -0.086841 -0.067579 -0.028591 -0.029038  0.004988 -0.002853   \n",
       "9   0.017719  0.007069 -0.026621 -0.013628  0.005888  0.000519  0.000494   \n",
       "10  0.028637  0.062111 -0.015694 -0.016114 -0.011192 -0.009533  0.005710   \n",
       "11  0.145003  0.018248  0.000918  0.045954  0.014645 -0.003178 -0.003164   \n",
       "12 -0.077010 -0.074436  0.026892  0.022000  0.003818 -0.000073 -0.000592   \n",
       "13 -0.097800 -0.064163 -0.032726  0.003504  0.006683 -0.009383  0.002705   \n",
       "14  0.057299  0.030131 -0.027074  0.011081 -0.001724  0.011028  0.007014   \n",
       "\n",
       "              14  \n",
       "0   2.476547e-17  \n",
       "1   2.476547e-17  \n",
       "2   2.476547e-17  \n",
       "3   2.476547e-17  \n",
       "4   2.476547e-17  \n",
       "5   2.476547e-17  \n",
       "6   2.476547e-17  \n",
       "7   2.476547e-17  \n",
       "8   2.476547e-17  \n",
       "9   2.476547e-17  \n",
       "10  2.476547e-17  \n",
       "11  2.476547e-17  \n",
       "12  2.476547e-17  \n",
       "13  2.476547e-17  \n",
       "14  2.476547e-17  "
      ]
     },
     "execution_count": 22,
     "metadata": {},
     "output_type": "execute_result"
    }
   ],
   "source": [
    "from sklearn.decomposition import PCA\n",
    "pca = PCA() #PCA(n_components=2)\n",
    "principalComponents = pca.fit_transform(data_standarized[x_labels])\n",
    "principalDf = pd.DataFrame(data = principalComponents)\n",
    "principalDf"
   ]
  },
  {
   "cell_type": "code",
   "execution_count": 23,
   "metadata": {},
   "outputs": [
    {
     "name": "stdout",
     "output_type": "stream",
     "text": [
      "[0.71 0.25 0.02 0.01 0.   0.   0.   0.   0.   0.   0.   0.   0.   0.\n",
      " 0.  ]\n"
     ]
    }
   ],
   "source": [
    "print(pca.explained_variance_ratio_.round(2))"
   ]
  },
  {
   "cell_type": "code",
   "execution_count": 24,
   "metadata": {},
   "outputs": [
    {
     "data": {
      "text/html": [
       "<div>\n",
       "<style scoped>\n",
       "    .dataframe tbody tr th:only-of-type {\n",
       "        vertical-align: middle;\n",
       "    }\n",
       "\n",
       "    .dataframe tbody tr th {\n",
       "        vertical-align: top;\n",
       "    }\n",
       "\n",
       "    .dataframe thead th {\n",
       "        text-align: right;\n",
       "    }\n",
       "</style>\n",
       "<table border=\"1\" class=\"dataframe\">\n",
       "  <thead>\n",
       "    <tr style=\"text-align: right;\">\n",
       "      <th></th>\n",
       "      <th>SSE</th>\n",
       "      <th>Variance Explained ratio</th>\n",
       "    </tr>\n",
       "  </thead>\n",
       "  <tbody>\n",
       "    <tr>\n",
       "      <th>14</th>\n",
       "      <td>0.000000</td>\n",
       "      <td>0.710510</td>\n",
       "    </tr>\n",
       "    <tr>\n",
       "      <th>13</th>\n",
       "      <td>0.197183</td>\n",
       "      <td>0.961306</td>\n",
       "    </tr>\n",
       "    <tr>\n",
       "      <th>12</th>\n",
       "      <td>0.666377</td>\n",
       "      <td>0.984488</td>\n",
       "    </tr>\n",
       "    <tr>\n",
       "      <th>11</th>\n",
       "      <td>1.253874</td>\n",
       "      <td>0.995239</td>\n",
       "    </tr>\n",
       "    <tr>\n",
       "      <th>10</th>\n",
       "      <td>2.308619</td>\n",
       "      <td>0.997725</td>\n",
       "    </tr>\n",
       "    <tr>\n",
       "      <th>9</th>\n",
       "      <td>4.057398</td>\n",
       "      <td>0.998569</td>\n",
       "    </tr>\n",
       "    <tr>\n",
       "      <th>8</th>\n",
       "      <td>6.058443</td>\n",
       "      <td>0.999326</td>\n",
       "    </tr>\n",
       "    <tr>\n",
       "      <th>7</th>\n",
       "      <td>10.360519</td>\n",
       "      <td>0.999663</td>\n",
       "    </tr>\n",
       "    <tr>\n",
       "      <th>6</th>\n",
       "      <td>14.819772</td>\n",
       "      <td>0.999829</td>\n",
       "    </tr>\n",
       "    <tr>\n",
       "      <th>5</th>\n",
       "      <td>21.668785</td>\n",
       "      <td>0.999945</td>\n",
       "    </tr>\n",
       "    <tr>\n",
       "      <th>4</th>\n",
       "      <td>30.253632</td>\n",
       "      <td>0.999977</td>\n",
       "    </tr>\n",
       "    <tr>\n",
       "      <th>3</th>\n",
       "      <td>42.597493</td>\n",
       "      <td>0.999998</td>\n",
       "    </tr>\n",
       "    <tr>\n",
       "      <th>2</th>\n",
       "      <td>57.474269</td>\n",
       "      <td>0.999999</td>\n",
       "    </tr>\n",
       "    <tr>\n",
       "      <th>1</th>\n",
       "      <td>99.411675</td>\n",
       "      <td>1.000000</td>\n",
       "    </tr>\n",
       "    <tr>\n",
       "      <th>0</th>\n",
       "      <td>240.000000</td>\n",
       "      <td>1.000000</td>\n",
       "    </tr>\n",
       "  </tbody>\n",
       "</table>\n",
       "</div>"
      ],
      "text/plain": [
       "           SSE  Variance Explained ratio\n",
       "14    0.000000                  0.710510\n",
       "13    0.197183                  0.961306\n",
       "12    0.666377                  0.984488\n",
       "11    1.253874                  0.995239\n",
       "10    2.308619                  0.997725\n",
       "9     4.057398                  0.998569\n",
       "8     6.058443                  0.999326\n",
       "7    10.360519                  0.999663\n",
       "6    14.819772                  0.999829\n",
       "5    21.668785                  0.999945\n",
       "4    30.253632                  0.999977\n",
       "3    42.597493                  0.999998\n",
       "2    57.474269                  0.999999\n",
       "1    99.411675                  1.000000\n",
       "0   240.000000                  1.000000"
      ]
     },
     "execution_count": 24,
     "metadata": {},
     "output_type": "execute_result"
    }
   ],
   "source": [
    "factors = [0, 1, 2, 3, 4, 5, 6, 7, 8, 9, 10, 11, 12, 13, 14]\n",
    "\n",
    "SSE_Info['Variance Explained ratio'] = pca.explained_variance_ratio_.cumsum()\n",
    "SSE_Info\n"
   ]
  },
  {
   "cell_type": "code",
   "execution_count": null,
   "metadata": {},
   "outputs": [],
   "source": []
  },
  {
   "cell_type": "code",
   "execution_count": 25,
   "metadata": {},
   "outputs": [
    {
     "data": {
      "image/png": "[encoded data removed]",
      "text/plain": [
       "<Figure size 432x288 with 1 Axes>"
      ]
     },
     "metadata": {
      "needs_background": "light"
     },
     "output_type": "display_data"
    }
   ],
   "source": [
    "plt.plot(factors, SSE_Info['Variance Explained ratio'], color='Blue', marker='o')\n",
    "plt.title('Diagram de code accumule', color = 'black', fontsize = 16)\n",
    "plt.xlabel('Years',color = 'black')\n",
    "plt.ylabel('Explained variance ration', color = 'blue')\n",
    "plt.xticks(color = 'red')\n",
    "plt.yticks(color = 'black')\n",
    "#plt.savefig('linechart_single.png')\n",
    "plt.show()"
   ]
  },
  {
   "cell_type": "code",
   "execution_count": 26,
   "metadata": {},
   "outputs": [
    {
     "data": {
      "text/html": [
       "<div>\n",
       "<style scoped>\n",
       "    .dataframe tbody tr th:only-of-type {\n",
       "        vertical-align: middle;\n",
       "    }\n",
       "\n",
       "    .dataframe tbody tr th {\n",
       "        vertical-align: top;\n",
       "    }\n",
       "\n",
       "    .dataframe thead th {\n",
       "        text-align: right;\n",
       "    }\n",
       "</style>\n",
       "<table border=\"1\" class=\"dataframe\">\n",
       "  <thead>\n",
       "    <tr style=\"text-align: right;\">\n",
       "      <th></th>\n",
       "      <th>PC1</th>\n",
       "      <th>PC2</th>\n",
       "      <th>PC3</th>\n",
       "    </tr>\n",
       "  </thead>\n",
       "  <tbody>\n",
       "    <tr>\n",
       "      <th>0</th>\n",
       "      <td>3.250477</td>\n",
       "      <td>0.863297</td>\n",
       "      <td>-0.834574</td>\n",
       "    </tr>\n",
       "    <tr>\n",
       "      <th>1</th>\n",
       "      <td>-2.919582</td>\n",
       "      <td>5.057038</td>\n",
       "      <td>0.020974</td>\n",
       "    </tr>\n",
       "    <tr>\n",
       "      <th>2</th>\n",
       "      <td>-1.633715</td>\n",
       "      <td>-0.928294</td>\n",
       "      <td>-0.434425</td>\n",
       "    </tr>\n",
       "    <tr>\n",
       "      <th>3</th>\n",
       "      <td>-1.281629</td>\n",
       "      <td>-2.448846</td>\n",
       "      <td>-0.350406</td>\n",
       "    </tr>\n",
       "    <tr>\n",
       "      <th>4</th>\n",
       "      <td>-4.798567</td>\n",
       "      <td>0.397868</td>\n",
       "      <td>0.969566</td>\n",
       "    </tr>\n",
       "    <tr>\n",
       "      <th>5</th>\n",
       "      <td>-0.630819</td>\n",
       "      <td>-2.300378</td>\n",
       "      <td>-0.384754</td>\n",
       "    </tr>\n",
       "    <tr>\n",
       "      <th>6</th>\n",
       "      <td>5.340317</td>\n",
       "      <td>-0.981846</td>\n",
       "      <td>0.253013</td>\n",
       "    </tr>\n",
       "    <tr>\n",
       "      <th>7</th>\n",
       "      <td>4.564581</td>\n",
       "      <td>-0.378661</td>\n",
       "      <td>-0.097548</td>\n",
       "    </tr>\n",
       "    <tr>\n",
       "      <th>8</th>\n",
       "      <td>-0.568689</td>\n",
       "      <td>1.838434</td>\n",
       "      <td>-0.343158</td>\n",
       "    </tr>\n",
       "    <tr>\n",
       "      <th>9</th>\n",
       "      <td>6.438984</td>\n",
       "      <td>0.687978</td>\n",
       "      <td>1.416023</td>\n",
       "    </tr>\n",
       "    <tr>\n",
       "      <th>10</th>\n",
       "      <td>-1.555756</td>\n",
       "      <td>-0.019906</td>\n",
       "      <td>0.316502</td>\n",
       "    </tr>\n",
       "    <tr>\n",
       "      <th>11</th>\n",
       "      <td>-1.875544</td>\n",
       "      <td>2.332311</td>\n",
       "      <td>-0.087809</td>\n",
       "    </tr>\n",
       "    <tr>\n",
       "      <th>12</th>\n",
       "      <td>-4.204820</td>\n",
       "      <td>-3.191003</td>\n",
       "      <td>0.634457</td>\n",
       "    </tr>\n",
       "    <tr>\n",
       "      <th>13</th>\n",
       "      <td>2.050706</td>\n",
       "      <td>0.060392</td>\n",
       "      <td>-0.838413</td>\n",
       "    </tr>\n",
       "    <tr>\n",
       "      <th>14</th>\n",
       "      <td>-2.175945</td>\n",
       "      <td>-0.988382</td>\n",
       "      <td>-0.239448</td>\n",
       "    </tr>\n",
       "  </tbody>\n",
       "</table>\n",
       "</div>"
      ],
      "text/plain": [
       "         PC1       PC2       PC3\n",
       "0   3.250477  0.863297 -0.834574\n",
       "1  -2.919582  5.057038  0.020974\n",
       "2  -1.633715 -0.928294 -0.434425\n",
       "3  -1.281629 -2.448846 -0.350406\n",
       "4  -4.798567  0.397868  0.969566\n",
       "5  -0.630819 -2.300378 -0.384754\n",
       "6   5.340317 -0.981846  0.253013\n",
       "7   4.564581 -0.378661 -0.097548\n",
       "8  -0.568689  1.838434 -0.343158\n",
       "9   6.438984  0.687978  1.416023\n",
       "10 -1.555756 -0.019906  0.316502\n",
       "11 -1.875544  2.332311 -0.087809\n",
       "12 -4.204820 -3.191003  0.634457\n",
       "13  2.050706  0.060392 -0.838413\n",
       "14 -2.175945 -0.988382 -0.239448"
      ]
     },
     "execution_count": 26,
     "metadata": {},
     "output_type": "execute_result"
    }
   ],
   "source": [
    "from sklearn.decomposition import PCA\n",
    "pca = PCA(n_components=3)\n",
    "principalComponents = pca.fit_transform(data_standarized[x_labels])\n",
    "principalComponentsDf = pd.DataFrame(data = principalComponents, columns=['PC1', 'PC2', 'PC3'])\n",
    "principalComponentsDf\n",
    "\n",
    "#The same first two columns of principalComponents avec n_components default.   default = same number of descriptors original"
   ]
  },
  {
   "cell_type": "code",
   "execution_count": 39,
   "metadata": {},
   "outputs": [
    {
     "data": {
      "text/html": [
       "<div>\n",
       "<style scoped>\n",
       "    .dataframe tbody tr th:only-of-type {\n",
       "        vertical-align: middle;\n",
       "    }\n",
       "\n",
       "    .dataframe tbody tr th {\n",
       "        vertical-align: top;\n",
       "    }\n",
       "\n",
       "    .dataframe thead th {\n",
       "        text-align: right;\n",
       "    }\n",
       "</style>\n",
       "<table border=\"1\" class=\"dataframe\">\n",
       "  <thead>\n",
       "    <tr style=\"text-align: right;\">\n",
       "      <th></th>\n",
       "      <th>PC1</th>\n",
       "      <th>PC2</th>\n",
       "      <th>PC3</th>\n",
       "      <th>City</th>\n",
       "    </tr>\n",
       "  </thead>\n",
       "  <tbody>\n",
       "    <tr>\n",
       "      <th>0</th>\n",
       "      <td>3.250477</td>\n",
       "      <td>0.863297</td>\n",
       "      <td>-0.834574</td>\n",
       "      <td>Bordeaux</td>\n",
       "    </tr>\n",
       "    <tr>\n",
       "      <th>1</th>\n",
       "      <td>-2.919582</td>\n",
       "      <td>5.057038</td>\n",
       "      <td>0.020974</td>\n",
       "      <td>Brest</td>\n",
       "    </tr>\n",
       "    <tr>\n",
       "      <th>2</th>\n",
       "      <td>-1.633715</td>\n",
       "      <td>-0.928294</td>\n",
       "      <td>-0.434425</td>\n",
       "      <td>Clermont</td>\n",
       "    </tr>\n",
       "    <tr>\n",
       "      <th>3</th>\n",
       "      <td>-1.281629</td>\n",
       "      <td>-2.448846</td>\n",
       "      <td>-0.350406</td>\n",
       "      <td>Grenoble</td>\n",
       "    </tr>\n",
       "    <tr>\n",
       "      <th>4</th>\n",
       "      <td>-4.798567</td>\n",
       "      <td>0.397868</td>\n",
       "      <td>0.969566</td>\n",
       "      <td>Lille</td>\n",
       "    </tr>\n",
       "    <tr>\n",
       "      <th>5</th>\n",
       "      <td>-0.630819</td>\n",
       "      <td>-2.300378</td>\n",
       "      <td>-0.384754</td>\n",
       "      <td>Lyon</td>\n",
       "    </tr>\n",
       "    <tr>\n",
       "      <th>6</th>\n",
       "      <td>5.340317</td>\n",
       "      <td>-0.981846</td>\n",
       "      <td>0.253013</td>\n",
       "      <td>Marseille</td>\n",
       "    </tr>\n",
       "    <tr>\n",
       "      <th>7</th>\n",
       "      <td>4.564581</td>\n",
       "      <td>-0.378661</td>\n",
       "      <td>-0.097548</td>\n",
       "      <td>Montpellier</td>\n",
       "    </tr>\n",
       "    <tr>\n",
       "      <th>8</th>\n",
       "      <td>-0.568689</td>\n",
       "      <td>1.838434</td>\n",
       "      <td>-0.343158</td>\n",
       "      <td>Nantes</td>\n",
       "    </tr>\n",
       "    <tr>\n",
       "      <th>9</th>\n",
       "      <td>6.438984</td>\n",
       "      <td>0.687978</td>\n",
       "      <td>1.416023</td>\n",
       "      <td>Nice</td>\n",
       "    </tr>\n",
       "    <tr>\n",
       "      <th>10</th>\n",
       "      <td>-1.555756</td>\n",
       "      <td>-0.019906</td>\n",
       "      <td>0.316502</td>\n",
       "      <td>Paris</td>\n",
       "    </tr>\n",
       "    <tr>\n",
       "      <th>11</th>\n",
       "      <td>-1.875544</td>\n",
       "      <td>2.332311</td>\n",
       "      <td>-0.087809</td>\n",
       "      <td>Rennes</td>\n",
       "    </tr>\n",
       "    <tr>\n",
       "      <th>12</th>\n",
       "      <td>-4.204820</td>\n",
       "      <td>-3.191003</td>\n",
       "      <td>0.634457</td>\n",
       "      <td>Strasbourg</td>\n",
       "    </tr>\n",
       "    <tr>\n",
       "      <th>13</th>\n",
       "      <td>2.050706</td>\n",
       "      <td>0.060392</td>\n",
       "      <td>-0.838413</td>\n",
       "      <td>Toulouse</td>\n",
       "    </tr>\n",
       "    <tr>\n",
       "      <th>14</th>\n",
       "      <td>-2.175945</td>\n",
       "      <td>-0.988382</td>\n",
       "      <td>-0.239448</td>\n",
       "      <td>Vichy</td>\n",
       "    </tr>\n",
       "  </tbody>\n",
       "</table>\n",
       "</div>"
      ],
      "text/plain": [
       "         PC1       PC2       PC3         City\n",
       "0   3.250477  0.863297 -0.834574     Bordeaux\n",
       "1  -2.919582  5.057038  0.020974        Brest\n",
       "2  -1.633715 -0.928294 -0.434425     Clermont\n",
       "3  -1.281629 -2.448846 -0.350406     Grenoble\n",
       "4  -4.798567  0.397868  0.969566        Lille\n",
       "5  -0.630819 -2.300378 -0.384754         Lyon\n",
       "6   5.340317 -0.981846  0.253013    Marseille\n",
       "7   4.564581 -0.378661 -0.097548  Montpellier\n",
       "8  -0.568689  1.838434 -0.343158       Nantes\n",
       "9   6.438984  0.687978  1.416023         Nice\n",
       "10 -1.555756 -0.019906  0.316502        Paris\n",
       "11 -1.875544  2.332311 -0.087809       Rennes\n",
       "12 -4.204820 -3.191003  0.634457   Strasbourg\n",
       "13  2.050706  0.060392 -0.838413     Toulouse\n",
       "14 -2.175945 -0.988382 -0.239448        Vichy"
      ]
     },
     "execution_count": 39,
     "metadata": {},
     "output_type": "execute_result"
    }
   ],
   "source": [
    "principalComponentsDf['City'] = dataOriginal['City']\n",
    "principalComponentsDf"
   ]
  },
  {
   "cell_type": "code",
   "execution_count": 42,
   "metadata": {},
   "outputs": [
    {
     "data": {
      "application/vnd.plotly.v1+json": {
       "config": {
        "plotlyServerURL": "https://plot.ly"
       },
       "data": [
        {
         "diagonal": {
          "visible": false
         },
         "dimensions": [
          {
           "axis": {
            "matches": true
           },
           "label": "PC 1 (71.1%)",
           "values": [
            3.250476968211823
           ]
          },
          {
           "axis": {
            "matches": true
           },
           "label": "PC 2 (25.1%)",
           "values": [
            0.8632969138171216
           ]
          },
          {
           "axis": {
            "matches": true
           },
           "label": "PC 3 (2.3%)",
           "values": [
            -0.8345735751417435
           ]
          },
          {
           "axis": {
            "matches": true
           },
           "label": "PC 4 (1.1%)",
           "values": [
            0.6968162034595028
           ]
          }
         ],
         "hovertemplate": "color=Bordeaux<br>%{xaxis.title.text}=%{x}<br>%{yaxis.title.text}=%{y}<extra></extra>",
         "legendgroup": "Bordeaux",
         "marker": {
          "color": "#636efa",
          "symbol": "circle"
         },
         "name": "Bordeaux",
         "showlegend": true,
         "type": "splom"
        },
        {
         "diagonal": {
          "visible": false
         },
         "dimensions": [
          {
           "axis": {
            "matches": true
           },
           "label": "PC 1 (71.1%)",
           "values": [
            -2.9195823385788806
           ]
          },
          {
           "axis": {
            "matches": true
           },
           "label": "PC 2 (25.1%)",
           "values": [
            5.057037907763607
           ]
          },
          {
           "axis": {
            "matches": true
           },
           "label": "PC 3 (2.3%)",
           "values": [
            0.02097384008751654
           ]
          },
          {
           "axis": {
            "matches": true
           },
           "label": "PC 4 (1.1%)",
           "values": [
            -0.541843398441126
           ]
          }
         ],
         "hovertemplate": "color=Brest<br>%{xaxis.title.text}=%{x}<br>%{yaxis.title.text}=%{y}<extra></extra>",
         "legendgroup": "Brest",
         "marker": {
          "color": "#EF553B",
          "symbol": "circle"
         },
         "name": "Brest",
         "showlegend": true,
         "type": "splom"
        },
        {
         "diagonal": {
          "visible": false
         },
         "dimensions": [
          {
           "axis": {
            "matches": true
           },
           "label": "PC 1 (71.1%)",
           "values": [
            -1.6337147343655019
           ]
          },
          {
           "axis": {
            "matches": true
           },
           "label": "PC 2 (25.1%)",
           "values": [
            -0.9282939692025769
           ]
          },
          {
           "axis": {
            "matches": true
           },
           "label": "PC 3 (2.3%)",
           "values": [
            -0.4344249614330958
           ]
          },
          {
           "axis": {
            "matches": true
           },
           "label": "PC 4 (1.1%)",
           "values": [
            -0.4323459339593218
           ]
          }
         ],
         "hovertemplate": "color=Clermont<br>%{xaxis.title.text}=%{x}<br>%{yaxis.title.text}=%{y}<extra></extra>",
         "legendgroup": "Clermont",
         "marker": {
          "color": "#00cc96",
          "symbol": "circle"
         },
         "name": "Clermont",
         "showlegend": true,
         "type": "splom"
        },
        {
         "diagonal": {
          "visible": false
         },
         "dimensions": [
          {
           "axis": {
            "matches": true
           },
           "label": "PC 1 (71.1%)",
           "values": [
            -1.281628580726276
           ]
          },
          {
           "axis": {
            "matches": true
           },
           "label": "PC 2 (25.1%)",
           "values": [
            -2.448846083762081
           ]
          },
          {
           "axis": {
            "matches": true
           },
           "label": "PC 3 (2.3%)",
           "values": [
            -0.35040613141338867
           ]
          },
          {
           "axis": {
            "matches": true
           },
           "label": "PC 4 (1.1%)",
           "values": [
            -0.4293807103221837
           ]
          }
         ],
         "hovertemplate": "color=Grenoble<br>%{xaxis.title.text}=%{x}<br>%{yaxis.title.text}=%{y}<extra></extra>",
         "legendgroup": "Grenoble",
         "marker": {
          "color": "#ab63fa",
          "symbol": "circle"
         },
         "name": "Grenoble",
         "showlegend": true,
         "type": "splom"
        },
        {
         "diagonal": {
          "visible": false
         },
         "dimensions": [
          {
           "axis": {
            "matches": true
           },
           "label": "PC 1 (71.1%)",
           "values": [
            -4.798566659352196
           ]
          },
          {
           "axis": {
            "matches": true
           },
           "label": "PC 2 (25.1%)",
           "values": [
            0.39786790551497225
           ]
          },
          {
           "axis": {
            "matches": true
           },
           "label": "PC 3 (2.3%)",
           "values": [
            0.9695657002605339
           ]
          },
          {
           "axis": {
            "matches": true
           },
           "label": "PC 4 (1.1%)",
           "values": [
            0.10450879131047137
           ]
          }
         ],
         "hovertemplate": "color=Lille<br>%{xaxis.title.text}=%{x}<br>%{yaxis.title.text}=%{y}<extra></extra>",
         "legendgroup": "Lille",
         "marker": {
          "color": "#FFA15A",
          "symbol": "circle"
         },
         "name": "Lille",
         "showlegend": true,
         "type": "splom"
        },
        {
         "diagonal": {
          "visible": false
         },
         "dimensions": [
          {
           "axis": {
            "matches": true
           },
           "label": "PC 1 (71.1%)",
           "values": [
            -0.6308187515354045
           ]
          },
          {
           "axis": {
            "matches": true
           },
           "label": "PC 2 (25.1%)",
           "values": [
            -2.3003778367278285
           ]
          },
          {
           "axis": {
            "matches": true
           },
           "label": "PC 3 (2.3%)",
           "values": [
            -0.38475365944396567
           ]
          },
          {
           "axis": {
            "matches": true
           },
           "label": "PC 4 (1.1%)",
           "values": [
            0.0515957444109676
           ]
          }
         ],
         "hovertemplate": "color=Lyon<br>%{xaxis.title.text}=%{x}<br>%{yaxis.title.text}=%{y}<extra></extra>",
         "legendgroup": "Lyon",
         "marker": {
          "color": "#19d3f3",
          "symbol": "circle"
         },
         "name": "Lyon",
         "showlegend": true,
         "type": "splom"
        },
        {
         "diagonal": {
          "visible": false
         },
         "dimensions": [
          {
           "axis": {
            "matches": true
           },
           "label": "PC 1 (71.1%)",
           "values": [
            5.340316638429699
           ]
          },
          {
           "axis": {
            "matches": true
           },
           "label": "PC 2 (25.1%)",
           "values": [
            -0.9818463179184743
           ]
          },
          {
           "axis": {
            "matches": true
           },
           "label": "PC 3 (2.3%)",
           "values": [
            0.2530125702864775
           ]
          },
          {
           "axis": {
            "matches": true
           },
           "label": "PC 4 (1.1%)",
           "values": [
            0.05135692059984313
           ]
          }
         ],
         "hovertemplate": "color=Marseille<br>%{xaxis.title.text}=%{x}<br>%{yaxis.title.text}=%{y}<extra></extra>",
         "legendgroup": "Marseille",
         "marker": {
          "color": "#FF6692",
          "symbol": "circle"
         },
         "name": "Marseille",
         "showlegend": true,
         "type": "splom"
        },
        {
         "diagonal": {
          "visible": false
         },
         "dimensions": [
          {
           "axis": {
            "matches": true
           },
           "label": "PC 1 (71.1%)",
           "values": [
            4.564581286316624
           ]
          },
          {
           "axis": {
            "matches": true
           },
           "label": "PC 2 (25.1%)",
           "values": [
            -0.3786608385838134
           ]
          },
          {
           "axis": {
            "matches": true
           },
           "label": "PC 3 (2.3%)",
           "values": [
            -0.09754804818229677
           ]
          },
          {
           "axis": {
            "matches": true
           },
           "label": "PC 4 (1.1%)",
           "values": [
            0.02160820678242369
           ]
          }
         ],
         "hovertemplate": "color=Montpellier<br>%{xaxis.title.text}=%{x}<br>%{yaxis.title.text}=%{y}<extra></extra>",
         "legendgroup": "Montpellier",
         "marker": {
          "color": "#B6E880",
          "symbol": "circle"
         },
         "name": "Montpellier",
         "showlegend": true,
         "type": "splom"
        },
        {
         "diagonal": {
          "visible": false
         },
         "dimensions": [
          {
           "axis": {
            "matches": true
           },
           "label": "PC 1 (71.1%)",
           "values": [
            -0.5686890924874721
           ]
          },
          {
           "axis": {
            "matches": true
           },
           "label": "PC 2 (25.1%)",
           "values": [
            1.838433800750341
           ]
          },
          {
           "axis": {
            "matches": true
           },
           "label": "PC 3 (2.3%)",
           "values": [
            -0.34315802823461794
           ]
          },
          {
           "axis": {
            "matches": true
           },
           "label": "PC 4 (1.1%)",
           "values": [
            0.42940482433885385
           ]
          }
         ],
         "hovertemplate": "color=Nantes<br>%{xaxis.title.text}=%{x}<br>%{yaxis.title.text}=%{y}<extra></extra>",
         "legendgroup": "Nantes",
         "marker": {
          "color": "#FF97FF",
          "symbol": "circle"
         },
         "name": "Nantes",
         "showlegend": true,
         "type": "splom"
        },
        {
         "diagonal": {
          "visible": false
         },
         "dimensions": [
          {
           "axis": {
            "matches": true
           },
           "label": "PC 1 (71.1%)",
           "values": [
            6.438984017583438
           ]
          },
          {
           "axis": {
            "matches": true
           },
           "label": "PC 2 (25.1%)",
           "values": [
            0.6879776965811787
           ]
          },
          {
           "axis": {
            "matches": true
           },
           "label": "PC 3 (2.3%)",
           "values": [
            1.4160225189792435
           ]
          },
          {
           "axis": {
            "matches": true
           },
           "label": "PC 4 (1.1%)",
           "values": [
            -0.35320078258556276
           ]
          }
         ],
         "hovertemplate": "color=Nice<br>%{xaxis.title.text}=%{x}<br>%{yaxis.title.text}=%{y}<extra></extra>",
         "legendgroup": "Nice",
         "marker": {
          "color": "#FECB52",
          "symbol": "circle"
         },
         "name": "Nice",
         "showlegend": true,
         "type": "splom"
        },
        {
         "diagonal": {
          "visible": false
         },
         "dimensions": [
          {
           "axis": {
            "matches": true
           },
           "label": "PC 1 (71.1%)",
           "values": [
            -1.555755955594685
           ]
          },
          {
           "axis": {
            "matches": true
           },
           "label": "PC 2 (25.1%)",
           "values": [
            -0.019905906238894638
           ]
          },
          {
           "axis": {
            "matches": true
           },
           "label": "PC 3 (2.3%)",
           "values": [
            0.3165018145877165
           ]
          },
          {
           "axis": {
            "matches": true
           },
           "label": "PC 4 (1.1%)",
           "values": [
            0.8030394152292343
           ]
          }
         ],
         "hovertemplate": "color=Paris<br>%{xaxis.title.text}=%{x}<br>%{yaxis.title.text}=%{y}<extra></extra>",
         "legendgroup": "Paris",
         "marker": {
          "color": "#636efa",
          "symbol": "circle"
         },
         "name": "Paris",
         "showlegend": true,
         "type": "splom"
        },
        {
         "diagonal": {
          "visible": false
         },
         "dimensions": [
          {
           "axis": {
            "matches": true
           },
           "label": "PC 1 (71.1%)",
           "values": [
            -1.8755435900343147
           ]
          },
          {
           "axis": {
            "matches": true
           },
           "label": "PC 2 (25.1%)",
           "values": [
            2.3323107912272736
           ]
          },
          {
           "axis": {
            "matches": true
           },
           "label": "PC 3 (2.3%)",
           "values": [
            -0.08780883699919914
           ]
          },
          {
           "axis": {
            "matches": true
           },
           "label": "PC 4 (1.1%)",
           "values": [
            0.23433452110826236
           ]
          }
         ],
         "hovertemplate": "color=Rennes<br>%{xaxis.title.text}=%{x}<br>%{yaxis.title.text}=%{y}<extra></extra>",
         "legendgroup": "Rennes",
         "marker": {
          "color": "#EF553B",
          "symbol": "circle"
         },
         "name": "Rennes",
         "showlegend": true,
         "type": "splom"
        },
        {
         "diagonal": {
          "visible": false
         },
         "dimensions": [
          {
           "axis": {
            "matches": true
           },
           "label": "PC 1 (71.1%)",
           "values": [
            -4.2048204708804775
           ]
          },
          {
           "axis": {
            "matches": true
           },
           "label": "PC 2 (25.1%)",
           "values": [
            -3.1910033297677094
           ]
          },
          {
           "axis": {
            "matches": true
           },
           "label": "PC 3 (2.3%)",
           "values": [
            0.634457249785953
           ]
          },
          {
           "axis": {
            "matches": true
           },
           "label": "PC 4 (1.1%)",
           "values": [
            0.21086754364840582
           ]
          }
         ],
         "hovertemplate": "color=Strasbourg<br>%{xaxis.title.text}=%{x}<br>%{yaxis.title.text}=%{y}<extra></extra>",
         "legendgroup": "Strasbourg",
         "marker": {
          "color": "#00cc96",
          "symbol": "circle"
         },
         "name": "Strasbourg",
         "showlegend": true,
         "type": "splom"
        },
        {
         "diagonal": {
          "visible": false
         },
         "dimensions": [
          {
           "axis": {
            "matches": true
           },
           "label": "PC 1 (71.1%)",
           "values": [
            2.0507062897352326
           ]
          },
          {
           "axis": {
            "matches": true
           },
           "label": "PC 2 (25.1%)",
           "values": [
            0.06039166042341602
           ]
          },
          {
           "axis": {
            "matches": true
           },
           "label": "PC 3 (2.3%)",
           "values": [
            -0.8384126508230832
           ]
          },
          {
           "axis": {
            "matches": true
           },
           "label": "PC 4 (1.1%)",
           "values": [
            -0.400077619664921
           ]
          }
         ],
         "hovertemplate": "color=Toulouse<br>%{xaxis.title.text}=%{x}<br>%{yaxis.title.text}=%{y}<extra></extra>",
         "legendgroup": "Toulouse",
         "marker": {
          "color": "#ab63fa",
          "symbol": "circle"
         },
         "name": "Toulouse",
         "showlegend": true,
         "type": "splom"
        },
        {
         "diagonal": {
          "visible": false
         },
         "dimensions": [
          {
           "axis": {
            "matches": true
           },
           "label": "PC 1 (71.1%)",
           "values": [
            -2.1759450267216103
           ]
          },
          {
           "axis": {
            "matches": true
           },
           "label": "PC 2 (25.1%)",
           "values": [
            -0.988382393876528
           ]
          },
          {
           "axis": {
            "matches": true
           },
           "label": "PC 3 (2.3%)",
           "values": [
            -0.23944780231605067
           ]
          },
          {
           "axis": {
            "matches": true
           },
           "label": "PC 4 (1.1%)",
           "values": [
            -0.44668372591484967
           ]
          }
         ],
         "hovertemplate": "color=Vichy<br>%{xaxis.title.text}=%{x}<br>%{yaxis.title.text}=%{y}<extra></extra>",
         "legendgroup": "Vichy",
         "marker": {
          "color": "#FFA15A",
          "symbol": "circle"
         },
         "name": "Vichy",
         "showlegend": true,
         "type": "splom"
        }
       ],
       "layout": {
        "dragmode": "select",
        "legend": {
         "title": {
          "text": "color"
         },
         "tracegroupgap": 0
        },
        "margin": {
         "t": 60
        },
        "template": {
         "data": {
          "bar": [
           {
            "error_x": {
             "color": "#2a3f5f"
            },
            "error_y": {
             "color": "#2a3f5f"
            },
            "marker": {
             "line": {
              "color": "#E5ECF6",
              "width": 0.5
             }
            },
            "type": "bar"
           }
          ],
          "barpolar": [
           {
            "marker": {
             "line": {
              "color": "#E5ECF6",
              "width": 0.5
             }
            },
            "type": "barpolar"
           }
          ],
          "carpet": [
           {
            "aaxis": {
             "endlinecolor": "#2a3f5f",
             "gridcolor": "white",
             "linecolor": "white",
             "minorgridcolor": "white",
             "startlinecolor": "#2a3f5f"
            },
            "baxis": {
             "endlinecolor": "#2a3f5f",
             "gridcolor": "white",
             "linecolor": "white",
             "minorgridcolor": "white",
             "startlinecolor": "#2a3f5f"
            },
            "type": "carpet"
           }
          ],
          "choropleth": [
           {
            "colorbar": {
             "outlinewidth": 0,
             "ticks": ""
            },
            "type": "choropleth"
           }
          ],
          "contour": [
           {
            "colorbar": {
             "outlinewidth": 0,
             "ticks": ""
            },
            "colorscale": [
             [
              0,
              "#0d0887"
             ],
             [
              0.1111111111111111,
              "#46039f"
             ],
             [
              0.2222222222222222,
              "#7201a8"
             ],
             [
              0.3333333333333333,
              "#9c179e"
             ],
             [
              0.4444444444444444,
              "#bd3786"
             ],
             [
              0.5555555555555556,
              "#d8576b"
             ],
             [
              0.6666666666666666,
              "#ed7953"
             ],
             [
              0.7777777777777778,
              "#fb9f3a"
             ],
             [
              0.8888888888888888,
              "#fdca26"
             ],
             [
              1,
              "#f0f921"
             ]
            ],
            "type": "contour"
           }
          ],
          "contourcarpet": [
           {
            "colorbar": {
             "outlinewidth": 0,
             "ticks": ""
            },
            "type": "contourcarpet"
           }
          ],
          "heatmap": [
           {
            "colorbar": {
             "outlinewidth": 0,
             "ticks": ""
            },
            "colorscale": [
             [
              0,
              "#0d0887"
             ],
             [
              0.1111111111111111,
              "#46039f"
             ],
             [
              0.2222222222222222,
              "#7201a8"
             ],
             [
              0.3333333333333333,
              "#9c179e"
             ],
             [
              0.4444444444444444,
              "#bd3786"
             ],
             [
              0.5555555555555556,
              "#d8576b"
             ],
             [
              0.6666666666666666,
              "#ed7953"
             ],
             [
              0.7777777777777778,
              "#fb9f3a"
             ],
             [
              0.8888888888888888,
              "#fdca26"
             ],
             [
              1,
              "#f0f921"
             ]
            ],
            "type": "heatmap"
           }
          ],
          "heatmapgl": [
           {
            "colorbar": {
             "outlinewidth": 0,
             "ticks": ""
            },
            "colorscale": [
             [
              0,
              "#0d0887"
             ],
             [
              0.1111111111111111,
              "#46039f"
             ],
             [
              0.2222222222222222,
              "#7201a8"
             ],
             [
              0.3333333333333333,
              "#9c179e"
             ],
             [
              0.4444444444444444,
              "#bd3786"
             ],
             [
              0.5555555555555556,
              "#d8576b"
             ],
             [
              0.6666666666666666,
              "#ed7953"
             ],
             [
              0.7777777777777778,
              "#fb9f3a"
             ],
             [
              0.8888888888888888,
              "#fdca26"
             ],
             [
              1,
              "#f0f921"
             ]
            ],
            "type": "heatmapgl"
           }
          ],
          "histogram": [
           {
            "marker": {
             "colorbar": {
              "outlinewidth": 0,
              "ticks": ""
             }
            },
            "type": "histogram"
           }
          ],
          "histogram2d": [
           {
            "colorbar": {
             "outlinewidth": 0,
             "ticks": ""
            },
            "colorscale": [
             [
              0,
              "#0d0887"
             ],
             [
              0.1111111111111111,
              "#46039f"
             ],
             [
              0.2222222222222222,
              "#7201a8"
             ],
             [
              0.3333333333333333,
              "#9c179e"
             ],
             [
              0.4444444444444444,
              "#bd3786"
             ],
             [
              0.5555555555555556,
              "#d8576b"
             ],
             [
              0.6666666666666666,
              "#ed7953"
             ],
             [
              0.7777777777777778,
              "#fb9f3a"
             ],
             [
              0.8888888888888888,
              "#fdca26"
             ],
             [
              1,
              "#f0f921"
             ]
            ],
            "type": "histogram2d"
           }
          ],
          "histogram2dcontour": [
           {
            "colorbar": {
             "outlinewidth": 0,
             "ticks": ""
            },
            "colorscale": [
             [
              0,
              "#0d0887"
             ],
             [
              0.1111111111111111,
              "#46039f"
             ],
             [
              0.2222222222222222,
              "#7201a8"
             ],
             [
              0.3333333333333333,
              "#9c179e"
             ],
             [
              0.4444444444444444,
              "#bd3786"
             ],
             [
              0.5555555555555556,
              "#d8576b"
             ],
             [
              0.6666666666666666,
              "#ed7953"
             ],
             [
              0.7777777777777778,
              "#fb9f3a"
             ],
             [
              0.8888888888888888,
              "#fdca26"
             ],
             [
              1,
              "#f0f921"
             ]
            ],
            "type": "histogram2dcontour"
           }
          ],
          "mesh3d": [
           {
            "colorbar": {
             "outlinewidth": 0,
             "ticks": ""
            },
            "type": "mesh3d"
           }
          ],
          "parcoords": [
           {
            "line": {
             "colorbar": {
              "outlinewidth": 0,
              "ticks": ""
             }
            },
            "type": "parcoords"
           }
          ],
          "pie": [
           {
            "automargin": true,
            "type": "pie"
           }
          ],
          "scatter": [
           {
            "marker": {
             "colorbar": {
              "outlinewidth": 0,
              "ticks": ""
             }
            },
            "type": "scatter"
           }
          ],
          "scatter3d": [
           {
            "line": {
             "colorbar": {
              "outlinewidth": 0,
              "ticks": ""
             }
            },
            "marker": {
             "colorbar": {
              "outlinewidth": 0,
              "ticks": ""
             }
            },
            "type": "scatter3d"
           }
          ],
          "scattercarpet": [
           {
            "marker": {
             "colorbar": {
              "outlinewidth": 0,
              "ticks": ""
             }
            },
            "type": "scattercarpet"
           }
          ],
          "scattergeo": [
           {
            "marker": {
             "colorbar": {
              "outlinewidth": 0,
              "ticks": ""
             }
            },
            "type": "scattergeo"
           }
          ],
          "scattergl": [
           {
            "marker": {
             "colorbar": {
              "outlinewidth": 0,
              "ticks": ""
             }
            },
            "type": "scattergl"
           }
          ],
          "scattermapbox": [
           {
            "marker": {
             "colorbar": {
              "outlinewidth": 0,
              "ticks": ""
             }
            },
            "type": "scattermapbox"
           }
          ],
          "scatterpolar": [
           {
            "marker": {
             "colorbar": {
              "outlinewidth": 0,
              "ticks": ""
             }
            },
            "type": "scatterpolar"
           }
          ],
          "scatterpolargl": [
           {
            "marker": {
             "colorbar": {
              "outlinewidth": 0,
              "ticks": ""
             }
            },
            "type": "scatterpolargl"
           }
          ],
          "scatterternary": [
           {
            "marker": {
             "colorbar": {
              "outlinewidth": 0,
              "ticks": ""
             }
            },
            "type": "scatterternary"
           }
          ],
          "surface": [
           {
            "colorbar": {
             "outlinewidth": 0,
             "ticks": ""
            },
            "colorscale": [
             [
              0,
              "#0d0887"
             ],
             [
              0.1111111111111111,
              "#46039f"
             ],
             [
              0.2222222222222222,
              "#7201a8"
             ],
             [
              0.3333333333333333,
              "#9c179e"
             ],
             [
              0.4444444444444444,
              "#bd3786"
             ],
             [
              0.5555555555555556,
              "#d8576b"
             ],
             [
              0.6666666666666666,
              "#ed7953"
             ],
             [
              0.7777777777777778,
              "#fb9f3a"
             ],
             [
              0.8888888888888888,
              "#fdca26"
             ],
             [
              1,
              "#f0f921"
             ]
            ],
            "type": "surface"
           }
          ],
          "table": [
           {
            "cells": {
             "fill": {
              "color": "#EBF0F8"
             },
             "line": {
              "color": "white"
             }
            },
            "header": {
             "fill": {
              "color": "#C8D4E3"
             },
             "line": {
              "color": "white"
             }
            },
            "type": "table"
           }
          ]
         },
         "layout": {
          "annotationdefaults": {
           "arrowcolor": "#2a3f5f",
           "arrowhead": 0,
           "arrowwidth": 1
          },
          "autotypenumbers": "strict",
          "coloraxis": {
           "colorbar": {
            "outlinewidth": 0,
            "ticks": ""
           }
          },
          "colorscale": {
           "diverging": [
            [
             0,
             "#8e0152"
            ],
            [
             0.1,
             "#c51b7d"
            ],
            [
             0.2,
             "#de77ae"
            ],
            [
             0.3,
             "#f1b6da"
            ],
            [
             0.4,
             "#fde0ef"
            ],
            [
             0.5,
             "#f7f7f7"
            ],
            [
             0.6,
             "#e6f5d0"
            ],
            [
             0.7,
             "#b8e186"
            ],
            [
             0.8,
             "#7fbc41"
            ],
            [
             0.9,
             "#4d9221"
            ],
            [
             1,
             "#276419"
            ]
           ],
           "sequential": [
            [
             0,
             "#0d0887"
            ],
            [
             0.1111111111111111,
             "#46039f"
            ],
            [
             0.2222222222222222,
             "#7201a8"
            ],
            [
             0.3333333333333333,
             "#9c179e"
            ],
            [
             0.4444444444444444,
             "#bd3786"
            ],
            [
             0.5555555555555556,
             "#d8576b"
            ],
            [
             0.6666666666666666,
             "#ed7953"
            ],
            [
             0.7777777777777778,
             "#fb9f3a"
            ],
            [
             0.8888888888888888,
             "#fdca26"
            ],
            [
             1,
             "#f0f921"
            ]
           ],
           "sequentialminus": [
            [
             0,
             "#0d0887"
            ],
            [
             0.1111111111111111,
             "#46039f"
            ],
            [
             0.2222222222222222,
             "#7201a8"
            ],
            [
             0.3333333333333333,
             "#9c179e"
            ],
            [
             0.4444444444444444,
             "#bd3786"
            ],
            [
             0.5555555555555556,
             "#d8576b"
            ],
            [
             0.6666666666666666,
             "#ed7953"
            ],
            [
             0.7777777777777778,
             "#fb9f3a"
            ],
            [
             0.8888888888888888,
             "#fdca26"
            ],
            [
             1,
             "#f0f921"
            ]
           ]
          },
          "colorway": [
           "#636efa",
           "#EF553B",
           "#00cc96",
           "#ab63fa",
           "#FFA15A",
           "#19d3f3",
           "#FF6692",
           "#B6E880",
           "#FF97FF",
           "#FECB52"
          ],
          "font": {
           "color": "#2a3f5f"
          },
          "geo": {
           "bgcolor": "white",
           "lakecolor": "white",
           "landcolor": "#E5ECF6",
           "showlakes": true,
           "showland": true,
           "subunitcolor": "white"
          },
          "hoverlabel": {
           "align": "left"
          },
          "hovermode": "closest",
          "mapbox": {
           "style": "light"
          },
          "paper_bgcolor": "white",
          "plot_bgcolor": "#E5ECF6",
          "polar": {
           "angularaxis": {
            "gridcolor": "white",
            "linecolor": "white",
            "ticks": ""
           },
           "bgcolor": "#E5ECF6",
           "radialaxis": {
            "gridcolor": "white",
            "linecolor": "white",
            "ticks": ""
           }
          },
          "scene": {
           "xaxis": {
            "backgroundcolor": "#E5ECF6",
            "gridcolor": "white",
            "gridwidth": 2,
            "linecolor": "white",
            "showbackground": true,
            "ticks": "",
            "zerolinecolor": "white"
           },
           "yaxis": {
            "backgroundcolor": "#E5ECF6",
            "gridcolor": "white",
            "gridwidth": 2,
            "linecolor": "white",
            "showbackground": true,
            "ticks": "",
            "zerolinecolor": "white"
           },
           "zaxis": {
            "backgroundcolor": "#E5ECF6",
            "gridcolor": "white",
            "gridwidth": 2,
            "linecolor": "white",
            "showbackground": true,
            "ticks": "",
            "zerolinecolor": "white"
           }
          },
          "shapedefaults": {
           "line": {
            "color": "#2a3f5f"
           }
          },
          "ternary": {
           "aaxis": {
            "gridcolor": "white",
            "linecolor": "white",
            "ticks": ""
           },
           "baxis": {
            "gridcolor": "white",
            "linecolor": "white",
            "ticks": ""
           },
           "bgcolor": "#E5ECF6",
           "caxis": {
            "gridcolor": "white",
            "linecolor": "white",
            "ticks": ""
           }
          },
          "title": {
           "x": 0.05
          },
          "xaxis": {
           "automargin": true,
           "gridcolor": "white",
           "linecolor": "white",
           "ticks": "",
           "title": {
            "standoff": 15
           },
           "zerolinecolor": "white",
           "zerolinewidth": 2
          },
          "yaxis": {
           "automargin": true,
           "gridcolor": "white",
           "linecolor": "white",
           "ticks": "",
           "title": {
            "standoff": 15
           },
           "zerolinecolor": "white",
           "zerolinewidth": 2
          }
         }
        }
       }
      },
      "text/html": [
       "<div>                            <div id=\"05925e87-1391-4024-810c-c577ffb4ac8d\" class=\"plotly-graph-div\" style=\"height:525px; width:100%;\"></div>            <script type=\"text/javascript\">                require([\"plotly\"], function(Plotly) {                    window.PLOTLYENV=window.PLOTLYENV || {};                                    if (document.getElementById(\"05925e87-1391-4024-810c-c577ffb4ac8d\")) {                    Plotly.newPlot(                        \"05925e87-1391-4024-810c-c577ffb4ac8d\",                        [{\"diagonal\": {\"visible\": false}, \"dimensions\": [{\"axis\": {\"matches\": true}, \"label\": \"PC 1 (71.1%)\", \"values\": [3.250476968211823]}, {\"axis\": {\"matches\": true}, \"label\": \"PC 2 (25.1%)\", \"values\": [0.8632969138171216]}, {\"axis\": {\"matches\": true}, \"label\": \"PC 3 (2.3%)\", \"values\": [-0.8345735751417435]}, {\"axis\": {\"matches\": true}, \"label\": \"PC 4 (1.1%)\", \"values\": [0.6968162034595028]}], \"hovertemplate\": \"color=Bordeaux<br>%{xaxis.title.text}=%{x}<br>%{yaxis.title.text}=%{y}<extra></extra>\", \"legendgroup\": \"Bordeaux\", \"marker\": {\"color\": \"#636efa\", \"symbol\": \"circle\"}, \"name\": \"Bordeaux\", \"showlegend\": true, \"type\": \"splom\"}, {\"diagonal\": {\"visible\": false}, \"dimensions\": [{\"axis\": {\"matches\": true}, \"label\": \"PC 1 (71.1%)\", \"values\": [-2.9195823385788806]}, {\"axis\": {\"matches\": true}, \"label\": \"PC 2 (25.1%)\", \"values\": [5.057037907763607]}, {\"axis\": {\"matches\": true}, \"label\": \"PC 3 (2.3%)\", \"values\": [0.02097384008751654]}, {\"axis\": {\"matches\": true}, \"label\": \"PC 4 (1.1%)\", \"values\": [-0.541843398441126]}], \"hovertemplate\": \"color=Brest<br>%{xaxis.title.text}=%{x}<br>%{yaxis.title.text}=%{y}<extra></extra>\", \"legendgroup\": \"Brest\", \"marker\": {\"color\": \"#EF553B\", \"symbol\": \"circle\"}, \"name\": \"Brest\", \"showlegend\": true, \"type\": \"splom\"}, {\"diagonal\": {\"visible\": false}, \"dimensions\": [{\"axis\": {\"matches\": true}, \"label\": \"PC 1 (71.1%)\", \"values\": [-1.6337147343655019]}, {\"axis\": {\"matches\": true}, \"label\": \"PC 2 (25.1%)\", \"values\": [-0.9282939692025769]}, {\"axis\": {\"matches\": true}, \"label\": \"PC 3 (2.3%)\", \"values\": [-0.4344249614330958]}, {\"axis\": {\"matches\": true}, \"label\": \"PC 4 (1.1%)\", \"values\": [-0.4323459339593218]}], \"hovertemplate\": \"color=Clermont<br>%{xaxis.title.text}=%{x}<br>%{yaxis.title.text}=%{y}<extra></extra>\", \"legendgroup\": \"Clermont\", \"marker\": {\"color\": \"#00cc96\", \"symbol\": \"circle\"}, \"name\": \"Clermont\", \"showlegend\": true, \"type\": \"splom\"}, {\"diagonal\": {\"visible\": false}, \"dimensions\": [{\"axis\": {\"matches\": true}, \"label\": \"PC 1 (71.1%)\", \"values\": [-1.281628580726276]}, {\"axis\": {\"matches\": true}, \"label\": \"PC 2 (25.1%)\", \"values\": [-2.448846083762081]}, {\"axis\": {\"matches\": true}, \"label\": \"PC 3 (2.3%)\", \"values\": [-0.35040613141338867]}, {\"axis\": {\"matches\": true}, \"label\": \"PC 4 (1.1%)\", \"values\": [-0.4293807103221837]}], \"hovertemplate\": \"color=Grenoble<br>%{xaxis.title.text}=%{x}<br>%{yaxis.title.text}=%{y}<extra></extra>\", \"legendgroup\": \"Grenoble\", \"marker\": {\"color\": \"#ab63fa\", \"symbol\": \"circle\"}, \"name\": \"Grenoble\", \"showlegend\": true, \"type\": \"splom\"}, {\"diagonal\": {\"visible\": false}, \"dimensions\": [{\"axis\": {\"matches\": true}, \"label\": \"PC 1 (71.1%)\", \"values\": [-4.798566659352196]}, {\"axis\": {\"matches\": true}, \"label\": \"PC 2 (25.1%)\", \"values\": [0.39786790551497225]}, {\"axis\": {\"matches\": true}, \"label\": \"PC 3 (2.3%)\", \"values\": [0.9695657002605339]}, {\"axis\": {\"matches\": true}, \"label\": \"PC 4 (1.1%)\", \"values\": [0.10450879131047137]}], \"hovertemplate\": \"color=Lille<br>%{xaxis.title.text}=%{x}<br>%{yaxis.title.text}=%{y}<extra></extra>\", \"legendgroup\": \"Lille\", \"marker\": {\"color\": \"#FFA15A\", \"symbol\": \"circle\"}, \"name\": \"Lille\", \"showlegend\": true, \"type\": \"splom\"}, {\"diagonal\": {\"visible\": false}, \"dimensions\": [{\"axis\": {\"matches\": true}, \"label\": \"PC 1 (71.1%)\", \"values\": [-0.6308187515354045]}, {\"axis\": {\"matches\": true}, \"label\": \"PC 2 (25.1%)\", \"values\": [-2.3003778367278285]}, {\"axis\": {\"matches\": true}, \"label\": \"PC 3 (2.3%)\", \"values\": [-0.38475365944396567]}, {\"axis\": {\"matches\": true}, \"label\": \"PC 4 (1.1%)\", \"values\": [0.0515957444109676]}], \"hovertemplate\": \"color=Lyon<br>%{xaxis.title.text}=%{x}<br>%{yaxis.title.text}=%{y}<extra></extra>\", \"legendgroup\": \"Lyon\", \"marker\": {\"color\": \"#19d3f3\", \"symbol\": \"circle\"}, \"name\": \"Lyon\", \"showlegend\": true, \"type\": \"splom\"}, {\"diagonal\": {\"visible\": false}, \"dimensions\": [{\"axis\": {\"matches\": true}, \"label\": \"PC 1 (71.1%)\", \"values\": [5.340316638429699]}, {\"axis\": {\"matches\": true}, \"label\": \"PC 2 (25.1%)\", \"values\": [-0.9818463179184743]}, {\"axis\": {\"matches\": true}, \"label\": \"PC 3 (2.3%)\", \"values\": [0.2530125702864775]}, {\"axis\": {\"matches\": true}, \"label\": \"PC 4 (1.1%)\", \"values\": [0.05135692059984313]}], \"hovertemplate\": \"color=Marseille<br>%{xaxis.title.text}=%{x}<br>%{yaxis.title.text}=%{y}<extra></extra>\", \"legendgroup\": \"Marseille\", \"marker\": {\"color\": \"#FF6692\", \"symbol\": \"circle\"}, \"name\": \"Marseille\", \"showlegend\": true, \"type\": \"splom\"}, {\"diagonal\": {\"visible\": false}, \"dimensions\": [{\"axis\": {\"matches\": true}, \"label\": \"PC 1 (71.1%)\", \"values\": [4.564581286316624]}, {\"axis\": {\"matches\": true}, \"label\": \"PC 2 (25.1%)\", \"values\": [-0.3786608385838134]}, {\"axis\": {\"matches\": true}, \"label\": \"PC 3 (2.3%)\", \"values\": [-0.09754804818229677]}, {\"axis\": {\"matches\": true}, \"label\": \"PC 4 (1.1%)\", \"values\": [0.02160820678242369]}], \"hovertemplate\": \"color=Montpellier<br>%{xaxis.title.text}=%{x}<br>%{yaxis.title.text}=%{y}<extra></extra>\", \"legendgroup\": \"Montpellier\", \"marker\": {\"color\": \"#B6E880\", \"symbol\": \"circle\"}, \"name\": \"Montpellier\", \"showlegend\": true, \"type\": \"splom\"}, {\"diagonal\": {\"visible\": false}, \"dimensions\": [{\"axis\": {\"matches\": true}, \"label\": \"PC 1 (71.1%)\", \"values\": [-0.5686890924874721]}, {\"axis\": {\"matches\": true}, \"label\": \"PC 2 (25.1%)\", \"values\": [1.838433800750341]}, {\"axis\": {\"matches\": true}, \"label\": \"PC 3 (2.3%)\", \"values\": [-0.34315802823461794]}, {\"axis\": {\"matches\": true}, \"label\": \"PC 4 (1.1%)\", \"values\": [0.42940482433885385]}], \"hovertemplate\": \"color=Nantes<br>%{xaxis.title.text}=%{x}<br>%{yaxis.title.text}=%{y}<extra></extra>\", \"legendgroup\": \"Nantes\", \"marker\": {\"color\": \"#FF97FF\", \"symbol\": \"circle\"}, \"name\": \"Nantes\", \"showlegend\": true, \"type\": \"splom\"}, {\"diagonal\": {\"visible\": false}, \"dimensions\": [{\"axis\": {\"matches\": true}, \"label\": \"PC 1 (71.1%)\", \"values\": [6.438984017583438]}, {\"axis\": {\"matches\": true}, \"label\": \"PC 2 (25.1%)\", \"values\": [0.6879776965811787]}, {\"axis\": {\"matches\": true}, \"label\": \"PC 3 (2.3%)\", \"values\": [1.4160225189792435]}, {\"axis\": {\"matches\": true}, \"label\": \"PC 4 (1.1%)\", \"values\": [-0.35320078258556276]}], \"hovertemplate\": \"color=Nice<br>%{xaxis.title.text}=%{x}<br>%{yaxis.title.text}=%{y}<extra></extra>\", \"legendgroup\": \"Nice\", \"marker\": {\"color\": \"#FECB52\", \"symbol\": \"circle\"}, \"name\": \"Nice\", \"showlegend\": true, \"type\": \"splom\"}, {\"diagonal\": {\"visible\": false}, \"dimensions\": [{\"axis\": {\"matches\": true}, \"label\": \"PC 1 (71.1%)\", \"values\": [-1.555755955594685]}, {\"axis\": {\"matches\": true}, \"label\": \"PC 2 (25.1%)\", \"values\": [-0.019905906238894638]}, {\"axis\": {\"matches\": true}, \"label\": \"PC 3 (2.3%)\", \"values\": [0.3165018145877165]}, {\"axis\": {\"matches\": true}, \"label\": \"PC 4 (1.1%)\", \"values\": [0.8030394152292343]}], \"hovertemplate\": \"color=Paris<br>%{xaxis.title.text}=%{x}<br>%{yaxis.title.text}=%{y}<extra></extra>\", \"legendgroup\": \"Paris\", \"marker\": {\"color\": \"#636efa\", \"symbol\": \"circle\"}, \"name\": \"Paris\", \"showlegend\": true, \"type\": \"splom\"}, {\"diagonal\": {\"visible\": false}, \"dimensions\": [{\"axis\": {\"matches\": true}, \"label\": \"PC 1 (71.1%)\", \"values\": [-1.8755435900343147]}, {\"axis\": {\"matches\": true}, \"label\": \"PC 2 (25.1%)\", \"values\": [2.3323107912272736]}, {\"axis\": {\"matches\": true}, \"label\": \"PC 3 (2.3%)\", \"values\": [-0.08780883699919914]}, {\"axis\": {\"matches\": true}, \"label\": \"PC 4 (1.1%)\", \"values\": [0.23433452110826236]}], \"hovertemplate\": \"color=Rennes<br>%{xaxis.title.text}=%{x}<br>%{yaxis.title.text}=%{y}<extra></extra>\", \"legendgroup\": \"Rennes\", \"marker\": {\"color\": \"#EF553B\", \"symbol\": \"circle\"}, \"name\": \"Rennes\", \"showlegend\": true, \"type\": \"splom\"}, {\"diagonal\": {\"visible\": false}, \"dimensions\": [{\"axis\": {\"matches\": true}, \"label\": \"PC 1 (71.1%)\", \"values\": [-4.2048204708804775]}, {\"axis\": {\"matches\": true}, \"label\": \"PC 2 (25.1%)\", \"values\": [-3.1910033297677094]}, {\"axis\": {\"matches\": true}, \"label\": \"PC 3 (2.3%)\", \"values\": [0.634457249785953]}, {\"axis\": {\"matches\": true}, \"label\": \"PC 4 (1.1%)\", \"values\": [0.21086754364840582]}], \"hovertemplate\": \"color=Strasbourg<br>%{xaxis.title.text}=%{x}<br>%{yaxis.title.text}=%{y}<extra></extra>\", \"legendgroup\": \"Strasbourg\", \"marker\": {\"color\": \"#00cc96\", \"symbol\": \"circle\"}, \"name\": \"Strasbourg\", \"showlegend\": true, \"type\": \"splom\"}, {\"diagonal\": {\"visible\": false}, \"dimensions\": [{\"axis\": {\"matches\": true}, \"label\": \"PC 1 (71.1%)\", \"values\": [2.0507062897352326]}, {\"axis\": {\"matches\": true}, \"label\": \"PC 2 (25.1%)\", \"values\": [0.06039166042341602]}, {\"axis\": {\"matches\": true}, \"label\": \"PC 3 (2.3%)\", \"values\": [-0.8384126508230832]}, {\"axis\": {\"matches\": true}, \"label\": \"PC 4 (1.1%)\", \"values\": [-0.400077619664921]}], \"hovertemplate\": \"color=Toulouse<br>%{xaxis.title.text}=%{x}<br>%{yaxis.title.text}=%{y}<extra></extra>\", \"legendgroup\": \"Toulouse\", \"marker\": {\"color\": \"#ab63fa\", \"symbol\": \"circle\"}, \"name\": \"Toulouse\", \"showlegend\": true, \"type\": \"splom\"}, {\"diagonal\": {\"visible\": false}, \"dimensions\": [{\"axis\": {\"matches\": true}, \"label\": \"PC 1 (71.1%)\", \"values\": [-2.1759450267216103]}, {\"axis\": {\"matches\": true}, \"label\": \"PC 2 (25.1%)\", \"values\": [-0.988382393876528]}, {\"axis\": {\"matches\": true}, \"label\": \"PC 3 (2.3%)\", \"values\": [-0.23944780231605067]}, {\"axis\": {\"matches\": true}, \"label\": \"PC 4 (1.1%)\", \"values\": [-0.44668372591484967]}], \"hovertemplate\": \"color=Vichy<br>%{xaxis.title.text}=%{x}<br>%{yaxis.title.text}=%{y}<extra></extra>\", \"legendgroup\": \"Vichy\", \"marker\": {\"color\": \"#FFA15A\", \"symbol\": \"circle\"}, \"name\": \"Vichy\", \"showlegend\": true, \"type\": \"splom\"}],                        {\"dragmode\": \"select\", \"legend\": {\"title\": {\"text\": \"color\"}, \"tracegroupgap\": 0}, \"margin\": {\"t\": 60}, \"template\": {\"data\": {\"bar\": [{\"error_x\": {\"color\": \"#2a3f5f\"}, \"error_y\": {\"color\": \"#2a3f5f\"}, \"marker\": {\"line\": {\"color\": \"#E5ECF6\", \"width\": 0.5}}, \"type\": \"bar\"}], \"barpolar\": [{\"marker\": {\"line\": {\"color\": \"#E5ECF6\", \"width\": 0.5}}, \"type\": \"barpolar\"}], \"carpet\": [{\"aaxis\": {\"endlinecolor\": \"#2a3f5f\", \"gridcolor\": \"white\", \"linecolor\": \"white\", \"minorgridcolor\": \"white\", \"startlinecolor\": \"#2a3f5f\"}, \"baxis\": {\"endlinecolor\": \"#2a3f5f\", \"gridcolor\": \"white\", \"linecolor\": \"white\", \"minorgridcolor\": \"white\", \"startlinecolor\": \"#2a3f5f\"}, \"type\": \"carpet\"}], \"choropleth\": [{\"colorbar\": {\"outlinewidth\": 0, \"ticks\": \"\"}, \"type\": \"choropleth\"}], \"contour\": [{\"colorbar\": {\"outlinewidth\": 0, \"ticks\": \"\"}, \"colorscale\": [[0.0, \"#0d0887\"], [0.1111111111111111, \"#46039f\"], [0.2222222222222222, \"#7201a8\"], [0.3333333333333333, \"#9c179e\"], [0.4444444444444444, \"#bd3786\"], [0.5555555555555556, \"#d8576b\"], [0.6666666666666666, \"#ed7953\"], [0.7777777777777778, \"#fb9f3a\"], [0.8888888888888888, \"#fdca26\"], [1.0, \"#f0f921\"]], \"type\": \"contour\"}], \"contourcarpet\": [{\"colorbar\": {\"outlinewidth\": 0, \"ticks\": \"\"}, \"type\": \"contourcarpet\"}], \"heatmap\": [{\"colorbar\": {\"outlinewidth\": 0, \"ticks\": \"\"}, \"colorscale\": [[0.0, \"#0d0887\"], [0.1111111111111111, \"#46039f\"], [0.2222222222222222, \"#7201a8\"], [0.3333333333333333, \"#9c179e\"], [0.4444444444444444, \"#bd3786\"], [0.5555555555555556, \"#d8576b\"], [0.6666666666666666, \"#ed7953\"], [0.7777777777777778, \"#fb9f3a\"], [0.8888888888888888, \"#fdca26\"], [1.0, \"#f0f921\"]], \"type\": \"heatmap\"}], \"heatmapgl\": [{\"colorbar\": {\"outlinewidth\": 0, \"ticks\": \"\"}, \"colorscale\": [[0.0, \"#0d0887\"], [0.1111111111111111, \"#46039f\"], [0.2222222222222222, \"#7201a8\"], [0.3333333333333333, \"#9c179e\"], [0.4444444444444444, \"#bd3786\"], [0.5555555555555556, \"#d8576b\"], [0.6666666666666666, \"#ed7953\"], [0.7777777777777778, \"#fb9f3a\"], [0.8888888888888888, \"#fdca26\"], [1.0, \"#f0f921\"]], \"type\": \"heatmapgl\"}], \"histogram\": [{\"marker\": {\"colorbar\": {\"outlinewidth\": 0, \"ticks\": \"\"}}, \"type\": \"histogram\"}], \"histogram2d\": [{\"colorbar\": {\"outlinewidth\": 0, \"ticks\": \"\"}, \"colorscale\": [[0.0, \"#0d0887\"], [0.1111111111111111, \"#46039f\"], [0.2222222222222222, \"#7201a8\"], [0.3333333333333333, \"#9c179e\"], [0.4444444444444444, \"#bd3786\"], [0.5555555555555556, \"#d8576b\"], [0.6666666666666666, \"#ed7953\"], [0.7777777777777778, \"#fb9f3a\"], [0.8888888888888888, \"#fdca26\"], [1.0, \"#f0f921\"]], \"type\": \"histogram2d\"}], \"histogram2dcontour\": [{\"colorbar\": {\"outlinewidth\": 0, \"ticks\": \"\"}, \"colorscale\": [[0.0, \"#0d0887\"], [0.1111111111111111, \"#46039f\"], [0.2222222222222222, \"#7201a8\"], [0.3333333333333333, \"#9c179e\"], [0.4444444444444444, \"#bd3786\"], [0.5555555555555556, \"#d8576b\"], [0.6666666666666666, \"#ed7953\"], [0.7777777777777778, \"#fb9f3a\"], [0.8888888888888888, \"#fdca26\"], [1.0, \"#f0f921\"]], \"type\": \"histogram2dcontour\"}], \"mesh3d\": [{\"colorbar\": {\"outlinewidth\": 0, \"ticks\": \"\"}, \"type\": \"mesh3d\"}], \"parcoords\": [{\"line\": {\"colorbar\": {\"outlinewidth\": 0, \"ticks\": \"\"}}, \"type\": \"parcoords\"}], \"pie\": [{\"automargin\": true, \"type\": \"pie\"}], \"scatter\": [{\"marker\": {\"colorbar\": {\"outlinewidth\": 0, \"ticks\": \"\"}}, \"type\": \"scatter\"}], \"scatter3d\": [{\"line\": {\"colorbar\": {\"outlinewidth\": 0, \"ticks\": \"\"}}, \"marker\": {\"colorbar\": {\"outlinewidth\": 0, \"ticks\": \"\"}}, \"type\": \"scatter3d\"}], \"scattercarpet\": [{\"marker\": {\"colorbar\": {\"outlinewidth\": 0, \"ticks\": \"\"}}, \"type\": \"scattercarpet\"}], \"scattergeo\": [{\"marker\": {\"colorbar\": {\"outlinewidth\": 0, \"ticks\": \"\"}}, \"type\": \"scattergeo\"}], \"scattergl\": [{\"marker\": {\"colorbar\": {\"outlinewidth\": 0, \"ticks\": \"\"}}, \"type\": \"scattergl\"}], \"scattermapbox\": [{\"marker\": {\"colorbar\": {\"outlinewidth\": 0, \"ticks\": \"\"}}, \"type\": \"scattermapbox\"}], \"scatterpolar\": [{\"marker\": {\"colorbar\": {\"outlinewidth\": 0, \"ticks\": \"\"}}, \"type\": \"scatterpolar\"}], \"scatterpolargl\": [{\"marker\": {\"colorbar\": {\"outlinewidth\": 0, \"ticks\": \"\"}}, \"type\": \"scatterpolargl\"}], \"scatterternary\": [{\"marker\": {\"colorbar\": {\"outlinewidth\": 0, \"ticks\": \"\"}}, \"type\": \"scatterternary\"}], \"surface\": [{\"colorbar\": {\"outlinewidth\": 0, \"ticks\": \"\"}, \"colorscale\": [[0.0, \"#0d0887\"], [0.1111111111111111, \"#46039f\"], [0.2222222222222222, \"#7201a8\"], [0.3333333333333333, \"#9c179e\"], [0.4444444444444444, \"#bd3786\"], [0.5555555555555556, \"#d8576b\"], [0.6666666666666666, \"#ed7953\"], [0.7777777777777778, \"#fb9f3a\"], [0.8888888888888888, \"#fdca26\"], [1.0, \"#f0f921\"]], \"type\": \"surface\"}], \"table\": [{\"cells\": {\"fill\": {\"color\": \"#EBF0F8\"}, \"line\": {\"color\": \"white\"}}, \"header\": {\"fill\": {\"color\": \"#C8D4E3\"}, \"line\": {\"color\": \"white\"}}, \"type\": \"table\"}]}, \"layout\": {\"annotationdefaults\": {\"arrowcolor\": \"#2a3f5f\", \"arrowhead\": 0, \"arrowwidth\": 1}, \"autotypenumbers\": \"strict\", \"coloraxis\": {\"colorbar\": {\"outlinewidth\": 0, \"ticks\": \"\"}}, \"colorscale\": {\"diverging\": [[0, \"#8e0152\"], [0.1, \"#c51b7d\"], [0.2, \"#de77ae\"], [0.3, \"#f1b6da\"], [0.4, \"#fde0ef\"], [0.5, \"#f7f7f7\"], [0.6, \"#e6f5d0\"], [0.7, \"#b8e186\"], [0.8, \"#7fbc41\"], [0.9, \"#4d9221\"], [1, \"#276419\"]], \"sequential\": [[0.0, \"#0d0887\"], [0.1111111111111111, \"#46039f\"], [0.2222222222222222, \"#7201a8\"], [0.3333333333333333, \"#9c179e\"], [0.4444444444444444, \"#bd3786\"], [0.5555555555555556, \"#d8576b\"], [0.6666666666666666, \"#ed7953\"], [0.7777777777777778, \"#fb9f3a\"], [0.8888888888888888, \"#fdca26\"], [1.0, \"#f0f921\"]], \"sequentialminus\": [[0.0, \"#0d0887\"], [0.1111111111111111, \"#46039f\"], [0.2222222222222222, \"#7201a8\"], [0.3333333333333333, \"#9c179e\"], [0.4444444444444444, \"#bd3786\"], [0.5555555555555556, \"#d8576b\"], [0.6666666666666666, \"#ed7953\"], [0.7777777777777778, \"#fb9f3a\"], [0.8888888888888888, \"#fdca26\"], [1.0, \"#f0f921\"]]}, \"colorway\": [\"#636efa\", \"#EF553B\", \"#00cc96\", \"#ab63fa\", \"#FFA15A\", \"#19d3f3\", \"#FF6692\", \"#B6E880\", \"#FF97FF\", \"#FECB52\"], \"font\": {\"color\": \"#2a3f5f\"}, \"geo\": {\"bgcolor\": \"white\", \"lakecolor\": \"white\", \"landcolor\": \"#E5ECF6\", \"showlakes\": true, \"showland\": true, \"subunitcolor\": \"white\"}, \"hoverlabel\": {\"align\": \"left\"}, \"hovermode\": \"closest\", \"mapbox\": {\"style\": \"light\"}, \"paper_bgcolor\": \"white\", \"plot_bgcolor\": \"#E5ECF6\", \"polar\": {\"angularaxis\": {\"gridcolor\": \"white\", \"linecolor\": \"white\", \"ticks\": \"\"}, \"bgcolor\": \"#E5ECF6\", \"radialaxis\": {\"gridcolor\": \"white\", \"linecolor\": \"white\", \"ticks\": \"\"}}, \"scene\": {\"xaxis\": {\"backgroundcolor\": \"#E5ECF6\", \"gridcolor\": \"white\", \"gridwidth\": 2, \"linecolor\": \"white\", \"showbackground\": true, \"ticks\": \"\", \"zerolinecolor\": \"white\"}, \"yaxis\": {\"backgroundcolor\": \"#E5ECF6\", \"gridcolor\": \"white\", \"gridwidth\": 2, \"linecolor\": \"white\", \"showbackground\": true, \"ticks\": \"\", \"zerolinecolor\": \"white\"}, \"zaxis\": {\"backgroundcolor\": \"#E5ECF6\", \"gridcolor\": \"white\", \"gridwidth\": 2, \"linecolor\": \"white\", \"showbackground\": true, \"ticks\": \"\", \"zerolinecolor\": \"white\"}}, \"shapedefaults\": {\"line\": {\"color\": \"#2a3f5f\"}}, \"ternary\": {\"aaxis\": {\"gridcolor\": \"white\", \"linecolor\": \"white\", \"ticks\": \"\"}, \"baxis\": {\"gridcolor\": \"white\", \"linecolor\": \"white\", \"ticks\": \"\"}, \"bgcolor\": \"#E5ECF6\", \"caxis\": {\"gridcolor\": \"white\", \"linecolor\": \"white\", \"ticks\": \"\"}}, \"title\": {\"x\": 0.05}, \"xaxis\": {\"automargin\": true, \"gridcolor\": \"white\", \"linecolor\": \"white\", \"ticks\": \"\", \"title\": {\"standoff\": 15}, \"zerolinecolor\": \"white\", \"zerolinewidth\": 2}, \"yaxis\": {\"automargin\": true, \"gridcolor\": \"white\", \"linecolor\": \"white\", \"ticks\": \"\", \"title\": {\"standoff\": 15}, \"zerolinecolor\": \"white\", \"zerolinewidth\": 2}}}},                        {\"responsive\": true}                    ).then(function(){\n",
       "                            \n",
       "var gd = document.getElementById('05925e87-1391-4024-810c-c577ffb4ac8d');\n",
       "var x = new MutationObserver(function (mutations, observer) {{\n",
       "        var display = window.getComputedStyle(gd).display;\n",
       "        if (!display || display === 'none') {{\n",
       "            console.log([gd, 'removed!']);\n",
       "            Plotly.purge(gd);\n",
       "            observer.disconnect();\n",
       "        }}\n",
       "}});\n",
       "\n",
       "// Listen for the removal of the full notebook cells\n",
       "var notebookContainer = gd.closest('#notebook-container');\n",
       "if (notebookContainer) {{\n",
       "    x.observe(notebookContainer, {childList: true});\n",
       "}}\n",
       "\n",
       "// Listen for the clearing of the current output cell\n",
       "var outputEl = gd.closest('.output');\n",
       "if (outputEl) {{\n",
       "    x.observe(outputEl, {childList: true});\n",
       "}}\n",
       "\n",
       "                        })                };                });            </script>        </div>"
      ]
     },
     "metadata": {},
     "output_type": "display_data"
    }
   ],
   "source": [
    "import plotly.express as px\n",
    "from sklearn.decomposition import PCA\n",
    "\n",
    "df = data_standarized\n",
    "features = x_labels\n",
    "\n",
    "pca = PCA()\n",
    "components = pca.fit_transform(df[features])\n",
    "labels = {\n",
    "    str(i): f\"PC {i+1} ({var:.1f}%)\"\n",
    "    for i, var in enumerate(pca.explained_variance_ratio_ * 100)\n",
    "}\n",
    "\n",
    "fig = px.scatter_matrix(\n",
    "    components,\n",
    "    labels=labels,\n",
    "    dimensions=range(4),\n",
    "    #text=principalComponentsDf['City']\n",
    "    color=principalComponentsDf['City']\n",
    ")\n",
    "fig.update_traces(diagonal_visible=False)\n",
    "fig.show()\n"
   ]
  },
  {
   "cell_type": "code",
   "execution_count": null,
   "metadata": {},
   "outputs": [],
   "source": []
  },
  {
   "cell_type": "code",
   "execution_count": null,
   "metadata": {},
   "outputs": [],
   "source": []
  }
 ],
 "metadata": {
  "kernelspec": {
   "display_name": "Python 3",
   "language": "python",
   "name": "python3"
  },
  "language_info": {
   "codemirror_mode": {
    "name": "ipython",
    "version": 3
   },
   "file_extension": ".py",
   "mimetype": "text/x-python",
   "name": "python",
   "nbconvert_exporter": "python",
   "pygments_lexer": "ipython3",
   "version": "3.7.6"
  }
 },
 "nbformat": 4,
 "nbformat_minor": 4
}
