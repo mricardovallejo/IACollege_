{
 "cells": [
  {
   "cell_type": "markdown",
   "metadata": {},
   "source": [
    "# Exercices - Statistique descriptive et inférentielle"
   ]
  },
  {
   "cell_type": "markdown",
   "metadata": {},
   "source": [
    "L’objectif de ces exercices est de réaliser des statistiques descriptives et inférentielles sur un ensemble de données."
   ]
  },
  {
   "cell_type": "markdown",
   "metadata": {},
   "source": [
    "Soit la base de données brain_size_Mod.xlsx décrivant les caractéristiques\n",
    "de cerveaux selon une étude scientifique (Willerman,1991). Cette base de\n",
    "données comprend les caractéristiques suivantes.\n",
    "\n",
    "1. Gender : Homme ou femme\n",
    "2. FSIQ : Score de QI complet basé sur les quatre sous-tests de Wechsler\n",
    "(1981)\n",
    "3. VIQ : Score de QI verbal basé sur les quatre sous-tests de Wechsler\n",
    "4. PIQ : Score de QI de performance basé sur les 4 sous-tests de Wechsler\n",
    "5. Weight : poids du corps en livres\n",
    "6. Height : hauteur en pouces\n",
    "7. MRI_Count : nombre total de pixels des 18 balayages IRM\n",
    "8. La variable Activity, qui décrit l’activité, a été ajoutée pour les simulations du cours\n"
   ]
  },
  {
   "cell_type": "markdown",
   "metadata": {},
   "source": [
    "# Load Data"
   ]
  },
  {
   "cell_type": "code",
   "execution_count": 1,
   "metadata": {},
   "outputs": [
    {
     "data": {
      "text/html": [
       "<div>\n",
       "<style scoped>\n",
       "    .dataframe tbody tr th:only-of-type {\n",
       "        vertical-align: middle;\n",
       "    }\n",
       "\n",
       "    .dataframe tbody tr th {\n",
       "        vertical-align: top;\n",
       "    }\n",
       "\n",
       "    .dataframe thead th {\n",
       "        text-align: right;\n",
       "    }\n",
       "</style>\n",
       "<table border=\"1\" class=\"dataframe\">\n",
       "  <thead>\n",
       "    <tr style=\"text-align: right;\">\n",
       "      <th></th>\n",
       "      <th>Unnamed: 0</th>\n",
       "      <th>Gender</th>\n",
       "      <th>FSIQ</th>\n",
       "      <th>VIQ</th>\n",
       "      <th>PIQ</th>\n",
       "      <th>Weight</th>\n",
       "      <th>Height</th>\n",
       "      <th>MRI_Count</th>\n",
       "      <th>Activity</th>\n",
       "    </tr>\n",
       "  </thead>\n",
       "  <tbody>\n",
       "    <tr>\n",
       "      <th>0</th>\n",
       "      <td>1</td>\n",
       "      <td>Female</td>\n",
       "      <td>133</td>\n",
       "      <td>132</td>\n",
       "      <td>124</td>\n",
       "      <td>118</td>\n",
       "      <td>64.5</td>\n",
       "      <td>816932</td>\n",
       "      <td>professor</td>\n",
       "    </tr>\n",
       "    <tr>\n",
       "      <th>1</th>\n",
       "      <td>2</td>\n",
       "      <td>Male</td>\n",
       "      <td>140</td>\n",
       "      <td>150</td>\n",
       "      <td>124</td>\n",
       "      <td>144</td>\n",
       "      <td>72.5</td>\n",
       "      <td>1001121</td>\n",
       "      <td>doctor</td>\n",
       "    </tr>\n",
       "    <tr>\n",
       "      <th>2</th>\n",
       "      <td>3</td>\n",
       "      <td>Male</td>\n",
       "      <td>139</td>\n",
       "      <td>123</td>\n",
       "      <td>150</td>\n",
       "      <td>143</td>\n",
       "      <td>73.3</td>\n",
       "      <td>1038437</td>\n",
       "      <td>farmer</td>\n",
       "    </tr>\n",
       "    <tr>\n",
       "      <th>3</th>\n",
       "      <td>4</td>\n",
       "      <td>Male</td>\n",
       "      <td>133</td>\n",
       "      <td>129</td>\n",
       "      <td>128</td>\n",
       "      <td>172</td>\n",
       "      <td>68.8</td>\n",
       "      <td>965353</td>\n",
       "      <td>doctor</td>\n",
       "    </tr>\n",
       "    <tr>\n",
       "      <th>4</th>\n",
       "      <td>5</td>\n",
       "      <td>Female</td>\n",
       "      <td>137</td>\n",
       "      <td>132</td>\n",
       "      <td>134</td>\n",
       "      <td>147</td>\n",
       "      <td>65.0</td>\n",
       "      <td>951545</td>\n",
       "      <td>artist</td>\n",
       "    </tr>\n",
       "  </tbody>\n",
       "</table>\n",
       "</div>"
      ],
      "text/plain": [
       "   Unnamed: 0  Gender  FSIQ  VIQ  PIQ  Weight  Height  MRI_Count   Activity\n",
       "0           1  Female   133  132  124     118    64.5     816932  professor\n",
       "1           2    Male   140  150  124     144    72.5    1001121     doctor\n",
       "2           3    Male   139  123  150     143    73.3    1038437     farmer\n",
       "3           4    Male   133  129  128     172    68.8     965353     doctor\n",
       "4           5  Female   137  132  134     147    65.0     951545     artist"
      ]
     },
     "execution_count": 1,
     "metadata": {},
     "output_type": "execute_result"
    }
   ],
   "source": [
    "import pandas as pd\n",
    "import numpy as np\n",
    "import seaborn as sns\n",
    "import matplotlib.pyplot as plt\n",
    "\n",
    "brain_size_Mod_Original = pd.read_excel('brain_size_Mod.xlsx')\n",
    "brain_size_Mod_Original.head(5)\n"
   ]
  },
  {
   "cell_type": "markdown",
   "metadata": {},
   "source": [
    "# Data Exploration"
   ]
  },
  {
   "cell_type": "code",
   "execution_count": 2,
   "metadata": {},
   "outputs": [
    {
     "name": "stdout",
     "output_type": "stream",
     "text": [
      "<class 'pandas.core.frame.DataFrame'>\n",
      "RangeIndex: 40 entries, 0 to 39\n",
      "Data columns (total 9 columns):\n",
      " #   Column      Non-Null Count  Dtype  \n",
      "---  ------      --------------  -----  \n",
      " 0   Unnamed: 0  40 non-null     int64  \n",
      " 1   Gender      40 non-null     object \n",
      " 2   FSIQ        40 non-null     int64  \n",
      " 3   VIQ         40 non-null     int64  \n",
      " 4   PIQ         40 non-null     int64  \n",
      " 5   Weight      40 non-null     int64  \n",
      " 6   Height      40 non-null     float64\n",
      " 7   MRI_Count   40 non-null     int64  \n",
      " 8   Activity    40 non-null     object \n",
      "dtypes: float64(1), int64(6), object(2)\n",
      "memory usage: 2.9+ KB\n"
     ]
    }
   ],
   "source": [
    "brain_size_Mod_Original.info()"
   ]
  },
  {
   "cell_type": "markdown",
   "metadata": {},
   "source": [
    "# Excercise 1. Analysis univarie de donnes\n"
   ]
  },
  {
   "cell_type": "markdown",
   "metadata": {},
   "source": [
    "## 1.1. Variable VIQ - Varibale quantitative"
   ]
  },
  {
   "cell_type": "markdown",
   "metadata": {},
   "source": [
    "Pour la variable VIQ, évaluez les statistiques descriptives et visualisez\n",
    "graphiquement ces statistiques le cas échéant. Interprétez et commentez\n",
    "les résultats"
   ]
  },
  {
   "cell_type": "code",
   "execution_count": 3,
   "metadata": {},
   "outputs": [
    {
     "data": {
      "text/plain": [
       "0    132\n",
       "1    150\n",
       "2    123\n",
       "3    129\n",
       "4    132\n",
       "Name: VIQ, dtype: int64"
      ]
     },
     "execution_count": 3,
     "metadata": {},
     "output_type": "execute_result"
    }
   ],
   "source": [
    "VIQ = brain_size_Mod_Original['VIQ']\n",
    "VIQ.head(5)"
   ]
  },
  {
   "cell_type": "code",
   "execution_count": 4,
   "metadata": {},
   "outputs": [
    {
     "data": {
      "text/plain": [
       "count     40.000000\n",
       "mean     112.350000\n",
       "std       23.616107\n",
       "min       71.000000\n",
       "25%       90.000000\n",
       "50%      113.000000\n",
       "75%      129.750000\n",
       "max      150.000000\n",
       "Name: VIQ, dtype: float64"
      ]
     },
     "execution_count": 4,
     "metadata": {},
     "output_type": "execute_result"
    }
   ],
   "source": [
    "VIQ.describe()\n"
   ]
  },
  {
   "cell_type": "markdown",
   "metadata": {},
   "source": [
    "## 1.1.2. Moyennes et mesures de la tendance centrale\n",
    "\n",
    "https://towardsdatascience.com/statistics-central-tendency-5e514a2f98fd\n"
   ]
  },
  {
   "cell_type": "code",
   "execution_count": 5,
   "metadata": {},
   "outputs": [
    {
     "data": {
      "text/plain": [
       "113.0"
      ]
     },
     "execution_count": 5,
     "metadata": {},
     "output_type": "execute_result"
    }
   ],
   "source": [
    "\n",
    "\n",
    "VIQ.median()"
   ]
  },
  {
   "cell_type": "code",
   "execution_count": 6,
   "metadata": {},
   "outputs": [
    {
     "data": {
      "text/plain": [
       "150"
      ]
     },
     "execution_count": 6,
     "metadata": {},
     "output_type": "execute_result"
    }
   ],
   "source": [
    "brain_size_Mod_Original['VIQ'].max()"
   ]
  },
  {
   "cell_type": "code",
   "execution_count": 7,
   "metadata": {},
   "outputs": [
    {
     "data": {
      "text/plain": [
       "71"
      ]
     },
     "execution_count": 7,
     "metadata": {},
     "output_type": "execute_result"
    }
   ],
   "source": [
    "brain_size_Mod_Original['VIQ'].min()"
   ]
  },
  {
   "cell_type": "code",
   "execution_count": 8,
   "metadata": {},
   "outputs": [
    {
     "data": {
      "text/plain": [
       "23.616107063199742"
      ]
     },
     "execution_count": 8,
     "metadata": {},
     "output_type": "execute_result"
    }
   ],
   "source": [
    "import statistics \n",
    "\n",
    "statistics.stdev(brain_size_Mod_Original['VIQ'])"
   ]
  },
  {
   "cell_type": "code",
   "execution_count": 9,
   "metadata": {},
   "outputs": [
    {
     "data": {
      "text/plain": [
       "557.7205128205128"
      ]
     },
     "execution_count": 9,
     "metadata": {},
     "output_type": "execute_result"
    }
   ],
   "source": [
    "statistics.variance(brain_size_Mod_Original['VIQ'])"
   ]
  },
  {
   "cell_type": "code",
   "execution_count": 10,
   "metadata": {},
   "outputs": [
    {
     "data": {
      "text/plain": [
       "112.35"
      ]
     },
     "execution_count": 10,
     "metadata": {},
     "output_type": "execute_result"
    }
   ],
   "source": [
    "statistics.mean(brain_size_Mod_Original['VIQ'])"
   ]
  },
  {
   "cell_type": "code",
   "execution_count": 11,
   "metadata": {},
   "outputs": [
    {
     "data": {
      "text/plain": [
       "<matplotlib.axes._subplots.AxesSubplot at 0x1e02eedc7c8>"
      ]
     },
     "execution_count": 11,
     "metadata": {},
     "output_type": "execute_result"
    },
    {
     "data": {
      "image/png": "[encoded data removed]",
      "text/plain": [
       "<Figure size 432x288 with 1 Axes>"
      ]
     },
     "metadata": {
      "needs_background": "light"
     },
     "output_type": "display_data"
    }
   ],
   "source": [
    "brain_size_Mod_Original.boxplot(column=\"VIQ\",vert=False)"
   ]
  },
  {
   "cell_type": "code",
   "execution_count": 12,
   "metadata": {},
   "outputs": [
    {
     "data": {
      "text/plain": [
       "0.25     90.00\n",
       "0.50    113.00\n",
       "0.75    129.75\n",
       "0.10     85.70\n",
       "Name: VIQ, dtype: float64"
      ]
     },
     "execution_count": 12,
     "metadata": {},
     "output_type": "execute_result"
    }
   ],
   "source": [
    "brain_size_Mod_Original['VIQ'].quantile(q=(0.25,0.5,0.75,0.1))"
   ]
  },
  {
   "cell_type": "markdown",
   "metadata": {},
   "source": [
    "## 1.1.3. Distribution"
   ]
  },
  {
   "cell_type": "code",
   "execution_count": 13,
   "metadata": {},
   "outputs": [
    {
     "data": {
      "text/plain": [
       "<matplotlib.legend.Legend at 0x1e02f73f248>"
      ]
     },
     "execution_count": 13,
     "metadata": {},
     "output_type": "execute_result"
    },
    {
     "data": {
      "image/png": "[encoded data removed]",
      "text/plain": [
       "<Figure size 720x432 with 1 Axes>"
      ]
     },
     "metadata": {
      "needs_background": "light"
     },
     "output_type": "display_data"
    }
   ],
   "source": [
    "import seaborn as sns\n",
    "\n",
    "mean=brain_size_Mod_Original['VIQ'].mean();\n",
    "median=brain_size_Mod_Original['VIQ'].median();\n",
    "mode=brain_size_Mod_Original['VIQ'].mode();\n",
    "fig, ax = plt.subplots(figsize=(10,6));\n",
    "\n",
    "sns.distplot(brain_size_Mod_Original['VIQ']);\n",
    "plt.title('Distribution VIQ');\n",
    "plt.axvline(mean,color='green',label='Mean'); \n",
    "plt.axvline(median,color='blue',label='Median');\n",
    "plt.axvline(mode[0],color='red',label='Mode 1')\n",
    "\n",
    "plt.legend()"
   ]
  },
  {
   "cell_type": "markdown",
   "metadata": {},
   "source": [
    "# 1.4. Variable ACTIVITY - categorical variable"
   ]
  },
  {
   "cell_type": "code",
   "execution_count": 14,
   "metadata": {},
   "outputs": [
    {
     "data": {
      "text/plain": [
       "count         40\n",
       "unique         5\n",
       "top       doctor\n",
       "freq          12\n",
       "Name: Activity, dtype: object"
      ]
     },
     "execution_count": 14,
     "metadata": {},
     "output_type": "execute_result"
    }
   ],
   "source": [
    "brain_size_Mod_Original['Activity'].describe()"
   ]
  },
  {
   "cell_type": "code",
   "execution_count": 15,
   "metadata": {},
   "outputs": [],
   "source": [
    "E1 = brain_size_Mod_Original['Activity'].value_counts(normalize=True) * 100"
   ]
  },
  {
   "cell_type": "code",
   "execution_count": 16,
   "metadata": {},
   "outputs": [
    {
     "data": {
      "image/png": "[encoded data removed]",
      "text/plain": [
       "<Figure size 648x288 with 1 Axes>"
      ]
     },
     "metadata": {
      "needs_background": "light"
     },
     "output_type": "display_data"
    }
   ],
   "source": [
    "E1.plot(kind = 'bar',\n",
    "           stacked = 'True',          # Muestra las barras apiladas\n",
    "           alpha = 0.4,               # nivel de transparencia\n",
    "           width = 0.9,               # Grosor de las barras para dejar espacio entre ellas\n",
    "           figsize=(9,4));\n",
    "\n",
    "plt.grid(color='gray', linestyle='--', linewidth=1)\n",
    "plt.title('Histogram of Activity')\n",
    "plt.xlabel(\"Activity\")\n",
    "plt.ylabel(\"Frequency\")\n",
    "plt.show()"
   ]
  },
  {
   "cell_type": "code",
   "execution_count": 17,
   "metadata": {},
   "outputs": [
    {
     "data": {
      "image/png": "[encoded data removed]",
      "text/plain": [
       "<Figure size 1080x576 with 1 Axes>"
      ]
     },
     "metadata": {},
     "output_type": "display_data"
    }
   ],
   "source": [
    "\n",
    "E1.plot.pie(subplots=True, figsize = (15,8), autopct='%.2f',)\n",
    "plt.legend(E1.index, loc = 'upper left', fontsize = 18)\n",
    " \n",
    "plt.title('Pie Chart of Activity')\n",
    "plt.xlabel(\"Activity\")\n",
    "plt.ylabel(\"Frequency\")\n",
    "plt.show() #ok\n"
   ]
  },
  {
   "cell_type": "code",
   "execution_count": 18,
   "metadata": {},
   "outputs": [],
   "source": [
    "# Table de frequences"
   ]
  },
  {
   "cell_type": "code",
   "execution_count": 19,
   "metadata": {},
   "outputs": [
    {
     "data": {
      "text/html": [
       "<div>\n",
       "<style scoped>\n",
       "    .dataframe tbody tr th:only-of-type {\n",
       "        vertical-align: middle;\n",
       "    }\n",
       "\n",
       "    .dataframe tbody tr th {\n",
       "        vertical-align: top;\n",
       "    }\n",
       "\n",
       "    .dataframe thead th {\n",
       "        text-align: right;\n",
       "    }\n",
       "</style>\n",
       "<table border=\"1\" class=\"dataframe\">\n",
       "  <thead>\n",
       "    <tr style=\"text-align: right;\">\n",
       "      <th>col_0</th>\n",
       "      <th>Count</th>\n",
       "    </tr>\n",
       "    <tr>\n",
       "      <th>Activity</th>\n",
       "      <th></th>\n",
       "    </tr>\n",
       "  </thead>\n",
       "  <tbody>\n",
       "    <tr>\n",
       "      <th>artist</th>\n",
       "      <td>8</td>\n",
       "    </tr>\n",
       "    <tr>\n",
       "      <th>doctor</th>\n",
       "      <td>12</td>\n",
       "    </tr>\n",
       "    <tr>\n",
       "      <th>farmer</th>\n",
       "      <td>7</td>\n",
       "    </tr>\n",
       "    <tr>\n",
       "      <th>other</th>\n",
       "      <td>2</td>\n",
       "    </tr>\n",
       "    <tr>\n",
       "      <th>professor</th>\n",
       "      <td>11</td>\n",
       "    </tr>\n",
       "  </tbody>\n",
       "</table>\n",
       "</div>"
      ],
      "text/plain": [
       "col_0      Count\n",
       "Activity        \n",
       "artist         8\n",
       "doctor        12\n",
       "farmer         7\n",
       "other          2\n",
       "professor     11"
      ]
     },
     "execution_count": 19,
     "metadata": {},
     "output_type": "execute_result"
    }
   ],
   "source": [
    "E2 = pd.crosstab(brain_size_Mod_Original['Activity'],columns=\"Count\")\n",
    "E2"
   ]
  },
  {
   "cell_type": "markdown",
   "metadata": {},
   "source": [
    "# Exercice 2 : Analyse bivariée des données\n"
   ]
  },
  {
   "cell_type": "markdown",
   "metadata": {},
   "source": [
    "# 2.1. Évaluez les relations entre l’ensemble des variables quantitatives et visualisez ces relations. Interprétez et commentez les résultats."
   ]
  },
  {
   "cell_type": "code",
   "execution_count": 20,
   "metadata": {},
   "outputs": [
    {
     "data": {
      "text/html": [
       "<div>\n",
       "<style scoped>\n",
       "    .dataframe tbody tr th:only-of-type {\n",
       "        vertical-align: middle;\n",
       "    }\n",
       "\n",
       "    .dataframe tbody tr th {\n",
       "        vertical-align: top;\n",
       "    }\n",
       "\n",
       "    .dataframe thead th {\n",
       "        text-align: right;\n",
       "    }\n",
       "</style>\n",
       "<table border=\"1\" class=\"dataframe\">\n",
       "  <thead>\n",
       "    <tr style=\"text-align: right;\">\n",
       "      <th>Gender</th>\n",
       "      <th>Activity</th>\n",
       "      <th>Female</th>\n",
       "      <th>Male</th>\n",
       "    </tr>\n",
       "  </thead>\n",
       "  <tbody>\n",
       "    <tr>\n",
       "      <th>0</th>\n",
       "      <td>artist</td>\n",
       "      <td>8</td>\n",
       "      <td>0</td>\n",
       "    </tr>\n",
       "    <tr>\n",
       "      <th>1</th>\n",
       "      <td>doctor</td>\n",
       "      <td>1</td>\n",
       "      <td>11</td>\n",
       "    </tr>\n",
       "    <tr>\n",
       "      <th>2</th>\n",
       "      <td>farmer</td>\n",
       "      <td>0</td>\n",
       "      <td>7</td>\n",
       "    </tr>\n",
       "    <tr>\n",
       "      <th>3</th>\n",
       "      <td>other</td>\n",
       "      <td>2</td>\n",
       "      <td>0</td>\n",
       "    </tr>\n",
       "    <tr>\n",
       "      <th>4</th>\n",
       "      <td>professor</td>\n",
       "      <td>9</td>\n",
       "      <td>2</td>\n",
       "    </tr>\n",
       "  </tbody>\n",
       "</table>\n",
       "</div>"
      ],
      "text/plain": [
       "Gender   Activity  Female  Male\n",
       "0          artist       8     0\n",
       "1          doctor       1    11\n",
       "2          farmer       0     7\n",
       "3           other       2     0\n",
       "4       professor       9     2"
      ]
     },
     "execution_count": 20,
     "metadata": {},
     "output_type": "execute_result"
    }
   ],
   "source": [
    "FreqData2_table = pd.crosstab(index=brain_size_Mod_Original['Activity'],columns=brain_size_Mod_Original['Gender'])\n",
    "FreqData2_table.reset_index()"
   ]
  },
  {
   "cell_type": "code",
   "execution_count": 21,
   "metadata": {},
   "outputs": [
    {
     "data": {
      "text/plain": [
       "Text(0.5, 0, 'Activity')"
      ]
     },
     "execution_count": 21,
     "metadata": {},
     "output_type": "execute_result"
    },
    {
     "data": {
      "image/png": "[encoded data removed]",
      "text/plain": [
       "<Figure size 576x576 with 1 Axes>"
      ]
     },
     "metadata": {
      "needs_background": "light"
     },
     "output_type": "display_data"
    }
   ],
   "source": [
    "Stacked = FreqData2_table.plot(kind=\"bar\",figsize=(8,8),stacked=True,title='Stacked Bar Chart',fontsize=12)\n",
    "Stacked.set_ylabel(\"Count of Genre\",fontsize=12)\n",
    "Stacked.set_xlabel(\"Activity\",fontsize=12)\n"
   ]
  },
  {
   "cell_type": "markdown",
   "metadata": {},
   "source": [
    "# 2.2. Pensez-vous que les variables PIQ et FSIQ sont linéairement reliées ?\n",
    "Faites une analyse numérique et une analyse graphique. Interprétez et\n",
    "commentez les résultats."
   ]
  },
  {
   "cell_type": "code",
   "execution_count": 22,
   "metadata": {},
   "outputs": [
    {
     "data": {
      "text/html": [
       "<div>\n",
       "<style scoped>\n",
       "    .dataframe tbody tr th:only-of-type {\n",
       "        vertical-align: middle;\n",
       "    }\n",
       "\n",
       "    .dataframe tbody tr th {\n",
       "        vertical-align: top;\n",
       "    }\n",
       "\n",
       "    .dataframe thead th {\n",
       "        text-align: right;\n",
       "    }\n",
       "</style>\n",
       "<table border=\"1\" class=\"dataframe\">\n",
       "  <thead>\n",
       "    <tr style=\"text-align: right;\">\n",
       "      <th></th>\n",
       "      <th>Unnamed: 0</th>\n",
       "      <th>FSIQ</th>\n",
       "      <th>VIQ</th>\n",
       "      <th>PIQ</th>\n",
       "      <th>Weight</th>\n",
       "      <th>Height</th>\n",
       "      <th>MRI_Count</th>\n",
       "    </tr>\n",
       "  </thead>\n",
       "  <tbody>\n",
       "    <tr>\n",
       "      <th>count</th>\n",
       "      <td>40.000000</td>\n",
       "      <td>40.000000</td>\n",
       "      <td>40.000000</td>\n",
       "      <td>40.00000</td>\n",
       "      <td>40.00000</td>\n",
       "      <td>40.000000</td>\n",
       "      <td>4.000000e+01</td>\n",
       "    </tr>\n",
       "    <tr>\n",
       "      <th>mean</th>\n",
       "      <td>20.500000</td>\n",
       "      <td>113.450000</td>\n",
       "      <td>112.350000</td>\n",
       "      <td>111.02500</td>\n",
       "      <td>150.80000</td>\n",
       "      <td>68.662500</td>\n",
       "      <td>9.087550e+05</td>\n",
       "    </tr>\n",
       "    <tr>\n",
       "      <th>std</th>\n",
       "      <td>11.690452</td>\n",
       "      <td>24.082071</td>\n",
       "      <td>23.616107</td>\n",
       "      <td>22.47105</td>\n",
       "      <td>22.90023</td>\n",
       "      <td>4.036988</td>\n",
       "      <td>7.228205e+04</td>\n",
       "    </tr>\n",
       "    <tr>\n",
       "      <th>min</th>\n",
       "      <td>1.000000</td>\n",
       "      <td>77.000000</td>\n",
       "      <td>71.000000</td>\n",
       "      <td>72.00000</td>\n",
       "      <td>106.00000</td>\n",
       "      <td>62.000000</td>\n",
       "      <td>7.906190e+05</td>\n",
       "    </tr>\n",
       "    <tr>\n",
       "      <th>25%</th>\n",
       "      <td>10.750000</td>\n",
       "      <td>89.750000</td>\n",
       "      <td>90.000000</td>\n",
       "      <td>88.25000</td>\n",
       "      <td>135.75000</td>\n",
       "      <td>66.000000</td>\n",
       "      <td>8.559185e+05</td>\n",
       "    </tr>\n",
       "    <tr>\n",
       "      <th>50%</th>\n",
       "      <td>20.500000</td>\n",
       "      <td>116.500000</td>\n",
       "      <td>113.000000</td>\n",
       "      <td>115.00000</td>\n",
       "      <td>146.50000</td>\n",
       "      <td>68.250000</td>\n",
       "      <td>9.053990e+05</td>\n",
       "    </tr>\n",
       "    <tr>\n",
       "      <th>75%</th>\n",
       "      <td>30.250000</td>\n",
       "      <td>135.500000</td>\n",
       "      <td>129.750000</td>\n",
       "      <td>128.00000</td>\n",
       "      <td>172.00000</td>\n",
       "      <td>70.875000</td>\n",
       "      <td>9.500780e+05</td>\n",
       "    </tr>\n",
       "    <tr>\n",
       "      <th>max</th>\n",
       "      <td>40.000000</td>\n",
       "      <td>144.000000</td>\n",
       "      <td>150.000000</td>\n",
       "      <td>150.00000</td>\n",
       "      <td>192.00000</td>\n",
       "      <td>77.000000</td>\n",
       "      <td>1.079549e+06</td>\n",
       "    </tr>\n",
       "  </tbody>\n",
       "</table>\n",
       "</div>"
      ],
      "text/plain": [
       "       Unnamed: 0        FSIQ         VIQ        PIQ     Weight     Height  \\\n",
       "count   40.000000   40.000000   40.000000   40.00000   40.00000  40.000000   \n",
       "mean    20.500000  113.450000  112.350000  111.02500  150.80000  68.662500   \n",
       "std     11.690452   24.082071   23.616107   22.47105   22.90023   4.036988   \n",
       "min      1.000000   77.000000   71.000000   72.00000  106.00000  62.000000   \n",
       "25%     10.750000   89.750000   90.000000   88.25000  135.75000  66.000000   \n",
       "50%     20.500000  116.500000  113.000000  115.00000  146.50000  68.250000   \n",
       "75%     30.250000  135.500000  129.750000  128.00000  172.00000  70.875000   \n",
       "max     40.000000  144.000000  150.000000  150.00000  192.00000  77.000000   \n",
       "\n",
       "          MRI_Count  \n",
       "count  4.000000e+01  \n",
       "mean   9.087550e+05  \n",
       "std    7.228205e+04  \n",
       "min    7.906190e+05  \n",
       "25%    8.559185e+05  \n",
       "50%    9.053990e+05  \n",
       "75%    9.500780e+05  \n",
       "max    1.079549e+06  "
      ]
     },
     "execution_count": 22,
     "metadata": {},
     "output_type": "execute_result"
    }
   ],
   "source": [
    "brain_size_Mod_Original.describe()"
   ]
  },
  {
   "cell_type": "code",
   "execution_count": 23,
   "metadata": {},
   "outputs": [
    {
     "data": {
      "text/plain": [
       "Text(0.5, 1.0, 'Variation de PIQ en relation a FSIQ')"
      ]
     },
     "execution_count": 23,
     "metadata": {},
     "output_type": "execute_result"
    },
    {
     "data": {
      "image/png": "[encoded data removed]",
      "text/plain": [
       "<Figure size 504x360 with 1 Axes>"
      ]
     },
     "metadata": {
      "needs_background": "light"
     },
     "output_type": "display_data"
    }
   ],
   "source": [
    "fig = plt.figure(figsize=(7,5))\n",
    "plt.scatter(brain_size_Mod_Original['PIQ'], brain_size_Mod_Original['FSIQ'], s=30) #x,y\n",
    "plt.grid(color='gray', linestyle='--', linewidth=1)\n",
    "plt.ylabel(\"FSIQ\")\n",
    "plt.xlabel(\"PIQ\")\n",
    "plt.title('Variation de PIQ en relation a FSIQ')"
   ]
  },
  {
   "cell_type": "code",
   "execution_count": 24,
   "metadata": {},
   "outputs": [
    {
     "data": {
      "text/html": [
       "<div>\n",
       "<style scoped>\n",
       "    .dataframe tbody tr th:only-of-type {\n",
       "        vertical-align: middle;\n",
       "    }\n",
       "\n",
       "    .dataframe tbody tr th {\n",
       "        vertical-align: top;\n",
       "    }\n",
       "\n",
       "    .dataframe thead th {\n",
       "        text-align: right;\n",
       "    }\n",
       "</style>\n",
       "<table border=\"1\" class=\"dataframe\">\n",
       "  <thead>\n",
       "    <tr style=\"text-align: right;\">\n",
       "      <th></th>\n",
       "      <th>Unnamed: 0</th>\n",
       "      <th>FSIQ</th>\n",
       "      <th>VIQ</th>\n",
       "      <th>PIQ</th>\n",
       "      <th>Weight</th>\n",
       "      <th>Height</th>\n",
       "      <th>MRI_Count</th>\n",
       "    </tr>\n",
       "  </thead>\n",
       "  <tbody>\n",
       "    <tr>\n",
       "      <th>Unnamed: 0</th>\n",
       "      <td>1.000000</td>\n",
       "      <td>-0.334072</td>\n",
       "      <td>-0.241473</td>\n",
       "      <td>-0.371150</td>\n",
       "      <td>0.180637</td>\n",
       "      <td>0.122380</td>\n",
       "      <td>-0.139724</td>\n",
       "    </tr>\n",
       "    <tr>\n",
       "      <th>FSIQ</th>\n",
       "      <td>-0.334072</td>\n",
       "      <td>1.000000</td>\n",
       "      <td>0.946639</td>\n",
       "      <td>0.934125</td>\n",
       "      <td>-0.053906</td>\n",
       "      <td>-0.126182</td>\n",
       "      <td>0.357641</td>\n",
       "    </tr>\n",
       "    <tr>\n",
       "      <th>VIQ</th>\n",
       "      <td>-0.241473</td>\n",
       "      <td>0.946639</td>\n",
       "      <td>1.000000</td>\n",
       "      <td>0.778135</td>\n",
       "      <td>-0.080230</td>\n",
       "      <td>-0.111204</td>\n",
       "      <td>0.337478</td>\n",
       "    </tr>\n",
       "    <tr>\n",
       "      <th>PIQ</th>\n",
       "      <td>-0.371150</td>\n",
       "      <td>0.934125</td>\n",
       "      <td>0.778135</td>\n",
       "      <td>1.000000</td>\n",
       "      <td>0.001704</td>\n",
       "      <td>-0.112429</td>\n",
       "      <td>0.386817</td>\n",
       "    </tr>\n",
       "    <tr>\n",
       "      <th>Weight</th>\n",
       "      <td>0.180637</td>\n",
       "      <td>-0.053906</td>\n",
       "      <td>-0.080230</td>\n",
       "      <td>0.001704</td>\n",
       "      <td>1.000000</td>\n",
       "      <td>0.661190</td>\n",
       "      <td>0.491964</td>\n",
       "    </tr>\n",
       "    <tr>\n",
       "      <th>Height</th>\n",
       "      <td>0.122380</td>\n",
       "      <td>-0.126182</td>\n",
       "      <td>-0.111204</td>\n",
       "      <td>-0.112429</td>\n",
       "      <td>0.661190</td>\n",
       "      <td>1.000000</td>\n",
       "      <td>0.579466</td>\n",
       "    </tr>\n",
       "    <tr>\n",
       "      <th>MRI_Count</th>\n",
       "      <td>-0.139724</td>\n",
       "      <td>0.357641</td>\n",
       "      <td>0.337478</td>\n",
       "      <td>0.386817</td>\n",
       "      <td>0.491964</td>\n",
       "      <td>0.579466</td>\n",
       "      <td>1.000000</td>\n",
       "    </tr>\n",
       "  </tbody>\n",
       "</table>\n",
       "</div>"
      ],
      "text/plain": [
       "            Unnamed: 0      FSIQ       VIQ       PIQ    Weight    Height  \\\n",
       "Unnamed: 0    1.000000 -0.334072 -0.241473 -0.371150  0.180637  0.122380   \n",
       "FSIQ         -0.334072  1.000000  0.946639  0.934125 -0.053906 -0.126182   \n",
       "VIQ          -0.241473  0.946639  1.000000  0.778135 -0.080230 -0.111204   \n",
       "PIQ          -0.371150  0.934125  0.778135  1.000000  0.001704 -0.112429   \n",
       "Weight        0.180637 -0.053906 -0.080230  0.001704  1.000000  0.661190   \n",
       "Height        0.122380 -0.126182 -0.111204 -0.112429  0.661190  1.000000   \n",
       "MRI_Count    -0.139724  0.357641  0.337478  0.386817  0.491964  0.579466   \n",
       "\n",
       "            MRI_Count  \n",
       "Unnamed: 0  -0.139724  \n",
       "FSIQ         0.357641  \n",
       "VIQ          0.337478  \n",
       "PIQ          0.386817  \n",
       "Weight       0.491964  \n",
       "Height       0.579466  \n",
       "MRI_Count    1.000000  "
      ]
     },
     "execution_count": 24,
     "metadata": {},
     "output_type": "execute_result"
    }
   ],
   "source": [
    "\n",
    "corr = brain_size_Mod_Original.corr()\n",
    "corr"
   ]
  },
  {
   "cell_type": "markdown",
   "metadata": {},
   "source": [
    "La correlation entre PIQ et FSIQ est 0,9341, donc ilya une forte correlaton"
   ]
  },
  {
   "cell_type": "code",
   "execution_count": 25,
   "metadata": {},
   "outputs": [
    {
     "name": "stdout",
     "output_type": "stream",
     "text": [
      "Coeficient determination: \n",
      " 0.8725897911338812\n",
      "Intercept: \n",
      " 2.3033645246591448\n",
      "Slope: \n",
      " [1.00109557]\n"
     ]
    }
   ],
   "source": [
    "# Regression Lineaire\n",
    "\n",
    "from sklearn import linear_model\n",
    "from sklearn.linear_model import LinearRegression\n",
    "\n",
    "x1 = np.array(brain_size_Mod_Original['PIQ']).reshape((-1,1))\n",
    "y1 = brain_size_Mod_Original['FSIQ']\n",
    "\n",
    "mymodel = LinearRegression()\n",
    "results = mymodel.fit(x1,y1)\n",
    "\n",
    "print(\"Coeficient determination: \\n\", results.score(x1, y1))\n",
    "print(\"Intercept: \\n\", results.intercept_)\n",
    "print(\"Slope: \\n\", results.coef_)"
   ]
  },
  {
   "cell_type": "code",
   "execution_count": 26,
   "metadata": {},
   "outputs": [
    {
     "name": "stdout",
     "output_type": "stream",
     "text": [
      "Coefficient de determination:  0.8725897911338812\n",
      "Coefficient de determination racine carre:  0.9341251474689466\n"
     ]
    }
   ],
   "source": [
    "from math import *\n",
    "\n",
    "r_sq = results.score(x1,y1)\n",
    "print(\"Coefficient de determination: \", r_sq)\n",
    "print(\"Coefficient de determination racine carre: \", sqrt(r_sq))"
   ]
  },
  {
   "cell_type": "code",
   "execution_count": 27,
   "metadata": {},
   "outputs": [
    {
     "data": {
      "image/png": "[encoded data removed]",
      "text/plain": [
       "<Figure size 504x360 with 1 Axes>"
      ]
     },
     "metadata": {
      "needs_background": "light"
     },
     "output_type": "display_data"
    }
   ],
   "source": [
    "# Graphique de regression\n",
    "\n",
    "def Yy(m, b, x):\n",
    "    return m*x + b;\n",
    "\n",
    "Xmodel = range(50,200, 1)\n",
    "Ymodel = Yy(results.coef_, results.intercept_,  Xmodel)\n",
    "\n",
    "\n",
    "plt.figure(figsize=(7,5))\n",
    "plt.plot(Xmodel, Yy(results.coef_, results.intercept_,  Xmodel), 'b-', label='Model')\n",
    "plt.plot(brain_size_Mod_Original['FSIQ'], brain_size_Mod_Original['PIQ'], 'r.', label='Real samples') #x,y\n",
    "plt.grid(color='gray', linestyle='--', linewidth=1)\n",
    "plt.ylabel(\"PIQ\")\n",
    "plt.xlabel(\"FSIQ\")\n",
    "plt.title('Comparative model vs real data - fitting')\n",
    "plt.legend(loc='best')\n",
    "plt.show()"
   ]
  },
  {
   "cell_type": "markdown",
   "metadata": {},
   "source": [
    "# Another methode of regression"
   ]
  },
  {
   "cell_type": "code",
   "execution_count": 28,
   "metadata": {},
   "outputs": [
    {
     "name": "stdout",
     "output_type": "stream",
     "text": [
      "                            OLS Regression Results                            \n",
      "==============================================================================\n",
      "Dep. Variable:                   FSIQ   R-squared:                       0.873\n",
      "Model:                            OLS   Adj. R-squared:                  0.869\n",
      "Method:                 Least Squares   F-statistic:                     260.2\n",
      "Date:                Mon, 08 Mar 2021   Prob (F-statistic):           1.37e-18\n",
      "Time:                        17:53:58   Log-Likelihood:                -142.30\n",
      "No. Observations:                  40   AIC:                             288.6\n",
      "Df Residuals:                      38   BIC:                             292.0\n",
      "Df Model:                           1                                         \n",
      "Covariance Type:            nonrobust                                         \n",
      "==============================================================================\n",
      "                 coef    std err          t      P>|t|      [0.025      0.975]\n",
      "------------------------------------------------------------------------------\n",
      "Intercept      2.3034      7.026      0.328      0.745     -11.920      16.527\n",
      "PIQ            1.0011      0.062     16.132      0.000       0.875       1.127\n",
      "==============================================================================\n",
      "Omnibus:                        3.181   Durbin-Watson:                   2.856\n",
      "Prob(Omnibus):                  0.204   Jarque-Bera (JB):                1.801\n",
      "Skew:                          -0.246   Prob(JB):                        0.406\n",
      "Kurtosis:                       2.085   Cond. No.                         578.\n",
      "==============================================================================\n",
      "\n",
      "Warnings:\n",
      "[1] Standard Errors assume that the covariance matrix of the errors is correctly specified.\n"
     ]
    }
   ],
   "source": [
    "from statsmodels.formula.api import ols\n",
    "\n",
    "model2 = ols('FSIQ ~ PIQ', data=brain_size_Mod_Original).fit() #x vs y\n",
    "print(model2.summary())"
   ]
  },
  {
   "cell_type": "code",
   "execution_count": null,
   "metadata": {},
   "outputs": [],
   "source": []
  },
  {
   "cell_type": "markdown",
   "metadata": {},
   "source": [
    "# 2.3 Pensez-vous que les variables Activity et FSIQ sont reliées ? \n",
    "Faites une analyse numérique et une analyse graphique. Interprétez et commentez les résultats."
   ]
  },
  {
   "cell_type": "code",
   "execution_count": 29,
   "metadata": {},
   "outputs": [
    {
     "name": "stdout",
     "output_type": "stream",
     "text": [
      "                            OLS Regression Results                            \n",
      "==============================================================================\n",
      "Dep. Variable:                   FSIQ   R-squared:                       0.138\n",
      "Model:                            OLS   Adj. R-squared:                  0.040\n",
      "Method:                 Least Squares   F-statistic:                     1.404\n",
      "Date:                Mon, 08 Mar 2021   Prob (F-statistic):              0.253\n",
      "Time:                        17:53:58   Log-Likelihood:                -180.53\n",
      "No. Observations:                  40   AIC:                             371.1\n",
      "Df Residuals:                      35   BIC:                             379.5\n",
      "Df Model:                           4                                         \n",
      "Covariance Type:            nonrobust                                         \n",
      "=========================================================================================\n",
      "                            coef    std err          t      P>|t|      [0.025      0.975]\n",
      "-----------------------------------------------------------------------------------------\n",
      "Intercept               119.3750      8.343     14.308      0.000     102.437     136.313\n",
      "Activity[T.doctor]        3.2917     10.771      0.306      0.762     -18.575      25.158\n",
      "Activity[T.farmer]      -12.8036     12.213     -1.048      0.302     -37.598      11.990\n",
      "Activity[T.other]       -29.8750     18.656     -1.601      0.118     -67.748       7.998\n",
      "Activity[T.professor]   -11.5568     10.965     -1.054      0.299     -33.817      10.703\n",
      "==============================================================================\n",
      "Omnibus:                       20.660   Durbin-Watson:                   1.515\n",
      "Prob(Omnibus):                  0.000   Jarque-Bera (JB):                3.940\n",
      "Skew:                          -0.289   Prob(JB):                        0.139\n",
      "Kurtosis:                       1.575   Cond. No.                         6.44\n",
      "==============================================================================\n",
      "\n",
      "Warnings:\n",
      "[1] Standard Errors assume that the covariance matrix of the errors is correctly specified.\n"
     ]
    }
   ],
   "source": [
    "#Using ANOVA\n",
    "\n",
    "model3 = ols('FSIQ ~ Activity', data=brain_size_Mod_Original).fit() #x vs y\n",
    "print(model3.summary())"
   ]
  },
  {
   "cell_type": "markdown",
   "metadata": {},
   "source": [
    "# BoxPlot"
   ]
  },
  {
   "cell_type": "code",
   "execution_count": 30,
   "metadata": {},
   "outputs": [
    {
     "data": {
      "text/plain": [
       "<matplotlib.axes._subplots.AxesSubplot at 0x1e03051ff88>"
      ]
     },
     "execution_count": 30,
     "metadata": {},
     "output_type": "execute_result"
    },
    {
     "data": {
      "image/png": "[encoded data removed]",
      "text/plain": [
       "<Figure size 432x288 with 1 Axes>"
      ]
     },
     "metadata": {
      "needs_background": "light"
     },
     "output_type": "display_data"
    }
   ],
   "source": [
    "sns.boxplot(x='Activity', y='FSIQ', data=brain_size_Mod_Original)"
   ]
  },
  {
   "cell_type": "markdown",
   "metadata": {},
   "source": [
    "# Pensez-vous que les variables Activity et Gender sont reliées ? Faites une analyse numérique"
   ]
  },
  {
   "cell_type": "code",
   "execution_count": 31,
   "metadata": {},
   "outputs": [
    {
     "data": {
      "text/html": [
       "<div>\n",
       "<style scoped>\n",
       "    .dataframe tbody tr th:only-of-type {\n",
       "        vertical-align: middle;\n",
       "    }\n",
       "\n",
       "    .dataframe tbody tr th {\n",
       "        vertical-align: top;\n",
       "    }\n",
       "\n",
       "    .dataframe thead th {\n",
       "        text-align: right;\n",
       "    }\n",
       "</style>\n",
       "<table border=\"1\" class=\"dataframe\">\n",
       "  <thead>\n",
       "    <tr style=\"text-align: right;\">\n",
       "      <th>Gender</th>\n",
       "      <th>Female</th>\n",
       "      <th>Male</th>\n",
       "    </tr>\n",
       "    <tr>\n",
       "      <th>Activity</th>\n",
       "      <th></th>\n",
       "      <th></th>\n",
       "    </tr>\n",
       "  </thead>\n",
       "  <tbody>\n",
       "    <tr>\n",
       "      <th>artist</th>\n",
       "      <td>8</td>\n",
       "      <td>0</td>\n",
       "    </tr>\n",
       "    <tr>\n",
       "      <th>doctor</th>\n",
       "      <td>1</td>\n",
       "      <td>11</td>\n",
       "    </tr>\n",
       "    <tr>\n",
       "      <th>farmer</th>\n",
       "      <td>0</td>\n",
       "      <td>7</td>\n",
       "    </tr>\n",
       "    <tr>\n",
       "      <th>other</th>\n",
       "      <td>2</td>\n",
       "      <td>0</td>\n",
       "    </tr>\n",
       "    <tr>\n",
       "      <th>professor</th>\n",
       "      <td>9</td>\n",
       "      <td>2</td>\n",
       "    </tr>\n",
       "  </tbody>\n",
       "</table>\n",
       "</div>"
      ],
      "text/plain": [
       "Gender     Female  Male\n",
       "Activity               \n",
       "artist          8     0\n",
       "doctor          1    11\n",
       "farmer          0     7\n",
       "other           2     0\n",
       "professor       9     2"
      ]
     },
     "execution_count": 31,
     "metadata": {},
     "output_type": "execute_result"
    }
   ],
   "source": [
    "\n",
    "table = pd.crosstab(brain_size_Mod_Original['Activity'], brain_size_Mod_Original['Gender'])\n",
    "table"
   ]
  },
  {
   "cell_type": "code",
   "execution_count": 32,
   "metadata": {},
   "outputs": [
    {
     "data": {
      "text/html": [
       "<div>\n",
       "<style scoped>\n",
       "    .dataframe tbody tr th:only-of-type {\n",
       "        vertical-align: middle;\n",
       "    }\n",
       "\n",
       "    .dataframe tbody tr th {\n",
       "        vertical-align: top;\n",
       "    }\n",
       "\n",
       "    .dataframe thead th {\n",
       "        text-align: right;\n",
       "    }\n",
       "</style>\n",
       "<table border=\"1\" class=\"dataframe\">\n",
       "  <thead>\n",
       "    <tr style=\"text-align: right;\">\n",
       "      <th>Activity</th>\n",
       "      <th>artist</th>\n",
       "      <th>doctor</th>\n",
       "      <th>farmer</th>\n",
       "      <th>other</th>\n",
       "      <th>professor</th>\n",
       "    </tr>\n",
       "    <tr>\n",
       "      <th>Gender</th>\n",
       "      <th></th>\n",
       "      <th></th>\n",
       "      <th></th>\n",
       "      <th></th>\n",
       "      <th></th>\n",
       "    </tr>\n",
       "  </thead>\n",
       "  <tbody>\n",
       "    <tr>\n",
       "      <th>Female</th>\n",
       "      <td>8</td>\n",
       "      <td>1</td>\n",
       "      <td>0</td>\n",
       "      <td>2</td>\n",
       "      <td>9</td>\n",
       "    </tr>\n",
       "    <tr>\n",
       "      <th>Male</th>\n",
       "      <td>0</td>\n",
       "      <td>11</td>\n",
       "      <td>7</td>\n",
       "      <td>0</td>\n",
       "      <td>2</td>\n",
       "    </tr>\n",
       "  </tbody>\n",
       "</table>\n",
       "</div>"
      ],
      "text/plain": [
       "Activity  artist  doctor  farmer  other  professor\n",
       "Gender                                            \n",
       "Female         8       1       0      2          9\n",
       "Male           0      11       7      0          2"
      ]
     },
     "execution_count": 32,
     "metadata": {},
     "output_type": "execute_result"
    }
   ],
   "source": [
    "table2 = pd.crosstab(brain_size_Mod_Original['Gender'], brain_size_Mod_Original['Activity'])  #user parameter normalize to %\n",
    "table2"
   ]
  },
  {
   "cell_type": "code",
   "execution_count": 33,
   "metadata": {},
   "outputs": [],
   "source": [
    "# There are 40 samples."
   ]
  },
  {
   "cell_type": "code",
   "execution_count": 34,
   "metadata": {},
   "outputs": [
    {
     "data": {
      "text/plain": [
       "<matplotlib.axes._subplots.AxesSubplot at 0x1e02fd84fc8>"
      ]
     },
     "execution_count": 34,
     "metadata": {},
     "output_type": "execute_result"
    },
    {
     "data": {
      "image/png": "[encoded data removed]",
      "text/plain": [
       "<Figure size 864x576 with 2 Axes>"
      ]
     },
     "metadata": {
      "needs_background": "light"
     },
     "output_type": "display_data"
    }
   ],
   "source": [
    "plt.figure(figsize=(12,8)) \n",
    "sns.heatmap(table2, annot=True, cmap=\"YlGnBu\")"
   ]
  },
  {
   "cell_type": "markdown",
   "metadata": {},
   "source": [
    "# Research py"
   ]
  },
  {
   "cell_type": "code",
   "execution_count": 35,
   "metadata": {},
   "outputs": [
    {
     "data": {
      "text/html": [
       "<div>\n",
       "<style scoped>\n",
       "    .dataframe tbody tr th:only-of-type {\n",
       "        vertical-align: middle;\n",
       "    }\n",
       "\n",
       "    .dataframe tbody tr th {\n",
       "        vertical-align: top;\n",
       "    }\n",
       "\n",
       "    .dataframe thead th {\n",
       "        text-align: right;\n",
       "    }\n",
       "</style>\n",
       "<table border=\"1\" class=\"dataframe\">\n",
       "  <thead>\n",
       "    <tr style=\"text-align: right;\">\n",
       "      <th></th>\n",
       "      <th>Variable</th>\n",
       "      <th>Outcome</th>\n",
       "      <th>Count</th>\n",
       "      <th>Percent</th>\n",
       "    </tr>\n",
       "  </thead>\n",
       "  <tbody>\n",
       "    <tr>\n",
       "      <th>0</th>\n",
       "      <td>Gender</td>\n",
       "      <td>Female</td>\n",
       "      <td>20</td>\n",
       "      <td>50.0</td>\n",
       "    </tr>\n",
       "    <tr>\n",
       "      <th>1</th>\n",
       "      <td></td>\n",
       "      <td>Male</td>\n",
       "      <td>20</td>\n",
       "      <td>50.0</td>\n",
       "    </tr>\n",
       "    <tr>\n",
       "      <th>2</th>\n",
       "      <td>Activity</td>\n",
       "      <td>doctor</td>\n",
       "      <td>12</td>\n",
       "      <td>30.0</td>\n",
       "    </tr>\n",
       "    <tr>\n",
       "      <th>3</th>\n",
       "      <td></td>\n",
       "      <td>professor</td>\n",
       "      <td>11</td>\n",
       "      <td>27.5</td>\n",
       "    </tr>\n",
       "    <tr>\n",
       "      <th>4</th>\n",
       "      <td></td>\n",
       "      <td>artist</td>\n",
       "      <td>8</td>\n",
       "      <td>20.0</td>\n",
       "    </tr>\n",
       "    <tr>\n",
       "      <th>5</th>\n",
       "      <td></td>\n",
       "      <td>farmer</td>\n",
       "      <td>7</td>\n",
       "      <td>17.5</td>\n",
       "    </tr>\n",
       "    <tr>\n",
       "      <th>6</th>\n",
       "      <td></td>\n",
       "      <td>other</td>\n",
       "      <td>2</td>\n",
       "      <td>5.0</td>\n",
       "    </tr>\n",
       "  </tbody>\n",
       "</table>\n",
       "</div>"
      ],
      "text/plain": [
       "   Variable    Outcome  Count  Percent\n",
       "0    Gender     Female     20     50.0\n",
       "1                 Male     20     50.0\n",
       "2  Activity     doctor     12     30.0\n",
       "3            professor     11     27.5\n",
       "4               artist      8     20.0\n",
       "5               farmer      7     17.5\n",
       "6                other      2      5.0"
      ]
     },
     "execution_count": 35,
     "metadata": {},
     "output_type": "execute_result"
    }
   ],
   "source": [
    "import researchpy as rp\n",
    "\n",
    "rp.summary_cat(brain_size_Mod_Original[[\"Gender\", \"Activity\"]])  # Descriptive analysis if wanted"
   ]
  },
  {
   "cell_type": "markdown",
   "metadata": {},
   "source": [
    "# Calcule de Chi2"
   ]
  },
  {
   "cell_type": "raw",
   "metadata": {},
   "source": [
    "\n",
    "https://www.pythonfordatascience.org/chi-square-test-of-independence-python/\n",
    "https://machinelearningmastery.com/chi-squared-test-for-machine-learning/\n",
    "https://www.mathsisfun.com/data/chi-square-test.html\n"
   ]
  },
  {
   "cell_type": "code",
   "execution_count": 39,
   "metadata": {},
   "outputs": [
    {
     "name": "stdout",
     "output_type": "stream",
     "text": [
      "Chi square:  29.78787878787879\n",
      "p-value:  5.405997743214392e-06\n",
      "Degree of liber: 4\n"
     ]
    }
   ],
   "source": [
    "from scipy.stats import chi2_contingency\n",
    "\n",
    "chi2, pvalue, dof, expected  = chi2_contingency(table)\n",
    "\n",
    "print(\"Chi square: \", chi2)\n",
    "print(\"p-value: \", pvalue)\n",
    "print(\"Degree of liber:\", dof)\n"
   ]
  },
  {
   "cell_type": "raw",
   "metadata": {},
   "source": [
    "p value means:  which means that we do not reject the null hypothesis at 95% level of confidence. \n",
    "                We can reject the null hypothesis as the p-value is less than 0.05. \n",
    "                The null hypothesis was that Activity and Gender are independent. \n",
    "\n"
   ]
  },
  {
   "cell_type": "code",
   "execution_count": 40,
   "metadata": {},
   "outputs": [
    {
     "name": "stdout",
     "output_type": "stream",
     "text": [
      "Dependent (reject H0)\n"
     ]
    }
   ],
   "source": [
    "# interpret p-value \n",
    "alpha = 0.05\n",
    "if pvalue <= alpha: \n",
    "    print('Dependent (reject H0)') \n",
    "else: \n",
    "    print('Independent (H0 holds true)') "
   ]
  },
  {
   "cell_type": "raw",
   "metadata": {},
   "source": [
    "The variables has significant relationship."
   ]
  },
  {
   "cell_type": "code",
   "execution_count": null,
   "metadata": {},
   "outputs": [],
   "source": [
    "expected"
   ]
  },
  {
   "cell_type": "code",
   "execution_count": null,
   "metadata": {},
   "outputs": [],
   "source": [
    "crosstab, test_results, expected = rp.crosstab(brain_size_Mod_Original[\"Gender\"], brain_size_Mod_Original[\"Activity\"],\n",
    "                                               test= \"chi-square\",\n",
    "                                               expected_freqs= True,\n",
    "                                               prop= \"cell\")\n",
    "\n",
    "crosstab"
   ]
  },
  {
   "cell_type": "code",
   "execution_count": null,
   "metadata": {},
   "outputs": [],
   "source": [
    "test_results"
   ]
  },
  {
   "cell_type": "code",
   "execution_count": null,
   "metadata": {},
   "outputs": [],
   "source": [
    "For example, a probability of 95% can be used, suggesting that the finding of the test is quite\n",
    "likely given the assumption of the test that the variable is independent. If the statistic is less than or equal \n",
    "to the critical value, we can fail to reject this assumption, otherwise it can be rejected.\n"
   ]
  },
  {
   "cell_type": "markdown",
   "metadata": {},
   "source": [
    "# Excercise 3 - Hipotesys HO"
   ]
  },
  {
   "cell_type": "raw",
   "metadata": {},
   "source": [
    "https://medium.com/@kangeugine/hypothesis-test-21795f788f7d\n",
    "\n",
    "\n",
    "L’objectif d’un projet de recherche est déterminer la valeur de FSIQ au sein de la population canadienne. Pour cela, \n",
    "un échantillon de 40 observations a été collecté. Deux chercheurs émettent deux hypothèses différentes.\n",
    "Le premier pense que la moyenne de la variable FSIQ la population est égale à 100. \n",
    "Le deuxième pense que la moyenne de la variable FSIQ la population est inférieure à 160. \n",
    "Que pensez-vous de ces deux hypothèses ?"
   ]
  },
  {
   "cell_type": "code",
   "execution_count": 42,
   "metadata": {},
   "outputs": [
    {
     "name": "stdout",
     "output_type": "stream",
     "text": [
      "stattiscit:  3.532307014238269\n",
      "p_value:  0.0010766792736967715\n"
     ]
    }
   ],
   "source": [
    "from scipy import stats\n",
    "\n",
    "results = stats.ttest_1samp(brain_size_Mod_Original['FSIQ'], 100, 0)\n",
    "print('stattiscit: ', results[0])\n",
    "print('p_value: ', results[1])"
   ]
  },
  {
   "cell_type": "code",
   "execution_count": 45,
   "metadata": {},
   "outputs": [
    {
     "name": "stdout",
     "output_type": "stream",
     "text": [
      "(H0 holds true)\n"
     ]
    }
   ],
   "source": [
    "# interpret p-value \n",
    "alpha = 0.05\n",
    "if results[1] <= alpha: \n",
    "    print('(reject H0)') \n",
    "else: \n",
    "    print('(H0 holds true)') "
   ]
  },
  {
   "cell_type": "raw",
   "metadata": {},
   "source": [
    "Nos rejectons que la moyenne cest 100"
   ]
  },
  {
   "cell_type": "code",
   "execution_count": null,
   "metadata": {},
   "outputs": [],
   "source": [
    "Le deuxieme cas cest pas possible parce que on a pas de parametre fixe a tester?"
   ]
  },
  {
   "cell_type": "code",
   "execution_count": null,
   "metadata": {},
   "outputs": [],
   "source": [
    "# Avec population 112"
   ]
  },
  {
   "cell_type": "code",
   "execution_count": 46,
   "metadata": {},
   "outputs": [
    {
     "name": "stdout",
     "output_type": "stream",
     "text": [
      "stattiscit:  0.3808063323899999\n",
      "p_value:  0.7054134495786346\n",
      "(H0 holds true)\n"
     ]
    }
   ],
   "source": [
    "results = stats.ttest_1samp(brain_size_Mod_Original['FSIQ'], 112, 0)\n",
    "print('stattiscit: ', results[0])\n",
    "print('p_value: ', results[1])\n",
    "\n",
    "# interpret p-value \n",
    "alpha = 0.05\n",
    "if results[1] <= alpha: \n",
    "    print('(reject H0)') \n",
    "else: \n",
    "    print('(H0 holds true)') \n",
    "    \n",
    "    "
   ]
  },
  {
   "cell_type": "code",
   "execution_count": 47,
   "metadata": {},
   "outputs": [
    {
     "name": "stdout",
     "output_type": "stream",
     "text": [
      "stattiscit:  -12.225196395003076\n",
      "p_value:  6.463088405992505e-15\n",
      "(reject H0)\n"
     ]
    }
   ],
   "source": [
    "results = stats.ttest_1samp(brain_size_Mod_Original['FSIQ'], 160, 0)\n",
    "print('stattiscit: ', results[0])\n",
    "print('p_value: ', results[1])\n",
    "\n",
    "# interpret p-value \n",
    "alpha = 0.05\n",
    "if results[1] <= alpha: \n",
    "    print('(reject H0)') \n",
    "else: \n",
    "    print('(H0 holds true)') \n",
    "    "
   ]
  },
  {
   "cell_type": "code",
   "execution_count": 48,
   "metadata": {},
   "outputs": [
    {
     "name": "stdout",
     "output_type": "stream",
     "text": [
      "stattiscit:  6.15855758244516\n",
      "p_value:  3.118953534482729e-07\n",
      "(reject H0)\n"
     ]
    }
   ],
   "source": [
    "results = stats.ttest_1samp(brain_size_Mod_Original['FSIQ'], 90, 0)\n",
    "print('stattiscit: ', results[0])\n",
    "print('p_value: ', results[1])\n",
    "\n",
    "# interpret p-value \n",
    "alpha = 0.05\n",
    "if results[1] <= alpha: \n",
    "    print('(reject H0)') \n",
    "else: \n",
    "    print('(H0 holds true)') "
   ]
  },
  {
   "cell_type": "code",
   "execution_count": null,
   "metadata": {},
   "outputs": [],
   "source": []
  }
 ],
 "metadata": {
  "kernelspec": {
   "display_name": "Python 3",
   "language": "python",
   "name": "python3"
  },
  "language_info": {
   "codemirror_mode": {
    "name": "ipython",
    "version": 3
   },
   "file_extension": ".py",
   "mimetype": "text/x-python",
   "name": "python",
   "nbconvert_exporter": "python",
   "pygments_lexer": "ipython3",
   "version": "3.7.6"
  }
 },
 "nbformat": 4,
 "nbformat_minor": 4
}
