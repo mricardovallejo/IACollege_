{
 "cells": [
  {
   "cell_type": "markdown",
   "metadata": {},
   "source": [
    "# Analysis PCA"
   ]
  },
  {
   "cell_type": "markdown",
   "metadata": {},
   "source": [
    "# Author: Ricardo Vallejo R."
   ]
  },
  {
   "cell_type": "markdown",
   "metadata": {},
   "source": [
    "# 1. Load Data"
   ]
  },
  {
   "cell_type": "code",
   "execution_count": 1,
   "metadata": {},
   "outputs": [
    {
     "data": {
      "text/html": [
       "<div>\n",
       "<style scoped>\n",
       "    .dataframe tbody tr th:only-of-type {\n",
       "        vertical-align: middle;\n",
       "    }\n",
       "\n",
       "    .dataframe tbody tr th {\n",
       "        vertical-align: top;\n",
       "    }\n",
       "\n",
       "    .dataframe thead th {\n",
       "        text-align: right;\n",
       "    }\n",
       "</style>\n",
       "<table border=\"1\" class=\"dataframe\">\n",
       "  <thead>\n",
       "    <tr style=\"text-align: right;\">\n",
       "      <th></th>\n",
       "      <th>Modele</th>\n",
       "      <th>CYL</th>\n",
       "      <th>PUISS</th>\n",
       "      <th>LONG</th>\n",
       "      <th>LARG</th>\n",
       "      <th>POIDS</th>\n",
       "      <th>V.MAX</th>\n",
       "    </tr>\n",
       "  </thead>\n",
       "  <tbody>\n",
       "    <tr>\n",
       "      <th>0</th>\n",
       "      <td>Alfasud TI</td>\n",
       "      <td>1350</td>\n",
       "      <td>79</td>\n",
       "      <td>393</td>\n",
       "      <td>161</td>\n",
       "      <td>870</td>\n",
       "      <td>165</td>\n",
       "    </tr>\n",
       "    <tr>\n",
       "      <th>1</th>\n",
       "      <td>Audi 100</td>\n",
       "      <td>1588</td>\n",
       "      <td>85</td>\n",
       "      <td>468</td>\n",
       "      <td>177</td>\n",
       "      <td>1110</td>\n",
       "      <td>160</td>\n",
       "    </tr>\n",
       "    <tr>\n",
       "      <th>2</th>\n",
       "      <td>Simca 1300</td>\n",
       "      <td>1294</td>\n",
       "      <td>68</td>\n",
       "      <td>424</td>\n",
       "      <td>168</td>\n",
       "      <td>1050</td>\n",
       "      <td>152</td>\n",
       "    </tr>\n",
       "    <tr>\n",
       "      <th>3</th>\n",
       "      <td>Citroen GS Club</td>\n",
       "      <td>1222</td>\n",
       "      <td>59</td>\n",
       "      <td>412</td>\n",
       "      <td>161</td>\n",
       "      <td>930</td>\n",
       "      <td>151</td>\n",
       "    </tr>\n",
       "    <tr>\n",
       "      <th>4</th>\n",
       "      <td>Fiat 132</td>\n",
       "      <td>1585</td>\n",
       "      <td>98</td>\n",
       "      <td>439</td>\n",
       "      <td>164</td>\n",
       "      <td>1105</td>\n",
       "      <td>165</td>\n",
       "    </tr>\n",
       "    <tr>\n",
       "      <th>5</th>\n",
       "      <td>Lancia Beta</td>\n",
       "      <td>1297</td>\n",
       "      <td>82</td>\n",
       "      <td>429</td>\n",
       "      <td>169</td>\n",
       "      <td>1080</td>\n",
       "      <td>160</td>\n",
       "    </tr>\n",
       "    <tr>\n",
       "      <th>6</th>\n",
       "      <td>Peugeot 504</td>\n",
       "      <td>1796</td>\n",
       "      <td>79</td>\n",
       "      <td>449</td>\n",
       "      <td>169</td>\n",
       "      <td>1160</td>\n",
       "      <td>154</td>\n",
       "    </tr>\n",
       "    <tr>\n",
       "      <th>7</th>\n",
       "      <td>Renault 16 TL</td>\n",
       "      <td>1565</td>\n",
       "      <td>55</td>\n",
       "      <td>424</td>\n",
       "      <td>163</td>\n",
       "      <td>1010</td>\n",
       "      <td>140</td>\n",
       "    </tr>\n",
       "    <tr>\n",
       "      <th>8</th>\n",
       "      <td>Renault 30</td>\n",
       "      <td>2664</td>\n",
       "      <td>128</td>\n",
       "      <td>452</td>\n",
       "      <td>173</td>\n",
       "      <td>1320</td>\n",
       "      <td>180</td>\n",
       "    </tr>\n",
       "    <tr>\n",
       "      <th>9</th>\n",
       "      <td>Toyota Corolla</td>\n",
       "      <td>1166</td>\n",
       "      <td>55</td>\n",
       "      <td>399</td>\n",
       "      <td>157</td>\n",
       "      <td>815</td>\n",
       "      <td>140</td>\n",
       "    </tr>\n",
       "    <tr>\n",
       "      <th>10</th>\n",
       "      <td>Alfetta 1.66</td>\n",
       "      <td>1570</td>\n",
       "      <td>109</td>\n",
       "      <td>428</td>\n",
       "      <td>162</td>\n",
       "      <td>1060</td>\n",
       "      <td>175</td>\n",
       "    </tr>\n",
       "    <tr>\n",
       "      <th>11</th>\n",
       "      <td>Princess 1800</td>\n",
       "      <td>1798</td>\n",
       "      <td>82</td>\n",
       "      <td>445</td>\n",
       "      <td>172</td>\n",
       "      <td>1160</td>\n",
       "      <td>158</td>\n",
       "    </tr>\n",
       "    <tr>\n",
       "      <th>12</th>\n",
       "      <td>Datsun 200L</td>\n",
       "      <td>1998</td>\n",
       "      <td>115</td>\n",
       "      <td>469</td>\n",
       "      <td>169</td>\n",
       "      <td>1370</td>\n",
       "      <td>160</td>\n",
       "    </tr>\n",
       "    <tr>\n",
       "      <th>13</th>\n",
       "      <td>Taunus 2000</td>\n",
       "      <td>1993</td>\n",
       "      <td>98</td>\n",
       "      <td>438</td>\n",
       "      <td>170</td>\n",
       "      <td>1080</td>\n",
       "      <td>167</td>\n",
       "    </tr>\n",
       "    <tr>\n",
       "      <th>14</th>\n",
       "      <td>Rancho</td>\n",
       "      <td>1442</td>\n",
       "      <td>80</td>\n",
       "      <td>431</td>\n",
       "      <td>166</td>\n",
       "      <td>1129</td>\n",
       "      <td>144</td>\n",
       "    </tr>\n",
       "    <tr>\n",
       "      <th>15</th>\n",
       "      <td>Mazda 9295</td>\n",
       "      <td>1769</td>\n",
       "      <td>83</td>\n",
       "      <td>440</td>\n",
       "      <td>165</td>\n",
       "      <td>1095</td>\n",
       "      <td>165</td>\n",
       "    </tr>\n",
       "    <tr>\n",
       "      <th>16</th>\n",
       "      <td>Opel Rekord</td>\n",
       "      <td>1979</td>\n",
       "      <td>100</td>\n",
       "      <td>459</td>\n",
       "      <td>173</td>\n",
       "      <td>1120</td>\n",
       "      <td>173</td>\n",
       "    </tr>\n",
       "    <tr>\n",
       "      <th>17</th>\n",
       "      <td>Lada 1300</td>\n",
       "      <td>1294</td>\n",
       "      <td>68</td>\n",
       "      <td>404</td>\n",
       "      <td>161</td>\n",
       "      <td>955</td>\n",
       "      <td>140</td>\n",
       "    </tr>\n",
       "  </tbody>\n",
       "</table>\n",
       "</div>"
      ],
      "text/plain": [
       "             Modele   CYL  PUISS  LONG  LARG  POIDS  V.MAX\n",
       "0        Alfasud TI  1350     79   393   161    870    165\n",
       "1          Audi 100  1588     85   468   177   1110    160\n",
       "2        Simca 1300  1294     68   424   168   1050    152\n",
       "3   Citroen GS Club  1222     59   412   161    930    151\n",
       "4          Fiat 132  1585     98   439   164   1105    165\n",
       "5       Lancia Beta  1297     82   429   169   1080    160\n",
       "6       Peugeot 504  1796     79   449   169   1160    154\n",
       "7     Renault 16 TL  1565     55   424   163   1010    140\n",
       "8        Renault 30  2664    128   452   173   1320    180\n",
       "9    Toyota Corolla  1166     55   399   157    815    140\n",
       "10     Alfetta 1.66  1570    109   428   162   1060    175\n",
       "11    Princess 1800  1798     82   445   172   1160    158\n",
       "12      Datsun 200L  1998    115   469   169   1370    160\n",
       "13      Taunus 2000  1993     98   438   170   1080    167\n",
       "14           Rancho  1442     80   431   166   1129    144\n",
       "15       Mazda 9295  1769     83   440   165   1095    165\n",
       "16      Opel Rekord  1979    100   459   173   1120    173\n",
       "17        Lada 1300  1294     68   404   161    955    140"
      ]
     },
     "execution_count": 1,
     "metadata": {},
     "output_type": "execute_result"
    }
   ],
   "source": [
    "import pandas as pd\n",
    "import matplotlib.pyplot as plt\n",
    "import statistics\n",
    "import numpy as np\n",
    "import scipy.stats\n",
    "import seaborn as sns\n",
    "\n",
    "dataOriginal = pd.read_excel(\"autos-Saporta.xls\", \"original\")\n",
    "pd.set_option('display.max_rows', None)\n",
    "n_data = dataOriginal.shape[0]\n",
    "dataOriginal\n"
   ]
  },
  {
   "cell_type": "markdown",
   "metadata": {},
   "source": [
    "# 2. Standarisation"
   ]
  },
  {
   "cell_type": "markdown",
   "metadata": {},
   "source": [
    "<font color=\"blue\">Nous devons explicitement centrer et réduire les variables pour réaliser une ACP normée avec PCA.</font>"
   ]
  },
  {
   "cell_type": "code",
   "execution_count": 2,
   "metadata": {},
   "outputs": [
    {
     "data": {
      "text/html": [
       "<div>\n",
       "<style scoped>\n",
       "    .dataframe tbody tr th:only-of-type {\n",
       "        vertical-align: middle;\n",
       "    }\n",
       "\n",
       "    .dataframe tbody tr th {\n",
       "        vertical-align: top;\n",
       "    }\n",
       "\n",
       "    .dataframe thead th {\n",
       "        text-align: right;\n",
       "    }\n",
       "</style>\n",
       "<table border=\"1\" class=\"dataframe\">\n",
       "  <thead>\n",
       "    <tr style=\"text-align: right;\">\n",
       "      <th></th>\n",
       "      <th>CYL</th>\n",
       "      <th>PUISS</th>\n",
       "      <th>LONG</th>\n",
       "      <th>LARG</th>\n",
       "      <th>POIDS</th>\n",
       "      <th>V.MAX</th>\n",
       "    </tr>\n",
       "  </thead>\n",
       "  <tbody>\n",
       "    <tr>\n",
       "      <th>0</th>\n",
       "      <td>-0.775099</td>\n",
       "      <td>-0.283358</td>\n",
       "      <td>-1.885081</td>\n",
       "      <td>-1.097345</td>\n",
       "      <td>-1.569007</td>\n",
       "      <td>0.569760</td>\n",
       "    </tr>\n",
       "    <tr>\n",
       "      <th>1</th>\n",
       "      <td>-0.120163</td>\n",
       "      <td>0.019639</td>\n",
       "      <td>1.605810</td>\n",
       "      <td>2.001041</td>\n",
       "      <td>0.234161</td>\n",
       "      <td>0.145972</td>\n",
       "    </tr>\n",
       "    <tr>\n",
       "      <th>2</th>\n",
       "      <td>-0.929201</td>\n",
       "      <td>-0.838852</td>\n",
       "      <td>-0.442179</td>\n",
       "      <td>0.258199</td>\n",
       "      <td>-0.216631</td>\n",
       "      <td>-0.532090</td>\n",
       "    </tr>\n",
       "    <tr>\n",
       "      <th>3</th>\n",
       "      <td>-1.127333</td>\n",
       "      <td>-1.293348</td>\n",
       "      <td>-1.000722</td>\n",
       "      <td>-1.097345</td>\n",
       "      <td>-1.118215</td>\n",
       "      <td>-0.616848</td>\n",
       "    </tr>\n",
       "    <tr>\n",
       "      <th>4</th>\n",
       "      <td>-0.128419</td>\n",
       "      <td>0.676132</td>\n",
       "      <td>0.255999</td>\n",
       "      <td>-0.516398</td>\n",
       "      <td>0.196595</td>\n",
       "      <td>0.569760</td>\n",
       "    </tr>\n",
       "    <tr>\n",
       "      <th>5</th>\n",
       "      <td>-0.920946</td>\n",
       "      <td>-0.131860</td>\n",
       "      <td>-0.209453</td>\n",
       "      <td>0.451848</td>\n",
       "      <td>0.008765</td>\n",
       "      <td>0.145972</td>\n",
       "    </tr>\n",
       "    <tr>\n",
       "      <th>6</th>\n",
       "      <td>0.452217</td>\n",
       "      <td>-0.283358</td>\n",
       "      <td>0.721451</td>\n",
       "      <td>0.451848</td>\n",
       "      <td>0.609821</td>\n",
       "      <td>-0.362575</td>\n",
       "    </tr>\n",
       "    <tr>\n",
       "      <th>7</th>\n",
       "      <td>-0.183455</td>\n",
       "      <td>-1.495346</td>\n",
       "      <td>-0.442179</td>\n",
       "      <td>-0.710047</td>\n",
       "      <td>-0.517159</td>\n",
       "      <td>-1.549183</td>\n",
       "    </tr>\n",
       "    <tr>\n",
       "      <th>8</th>\n",
       "      <td>2.840806</td>\n",
       "      <td>2.191116</td>\n",
       "      <td>0.861086</td>\n",
       "      <td>1.226445</td>\n",
       "      <td>1.811934</td>\n",
       "      <td>1.841127</td>\n",
       "    </tr>\n",
       "    <tr>\n",
       "      <th>9</th>\n",
       "      <td>-1.281436</td>\n",
       "      <td>-1.495346</td>\n",
       "      <td>-1.605810</td>\n",
       "      <td>-1.871942</td>\n",
       "      <td>-1.982233</td>\n",
       "      <td>-1.549183</td>\n",
       "    </tr>\n",
       "    <tr>\n",
       "      <th>10</th>\n",
       "      <td>-0.169696</td>\n",
       "      <td>1.231626</td>\n",
       "      <td>-0.255999</td>\n",
       "      <td>-0.903696</td>\n",
       "      <td>-0.141499</td>\n",
       "      <td>1.417338</td>\n",
       "    </tr>\n",
       "    <tr>\n",
       "      <th>11</th>\n",
       "      <td>0.457721</td>\n",
       "      <td>-0.131860</td>\n",
       "      <td>0.535270</td>\n",
       "      <td>1.032796</td>\n",
       "      <td>0.609821</td>\n",
       "      <td>-0.023544</td>\n",
       "    </tr>\n",
       "    <tr>\n",
       "      <th>12</th>\n",
       "      <td>1.008087</td>\n",
       "      <td>1.534623</td>\n",
       "      <td>1.652355</td>\n",
       "      <td>0.451848</td>\n",
       "      <td>2.187594</td>\n",
       "      <td>0.145972</td>\n",
       "    </tr>\n",
       "    <tr>\n",
       "      <th>13</th>\n",
       "      <td>0.994328</td>\n",
       "      <td>0.676132</td>\n",
       "      <td>0.209453</td>\n",
       "      <td>0.645497</td>\n",
       "      <td>0.008765</td>\n",
       "      <td>0.739276</td>\n",
       "    </tr>\n",
       "    <tr>\n",
       "      <th>14</th>\n",
       "      <td>-0.521930</td>\n",
       "      <td>-0.232859</td>\n",
       "      <td>-0.116363</td>\n",
       "      <td>-0.129099</td>\n",
       "      <td>0.376912</td>\n",
       "      <td>-1.210152</td>\n",
       "    </tr>\n",
       "    <tr>\n",
       "      <th>15</th>\n",
       "      <td>0.377918</td>\n",
       "      <td>-0.081360</td>\n",
       "      <td>0.302544</td>\n",
       "      <td>-0.322749</td>\n",
       "      <td>0.121463</td>\n",
       "      <td>0.569760</td>\n",
       "    </tr>\n",
       "    <tr>\n",
       "      <th>16</th>\n",
       "      <td>0.955802</td>\n",
       "      <td>0.777131</td>\n",
       "      <td>1.186903</td>\n",
       "      <td>1.226445</td>\n",
       "      <td>0.309293</td>\n",
       "      <td>1.247822</td>\n",
       "    </tr>\n",
       "    <tr>\n",
       "      <th>17</th>\n",
       "      <td>-0.929201</td>\n",
       "      <td>-0.838852</td>\n",
       "      <td>-1.373084</td>\n",
       "      <td>-1.097345</td>\n",
       "      <td>-0.930385</td>\n",
       "      <td>-1.549183</td>\n",
       "    </tr>\n",
       "  </tbody>\n",
       "</table>\n",
       "</div>"
      ],
      "text/plain": [
       "         CYL     PUISS      LONG      LARG     POIDS     V.MAX\n",
       "0  -0.775099 -0.283358 -1.885081 -1.097345 -1.569007  0.569760\n",
       "1  -0.120163  0.019639  1.605810  2.001041  0.234161  0.145972\n",
       "2  -0.929201 -0.838852 -0.442179  0.258199 -0.216631 -0.532090\n",
       "3  -1.127333 -1.293348 -1.000722 -1.097345 -1.118215 -0.616848\n",
       "4  -0.128419  0.676132  0.255999 -0.516398  0.196595  0.569760\n",
       "5  -0.920946 -0.131860 -0.209453  0.451848  0.008765  0.145972\n",
       "6   0.452217 -0.283358  0.721451  0.451848  0.609821 -0.362575\n",
       "7  -0.183455 -1.495346 -0.442179 -0.710047 -0.517159 -1.549183\n",
       "8   2.840806  2.191116  0.861086  1.226445  1.811934  1.841127\n",
       "9  -1.281436 -1.495346 -1.605810 -1.871942 -1.982233 -1.549183\n",
       "10 -0.169696  1.231626 -0.255999 -0.903696 -0.141499  1.417338\n",
       "11  0.457721 -0.131860  0.535270  1.032796  0.609821 -0.023544\n",
       "12  1.008087  1.534623  1.652355  0.451848  2.187594  0.145972\n",
       "13  0.994328  0.676132  0.209453  0.645497  0.008765  0.739276\n",
       "14 -0.521930 -0.232859 -0.116363 -0.129099  0.376912 -1.210152\n",
       "15  0.377918 -0.081360  0.302544 -0.322749  0.121463  0.569760\n",
       "16  0.955802  0.777131  1.186903  1.226445  0.309293  1.247822\n",
       "17 -0.929201 -0.838852 -1.373084 -1.097345 -0.930385 -1.549183"
      ]
     },
     "execution_count": 2,
     "metadata": {},
     "output_type": "execute_result"
    }
   ],
   "source": [
    "from sklearn.preprocessing import StandardScaler\n",
    "\n",
    "\n",
    "dataOriginal_X = dataOriginal.drop(['Modele'], axis = 1)\n",
    "\n",
    "scaler = StandardScaler()\n",
    "scaler.fit(dataOriginal_X)\n",
    "data_std = scaler.transform(dataOriginal_X)\n",
    "data_standarized = pd.DataFrame(data_std, columns = ['CYL','PUISS','LONG','LARG','POIDS','V.MAX'])\n",
    "data_standarized"
   ]
  },
  {
   "cell_type": "code",
   "execution_count": 3,
   "metadata": {},
   "outputs": [],
   "source": [
    "data_standarized['Modele']=dataOriginal['Modele']"
   ]
  },
  {
   "cell_type": "markdown",
   "metadata": {},
   "source": [
    "Verfication:  <font color=\"blue\">Apres l'standarisation Les moyennes sont maintenant nulles et les écarts-type unitaires</font>"
   ]
  },
  {
   "cell_type": "code",
   "execution_count": 4,
   "metadata": {},
   "outputs": [
    {
     "data": {
      "text/html": [
       "<div>\n",
       "<style scoped>\n",
       "    .dataframe tbody tr th:only-of-type {\n",
       "        vertical-align: middle;\n",
       "    }\n",
       "\n",
       "    .dataframe tbody tr th {\n",
       "        vertical-align: top;\n",
       "    }\n",
       "\n",
       "    .dataframe thead th {\n",
       "        text-align: right;\n",
       "    }\n",
       "</style>\n",
       "<table border=\"1\" class=\"dataframe\">\n",
       "  <thead>\n",
       "    <tr style=\"text-align: right;\">\n",
       "      <th></th>\n",
       "      <th>CYL</th>\n",
       "      <th>PUISS</th>\n",
       "      <th>LONG</th>\n",
       "      <th>LARG</th>\n",
       "      <th>POIDS</th>\n",
       "      <th>V.MAX</th>\n",
       "    </tr>\n",
       "  </thead>\n",
       "  <tbody>\n",
       "    <tr>\n",
       "      <th>count</th>\n",
       "      <td>1.800000e+01</td>\n",
       "      <td>1.800000e+01</td>\n",
       "      <td>1.800000e+01</td>\n",
       "      <td>1.800000e+01</td>\n",
       "      <td>1.800000e+01</td>\n",
       "      <td>1.800000e+01</td>\n",
       "    </tr>\n",
       "    <tr>\n",
       "      <th>mean</th>\n",
       "      <td>-2.158767e-16</td>\n",
       "      <td>-1.480297e-16</td>\n",
       "      <td>1.233581e-17</td>\n",
       "      <td>1.850372e-15</td>\n",
       "      <td>5.859510e-16</td>\n",
       "      <td>5.427757e-16</td>\n",
       "    </tr>\n",
       "    <tr>\n",
       "      <th>std</th>\n",
       "      <td>1.028992e+00</td>\n",
       "      <td>1.028992e+00</td>\n",
       "      <td>1.028992e+00</td>\n",
       "      <td>1.028992e+00</td>\n",
       "      <td>1.028992e+00</td>\n",
       "      <td>1.028992e+00</td>\n",
       "    </tr>\n",
       "    <tr>\n",
       "      <th>min</th>\n",
       "      <td>-1.281436e+00</td>\n",
       "      <td>-1.495346e+00</td>\n",
       "      <td>-1.885081e+00</td>\n",
       "      <td>-1.871942e+00</td>\n",
       "      <td>-1.982233e+00</td>\n",
       "      <td>-1.549183e+00</td>\n",
       "    </tr>\n",
       "    <tr>\n",
       "      <th>25%</th>\n",
       "      <td>-8.844841e-01</td>\n",
       "      <td>-6.999789e-01</td>\n",
       "      <td>-4.421794e-01</td>\n",
       "      <td>-8.552838e-01</td>\n",
       "      <td>-4.420266e-01</td>\n",
       "      <td>-5.956586e-01</td>\n",
       "    </tr>\n",
       "    <tr>\n",
       "      <th>50%</th>\n",
       "      <td>-1.490575e-01</td>\n",
       "      <td>-1.318597e-01</td>\n",
       "      <td>4.654520e-02</td>\n",
       "      <td>6.454972e-02</td>\n",
       "      <td>6.511441e-02</td>\n",
       "      <td>1.459717e-01</td>\n",
       "    </tr>\n",
       "    <tr>\n",
       "      <th>75%</th>\n",
       "      <td>4.563452e-01</td>\n",
       "      <td>6.761319e-01</td>\n",
       "      <td>6.749055e-01</td>\n",
       "      <td>5.970849e-01</td>\n",
       "      <td>3.600075e-01</td>\n",
       "      <td>5.697604e-01</td>\n",
       "    </tr>\n",
       "    <tr>\n",
       "      <th>max</th>\n",
       "      <td>2.840806e+00</td>\n",
       "      <td>2.191116e+00</td>\n",
       "      <td>1.652355e+00</td>\n",
       "      <td>2.001041e+00</td>\n",
       "      <td>2.187594e+00</td>\n",
       "      <td>1.841127e+00</td>\n",
       "    </tr>\n",
       "  </tbody>\n",
       "</table>\n",
       "</div>"
      ],
      "text/plain": [
       "                CYL         PUISS          LONG          LARG         POIDS  \\\n",
       "count  1.800000e+01  1.800000e+01  1.800000e+01  1.800000e+01  1.800000e+01   \n",
       "mean  -2.158767e-16 -1.480297e-16  1.233581e-17  1.850372e-15  5.859510e-16   \n",
       "std    1.028992e+00  1.028992e+00  1.028992e+00  1.028992e+00  1.028992e+00   \n",
       "min   -1.281436e+00 -1.495346e+00 -1.885081e+00 -1.871942e+00 -1.982233e+00   \n",
       "25%   -8.844841e-01 -6.999789e-01 -4.421794e-01 -8.552838e-01 -4.420266e-01   \n",
       "50%   -1.490575e-01 -1.318597e-01  4.654520e-02  6.454972e-02  6.511441e-02   \n",
       "75%    4.563452e-01  6.761319e-01  6.749055e-01  5.970849e-01  3.600075e-01   \n",
       "max    2.840806e+00  2.191116e+00  1.652355e+00  2.001041e+00  2.187594e+00   \n",
       "\n",
       "              V.MAX  \n",
       "count  1.800000e+01  \n",
       "mean   5.427757e-16  \n",
       "std    1.028992e+00  \n",
       "min   -1.549183e+00  \n",
       "25%   -5.956586e-01  \n",
       "50%    1.459717e-01  \n",
       "75%    5.697604e-01  \n",
       "max    1.841127e+00  "
      ]
     },
     "execution_count": 4,
     "metadata": {},
     "output_type": "execute_result"
    }
   ],
   "source": [
    "data_standarized.describe()"
   ]
  },
  {
   "cell_type": "markdown",
   "metadata": {},
   "source": [
    "# 3.  Exploration de desviation et moyenne"
   ]
  },
  {
   "cell_type": "code",
   "execution_count": 5,
   "metadata": {},
   "outputs": [],
   "source": [
    "# Moyenes et ecart-types"
   ]
  },
  {
   "cell_type": "code",
   "execution_count": 6,
   "metadata": {},
   "outputs": [],
   "source": [
    "x_labels = ['CYL','PUISS','LONG','LARG','POIDS','V.MAX']"
   ]
  },
  {
   "cell_type": "markdown",
   "metadata": {},
   "source": [
    "# 4. Correlation "
   ]
  },
  {
   "cell_type": "code",
   "execution_count": 7,
   "metadata": {},
   "outputs": [
    {
     "data": {
      "text/html": [
       "<div>\n",
       "<style scoped>\n",
       "    .dataframe tbody tr th:only-of-type {\n",
       "        vertical-align: middle;\n",
       "    }\n",
       "\n",
       "    .dataframe tbody tr th {\n",
       "        vertical-align: top;\n",
       "    }\n",
       "\n",
       "    .dataframe thead th {\n",
       "        text-align: right;\n",
       "    }\n",
       "</style>\n",
       "<table border=\"1\" class=\"dataframe\">\n",
       "  <thead>\n",
       "    <tr style=\"text-align: right;\">\n",
       "      <th></th>\n",
       "      <th>CYL</th>\n",
       "      <th>PUISS</th>\n",
       "      <th>LONG</th>\n",
       "      <th>LARG</th>\n",
       "      <th>POIDS</th>\n",
       "      <th>V.MAX</th>\n",
       "    </tr>\n",
       "  </thead>\n",
       "  <tbody>\n",
       "    <tr>\n",
       "      <th>CYL</th>\n",
       "      <td>1.00</td>\n",
       "      <td>0.80</td>\n",
       "      <td>0.70</td>\n",
       "      <td>0.63</td>\n",
       "      <td>0.79</td>\n",
       "      <td>0.66</td>\n",
       "    </tr>\n",
       "    <tr>\n",
       "      <th>PUISS</th>\n",
       "      <td>0.80</td>\n",
       "      <td>1.00</td>\n",
       "      <td>0.64</td>\n",
       "      <td>0.52</td>\n",
       "      <td>0.77</td>\n",
       "      <td>0.84</td>\n",
       "    </tr>\n",
       "    <tr>\n",
       "      <th>LONG</th>\n",
       "      <td>0.70</td>\n",
       "      <td>0.64</td>\n",
       "      <td>1.00</td>\n",
       "      <td>0.85</td>\n",
       "      <td>0.87</td>\n",
       "      <td>0.48</td>\n",
       "    </tr>\n",
       "    <tr>\n",
       "      <th>LARG</th>\n",
       "      <td>0.63</td>\n",
       "      <td>0.52</td>\n",
       "      <td>0.85</td>\n",
       "      <td>1.00</td>\n",
       "      <td>0.72</td>\n",
       "      <td>0.47</td>\n",
       "    </tr>\n",
       "    <tr>\n",
       "      <th>POIDS</th>\n",
       "      <td>0.79</td>\n",
       "      <td>0.77</td>\n",
       "      <td>0.87</td>\n",
       "      <td>0.72</td>\n",
       "      <td>1.00</td>\n",
       "      <td>0.48</td>\n",
       "    </tr>\n",
       "    <tr>\n",
       "      <th>V.MAX</th>\n",
       "      <td>0.66</td>\n",
       "      <td>0.84</td>\n",
       "      <td>0.48</td>\n",
       "      <td>0.47</td>\n",
       "      <td>0.48</td>\n",
       "      <td>1.00</td>\n",
       "    </tr>\n",
       "  </tbody>\n",
       "</table>\n",
       "</div>"
      ],
      "text/plain": [
       "        CYL  PUISS  LONG  LARG  POIDS  V.MAX\n",
       "CYL    1.00   0.80  0.70  0.63   0.79   0.66\n",
       "PUISS  0.80   1.00  0.64  0.52   0.77   0.84\n",
       "LONG   0.70   0.64  1.00  0.85   0.87   0.48\n",
       "LARG   0.63   0.52  0.85  1.00   0.72   0.47\n",
       "POIDS  0.79   0.77  0.87  0.72   1.00   0.48\n",
       "V.MAX  0.66   0.84  0.48  0.47   0.48   1.00"
      ]
     },
     "execution_count": 7,
     "metadata": {},
     "output_type": "execute_result"
    }
   ],
   "source": [
    "correlation_matrix = np.corrcoef(data_standarized[x_labels].transpose())\n",
    "\n",
    "pd.DataFrame(correlation_matrix.round(2), columns = x_labels, index = x_labels)\n"
   ]
  },
  {
   "cell_type": "code",
   "execution_count": 8,
   "metadata": {},
   "outputs": [
    {
     "data": {
      "image/png": "[encoded data removed]",
      "text/plain": [
       "<Figure size 432x432 with 2 Axes>"
      ]
     },
     "metadata": {
      "needs_background": "light"
     },
     "output_type": "display_data"
    }
   ],
   "source": [
    "import seaborn as sns\n",
    "\n",
    "dfCorrelation = correlation_matrix.astype('float')  # !! Neccessary for Heatmap\n",
    "dfCorrelation = pd.DataFrame(correlation_matrix, columns = x_labels, index = x_labels)\n",
    "plt.figure(figsize=(6,6))\n",
    "sns.heatmap(dfCorrelation, annot=True, cmap=\"Greens\")\n",
    "plt.show()"
   ]
  },
  {
   "cell_type": "markdown",
   "metadata": {},
   "source": [
    "# 5. Finding eigen values and vectors from correlation matrix"
   ]
  },
  {
   "cell_type": "code",
   "execution_count": 9,
   "metadata": {},
   "outputs": [],
   "source": [
    "eig_vals, eig_vecs = np.linalg.eig(correlation_matrix)"
   ]
  },
  {
   "cell_type": "code",
   "execution_count": 10,
   "metadata": {},
   "outputs": [
    {
     "data": {
      "text/plain": [
       "array([4.421, 0.856, 0.373, 0.214, 0.093, 0.043])"
      ]
     },
     "execution_count": 10,
     "metadata": {},
     "output_type": "execute_result"
    }
   ],
   "source": [
    "#Valeurs propes\n",
    "\n",
    "eig_vals.round(3)"
   ]
  },
  {
   "cell_type": "code",
   "execution_count": 11,
   "metadata": {},
   "outputs": [
    {
     "data": {
      "text/plain": [
       "array([[-0.425, -0.124, -0.354,  0.808,  0.152, -0.059],\n",
       "       [-0.422, -0.416, -0.185, -0.358, -0.294, -0.633],\n",
       "       [-0.421,  0.412,  0.068, -0.28 ,  0.731, -0.19 ],\n",
       "       [-0.387,  0.446,  0.605,  0.212, -0.478, -0.11 ],\n",
       "       [-0.431,  0.243, -0.484, -0.302, -0.305,  0.581],\n",
       "       [-0.359, -0.62 ,  0.485, -0.074,  0.189,  0.459]])"
      ]
     },
     "execution_count": 11,
     "metadata": {},
     "output_type": "execute_result"
    }
   ],
   "source": [
    "#Vecteur propes\n",
    "\n",
    "eig_vecs.round(3)"
   ]
  },
  {
   "cell_type": "code",
   "execution_count": 12,
   "metadata": {},
   "outputs": [
    {
     "data": {
      "text/plain": [
       "(6, 6)"
      ]
     },
     "execution_count": 12,
     "metadata": {},
     "output_type": "execute_result"
    }
   ],
   "source": [
    "eig_vecs.shape # numero de donnes vs numero de descriptors"
   ]
  },
  {
   "cell_type": "markdown",
   "metadata": {},
   "source": [
    "# 6. Optimal number of components"
   ]
  },
  {
   "cell_type": "markdown",
   "metadata": {},
   "source": [
    "# 6.1.  Methode de code"
   ]
  },
  {
   "cell_type": "code",
   "execution_count": 13,
   "metadata": {},
   "outputs": [],
   "source": [
    "from sklearn.cluster import KMeans\n",
    "from kneed import KneeLocator\n",
    "\n",
    "SSE = []\n",
    "for cluster in range(1,7):\n",
    "    kmeans = KMeans(n_jobs = -1, n_clusters = cluster, init='k-means++')\n",
    "    kmeans.fit(data_standarized[x_labels])\n",
    "    SSE.append(kmeans.inertia_)\n",
    "\n"
   ]
  },
  {
   "cell_type": "code",
   "execution_count": 14,
   "metadata": {},
   "outputs": [
    {
     "data": {
      "text/plain": [
       "Text(0, 0.5, 'Inertia')"
      ]
     },
     "execution_count": 14,
     "metadata": {},
     "output_type": "execute_result"
    },
    {
     "data": {
      "image/png": "[encoded data removed]",
      "text/plain": [
       "<Figure size 648x432 with 1 Axes>"
      ]
     },
     "metadata": {
      "needs_background": "light"
     },
     "output_type": "display_data"
    }
   ],
   "source": [
    "# converting the results into a dataframe and plotting them\n",
    "frame = pd.DataFrame({'Cluster':range(1,7), 'SSE':SSE})\n",
    "plt.figure(figsize=(9,6))\n",
    "plt.plot(frame['Cluster'], frame['SSE'], marker='o')\n",
    "plt.xlabel('Number of clusters')\n",
    "plt.ylabel('Inertia')"
   ]
  },
  {
   "cell_type": "code",
   "execution_count": 15,
   "metadata": {},
   "outputs": [
    {
     "data": {
      "text/plain": [
       "[107.99999999999999,\n",
       " 53.73357823998603,\n",
       " 37.99910481809746,\n",
       " 29.76155158105334,\n",
       " 23.78434480630585,\n",
       " 18.97277566748012]"
      ]
     },
     "execution_count": 15,
     "metadata": {},
     "output_type": "execute_result"
    }
   ],
   "source": [
    "SSE"
   ]
  },
  {
   "cell_type": "markdown",
   "metadata": {},
   "source": [
    "<font color=\"blue\">Pour observation le numero optimal cest entre 2 et 3 composants</font>\n"
   ]
  },
  {
   "cell_type": "code",
   "execution_count": 16,
   "metadata": {},
   "outputs": [
    {
     "data": {
      "text/html": [
       "<div>\n",
       "<style scoped>\n",
       "    .dataframe tbody tr th:only-of-type {\n",
       "        vertical-align: middle;\n",
       "    }\n",
       "\n",
       "    .dataframe tbody tr th {\n",
       "        vertical-align: top;\n",
       "    }\n",
       "\n",
       "    .dataframe thead th {\n",
       "        text-align: right;\n",
       "    }\n",
       "</style>\n",
       "<table border=\"1\" class=\"dataframe\">\n",
       "  <thead>\n",
       "    <tr style=\"text-align: right;\">\n",
       "      <th></th>\n",
       "      <th>SSE</th>\n",
       "    </tr>\n",
       "  </thead>\n",
       "  <tbody>\n",
       "    <tr>\n",
       "      <th>5</th>\n",
       "      <td>18.972776</td>\n",
       "    </tr>\n",
       "    <tr>\n",
       "      <th>4</th>\n",
       "      <td>23.784345</td>\n",
       "    </tr>\n",
       "    <tr>\n",
       "      <th>3</th>\n",
       "      <td>29.761552</td>\n",
       "    </tr>\n",
       "    <tr>\n",
       "      <th>2</th>\n",
       "      <td>37.999105</td>\n",
       "    </tr>\n",
       "    <tr>\n",
       "      <th>1</th>\n",
       "      <td>53.733578</td>\n",
       "    </tr>\n",
       "    <tr>\n",
       "      <th>0</th>\n",
       "      <td>108.000000</td>\n",
       "    </tr>\n",
       "  </tbody>\n",
       "</table>\n",
       "</div>"
      ],
      "text/plain": [
       "          SSE\n",
       "5   18.972776\n",
       "4   23.784345\n",
       "3   29.761552\n",
       "2   37.999105\n",
       "1   53.733578\n",
       "0  108.000000"
      ]
     },
     "execution_count": 16,
     "metadata": {},
     "output_type": "execute_result"
    }
   ],
   "source": [
    "SSE_Info = pd.DataFrame(SSE, columns = ['SSE']).sort_values(by=['SSE'])\n",
    "SSE_Info"
   ]
  },
  {
   "cell_type": "markdown",
   "metadata": {},
   "source": [
    "# 6.2.  Matrix de composant principaux et explained_variance_ratio\n"
   ]
  },
  {
   "cell_type": "code",
   "execution_count": 17,
   "metadata": {},
   "outputs": [
    {
     "data": {
      "text/html": [
       "<div>\n",
       "<style scoped>\n",
       "    .dataframe tbody tr th:only-of-type {\n",
       "        vertical-align: middle;\n",
       "    }\n",
       "\n",
       "    .dataframe tbody tr th {\n",
       "        vertical-align: top;\n",
       "    }\n",
       "\n",
       "    .dataframe thead th {\n",
       "        text-align: right;\n",
       "    }\n",
       "</style>\n",
       "<table border=\"1\" class=\"dataframe\">\n",
       "  <thead>\n",
       "    <tr style=\"text-align: right;\">\n",
       "      <th></th>\n",
       "      <th>0</th>\n",
       "      <th>1</th>\n",
       "      <th>2</th>\n",
       "      <th>3</th>\n",
       "      <th>4</th>\n",
       "      <th>5</th>\n",
       "    </tr>\n",
       "  </thead>\n",
       "  <tbody>\n",
       "    <tr>\n",
       "      <th>0</th>\n",
       "      <td>-2.138924</td>\n",
       "      <td>1.785681</td>\n",
       "      <td>0.571862</td>\n",
       "      <td>0.201927</td>\n",
       "      <td>-0.301357</td>\n",
       "      <td>0.053921</td>\n",
       "    </tr>\n",
       "    <tr>\n",
       "      <th>1</th>\n",
       "      <td>1.561459</td>\n",
       "      <td>-1.527040</td>\n",
       "      <td>1.315271</td>\n",
       "      <td>-0.211352</td>\n",
       "      <td>0.148516</td>\n",
       "      <td>-0.327238</td>\n",
       "    </tr>\n",
       "    <tr>\n",
       "      <th>2</th>\n",
       "      <td>-1.119385</td>\n",
       "      <td>-0.674505</td>\n",
       "      <td>0.456588</td>\n",
       "      <td>-0.167626</td>\n",
       "      <td>-0.375364</td>\n",
       "      <td>0.271803</td>\n",
       "    </tr>\n",
       "    <tr>\n",
       "      <th>3</th>\n",
       "      <td>-2.573742</td>\n",
       "      <td>0.112884</td>\n",
       "      <td>0.148570</td>\n",
       "      <td>-0.017343</td>\n",
       "      <td>0.226853</td>\n",
       "      <td>0.263476</td>\n",
       "    </tr>\n",
       "    <tr>\n",
       "      <th>4</th>\n",
       "      <td>0.427855</td>\n",
       "      <td>0.695567</td>\n",
       "      <td>-0.193286</td>\n",
       "      <td>-0.627754</td>\n",
       "      <td>0.263505</td>\n",
       "      <td>-0.037153</td>\n",
       "    </tr>\n",
       "    <tr>\n",
       "      <th>5</th>\n",
       "      <td>-0.304238</td>\n",
       "      <td>-0.196149</td>\n",
       "      <td>0.675803</td>\n",
       "      <td>-0.555941</td>\n",
       "      <td>-0.445086</td>\n",
       "      <td>0.200083</td>\n",
       "    </tr>\n",
       "    <tr>\n",
       "      <th>6</th>\n",
       "      <td>0.683928</td>\n",
       "      <td>-0.933057</td>\n",
       "      <td>-0.256823</td>\n",
       "      <td>0.203134</td>\n",
       "      <td>0.208652</td>\n",
       "      <td>0.153892</td>\n",
       "    </tr>\n",
       "    <tr>\n",
       "      <th>7</th>\n",
       "      <td>-1.948493</td>\n",
       "      <td>-0.980448</td>\n",
       "      <td>-0.619575</td>\n",
       "      <td>0.630319</td>\n",
       "      <td>0.293165</td>\n",
       "      <td>0.108642</td>\n",
       "    </tr>\n",
       "    <tr>\n",
       "      <th>8</th>\n",
       "      <td>4.409735</td>\n",
       "      <td>1.063633</td>\n",
       "      <td>-0.593528</td>\n",
       "      <td>0.847248</td>\n",
       "      <td>-0.374890</td>\n",
       "      <td>0.043997</td>\n",
       "    </tr>\n",
       "    <tr>\n",
       "      <th>9</th>\n",
       "      <td>-3.985782</td>\n",
       "      <td>0.236240</td>\n",
       "      <td>-0.303133</td>\n",
       "      <td>0.265122</td>\n",
       "      <td>0.278428</td>\n",
       "      <td>-0.328892</td>\n",
       "    </tr>\n",
       "    <tr>\n",
       "      <th>10</th>\n",
       "      <td>0.437658</td>\n",
       "      <td>1.912448</td>\n",
       "      <td>0.024942</td>\n",
       "      <td>-0.758910</td>\n",
       "      <td>0.168103</td>\n",
       "      <td>-0.054241</td>\n",
       "    </tr>\n",
       "    <tr>\n",
       "      <th>11</th>\n",
       "      <td>1.018175</td>\n",
       "      <td>-0.841712</td>\n",
       "      <td>0.216610</td>\n",
       "      <td>0.303426</td>\n",
       "      <td>-0.184876</td>\n",
       "      <td>0.184894</td>\n",
       "    </tr>\n",
       "    <tr>\n",
       "      <th>12</th>\n",
       "      <td>2.941080</td>\n",
       "      <td>-0.559175</td>\n",
       "      <td>-1.243988</td>\n",
       "      <td>-0.772171</td>\n",
       "      <td>0.054412</td>\n",
       "      <td>-0.057263</td>\n",
       "    </tr>\n",
       "    <tr>\n",
       "      <th>13</th>\n",
       "      <td>1.314880</td>\n",
       "      <td>0.486522</td>\n",
       "      <td>0.282621</td>\n",
       "      <td>0.582226</td>\n",
       "      <td>-0.066735</td>\n",
       "      <td>-0.253092</td>\n",
       "    </tr>\n",
       "    <tr>\n",
       "      <th>14</th>\n",
       "      <td>-0.691111</td>\n",
       "      <td>-0.897721</td>\n",
       "      <td>-0.628407</td>\n",
       "      <td>-0.357737</td>\n",
       "      <td>-0.377086</td>\n",
       "      <td>-0.121532</td>\n",
       "    </tr>\n",
       "    <tr>\n",
       "      <th>15</th>\n",
       "      <td>0.385709</td>\n",
       "      <td>0.356185</td>\n",
       "      <td>-0.075583</td>\n",
       "      <td>0.102899</td>\n",
       "      <td>0.527043</td>\n",
       "      <td>0.338832</td>\n",
       "    </tr>\n",
       "    <tr>\n",
       "      <th>16</th>\n",
       "      <td>2.289768</td>\n",
       "      <td>0.104345</td>\n",
       "      <td>0.796384</td>\n",
       "      <td>0.236347</td>\n",
       "      <td>0.338461</td>\n",
       "      <td>-0.156681</td>\n",
       "    </tr>\n",
       "    <tr>\n",
       "      <th>17</th>\n",
       "      <td>-2.708574</td>\n",
       "      <td>-0.143699</td>\n",
       "      <td>-0.574329</td>\n",
       "      <td>0.096185</td>\n",
       "      <td>-0.381746</td>\n",
       "      <td>-0.283448</td>\n",
       "    </tr>\n",
       "  </tbody>\n",
       "</table>\n",
       "</div>"
      ],
      "text/plain": [
       "           0         1         2         3         4         5\n",
       "0  -2.138924  1.785681  0.571862  0.201927 -0.301357  0.053921\n",
       "1   1.561459 -1.527040  1.315271 -0.211352  0.148516 -0.327238\n",
       "2  -1.119385 -0.674505  0.456588 -0.167626 -0.375364  0.271803\n",
       "3  -2.573742  0.112884  0.148570 -0.017343  0.226853  0.263476\n",
       "4   0.427855  0.695567 -0.193286 -0.627754  0.263505 -0.037153\n",
       "5  -0.304238 -0.196149  0.675803 -0.555941 -0.445086  0.200083\n",
       "6   0.683928 -0.933057 -0.256823  0.203134  0.208652  0.153892\n",
       "7  -1.948493 -0.980448 -0.619575  0.630319  0.293165  0.108642\n",
       "8   4.409735  1.063633 -0.593528  0.847248 -0.374890  0.043997\n",
       "9  -3.985782  0.236240 -0.303133  0.265122  0.278428 -0.328892\n",
       "10  0.437658  1.912448  0.024942 -0.758910  0.168103 -0.054241\n",
       "11  1.018175 -0.841712  0.216610  0.303426 -0.184876  0.184894\n",
       "12  2.941080 -0.559175 -1.243988 -0.772171  0.054412 -0.057263\n",
       "13  1.314880  0.486522  0.282621  0.582226 -0.066735 -0.253092\n",
       "14 -0.691111 -0.897721 -0.628407 -0.357737 -0.377086 -0.121532\n",
       "15  0.385709  0.356185 -0.075583  0.102899  0.527043  0.338832\n",
       "16  2.289768  0.104345  0.796384  0.236347  0.338461 -0.156681\n",
       "17 -2.708574 -0.143699 -0.574329  0.096185 -0.381746 -0.283448"
      ]
     },
     "execution_count": 17,
     "metadata": {},
     "output_type": "execute_result"
    }
   ],
   "source": [
    "from sklearn.decomposition import PCA\n",
    "\n",
    "pca = PCA() #PCA(n_components=2)  Default numero de composant equal a numero de variables\n",
    "principalComponents = pca.fit_transform(data_standarized[x_labels])\n",
    "principalDf = pd.DataFrame(data = principalComponents)\n",
    "principalDf"
   ]
  },
  {
   "cell_type": "code",
   "execution_count": 18,
   "metadata": {},
   "outputs": [
    {
     "data": {
      "text/plain": [
       "PCA(copy=True, iterated_power='auto', n_components=None, random_state=None,\n",
       "    svd_solver='auto', tol=0.0, whiten=False)"
      ]
     },
     "execution_count": 18,
     "metadata": {},
     "output_type": "execute_result"
    }
   ],
   "source": [
    "pca"
   ]
  },
  {
   "cell_type": "markdown",
   "metadata": {},
   "source": [
    "PCA fournit également les proportions de variance associées aux axes."
   ]
  },
  {
   "cell_type": "code",
   "execution_count": 19,
   "metadata": {},
   "outputs": [
    {
     "name": "stdout",
     "output_type": "stream",
     "text": [
      "[0.7368 0.1427 0.0622 0.0357 0.0155 0.0072]\n"
     ]
    }
   ],
   "source": [
    "print(pca.explained_variance_ratio_.round(4))"
   ]
  },
  {
   "cell_type": "markdown",
   "metadata": {},
   "source": [
    "<font color=\"blue\">On dois le voir de facon acumulative pour reconnaitre la variance obtenu:</font>"
   ]
  },
  {
   "cell_type": "code",
   "execution_count": 20,
   "metadata": {},
   "outputs": [
    {
     "data": {
      "text/plain": [
       "range(0, 6)"
      ]
     },
     "execution_count": 20,
     "metadata": {},
     "output_type": "execute_result"
    }
   ],
   "source": [
    " range(len(eig_vals))"
   ]
  },
  {
   "cell_type": "code",
   "execution_count": 21,
   "metadata": {},
   "outputs": [
    {
     "data": {
      "text/html": [
       "<div>\n",
       "<style scoped>\n",
       "    .dataframe tbody tr th:only-of-type {\n",
       "        vertical-align: middle;\n",
       "    }\n",
       "\n",
       "    .dataframe tbody tr th {\n",
       "        vertical-align: top;\n",
       "    }\n",
       "\n",
       "    .dataframe thead th {\n",
       "        text-align: right;\n",
       "    }\n",
       "</style>\n",
       "<table border=\"1\" class=\"dataframe\">\n",
       "  <thead>\n",
       "    <tr style=\"text-align: right;\">\n",
       "      <th></th>\n",
       "      <th>SSE</th>\n",
       "      <th>Variance Explained ratio</th>\n",
       "    </tr>\n",
       "  </thead>\n",
       "  <tbody>\n",
       "    <tr>\n",
       "      <th>5</th>\n",
       "      <td>18.972776</td>\n",
       "      <td>0.736810</td>\n",
       "    </tr>\n",
       "    <tr>\n",
       "      <th>4</th>\n",
       "      <td>23.784345</td>\n",
       "      <td>0.879487</td>\n",
       "    </tr>\n",
       "    <tr>\n",
       "      <th>3</th>\n",
       "      <td>29.761552</td>\n",
       "      <td>0.941664</td>\n",
       "    </tr>\n",
       "    <tr>\n",
       "      <th>2</th>\n",
       "      <td>37.999105</td>\n",
       "      <td>0.977318</td>\n",
       "    </tr>\n",
       "    <tr>\n",
       "      <th>1</th>\n",
       "      <td>53.733578</td>\n",
       "      <td>0.992785</td>\n",
       "    </tr>\n",
       "    <tr>\n",
       "      <th>0</th>\n",
       "      <td>108.000000</td>\n",
       "      <td>1.000000</td>\n",
       "    </tr>\n",
       "  </tbody>\n",
       "</table>\n",
       "</div>"
      ],
      "text/plain": [
       "          SSE  Variance Explained ratio\n",
       "5   18.972776                  0.736810\n",
       "4   23.784345                  0.879487\n",
       "3   29.761552                  0.941664\n",
       "2   37.999105                  0.977318\n",
       "1   53.733578                  0.992785\n",
       "0  108.000000                  1.000000"
      ]
     },
     "execution_count": 21,
     "metadata": {},
     "output_type": "execute_result"
    }
   ],
   "source": [
    "factors = range(len(eig_vals))\n",
    "\n",
    "SSE_Info['Variance Explained ratio'] = pca.explained_variance_ratio_.cumsum()\n",
    "SSE_Info\n"
   ]
  },
  {
   "cell_type": "markdown",
   "metadata": {},
   "source": [
    "<font color=\"blue\">La première composante accapare 73.68% de l’information disponible. 87.94% avec les deux premiers facteurs. </font>"
   ]
  },
  {
   "cell_type": "code",
   "execution_count": 22,
   "metadata": {},
   "outputs": [
    {
     "data": {
      "image/png": "[encoded data removed]",
      "text/plain": [
       "<Figure size 432x288 with 1 Axes>"
      ]
     },
     "metadata": {
      "needs_background": "light"
     },
     "output_type": "display_data"
    }
   ],
   "source": [
    "plt.plot(factors, SSE_Info['Variance Explained ratio'], color='Blue', marker='o')\n",
    "plt.title('Diagram de code accumule', color = 'black', fontsize = 16)\n",
    "plt.xlabel('Clusters',color = 'black')\n",
    "plt.ylabel('Explained variance ratio', color = 'blue')\n",
    "plt.xticks(color = 'red')\n",
    "plt.yticks(color = 'black')\n",
    "#plt.savefig('linechart_single.png')\n",
    "plt.show()"
   ]
  },
  {
   "cell_type": "markdown",
   "metadata": {},
   "source": [
    "# 7.  Modelisation avec selection de k=2"
   ]
  },
  {
   "cell_type": "code",
   "execution_count": 23,
   "metadata": {},
   "outputs": [
    {
     "data": {
      "text/html": [
       "<div>\n",
       "<style scoped>\n",
       "    .dataframe tbody tr th:only-of-type {\n",
       "        vertical-align: middle;\n",
       "    }\n",
       "\n",
       "    .dataframe tbody tr th {\n",
       "        vertical-align: top;\n",
       "    }\n",
       "\n",
       "    .dataframe thead th {\n",
       "        text-align: right;\n",
       "    }\n",
       "</style>\n",
       "<table border=\"1\" class=\"dataframe\">\n",
       "  <thead>\n",
       "    <tr style=\"text-align: right;\">\n",
       "      <th></th>\n",
       "      <th>PC1</th>\n",
       "      <th>PC2</th>\n",
       "    </tr>\n",
       "  </thead>\n",
       "  <tbody>\n",
       "    <tr>\n",
       "      <th>0</th>\n",
       "      <td>-2.138924</td>\n",
       "      <td>1.785681</td>\n",
       "    </tr>\n",
       "    <tr>\n",
       "      <th>1</th>\n",
       "      <td>1.561459</td>\n",
       "      <td>-1.527040</td>\n",
       "    </tr>\n",
       "    <tr>\n",
       "      <th>2</th>\n",
       "      <td>-1.119385</td>\n",
       "      <td>-0.674505</td>\n",
       "    </tr>\n",
       "    <tr>\n",
       "      <th>3</th>\n",
       "      <td>-2.573742</td>\n",
       "      <td>0.112884</td>\n",
       "    </tr>\n",
       "    <tr>\n",
       "      <th>4</th>\n",
       "      <td>0.427855</td>\n",
       "      <td>0.695567</td>\n",
       "    </tr>\n",
       "    <tr>\n",
       "      <th>5</th>\n",
       "      <td>-0.304238</td>\n",
       "      <td>-0.196149</td>\n",
       "    </tr>\n",
       "    <tr>\n",
       "      <th>6</th>\n",
       "      <td>0.683928</td>\n",
       "      <td>-0.933057</td>\n",
       "    </tr>\n",
       "    <tr>\n",
       "      <th>7</th>\n",
       "      <td>-1.948493</td>\n",
       "      <td>-0.980448</td>\n",
       "    </tr>\n",
       "    <tr>\n",
       "      <th>8</th>\n",
       "      <td>4.409735</td>\n",
       "      <td>1.063633</td>\n",
       "    </tr>\n",
       "    <tr>\n",
       "      <th>9</th>\n",
       "      <td>-3.985782</td>\n",
       "      <td>0.236240</td>\n",
       "    </tr>\n",
       "    <tr>\n",
       "      <th>10</th>\n",
       "      <td>0.437658</td>\n",
       "      <td>1.912448</td>\n",
       "    </tr>\n",
       "    <tr>\n",
       "      <th>11</th>\n",
       "      <td>1.018175</td>\n",
       "      <td>-0.841712</td>\n",
       "    </tr>\n",
       "    <tr>\n",
       "      <th>12</th>\n",
       "      <td>2.941080</td>\n",
       "      <td>-0.559175</td>\n",
       "    </tr>\n",
       "    <tr>\n",
       "      <th>13</th>\n",
       "      <td>1.314880</td>\n",
       "      <td>0.486522</td>\n",
       "    </tr>\n",
       "    <tr>\n",
       "      <th>14</th>\n",
       "      <td>-0.691111</td>\n",
       "      <td>-0.897721</td>\n",
       "    </tr>\n",
       "    <tr>\n",
       "      <th>15</th>\n",
       "      <td>0.385709</td>\n",
       "      <td>0.356185</td>\n",
       "    </tr>\n",
       "    <tr>\n",
       "      <th>16</th>\n",
       "      <td>2.289768</td>\n",
       "      <td>0.104345</td>\n",
       "    </tr>\n",
       "    <tr>\n",
       "      <th>17</th>\n",
       "      <td>-2.708574</td>\n",
       "      <td>-0.143699</td>\n",
       "    </tr>\n",
       "  </tbody>\n",
       "</table>\n",
       "</div>"
      ],
      "text/plain": [
       "         PC1       PC2\n",
       "0  -2.138924  1.785681\n",
       "1   1.561459 -1.527040\n",
       "2  -1.119385 -0.674505\n",
       "3  -2.573742  0.112884\n",
       "4   0.427855  0.695567\n",
       "5  -0.304238 -0.196149\n",
       "6   0.683928 -0.933057\n",
       "7  -1.948493 -0.980448\n",
       "8   4.409735  1.063633\n",
       "9  -3.985782  0.236240\n",
       "10  0.437658  1.912448\n",
       "11  1.018175 -0.841712\n",
       "12  2.941080 -0.559175\n",
       "13  1.314880  0.486522\n",
       "14 -0.691111 -0.897721\n",
       "15  0.385709  0.356185\n",
       "16  2.289768  0.104345\n",
       "17 -2.708574 -0.143699"
      ]
     },
     "execution_count": 23,
     "metadata": {},
     "output_type": "execute_result"
    }
   ],
   "source": [
    "from sklearn.decomposition import PCA\n",
    "pca2 = PCA(n_components=2)\n",
    "principalComponents = pca2.fit_transform(data_standarized[x_labels])\n",
    "principalComponentsDf = pd.DataFrame(data = principalComponents, columns=['PC1', 'PC2'])\n",
    "principalComponentsDf\n",
    "\n",
    "#The same first two columns of principalComponents avec n_components default.   default = same number of descriptors original"
   ]
  },
  {
   "cell_type": "code",
   "execution_count": 24,
   "metadata": {},
   "outputs": [
    {
     "data": {
      "text/plain": [
       "<function matplotlib.pyplot.show(*args, **kw)>"
      ]
     },
     "execution_count": 24,
     "metadata": {},
     "output_type": "execute_result"
    },
    {
     "data": {
      "image/png": "[encoded data removed]",
      "text/plain": [
       "<Figure size 864x576 with 1 Axes>"
      ]
     },
     "metadata": {
      "needs_background": "light"
     },
     "output_type": "display_data"
    }
   ],
   "source": [
    "fig, axes = plt.subplots(figsize=(12,8))\n",
    "#Axes\n",
    "xmin = principalComponentsDf['PC1'].max()\n",
    "ymin = principalComponentsDf['PC2'].max()\n",
    "\n",
    "axes.set_xlim(-xmin-1, xmin+1)\n",
    "axes.set_ylim(-ymin-1, ymin+1)\n",
    "\n",
    "axes.axhline(0,color='red') # x = 0\n",
    "axes.axvline(0,color='red') # y = 0\n",
    "\n",
    "#Labels\n",
    "plt.title('PC1 vs PC2', color = 'black', fontsize = 16)\n",
    "plt.xlabel('PC1',color = 'black')\n",
    "plt.ylabel('PC2', color = 'blue')\n",
    "plt.xticks(color = 'red')\n",
    "plt.yticks(color = 'black')\n",
    "\n",
    "#Data graphique\n",
    "plt.scatter(principalComponentsDf['PC1'], principalComponentsDf['PC2'])\n",
    "principalComponentsDf['Modele'] = dataOriginal['Modele']  #For labels points\n",
    "\n",
    "#Including tags for any plot in order to identify in the new artifitiel dimension PC1, PC2\n",
    "for i, row in principalComponentsDf.iterrows():\n",
    "    plt.annotate(principalComponentsDf['Modele'].iloc[i], (principalComponentsDf['PC1'].iloc[i], principalComponentsDf['PC2'].iloc[i]))\n",
    "plt.show\n"
   ]
  },
  {
   "cell_type": "code",
   "execution_count": 25,
   "metadata": {},
   "outputs": [
    {
     "data": {
      "text/plain": [
       "'Simca 1300'"
      ]
     },
     "execution_count": 25,
     "metadata": {},
     "output_type": "execute_result"
    }
   ],
   "source": [
    "i=2\n",
    "dataOriginal['Modele'].iloc[i]"
   ]
  },
  {
   "cell_type": "markdown",
   "metadata": {},
   "source": [
    "# 7.  Interpretation"
   ]
  },
  {
   "cell_type": "code",
   "execution_count": 26,
   "metadata": {},
   "outputs": [
    {
     "data": {
      "text/plain": [
       "5.999999999999998"
      ]
     },
     "execution_count": 26,
     "metadata": {},
     "output_type": "execute_result"
    }
   ],
   "source": [
    "eig_vals.sum() #Equal a numero de Lambdas"
   ]
  },
  {
   "cell_type": "markdown",
   "metadata": {},
   "source": [
    "# 7.1  Obtention des Axes factorials"
   ]
  },
  {
   "cell_type": "code",
   "execution_count": 27,
   "metadata": {},
   "outputs": [
    {
     "name": "stdout",
     "output_type": "stream",
     "text": [
      "[[ 0.4249  0.4218  0.4215  0.3869  0.4305  0.3589]\n",
      " [ 0.1242  0.4158 -0.4118 -0.4461 -0.2427  0.6199]\n",
      " [-0.3536 -0.1849  0.0676  0.6049 -0.4844  0.4855]\n",
      " [ 0.8078 -0.3578 -0.2798  0.2116 -0.3017 -0.0736]\n",
      " [ 0.1516 -0.2937  0.7306 -0.4782 -0.3046  0.1887]\n",
      " [-0.0589 -0.633  -0.1903 -0.1096  0.5808  0.4585]]\n"
     ]
    }
   ],
   "source": [
    "print(pca.components_.round(4))  #se rappeller que avec python sont les lignes"
   ]
  },
  {
   "cell_type": "code",
   "execution_count": 28,
   "metadata": {},
   "outputs": [],
   "source": [
    "# L'ordre de lignes de components cest relie a la qualite de la variable"
   ]
  },
  {
   "cell_type": "markdown",
   "metadata": {},
   "source": [
    "<font color=\"red\">Observer que la matriz de composants cest la meme eigenVecteurs obtenus de la correlation mais transpose - Python case</font>"
   ]
  },
  {
   "cell_type": "code",
   "execution_count": 29,
   "metadata": {},
   "outputs": [
    {
     "data": {
      "text/plain": [
       "array([[-0.4249, -0.4218, -0.4215, -0.3869, -0.4305, -0.3589],\n",
       "       [-0.1242, -0.4158,  0.4118,  0.4461,  0.2427, -0.6199],\n",
       "       [-0.3536, -0.1849,  0.0676,  0.6049, -0.4844,  0.4855],\n",
       "       [ 0.8078, -0.3578, -0.2798,  0.2116, -0.3017, -0.0736],\n",
       "       [ 0.1516, -0.2937,  0.7306, -0.4782, -0.3046,  0.1887],\n",
       "       [-0.0589, -0.633 , -0.1903, -0.1096,  0.5808,  0.4585]])"
      ]
     },
     "execution_count": 29,
     "metadata": {},
     "output_type": "execute_result"
    }
   ],
   "source": [
    "eig_vecs.T.round(4)"
   ]
  },
  {
   "cell_type": "markdown",
   "metadata": {},
   "source": [
    "# Les deux premieres axe factoriels"
   ]
  },
  {
   "cell_type": "code",
   "execution_count": 30,
   "metadata": {},
   "outputs": [],
   "source": [
    "# u1 = [ 0.42493602  0.42179441  0.42145993  0.38692224  0.43051198  0.35894427]"
   ]
  },
  {
   "cell_type": "code",
   "execution_count": 31,
   "metadata": {},
   "outputs": [],
   "source": [
    "# u2 = [ 0.12419108  0.41577389 -0.41181773 -0.446087   -0.24267581  0.6198626 ]"
   ]
  },
  {
   "cell_type": "code",
   "execution_count": 32,
   "metadata": {},
   "outputs": [
    {
     "name": "stdout",
     "output_type": "stream",
     "text": [
      "[[ 0.425  0.422  0.421  0.387  0.431  0.359]\n",
      " [ 0.124  0.416 -0.412 -0.446 -0.243  0.62 ]]\n"
     ]
    }
   ],
   "source": [
    "print(pca2.components_.round(3))"
   ]
  },
  {
   "cell_type": "markdown",
   "metadata": {},
   "source": [
    "# 8. Qualite Globale de la representation"
   ]
  },
  {
   "cell_type": "code",
   "execution_count": 33,
   "metadata": {},
   "outputs": [],
   "source": [
    "# Pour calculer la qualité de représentation des individus sur les axes, nous devons d’abord calculer les carrés des distances\n",
    "# à l’origine des individus, qui correspondent également à leur contribution dans l’inertie totale\n"
   ]
  },
  {
   "cell_type": "code",
   "execution_count": 34,
   "metadata": {},
   "outputs": [
    {
     "name": "stdout",
     "output_type": "stream",
     "text": [
      "                 ID        d_i\n",
      "0        Alfasud TI   8.225176\n",
      "1          Audi 100   6.673755\n",
      "2        Simca 1300   2.159327\n",
      "3   Citroen GS Club   6.780145\n",
      "4          Fiat 132   1.169124\n",
      "5       Lancia Beta   1.134950\n",
      "6       Peugeot 504   1.512793\n",
      "7     Renault 16 TL   5.636826\n",
      "8        Renault 30  21.789657\n",
      "9    Toyota Corolla  16.290143\n",
      "10     Alfetta 1.66   4.456770\n",
      "11    Princess 1800   1.952513\n",
      "12      Datsun 200L  11.112624\n",
      "13      Taunus 2000   2.452986\n",
      "14           Rancho   1.963373\n",
      "15       Mazda 9295   0.684521\n",
      "16      Opel Rekord   6.083119\n",
      "17        Lada 1300   7.922198\n"
     ]
    }
   ],
   "source": [
    "di = np.sum(data_standarized[x_labels]**2,axis=1) \n",
    "print(pd.DataFrame({'ID':data_standarized['Modele'],'d_i':di}))"
   ]
  },
  {
   "cell_type": "markdown",
   "metadata": {},
   "source": [
    "<font color=\"blue\">Concrètement, la Renault 30 et la Toyota Corolla sont les deux véhicules qui se démarquent le plus des autres, \n",
    "et on les retrouve aux deux extrémités du premier axe factoriel qui porte 73.68% de l’information disponible.</font>"
   ]
  },
  {
   "cell_type": "code",
   "execution_count": 35,
   "metadata": {},
   "outputs": [
    {
     "data": {
      "text/plain": [
       "array([4.42085806, 0.85606229])"
      ]
     },
     "execution_count": 35,
     "metadata": {},
     "output_type": "execute_result"
    }
   ],
   "source": [
    "eig_vals[0:2]"
   ]
  },
  {
   "cell_type": "code",
   "execution_count": 36,
   "metadata": {},
   "outputs": [
    {
     "data": {
      "text/plain": [
       "87.83333333333336"
      ]
     },
     "execution_count": 36,
     "metadata": {},
     "output_type": "execute_result"
    }
   ],
   "source": [
    "# Avec k=2, les deux composant representatives\n",
    "\n",
    "Ik =((4.42 + 0.85) / np.sum(eig_vals) ) *100\n",
    "Ik"
   ]
  },
  {
   "cell_type": "markdown",
   "metadata": {},
   "source": [
    "<font color=\"blue\">La qualite globale est preserve a 88%</font>"
   ]
  },
  {
   "cell_type": "code",
   "execution_count": 37,
   "metadata": {},
   "outputs": [
    {
     "data": {
      "text/plain": [
       "array([4.42085806, 0.85606229])"
      ]
     },
     "execution_count": 37,
     "metadata": {},
     "output_type": "execute_result"
    }
   ],
   "source": [
    "eig_vals[0:2]"
   ]
  },
  {
   "cell_type": "code",
   "execution_count": 38,
   "metadata": {},
   "outputs": [
    {
     "data": {
      "text/plain": [
       "5.276920348854847"
      ]
     },
     "execution_count": 38,
     "metadata": {},
     "output_type": "execute_result"
    }
   ],
   "source": [
    "eig_vals[0:2].sum()"
   ]
  },
  {
   "cell_type": "markdown",
   "metadata": {},
   "source": [
    "# 8.1. Qualité de représentation des individus COS2 "
   ]
  },
  {
   "cell_type": "code",
   "execution_count": 39,
   "metadata": {},
   "outputs": [
    {
     "data": {
      "text/plain": [
       "array([[4.57499421e+00, 3.18865671e+00],\n",
       "       [2.43815292e+00, 2.33185199e+00],\n",
       "       [1.25302341e+00, 4.54957227e-01],\n",
       "       [6.62414636e+00, 1.27428339e-02],\n",
       "       [1.83060073e-01, 4.83813889e-01],\n",
       "       [9.25605445e-02, 3.84743454e-02],\n",
       "       [4.67758188e-01, 8.70594928e-01],\n",
       "       [3.79662328e+00, 9.61278371e-01],\n",
       "       [1.94457590e+01, 1.13131552e+00],\n",
       "       [1.58864615e+01, 5.58095348e-02],\n",
       "       [1.91544687e-01, 3.65745797e+00],\n",
       "       [1.03668111e+00, 7.08479255e-01],\n",
       "       [8.64995341e+00, 3.12676225e-01],\n",
       "       [1.72891042e+00, 2.36704102e-01],\n",
       "       [4.77634927e-01, 8.05903701e-01],\n",
       "       [1.48771330e-01, 1.26867450e-01],\n",
       "       [5.24303861e+00, 1.08878049e-02],\n",
       "       [7.33637112e+00, 2.06493440e-02]])"
      ]
     },
     "execution_count": 39,
     "metadata": {},
     "output_type": "execute_result"
    }
   ],
   "source": [
    "cos2 = principalComponents**2 \n",
    "cos2"
   ]
  },
  {
   "cell_type": "code",
   "execution_count": 2,
   "metadata": {},
   "outputs": [
    {
     "ename": "NameError",
     "evalue": "name 'principalComponents' is not defined",
     "output_type": "error",
     "traceback": [
      "\u001b[1;31m---------------------------------------------------------------------------\u001b[0m",
      "\u001b[1;31mNameError\u001b[0m                                 Traceback (most recent call last)",
      "\u001b[1;32m<ipython-input-2-4f03b73626f4>\u001b[0m in \u001b[0;36m<module>\u001b[1;34m\u001b[0m\n\u001b[0;32m      1\u001b[0m \u001b[1;31m# Nous pouvons alors déduire la qualité de représentation des individus sur l’axe n° k avec :\u001b[0m\u001b[1;33m\u001b[0m\u001b[1;33m\u001b[0m\u001b[1;33m\u001b[0m\u001b[0m\n\u001b[0;32m      2\u001b[0m \u001b[1;33m\u001b[0m\u001b[0m\n\u001b[1;32m----> 3\u001b[1;33m \u001b[0mcos2\u001b[0m \u001b[1;33m=\u001b[0m \u001b[0mprincipalComponents\u001b[0m\u001b[1;33m**\u001b[0m\u001b[1;36m2\u001b[0m\u001b[1;33m\u001b[0m\u001b[1;33m\u001b[0m\u001b[0m\n\u001b[0m\u001b[0;32m      4\u001b[0m \u001b[0mp\u001b[0m\u001b[1;33m=\u001b[0m\u001b[1;36m2\u001b[0m \u001b[1;31m#Numero de composants\u001b[0m\u001b[1;33m\u001b[0m\u001b[1;33m\u001b[0m\u001b[0m\n\u001b[0;32m      5\u001b[0m \u001b[1;32mfor\u001b[0m \u001b[0mj\u001b[0m \u001b[1;32min\u001b[0m \u001b[0mrange\u001b[0m\u001b[1;33m(\u001b[0m\u001b[0mp\u001b[0m\u001b[1;33m)\u001b[0m\u001b[1;33m:\u001b[0m\u001b[1;33m\u001b[0m\u001b[1;33m\u001b[0m\u001b[0m\n",
      "\u001b[1;31mNameError\u001b[0m: name 'principalComponents' is not defined"
     ]
    }
   ],
   "source": [
    "# Nous pouvons alors déduire la qualité de représentation des individus sur l’axe n° k avec :\n",
    "\n",
    "cos2 = principalComponents**2 \n",
    "p=2 #Numero de composants\n",
    "for j in range(p): \n",
    "    cos2[:,j] = cos2[:,j]/di\n",
    "\n",
    "cos2 = pd.DataFrame({'id':data_standarized['Modele'],'COS2_1':cos2[:,0],'COS2_2':cos2[:,1]})\n",
    "cos2"
   ]
  },
  {
   "cell_type": "markdown",
   "metadata": {},
   "source": [
    "# Notes"
   ]
  },
  {
   "cell_type": "code",
   "execution_count": 41,
   "metadata": {},
   "outputs": [
    {
     "name": "stdout",
     "output_type": "stream",
     "text": [
      "La variance explique \n",
      " [0.7368096766014814, 0.14267704820765997, 0.06217767957332887, 0.03565368150388491, 0.015466868667654695, 0.007215045445990037]\n"
     ]
    }
   ],
   "source": [
    "explained_variances = []\n",
    "for i in range(len(eig_vals)):\n",
    "    explained_variances.append(eig_vals[i]/np.sum(eig_vals))\n",
    "    \n",
    "print('La variance explique', '\\n', explained_variances)"
   ]
  },
  {
   "cell_type": "code",
   "execution_count": 42,
   "metadata": {},
   "outputs": [
    {
     "name": "stdout",
     "output_type": "stream",
     "text": [
      "Les vecteurs propes sont:  \n",
      " [[-0.425 -0.124 -0.354  0.808  0.152 -0.059]\n",
      " [-0.422 -0.416 -0.185 -0.358 -0.294 -0.633]\n",
      " [-0.421  0.412  0.068 -0.28   0.731 -0.19 ]\n",
      " [-0.387  0.446  0.605  0.212 -0.478 -0.11 ]\n",
      " [-0.431  0.243 -0.484 -0.302 -0.305  0.581]\n",
      " [-0.359 -0.62   0.485 -0.074  0.189  0.459]]\n"
     ]
    }
   ],
   "source": [
    "print('Les vecteurs propes sont: ', '\\n', eig_vecs.round(3))  \n",
    "#Cest la meme information de composants si les donnes sont reduis et centralises.  (Difference files et columns)"
   ]
  },
  {
   "cell_type": "code",
   "execution_count": 43,
   "metadata": {},
   "outputs": [],
   "source": [
    "# Chaque column cest le vecteur prope, cest le meme axe factorial"
   ]
  },
  {
   "cell_type": "markdown",
   "metadata": {},
   "source": [
    "# 8.2. Contribution de individu 1 sur l'axe factoriel"
   ]
  },
  {
   "cell_type": "code",
   "execution_count": 44,
   "metadata": {},
   "outputs": [
    {
     "data": {
      "text/plain": [
       "array([4.421, 0.856, 0.373, 0.214, 0.093, 0.043])"
      ]
     },
     "execution_count": 44,
     "metadata": {},
     "output_type": "execute_result"
    }
   ],
   "source": [
    "eig_vals.round(3)"
   ]
  },
  {
   "cell_type": "code",
   "execution_count": 45,
   "metadata": {},
   "outputs": [
    {
     "data": {
      "text/plain": [
       "array([[-2.139,  1.786],\n",
       "       [ 1.561, -1.527],\n",
       "       [-1.119, -0.675],\n",
       "       [-2.574,  0.113],\n",
       "       [ 0.428,  0.696],\n",
       "       [-0.304, -0.196],\n",
       "       [ 0.684, -0.933],\n",
       "       [-1.948, -0.98 ],\n",
       "       [ 4.41 ,  1.064],\n",
       "       [-3.986,  0.236],\n",
       "       [ 0.438,  1.912],\n",
       "       [ 1.018, -0.842],\n",
       "       [ 2.941, -0.559],\n",
       "       [ 1.315,  0.487],\n",
       "       [-0.691, -0.898],\n",
       "       [ 0.386,  0.356],\n",
       "       [ 2.29 ,  0.104],\n",
       "       [-2.709, -0.144]])"
      ]
     },
     "execution_count": 45,
     "metadata": {},
     "output_type": "execute_result"
    }
   ],
   "source": [
    "principalComponents.round(3)"
   ]
  },
  {
   "cell_type": "code",
   "execution_count": 46,
   "metadata": {},
   "outputs": [
    {
     "data": {
      "text/plain": [
       "-0.05749479755711376"
      ]
     },
     "execution_count": 46,
     "metadata": {},
     "output_type": "execute_result"
    }
   ],
   "source": [
    "# Contribution individu 1 sur l'axe 1 - Numerique\n",
    "n = 18 #Numero de donnes\n",
    "ctr1_1 = (-2.139**2)/(18*4.421)\n",
    "ctr1_1"
   ]
  },
  {
   "cell_type": "code",
   "execution_count": 47,
   "metadata": {},
   "outputs": [
    {
     "data": {
      "text/plain": [
       "0.057492536822335724"
      ]
     },
     "execution_count": 47,
     "metadata": {},
     "output_type": "execute_result"
    }
   ],
   "source": [
    "# Generique\n",
    "ctr1_1 = (principalComponentsDf['PC1'][0]**2)/(principalComponentsDf.shape[0]*eig_vals[0])\n",
    "ctr1_1"
   ]
  },
  {
   "cell_type": "markdown",
   "metadata": {},
   "source": [
    "# 8.3. Evaluez la qualite de representation de chaque individu sur les deux premieres axes"
   ]
  },
  {
   "cell_type": "code",
   "execution_count": 48,
   "metadata": {},
   "outputs": [
    {
     "data": {
      "text/html": [
       "<div>\n",
       "<style scoped>\n",
       "    .dataframe tbody tr th:only-of-type {\n",
       "        vertical-align: middle;\n",
       "    }\n",
       "\n",
       "    .dataframe tbody tr th {\n",
       "        vertical-align: top;\n",
       "    }\n",
       "\n",
       "    .dataframe thead th {\n",
       "        text-align: right;\n",
       "    }\n",
       "</style>\n",
       "<table border=\"1\" class=\"dataframe\">\n",
       "  <thead>\n",
       "    <tr style=\"text-align: right;\">\n",
       "      <th></th>\n",
       "      <th>Cont_PC1</th>\n",
       "      <th>Cont_PC2</th>\n",
       "      <th>Modele</th>\n",
       "    </tr>\n",
       "  </thead>\n",
       "  <tbody>\n",
       "    <tr>\n",
       "      <th>0</th>\n",
       "      <td>0.057493</td>\n",
       "      <td>0.206933</td>\n",
       "      <td>Alfasud TI</td>\n",
       "    </tr>\n",
       "    <tr>\n",
       "      <th>1</th>\n",
       "      <td>0.030640</td>\n",
       "      <td>0.151329</td>\n",
       "      <td>Audi 100</td>\n",
       "    </tr>\n",
       "    <tr>\n",
       "      <th>2</th>\n",
       "      <td>0.015746</td>\n",
       "      <td>0.029525</td>\n",
       "      <td>Simca 1300</td>\n",
       "    </tr>\n",
       "    <tr>\n",
       "      <th>3</th>\n",
       "      <td>0.083244</td>\n",
       "      <td>0.000827</td>\n",
       "      <td>Citroen GS Club</td>\n",
       "    </tr>\n",
       "    <tr>\n",
       "      <th>4</th>\n",
       "      <td>0.002300</td>\n",
       "      <td>0.031398</td>\n",
       "      <td>Fiat 132</td>\n",
       "    </tr>\n",
       "    <tr>\n",
       "      <th>5</th>\n",
       "      <td>0.001163</td>\n",
       "      <td>0.002497</td>\n",
       "      <td>Lancia Beta</td>\n",
       "    </tr>\n",
       "    <tr>\n",
       "      <th>6</th>\n",
       "      <td>0.005878</td>\n",
       "      <td>0.056499</td>\n",
       "      <td>Peugeot 504</td>\n",
       "    </tr>\n",
       "    <tr>\n",
       "      <th>7</th>\n",
       "      <td>0.047711</td>\n",
       "      <td>0.062384</td>\n",
       "      <td>Renault 16 TL</td>\n",
       "    </tr>\n",
       "    <tr>\n",
       "      <th>8</th>\n",
       "      <td>0.244369</td>\n",
       "      <td>0.073419</td>\n",
       "      <td>Renault 30</td>\n",
       "    </tr>\n",
       "    <tr>\n",
       "      <th>9</th>\n",
       "      <td>0.199640</td>\n",
       "      <td>0.003622</td>\n",
       "      <td>Toyota Corolla</td>\n",
       "    </tr>\n",
       "    <tr>\n",
       "      <th>10</th>\n",
       "      <td>0.002407</td>\n",
       "      <td>0.237357</td>\n",
       "      <td>Alfetta 1.66</td>\n",
       "    </tr>\n",
       "    <tr>\n",
       "      <th>11</th>\n",
       "      <td>0.013028</td>\n",
       "      <td>0.045978</td>\n",
       "      <td>Princess 1800</td>\n",
       "    </tr>\n",
       "    <tr>\n",
       "      <th>12</th>\n",
       "      <td>0.108701</td>\n",
       "      <td>0.020292</td>\n",
       "      <td>Datsun 200L</td>\n",
       "    </tr>\n",
       "    <tr>\n",
       "      <th>13</th>\n",
       "      <td>0.021727</td>\n",
       "      <td>0.015361</td>\n",
       "      <td>Taunus 2000</td>\n",
       "    </tr>\n",
       "    <tr>\n",
       "      <th>14</th>\n",
       "      <td>0.006002</td>\n",
       "      <td>0.052300</td>\n",
       "      <td>Rancho</td>\n",
       "    </tr>\n",
       "    <tr>\n",
       "      <th>15</th>\n",
       "      <td>0.001870</td>\n",
       "      <td>0.008233</td>\n",
       "      <td>Mazda 9295</td>\n",
       "    </tr>\n",
       "    <tr>\n",
       "      <th>16</th>\n",
       "      <td>0.065888</td>\n",
       "      <td>0.000707</td>\n",
       "      <td>Opel Rekord</td>\n",
       "    </tr>\n",
       "    <tr>\n",
       "      <th>17</th>\n",
       "      <td>0.092194</td>\n",
       "      <td>0.001340</td>\n",
       "      <td>Lada 1300</td>\n",
       "    </tr>\n",
       "  </tbody>\n",
       "</table>\n",
       "</div>"
      ],
      "text/plain": [
       "    Cont_PC1  Cont_PC2           Modele\n",
       "0   0.057493  0.206933       Alfasud TI\n",
       "1   0.030640  0.151329         Audi 100\n",
       "2   0.015746  0.029525       Simca 1300\n",
       "3   0.083244  0.000827  Citroen GS Club\n",
       "4   0.002300  0.031398         Fiat 132\n",
       "5   0.001163  0.002497      Lancia Beta\n",
       "6   0.005878  0.056499      Peugeot 504\n",
       "7   0.047711  0.062384    Renault 16 TL\n",
       "8   0.244369  0.073419       Renault 30\n",
       "9   0.199640  0.003622   Toyota Corolla\n",
       "10  0.002407  0.237357     Alfetta 1.66\n",
       "11  0.013028  0.045978    Princess 1800\n",
       "12  0.108701  0.020292      Datsun 200L\n",
       "13  0.021727  0.015361      Taunus 2000\n",
       "14  0.006002  0.052300           Rancho\n",
       "15  0.001870  0.008233       Mazda 9295\n",
       "16  0.065888  0.000707      Opel Rekord\n",
       "17  0.092194  0.001340        Lada 1300"
      ]
     },
     "execution_count": 48,
     "metadata": {},
     "output_type": "execute_result"
    }
   ],
   "source": [
    "# Iterative\n",
    "\n",
    "contributionsIndividusDf = pd.DataFrame(data = [], columns=['Cont_PC1', 'Cont_PC2'])\n",
    "contributionsIndividusDf['Cont_PC1'] =  (principalComponentsDf['PC1']**2)/(principalComponentsDf.shape[0]*eig_vals[0])\n",
    "contributionsIndividusDf['Cont_PC2'] =  (principalComponentsDf['PC2']**2)/(principalComponentsDf.shape[0]*eig_vals[1])\n",
    "contributionsIndividusDf['Modele'] = dataOriginal['Modele']\n",
    "contributionsIndividusDf"
   ]
  },
  {
   "cell_type": "code",
   "execution_count": 49,
   "metadata": {},
   "outputs": [],
   "source": [
    "# On observe les individus que plus on contribue pour cchque composant"
   ]
  },
  {
   "cell_type": "markdown",
   "metadata": {},
   "source": [
    "<font color=\"blue\">Renault 30 et la Toyota Corolla qui sont déterminants pour le premier axe. \n",
    "pour le second Alfetta-1.66, l’Alfasud TI et l’Audi 100.</font>"
   ]
  },
  {
   "cell_type": "markdown",
   "metadata": {},
   "source": [
    "# 9. Circle de correlation de variables"
   ]
  },
  {
   "cell_type": "code",
   "execution_count": 50,
   "metadata": {},
   "outputs": [
    {
     "data": {
      "text/plain": [
       "array([[ 0.4249,  0.4218,  0.4215,  0.3869,  0.4305,  0.3589],\n",
       "       [ 0.1242,  0.4158, -0.4118, -0.4461, -0.2427,  0.6199],\n",
       "       [-0.3536, -0.1849,  0.0676,  0.6049, -0.4844,  0.4855],\n",
       "       [ 0.8078, -0.3578, -0.2798,  0.2116, -0.3017, -0.0736],\n",
       "       [ 0.1516, -0.2937,  0.7306, -0.4782, -0.3046,  0.1887],\n",
       "       [-0.0589, -0.633 , -0.1903, -0.1096,  0.5808,  0.4585]])"
      ]
     },
     "execution_count": 50,
     "metadata": {},
     "output_type": "execute_result"
    }
   ],
   "source": [
    "pca.components_.round(4)"
   ]
  },
  {
   "cell_type": "code",
   "execution_count": 51,
   "metadata": {},
   "outputs": [
    {
     "name": "stdout",
     "output_type": "stream",
     "text": [
      "[[ 0.89346354  0.1149061  -0.21598347  0.37361508  0.04617627 -0.01225391]\n",
      " [ 0.88685803  0.38468911 -0.11294784 -0.16548492 -0.08948124 -0.13171084]\n",
      " [ 0.88615477 -0.38102873  0.04131023 -0.12939024  0.22255537 -0.03959265]\n",
      " [ 0.81353638 -0.4127359   0.36944822  0.09785447 -0.14567244 -0.0227967 ]\n",
      " [ 0.90518746 -0.22453248 -0.29586489 -0.13954667 -0.09277852  0.12084561]\n",
      " [ 0.75471037  0.57351941  0.29652226 -0.03402937  0.05747056  0.09540146]]\n"
     ]
    }
   ],
   "source": [
    "#racine carrée des valeurs propres \n",
    "sqrt_eigval = np.sqrt(eig_vals)\n",
    "\n",
    "#corrélation des variables avec les axes \n",
    "p=6\n",
    "corvar = np.zeros((p,p)) \n",
    "for k in range(p): \n",
    "    corvar[:,k] = pca.components_[k,:] * sqrt_eigval[k] #afficher la matrice des corrélations variables x facteurs \n",
    "\n",
    "print(corvar) #Les variables sont maintenant en ligne, les facteurs en colonne"
   ]
  },
  {
   "cell_type": "code",
   "execution_count": 52,
   "metadata": {},
   "outputs": [],
   "source": [
    "# Pour les deux premieres axes"
   ]
  },
  {
   "cell_type": "code",
   "execution_count": 53,
   "metadata": {},
   "outputs": [
    {
     "data": {
      "text/html": [
       "<div>\n",
       "<style scoped>\n",
       "    .dataframe tbody tr th:only-of-type {\n",
       "        vertical-align: middle;\n",
       "    }\n",
       "\n",
       "    .dataframe tbody tr th {\n",
       "        vertical-align: top;\n",
       "    }\n",
       "\n",
       "    .dataframe thead th {\n",
       "        text-align: right;\n",
       "    }\n",
       "</style>\n",
       "<table border=\"1\" class=\"dataframe\">\n",
       "  <thead>\n",
       "    <tr style=\"text-align: right;\">\n",
       "      <th></th>\n",
       "      <th>id</th>\n",
       "      <th>COR_1</th>\n",
       "      <th>COR_2</th>\n",
       "    </tr>\n",
       "  </thead>\n",
       "  <tbody>\n",
       "    <tr>\n",
       "      <th>0</th>\n",
       "      <td>CYL</td>\n",
       "      <td>0.893464</td>\n",
       "      <td>0.114906</td>\n",
       "    </tr>\n",
       "    <tr>\n",
       "      <th>1</th>\n",
       "      <td>PUISS</td>\n",
       "      <td>0.886858</td>\n",
       "      <td>0.384689</td>\n",
       "    </tr>\n",
       "    <tr>\n",
       "      <th>2</th>\n",
       "      <td>LONG</td>\n",
       "      <td>0.886155</td>\n",
       "      <td>-0.381029</td>\n",
       "    </tr>\n",
       "    <tr>\n",
       "      <th>3</th>\n",
       "      <td>LARG</td>\n",
       "      <td>0.813536</td>\n",
       "      <td>-0.412736</td>\n",
       "    </tr>\n",
       "    <tr>\n",
       "      <th>4</th>\n",
       "      <td>POIDS</td>\n",
       "      <td>0.905187</td>\n",
       "      <td>-0.224532</td>\n",
       "    </tr>\n",
       "    <tr>\n",
       "      <th>5</th>\n",
       "      <td>V.MAX</td>\n",
       "      <td>0.754710</td>\n",
       "      <td>0.573519</td>\n",
       "    </tr>\n",
       "  </tbody>\n",
       "</table>\n",
       "</div>"
      ],
      "text/plain": [
       "      id     COR_1     COR_2\n",
       "0    CYL  0.893464  0.114906\n",
       "1  PUISS  0.886858  0.384689\n",
       "2   LONG  0.886155 -0.381029\n",
       "3   LARG  0.813536 -0.412736\n",
       "4  POIDS  0.905187 -0.224532\n",
       "5  V.MAX  0.754710  0.573519"
      ]
     },
     "execution_count": 53,
     "metadata": {},
     "output_type": "execute_result"
    }
   ],
   "source": [
    "corvarpd = pd.DataFrame({'id':x_labels,'COR_1':corvar[:,0],'COR_2':corvar[:,1]})\n",
    "corvarpd"
   ]
  },
  {
   "cell_type": "code",
   "execution_count": 63,
   "metadata": {},
   "outputs": [
    {
     "data": {
      "text/plain": [
       "<matplotlib.patches.Circle at 0x2a30b818808>"
      ]
     },
     "execution_count": 63,
     "metadata": {},
     "output_type": "execute_result"
    },
    {
     "data": {
      "image/png": "[encoded data removed]",
      "text/plain": [
       "<Figure size 576x576 with 1 Axes>"
      ]
     },
     "metadata": {
      "needs_background": "light"
     },
     "output_type": "display_data"
    }
   ],
   "source": [
    "#cercle des corrélations\n",
    "fig, axes = plt.subplots(figsize=(8,8))\n",
    "axes.set_xlim(-1,1) \n",
    "axes.set_ylim(-1,1) #affichage des étiquettes (noms des variables) \n",
    "\n",
    "for j in range(6): \n",
    "    plt.annotate(data_standarized.columns[j],(corvar[j,0],corvar[j,1])) \n",
    "\n",
    "#ajouter les axes \n",
    "plt.plot([-1,1],[0,0],color='silver',linestyle='-',linewidth=1) \n",
    "plt.plot([0,0],[-1,1],color='silver',linestyle='-',linewidth=1)\n",
    "\n",
    "\n",
    "#ajouter un cercle \n",
    "cercle = plt.Circle((0,0),1,color='blue',fill=False) \n",
    "axes.add_artist(cercle) #affichage plt.show()\n",
    "\n"
   ]
  },
  {
   "cell_type": "markdown",
   "metadata": {},
   "source": [
    "<font color=\"blue\">On perçoit clairement l’effet taille sur le premier axe : les voitures puissantes et rapides sont aussi les plus lourdes et imposantes, \n",
    "    la relation globale entre les variables est en réalité déterminée par la cylindrée (CYL).</font>\n",
    "    \n",
    "    Le poid es fortement correle et inversement correle a la puissance."
   ]
  },
  {
   "cell_type": "markdown",
   "metadata": {},
   "source": [
    "# 10.  Qualite de representation de variables"
   ]
  },
  {
   "cell_type": "code",
   "execution_count": 55,
   "metadata": {},
   "outputs": [
    {
     "data": {
      "text/html": [
       "<div>\n",
       "<style scoped>\n",
       "    .dataframe tbody tr th:only-of-type {\n",
       "        vertical-align: middle;\n",
       "    }\n",
       "\n",
       "    .dataframe tbody tr th {\n",
       "        vertical-align: top;\n",
       "    }\n",
       "\n",
       "    .dataframe thead th {\n",
       "        text-align: right;\n",
       "    }\n",
       "</style>\n",
       "<table border=\"1\" class=\"dataframe\">\n",
       "  <thead>\n",
       "    <tr style=\"text-align: right;\">\n",
       "      <th></th>\n",
       "      <th>id</th>\n",
       "      <th>COS2_1</th>\n",
       "      <th>COS2_2</th>\n",
       "    </tr>\n",
       "  </thead>\n",
       "  <tbody>\n",
       "    <tr>\n",
       "      <th>0</th>\n",
       "      <td>CYL</td>\n",
       "      <td>0.798277</td>\n",
       "      <td>0.013203</td>\n",
       "    </tr>\n",
       "    <tr>\n",
       "      <th>1</th>\n",
       "      <td>PUISS</td>\n",
       "      <td>0.786517</td>\n",
       "      <td>0.147986</td>\n",
       "    </tr>\n",
       "    <tr>\n",
       "      <th>2</th>\n",
       "      <td>LONG</td>\n",
       "      <td>0.785270</td>\n",
       "      <td>0.145183</td>\n",
       "    </tr>\n",
       "    <tr>\n",
       "      <th>3</th>\n",
       "      <td>LARG</td>\n",
       "      <td>0.661841</td>\n",
       "      <td>0.170351</td>\n",
       "    </tr>\n",
       "    <tr>\n",
       "      <th>4</th>\n",
       "      <td>POIDS</td>\n",
       "      <td>0.819364</td>\n",
       "      <td>0.050415</td>\n",
       "    </tr>\n",
       "    <tr>\n",
       "      <th>5</th>\n",
       "      <td>V.MAX</td>\n",
       "      <td>0.569588</td>\n",
       "      <td>0.328925</td>\n",
       "    </tr>\n",
       "  </tbody>\n",
       "</table>\n",
       "</div>"
      ],
      "text/plain": [
       "      id    COS2_1    COS2_2\n",
       "0    CYL  0.798277  0.013203\n",
       "1  PUISS  0.786517  0.147986\n",
       "2   LONG  0.785270  0.145183\n",
       "3   LARG  0.661841  0.170351\n",
       "4  POIDS  0.819364  0.050415\n",
       "5  V.MAX  0.569588  0.328925"
      ]
     },
     "execution_count": 55,
     "metadata": {},
     "output_type": "execute_result"
    }
   ],
   "source": [
    "cos2var = corvar**2 \n",
    "pdCos2Car = pd.DataFrame({'id':x_labels,'COS2_1':cos2var[:,0],'COS2_2':cos2var[:,1]})\n",
    "pdCos2Car"
   ]
  },
  {
   "cell_type": "markdown",
   "metadata": {},
   "source": [
    "# 11. Contribution des variables aux axes (CTR)"
   ]
  },
  {
   "cell_type": "code",
   "execution_count": 56,
   "metadata": {},
   "outputs": [
    {
     "data": {
      "text/html": [
       "<div>\n",
       "<style scoped>\n",
       "    .dataframe tbody tr th:only-of-type {\n",
       "        vertical-align: middle;\n",
       "    }\n",
       "\n",
       "    .dataframe tbody tr th {\n",
       "        vertical-align: top;\n",
       "    }\n",
       "\n",
       "    .dataframe thead th {\n",
       "        text-align: right;\n",
       "    }\n",
       "</style>\n",
       "<table border=\"1\" class=\"dataframe\">\n",
       "  <thead>\n",
       "    <tr style=\"text-align: right;\">\n",
       "      <th></th>\n",
       "      <th>id</th>\n",
       "      <th>CTR_1</th>\n",
       "      <th>CTR_2</th>\n",
       "    </tr>\n",
       "  </thead>\n",
       "  <tbody>\n",
       "    <tr>\n",
       "      <th>0</th>\n",
       "      <td>CYL</td>\n",
       "      <td>0.180571</td>\n",
       "      <td>0.015423</td>\n",
       "    </tr>\n",
       "    <tr>\n",
       "      <th>1</th>\n",
       "      <td>PUISS</td>\n",
       "      <td>0.177911</td>\n",
       "      <td>0.172868</td>\n",
       "    </tr>\n",
       "    <tr>\n",
       "      <th>2</th>\n",
       "      <td>LONG</td>\n",
       "      <td>0.177628</td>\n",
       "      <td>0.169594</td>\n",
       "    </tr>\n",
       "    <tr>\n",
       "      <th>3</th>\n",
       "      <td>LARG</td>\n",
       "      <td>0.149709</td>\n",
       "      <td>0.198994</td>\n",
       "    </tr>\n",
       "    <tr>\n",
       "      <th>4</th>\n",
       "      <td>POIDS</td>\n",
       "      <td>0.185341</td>\n",
       "      <td>0.058892</td>\n",
       "    </tr>\n",
       "    <tr>\n",
       "      <th>5</th>\n",
       "      <td>V.MAX</td>\n",
       "      <td>0.128841</td>\n",
       "      <td>0.384230</td>\n",
       "    </tr>\n",
       "  </tbody>\n",
       "</table>\n",
       "</div>"
      ],
      "text/plain": [
       "      id     CTR_1     CTR_2\n",
       "0    CYL  0.180571  0.015423\n",
       "1  PUISS  0.177911  0.172868\n",
       "2   LONG  0.177628  0.169594\n",
       "3   LARG  0.149709  0.198994\n",
       "4  POIDS  0.185341  0.058892\n",
       "5  V.MAX  0.128841  0.384230"
      ]
     },
     "execution_count": 56,
     "metadata": {},
     "output_type": "execute_result"
    }
   ],
   "source": [
    "#contributions \n",
    "p=6\n",
    "ctrvar = cos2var \n",
    "\n",
    "for k in range(p): \n",
    "    ctrvar[:,k] = ctrvar[:,k]/eig_vals[k] #on n'affiche que pour les deux premiers axes\n",
    "\n",
    "pdCtrVar = pd.DataFrame({'id':x_labels,'CTR_1':ctrvar[:,0],'CTR_2':ctrvar[:,1]})\n",
    "pdCtrVar"
   ]
  },
  {
   "cell_type": "markdown",
   "metadata": {},
   "source": [
    "# 12. Evaluez la qualite de representation de chaque individu suplementaire sur les deux premieres axes"
   ]
  },
  {
   "cell_type": "code",
   "execution_count": 57,
   "metadata": {},
   "outputs": [
    {
     "data": {
      "text/html": [
       "<div>\n",
       "<style scoped>\n",
       "    .dataframe tbody tr th:only-of-type {\n",
       "        vertical-align: middle;\n",
       "    }\n",
       "\n",
       "    .dataframe tbody tr th {\n",
       "        vertical-align: top;\n",
       "    }\n",
       "\n",
       "    .dataframe thead th {\n",
       "        text-align: right;\n",
       "    }\n",
       "</style>\n",
       "<table border=\"1\" class=\"dataframe\">\n",
       "  <thead>\n",
       "    <tr style=\"text-align: right;\">\n",
       "      <th></th>\n",
       "      <th>Modele</th>\n",
       "      <th>CYL</th>\n",
       "      <th>PUISS</th>\n",
       "      <th>LONG</th>\n",
       "      <th>LARG</th>\n",
       "      <th>POIDS</th>\n",
       "      <th>V.MAX</th>\n",
       "    </tr>\n",
       "  </thead>\n",
       "  <tbody>\n",
       "    <tr>\n",
       "      <th>0</th>\n",
       "      <td>Peugeot 604</td>\n",
       "      <td>2664</td>\n",
       "      <td>136</td>\n",
       "      <td>472</td>\n",
       "      <td>177</td>\n",
       "      <td>1410</td>\n",
       "      <td>180</td>\n",
       "    </tr>\n",
       "    <tr>\n",
       "      <th>1</th>\n",
       "      <td>Peugeot 304</td>\n",
       "      <td>1288</td>\n",
       "      <td>74</td>\n",
       "      <td>414</td>\n",
       "      <td>157</td>\n",
       "      <td>915</td>\n",
       "      <td>160</td>\n",
       "    </tr>\n",
       "  </tbody>\n",
       "</table>\n",
       "</div>"
      ],
      "text/plain": [
       "         Modele   CYL  PUISS  LONG  LARG  POIDS  V.MAX\n",
       "0  Peugeot 604   2664    136   472   177   1410    180\n",
       "1   Peugeot 304  1288     74   414   157    915    160"
      ]
     },
     "execution_count": 57,
     "metadata": {},
     "output_type": "execute_result"
    }
   ],
   "source": [
    "dataSuplem = pd.read_excel(\"autos-Saporta.xls\", 'suplem')\n",
    "pd.set_option('display.max_rows', None)\n",
    "dataSuplem"
   ]
  },
  {
   "cell_type": "code",
   "execution_count": 58,
   "metadata": {},
   "outputs": [],
   "source": [
    "# Centrer et reduire"
   ]
  },
  {
   "cell_type": "code",
   "execution_count": 59,
   "metadata": {},
   "outputs": [
    {
     "data": {
      "text/html": [
       "<div>\n",
       "<style scoped>\n",
       "    .dataframe tbody tr th:only-of-type {\n",
       "        vertical-align: middle;\n",
       "    }\n",
       "\n",
       "    .dataframe tbody tr th {\n",
       "        vertical-align: top;\n",
       "    }\n",
       "\n",
       "    .dataframe thead th {\n",
       "        text-align: right;\n",
       "    }\n",
       "</style>\n",
       "<table border=\"1\" class=\"dataframe\">\n",
       "  <thead>\n",
       "    <tr style=\"text-align: right;\">\n",
       "      <th></th>\n",
       "      <th>CYL</th>\n",
       "      <th>PUISS</th>\n",
       "      <th>LONG</th>\n",
       "      <th>LARG</th>\n",
       "      <th>POIDS</th>\n",
       "      <th>V.MAX</th>\n",
       "    </tr>\n",
       "  </thead>\n",
       "  <tbody>\n",
       "    <tr>\n",
       "      <th>0</th>\n",
       "      <td>2.840806</td>\n",
       "      <td>2.595112</td>\n",
       "      <td>1.791990</td>\n",
       "      <td>2.001041</td>\n",
       "      <td>2.488122</td>\n",
       "      <td>1.841127</td>\n",
       "    </tr>\n",
       "    <tr>\n",
       "      <th>1</th>\n",
       "      <td>-0.945712</td>\n",
       "      <td>-0.535856</td>\n",
       "      <td>-0.907631</td>\n",
       "      <td>-1.871942</td>\n",
       "      <td>-1.230913</td>\n",
       "      <td>0.145972</td>\n",
       "    </tr>\n",
       "  </tbody>\n",
       "</table>\n",
       "</div>"
      ],
      "text/plain": [
       "        CYL     PUISS      LONG      LARG     POIDS     V.MAX\n",
       "0  2.840806  2.595112  1.791990  2.001041  2.488122  1.841127\n",
       "1 -0.945712 -0.535856 -0.907631 -1.871942 -1.230913  0.145972"
      ]
     },
     "execution_count": 59,
     "metadata": {},
     "output_type": "execute_result"
    }
   ],
   "source": [
    "dataSuplem_X = dataSuplem.drop(['Modele'], axis = 1).astype(float)\n",
    "\n",
    "data_suplem_std = scaler.transform(dataSuplem_X)\n",
    "data_suplem_standarized = pd.DataFrame(data_suplem_std, columns = ['CYL','PUISS','LONG','LARG','POIDS','V.MAX'])\n",
    "data_suplem_standarized"
   ]
  },
  {
   "cell_type": "code",
   "execution_count": 60,
   "metadata": {},
   "outputs": [
    {
     "name": "stdout",
     "output_type": "stream",
     "text": [
      "[[ 5.56329226  0.33860928 -0.46428878  0.40214608 -0.38981076 -0.08102064]\n",
      " [-2.21224139  1.25777905 -0.09304388 -0.35370189  0.648528    0.12473042]]\n"
     ]
    },
    {
     "data": {
      "text/html": [
       "<div>\n",
       "<style scoped>\n",
       "    .dataframe tbody tr th:only-of-type {\n",
       "        vertical-align: middle;\n",
       "    }\n",
       "\n",
       "    .dataframe tbody tr th {\n",
       "        vertical-align: top;\n",
       "    }\n",
       "\n",
       "    .dataframe thead th {\n",
       "        text-align: right;\n",
       "    }\n",
       "</style>\n",
       "<table border=\"1\" class=\"dataframe\">\n",
       "  <thead>\n",
       "    <tr style=\"text-align: right;\">\n",
       "      <th></th>\n",
       "      <th>PC1</th>\n",
       "      <th>PC2</th>\n",
       "      <th>PC3</th>\n",
       "      <th>PC4</th>\n",
       "      <th>PC5</th>\n",
       "      <th>PC6</th>\n",
       "      <th>Modele</th>\n",
       "    </tr>\n",
       "  </thead>\n",
       "  <tbody>\n",
       "    <tr>\n",
       "      <th>0</th>\n",
       "      <td>5.563292</td>\n",
       "      <td>0.338609</td>\n",
       "      <td>-0.464289</td>\n",
       "      <td>0.402146</td>\n",
       "      <td>-0.389811</td>\n",
       "      <td>-0.081021</td>\n",
       "      <td>Peugeot 604</td>\n",
       "    </tr>\n",
       "    <tr>\n",
       "      <th>1</th>\n",
       "      <td>-2.212241</td>\n",
       "      <td>1.257779</td>\n",
       "      <td>-0.093044</td>\n",
       "      <td>-0.353702</td>\n",
       "      <td>0.648528</td>\n",
       "      <td>0.124730</td>\n",
       "      <td>Peugeot 304</td>\n",
       "    </tr>\n",
       "  </tbody>\n",
       "</table>\n",
       "</div>"
      ],
      "text/plain": [
       "        PC1       PC2       PC3       PC4       PC5       PC6        Modele\n",
       "0  5.563292  0.338609 -0.464289  0.402146 -0.389811 -0.081021  Peugeot 604 \n",
       "1 -2.212241  1.257779 -0.093044 -0.353702  0.648528  0.124730   Peugeot 304"
      ]
     },
     "execution_count": 60,
     "metadata": {},
     "output_type": "execute_result"
    }
   ],
   "source": [
    "# Obtention de projection dans l'espace factoriel\n",
    "\n",
    "coordSupp = pca.transform(data_suplem_std)\n",
    "print(coordSupp)\n",
    "\n",
    "coordSuppDf = pd.DataFrame(coordSupp, columns = ['PC1','PC2','PC3','PC4','PC5','PC6'])\n",
    "coordSuppDf['Modele'] = dataSuplem['Modele']\n",
    "coordSuppDf"
   ]
  },
  {
   "cell_type": "code",
   "execution_count": 61,
   "metadata": {},
   "outputs": [
    {
     "data": {
      "text/plain": [
       "<function matplotlib.pyplot.show(*args, **kw)>"
      ]
     },
     "execution_count": 61,
     "metadata": {},
     "output_type": "execute_result"
    },
    {
     "data": {
      "image/png": "[encoded data removed]",
      "text/plain": [
       "<Figure size 1080x864 with 1 Axes>"
      ]
     },
     "metadata": {
      "needs_background": "light"
     },
     "output_type": "display_data"
    }
   ],
   "source": [
    "fig, axes = plt.subplots(figsize=(15,12))\n",
    "#Axes\n",
    "xmin = principalComponentsDf['PC1'].max()\n",
    "ymin = principalComponentsDf['PC2'].max()\n",
    "\n",
    "axes.set_xlim(-xmin-1, xmin+1)\n",
    "axes.set_ylim(-ymin-1, ymin+1)\n",
    "\n",
    "axes.axhline(0,color='red') # x = 0\n",
    "axes.axvline(0,color='red') # y = 0\n",
    "\n",
    "#Labels\n",
    "plt.title('PC1 vs PC2', color = 'black', fontsize = 16)\n",
    "plt.xlabel('PC1',color = 'black')\n",
    "plt.ylabel('PC2', color = 'blue')\n",
    "plt.xticks(color = 'red')\n",
    "plt.yticks(color = 'black')\n",
    "\n",
    "#Data graphique\n",
    "plt.scatter(principalComponentsDf['PC1'], principalComponentsDf['PC2'])\n",
    "principalComponentsDf['Modele'] = dataOriginal['Modele']  #For labels points\n",
    "\n",
    "#Including tags for any plot in order to identify in the new artifitiel dimension PC1, PC2\n",
    "for i, row in principalComponentsDf.iterrows():\n",
    "    plt.annotate(principalComponentsDf['Modele'].iloc[i], (principalComponentsDf['PC1'].iloc[i], principalComponentsDf['PC2'].iloc[i]), color='b')\n",
    "plt.show\n",
    "\n",
    "#Including tags donnes supplementaires\n",
    "for i, row in coordSuppDf.iterrows():\n",
    "    plt.annotate(coordSuppDf['Modele'].iloc[i], (coordSuppDf['PC1'].iloc[i], coordSuppDf['PC2'].iloc[i]), color='r')\n",
    "plt.show\n",
    "\n",
    "\n"
   ]
  },
  {
   "cell_type": "code",
   "execution_count": 62,
   "metadata": {},
   "outputs": [
    {
     "data": {
      "text/html": [
       "<div>\n",
       "<style scoped>\n",
       "    .dataframe tbody tr th:only-of-type {\n",
       "        vertical-align: middle;\n",
       "    }\n",
       "\n",
       "    .dataframe tbody tr th {\n",
       "        vertical-align: top;\n",
       "    }\n",
       "\n",
       "    .dataframe thead th {\n",
       "        text-align: right;\n",
       "    }\n",
       "</style>\n",
       "<table border=\"1\" class=\"dataframe\">\n",
       "  <thead>\n",
       "    <tr style=\"text-align: right;\">\n",
       "      <th></th>\n",
       "      <th>PC1</th>\n",
       "      <th>PC2</th>\n",
       "      <th>PC3</th>\n",
       "      <th>PC4</th>\n",
       "      <th>PC5</th>\n",
       "      <th>PC6</th>\n",
       "      <th>Modele</th>\n",
       "    </tr>\n",
       "  </thead>\n",
       "  <tbody>\n",
       "    <tr>\n",
       "      <th>0</th>\n",
       "      <td>5.563292</td>\n",
       "      <td>0.338609</td>\n",
       "      <td>-0.464289</td>\n",
       "      <td>0.402146</td>\n",
       "      <td>-0.389811</td>\n",
       "      <td>-0.081021</td>\n",
       "      <td>Peugeot 604</td>\n",
       "    </tr>\n",
       "    <tr>\n",
       "      <th>1</th>\n",
       "      <td>-2.212241</td>\n",
       "      <td>1.257779</td>\n",
       "      <td>-0.093044</td>\n",
       "      <td>-0.353702</td>\n",
       "      <td>0.648528</td>\n",
       "      <td>0.124730</td>\n",
       "      <td>Peugeot 304</td>\n",
       "    </tr>\n",
       "  </tbody>\n",
       "</table>\n",
       "</div>"
      ],
      "text/plain": [
       "        PC1       PC2       PC3       PC4       PC5       PC6        Modele\n",
       "0  5.563292  0.338609 -0.464289  0.402146 -0.389811 -0.081021  Peugeot 604 \n",
       "1 -2.212241  1.257779 -0.093044 -0.353702  0.648528  0.124730   Peugeot 304"
      ]
     },
     "execution_count": 62,
     "metadata": {},
     "output_type": "execute_result"
    }
   ],
   "source": [
    "coordSuppDf"
   ]
  },
  {
   "cell_type": "markdown",
   "metadata": {},
   "source": [
    "La graphique represente les donnes sur les deux premiere axes principaux, \n",
    "pour le premiere axe Toyota et Datsun sont importantes et pour l'axe deux Alfetta et Audi."
   ]
  },
  {
   "cell_type": "markdown",
   "metadata": {},
   "source": [
    "Renautl 30 et Toyota on des comportements differents sur le premiere axe."
   ]
  },
  {
   "cell_type": "code",
   "execution_count": null,
   "metadata": {},
   "outputs": [],
   "source": []
  }
 ],
 "metadata": {
  "kernelspec": {
   "display_name": "Python 3",
   "language": "python",
   "name": "python3"
  },
  "language_info": {
   "codemirror_mode": {
    "name": "ipython",
    "version": 3
   },
   "file_extension": ".py",
   "mimetype": "text/x-python",
   "name": "python",
   "nbconvert_exporter": "python",
   "pygments_lexer": "ipython3",
   "version": "3.7.6"
  }
 },
 "nbformat": 4,
 "nbformat_minor": 4
}
