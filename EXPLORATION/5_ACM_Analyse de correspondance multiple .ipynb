{
 "cells": [
  {
   "cell_type": "markdown",
   "metadata": {},
   "source": [
    "# Analysis ACM - Analyse de correspondance multiple"
   ]
  },
  {
   "cell_type": "markdown",
   "metadata": {},
   "source": [
    "permet de traiter  simultanément un nombre quelconque de variables, toutes  qualitatives."
   ]
  },
  {
   "cell_type": "markdown",
   "metadata": {},
   "source": [
    "# Author: Ricardo Vallejo R."
   ]
  },
  {
   "cell_type": "markdown",
   "metadata": {},
   "source": [
    "# 1. Load Data"
   ]
  },
  {
   "cell_type": "code",
   "execution_count": 2,
   "metadata": {},
   "outputs": [
    {
     "data": {
      "text/html": [
       "<div>\n",
       "<style scoped>\n",
       "    .dataframe tbody tr th:only-of-type {\n",
       "        vertical-align: middle;\n",
       "    }\n",
       "\n",
       "    .dataframe tbody tr th {\n",
       "        vertical-align: top;\n",
       "    }\n",
       "\n",
       "    .dataframe thead th {\n",
       "        text-align: right;\n",
       "    }\n",
       "</style>\n",
       "<table border=\"1\" class=\"dataframe\">\n",
       "  <thead>\n",
       "    <tr style=\"text-align: right;\">\n",
       "      <th></th>\n",
       "      <th>Taille</th>\n",
       "      <th>Velocite</th>\n",
       "      <th>Affection</th>\n",
       "      <th>Cote</th>\n",
       "      <th>Fonction</th>\n",
       "    </tr>\n",
       "    <tr>\n",
       "      <th>Chien</th>\n",
       "      <th></th>\n",
       "      <th></th>\n",
       "      <th></th>\n",
       "      <th></th>\n",
       "      <th></th>\n",
       "    </tr>\n",
       "  </thead>\n",
       "  <tbody>\n",
       "    <tr>\n",
       "      <th>Beauceron</th>\n",
       "      <td>Taille++</td>\n",
       "      <td>Veloc++</td>\n",
       "      <td>Affec+</td>\n",
       "      <td>2.0</td>\n",
       "      <td>utilite</td>\n",
       "    </tr>\n",
       "    <tr>\n",
       "      <th>Basset</th>\n",
       "      <td>Taill-</td>\n",
       "      <td>Velo-</td>\n",
       "      <td>Affe-</td>\n",
       "      <td>4.5</td>\n",
       "      <td>chasse</td>\n",
       "    </tr>\n",
       "    <tr>\n",
       "      <th>Berger All</th>\n",
       "      <td>Taille++</td>\n",
       "      <td>Veloc++</td>\n",
       "      <td>Affec+</td>\n",
       "      <td>2.5</td>\n",
       "      <td>utilite</td>\n",
       "    </tr>\n",
       "    <tr>\n",
       "      <th>Boxer</th>\n",
       "      <td>Taille+</td>\n",
       "      <td>Veloc+</td>\n",
       "      <td>Affec+</td>\n",
       "      <td>3.0</td>\n",
       "      <td>compagnie</td>\n",
       "    </tr>\n",
       "    <tr>\n",
       "      <th>Bull-Dog</th>\n",
       "      <td>Taill-</td>\n",
       "      <td>Velo-</td>\n",
       "      <td>Affec+</td>\n",
       "      <td>1.5</td>\n",
       "      <td>compagnie</td>\n",
       "    </tr>\n",
       "    <tr>\n",
       "      <th>Bull-Mastif</th>\n",
       "      <td>Taille++</td>\n",
       "      <td>Velo-</td>\n",
       "      <td>Affe-</td>\n",
       "      <td>1.0</td>\n",
       "      <td>utilite</td>\n",
       "    </tr>\n",
       "    <tr>\n",
       "      <th>Caniche</th>\n",
       "      <td>Taill-</td>\n",
       "      <td>Veloc+</td>\n",
       "      <td>Affec+</td>\n",
       "      <td>4.0</td>\n",
       "      <td>compagnie</td>\n",
       "    </tr>\n",
       "    <tr>\n",
       "      <th>Labrador</th>\n",
       "      <td>Taille+</td>\n",
       "      <td>Veloc+</td>\n",
       "      <td>Affec+</td>\n",
       "      <td>3.5</td>\n",
       "      <td>chasse</td>\n",
       "    </tr>\n",
       "  </tbody>\n",
       "</table>\n",
       "</div>"
      ],
      "text/plain": [
       "               Taille Velocite Affection  Cote   Fonction\n",
       "Chien                                                    \n",
       "Beauceron    Taille++  Veloc++    Affec+   2.0    utilite\n",
       "Basset         Taill-    Velo-     Affe-   4.5     chasse\n",
       "Berger All   Taille++  Veloc++    Affec+   2.5    utilite\n",
       "Boxer         Taille+   Veloc+    Affec+   3.0  compagnie\n",
       "Bull-Dog       Taill-    Velo-    Affec+   1.5  compagnie\n",
       "Bull-Mastif  Taille++    Velo-     Affe-   1.0    utilite\n",
       "Caniche        Taill-   Veloc+    Affec+   4.0  compagnie\n",
       "Labrador      Taille+   Veloc+    Affec+   3.5     chasse"
      ]
     },
     "execution_count": 2,
     "metadata": {},
     "output_type": "execute_result"
    }
   ],
   "source": [
    "import pandas as pd\n",
    "import numpy as np\n",
    "import matplotlib.pyplot as plt\n",
    "from sklearn.preprocessing import StandardScaler\n",
    "from numpy import linalg as LA\n",
    "from fanalysis.mca import MCA\n",
    "\n",
    "dataOriginal = pd.read_excel(\"Chiens.xlsx\",sheet_name=\"Feuil1\",index_col=0)\n",
    "pd.set_option('display.max_rows', None)\n",
    "n_data = dataOriginal.shape[0]\n",
    "dataOriginal\n"
   ]
  },
  {
   "cell_type": "code",
   "execution_count": 10,
   "metadata": {},
   "outputs": [],
   "source": [
    "label_categoricals = ['Taille','Velocite','Affection']"
   ]
  },
  {
   "cell_type": "markdown",
   "metadata": {},
   "source": [
    "# 2 . Tableau disjonctif complet (TDC)"
   ]
  },
  {
   "cell_type": "code",
   "execution_count": 21,
   "metadata": {},
   "outputs": [
    {
     "name": "stdout",
     "output_type": "stream",
     "text": [
      "             Taill-  Taille+  Taille++  Velo-  Veloc+  Veloc++  Affe-  Affec+\n",
      "Chien                                                                        \n",
      "Beauceron         0        0         1      0       0        1      0       1\n",
      "Basset            1        0         0      1       0        0      1       0\n",
      "Berger All        0        0         1      0       0        1      0       1\n",
      "Boxer             0        1         0      0       1        0      0       1\n",
      "Bull-Dog          1        0         0      1       0        0      0       1\n",
      "Bull-Mastif       0        0         1      1       0        0      1       0\n",
      "Caniche           1        0         0      0       1        0      0       1\n",
      "Labrador          0        1         0      0       1        0      0       1\n"
     ]
    }
   ],
   "source": [
    "X = pd.get_dummies(dataOriginal[label_categoricals],prefix='',prefix_sep='')\n",
    "print(X)"
   ]
  },
  {
   "cell_type": "code",
   "execution_count": 22,
   "metadata": {},
   "outputs": [
    {
     "data": {
      "text/plain": [
       "8"
      ]
     },
     "execution_count": 22,
     "metadata": {},
     "output_type": "execute_result"
    }
   ],
   "source": [
    "#nombre total de modalités\n",
    "m = X.shape[1]\n",
    "m"
   ]
  },
  {
   "cell_type": "markdown",
   "metadata": {},
   "source": [
    "# 3. Détermination du profil profil-moyen"
   ]
  },
  {
   "cell_type": "code",
   "execution_count": 44,
   "metadata": {},
   "outputs": [
    {
     "name": "stdout",
     "output_type": "stream",
     "text": [
      "Le profil colonne: [0.075000 0.050000 0.075000 0.075000 0.075000 0.050000 0.050000 0.150000]\n"
     ]
    }
   ],
   "source": [
    "n = dataOriginal.shape[0] #Numeor individus\n",
    "p = dataOriginal.shape[1] #Only categorical variables\n",
    "\n",
    "somme_col = np.sum(X.values,axis=0)\n",
    "print('Le profil colonne:',somme_col/(n*p))\n"
   ]
  },
  {
   "cell_type": "code",
   "execution_count": 52,
   "metadata": {},
   "outputs": [
    {
     "data": {
      "text/plain": [
       "5"
      ]
     },
     "execution_count": 52,
     "metadata": {},
     "output_type": "execute_result"
    }
   ],
   "source": [
    "p"
   ]
  },
  {
   "cell_type": "markdown",
   "metadata": {},
   "source": [
    "# 3.1 La matrice des profils-lignes L"
   ]
  },
  {
   "cell_type": "markdown",
   "metadata": {},
   "source": [
    "Est le vecteur des poids des modalit´es (aussi appel´e profil-moyen)"
   ]
  },
  {
   "cell_type": "code",
   "execution_count": 244,
   "metadata": {},
   "outputs": [
    {
     "data": {
      "text/html": [
       "<div>\n",
       "<style scoped>\n",
       "    .dataframe tbody tr th:only-of-type {\n",
       "        vertical-align: middle;\n",
       "    }\n",
       "\n",
       "    .dataframe tbody tr th {\n",
       "        vertical-align: top;\n",
       "    }\n",
       "\n",
       "    .dataframe thead th {\n",
       "        text-align: right;\n",
       "    }\n",
       "</style>\n",
       "<table border=\"1\" class=\"dataframe\">\n",
       "  <thead>\n",
       "    <tr style=\"text-align: right;\">\n",
       "      <th></th>\n",
       "      <th>Taill-</th>\n",
       "      <th>Taille+</th>\n",
       "      <th>Taille++</th>\n",
       "      <th>Velo-</th>\n",
       "      <th>Veloc+</th>\n",
       "      <th>Veloc++</th>\n",
       "      <th>Affe-</th>\n",
       "      <th>Affec+</th>\n",
       "    </tr>\n",
       "    <tr>\n",
       "      <th>Chien</th>\n",
       "      <th></th>\n",
       "      <th></th>\n",
       "      <th></th>\n",
       "      <th></th>\n",
       "      <th></th>\n",
       "      <th></th>\n",
       "      <th></th>\n",
       "      <th></th>\n",
       "    </tr>\n",
       "  </thead>\n",
       "  <tbody>\n",
       "    <tr>\n",
       "      <th>Beauceron</th>\n",
       "      <td>0.00</td>\n",
       "      <td>0.00</td>\n",
       "      <td>0.33</td>\n",
       "      <td>0.00</td>\n",
       "      <td>0.00</td>\n",
       "      <td>0.33</td>\n",
       "      <td>0.00</td>\n",
       "      <td>0.33</td>\n",
       "    </tr>\n",
       "    <tr>\n",
       "      <th>Basset</th>\n",
       "      <td>0.33</td>\n",
       "      <td>0.00</td>\n",
       "      <td>0.00</td>\n",
       "      <td>0.33</td>\n",
       "      <td>0.00</td>\n",
       "      <td>0.00</td>\n",
       "      <td>0.33</td>\n",
       "      <td>0.00</td>\n",
       "    </tr>\n",
       "    <tr>\n",
       "      <th>Berger All</th>\n",
       "      <td>0.00</td>\n",
       "      <td>0.00</td>\n",
       "      <td>0.33</td>\n",
       "      <td>0.00</td>\n",
       "      <td>0.00</td>\n",
       "      <td>0.33</td>\n",
       "      <td>0.00</td>\n",
       "      <td>0.33</td>\n",
       "    </tr>\n",
       "    <tr>\n",
       "      <th>Boxer</th>\n",
       "      <td>0.00</td>\n",
       "      <td>0.33</td>\n",
       "      <td>0.00</td>\n",
       "      <td>0.00</td>\n",
       "      <td>0.33</td>\n",
       "      <td>0.00</td>\n",
       "      <td>0.00</td>\n",
       "      <td>0.33</td>\n",
       "    </tr>\n",
       "    <tr>\n",
       "      <th>Bull-Dog</th>\n",
       "      <td>0.33</td>\n",
       "      <td>0.00</td>\n",
       "      <td>0.00</td>\n",
       "      <td>0.33</td>\n",
       "      <td>0.00</td>\n",
       "      <td>0.00</td>\n",
       "      <td>0.00</td>\n",
       "      <td>0.33</td>\n",
       "    </tr>\n",
       "    <tr>\n",
       "      <th>Bull-Mastif</th>\n",
       "      <td>0.00</td>\n",
       "      <td>0.00</td>\n",
       "      <td>0.33</td>\n",
       "      <td>0.33</td>\n",
       "      <td>0.00</td>\n",
       "      <td>0.00</td>\n",
       "      <td>0.33</td>\n",
       "      <td>0.00</td>\n",
       "    </tr>\n",
       "    <tr>\n",
       "      <th>Caniche</th>\n",
       "      <td>0.33</td>\n",
       "      <td>0.00</td>\n",
       "      <td>0.00</td>\n",
       "      <td>0.00</td>\n",
       "      <td>0.33</td>\n",
       "      <td>0.00</td>\n",
       "      <td>0.00</td>\n",
       "      <td>0.33</td>\n",
       "    </tr>\n",
       "    <tr>\n",
       "      <th>Labrador</th>\n",
       "      <td>0.00</td>\n",
       "      <td>0.33</td>\n",
       "      <td>0.00</td>\n",
       "      <td>0.00</td>\n",
       "      <td>0.33</td>\n",
       "      <td>0.00</td>\n",
       "      <td>0.00</td>\n",
       "      <td>0.33</td>\n",
       "    </tr>\n",
       "  </tbody>\n",
       "</table>\n",
       "</div>"
      ],
      "text/plain": [
       "             Taill-  Taille+  Taille++  Velo-  Veloc+  Veloc++  Affe-  Affec+\n",
       "Chien                                                                        \n",
       "Beauceron      0.00     0.00      0.33   0.00    0.00     0.33   0.00    0.33\n",
       "Basset         0.33     0.00      0.00   0.33    0.00     0.00   0.33    0.00\n",
       "Berger All     0.00     0.00      0.33   0.00    0.00     0.33   0.00    0.33\n",
       "Boxer          0.00     0.33      0.00   0.00    0.33     0.00   0.00    0.33\n",
       "Bull-Dog       0.33     0.00      0.00   0.33    0.00     0.00   0.00    0.33\n",
       "Bull-Mastif    0.00     0.00      0.33   0.33    0.00     0.00   0.33    0.00\n",
       "Caniche        0.33     0.00      0.00   0.00    0.33     0.00   0.00    0.33\n",
       "Labrador       0.00     0.33      0.00   0.00    0.33     0.00   0.00    0.33"
      ]
     },
     "execution_count": 244,
     "metadata": {},
     "output_type": "execute_result"
    }
   ],
   "source": [
    "p_retenidas=3\n",
    "\n",
    "L = X / p_retenidas\n",
    "L.round(2)"
   ]
  },
  {
   "cell_type": "code",
   "execution_count": 245,
   "metadata": {},
   "outputs": [],
   "source": [
    "labels = ['Taill-', 'Taille+','Taille++','Velo-','Veloc+', 'Veloc++', 'Affe-', 'Affec+']\n",
    "labels = X.columns"
   ]
  },
  {
   "cell_type": "markdown",
   "metadata": {},
   "source": [
    "# 3.1 La matrice des profils-lignes columns C "
   ]
  },
  {
   "cell_type": "code",
   "execution_count": null,
   "metadata": {},
   "outputs": [],
   "source": [
    "class_x_modalite = [ 3 3 3 3 3 3 2 2]"
   ]
  },
  {
   "cell_type": "code",
   "execution_count": 115,
   "metadata": {},
   "outputs": [
    {
     "ename": "NameError",
     "evalue": "name 'class_x_modalite' is not defined",
     "output_type": "error",
     "traceback": [
      "\u001b[1;31m---------------------------------------------------------------------------\u001b[0m",
      "\u001b[1;31mNameError\u001b[0m                                 Traceback (most recent call last)",
      "\u001b[1;32m<ipython-input-115-dec72db22102>\u001b[0m in \u001b[0;36m<module>\u001b[1;34m\u001b[0m\n\u001b[1;32m----> 1\u001b[1;33m \u001b[0mC\u001b[0m \u001b[1;33m=\u001b[0m \u001b[0mX\u001b[0m \u001b[1;33m/\u001b[0m \u001b[0mclass_x_modalite\u001b[0m\u001b[1;33m\u001b[0m\u001b[1;33m\u001b[0m\u001b[0m\n\u001b[0m",
      "\u001b[1;31mNameError\u001b[0m: name 'class_x_modalite' is not defined"
     ]
    }
   ],
   "source": [
    "C = X / class_x_modalite"
   ]
  },
  {
   "cell_type": "code",
   "execution_count": null,
   "metadata": {},
   "outputs": [],
   "source": []
  },
  {
   "cell_type": "code",
   "execution_count": null,
   "metadata": {},
   "outputs": [],
   "source": []
  },
  {
   "cell_type": "code",
   "execution_count": null,
   "metadata": {},
   "outputs": [],
   "source": []
  },
  {
   "cell_type": "code",
   "execution_count": null,
   "metadata": {},
   "outputs": [],
   "source": []
  },
  {
   "cell_type": "markdown",
   "metadata": {},
   "source": [
    "# 4. Analyse ACM\n"
   ]
  },
  {
   "cell_type": "code",
   "execution_count": 45,
   "metadata": {},
   "outputs": [],
   "source": [
    "acm = MCA(row_labels=dataOriginal.index,var_labels=label_categoricals)\n",
    "acm.fit(dataOriginal[label_categoricals].values)\n",
    "None"
   ]
  },
  {
   "cell_type": "code",
   "execution_count": 46,
   "metadata": {},
   "outputs": [
    {
     "name": "stdout",
     "output_type": "stream",
     "text": [
      "Le nombre maximum de facteurs principaux est égal à 3\n"
     ]
    }
   ],
   "source": [
    "Fmax = m-p\n",
    "print('Le nombre maximum de facteurs principaux est égal à', Fmax)"
   ]
  },
  {
   "cell_type": "code",
   "execution_count": 47,
   "metadata": {},
   "outputs": [],
   "source": [
    " np.set_printoptions(formatter={'float_kind':'{:f}'.format})"
   ]
  },
  {
   "cell_type": "code",
   "execution_count": 48,
   "metadata": {},
   "outputs": [
    {
     "data": {
      "text/plain": [
       "array([[0.708031, 0.591489, 0.261992, 0.069747, 0.035408],\n",
       "       [42.481875, 35.489362, 15.719509, 4.184791, 2.124462],\n",
       "       [42.481875, 77.971237, 93.690746, 97.875538, 100.000000]])"
      ]
     },
     "execution_count": 48,
     "metadata": {},
     "output_type": "execute_result"
    }
   ],
   "source": [
    "acm.eig_"
   ]
  },
  {
   "cell_type": "code",
   "execution_count": 49,
   "metadata": {},
   "outputs": [
    {
     "name": "stdout",
     "output_type": "stream",
     "text": [
      "      Val.P          %     Cumul %\n",
      "1  0.708031  42.481875   42.481875\n",
      "2  0.591489  35.489362   77.971237\n",
      "3  0.261992  15.719509   93.690746\n",
      "4  0.069747   4.184791   97.875538\n",
      "5  0.035408   2.124462  100.000000\n"
     ]
    }
   ],
   "source": [
    "pd.DataFrame(np.transpose(acm.eig_),columns=['Val.P','%','Cumul %'], index=[1,2,3,4,5])"
   ]
  },
  {
   "cell_type": "markdown",
   "metadata": {},
   "source": [
    "La matrice précédente montre que la valeur de l'inertie cumulée est de 77.97% si on considère les deux premiers facteurs\n",
    "principaux"
   ]
  },
  {
   "cell_type": "markdown",
   "metadata": {},
   "source": [
    "Les (H = 2) premiers facteurs seraient donc les seules pertinentes avec des variances égales respectivement \n",
    "à 0.708031 et 0.591489. Ils restituent 77.97% de l’information disponible."
   ]
  },
  {
   "cell_type": "markdown",
   "metadata": {},
   "source": [
    "# 5. Nombres de facteurs à retenir en se basant sur la règle de Kaiser"
   ]
  },
  {
   "cell_type": "code",
   "execution_count": 53,
   "metadata": {},
   "outputs": [
    {
     "name": "stdout",
     "output_type": "stream",
     "text": [
      "Lambda_min est égal à 0.3333333333333333\n"
     ]
    }
   ],
   "source": [
    "p_retenidas = 3\n",
    "\n",
    "Lambda_min = 1/p_retenidas\n",
    "print('Lambda_min est égal à', Lambda_min)"
   ]
  },
  {
   "cell_type": "markdown",
   "metadata": {},
   "source": [
    "Selon la règle de Kaiser, on doit retenir les facteurs principaux dont les valeurs propres sont > à 1/p = 0.33 (Diapo 33). On retient donc les deux premiers facteurs principaux"
   ]
  },
  {
   "cell_type": "markdown",
   "metadata": {},
   "source": [
    "On va retenir 1 et 2."
   ]
  },
  {
   "cell_type": "code",
   "execution_count": 235,
   "metadata": {},
   "outputs": [
    {
     "data": {
      "image/png": "[encoded data removed]",
      "text/plain": [
       "<Figure size 360x360 with 1 Axes>"
      ]
     },
     "metadata": {
      "needs_background": "light"
     },
     "output_type": "display_data"
    }
   ],
   "source": [
    "Fmax = 5\n",
    "fix,ax = plt.subplots(figsize=(5,5))\n",
    "ax.plot(range(1,Fmax+1),acm.eig_[0],\".-\")\n",
    "ax.set_xlabel(\"Nb. facteurs\")\n",
    "ax.set_ylabel(\"Val. propres\")\n",
    "plt.title(\"Eboulis des valeurs propres\")\n",
    "#seuil - Règle de Kaiser\n",
    "ax.plot([1,Fmax],[Lambda_min,Lambda_min],\"r--\",linewidth=1)\n",
    "plt.show()"
   ]
  },
  {
   "cell_type": "markdown",
   "metadata": {},
   "source": [
    "# 6. Nombres de facteurs à retenir en se basant sur la règle de coude"
   ]
  },
  {
   "cell_type": "code",
   "execution_count": 236,
   "metadata": {},
   "outputs": [
    {
     "data": {
      "image/png": "[encoded data removed]",
      "text/plain": [
       "<Figure size 1296x432 with 1 Axes>"
      ]
     },
     "metadata": {
      "needs_background": "light"
     },
     "output_type": "display_data"
    }
   ],
   "source": [
    "plt.rcParams.update({'font.size': 14})\n",
    "acm.plot_eigenvalues()\n"
   ]
  },
  {
   "cell_type": "code",
   "execution_count": 237,
   "metadata": {},
   "outputs": [
    {
     "data": {
      "image/png": "[encoded data removed]",
      "text/plain": [
       "<Figure size 1296x432 with 1 Axes>"
      ]
     },
     "metadata": {
      "needs_background": "light"
     },
     "output_type": "display_data"
    }
   ],
   "source": [
    "plt.rcParams.update({'font.size': 14})\n",
    "acm.plot_eigenvalues(type=\"percentage\")"
   ]
  },
  {
   "cell_type": "code",
   "execution_count": 238,
   "metadata": {},
   "outputs": [
    {
     "data": {
      "image/png": "[encoded data removed]",
      "text/plain": [
       "<Figure size 1296x432 with 1 Axes>"
      ]
     },
     "metadata": {
      "needs_background": "light"
     },
     "output_type": "display_data"
    }
   ],
   "source": [
    "plt.rcParams.update({'font.size': 14})\n",
    "acm.plot_eigenvalues(type=\"cumulative\")"
   ]
  },
  {
   "cell_type": "markdown",
   "metadata": {},
   "source": [
    "# 7.  Réprésentation des modalités dans le plan factoriel"
   ]
  },
  {
   "cell_type": "code",
   "execution_count": 239,
   "metadata": {},
   "outputs": [
    {
     "name": "stdout",
     "output_type": "stream",
     "text": [
      "          Coord.F1  Coord.F2\n",
      "Taill-        0.46      0.79\n",
      "Taille+      -1.37      0.50\n",
      "Taille++      0.46     -1.12\n",
      "Velo-         1.08      0.55\n",
      "Veloc+       -1.08      0.55\n",
      "Veloc++       0.00     -1.66\n",
      "Affe-         1.37      0.50\n",
      "Affec+       -0.46     -0.17\n"
     ]
    }
   ],
   "source": [
    "\n",
    "print(pd.DataFrame(acm.col_coord_[:,:2].round(2),index=X.columns,columns=['Coord.F1','Coord.F2']))\n",
    "np.set_printoptions(formatter={'float_kind':'{:3f}'.format})"
   ]
  },
  {
   "cell_type": "markdown",
   "metadata": {},
   "source": [
    "Le tableau suivant donne la projection des modalités sur les deux premiers facteurs principaux"
   ]
  },
  {
   "cell_type": "code",
   "execution_count": 240,
   "metadata": {},
   "outputs": [
    {
     "data": {
      "image/png": "[encoded data removed]",
      "text/plain": [
       "<Figure size 504x504 with 1 Axes>"
      ]
     },
     "metadata": {
      "needs_background": "light"
     },
     "output_type": "display_data"
    }
   ],
   "source": [
    "fix,ax = plt.subplots(figsize=(7,7))\n",
    "ax.axis([-2,+2,-2,+2])\n",
    "ax.plot([-2,+2],[0,0],color='silver',linestyle='--')\n",
    "ax.plot([0,0],[-2,+2],color='silver',linestyle='--')\n",
    "ax.set_xlabel(\"Dim.1\")\n",
    "ax.set_ylabel(\"Dim.2\")\n",
    "plt.title(\"Représentation des modalités\")\n",
    "for i in range(X.shape[1]):\n",
    "    ax.text(acm.col_coord_[i,0],acm.col_coord_[i,1],X.columns[i],color='blue')\n",
    "plt.show()\n"
   ]
  },
  {
   "cell_type": "markdown",
   "metadata": {},
   "source": [
    "- La représentation des modalités permet d'extraire les connaissances suivantes:\n",
    "- On observe trois groupes de variables reliés: (Velo-, Affec-), (Taille++, Veloc++) et (Taille+, Veloc+).\n",
    "- Affec+ est une variable un peu isolée."
   ]
  },
  {
   "cell_type": "markdown",
   "metadata": {},
   "source": [
    "# 8.  Réprésentation des individus dans le plan factoriel"
   ]
  },
  {
   "cell_type": "code",
   "execution_count": 76,
   "metadata": {},
   "outputs": [
    {
     "name": "stdout",
     "output_type": "stream",
     "text": [
      "          Coord.F1  Coord.F2\n",
      "Taill-        0.00     -1.28\n",
      "Taille+       1.15      0.80\n",
      "Taille++      0.00     -1.28\n",
      "Velo-        -1.15      0.39\n",
      "Veloc+        0.43      0.51\n",
      "Veloc++       1.15     -0.03\n",
      "Affe-        -0.43      0.51\n",
      "Affec+       -1.15      0.39\n"
     ]
    }
   ],
   "source": [
    "print(pd.DataFrame(acm.row_coord_[:,:2].round(2),index=X.columns,columns=['Coord.F1','Coord.F2']))"
   ]
  },
  {
   "cell_type": "code",
   "execution_count": 77,
   "metadata": {},
   "outputs": [
    {
     "data": {
      "image/png": "[encoded data removed]",
      "text/plain": [
       "<Figure size 504x504 with 1 Axes>"
      ]
     },
     "metadata": {
      "needs_background": "light"
     },
     "output_type": "display_data"
    }
   ],
   "source": [
    "fix,ax = plt.subplots(figsize=(7,7))\n",
    "ax.axis([-2,+2,-2,+2])\n",
    "ax.plot([-2,+2],[0,0],color='silver',linestyle='--')\n",
    "ax.plot([0,0],[-2,+2],color='silver',linestyle='--')\n",
    "ax.set_xlabel(\"Dim.1\")\n",
    "ax.set_ylabel(\"Dim.2\")\n",
    "plt.title(\"Représentation des individus\")\n",
    "for i in range(X.shape[0]):\n",
    " ax.text(acm.row_coord_[i,0],acm.row_coord_[i,1],X.index[i],color='firebrick')\n",
    "\n",
    "plt.show()"
   ]
  },
  {
   "cell_type": "markdown",
   "metadata": {},
   "source": [
    "- La représentation des individus permet d'extraire les connaissances suivantes:\n",
    "- On observe deux paires d'individus superposées : (Boxer, Labrador) et (Beauceron, Berger All).\n",
    "- Les caractéristiques du Caniche est plus proche de Basset que le Beauceron.\n",
    "- Le bull-Massif semble contibuer fortement au 1er axe factoriel."
   ]
  },
  {
   "cell_type": "markdown",
   "metadata": {},
   "source": [
    "# 10. Contribution des individus"
   ]
  },
  {
   "cell_type": "code",
   "execution_count": 84,
   "metadata": {},
   "outputs": [
    {
     "name": "stdout",
     "output_type": "stream",
     "text": [
      "             Contrib.F1  Contrib.F2\n",
      "Chien                              \n",
      "Beauceron          0.00       34.62\n",
      "Basset            23.38       13.49\n",
      "Berger All         0.00       34.62\n",
      "Boxer             23.38        3.13\n",
      "Bull-Dog           3.24        5.49\n",
      "Bull-Mastif       23.38        0.02\n",
      "Caniche            3.24        5.49\n",
      "Labrador          23.38        3.13\n"
     ]
    }
   ],
   "source": [
    "print(pd.DataFrame(acm.row_contrib_[:,:2].round(2),index=X.index,columns=['Contrib.F1','Contrib.F2']))"
   ]
  },
  {
   "cell_type": "code",
   "execution_count": 85,
   "metadata": {},
   "outputs": [
    {
     "data": {
      "image/png": "[encoded data removed]",
      "text/plain": [
       "<Figure size 432x288 with 1 Axes>"
      ]
     },
     "metadata": {
      "needs_background": "light"
     },
     "output_type": "display_data"
    }
   ],
   "source": [
    "acm.plot_row_contrib(num_axis=1)"
   ]
  },
  {
   "cell_type": "markdown",
   "metadata": {},
   "source": [
    "# 11.  Représentation simultannée des modalités et des individus"
   ]
  },
  {
   "cell_type": "code",
   "execution_count": 87,
   "metadata": {},
   "outputs": [
    {
     "data": {
      "image/png": "[encoded data removed]",
      "text/plain": [
       "<Figure size 576x432 with 1 Axes>"
      ]
     },
     "metadata": {
      "needs_background": "light"
     },
     "output_type": "display_data"
    }
   ],
   "source": [
    "#représentation dans le plan\n",
    "acm.mapping(num_x_axis=1,num_y_axis=2,figsize=(8,6))"
   ]
  },
  {
   "cell_type": "markdown",
   "metadata": {},
   "source": [
    "# 12. Adding suplementaire donne"
   ]
  },
  {
   "cell_type": "code",
   "execution_count": 88,
   "metadata": {},
   "outputs": [
    {
     "name": "stdout",
     "output_type": "stream",
     "text": [
      "           Taille Velocite Affection\n",
      "Chien                               \n",
      "Levrier  Taille++  Veloc++     Affe-\n"
     ]
    }
   ],
   "source": [
    "DSupp = pd.read_excel(\"Chiens.xlsx\",sheet_name=\"Feuil2\",index_col=0)\n",
    "print(DSupp)"
   ]
  },
  {
   "cell_type": "code",
   "execution_count": 105,
   "metadata": {},
   "outputs": [
    {
     "data": {
      "text/plain": [
       "array([0.000000, 0.000000, 1.000000, 0.000000, 0.000000, 1.000000,\n",
       "       1.000000, 0.000000])"
      ]
     },
     "execution_count": 105,
     "metadata": {},
     "output_type": "execute_result"
    }
   ],
   "source": [
    "#codage 0/1 de l'individu supp\n",
    "#vecteur pour individu supplémentaire\n",
    "\n",
    "XSupp = np.zeros(m)\n",
    "\n",
    "for v in DSupp.loc['Levrier'].values:\n",
    "    XSupp[np.where(X.columns==v)] = 1\n",
    "    \n",
    "XSupp"
   ]
  },
  {
   "cell_type": "code",
   "execution_count": 106,
   "metadata": {},
   "outputs": [
    {
     "name": "stdout",
     "output_type": "stream",
     "text": [
      "[0.000000 0.000000 0.333333 0.000000 0.000000 0.333333 0.333333 0.000000]\n"
     ]
    }
   ],
   "source": [
    "p_retenus = 3\n",
    "\n",
    "XSupp = XSupp / p_retenus\n",
    "print(XSupp)"
   ]
  },
  {
   "cell_type": "code",
   "execution_count": 107,
   "metadata": {},
   "outputs": [
    {
     "data": {
      "text/plain": [
       "5"
      ]
     },
     "execution_count": 107,
     "metadata": {},
     "output_type": "execute_result"
    }
   ],
   "source": [
    "p"
   ]
  },
  {
   "cell_type": "markdown",
   "metadata": {},
   "source": [
    "# 12.1 Projection d'individu supplementaire "
   ]
  },
  {
   "cell_type": "code",
   "execution_count": 109,
   "metadata": {},
   "outputs": [
    {
     "name": "stdout",
     "output_type": "stream",
     "text": [
      "[[0.722366 -0.990542]]\n"
     ]
    }
   ],
   "source": [
    "coord_supp = np.dot(np.reshape(XSupp,(1,m)),acm.col_coord_[:,:2])\n",
    "coord_supp = coord_supp / np.sqrt(acm.eig_[0][:2])\n",
    "print(coord_supp)"
   ]
  },
  {
   "cell_type": "markdown",
   "metadata": {},
   "source": [
    "# 12.2 Représentation dans le plan factoriel"
   ]
  },
  {
   "cell_type": "code",
   "execution_count": 110,
   "metadata": {},
   "outputs": [
    {
     "data": {
      "image/png": "[encoded data removed]",
      "text/plain": [
       "<Figure size 504x504 with 1 Axes>"
      ]
     },
     "metadata": {
      "needs_background": "light"
     },
     "output_type": "display_data"
    }
   ],
   "source": [
    "fix,ax = plt.subplots(figsize=(7,7))\n",
    "ax.axis([-2,+2,-2,+2])\n",
    "ax.plot([-2,+2],[0,0],color='silver',linestyle='--')\n",
    "ax.plot([0,0],[-2,+2],color='silver',linestyle='--')\n",
    "ax.set_xlabel(\"Dim.1\")\n",
    "ax.set_ylabel(\"Dim.2\")\n",
    "plt.title(\"Individu supplémentaire\")\n",
    "#individus actifs\n",
    "for i in range(X.shape[0]):\n",
    " ax.text(acm.row_coord_[i,0],acm.row_coord_[i,1],X.index[i],color='firebrick')\n",
    "#individu supplémentaire\n",
    "ax.text(coord_supp[0][0],coord_supp[0][1],'Levrier',color='magenta',fontsize=12)\n",
    "plt.show()"
   ]
  },
  {
   "cell_type": "markdown",
   "metadata": {},
   "source": [
    "- Le levier est situé dans le voisinage du Berger All et du Beauceron.\n",
    "- Le retour aux données initiale montre que ces trois races partagent les caractéristiques suivantes : Taille ++, Velocite++."
   ]
  },
  {
   "cell_type": "markdown",
   "metadata": {},
   "source": [
    "# 13. Distance entre individus"
   ]
  },
  {
   "cell_type": "code",
   "execution_count": 141,
   "metadata": {},
   "outputs": [
    {
     "data": {
      "text/html": [
       "<div>\n",
       "<style scoped>\n",
       "    .dataframe tbody tr th:only-of-type {\n",
       "        vertical-align: middle;\n",
       "    }\n",
       "\n",
       "    .dataframe tbody tr th {\n",
       "        vertical-align: top;\n",
       "    }\n",
       "\n",
       "    .dataframe thead th {\n",
       "        text-align: right;\n",
       "    }\n",
       "</style>\n",
       "<table border=\"1\" class=\"dataframe\">\n",
       "  <thead>\n",
       "    <tr style=\"text-align: right;\">\n",
       "      <th></th>\n",
       "      <th>Taill-</th>\n",
       "      <th>Taille+</th>\n",
       "      <th>Taille++</th>\n",
       "      <th>Velo-</th>\n",
       "      <th>Veloc+</th>\n",
       "      <th>Veloc++</th>\n",
       "      <th>Affe-</th>\n",
       "      <th>Affec+</th>\n",
       "    </tr>\n",
       "    <tr>\n",
       "      <th>Chien</th>\n",
       "      <th></th>\n",
       "      <th></th>\n",
       "      <th></th>\n",
       "      <th></th>\n",
       "      <th></th>\n",
       "      <th></th>\n",
       "      <th></th>\n",
       "      <th></th>\n",
       "    </tr>\n",
       "  </thead>\n",
       "  <tbody>\n",
       "    <tr>\n",
       "      <th>Beauceron</th>\n",
       "      <td>0</td>\n",
       "      <td>0</td>\n",
       "      <td>1</td>\n",
       "      <td>0</td>\n",
       "      <td>0</td>\n",
       "      <td>1</td>\n",
       "      <td>0</td>\n",
       "      <td>1</td>\n",
       "    </tr>\n",
       "    <tr>\n",
       "      <th>Basset</th>\n",
       "      <td>1</td>\n",
       "      <td>0</td>\n",
       "      <td>0</td>\n",
       "      <td>1</td>\n",
       "      <td>0</td>\n",
       "      <td>0</td>\n",
       "      <td>1</td>\n",
       "      <td>0</td>\n",
       "    </tr>\n",
       "    <tr>\n",
       "      <th>Berger All</th>\n",
       "      <td>0</td>\n",
       "      <td>0</td>\n",
       "      <td>1</td>\n",
       "      <td>0</td>\n",
       "      <td>0</td>\n",
       "      <td>1</td>\n",
       "      <td>0</td>\n",
       "      <td>1</td>\n",
       "    </tr>\n",
       "    <tr>\n",
       "      <th>Boxer</th>\n",
       "      <td>0</td>\n",
       "      <td>1</td>\n",
       "      <td>0</td>\n",
       "      <td>0</td>\n",
       "      <td>1</td>\n",
       "      <td>0</td>\n",
       "      <td>0</td>\n",
       "      <td>1</td>\n",
       "    </tr>\n",
       "    <tr>\n",
       "      <th>Bull-Dog</th>\n",
       "      <td>1</td>\n",
       "      <td>0</td>\n",
       "      <td>0</td>\n",
       "      <td>1</td>\n",
       "      <td>0</td>\n",
       "      <td>0</td>\n",
       "      <td>0</td>\n",
       "      <td>1</td>\n",
       "    </tr>\n",
       "    <tr>\n",
       "      <th>Bull-Mastif</th>\n",
       "      <td>0</td>\n",
       "      <td>0</td>\n",
       "      <td>1</td>\n",
       "      <td>1</td>\n",
       "      <td>0</td>\n",
       "      <td>0</td>\n",
       "      <td>1</td>\n",
       "      <td>0</td>\n",
       "    </tr>\n",
       "    <tr>\n",
       "      <th>Caniche</th>\n",
       "      <td>1</td>\n",
       "      <td>0</td>\n",
       "      <td>0</td>\n",
       "      <td>0</td>\n",
       "      <td>1</td>\n",
       "      <td>0</td>\n",
       "      <td>0</td>\n",
       "      <td>1</td>\n",
       "    </tr>\n",
       "    <tr>\n",
       "      <th>Labrador</th>\n",
       "      <td>0</td>\n",
       "      <td>1</td>\n",
       "      <td>0</td>\n",
       "      <td>0</td>\n",
       "      <td>1</td>\n",
       "      <td>0</td>\n",
       "      <td>0</td>\n",
       "      <td>1</td>\n",
       "    </tr>\n",
       "  </tbody>\n",
       "</table>\n",
       "</div>"
      ],
      "text/plain": [
       "             Taill-  Taille+  Taille++  Velo-  Veloc+  Veloc++  Affe-  Affec+\n",
       "Chien                                                                        \n",
       "Beauceron         0        0         1      0       0        1      0       1\n",
       "Basset            1        0         0      1       0        0      1       0\n",
       "Berger All        0        0         1      0       0        1      0       1\n",
       "Boxer             0        1         0      0       1        0      0       1\n",
       "Bull-Dog          1        0         0      1       0        0      0       1\n",
       "Bull-Mastif       0        0         1      1       0        0      1       0\n",
       "Caniche           1        0         0      0       1        0      0       1\n",
       "Labrador          0        1         0      0       1        0      0       1"
      ]
     },
     "execution_count": 141,
     "metadata": {},
     "output_type": "execute_result"
    }
   ],
   "source": [
    "X"
   ]
  },
  {
   "cell_type": "code",
   "execution_count": 142,
   "metadata": {},
   "outputs": [
    {
     "name": "stdout",
     "output_type": "stream",
     "text": [
      "[0.125000 0.083333 0.125000 0.125000 0.125000 0.083333 0.083333 0.250000]\n"
     ]
    }
   ],
   "source": [
    "# Deux individus sont proches s’ils poss`edent les mˆeme modalit´es\n",
    "# Puisque nous traitons des variables catégorielles, nous utilisons la distance du 𝜒2 qui a pour particularité d’exacerber \n",
    "# les différences entre les modalités rares\n",
    "\n",
    "import numpy \n",
    "p=3   # !Atention cest p_retenidas\n",
    "\n",
    "#profil individu moyen \n",
    "ind_moy = numpy.sum(X.values,axis=0)/(n*p) \n",
    "print(ind_moy) \n",
    "\n"
   ]
  },
  {
   "cell_type": "code",
   "execution_count": 143,
   "metadata": {},
   "outputs": [
    {
     "data": {
      "text/plain": [
       "5.777777777777777"
      ]
     },
     "execution_count": 143,
     "metadata": {},
     "output_type": "execute_result"
    }
   ],
   "source": [
    "#distance du KHI-2 entre beauceron (n°0) et basset (n°1) \n",
    "numpy.sum(1/ind_moy*(X.values[0,:]/p-X.values[1,:]/p)**2)\n",
    "\n"
   ]
  },
  {
   "cell_type": "code",
   "execution_count": null,
   "metadata": {},
   "outputs": [],
   "source": []
  },
  {
   "cell_type": "code",
   "execution_count": 140,
   "metadata": {},
   "outputs": [
    {
     "data": {
      "text/plain": [
       "3.5555555555555554"
      ]
     },
     "execution_count": 140,
     "metadata": {},
     "output_type": "execute_result"
    }
   ],
   "source": [
    "#idem entre basset(n°1) et caniche(n°6) \n",
    "numpy.sum(1/ind_moy*(X.values[1,:]/p-X.values[6,:]/p)**2)\n"
   ]
  },
  {
   "cell_type": "markdown",
   "metadata": {},
   "source": [
    "Entre plus petites plus des choses en common."
   ]
  },
  {
   "cell_type": "markdown",
   "metadata": {},
   "source": [
    "Visiblement, le Basset a plus de caractères en commun avec le Caniche qu’avec le Beauceron"
   ]
  },
  {
   "cell_type": "markdown",
   "metadata": {},
   "source": [
    "# 14.  Distance entre modalites"
   ]
  },
  {
   "cell_type": "code",
   "execution_count": 139,
   "metadata": {},
   "outputs": [
    {
     "data": {
      "text/plain": [
       "array([3, 2, 3, 3, 3, 2, 2, 6], dtype=uint32)"
      ]
     },
     "execution_count": 139,
     "metadata": {},
     "output_type": "execute_result"
    }
   ],
   "source": [
    "somme_col = numpy.sum(X.values,axis=0) \n",
    "somme_col"
   ]
  },
  {
   "cell_type": "code",
   "execution_count": 138,
   "metadata": {},
   "outputs": [
    {
     "data": {
      "text/plain": [
       "1.3333333333333335"
      ]
     },
     "execution_count": 138,
     "metadata": {},
     "output_type": "execute_result"
    }
   ],
   "source": [
    "#distance entre taille- (2) et velocite- (5) \n",
    "numpy.sum(n*((X.values[:,2]/somme_col[2]-X.values[:,5]/somme_col[5])**2))"
   ]
  },
  {
   "cell_type": "code",
   "execution_count": 137,
   "metadata": {},
   "outputs": [
    {
     "data": {
      "text/plain": [
       "3.5555555555555554"
      ]
     },
     "execution_count": 137,
     "metadata": {},
     "output_type": "execute_result"
    }
   ],
   "source": [
    "#distance entre taille- (2) et velocite+ (3) \n",
    "numpy.sum(n*((X.values[:,2]/somme_col[2]-X.values[:,3]/somme_col[3])**2))"
   ]
  },
  {
   "cell_type": "markdown",
   "metadata": {},
   "source": [
    "- Conclusion : les individus qui partagent les caractéristiques (taille-, vélocité-) sont plus nombreux que (taille-, vélocité+)."
   ]
  },
  {
   "cell_type": "markdown",
   "metadata": {},
   "source": [
    "# 15. Inertia Total"
   ]
  },
  {
   "cell_type": "code",
   "execution_count": 128,
   "metadata": {},
   "outputs": [],
   "source": [
    "#profil moyen des variables-modalités \n",
    "\n",
    "somme_col = numpy.sum(X.values,axis=0)\n",
    "poids_moda = somme_col/(n*p)\n",
    "\n",
    "moda_moy = numpy.ones(X.shape[0])/n\n",
    "disto_moda = numpy.apply_along_axis(arr=X.values/somme_col,axis=0,func1d=lambda x:numpy.sum(n*(x-moda_moy)**2))\n",
    "\n",
    "#inertie \n",
    "inertie_moda = poids_moda * disto_moda\n",
    "\n",
    "#inertie totale des points-modalités \n",
    "inertie_tot_moda = numpy.sum(inertie_moda)\n"
   ]
  },
  {
   "cell_type": "code",
   "execution_count": 136,
   "metadata": {},
   "outputs": [
    {
     "data": {
      "text/html": [
       "<div>\n",
       "<style scoped>\n",
       "    .dataframe tbody tr th:only-of-type {\n",
       "        vertical-align: middle;\n",
       "    }\n",
       "\n",
       "    .dataframe tbody tr th {\n",
       "        vertical-align: top;\n",
       "    }\n",
       "\n",
       "    .dataframe thead th {\n",
       "        text-align: right;\n",
       "    }\n",
       "</style>\n",
       "<table border=\"1\" class=\"dataframe\">\n",
       "  <thead>\n",
       "    <tr style=\"text-align: right;\">\n",
       "      <th></th>\n",
       "      <th>Poids</th>\n",
       "      <th>Disto</th>\n",
       "      <th>Inertie</th>\n",
       "    </tr>\n",
       "  </thead>\n",
       "  <tbody>\n",
       "    <tr>\n",
       "      <th>Taill-</th>\n",
       "      <td>0.125000</td>\n",
       "      <td>1.666667</td>\n",
       "      <td>0.208333</td>\n",
       "    </tr>\n",
       "    <tr>\n",
       "      <th>Taille+</th>\n",
       "      <td>0.083333</td>\n",
       "      <td>3.000000</td>\n",
       "      <td>0.250000</td>\n",
       "    </tr>\n",
       "    <tr>\n",
       "      <th>Taille++</th>\n",
       "      <td>0.125000</td>\n",
       "      <td>1.666667</td>\n",
       "      <td>0.208333</td>\n",
       "    </tr>\n",
       "    <tr>\n",
       "      <th>Velo-</th>\n",
       "      <td>0.125000</td>\n",
       "      <td>1.666667</td>\n",
       "      <td>0.208333</td>\n",
       "    </tr>\n",
       "    <tr>\n",
       "      <th>Veloc+</th>\n",
       "      <td>0.125000</td>\n",
       "      <td>1.666667</td>\n",
       "      <td>0.208333</td>\n",
       "    </tr>\n",
       "    <tr>\n",
       "      <th>Veloc++</th>\n",
       "      <td>0.083333</td>\n",
       "      <td>3.000000</td>\n",
       "      <td>0.250000</td>\n",
       "    </tr>\n",
       "    <tr>\n",
       "      <th>Affe-</th>\n",
       "      <td>0.083333</td>\n",
       "      <td>3.000000</td>\n",
       "      <td>0.250000</td>\n",
       "    </tr>\n",
       "    <tr>\n",
       "      <th>Affec+</th>\n",
       "      <td>0.250000</td>\n",
       "      <td>0.333333</td>\n",
       "      <td>0.083333</td>\n",
       "    </tr>\n",
       "  </tbody>\n",
       "</table>\n",
       "</div>"
      ],
      "text/plain": [
       "             Poids     Disto   Inertie\n",
       "Taill-    0.125000  1.666667  0.208333\n",
       "Taille+   0.083333  3.000000  0.250000\n",
       "Taille++  0.125000  1.666667  0.208333\n",
       "Velo-     0.125000  1.666667  0.208333\n",
       "Veloc+    0.125000  1.666667  0.208333\n",
       "Veloc++   0.083333  3.000000  0.250000\n",
       "Affe-     0.083333  3.000000  0.250000\n",
       "Affec+    0.250000  0.333333  0.083333"
      ]
     },
     "execution_count": 136,
     "metadata": {},
     "output_type": "execute_result"
    }
   ],
   "source": [
    "#affichage \n",
    "pd.DataFrame(numpy.transpose([poids_moda,disto_moda,inertie_moda]),index=X.columns,columns=['Poids','Disto','Inertie'])"
   ]
  },
  {
   "cell_type": "code",
   "execution_count": 132,
   "metadata": {},
   "outputs": [
    {
     "name": "stdout",
     "output_type": "stream",
     "text": [
      "1.6666666666666665\n"
     ]
    }
   ],
   "source": [
    "#inertie totale des points-modalités \n",
    "inertie_tot_moda = numpy.sum(inertie_moda) \n",
    "print(inertie_tot_moda)"
   ]
  },
  {
   "cell_type": "code",
   "execution_count": null,
   "metadata": {},
   "outputs": [],
   "source": [
    "# Nous constatons de surcroît que les modalités (Taille+, Veloc++, Affec-) \n",
    "# sont celles qui contribuent le plus à l’information globale."
   ]
  },
  {
   "cell_type": "markdown",
   "metadata": {},
   "source": [
    "# 15. Contribution de modalites "
   ]
  },
  {
   "cell_type": "code",
   "execution_count": null,
   "metadata": {},
   "outputs": [],
   "source": [
    "# Du a nature binaire est difficile concentrer inertia sur certaines axes factorielles "
   ]
  },
  {
   "cell_type": "code",
   "execution_count": 230,
   "metadata": {},
   "outputs": [
    {
     "data": {
      "text/html": [
       "<div>\n",
       "<style scoped>\n",
       "    .dataframe tbody tr th:only-of-type {\n",
       "        vertical-align: middle;\n",
       "    }\n",
       "\n",
       "    .dataframe tbody tr th {\n",
       "        vertical-align: top;\n",
       "    }\n",
       "\n",
       "    .dataframe thead th {\n",
       "        text-align: right;\n",
       "    }\n",
       "</style>\n",
       "<table border=\"1\" class=\"dataframe\">\n",
       "  <thead>\n",
       "    <tr style=\"text-align: right;\">\n",
       "      <th></th>\n",
       "      <th>F1</th>\n",
       "      <th>F2</th>\n",
       "      <th>F3</th>\n",
       "      <th>F4</th>\n",
       "      <th>F5</th>\n",
       "    </tr>\n",
       "  </thead>\n",
       "  <tbody>\n",
       "    <tr>\n",
       "      <th>Taill-</th>\n",
       "      <td>3.67</td>\n",
       "      <td>13.13</td>\n",
       "      <td>38.68</td>\n",
       "      <td>2.58</td>\n",
       "      <td>4.44</td>\n",
       "    </tr>\n",
       "    <tr>\n",
       "      <th>Taille+</th>\n",
       "      <td>22.01</td>\n",
       "      <td>3.53</td>\n",
       "      <td>22.25</td>\n",
       "      <td>15.49</td>\n",
       "      <td>11.72</td>\n",
       "    </tr>\n",
       "    <tr>\n",
       "      <th>Taille++</th>\n",
       "      <td>3.67</td>\n",
       "      <td>26.60</td>\n",
       "      <td>5.61</td>\n",
       "      <td>2.58</td>\n",
       "      <td>24.04</td>\n",
       "    </tr>\n",
       "    <tr>\n",
       "      <th>Velo-</th>\n",
       "      <td>20.65</td>\n",
       "      <td>6.50</td>\n",
       "      <td>0.48</td>\n",
       "      <td>29.35</td>\n",
       "      <td>5.52</td>\n",
       "    </tr>\n",
       "    <tr>\n",
       "      <th>Veloc+</th>\n",
       "      <td>20.65</td>\n",
       "      <td>6.50</td>\n",
       "      <td>0.48</td>\n",
       "      <td>29.35</td>\n",
       "      <td>5.52</td>\n",
       "    </tr>\n",
       "    <tr>\n",
       "      <th>Veloc++</th>\n",
       "      <td>0.00</td>\n",
       "      <td>39.02</td>\n",
       "      <td>2.85</td>\n",
       "      <td>0.00</td>\n",
       "      <td>33.13</td>\n",
       "    </tr>\n",
       "    <tr>\n",
       "      <th>Affe-</th>\n",
       "      <td>22.01</td>\n",
       "      <td>3.53</td>\n",
       "      <td>22.25</td>\n",
       "      <td>15.49</td>\n",
       "      <td>11.72</td>\n",
       "    </tr>\n",
       "    <tr>\n",
       "      <th>Affec+</th>\n",
       "      <td>7.34</td>\n",
       "      <td>1.18</td>\n",
       "      <td>7.42</td>\n",
       "      <td>5.16</td>\n",
       "      <td>3.91</td>\n",
       "    </tr>\n",
       "  </tbody>\n",
       "</table>\n",
       "</div>"
      ],
      "text/plain": [
       "             F1     F2     F3     F4     F5\n",
       "Taill-     3.67  13.13  38.68   2.58   4.44\n",
       "Taille+   22.01   3.53  22.25  15.49  11.72\n",
       "Taille++   3.67  26.60   5.61   2.58  24.04\n",
       "Velo-     20.65   6.50   0.48  29.35   5.52\n",
       "Veloc+    20.65   6.50   0.48  29.35   5.52\n",
       "Veloc++    0.00  39.02   2.85   0.00  33.13\n",
       "Affe-     22.01   3.53  22.25  15.49  11.72\n",
       "Affec+     7.34   1.18   7.42   5.16   3.91"
      ]
     },
     "execution_count": 230,
     "metadata": {},
     "output_type": "execute_result"
    }
   ],
   "source": [
    "contribucion_modalites = acm.col_contrib_.round(2)\n",
    "\n",
    "contribucion_modalitesDf = pd.DataFrame(contribucion_modalites, columns = ['F1', 'F2', 'F3', 'F4', 'F5'],index=X.columns )\n",
    "contribucion_modalitesDf\n"
   ]
  },
  {
   "cell_type": "code",
   "execution_count": 231,
   "metadata": {},
   "outputs": [
    {
     "data": {
      "text/html": [
       "<div>\n",
       "<style scoped>\n",
       "    .dataframe tbody tr th:only-of-type {\n",
       "        vertical-align: middle;\n",
       "    }\n",
       "\n",
       "    .dataframe tbody tr th {\n",
       "        vertical-align: top;\n",
       "    }\n",
       "\n",
       "    .dataframe thead th {\n",
       "        text-align: right;\n",
       "    }\n",
       "</style>\n",
       "<table border=\"1\" class=\"dataframe\">\n",
       "  <thead>\n",
       "    <tr style=\"text-align: right;\">\n",
       "      <th></th>\n",
       "      <th>Contrib.F1</th>\n",
       "      <th>Contrib.F2</th>\n",
       "      <th>Contrib.F3</th>\n",
       "    </tr>\n",
       "  </thead>\n",
       "  <tbody>\n",
       "    <tr>\n",
       "      <th>Taill-</th>\n",
       "      <td>3.67</td>\n",
       "      <td>13.13</td>\n",
       "      <td>38.68</td>\n",
       "    </tr>\n",
       "    <tr>\n",
       "      <th>Taille+</th>\n",
       "      <td>22.01</td>\n",
       "      <td>3.53</td>\n",
       "      <td>22.25</td>\n",
       "    </tr>\n",
       "    <tr>\n",
       "      <th>Taille++</th>\n",
       "      <td>3.67</td>\n",
       "      <td>26.60</td>\n",
       "      <td>5.61</td>\n",
       "    </tr>\n",
       "    <tr>\n",
       "      <th>Velo-</th>\n",
       "      <td>20.65</td>\n",
       "      <td>6.50</td>\n",
       "      <td>0.48</td>\n",
       "    </tr>\n",
       "    <tr>\n",
       "      <th>Veloc+</th>\n",
       "      <td>20.65</td>\n",
       "      <td>6.50</td>\n",
       "      <td>0.48</td>\n",
       "    </tr>\n",
       "    <tr>\n",
       "      <th>Veloc++</th>\n",
       "      <td>0.00</td>\n",
       "      <td>39.02</td>\n",
       "      <td>2.85</td>\n",
       "    </tr>\n",
       "    <tr>\n",
       "      <th>Affe-</th>\n",
       "      <td>22.01</td>\n",
       "      <td>3.53</td>\n",
       "      <td>22.25</td>\n",
       "    </tr>\n",
       "    <tr>\n",
       "      <th>Affec+</th>\n",
       "      <td>7.34</td>\n",
       "      <td>1.18</td>\n",
       "      <td>7.42</td>\n",
       "    </tr>\n",
       "  </tbody>\n",
       "</table>\n",
       "</div>"
      ],
      "text/plain": [
       "          Contrib.F1  Contrib.F2  Contrib.F3\n",
       "Taill-          3.67       13.13       38.68\n",
       "Taille+        22.01        3.53       22.25\n",
       "Taille++        3.67       26.60        5.61\n",
       "Velo-          20.65        6.50        0.48\n",
       "Veloc+         20.65        6.50        0.48\n",
       "Veloc++         0.00       39.02        2.85\n",
       "Affe-          22.01        3.53       22.25\n",
       "Affec+          7.34        1.18        7.42"
      ]
     },
     "execution_count": 231,
     "metadata": {},
     "output_type": "execute_result"
    }
   ],
   "source": [
    "#affichage des contributions only premiers 3\n",
    "pd.DataFrame(acm.col_contrib_[:,:3].round(2),index=X.columns,columns=['Contrib.F1','Contrib.F2','Contrib.F3'])"
   ]
  },
  {
   "cell_type": "markdown",
   "metadata": {},
   "source": [
    "Sans surprises, les modalités situées aux extrémités du repère sont les plus influentes.\n",
    "Le premier facteur est déterminé par l’opposition (Taille+, Vélocité+) vs. (Vélocité-, Affection-)."
   ]
  },
  {
   "cell_type": "code",
   "execution_count": 232,
   "metadata": {},
   "outputs": [
    {
     "data": {
      "image/png": "[encoded data removed]",
      "text/plain": [
       "<Figure size 1296x432 with 1 Axes>"
      ]
     },
     "metadata": {
      "needs_background": "light"
     },
     "output_type": "display_data"
    }
   ],
   "source": [
    "#ou bien graphiquement Pour le 1er facteur :\n",
    "acm.plot_col_contrib(num_axis=1)"
   ]
  },
  {
   "cell_type": "code",
   "execution_count": 233,
   "metadata": {},
   "outputs": [
    {
     "data": {
      "image/png": "[encoded data removed]",
      "text/plain": [
       "<Figure size 1296x432 with 1 Axes>"
      ]
     },
     "metadata": {
      "needs_background": "light"
     },
     "output_type": "display_data"
    }
   ],
   "source": [
    "#ou bien graphiquement Pour le 2eme facteur :\n",
    "acm.plot_col_contrib(num_axis=2)"
   ]
  },
  {
   "cell_type": "code",
   "execution_count": 234,
   "metadata": {},
   "outputs": [
    {
     "data": {
      "image/png": "[encoded data removed]",
      "text/plain": [
       "<Figure size 1296x432 with 1 Axes>"
      ]
     },
     "metadata": {
      "needs_background": "light"
     },
     "output_type": "display_data"
    }
   ],
   "source": [
    "#ou bien graphiquement Pour le 3eme facteur :\n",
    "acm.plot_col_contrib(num_axis=3)"
   ]
  },
  {
   "cell_type": "markdown",
   "metadata": {},
   "source": [
    "# All in the same graphique"
   ]
  },
  {
   "cell_type": "code",
   "execution_count": 229,
   "metadata": {},
   "outputs": [
    {
     "data": {
      "image/png": "[encoded data removed]",
      "text/plain": [
       "<Figure size 1296x432 with 1 Axes>"
      ]
     },
     "metadata": {
      "needs_background": "light"
     },
     "output_type": "display_data"
    }
   ],
   "source": [
    "\n",
    "contribucion_modalitesDf.T.plot.bar(edgecolor = 'white') #Transpose \n",
    "\n",
    "plt.rcParams[\"figure.figsize\"] = (18, 6)\n",
    "plt.title('Contribution de modalites sur les 5 premieres axes Factoriel',color = 'black')\n",
    "plt.xticks(color = 'black')\n",
    "plt.yticks(color = 'black')\n",
    "plt.xlabel('Axe Factorial',color = 'black')\n",
    "plt.ylabel('Contribution sur le axe',color = 'black')\n",
    "plt.legend(title = 'Modalites', fontsize = 12)\n",
    "plt.show()"
   ]
  },
  {
   "cell_type": "code",
   "execution_count": null,
   "metadata": {},
   "outputs": [],
   "source": [
    "# Correction de Benz´ecri (6)"
   ]
  },
  {
   "cell_type": "code",
   "execution_count": 251,
   "metadata": {},
   "outputs": [
    {
     "name": "stdout",
     "output_type": "stream",
     "text": [
      "[0.708031 0.591489]\n"
     ]
    }
   ],
   "source": [
    "#récupérer les valeurs propres supérieur à (1/p) \n",
    "lmbda = acm.eig_[0][acm.eig_[0]>1/p] \n",
    "print(lmbda) \n",
    "\n"
   ]
  },
  {
   "cell_type": "code",
   "execution_count": 252,
   "metadata": {},
   "outputs": [
    {
     "name": "stdout",
     "output_type": "stream",
     "text": [
      "[0.315897 0.149950]\n"
     ]
    }
   ],
   "source": [
    "#appliquer la correction \n",
    "lambda_prim = ((p/(p-1))*(lmbda-1/p))**2 \n",
    "print(lambda_prim)"
   ]
  },
  {
   "cell_type": "code",
   "execution_count": 253,
   "metadata": {},
   "outputs": [
    {
     "name": "stdout",
     "output_type": "stream",
     "text": [
      "0.4658469098168333\n"
     ]
    }
   ],
   "source": [
    "#faire la somme \n",
    "S_prim = np.sum(lambda_prim) \n",
    "print(S_prim)"
   ]
  },
  {
   "cell_type": "code",
   "execution_count": 257,
   "metadata": {},
   "outputs": [
    {
     "data": {
      "text/html": [
       "<div>\n",
       "<style scoped>\n",
       "    .dataframe tbody tr th:only-of-type {\n",
       "        vertical-align: middle;\n",
       "    }\n",
       "\n",
       "    .dataframe tbody tr th {\n",
       "        vertical-align: top;\n",
       "    }\n",
       "\n",
       "    .dataframe thead th {\n",
       "        text-align: right;\n",
       "    }\n",
       "</style>\n",
       "<table border=\"1\" class=\"dataframe\">\n",
       "  <thead>\n",
       "    <tr style=\"text-align: right;\">\n",
       "      <th></th>\n",
       "      <th>Val.P</th>\n",
       "      <th>%</th>\n",
       "      <th>Cumul %</th>\n",
       "    </tr>\n",
       "  </thead>\n",
       "  <tbody>\n",
       "    <tr>\n",
       "      <th>1</th>\n",
       "      <td>0.315897</td>\n",
       "      <td>67.811269</td>\n",
       "      <td>67.811269</td>\n",
       "    </tr>\n",
       "    <tr>\n",
       "      <th>2</th>\n",
       "      <td>0.149950</td>\n",
       "      <td>32.188731</td>\n",
       "      <td>100.000000</td>\n",
       "    </tr>\n",
       "  </tbody>\n",
       "</table>\n",
       "</div>"
      ],
      "text/plain": [
       "      Val.P          %     Cumul %\n",
       "1  0.315897  67.811269   67.811269\n",
       "2  0.149950  32.188731  100.000000"
      ]
     },
     "execution_count": 257,
     "metadata": {},
     "output_type": "execute_result"
    }
   ],
   "source": [
    "#et produire les pourcentages \n",
    "percent_prim = lambada_prim/S_prim*100 \n",
    "\n",
    "#affichage \n",
    "pd.DataFrame(numpy.transpose(numpy.array([lambda_prim,percent_prim,numpy.cumsum(percent_prim)])),\n",
    "             columns=['Val.P','%','Cumul %'],index=range(1,3))"
   ]
  },
  {
   "cell_type": "code",
   "execution_count": null,
   "metadata": {},
   "outputs": [],
   "source": []
  }
 ],
 "metadata": {
  "kernelspec": {
   "display_name": "Python 3",
   "language": "python",
   "name": "python3"
  },
  "language_info": {
   "codemirror_mode": {
    "name": "ipython",
    "version": 3
   },
   "file_extension": ".py",
   "mimetype": "text/x-python",
   "name": "python",
   "nbconvert_exporter": "python",
   "pygments_lexer": "ipython3",
   "version": "3.7.6"
  }
 },
 "nbformat": 4,
 "nbformat_minor": 4
}
